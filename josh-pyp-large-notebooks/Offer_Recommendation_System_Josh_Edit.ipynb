{
 "cells": [
  {
   "cell_type": "code",
   "execution_count": null,
   "metadata": {},
   "outputs": [],
   "source": []
  },
  {
   "cell_type": "markdown",
   "metadata": {
    "id": "TD4mUs2O5nn4"
   },
   "source": [
    "# **Build Offer Recommender System for Telecom Products/Services**\n"
   ]
  },
  {
   "cell_type": "markdown",
   "metadata": {
    "id": "DKUGxhlbo74G"
   },
   "source": [
    "# **Introduction**\n",
    "\n",
    "Offer recommendation in the telecom industry refers to the process of suggesting personalized offers to customers based on their usage patterns, demographics, and other relevant factors. Offering recommendations in the telecom industry is crucial for improving customer satisfaction and increasing revenue. By using advanced algorithms and big data techniques, telecom companies can provide customers with relevant and valuable offers, leading to higher customer loyalty and long-term growth.\n",
    "![image.png](https://ierp.ai/wp-content/uploads/2021/07/telecom-discount-recommendation.jpeg)\n",
    "Credit: rawpixel.com\n"
   ]
  },
  {
   "cell_type": "markdown",
   "metadata": {
    "id": "6-AGRDjswx3C"
   },
   "source": [
    "### **Business Impact of Offer Recommendation**\n",
    "\n",
    "\n",
    "**Increase customer satisfaction**: Offer recommendation allows telecom companies to understand their customers better and provide them with relevant and valuable offers, leading to higher customer satisfaction.\n",
    "\n",
    "\n",
    "\n",
    "**Increase revenue**: By providing customers with relevant and valuable offers, telecom companies can increase their revenue through increased customer spending and reduced churn.\n",
    "\n",
    "\n",
    "\n",
    "**Improve customer loyalty**: By providing personalized offers to customers, telecom companies can create a better customer experience and build stronger relationships with their customers, leading to higher customer loyalty.\n"
   ]
  },
  {
   "cell_type": "markdown",
   "metadata": {
    "id": "6-8sAipDw7cV"
   },
   "source": [
    "### **Why Data Science?**\n",
    "Telecom companies have vast customer data, including usage patterns, billing history, and demographic information. However, they struggle to use this data effectively to increase customer satisfaction, loyalty, and revenue. The goal of the offer recommendation system is to use this data to suggest relevant and valuable offers to customers, resulting in increased customer satisfaction and revenue for the telecom company.\n",
    "The offer recommendation in the telecom industry is crucial for improving customer satisfaction and increasing revenue. By using advanced algorithms and big data techniques, telecom companies can provide customers with relevant and valuable offers, leading to higher customer loyalty and long-term growth.\n",
    "\n",
    "Data Science is a critical enabler of business success in the telecom industry. It helps telecom companies to be more agile, customer-focused, and cost-efficient, and it plays a critical role in enabling digital transformation. By leveraging the power of data, telecom companies can stay ahead of the curve and drive value for their customers and shareholders."
   ]
  },
  {
   "cell_type": "markdown",
   "metadata": {
    "id": "-WocVmvgjoGl"
   },
   "source": [
    "### **Note**\n",
    "\n",
    "This Project is part of the \"telecom data\" cluster of projects, targeting the telecom industry. It is recommended to go through the \"[Exploratory Data Analysis](https://www.projectpro.io/data-science-use-cases/telecom-data-analysis-project )\" notebook before executing this project to understand the Data better. \n"
   ]
  },
  {
   "cell_type": "markdown",
   "metadata": {
    "id": "3ueextvZ66Mg"
   },
   "source": [
    "# **Possible Solutions**"
   ]
  },
  {
   "cell_type": "markdown",
   "metadata": {
    "id": "c6HTiYsXpKJ7"
   },
   "source": [
    "## **Methods for Offer Recommendation**\n",
    "\n",
    "\n",
    "There are various ways to build an offer recommendation system, and the choice depends on factors such as the data available, the complexity of the system, and the computational resources available. Some approaches are:\n",
    "\n",
    "\n",
    "### **1. Rule-based systems:**\n",
    " In this approach, offers are recommended based on predefined rules. Rule-based systems are easy to implement and interpret, but they may not be very accurate or adaptive. It makes sense to use them when you have a specific business mandate (example - we want to use product A to promote product B because of a Marketing Strategy so we will recommend product B to everyone who bot A).\n",
    "\n",
    "\n",
    "### **2. Collaborative filtering:**\n",
    " Collaborative filtering is a type of recommendation that recommends offers based on the preferences of similar customers. In this approach, we find what customers are similar among themselves and similar offers to similar customers.\n",
    "\n",
    "\n",
    "### **3. Content-based filtering:**\n",
    "In this approach, the system builds a model of the customer's preferences based on the features of the offers they have interacted with and then recommends offers that are similar in terms of those features. Content-based filtering is useful when the system has access to rich feature data, but it can struggle with the cold start problem (i.e., recommending new offers to customers who have not interacted with any offers yet). This is the type of thing that powers retailers' recommendations - they get similar products to what you bought and recommend it to you.\n",
    "\n",
    "\n",
    "### **4. Hybrid systems:**\n",
    "Hybrid systems combine different approaches to leverage their strengths and mitigate their weaknesses. For example, a system might use a collaborative filtering approach to recommend offers to customers who have already interacted with offers, and a content-based approach to recommend offers to new customers.\n",
    "\n",
    "\n"
   ]
  },
  {
   "cell_type": "markdown",
   "metadata": {
    "id": "Mhjzt133qQr8"
   },
   "source": [
    "### **Assumptions**\n",
    "\n",
    "* We assume that there are multiple offers available\n",
    "* We also assume that, at this point, a customer can only have 1 offer activated\n",
    "* The column offer indicates what was offered to the customer, while the churn status indicates if the customer churned or not\n",
    "* If the customer has an offer and no churn status, we will assume that they are currently using that offer \n"
   ]
  },
  {
   "cell_type": "markdown",
   "metadata": {
    "id": "CI7ubDgiEIjP"
   },
   "source": [
    "## **Approach**\n",
    "\n",
    "\n",
    "We are treating this problem as an unsupervised learning problem. This means that, in practice, we don't have a way in this dataset to validate if what we did is 'right' or 'wrong'.\n",
    "\n",
    "\n",
    "In real life, the approach here would be to test this algorithm with real customers to see if this improves churn.\n",
    "\n",
    "\n",
    "Given our assumptions about the offers, we will build a collaborative-filtering system based on the user. Simplifying, here's the logic of what we'll build:\n",
    "\n",
    "\n",
    "1. We'll build an algorithm to identify who identifies, for customer A, who are the n-most similar customers;\n",
    "2. We'll use a churn-rate approach to identify, among the similar customers, what is the most successful offer;\n",
    "3. We will then choose the most successful offer to provide to our customer A.\n",
    "\n",
    "\n",
    "We'll be training this algorithm on part of the dataset of customers who have received the offer (have A,B,C,D,E,F,G,H,I or J) in their 'offer' field. The idea is to apply that to the 'No Offer' group. \n",
    "\n"
   ]
  },
  {
   "cell_type": "markdown",
   "metadata": {
    "id": "tzcnEleB7xtB"
   },
   "source": [
    "**Unsupervised Machine Learning:**\n",
    "\n",
    "In unsupervised machine learning, the algorithm is trained on an unlabeled dataset without any predefined target variable. The goal is to identify patterns, relationships, and structures within the data, such as clustering, dimensionality reduction, or anomaly detection, without any prior knowledge of the data distribution or outcome variable."
   ]
  },
  {
   "cell_type": "markdown",
   "metadata": {
    "id": "-xIrRDFXDK21"
   },
   "source": [
    "# **Learning Outcomes**\n",
    "\n",
    "\n",
    "* How to load data from AWS SQL using pyodbc and pandas\n",
    "* Exploratory Data Analysis\n",
    "* Categorical Feature Encoding using Labelencoder\n",
    "* Data Preprocessing and Feature Engineering\n",
    "* Understanding Cosine Similarity, Manhattan distance, Euclidean distance\n",
    "* How to choose a distance metric for a specific problem?\n",
    "* What is the minimum threshold parameter?\n",
    "* Build a user based collaborative offer recommendation system\n",
    "* Bootstrapping the offer recommendation system\n",
    "* Testing of the algorithm in production\n"
   ]
  },
  {
   "cell_type": "markdown",
   "metadata": {
    "id": "5GKk8NGIDiGk"
   },
   "source": [
    "## **Prerequisites**\n",
    "\n",
    "* Familiarity with Python programming language\n",
    "\n",
    "* Familiarity with Pandas, sklearn, numpy libraries in Python, along with concepts like loops, lists, arrays and dataframe\n",
    "\n",
    "* Basic knowledge of machine learning concepts such as supervised learning, linear regression\n",
    "\n",
    "* Understanding of data preprocessing techniques such as handling missing values, outliers, and categorical variables\n",
    "\n",
    "* Knowledge of Jupyter Notebook or any other Python IDE.\n",
    "\n",
    "* Understanding of distance metrics (although we'll briefly explain how they work)\n"
   ]
  },
  {
   "cell_type": "markdown",
   "metadata": {
    "id": "40sMBDeUESmO"
   },
   "source": [
    "\n",
    "\n",
    "## **Execution Instructions**\n",
    "<details>\n",
    "    <summary>Click here to view more </summary>\n",
    "    \n",
    "### **Installation and Setup for IPYNB**\n",
    "For the best experience, please stay connected to the internet while executing this Project\n",
    "### **Running an IPYNB on Google Colab:**\n",
    "1. Open the Google Colab website (https://colab.research.google.com/).\n",
    "2. Click on the \"New Notebook\" button.\n",
    "3. Click the \"File\" menu in the new notebook and choose \"Upload notebook.\"\n",
    "4. Select the IPYNB file you want to upload.\n",
    "5. Once the file is uploaded, click on the \"Runtime\" menu and choose \"Run all\" to execute all the cells in the notebook.\n",
    "6. Alternatively, you can execute each cell individually by clicking the \"Play\" button next to the cell OR by pressing “shift” + “enter. “\n",
    "7. The Default version of Python that Colab uses currently is 3.8\n",
    "\n",
    "### **Python setup steps for Local Machine**\n",
    "If you're using a local machine and do not have Python installed, follow these steps to set up Python:\n",
    "1. Download and install the latest version of Python from the official Python website: https://www.python.org/downloads/.\n",
    "2. Once the installation is complete, open a command prompt/terminal and type the following command to check if Python is installed ***python –-version***\n",
    "3. If Python is installed, the version number will be displayed.\n",
    "4. This Project has been created using **Python version 3.9.16**\n",
    "\n",
    "### **Setting up a Python Virtual Environment on Windows**\n",
    "1. Open a command prompt by pressing ***Windows Key + R***, type ***cmd***, and press ***Enter***.\n",
    "2. Navigate to the directory where you want to create the virtual environment.\n",
    "3. Install virtualenv by running the command in the command prompt ***pip install virtualenv***\n",
    "4. Create a new virtual environment by running the command ***virtualenv env***\n",
    "5.  This will create a new directory called env, containing the virtual environment.\n",
    "6. Activate the virtual environment by running the command ***env\\Scripts\\activate***\n",
    "7. You can now install packages and work on your project within this virtual environment.\n",
    "8. To deactivate the virtual environment, simply run the command ***deactivate***\n",
    "\n",
    "### **Setting up a Python Virtual Environment on Mac**\n",
    "1. Open the Terminal by pressing ***Command + Spacebar***, ***type Terminal***, and press ***Enter***.\n",
    "2. Navigate to the directory where you want to create the virtual environment.\n",
    "3. Install virtualenv by running the following command in the terminal ***pip install virtualenv***\n",
    "4. Create a new virtual environment by running the following command ***virtualenv env***\n",
    "5. This will create a new directory called env, containing the virtual environment.\n",
    "6. Activate the virtual environment by running the following command ***source env/bin/activate***\n",
    "7. You can now install packages and work on your project within this virtual environment.\n",
    "8. To deactivate the virtual environment, simply run the following command ***deactivate***\n",
    "\n",
    "### **Setting up a Python Virtual Environment on Linux**\n",
    "\n",
    "1. Open the Terminal by pressing ***Ctrl + Alt + T***.\n",
    "2. Navigate to the directory where you want to create the virtual environment.\n",
    "3. Install virtualenv by running the following command in the terminal ***sudo apt-get install python3-virtualenv***\n",
    "4. Create a new virtual environment by running the following command ***virtualenv -p python3 env***\n",
    "5. This will create a new directory called env, containing the virtual environment.\n",
    "6. Activate the virtual environment by running the following command ***source env/bin/activate***\n",
    "7. You can now install packages and work on your project within this virtual environment.\n",
    "8. To deactivate the virtual environment, simply run the following command ***deactivate***\n",
    "\n",
    "### **Installing Jupyter with pip**\n",
    "If pip is installed on your local machine, you can install Jupyter. \n",
    "Here are the steps:\n",
    "1. Open the command prompt (Windows) or terminal (Mac/Linux).\n",
    "2. Install Jupyter with pip by running the following command ***pip install jupyter***\n",
    "3. Launch Jupyter Notebook by running the following command ***jupyter notebook***\n",
    "\n",
    "\n",
    "### **Installing Jupyter with Conda**\n",
    "1. Download and install Anaconda from the official website: https://www.anaconda.com/products/individual.\n",
    "2. Open the Anaconda Navigator App and launch Jupyter Notebook \n",
    "\n",
    "\n",
    "### **Running IPYNB in Jupyter Notebook**\n",
    "1. Open Terminal / Command Prompt and Navigate to the specific directory using ***cd***\n",
    "2. Launch Jupyter Notebook by running the following command ***jupyter notebook***\n",
    "3. This will open a browser window displaying the Jupyter interface.\n",
    "4. Click on the IPYNB file you want to open.\n",
    "5. To execute all the cells in the notebook, click on the \"Cell\" menu and choose \"Run all\".\n",
    "6. Alternatively, you can execute each cell individually by clicking on the \"Play\" button next to the cell.\n",
    "\n",
    "\n",
    "\n",
    "### **Executing the project via Modular Code**\n",
    "1. Install the dependencies using the command, navigate to the specific directory where the requirements.txt file exists, and run ***pip install -r requirements.txt*** in the terminal/CMD.\n",
    "2. Navigate to the ***src*** folder in the project directory using the ***cd*** command \n",
    "3. Run the command ***python Engine.py*** in Terminal or run the Engine.py file in either [VScode](https://code.visualstudio.com/) or [PyCharm](https://www.jetbrains.com/pycharm/).\n",
    "\n",
    "![image.png](data:image/png;base64,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)\n",
    "\n",
    "</details>"
   ]
  },
  {
   "cell_type": "markdown",
   "metadata": {
    "id": "Hu8BDftlyvXp"
   },
   "source": [
    "## **Important Libraries**\n",
    " \n",
    "* **pandas**: pandas is a fast, powerful, flexible, and easy-to-use open-source data analysis and manipulation tool built on top of the Python programming language. Refer to [documentation](https://pandas.pydata.org/) for more information.\n",
    " \n",
    "* **NumPy**: The fundamental package for scientific computing with Python. Fast and versatile, the NumPy vectorization, indexing, and broadcasting concepts are the de-facto standards of array computing today. NumPy offers comprehensive mathematical functions, random number generators, linear algebra routines, Fourier transforms, and more. Refer to [documentation](https://numpy.org/) for more information. pandas and NumPy are together used for most of the data analysis and manipulation in Python.\n",
    " \n",
    " \n",
    "* **scikit-learn**: Simple and efficient tools for predictive data analysis\n",
    "accessible to everybody and reusable in various contexts.\n",
    "It is built on NumPy, SciPy, and matplotlib to support machine learning in Python. Refer to [documentation](https://scikit-learn.org/stable/) for more information.\n",
    " \n",
    "\n"
   ]
  },
  {
   "cell_type": "markdown",
   "metadata": {
    "id": "EqlkWqtaySzO"
   },
   "source": [
    "# **Package Requirements**"
   ]
  },
  {
   "cell_type": "code",
   "execution_count": null,
   "metadata": {},
   "outputs": [],
   "source": [
    "df = pd.read_csv(\"gs://divg-josh-pr-d1cc3a-default/uploads/bq_campaign_records_hcr.csv\")\n",
    "df['CALL_RESULT'].fillna(0, inplace=True)"
   ]
  },
  {
   "cell_type": "code",
   "execution_count": null,
   "metadata": {},
   "outputs": [],
   "source": [
    "df.isna()"
   ]
  },
  {
   "cell_type": "code",
   "execution_count": null,
   "metadata": {},
   "outputs": [],
   "source": [
    "df.fillna(0, subset=["
   ]
  },
  {
   "cell_type": "code",
   "execution_count": null,
   "metadata": {},
   "outputs": [],
   "source": [
    "!pip install numpy==1.22.4\n",
    "!pip install pandas==1.3.5\n",
    "!pip install scikit-learn==1.2.1\n",
    "!pip install --upgrade projectpro --exists-action i"
   ]
  },
  {
   "cell_type": "code",
   "execution_count": null,
   "metadata": {},
   "outputs": [],
   "source": [
    "import pandas as pd \n",
    "import numpy as np\n",
    "from sklearn.preprocessing import LabelEncoder\n",
    "from sklearn.metrics.pairwise import cosine_similarity, euclidean_distances, manhattan_distances\n",
    "# from projectpro import checkpoint,save_point,preserve,data_pipeline,decomposition,model_snapshot,show_video,feedback\n",
    "# checkpoint('fcTel3')\n",
    "# Suppress all warnings\n",
    "import warnings\n",
    "warnings.filterwarnings(\"ignore\")"
   ]
  },
  {
   "cell_type": "code",
   "execution_count": null,
   "metadata": {
    "id": "eC9-7gaYGfau"
   },
   "outputs": [],
   "source": [
    "pd.set_option('display.max_columns', 200)"
   ]
  },
  {
   "cell_type": "markdown",
   "metadata": {
    "id": "WFSitTu9HEnB"
   },
   "source": [
    "Its the maximum number of columns displayed when a frame is pretty-printed.\n",
    "By setting this limit we can see 200 columns at once without truncation. \n"
   ]
  },
  {
   "cell_type": "markdown",
   "metadata": {
    "id": "RtO4GYS_uSF1"
   },
   "source": [
    "## **Introductory Video**\n",
    "\n",
    "An [Introductory video](https://www.projectpro.io/data-science-use-cases/recommender-system-for-telecom-products) has been provided to understand an Overview of the Project."
   ]
  },
  {
   "cell_type": "code",
   "execution_count": null,
   "metadata": {},
   "outputs": [],
   "source": [
    "# show_video(\"gKM5x7JT-Fk\")"
   ]
  },
  {
   "cell_type": "markdown",
   "metadata": {
    "id": "aotlo-FguU2z"
   },
   "source": [
    "## **Feedback Form**\n",
    "At the end of this Project, a feedback form has been provided to improve our understanding of user experience while executing this project."
   ]
  },
  {
   "cell_type": "markdown",
   "metadata": {
    "id": "nBQ-PCElExA1"
   },
   "source": [
    "# **The Data**"
   ]
  },
  {
   "cell_type": "markdown",
   "metadata": {
    "id": "McjdX378iPul"
   },
   "source": [
    "## **Data Reading from Different Sources**\n",
    "### **Files**\n",
    "In many cases, the data is stored in the local system. To read the data from the local system, specify the correct path and filename.\n",
    "#### **CSV Format**\n",
    "Comma-separated values, also known as CSV, is a specific way to store data in a table structure format. The data used in this project is stored in a CSV file. Download the data for the project.\n",
    "\n",
    "\n",
    "Use the following code to read data from a csv file using pandas.\n",
    "```python\n",
    "import pandas as pd\n",
    "csv_file_path= \"D:\\ProjectPro\\Telecom-Data-Analysis\\data\\telecom_data.csv\"\n",
    "df = pd.read_csv(csv_file_path)\n",
    "```\n",
    "\n",
    "With appropriate csv_file_path, pd.read_csv() function will read the data and store it in the df variable.\n",
    "\n",
    "If you get FileNotFoundError or No such file or directory, try checking the path provided in the function. It's possible that python is not able to find the file or directory at a given location.\n",
    "\n",
    "#### **Colab - CSV Format**\n",
    "```python\n",
    "#mount the google drive\n",
    "from google.colab import drive\n",
    "drive.mount(\"/content/drive\")\n",
    "csv_file_path= \"/content/drive/MyDrive/project_pro/offer_recommendation/Telecom_Data.csv\"\n",
    "df = pd.read_csv(csv_file_path)\n",
    "```\n",
    "\n",
    "\n",
    "\n",
    "\n",
    "\n",
    "#### **AWS S3 - CSV**\n",
    "Use the S3 public link to read the CSV file directly into a pandas DataFrame\n",
    "```python\n",
    "s3_link = 'https://s3.amazonaws.com/projex.dezyre.com/recommender-system-for-telecom-products/materials/Telecom_data.csv'\n",
    "df = pd.read_csv(s3_link)\n",
    "```\n"
   ]
  },
  {
   "cell_type": "markdown",
   "metadata": {
    "id": "pbB4yB5VmnqF"
   },
   "source": [
    "### **Database**\n",
    "<details>\n",
    "    <summary>click here to view more </summary>\n",
    "    \n",
    "Most organizations store their data in databases such as MS SQL. Microsoft SQL Server (MS SQL) is a relational database management system developed by Microsoft. A BAK file in Microsoft SQL Server is a backup file that contains a copy of a SQL Server database at a specific point in time. It is essentially a binary representation of the database and includes all its data, tables, schema, indexes, stored procedures, and other objects.\n",
    "\n",
    "#### **Installing MS SQL Management Studio**\n",
    "To install Microsoft SQL Server Management Studio, you can follow these steps:\n",
    "\n",
    "1. Go to the Microsoft SQL Server Downloads page (https://www.microsoft.com/en-us/sql-server/sql-server-downloads) and click on the \"Download now\" button for the version of SQL Server Management Studio that you want to install.\n",
    "2. Follow the instructions on the screen to download the installation file to your computer.\n",
    "3. Once the download is complete, locate the installation file and double-click on it to start the installation process.\n",
    "\n",
    "\n",
    "#### **Restore a BAK file in MS SQL**\n",
    "1. Open SQL Server Management Studio and connect to the SQL Server instance to which you want to upload the BAK file.\n",
    "2. Right-click on the Databases folder in the Object Explorer pane and select \"Restore Database...\" from the context menu.\n",
    "3. In the \"Restore Database\" dialog box, select the \"Device\" option under the \"Source\" section.\n",
    "4. Click on the \"...\" button to open the \"Select backup devices\" dialog box.\n",
    "5. In the \"Select backup devices\" dialog box, click on the \"Add\" button to add the BAK file that you want to upload.\n",
    "6. In the \"Locate Backup File\" dialog box, browse to the location where the BAK file is stored in the specific directory under the ‘data’ folder, select the file, and click on the \"OK\" button.\n",
    "7. Back in the \"Select backup devices\" dialog box, the BAK file you added should now be listed under \"Backup media:\".\n",
    "8. Click on the \"OK\" button to close the \"Select backup devices\" dialog box.\n",
    "9. In the \"Restore Database\" dialog box, you should see the BAK file listed in the \"Backup sets to restore\" section.\n",
    "10. By default, the original database name and file locations from the BAK file will be used. If you want to restore the database with a different name or to a different location, you can modify the \"To database\" and \"Restore as\" options under the \"General\" section.\n",
    "11. Click the \"Options\" tab for additional restore options.\n",
    "12. If you want to overwrite an existing database with the same name, you can select the \"Overwrite the existing database (WITH REPLACE)\" option under the \"Restore options\" section.\n",
    "13. Click on the \"OK\" button to start the restore process.\n",
    "14. Once the restore process is complete, you should see a message indicating that the restore was successful.\n",
    "\n",
    "#### **Read Data from DB to Python**\n",
    " The data can be accessed by secret credentials, which will be in the following format.\n",
    "```python\n",
    "import pyodbc\n",
    "import pandas as pd\n",
    "connection = pyodbc.connect('DRIVER={ODBC Driver 17 for SQL Server};\\\n",
    "                       SERVER=server_name;\\\n",
    "                       PORT=1433;\\\n",
    "                       DATABASE=database_name;\\\n",
    "                       UID=admin;\\\n",
    "                       PWD=password')\n",
    "```\n",
    "\n",
    "#### **Steps to install ODBC driver**\n",
    "1. Go to the Microsoft Download Center page for the ODBC Driver 17 for SQL Server: https://www.microsoft.com/en-us/download/details.aspx?id=56567\n",
    "2. Select the download button that corresponds to the operating system you are using.\n",
    "3. Select the language you want to use for the installer, then click the download button.\n",
    "4. Once the download is complete, run the installer.\n",
    "5. Accept the license terms, then select the features you want to install.\n",
    "6. Choose a location to install the driver, or use the default location.\n",
    "7. Complete the installation process by following the instructions provided by the installer.\n",
    "8. Once the installation is complete, you can use the ODBC Driver 17 for SQL Server to connect to SQL Server databases from applications that support ODBC connectivity.\n",
    "\n",
    "#### Query to read the data into Pandas\n",
    "```python\n",
    "query = '''select * from Processed_month_1_data\n",
    "           UNION ALL\n",
    "            select * from Processed_month_2_data\n",
    "            UNION ALL\n",
    "            select * from Processed_month_3_data\n",
    "            UNION ALL\n",
    "            select * from Processed_month_4_data\n",
    "            UNION ALL\n",
    "            select * from Processed_month_5_data\n",
    "            UNION ALL\n",
    "            select * from Processed_month_6_data\n",
    "            UNION ALL\n",
    "            select * from Processed_month_7_data\n",
    "            UNION ALL\n",
    "            select * from Processed_month_8_data\n",
    "            UNION ALL\n",
    "            select * from Processed_month_9_data\n",
    "            UNION ALL\n",
    "            select * from Processed_month_10_data\n",
    "            UNION ALL\n",
    "            select * from Processed_month_11_data\n",
    "            UNION ALL\n",
    "            select * from Processed_month_12_data\n",
    "            UNION ALL\n",
    "            select * from Processed_month_13_data\n",
    "            UNION ALL\n",
    "            select * from Processed_month_14_data'''\n",
    "processed_data = pd.read_sql(query,connection)\n",
    "processed_data.head()\n",
    "```\n",
    "\n",
    "</details>\n",
    "\n"
   ]
  },
  {
   "cell_type": "code",
   "execution_count": null,
   "metadata": {
    "id": "pKsSttGTz84y"
   },
   "outputs": [],
   "source": [
    "# use s3_link if you are connected with internet\n",
    "s3_link='gs://divg-groovyhoon-pr-d2eab4-default/projectpro/Telecom_data.csv'\n",
    "df = pd.read_csv(s3_link)\n",
    "\n",
    "## if not use following and provide the path accordingly\n",
    "# csv_file_path='../data/Telecom_data.csv'\n",
    "# df = pd.read_csv(csv_file_path)"
   ]
  },
  {
   "cell_type": "markdown",
   "metadata": {
    "id": "sCiAPaLzGIU1"
   },
   "source": [
    "Lets look at the first 10 records from the dataframe."
   ]
  },
  {
   "cell_type": "code",
   "execution_count": null,
   "metadata": {
    "colab": {
     "base_uri": "https://localhost:8080/",
     "height": 687
    },
    "id": "A48l1uFgyMVq",
    "outputId": "bbc3d64f-2ae6-484b-feae-869c3c8af6a4"
   },
   "outputs": [],
   "source": [
    "df.head(10)"
   ]
  },
  {
   "cell_type": "markdown",
   "metadata": {
    "id": "lOCmKZUWVlYV"
   },
   "source": [
    "When we inspect the dataframe, we notice the same customer appears more than once, in different months.\n",
    "\n",
    "We have 2 options here:\n",
    "1. Create a consolidated frame where each customer is in 1 line;\n",
    "2. Use the different moments in time of each customer as a datapoint;\n",
    "\n",
    "The latter approach gives us more data points in theory, because in different months customers could have behaved differently. We will follow with approach number 2. However, we need to keep this in mind as we calculate similarity scores."
   ]
  },
  {
   "cell_type": "code",
   "execution_count": null,
   "metadata": {},
   "outputs": [],
   "source": [
    "df.shape"
   ]
  },
  {
   "cell_type": "markdown",
   "metadata": {
    "id": "VvmWYEFMppHZ"
   },
   "source": [
    "# **Exploratory Data Analysis**"
   ]
  },
  {
   "cell_type": "markdown",
   "metadata": {
    "id": "BQhYLW2YE-tA"
   },
   "source": [
    "## **Data Exploration**\n",
    "\n",
    "Data exploration is a critical step in the data analysis process, where you examine the dataset to gain a preliminary understanding of the data, detect patterns, and identify potential issues that may need further investigation. Data exploration is important because it helps to provide a solid foundation for subsequent data analysis tasks, hypothesis testing and data visualization.\n",
    "\n",
    "Data exploration is also important because it can help you to identify an appropriate approach for analyzing the data.\n",
    "\n",
    "Here are the various functions that help us explore and understand the data.\n",
    "\n",
    "* Shape: Shape is used to identify the dimensions of the dataset. It gives the number of rows and columns present in the dataset. Knowing the dimensions of the dataset is important to understand the amount of data available for analysis and to determine the feasibility of different methods of analysis.\n",
    "\n",
    "* Head: The head function is used to display the top five rows of the dataset. It helps us to understand the structure and organization of the dataset. This function gives an idea of what data is present in the dataset, what the column headers are, and how the data is organized.\n",
    "\n",
    "* Tail: The tail function is used to display the bottom five rows of the dataset. It provides the same information as the head function but for the bottom rows. The tail function is particularly useful when dealing with large datasets, as it can be time-consuming to scroll through all the rows.\n",
    "\n",
    "* Describe: The describe function provides a summary of the numerical columns in the dataset. It includes the count, mean, standard deviation, minimum, and maximum values, as well as the quartiles. It helps to understand the distribution of the data, the presence of any outliers, and potential issues that can affect the model's accuracy.\n",
    "\n",
    "* Isnull: The isnull function is used to identify missing values in the dataset. It returns a Boolean value for each cell, indicating whether it is null or not. This function is useful to identify the presence of missing data, which can be problematic for regression analysis.\n",
    "\n",
    "* Dropna: The dropna function is used to remove rows or columns with missing data. It is used to remove any observations or variables with missing data, which can lead to biased results in the regression analysis. The dropna function is used after identifying the missing data with the isnull function.\n",
    "\n",
    "* Columns: The .columns method is a built-in function that is used to display the column names of a pandas DataFrame or Series. It returns an array-like object that contains the names of the columns in the order in which they appear in the original DataFrame or Series. It can be used to obtain a quick overview of the variables in a dataset and their names."
   ]
  },
  {
   "cell_type": "markdown",
   "metadata": {
    "id": "xHGerr8zYgVM"
   },
   "source": [
    "**Note**\n",
    "\n",
    "This Project is part of the \"telecom data\" cluster of projects, targeting the telecom industry. It is recommended to go through the \"[Exploratory Data Analysis](https://www.projectpro.io/data-science-use-cases/telecom-data-analysis-project )\" notebook before executing this project to understand the Data better. \n"
   ]
  },
  {
   "cell_type": "markdown",
   "metadata": {
    "id": "bS4gsX0KKPn-"
   },
   "source": [
    "### **What can we learn from the data?**"
   ]
  },
  {
   "cell_type": "code",
   "execution_count": null,
   "metadata": {
    "colab": {
     "base_uri": "https://localhost:8080/"
    },
    "id": "NG4nDrmOHU0s",
    "outputId": "99e51887-c9f2-4d23-b7a2-0eefb0f0270a"
   },
   "outputs": [],
   "source": [
    "# Check the shape of the Dataframe\n",
    "df.shape"
   ]
  },
  {
   "cell_type": "code",
   "execution_count": null,
   "metadata": {
    "colab": {
     "base_uri": "https://localhost:8080/"
    },
    "id": "u_0O85GRJRDT",
    "outputId": "c071be55-c52d-4d3f-9838-cf5f05d5bd29"
   },
   "outputs": [],
   "source": [
    "# Checking the names of the columns\n",
    "df.columns"
   ]
  },
  {
   "cell_type": "markdown",
   "metadata": {
    "id": "vZPhb0YX8W_m"
   },
   "source": [
    "## **Data Dictionary**\n",
    "\n",
    "\n",
    "\n",
    "| Column name\t | Description|\n",
    "| ----- | ----- |\n",
    "| Customer ID\t | Unique identifier for each customer |\n",
    "| Month | Calendar Month- 1:12 | \n",
    "| Month of Joining |\tCalender Month -1:14, Month for which the data is captured|\n",
    "| zip_code |\tZip Code|\n",
    "|Gender |\tGender|\n",
    "| Age |\tAge(Years)|\n",
    "| Married |\tMarital Status |\n",
    "|Dependents | Dependents - Binary |\n",
    "| Number of Dependents |\tNumber of Dependents|\n",
    "|Location ID |\tLocation ID|\n",
    "|Service ID\t |Service ID|\n",
    "|state|\tState|\n",
    "|county\t|County|\n",
    "|timezone\t|Timezone|\n",
    "|area_codes|\tArea Code|\n",
    "|country\t|Country|\n",
    "|latitude|\tLatitude|\n",
    "|longitude\t|Longitude|\n",
    "|arpu|\tAverage revenue per user|\n",
    "|roam_ic\t|Roaming incoming calls in minutes|\n",
    "|roam_og\t|Roaming outgoing calls in minutes|\n",
    "|loc_og_t2t|\tLocal outgoing calls within same network in minutes|\n",
    "|loc_og_t2m\t|Local outgoing calls outside network in minutes(outside same + partner network)|\n",
    "|loc_og_t2f|\tLocal outgoing calls with Partner network in minutes|\n",
    "|loc_og_t2c\t|Local outgoing calls with Call Center in minutes|\n",
    "|std_og_t2t|\tSTD outgoing calls within same network in minutes|\n",
    "|std_og_t2m|\tSTD outgoing calls outside network in minutes(outside same + partner network)|\n",
    "|std_og_t2f|\tSTD outgoing calls with Partner network in minutes|\n",
    "|std_og_t2c\t|STD outgoing calls with Call Center in minutes|\n",
    "|isd_og|\tISD Outgoing calls|\n",
    "|spl_og\t|Special Outgoing calls|\n",
    "|og_others|\tOther Outgoing Calls|\n",
    "|loc_ic_t2t|\tLocal incoming calls within same network in minutes|\n",
    "|loc_ic_t2m|\tLocal incoming calls outside network in minutes(outside same + partner network)|\n",
    "|loc_ic_t2f\t|Local incoming calls with Partner network in minutes|\n",
    "|std_ic_t2t\t|STD incoming calls within same network in minutes|\n",
    "|std_ic_t2m\t|STD incoming calls outside network in minutes(outside same + partner network)|\n",
    "|std_ic_t2f|\tSTD incoming calls with Partner network in minutes|\n",
    "|std_ic_t2o|\tSTD incoming calls operators other networks in minutes|\n",
    "|spl_ic|\tSpecial Incoming calls in minutes|\n",
    "|isd_ic|\tISD Incoming calls in minutes|\n",
    "|ic_others|\tOther Incoming Calls|\n",
    "|total_rech_amt|\tTotal Recharge Amount in Local Currency|\n",
    "|total_rech_data|\tTotal Recharge Amount for Data in Local Currency\n",
    "|vol_4g|\t4G Internet Used in GB|\n",
    "|vol_5g|\t5G Internet used in GB|\n",
    "|arpu_5g|\tAverage revenue per user over 5G network|\n",
    "|arpu_4g|\tAverage revenue per user over 4G network|\n",
    "|night_pck_user|\tIs Night Pack User(Specific Scheme)|\n",
    "|fb_user|\tSocial Networking scheme|\n",
    "|aug_vbc_5g|\tVolume Based cost for 5G network (outside the scheme paid based on extra usage)|\n",
    "|offer|\tOffer Given to User|\n",
    "|Referred a Friend|\tReferred a Friend : Binary|\n",
    "|Number of Referrals|\tNumber of Referrals|\n",
    "|Phone Service|\tPhone Service: Binary|\n",
    "|Multiple Lines|\tMultiple Lines for phone service: Binary|\n",
    "|Internet Service|\tInternet Service: Binary|\n",
    "|Internet Type|\tInternet Type|\n",
    "|Streaming Data Consumption|\tStreaming Data Consumption|\n",
    "|Online Security|\tOnline Security|\n",
    "|Online Backup|\tOnline Backup|\n",
    "|Device Protection Plan|\tDevice Protection Plan|\n",
    "|Premium Tech Support|\tPremium Tech Support|\n",
    "|Streaming TV|\tStreaming TV|\n",
    "|Streaming Movies|\tStreaming Movies|\n",
    "|Streaming Music|\tStreaming Music|\n",
    "|Unlimited Data|\tUnlimited Data|\n",
    "|Payment Method|\tPayment Method|\n",
    "|Status ID|\tStatus ID|\n",
    "|Satisfaction Score|\tSatisfaction Score|\n",
    "|Churn Category|\tChurn Category|\n",
    "|Churn Reason|\tChurn Reason|\n",
    "|Customer Status|\tCustomer Status|\n",
    "|Churn Value|\tBinary Churn Value\n",
    "\n"
   ]
  },
  {
   "cell_type": "code",
   "execution_count": null,
   "metadata": {
    "colab": {
     "base_uri": "https://localhost:8080/"
    },
    "id": "hTP5K9uaHlxJ",
    "outputId": "09ee753d-024e-4711-a4ca-9ec3052627c0"
   },
   "outputs": [],
   "source": [
    "# Check the Information of the Dataframe, datatypes and non-null counts\n",
    "df.info()"
   ]
  },
  {
   "cell_type": "markdown",
   "metadata": {
    "id": "z8VSPNHoHZqo"
   },
   "source": [
    "**Observation:** \n",
    "* we can see some null values present in this data. We will check about this later\n",
    "* arpu_4g and arpu_5g should be in float/int datatype but its object"
   ]
  },
  {
   "cell_type": "code",
   "execution_count": null,
   "metadata": {
    "colab": {
     "base_uri": "https://localhost:8080/"
    },
    "id": "-EXpuNmrSFbp",
    "outputId": "dc1d52d3-d6a5-4b4f-cedd-36c9013df81f"
   },
   "outputs": [],
   "source": [
    "df['arpu_4g'].unique()"
   ]
  },
  {
   "cell_type": "code",
   "execution_count": null,
   "metadata": {
    "colab": {
     "base_uri": "https://localhost:8080/"
    },
    "id": "-_f4xXijSSIs",
    "outputId": "6b776381-ac8e-45de-a648-44e174d523e3"
   },
   "outputs": [],
   "source": [
    "df['arpu_5g'].unique()"
   ]
  },
  {
   "cell_type": "code",
   "execution_count": null,
   "metadata": {},
   "outputs": [],
   "source": [
    "df['Customer ID'].unique().shape"
   ]
  },
  {
   "cell_type": "markdown",
   "metadata": {
    "id": "9GEm3otXST4D"
   },
   "source": [
    "It seems both the columns have value as Not Applicable resulting in the different datatype than expected. We will deal with this later."
   ]
  },
  {
   "cell_type": "markdown",
   "metadata": {
    "id": "tKdYVxKPLEIG"
   },
   "source": [
    "Lets see how many different offers we have"
   ]
  },
  {
   "cell_type": "code",
   "execution_count": null,
   "metadata": {
    "colab": {
     "base_uri": "https://localhost:8080/"
    },
    "id": "99IYIPfVLPMt",
    "outputId": "1e603ca5-73f3-474c-8bf5-a8ef8e625e3a"
   },
   "outputs": [],
   "source": [
    "df['offer'].unique()"
   ]
  },
  {
   "cell_type": "markdown",
   "metadata": {
    "id": "oRmSPUhcLJYL"
   },
   "source": [
    "So there are 10 different offers available."
   ]
  },
  {
   "cell_type": "code",
   "execution_count": null,
   "metadata": {
    "colab": {
     "base_uri": "https://localhost:8080/",
     "height": 394
    },
    "id": "YmHeFi1E0JGy",
    "outputId": "5dedd117-8c8f-4ee6-de11-0fcd3a7b7f59"
   },
   "outputs": [],
   "source": [
    "# preserve(\"fcTel3\")\n",
    "\n",
    "# Taking a look at the offer distribution\n",
    "dfg = df.groupby('offer').agg({'Customer ID':'count'}).reset_index()\n",
    "dfg['% Total'] = dfg['Customer ID']/dfg['Customer ID'].sum() #this creates a % of total column\n",
    "dfg['% Total'] = dfg['% Total'].apply(lambda x: '{:.2%}'.format(x)) #this function simply formats the column to %\n",
    "dfg #this displays the dataframe"
   ]
  },
  {
   "cell_type": "markdown",
   "metadata": {
    "id": "biDeooU4Ly-N"
   },
   "source": [
    "**Observation**\n",
    "* The Offers seems to be evenly distributed amongst customers\n",
    "* There are about 76% users who did not receive any offer from the company\n"
   ]
  },
  {
   "cell_type": "markdown",
   "metadata": {
    "id": "AAv8WcGBMKPl"
   },
   "source": [
    "**Think about it**\n",
    "\n",
    "* Is there any way to check impact of offers on churn? \n",
    "* How many customer churned as they were not given any offer?"
   ]
  },
  {
   "cell_type": "code",
   "execution_count": null,
   "metadata": {
    "colab": {
     "base_uri": "https://localhost:8080/",
     "height": 394
    },
    "id": "Z6hg8ehVLhSm",
    "outputId": "ed9ccc44-2c19-47e1-988d-a063cb15af6a"
   },
   "outputs": [],
   "source": [
    "# Taking a look at the offer distribution and churn distribution\n",
    "dfg2 = df.groupby(['offer','Customer Status']).agg({'Customer ID':'count'}).reset_index()\n",
    "pivoted_dfg2 = dfg2.pivot(index='offer', columns='Customer Status', values='Customer ID')\n",
    "pivoted_dfg2 = pivoted_dfg2.reset_index()\n",
    "pivoted_dfg2['Churn Rate'] = pivoted_dfg2['Churned']/(pivoted_dfg2['Churned'] + pivoted_dfg2['Stayed'])\n",
    "pivoted_dfg2['Churn Rate'] = pivoted_dfg2['Churn Rate'].apply(lambda x: '{:.2%}'.format(x)) #this function simply formats the column to %\n",
    "pivoted_dfg2"
   ]
  },
  {
   "cell_type": "markdown",
   "metadata": {
    "id": "f1cJKnw-LwDy"
   },
   "source": [
    "df.groupby(['Churn Category',]).**Observations**\n",
    "\n",
    "* churn rate seems to be similar amongst customers regardless of the offer they received -> this tells us that maybe offers are not being tailored enough to groups\n"
   ]
  },
  {
   "cell_type": "code",
   "execution_count": null,
   "metadata": {},
   "outputs": [],
   "source": [
    "df['Churn Category'].unique()"
   ]
  },
  {
   "cell_type": "code",
   "execution_count": null,
   "metadata": {
    "colab": {
     "base_uri": "https://localhost:8080/",
     "height": 332
    },
    "id": "jMyYmwM8Lmc8",
    "outputId": "47e7d396-70ba-4053-ae91-56b34edaced7"
   },
   "outputs": [],
   "source": [
    "# Taking a look at the churn category\n",
    "dfg2 = df.groupby(['Churn Category',]).agg({'Customer ID':'count'}).reset_index()\n",
    "dfg2['% Total'] = dfg2['Customer ID']/dfg2['Customer ID'].sum() #this creates a % of total column\n",
    "dfg2['% Total'] = dfg2['% Total'].apply(lambda x: '{:.2%}'.format(x)) #this function simply formats the column to %\n",
    "dfg2 #this displays the dataframe"
   ]
  },
  {
   "cell_type": "markdown",
   "metadata": {
    "id": "SruZKKyXQKf7"
   },
   "source": [
    "**Observations**\n",
    "\n",
    "* The Churn Category for Competitor, Dissatisfaction, Price, Support have higher customers\n",
    "* We can give them specific offers which may lead them to stay rather than churning\n"
   ]
  },
  {
   "cell_type": "markdown",
   "metadata": {
    "id": "jXUOLcU7Mu1B"
   },
   "source": [
    "**Think about it**\n",
    "\n",
    "* Is there any better way to recommend offers to customers which can impact less churn rate in future?\n",
    "* It would be interesting to see what happens if we tailor offers by looking at churn probability for each customer(May be a problem to solve in our next project)"
   ]
  },
  {
   "cell_type": "markdown",
   "metadata": {
    "id": "wQ4Wz4J3Q9wj"
   },
   "source": [
    "# **Data Processing**"
   ]
  },
  {
   "cell_type": "markdown",
   "metadata": {
    "id": "oRmVyw-kRN0Q"
   },
   "source": [
    "## **Missing Value Detection and Imputation**"
   ]
  },
  {
   "cell_type": "markdown",
   "metadata": {
    "id": "MRb18EtfRAAO"
   },
   "source": [
    "We previously saw there are some missing values in the data. Lets have a look into that now."
   ]
  },
  {
   "cell_type": "code",
   "execution_count": null,
   "metadata": {
    "colab": {
     "base_uri": "https://localhost:8080/",
     "height": 424
    },
    "id": "fZIGeBwUHluM",
    "outputId": "4b60dd41-8416-4ed6-899a-dd2f482cb09f"
   },
   "outputs": [],
   "source": [
    "# data_pipeline(\"fcTel3\")\n",
    "# Creating a missing value df with the null values of our original dataframe\n",
    "percent_missing = df.isna().sum() * 100 / len(df)\n",
    "missing_value_df = pd.DataFrame({'column_name': df.columns,\n",
    "                                 'percent_missing': percent_missing.values})\n",
    "\n",
    "#sorting the dataframe by percent missing value \n",
    "missing_value_df.sort_values(by='percent_missing',ascending=False)"
   ]
  },
  {
   "cell_type": "markdown",
   "metadata": {
    "id": "4V6oKEhHIhPV"
   },
   "source": [
    "**Observation**\n",
    "\n",
    "\n",
    "\n",
    "*  Columns 'fb_user' and 'night_pck_user' have more 50% missing value. We will simply drop this from our dataframe\n",
    "* According to data dictionary 'Internet Type' and 'total_rech_data' seems to correlated.\n",
    "*   We need to check for columns 'Internet Type' and 'total_rech_data' and impute missing values if possible\n",
    "\n",
    "\n"
   ]
  },
  {
   "cell_type": "code",
   "execution_count": null,
   "metadata": {},
   "outputs": [],
   "source": [
    "#dropping the variables with more than 50% null values\n",
    "df=df.drop(columns=['fb_user','night_pck_user'])"
   ]
  },
  {
   "cell_type": "code",
   "execution_count": null,
   "metadata": {
    "colab": {
     "base_uri": "https://localhost:8080/"
    },
    "id": "VzfT_M0pIYZD",
    "outputId": "aaa397a2-f578-4a80-e701-e6e647673ae2"
   },
   "outputs": [],
   "source": [
    "# Null values in total recharge data\n",
    "df['total_rech_data'].isna().sum()"
   ]
  },
  {
   "cell_type": "code",
   "execution_count": null,
   "metadata": {
    "colab": {
     "base_uri": "https://localhost:8080/"
    },
    "id": "lX-tRqJBIYSh",
    "outputId": "d7a49252-5784-4c9f-ae6b-6f0d42a7bfd5"
   },
   "outputs": [],
   "source": [
    "# Null values in Internet Type\n",
    "df['Internet Type'].isna().sum()"
   ]
  },
  {
   "cell_type": "markdown",
   "metadata": {
    "id": "rXB_Rw-8JH8u"
   },
   "source": [
    "**Observation:**\n",
    "\n",
    "*  These missing values may represent customers who have not recharged their account or have recharged but the information has not been recorded.\n",
    "\n",
    "* It is possible that customers with missing recharge data are those who received free data service, and therefore did not need to recharge their account. Alternatively, it is possible that the missing values are due to technical issues, such as data recording errors or system failures."
   ]
  },
  {
   "cell_type": "code",
   "execution_count": null,
   "metadata": {
    "colab": {
     "base_uri": "https://localhost:8080/"
    },
    "id": "95Ys5Vp_JJW6",
    "outputId": "bf56941e-5eb3-45b3-c42d-1e84a27c817f"
   },
   "outputs": [],
   "source": [
    "# Checking the value counts of Internet Service where total recharge data was null\n",
    "df[df['total_rech_data'].isna()]['Internet Service'].value_counts(dropna=False)"
   ]
  },
  {
   "cell_type": "code",
   "execution_count": null,
   "metadata": {},
   "outputs": [],
   "source": [
    "# Checking the value counts of Internet Service where total recharge data was null\n",
    "df[df['total_rech_data'].isna()]['Internet Type'].value_counts(dropna=False)"
   ]
  },
  {
   "cell_type": "code",
   "execution_count": null,
   "metadata": {},
   "outputs": [],
   "source": [
    "df.head(200)"
   ]
  },
  {
   "cell_type": "markdown",
   "metadata": {
    "id": "xXQF7lyhJc-K"
   },
   "source": [
    "**Observation**:\n",
    "\n",
    "* It turns out that all customers with missing recharge data have opted for internet service, the next step could be to check if they have used it or not."
   ]
  },
  {
   "cell_type": "code",
   "execution_count": null,
   "metadata": {
    "colab": {
     "base_uri": "https://localhost:8080/"
    },
    "id": "ZGkYQNQzJJUN",
    "outputId": "b4f50d8c-8402-432e-f0be-60aa1260a6df"
   },
   "outputs": [],
   "source": [
    "# Let's check unlimited data column\n",
    "df[(df['total_rech_data'].isna())]['Unlimited Data'].value_counts()"
   ]
  },
  {
   "cell_type": "code",
   "execution_count": null,
   "metadata": {
    "colab": {
     "base_uri": "https://localhost:8080/"
    },
    "id": "v3LJDZD2JJRO",
    "outputId": "8ae47a68-ad75-4b4f-cf47-745e8ab6ccfb"
   },
   "outputs": [],
   "source": [
    "# Lets check Average Revenue for 4g and 5g when there is no recharge for data\n",
    "df[(df['total_rech_data'].isna())][['arpu_4g','arpu_5g']].value_counts()"
   ]
  },
  {
   "cell_type": "markdown",
   "metadata": {
    "id": "XP2-Ju-PJpCb"
   },
   "source": [
    "**Observation**:\n",
    "\n",
    "* We can fill the missing values in the total_rech_data column with 0 when the arpu (Average Revenue Per User) is not applicable. This is because the arpu is a measure of the revenue generated per user, and if it is not applicable, it may indicate that the user is not generating any revenue for the company. In such cases, it is reasonable to assume that the total data recharge amount is 0\n",
    "* It is advisable to check with the business before making this decision "
   ]
  },
  {
   "cell_type": "code",
   "execution_count": null,
   "metadata": {
    "id": "pDCOb9RbJJPI"
   },
   "outputs": [],
   "source": [
    "# Replacing all values of total recharge data= 0 where arpu 4g and 5g are not applicable\n",
    "df.loc[(df['arpu_4g']=='Not Applicable') | (df['arpu_5g']=='Not Applicable'),'total_rech_data']=0"
   ]
  },
  {
   "cell_type": "code",
   "execution_count": null,
   "metadata": {
    "colab": {
     "base_uri": "https://localhost:8080/"
    },
    "id": "l2rNS84dJJMN",
    "outputId": "7bbb1910-8a87-44de-e9f4-308a07269a1b"
   },
   "outputs": [],
   "source": [
    "# Missing value percentage after imputation\n",
    "df['total_rech_data'].isna().sum()/df.shape[0]"
   ]
  },
  {
   "cell_type": "markdown",
   "metadata": {
    "id": "WlPcG1IDJ4LE"
   },
   "source": [
    "We cannot fill other values with 0 because they have some ARPU to consider."
   ]
  },
  {
   "cell_type": "code",
   "execution_count": null,
   "metadata": {
    "colab": {
     "base_uri": "https://localhost:8080/"
    },
    "id": "hROmJEL3J8ch",
    "outputId": "cd7447ea-9bb8-4d74-9f71-fb467091ad3f"
   },
   "outputs": [],
   "source": [
    "# Calculate the mean of 'total_rech_data' where either 'arpu_4g' or 'arpu_5g' is not equal to 'Not Applicable'\n",
    "arpu_data_mean=df.loc[(df['arpu_4g']!='Not Applicable') | (df['arpu_5g']!='Not Applicable'),'total_rech_data'].mean()\n",
    "arpu_data_mean"
   ]
  },
  {
   "cell_type": "markdown",
   "metadata": {
    "id": "puGtRYsZJ-Wo"
   },
   "source": [
    "With this mean, we will fill the NaN values."
   ]
  },
  {
   "cell_type": "code",
   "execution_count": null,
   "metadata": {
    "id": "al2O9x9KJJJx"
   },
   "outputs": [],
   "source": [
    "# Fill NaN values in 'total_rech_data' with the mean of 'total_rech_data' where either 'arpu_4g' or 'arpu_5g' is not equal to 'Not Applicable'\n",
    "df['total_rech_data']=df['total_rech_data'].fillna(arpu_data_mean)"
   ]
  },
  {
   "cell_type": "code",
   "execution_count": null,
   "metadata": {
    "colab": {
     "base_uri": "https://localhost:8080/"
    },
    "id": "CTr0Ct-zJJHY",
    "outputId": "9c4f3ecd-bdcc-48da-9585-5e77337fdb9d"
   },
   "outputs": [],
   "source": [
    "df['total_rech_data'].isna().sum()"
   ]
  },
  {
   "cell_type": "markdown",
   "metadata": {
    "id": "WrIm44_QKO0f"
   },
   "source": [
    "There are no more missing values in the column ''total_rech_data'"
   ]
  },
  {
   "cell_type": "code",
   "execution_count": null,
   "metadata": {
    "colab": {
     "base_uri": "https://localhost:8080/"
    },
    "id": "q6onFrg3Kpyn",
    "outputId": "4d8293cf-5c52-47b0-f86f-bdf664313cd7"
   },
   "outputs": [],
   "source": [
    "# Check the value counts for Internet Type\n",
    "df['Internet Type'].value_counts(dropna=False)"
   ]
  },
  {
   "cell_type": "code",
   "execution_count": null,
   "metadata": {
    "colab": {
     "base_uri": "https://localhost:8080/"
    },
    "id": "MbAJ-PT4Kpvz",
    "outputId": "a4d5796c-0312-4a9d-877e-713bb255e457"
   },
   "outputs": [],
   "source": [
    "# Check value counts for Internet Service where Internet Type is null\n",
    "df[df['Internet Type'].isna()]['Internet Service'].value_counts(dropna=False)"
   ]
  },
  {
   "cell_type": "markdown",
   "metadata": {
    "id": "A4jKCwzuKuF8"
   },
   "source": [
    "All null values in Internet Type does not have Internet Service. Let's fill these null values with Not Applicable."
   ]
  },
  {
   "cell_type": "code",
   "execution_count": null,
   "metadata": {
    "id": "KPM4symEKtm8"
   },
   "outputs": [],
   "source": [
    "# Filling Null values in Internet Type \n",
    "df['Internet Type']=df['Internet Type'].fillna('Not Applicable')"
   ]
  },
  {
   "cell_type": "markdown",
   "metadata": {
    "id": "kjdm6Ub4SimD"
   },
   "source": [
    "Replace 'Not Applicable' with 0 in both 'arpu_4g' and 'arpu_5g and convert them to float"
   ]
  },
  {
   "cell_type": "code",
   "execution_count": null,
   "metadata": {
    "id": "vjIERGOFSgky"
   },
   "outputs": [],
   "source": [
    "# Replace 'Not Applicable' with 0 in 'arpu_4g'\n",
    "df['arpu_4g'] = df['arpu_4g'].replace('Not Applicable', 0)\n",
    "\n",
    "# Replace 'Not Applicable' with 0 in 'arpu_5g'\n",
    "df['arpu_5g'] = df['arpu_5g'].replace('Not Applicable', 0)\n",
    "\n",
    "# Convert 'arpu_4g' to float data type\n",
    "df['arpu_4g'] = df['arpu_4g'].astype(float)\n",
    "\n",
    "# Convert 'arpu_5g' to float data type\n",
    "df['arpu_5g'] = df['arpu_5g'].astype(float)"
   ]
  },
  {
   "cell_type": "markdown",
   "metadata": {
    "id": "WHm8FJPERTT7"
   },
   "source": [
    "## **Outlier Detection and Imputation**\n",
    "\n",
    "\n",
    "Outlier detection is a critical data analysis technique that involves identifying and removing data points that are significantly different from the rest of the data. Outliers are data points that lie far away from the rest of the data, and they can significantly influence the statistical analysis and machine learning models' performance. Therefore, identifying and removing outliers is essential to ensure accurate and reliable data analysis results.\n",
    "\n",
    "There are two main approaches for outlier detection: parametric and non-parametric.\n",
    "\n",
    "* Parametric Methods:\n",
    "Parametric methods assume that the data follows a specific distribution, such as a normal distribution. In this approach, outliers are identified by calculating the distance of each data point from the mean of the distribution in terms of the number of standard deviations. Data points that are beyond a certain number of standard deviations (usually three or more) are considered as outliers.\n",
    "\n",
    "One common parametric method is the Z-score method, which calculates the distance of each data point from the mean in terms of standard deviations.\n",
    "Parametric methods can be useful when the data follows a known distribution, but they may not be effective when the data is not normally distributed.\n",
    "\n",
    "* Non-Parametric Methods:\n",
    "Non-parametric methods do not assume any specific distribution of the data. Instead, they rely on the rank or order of the data points. In this approach, outliers are identified by comparing the values of each data point with the values of other data points. Data points that are significantly different from other data points are considered as outliers.\n",
    "\n",
    "Quantiles are an important concept in non-parametric outlier detection methods. They represent values that divide a dataset into equal-sized parts, such as quarters or thirds. The most commonly used quantiles are the median (which divides the data into two equal parts), the first quartile (which divides the data into the lowest 25% and the highest 75%), and the third quartile (which divides the data into the lowest 75% and the highest 25%).\n",
    "\n",
    "The interquartile range (IQR) is another important concept related to quantiles. It is defined as the difference between the third and first quartiles and represents the middle 50% of the data. The IQR can be used to identify outliers by defining a range (known as the Tukey's fence) beyond which any data points are considered outliers.\n",
    "Non-parametric methods can be useful when the data is not normally distributed or when the distribution is unknown."
   ]
  },
  {
   "cell_type": "code",
   "execution_count": null,
   "metadata": {
    "id": "c7u9WbKWRp7L"
   },
   "outputs": [],
   "source": [
    "# List of continuous columns\n",
    "cts_cols=['Age','Number of Dependents',\n",
    "       'roam_ic', 'roam_og', 'loc_og_t2t',\n",
    "       'loc_og_t2m', 'loc_og_t2f', 'loc_og_t2c', 'std_og_t2t', 'std_og_t2m',\n",
    "       'std_og_t2f', 'std_og_t2c', 'isd_og', 'spl_og', 'og_others',\n",
    "       'loc_ic_t2t', 'loc_ic_t2m', 'loc_ic_t2f', 'std_ic_t2t', 'std_ic_t2m',\n",
    "       'std_ic_t2f', 'std_ic_t2o', 'spl_ic', 'isd_ic', 'ic_others',\n",
    "       'total_rech_amt', 'total_rech_data', 'vol_4g', 'vol_5g', 'arpu_5g',\n",
    "       'arpu_4g', 'arpu', 'aug_vbc_5g', 'Number of Referrals','Satisfaction Score',\n",
    "       'Streaming Data Consumption']   \n"
   ]
  },
  {
   "cell_type": "code",
   "execution_count": null,
   "metadata": {
    "colab": {
     "base_uri": "https://localhost:8080/",
     "height": 17
    },
    "id": "IrfdVPj5RHnT",
    "outputId": "463c10de-87d7-4a72-a326-26375ae425f9"
   },
   "outputs": [],
   "source": [
    "# data_pipeline(\"fcTel3\")\n",
    "# Create an empty dataframe with columns as cts_cols and index as quantiles\n",
    "quantile_df=pd.DataFrame(columns=cts_cols,index=[0.1,0.25,0.5,0.75,0.8,0.9,0.95,0.97,0.99])\n",
    "\n",
    "# for each column in cts_cols, calculate the corresponding quantiles and store them in the quantile_df\n",
    "for col in cts_cols:\n",
    "   quantile_df[col]=df[col].quantile([0.1,0.25,0.5,0.75,0.8,0.9,0.95,0.97,0.99])"
   ]
  },
  {
   "cell_type": "markdown",
   "metadata": {
    "id": "CXqbFZTwSrOd"
   },
   "source": [
    "By calculating quantiles for each continuous variable in the dataset, we are trying to get an idea about the spread and distribution of the data. Specifically, we are interested in identifying potential outliers in the data.\n",
    "\n",
    "Quantiles divide a distribution into equal proportions. For instance, the 0.25 quantile is the value below which 25% of the observations fall and the 0.75 quantile is the value below which 75% of the observations fall. By calculating quantiles at various levels, we can get a better understanding of the distribution of the data and identify any observations that are too far away from the rest of the data.\n",
    "\n",
    "These quantiles can be used as thresholds to identify potential outliers in the data. Observations with values beyond these thresholds can be considered as potential outliers and further investigation can be carried out to determine if they are true outliers or not."
   ]
  },
  {
   "cell_type": "code",
   "execution_count": null,
   "metadata": {
    "colab": {
     "base_uri": "https://localhost:8080/",
     "height": 430
    },
    "id": "WdfbB-PbRHlv",
    "outputId": "758f469b-b29c-409d-b2b8-4f463bde3ed4"
   },
   "outputs": [],
   "source": [
    "# Let's check out the quantiles df\n",
    "quantile_df"
   ]
  },
  {
   "cell_type": "markdown",
   "metadata": {
    "id": "mZokBV6xSyNq"
   },
   "source": [
    "**Observation**\n",
    "\n",
    "The variables vol_5g, arpu_4g, and arpu_5g seems to have some abrupt values"
   ]
  },
  {
   "cell_type": "markdown",
   "metadata": {
    "id": "sj8qGM73TPgE"
   },
   "source": [
    "**Note**\n",
    "\n",
    "We can inquire about this values with business. Remember to check out with business stakeholders before making any changes/imputations to data."
   ]
  },
  {
   "cell_type": "code",
   "execution_count": null,
   "metadata": {
    "colab": {
     "base_uri": "https://localhost:8080/"
    },
    "id": "3mjKNRn9RHi-",
    "outputId": "1ff5e15a-f156-46dd-878f-63de19a8e146"
   },
   "outputs": [],
   "source": [
    "# Checking further\n",
    "df['arpu_4g'].quantile([0.75,0.8,0.9,0.95,0.97,0.99,0.999])"
   ]
  },
  {
   "cell_type": "code",
   "execution_count": null,
   "metadata": {
    "colab": {
     "base_uri": "https://localhost:8080/"
    },
    "id": "-v-8bWJpRHgg",
    "outputId": "b8ee168f-5d5e-45c3-ff8c-cfcb0ad23e19"
   },
   "outputs": [],
   "source": [
    "# Calculate the proportion of rows in the DataFrame where the value in the 'arpu_4g' column is equal to 254687\n",
    "df[df['arpu_4g']==254687].shape[0]/df.shape[0]"
   ]
  },
  {
   "cell_type": "markdown",
   "metadata": {
    "id": "gUe-boM2S_pH"
   },
   "source": [
    "Let's see what is the value of 'total_rech_data' for these observations."
   ]
  },
  {
   "cell_type": "code",
   "execution_count": null,
   "metadata": {
    "colab": {
     "base_uri": "https://localhost:8080/"
    },
    "id": "T0RlXGFYS9LK",
    "outputId": "517cef45-0dd6-439d-9a0c-aba65362ee7c"
   },
   "outputs": [],
   "source": [
    "# Get the value counts of 'total_rech_data' for observations where the value in the 'arpu_4g' column is equal to 254687\n",
    "df[df['arpu_4g']==254687]['total_rech_data'].value_counts()"
   ]
  },
  {
   "cell_type": "markdown",
   "metadata": {
    "id": "Q9HRgLbHTCD8"
   },
   "source": [
    "Now, since the recharge amount is 0 and there is no ARPU, let's replace it with 0."
   ]
  },
  {
   "cell_type": "code",
   "execution_count": null,
   "metadata": {
    "id": "FI_GKng9S9Hz"
   },
   "outputs": [],
   "source": [
    "# Replace the outlier value 254687 in the 'arpu_4g' column of the dataframe 'df' with 0.\n",
    "df['arpu_4g']=df['arpu_4g'].replace(254687,0)"
   ]
  },
  {
   "cell_type": "code",
   "execution_count": null,
   "metadata": {
    "colab": {
     "base_uri": "https://localhost:8080/"
    },
    "id": "wcuXfrIAS9Ff",
    "outputId": "d6063f28-2281-4b46-bf91-24da26a19a75"
   },
   "outputs": [],
   "source": [
    "# Checking further\n",
    "df['arpu_4g'].quantile([0.75,0.8,0.9,0.95,0.97,0.99,0.999])"
   ]
  },
  {
   "cell_type": "code",
   "execution_count": null,
   "metadata": {
    "colab": {
     "base_uri": "https://localhost:8080/"
    },
    "id": "tLvhMqrnS9AV",
    "outputId": "14b5c0ad-8003-41d9-ea11-2950f91d8fc9"
   },
   "outputs": [],
   "source": [
    "# Filter by 'arpu_4g' value of 87978 and count unique values in 'total_rech_data' column\n",
    "df[df['arpu_4g']==87978]['total_rech_data'].value_counts()"
   ]
  },
  {
   "cell_type": "markdown",
   "metadata": {
    "id": "OOhQmUc0TJwO"
   },
   "source": [
    "All rows in the dataframe with an 'arpu_4g' value of 87978 have 0 value in the 'total_rech_data' column, indicating that these are likely outliers. Therefore, we have decided to replace the 'arpu_4g' value for these rows with 0."
   ]
  },
  {
   "cell_type": "code",
   "execution_count": null,
   "metadata": {
    "id": "ptW6IaZsS89i"
   },
   "outputs": [],
   "source": [
    "# Replace the values with 0\n",
    "df['arpu_4g']=df['arpu_4g'].replace(87978,0)"
   ]
  },
  {
   "cell_type": "code",
   "execution_count": null,
   "metadata": {
    "colab": {
     "base_uri": "https://localhost:8080/"
    },
    "id": "AFAj5deaTmwp",
    "outputId": "26eeca24-7792-461b-ec8e-e0afa2173aa2"
   },
   "outputs": [],
   "source": [
    "# Checking the quantiles again\n",
    "df['arpu_4g'].quantile([0.75,0.8,0.9,0.95,0.97,0.99,0.999])"
   ]
  },
  {
   "cell_type": "markdown",
   "metadata": {
    "id": "zMJJylafUPYk"
   },
   "source": [
    "This seems to be fairly good now"
   ]
  },
  {
   "cell_type": "code",
   "execution_count": null,
   "metadata": {},
   "outputs": [],
   "source": [
    "# Checking further\n",
    "df['arpu_5g'].quantile([0.75,0.8,0.9,0.95,0.97,0.99,0.999])"
   ]
  },
  {
   "cell_type": "code",
   "execution_count": null,
   "metadata": {
    "colab": {
     "base_uri": "https://localhost:8080/"
    },
    "id": "DzT5H-5wTmqx",
    "outputId": "b91077d8-e6c6-4f60-fcb8-bf91298aa364"
   },
   "outputs": [],
   "source": [
    "# Get the value counts of 'total_rech_data' for observations where the value in the 'arpu_5g' column is equal to 254687\n",
    "df[df['arpu_5g']==254687]['total_rech_data'].value_counts()"
   ]
  },
  {
   "cell_type": "code",
   "execution_count": null,
   "metadata": {
    "colab": {
     "base_uri": "https://localhost:8080/"
    },
    "id": "tSQYnL0ETmoC",
    "outputId": "b2f25f9a-ae89-46ea-e658-9a7163bf40fc"
   },
   "outputs": [],
   "source": [
    "# Get the value counts of 'total_rech_data' for observations where the value in the 'arpu_5g' column is equal to 87978\n",
    "df[df['arpu_5g']==87978]['total_rech_data'].value_counts()"
   ]
  },
  {
   "cell_type": "code",
   "execution_count": null,
   "metadata": {
    "id": "sk4DaNdDUJMM"
   },
   "outputs": [],
   "source": [
    "# Replacing the values with 0 where total recharge data is 0\n",
    "df['arpu_5g']=df['arpu_5g'].replace([87978,254687],0)"
   ]
  },
  {
   "cell_type": "code",
   "execution_count": null,
   "metadata": {
    "colab": {
     "base_uri": "https://localhost:8080/"
    },
    "id": "n3AA2C60UJGE",
    "outputId": "230e03d4-d96e-4d3d-98ba-56b93aadc7e3"
   },
   "outputs": [],
   "source": [
    "# Check the quantiles of ARPU 5G\n",
    "df['arpu_5g'].quantile([0.75,0.8,0.9,0.95,0.97,0.99,0.999])"
   ]
  },
  {
   "cell_type": "markdown",
   "metadata": {
    "id": "NEumGXDGUTLO"
   },
   "source": [
    "This seems to be fairly good now"
   ]
  },
  {
   "cell_type": "code",
   "execution_count": null,
   "metadata": {
    "colab": {
     "base_uri": "https://localhost:8080/"
    },
    "id": "g0vbAu3HUOSB",
    "outputId": "cdc2ba3c-ebcd-43f8-99c5-e37176763bc3"
   },
   "outputs": [],
   "source": [
    "# Check the quantiles of Volume of 5G data\n",
    "df['vol_5g'].quantile([0.75,0.8,0.9,0.95,0.97,0.98,0.99,0.999])"
   ]
  },
  {
   "cell_type": "code",
   "execution_count": null,
   "metadata": {
    "colab": {
     "base_uri": "https://localhost:8080/"
    },
    "id": "lJJgJkjGUOQA",
    "outputId": "b3217a69-ac31-417d-bfb8-4c8749819c67"
   },
   "outputs": [],
   "source": [
    "# Lets see the recharge data value for vol_5g more than 87978\n",
    "df[df['vol_5g']>=87978]['total_rech_data'].value_counts()"
   ]
  },
  {
   "cell_type": "code",
   "execution_count": null,
   "metadata": {
    "colab": {
     "base_uri": "https://localhost:8080/"
    },
    "id": "A2d0bSpdUOMt",
    "outputId": "ccbceabe-c2b5-4908-c556-9984a62bc5fd"
   },
   "outputs": [],
   "source": [
    "# Proportion of these values\n",
    "df[df['vol_5g']>=87978]['total_rech_data'].value_counts()/df.shape[0]"
   ]
  },
  {
   "cell_type": "markdown",
   "metadata": {
    "id": "KFKRydSZUjEp"
   },
   "source": [
    "**Observation**:\n",
    "\n",
    "There is a presence of 2% outliers in vol 5g, where the values are very high, but their total recharge data is 0. We will fill these outliers with 0, and below are some possible reasons why this could be:\n",
    "\n",
    "* Data recording error: It is possible that there was an error in recording the recharge data for these outliers, leading to an incorrect value of 0. In this case, it would make sense to fill the outliers with 0, as this is likely the correct value.\n",
    "\n",
    "* Promotions or bonuses: Another possibility is that these customers received promotions or bonuses that allowed them to use the service without recharging, leading to a total recharge data of 0. However, these customers may still be using the service heavily, leading to the high values in vol 5g. In this case, filling the outliers with 0 would make sense as it accurately reflects the lack of recharge data."
   ]
  },
  {
   "cell_type": "code",
   "execution_count": null,
   "metadata": {
    "id": "LxucXEUoUmr_"
   },
   "outputs": [],
   "source": [
    "# Replace the outlier values\n",
    "df['vol_5g']=df['vol_5g'].replace([87978,254687],0)"
   ]
  },
  {
   "cell_type": "code",
   "execution_count": null,
   "metadata": {
    "colab": {
     "base_uri": "https://localhost:8080/"
    },
    "id": "IsFPYmVrUqK_",
    "outputId": "f4cd3c3f-1e7b-4667-d386-4b92b870a310"
   },
   "outputs": [],
   "source": [
    "# Check the quantiles of Volume of 5G data\n",
    "df['vol_5g'].quantile([0.75,0.8,0.9,0.95,0.97,0.98,0.99,0.999])"
   ]
  },
  {
   "cell_type": "markdown",
   "metadata": {
    "id": "BlT6-z7dUtQx"
   },
   "source": [
    "It seems good now"
   ]
  },
  {
   "cell_type": "markdown",
   "metadata": {
    "id": "8b_Raj69YQ0O"
   },
   "source": [
    "Lets store this processed data for further use."
   ]
  },
  {
   "cell_type": "code",
   "execution_count": null,
   "metadata": {
    "id": "_Tx18u4gUo5b"
   },
   "outputs": [],
   "source": [
    "df.to_csv('gs://divg-groovyhoon-pr-d2eab4-default/projectpro/processed_telecom_offer_data.csv',index=False)"
   ]
  },
  {
   "cell_type": "code",
   "execution_count": null,
   "metadata": {},
   "outputs": [],
   "source": [
    "# feedback()"
   ]
  },
  {
   "cell_type": "markdown",
   "metadata": {
    "id": "DyP1FgDpbLko"
   },
   "source": [
    "### **Data Preprocessing and Leakage**\n",
    "\n",
    "Data leakage is a situation where information from the test or prediction data is inadvertently used during the training process of a machine learning model. This can occur when information from the test or prediction data is leaked into the training data, and the model uses this information to improve its performance during the training process.\n",
    "\n",
    "Data leakage can occur during the preprocessing phase of machine learning when information from the test or prediction data is used to preprocess the training data, inadvertently leaking information from the test or prediction data into the training data.\n",
    "\n",
    "For example, consider a scenario where the preprocessing step involves imputing missing values in the dataset. If the missing values are imputed using the mean or median values of the entire dataset, including the test and prediction data, then the imputed values in the training data may be influenced by the values in the test and prediction data. This can lead to data leakage, as the model may learn to recognize patterns in the test and prediction data during the training process, leading to overfitting and poor generalization performance.\n",
    "\n",
    "\n",
    "To avoid data leakage, it's important to perform the data preprocessing steps on the training data only, and then apply the same preprocessing steps to the test and prediction data separately. This ensures that the test and prediction data remain unseen by the model during the training process, and helps to prevent overfitting and improve the accuracy of the model.\n",
    "\n",
    "In the context of this problem, we performed all data preprocessing steps together for the sake of simplicity, which could potentially lead to data leakage. However, in real-world scenarios, it's important to treat the test and prediction data separately and apply the necessary preprocessing steps separately, based on the characteristics of the data."
   ]
  },
  {
   "cell_type": "markdown",
   "metadata": {
    "id": "EToY-qUS0HrJ"
   },
   "source": [
    "# **Feature engineering**"
   ]
  },
  {
   "cell_type": "markdown",
   "metadata": {
    "id": "lNwB8_b9KWct"
   },
   "source": [
    "Let's start by doing some variable selection and transformation. For selection, at this stage, we are going to use some business judgement to stick to what is possible to work with all the variables."
   ]
  },
  {
   "cell_type": "markdown",
   "metadata": {
    "id": "7oyoa5Q1KAvb"
   },
   "source": [
    "**1. Splitting the dataset into a training and production dataset:**\n",
    "\n",
    "- Training: part of the customers who received offers which will be used to train the model\n",
    "- Production: customers who did not received offers to whom we'd like to then offer something"
   ]
  },
  {
   "cell_type": "code",
   "execution_count": null,
   "metadata": {
    "id": "4UL5TIn40MSb"
   },
   "outputs": [],
   "source": [
    "# Let's split our dataframe in a training and production dataset:\n",
    "def split_dataframe(data):\n",
    "    train = data[data['offer']!='No Offer']\n",
    "    production = data[data['offer']=='No Offer']\n",
    "    return train, production"
   ]
  },
  {
   "cell_type": "code",
   "execution_count": null,
   "metadata": {
    "id": "E1H_nMpPRB8a"
   },
   "outputs": [],
   "source": [
    "train, production = split_dataframe(df)"
   ]
  },
  {
   "cell_type": "code",
   "execution_count": null,
   "metadata": {
    "colab": {
     "base_uri": "https://localhost:8080/"
    },
    "id": "w2nZyUtpcW7z",
    "outputId": "d9b13410-5ef9-43de-e516-cfbb8ead1f55"
   },
   "outputs": [],
   "source": [
    "train.shape,production.shape"
   ]
  },
  {
   "cell_type": "markdown",
   "metadata": {
    "id": "aa-h9Ubycusn"
   },
   "source": [
    "**Think about it**\n",
    "\n",
    "Why we split the dataframe into such unusual technique?\n",
    "\n",
    "Here we are not dealing with traditional train test split method as we are building an unsupervised collaborative recommender system.\n",
    "Now to make model learn we need to pass all the data with respect to offers."
   ]
  },
  {
   "cell_type": "code",
   "execution_count": null,
   "metadata": {},
   "outputs": [],
   "source": [
    "train['offer'].value_counts()"
   ]
  },
  {
   "cell_type": "markdown",
   "metadata": {
    "id": "OMFqjdxtZPil"
   },
   "source": [
    "we are creating 2 dataframes for each train and production, that have the Customer ID as a join key. This will help us manipulate features, and also trace them back to a particular customer;\n"
   ]
  },
  {
   "cell_type": "code",
   "execution_count": null,
   "metadata": {
    "colab": {
     "base_uri": "https://localhost:8080/",
     "height": 17
    },
    "id": "12Bgf2xBKhCT",
    "outputId": "a4ae5f30-ddad-486a-f6a2-eecdbb44c3e9"
   },
   "outputs": [],
   "source": [
    "# decomposition(\"fcTel3\")\n",
    "\n",
    "#This help us identify the customer and the business outcomes\n",
    "id_variables = ['Customer ID', 'Month','Month of Joining','offer','Churn Category',\n",
    "       'Churn Reason', 'Customer Status', 'Churn Value']\n",
    "\n",
    "#This helps us identify the different profiles of customers\n",
    "selected_variables = ['Customer ID', 'Month', 'Month of Joining', 'Gender', 'Age',\n",
    "                      'Married', 'Number of Dependents', 'area_codes','roam_ic', 'roam_og',\n",
    "                      'loc_og_t2t','loc_og_t2m', 'loc_og_t2f', 'loc_og_t2c', 'std_og_t2t', 'std_og_t2m',\n",
    "                      'std_og_t2f', 'std_og_t2c', 'isd_og', 'spl_og', 'og_others',\n",
    "                      'loc_ic_t2t', 'loc_ic_t2m', 'loc_ic_t2f', 'std_ic_t2t', 'std_ic_t2m',\n",
    "                      'std_ic_t2f', 'std_ic_t2o', 'spl_ic', 'isd_ic', 'ic_others',\n",
    "                      'total_rech_amt', 'total_rech_data', 'vol_4g', 'vol_5g', 'arpu_5g',\n",
    "                      'arpu_4g', 'arpu', 'aug_vbc_5g','Number of Referrals', 'Phone Service',\n",
    "                      'Multiple Lines', 'Internet Service', 'Internet Type',\n",
    "                      'Streaming Data Consumption', 'Online Security', 'Online Backup',\n",
    "                      'Device Protection Plan', 'Premium Tech Support', 'Streaming TV',\n",
    "                      'Streaming Movies', 'Streaming Music', 'Unlimited Data',\n",
    "                      'Payment Method']\n",
    "\n",
    "train_id=train[id_variables]\n",
    "train_feat=train[selected_variables]\n",
    "\n",
    "prod_id=production[id_variables]\n",
    "prod_feat=production[selected_variables]"
   ]
  },
  {
   "cell_type": "markdown",
   "metadata": {
    "id": "F7e-I2BrO3Ao"
   },
   "source": [
    "In the code above, what we have essentially eliminated are complex variables like latitude, longitude and timezone because they could be represented by the area_codes variable, that represents location."
   ]
  },
  {
   "cell_type": "markdown",
   "metadata": {
    "id": "diYfs8eGONWg"
   },
   "source": [
    "\n",
    "**2. Converting the Month of Joining into a customer tenure**"
   ]
  },
  {
   "cell_type": "code",
   "execution_count": null,
   "metadata": {
    "colab": {
     "base_uri": "https://localhost:8080/"
    },
    "id": "YSMiXWB0Oaz5",
    "outputId": "ff336c20-3625-4ce1-8447-7614aee817d1"
   },
   "outputs": [],
   "source": [
    "train_feat['tenure'] = train_feat['Month']- train_feat['Month of Joining']\n",
    "train_feat['tenure'].describe()"
   ]
  },
  {
   "cell_type": "code",
   "execution_count": null,
   "metadata": {
    "colab": {
     "base_uri": "https://localhost:8080/"
    },
    "id": "VDKEAzRJdbx6",
    "outputId": "2325d0ba-6f87-4bb6-856c-d6e84a87bbf5"
   },
   "outputs": [],
   "source": [
    "prod_feat['tenure'] = prod_feat['Month']- prod_feat['Month of Joining']\n",
    "prod_feat['tenure'].describe()"
   ]
  },
  {
   "cell_type": "markdown",
   "metadata": {
    "id": "GAdakJ_RPRbO"
   },
   "source": [
    "**3.Transforming Categorical Variables**\n",
    "\n",
    "Transforming variables is an important step in the data preprocessing pipeline of machine learning, as it helps to convert the data into a format that is suitable for analysis and modeling. There are several ways to transform variables, depending on the type and nature of the data.\n",
    "\n",
    "Categorical variables, for example, are variables that take on discrete values from a finite set of categories, such as colors, gender, or occupation. One common way to transform categorical variables is through one-hot encoding. One-hot encoding involves creating a new binary variable for each category in the original variable, where the value is 1 if the observation belongs to that category and 0 otherwise. This approach is useful when the categories have no natural order or ranking.\n",
    "\n",
    "Another way to transform categorical variables is through label encoding. Label encoding involves assigning a unique integer value to each category in the variable. This approach is useful when the categories have a natural order or ranking, such as low, medium, and high.\n",
    "Transforming categorical features into numerical labels:\n",
    "\n",
    "**Note:** We are NOT using dummies here to minimize the explosion of columns because of the distance methods we are using.\n"
   ]
  },
  {
   "cell_type": "code",
   "execution_count": null,
   "metadata": {},
   "outputs": [],
   "source": [
    "catlist = train.select_dtypes(include=['object', 'category']).columns.tolist()\n",
    "print(catlist)"
   ]
  },
  {
   "cell_type": "code",
   "execution_count": null,
   "metadata": {
    "id": "AXLeAwaULY52"
   },
   "outputs": [],
   "source": [
    "# Now we need to transform the features of the feature store.\n",
    "def encode_categorical_features(train_df,prod_df):\n",
    "    # Get a list of all categorical columns\n",
    "    cat_columns = train_df.select_dtypes(include=['object', 'category']).columns.tolist()\n",
    "\n",
    "    # Encode each categorical column\n",
    "    for col in cat_columns:\n",
    "        le = LabelEncoder()\n",
    "        train_df[col] = le.fit_transform(train_df[col])\n",
    "        prod_df[col]= le.transform(prod_df[col])\n",
    "        \n",
    "    return train_df, prod_df"
   ]
  },
  {
   "cell_type": "code",
   "execution_count": null,
   "metadata": {
    "id": "ly7e8gphfb98"
   },
   "outputs": [],
   "source": [
    "#excluding the customer ID so it doesn't get encoded\n",
    "train_label_data=train_feat[train_feat.columns.difference(['Customer ID','Month','Month of Joining'])]\n",
    "prod_label_data=prod_feat[prod_feat.columns.difference(['Customer ID','Month','Month of Joining'])]\n",
    "\n",
    "train_feat_enc, prod_feat_enc = encode_categorical_features(train_label_data,prod_label_data)"
   ]
  },
  {
   "cell_type": "code",
   "execution_count": null,
   "metadata": {},
   "outputs": [],
   "source": [
    "train_feat.head()"
   ]
  },
  {
   "cell_type": "code",
   "execution_count": null,
   "metadata": {},
   "outputs": [],
   "source": [
    "train_feat_enc.columns"
   ]
  },
  {
   "cell_type": "code",
   "execution_count": null,
   "metadata": {
    "id": "35B-v4IrfxkU"
   },
   "outputs": [],
   "source": [
    "##bringing back the customer ids keys\n",
    "train_feat_enc['Customer ID'] = train_feat['Customer ID'] #bringing back the customer id\n",
    "train_feat_enc['Month'] = train_feat['Month'] #bringing back the Month\n",
    "train_feat_enc['Month of Joining'] = train_feat['Month of Joining'] #bringing back the Month of joining\n",
    "\n",
    "prod_feat_enc['Customer ID'] = prod_feat['Customer ID'] #bringing back the customer id\n",
    "prod_feat_enc['Month'] = prod_feat['Month'] #bringing back the Month\n",
    "prod_feat_enc['Month of Joining'] = prod_feat['Month of Joining'] #bringing back the Month of joining\n"
   ]
  },
  {
   "cell_type": "markdown",
   "metadata": {
    "id": "SqacW8_WPauz"
   },
   "source": [
    "Taking a look at the final list of variables\n"
   ]
  },
  {
   "cell_type": "code",
   "execution_count": null,
   "metadata": {
    "colab": {
     "base_uri": "https://localhost:8080/",
     "height": 1000
    },
    "id": "9fIMkkRoPnEW",
    "outputId": "272d8706-cae2-4626-a72a-ef0b27c6b327"
   },
   "outputs": [],
   "source": [
    "train_feat_enc.describe().transpose()"
   ]
  },
  {
   "cell_type": "code",
   "execution_count": null,
   "metadata": {},
   "outputs": [],
   "source": [
    "train_id"
   ]
  },
  {
   "cell_type": "code",
   "execution_count": null,
   "metadata": {
    "id": "QuMGWq1ygzrL"
   },
   "outputs": [],
   "source": [
    "train = pd.merge(train_feat_enc,train_id[['Customer ID','Month','Month of Joining','Churn Value','offer']],how = 'inner',on=['Customer ID','Month','Month of Joining'])\n",
    "production = pd.merge(prod_feat_enc,prod_id[['Customer ID','Month','Month of Joining','Churn Value','offer']],how = 'inner',on=['Customer ID','Month','Month of Joining'])\n"
   ]
  },
  {
   "cell_type": "code",
   "execution_count": null,
   "metadata": {
    "colab": {
     "base_uri": "https://localhost:8080/"
    },
    "id": "koKNoG05hO85",
    "outputId": "18c13887-c6dd-43c0-a94f-d9db432b2de2"
   },
   "outputs": [],
   "source": [
    "## This help us check if we did not duplicate anything in the columns\n",
    "\n",
    "print(len(train))\n",
    "print(len(production))"
   ]
  },
  {
   "cell_type": "code",
   "execution_count": null,
   "metadata": {},
   "outputs": [],
   "source": [
    "train.to_csv('gs://divg-groovyhoon-pr-d2eab4-default/projectpro/telecom_data_train.csv')"
   ]
  },
  {
   "cell_type": "code",
   "execution_count": null,
   "metadata": {},
   "outputs": [],
   "source": [
    "production.to_csv('gs://divg-groovyhoon-pr-d2eab4-default/projectpro/telecom_data_production.csv')"
   ]
  },
  {
   "cell_type": "markdown",
   "metadata": {
    "id": "2jkdQctthZpY"
   },
   "source": [
    "We finally have prepared model ready data. \n",
    "\n",
    "Lets look into model building now."
   ]
  },
  {
   "cell_type": "markdown",
   "metadata": {
    "id": "CKYd-nsAStJD"
   },
   "source": [
    "# **Model Building and Testing**"
   ]
  },
  {
   "cell_type": "markdown",
   "metadata": {
    "id": "STkrMrK_iT32"
   },
   "source": [
    "## **Collaborative filtering**\n",
    "\n",
    "Collaborative filtering is a type of recommendation system that uses user feedback to make personalized recommendations for items. It works by finding similarities between users or items and using those similarities to make predictions about what a user might like or dislike.\n",
    "\n",
    "Collaborative filtering can be broken down into two main types: user-based and item-based. In user-based collaborative filtering, similarities are calculated between users based on their past interactions with items. In item-based collaborative filtering, similarities are calculated between items based on how often they are interacted with by the same users.\n",
    "\n",
    "Distance measures are commonly used in collaborative filtering to calculate similarities between users or items. Some common distance measures used in collaborative filtering include Manhattan distance, Euclidean distance, and cosine similarity.\n",
    "\n",
    "The basic idea behind using distance measures in collaborative filtering is that similar users or items will be close together in the feature space defined by the data. For example, if we are recommending movies to users based on their past movie ratings, we might represent each user as a vector of their ratings, with each rating corresponding to a different movie. We could then calculate the distance between two users' rating vectors using a distance measure like cosine similarity or Euclidean distance. Users who have similar ratings for the same movies will be closer together in this feature space and therefore will have a smaller distance between them.\n",
    "\n",
    "Once we have calculated similarities between users or items, we can use those similarities to make predictions about what a user might like or dislike. For example, if we have calculated the similarity between two users and we know that one of them likes a certain movie, we can predict that the other user might also like that movie based on their similarity.\n",
    "\n",
    "There are many variations of collaborative filtering that use different distance measures and algorithms for finding similarities between users or items. Some examples include k-nearest neighbors (k-NN), which uses the distances between users to find the k users who are most similar to a given user, and matrix factorization, which uses linear algebra techniques to decompose the user-item interaction matrix into lower-dimensional matrices that capture user and item characteristics.\n",
    "\n",
    "In summary, collaborative filtering is a type of recommendation system that uses user feedback to make personalized recommendations for items. It uses distance measures to calculate similarities between users or items, which are then used to make predictions about what a user might like or dislike."
   ]
  },
  {
   "cell_type": "markdown",
   "metadata": {
    "id": "G68SNKJHKa89",
    "tags": []
   },
   "source": [
    "## **Mathematical explanation for distance measure**\n",
    "\n",
    "Manhattan, cosine, and Euclidean distance are different distance metrics used in machine learning and data science.\n",
    "\n",
    "### **Manhattan distance:**\n",
    "Manhattan distance, also known as taxicab distance or L1 distance, is a measure of the distance between two points in a n-dimensional space. It is called Manhattan distance because it is analogous to the distance a taxi would travel on the streets of Manhattan, where you can only move in straight lines along the grid.\n",
    "The formula for Manhattan distance between two points P and Q in n-dimensional space is:\n",
    "\n",
    "\\begin{equation}\n",
    "d(P,Q) = |x_1-y_1| + |x_2-y_2| + ... + |x_n-y_n|\n",
    "\\end{equation}\n",
    "\n",
    "where $x_1, x_2, ..., x_n$ are the coordinates of point $P$ and $y_1, y_2, ..., y_n$ are the coordinates of point $Q$.\n"
   ]
  },
  {
   "cell_type": "markdown",
   "metadata": {
    "id": "sjOGx5iUMEoh"
   },
   "source": [
    "### **Cosine similarity:**\n",
    "Cosine similarity is a measure of the similarity between two non-zero vectors of an inner product space. It is the cosine of the angle between the two vectors and ranges from -1 to 1. A value of 1 indicates that the two vectors are identical, while a value of -1 indicates that they are completely dissimilar.\n",
    "The formula for cosine similarity between two vectors A and B is:\n",
    "\n",
    "\\begin{equation}\n",
    "\\text{cosine   similarity}(A, B) = \\frac{A * B }{ ||A|| * ||B||}\n",
    "\\end{equation}\n",
    "\n",
    "\n",
    "\n",
    "where $A * B$ is the dot product of vectors A and B, and $||A||$ and $||B||$ are the magnitudes of vectors A and B, respectively."
   ]
  },
  {
   "cell_type": "markdown",
   "metadata": {},
   "source": [
    "### **Euclidean distance**:"
   ]
  },
  {
   "cell_type": "markdown",
   "metadata": {
    "id": "ExX-n0gnMlxH"
   },
   "source": [
    "Euclidean distance is a measure of the distance between two points in a n-dimensional space. It is called Euclidean distance because it is the distance between two points in a straight line, as defined by Euclidean geometry.\n",
    "The formula for Euclidean distance between two points P and Q in n-dimensional space is:\n",
    "\\begin{equation}\n",
    "d(P,Q) = \\sqrt{(x_1-y_1)^2 + (x_2-y_2)^2 + ... + (x_n-y_n)^2}\n",
    "\\end{equation}\n",
    "where $x_1$, $x_2$, ..., $x_n$ are the coordinates of point P and $y_1, y_2, ..., y_n$ are the coordinates of point Q."
   ]
  },
  {
   "cell_type": "markdown",
   "metadata": {
    "id": "ayS52CUhi-KD"
   },
   "source": [
    "If you want to learn more about collaborative filtering, here is a recommended [project](https://www.projectpro.io/project-use-case/collaborative-filtering-recommender-systems-project) for you."
   ]
  },
  {
   "cell_type": "code",
   "execution_count": null,
   "metadata": {},
   "outputs": [],
   "source": [
    "df = train\n",
    "id_cols=['Customer ID','Month','Month of Joining','Churn Value','offer']\n",
    "df_id = train[id_cols] \n",
    "customer_id = 'sirifvlkipkel21' \n",
    "month = 12 \n",
    "distance_func = 'euclidean'\n",
    "n = 2000\n",
    "minimal_threshold = 0.10\n",
    "max_offers_to_return = 3\n",
    "\n",
    "# offers = get_recommended_offers (train, train[id_cols], customer_id, month,distance_func,n,minimal_threshold,max_offers_to_return)\n"
   ]
  },
  {
   "cell_type": "code",
   "execution_count": null,
   "metadata": {},
   "outputs": [],
   "source": [
    "\n",
    "# extract the feature vectors of all customers\n",
    "features = list(df.columns.difference(['Customer ID','Month','Month of Joining','offer']))\n",
    "X = df[features].values\n",
    "\n",
    "# extract the feature vector of the given customer\n",
    "index = df[(df['Customer ID'] == customer_id) & (df['Month']==month)].index[0]\n",
    "x = X[index]\n",
    "\n",
    "print(X.shape)\n",
    "print(x.shape)\n",
    "print(x.reshape(1, -1).flatten().shape)\n",
    "\n",
    "# compute the distances between the feature vectors\n",
    "if distance_func == 'euclidean':\n",
    "  distances = euclidean_distances(X, x.reshape(1, -1)).flatten()\n",
    "elif distance_func == 'manhattan':\n",
    "  distances = manhattan_distances(X, x.reshape(1, -1)).flatten()\n",
    "elif distance_func == 'cosine':\n",
    "  distances = 1 - cosine_similarity(X, x.reshape(1, -1)).flatten()\n",
    "else:\n",
    "  raise ValueError('Invalid distance function specified.')\n",
    "\n",
    "print(np.min(distances), np.max(distances))\n",
    "\n",
    "# find the indices of the n customers with lowest distance\n",
    "most_similar_indices = distances.argsort()[:n]\n",
    "\n",
    "print(distances[24], distances[2198], distances[59314], distances[125555], distances[113914])\n",
    "\n",
    "# extract the customer data for the most similar customers\n",
    "similar_customers = df.iloc[most_similar_indices]\n",
    "\n",
    "similar_customers.head()\n",
    "\n",
    "# merge with the id dataframe to select only the customers who did not churn\n",
    "similar_customers = pd.merge(similar_customers,df_id[['Customer ID','Month of Joining','Month','Churn Value']],on=['Customer ID','Month of Joining','Month','Churn Value'])\n",
    "\n",
    "# select the customers that did not churn\n",
    "similar_customers = similar_customers[similar_customers['Churn Value']==0]\n",
    "\n",
    "#count the top offers of the non-churned customers\n",
    "top_offers = similar_customers[['Customer ID','offer']].groupby(['offer']).agg({'Customer ID':'count'}).reset_index().sort_values(by = 'Customer ID', ascending = False)\n",
    "top_offers['perc_total'] = top_offers['Customer ID']/top_offers['Customer ID'].sum()\n",
    "\n",
    "print(top_offers)\n",
    "\n",
    "top_offers_min = top_offers[top_offers['perc_total']>minimal_threshold].head(max_offers_to_return)\n",
    "\n",
    "top_offers_min['offer'].unique()"
   ]
  },
  {
   "cell_type": "code",
   "execution_count": null,
   "metadata": {},
   "outputs": [],
   "source": [
    "df[(df['Customer ID'] == customer_id) & (df['Month']==month)]"
   ]
  },
  {
   "cell_type": "code",
   "execution_count": null,
   "metadata": {
    "id": "9RBlrrI4hal0"
   },
   "outputs": [],
   "source": [
    "def get_recommended_offers (df:pd.DataFrame, \n",
    "                            df_id:pd.DataFrame,\n",
    "                            customer_id:str,\n",
    "                            month:int,\n",
    "                            distance_func:str,\n",
    "                            n,\n",
    "                            minimal_threshold:float,\n",
    "                            max_offers_to_return:int\n",
    "                            ):\n",
    "    \"\"\"\n",
    "    This function takes as parameters:\n",
    "    1. the dataframe where we'll be getting our data\n",
    "    2. the customer identifiers Customer Id and the Month we want to make an offer for\n",
    "    3. the distance function we want to use to calculate similaries between customers (see explanation below on how to choose it)\n",
    "    4. The number of other customers we want to base our recommendations on\n",
    "    5. The minimal threshold of prevalence of a given offer, in the similar group of customers, for it to be considered for recommendation (see explanation below on how to chose it)\n",
    "    \n",
    "    It returns:\n",
    "    An array with the list of offers that we could recommend to this customer\n",
    "    \"\"\"\n",
    "\n",
    "    # extract the feature vectors of all customers\n",
    "    features = list(df.columns.difference(['Customer ID','Month','Month of Joining','offer']))\n",
    "    X = df[features].values\n",
    "\n",
    "    # extract the feature vector of the given customer\n",
    "    index = df[(df['Customer ID'] == customer_id) & (df['Month']==month)].index[0]\n",
    "    x = X[index]\n",
    "\n",
    "    # compute the distances between the feature vectors\n",
    "    if distance_func == 'euclidean':\n",
    "      distances = euclidean_distances(X, x.reshape(1, -1)).flatten()\n",
    "    elif distance_func == 'manhattan':\n",
    "      distances = manhattan_distances(X, x.reshape(1, -1)).flatten()\n",
    "    elif distance_func == 'cosine':\n",
    "      distances = 1 - cosine_similarity(X, x.reshape(1, -1)).flatten()\n",
    "    else:\n",
    "      raise ValueError('Invalid distance function specified.')\n",
    "\n",
    "    # find the indices of the n customers with lowest distance\n",
    "    most_similar_indices = distances.argsort()[:n]\n",
    "            \n",
    "    # extract the customer data for the most similar customers\n",
    "    similar_customers = df.iloc[most_similar_indices]\n",
    "\n",
    "    # merge with the id dataframe to select only the customers who did not churn\n",
    "    similar_customers = pd.merge(similar_customers,df_id[['Customer ID','Month of Joining','Month','Churn Value']],on=['Customer ID','Month of Joining','Month','Churn Value'])\n",
    "\n",
    "    # select the customers that did not churn\n",
    "    similar_customers = similar_customers[similar_customers['Churn Value']==0]\n",
    "\n",
    "    #count the top offers of the non-churned customers\n",
    "    top_offers = similar_customers[['Customer ID','offer']].groupby(['offer']).agg({'Customer ID':'count'}).reset_index().sort_values(by = 'Customer ID', ascending = False)    \n",
    "    top_offers['perc_total'] = top_offers['Customer ID']/top_offers['Customer ID'].sum()\n",
    "    top_offers_min = top_offers[top_offers['perc_total']>minimal_threshold].head(max_offers_to_return)\n",
    "        \n",
    "    return top_offers_min['offer'].unique()"
   ]
  },
  {
   "cell_type": "markdown",
   "metadata": {
    "id": "JfjMQDBBrUWq"
   },
   "source": [
    "#### **Function Overview**\n",
    "\n",
    "This function finds n similar customers with respect to the distance metric provided by user from training data corresponding to specific customer. \n",
    "\n",
    "It further finds the most occurring offers given to set of n similar customers and recommend the top 3 offers.\n",
    "\n",
    "\n",
    "##### **Input Parameters**\n",
    "1. df: The main DataFrame that contains all the data for all customers and their offers\n",
    "\n",
    "2. df_id: A DataFrame that contains only the customer ID, month of joining, and churn value and offer\n",
    "\n",
    "3. customer_id: The ID of the customer we want to recommend offers for\n",
    "\n",
    "4. month: The month we want to make the offer for\n",
    "\n",
    "5. distance_func: The distance function to use for finding similar customers\n",
    "\n",
    "6. n: The number of other customers we want to base our recommendations on\n",
    "\n",
    "7. minimal_threshold: The minimal threshold of prevalence of a given offer in the similar group of customers, for it to be considered for recommendation\n",
    "\n",
    "8. max_offers_to_return: The maximum number of offers to return\n",
    "\n"
   ]
  },
  {
   "cell_type": "markdown",
   "metadata": {
    "id": "bREZyZr2t2AS"
   },
   "source": [
    "##### **Step by Step Explanation**\n",
    "\n",
    "* Extracts the feature vectors of all customers by removing the 'Customer ID', 'Month', 'Month of Joining', and 'offer' columns from the main DataFrame\n",
    "\n",
    "```\n",
    "features = list(df.columns.difference(['Customer ID','Month','Month of Joining','offer']))\n",
    "X = df[features].values\n",
    "```\n",
    "\n",
    "* Extracts the feature vector of the given customer\n",
    "\n",
    "```\n",
    "index = df[(df['Customer ID'] == customer_id) & (df['Month']==month)].index[0]\n",
    "x = X[index]\n",
    "```\n",
    "\n",
    "* Computes the distances between the feature vectors of the given customer and all other customers using the specified distance function\n",
    "\n",
    "```\n",
    "if distance_func == 'euclidean':\n",
    "    distances = euclidean_distances(X, x.reshape(1, -1)).flatten()\n",
    "elif distance_func == 'manhattan':\n",
    "    distances = manhattan_distances(X, x.reshape(1, -1)).flatten()\n",
    "elif distance_func == 'cosine':\n",
    "     distances = 1 - cosine_similarity(X, x.reshape(1, -1)).flatten()\n",
    "else:\n",
    "    raise ValueError('Invalid distance function specified.')\n",
    "```\n",
    "\n",
    "* Finds the indices of the n customers with the lowest distance to the given customer\n",
    "\n",
    "```\n",
    "most_similar_indices = distances.argsort()[:n]\n",
    "```\n",
    "\n",
    "* Extracts the customer data for the most similar customers\n",
    "\n",
    "```\n",
    "similar_customers = df.iloc[most_similar_indices]\n",
    "```\n",
    "\n",
    "* Merges the similar customers DataFrame with the ID DataFrame to select only the customers who did not churn\n",
    "\n",
    "```\n",
    "similar_customers = pd.merge(similar_customers,df_id[['Customer ID','Month of Joining','Month','Churn Value']],on=['Customer ID','Month of Joining','Month','Churn Value'])\n",
    "```\n",
    "\n",
    "* Selects the customers that did not churn\n",
    "\n",
    "```\n",
    "similar_customers = similar_customers[similar_customers['Churn Value']==0]\n",
    "```\n",
    "\n",
    "* Counts the top offers of the non-churned customers, calculates the percentage of each offer among the top offers, and selects the top max_offers_to_return offers whose percentage is above the minimal_threshold\n",
    "\n",
    "```\n",
    "top_offers = similar_customers[['Customer ID','offer']].groupby(['offer']).agg({'Customer ID':'count'}).reset_index().sort_values(by = 'Customer ID', ascending = False)\n",
    "top_offers['perc_total'] = top_offers['Customer ID']/top_offers['Customer ID'].sum()\n",
    "top_offers_min = top_offers[top_offers['perc_total']>minimal_threshold].head\n",
    "```"
   ]
  },
  {
   "cell_type": "markdown",
   "metadata": {
    "id": "xN7zrzdztpDY"
   },
   "source": [
    "## **The minimal threshold parameter**\n",
    "\n",
    "Whenever we are building any framework, and especially unsupervised ones, it is important that we establish parameters that can help us have confidence in what we are doing.\n",
    "\n",
    "In this particular case, we are assigning a minimal threshold of 10% for an offer to be potentially chosen to customers.\n",
    "\n",
    "This comes from the fact that we have 10 offers (A-> J). If we were to randomly assign an offer to a customer, we would likely give each offer an equal probability of being assigned, so 100%/10%. So given that, if we are going to recommend something, it needs to be better than the random assignment."
   ]
  },
  {
   "cell_type": "markdown",
   "metadata": {
    "id": "smDVZ6BYSzxx"
   },
   "source": [
    "To identify similar customers, we are going to treat each feature that we selected now in the train dataframe as a customer feature"
   ]
  },
  {
   "cell_type": "markdown",
   "metadata": {
    "id": "AdHeArLXrvmZ"
   },
   "source": [
    "## **Which distance to choose?**\n",
    "\n",
    "In Summary\n",
    "*  Manhattan distance: This metric measures the distance between two points by summing the absolute differences between their coordinates. It is also called the \"taxicab\" or \"city block\" distance because it measures the distance a taxicab would have to travel to get from one point to another on a city grid. \n",
    "\n",
    "*  Cosine similarity: This metric measures the cosine of the angle between two vectors in a high-dimensional space. It is commonly used in text analysis and information retrieval to measure the similarity between documents. Cosine similarity is often preferred over Euclidean distance when the magnitude of the vectors is not important, and only the direction matters.\n",
    "\n",
    "*  Euclidean distance: This metric measures the distance between two points in a straight line. It is the most common distance metric used in machine learning and data science. Euclidean distance is useful when the data is dense, and the features have similar scales.\n",
    "\n",
    "In general, if you have high-dimensional data or sparse data, Manhattan or cosine distance may be more appropriate. If you have dense data with similar scales, Euclidean distance is a good choice.\n",
    "\n",
    "For this problem in particular, we recommend Manhattan or Cosine"
   ]
  },
  {
   "cell_type": "markdown",
   "metadata": {
    "id": "_Ee2SDtMAiYH"
   },
   "source": [
    "## **Applying this framework to a specific customer**"
   ]
  },
  {
   "cell_type": "code",
   "execution_count": null,
   "metadata": {
    "colab": {
     "base_uri": "https://localhost:8080/",
     "height": 179
    },
    "id": "N1Ul8kdCuPqS",
    "outputId": "2df59d04-5e78-4782-b5fc-d705a4f89c22"
   },
   "outputs": [],
   "source": [
    "train[train['Customer ID']=='sirifvlkipkel21']"
   ]
  },
  {
   "cell_type": "code",
   "execution_count": null,
   "metadata": {
    "colab": {
     "base_uri": "https://localhost:8080/",
     "height": 71
    },
    "id": "g1w_ygYu-LnI",
    "outputId": "df8aee5e-fda3-40f0-f0e7-bf41d1bf9b54"
   },
   "outputs": [],
   "source": [
    "customer_id = 'sirifvlkipkel21' # This Customer Id needs to be there from the training dataset\n",
    "month = 12\n",
    "distance_func = 'euclidean'\n",
    "n = 1000\n",
    "minimal_threshold= 0.10\n",
    "max_offers_to_return = 3\n",
    "# model_snapshot(\"fcTel3\")\n",
    "id_cols=['Customer ID','Month','Month of Joining','Churn Value','offer']\n",
    "\n",
    "offers = get_recommended_offers (train, train[id_cols], customer_id, month,distance_func,n,minimal_threshold,max_offers_to_return)\n",
    "\n",
    "print('The first offer to recommend is ' + str(offers[0]))\n",
    "print('The second offer to recommend is ' + str(offers[1]))\n",
    "print('The third offer to recommend is ' + str(offers[2]))"
   ]
  },
  {
   "cell_type": "code",
   "execution_count": null,
   "metadata": {},
   "outputs": [],
   "source": [
    "offers"
   ]
  },
  {
   "cell_type": "markdown",
   "metadata": {
    "id": "aUp9hsxQXDYr"
   },
   "source": [
    "Instead of adding this result to a list, we could also add it to a dataframe:"
   ]
  },
  {
   "cell_type": "code",
   "execution_count": null,
   "metadata": {
    "colab": {
     "base_uri": "https://localhost:8080/",
     "height": 81
    },
    "id": "3RMo8QnwMJTt",
    "outputId": "8eb5b8cf-52df-443e-82ee-c6fc2239268d"
   },
   "outputs": [],
   "source": [
    "frame = pd.DataFrame()\n",
    "\n",
    "data = {'Customer ID': [customer_id],\n",
    "        'Month': [month],\n",
    "        'offer 1': [str(offers[0])],\n",
    "        'offer 2': [str(offers[1])],\n",
    "        'offer 3': [str(offers[2])]}\n",
    "\n",
    "frame= pd.DataFrame(data)\n",
    "frame.head(2)"
   ]
  },
  {
   "cell_type": "markdown",
   "metadata": {
    "id": "gPWTqNYVujTR"
   },
   "source": [
    "This essentially tells us for the particular customer id we can recommend C, G, F offers respectively in month 12.\n"
   ]
  },
  {
   "cell_type": "markdown",
   "metadata": {
    "id": "84cgyD7pswmz"
   },
   "source": [
    "## **Bootstrapping the framework**\n",
    "\n",
    "\n",
    "Especially in unsupervised learning problems, it is always a good idea to run several approaches ('bootstrap') and chose the most common answer amongst the different models. This mechanism is similar to what algorithms like random forest do, for example: they fit several trees and each tree votes the final classification of a sample.\n",
    "\n",
    "We are going to play with the 3 distances we have in our function + the number of customers we pull the data from in order to get a voted answer"
   ]
  },
  {
   "cell_type": "code",
   "execution_count": null,
   "metadata": {
    "id": "bopJoKsKnxXT"
   },
   "outputs": [],
   "source": [
    "def find_similar_customers_multiple(df:pd.DataFrame, \n",
    "                                    df_id:pd.DataFrame,\n",
    "                                    customer_id:str,\n",
    "                                    month:int,\n",
    "                                    distance_funcs:list,\n",
    "                                    n_values,\n",
    "                                    minimal_threshold:float,\n",
    "                                    max_offers_to_return:int\n",
    "                                   ):\n",
    "    \"\"\"\n",
    "    Given a dataframe, a customer_id, n values, and distance functions,\n",
    "    run multiple iterations of the find_similar_customers function with different parameter combinations,\n",
    "    and return the top 3 most common answers among those.\n",
    "    \"\"\"\n",
    "    results = []\n",
    "    for n in n_values:\n",
    "      for distancoffersfunc in distance_funcs:\n",
    "          result = get_recommended_offers (df,df_id ,customer_id,month,distance_func,n,minimal_threshold,max_offers_to_return)\n",
    "          print(f'result 0: {result}')\n",
    "          results.append(result)\n",
    "          # concatenate the arrays together\n",
    "          concatenated_array = np.concatenate(results)\n",
    "          # convert the concatenated array to a Python list\n",
    "          result_list = list(concatenated_array)\n",
    "    \n",
    "    print(result_list)\n",
    "    if len(results) == 0:\n",
    "        return None\n",
    "    else:\n",
    "        result_counts = pd.Series(result_list).value_counts()\n",
    "        print(result_counts)\n",
    "        most_common_result = [result_counts.index[0],result_counts.index[1],result_counts.index[2]]\n",
    "        return most_common_result"
   ]
  },
  {
   "cell_type": "markdown",
   "metadata": {
    "id": "lnlTkG9Vu8Ax"
   },
   "source": [
    "#### **Function Overview**\n",
    "\n",
    "This function takes a dataframe, a customer ID, a month, a list of distance functions, a list of n values, a minimal threshold, and a max number of offers to return as input parameters. It uses these parameters to run multiple iterations of the get_recommended_offers function and returns the top 3 most common recommendations among them.\n",
    "\n",
    "First, the function initializes an empty results list to store the results of each iteration. Then, for each n value and distance function, it calls the get_recommended_offers function with the given parameters and appends the result to the results list. After all iterations are completed, the function concatenates the arrays together and converts them to a Python list.\n",
    "\n",
    "If the results list is empty, meaning no recommendations were generated, the function returns None. Otherwise, it uses the value_counts() function to count the frequency of each recommended offer in the result_list, and returns a list of the top 3 most common recommendations.\n",
    "\n",
    "\n",
    "\n",
    "\n",
    "\n"
   ]
  },
  {
   "cell_type": "markdown",
   "metadata": {
    "id": "xfOteTFcVNgE"
   },
   "source": [
    "## **Applying this framework to a given customer** ##"
   ]
  },
  {
   "cell_type": "code",
   "execution_count": null,
   "metadata": {
    "colab": {
     "base_uri": "https://localhost:8080/",
     "height": 35
    },
    "id": "n-FvGfXpPxxU",
    "outputId": "b7775d9a-6238-4c64-bf66-71f9459674af"
   },
   "outputs": [],
   "source": [
    "n_values = [100, 250, 500, 1000]\n",
    "distance_funcs = ['euclidean', 'manhattan', 'cosine']\n",
    "customer_id = 'sirifvlkipkel21'\n",
    "month = 12\n",
    "minimal_threshold= 0.10\n",
    "max_offers_to_return = 3\n",
    "# model_snapshot(\"fcTel3\")\n",
    "id_cols=['Customer ID','Month','Month of Joining','Churn Value','offer']\n",
    "find_similar_customers_multiple(train, train[id_cols],customer_id,month,distance_funcs,n_values,minimal_threshold=0.10,max_offers_to_return=3)"
   ]
  },
  {
   "cell_type": "code",
   "execution_count": null,
   "metadata": {},
   "outputs": [],
   "source": [
    "get_recommended_offers(train, train[id_cols],customer_id,month,'euclidean',100,minimal_threshold=0.10,max_offers_to_return=3)"
   ]
  },
  {
   "cell_type": "markdown",
   "metadata": {
    "id": "8VX33xqEV95H"
   },
   "source": [
    "### Seeing how this function work in details"
   ]
  },
  {
   "cell_type": "code",
   "execution_count": null,
   "metadata": {
    "id": "rUpsERFQvQ16"
   },
   "outputs": [],
   "source": [
    "# parameter values\n",
    "n_values = [100, 250, 500, 1000]\n",
    "distance_funcs = ['euclidean', 'manhattan', 'cosine']\n",
    "customer_id = 'sirifvlkipkel21'\n",
    "month = 12\n",
    "minimal_threshold= 0.10\n",
    "max_offers_to_return = 3\n",
    "results = []\n"
   ]
  },
  {
   "cell_type": "code",
   "execution_count": null,
   "metadata": {
    "id": "qiwuSjAvWW8S"
   },
   "outputs": [],
   "source": [
    "# for each value in n_values \n",
    "# The number of other customers we want to base our recommendations on\n",
    "for n in n_values:\n",
    "  # chose distance metric from a list\n",
    "  for distance_func in distance_funcs:\n",
    "    \n",
    "      # get the offer recommendation by using get_recommended_offers function\n",
    "      result = get_recommended_offers (train, train[id_cols],customer_id,month,distance_func,n,minimal_threshold,max_offers_to_return)\n",
    "      \n",
    "      results.append(result)\n",
    "      # concatenate the arrays together\n",
    "      concatenated_array = np.concatenate(results)\n",
    "      # convert the concatenated array to a Python list\n",
    "      result_list = list(concatenated_array)\n",
    "if len(results) == 0:\n",
    "    None\n",
    "else:\n",
    "    result_counts = pd.Series(result_list).value_counts()\n",
    "    most_common_result = [result_counts.index[0],result_counts.index[1],result_counts.index[2]]\n",
    "    most_common_result"
   ]
  },
  {
   "cell_type": "code",
   "execution_count": null,
   "metadata": {
    "colab": {
     "base_uri": "https://localhost:8080/"
    },
    "id": "1TCudb-CUP_E",
    "outputId": "c68d4987-e560-4851-a2ba-1ff0d61797f1"
   },
   "outputs": [],
   "source": [
    "result_counts "
   ]
  },
  {
   "cell_type": "markdown",
   "metadata": {
    "id": "lzMCVp-rWgdR"
   },
   "source": [
    "We can see above that the different iterations returned 7 potential offers. 3 of those were, however, much more common than 6 of the rest."
   ]
  },
  {
   "cell_type": "code",
   "execution_count": null,
   "metadata": {
    "colab": {
     "base_uri": "https://localhost:8080/"
    },
    "id": "NtNODT4XU4gp",
    "outputId": "527ebb7d-b8b4-45e3-8a96-3f66ec7ec0c0"
   },
   "outputs": [],
   "source": [
    "most_common_result"
   ]
  },
  {
   "cell_type": "markdown",
   "metadata": {
    "id": "J05M1V9rWtFU"
   },
   "source": [
    "The most_common_result list will aggregate the top 3 offers"
   ]
  },
  {
   "cell_type": "markdown",
   "metadata": {
    "id": "aytaysL0ElML"
   },
   "source": [
    "## **Applying this to the whole dataframe**"
   ]
  },
  {
   "cell_type": "markdown",
   "metadata": {
    "id": "rcUh5OWkBLRa"
   },
   "source": [
    "This code defines a function called production_model that takes three arguments: df, distance_func, and n. df is a Pandas DataFrame that contains data about customer transactions. The distance_func is a function that takes two arguments and returns a distance measure between them. The n parameter specifies the number of recommended offers to return for each customer and month.\n",
    "\n",
    "The function initializes an empty DataFrame called frame and then iterates over each unique customer in the input DataFrame. For each customer, the function iterates over each unique month for that customer and calls another function called get_recommended_offers. This function returns a list of recommended offers for that customer and month based on their transaction history, using the distance_func and n parameters.\n",
    "\n",
    "The function then creates a new DataFrame called frame1 containing the Customer ID, Month, and the top three recommended offers for that customer and month, and appends it to the frame DataFrame. Finally, the function returns the frame DataFrame containing the recommendations for all customers and months in the input DataFrame."
   ]
  },
  {
   "cell_type": "code",
   "execution_count": null,
   "metadata": {
    "colab": {
     "base_uri": "https://localhost:8080/",
     "height": 211
    },
    "id": "ujgum4Xhjfxl",
    "outputId": "11866cc8-e06a-40d5-80c4-2fdad8d0b347"
   },
   "outputs": [],
   "source": [
    "train.head(2)"
   ]
  },
  {
   "cell_type": "markdown",
   "metadata": {
    "id": "IyYnabWlBVUo"
   },
   "source": [
    "### **For the function without bootstrapping**"
   ]
  },
  {
   "cell_type": "code",
   "execution_count": null,
   "metadata": {
    "colab": {
     "base_uri": "https://localhost:8080/"
    },
    "id": "MqwOA7J1mE3B",
    "outputId": "16bdad31-98b3-4847-ad35-4f61016ca6e6"
   },
   "outputs": [],
   "source": [
    "train_id.columns"
   ]
  },
  {
   "cell_type": "code",
   "execution_count": null,
   "metadata": {
    "id": "S5S-zvZcMGoz"
   },
   "outputs": [],
   "source": [
    "def production_model (df,train,production,distance_func,n):\n",
    "  frame = pd.DataFrame()\n",
    "  # For each customer in each month\n",
    "  for customer in list(df['Customer ID'].unique()):\n",
    "    for month in list(df[df['Customer ID']==customer]['Month'].unique()):\n",
    "      #This part of the code adds the line we want to get offers to the training set, so we can use the distance formula\n",
    "      data = pd.DataFrame()\n",
    "      data = train.append(production[(production['Customer ID']==customer)&(production['Month']==month)])\n",
    "      data= data.reset_index()\n",
    "      data_id=data[['Customer ID', 'Month', 'Month of Joining','Churn Value']]\n",
    "      results = get_recommended_offers(data,data_id,customer,month,distance_func,n,minimal_threshold=0.10,max_offers_to_return=3)\n",
    "      data = {'Customer ID': [customer],\n",
    "              'Month': [month],\n",
    "              'offers': [results]}\n",
    "      frame1 =  pd.DataFrame(data)\n",
    "      frame = frame.append(frame1)\n",
    "  return frame"
   ]
  },
  {
   "cell_type": "markdown",
   "metadata": {
    "id": "A4o5IzODw2mu"
   },
   "source": [
    "#### **Function Overview**\n",
    "\n",
    "The production_model function takes in a dataframe df, a distance function distance_func, and a value n, and returns a new dataframe frame with recommended offer in each month.\n",
    "\n",
    "For each unique Customer ID and Month combination in the input dataframe, the function adds the line for that combination to a new dataframe data that includes all previous training data plus the current combination. The get_recommended_offers function is then called on this new data dataframe, using the given distance_func and n values, to obtain a list of recommended offers for that combination.\n",
    "\n",
    "A dictionary is then created to store the Customer ID, Month, and offers data, and a new dataframe frame1 is created from this dictionary. This new dataframe is then appended to the existing frame dataframe.\n",
    "\n",
    "Finally, the frame dataframe is returned, which contains the recommended offers for each unique Customer ID and Month combination in the input dataframe."
   ]
  },
  {
   "cell_type": "code",
   "execution_count": null,
   "metadata": {
    "colab": {
     "base_uri": "https://localhost:8080/",
     "height": 17
    },
    "id": "N_evBTFpYL1e",
    "outputId": "4ab7e395-6c60-486f-b14b-756f25808132"
   },
   "outputs": [],
   "source": [
    "save_point(\"fcTel3\")\n",
    "frame_production_100_samples = production_model (production.head(100),train=train,production=production,distance_func = 'euclidean',n = 250)\n",
    "frame_production_100_samples.to_csv('offer_recommendation_without_bootstap.csv',index=False)"
   ]
  },
  {
   "cell_type": "code",
   "execution_count": null,
   "metadata": {
    "colab": {
     "base_uri": "https://localhost:8080/",
     "height": 206
    },
    "id": "0WaWaNHfpVQk",
    "outputId": "115a5d12-8f78-4235-bb58-e9d22196186f"
   },
   "outputs": [],
   "source": [
    "frame_production_100_samples.head(5)"
   ]
  },
  {
   "cell_type": "markdown",
   "metadata": {
    "id": "nvr46dg4BcFa"
   },
   "source": [
    "### **For the function with bootstrapping**"
   ]
  },
  {
   "cell_type": "code",
   "execution_count": null,
   "metadata": {
    "id": "4Mb3Lu1JYPvT"
   },
   "outputs": [],
   "source": [
    "def production_model_bootstrap (df,train,production,distance_funcs,n_values):\n",
    "\n",
    "  frame = pd.DataFrame()\n",
    "  for customer in list(df['Customer ID'].unique()):\n",
    "    for month in list(df[df['Customer ID']==customer]['Month'].unique()):\n",
    "      #This part of the code adds the line we want to get offers to to the training set, so we can use the distance formula\n",
    "      data = pd.DataFrame()\n",
    "      data = train.append(production[(production['Customer ID']==customer)&(production['Month']==month)])\n",
    "      data= data.reset_index()\n",
    "      data_id=data[['Customer ID', 'Month', 'Month of Joining','Churn Value']]\n",
    "      results = find_similar_customers_multiple(data,data_id,customer,month,distance_funcs=distance_funcs,n_values=n_values,minimal_threshold=0.10,max_offers_to_return=3)\n",
    "      data = {'Customer ID': [customer],\n",
    "              'Month': [month],\n",
    "              'offers': [results]}\n",
    "      frame1 =  pd.DataFrame(data)\n",
    "      frame = frame.append(frame1)\n",
    "  return frame   "
   ]
  },
  {
   "cell_type": "markdown",
   "metadata": {
    "id": "Zh2_UwRVxJAL"
   },
   "source": [
    "#### **Function Overview**\n",
    "\n",
    "The production_model function takes in a dataframe df, a distance function distance_func, and a value n, and returns a new dataframe frame with recommended offer in each month.\n",
    "\n",
    "For each unique Customer ID and Month combination in the input dataframe, the function adds the line for that combination to a new dataframe data that includes all previous training data plus the current combination. The find_similar_customers_multiple(boostraping function) function is then called on this new data dataframe, using the given distance_func and n values, to obtain a list of recommended offers for that combination.\n",
    "\n",
    "A dictionary is then created to store the Customer ID, Month, and offers data, and a new dataframe frame1 is created from this dictionary. This new dataframe is then appended to the existing frame dataframe.\n",
    "\n",
    "Finally, the frame dataframe is returned, which contains the recommended offers for each unique Customer ID and Month combination in the input dataframe."
   ]
  },
  {
   "cell_type": "code",
   "execution_count": null,
   "metadata": {
    "colab": {
     "base_uri": "https://localhost:8080/",
     "height": 17
    },
    "id": "wRHGvvzh-Q7a",
    "outputId": "c10a3635-9119-47c0-f6d2-7f2b706244d3"
   },
   "outputs": [],
   "source": [
    "save_point(\"fcTel3\")\n",
    "frame_production_100_samples_bootstrap = production_model_bootstrap (production.head(100),train=train,production=production,distance_funcs=['euclidean', 'manhattan', 'cosine'],n_values=[250,500,1000])\n",
    "frame_production_100_samples_bootstrap.to_csv('offer_recommendation_bootstrap.csv',index=False)\n"
   ]
  },
  {
   "cell_type": "code",
   "execution_count": null,
   "metadata": {
    "colab": {
     "base_uri": "https://localhost:8080/",
     "height": 206
    },
    "id": "sF_QVqxa3QKZ",
    "outputId": "1895c0dc-b686-41fd-86cd-8c7d69719aae"
   },
   "outputs": [],
   "source": [
    "frame_production_100_samples_bootstrap.head(5)"
   ]
  },
  {
   "cell_type": "markdown",
   "metadata": {
    "id": "W6xwPul03C5I"
   },
   "source": [
    "### **Think about it**\n",
    "\n",
    "Is there any difference between the model developed with and without bootstrapping?\n",
    "\n",
    "Can you conclude anything on model performance?"
   ]
  },
  {
   "cell_type": "markdown",
   "metadata": {
    "id": "J_TSQUIJFrN3"
   },
   "source": [
    "# **Try it out**\n",
    "\n",
    "- Can you modify the similarity functions to take into consideration other types of distances?\n",
    "\n",
    "- Can you modify the similarity functions to take into consideration different folds (parts) of the 'train' dataset?"
   ]
  },
  {
   "cell_type": "markdown",
   "metadata": {
    "id": "xzvBJoctGOIw"
   },
   "source": [
    "## **Think about it**\n",
    "\n",
    "How would you validate this approach?\n",
    "- You ideally could design a test where, for some control group, you offer a random offer (or use whatever method is used today). For some treatment, you use your model to assign the offer. You could then measure retention of these two groups;\n",
    "\n",
    "- Another option would be to train this model on part of the training set, and use another part of the training set to test it. You could check if you have recommended a 'winning offer', where 'winning' = an offer where that was taken by the customer and avoided churn in the next month"
   ]
  },
  {
   "cell_type": "markdown",
   "metadata": {
    "id": "I42k50Ms0UUF"
   },
   "source": [
    "## **Conclusion**\n",
    "\n",
    "In this project we used a simple yet effective unsupervised model to provide offers to customers.\n",
    "\n",
    "A collaborative offer recommendation system can be a valuable tool for telecom companies to increase customer satisfaction and revenue. By using data on customer behavior and preferences, the system can provide personalized offers that are more likely to be accepted by customers.\n",
    "\n",
    "To implement such a system, several steps need to be taken, including collecting and cleaning data, creating customer profiles, selecting appropriate distance functions, and validating the system's performance. It is also essential to consider ethical considerations related to data privacy and security.\n",
    "\n",
    "Overall, a collaborative offer recommendation system can be a powerful tool for telecom companies to enhance their marketing strategies and provide better services to their customers. However, it is important to continuously evaluate and update the system to ensure its effectiveness and address any potential issues.\n",
    "\n",
    "\n",
    "In conclusion, a successful data science project requires a clear understanding of the business problem and the data available, as well as the ability to select and apply appropriate data preprocessing techniques, feature engineering methods, and machine learning algorithms. It is also important to assess and optimize the performance of the model and communicate the results effectively to stakeholders. "
   ]
  },
  {
   "cell_type": "markdown",
   "metadata": {
    "id": "UuYMNzwX0XHS"
   },
   "source": [
    "## **Interview Questions**\n",
    "\n",
    "### **Collaborative Filtering:**\n",
    "\n",
    "* What is collaborative filtering and how does it work?\n",
    "* Can you explain the difference between user-based and item-based collaborative filtering?\n",
    "* Can you give an example of how collaborative filtering is used in real-world applications?\n",
    "\n",
    "### **Distance Measures:**\n",
    "\n",
    "* What are distance measures and why are they important in data science?\n",
    "* Can you explain the difference between Euclidean distance and Manhattan distance?\n",
    "\n",
    "\n",
    "### **Code Implementation:**\n",
    "\n",
    "* Can you walk me through the code for the get_recommended_offers function?\n",
    "* How does the find_similar_customers_multiple function work?\n",
    "* Can you explain the purpose of the production_model function and how it uses the get_recommended_offers function?\n",
    "* How would you modify these functions to handle larger datasets or improve their performance?"
   ]
  },
  {
   "cell_type": "code",
   "execution_count": null,
   "metadata": {
    "colab": {
     "base_uri": "https://localhost:8080/",
     "height": 1000
    },
    "id": "V59WCYKv0S0F",
    "outputId": "bcb577df-0589-43e7-ac19-631a28a959ba"
   },
   "outputs": [],
   "source": [
    "feedback()"
   ]
  },
  {
   "cell_type": "code",
   "execution_count": null,
   "metadata": {
    "id": "aAE-ZiKr3j9N"
   },
   "outputs": [],
   "source": []
  }
 ],
 "metadata": {
  "colab": {
   "collapsed_sections": [
    "TD4mUs2O5nn4",
    "6-AGRDjswx3C",
    "6-8sAipDw7cV",
    "Mhjzt133qQr8",
    "tzcnEleB7xtB",
    "5GKk8NGIDiGk",
    "40sMBDeUESmO",
    "Hu8BDftlyvXp",
    "DyP1FgDpbLko",
    "STkrMrK_iT32",
    "sjOGx5iUMEoh"
   ],
   "provenance": []
  },
  "kernelspec": {
   "display_name": "Python 3 (ipykernel)",
   "language": "python",
   "name": "python3"
  },
  "language_info": {
   "codemirror_mode": {
    "name": "ipython",
    "version": 3
   },
   "file_extension": ".py",
   "mimetype": "text/x-python",
   "name": "python",
   "nbconvert_exporter": "python",
   "pygments_lexer": "ipython3",
   "version": "3.7.12"
  }
 },
 "nbformat": 4,
 "nbformat_minor": 4
}
