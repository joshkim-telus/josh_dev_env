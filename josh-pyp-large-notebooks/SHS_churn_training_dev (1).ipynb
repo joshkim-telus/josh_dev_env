{
 "cells": [
  {
   "cell_type": "code",
   "execution_count": null,
   "id": "7d2d580a",
   "metadata": {},
   "outputs": [],
   "source": [
    "# Importing libraries\n",
    "import pickle\n",
    "import os\n",
    "import re\n",
    "import gc\n",
    "import datetime\n",
    "import numpy as np\n",
    "import pandas as pd\n",
    "import xgboost as xgb\n",
    "import lightgbm as lgb\n",
    "from google.cloud import bigquery\n",
    "from matplotlib import pyplot as plt\n",
    "import google.oauth2.credentials\n",
    "from google.cloud import bigquery\n",
    "from dateutil.relativedelta import relativedelta\n",
    "from sklearn.preprocessing import LabelEncoder\n",
    "from sklearn.model_selection import train_test_split\n",
    "import seaborn as sns"
   ]
  },
  {
   "cell_type": "code",
   "execution_count": null,
   "id": "fe2c94a5-1fdc-47f0-a73a-c3aca4237ae2",
   "metadata": {},
   "outputs": [],
   "source": [
    "local_dev = True"
   ]
  },
  {
   "cell_type": "code",
   "execution_count": null,
   "id": "e62538e1-a8e2-42cb-a04d-ca4a1d117bc7",
   "metadata": {},
   "outputs": [],
   "source": [
    "project_id = 'bi-stg-mobilityds-pr-db8ce2'\n",
    "proj_id = 'divg-team-v03-pr-de558a'\n",
    "dataset_id = 'ym'"
   ]
  },
  {
   "cell_type": "code",
   "execution_count": null,
   "id": "367e3925-5003-4772-ba97-d753efc23781",
   "metadata": {},
   "outputs": [],
   "source": [
    "def get_gcp_bqclient(project_id, use_local_credential=False):\n",
    "    token = os.popen('gcloud auth print-access-token').read()\n",
    "    token = re.sub(f'\\n$', '', token)\n",
    "    credentials = google.oauth2.credentials.Credentials(token)\n",
    "\n",
    "    bq_client = bigquery.Client(project=project_id)\n",
    "    if use_local_credential:\n",
    "        bq_client = bigquery.Client(project=project_id, credentials=credentials)\n",
    "    return bq_client\n",
    "def plotImp(model, X,figsize, num):\n",
    "    feature_imp = pd.DataFrame({'Value':model.feature_importance(),'Feature':X.columns})\n",
    "    plt.figure(figsize=figsize)\n",
    "    sns.set(font_scale = 1)\n",
    "    sns.barplot(x=\"Value\", y=\"Feature\", data=feature_imp.sort_values(by=\"Value\",\n",
    "                                                        ascending=False)[0:num])\n",
    "    plt.title('LightGBM Features (avg over folds)')\n",
    "    plt.tight_layout()\n",
    "    plt.savefig('lgbm_importances-01.png')\n",
    "    plt.show()"
   ]
  },
  {
   "cell_type": "code",
   "execution_count": null,
   "id": "7f4960d2-0d08-4d1b-bc06-899d76cdd1a1",
   "metadata": {},
   "outputs": [],
   "source": [
    "client = get_gcp_bqclient(proj_id, use_local_credential=True)"
   ]
  },
  {
   "cell_type": "code",
   "execution_count": null,
   "id": "f11eda6e",
   "metadata": {},
   "outputs": [],
   "source": [
    "# Initializing constants\n",
    "# client = bigquery.Client(project=proj_id)\n",
    "\n",
    "# CUST_ID, Bus_Billing_Account_Num, Bus_Prod_Instnc_Id, ADTbT_, ADT_Gazelle_Clients, ADT_FLAG, Base_Snapshot_Date, Security_Origin, Cultural_Segment, Installation_Type, Product_Profile, Province_Grp, Tenure_Month_Groups, ACQUIRED_FROM, DIY_Activated, price_plan, Acquisition_Source, Activation_Ts__Month___Year_, bi_chnl_tag_cd, Channel, Channel__Best_, Channel_Category, CHNL_ORG_TXT__Custom_SQL_Query_, Commitment_Type, Community, Contract_Expiring_Soon, Contract_Type, Cont\n",
    "\n",
    "trainingSQL = f\"\"\"\n",
    " select distinct * except(invol, churn,Sales_Agent_ID,src_usr_chnl_txt,order_date,POSTAL_CD__Custom_SQL_Query_) from `divg-team-v03-pr-de558a.shs_churn_model.shs_churn_data_final_v3`\n",
    "     where Base_Snapshot_Date between '2023-01-01' and '2023-09-30' and security_origin='Organic'\n",
    "\"\"\"    #    ='2023-10-01'  order by rand() limit 500000\n",
    "valSQL = f\"\"\"\n",
    " select distinct * except(invol, churn,Sales_Agent_ID,src_usr_chnl_txt,order_date,POSTAL_CD__Custom_SQL_Query_) from `divg-team-v03-pr-de558a.shs_churn_model.shs_churn_data_final_v3`\n",
    "     where  Base_Snapshot_Date between '2023-10-01'and '2023-10-31' and security_origin='Organic'\n",
    "\"\"\" \n",
    "\n",
    "trainingSQL = f\"\"\"\n",
    " select distinct * except(invol, churn,Sales_Agent_ID,src_usr_chnl_txt,order_date,POSTAL_CD__Custom_SQL_Query_) from `divg-team-v03-pr-de558a.shs_churn_model.shs_churn_data_final_v3`\n",
    "     where Base_Snapshot_Date between '2023-01-01' and '2023-11-30'\n",
    "     \n",
    "\"\"\"    #    ='2023-10-01'  order by rand() limit 500000\n",
    "valSQL = f\"\"\"\n",
    " select distinct * except(invol, churn,Sales_Agent_ID,src_usr_chnl_txt,order_date,POSTAL_CD__Custom_SQL_Query_) from `divg-team-v03-pr-de558a.shs_churn_model.shs_churn_data_final_v3`\n",
    "     where Base_Snapshot_Date between '2023-12-01'and '2023-12-31'\n",
    "\"\"\" \n",
    "\n",
    "testSQL = f\"\"\"\n",
    " select distinct * except(invol, churn,Sales_Agent_ID,src_usr_chnl_txt,order_date,POSTAL_CD__Custom_SQL_Query_) from `divg-team-v03-pr-de558a.shs_churn_model.shs_churn_data_final_v3`\n",
    "     where  Base_Snapshot_Date between '2024-01-01' and '2024-01-31'\n",
    "\"\"\" \n",
    "\n",
    "# test_sql_1 = f\"\"\"\n",
    "#     select distinct * except(invol, churn,Month_name,Sales_Agent_ID,src_usr_chnl_txt, yr_mth_1,\n",
    "#      yr_mth_2,Activation_Ts__Month___Year_,\n",
    "#      yr_mth_3) from `divg-team-v03-pr-de558a.shs_churn_model.shs_churn_data_final` \n",
    "#      where  Base_Snapshot_Date = '2023-11-01'\n",
    "# \"\"\"\n",
    "\n",
    "# test_sql_2 = f\"\"\"\n",
    "#     select distinct * except(invol, churn,Month_name,Sales_Agent_ID,src_usr_chnl_txt, yr_mth_1,\n",
    "#      yr_mth_2,Activation_Ts__Month___Year_,\n",
    "#      yr_mth_3) from `divg-team-v03-pr-de558a.shs_churn_model.shs_churn_data_final` \n",
    "#      where  Base_Snapshot_Date = '2023-12-01'\n",
    "# \"\"\" \n",
    "\n",
    "#order by rand() limit 200000 \n",
    "# left join labels by ban + sub level"
   ]
  },
  {
   "cell_type": "code",
   "execution_count": null,
   "id": "ee46c573-8800-4104-a0bc-ab9579d545ee",
   "metadata": {},
   "outputs": [],
   "source": [
    "# def data_prep(main_df,scoring_start_date):\n",
    "#     df=main_df.copy()\n",
    "#     for col in df.columns:\n",
    "#         df[col] = list(df[col])\n",
    "        \n",
    "#     df = df.T.drop_duplicates().T\n",
    "#     bool_cols = ['ADTbT_','ADT_Gazelle_Clients','ADT_FLAG','Contracted__Account_','HasFibreTag', 'HasHP', 'HasHSIA',\n",
    "#                'HasIPTV', 'HasKoodo', 'HasMobility', 'HasPik', 'HasPublic',\n",
    "#                'HasSMHM', 'HasT_Post', 'HasTOS', 'HasTV', 'HasWHP', 'HasWHSIA',\n",
    "#                'HP_CNT', 'HS_CNT','TOS_FLAG','Video_','Data_flag','Best_practices'\n",
    "#             ]\n",
    "#     date_cols = ['Base_Snapshot_Date']\n",
    "#     cat_cols = ['Security_Origin','Cultural_Segment','Installation_Type',\n",
    "#                 'Product_Profile','Province_Grp','Tenure_Month_Groups','Price_Plan_Txt__SHS_',\n",
    "#                'ACQUIRED_FROM','DIY_Activated','price_plan','Acquisition_Source',\n",
    "#                 'Activation_Ts__Month___Year_','bi_chnl_tag_cd','Channel',\n",
    "#                 'Channel__Best_','Channel_Category','CHNL_ORG_TXT__Custom_SQL_Query_',\n",
    "#                 'Commitment_Type','Community','Contract_Expiring_Soon','Contract_Type',\n",
    "#                 'CREDIT_VALUE_CD__group_','Customer_Category','Delivery_Technology',\n",
    "#                 'Delivery_Technology__Account_','POSTAL_CD__Custom_SQL_Query_','Security_Plan_Group',\n",
    "#                 'Tenure_Month_Groups__All_','Tenure_Year_Group','TV_Count','community_nm',\n",
    "#                 'census_subdivision_typ','census_subdivision_desc','prizm_name','social_grp_cd','Security_Plan_Type',\n",
    "#                 'social_grp_nm','lifestage_cd','lifestage_nm','prov_cd','Segment','order_date','munic_nm','chnl_org_txt',\n",
    "#                 'prov_state_cd','Sales_Channel_tag','txn_sub_typ_txt','SLS_ACTVY_TXT','PRICE_PLAN_TXT__Custom_SQL_Query_'\n",
    "               \n",
    "#                ]\n",
    "#     num_cols = ['Epp_Discount_Months','HSLTE_TOTAL', 'IPTV_CNT','KBRAND_BAN_CT','Nho_Discount_Months',\n",
    "#                'avg_income', 'med_income','Login_consistency','Arming_consistency'\n",
    "               \n",
    "#                ]\n",
    "#     num_cols += [col for col in df.columns if '_amt_' in col.lower()]\n",
    "#     target = ['vol']\n",
    "    \n",
    "#     le_dict = {}\n",
    "#     for col in bool_cols+cat_cols:\n",
    "#         # print(col)\n",
    "#         df[col] = df[col].fillna('unknown').astype(str)\n",
    "#         le = LabelEncoder().fit(df[col])\n",
    "#         le_dict[col] = le\n",
    "#         df[col] = le.transform(df[col])\n",
    "#     for col in num_cols:\n",
    "#         df[col] = df[col].fillna(df[col].median()).astype(float)\n",
    "\n",
    "#     other_cols = [col for col in df.columns if col not in bool_cols+date_cols+cat_cols+num_cols+target]\n",
    "#     df.drop(columns=other_cols,axis=1, inplace=True)\n",
    "\n",
    "#     uni_cols=[]\n",
    "#     for col in df.columns:\n",
    "#         if df[col].nunique()==1:\n",
    "#             uni_cols.append(col)\n",
    "#     df.drop(columns=uni_cols,axis=1, inplace=True)\n",
    "#     return df"
   ]
  },
  {
   "cell_type": "code",
   "execution_count": null,
   "id": "9784fd2b",
   "metadata": {
    "tags": []
   },
   "outputs": [],
   "source": [
    "# Pulling data from BigQuery\n",
    "train_df = client.query(trainingSQL).to_dataframe()\n",
    "val_df = client.query(valSQL).to_dataframe()\n",
    "# val_df = val_df.T.drop_duplicates().T\n",
    "test_df = client.query(testSQL).to_dataframe()\n",
    "# test_df = test_df.T.drop_duplicates().T\n",
    "\n",
    "# evaluate_df = client.query(eval_sql).to_dataframe() \n",
    "# testing_df = client.query(test_sql).to_dataframe() \n",
    "# print(train_df.shape,val_df.shape,test_df.shape,evaluate_df.shape,testing_df.shape)\n",
    "# print(train_df.shape,val_df.shape,test_df.shape)\n",
    "\n",
    "print(train_df.shape,val_df.shape,test_df.shape)"
   ]
  },
  {
   "cell_type": "code",
   "execution_count": null,
   "id": "bbb2f97e-18f3-45ca-8ed6-169b67359f51",
   "metadata": {},
   "outputs": [],
   "source": [
    "train_df.columns.values"
   ]
  },
  {
   "cell_type": "code",
   "execution_count": null,
   "id": "b78da9f0-fb9e-4c0c-b6f3-1219ea1af706",
   "metadata": {},
   "outputs": [],
   "source": [
    "# n_train, n_val,n_test = train_df.shape[0], val_df.shape[0], test_df.shape[0] #,evaluate_df.shape[0],testing_df.shape[0]\n",
    "# df = pd.concat([train_df,val_df,test_df,evaluate_df,testing_df],axis=0)\n",
    "# df = pd.concat([train_df,val_df,test_df],axis=0)\n",
    "\n",
    "n_train, n_val, n_test = train_df.shape[0], val_df.shape[0], test_df.shape[0]\n",
    "df = pd.concat([train_df,val_df,test_df],axis=0)"
   ]
  },
  {
   "cell_type": "code",
   "execution_count": null,
   "id": "70fe4733-3f15-41ab-ab5f-026f7bbc7089",
   "metadata": {},
   "outputs": [],
   "source": [
    "del train_df,val_df,test_df  #,,test_df evaluate_df,testing_df\n",
    "gc.collect()"
   ]
  },
  {
   "cell_type": "code",
   "execution_count": null,
   "id": "94f1e410-db3a-4c64-9b87-d195ebc450dd",
   "metadata": {},
   "outputs": [],
   "source": [
    "df.shape"
   ]
  },
  {
   "cell_type": "code",
   "execution_count": null,
   "id": "9de40968-4af2-4eb3-828b-1454d58005f3",
   "metadata": {},
   "outputs": [],
   "source": [
    "for col in df.columns:\n",
    "    df[col] = list(df[col])"
   ]
  },
  {
   "cell_type": "code",
   "execution_count": null,
   "id": "14843a67-5bec-40a7-945d-5d1986691b15",
   "metadata": {},
   "outputs": [],
   "source": [
    "bool_cols = ['ADTbT_','ADT_Gazelle_Clients','ADT_FLAG','Contracted__Account_','HasFibreTag', 'HasHP', 'HasHSIA',\n",
    "               'HasIPTV', 'HasKoodo', 'HasMobility', 'HasPik', 'HasPublic',\n",
    "               'HasSMHM', 'HasT_Post', 'HasTOS', 'HasTV', 'HasWHP', 'HasWHSIA',\n",
    "               'HP_CNT', 'HS_CNT','TOS_FLAG','Video_','Best_practices'    # 'Data_flag',\n",
    "            ]\n",
    "date_cols = ['Base_Snapshot_Date']\n",
    "cat_cols = ['Security_Origin','Cultural_Segment','Installation_Type',\n",
    "            'Product_Profile','Province_Grp','Tenure_Month_Groups','Price_Plan_Txt__SHS_',\n",
    "           'ACQUIRED_FROM','DIY_Activated','Acquisition_Source',   #,'price_plan'\n",
    "            'bi_chnl_tag_cd','Channel',  #'Month_name',\n",
    "            'Channel__Best_','Channel_Category','CHNL_ORG_TXT__Custom_SQL_Query_',\n",
    "            'Commitment_Type','Community','Contract_Expiring_Soon','Contract_Type',\n",
    "            'CREDIT_VALUE_CD__group_','Customer_Category','Delivery_Technology',\n",
    "            'Delivery_Technology__Account_','Security_Plan_Group',   #'POSTAL_CD__Custom_SQL_Query_',\n",
    "            'Tenure_Month_Groups__All_','Tenure_Year_Group','TV_Count','community_nm',\n",
    "            'census_subdivision_typ','census_subdivision_desc','prizm_name','social_grp_cd','Security_Plan_Type',\n",
    "            'social_grp_nm','lifestage_cd','lifestage_nm','prov_cd','munic_nm','chnl_org_txt','Segment',\n",
    "            'prov_state_cd','Sales_Channel_tag','txn_sub_typ_txt','SLS_ACTVY_TXT','PRICE_PLAN_TXT__Custom_SQL_Query_'\n",
    "           \n",
    "           ]\n",
    "num_cols = ['Epp_Discount_Months','HSLTE_TOTAL', 'IPTV_CNT','KBRAND_BAN_CT','avg_income', \n",
    "            'med_income',  'Login_consistency', 'Arming_consistency','days_since_order_date',\n",
    "            'call_cnt_r30d',\n",
    "           'avg_talk_time_r30d', 'avg_hold_time_r30d', 'avg_emp_cnt_r30d',\n",
    "           'avg_esc_cnt_r30d', 'std_talk_time_r30d', 'std_hold_time_r30d',\n",
    "           'std_emp_cnt_r30d', 'std_esc_cnt_r30d', 'sum_talk_time_r30d',\n",
    "           'sum_hold_time_r30d', 'sum_emp_cnt_r30d', 'sum_esc_cnt_r30d',\n",
    "           'max_talk_time_r30d', 'max_hold_time_r30d', 'max_emp_cnt_r30d',\n",
    "           'call_cnt_r30d_smhm', 'avg_talk_time_r30d_smhm',\n",
    "           'avg_hold_time_r30d_smhm', 'avg_emp_cnt_r30d_smhm',\n",
    "           'avg_esc_cnt_r30d_smhm', 'std_talk_time_r30d_smhm',\n",
    "           'std_hold_time_r30d_smhm', 'std_emp_cnt_r30d_smhm',\n",
    "           'std_esc_cnt_r30d_smhm', 'sum_talk_time_r30d_smhm',\n",
    "           'sum_hold_time_r30d_smhm', 'sum_emp_cnt_r30d_smhm',\n",
    "           'sum_esc_cnt_r30d_smhm', 'max_talk_time_r30d_smhm',\n",
    "           'max_hold_time_r30d_smhm', 'max_emp_cnt_r30d_smhm',\n",
    "           'max_esc_cnt_r30d_smhm', 'hs_dl_usg_gb_l12m', 'hs_ul_usg_gb_l12m',\n",
    "           'hs_tot_usg_gb_l12m', 'hs_dl_usg_gb_1', 'hs_ul_usg_gb_1',\n",
    "           'hs_tot_usg_gb_1', 'hs_dl_usg_gb_2', 'hs_ul_usg_gb_2',\n",
    "           'hs_tot_usg_gb_2', 'hs_dl_usg_gb_3', 'hs_ul_usg_gb_3',\n",
    "           'hs_tot_usg_gb_3', 'tckt_cnt', 'dispatch_cnt', 'sev1_cnt',\n",
    "           'sev2_cnt', 'sev3_cnt', 'sev4_cnt', 'sing_cnt', 'hsic_cnt',\n",
    "           'ttv_cnt', 'streamplus_cnt', 'whsia_cnt', 'smhm_cnt', 'tos_cnt',\n",
    "           'livingwell_cnt', 'install_cnt', 'web_portal_cnt', 'billing_cnt',\n",
    "           'qual_cnt', 'facilities_cnt', 'other_cnt', 'days_close_min',\n",
    "           'days_close_max', 'days_close_avg', 'days_resolve_min',\n",
    "           'days_resolve_max', 'days_resolve_avg', 'tot_click_cnt_r30d',\n",
    "           'wls_tot_cnt_r30d', 'wls_plan_cnt_r30d', 'wls_device_cnt_r30d',\n",
    "           'wln_tot_cnt_r30d', 'wln_eligibility_cnt_r30d',\n",
    "           'wln_sing_cnt_r30d', 'wln_hsic_cnt_r30d', 'wln_fibre_cnt_r30d',\n",
    "           'wln_whsia_cnt_r30d', 'wln_wifi_plus_cnt_r30d', 'wln_tv_cnt_r30d',\n",
    "           'wln_optik_cnt_r30d', 'wln_pik_cnt_r30d',\n",
    "           'wln_streamplus_cnt_r30d', 'wln_streaming_cnt_r30d',\n",
    "           'wln_security_cnt_r30d', 'wln_smarthome_security_cnt_r30d',\n",
    "           'wln_online_security_cnt_r30d', 'wln_smartwear_security_cnt_r30d',\n",
    "           'deal_tot_cnt_r30d', 'deal_wls_cnt_r30d', 'deal_wln_cnt_r30d',\n",
    "           'deal_wln_security_cnt_r30d', 'upgr_tot_cnt_r30d',\n",
    "           'upgr_wls_cnt_r30d', 'upgr_wln_cnt_r30d',\n",
    "           'upgr_wln_security_cnt_r30d', 'chg_tot_cnt_r30d',\n",
    "           'chg_wls_cnt_r30d', 'chg_wln_cnt_r30d',\n",
    "           'chg_wln_security_cnt_r30d',\n",
    "               \n",
    "           ]\n",
    "num_cols += [col for col in df.columns if '_amt_' in col.lower()]\n",
    "# target = ['vol_ctr_ind']\n",
    "target = ['vol']\n",
    "\n",
    " # exclude below\n",
    " # data_flag\n",
    " # Login_consistency\n",
    " # Arming_consistency\n",
    " # Best_practices\n",
    " # Month_name\n",
    " # Segment"
   ]
  },
  {
   "cell_type": "code",
   "execution_count": null,
   "id": "6af5259f-08c1-44a6-9058-cfefe7c5ef8f",
   "metadata": {},
   "outputs": [],
   "source": [
    "le_dict = {}\n",
    "for col in bool_cols+cat_cols:\n",
    "    # print(col)\n",
    "    df[col] = df[col].fillna('unknown').astype(str)\n",
    "    le = LabelEncoder().fit(df[col])\n",
    "    le_dict[col] = le\n",
    "    df[col] = le.transform(df[col])\n",
    "    \n",
    "for col in num_cols:\n",
    "    df[col] = df[col].fillna(df[col].median()).astype(float)\n",
    "    \n",
    "other_cols = [col for col in df.columns if col not in bool_cols+cat_cols+num_cols+target and col not in ['call_to_retention_ind','vol','vol_ctr_ind']]\n",
    "df.drop(columns=other_cols,axis=1, inplace=True)\n",
    "uni_cols=[]\n",
    "for col in df.columns:\n",
    "    if col in ['call_to_retention_ind','vol','vol_ctr_ind']: continue\n",
    "    if df[col].nunique()==1:\n",
    "        uni_cols.append(col)\n",
    "df.drop(columns=uni_cols,axis=1, inplace=True)    "
   ]
  },
  {
   "cell_type": "code",
   "execution_count": null,
   "id": "0aee47fe-0df6-44fa-8fb4-a6d4e72866d0",
   "metadata": {},
   "outputs": [],
   "source": [
    "df[target].value_counts()/len(df)"
   ]
  },
  {
   "cell_type": "code",
   "execution_count": null,
   "id": "ec264b5c-37e9-41c1-891a-c89089335562",
   "metadata": {},
   "outputs": [],
   "source": [
    "features = [col for col in df.columns if col not in ['vol','Base_Snapshot_Date','order_date','POSTAL_CD__Custom_SQL_Query_','call_to_retention_ind','vol_ctr_ind']]\n",
    "len(features)"
   ]
  },
  {
   "cell_type": "code",
   "execution_count": null,
   "id": "1535b119-5ebc-4ef2-b8aa-a05a90bd21bf",
   "metadata": {},
   "outputs": [],
   "source": [
    "df_train = df[:n_train]\n",
    "df_val = df[n_train:(n_train+n_val)]\n",
    "df_test = df[(n_train+n_val):(n_train+n_val+n_test)]\n",
    "\n",
    "df_train.shape, df_val.shape, df_test.shape"
   ]
  },
  {
   "cell_type": "code",
   "execution_count": null,
   "id": "2d7f4c64-e8e4-4a2a-b849-49a45dbba3bf",
   "metadata": {},
   "outputs": [],
   "source": [
    "X_train = df_train[features]\n",
    "y_train = list(np.squeeze(df_train[target].values))\n",
    "\n",
    "X_val = df_val[features]\n",
    "y_val = list(np.squeeze(df_val[target].values))\n",
    "\n",
    "X_test = df_test[features]\n",
    "y_test = list(np.squeeze(df_test[target].values))"
   ]
  },
  {
   "cell_type": "code",
   "execution_count": null,
   "id": "dd4e40dd-e912-4667-99e0-8ea06addc0c6",
   "metadata": {},
   "outputs": [],
   "source": [
    "X_train.shape, len(y_train) ,X_val.shape, len(y_val) ,X_test.shape, len(y_test)"
   ]
  },
  {
   "cell_type": "code",
   "execution_count": null,
   "id": "d91d4e05-f6b7-4f10-b9ea-e1ffde2ac3a3",
   "metadata": {},
   "outputs": [],
   "source": [
    "train_data = lgb.Dataset(X_train, label=y_train)\n",
    "val_data = lgb.Dataset(X_val, label=y_val)\n",
    "test_data = lgb.Dataset(X_test, label=y_test)\n",
    "\n",
    "# del X_train, X_val, df_train, df_test, df_val\n",
    "gc.collect()\n",
    "# --- params for Organic\n",
    "# param = {'n_jobs':4,\n",
    "#         'learning_rate':0.02,\n",
    "#         'objective':'binary',\n",
    "#         'num_leaves':32,\n",
    "#         'num_threads':4,\n",
    "#         'max_depth':8,\n",
    "#         'tree_learner':'serial',\n",
    "#         'feature_fraction':0.7,\n",
    "#         'bagging_freq':5,\n",
    "#         'bagging_fraction':0.7,\n",
    "#         'verbose':100,\n",
    "#         \"verbosity\": -1,\n",
    "#         'bagging_seed':11,\n",
    "#         'metric': ['auc', 'binary_logloss'],\n",
    "#         }\n",
    "\n",
    "# ------ params for migrated\n",
    "param = {'n_jobs':4,\n",
    "        'learning_rate':0.05,\n",
    "        'objective':'binary',\n",
    "        'num_leaves':32,\n",
    "        'num_threads':4,\n",
    "        'max_depth':4,\n",
    "        'tree_learner':'serial',\n",
    "        'feature_fraction':0.7,\n",
    "        'bagging_freq':5,\n",
    "        'bagging_fraction':0.7,\n",
    "        'verbose':100,\n",
    "        \"verbosity\": -1,\n",
    "        'bagging_seed':11,\n",
    "        'metric': ['auc', 'binary_logloss'],\n",
    "        }\n",
    "num_round  = 100000\n",
    "model_lgb = lgb.train(param,train_data, num_round, valid_sets=[train_data,val_data],callbacks=[lgb.early_stopping(stopping_rounds=200)])\n"
   ]
  },
  {
   "cell_type": "markdown",
   "id": "4c5b98e5-1b6d-4f3e-bf8b-bb145b2f2bdb",
   "metadata": {},
   "source": [
    "## evaluate model performance\n",
    "\n"
   ]
  },
  {
   "cell_type": "markdown",
   "id": "dbd5fb89-e836-466b-b486-3f20de941e85",
   "metadata": {},
   "source": [
    "### use test set: 2023-12-01. "
   ]
  },
  {
   "cell_type": "code",
   "execution_count": null,
   "id": "2a4fe95d-941d-40bf-b54a-8c077537cf39",
   "metadata": {},
   "outputs": [],
   "source": [
    "pred_probs_lgb = model_lgb.predict(X_test,num_iteration=model_lgb.best_iteration)"
   ]
  },
  {
   "cell_type": "code",
   "execution_count": null,
   "id": "b41aa678-3f7e-4f88-bdbd-9d1566d52749",
   "metadata": {},
   "outputs": [],
   "source": [
    "def get_lift(prob, y_test, q):\n",
    "    result = pd.DataFrame(columns=['Prob', 'Churn'])\n",
    "    result['Prob'] = prob\n",
    "    result['Churn'] = y_test\n",
    "    # result['Decile'] = pd.qcut(1-result['Prob'], 10, labels = False)\n",
    "    result['Decile'] = pd.qcut(result['Prob'], q, labels=[i for i in range(q, 0, -1)])\n",
    "    add = pd.DataFrame(result.groupby('Decile')['Churn'].mean()).reset_index()\n",
    "    add.columns = ['Decile', 'avg_real_churn_rate']\n",
    "    result = result.merge(add, on='Decile', how='left')\n",
    "    result.sort_values('Decile', ascending=True, inplace=True)\n",
    "    lg = pd.DataFrame(result.groupby('Decile')['Prob'].mean()).reset_index()\n",
    "    lg.columns = ['Decile', 'avg_model_pred_churn_rate']\n",
    "    lg.sort_values('Decile', ascending=False, inplace=True)\n",
    "    lg['avg_churn_rate_total'] = result['Churn'].mean()\n",
    "    lg['total_churn'] = result['Churn'].sum()\n",
    "    lg = lg.merge(add, on='Decile', how='left')\n",
    "    lg['lift'] = lg['avg_real_churn_rate'] / lg['avg_churn_rate_total']\n",
    "    \n",
    "    return lg\n",
    "    \n",
    "def calculate_lift(y_true, y_pred, n_bins=10):\n",
    "    # Create a DataFrame with y_true and y_pred\n",
    "    data = pd.DataFrame({'y_true': y_true, 'y_pred': y_pred})\n",
    "\n",
    "    # Sort the DataFrame by y_pred in descending order\n",
    "    data = data.sort_values(by='y_pred', ascending=False)\n",
    "\n",
    "    # Calculate the base rate\n",
    "    base_rate = np.mean(y_true)\n",
    "\n",
    "    # Calculate the lift\n",
    "    data['cumulative_positive'] = data['y_true'].cumsum()\n",
    "    data['cumulative_total'] = np.arange(1, len(data) + 1)\n",
    "    data['cumulative_rate'] = data['cumulative_positive'] / data['cumulative_total']\n",
    "    data['lift'] = data['cumulative_rate'] / base_rate\n",
    "\n",
    "    # Calculate lift for each bin\n",
    "    data['bin'] = pd.qcut(data['cumulative_total'], n_bins, labels=False)\n",
    "    lift_by_bin = data.groupby('bin')['lift'].mean()\n",
    "\n",
    "    return lift_by_bin\n"
   ]
  },
  {
   "cell_type": "code",
   "execution_count": null,
   "id": "a219600f-092f-475b-b173-f532eae22abe",
   "metadata": {},
   "outputs": [],
   "source": [
    "lg = get_lift(pred_probs_lgb,y_test,10)\n",
    "sns.barplot(x='Decile',y='lift',data=lg)\n",
    "lg"
   ]
  },
  {
   "cell_type": "code",
   "execution_count": null,
   "id": "eb784db8-5d52-4755-b93d-e8ea34ce6beb",
   "metadata": {},
   "outputs": [],
   "source": [
    "plotImp(model_lgb, X_train,figsize=(15,8), num=50)"
   ]
  },
  {
   "cell_type": "markdown",
   "id": "0441f8c4-f52a-4559-b293-342411191ca2",
   "metadata": {},
   "source": [
    "### predict on Nov and Dec clients and evaluate with Jan the same clients"
   ]
  },
  {
   "cell_type": "code",
   "execution_count": null,
   "id": "ee39dd04-1d9e-4b6c-a72b-846a429e3835",
   "metadata": {},
   "outputs": [],
   "source": [
    "sql_1 = f\"\"\"\n",
    "select distinct * except(invol, churn,Sales_Agent_ID,src_usr_chnl_txt,order_date,POSTAL_CD__Custom_SQL_Query_) from `divg-team-v03-pr-de558a.shs_churn_model.shs_churn_data_final_Nov_2023`\n",
    "     where  Base_Snapshot_Date = '2023-11-01' and security_origin='Organic'\n",
    "\"\"\"\n",
    "\n",
    "sql_2 = f\"\"\"\n",
    "select distinct * except(invol, churn,Sales_Agent_ID,src_usr_chnl_txt,order_date,POSTAL_CD__Custom_SQL_Query_) from `divg-team-v03-pr-de558a.shs_churn_model.shs_churn_data_final_Dec_2023`\n",
    "     where  Base_Snapshot_Date = '2023-12-01' and security_origin='Organic'\n",
    "\"\"\"\n",
    "\n",
    "sql_3 = f\"\"\"\n",
    "select distinct * except(invol, churn,Sales_Agent_ID,src_usr_chnl_txt,order_date,POSTAL_CD__Custom_SQL_Query_) from `divg-team-v03-pr-de558a.shs_churn_model.shs_churn_data_final_Jan_2024` \n",
    "     where  Base_Snapshot_Date = '2024-01-01' and security_origin='Organic'\n",
    "\"\"\""
   ]
  },
  {
   "cell_type": "code",
   "execution_count": null,
   "id": "44b20764-9338-4ddf-b157-5e438247cd81",
   "metadata": {},
   "outputs": [],
   "source": [
    "sql_1 = f\"\"\"\n",
    "select distinct * except(invol, churn,Sales_Agent_ID,src_usr_chnl_txt,order_date,POSTAL_CD__Custom_SQL_Query_) from `divg-team-v03-pr-de558a.shs_churn_model.shs_churn_data_final_Nov_2023`\n",
    "     where  Base_Snapshot_Date = '2023-11-01'\n",
    "\"\"\"\n",
    "\n",
    "sql_2 = f\"\"\"\n",
    "select distinct * except(invol, churn,Sales_Agent_ID,src_usr_chnl_txt,order_date,POSTAL_CD__Custom_SQL_Query_) from `divg-team-v03-pr-de558a.shs_churn_model.shs_churn_data_final_Dec_2023`\n",
    "     where  Base_Snapshot_Date = '2023-12-01'\n",
    "\"\"\"\n",
    "\n",
    "sql_3 = f\"\"\"\n",
    "select distinct * except(invol, churn,Sales_Agent_ID,src_usr_chnl_txt,order_date,POSTAL_CD__Custom_SQL_Query_) from `divg-team-v03-pr-de558a.shs_churn_model.shs_churn_data_final_Jan_2024` \n",
    "     where  Base_Snapshot_Date = '2024-01-01'\n",
    "\"\"\""
   ]
  },
  {
   "cell_type": "code",
   "execution_count": null,
   "id": "73b51dde-2c81-48a0-97fa-f99c856eb5fe",
   "metadata": {},
   "outputs": [],
   "source": [
    "client = get_gcp_bqclient(proj_id, use_local_credential=True)"
   ]
  },
  {
   "cell_type": "code",
   "execution_count": null,
   "id": "93a8a394-3233-4ebc-b8c6-5e932f20f0f4",
   "metadata": {},
   "outputs": [],
   "source": [
    "# df_nov = client.query(sql_1).to_dataframe()\n",
    "df_dec = client.query(sql_2).to_dataframe()\n",
    "df_jan= client.query(sql_3).to_dataframe()"
   ]
  },
  {
   "cell_type": "code",
   "execution_count": null,
   "id": "37fa5fbf-15d5-4e8d-8cac-5b90c9511f8d",
   "metadata": {},
   "outputs": [],
   "source": [
    "# df_nov = df_nov.drop_duplicates(subset=['Bus_Billing_Account_Num'], keep='first')\n",
    "df_dec = df_dec.drop_duplicates(subset=['Bus_Billing_Account_Num'], keep='first')\n",
    "df_jan = df_jan.drop_duplicates(subset=['Bus_Billing_Account_Num'], keep='first')"
   ]
  },
  {
   "cell_type": "code",
   "execution_count": null,
   "id": "e8c1b7e7-7a0c-42b9-be6f-d6e1975d2a23",
   "metadata": {},
   "outputs": [],
   "source": [
    "# df_nov.shape\n",
    "df_dec.shape,df_jan.shape"
   ]
  },
  {
   "cell_type": "code",
   "execution_count": null,
   "id": "6a6455d5-fdb2-46e2-b8f8-edbf00f57660",
   "metadata": {},
   "outputs": [],
   "source": [
    "# df_nov['Bus_Billing_Account_Num'].nunique()==len(df_nov),\n",
    "df_dec['Bus_Billing_Account_Num'].nunique()==len(df_dec),df_jan['Bus_Billing_Account_Num'].nunique()==len(df_jan)"
   ]
  },
  {
   "cell_type": "code",
   "execution_count": null,
   "id": "13396ea8-d2c2-452d-9715-21bb1c9fc9d3",
   "metadata": {},
   "outputs": [],
   "source": [
    "for col in df_dec.columns:\n",
    "    # df_nov[col] = list(df_nov[col])\n",
    "    df_dec[col] = list(df_dec[col])\n",
    "    df_jan[col] = list(df_jan[col])"
   ]
  },
  {
   "cell_type": "code",
   "execution_count": null,
   "id": "e83ce54c-d58a-4a23-92df-bf8eb98b4081",
   "metadata": {},
   "outputs": [],
   "source": [
    "# # ban_nov = list(df_nov['Bus_Billing_Account_Num'].unique())\n",
    "# ban_dec = list(df_dec['Bus_Billing_Account_Num'].unique())\n",
    "# ban_jan = list(df_jan['Bus_Billing_Account_Num'].unique())\n",
    "\n",
    "# # ban_common = set(ban_nov).intersection(set(ban_dec))\n",
    "# ban_common = set(ban_dec)\n",
    "# ban_common = set(ban_common).intersection(set(ban_jan))\n",
    "\n",
    "# # ban_common = [ban for ban in ban_nov if ban in ban_dec and ban in ban_jan]\n",
    "# # len(ban_nov),len(ban_dec),len(ban_jan),\n",
    "\n",
    "# len(ban_common)"
   ]
  },
  {
   "cell_type": "code",
   "execution_count": null,
   "id": "36633d5e-e613-4ca3-ae06-d18b44755fcd",
   "metadata": {},
   "outputs": [],
   "source": [
    "# # df_nov = df_nov.loc[df_nov['Bus_Billing_Account_Num'].isin(list(ban_common))]\n",
    "# df_dec = df_dec.loc[df_dec['Bus_Billing_Account_Num'].isin(list(ban_common))]\n",
    "# df_jan = df_jan.loc[df_jan['Bus_Billing_Account_Num'].isin(list(ban_common))]\n",
    "# # len(df_nov),len(df_dec),len(df_jan)\n",
    "\n",
    "# # len(df_nov),\n",
    "# len(df_dec),len(df_jan)"
   ]
  },
  {
   "cell_type": "code",
   "execution_count": null,
   "id": "441340bc-34d4-4841-a118-f3ec9f3d1825",
   "metadata": {},
   "outputs": [],
   "source": [
    "# df_dec=df_dec.merge(df_jan[['Bus_Billing_Account_Num','vol']],on='Bus_Billing_Account_Num',how='left')"
   ]
  },
  {
   "cell_type": "code",
   "execution_count": null,
   "id": "76107861-507c-47c3-9b54-e2ca610ed90a",
   "metadata": {
    "tags": []
   },
   "outputs": [],
   "source": [
    "# df_dec['vol_x'].value_counts()"
   ]
  },
  {
   "cell_type": "code",
   "execution_count": null,
   "id": "555653d5-793c-4995-bc7f-4e00282f766c",
   "metadata": {},
   "outputs": [],
   "source": [
    "# df_dec['vol_y'].value_counts()"
   ]
  },
  {
   "cell_type": "code",
   "execution_count": null,
   "id": "c76d3ba4-c6ce-45e3-971b-5d09e177c096",
   "metadata": {},
   "outputs": [],
   "source": [
    "# # y_true_nov = list(np.squeeze(df_nov['vol_x'].values)) #nov label\n",
    "# # y_true_dec = list(np.squeeze(df_nov['vol_y'].values))  # dec label\n",
    "\n",
    "# y_true_jan = list(np.squeeze(df_dec['vol_y'].values))  # jan label\n",
    "\n",
    "# # len(y_true_nov),len(y_true_dec),\n",
    "\n",
    "# len(y_true_jan)"
   ]
  },
  {
   "cell_type": "code",
   "execution_count": null,
   "id": "3d7bf37d-5fee-4f37-8b28-50663ee4788d",
   "metadata": {},
   "outputs": [],
   "source": [
    "y_true_dec = list(np.squeeze(df_dec['vol'].values)) \n",
    "y_true_jan = list(np.squeeze(df_jan['vol'].values))\n",
    "\n",
    "print(len(y_true_dec))\n",
    "print(len(y_true_jan))"
   ]
  },
  {
   "cell_type": "code",
   "execution_count": null,
   "id": "a149aab3-7f29-4fc6-87d8-7b26381a8507",
   "metadata": {},
   "outputs": [],
   "source": [
    "le_dict"
   ]
  },
  {
   "cell_type": "code",
   "execution_count": null,
   "id": "d366aba1-d194-4550-a370-b069ded46bea",
   "metadata": {},
   "outputs": [],
   "source": [
    "le_dict_cp = le_dict.copy()"
   ]
  },
  {
   "cell_type": "code",
   "execution_count": null,
   "id": "30aac861-df39-4dfb-a55d-b6d91dc0617a",
   "metadata": {},
   "outputs": [],
   "source": [
    "def preprocessing(df,le_dict_cp):\n",
    "    df_ = df.copy()\n",
    "    for col in bool_cols+cat_cols:\n",
    "        # if col in ['order_date','price_plan','POSTAL_CD__Custom_SQL_Query_','std_emp_cnt_r30d_smhm','std_talk_time_r30d_smhm', 'livingwell_cnt', 'facilities_cnt', 'upgr_wln_security_cnt_r30d','streamplus_cnt']: continue\n",
    "        print(col, end=' ')\n",
    "        df_[col] = df_[col].fillna('unknown').astype(str)\n",
    "        # a = set(np.array(le_dict[col].classes_))\n",
    "        a = set(le_dict_cp[col].classes_)\n",
    "        # print('before',a)        \n",
    "        b = set(df_[col].unique())\n",
    "        new_x = a^b\n",
    "        a.update(new_x)\n",
    "        le_dict_cp[col].classes_ = np.array(a)\n",
    "        df_[col] = le_dict_cp[col].fit_transform(df_[col])\n",
    "    \n",
    "    for col in num_cols:\n",
    "        df_[col] = df_[col].fillna(df_[col].median()).astype(float)\n",
    "        \n",
    "    other_cols = [col for col in df_.columns if col not in bool_cols+cat_cols+num_cols+target]\n",
    "     # and col not in ['call_to_retention_ind','vol','vol_ctr_ind','std_emp_cnt_r30d_smhm','std_talk_time_r30d_smhm', 'livingwell_cnt', 'facilities_cnt', 'upgr_wln_security_cnt_r30d','streamplus_cnt']\n",
    "    other_cols = [col for col in other_cols if col not in features]\n",
    "    df_.drop(columns=other_cols,axis=1, inplace=True)\n",
    "    uni_cols=[]\n",
    "    for col in df_.columns:\n",
    "        # if col in ['call_to_retention_ind','vol','vol_ctr_ind','std_emp_cnt_r30d_smhm','std_talk_time_r30d_smhm', 'livingwell_cnt', 'facilities_cnt', 'upgr_wln_security_cnt_r30d','streamplus_cnt']: continue\n",
    "        if df_[col].nunique()==1:\n",
    "            uni_cols.append(col)\n",
    "    uni_cols = [col for col in uni_cols if col not in features]\n",
    "    df_.drop(columns=uni_cols,axis=1, inplace=True)  \n",
    "    return df_"
   ]
  },
  {
   "cell_type": "code",
   "execution_count": null,
   "id": "07813028-a15f-4eca-9ce2-09afb3c7a4d2",
   "metadata": {},
   "outputs": [],
   "source": [
    "# df_nov_processed = preprocessing(df_nov,le_dict_cp)\n",
    "\n",
    "df_dec_processed = preprocessing(df_dec,le_dict_cp)\n",
    "df_jan_processed = preprocessing(df_jan,le_dict_cp)"
   ]
  },
  {
   "cell_type": "code",
   "execution_count": null,
   "id": "a9ebb0c1-a20b-401b-869f-69e2ff4ad92d",
   "metadata": {},
   "outputs": [],
   "source": [
    "# X_test_nov = df_nov_processed[features]\n",
    "\n",
    "X_test_dec = df_dec_processed[features]\n",
    "X_test_jan = df_jan_processed[features]"
   ]
  },
  {
   "cell_type": "code",
   "execution_count": null,
   "id": "c8ec89f2-6c92-4019-a61b-5fba4ed95b8d",
   "metadata": {},
   "outputs": [],
   "source": [
    "# y_pred_nov = model_lgb.predict(X_test_nov,num_iteration=model_lgb.best_iteration)\n",
    "y_pred_dec = model_lgb.predict(X_test_dec,num_iteration=model_lgb.best_iteration)\n",
    "y_pred_jan = model_lgb.predict(X_test_jan,num_iteration=model_lgb.best_iteration)"
   ]
  },
  {
   "cell_type": "code",
   "execution_count": null,
   "id": "40114faf-e780-4eaf-ad0b-1edae4da21b6",
   "metadata": {},
   "outputs": [],
   "source": []
  },
  {
   "cell_type": "code",
   "execution_count": null,
   "id": "4c333e43-b3a4-426c-9ac2-be29aaed55da",
   "metadata": {},
   "outputs": [],
   "source": [
    "# lg_1 = get_lift(y_pred_nov,y_true_jan,10)\n",
    "# sns.barplot(x='Decile',y='lift',data=lg_1)\n",
    "# lg_1"
   ]
  },
  {
   "cell_type": "code",
   "execution_count": null,
   "id": "466f44e0-b0a5-4fb7-a699-886f8f08ada9",
   "metadata": {},
   "outputs": [],
   "source": [
    "lg_2 = get_lift(y_pred_dec,y_true_dec,20)\n",
    "sns.barplot(x='Decile',y='lift',data=lg_2)\n",
    "lg_2"
   ]
  },
  {
   "cell_type": "code",
   "execution_count": null,
   "id": "3d998552-1991-4edb-ab15-1ec56a0cecee",
   "metadata": {},
   "outputs": [],
   "source": [
    "lg_2 = get_lift(y_pred_dec,y_true_dec,10)\n",
    "sns.barplot(x='Decile',y='lift',data=lg_2)\n",
    "lg_2"
   ]
  },
  {
   "cell_type": "code",
   "execution_count": null,
   "id": "7c9346d2-992f-49f8-b712-87b37b6b13b7",
   "metadata": {},
   "outputs": [],
   "source": [
    "lg_3 = get_lift(y_pred_jan,y_true_jan,10)\n",
    "sns.barplot(x='Decile',y='lift',data=lg_3)\n",
    "lg_3"
   ]
  },
  {
   "cell_type": "code",
   "execution_count": null,
   "id": "3d5d5ad3-f7e2-46b8-8c02-824df89ef43d",
   "metadata": {},
   "outputs": [],
   "source": []
  },
  {
   "cell_type": "code",
   "execution_count": null,
   "id": "e328011e-3a45-4b5a-93b9-db4fa84a18e0",
   "metadata": {},
   "outputs": [],
   "source": []
  },
  {
   "cell_type": "code",
   "execution_count": null,
   "id": "f7b772d0-c1fa-4566-a57e-c664ee113722",
   "metadata": {},
   "outputs": [],
   "source": []
  },
  {
   "cell_type": "code",
   "execution_count": null,
   "id": "88579f85-f800-486b-b6b4-17d60cef4d47",
   "metadata": {},
   "outputs": [],
   "source": [
    "from sklearn.metrics import f1_score"
   ]
  },
  {
   "cell_type": "code",
   "execution_count": null,
   "id": "2a0c13eb-8d23-4e9e-9c7b-d52e000e996e",
   "metadata": {},
   "outputs": [],
   "source": []
  },
  {
   "cell_type": "code",
   "execution_count": null,
   "id": "4e493396-0240-4083-92cf-268ce72c27c9",
   "metadata": {},
   "outputs": [],
   "source": [
    "df_ = X_train.copy()\n",
    "df_['target'] = y_train\n",
    "corr_df = df_.corr()['target']\n",
    "corr_df=corr_df.sort_values(ascending=False)\n",
    "corr_df"
   ]
  },
  {
   "cell_type": "code",
   "execution_count": null,
   "id": "cdcdf164-230c-4784-8735-f61c82374814",
   "metadata": {},
   "outputs": [],
   "source": [
    "corr_df.head(20)"
   ]
  },
  {
   "cell_type": "code",
   "execution_count": null,
   "id": "703ae3e6-4fd6-4d2a-a8d2-f95d83ab666d",
   "metadata": {},
   "outputs": [],
   "source": [
    "feature_imp = pd.DataFrame({'Value':model_lgb.feature_importance(),'Feature':X_train.columns})\n",
    "feature_imp.sort_values(by=\"Value\", ascending=False,inplace=True)"
   ]
  },
  {
   "cell_type": "code",
   "execution_count": null,
   "id": "827fce6b-6875-43c8-97fb-32c7b97360f4",
   "metadata": {},
   "outputs": [],
   "source": [
    "importances = model_lgb.feature_importance()\n",
    "\n",
    "# Get the index of importances from greatest importance to least\n",
    "sorted_index = np.argsort(importances)[::-1]\n",
    "x = range(len(importances))\n",
    "\n",
    "feature_names = X_train.columns\n",
    "\n",
    "# Create tick labels \n",
    "labels = np.array(feature_names)[sorted_index]\n",
    "\n",
    "for idx in sorted_index: \n",
    "    print(f'{feature_names[idx]}, {importances[idx]}', end='\\n')"
   ]
  },
  {
   "cell_type": "code",
   "execution_count": null,
   "id": "8701ad5e-6c4c-4d32-bf47-9e98bab22a60",
   "metadata": {},
   "outputs": [],
   "source": [
    "feature_imp.loc[feature_imp.Value>30].head(20)"
   ]
  },
  {
   "cell_type": "code",
   "execution_count": null,
   "id": "1fc0fcc3-7ad7-4c06-b955-51b6e2aea29d",
   "metadata": {},
   "outputs": [],
   "source": [
    "feature_imp.loc[feature_imp.Value>60]['Feature'].values"
   ]
  },
  {
   "cell_type": "code",
   "execution_count": null,
   "id": "50258470-7c03-46e7-8c2b-e79bb745ed39",
   "metadata": {},
   "outputs": [],
   "source": []
  },
  {
   "cell_type": "code",
   "execution_count": null,
   "id": "96ef7338-6aab-478f-8283-2683e286e0ec",
   "metadata": {},
   "outputs": [],
   "source": []
  }
 ],
 "metadata": {
  "kernelspec": {
   "display_name": "Python 3 (ipykernel)",
   "language": "python",
   "name": "python3"
  },
  "language_info": {
   "codemirror_mode": {
    "name": "ipython",
    "version": 3
   },
   "file_extension": ".py",
   "mimetype": "text/x-python",
   "name": "python",
   "nbconvert_exporter": "python",
   "pygments_lexer": "ipython3",
   "version": "3.7.12"
  }
 },
 "nbformat": 4,
 "nbformat_minor": 5
}
