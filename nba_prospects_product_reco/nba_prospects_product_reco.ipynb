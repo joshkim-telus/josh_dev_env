{
 "cells": [
  {
   "cell_type": "code",
   "execution_count": null,
   "id": "c259e2c8-b4e2-492b-a36e-eecbee7c836e",
   "metadata": {},
   "outputs": [],
   "source": [
    "# import global modules\n",
    "import os\n",
    "import re\n",
    "import sys\n",
    "import time\n",
    "import json\n",
    "import pickle\n",
    "import numpy as np\n",
    "import pandas as pd\n",
    "from pathlib import Path\n",
    "from yaml import safe_load\n",
    "import matplotlib.pyplot as plt\n",
    "from sklearn.model_selection import train_test_split\n",
    "\n",
    "# Set global vars\n",
    "pth_project = Path(os.getcwd().split('notebooks')[0])\n",
    "pth_data = pth_project / 'data'\n",
    "pth_utils = pth_project / 'utils'\n",
    "pth_queries = pth_project / 'queries'\n",
    "pth_creds = pth_project / 'conf' / 'local' / 'project_config.yaml'\n",
    "sys.path.insert(0, pth_project.as_posix())\n",
    "d_config = safe_load(pth_creds.open())\n",
    "\n",
    "# import local modules\n",
    "from utils.gcp import connect_bq_services, connect_pandas_bq_services\n",
    "from utils.etl.extract import extract_bq_data\n",
    "from utils.modeling import extract_stats, process_hs_features"
   ]
  },
  {
   "cell_type": "code",
   "execution_count": null,
   "id": "c02fbb06-d292-414c-8201-5790ad36727b",
   "metadata": {},
   "outputs": [],
   "source": [
    "import os\n",
    "from pathlib import Path\n",
    "\n",
    "Path(os.getcwd().split('notebooks')[0])"
   ]
  },
  {
   "cell_type": "code",
   "execution_count": null,
   "id": "5f65b9d6-2a01-4f40-954f-7ea6bc7d67b8",
   "metadata": {},
   "outputs": [],
   "source": [
    "bq_client = connect_bq_services(d_config['gcp-project-name'])"
   ]
  },
  {
   "cell_type": "code",
   "execution_count": null,
   "id": "3cdd5e07-9d11-4344-82fa-f83aef8796b6",
   "metadata": {},
   "outputs": [],
   "source": [
    "%load_ext autoreload\n",
    "%autoreload 2"
   ]
  },
  {
   "cell_type": "markdown",
   "id": "5ef17630-d566-4439-af14-a6ec78615b9f",
   "metadata": {},
   "source": [
    "#### Extract data"
   ]
  },
  {
   "cell_type": "code",
   "execution_count": null,
   "id": "b09f90d9-d340-40e7-aefd-8cf7b9b20829",
   "metadata": {},
   "outputs": [],
   "source": [
    "sql = \"select * from `adna-nlp-pr-92330e.mob_nba.master_mob_features_set_test_prospects`\""
   ]
  },
  {
   "cell_type": "code",
   "execution_count": null,
   "id": "4545c23b-883d-4e4b-b60d-b6b3c8c36406",
   "metadata": {},
   "outputs": [],
   "source": [
    "df = extract_bq_data(bq_client, sql)\n",
    "df.shape"
   ]
  },
  {
   "cell_type": "code",
   "execution_count": null,
   "id": "e097f2de-b57a-4285-9169-50bb0711ab35",
   "metadata": {},
   "outputs": [],
   "source": [
    "pd.options.display.max_columns = None\n",
    "df"
   ]
  },
  {
   "cell_type": "code",
   "execution_count": null,
   "id": "2bcfdc48-5abd-48d6-a64b-bb179c47ffa9",
   "metadata": {},
   "outputs": [],
   "source": [
    "df['cust_prov_state_cd'].value_counts()"
   ]
  },
  {
   "cell_type": "code",
   "execution_count": null,
   "id": "ff024c06-2319-494f-a828-cb1170f7d68a",
   "metadata": {},
   "outputs": [],
   "source": [
    "df['model_scenario'].value_counts()"
   ]
  },
  {
   "cell_type": "markdown",
   "id": "4b2ba497-beaa-421d-a5b0-147cbd475121",
   "metadata": {},
   "source": [
    "#### Process data"
   ]
  },
  {
   "cell_type": "code",
   "execution_count": null,
   "id": "965e67ea-d72c-49a9-a176-1789653439ad",
   "metadata": {},
   "outputs": [],
   "source": [
    "# load features metadata\n",
    "d_model_config = safe_load((pth_utils / 'parameters' / 'mob_features.yaml').open())"
   ]
  },
  {
   "cell_type": "code",
   "execution_count": null,
   "id": "a3fc9624-f5d8-49d0-bf33-a81a5f27961d",
   "metadata": {},
   "outputs": [],
   "source": [
    "l_target_name = [target['name'] for target in d_model_config['target_variables']]\n",
    "l_target_name"
   ]
  },
  {
   "cell_type": "code",
   "execution_count": null,
   "id": "8b42632e-8806-4f24-9e25-61be7477a81f",
   "metadata": {},
   "outputs": [],
   "source": [
    "d_target_mapping = {\n",
    "    target['name']: target['class_index']\n",
    "    for target in d_model_config['target_variables']\n",
    "}\n",
    "d_target_mapping"
   ]
  },
  {
   "cell_type": "code",
   "execution_count": null,
   "id": "7bacc8ca-7ebc-4471-ba98-cc9faaeab770",
   "metadata": {},
   "outputs": [],
   "source": [
    "df_target = df[df['model_scenario'].isin(l_target_name)]"
   ]
  },
  {
   "cell_type": "code",
   "execution_count": null,
   "id": "e78b9577-ba61-4dc5-81d0-10f663112a3c",
   "metadata": {},
   "outputs": [],
   "source": [
    "df_train = df_target[df_target['split_type'] == '1-train']\n",
    "df_val = df_target[df_target['split_type'] == '2-val']\n",
    "df_test = df_target[df_target['split_type'] == '3-test']"
   ]
  },
  {
   "cell_type": "code",
   "execution_count": null,
   "id": "5afefa61-fcfe-42f7-bbb2-acfe16b39a96",
   "metadata": {},
   "outputs": [],
   "source": [
    "# process training data\n",
    "df_train_processed = process_hs_features(df_train, d_model_config, training_mode=True, target_name='model_scenario')\n",
    "df_validation_processed = process_hs_features(df_val, d_model_config, training_mode=True, target_name='model_scenario')\n",
    "df_test_processed = process_hs_features(df_test, d_model_config, training_mode=True, target_name='model_scenario')"
   ]
  },
  {
   "cell_type": "code",
   "execution_count": null,
   "id": "85d3b99d-354a-4e7f-b390-c612b636b6f6",
   "metadata": {},
   "outputs": [],
   "source": [
    "print(df_train_processed.shape)\n",
    "print(df_validation_processed.shape)\n",
    "print(df_test_processed.shape)"
   ]
  },
  {
   "cell_type": "markdown",
   "id": "04aa5cc0-74c0-49e9-a5df-3c5b7f822efd",
   "metadata": {},
   "source": [
    "#### Split data"
   ]
  },
  {
   "cell_type": "code",
   "execution_count": null,
   "id": "e385af35-a837-4f3c-beec-aa06b5a1b7c9",
   "metadata": {},
   "outputs": [],
   "source": [
    "# Separate the features and target variable\n",
    "X_train = df_train_processed.drop(columns='target')\n",
    "y_train = df_train_processed['target']\n",
    "\n",
    "X_val = df_validation_processed.drop(columns='target')\n",
    "y_val = df_validation_processed['target']\n",
    "\n",
    "X_test = df_test_processed.drop(columns='target')\n",
    "y_test = df_test_processed['target']"
   ]
  },
  {
   "cell_type": "markdown",
   "id": "9a3052d2-5fa2-4e0e-a54d-05b413e7b0c9",
   "metadata": {
    "tags": []
   },
   "source": [
    "#### XGBoost"
   ]
  },
  {
   "cell_type": "code",
   "execution_count": null,
   "id": "0fd0bfe9-9af2-4752-afa5-8639f65d8946",
   "metadata": {},
   "outputs": [],
   "source": [
    "#!pip install xgboost\n",
    "import xgboost as xgb"
   ]
  },
  {
   "cell_type": "code",
   "execution_count": null,
   "id": "2f2f3e49-e254-4154-a9f3-b98d05e5ffab",
   "metadata": {},
   "outputs": [],
   "source": [
    "xgb_model = xgb.XGBClassifier()\n",
    "xgb_model.fit(\n",
    "    X_train, y_train,\n",
    "    eval_set=[(X_test, y_test)]\n",
    ")"
   ]
  },
  {
   "cell_type": "code",
   "execution_count": null,
   "id": "85bdfcf6-0a7f-4aac-bc6d-8a2147e4ad7a",
   "metadata": {},
   "outputs": [],
   "source": [
    "n= 3\n",
    "probabilities =  xgb_model.predict_proba(X_val)\n",
    "results_ranked = np.argsort(-probabilities, axis=1)\n",
    "display(extract_stats(n, results_ranked, y_val, d_target_mapping))"
   ]
  },
  {
   "cell_type": "code",
   "execution_count": null,
   "id": "98be694e-884e-4e56-9547-c28ba85e30a5",
   "metadata": {},
   "outputs": [],
   "source": [
    "n= 3\n",
    "probabilities =  xgb_model.predict_proba(X_test)\n",
    "results_ranked = np.argsort(-probabilities, axis=1)\n",
    "display(extract_stats(n, results_ranked, y_test, d_target_mapping))"
   ]
  },
  {
   "cell_type": "markdown",
   "id": "dd43946f-f717-4724-93d2-4d8e545d5629",
   "metadata": {},
   "source": [
    "#### Features importance"
   ]
  },
  {
   "cell_type": "code",
   "execution_count": null,
   "id": "39d8932c-7c10-4743-9826-3169fd6ff087",
   "metadata": {},
   "outputs": [],
   "source": [
    "# Retrieve feature importance scores\n",
    "importance_scores = xgb_model.feature_importances_\n",
    "feature_names = X_train.columns\n",
    "\n",
    "# Sort feature importance scores and feature names in descending order\n",
    "sorted_indices = importance_scores.argsort()\n",
    "sorted_scores = importance_scores[sorted_indices][-30:]\n",
    "sorted_names = feature_names[sorted_indices][-30:]\n",
    "\n",
    "# Plot feature importance\n",
    "plt.figure(figsize=(8, 8))\n",
    "plt.barh(range(len(sorted_scores)), sorted_scores)\n",
    "plt.yticks(range(len(sorted_scores)), sorted_names)\n",
    "plt.xlabel('Importance Score')\n",
    "plt.ylabel('Features')\n",
    "plt.title('Feature Importance')\n",
    "plt.show()"
   ]
  },
  {
   "cell_type": "code",
   "execution_count": null,
   "id": "deeae7fe-ae38-4680-9dae-d04fc4ade8f2",
   "metadata": {},
   "outputs": [],
   "source": []
  }
 ],
 "metadata": {
  "environment": {
   "kernel": "python3",
   "name": ".m117",
   "type": "gcloud",
   "uri": "us-docker.pkg.dev/deeplearning-platform-release/gcr.io/:m117"
  },
  "kernelspec": {
   "display_name": "Python 3 (ipykernel)",
   "language": "python",
   "name": "python3"
  },
  "language_info": {
   "codemirror_mode": {
    "name": "ipython",
    "version": 3
   },
   "file_extension": ".py",
   "mimetype": "text/x-python",
   "name": "python",
   "nbconvert_exporter": "python",
   "pygments_lexer": "ipython3",
   "version": "3.7.12"
  }
 },
 "nbformat": 4,
 "nbformat_minor": 5
}
