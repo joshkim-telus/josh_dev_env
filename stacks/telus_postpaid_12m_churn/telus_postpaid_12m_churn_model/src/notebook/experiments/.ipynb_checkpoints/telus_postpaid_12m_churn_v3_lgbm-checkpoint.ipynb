{
 "cells": [
  {
   "cell_type": "code",
   "execution_count": null,
   "id": "7d2d580a",
   "metadata": {},
   "outputs": [],
   "source": [
    "# Importing libraries\n",
    "import pickle\n",
    "import os\n",
    "import re\n",
    "import gc\n",
    "import datetime\n",
    "import numpy as np\n",
    "import pandas as pd\n",
    "import xgboost as xgb\n",
    "import lightgbm as lgb\n",
    "from google.cloud import bigquery\n",
    "from matplotlib import pyplot as plt\n",
    "import google.oauth2.credentials\n",
    "from google.cloud import bigquery\n",
    "from dateutil.relativedelta import relativedelta\n",
    "from sklearn.preprocessing import LabelEncoder\n",
    "from sklearn.model_selection import train_test_split\n",
    "import seaborn as sns\n",
    "\n",
    "# build model\n",
    "import xgboost as xgb\n",
    "from sklearn.metrics import roc_auc_score"
   ]
  },
  {
   "cell_type": "code",
   "execution_count": null,
   "id": "fe2c94a5-1fdc-47f0-a73a-c3aca4237ae2",
   "metadata": {},
   "outputs": [],
   "source": [
    "local_dev = True"
   ]
  },
  {
   "cell_type": "code",
   "execution_count": null,
   "id": "e62538e1-a8e2-42cb-a04d-ca4a1d117bc7",
   "metadata": {},
   "outputs": [],
   "source": [
    "project_id = 'divg-groovyhoon-pr-d2eab4'\n",
    "proj_id = 'divg-groovyhoon-pr-d2eab4'\n",
    "dataset_id = 'telus_postpaid_12m_churn_v1'"
   ]
  },
  {
   "cell_type": "code",
   "execution_count": null,
   "id": "367e3925-5003-4772-ba97-d753efc23781",
   "metadata": {},
   "outputs": [],
   "source": [
    "def get_gcp_bqclient(project_id, use_local_credential=False):\n",
    "    token = os.popen('gcloud auth print-access-token').read()\n",
    "    token = re.sub(f'\\n$', '', token)\n",
    "    credentials = google.oauth2.credentials.Credentials(token)\n",
    "\n",
    "    bq_client = bigquery.Client(project=project_id)\n",
    "    if use_local_credential:\n",
    "        bq_client = bigquery.Client(project=project_id, credentials=credentials)\n",
    "    return bq_client\n",
    "def plotImp(model, X,figsize, num):\n",
    "    feature_imp = pd.DataFrame({'Value':model.feature_importance(),'Feature':X.columns})\n",
    "    plt.figure(figsize=figsize)\n",
    "    sns.set(font_scale = 1)\n",
    "    sns.barplot(x=\"Value\", y=\"Feature\", data=feature_imp.sort_values(by=\"Value\",\n",
    "                                                        ascending=False)[0:num])\n",
    "    plt.title('LightGBM Features (avg over folds)')\n",
    "    plt.tight_layout()\n",
    "    plt.savefig('lgbm_importances-01.png')\n",
    "    plt.show()"
   ]
  },
  {
   "cell_type": "code",
   "execution_count": null,
   "id": "7f4960d2-0d08-4d1b-bc06-899d76cdd1a1",
   "metadata": {},
   "outputs": [],
   "source": [
    "client = get_gcp_bqclient(proj_id, use_local_credential=True)"
   ]
  },
  {
   "cell_type": "code",
   "execution_count": null,
   "id": "f11eda6e",
   "metadata": {},
   "outputs": [],
   "source": [
    "# Initializing constants\n",
    "# client = bigquery.Client(project=proj_id)\n",
    "\n",
    "# CUST_ID, Bus_Billing_Account_Num, Bus_Prod_Instnc_Id, ADTbT_, ADT_Gazelle_Clients, ADT_FLAG, Base_Snapshot_Date, Security_Origin, Cultural_Segment, Installation_Type, Product_Profile, Province_Grp, Tenure_Month_Groups, ACQUIRED_FROM, DIY_Activated, price_plan, Acquisition_Source, Activation_Ts__Month___Year_, bi_chnl_tag_cd, Channel, Channel__Best_, Channel_Category, CHNL_ORG_TXT__Custom_SQL_Query_, Commitment_Type, Community, Contract_Expiring_Soon, Contract_Type, Cont\n",
    "\n",
    "trainingSQL = f\"\"\"\n",
    "    select * from `divg-groovyhoon-pr-d2eab4.telus_postpaid_12m_churn_v1.bq_tpc_training_dataset_mob`\n",
    "\"\"\"    #    ='2023-10-01'  order by rand() limit 500000\n",
    "\n",
    "testSQL = f\"\"\"\n",
    "    select * from `divg-groovyhoon-pr-d2eab4.telus_postpaid_12m_churn_v1.bq_tpc_validation_dataset_mob` \n",
    "\"\"\" "
   ]
  },
  {
   "cell_type": "code",
   "execution_count": null,
   "id": "ee46c573-8800-4104-a0bc-ab9579d545ee",
   "metadata": {},
   "outputs": [],
   "source": [
    "# def data_prep(main_df,scoring_start_date):\n",
    "#     df=main_df.copy()\n",
    "#     for col in df.columns:\n",
    "#         df[col] = list(df[col])\n",
    "        \n",
    "#     df = df.T.drop_duplicates().T\n",
    "#     bool_cols = ['ADTbT_','ADT_Gazelle_Clients','ADT_FLAG','Contracted__Account_','HasFibreTag', 'HasHP', 'HasHSIA',\n",
    "#                'HasIPTV', 'HasKoodo', 'HasMobility', 'HasPik', 'HasPublic',\n",
    "#                'HasSMHM', 'HasT_Post', 'HasTOS', 'HasTV', 'HasWHP', 'HasWHSIA',\n",
    "#                'HP_CNT', 'HS_CNT','TOS_FLAG','Video_','Data_flag','Best_practices'\n",
    "#             ]\n",
    "#     date_cols = ['Base_Snapshot_Date']\n",
    "#     cat_cols = ['Security_Origin','Cultural_Segment','Installation_Type',\n",
    "#                 'Product_Profile','Province_Grp','Tenure_Month_Groups','Price_Plan_Txt__SHS_',\n",
    "#                'ACQUIRED_FROM','DIY_Activated','price_plan','Acquisition_Source',\n",
    "#                 'Activation_Ts__Month___Year_','bi_chnl_tag_cd','Channel',\n",
    "#                 'Channel__Best_','Channel_Category','CHNL_ORG_TXT__Custom_SQL_Query_',\n",
    "#                 'Commitment_Type','Community','Contract_Expiring_Soon','Contract_Type',\n",
    "#                 'CREDIT_VALUE_CD__group_','Customer_Category','Delivery_Technology',\n",
    "#                 'Delivery_Technology__Account_','POSTAL_CD__Custom_SQL_Query_','Security_Plan_Group',\n",
    "#                 'Tenure_Month_Groups__All_','Tenure_Year_Group','TV_Count','community_nm',\n",
    "#                 'census_subdivision_typ','census_subdivision_desc','prizm_name','social_grp_cd','Security_Plan_Type',\n",
    "#                 'social_grp_nm','lifestage_cd','lifestage_nm','prov_cd','Segment','order_date','munic_nm','chnl_org_txt',\n",
    "#                 'prov_state_cd','Sales_Channel_tag','txn_sub_typ_txt','SLS_ACTVY_TXT','PRICE_PLAN_TXT__Custom_SQL_Query_'\n",
    "               \n",
    "#                ]\n",
    "#     num_cols = ['Epp_Discount_Months','HSLTE_TOTAL', 'IPTV_CNT','KBRAND_BAN_CT','Nho_Discount_Months',\n",
    "#                'avg_income', 'med_income','Login_consistency','Arming_consistency'\n",
    "               \n",
    "#                ]\n",
    "#     num_cols += [col for col in df.columns if '_amt_' in col.lower()]\n",
    "#     target = ['vol']\n",
    "    \n",
    "#     le_dict = {}\n",
    "#     for col in bool_cols+cat_cols:\n",
    "#         # print(col)\n",
    "#         df[col] = df[col].fillna('unknown').astype(str)\n",
    "#         le = LabelEncoder().fit(df[col])\n",
    "#         le_dict[col] = le\n",
    "#         df[col] = le.transform(df[col])\n",
    "#     for col in num_cols:\n",
    "#         df[col] = df[col].fillna(df[col].median()).astype(float)\n",
    "\n",
    "#     other_cols = [col for col in df.columns if col not in bool_cols+date_cols+cat_cols+num_cols+target]\n",
    "#     df.drop(columns=other_cols,axis=1, inplace=True)\n",
    "\n",
    "#     uni_cols=[]\n",
    "#     for col in df.columns:\n",
    "#         if df[col].nunique()==1:\n",
    "#             uni_cols.append(col)\n",
    "#     df.drop(columns=uni_cols,axis=1, inplace=True)\n",
    "#     return df"
   ]
  },
  {
   "cell_type": "code",
   "execution_count": null,
   "id": "9784fd2b",
   "metadata": {
    "tags": []
   },
   "outputs": [],
   "source": [
    "# Pulling data from BigQuery\n",
    "train_df = client.query(trainingSQL).to_dataframe()\n",
    "test_df = client.query(testSQL).to_dataframe()"
   ]
  },
  {
   "cell_type": "code",
   "execution_count": null,
   "id": "b2909334-2a28-4205-8b72-e25e5cedce93",
   "metadata": {},
   "outputs": [],
   "source": [
    "train_df, val_df = train_test_split(train_df, test_size=0.2, random_state=42, stratify=train_df['target_ind'])\n",
    "\n",
    "print(train_df.shape, val_df.shape, test_df.shape)"
   ]
  },
  {
   "cell_type": "code",
   "execution_count": null,
   "id": "14843a67-5bec-40a7-945d-5d1986691b15",
   "metadata": {},
   "outputs": [],
   "source": [
    "id_cols = ['ban', 'subscriber_no']\n",
    "\n",
    "cat_cols = ['revenue_band', 'payment_mthd', 'ebill_ind', 'dvc_non_telus_ind', 'credit_class', 'contract_type', \n",
    "            'province', 'bacct_delinq_ind', 'pref_lang', 'demo_sgname', 'demo_lsname'] ## -6  'postal_code' \n",
    "\n",
    "num_cols = ['contract_mth', 'sub_tenure', 'ban_tenure', 'cntrct_start_recency', 'cntrct_end_recency', 'age', \n",
    "            'rate_plan_amt', 'having_deposit', 'sub_cnt', \n",
    "            \n",
    "            'easy_pymt_avg', 'net_inv_amt_befr_cr_avg', 'cr_disc_amt_avg', 'net_inv_amt_avg', \n",
    "            'ld_amt_avg', 'rm_amt_avg', 'hm_call_cnt_avg', 'rm_call_cnt_avg', 'ld_min_qty_avg', 'artm_min_qty_avg', \n",
    "            \n",
    "            'tot_data_usg_avg', 'hm_data_usg_avg', 'rm_data_usg_avg', \n",
    "            \n",
    "            'android_ind', 'apple_ind', \n",
    "            \n",
    "            'flag_mobilephone', 'flag_wireline', 'flag_connecteddevice', 'flag_watch', \n",
    "            \n",
    "            'sms_dnc_recency', 'em_dnc_recency', 'start_dvc_bal_amt', \n",
    "            \n",
    "            'clk_app_ovrview', 'clk_app_bill', 'clk_app_usage', 'clk_app_changefg', 'clk_app_drawer', 'clk_app_offer', 'clk_app_subslct', \n",
    "            'clk_app_plan', 'clk_app_obrding', 'clk_app_recmd', 'clk_app_support', 'clk_web_bill', 'clk_web_profile', 'clk_web_plan', \n",
    "            'clk_web_moborder', 'clk_web_phnumber', 'clk_web_deal', 'clk_web_rpc', \n",
    "            \n",
    "            'demo_avg_income', \n",
    "            \n",
    "            'call_count_s', 'dial_duration_s', 'ring_duration_s', 'talk_duration_s', 'hold_duration_s', 'effort_durtn_sec_qty_s', \n",
    "            'dial_duration_avg_s', 'ring_duration_avg_s', 'talk_duration_avg_s', 'hold_duration_avg_s', \n",
    "            \n",
    "            'arpu_3m_sub', 'msf_3m_sub', 'overage_3m_sub', \n",
    "\n",
    "            'avg_usg_cnt_4w_news', 'avg_usg_dl_4w_news', 'avg_usg_ul_4w_news', 'avg_usg_cnt_4w_sports', 'avg_usg_dl_4w_sports', \n",
    "            'avg_usg_ul_4w_sports', 'avg_usg_cnt_4w_tv_and_movies', 'avg_usg_dl_4w_tv_and_movies', 'avg_usg_ul_4w_tv_and_movies', \n",
    "            'avg_usg_cnt_4w_gaming', 'avg_usg_dl_4w_gaming', 'avg_usg_ul_4w_gaming', 'avg_usg_cnt_4w_smarthome_automation', \n",
    "            'avg_usg_dl_4w_smarthome_automation', 'avg_usg_ul_4w_smarthome_automation', 'avg_usg_cnt_4w_smarthome_security', \n",
    "            'avg_usg_dl_4w_smarthome_security', 'avg_usg_ul_4w_smarthome_security', 'avg_usg_cnt_4w_shopping_deals', \n",
    "            'avg_usg_dl_4w_shopping_deals', 'avg_usg_ul_4w_shopping_deals', 'avg_usg_cnt_4w_telus', \n",
    "            'avg_usg_dl_4w_telus', 'avg_usg_ul_4w_telus', \n",
    "\n",
    "            'mkt_msg_shs_cnt', 'mkt_msg_hsic_cnt', 'mkt_msg_ttv_cnt', 'mkt_msg_optik_cnt', 'mkt_msg_sing_cnt', \n",
    "            'mkt_msg_tos_cnt', 'mkt_msg_lwc_cnt', 'mkt_msg_wifi_cnt', 'mkt_msg_sws_cnt', 'mkt_msg_mob_cnt', \n",
    "            'msg_typ_EM', 'msg_typ_SO', 'msg_typ_TM', 'msg_typ_NO', 'msg_typ_SMS',\n",
    "            \n",
    "            'msg_typ_ACQUISITION', 'msg_typ_CBR_FFH', 'msg_typ_HSM_West', 'msg_typ_STRATEGIC_SALE', 'msg_typ_TARGETED_CAMPAIGN', 'tot_msg',\n",
    "            \n",
    "            'mnh_ind', 'customer_tenure', 'product_mix_all', 'hsic_count', 'ttv_count', 'sing_count', 'mob_count', 'shs_count', \n",
    "            'new_hsic_ind', 'new_ttv_ind', 'new_sing_ind', 'new_c_ind', 'new_smhm_ind', \n",
    "            \n",
    "            'ffh_amg_avg', \n",
    "            \n",
    "            # 'frequency', 'recency', 'have_called', 'saved_frequency', 'cancel_frequency', 'saved_rate', 'cancel_rate', \n",
    "            \n",
    "            'mob_frequency', 'mob_recency', 'mob_have_called', 'ffh_frequency', 'ffh_recency', 'ffh_have_called'\n",
    "            ]\n",
    "\n",
    "target = ['target_ind']"
   ]
  },
  {
   "cell_type": "code",
   "execution_count": null,
   "id": "6af5259f-08c1-44a6-9058-cfefe7c5ef8f",
   "metadata": {},
   "outputs": [],
   "source": [
    "def preprocess(_df, id_cols, cat_cols, num_cols, target): \n",
    "    df = _df.copy()\n",
    "    le_dict = {}\n",
    "    uni_cols=[]\n",
    "    other_cols = []\n",
    "    for col in cat_cols:\n",
    "        df[col] = df[col].fillna('unknown').astype(str)\n",
    "        le = LabelEncoder().fit(df[col])\n",
    "        le_dict[col] = le\n",
    "        df[col] = le.transform(df[col])\n",
    "    \n",
    "    other_cols = [col for col in df.columns if col not in cat_cols+num_cols+target]\n",
    "    print(f'other_cols: {other_cols}')\n",
    "    \n",
    "    for col in df.columns:\n",
    "        if df[col].nunique()==1:\n",
    "            uni_cols.append(col)\n",
    "\n",
    "    print(f'uni_cols: {uni_cols}')\n",
    "            \n",
    "    drop_cols = [col for col in other_cols+uni_cols if col not in ['ban', 'subscriber_no']] \n",
    "    print(f'drop_cols: {drop_cols}')\n",
    "    \n",
    "    num_cols_final = [col for col in num_cols if col not in drop_cols]\n",
    "    \n",
    "    for col in num_cols_final:\n",
    "        df[col] = df[col].fillna(df[col].median()).astype(float)\n",
    "    \n",
    "    return df, drop_cols\n",
    "\n",
    "train_df_pre, train_drop_cols = preprocess(train_df, id_cols, cat_cols, num_cols, target)\n",
    "val_df_pre, val_drop_cols = preprocess(val_df, id_cols, cat_cols, num_cols, target)\n",
    "test_df_pre, test_drop_cols = preprocess(test_df, id_cols, cat_cols, num_cols, target)\n",
    "\n",
    "drop_cols = train_drop_cols+val_drop_cols+test_drop_cols\n",
    "\n",
    "print(drop_cols)"
   ]
  },
  {
   "cell_type": "code",
   "execution_count": null,
   "id": "0aee47fe-0df6-44fa-8fb4-a6d4e72866d0",
   "metadata": {},
   "outputs": [],
   "source": [
    "train_df_pre[target].value_counts()/len(train_df_pre)"
   ]
  },
  {
   "cell_type": "code",
   "execution_count": null,
   "id": "ec264b5c-37e9-41c1-891a-c89089335562",
   "metadata": {},
   "outputs": [],
   "source": [
    "features = [col for col in train_df_pre.columns if col not in drop_cols+id_cols+target]\n",
    "len(features)"
   ]
  },
  {
   "cell_type": "code",
   "execution_count": null,
   "id": "2d7f4c64-e8e4-4a2a-b849-49a45dbba3bf",
   "metadata": {},
   "outputs": [],
   "source": [
    "id_train = train_df_pre[id_cols]\n",
    "X_train = train_df_pre[features]\n",
    "y_train = list(np.squeeze(train_df_pre[target].values))\n",
    "\n",
    "id_val = val_df_pre[id_cols]\n",
    "X_val = val_df_pre[features]\n",
    "y_val = list(np.squeeze(val_df_pre[target].values))\n",
    "\n",
    "id_test = test_df_pre[id_cols]\n",
    "X_test = test_df_pre[features]\n",
    "y_test = list(np.squeeze(test_df_pre[target].values))\n",
    "\n",
    "print(X_train.shape, X_val.shape, X_test.shape)"
   ]
  },
  {
   "cell_type": "code",
   "execution_count": null,
   "id": "a2c9a1bc-1392-43eb-a92e-7b8017fbf966",
   "metadata": {},
   "outputs": [],
   "source": [
    "sum(y_val)"
   ]
  },
  {
   "cell_type": "code",
   "execution_count": null,
   "id": "a8413835-fbf4-4626-8d49-c4fcdbc8ff3d",
   "metadata": {},
   "outputs": [],
   "source": [
    "sum(y_test)"
   ]
  },
  {
   "cell_type": "code",
   "execution_count": null,
   "id": "68389cb2-2471-4b17-9fb7-0527f32268df",
   "metadata": {},
   "outputs": [],
   "source": [
    "def get_lift(prob, y_test, q):\n",
    "    result = pd.DataFrame(columns=['Prob', 'Churn'])\n",
    "    result['Prob'] = prob\n",
    "    result['Churn'] = y_test\n",
    "    # result['Decile'] = pd.qcut(1-result['Prob'], 10, labels = False)\n",
    "    result['Decile'] = pd.qcut(result['Prob'], q, labels=[i for i in range(q, 0, -1)])\n",
    "    add = pd.DataFrame(result.groupby('Decile')['Churn'].mean()).reset_index()\n",
    "    add.columns = ['Decile', 'avg_real_churn_rate']\n",
    "    churn_by_decile = pd.DataFrame(result.groupby('Decile')['Churn'].sum()).reset_index() \n",
    "    churn_by_decile.columns = ['Decile', 'churn_by_decile']\n",
    "    result = result.merge(add, on='Decile', how='left')\n",
    "    result.sort_values('Decile', ascending=True, inplace=True)\n",
    "    lg = pd.DataFrame(result.groupby('Decile')['Prob'].mean()).reset_index()\n",
    "    lg.columns = ['Decile', 'avg_model_pred_churn_rate']\n",
    "    lg.sort_values('Decile', ascending=False, inplace=True)\n",
    "    lg['avg_churn_rate_total'] = result['Churn'].mean()\n",
    "    lg['total_churn'] = result['Churn'].sum()\n",
    "    lg = lg.merge(add, on='Decile', how='left')\n",
    "    lg['lift'] = lg['avg_real_churn_rate'] / lg['avg_churn_rate_total']\n",
    "    lg['total_base'] = len(result)\n",
    "    lg['decile_base'] = len(result)/q\n",
    "    lg = lg.merge(churn_by_decile, on='Decile', how='left')\n",
    "    \n",
    "    return lg"
   ]
  },
  {
   "cell_type": "markdown",
   "id": "0e2f9e59-b087-47c5-9c89-a27f3eba4e34",
   "metadata": {},
   "source": [
    "### XGBoost"
   ]
  },
  {
   "cell_type": "code",
   "execution_count": null,
   "id": "ac577533-3e93-4792-8763-d2088ddcb98e",
   "metadata": {},
   "outputs": [],
   "source": [
    "# build model and fit in training data\n",
    "import xgboost as xgb\n",
    "from sklearn.metrics import roc_auc_score\n",
    "\n",
    "xgb_model = xgb.XGBClassifier(\n",
    "    learning_rate=0.05,\n",
    "    n_estimators=250,\n",
    "    max_depth=9,\n",
    "    min_child_weight=1,\n",
    "    gamma=0,\n",
    "    subsample=0.8,\n",
    "    colsample_bytree=0.8,\n",
    "    objective='binary:logistic',\n",
    "    nthread=4,\n",
    "    scale_pos_weight=1,\n",
    "    seed=27\n",
    ")\n",
    "\n",
    "xgb_model.fit(X_train, y_train)\n",
    "print('xgb training done')"
   ]
  },
  {
   "cell_type": "code",
   "execution_count": null,
   "id": "b5191cd6-1eeb-45e6-b9eb-dd89c08f28c2",
   "metadata": {},
   "outputs": [],
   "source": [
    "#predictions on X_val\n",
    "pred_probs_lgb = xgb_model.predict_proba(X_val, ntree_limit=xgb_model.best_iteration)[:, 1]\n",
    "\n",
    "lg = get_lift(pred_probs_lgb,y_val,10)\n",
    "sns.barplot(x='Decile',y='lift',data=lg)\n",
    "lg"
   ]
  },
  {
   "cell_type": "code",
   "execution_count": null,
   "id": "f105ea6c-30be-4bf9-ac3c-ffac9940e24c",
   "metadata": {},
   "outputs": [],
   "source": [
    "#predictions on X_test\n",
    "y_pred = xgb_model.predict_proba(X_test, ntree_limit=xgb_model.best_iteration)[:, 1]\n",
    "\n",
    "lg = get_lift(y_pred,y_test,10)\n",
    "sns.barplot(x='Decile',y='lift',data=lg)\n",
    "lg"
   ]
  },
  {
   "cell_type": "code",
   "execution_count": null,
   "id": "e7438585-4a70-4e59-81f6-b6aefc9c61cd",
   "metadata": {},
   "outputs": [],
   "source": []
  },
  {
   "cell_type": "markdown",
   "id": "69797ef1-ea18-4f93-94e3-1a52195c00b0",
   "metadata": {},
   "source": [
    "### LightGBM"
   ]
  },
  {
   "cell_type": "code",
   "execution_count": null,
   "id": "d91d4e05-f6b7-4f10-b9ea-e1ffde2ac3a3",
   "metadata": {},
   "outputs": [],
   "source": [
    "train_data = lgb.Dataset(X_train, label=y_train)\n",
    "val_data = lgb.Dataset(X_val, label=y_val)\n",
    "test_data = lgb.Dataset(X_test, label=y_test)\n",
    "\n",
    "# del X_train, X_val, df_train, df_test, df_val\n",
    "gc.collect()\n",
    "# --- params original\n",
    "# param = {'n_jobs':4,\n",
    "#         'learning_rate':0.05,\n",
    "#         'objective':'binary',\n",
    "#         'num_leaves':32,\n",
    "#         'num_threads':4,\n",
    "#         'max_depth':4,\n",
    "#         'tree_learner':'serial',\n",
    "#         'feature_fraction':0.7,\n",
    "#         'bagging_freq':5,\n",
    "#         'bagging_fraction':0.7,\n",
    "#         'verbose':100,\n",
    "#         \"verbosity\": -1,\n",
    "#         'bagging_seed':11,\n",
    "#         'metric': ['auc', 'binary_logloss'],\n",
    "#         }\n",
    "\n",
    "# ------ params for new\n",
    "param = {'n_jobs':4,\n",
    "        'learning_rate':0.05,\n",
    "        'objective':'binary',\n",
    "        'num_leaves':32,\n",
    "        'num_threads':4,\n",
    "        'max_depth':4,\n",
    "        'tree_learner':'serial',\n",
    "        'feature_fraction':0.7,\n",
    "        'bagging_freq':5,\n",
    "        'bagging_fraction':0.8,\n",
    "        'verbose':100,\n",
    "        \"verbosity\": -1,\n",
    "        'bagging_seed':11,\n",
    "        'metric': ['auc', 'binary_logloss'],\n",
    "        }\n",
    "num_round  = 100000\n",
    "model_lgb = lgb.train(param,train_data, num_round, valid_sets=[train_data,val_data],callbacks=[lgb.early_stopping(stopping_rounds=200)])\n"
   ]
  },
  {
   "cell_type": "markdown",
   "id": "4c5b98e5-1b6d-4f3e-bf8b-bb145b2f2bdb",
   "metadata": {},
   "source": [
    "## evaluate model performance\n",
    "\n"
   ]
  },
  {
   "cell_type": "markdown",
   "id": "dbd5fb89-e836-466b-b486-3f20de941e85",
   "metadata": {},
   "source": [
    "### use test set: \n",
    "features: 2023-10-31 \n",
    "\n",
    "targets: 2023-11-01 to 2024-06-20"
   ]
  },
  {
   "cell_type": "code",
   "execution_count": null,
   "id": "b41aa678-3f7e-4f88-bdbd-9d1566d52749",
   "metadata": {},
   "outputs": [],
   "source": [
    "def get_lift(prob, y_test, q):\n",
    "    result = pd.DataFrame(columns=['Prob', 'Churn'])\n",
    "    result['Prob'] = prob\n",
    "    result['Churn'] = y_test\n",
    "    # result['Decile'] = pd.qcut(1-result['Prob'], 10, labels = False)\n",
    "    result['Decile'] = pd.qcut(result['Prob'], q, labels=[i for i in range(q, 0, -1)])\n",
    "    add = pd.DataFrame(result.groupby('Decile')['Churn'].mean()).reset_index()\n",
    "    add.columns = ['Decile', 'avg_real_churn_rate']\n",
    "    churn_by_decile = pd.DataFrame(result.groupby('Decile')['Churn'].sum()).reset_index() \n",
    "    churn_by_decile.columns = ['Decile', 'churn_by_decile']\n",
    "    result = result.merge(add, on='Decile', how='left')\n",
    "    result.sort_values('Decile', ascending=True, inplace=True)\n",
    "    lg = pd.DataFrame(result.groupby('Decile')['Prob'].mean()).reset_index()\n",
    "    lg.columns = ['Decile', 'avg_model_pred_churn_rate']\n",
    "    lg.sort_values('Decile', ascending=False, inplace=True)\n",
    "    lg['avg_churn_rate_total'] = result['Churn'].mean()\n",
    "    lg['total_churn'] = result['Churn'].sum()\n",
    "    lg = lg.merge(add, on='Decile', how='left')\n",
    "    lg['lift'] = lg['avg_real_churn_rate'] / lg['avg_churn_rate_total']\n",
    "    lg['total_base'] = len(result)\n",
    "    lg['decile_base'] = len(result)/q\n",
    "    lg = lg.merge(churn_by_decile, on='Decile', how='left')\n",
    "    \n",
    "    return lg\n",
    "    \n",
    "def calculate_lift(y_true, y_pred, n_bins=10):\n",
    "    # Create a DataFrame with y_true and y_pred\n",
    "    data = pd.DataFrame({'y_true': y_true, 'y_pred': y_pred})\n",
    "\n",
    "    # Sort the DataFrame by y_pred in descending order\n",
    "    data = data.sort_values(by='y_pred', ascending=False)\n",
    "\n",
    "    # Calculate the base rate\n",
    "    base_rate = np.mean(y_true)\n",
    "\n",
    "    # Calculate the lift\n",
    "    data['cumulative_positive'] = data['y_true'].cumsum()\n",
    "    data['cumulative_total'] = np.arange(1, len(data) + 1)\n",
    "    data['cumulative_rate'] = data['cumulative_positive'] / data['cumulative_total']\n",
    "    data['lift'] = data['cumulative_rate'] / base_rate\n",
    "\n",
    "    # Calculate lift for each bin\n",
    "    data['bin'] = pd.qcut(data['cumulative_total'], n_bins, labels=False)\n",
    "    lift_by_bin = data.groupby('bin')['lift'].mean()\n",
    "\n",
    "    return lift_by_bin\n"
   ]
  },
  {
   "cell_type": "markdown",
   "id": "7de94667-f859-4bbf-ba5a-c48b066c8036",
   "metadata": {},
   "source": [
    "### Model Eval on X_val"
   ]
  },
  {
   "cell_type": "code",
   "execution_count": null,
   "id": "171a3415-47dd-45ac-91fc-86e882adc4d6",
   "metadata": {},
   "outputs": [],
   "source": [
    "pred_probs_lgb = model_lgb.predict(X_val,num_iteration=model_lgb.best_iteration)"
   ]
  },
  {
   "cell_type": "code",
   "execution_count": null,
   "id": "23652ff2-a9c7-49dd-a8a5-bf5c01a17efc",
   "metadata": {},
   "outputs": [],
   "source": [
    "lg = get_lift(pred_probs_lgb,y_val,10)\n",
    "sns.barplot(x='Decile',y='lift',data=lg)\n",
    "lg\n",
    "\n",
    "# lg.to_csv('gs://divg-groovyhoon-pr-d2eab4-default/downloads/decile_lift_v2_lgbm.csv', index=False)"
   ]
  },
  {
   "cell_type": "code",
   "execution_count": null,
   "id": "56bad421-d85f-4742-af00-f0e736b50e6b",
   "metadata": {},
   "outputs": [],
   "source": [
    "lg = get_lift(pred_probs_lgb,y_val,100)\n",
    "sns.barplot(x='Decile',y='lift',data=lg)\n",
    "lg\n",
    "\n",
    "# lg.to_csv('gs://divg-groovyhoon-pr-d2eab4-default/downloads/percentile_lift_v2_lgbm.csv', index=False)"
   ]
  },
  {
   "cell_type": "markdown",
   "id": "16a09162-004a-48a4-b52e-639c2dc31139",
   "metadata": {},
   "source": [
    "### Export df_val_exp_v2_lgbm"
   ]
  },
  {
   "cell_type": "code",
   "execution_count": null,
   "id": "148e5d8a-c5bb-4956-9a25-ee71cf85dc3b",
   "metadata": {},
   "outputs": [],
   "source": [
    "#join ban_test, X_test, y_test and y_pred and print to csv\n",
    "#CHECK THE SIZE OF EACH COMPONENT BEFORE JOINING\n",
    "q=10\n",
    "df_ban_val = id_val\n",
    "df_val_exp = df_ban_val.join(X_val) \n",
    "df_val_exp['y_val'] = y_val\n",
    "df_val_exp['y_pred_proba'] = pred_probs_lgb\n",
    "df_val_exp['y_pred'] = (df_val_exp['y_pred_proba'] > 0.5).astype(int)\n",
    "df_val_exp['decile'] = pd.qcut(df_val_exp['y_pred_proba'], q, labels=[i for i in range(q, 0, -1)])\n",
    "df_val_exp['decile'] = df_val_exp['decile'].astype(int)\n",
    "\n",
    "df_val_exp.info()\n",
    "\n",
    "df_val_exp_final = pd.DataFrame()\n",
    "df_val_exp_final['ban'] = df_val_exp['ban']\n",
    "df_val_exp_final['subscriber_no'] = df_val_exp['subscriber_no']\n",
    "df_val_exp_final['score'] = df_val_exp['y_pred_proba'] \n",
    "df_val_exp_final['decile'] = pd.qcut(df_val_exp_final['score'], 10, labels=[i for i in range(q, 0, -1)])\n",
    "# df_val_exp_final['percentile'] = pd.qcut(df_val_exp_final['score'], 100, labels=[i for i in range(q, 0, -1)])\n",
    "\n",
    "df_val_exp_final.to_csv('gs://divg-groovyhoon-pr-d2eab4-default/downloads/df_val_exp_final_v2_lgbm.csv', index=False)\n",
    "print(\"....df_val_exp_final exported\")"
   ]
  },
  {
   "cell_type": "code",
   "execution_count": null,
   "id": "3168bc16-4150-412d-887d-e2e6617c96a5",
   "metadata": {},
   "outputs": [],
   "source": []
  },
  {
   "cell_type": "code",
   "execution_count": null,
   "id": "44f465fb-da15-402c-bde3-dba93d5f973d",
   "metadata": {},
   "outputs": [],
   "source": []
  },
  {
   "cell_type": "markdown",
   "id": "700b9064-8885-46a8-9dc9-3e259ceb9060",
   "metadata": {},
   "source": [
    "### Model Eval on X_test"
   ]
  },
  {
   "cell_type": "code",
   "execution_count": null,
   "id": "2a4fe95d-941d-40bf-b54a-8c077537cf39",
   "metadata": {},
   "outputs": [],
   "source": [
    "y_pred = model_lgb.predict(X_test,num_iteration=model_lgb.best_iteration)"
   ]
  },
  {
   "cell_type": "code",
   "execution_count": null,
   "id": "a219600f-092f-475b-b173-f532eae22abe",
   "metadata": {},
   "outputs": [],
   "source": [
    "lg = get_lift(y_pred,y_test,10)\n",
    "sns.barplot(x='Decile',y='lift',data=lg)\n",
    "lg"
   ]
  },
  {
   "cell_type": "markdown",
   "id": "e0b05e55-bea9-44de-82e4-43e8a4468a21",
   "metadata": {},
   "source": [
    "### Create df_test_exp to create `divg-groovyhoon-pr-d2eab4.telus_postpaid_12m_churn_v1.bq_telus_postpaid_12m_churn_scores`"
   ]
  },
  {
   "cell_type": "code",
   "execution_count": null,
   "id": "e588edc4-d9fa-41b3-a5db-ec67a5d0e1bd",
   "metadata": {},
   "outputs": [],
   "source": [
    "#join ban_test, X_test, y_test and y_pred and print to csv\n",
    "#CHECK THE SIZE OF EACH COMPONENT BEFORE JOINING\n",
    "q=10\n",
    "df_ban_test = id_test\n",
    "df_test_exp = df_ban_test.join(X_test) \n",
    "df_test_exp['y_test'] = y_test\n",
    "df_test_exp['y_pred_proba'] = y_pred\n",
    "df_test_exp['y_pred'] = (df_test_exp['y_pred_proba'] > 0.5).astype(int)\n",
    "df_test_exp['decile'] = pd.qcut(df_test_exp['y_pred_proba'], q, labels=[i for i in range(q, 0, -1)])\n",
    "df_test_exp['decile'] = df_test_exp['decile'].astype(int)\n",
    "\n",
    "df_test_exp.info()\n",
    "\n",
    "df_test_exp_final = pd.DataFrame()\n",
    "df_test_exp_final['ban'] = df_test_exp['ban']\n",
    "df_test_exp_final['subscriber_no'] = df_test_exp['subscriber_no']\n",
    "df_test_exp_final['score'] = df_test_exp['y_pred_proba'] \n",
    "df_test_exp_final['decile'] = pd.qcut(df_test_exp_final['score'], 10, labels=[i for i in range(q, 0, -1)])\n",
    "# df_test_exp_final['percentile'] = pd.qcut(df_test_exp_final['score'], 100, labels=[i for i in range(q, 0, -1)])\n",
    "\n",
    "df_test_exp_final.to_csv('gs://divg-groovyhoon-pr-d2eab4-default/downloads/df_test_exp_final_v2_lgbm.csv', index=False)\n",
    "print(\"....df_test_exp_final exported\")"
   ]
  },
  {
   "cell_type": "code",
   "execution_count": null,
   "id": "54b61fcd-8878-47fc-9f5d-6b63b2a72a24",
   "metadata": {},
   "outputs": [],
   "source": [
    "def get_gcp_bqclient(project_id, use_local_credential=False):\n",
    "    token = os.popen('gcloud auth print-access-token').read()\n",
    "    token = re.sub(f'\\n$', '', token)\n",
    "    credentials = google.oauth2.credentials.Credentials(token)\n",
    "\n",
    "    bq_client = bigquery.Client(project=project_id)\n",
    "    if use_local_credential:\n",
    "        bq_client = bigquery.Client(project=project_id, credentials=credentials)\n",
    "    return bq_client\n",
    "\n",
    "def plotImp(model, X,figsize, num):\n",
    "    feature_imp = pd.DataFrame({'Value':model.feature_importance(),'Feature':X.columns})\n",
    "    plt.figure(figsize=figsize)\n",
    "    sns.set(font_scale = 1)\n",
    "    sns.barplot(x=\"Value\", y=\"Feature\", data=feature_imp.sort_values(by=\"Value\",\n",
    "                                                        ascending=False)[0:num])\n",
    "    plt.title('LightGBM Features (avg over folds)')\n",
    "    plt.tight_layout()\n",
    "    plt.savefig('lgbm_importances-01.png')\n",
    "    plt.show()"
   ]
  },
  {
   "cell_type": "code",
   "execution_count": null,
   "id": "81be541d-a621-435b-9d1e-5fd98c81aeef",
   "metadata": {},
   "outputs": [],
   "source": [
    "# import time\n",
    "\n",
    "# client = get_gcp_bqclient(proj_id, use_local_credential=True)\n",
    "\n",
    "# # create temp table\n",
    "# project_id = 'divg-groovyhoon-pr-d2eab4' \n",
    "# table_name = 'divg-groovyhoon-pr-d2eab4.telus_postpaid_12m_churn_v1.bq_telus_postpaid_12m_churn_scores' \n",
    "# table_def = bigquery.Table(table_name)\n",
    "# table = client.create_table(table_def)\n",
    "# time.sleep(2)\n",
    "# print(\n",
    "#     f'Created score table {table.project}.{table.dataset_id}.{table.table_id}'\n",
    "# )\n",
    "\n",
    "# insert data to temp table\n",
    "config = bigquery.LoadJobConfig()\n",
    "config.write_disposition = bigquery.WriteDisposition.WRITE_TRUNCATE\n",
    "job = client.load_table_from_dataframe(df_test_exp_final, table_def, job_config=config)\n",
    "job.result()  # wait for the job to complete.\n",
    "time.sleep(2)\n",
    "table = client.get_table(table_def)\n",
    "print(\n",
    "    f'Loaded {table.num_rows} rows and {len(table.schema)} columns to {table_def}'\n",
    ")"
   ]
  },
  {
   "cell_type": "code",
   "execution_count": null,
   "id": "e308ccf4-19b4-428d-ad87-3b74bf7b27d7",
   "metadata": {},
   "outputs": [],
   "source": [
    "error"
   ]
  },
  {
   "cell_type": "code",
   "execution_count": null,
   "id": "19104eac-069d-447d-b587-7dbb5fec7ec8",
   "metadata": {},
   "outputs": [],
   "source": [
    "df_test_exp.to_csv('gs://divg-groovyhoon-pr-d2eab4-default/downloads/df_test_exp.csv', index=False)\n",
    "print(\"....df_test_exp exported\")"
   ]
  },
  {
   "cell_type": "code",
   "execution_count": null,
   "id": "4633d6c0-2a5f-4f91-944f-1fd7cee520ef",
   "metadata": {},
   "outputs": [],
   "source": [
    "df_test_exp_1r = df_test_exp.sample(n=1)\n",
    "df_test_exp_1r.to_csv('gs://divg-groovyhoon-pr-d2eab4-default/downloads/df_test_exp_1r.csv', index=False)"
   ]
  },
  {
   "cell_type": "code",
   "execution_count": null,
   "id": "eac9af9c-2a84-4312-9b9f-bc63a04a59a1",
   "metadata": {},
   "outputs": [],
   "source": [
    "client = get_gcp_bqclient(proj_id, use_local_credential=True)"
   ]
  },
  {
   "cell_type": "code",
   "execution_count": null,
   "id": "02789c45-04d0-4057-8268-29dce13f83f4",
   "metadata": {},
   "outputs": [],
   "source": [
    "from google.cloud import bigquery\n",
    "import pandas as pd \n",
    "import numpy as np \n",
    "\n",
    "def export_dataframe_to_bq(df, client, table_id='', schema_list=[], generate_schema=True, write='overwrite'): \n",
    "    \n",
    "    \"\"\"\n",
    "    Load the input dataframe to a table in bigquery. \n",
    "    \n",
    "    Args: \n",
    "        df (DataFrame): A DataFrame that you want to export to BQ.\n",
    "        client: A BigQuery client instance. e.g. client = bigquery.Client(project=project_id). \n",
    "        table_id (string): A string with dataset and table name. i.e 'ttv_churn_dataset.bq_tv_churn_score'. \n",
    "        schema_list (list of string, optional): List of the SchemaFields if provided, otherwise the function can generate it for you. \n",
    "        generate_schema (bool, optional): True (if True, the function will provide schema for you) or False (provide your own list) \n",
    "        write (string, optional):  if 'overwrite', the function will overwrite the existing table\n",
    "                                   if 'append', it will append to the existing table \n",
    "                                   \n",
    "    Returns: \n",
    "        None \n",
    "        \n",
    "    Example: \n",
    "        export_dataframe_to_bq(final_df, bq_client, 'call_to_retention_dataset.bq_call_to_retention_scores_temp')\n",
    "        \n",
    "    \"\"\"\n",
    "\n",
    "    dtype_bq_mapping = { \n",
    "        np.dtype('int64'): 'INTEGER', \n",
    "        np.dtype('float64'): 'FLOAT', \n",
    "        np.dtype('float32'): 'FLOAT', \n",
    "        np.dtype('object'): 'STRING', \n",
    "        np.dtype('bool'): 'BOOLEAN', \n",
    "        np.dtype('datetime64[ns]'): 'DATE', \n",
    "        pd.Int64Dtype(): 'INTEGER' \n",
    "    } \n",
    "    \n",
    "    if write == 'overwrite': \n",
    "        write_type = 'WRITE_TRUNCATE' \n",
    "    else: \n",
    "        write_type = 'WRITE_APPEND' \n",
    "        \n",
    "    if len(schema_list) == 0: \n",
    "        generate_schema = True \n",
    "    else: \n",
    "        generate_schema = False\n",
    "        \n",
    "    try: \n",
    "        if generate_schema == True: \n",
    "            schema_list = [] \n",
    "            for column in df.columns: \n",
    "                schema_list.append(bigquery.SchemaField(column, dtype_bq_mapping[df.dtypes[column]], mode='NULLABLE')) \n",
    "\n",
    "        # Sending to bigquery \n",
    "        job_config = bigquery.LoadJobConfig(schema=schema_list, write_disposition=write_type) \n",
    "        job = client.load_table_from_dataframe(df, table_id, job_config=job_config) \n",
    "        job.result() \n",
    "        table = client.get_table(table_id) # Make an API request \n",
    "        print(\"Loaded {} rows and {} columns to {}\".format(table.num_rows, len(table.schema), table_id)) \n",
    "\n",
    "    except NameError as e: \n",
    "        print(f\"Error : {e}\")"
   ]
  },
  {
   "cell_type": "code",
   "execution_count": null,
   "id": "3e02e86e-6c6e-48db-89aa-6b0592e673e5",
   "metadata": {},
   "outputs": [],
   "source": [
    "export_dataframe_to_bq(df_test_exp, client, table_id='telus_postpaid_12m_churn_v1.bq_telus_postpaid_12m_churn_scores', generate_schema=True, write='overwrite')"
   ]
  },
  {
   "cell_type": "code",
   "execution_count": null,
   "id": "eb784db8-5d52-4755-b93d-e8ea34ce6beb",
   "metadata": {},
   "outputs": [],
   "source": [
    "plotImp(model_lgb, X_train,figsize=(15,8), num=50)"
   ]
  },
  {
   "cell_type": "code",
   "execution_count": null,
   "id": "84956983-4f51-4207-bd87-aaa13be5402f",
   "metadata": {},
   "outputs": [],
   "source": [
    "error"
   ]
  },
  {
   "cell_type": "markdown",
   "id": "0441f8c4-f52a-4559-b293-342411191ca2",
   "metadata": {},
   "source": [
    "### predict on Nov and Dec clients and evaluate with Jan the same clients"
   ]
  },
  {
   "cell_type": "code",
   "execution_count": null,
   "id": "ee39dd04-1d9e-4b6c-a72b-846a429e3835",
   "metadata": {},
   "outputs": [],
   "source": [
    "sql_1 = f\"\"\"\n",
    "select distinct * except(invol, churn,Sales_Agent_ID,src_usr_chnl_txt,order_date,POSTAL_CD__Custom_SQL_Query_) from `divg-team-v03-pr-de558a.shs_churn_model.shs_churn_data_final_Nov_2023`\n",
    "     where  Base_Snapshot_Date = '2023-11-01' and security_origin='Organic'\n",
    "\"\"\"\n",
    "\n",
    "sql_2 = f\"\"\"\n",
    "select distinct * except(invol, churn,Sales_Agent_ID,src_usr_chnl_txt,order_date,POSTAL_CD__Custom_SQL_Query_) from `divg-team-v03-pr-de558a.shs_churn_model.shs_churn_data_final_Dec_2023`\n",
    "     where  Base_Snapshot_Date = '2023-12-01' and security_origin='Organic'\n",
    "\"\"\"\n",
    "\n",
    "sql_3 = f\"\"\"\n",
    "select distinct * except(invol, churn,Sales_Agent_ID,src_usr_chnl_txt,order_date,POSTAL_CD__Custom_SQL_Query_) from `divg-team-v03-pr-de558a.shs_churn_model.shs_churn_data_final_Jan_2024` \n",
    "     where  Base_Snapshot_Date = '2024-01-01' and security_origin='Organic'\n",
    "\"\"\""
   ]
  },
  {
   "cell_type": "code",
   "execution_count": null,
   "id": "44b20764-9338-4ddf-b157-5e438247cd81",
   "metadata": {},
   "outputs": [],
   "source": [
    "sql_1 = f\"\"\"\n",
    "select distinct * except(invol, churn,Sales_Agent_ID,src_usr_chnl_txt,order_date,POSTAL_CD__Custom_SQL_Query_) from `divg-team-v03-pr-de558a.shs_churn_model.shs_churn_data_final_Nov_2023`\n",
    "     where  Base_Snapshot_Date = '2023-11-01'\n",
    "\"\"\"\n",
    "\n",
    "sql_2 = f\"\"\"\n",
    "select distinct * except(invol, churn,Sales_Agent_ID,src_usr_chnl_txt,order_date,POSTAL_CD__Custom_SQL_Query_) from `divg-team-v03-pr-de558a.shs_churn_model.shs_churn_data_final_Dec_2023`\n",
    "     where  Base_Snapshot_Date = '2023-12-01'\n",
    "\"\"\"\n",
    "\n",
    "sql_3 = f\"\"\"\n",
    "select distinct * except(invol, churn,Sales_Agent_ID,src_usr_chnl_txt,order_date,POSTAL_CD__Custom_SQL_Query_) from `divg-team-v03-pr-de558a.shs_churn_model.shs_churn_data_final_Jan_2024` \n",
    "     where  Base_Snapshot_Date = '2024-01-01'\n",
    "\"\"\""
   ]
  },
  {
   "cell_type": "code",
   "execution_count": null,
   "id": "73b51dde-2c81-48a0-97fa-f99c856eb5fe",
   "metadata": {},
   "outputs": [],
   "source": [
    "client = get_gcp_bqclient(proj_id, use_local_credential=True)"
   ]
  },
  {
   "cell_type": "code",
   "execution_count": null,
   "id": "93a8a394-3233-4ebc-b8c6-5e932f20f0f4",
   "metadata": {},
   "outputs": [],
   "source": [
    "# df_nov = client.query(sql_1).to_dataframe()\n",
    "df_dec = client.query(sql_2).to_dataframe()\n",
    "df_jan= client.query(sql_3).to_dataframe()"
   ]
  },
  {
   "cell_type": "code",
   "execution_count": null,
   "id": "37fa5fbf-15d5-4e8d-8cac-5b90c9511f8d",
   "metadata": {},
   "outputs": [],
   "source": [
    "# df_nov = df_nov.drop_duplicates(subset=['Bus_Billing_Account_Num'], keep='first')\n",
    "df_dec = df_dec.drop_duplicates(subset=['Bus_Billing_Account_Num'], keep='first')\n",
    "df_jan = df_jan.drop_duplicates(subset=['Bus_Billing_Account_Num'], keep='first')"
   ]
  },
  {
   "cell_type": "code",
   "execution_count": null,
   "id": "e8c1b7e7-7a0c-42b9-be6f-d6e1975d2a23",
   "metadata": {},
   "outputs": [],
   "source": [
    "# df_nov.shape\n",
    "df_dec.shape,df_jan.shape"
   ]
  },
  {
   "cell_type": "code",
   "execution_count": null,
   "id": "6a6455d5-fdb2-46e2-b8f8-edbf00f57660",
   "metadata": {},
   "outputs": [],
   "source": [
    "# df_nov['Bus_Billing_Account_Num'].nunique()==len(df_nov),\n",
    "df_dec['Bus_Billing_Account_Num'].nunique()==len(df_dec),df_jan['Bus_Billing_Account_Num'].nunique()==len(df_jan)"
   ]
  },
  {
   "cell_type": "code",
   "execution_count": null,
   "id": "13396ea8-d2c2-452d-9715-21bb1c9fc9d3",
   "metadata": {},
   "outputs": [],
   "source": [
    "for col in df_dec.columns:\n",
    "    # df_nov[col] = list(df_nov[col])\n",
    "    df_dec[col] = list(df_dec[col])\n",
    "    df_jan[col] = list(df_jan[col])"
   ]
  },
  {
   "cell_type": "code",
   "execution_count": null,
   "id": "e83ce54c-d58a-4a23-92df-bf8eb98b4081",
   "metadata": {},
   "outputs": [],
   "source": [
    "# # ban_nov = list(df_nov['Bus_Billing_Account_Num'].unique())\n",
    "# ban_dec = list(df_dec['Bus_Billing_Account_Num'].unique())\n",
    "# ban_jan = list(df_jan['Bus_Billing_Account_Num'].unique())\n",
    "\n",
    "# # ban_common = set(ban_nov).intersection(set(ban_dec))\n",
    "# ban_common = set(ban_dec)\n",
    "# ban_common = set(ban_common).intersection(set(ban_jan))\n",
    "\n",
    "# # ban_common = [ban for ban in ban_nov if ban in ban_dec and ban in ban_jan]\n",
    "# # len(ban_nov),len(ban_dec),len(ban_jan),\n",
    "\n",
    "# len(ban_common)"
   ]
  },
  {
   "cell_type": "code",
   "execution_count": null,
   "id": "36633d5e-e613-4ca3-ae06-d18b44755fcd",
   "metadata": {},
   "outputs": [],
   "source": [
    "# # df_nov = df_nov.loc[df_nov['Bus_Billing_Account_Num'].isin(list(ban_common))]\n",
    "# df_dec = df_dec.loc[df_dec['Bus_Billing_Account_Num'].isin(list(ban_common))]\n",
    "# df_jan = df_jan.loc[df_jan['Bus_Billing_Account_Num'].isin(list(ban_common))]\n",
    "# # len(df_nov),len(df_dec),len(df_jan)\n",
    "\n",
    "# # len(df_nov),\n",
    "# len(df_dec),len(df_jan)"
   ]
  },
  {
   "cell_type": "code",
   "execution_count": null,
   "id": "441340bc-34d4-4841-a118-f3ec9f3d1825",
   "metadata": {},
   "outputs": [],
   "source": [
    "# df_dec=df_dec.merge(df_jan[['Bus_Billing_Account_Num','vol']],on='Bus_Billing_Account_Num',how='left')"
   ]
  },
  {
   "cell_type": "code",
   "execution_count": null,
   "id": "76107861-507c-47c3-9b54-e2ca610ed90a",
   "metadata": {
    "tags": []
   },
   "outputs": [],
   "source": [
    "# df_dec['vol_x'].value_counts()"
   ]
  },
  {
   "cell_type": "code",
   "execution_count": null,
   "id": "555653d5-793c-4995-bc7f-4e00282f766c",
   "metadata": {},
   "outputs": [],
   "source": [
    "# df_dec['vol_y'].value_counts()"
   ]
  },
  {
   "cell_type": "code",
   "execution_count": null,
   "id": "c76d3ba4-c6ce-45e3-971b-5d09e177c096",
   "metadata": {},
   "outputs": [],
   "source": [
    "# # y_true_nov = list(np.squeeze(df_nov['vol_x'].values)) #nov label\n",
    "# # y_true_dec = list(np.squeeze(df_nov['vol_y'].values))  # dec label\n",
    "\n",
    "# y_true_jan = list(np.squeeze(df_dec['vol_y'].values))  # jan label\n",
    "\n",
    "# # len(y_true_nov),len(y_true_dec),\n",
    "\n",
    "# len(y_true_jan)"
   ]
  },
  {
   "cell_type": "code",
   "execution_count": null,
   "id": "3d7bf37d-5fee-4f37-8b28-50663ee4788d",
   "metadata": {},
   "outputs": [],
   "source": [
    "y_true_dec = list(np.squeeze(df_dec['vol'].values)) \n",
    "y_true_jan = list(np.squeeze(df_jan['vol'].values))\n",
    "\n",
    "print(len(y_true_dec))\n",
    "print(len(y_true_jan))"
   ]
  },
  {
   "cell_type": "code",
   "execution_count": null,
   "id": "a149aab3-7f29-4fc6-87d8-7b26381a8507",
   "metadata": {},
   "outputs": [],
   "source": [
    "le_dict"
   ]
  },
  {
   "cell_type": "code",
   "execution_count": null,
   "id": "d366aba1-d194-4550-a370-b069ded46bea",
   "metadata": {},
   "outputs": [],
   "source": [
    "le_dict_cp = le_dict.copy()"
   ]
  },
  {
   "cell_type": "code",
   "execution_count": null,
   "id": "30aac861-df39-4dfb-a55d-b6d91dc0617a",
   "metadata": {},
   "outputs": [],
   "source": [
    "def preprocessing(df,le_dict_cp):\n",
    "    df_ = df.copy()\n",
    "    for col in bool_cols+cat_cols:\n",
    "        # if col in ['order_date','price_plan','POSTAL_CD__Custom_SQL_Query_','std_emp_cnt_r30d_smhm','std_talk_time_r30d_smhm', 'livingwell_cnt', 'facilities_cnt', 'upgr_wln_security_cnt_r30d','streamplus_cnt']: continue\n",
    "        print(col, end=' ')\n",
    "        df_[col] = df_[col].fillna('unknown').astype(str)\n",
    "        # a = set(np.array(le_dict[col].classes_))\n",
    "        a = set(le_dict_cp[col].classes_)\n",
    "        # print('before',a)        \n",
    "        b = set(df_[col].unique())\n",
    "        new_x = a^b\n",
    "        a.update(new_x)\n",
    "        le_dict_cp[col].classes_ = np.array(a)\n",
    "        df_[col] = le_dict_cp[col].fit_transform(df_[col])\n",
    "    \n",
    "    for col in num_cols:\n",
    "        df_[col] = df_[col].fillna(df_[col].median()).astype(float)\n",
    "        \n",
    "    other_cols = [col for col in df_.columns if col not in bool_cols+cat_cols+num_cols+target]\n",
    "     # and col not in ['call_to_retention_ind','vol','vol_ctr_ind','std_emp_cnt_r30d_smhm','std_talk_time_r30d_smhm', 'livingwell_cnt', 'facilities_cnt', 'upgr_wln_security_cnt_r30d','streamplus_cnt']\n",
    "    other_cols = [col for col in other_cols if col not in features]\n",
    "    df_.drop(columns=other_cols,axis=1, inplace=True)\n",
    "    uni_cols=[]\n",
    "    for col in df_.columns:\n",
    "        # if col in ['call_to_retention_ind','vol','vol_ctr_ind','std_emp_cnt_r30d_smhm','std_talk_time_r30d_smhm', 'livingwell_cnt', 'facilities_cnt', 'upgr_wln_security_cnt_r30d','streamplus_cnt']: continue\n",
    "        if df_[col].nunique()==1:\n",
    "            uni_cols.append(col)\n",
    "    uni_cols = [col for col in uni_cols if col not in features]\n",
    "    df_.drop(columns=uni_cols,axis=1, inplace=True)  \n",
    "    return df_"
   ]
  },
  {
   "cell_type": "code",
   "execution_count": null,
   "id": "07813028-a15f-4eca-9ce2-09afb3c7a4d2",
   "metadata": {},
   "outputs": [],
   "source": [
    "# df_nov_processed = preprocessing(df_nov,le_dict_cp)\n",
    "\n",
    "df_dec_processed = preprocessing(df_dec,le_dict_cp)\n",
    "df_jan_processed = preprocessing(df_jan,le_dict_cp)"
   ]
  },
  {
   "cell_type": "code",
   "execution_count": null,
   "id": "a9ebb0c1-a20b-401b-869f-69e2ff4ad92d",
   "metadata": {},
   "outputs": [],
   "source": [
    "# X_test_nov = df_nov_processed[features]\n",
    "\n",
    "X_test_dec = df_dec_processed[features]\n",
    "X_test_jan = df_jan_processed[features]"
   ]
  },
  {
   "cell_type": "code",
   "execution_count": null,
   "id": "c8ec89f2-6c92-4019-a61b-5fba4ed95b8d",
   "metadata": {},
   "outputs": [],
   "source": [
    "# y_pred_nov = model_lgb.predict(X_test_nov,num_iteration=model_lgb.best_iteration)\n",
    "y_pred_dec = model_lgb.predict(X_test_dec,num_iteration=model_lgb.best_iteration)\n",
    "y_pred_jan = model_lgb.predict(X_test_jan,num_iteration=model_lgb.best_iteration)"
   ]
  },
  {
   "cell_type": "code",
   "execution_count": null,
   "id": "40114faf-e780-4eaf-ad0b-1edae4da21b6",
   "metadata": {},
   "outputs": [],
   "source": []
  },
  {
   "cell_type": "code",
   "execution_count": null,
   "id": "4c333e43-b3a4-426c-9ac2-be29aaed55da",
   "metadata": {},
   "outputs": [],
   "source": [
    "# lg_1 = get_lift(y_pred_nov,y_true_jan,10)\n",
    "# sns.barplot(x='Decile',y='lift',data=lg_1)\n",
    "# lg_1"
   ]
  },
  {
   "cell_type": "code",
   "execution_count": null,
   "id": "466f44e0-b0a5-4fb7-a699-886f8f08ada9",
   "metadata": {},
   "outputs": [],
   "source": [
    "lg_2 = get_lift(y_pred_dec,y_true_dec,20)\n",
    "sns.barplot(x='Decile',y='lift',data=lg_2)\n",
    "lg_2"
   ]
  },
  {
   "cell_type": "code",
   "execution_count": null,
   "id": "3d998552-1991-4edb-ab15-1ec56a0cecee",
   "metadata": {},
   "outputs": [],
   "source": [
    "lg_2 = get_lift(y_pred_dec,y_true_dec,10)\n",
    "sns.barplot(x='Decile',y='lift',data=lg_2)\n",
    "lg_2"
   ]
  },
  {
   "cell_type": "code",
   "execution_count": null,
   "id": "7c9346d2-992f-49f8-b712-87b37b6b13b7",
   "metadata": {},
   "outputs": [],
   "source": [
    "lg_3 = get_lift(y_pred_jan,y_true_jan,10)\n",
    "sns.barplot(x='Decile',y='lift',data=lg_3)\n",
    "lg_3"
   ]
  },
  {
   "cell_type": "code",
   "execution_count": null,
   "id": "3d5d5ad3-f7e2-46b8-8c02-824df89ef43d",
   "metadata": {},
   "outputs": [],
   "source": []
  },
  {
   "cell_type": "code",
   "execution_count": null,
   "id": "e328011e-3a45-4b5a-93b9-db4fa84a18e0",
   "metadata": {},
   "outputs": [],
   "source": []
  },
  {
   "cell_type": "code",
   "execution_count": null,
   "id": "f7b772d0-c1fa-4566-a57e-c664ee113722",
   "metadata": {},
   "outputs": [],
   "source": []
  },
  {
   "cell_type": "code",
   "execution_count": null,
   "id": "88579f85-f800-486b-b6b4-17d60cef4d47",
   "metadata": {},
   "outputs": [],
   "source": [
    "from sklearn.metrics import f1_score"
   ]
  },
  {
   "cell_type": "code",
   "execution_count": null,
   "id": "2a0c13eb-8d23-4e9e-9c7b-d52e000e996e",
   "metadata": {},
   "outputs": [],
   "source": []
  },
  {
   "cell_type": "code",
   "execution_count": null,
   "id": "4e493396-0240-4083-92cf-268ce72c27c9",
   "metadata": {},
   "outputs": [],
   "source": [
    "df_ = X_train.copy()\n",
    "df_['target'] = y_train\n",
    "corr_df = df_.corr()['target']\n",
    "corr_df=corr_df.sort_values(ascending=False)\n",
    "corr_df"
   ]
  },
  {
   "cell_type": "code",
   "execution_count": null,
   "id": "cdcdf164-230c-4784-8735-f61c82374814",
   "metadata": {},
   "outputs": [],
   "source": [
    "corr_df.head(20)"
   ]
  },
  {
   "cell_type": "code",
   "execution_count": null,
   "id": "703ae3e6-4fd6-4d2a-a8d2-f95d83ab666d",
   "metadata": {},
   "outputs": [],
   "source": [
    "feature_imp = pd.DataFrame({'Value':model_lgb.feature_importance(),'Feature':X_train.columns})\n",
    "feature_imp.sort_values(by=\"Value\", ascending=False,inplace=True)"
   ]
  },
  {
   "cell_type": "code",
   "execution_count": null,
   "id": "827fce6b-6875-43c8-97fb-32c7b97360f4",
   "metadata": {},
   "outputs": [],
   "source": [
    "importances = model_lgb.feature_importance()\n",
    "\n",
    "# Get the index of importances from greatest importance to least\n",
    "sorted_index = np.argsort(importances)[::-1]\n",
    "x = range(len(importances))\n",
    "\n",
    "feature_names = X_train.columns\n",
    "\n",
    "# Create tick labels \n",
    "labels = np.array(feature_names)[sorted_index]\n",
    "\n",
    "for idx in sorted_index: \n",
    "    print(f'{feature_names[idx]}, {importances[idx]}', end='\\n')"
   ]
  },
  {
   "cell_type": "code",
   "execution_count": null,
   "id": "8701ad5e-6c4c-4d32-bf47-9e98bab22a60",
   "metadata": {},
   "outputs": [],
   "source": [
    "feature_imp.loc[feature_imp.Value>30].head(20)"
   ]
  },
  {
   "cell_type": "code",
   "execution_count": null,
   "id": "1fc0fcc3-7ad7-4c06-b955-51b6e2aea29d",
   "metadata": {},
   "outputs": [],
   "source": [
    "feature_imp.loc[feature_imp.Value>60]['Feature'].values"
   ]
  },
  {
   "cell_type": "code",
   "execution_count": null,
   "id": "50258470-7c03-46e7-8c2b-e79bb745ed39",
   "metadata": {},
   "outputs": [],
   "source": []
  },
  {
   "cell_type": "code",
   "execution_count": null,
   "id": "96ef7338-6aab-478f-8283-2683e286e0ec",
   "metadata": {},
   "outputs": [],
   "source": []
  }
 ],
 "metadata": {
  "kernelspec": {
   "display_name": "Python 3 (ipykernel)",
   "language": "python",
   "name": "python3"
  },
  "language_info": {
   "codemirror_mode": {
    "name": "ipython",
    "version": 3
   },
   "file_extension": ".py",
   "mimetype": "text/x-python",
   "name": "python",
   "nbconvert_exporter": "python",
   "pygments_lexer": "ipython3",
   "version": "3.7.12"
  }
 },
 "nbformat": 4,
 "nbformat_minor": 5
}
