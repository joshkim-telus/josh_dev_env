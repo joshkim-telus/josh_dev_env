{
 "cells": [
  {
   "cell_type": "code",
   "execution_count": 2,
   "id": "a2ddab0e-1d05-4f6e-8696-8e4dbdf9edf9",
   "metadata": {},
   "outputs": [],
   "source": [
    "#### import global modules\n",
    "import os\n",
    "import sys\n",
    "import pandas as pd\n",
    "import numpy as np\n",
    "from pathlib import Path\n",
    "from yaml import safe_load\n",
    "import google.oauth2.credentials\n",
    "from google.cloud import bigquery\n",
    "import gc\n",
    "\n",
    "# Set global vars\n",
    "pth_project = Path(os.getcwd().split('notebooks')[0])\n",
    "pth_data = pth_project / 'data'\n",
    "pth_queries = pth_project / 'core' / 'queries'\n",
    "pth_creds = pth_project / 'conf' / 'local' / 'project_config.yaml'\n",
    "sys.path.insert(0, str(pth_project))\n",
    "d_project_config = safe_load(pth_creds.open())\n",
    "# d_params = safe_load((pth_project / 'core' / 'parameters' / 'common.yaml').open())['data_extract']\n",
    "\n",
    "# import local modules\n",
    "from core.utils.gcp import connect_bq_services\n",
    "# from core.etl.extract import extract_bq_data, extract_pr_codes, format_conv_df, filter_convs\n",
    "\n",
    "# Connect to google services\n",
    "bq_client = connect_bq_services(d_project_config['gcp-project-name'])\n",
    "pd.options.display.max_rows = 100"
   ]
  },
  {
   "cell_type": "code",
   "execution_count": 3,
   "id": "45aed2cf-f4d1-46f3-a8a2-9b87fe570909",
   "metadata": {},
   "outputs": [],
   "source": [
    "# Sep_deacts=pd.read_csv('SMHM_Deacts_Sep2022.csv')"
   ]
  },
  {
   "cell_type": "code",
   "execution_count": 4,
   "id": "acabde42-b945-423c-93c7-5b8ce0bae3d3",
   "metadata": {},
   "outputs": [],
   "source": [
    "Nov_deacts=pd.read_csv('SMHH_CHURN_DEC2022.csv')"
   ]
  },
  {
   "cell_type": "code",
   "execution_count": 5,
   "id": "e3c40aa9-6dfd-4893-8131-764d6aba840f",
   "metadata": {},
   "outputs": [
    {
     "name": "stdout",
     "output_type": "stream",
     "text": [
      "<class 'pandas.core.frame.DataFrame'>\n",
      "RangeIndex: 4229 entries, 0 to 4228\n",
      "Data columns (total 43 columns):\n",
      " #   Column                       Non-Null Count  Dtype  \n",
      "---  ------                       --------------  -----  \n",
      " 0   ACTIVITY_DATE                4229 non-null   object \n",
      " 1   CUST_ID                      4229 non-null   int64  \n",
      " 2   BILLING_ACCOUNT_NUM          4229 non-null   int64  \n",
      " 3   BUS_BILLING_ACCOUNT_NUM      4229 non-null   int64  \n",
      " 4   BUS_PROD_INSTNC_ID           4229 non-null   int64  \n",
      " 5   ACTIVITY_REASON_TXT          4229 non-null   object \n",
      " 6   ACTIVITY_REASON_TYPE_CD      4229 non-null   object \n",
      " 7   ACTIVITY_REASON_SUB_TYPE_CD  4229 non-null   object \n",
      " 8   INITIAL_ACTIVATION_TS        4229 non-null   object \n",
      " 9   CONTRACT_START_DT            3552 non-null   object \n",
      " 10  CONTRACT_END_DT              3552 non-null   object \n",
      " 11  TERM_LENGTH_NUM              4229 non-null   int64  \n",
      " 12  PREFERRED_LANGUAGE_TXT       4229 non-null   object \n",
      " 13  BUSINESS_LINE                4229 non-null   object \n",
      " 14  PRODUCT_RGU_TYPE             4229 non-null   object \n",
      " 15  FIFA_TAG                     4229 non-null   object \n",
      " 16  TECHNOLOGY_TYPE_CD           4229 non-null   object \n",
      " 17  BI_PRODUCT_TYPE_CD           4229 non-null   object \n",
      " 18  CT_CALL_DT_MST               3495 non-null   object \n",
      " 19  CT_PRIMARY_CAT1              3493 non-null   object \n",
      " 20  CT_PRIMARY_CAT2              3358 non-null   object \n",
      " 21  CT_PRIMARY_CAT3              1234 non-null   object \n",
      " 22  CT_PRODUCT_OUTCOME_CAT2      1882 non-null   object \n",
      " 23  CT_PRODUCT_OUTCOME_CAT3      1649 non-null   object \n",
      " 24  CT_PRODUCT_OUTCOME_CAT4      1486 non-null   object \n",
      " 25  PORT_ANY_TYPE                4229 non-null   int64  \n",
      " 26  PORT_TO_KNOWN                4229 non-null   int64  \n",
      " 27  PORT_OUT_NNSP                0 non-null      float64\n",
      " 28  PORT_CREATE_DT               0 non-null      float64\n",
      " 29  PORT_DUE_DATE                0 non-null      float64\n",
      " 30  ORDER_ACTION_CREATE_TS       4216 non-null   object \n",
      " 31  MUNICIPALITY_NM              4216 non-null   object \n",
      " 32  PROVINCE_STATE_CD            4216 non-null   object \n",
      " 33  SOURCE_USR_CHNL_TXT          4216 non-null   object \n",
      " 34  BI_CHANNEL_TAG_CD            4216 non-null   object \n",
      " 35  ORIG_TEAM_MEMBER_KEY         4216 non-null   float64\n",
      " 36  ORIG_TEAM_MEMBER_ID          4216 non-null   float64\n",
      " 37  ORIG_TM_WORK_LOCN_NM         4216 non-null   object \n",
      " 38  MAX_PRODUCT_PRICE_AMT        4216 non-null   float64\n",
      " 39  PROCESS_TYPE_TXT             4216 non-null   object \n",
      " 40  ORDER_ACTION_DUE_TS          4216 non-null   object \n",
      " 41  ORDER_FMS_ADDRESS_ID         4216 non-null   float64\n",
      " 42  TRANSACTION_TYPE_TXT         4216 non-null   object \n",
      "dtypes: float64(7), int64(7), object(29)\n",
      "memory usage: 1.4+ MB\n"
     ]
    }
   ],
   "source": [
    "Nov_deacts.info()"
   ]
  },
  {
   "cell_type": "code",
   "execution_count": 6,
   "id": "3f07adf0-3f50-42df-b59e-a89f84d44255",
   "metadata": {},
   "outputs": [],
   "source": [
    "Nov_deacts['Deact_Flag']=1"
   ]
  },
  {
   "cell_type": "code",
   "execution_count": 7,
   "id": "7fd27280-64f6-4a2f-8357-2cb501e98ebd",
   "metadata": {},
   "outputs": [],
   "source": [
    "config= bigquery.job.LoadJobConfig()\n",
    "\n",
    "# config._properties['timePartitioning'] = {'field': 'Month_Year'}\n",
    "config.write_disposition = bigquery.WriteDisposition.WRITE_TRUNCATE\n",
    "\n",
    "Table_BQ = 'SHS.SHS_DEACTS_DEC2022'\n",
    "\n",
    "bq_table_instance= bq_client.load_table_from_dataframe(Nov_deacts, Table_BQ,job_config=config)"
   ]
  },
  {
   "cell_type": "code",
   "execution_count": null,
   "id": "65b11950-54d1-42a6-a678-1aadbc54d13d",
   "metadata": {},
   "outputs": [],
   "source": []
  }
 ],
 "metadata": {
  "kernelspec": {
   "display_name": "Python 3 (ipykernel)",
   "language": "python",
   "name": "python3"
  },
  "language_info": {
   "codemirror_mode": {
    "name": "ipython",
    "version": 3
   },
   "file_extension": ".py",
   "mimetype": "text/x-python",
   "name": "python",
   "nbconvert_exporter": "python",
   "pygments_lexer": "ipython3",
   "version": "3.8.12"
  }
 },
 "nbformat": 4,
 "nbformat_minor": 5
}
