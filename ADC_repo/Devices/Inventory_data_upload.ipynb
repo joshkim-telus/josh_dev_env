{
 "cells": [
  {
   "cell_type": "code",
   "execution_count": null,
   "id": "f1306153-d771-4e40-a62d-9ebf2183ed5b",
   "metadata": {},
   "outputs": [],
   "source": [
    "#### import global modules\n",
    "import os\n",
    "import sys\n",
    "import pandas as pd\n",
    "import numpy as np\n",
    "from pathlib import Path\n",
    "from yaml import safe_load\n",
    "import google.oauth2.credentials\n",
    "from google.cloud import bigquery\n",
    "import gc\n",
    "\n",
    "# Set global vars\n",
    "pth_project = Path(os.getcwd().split('notebooks')[0])\n",
    "pth_data = pth_project / 'data'\n",
    "pth_queries = pth_project / 'core' / 'queries'\n",
    "pth_creds = pth_project / 'conf' / 'local' / 'project_config.yaml'\n",
    "sys.path.insert(0, str(pth_project))\n",
    "d_project_config = safe_load(pth_creds.open())\n",
    "# d_params = safe_load((pth_project / 'core' / 'parameters' / 'common.yaml').open())['data_extract']\n",
    "\n",
    "# import local modules\n",
    "from core.utils.gcp import connect_bq_services\n",
    "# from core.etl.extract import extract_bq_data, extract_pr_codes, format_conv_df, filter_convs\n",
    "\n",
    "# Connect to google services\n",
    "bq_client = connect_bq_services(d_project_config['gcp-project-name'])\n",
    "pd.options.display.max_rows = 100"
   ]
  },
  {
   "cell_type": "code",
   "execution_count": null,
   "id": "eef0d333-a445-4e66-92dc-f0c39d791faf",
   "metadata": {},
   "outputs": [],
   "source": [
    "def extract_bq_data(bq_client, sql=None, pth_query=None):\n",
    "    if sql is not None:\n",
    "        df = bq_client.query(sql).to_dataframe()\n",
    "    elif pth_query is not None:\n",
    "        sql = pth_query.read_text()\n",
    "        df = bq_client.query(sql).to_dataframe()\n",
    "    else:\n",
    "        raise ValueError('`sql` or `pth_query` should be set')  \n",
    "    return df"
   ]
  },
  {
   "cell_type": "code",
   "execution_count": null,
   "id": "ce571cca-a560-40d6-8a96-1a4c0c081991",
   "metadata": {},
   "outputs": [],
   "source": [
    "cols_req=['Holding Dealer Organic ID',\n",
    " 'Holding Dealer DESC',\n",
    " 'Holding Partner Branch DESC',\n",
    " 'Customer Country NAME',\n",
    " 'Customer Territory NAME',\n",
    " 'Customer City ID',\n",
    " 'Customer ID ID',\n",
    " 'Alternate ID ID',\n",
    " 'Customer Termination Date ID',\n",
    " 'Technician NAME',\n",
    " 'Panel Type NAME',\n",
    " 'Panel Description NAME',\n",
    " 'Modem Serial # ID',\n",
    " 'Property Type NAME',\n",
    " 'Sensor Group ID',\n",
    " 'Sensor Group DESC',\n",
    " 'Combined Device Type DESC',\n",
    " 'Device Model Name Name',\n",
    " 'Device Manufacturer NAME',\n",
    " 'Device ID',\n",
    " 'Device Organic ID',\n",
    " 'Device NAME',\n",
    " 'Device Firmware Version NAME',\n",
    " 'Device Unique ID (MAC) ID',\n",
    " 'Device Install Date ID',\n",
    " 'Device Removal Date ID15525']"
   ]
  },
  {
   "cell_type": "code",
   "execution_count": null,
   "id": "6660711c-19ba-4b0a-a63a-3b12cd09f8f9",
   "metadata": {},
   "outputs": [],
   "source": [
    "Inventory_data= pd.read_table('Inventory-20230207.csv',low_memory=False,sep=\"|\",usecols=cols_req)"
   ]
  },
  {
   "cell_type": "code",
   "execution_count": null,
   "id": "35338299-3db6-4769-b167-13f186c4b342",
   "metadata": {},
   "outputs": [],
   "source": [
    "Inventory_data.info()"
   ]
  },
  {
   "cell_type": "code",
   "execution_count": null,
   "id": "ac347876-b416-466d-b39e-55b7f7c437e3",
   "metadata": {},
   "outputs": [],
   "source": [
    "Inventory_data.head()"
   ]
  },
  {
   "cell_type": "code",
   "execution_count": null,
   "id": "79611948-c5fa-40bb-940a-34a6cea3afae",
   "metadata": {},
   "outputs": [],
   "source": [
    "Inventory_data = Inventory_data.rename(columns={'@version': 'version'})"
   ]
  },
  {
   "cell_type": "code",
   "execution_count": null,
   "id": "5536681d-22b8-4bc9-835d-a2a07b415856",
   "metadata": {},
   "outputs": [],
   "source": [
    "rep_chars = ' |\\|-|:|/|#'\n",
    "\n",
    "Inventory_data.columns = Inventory_data.columns.str.replace(rep_chars, '_')"
   ]
  },
  {
   "cell_type": "code",
   "execution_count": null,
   "id": "de420829-cf5b-410b-b9d4-3f1434c51dd3",
   "metadata": {},
   "outputs": [],
   "source": [
    "Inventory_data.info(verbose=True)"
   ]
  },
  {
   "cell_type": "code",
   "execution_count": null,
   "id": "64f55e7a-2ccc-4363-a073-b10d78e9f342",
   "metadata": {},
   "outputs": [],
   "source": [
    "Inventory_data = Inventory_data.rename(columns={'Device_Unique_ID_(MAC)_ID': 'Device_Unique_ID_MAC_ID'})"
   ]
  },
  {
   "cell_type": "code",
   "execution_count": null,
   "id": "b183ecee-cc45-4602-a0a8-8b3a54572e6d",
   "metadata": {},
   "outputs": [],
   "source": [
    "Inventory_data = Inventory_data.rename(columns={'Device_Removal_Date_ID15525': 'Device_Removal_Date'})"
   ]
  },
  {
   "cell_type": "code",
   "execution_count": null,
   "id": "50299cb0-ef0d-488e-9258-400ebf40ef76",
   "metadata": {},
   "outputs": [],
   "source": [
    "Inventory_data['Combined_Device_Type_DESC'].value_counts()"
   ]
  },
  {
   "cell_type": "code",
   "execution_count": null,
   "id": "f31718d7-afb6-4327-b1cf-1245bf81facc",
   "metadata": {},
   "outputs": [],
   "source": [
    "Inventory_data['Customer_Termination_Date_ID'].value_counts()"
   ]
  },
  {
   "cell_type": "code",
   "execution_count": null,
   "id": "ce99cce4-2ee1-4971-8f4c-d71379eda59d",
   "metadata": {},
   "outputs": [],
   "source": [
    "Inventory_data['Device_Removal_Date'].value_counts()"
   ]
  },
  {
   "cell_type": "code",
   "execution_count": null,
   "id": "79d02d21-b8d9-4f84-a1ec-ec0869bfd062",
   "metadata": {},
   "outputs": [],
   "source": [
    "cols_req=['Customer_ID_ID','Combined_Device_Type_DESC','Device_Install_Date_ID',\n",
    "Inventory_data_1=Inventory_data["
   ]
  },
  {
   "cell_type": "code",
   "execution_count": null,
   "id": "5067ad7f-34c6-4130-bdaa-1bc88d9b5ca9",
   "metadata": {},
   "outputs": [],
   "source": [
    "config= bigquery.job.LoadJobConfig()\n",
    "\n",
    "# config._properties['timePartitioning'] = {'field': 'Month_Year'}\n",
    "config.write_disposition = bigquery.WriteDisposition.WRITE_APPEND\n",
    "\n",
    "Table_BQ = 'ADC_updated.ADC_Inventory_device_data_Feb2023'\n",
    "\n",
    "bq_table_instance= bq_client.load_table_from_dataframe(Inventory_data, Table_BQ,job_config=config)"
   ]
  },
  {
   "cell_type": "code",
   "execution_count": null,
   "id": "51c04b5e-ea02-4636-a581-a1da8594cfd8",
   "metadata": {},
   "outputs": [],
   "source": [
    "Camera_details_query='''\n",
    "\n",
    "\n",
    "with data_main as ( select * from (\n",
    "  SELECT \n",
    "    Customer_ID_ID as customer_id,\n",
    "    combined_device_type_desc,\n",
    "    Device_ID\n",
    "    FROM `divgpras-pr-579355.ADC_updated.ADC_Inventory_device_data_Feb2023` \n",
    "    where Combined_Device_Type_DESC='Camera'\n",
    "    and date(Device_Removal_Date) is NULL \n",
    "\n",
    ")\n",
    "PIVOT\n",
    "(\n",
    "  count(distinct Device_ID) AS count_devices\n",
    "  FOR Combined_Device_Type_DESC in ('Camera')\n",
    ")\n",
    "\n",
    ")\n",
    "\n",
    "select * from data_main\n",
    "\n",
    "\n",
    "\n",
    "'''"
   ]
  },
  {
   "cell_type": "code",
   "execution_count": null,
   "id": "0f0a38ec-ad86-4a32-8496-11281cabf4fa",
   "metadata": {},
   "outputs": [],
   "source": [
    "Camera_count_DF=extract_bq_data(bq_client, sql=Camera_details_query)"
   ]
  },
  {
   "cell_type": "code",
   "execution_count": null,
   "id": "3fb402a4-cf62-4c70-b4f1-934d35d9c386",
   "metadata": {},
   "outputs": [],
   "source": [
    "Camera_count_DF.info()"
   ]
  },
  {
   "cell_type": "code",
   "execution_count": null,
   "id": "3e354aa6-c3a6-4d5e-94a9-489cd1a9f70a",
   "metadata": {},
   "outputs": [],
   "source": [
    "Camera_count_DF.to_csv('SHS_camera_count_Feb2023.csv',index=False)"
   ]
  },
  {
   "cell_type": "code",
   "execution_count": null,
   "id": "422e2ccc-f7f2-4afd-911e-847820c03bdb",
   "metadata": {},
   "outputs": [],
   "source": [
    "Telus_Camera_details=pd.read_csv('adc_camera_device_details_telus_Nov2022.csv',low_memory=False)"
   ]
  },
  {
   "cell_type": "code",
   "execution_count": null,
   "id": "a8394dd7-ba51-4b53-9a64-4933e4e05d62",
   "metadata": {},
   "outputs": [],
   "source": [
    "Telus_Camera_details.info()"
   ]
  },
  {
   "cell_type": "code",
   "execution_count": null,
   "id": "93031908-2f31-4805-ab98-782074586dd2",
   "metadata": {},
   "outputs": [],
   "source": [
    "config= bigquery.job.LoadJobConfig()\n",
    "\n",
    "# config._properties['timePartitioning'] = {'field': 'Month_Year'}\n",
    "config.write_disposition = bigquery.WriteDisposition.WRITE_APPEND\n",
    "\n",
    "Table_BQ = 'ADC_updated.ADC_Camera_details'\n",
    "\n",
    "bq_table_instance= bq_client.load_table_from_dataframe(Telus_Camera_details, Table_BQ,job_config=config)"
   ]
  },
  {
   "cell_type": "code",
   "execution_count": null,
   "id": "b7cf4dea-3cd4-41b9-9992-17f76038ea47",
   "metadata": {},
   "outputs": [],
   "source": []
  }
 ],
 "metadata": {
  "kernelspec": {
   "display_name": "Python 3 (ipykernel)",
   "language": "python",
   "name": "python3"
  },
  "language_info": {
   "codemirror_mode": {
    "name": "ipython",
    "version": 3
   },
   "file_extension": ".py",
   "mimetype": "text/x-python",
   "name": "python",
   "nbconvert_exporter": "python",
   "pygments_lexer": "ipython3",
   "version": "3.8.12"
  }
 },
 "nbformat": 4,
 "nbformat_minor": 5
}
