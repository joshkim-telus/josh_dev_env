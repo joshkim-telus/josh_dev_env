{
 "cells": [
  {
   "cell_type": "code",
   "execution_count": 1,
   "id": "f1306153-d771-4e40-a62d-9ebf2183ed5b",
   "metadata": {},
   "outputs": [],
   "source": [
    "#### import global modules\n",
    "import os\n",
    "import sys\n",
    "import pandas as pd\n",
    "import numpy as np\n",
    "from pathlib import Path\n",
    "from yaml import safe_load\n",
    "import google.oauth2.credentials\n",
    "from google.cloud import bigquery\n",
    "import gc\n",
    "\n",
    "# Set global vars\n",
    "pth_project = Path(os.getcwd().split('notebooks')[0])\n",
    "pth_data = pth_project / 'data'\n",
    "pth_queries = pth_project / 'core' / 'queries'\n",
    "pth_creds = pth_project / 'conf' / 'local' / 'project_config.yaml'\n",
    "sys.path.insert(0, str(pth_project))\n",
    "d_project_config = safe_load(pth_creds.open())\n",
    "# d_params = safe_load((pth_project / 'core' / 'parameters' / 'common.yaml').open())['data_extract']\n",
    "\n",
    "# import local modules\n",
    "from core.utils.gcp import connect_bq_services\n",
    "# from core.etl.extract import extract_bq_data, extract_pr_codes, format_conv_df, filter_convs\n",
    "\n",
    "# Connect to google services\n",
    "bq_client = connect_bq_services(d_project_config['gcp-project-name'])\n",
    "pd.options.display.max_rows = 100"
   ]
  },
  {
   "cell_type": "code",
   "execution_count": 2,
   "id": "eef0d333-a445-4e66-92dc-f0c39d791faf",
   "metadata": {},
   "outputs": [],
   "source": [
    "def extract_bq_data(bq_client, sql=None, pth_query=None):\n",
    "    if sql is not None:\n",
    "        df = bq_client.query(sql).to_dataframe()\n",
    "    elif pth_query is not None:\n",
    "        sql = pth_query.read_text()\n",
    "        df = bq_client.query(sql).to_dataframe()\n",
    "    else:\n",
    "        raise ValueError('`sql` or `pth_query` should be set')  \n",
    "    return df"
   ]
  },
  {
   "cell_type": "code",
   "execution_count": 3,
   "id": "ce571cca-a560-40d6-8a96-1a4c0c081991",
   "metadata": {},
   "outputs": [],
   "source": [
    "cols_req=['Holding Dealer Organic ID',\n",
    " 'Holding Dealer DESC',\n",
    " 'Holding Partner Branch DESC',\n",
    " 'Customer Country NAME',\n",
    " 'Customer Territory NAME',\n",
    " 'Customer City ID',\n",
    " 'Customer ID ID',\n",
    " 'Alternate ID ID',\n",
    " 'Customer Termination Date ID',\n",
    " 'Technician NAME',\n",
    " 'Panel Type NAME',\n",
    " 'Panel Description NAME',\n",
    " 'Modem Serial # ID',\n",
    " 'Property Type NAME',\n",
    " 'Sensor Group ID',\n",
    " 'Sensor Group DESC',\n",
    " 'Combined Device Type DESC',\n",
    " 'Device Model Name Name',\n",
    " 'Device Manufacturer NAME',\n",
    " 'Device ID',\n",
    " 'Device Organic ID',\n",
    " 'Device NAME',\n",
    " 'Device Firmware Version NAME',\n",
    " 'Device Unique ID (MAC) ID',\n",
    " 'Device Install Date ID',\n",
    " 'Device Removal Date ID15525']"
   ]
  },
  {
   "cell_type": "code",
   "execution_count": 4,
   "id": "6660711c-19ba-4b0a-a63a-3b12cd09f8f9",
   "metadata": {},
   "outputs": [],
   "source": [
    "Inventory_data= pd.read_table('Inventory-20230207.csv',low_memory=False,sep=\"|\",usecols=cols_req)"
   ]
  },
  {
   "cell_type": "code",
   "execution_count": 5,
   "id": "35338299-3db6-4769-b167-13f186c4b342",
   "metadata": {},
   "outputs": [
    {
     "name": "stdout",
     "output_type": "stream",
     "text": [
      "<class 'pandas.core.frame.DataFrame'>\n",
      "RangeIndex: 11755735 entries, 0 to 11755734\n",
      "Data columns (total 26 columns):\n",
      " #   Column                        Dtype \n",
      "---  ------                        ----- \n",
      " 0   Holding Dealer Organic ID     object\n",
      " 1   Holding Dealer DESC           object\n",
      " 2   Holding Partner Branch DESC   object\n",
      " 3   Customer Country NAME         object\n",
      " 4   Customer Territory NAME       object\n",
      " 5   Customer City ID              object\n",
      " 6   Customer ID ID                object\n",
      " 7   Alternate ID ID               object\n",
      " 8   Customer Termination Date ID  object\n",
      " 9   Technician NAME               object\n",
      " 10  Panel Type NAME               object\n",
      " 11  Panel Description NAME        object\n",
      " 12  Modem Serial # ID             object\n",
      " 13  Property Type NAME            object\n",
      " 14  Sensor Group ID               object\n",
      " 15  Sensor Group DESC             object\n",
      " 16  Combined Device Type DESC     object\n",
      " 17  Device Model Name Name        object\n",
      " 18  Device Manufacturer NAME      object\n",
      " 19  Device ID                     object\n",
      " 20  Device Organic ID             object\n",
      " 21  Device NAME                   object\n",
      " 22  Device Firmware Version NAME  object\n",
      " 23  Device Unique ID (MAC) ID     object\n",
      " 24  Device Install Date ID        object\n",
      " 25  Device Removal Date ID15525   object\n",
      "dtypes: object(26)\n",
      "memory usage: 2.3+ GB\n"
     ]
    }
   ],
   "source": [
    "Inventory_data.info()"
   ]
  },
  {
   "cell_type": "code",
   "execution_count": 9,
   "id": "ac347876-b416-466d-b39e-55b7f7c437e3",
   "metadata": {},
   "outputs": [
    {
     "data": {
      "text/html": [
       "<div>\n",
       "<style scoped>\n",
       "    .dataframe tbody tr th:only-of-type {\n",
       "        vertical-align: middle;\n",
       "    }\n",
       "\n",
       "    .dataframe tbody tr th {\n",
       "        vertical-align: top;\n",
       "    }\n",
       "\n",
       "    .dataframe thead th {\n",
       "        text-align: right;\n",
       "    }\n",
       "</style>\n",
       "<table border=\"1\" class=\"dataframe\">\n",
       "  <thead>\n",
       "    <tr style=\"text-align: right;\">\n",
       "      <th></th>\n",
       "      <th>Holding_Dealer_Organic_ID</th>\n",
       "      <th>Holding_Dealer_DESC</th>\n",
       "      <th>Holding_Partner_Branch_DESC</th>\n",
       "      <th>Customer_Country_NAME</th>\n",
       "      <th>Customer_Territory_NAME</th>\n",
       "      <th>Customer_City_ID</th>\n",
       "      <th>Customer_ID_ID</th>\n",
       "      <th>Alternate_ID_ID</th>\n",
       "      <th>Customer_Termination_Date_ID</th>\n",
       "      <th>Technician_NAME</th>\n",
       "      <th>...</th>\n",
       "      <th>Combined_Device_Type_DESC</th>\n",
       "      <th>Device_Model_Name_Name</th>\n",
       "      <th>Device_Manufacturer_NAME</th>\n",
       "      <th>Device_ID</th>\n",
       "      <th>Device_Organic_ID</th>\n",
       "      <th>Device_NAME</th>\n",
       "      <th>Device_Firmware_Version_NAME</th>\n",
       "      <th>Device_Unique_ID_(MAC)_ID</th>\n",
       "      <th>Device_Install_Date_ID</th>\n",
       "      <th>Device_Removal_Date_ID15525</th>\n",
       "    </tr>\n",
       "  </thead>\n",
       "  <tbody>\n",
       "    <tr>\n",
       "      <th>0</th>\n",
       "      <td>15525</td>\n",
       "      <td>TELUS Communications Inc.</td>\n",
       "      <td>Demo SubDealer</td>\n",
       "      <td>Canada</td>\n",
       "      <td>West Canada</td>\n",
       "      <td>Abbotsford</td>\n",
       "      <td>9599032</td>\n",
       "      <td>NaN</td>\n",
       "      <td>NaN</td>\n",
       "      <td>Chad Rusk</td>\n",
       "      <td>...</td>\n",
       "      <td>Partition</td>\n",
       "      <td>IQ Panel 2</td>\n",
       "      <td>Qolsys</td>\n",
       "      <td>127774407</td>\n",
       "      <td>127</td>\n",
       "      <td>Panel</td>\n",
       "      <td>NaN</td>\n",
       "      <td>NaN</td>\n",
       "      <td>2020-08-20</td>\n",
       "      <td>NaN</td>\n",
       "    </tr>\n",
       "    <tr>\n",
       "      <th>1</th>\n",
       "      <td>15525</td>\n",
       "      <td>TELUS Communications Inc.</td>\n",
       "      <td>Demo SubDealer</td>\n",
       "      <td>Canada</td>\n",
       "      <td>West Canada</td>\n",
       "      <td>Abbotsford</td>\n",
       "      <td>9599032</td>\n",
       "      <td>NaN</td>\n",
       "      <td>NaN</td>\n",
       "      <td>Chad Rusk</td>\n",
       "      <td>...</td>\n",
       "      <td>Qolsys Panel Camera</td>\n",
       "      <td>Panel Camera (Unknown Model)</td>\n",
       "      <td>Unknown</td>\n",
       "      <td>127775073</td>\n",
       "      <td>229</td>\n",
       "      <td>Panel Camera</td>\n",
       "      <td>NaN</td>\n",
       "      <td>NaN</td>\n",
       "      <td>2020-08-20</td>\n",
       "      <td>NaN</td>\n",
       "    </tr>\n",
       "    <tr>\n",
       "      <th>2</th>\n",
       "      <td>15525</td>\n",
       "      <td>TELUS Communications Inc.</td>\n",
       "      <td>Demo SubDealer</td>\n",
       "      <td>Canada</td>\n",
       "      <td>West Canada</td>\n",
       "      <td>Abbotsford</td>\n",
       "      <td>9599032</td>\n",
       "      <td>NaN</td>\n",
       "      <td>NaN</td>\n",
       "      <td>Chad Rusk</td>\n",
       "      <td>...</td>\n",
       "      <td>Camera</td>\n",
       "      <td>ADC-V723</td>\n",
       "      <td>LiteOn</td>\n",
       "      <td>127763961</td>\n",
       "      <td>2048</td>\n",
       "      <td>ADC-V723</td>\n",
       "      <td>0.6.2.577</td>\n",
       "      <td>B83A9D291AB8</td>\n",
       "      <td>2020-08-20</td>\n",
       "      <td>NaN</td>\n",
       "    </tr>\n",
       "    <tr>\n",
       "      <th>3</th>\n",
       "      <td>15525</td>\n",
       "      <td>TELUS Communications Inc.</td>\n",
       "      <td>Demo SubDealer</td>\n",
       "      <td>Canada</td>\n",
       "      <td>West Canada</td>\n",
       "      <td>Abbotsford</td>\n",
       "      <td>9599032</td>\n",
       "      <td>NaN</td>\n",
       "      <td>NaN</td>\n",
       "      <td>Chad Rusk</td>\n",
       "      <td>...</td>\n",
       "      <td>Z-Wave Light</td>\n",
       "      <td>Linear Smart LED Light Bulb</td>\n",
       "      <td>Linear Corp</td>\n",
       "      <td>127724411</td>\n",
       "      <td>1200</td>\n",
       "      <td>Light</td>\n",
       "      <td>03035F0508</td>\n",
       "      <td>NaN</td>\n",
       "      <td>2020-08-20</td>\n",
       "      <td>NaN</td>\n",
       "    </tr>\n",
       "    <tr>\n",
       "      <th>4</th>\n",
       "      <td>15525</td>\n",
       "      <td>TELUS Communications Inc.</td>\n",
       "      <td>Demo SubDealer</td>\n",
       "      <td>Canada</td>\n",
       "      <td>West Canada</td>\n",
       "      <td>Abbotsford</td>\n",
       "      <td>9599032</td>\n",
       "      <td>NaN</td>\n",
       "      <td>NaN</td>\n",
       "      <td>Chad Rusk</td>\n",
       "      <td>...</td>\n",
       "      <td>Local Gateway</td>\n",
       "      <td>Gateway (Unknown Model)</td>\n",
       "      <td>Unknown</td>\n",
       "      <td>127700887</td>\n",
       "      <td>4000</td>\n",
       "      <td>Broadband Connection</td>\n",
       "      <td>NaN</td>\n",
       "      <td>NaN</td>\n",
       "      <td>2020-08-20</td>\n",
       "      <td>NaN</td>\n",
       "    </tr>\n",
       "  </tbody>\n",
       "</table>\n",
       "<p>5 rows × 26 columns</p>\n",
       "</div>"
      ],
      "text/plain": [
       "  Holding_Dealer_Organic_ID        Holding_Dealer_DESC  \\\n",
       "0                     15525  TELUS Communications Inc.   \n",
       "1                     15525  TELUS Communications Inc.   \n",
       "2                     15525  TELUS Communications Inc.   \n",
       "3                     15525  TELUS Communications Inc.   \n",
       "4                     15525  TELUS Communications Inc.   \n",
       "\n",
       "  Holding_Partner_Branch_DESC Customer_Country_NAME Customer_Territory_NAME  \\\n",
       "0              Demo SubDealer                Canada             West Canada   \n",
       "1              Demo SubDealer                Canada             West Canada   \n",
       "2              Demo SubDealer                Canada             West Canada   \n",
       "3              Demo SubDealer                Canada             West Canada   \n",
       "4              Demo SubDealer                Canada             West Canada   \n",
       "\n",
       "  Customer_City_ID Customer_ID_ID Alternate_ID_ID  \\\n",
       "0       Abbotsford        9599032             NaN   \n",
       "1       Abbotsford        9599032             NaN   \n",
       "2       Abbotsford        9599032             NaN   \n",
       "3       Abbotsford        9599032             NaN   \n",
       "4       Abbotsford        9599032             NaN   \n",
       "\n",
       "  Customer_Termination_Date_ID Technician_NAME  ... Combined_Device_Type_DESC  \\\n",
       "0                          NaN       Chad Rusk  ...                 Partition   \n",
       "1                          NaN       Chad Rusk  ...       Qolsys Panel Camera   \n",
       "2                          NaN       Chad Rusk  ...                    Camera   \n",
       "3                          NaN       Chad Rusk  ...              Z-Wave Light   \n",
       "4                          NaN       Chad Rusk  ...             Local Gateway   \n",
       "\n",
       "         Device_Model_Name_Name Device_Manufacturer_NAME  Device_ID  \\\n",
       "0                    IQ Panel 2                   Qolsys  127774407   \n",
       "1  Panel Camera (Unknown Model)                  Unknown  127775073   \n",
       "2                      ADC-V723                   LiteOn  127763961   \n",
       "3   Linear Smart LED Light Bulb              Linear Corp  127724411   \n",
       "4       Gateway (Unknown Model)                  Unknown  127700887   \n",
       "\n",
       "  Device_Organic_ID           Device_NAME Device_Firmware_Version_NAME  \\\n",
       "0               127                 Panel                          NaN   \n",
       "1               229          Panel Camera                          NaN   \n",
       "2              2048              ADC-V723                    0.6.2.577   \n",
       "3              1200                 Light                   03035F0508   \n",
       "4              4000  Broadband Connection                          NaN   \n",
       "\n",
       "  Device_Unique_ID_(MAC)_ID Device_Install_Date_ID Device_Removal_Date_ID15525  \n",
       "0                       NaN             2020-08-20                         NaN  \n",
       "1                       NaN             2020-08-20                         NaN  \n",
       "2              B83A9D291AB8             2020-08-20                         NaN  \n",
       "3                       NaN             2020-08-20                         NaN  \n",
       "4                       NaN             2020-08-20                         NaN  \n",
       "\n",
       "[5 rows x 26 columns]"
      ]
     },
     "execution_count": 9,
     "metadata": {},
     "output_type": "execute_result"
    }
   ],
   "source": [
    "Inventory_data.head()"
   ]
  },
  {
   "cell_type": "code",
   "execution_count": 10,
   "id": "79611948-c5fa-40bb-940a-34a6cea3afae",
   "metadata": {},
   "outputs": [],
   "source": [
    "Inventory_data = Inventory_data.rename(columns={'@version': 'version'})"
   ]
  },
  {
   "cell_type": "code",
   "execution_count": 11,
   "id": "5536681d-22b8-4bc9-835d-a2a07b415856",
   "metadata": {},
   "outputs": [
    {
     "name": "stderr",
     "output_type": "stream",
     "text": [
      "/tmp/ipykernel_13462/1998562179.py:3: FutureWarning: The default value of regex will change from True to False in a future version.\n",
      "  Inventory_data.columns = Inventory_data.columns.str.replace(rep_chars, '_')\n"
     ]
    }
   ],
   "source": [
    "rep_chars = ' |\\|-|:|/|#'\n",
    "\n",
    "Inventory_data.columns = Inventory_data.columns.str.replace(rep_chars, '_')"
   ]
  },
  {
   "cell_type": "code",
   "execution_count": 20,
   "id": "de420829-cf5b-410b-b9d4-3f1434c51dd3",
   "metadata": {},
   "outputs": [
    {
     "name": "stdout",
     "output_type": "stream",
     "text": [
      "<class 'pandas.core.frame.DataFrame'>\n",
      "RangeIndex: 11755735 entries, 0 to 11755734\n",
      "Data columns (total 26 columns):\n",
      " #   Column                        Dtype \n",
      "---  ------                        ----- \n",
      " 0   Holding_Dealer_Organic_ID     object\n",
      " 1   Holding_Dealer_DESC           object\n",
      " 2   Holding_Partner_Branch_DESC   object\n",
      " 3   Customer_Country_NAME         object\n",
      " 4   Customer_Territory_NAME       object\n",
      " 5   Customer_City_ID              object\n",
      " 6   Customer_ID_ID                object\n",
      " 7   Alternate_ID_ID               object\n",
      " 8   Customer_Termination_Date_ID  object\n",
      " 9   Technician_NAME               object\n",
      " 10  Panel_Type_NAME               object\n",
      " 11  Panel_Description_NAME        object\n",
      " 12  Modem_Serial___ID             object\n",
      " 13  Property_Type_NAME            object\n",
      " 14  Sensor_Group_ID               object\n",
      " 15  Sensor_Group_DESC             object\n",
      " 16  Combined_Device_Type_DESC     object\n",
      " 17  Device_Model_Name_Name        object\n",
      " 18  Device_Manufacturer_NAME      object\n",
      " 19  Device_ID                     object\n",
      " 20  Device_Organic_ID             object\n",
      " 21  Device_NAME                   object\n",
      " 22  Device_Firmware_Version_NAME  object\n",
      " 23  Device_Unique_ID_MAC_ID       object\n",
      " 24  Device_Install_Date_ID        object\n",
      " 25  Device_Removal_Date           object\n",
      "dtypes: object(26)\n",
      "memory usage: 2.3+ GB\n"
     ]
    }
   ],
   "source": [
    "Inventory_data.info(verbose=True)"
   ]
  },
  {
   "cell_type": "code",
   "execution_count": 13,
   "id": "64f55e7a-2ccc-4363-a073-b10d78e9f342",
   "metadata": {},
   "outputs": [],
   "source": [
    "Inventory_data = Inventory_data.rename(columns={'Device_Unique_ID_(MAC)_ID': 'Device_Unique_ID_MAC_ID'})"
   ]
  },
  {
   "cell_type": "code",
   "execution_count": 15,
   "id": "b183ecee-cc45-4602-a0a8-8b3a54572e6d",
   "metadata": {},
   "outputs": [],
   "source": [
    "Inventory_data = Inventory_data.rename(columns={'Device_Removal_Date_ID15525': 'Device_Removal_Date'})"
   ]
  },
  {
   "cell_type": "code",
   "execution_count": 14,
   "id": "50299cb0-ef0d-488e-9258-400ebf40ef76",
   "metadata": {},
   "outputs": [
    {
     "data": {
      "text/plain": [
       "Contact                                           3631929\n",
       "Motion                                            1392846\n",
       "Camera                                            1322729\n",
       "Partition                                          998191\n",
       "Smoke/Heat                                         715929\n",
       "                                                   ...   \n",
       "Contact / Motion                                        1\n",
       "Z-Wave Thermostat / Power Meter                         1\n",
       "Power Meter / Wireless Repeater                         1\n",
       "Z-Wave Safe                                             1\n",
       "Z-Wave Controller / Z-Wave Light / Power Meter          1\n",
       "Name: Combined_Device_Type_DESC, Length: 101, dtype: int64"
      ]
     },
     "execution_count": 14,
     "metadata": {},
     "output_type": "execute_result"
    }
   ],
   "source": [
    "Inventory_data['Combined_Device_Type_DESC'].value_counts()"
   ]
  },
  {
   "cell_type": "code",
   "execution_count": 17,
   "id": "f31718d7-afb6-4327-b1cf-1245bf81facc",
   "metadata": {},
   "outputs": [
    {
     "data": {
      "text/plain": [
       "11/10/2022    70275\n",
       "6/1/2022      68567\n",
       "2/10/2022     62714\n",
       "1/20/2023     59279\n",
       "8/4/2022      58545\n",
       "              ...  \n",
       "2/17/2014         1\n",
       "7/2/2010          1\n",
       "9/7/2013          1\n",
       "6/4/2016          1\n",
       "1/8/2014          1\n",
       "Name: Customer_Termination_Date_ID, Length: 3857, dtype: int64"
      ]
     },
     "execution_count": 17,
     "metadata": {},
     "output_type": "execute_result"
    }
   ],
   "source": [
    "Inventory_data['Customer_Termination_Date_ID'].value_counts()"
   ]
  },
  {
   "cell_type": "code",
   "execution_count": 18,
   "id": "ce99cce4-2ee1-4971-8f4c-d71379eda59d",
   "metadata": {},
   "outputs": [
    {
     "data": {
      "text/plain": [
       "2022-11-10                   60563\n",
       "2022-06-01                   59511\n",
       "2022-02-10                   54949\n",
       "2023-01-20                   50849\n",
       "2022-08-04                   50218\n",
       "                             ...  \n",
       "Device Removal Date ID343        1\n",
       "2010-08-30                       1\n",
       "2011-04-28                       1\n",
       "2010-10-12                       1\n",
       "2010-08-18                       1\n",
       "Name: Device_Removal_Date, Length: 4169, dtype: int64"
      ]
     },
     "execution_count": 18,
     "metadata": {},
     "output_type": "execute_result"
    }
   ],
   "source": [
    "Inventory_data['Device_Removal_Date'].value_counts()"
   ]
  },
  {
   "cell_type": "code",
   "execution_count": null,
   "id": "79d02d21-b8d9-4f84-a1ec-ec0869bfd062",
   "metadata": {},
   "outputs": [],
   "source": [
    "cols_req=['Customer_ID_ID','Combined_Device_Type_DESC','Device_Install_Date_ID',\n",
    "Inventory_data_1=Inventory_data["
   ]
  },
  {
   "cell_type": "code",
   "execution_count": 21,
   "id": "5067ad7f-34c6-4130-bdaa-1bc88d9b5ca9",
   "metadata": {},
   "outputs": [],
   "source": [
    "config= bigquery.job.LoadJobConfig()\n",
    "\n",
    "# config._properties['timePartitioning'] = {'field': 'Month_Year'}\n",
    "config.write_disposition = bigquery.WriteDisposition.WRITE_APPEND\n",
    "\n",
    "Table_BQ = 'ADC_updated.ADC_Inventory_device_data_Feb2023'\n",
    "\n",
    "bq_table_instance= bq_client.load_table_from_dataframe(Inventory_data, Table_BQ,job_config=config)"
   ]
  },
  {
   "cell_type": "code",
   "execution_count": 22,
   "id": "51c04b5e-ea02-4636-a581-a1da8594cfd8",
   "metadata": {},
   "outputs": [],
   "source": [
    "Camera_details_query='''\n",
    "\n",
    "\n",
    "with data_main as ( select * from (\n",
    "  SELECT \n",
    "    Customer_ID_ID as customer_id,\n",
    "    combined_device_type_desc,\n",
    "    Device_ID\n",
    "    FROM `divgpras-pr-579355.ADC_updated.ADC_Inventory_device_data_Feb2023` \n",
    "    where Combined_Device_Type_DESC='Camera'\n",
    "    and date(Device_Removal_Date) is NULL \n",
    "\n",
    ")\n",
    "PIVOT\n",
    "(\n",
    "  count(distinct Device_ID) AS count_devices\n",
    "  FOR Combined_Device_Type_DESC in ('Camera')\n",
    ")\n",
    "\n",
    ")\n",
    "\n",
    "select * from data_main\n",
    "\n",
    "\n",
    "\n",
    "'''"
   ]
  },
  {
   "cell_type": "code",
   "execution_count": 23,
   "id": "0f0a38ec-ad86-4a32-8496-11281cabf4fa",
   "metadata": {},
   "outputs": [],
   "source": [
    "Camera_count_DF=extract_bq_data(bq_client, sql=Camera_details_query)"
   ]
  },
  {
   "cell_type": "code",
   "execution_count": 24,
   "id": "3fb402a4-cf62-4c70-b4f1-934d35d9c386",
   "metadata": {},
   "outputs": [
    {
     "name": "stdout",
     "output_type": "stream",
     "text": [
      "<class 'pandas.core.frame.DataFrame'>\n",
      "RangeIndex: 405877 entries, 0 to 405876\n",
      "Data columns (total 2 columns):\n",
      " #   Column                Non-Null Count   Dtype \n",
      "---  ------                --------------   ----- \n",
      " 0   customer_id           405877 non-null  object\n",
      " 1   count_devices_Camera  405877 non-null  Int64 \n",
      "dtypes: Int64(1), object(1)\n",
      "memory usage: 6.6+ MB\n"
     ]
    }
   ],
   "source": [
    "Camera_count_DF.info()"
   ]
  },
  {
   "cell_type": "code",
   "execution_count": 25,
   "id": "3e354aa6-c3a6-4d5e-94a9-489cd1a9f70a",
   "metadata": {},
   "outputs": [],
   "source": [
    "Camera_count_DF.to_csv('SHS_camera_count_Feb2023.csv',index=False)"
   ]
  },
  {
   "cell_type": "code",
   "execution_count": 10,
   "id": "422e2ccc-f7f2-4afd-911e-847820c03bdb",
   "metadata": {},
   "outputs": [],
   "source": [
    "Telus_Camera_details=pd.read_csv('adc_camera_device_details_telus_Nov2022.csv',low_memory=False)"
   ]
  },
  {
   "cell_type": "code",
   "execution_count": 11,
   "id": "a8394dd7-ba51-4b53-9a64-4933e4e05d62",
   "metadata": {},
   "outputs": [
    {
     "name": "stdout",
     "output_type": "stream",
     "text": [
      "<class 'pandas.core.frame.DataFrame'>\n",
      "RangeIndex: 600606 entries, 0 to 600605\n",
      "Data columns (total 31 columns):\n",
      " #   Column                             Non-Null Count   Dtype  \n",
      "---  ------                             --------------   -----  \n",
      " 0   Unknown_ID                         600606 non-null  int64  \n",
      " 1   Holding_Dealer_Organic_ID          600606 non-null  int64  \n",
      " 2   Holding_Dealer_DESC                600606 non-null  object \n",
      " 3   Holding_Branch_DESC                600606 non-null  object \n",
      " 4   Country_NAME                       600606 non-null  object \n",
      " 5   Territory_NAME                     600606 non-null  object \n",
      " 6   City_ID                            595732 non-null  object \n",
      " 7   Customer_ID_ID                     600606 non-null  int64  \n",
      " 8   Alternate_ID_ID                    521545 non-null  object \n",
      " 9   Customer_Termination_Date_ID       0 non-null       float64\n",
      " 10  Technician_NAME                    600606 non-null  object \n",
      " 11  Panel_Type_NAME                    600606 non-null  object \n",
      " 12  Panel_Description_NAME             557206 non-null  object \n",
      " 13  Modem_Serial_ID                    600606 non-null  object \n",
      " 14  Property_Type_NAME                 600606 non-null  object \n",
      " 15  Sensor_Group_ID                    600606 non-null  int64  \n",
      " 16  Sensor_Group_DESC                  600606 non-null  object \n",
      " 17  Updated_Combined_Device_Type_DESC  600606 non-null  object \n",
      " 18  Updated_Device_Model_Name_Name     600606 non-null  int64  \n",
      " 19  product_name                       600606 non-null  object \n",
      " 20  is_TELUS_equipment                 600606 non-null  int64  \n",
      " 21  Device_Manufacturer_NAME           600606 non-null  object \n",
      " 22  Device_ID                          600606 non-null  int64  \n",
      " 23  Device_Organic_ID                  600606 non-null  int64  \n",
      " 24  Device_NAME                        600606 non-null  object \n",
      " 25  Device_Firmware_Version_NAME       600601 non-null  object \n",
      " 26  Device_Unique_ID_MAC_ID            600606 non-null  object \n",
      " 27  Device_Install_Date_ID             600606 non-null  object \n",
      " 28  Device_Removal_Date_ID             41764 non-null   object \n",
      " 29  SKU_Check                          600606 non-null  object \n",
      " 30  partition_date                     600606 non-null  object \n",
      "dtypes: float64(1), int64(8), object(22)\n",
      "memory usage: 142.1+ MB\n"
     ]
    }
   ],
   "source": [
    "Telus_Camera_details.info()"
   ]
  },
  {
   "cell_type": "code",
   "execution_count": 13,
   "id": "93031908-2f31-4805-ab98-782074586dd2",
   "metadata": {},
   "outputs": [],
   "source": [
    "config= bigquery.job.LoadJobConfig()\n",
    "\n",
    "# config._properties['timePartitioning'] = {'field': 'Month_Year'}\n",
    "config.write_disposition = bigquery.WriteDisposition.WRITE_APPEND\n",
    "\n",
    "Table_BQ = 'ADC_updated.ADC_Camera_details'\n",
    "\n",
    "bq_table_instance= bq_client.load_table_from_dataframe(Telus_Camera_details, Table_BQ,job_config=config)"
   ]
  },
  {
   "cell_type": "code",
   "execution_count": null,
   "id": "b7cf4dea-3cd4-41b9-9992-17f76038ea47",
   "metadata": {},
   "outputs": [],
   "source": []
  }
 ],
 "metadata": {
  "kernelspec": {
   "display_name": "Python 3 (ipykernel)",
   "language": "python",
   "name": "python3"
  },
  "language_info": {
   "codemirror_mode": {
    "name": "ipython",
    "version": 3
   },
   "file_extension": ".py",
   "mimetype": "text/x-python",
   "name": "python",
   "nbconvert_exporter": "python",
   "pygments_lexer": "ipython3",
   "version": "3.8.12"
  }
 },
 "nbformat": 4,
 "nbformat_minor": 5
}
