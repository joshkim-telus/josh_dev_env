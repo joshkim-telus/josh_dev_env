{
 "cells": [
  {
   "cell_type": "code",
   "execution_count": null,
   "id": "ade236bd-4130-4df2-8c58-946d72c2f44f",
   "metadata": {},
   "outputs": [],
   "source": [
    "#### import global modules\n",
    "import os\n",
    "import sys\n",
    "import pandas as pd\n",
    "from pathlib import Path\n",
    "from yaml import safe_load\n",
    "import google.oauth2.credentials\n",
    "from google.cloud import bigquery\n",
    "\n",
    "# Set global vars\n",
    "pth_project = Path(os.getcwd().split('notebooks')[0])\n",
    "pth_data = pth_project / 'data'\n",
    "pth_queries = pth_project / 'core' / 'queries'\n",
    "pth_creds = pth_project / 'conf' / 'local' / 'project_config.yaml'\n",
    "sys.path.insert(0, str(pth_project))\n",
    "d_project_config = safe_load(pth_creds.open())\n",
    "# d_params = safe_load((pth_project / 'core' / 'parameters' / 'common.yaml').open())['data_extract']\n",
    "\n",
    "# import local modules\n",
    "from core.utils.gcp import connect_bq_services\n",
    "# from core.etl.extract import extract_bq_data, extract_pr_codes, format_conv_df, filter_convs\n",
    "\n",
    "# Connect to google services\n",
    "bq_client = connect_bq_services(d_project_config['gcp-project-name'])\n",
    "pd.options.display.max_rows = 100"
   ]
  },
  {
   "cell_type": "code",
   "execution_count": null,
   "id": "7fec64f9-4a82-4a9f-8254-3fa83544c799",
   "metadata": {},
   "outputs": [],
   "source": [
    "def extract_bq_data(bq_client, sql=None, pth_query=None):\n",
    "    if sql is not None:\n",
    "        df = bq_client.query(sql).to_dataframe()\n",
    "    elif pth_query is not None:\n",
    "        sql = pth_query.read_text()\n",
    "        df = bq_client.query(sql).to_dataframe()\n",
    "    else:\n",
    "        raise ValueError('`sql` or `pth_query` should be set')  \n",
    "    return df"
   ]
  },
  {
   "cell_type": "code",
   "execution_count": null,
   "id": "7ab7f619-27db-43be-a6cf-a3529bb062b6",
   "metadata": {},
   "outputs": [],
   "source": [
    "Query='''\n",
    "\n",
    "with Customer_details as\n",
    " (\n",
    "SELECT a.customer_id,\n",
    "  FROM `cio-datahub-enterprise-pr-183a.src_adc.bq_customer_account_details` as a\n",
    "left join `cio-datahub-enterprise-pr-183a.src_adc.bq_customer_account_terminated_details` as b\n",
    "on a.customer_id=b.customer_id WHERE b.customer_id IS NULL\n",
    "and a.last_updt_ts=(SELECT MAX(st1.last_updt_ts) FROM `cio-datahub-enterprise-pr-183a.src_adc.bq_customer_account_details` AS st1) \n",
    "),\n",
    "\n",
    "-- NEW METHOD FOR MAX RECORD\n",
    "signal_info_final as\n",
    "(select customer_id,network_id, network_desc, original_upgrade_date from `cio-datahub-enterprise-pr-183a.src_adc.bq_account_tracking_lte_upgrade` \n",
    "QUALIFY ROW_NUMBER() OVER (PARTITION BY customer_id ORDER BY original_upgrade_date DESC) = 1)\n",
    "-- ,\n",
    "\n",
    "\n",
    "select cd.* ,sig.network_id,sig.network_desc, sig.original_upgrade_date from Customer_details cd \n",
    "left join signal_info_final sig \n",
    "on  cd.customer_id=sig.customer_id\n",
    "order by cd.customer_id\n",
    "\n",
    "\n",
    "\n",
    "'''"
   ]
  },
  {
   "cell_type": "code",
   "execution_count": null,
   "id": "af076a0e-bc5b-4180-83b1-4c93485d863d",
   "metadata": {},
   "outputs": [],
   "source": [
    "Customer_Network_LTE_Upgrade_DF= extract_bq_data(bq_client,sql=Query)"
   ]
  },
  {
   "cell_type": "code",
   "execution_count": null,
   "id": "624c6189-71b2-41cb-8c7f-57ffd9c3bc68",
   "metadata": {},
   "outputs": [],
   "source": [
    "Customer_Network_LTE_Upgrade_DF.info()"
   ]
  },
  {
   "cell_type": "code",
   "execution_count": null,
   "id": "dc8e36f6-7064-43f2-9104-16f584ab51ff",
   "metadata": {},
   "outputs": [],
   "source": [
    "Customer_Network_LTE_Upgrade_DF.head()"
   ]
  },
  {
   "cell_type": "code",
   "execution_count": null,
   "id": "93055a26-22fd-4cb0-afd1-230042de4e29",
   "metadata": {},
   "outputs": [],
   "source": [
    "print('Missing Network info for customers is ',round(sum(Customer_Network_LTE_Upgrade_DF['network_desc'].isna())*100/Customer_Network_LTE_Upgrade_DF.shape[0],2),\"%\")"
   ]
  },
  {
   "cell_type": "code",
   "execution_count": null,
   "id": "7dd0427b-6c8e-420e-bf85-e9f1b351006f",
   "metadata": {},
   "outputs": [],
   "source": [
    "# Customer_Network_LTE_Upgrade_DF['network_desc'].fillna('Missing_network_information',inplace=True)"
   ]
  },
  {
   "cell_type": "code",
   "execution_count": null,
   "id": "167a4939-0278-47bf-89a0-4fee7c38925b",
   "metadata": {},
   "outputs": [],
   "source": [
    "Customer_Network_LTE_Upgrade_DF.value_counts('network_desc')"
   ]
  },
  {
   "cell_type": "code",
   "execution_count": null,
   "id": "de6ed21f-f843-4f68-8aad-072e70d41460",
   "metadata": {},
   "outputs": [],
   "source": [
    "Customer_Network_LTE_Upgrade_DF['network_desc'].fillna('Missing_network_information',inplace=True)"
   ]
  },
  {
   "cell_type": "code",
   "execution_count": null,
   "id": "730cb268-7f71-4185-86c6-f030588605a9",
   "metadata": {},
   "outputs": [],
   "source": [
    "Customer_Network_LTE_Upgrade_DF.value_counts('network_desc')"
   ]
  },
  {
   "cell_type": "code",
   "execution_count": null,
   "id": "226f6fb4-fd62-4679-8bdc-3ed3b6b84705",
   "metadata": {},
   "outputs": [],
   "source": [
    "Customer_Network_LTE_Upgrade_DF.value_counts('network_desc',normalize=True)*100"
   ]
  },
  {
   "cell_type": "code",
   "execution_count": null,
   "id": "ef9840a7-14aa-4268-8f69-8f6870b4542a",
   "metadata": {},
   "outputs": [],
   "source": [
    "Customer_Network_LTE_Upgrade_DF.head()"
   ]
  },
  {
   "cell_type": "code",
   "execution_count": null,
   "id": "2bb7a112-cc11-4d14-902f-f2824ae69997",
   "metadata": {},
   "outputs": [],
   "source": [
    "config= bigquery.job.LoadJobConfig()\n",
    "\n",
    "config.write_disposition = bigquery.WriteDisposition.WRITE_TRUNCATE\n",
    "\n",
    "\n",
    "Table_BQ = 'ADC.Customer_Network_LTE_upgrade'\n",
    "\n",
    "bq_table_instance= bq_client.load_table_from_dataframe(Customer_Network_LTE_Upgrade_DF, Table_BQ,job_config=config)"
   ]
  },
  {
   "cell_type": "code",
   "execution_count": null,
   "id": "71110a3f-191b-4a68-aa46-a93f5018aac5",
   "metadata": {},
   "outputs": [],
   "source": []
  }
 ],
 "metadata": {
  "kernelspec": {
   "display_name": "Python 3 (ipykernel)",
   "language": "python",
   "name": "python3"
  },
  "language_info": {
   "codemirror_mode": {
    "name": "ipython",
    "version": 3
   },
   "file_extension": ".py",
   "mimetype": "text/x-python",
   "name": "python",
   "nbconvert_exporter": "python",
   "pygments_lexer": "ipython3",
   "version": "3.7.12"
  }
 },
 "nbformat": 4,
 "nbformat_minor": 5
}
