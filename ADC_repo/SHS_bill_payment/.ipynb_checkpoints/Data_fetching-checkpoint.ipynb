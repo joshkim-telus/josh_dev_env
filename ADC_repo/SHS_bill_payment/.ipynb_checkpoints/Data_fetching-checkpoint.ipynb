{
 "cells": [
  {
   "cell_type": "code",
   "execution_count": null,
   "id": "8bde0821-00d5-4427-ab25-940f8fce94bc",
   "metadata": {},
   "outputs": [],
   "source": [
    "#### import global modules\n",
    "import os\n",
    "import sys\n",
    "import pandas as pd\n",
    "import numpy as np\n",
    "from pathlib import Path\n",
    "from yaml import safe_load\n",
    "import google.oauth2.credentials\n",
    "from google.cloud import bigquery\n",
    "import gc\n",
    "\n",
    "# Set global vars\n",
    "pth_project = Path(os.getcwd().split('notebooks')[0])\n",
    "pth_data = pth_project / 'data'\n",
    "pth_queries = pth_project / 'core' / 'queries'\n",
    "pth_creds = pth_project / 'conf' / 'local' / 'project_config.yaml' \n",
    "sys.path.insert(0, str(pth_project))\n",
    "d_project_config = safe_load(pth_creds.open())\n",
    "# d_params = safe_load((pth_project / 'core' / 'parameters' / 'common.yaml').open())['data_extract']\n",
    "\n",
    "# import local modules\n",
    "from core.utils.gcp import connect_bq_services\n",
    "# from core.etl.extract import extract_bq_data, extract_pr_codes, format_conv_df, filter_convs\n",
    "\n",
    "# Connect to google services\n",
    "bq_client = connect_bq_services(d_project_config['gcp-project-name'])\n",
    "pd.options.display.max_rows = 100"
   ]
  },
  {
   "cell_type": "code",
   "execution_count": null,
   "id": "273e408e-cfd9-40b8-8d37-a249f303a428",
   "metadata": {},
   "outputs": [],
   "source": [
    "def extract_bq_data(bq_client, sql=None, pth_query=None):\n",
    "    if sql is not None:\n",
    "        df = bq_client.query(sql).to_dataframe()\n",
    "    elif pth_query is not None:\n",
    "        sql = pth_query.read_text()\n",
    "        df = bq_client.query(sql).to_dataframe()\n",
    "    else:\n",
    "        raise ValueError('`sql` or `pth_query` should be set')  \n",
    "    return df"
   ]
  },
  {
   "cell_type": "code",
   "execution_count": null,
   "id": "0e13819a-6015-4ce9-aba9-375cc85e8e8a",
   "metadata": {},
   "outputs": [],
   "source": [
    "Query='''\n",
    "\n",
    "\n",
    "\n",
    "\n",
    "\n",
    "with original\n",
    "as \n",
    "(SELECT \n",
    "min(dly_ord_itm_actvy_ts) as first_add,\n",
    "bus_prod_instnc_id\n",
    " FROM `cio-datahub-enterprise-pr-183a.ent_cust_ord_actvy.bq_dly_wln_ord_item_actvy` WHERE ord_act_typ_cd = 'Add' and prod_typ_cd in ('SMHM') and ord_act_stat_cd = 'Processed' and bus_prod_instnc_id is not null\n",
    " and date(actvn_ts) >= '2023-01-01' \n",
    "\n",
    " group by bus_prod_instnc_id) /* Fetch original order date for the product instance */\n",
    "\n",
    ",details as\n",
    "(\n",
    "SELECT \n",
    "dly_ord_itm_actvy_ts,\n",
    "actvn_ts,\n",
    "cast (bus_billg_acct_num as INT) as BAN,\n",
    "bus_prod_instnc_id,\n",
    " FROM `cio-datahub-enterprise-pr-183a.ent_cust_ord_actvy.bq_dly_wln_ord_item_actvy` WHERE ord_act_typ_cd = 'Add' and prod_typ_cd in ('SMHM') and ord_act_stat_cd = 'Processed'\n",
    "and date(actvn_ts) >= '2023-01-01'  \n",
    " \n",
    " )\n",
    " \n",
    " \n",
    " \n",
    "  /* Gather channel details */\n",
    "\n",
    ",channel_refs as (\n",
    "\n",
    "\n",
    "with\n",
    "latest_update as (\n",
    "SELECT\n",
    "chnl_org_id,\n",
    "max(chnl_org_key) as latest_key FROM `cio-datahub-enterprise-pr-183a.ent_sls_chnl.bq_channel_org_dim`\n",
    "group by chnl_org_id\n",
    "\n",
    ")\n",
    "\n",
    "select distinct\n",
    "t1.chnl_org_id,\n",
    "chnl_org_txt from `cio-datahub-enterprise-pr-183a.ent_sls_chnl.bq_channel_org_dim` t1 inner join latest_update on latest_key = chnl_org_key\n",
    "\n",
    ")\n",
    "\n",
    ",Bill_payment_data as (\n",
    "\n",
    "\n",
    "SELECT\n",
    "  oth_billg_acct_num AS BAN,\n",
    "  --min(bill_dt) as first_payment_date,\n",
    "  MAX(CASE WHEN EXTRACT(YEAR FROM bill_dt) = 2023 AND EXTRACT(MONTH FROM bill_dt) = 1 THEN 1 ELSE 0 END) AS Jan_2023_Paid,\n",
    "  MAX(CASE WHEN EXTRACT(YEAR FROM bill_dt) = 2023 AND EXTRACT(MONTH FROM bill_dt) = 2 THEN 1 ELSE 0 END) AS Feb_2023_Paid,\n",
    "  MAX(CASE WHEN EXTRACT(YEAR FROM bill_dt) = 2023 AND EXTRACT(MONTH FROM bill_dt) = 3 THEN 1 ELSE 0 END) AS Mar_2023_Paid,\n",
    "  MAX(CASE WHEN EXTRACT(YEAR FROM bill_dt) = 2023 AND EXTRACT(MONTH FROM bill_dt) = 4 THEN 1 ELSE 0 END) AS Apr_2023_Paid,\n",
    "  MAX(CASE WHEN EXTRACT(YEAR FROM bill_dt) = 2023 AND EXTRACT(MONTH FROM bill_dt) = 5 THEN 1 ELSE 0 END) AS May_2023_Paid,\n",
    "  MAX(CASE WHEN EXTRACT(YEAR FROM bill_dt) = 2023 AND EXTRACT(MONTH FROM bill_dt) = 6 THEN 1 ELSE 0 END) AS Jun_2023_Paid,\n",
    "  MAX(CASE WHEN EXTRACT(YEAR FROM bill_dt) = 2023 AND EXTRACT(MONTH FROM bill_dt) = 7 THEN 1 ELSE 0 END) AS Jul_2023_Paid,\n",
    "  MAX(CASE WHEN EXTRACT(YEAR FROM bill_dt) = 2023 AND EXTRACT(MONTH FROM bill_dt) = 8 THEN 1 ELSE 0 END) AS Aug_2023_Paid,\n",
    "  MAX(CASE WHEN EXTRACT(YEAR FROM bill_dt) = 2023 AND EXTRACT(MONTH FROM bill_dt) = 9 THEN 1 ELSE 0 END) AS Sep_2023_Paid,\n",
    "  MAX(CASE WHEN EXTRACT(YEAR FROM bill_dt) = 2023 AND EXTRACT(MONTH FROM bill_dt) = 10 THEN 1 ELSE 0 END) AS Oct_2023_Paid,\n",
    "  MAX(CASE WHEN EXTRACT(YEAR FROM bill_dt) = 2023 AND EXTRACT(MONTH FROM bill_dt) = 11 THEN 1 ELSE 0 END) AS Nov_2023_Paid,\n",
    "  MAX(CASE WHEN EXTRACT(YEAR FROM bill_dt) = 2023 AND EXTRACT(MONTH FROM bill_dt) = 12 THEN 1 ELSE 0 END) AS Dec_2023_Paid,\n",
    "  MAX(CASE WHEN EXTRACT(YEAR FROM bill_dt) = 2024 AND EXTRACT(MONTH FROM bill_dt) = 1 THEN 1 ELSE 0 END) AS Jan_2024_Paid,\n",
    "  MAX(CASE WHEN EXTRACT(YEAR FROM bill_dt) = 2024 AND EXTRACT(MONTH FROM bill_dt) = 2 THEN 1 ELSE 0 END) AS Feb_2024_Paid,\n",
    "  MAX(CASE WHEN EXTRACT(YEAR FROM bill_dt) = 2024 AND EXTRACT(MONTH FROM bill_dt) = 3 THEN 1 ELSE 0 END) AS Mar_2024_Paid\n",
    "FROM\n",
    "  `cio-datahub-enterprise-pr-183a.ent_cust_bill.bq_wln_pymt_dtl`\n",
    "WHERE\n",
    "  bill_dt BETWEEN '2023-01-01' AND '2024-03-31'\n",
    "GROUP BY\n",
    "  oth_billg_acct_num\n",
    "\n",
    "\n",
    "\n",
    ")\n",
    "\n",
    "\n",
    ",province_info as (\n",
    "\n",
    "\n",
    "select\n",
    "      distinct\n",
    "      cast (bill_account_number as INT) as BAN\n",
    "      ,province as Province_Code\n",
    "      -- ,rank() over (partition by bill_account_number order by activation_dt desc) as rank_\n",
    "from `bi-srv-hsmsd-3c-pr-ca2cd4.hsmsd_3c_rpt_dataset.bq_rpt_chnl_order_ffh_dtl_view`\n",
    "where activation_dt >= '2023-01-01'\n",
    "and bill_account_number is not null\n",
    "and province is not null\n",
    "and product_family in ('SMHM')\n",
    "and action_type = 'Add'\n",
    "order by BAN\n",
    "\n",
    ")\n",
    "\n",
    "\n",
    ", ECID_data as (\n",
    "\n",
    "select \n",
    "distinct CAST(bacct_bus_bacct_num AS INT) as BAN,\n",
    "--cust_bus_cust_id as ECID,\n",
    "pi_prod_instnc_stat_cd as BAN_status\n",
    "--,pi_prod_instnc_typ_cd,pi_prod_instnc_stat_ts,prod_instnc_ts,pi_cntrct_start_ts as contract_start_date\n",
    "--,pi_cntrct_end_ts as contract_end_date\n",
    "from `cio-datahub-enterprise-pr-183a.ent_cust_cust.bq_prod_instnc_snpsht` \n",
    "WHERE DATE(prod_instnc_ts) = date(current_date()-1) \n",
    "and pi_prod_instnc_typ_cd ='SMHM' #Serice type\n",
    "and bus_prod_instnc_src_id = 1001 #BANs that are for home services\n",
    "--and pi_prod_instnc_stat_cd in ('A')\n",
    "and  consldt_cust_typ_cd = 'R'\n",
    "--QUALIFY ROW_NUMBER() OVER (PARTITION BY bacct_bus_bacct_num ORDER BY pi_prod_instnc_stat_ts DESC) = 1\n",
    "\n",
    "\n",
    ")\n",
    "\n",
    ",Order_data as (\n",
    "\n",
    "select\n",
    "date(details.dly_ord_itm_actvy_ts) as Order_date,\n",
    "date(details.actvn_ts) as Activation_date,\n",
    "date(DATE_TRUNC(details.actvn_ts, MONTH)) AS Activation_month,\n",
    "details.BAN as BAN,\n",
    "details.bus_prod_instnc_id as Prod_Instnc_ID,\n",
    "prov.Province_code,\n",
    "current_date() as Table_Update_date\n",
    "from details \n",
    "left join province_info prov  \n",
    "on details.BAN=prov.BAN\n",
    "inner join original on original.bus_prod_instnc_id = details.bus_prod_instnc_id and original.first_add = details.dly_ord_itm_actvy_ts \n",
    "\n",
    ")\n",
    "\n",
    "select * from \n",
    "Order_data a\n",
    "left join  Bill_payment_data b\n",
    "on a.BAN=b.BAN\n",
    "-- left join ECID_data c\n",
    "-- on a.BAN=c.BAN\n",
    "order by Activation_date\n",
    "\n",
    "'''"
   ]
  },
  {
   "cell_type": "code",
   "execution_count": null,
   "id": "6f1cb06a-fe6c-41b2-b7d5-17ed3551781b",
   "metadata": {},
   "outputs": [],
   "source": [
    "Sales_Bill_DF=extract_bq_data(bq_client, sql=Query)"
   ]
  },
  {
   "cell_type": "code",
   "execution_count": null,
   "id": "251e1c13-56e7-4ae5-91bc-e08223b167e0",
   "metadata": {},
   "outputs": [],
   "source": [
    "Sales_Bill_DF.info()"
   ]
  },
  {
   "cell_type": "code",
   "execution_count": null,
   "id": "c79e3308-ef63-409c-95e0-417aac8e1f87",
   "metadata": {},
   "outputs": [],
   "source": [
    "Sales_Bill_DF.isna().sum()/Sales_Bill_DF.shape[0]*100"
   ]
  },
  {
   "cell_type": "code",
   "execution_count": null,
   "id": "eaea17e4-2ed1-42d8-92f7-ac1d07fbb8b8",
   "metadata": {},
   "outputs": [],
   "source": [
    "Sales_Bill_DF.head()"
   ]
  },
  {
   "cell_type": "code",
   "execution_count": null,
   "id": "91113648-86c2-4a04-8d16-492bda914cb1",
   "metadata": {},
   "outputs": [],
   "source": [
    "# Sales_Bill_DF_grouped=Sales_Bill_DF.groupby('BAN').agg({'Order_date': 'min', 'first_payment_date': 'min', 'Table_Update_date': 'min'})"
   ]
  },
  {
   "cell_type": "code",
   "execution_count": null,
   "id": "4e22a40f-eee8-4e82-8fed-9452c029116d",
   "metadata": {},
   "outputs": [],
   "source": [
    "# Sales_Bill_DF_grouped.head()"
   ]
  },
  {
   "cell_type": "code",
   "execution_count": null,
   "id": "73a73db6-c6b1-4200-8ba5-095c236e9457",
   "metadata": {},
   "outputs": [],
   "source": [
    "# config= bigquery.job.LoadJobConfig()\n",
    "\n",
    "# # config._properties['timePartitioning'] = {'field': 'Month_Year'}\n",
    "# config.write_disposition = bigquery.WriteDisposition.WRITE_TRUNCATE\n",
    "\n",
    "# Table_BQ = 'pras-pr-223186.pras_pr_dataset.Sales_Order_Bill_payment_data'\n",
    "\n",
    "# bq_table_instance= bq_client.load_table_from_dataframe(Sales_Bill_DF_grouped, Table_BQ,job_config=config)"
   ]
  },
  {
   "cell_type": "code",
   "execution_count": null,
   "id": "327997f6-3d7e-4529-8e2a-dd1d7c51f766",
   "metadata": {},
   "outputs": [],
   "source": [
    "Sales_Bill_DF['BAN_1'].fillna(0,inplace=True)\n",
    "# Sales_Bill_DF['BAN_2'].fillna(0,inplace=True)\n",
    "# Sales_Bill_DF['ECID'].fillna(0,inplace=True)\n",
    "# Sales_Bill_DF['BAN_status'].fillna('None',inplace=True)\n"
   ]
  },
  {
   "cell_type": "code",
   "execution_count": null,
   "id": "49daa64e-06b5-4c7c-b588-e9b2793fd4bf",
   "metadata": {},
   "outputs": [],
   "source": [
    "Sales_Bill_DF['Never_Paid_Indicator'] = np.where(Sales_Bill_DF['BAN_1'] == 0, 1, 0)\n"
   ]
  },
  {
   "cell_type": "code",
   "execution_count": null,
   "id": "c9b5a2fb-5155-4d36-a464-0002138a6059",
   "metadata": {},
   "outputs": [],
   "source": [
    "paid_columns = [col for col in Sales_Bill_DF.columns if col.endswith('_Paid')]\n",
    "\n",
    "# Fill missing values in paid columns with zero\n",
    "Sales_Bill_DF[paid_columns] = Sales_Bill_DF[paid_columns].fillna(0)"
   ]
  },
  {
   "cell_type": "code",
   "execution_count": null,
   "id": "e91521a7-69d6-4e09-9465-74b3774ac96e",
   "metadata": {},
   "outputs": [],
   "source": [
    "Sales_Bill_DF.isna().sum()/Sales_Bill_DF.shape[0]*100"
   ]
  },
  {
   "cell_type": "code",
   "execution_count": null,
   "id": "6fcbc78a-c764-479c-8f61-f0b919b36d98",
   "metadata": {},
   "outputs": [],
   "source": [
    "Sales_Bill_DF.head()"
   ]
  },
  {
   "cell_type": "code",
   "execution_count": null,
   "id": "ff5b0e28-44c7-4943-ae70-3521be2d6d50",
   "metadata": {},
   "outputs": [],
   "source": [
    "\n",
    "\n",
    "# Ensure 'activation_month' is in datetime format\n",
    "Sales_Bill_DF['Activation_month'] = pd.to_datetime(Sales_Bill_DF['Activation_month'])\n",
    "\n",
    "# Function to get column name for N months after the activation month\n",
    "def get_future_month_col(activation_month, months_ahead):\n",
    "    future_month = activation_month + pd.DateOffset(months=months_ahead)\n",
    "    future_month_col = f\"{future_month.strftime('%b_%Y')}_Paid\"\n",
    "    return future_month_col\n",
    "\n",
    "# Adjusted part to handle NaN values safely\n",
    "for i in range(1, 5):\n",
    "    # Calculate future month column names\n",
    "    future_month_cols = Sales_Bill_DF['Activation_month'].apply(get_future_month_col, months_ahead=i)\n",
    "    \n",
    "    # Create a new column for each future month's payment status, handling NaN values\n",
    "    Sales_Bill_DF[f'{i}_Months_After_Activation'] = [\n",
    "        1 if col in Sales_Bill_DF.columns and not pd.isna(Sales_Bill_DF.at[j, col]) and Sales_Bill_DF.at[j, col] == 1 else 0\n",
    "        for j, col in enumerate(future_month_cols)\n",
    "    ]\n",
    "# Display the updated DataFrame\n",
    "# Sales_Bill_DF.head()"
   ]
  },
  {
   "cell_type": "code",
   "execution_count": null,
   "id": "011497c5-2b12-4f24-9fd2-911bab1b90e5",
   "metadata": {},
   "outputs": [],
   "source": [
    "Sales_Bill_DF.head()"
   ]
  },
  {
   "cell_type": "code",
   "execution_count": null,
   "id": "b5c7c68b-f3c1-463a-b02a-049defad912d",
   "metadata": {},
   "outputs": [],
   "source": [
    "Sales_Bill_DF['Province_code'].value_counts()"
   ]
  },
  {
   "cell_type": "code",
   "execution_count": null,
   "id": "74f53acc-2a87-4235-af63-c4d76839cacd",
   "metadata": {},
   "outputs": [],
   "source": [
    "Sales_Bill_DF_sub = Sales_Bill_DF[~Sales_Bill_DF['Province_code'].isin(['AB', 'BC'])][['Activation_month', 'BAN', 'Province_code', '1_Months_After_Activation', '2_Months_After_Activation', '3_Months_After_Activation', '4_Months_After_Activation', 'Never_Paid_Indicator']]\n"
   ]
  },
  {
   "cell_type": "code",
   "execution_count": null,
   "id": "776e60e6-1484-474f-8f2d-f01d8ab587c8",
   "metadata": {},
   "outputs": [],
   "source": [
    "Sales_Bill_DF_sub.to_csv('Sales_Billing_Data_Jan2023_Mar2024.csv',index=False)"
   ]
  },
  {
   "cell_type": "code",
   "execution_count": null,
   "id": "f39cd92e-9924-4464-97f7-e92368e3546a",
   "metadata": {},
   "outputs": [],
   "source": []
  }
 ],
 "metadata": {
  "kernelspec": {
   "display_name": "Python 3 (ipykernel)",
   "language": "python",
   "name": "python3"
  },
  "language_info": {
   "codemirror_mode": {
    "name": "ipython",
    "version": 3
   },
   "file_extension": ".py",
   "mimetype": "text/x-python",
   "name": "python",
   "nbconvert_exporter": "python",
   "pygments_lexer": "ipython3",
   "version": "3.10.13"
  }
 },
 "nbformat": 4,
 "nbformat_minor": 5
}
