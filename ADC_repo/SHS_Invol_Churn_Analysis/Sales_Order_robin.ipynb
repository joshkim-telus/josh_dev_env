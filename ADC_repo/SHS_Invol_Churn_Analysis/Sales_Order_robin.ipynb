{
 "cells": [
  {
   "cell_type": "code",
   "execution_count": 4,
   "id": "17863a5c-b0db-43e4-8cb9-09f87af031d8",
   "metadata": {},
   "outputs": [],
   "source": [
    "#### import global modules\n",
    "import os\n",
    "import sys\n",
    "import pandas as pd\n",
    "import numpy as np\n",
    "from pathlib import Path\n",
    "from yaml import safe_load\n",
    "import google.oauth2.credentials\n",
    "from google.cloud import bigquery\n",
    "import gc\n",
    "\n",
    "# Set global vars\n",
    "pth_project = Path(os.getcwd().split('notebooks')[0])\n",
    "pth_data = pth_project / 'data'\n",
    "pth_queries = pth_project / 'core' / 'queries'\n",
    "pth_creds = pth_project / 'conf' / 'local' / 'project_config.yaml'\n",
    "sys.path.insert(0, str(pth_project))\n",
    "d_project_config = safe_load(pth_creds.open())\n",
    "# d_params = safe_load((pth_project / 'core' / 'parameters' / 'common.yaml').open())['data_extract']\n",
    "\n",
    "# import local modules\n",
    "from core.utils.gcp import connect_bq_services\n",
    "# from core.etl.extract import extract_bq_data, extract_pr_codes, format_conv_df, filter_convs\n",
    "\n",
    "# Connect to google services\n",
    "bq_client = connect_bq_services(d_project_config['gcp-project-name'])\n",
    "pd.options.display.max_rows = 100"
   ]
  },
  {
   "cell_type": "code",
   "execution_count": 5,
   "id": "da8945fe-0497-44ed-8c54-f35aafd73090",
   "metadata": {},
   "outputs": [],
   "source": [
    "def extract_bq_data(bq_client, sql=None, pth_query=None):\n",
    "    if sql is not None:\n",
    "        df = bq_client.query(sql).to_dataframe()\n",
    "    elif pth_query is not None:\n",
    "        sql = pth_query.read_text()\n",
    "        df = bq_client.query(sql).to_dataframe()\n",
    "    else:\n",
    "        raise ValueError('`sql` or `pth_query` should be set')  \n",
    "    return df"
   ]
  },
  {
   "cell_type": "code",
   "execution_count": 6,
   "id": "8d41875b-6046-433b-99c4-fb39db765084",
   "metadata": {},
   "outputs": [],
   "source": [
    "Sales_order_Query='''\n",
    "\n",
    "\n",
    "with original\n",
    "as \n",
    "(SELECT \n",
    "min(dly_ord_itm_actvy_ts) as first_add,\n",
    "bus_prod_instnc_id\n",
    " FROM `cio-datahub-enterprise-pr-183a.ent_cust_ord_actvy.bq_dly_wln_ord_item_actvy` WHERE ord_act_typ_cd = 'Add' and prod_typ_cd in ('SMHM') and ord_act_stat_cd = 'Processed' and bus_prod_instnc_id is not null\n",
    " --and date(dly_ord_itm_actvy_ts) >= '2023-10-01' and date(dly_ord_itm_actvy_ts) < '2024-01-01'\n",
    "\n",
    " group by bus_prod_instnc_id) /* Fetch original order date for the product instance */\n",
    "\n",
    "\n",
    "\n",
    ",BAN_list as (\n",
    "\n",
    "SELECT CAST(BAN as STRING) as BAN_data\n",
    " --FROM `pras-pr-223186.pras_pr_dataset.Outbound_Robin` \n",
    " FROM `pras-pr-223186.pras_pr_dataset.Outbound_Robin_08Mar2024`\n",
    "\n",
    ")\n",
    "\n",
    "\n",
    "\n",
    ",details as\n",
    "(\n",
    "SELECT \n",
    "dly_ord_itm_actvy_ts,\n",
    "bus_billg_acct_num,\n",
    "bus_prod_instnc_id,\n",
    "prod_nm,\n",
    "munic_nm,\n",
    "prov_state_cd,\n",
    "bi_chnl_tag_cd,\n",
    "chnl_org_id,\n",
    "prod_typ_cd,\n",
    "src_sls_rep_cd,\n",
    "src_typ_cd,\n",
    "src_usr_chnl_txt,\n",
    "txn_sub_typ_txt,\n",
    "SLS_ACTVY_TXT\n",
    " FROM `cio-datahub-enterprise-pr-183a.ent_cust_ord_actvy.bq_dly_wln_ord_item_actvy` WHERE ord_act_typ_cd = 'Add' \n",
    " --and prod_typ_cd in ('SMHM','HSIC','SING','TTV') \n",
    " and prod_typ_cd in ('SMHM')\n",
    " and ord_act_stat_cd = 'Processed'\n",
    " --and date(dly_ord_itm_actvy_ts) >= '2023-10-01' and date(dly_ord_itm_actvy_ts) < '2024-01-01' \n",
    " \n",
    " )\n",
    " \n",
    " \n",
    " \n",
    "  /* Gather channel details */\n",
    "\n",
    ",channel_refs as (\n",
    "\n",
    "\n",
    "with\n",
    "latest_update as (\n",
    "SELECT\n",
    "chnl_org_id,\n",
    "max(chnl_org_key) as latest_key FROM `cio-datahub-enterprise-pr-183a.ent_sls_chnl.bq_channel_org_dim`\n",
    "group by chnl_org_id\n",
    "\n",
    ")\n",
    "\n",
    "select distinct\n",
    "t1.chnl_org_id,\n",
    "chnl_org_txt from `cio-datahub-enterprise-pr-183a.ent_sls_chnl.bq_channel_org_dim` t1 inner join latest_update on latest_key = chnl_org_key\n",
    "\n",
    ")\n",
    "\n",
    ",Sales_Order_DF as (\n",
    "\n",
    "select\n",
    "CAST(details.bus_billg_acct_num as STRING) as BAN_sales_order,\n",
    "date(details.dly_ord_itm_actvy_ts) as Order_date,\n",
    "details.bus_billg_acct_num as BAN,\n",
    "cast (details.bus_prod_instnc_id as Integer) as Prod_Instnc_ID,\n",
    "details.prod_nm as SMHM_Plan_Name,\n",
    "details.munic_nm as Municpality_Name,\n",
    "details.prov_state_cd as State_Code,\n",
    "details.bi_chnl_tag_cd as Sales_Channel_tag,\n",
    "details.chnl_org_id,\n",
    "channel_refs.chnl_org_txt as  Sales_Dealer_Name,\n",
    "details.prod_typ_cd as Prod_Type,\n",
    "details.src_sls_rep_cd as Sales_Agent_ID,\n",
    "details.src_typ_cd,\n",
    "details.src_usr_chnl_txt,\n",
    "details.txn_sub_typ_txt,\n",
    "details.SLS_ACTVY_TXT\n",
    "from details inner join original on original.bus_prod_instnc_id = details.bus_prod_instnc_id and original.first_add = details.dly_ord_itm_actvy_ts  /* Inner join them to prevent duplicates */\n",
    " left join channel_refs on details.chnl_org_id = channel_refs.chnl_org_id /* left joining to get channel dealer names */\n",
    " where bi_chnl_tag_cd <> 'UNKNOWN' \n",
    " order by details.dly_ord_itm_actvy_ts\n",
    ")\n",
    "\n",
    "\n",
    ",Sales_order_data_rpt as (\n",
    "\n",
    "\n",
    "\n",
    "  SELECT\n",
    " bill_account_number  AS BAN_sales,\n",
    "  reporting_dt AS order_created_date,\n",
    "  activation_dt AS activation_date,\n",
    "  platform,\n",
    "  product_family,\n",
    "  channel_group,\n",
    "  sales_agent_id,\n",
    "  current_sales_agent_id,\n",
    "initial_sales_agent_id,\n",
    "  sales_agent_nm,\n",
    "  product_nm as Plan_name_1\n",
    "FROM\n",
    "  `bi-srv-hsmsd-3c-pr-ca2cd4.hsmsd_3c_rpt_dataset.bq_rpt_chnl_order_ffh_dtl_view`\n",
    "WHERE\n",
    "  is_gross_new_order = 1\n",
    "  AND is_initial_order = 1\n",
    "  AND product_family IN ('SMHM')\n",
    "\n",
    ") \n",
    "\n",
    "\n",
    "select * \n",
    "from BAN_list a\n",
    "left join Sales_Order_DF b\n",
    "on a.BAN_data=b.BAN_sales_order \n",
    "left join Sales_order_data_rpt rpt\n",
    "on a.BAN_data=rpt.BAN_sales\n",
    "\n",
    "'''"
   ]
  },
  {
   "cell_type": "code",
   "execution_count": 7,
   "id": "431dc591-7efb-4df5-9289-197136e02efb",
   "metadata": {},
   "outputs": [],
   "source": [
    "DF_sales_Order=extract_bq_data(bq_client, sql=Sales_order_Query)"
   ]
  },
  {
   "cell_type": "code",
   "execution_count": 9,
   "id": "d0784a75-a354-41cc-98e9-775a94d6caa0",
   "metadata": {},
   "outputs": [
    {
     "name": "stdout",
     "output_type": "stream",
     "text": [
      "<class 'pandas.core.frame.DataFrame'>\n",
      "RangeIndex: 1546 entries, 0 to 1545\n",
      "Data columns (total 28 columns):\n",
      " #   Column                  Non-Null Count  Dtype \n",
      "---  ------                  --------------  ----- \n",
      " 0   BAN_data                1546 non-null   object\n",
      " 1   BAN_sales_order         1463 non-null   object\n",
      " 2   Order_date              1463 non-null   dbdate\n",
      " 3   BAN                     1463 non-null   Int64 \n",
      " 4   Prod_Instnc_ID          1463 non-null   Int64 \n",
      " 5   SMHM_Plan_Name          1463 non-null   object\n",
      " 6   Municpality_Name        1463 non-null   object\n",
      " 7   State_Code              1463 non-null   object\n",
      " 8   Sales_Channel_tag       1463 non-null   object\n",
      " 9   chnl_org_id             1463 non-null   Int64 \n",
      " 10  Sales_Dealer_Name       1463 non-null   object\n",
      " 11  Prod_Type               1463 non-null   object\n",
      " 12  Sales_Agent_ID          1463 non-null   object\n",
      " 13  src_typ_cd              1463 non-null   object\n",
      " 14  src_usr_chnl_txt        1463 non-null   object\n",
      " 15  txn_sub_typ_txt         1463 non-null   object\n",
      " 16  SLS_ACTVY_TXT           1463 non-null   object\n",
      " 17  BAN_sales               1314 non-null   object\n",
      " 18  order_created_date      1314 non-null   dbdate\n",
      " 19  activation_date         1264 non-null   dbdate\n",
      " 20  platform                1314 non-null   object\n",
      " 21  product_family          1314 non-null   object\n",
      " 22  channel_group           1314 non-null   object\n",
      " 23  sales_agent_id_1        1314 non-null   object\n",
      " 24  current_sales_agent_id  1314 non-null   object\n",
      " 25  initial_sales_agent_id  1314 non-null   object\n",
      " 26  sales_agent_nm          1300 non-null   object\n",
      " 27  Plan_name_1             1314 non-null   object\n",
      "dtypes: Int64(3), dbdate(3), object(22)\n",
      "memory usage: 342.8+ KB\n"
     ]
    }
   ],
   "source": [
    "DF_sales_Order.info()"
   ]
  },
  {
   "cell_type": "code",
   "execution_count": 10,
   "id": "00ea0b94-7c99-4287-aae4-2401899a5c72",
   "metadata": {},
   "outputs": [
    {
     "data": {
      "text/plain": [
       "Sales_Agent_ID\n",
       "UKN        958\n",
       "x220444     15\n",
       "digital     13\n",
       "x239242     12\n",
       "x243263     10\n",
       "          ... \n",
       "x275566      1\n",
       "x179906      1\n",
       "x270541      1\n",
       "x270532      1\n",
       "x260660      1\n",
       "Name: count, Length: 270, dtype: int64"
      ]
     },
     "execution_count": 10,
     "metadata": {},
     "output_type": "execute_result"
    }
   ],
   "source": [
    "DF_sales_Order['Sales_Agent_ID'].value_counts()"
   ]
  },
  {
   "cell_type": "code",
   "execution_count": 11,
   "id": "5a4b7e99-2dab-47e3-a8df-809d719eca0d",
   "metadata": {},
   "outputs": [
    {
     "name": "stderr",
     "output_type": "stream",
     "text": [
      "/tmp/ipykernel_258/3362026640.py:1: FutureWarning: A value is trying to be set on a copy of a DataFrame or Series through chained assignment using an inplace method.\n",
      "The behavior will change in pandas 3.0. This inplace method will never work because the intermediate object on which we are setting values always behaves as a copy.\n",
      "\n",
      "For example, when doing 'df[col].method(value, inplace=True)', try using 'df.method({col: value}, inplace=True)' or df[col] = df[col].method(value) instead, to perform the operation inplace on the original object.\n",
      "\n",
      "\n",
      "  DF_sales_Order['Sales_Agent_ID'].replace('UKN', np.nan, inplace=True)\n"
     ]
    }
   ],
   "source": [
    "DF_sales_Order['Sales_Agent_ID'].replace('UKN', np.nan, inplace=True)"
   ]
  },
  {
   "cell_type": "code",
   "execution_count": 12,
   "id": "b309a969-09e2-42b3-a87d-c62454db0876",
   "metadata": {},
   "outputs": [
    {
     "data": {
      "text/plain": [
       "Sales_Agent_Final\n",
       "x220444    15\n",
       "J4HL       13\n",
       "digital    13\n",
       "KBPP       12\n",
       "x239242    12\n",
       "           ..\n",
       "LRTW        1\n",
       "x275314     1\n",
       "LN45        1\n",
       "X232814     1\n",
       "LRTZ        1\n",
       "Name: count, Length: 709, dtype: int64"
      ]
     },
     "execution_count": 12,
     "metadata": {},
     "output_type": "execute_result"
    }
   ],
   "source": [
    "# Columns in order of priority to fill the nulls\n",
    "replacement_cols = ['Sales_Agent_ID', 'sales_agent_id_1', 'current_sales_agent_id','initial_sales_agent_id','sales_agent_nm']\n",
    "\n",
    "# Create a new column 'E' that starts as all NaN\n",
    "DF_sales_Order['Sales_Agent_Final'] = pd.NA\n",
    "\n",
    "# Iteratively fill 'E' using 'fillna()' from columns A, B, and C\n",
    "for col in replacement_cols:\n",
    "    DF_sales_Order['Sales_Agent_Final'] = DF_sales_Order['Sales_Agent_Final'].fillna(DF_sales_Order[col])\n",
    "\n",
    "DF_sales_Order['Sales_Agent_Final'].value_counts()"
   ]
  },
  {
   "cell_type": "code",
   "execution_count": 13,
   "id": "eba8fa18-d13e-457e-9e79-60012cf55a4a",
   "metadata": {},
   "outputs": [
    {
     "data": {
      "text/plain": [
       "SMHM_Plan_Name\n",
       "Control Plus Video                                    504\n",
       "Smart Automation Plus                                 401\n",
       "Smart Camera                                          203\n",
       "Secure Plus Video                                      87\n",
       "Acquired Home Security with no ADC                     58\n",
       "Acquired Home Security with ADC                        49\n",
       "Secure                                                 42\n",
       "Acquired Home Security: Non ADC, Unmonitored           41\n",
       "ADT Home Security with ADC                             21\n",
       "ADT Home Security with no ADC                          20\n",
       "Acquired Home Security with ADC, Externally monito     18\n",
       "Control                                                 8\n",
       "LivingWell Companion Home - Cellular                    5\n",
       "Medical Alert Pendant                                   3\n",
       "Smart Automation                                        1\n",
       "Smart Automation Plus (Automation Hub)                  1\n",
       "Security Monitoring                                     1\n",
       "Name: count, dtype: int64"
      ]
     },
     "execution_count": 13,
     "metadata": {},
     "output_type": "execute_result"
    }
   ],
   "source": [
    "DF_sales_Order['SMHM_Plan_Name'].value_counts()"
   ]
  },
  {
   "cell_type": "code",
   "execution_count": 14,
   "id": "faac5883-1aa1-418a-88c8-e1367d0818d8",
   "metadata": {},
   "outputs": [
    {
     "data": {
      "text/plain": [
       "SMHM_Plan_Name_Final\n",
       "Control Plus Video                                    541\n",
       "Smart Automation Plus                                 426\n",
       "Smart Camera                                          212\n",
       "Secure Plus Video                                      92\n",
       "Acquired Home Security with no ADC                     58\n",
       "Acquired Home Security with ADC                        49\n",
       "Secure                                                 44\n",
       "Acquired Home Security: Non ADC, Unmonitored           41\n",
       "ADT Home Security with ADC                             21\n",
       "ADT Home Security with no ADC                          20\n",
       "Acquired Home Security with ADC, Externally monito     18\n",
       "Control                                                 8\n",
       "LivingWell Companion Home - Cellular                    5\n",
       "Medical Alert Pendant                                   3\n",
       "Smart Automation                                        1\n",
       "Smart Automation Plus (Automation Hub)                  1\n",
       "Security Monitoring                                     1\n",
       "Name: count, dtype: int64"
      ]
     },
     "execution_count": 14,
     "metadata": {},
     "output_type": "execute_result"
    }
   ],
   "source": [
    "DF_sales_Order['SMHM_Plan_Name_Final'] = DF_sales_Order['SMHM_Plan_Name'].fillna(DF_sales_Order['Plan_name_1'])\n",
    "DF_sales_Order['SMHM_Plan_Name_Final'].value_counts()"
   ]
  },
  {
   "cell_type": "code",
   "execution_count": 15,
   "id": "b8e36d8c-a507-4911-877c-99cf6d1b35af",
   "metadata": {},
   "outputs": [
    {
     "data": {
      "text/plain": [
       "Sales_Channel_tag\n",
       "D2C                454\n",
       "CORP_STORE         301\n",
       "SYSTEM             205\n",
       "CARE-WLN           201\n",
       "CSS-MOB            151\n",
       "CSS                 89\n",
       "WEB                 25\n",
       "DEALER              24\n",
       "OTHER                6\n",
       "NRS_REF              6\n",
       "NATIONAL RETAIL      1\n",
       "Name: count, dtype: int64"
      ]
     },
     "execution_count": 15,
     "metadata": {},
     "output_type": "execute_result"
    }
   ],
   "source": [
    "DF_sales_Order['Sales_Channel_tag'].value_counts()"
   ]
  },
  {
   "cell_type": "code",
   "execution_count": 16,
   "id": "10be166f-98ab-4078-83e3-c6233eb7b747",
   "metadata": {},
   "outputs": [
    {
     "data": {
      "text/plain": [
       "SMHM_Channel_Final\n",
       "D2C                490\n",
       "CORP_STORE         301\n",
       "SYSTEM             205\n",
       "CARE-WLN           201\n",
       "CSS-MOB            151\n",
       "CSS                 95\n",
       "DEALER              26\n",
       "WEB                 25\n",
       "CORP STORES         24\n",
       "CLIENT CARE         10\n",
       "OTHER                6\n",
       "NRS_REF              6\n",
       "NATIONAL RETAIL      1\n",
       "Name: count, dtype: int64"
      ]
     },
     "execution_count": 16,
     "metadata": {},
     "output_type": "execute_result"
    }
   ],
   "source": [
    "DF_sales_Order['SMHM_Channel_Final'] = DF_sales_Order['Sales_Channel_tag'].fillna(DF_sales_Order['channel_group'])\n",
    "DF_sales_Order['SMHM_Channel_Final'].value_counts()"
   ]
  },
  {
   "cell_type": "code",
   "execution_count": 17,
   "id": "06fd32cd-35fa-49da-b285-a765fdf669f4",
   "metadata": {},
   "outputs": [
    {
     "name": "stdout",
     "output_type": "stream",
     "text": [
      "<class 'pandas.core.frame.DataFrame'>\n",
      "RangeIndex: 1546 entries, 0 to 1545\n",
      "Data columns (total 31 columns):\n",
      " #   Column                  Non-Null Count  Dtype \n",
      "---  ------                  --------------  ----- \n",
      " 0   BAN_data                1546 non-null   object\n",
      " 1   BAN_sales_order         1463 non-null   object\n",
      " 2   Order_date              1463 non-null   dbdate\n",
      " 3   BAN                     1463 non-null   Int64 \n",
      " 4   Prod_Instnc_ID          1463 non-null   Int64 \n",
      " 5   SMHM_Plan_Name          1463 non-null   object\n",
      " 6   Municpality_Name        1463 non-null   object\n",
      " 7   State_Code              1463 non-null   object\n",
      " 8   Sales_Channel_tag       1463 non-null   object\n",
      " 9   chnl_org_id             1463 non-null   Int64 \n",
      " 10  Sales_Dealer_Name       1463 non-null   object\n",
      " 11  Prod_Type               1463 non-null   object\n",
      " 12  Sales_Agent_ID          505 non-null    object\n",
      " 13  src_typ_cd              1463 non-null   object\n",
      " 14  src_usr_chnl_txt        1463 non-null   object\n",
      " 15  txn_sub_typ_txt         1463 non-null   object\n",
      " 16  SLS_ACTVY_TXT           1463 non-null   object\n",
      " 17  BAN_sales               1314 non-null   object\n",
      " 18  order_created_date      1314 non-null   dbdate\n",
      " 19  activation_date         1264 non-null   dbdate\n",
      " 20  platform                1314 non-null   object\n",
      " 21  product_family          1314 non-null   object\n",
      " 22  channel_group           1314 non-null   object\n",
      " 23  sales_agent_id_1        1314 non-null   object\n",
      " 24  current_sales_agent_id  1314 non-null   object\n",
      " 25  initial_sales_agent_id  1314 non-null   object\n",
      " 26  sales_agent_nm          1300 non-null   object\n",
      " 27  Plan_name_1             1314 non-null   object\n",
      " 28  Sales_Agent_Final       1340 non-null   object\n",
      " 29  SMHM_Plan_Name_Final    1541 non-null   object\n",
      " 30  SMHM_Channel_Final      1541 non-null   object\n",
      "dtypes: Int64(3), dbdate(3), object(25)\n",
      "memory usage: 379.1+ KB\n"
     ]
    }
   ],
   "source": [
    "DF_sales_Order.info()"
   ]
  },
  {
   "cell_type": "code",
   "execution_count": 18,
   "id": "65e31143-21e9-4b9f-8286-be9cd9c2469e",
   "metadata": {},
   "outputs": [],
   "source": [
    "DF_sales_Order.to_csv('Outbound_Robin_with_Sales_08Mar2024.csv',index=False)"
   ]
  },
  {
   "cell_type": "code",
   "execution_count": null,
   "id": "a7408063-8bb4-47ca-a71e-7954575b1ac0",
   "metadata": {},
   "outputs": [],
   "source": []
  }
 ],
 "metadata": {
  "kernelspec": {
   "display_name": "Python 3 (ipykernel)",
   "language": "python",
   "name": "python3"
  },
  "language_info": {
   "codemirror_mode": {
    "name": "ipython",
    "version": 3
   },
   "file_extension": ".py",
   "mimetype": "text/x-python",
   "name": "python",
   "nbconvert_exporter": "python",
   "pygments_lexer": "ipython3",
   "version": "3.10.13"
  }
 },
 "nbformat": 4,
 "nbformat_minor": 5
}
