{
 "cells": [
  {
   "cell_type": "code",
   "execution_count": null,
   "id": "50662060-fef4-42a4-b652-c9780c01e863",
   "metadata": {},
   "outputs": [],
   "source": [
    "#### import global modules\n",
    "import os\n",
    "import sys\n",
    "import pandas as pd\n",
    "import numpy as np\n",
    "from pathlib import Path\n",
    "from yaml import safe_load\n",
    "import google.oauth2.credentials\n",
    "from google.cloud import bigquery\n",
    "import gc\n",
    "\n",
    "# Set global vars\n",
    "pth_project = Path(os.getcwd().split('notebooks')[0])\n",
    "pth_data = pth_project / 'data'\n",
    "pth_queries = pth_project / 'core' / 'queries'\n",
    "pth_creds = pth_project / 'conf' / 'local' / 'project_config.yaml'\n",
    "sys.path.insert(0, str(pth_project))\n",
    "d_project_config = safe_load(pth_creds.open())\n",
    "# d_params = safe_load((pth_project / 'core' / 'parameters' / 'common.yaml').open())['data_extract']\n",
    "\n",
    "# import local modules\n",
    "from core.utils.gcp import connect_bq_services\n",
    "# from core.etl.extract import extract_bq_data, extract_pr_codes, format_conv_df, filter_convs\n",
    "\n",
    "# Connect to google services\n",
    "bq_client = connect_bq_services(d_project_config['gcp-project-name'])\n",
    "pd.options.display.max_rows = 100"
   ]
  },
  {
   "cell_type": "code",
   "execution_count": null,
   "id": "7eea7328-b08e-425a-9f47-f92bce19aa76",
   "metadata": {},
   "outputs": [],
   "source": [
    "DF_SMHM_data=pd.read_csv('Churn by Commitment Type_Full Data_data.csv')"
   ]
  },
  {
   "cell_type": "code",
   "execution_count": null,
   "id": "7eaf94b4-95ab-42ad-b00e-fd412937626b",
   "metadata": {},
   "outputs": [],
   "source": [
    "DF_SMHM_data.info()"
   ]
  },
  {
   "cell_type": "code",
   "execution_count": null,
   "id": "b1726de7-ac05-4453-a453-0ff1b9008f10",
   "metadata": {},
   "outputs": [],
   "source": [
    "DF_SMHM_data.rename(columns={'bus_prod_instnc_id (Custom SQL Query)':'bus_inst_id_custom','PROVINCE_STATE_CD (Custom SQL Query)':'province_state','Contract Type (V4) (group)':'contract_type_group','Acquired_From (group)':'Aacquired_from_group'},inplace=True)"
   ]
  },
  {
   "cell_type": "code",
   "execution_count": null,
   "id": "5a62807c-e1a7-4782-b1ca-45db4dc8efcd",
   "metadata": {},
   "outputs": [],
   "source": [
    "DF_SMHM_data.head()"
   ]
  },
  {
   "cell_type": "code",
   "execution_count": null,
   "id": "3c0c7962-1a5a-425f-b581-2e1c7eefe916",
   "metadata": {},
   "outputs": [],
   "source": [
    "DF_SMHM_data.columns = DF_SMHM_data.columns.str.replace(' ', '_')"
   ]
  },
  {
   "cell_type": "code",
   "execution_count": null,
   "id": "a91df056-44a6-4003-99d1-d06bac659721",
   "metadata": {},
   "outputs": [],
   "source": [
    "DF_SMHM_data['Snapshot_Date'].value_counts()"
   ]
  },
  {
   "cell_type": "code",
   "execution_count": null,
   "id": "88816ce4-3895-4f11-811b-9eded766316e",
   "metadata": {},
   "outputs": [],
   "source": [
    "# DF_SMHM_data.drop(['Contract Type (V4) (group)','Acquired_From (group)'],inplace=True,axis=1)"
   ]
  },
  {
   "cell_type": "code",
   "execution_count": null,
   "id": "0b0546a0-109d-43b0-a117-e2f37c91e2e8",
   "metadata": {},
   "outputs": [],
   "source": [
    "config= bigquery.job.LoadJobConfig()\n",
    "\n",
    "# config._properties['timePartitioning'] = {'field': 'Month_Year'}\n",
    "config.write_disposition = bigquery.WriteDisposition.WRITE_TRUNCATE\n",
    "\n",
    "Table_BQ = 'pras-pr-223186.pras_pr_dataset.SMHM_Base_Data'\n",
    "\n",
    "bq_table_instance= bq_client.load_table_from_dataframe(DF_SMHM_data, Table_BQ,job_config=config)"
   ]
  },
  {
   "cell_type": "code",
   "execution_count": null,
   "id": "9c8b9a7f-4032-43fc-a74f-6d6070ccabbb",
   "metadata": {},
   "outputs": [],
   "source": [
    "def extract_bq_data(bq_client, sql=None, pth_query=None):\n",
    "    if sql is not None:\n",
    "        df = bq_client.query(sql).to_dataframe()\n",
    "    elif pth_query is not None:\n",
    "        sql = pth_query.read_text()\n",
    "        df = bq_client.query(sql).to_dataframe()\n",
    "    else:\n",
    "        raise ValueError('`sql` or `pth_query` should be set')  \n",
    "    return df"
   ]
  },
  {
   "cell_type": "code",
   "execution_count": null,
   "id": "c9479540-19d6-41ae-897b-003a9b9b9fe5",
   "metadata": {},
   "outputs": [],
   "source": [
    "# divg-team-v03-pr-de558a.shs_invol_churn.shs_invol_churn_base_data"
   ]
  },
  {
   "cell_type": "code",
   "execution_count": null,
   "id": "065ddc60-4cae-4df3-9861-d2560bd32f4a",
   "metadata": {},
   "outputs": [],
   "source": [
    "Sales_order_Query='''\n",
    "\n",
    "\n",
    "with original\n",
    "as \n",
    "(SELECT \n",
    "min(dly_ord_itm_actvy_ts) as first_add,\n",
    "bus_prod_instnc_id\n",
    " FROM `cio-datahub-enterprise-pr-183a.ent_cust_ord_actvy.bq_dly_wln_ord_item_actvy` WHERE ord_act_typ_cd = 'Add' and prod_typ_cd in ('SMHM') and ord_act_stat_cd = 'Processed' and bus_prod_instnc_id is not null\n",
    " --and date(dly_ord_itm_actvy_ts) >= '2023-10-01' and date(dly_ord_itm_actvy_ts) < '2024-01-01'\n",
    "\n",
    " group by bus_prod_instnc_id) /* Fetch original order date for the product instance */\n",
    "\n",
    "\n",
    "\n",
    ",BAN_list as (\n",
    "\n",
    "SELECT *  , 1 as Invol_churn\n",
    " FROM `pras-pr-223186.pras_pr_dataset.SHS_NEVERPAY_CHURN_TILLDOMO1_PRO26feb` \n",
    " where PARSE_DATE(\"%d%b%Y\", Churn_Date)>='2024-01-01' and PARSE_DATE(\"%d%b%Y\", Churn_Date)<'2024-02-01' \n",
    "\n",
    ")\n",
    "\n",
    ",BAN_Snapshot as (\n",
    "\n",
    "select * from `pras-pr-223186.pras_pr_dataset.SMHM_Base_Data`\n",
    "where Snapshot_Date='12/31/2023 12:00:00 AM'\n",
    "\n",
    ")\n",
    "\n",
    ",details as\n",
    "(\n",
    "SELECT \n",
    "dly_ord_itm_actvy_ts,\n",
    "bus_billg_acct_num,\n",
    "bus_prod_instnc_id,\n",
    "prod_nm,\n",
    "munic_nm,\n",
    "prov_state_cd,\n",
    "bi_chnl_tag_cd,\n",
    "chnl_org_id,\n",
    "prod_typ_cd,\n",
    "src_sls_rep_cd,\n",
    "src_typ_cd,\n",
    "src_usr_chnl_txt,\n",
    "txn_sub_typ_txt,\n",
    "SLS_ACTVY_TXT\n",
    " FROM `cio-datahub-enterprise-pr-183a.ent_cust_ord_actvy.bq_dly_wln_ord_item_actvy` WHERE ord_act_typ_cd = 'Add' \n",
    " --and prod_typ_cd in ('SMHM','HSIC','SING','TTV') \n",
    " and prod_typ_cd in ('SMHM')\n",
    " and ord_act_stat_cd = 'Processed'\n",
    " --and date(dly_ord_itm_actvy_ts) >= '2023-10-01' and date(dly_ord_itm_actvy_ts) < '2024-01-01' \n",
    " \n",
    " )\n",
    " \n",
    " \n",
    " \n",
    "  /* Gather channel details */\n",
    "\n",
    ",channel_refs as (\n",
    "\n",
    "\n",
    "with\n",
    "latest_update as (\n",
    "SELECT\n",
    "chnl_org_id,\n",
    "max(chnl_org_key) as latest_key FROM `cio-datahub-enterprise-pr-183a.ent_sls_chnl.bq_channel_org_dim`\n",
    "group by chnl_org_id\n",
    "\n",
    ")\n",
    "\n",
    "select distinct\n",
    "t1.chnl_org_id,\n",
    "chnl_org_txt from `cio-datahub-enterprise-pr-183a.ent_sls_chnl.bq_channel_org_dim` t1 inner join latest_update on latest_key = chnl_org_key\n",
    "\n",
    ")\n",
    "\n",
    ",Sales_Order_DF as (\n",
    "\n",
    "select\n",
    "details.bus_billg_acct_num as BAN_sales_order,\n",
    "date(details.dly_ord_itm_actvy_ts) as Order_date,\n",
    "details.bus_billg_acct_num as BAN,\n",
    "cast (details.bus_prod_instnc_id as Integer) as Prod_Instnc_ID,\n",
    "details.prod_nm as Prod_nm,\n",
    "details.munic_nm,\n",
    "details.prov_state_cd,\n",
    "details.bi_chnl_tag_cd as Sales_Channel_tag,\n",
    "details.chnl_org_id,\n",
    "channel_refs.chnl_org_txt,\n",
    "details.prod_typ_cd as Prod_Type,\n",
    "details.src_sls_rep_cd as Sales_Agent_ID,\n",
    "details.src_typ_cd,\n",
    "details.src_usr_chnl_txt,\n",
    "details.txn_sub_typ_txt,\n",
    "details.SLS_ACTVY_TXT\n",
    "from details inner join original on original.bus_prod_instnc_id = details.bus_prod_instnc_id and original.first_add = details.dly_ord_itm_actvy_ts  /* Inner join them to prevent duplicates */\n",
    " left join channel_refs on details.chnl_org_id = channel_refs.chnl_org_id /* left joining to get channel dealer names */\n",
    " where bi_chnl_tag_cd <> 'UNKNOWN' \n",
    " order by details.dly_ord_itm_actvy_ts\n",
    ")\n",
    "\n",
    "\n",
    "select * \n",
    "from BAN_Snapshot a\n",
    "left join BAN_list b\n",
    "on a.Bus_Billing_Account_Num=b.BAN\n",
    "left join Sales_Order_DF c\n",
    "on a.Bus_Billing_Account_Num=c.BAN_sales_order and a.Bus_Prod_Instnc_Id=c.Prod_Instnc_ID\n",
    "\n",
    "\n",
    "\n",
    "\n",
    "\n",
    "\n",
    "'''"
   ]
  },
  {
   "cell_type": "code",
   "execution_count": null,
   "id": "85e8f9b3-021e-4c49-85e2-0decd514637f",
   "metadata": {},
   "outputs": [],
   "source": [
    "DF_sales_Order=extract_bq_data(bq_client, sql=Sales_order_Query)"
   ]
  },
  {
   "cell_type": "code",
   "execution_count": null,
   "id": "51299201-ae24-4896-80f1-55ae806c133c",
   "metadata": {},
   "outputs": [],
   "source": [
    "DF_sales_Order.info(verbose=True)"
   ]
  },
  {
   "cell_type": "code",
   "execution_count": null,
   "id": "73174aed-60e4-42c4-a12e-57d2914a38f4",
   "metadata": {},
   "outputs": [],
   "source": [
    "DF_sales_Order.head()"
   ]
  },
  {
   "cell_type": "code",
   "execution_count": null,
   "id": "f7a6c948-294e-406f-ae10-48df1fcce054",
   "metadata": {},
   "outputs": [],
   "source": [
    "DF_sales_Order.to_csv('SMHM_Jan2024_Base_data.csv',index=False)"
   ]
  },
  {
   "cell_type": "code",
   "execution_count": null,
   "id": "2e3626c8-435f-44f1-8cee-21d2359a6e3f",
   "metadata": {},
   "outputs": [],
   "source": []
  }
 ],
 "metadata": {
  "kernelspec": {
   "display_name": "Python 3 (ipykernel)",
   "language": "python",
   "name": "python3"
  },
  "language_info": {
   "codemirror_mode": {
    "name": "ipython",
    "version": 3
   },
   "file_extension": ".py",
   "mimetype": "text/x-python",
   "name": "python",
   "nbconvert_exporter": "python",
   "pygments_lexer": "ipython3",
   "version": "3.10.13"
  }
 },
 "nbformat": 4,
 "nbformat_minor": 5
}
