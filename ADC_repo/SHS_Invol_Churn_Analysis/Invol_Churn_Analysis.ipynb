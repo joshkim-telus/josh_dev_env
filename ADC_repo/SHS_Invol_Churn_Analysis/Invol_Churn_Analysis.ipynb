{
 "cells": [
  {
   "cell_type": "code",
   "execution_count": null,
   "id": "fd7a8d51-b2ff-4487-b6bd-50ff44e29e9b",
   "metadata": {},
   "outputs": [],
   "source": [
    "#### import global modules\n",
    "import os\n",
    "import sys\n",
    "import pandas as pd\n",
    "import numpy as np\n",
    "from pathlib import Path\n",
    "from yaml import safe_load\n",
    "import google.oauth2.credentials\n",
    "from google.cloud import bigquery\n",
    "import gc\n",
    "\n",
    "# Set global vars\n",
    "pth_project = Path(os.getcwd().split('notebooks')[0])\n",
    "pth_data = pth_project / 'data'\n",
    "pth_queries = pth_project / 'core' / 'queries'\n",
    "pth_creds = pth_project / 'conf' / 'local' / 'project_config.yaml'\n",
    "sys.path.insert(0, str(pth_project))\n",
    "d_project_config = safe_load(pth_creds.open())\n",
    "# d_params = safe_load((pth_project / 'core' / 'parameters' / 'common.yaml').open())['data_extract']\n",
    "\n",
    "# import local modules\n",
    "from core.utils.gcp import connect_bq_services\n",
    "# from core.etl.extract import extract_bq_data, extract_pr_codes, format_conv_df, filter_convs\n",
    "\n",
    "# Connect to google services\n",
    "bq_client = connect_bq_services(d_project_config['gcp-project-name'])\n",
    "pd.options.display.max_rows = 100"
   ]
  },
  {
   "cell_type": "code",
   "execution_count": null,
   "id": "69695939-7698-4c52-ad70-c74895212814",
   "metadata": {},
   "outputs": [],
   "source": [
    "def extract_bq_data(bq_client, sql=None, pth_query=None):\n",
    "    if sql is not None:\n",
    "        df = bq_client.query(sql).to_dataframe()\n",
    "    elif pth_query is not None:\n",
    "        sql = pth_query.read_text()\n",
    "        df = bq_client.query(sql).to_dataframe()\n",
    "    else:\n",
    "        raise ValueError('`sql` or `pth_query` should be set')  \n",
    "    return df"
   ]
  },
  {
   "cell_type": "code",
   "execution_count": null,
   "id": "cd17aab3-cf9c-4120-bba4-0636ea5d43cc",
   "metadata": {},
   "outputs": [],
   "source": [
    "Sales_order_Query='''\n",
    "\n",
    "\n",
    "with original\n",
    "as \n",
    "(SELECT \n",
    "min(dly_ord_itm_actvy_ts) as first_add,\n",
    "bus_prod_instnc_id\n",
    " FROM `cio-datahub-enterprise-pr-183a.ent_cust_ord_actvy.bq_dly_wln_ord_item_actvy` WHERE ord_act_typ_cd = 'Add' and prod_typ_cd in ('SMHM') and ord_act_stat_cd = 'Processed' and bus_prod_instnc_id is not null\n",
    " and date(dly_ord_itm_actvy_ts) >= '2022-01-01' and date(dly_ord_itm_actvy_ts) < '2024-02-01'\n",
    "\n",
    " group by bus_prod_instnc_id) /* Fetch original order date for the product instance */\n",
    "\n",
    ",details as\n",
    "(\n",
    "SELECT \n",
    "dly_ord_itm_actvy_ts,\n",
    "bus_billg_acct_num,\n",
    "bus_prod_instnc_id,\n",
    "prod_nm,\n",
    "munic_nm,\n",
    "prov_state_cd,\n",
    "bi_chnl_tag_cd,\n",
    "chnl_org_id,\n",
    "prod_typ_cd,\n",
    "src_sls_rep_cd,\n",
    "src_typ_cd,\n",
    "src_usr_chnl_txt,\n",
    "txn_sub_typ_txt,\n",
    "SLS_ACTVY_TXT\n",
    " FROM `cio-datahub-enterprise-pr-183a.ent_cust_ord_actvy.bq_dly_wln_ord_item_actvy` WHERE ord_act_typ_cd = 'Add' and prod_typ_cd in ('SMHM') and ord_act_stat_cd = 'Processed'\n",
    "and date(dly_ord_itm_actvy_ts) >= '2022-01-01' and date(dly_ord_itm_actvy_ts) < '2024-02-01'\n",
    " \n",
    " \n",
    " )\n",
    " \n",
    " \n",
    " \n",
    "  /* Gather channel details */\n",
    "\n",
    ",channel_refs as (\n",
    "\n",
    "\n",
    "with\n",
    "latest_update as (\n",
    "SELECT\n",
    "chnl_org_id,\n",
    "max(chnl_org_key) as latest_key FROM `cio-datahub-enterprise-pr-183a.ent_sls_chnl.bq_channel_org_dim`\n",
    "group by chnl_org_id\n",
    "\n",
    ")\n",
    "\n",
    "select distinct\n",
    "t1.chnl_org_id,\n",
    "chnl_org_txt from `cio-datahub-enterprise-pr-183a.ent_sls_chnl.bq_channel_org_dim` t1 inner join latest_update on latest_key = chnl_org_key\n",
    "\n",
    ")\n",
    "\n",
    "select\n",
    "date(details.dly_ord_itm_actvy_ts) as Order_date,\n",
    "details.bus_billg_acct_num as BAN,\n",
    "details.bus_prod_instnc_id as Prod_Instnc_ID,\n",
    "details.prod_nm as Prod_nm,\n",
    "details.munic_nm,\n",
    "details.prov_state_cd,\n",
    "details.bi_chnl_tag_cd as Sales_Channel_tag,\n",
    "details.chnl_org_id,\n",
    "channel_refs.chnl_org_txt,\n",
    "details.prod_typ_cd as Prod_Type,\n",
    "details.src_sls_rep_cd as Sales_Agent_ID,\n",
    "details.src_typ_cd,\n",
    "details.src_usr_chnl_txt,\n",
    "details.txn_sub_typ_txt,\n",
    "details.SLS_ACTVY_TXT\n",
    " from details inner join original on original.bus_prod_instnc_id = details.bus_prod_instnc_id and original.first_add = details.dly_ord_itm_actvy_ts  /* Inner join them to prevent duplicates */\n",
    " left join channel_refs on details.chnl_org_id = channel_refs.chnl_org_id /* left joining to get channel dealer names */\n",
    " where bi_chnl_tag_cd <> 'UNKNOWN' \n",
    "--  and date(details.dly_ord_itm_actvy_ts) >= '2023-01-01' and date(details.dly_ord_itm_actvy_ts) < '2024-02-01'\n",
    " order by details.dly_ord_itm_actvy_ts\n",
    "\n",
    "\n",
    "\n",
    "'''"
   ]
  },
  {
   "cell_type": "code",
   "execution_count": null,
   "id": "0a4e5526-b49e-4c92-be78-c0fb891660ed",
   "metadata": {},
   "outputs": [],
   "source": [
    "DF_sales_Order=extract_bq_data(bq_client, sql=Sales_order_Query)"
   ]
  },
  {
   "cell_type": "code",
   "execution_count": null,
   "id": "945a6b32-d1af-457e-a501-67294ba82a6c",
   "metadata": {},
   "outputs": [],
   "source": [
    "DF_sales_Order.info()"
   ]
  },
  {
   "cell_type": "code",
   "execution_count": null,
   "id": "9d421d71-1321-4298-8768-1d6fe37f4814",
   "metadata": {},
   "outputs": [],
   "source": [
    "DF_sales_Order.head(10)"
   ]
  },
  {
   "cell_type": "code",
   "execution_count": null,
   "id": "5bbab572-5975-4345-874d-9552180d1516",
   "metadata": {},
   "outputs": [],
   "source": [
    "config= bigquery.job.LoadJobConfig()\n",
    "\n",
    "# config._properties['timePartitioning'] = {'field': 'Month_Year'}\n",
    "config.write_disposition = bigquery.WriteDisposition.WRITE_TRUNCATE\n",
    "\n",
    "Table_BQ = 'divg-team-v03-pr-de558a.shs_invol_churn.Sales_Order_SMHM_Jan2021_Jan2024'\n",
    "\n",
    "bq_table_instance= bq_client.load_table_from_dataframe(DF_sales_Order, Table_BQ,job_config=config)"
   ]
  },
  {
   "cell_type": "code",
   "execution_count": null,
   "id": "28c0052c-e5c3-4568-8f4e-e5fa2028e275",
   "metadata": {},
   "outputs": [],
   "source": [
    "Query_ADC_Usage_Data= '''\n",
    "\n",
    "\n",
    "with ADC_base as (\n",
    "\n",
    "SELECT distinct\n",
    "    ban as BAN,   FROM\n",
    "    `bi-srv-divg-speech-pr-79f6e9.adc_feature_store.bq_adc_feature_store_daily`\n",
    "\n",
    "\n",
    "\n",
    ")\n",
    "\n",
    ", ADC_data_Feb_2023 as \n",
    "\n",
    "(\n",
    "\n",
    "SELECT distinct\n",
    "    ban as BAN,\n",
    "    1 as Data_flag_Feb_2023,\n",
    "    avg(login_consistency) as Login_consistency_Feb_2023 ,\n",
    "    avg(Arming_Consistency) as Arming_consistency_Feb_2023,\n",
    "   FROM\n",
    "    `bi-srv-divg-speech-pr-79f6e9.adc_feature_store.bq_adc_feature_store_daily`\n",
    "  WHERE\n",
    "daily_snapshot_start_date='2023-02-01'\n",
    "  group by ban\n",
    "    \n",
    ")\n",
    "\n",
    ", ADC_data_Mar_2023 as \n",
    "\n",
    "(\n",
    "\n",
    "SELECT distinct\n",
    "    ban as BAN,\n",
    "    1 as Data_flag_Mar_2023,\n",
    "    avg(login_consistency) as Login_consistency_Mar_2023 ,\n",
    "    avg(Arming_Consistency) as Arming_consistency_Mar_2023,\n",
    "   FROM\n",
    "    `bi-srv-divg-speech-pr-79f6e9.adc_feature_store.bq_adc_feature_store_daily`\n",
    "  WHERE\n",
    "daily_snapshot_start_date='2023-03-01'\n",
    "  group by ban\n",
    "    \n",
    ")\n",
    "\n",
    "select * from\n",
    "ADC_base a \n",
    "LEFT JOIN ADC_data_Feb_2023 b\n",
    "on a.BAN=b.BAN\n",
    "LEFT JOIN ADC_data_Mar_2023 c\n",
    "on a.BAN=c.BAN\n",
    "\n",
    "'''"
   ]
  },
  {
   "cell_type": "code",
   "execution_count": null,
   "id": "b8e46882-73b4-4164-bacc-c717fcd00f1f",
   "metadata": {},
   "outputs": [],
   "source": [
    "ADC_usage_DF=extract_bq_data(bq_client, sql=Query_ADC_Usage_Data)"
   ]
  },
  {
   "cell_type": "code",
   "execution_count": null,
   "id": "3ac1b6c6-a517-4fc0-91b6-ca0a52b35ffa",
   "metadata": {},
   "outputs": [],
   "source": [
    "ADC_usage_DF.info()"
   ]
  },
  {
   "cell_type": "code",
   "execution_count": null,
   "id": "4f376396-c7a7-40fc-b392-bcb5a4870f56",
   "metadata": {},
   "outputs": [],
   "source": [
    "ADC_usage_DF.head(10)"
   ]
  },
  {
   "cell_type": "code",
   "execution_count": null,
   "id": "4fac1b6c-d8d0-48e5-9a93-624912c1f23b",
   "metadata": {},
   "outputs": [],
   "source": []
  },
  {
   "cell_type": "code",
   "execution_count": null,
   "id": "795b2e44-2df0-478c-aa8a-18a6d7ae6c56",
   "metadata": {},
   "outputs": [],
   "source": [
    "from datetime import date, timedelta\n",
    "\n",
    "# Initialize a BigQuery client\n",
    "# client = bq_client\n",
    "\n",
    "# Initialize a BigQuery client\n",
    "# client = bigquery.Client()\n",
    "\n",
    "def generate_month_start_dates(start_year, start_month, end_year, end_month):\n",
    "    dates = []\n",
    "    current_year, current_month = start_year, start_month\n",
    "    while current_year < end_year or (current_year == end_year and current_month <= end_month):\n",
    "        dates.append(date(current_year, current_month, 1))\n",
    "        current_month += 1\n",
    "        if current_month > 12:\n",
    "            current_month = 1\n",
    "            current_year += 1\n",
    "    return dates\n",
    "\n",
    "def generate_query_with_month_suffix(snapshot_date):\n",
    "    month_name = snapshot_date.strftime(\"%b_%Y\")  # e.g., \"Feb_2023\"\n",
    "    query = f\"\"\"\n",
    "    SELECT DISTINCT\n",
    "        ban AS BAN,\n",
    "        Segment AS Segment_{month_name},\n",
    "        1 AS Data_flag_{month_name},\n",
    "        AVG(login_consistency) AS Login_consistency_{month_name},\n",
    "        AVG(Arming_Consistency) AS Arming_consistency_{month_name}, \n",
    "        MAX(best_practice_all) AS Best_practices_{month_name}\n",
    "    FROM\n",
    "        `bi-srv-divg-speech-pr-79f6e9.adc_feature_store.bq_adc_feature_store_daily`\n",
    "    WHERE\n",
    "        daily_snapshot_start_date = '{snapshot_date}'\n",
    "    GROUP BY\n",
    "        ban, Segment\n",
    "    \"\"\"\n",
    "    return query\n",
    "\n",
    "dates_1 = generate_month_start_dates(2023, 2, 2023, 11)\n",
    "\n",
    "# Initialize an empty DataFrame to act as the base for outer joins\n",
    "final_df = None\n",
    "\n",
    "# Loop through each month, run the query, and perform an outer join on the 'BAN' column\n",
    "for snapshot_date in dates_1:\n",
    "    print(snapshot_date)\n",
    "    query = generate_query_with_month_suffix(snapshot_date)\n",
    "    monthly_df = bq_client.query(query).to_dataframe()\n",
    "    \n",
    "    if final_df is None:\n",
    "        final_df = monthly_df\n",
    "    else:\n",
    "        # Perform an outer join on the 'BAN' column\n",
    "        final_df = pd.merge(final_df, monthly_df, on='BAN', how='outer', suffixes=('', '_dup'))\n",
    "\n",
    "# After merging, you may find some columns with '_dup' suffixes if there are overlapping column names\n",
    "# You can choose to handle or rename these as needed, depending on your requirements\n",
    "\n"
   ]
  },
  {
   "cell_type": "code",
   "execution_count": null,
   "id": "292232eb-76a6-4495-b77c-b25e558480e4",
   "metadata": {},
   "outputs": [],
   "source": [
    "final_df.head()"
   ]
  },
  {
   "cell_type": "code",
   "execution_count": null,
   "id": "ff73671d-2d59-4be0-afa7-4f6825ed3909",
   "metadata": {},
   "outputs": [],
   "source": [
    "final_df.info()"
   ]
  },
  {
   "cell_type": "code",
   "execution_count": null,
   "id": "58d60de4-aa42-4245-9970-8071fe851345",
   "metadata": {},
   "outputs": [],
   "source": [
    "final_df.isna().sum()*100/final_df.shape[0]"
   ]
  },
  {
   "cell_type": "code",
   "execution_count": null,
   "id": "392e6ca6-47bc-49d6-b0ca-bae69a20b80e",
   "metadata": {},
   "outputs": [],
   "source": [
    "config= bigquery.job.LoadJobConfig()\n",
    "\n",
    "# config._properties['timePartitioning'] = {'field': 'Month_Year'}\n",
    "config.write_disposition = bigquery.WriteDisposition.WRITE_TRUNCATE\n",
    "\n",
    "Table_BQ = 'divg-team-v03-pr-de558a.shs_invol_churn.ADC_Usage_data_Feb2023_Nov2023'\n",
    "\n",
    "bq_table_instance= bq_client.load_table_from_dataframe(final_df, Table_BQ,job_config=config)"
   ]
  },
  {
   "cell_type": "code",
   "execution_count": null,
   "id": "87f38b0a-643e-43e6-97f1-8eaa5ffd91c8",
   "metadata": {},
   "outputs": [],
   "source": [
    "del final_df"
   ]
  },
  {
   "cell_type": "code",
   "execution_count": null,
   "id": "20e85875-5442-4e44-b608-4fbf36e64b45",
   "metadata": {},
   "outputs": [],
   "source": [
    "from datetime import date, timedelta\n",
    "import pandas as pd\n",
    "from google.cloud import bigquery\n",
    "\n",
    "# Initialize a BigQuery client\n",
    "client = bq_client\n",
    "\n",
    "def generate_month_start_dates(start_year, start_month, end_year, end_month):\n",
    "    dates = []\n",
    "    current_year, current_month = start_year, start_month\n",
    "    while current_year < end_year or (current_year == end_year and current_month <= end_month):\n",
    "        dates.append(date(current_year, current_month, 1))\n",
    "        current_month += 1\n",
    "        if current_month > 12:\n",
    "            current_month = 1\n",
    "            current_year += 1\n",
    "    return dates\n",
    "\n",
    "def generate_query_with_month_suffix(snapshot_date):\n",
    "    month_name = snapshot_date.strftime(\"%b_%Y\")  # e.g., \"Feb_2023\"\n",
    "    query = f\"\"\"\n",
    "    SELECT DISTINCT\n",
    "        date(daily_snapshot_start_date) as Month_start_date,\n",
    "        ban AS BAN,\n",
    "        1 AS Data_flag,\n",
    "        AVG(login_consistency) AS Login_consistency,\n",
    "        AVG(Arming_Consistency) AS Arming_consistency, \n",
    "        MAX(best_practice_all) AS Best_practices,\n",
    "        '{month_name}' AS Month_name,\n",
    "        Segment \n",
    "        FROM\n",
    "        `bi-srv-divg-speech-pr-79f6e9.adc_feature_store.bq_adc_feature_store_daily`\n",
    "    WHERE\n",
    "        daily_snapshot_start_date = '{snapshot_date}'\n",
    "    GROUP BY\n",
    "        daily_snapshot_start_date,ban,Segment\n",
    "    \"\"\"\n",
    "    return query\n",
    "\n",
    "dates_1 = generate_month_start_dates(2023, 2, 2024, 1)\n",
    "\n",
    "# Initialize an empty DataFrame to store results\n",
    "final_df_long = pd.DataFrame()\n",
    "\n",
    "# Loop through each month, run the query, and append to the final DataFrame\n",
    "for snapshot_date in dates_1:\n",
    "    query = generate_query_with_month_suffix(snapshot_date)\n",
    "    monthly_df_long = client.query(query).to_dataframe()\n",
    "    # final_df_long the monthly DataFrame to the final DataFrame\n",
    "    final_df_long = pd.concat([final_df_long, monthly_df_long], ignore_index=True)\n",
    "\n"
   ]
  },
  {
   "cell_type": "code",
   "execution_count": null,
   "id": "48b43e37-bbc9-4a9b-8cb8-0dcb1b06614e",
   "metadata": {},
   "outputs": [],
   "source": [
    "final_df_long.info()"
   ]
  },
  {
   "cell_type": "code",
   "execution_count": null,
   "id": "058de8ae-a597-457e-93fb-5092d7e20688",
   "metadata": {},
   "outputs": [],
   "source": [
    "final_df_long.head()"
   ]
  },
  {
   "cell_type": "code",
   "execution_count": null,
   "id": "820503b4-088f-46de-a584-35cbd858027c",
   "metadata": {},
   "outputs": [],
   "source": [
    "final_df_long.isna().sum()*100/final_df_long.shape[0]"
   ]
  },
  {
   "cell_type": "code",
   "execution_count": null,
   "id": "5ec483fb-fda7-4c1c-9d67-34c748a29251",
   "metadata": {},
   "outputs": [],
   "source": [
    "config= bigquery.job.LoadJobConfig()\n",
    "\n",
    "# config._properties['timePartitioning'] = {'field': 'Month_Year'}\n",
    "config.write_disposition = bigquery.WriteDisposition.WRITE_TRUNCATE\n",
    "\n",
    "Table_BQ = 'divg-team-v03-pr-de558a.shs_invol_churn.ADC_Usage_data_Feb2023_Jan2024_long'\n",
    "\n",
    "bq_table_instance= bq_client.load_table_from_dataframe(final_df_long, Table_BQ,job_config=config)"
   ]
  },
  {
   "cell_type": "code",
   "execution_count": null,
   "id": "022ba5b4-3c3d-4cf3-b361-a5f08b543b37",
   "metadata": {},
   "outputs": [],
   "source": [
    "Base_Sales_data_query='''\n",
    "\n",
    "\n",
    "\n",
    "with interim_data as (\n",
    "select a.*,b.Sales_Channel_tag, b.chnl_org_id, b.chnl_org_txt,b.src_usr_chnl_txt,b.Order_date,b.Sales_Agent_ID,c.*\n",
    "from `divg-team-v03-pr-de558a.shs_invol_churn.shs_invol_churn_base_data` a\n",
    "\n",
    "left join `divg-team-v03-pr-de558a.shs_invol_churn.Sales_Order_SMHM_Jan2023_Jan2024` b\n",
    "on a.Bus_Billing_Account_Num=b.BAN and a.Bus_Prod_Instnc_Id=cast(b.Prod_Instnc_ID as integer)\n",
    "\n",
    "\n",
    "left join `divg-team-v03-pr-de558a.shs_invol_churn.ADC_Usage_data_Feb2023_Jan2024_long` c\n",
    "on a.Bus_Billing_Account_Num=c.BAN \n",
    "where c.Month_start_date=\"2023-08-01\"\n",
    "\n",
    ")\n",
    "\n",
    "\n",
    "select * from interim_data\n",
    "where Base_Snapshot_Date=\"2023-09-01\"\n",
    "order by Base_Snapshot_Date,Bus_Billing_Account_Num\n",
    "\n",
    "'''"
   ]
  },
  {
   "cell_type": "code",
   "execution_count": null,
   "id": "76485e0f-a638-46cc-a333-5b42817cd44e",
   "metadata": {},
   "outputs": [],
   "source": [
    "Base_DF=extract_bq_data(bq_client, sql=Base_Sales_data_query)"
   ]
  },
  {
   "cell_type": "code",
   "execution_count": null,
   "id": "daa47f45-8ac7-417d-91b2-fe0c82493c21",
   "metadata": {},
   "outputs": [],
   "source": [
    "Base_DF.info()"
   ]
  },
  {
   "cell_type": "code",
   "execution_count": null,
   "id": "06a583ce-3de2-4205-a5ba-6a134177a2a2",
   "metadata": {},
   "outputs": [],
   "source": [
    "Base_DF.head()"
   ]
  },
  {
   "cell_type": "code",
   "execution_count": null,
   "id": "d02ffd7d-d08c-47d1-92c7-df7d87b3ad16",
   "metadata": {},
   "outputs": [],
   "source": [
    "Base_DF['Order_date'].value_counts()"
   ]
  },
  {
   "cell_type": "code",
   "execution_count": null,
   "id": "57abeda7-6c91-4e9d-b418-17c2ab3a6d49",
   "metadata": {},
   "outputs": [],
   "source": [
    "Base_DF.info(verbose=True)"
   ]
  },
  {
   "cell_type": "code",
   "execution_count": null,
   "id": "0074c3f8-eaa6-41c4-972d-bce2a1d83d6e",
   "metadata": {},
   "outputs": [],
   "source": [
    "Base_DF.isna().sum()*100/Base_DF.shape[0]"
   ]
  },
  {
   "cell_type": "code",
   "execution_count": null,
   "id": "8a6278d6-11c0-4c8f-9262-1347969911ff",
   "metadata": {},
   "outputs": [],
   "source": [
    "Base_DF['Segment'].fillna('No_Segment',inplace=True)"
   ]
  },
  {
   "cell_type": "code",
   "execution_count": null,
   "id": "2fbfd631-8cce-4277-9108-7640addf3154",
   "metadata": {},
   "outputs": [],
   "source": [
    "Base_DF['date_status'] = np.where(Base_DF['Order_date'].isna(), 'Older_Order', 'Order_in_last12_months')\n"
   ]
  },
  {
   "cell_type": "code",
   "execution_count": null,
   "id": "c8bd5fcf-e005-41dc-8ae1-ecbd140661e6",
   "metadata": {},
   "outputs": [],
   "source": [
    "Base_DF.to_csv('Invol_churn_Analysis_Sep2023.csv',index=False)"
   ]
  },
  {
   "cell_type": "code",
   "execution_count": null,
   "id": "e0799e72-5874-4d0d-a650-8a975a69bfff",
   "metadata": {},
   "outputs": [],
   "source": [
    "Base_DF_subset=Base_DF[Base_DF['date_status']=='Order_in_last12_months']"
   ]
  },
  {
   "cell_type": "code",
   "execution_count": null,
   "id": "b1de5fbf-127b-4abc-94c8-6afd20772e3b",
   "metadata": {},
   "outputs": [],
   "source": [
    "pd.DataFrame(Base_DF_subset.groupby(['Channel_Category','Security_Plan_Group']).agg(\n",
    "    \n",
    "    Customer_count= ('Bus_Billing_Account_Num','nunique'),\n",
    "    Churn_rate=('churn',lambda x: round(x.mean()*100,2)),\n",
    "    Invol_Churn=('invol',lambda x: x.sum()),\n",
    "    Invol_Churn_rate=('invol',lambda x: round(x.mean()*100,2)),\n",
    "\n",
    "    # AVG_SMHM_ARPU=('ARPU_SMHM_intial',lambda x: round(x.mean(),0)),\n",
    "    # AVG_SMHM_ARPU_final=('ARPU_SMHM_final',lambda x: round(x.mean(),0)),\n",
    "    # Login_consistency=('Login_consistency',lambda x: round(x.mean(),0)),\n",
    "    # prod_mix_intial=('prod_mix_intial',lambda x: round(x.mean(),1)),\n",
    "    # prod_mix_final=('prod_mix_final',lambda x: round(x.mean(),1)) \n",
    "\n",
    "\n",
    "    # Email_Opened_count=('OPENED','sum'),\n",
    "    # CT_Opened_count=('CLICKTHROUGH','sum'),\n",
    "    # softbounce_count=('SOFTBOUNCE','sum'),\n",
    "    # Hardbounce_count=('HARDBOUNCE','sum'),\n",
    "    # Unsub_count=('UNSUBSCRIBE','sum'),\n",
    "    # campaign_date_min=('Campaign_date','min'),\n",
    "    # campaign_date_max=('Campaign_date','max')\n",
    "\n",
    "    \n",
    "    # # Customer_Share= ('customer_id',lambda x:x.count()*100/Merge_DF_4.shape[0])\n",
    "    # Churn_total=('Telus_Churn_Flag',lambda x: x.sum()),\n",
    "    # Churn_rate=('Telus_Churn_Flag',lambda x: x.mean()*100)\n",
    ").reset_index())"
   ]
  },
  {
   "cell_type": "code",
   "execution_count": null,
   "id": "1af2940b-e830-4593-90b7-ab63a3a644cc",
   "metadata": {},
   "outputs": [],
   "source": []
  },
  {
   "cell_type": "code",
   "execution_count": null,
   "id": "28e8080c-9210-4392-afc2-e6ca50011217",
   "metadata": {},
   "outputs": [],
   "source": []
  }
 ],
 "metadata": {
  "kernelspec": {
   "display_name": "Python 3 (ipykernel)",
   "language": "python",
   "name": "python3"
  },
  "language_info": {
   "codemirror_mode": {
    "name": "ipython",
    "version": 3
   },
   "file_extension": ".py",
   "mimetype": "text/x-python",
   "name": "python",
   "nbconvert_exporter": "python",
   "pygments_lexer": "ipython3",
   "version": "3.10.13"
  }
 },
 "nbformat": 4,
 "nbformat_minor": 5
}
