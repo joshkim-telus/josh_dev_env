{
 "cells": [
  {
   "cell_type": "code",
   "execution_count": null,
   "id": "ebe5e9cd-af03-44ef-bafd-5d3b10cd9914",
   "metadata": {},
   "outputs": [],
   "source": [
    "#### import global modules\n",
    "import os\n",
    "import sys\n",
    "import pandas as pd\n",
    "from pathlib import Path\n",
    "from yaml import safe_load\n",
    "import google.oauth2.credentials\n",
    "from google.cloud import bigquery\n",
    "\n",
    "# Set global vars\n",
    "pth_project = Path(os.getcwd().split('notebooks')[0])\n",
    "pth_data = pth_project / 'data'\n",
    "pth_queries = pth_project / 'core' / 'queries'\n",
    "pth_creds = pth_project / 'conf' / 'local' / 'project_config.yaml'\n",
    "sys.path.insert(0, str(pth_project))\n",
    "d_project_config = safe_load(pth_creds.open())\n",
    "# d_params = safe_load((pth_project / 'core' / 'parameters' / 'common.yaml').open())['data_extract']\n",
    "\n",
    "# import local modules\n",
    "from core.utils.gcp import connect_bq_services\n",
    "# from core.etl.extract import extract_bq_data, extract_pr_codes, format_conv_df, filter_convs\n",
    "\n",
    "# Connect to google services\n",
    "bq_client = connect_bq_services(d_project_config['gcp-project-name'])\n",
    "pd.options.display.max_rows = 100"
   ]
  },
  {
   "cell_type": "code",
   "execution_count": null,
   "id": "5d3e5a14-678c-4874-baea-5ef576de4ba0",
   "metadata": {},
   "outputs": [],
   "source": []
  },
  {
   "cell_type": "code",
   "execution_count": null,
   "id": "91e3595c-4ac8-4181-a439-ab8da6bb1613",
   "metadata": {},
   "outputs": [],
   "source": []
  },
  {
   "cell_type": "code",
   "execution_count": null,
   "id": "dc23552d-8e05-4213-8a33-cc36c92c0f07",
   "metadata": {},
   "outputs": [],
   "source": [
    "def extract_bq_data(bq_client, sql=None, pth_query=None):\n",
    "    if sql is not None:\n",
    "        df = bq_client.query(sql).to_dataframe()\n",
    "    elif pth_query is not None:\n",
    "        sql = pth_query.read_text()\n",
    "        df = bq_client.query(sql).to_dataframe()\n",
    "    else:\n",
    "        raise ValueError('`sql` or `pth_query` should be set')  \n",
    "    return df"
   ]
  },
  {
   "cell_type": "code",
   "execution_count": null,
   "id": "35c5a879-bbe7-4d6f-ad29-a893a1522e82",
   "metadata": {},
   "outputs": [],
   "source": [
    "Network_Query='''\n",
    "\n",
    "\n",
    "with Customer_details as\n",
    " (\n",
    "SELECT a.customer_id,\n",
    "  FROM `cio-datahub-enterprise-pr-183a.src_adc.bq_customer_account_details` as a\n",
    "left join `cio-datahub-enterprise-pr-183a.src_adc.bq_customer_account_terminated_details` as b\n",
    "on a.customer_id=b.customer_id WHERE b.customer_id IS NULL\n",
    "and a.last_updt_ts=(SELECT MAX(st1.last_updt_ts) FROM `cio-datahub-enterprise-pr-183a.src_adc.bq_customer_account_details` AS st1) \n",
    "),\n",
    "\n",
    "\n",
    "-- OLDER METHOD FOR MAX RECORD\n",
    "--  signal_info_interim as (\n",
    "--    select customer_id, network_desc, history_date_utc\n",
    "--          ,row_number() over (partition by customer_id order by history_date_utc desc) as rn\n",
    "--    from `cio-datahub-enterprise-pr-183a.src_adc.bq_signal_rating_history`\n",
    "-- ),\n",
    "\n",
    "-- OLDER METHOD FOR MAX RECORD\n",
    "\n",
    "-- signal_info as\n",
    "-- (SELECT * FROM signal_info_interim where rn=1),\n",
    "\n",
    "\n",
    "\n",
    "\n",
    "-- NEW METHOD FOR MAX RECORD\n",
    "signal_info_final as\n",
    "(select customer_id,network_id, network_desc,signaling_rating_id,signaling_rating_name,sinaling_rating_logic, history_date_utc as signal_rating_date from `cio-datahub-enterprise-pr-183a.src_adc.bq_signal_rating_history` \n",
    "QUALIFY ROW_NUMBER() OVER (PARTITION BY customer_id ORDER BY history_date_utc DESC) = 1)\n",
    "-- ,\n",
    "\n",
    "\n",
    "select cd.* ,sig.network_id,sig.network_desc,sig.signaling_rating_id,sig.signaling_rating_name,sig.sinaling_rating_logic, sig.signal_rating_date from Customer_details cd \n",
    "left join signal_info_final sig \n",
    "on  cd.customer_id=sig.customer_id\n",
    "order by cd.customer_id\n",
    "\n",
    "\n",
    "\n",
    "\n",
    "'''"
   ]
  },
  {
   "cell_type": "code",
   "execution_count": null,
   "id": "61912e66-3754-48f8-a13f-cda02b19c199",
   "metadata": {},
   "outputs": [],
   "source": [
    "Customer_Network_details_DF= extract_bq_data(bq_client,sql=Network_Query)"
   ]
  },
  {
   "cell_type": "code",
   "execution_count": null,
   "id": "ee578310-bfae-4088-940c-b0ed934de7ab",
   "metadata": {},
   "outputs": [],
   "source": [
    "Customer_Network_details_DF.info()"
   ]
  },
  {
   "cell_type": "code",
   "execution_count": null,
   "id": "b924e14d-4098-4748-9fcb-fb98ec48c24c",
   "metadata": {},
   "outputs": [],
   "source": [
    "Customer_Network_details_DF.isnull().sum() * 100 / len(Customer_Network_details_DF)"
   ]
  },
  {
   "cell_type": "code",
   "execution_count": null,
   "id": "b5d1b31d-fb21-4ab6-9de1-4a258b61d211",
   "metadata": {},
   "outputs": [],
   "source": [
    "Customer_Network_details_DF.head()"
   ]
  },
  {
   "cell_type": "code",
   "execution_count": null,
   "id": "576bdb0e-1892-41a8-a02b-c23d98ce6cbf",
   "metadata": {},
   "outputs": [],
   "source": [
    "Customer_Network_details_DF['network_desc'].fillna('Missing_network_information',inplace=True)"
   ]
  },
  {
   "cell_type": "code",
   "execution_count": null,
   "id": "6783c545-e76b-47ea-9773-219ff8c27b75",
   "metadata": {},
   "outputs": [],
   "source": [
    "Customer_Network_details_DF.value_counts('network_desc',normalize=True)*100"
   ]
  },
  {
   "cell_type": "code",
   "execution_count": null,
   "id": "cb61c9bf-d67d-45da-96c6-e6da8641e186",
   "metadata": {},
   "outputs": [],
   "source": []
  },
  {
   "cell_type": "code",
   "execution_count": null,
   "id": "aae18b35-f377-4623-930b-dfe9941a0c2c",
   "metadata": {},
   "outputs": [],
   "source": []
  },
  {
   "cell_type": "code",
   "execution_count": null,
   "id": "671b4780-f35b-4684-ba93-c4e7ba5b2b55",
   "metadata": {},
   "outputs": [],
   "source": [
    "job_config_Network = bigquery.job.LoadJobConfig()\n",
    "job_config_Network.write_disposition = bigquery.WriteDisposition.WRITE_TRUNCATE\n",
    "\n",
    "Network_BQ_table = 'ADC.Customer_Network_details'\n",
    "\n",
    "job_device_type= bq_client.load_table_from_dataframe(Customer_Network_details_DF, Network_BQ_table,job_config=job_config_Network)"
   ]
  }
 ],
 "metadata": {
  "kernelspec": {
   "display_name": "Python 3 (ipykernel)",
   "language": "python",
   "name": "python3"
  },
  "language_info": {
   "codemirror_mode": {
    "name": "ipython",
    "version": 3
   },
   "file_extension": ".py",
   "mimetype": "text/x-python",
   "name": "python",
   "nbconvert_exporter": "python",
   "pygments_lexer": "ipython3",
   "version": "3.7.12"
  }
 },
 "nbformat": 4,
 "nbformat_minor": 5
}
