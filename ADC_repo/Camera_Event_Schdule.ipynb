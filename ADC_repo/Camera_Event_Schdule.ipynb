{
 "cells": [
  {
   "cell_type": "code",
   "execution_count": null,
   "id": "b1243527-6abb-4ab3-96c3-066da9fd7856",
   "metadata": {},
   "outputs": [],
   "source": [
    "#### import global modules\n",
    "import os\n",
    "import sys\n",
    "import pandas as pd\n",
    "from pathlib import Path\n",
    "from yaml import safe_load\n",
    "import google.oauth2.credentials\n",
    "from google.cloud import bigquery\n",
    "import numpy as np\n",
    "# Set global vars\n",
    "pth_project = Path(os.getcwd().split('notebooks')[0])\n",
    "pth_data = pth_project / 'data'\n",
    "pth_queries = pth_project / 'core' / 'queries'\n",
    "pth_creds = pth_project / 'conf' / 'local' / 'project_config.yaml'\n",
    "sys.path.insert(0, str(pth_project))\n",
    "d_project_config = safe_load(pth_creds.open())\n",
    "# d_params = safe_load((pth_project / 'core' / 'parameters' / 'common.yaml').open())['data_extract']\n",
    "\n",
    "# import local modules\n",
    "from core.utils.gcp import connect_bq_services\n",
    "# from core.etl.extract import extract_bq_data, extract_pr_codes, format_conv_df, filter_convs\n",
    "\n",
    "# Connect to google services\n",
    "bq_client = connect_bq_services(d_project_config['gcp-project-name'])\n",
    "pd.options.display.max_rows = 100"
   ]
  },
  {
   "cell_type": "code",
   "execution_count": null,
   "id": "c36cc4e8-ac67-49bd-9bb0-ec336af3d790",
   "metadata": {},
   "outputs": [],
   "source": [
    "def extract_bq_data(bq_client, sql=None, pth_query=None):\n",
    "    if sql is not None:\n",
    "        df = bq_client.query(sql).to_dataframe()\n",
    "    elif pth_query is not None:\n",
    "        sql = pth_query.read_text()\n",
    "        df = bq_client.query(sql).to_dataframe()\n",
    "    else:\n",
    "        raise ValueError('`sql` or `pth_query` should be set')  \n",
    "    return df"
   ]
  },
  {
   "cell_type": "code",
   "execution_count": null,
   "id": "34fcd200-a8d6-4df7-a57e-5682252a85f3",
   "metadata": {},
   "outputs": [],
   "source": [
    "\n",
    "Query='''\n",
    "\n",
    "select * from `cio-datahub-enterprise-pr-183a.src_adc.bq_camera_event_schedules`\n",
    "\n",
    "\n",
    "'''"
   ]
  },
  {
   "cell_type": "code",
   "execution_count": null,
   "id": "ddce2577-e14c-4256-a9dd-c61664469647",
   "metadata": {},
   "outputs": [],
   "source": [
    "Camera_Event_Schedule_DF= extract_bq_data(bq_client,sql=Query)"
   ]
  },
  {
   "cell_type": "code",
   "execution_count": null,
   "id": "5a7b8204-bbac-4c62-bf28-4aabb06932b4",
   "metadata": {},
   "outputs": [],
   "source": [
    "Camera_Event_Schedule_DF.info()"
   ]
  },
  {
   "cell_type": "code",
   "execution_count": null,
   "id": "5f504800-0d5a-4b47-999c-640f843f0a4c",
   "metadata": {},
   "outputs": [],
   "source": [
    "Camera_Event_Schedule_DF.head()"
   ]
  },
  {
   "cell_type": "code",
   "execution_count": null,
   "id": "05e4e853-b47b-44b1-91c3-98c76b57b60e",
   "metadata": {},
   "outputs": [],
   "source": [
    "Camera_Event_Schedule_DF['camera_device_id'].value_counts()"
   ]
  },
  {
   "cell_type": "code",
   "execution_count": null,
   "id": "472a1100-88bf-4a9f-aa32-201fcb369ba6",
   "metadata": {},
   "outputs": [],
   "source": [
    "Camera_Event_Schedule_DF['description'].value_counts()"
   ]
  },
  {
   "cell_type": "code",
   "execution_count": null,
   "id": "6ba738ca-c454-48f6-a9d7-c3d436271146",
   "metadata": {},
   "outputs": [],
   "source": [
    "Camera_Event_Schedule_DF_enabled= Camera_Event_Schedule_DF[Camera_Event_Schedule_DF['enabled_status']==1]"
   ]
  },
  {
   "cell_type": "code",
   "execution_count": null,
   "id": "adaec393-005d-488f-aa42-26a1f385279b",
   "metadata": {},
   "outputs": [],
   "source": [
    "Camera_Event_Schedule_DF_enabled.info()"
   ]
  },
  {
   "cell_type": "code",
   "execution_count": null,
   "id": "b107155d-ca2f-48ae-875d-67c73c23a6d2",
   "metadata": {},
   "outputs": [],
   "source": [
    "Camera_Event_Schedule_DF_enabled['description'].value_counts()"
   ]
  },
  {
   "cell_type": "code",
   "execution_count": null,
   "id": "5b59f2be-1c43-43d5-a28e-5f21ae5eaf83",
   "metadata": {},
   "outputs": [],
   "source": []
  }
 ],
 "metadata": {
  "kernelspec": {
   "display_name": "Python 3 (ipykernel)",
   "language": "python",
   "name": "python3"
  },
  "language_info": {
   "codemirror_mode": {
    "name": "ipython",
    "version": 3
   },
   "file_extension": ".py",
   "mimetype": "text/x-python",
   "name": "python",
   "nbconvert_exporter": "python",
   "pygments_lexer": "ipython3",
   "version": "3.7.12"
  }
 },
 "nbformat": 4,
 "nbformat_minor": 5
}
