{
 "cells": [
  {
   "cell_type": "code",
   "execution_count": null,
   "id": "9eba2f6d-55d3-4310-8d0f-595b5d49ccd2",
   "metadata": {},
   "outputs": [],
   "source": [
    "#### import global modules\n",
    "import os\n",
    "import sys\n",
    "import pandas as pd\n",
    "import numpy as np\n",
    "from pathlib import Path\n",
    "from yaml import safe_load\n",
    "import google.oauth2.credentials\n",
    "from google.cloud import bigquery\n",
    "import gc\n",
    "\n",
    "# Set global vars\n",
    "pth_project = Path(os.getcwd().split('notebooks')[0])\n",
    "pth_data = pth_project / 'data'\n",
    "pth_queries = pth_project / 'core' / 'queries'\n",
    "pth_creds = pth_project / 'conf' / 'local' / 'project_config.yaml'\n",
    "sys.path.insert(0, str(pth_project))\n",
    "d_project_config = safe_load(pth_creds.open())\n",
    "# d_params = safe_load((pth_project / 'core' / 'parameters' / 'common.yaml').open())['data_extract']\n",
    "\n",
    "# import local modules\n",
    "from core.utils.gcp import connect_bq_services\n",
    "# from core.etl.extract import extract_bq_data, extract_pr_codes, format_conv_df, filter_convs\n",
    "\n",
    "# Connect to google services\n",
    "bq_client = connect_bq_services(d_project_config['gcp-project-name'])\n",
    "pd.options.display.max_rows = 100"
   ]
  },
  {
   "cell_type": "code",
   "execution_count": null,
   "id": "55f4e222-3e16-4506-b50c-31019070f340",
   "metadata": {},
   "outputs": [],
   "source": [
    "def extract_bq_data(bq_client, sql=None, pth_query=None):\n",
    "    if sql is not None:\n",
    "        df = bq_client.query(sql).to_dataframe()\n",
    "    elif pth_query is not None:\n",
    "        sql = pth_query.read_text()\n",
    "        df = bq_client.query(sql).to_dataframe()\n",
    "    else:\n",
    "        raise ValueError('`sql` or `pth_query` should be set')  \n",
    "    return df"
   ]
  },
  {
   "cell_type": "code",
   "execution_count": null,
   "id": "50ff9ecd-304c-4dcf-8490-ca4863c1326e",
   "metadata": {},
   "outputs": [],
   "source": [
    "Segment_query='''\n",
    "\n",
    "\n",
    "select * from `divgpras-pr-579355.ADC.Customer_Segment`\n",
    "where Segment='Home_automation_Savvy'\n",
    "\n",
    "'''"
   ]
  },
  {
   "cell_type": "code",
   "execution_count": null,
   "id": "cea9e960-d2ae-477e-8bf5-b9a475bb6e16",
   "metadata": {},
   "outputs": [],
   "source": [
    "Segment_DF= extract_bq_data(bq_client, sql=Segment_query)"
   ]
  },
  {
   "cell_type": "code",
   "execution_count": null,
   "id": "aeaed367-5ac6-4988-85fc-e9831cfb54ea",
   "metadata": {},
   "outputs": [],
   "source": [
    "Segment_DF.info()"
   ]
  },
  {
   "cell_type": "code",
   "execution_count": null,
   "id": "7176fd34-d19b-40fd-b3ce-9b00a11637d8",
   "metadata": {},
   "outputs": [],
   "source": [
    "Segment_DF['Avg_Arming_per_day'].value_counts()"
   ]
  },
  {
   "cell_type": "code",
   "execution_count": null,
   "id": "d97392c3-b335-4241-b592-5739a75d062e",
   "metadata": {},
   "outputs": [],
   "source": [
    "Segment_DF['Avg_Arming_per_day'].describe()"
   ]
  },
  {
   "cell_type": "code",
   "execution_count": null,
   "id": "c1934f4e-26b1-45c1-9039-c7e0ef3c32cd",
   "metadata": {},
   "outputs": [],
   "source": [
    "Segment_DF['Avg_DisArming_per_day'].describe()"
   ]
  },
  {
   "cell_type": "code",
   "execution_count": null,
   "id": "2d8f13c5-b564-4684-b298-10bde9adafb9",
   "metadata": {},
   "outputs": [],
   "source": [
    "Segment_DF['Avg_logins_per_day'].describe()"
   ]
  },
  {
   "cell_type": "code",
   "execution_count": null,
   "id": "d5be95cd-72e1-4efc-a3fd-1aedb0c5accb",
   "metadata": {},
   "outputs": [],
   "source": [
    "Login_SQL='''\n",
    "\n",
    "with date_sql as (\n",
    "select  count(distinct date(login_dt_utc)) as count_of_dates from `cio-datahub-enterprise-pr-183a.src_adc.bq_customer_daily_logins`\n",
    ")\n",
    "\n",
    "\n",
    "\n",
    "select customer_id,login_type_desc,sum(login_count) as sum_login_count,count (distinct date(login_dt_utc)) as number_of_login_days, (select count_of_dates from date_sql ) as count_of_dates_logins\n",
    "from `cio-datahub-enterprise-pr-183a.src_adc.bq_customer_daily_logins`\n",
    "group by customer_id,login_type_desc\n",
    "order by customer_id\n",
    "\n",
    "\n",
    "'''"
   ]
  },
  {
   "cell_type": "code",
   "execution_count": null,
   "id": "e325a12e-abea-40a4-bc33-cbc26fb358b9",
   "metadata": {},
   "outputs": [],
   "source": []
  },
  {
   "cell_type": "code",
   "execution_count": null,
   "id": "c7392264-b4fd-4332-8d61-28d2b4c4fd76",
   "metadata": {},
   "outputs": [],
   "source": [
    "Login_DF= extract_bq_data(bq_client, sql=Login_SQL)"
   ]
  },
  {
   "cell_type": "code",
   "execution_count": null,
   "id": "eee70512-31c8-4a10-a68d-709ff1769c47",
   "metadata": {},
   "outputs": [],
   "source": [
    "Login_DF.head()"
   ]
  },
  {
   "cell_type": "code",
   "execution_count": null,
   "id": "93035ba3-7152-452c-b4e9-f72f715f8e94",
   "metadata": {},
   "outputs": [],
   "source": [
    "Login_DF_wide=Login_DF.pivot(index='customer_id', columns='login_type_desc', values=['sum_login_count','number_of_login_days']).reset_index()\n"
   ]
  },
  {
   "cell_type": "code",
   "execution_count": null,
   "id": "29a25616-3f7f-4e3e-b23e-96dd4c7148b0",
   "metadata": {},
   "outputs": [],
   "source": []
  },
  {
   "cell_type": "code",
   "execution_count": null,
   "id": "162944f9-7c58-453f-856a-6db702d37c89",
   "metadata": {},
   "outputs": [],
   "source": [
    "Login_DF_wide.info()"
   ]
  },
  {
   "cell_type": "code",
   "execution_count": null,
   "id": "1b24eef9-2fe7-4e5d-80ac-2188eb1b9bdf",
   "metadata": {},
   "outputs": [],
   "source": []
  },
  {
   "cell_type": "code",
   "execution_count": null,
   "id": "cbab6547-210d-439b-bf72-ae94e6804612",
   "metadata": {},
   "outputs": [],
   "source": [
    "Login_DF_wide.columns=['customer_id','Mobile_login_Counts','VCD_Login_Counts','Web_login_Counts','Mobile_login_days','VCD_Login_days','Web_login_days']"
   ]
  },
  {
   "cell_type": "code",
   "execution_count": null,
   "id": "6ed73384-be44-4f6f-9366-134e66f7ab51",
   "metadata": {},
   "outputs": [],
   "source": [
    "Login_DF_wide.head()"
   ]
  },
  {
   "cell_type": "code",
   "execution_count": null,
   "id": "9278de67-bd5a-4d35-9a6b-7a9622d7dc23",
   "metadata": {},
   "outputs": [],
   "source": [
    "Login_DF_wide.fillna(0,inplace=True)"
   ]
  },
  {
   "cell_type": "code",
   "execution_count": null,
   "id": "6eabbe7b-ba72-4240-8a56-c1ac73a6250e",
   "metadata": {},
   "outputs": [],
   "source": [
    "\n",
    "Login_DF_wide['All_login_Counts']=Login_DF_wide.apply(lambda x:x['Mobile_login_Counts']+x['VCD_Login_Counts']+x['Web_login_Counts'],axis=1)\n"
   ]
  },
  {
   "cell_type": "code",
   "execution_count": null,
   "id": "05e99394-1f8b-45de-b857-2b2a47cc4c10",
   "metadata": {},
   "outputs": [],
   "source": [
    "\n",
    "Login_DF_wide['Mobile_login_share']=Login_DF_wide.apply(lambda x: x['Mobile_login_Counts']*100/x['All_login_Counts'],axis=1)\n",
    "Login_DF_wide['VCD_login_share']=Login_DF_wide.apply(lambda x: x['VCD_Login_Counts']*100/x['All_login_Counts'],axis=1)\n",
    "Login_DF_wide['Web_login_share']=Login_DF_wide.apply(lambda x: x['Web_login_Counts']*100/x['All_login_Counts'],axis=1)\n",
    "\n"
   ]
  },
  {
   "cell_type": "code",
   "execution_count": null,
   "id": "5d9c9e25-6693-4bd8-860d-97c52ea3f6b0",
   "metadata": {},
   "outputs": [],
   "source": [
    "Login_DF_wide['Mobile_login_share'].describe()"
   ]
  },
  {
   "cell_type": "code",
   "execution_count": null,
   "id": "dce7ac80-8899-4702-9c19-578ee02e6073",
   "metadata": {},
   "outputs": [],
   "source": [
    "Login_DF_wide['VCD_login_share'].describe()"
   ]
  },
  {
   "cell_type": "code",
   "execution_count": null,
   "id": "7061c9c5-618b-4ba7-8b49-93b94d5117dc",
   "metadata": {},
   "outputs": [],
   "source": [
    "Login_DF_wide['Web_login_share'].describe()"
   ]
  },
  {
   "cell_type": "code",
   "execution_count": null,
   "id": "19c49694-adbb-4844-9a10-818364799ccc",
   "metadata": {},
   "outputs": [],
   "source": [
    "Segment_DF_1=Segment_DF.merge(Login_DF_wide,on='customer_id',how='left')"
   ]
  },
  {
   "cell_type": "code",
   "execution_count": null,
   "id": "66f5fd51-860a-44b1-9cf7-5d5df65f17c8",
   "metadata": {},
   "outputs": [],
   "source": [
    "Segment_DF_1.head()"
   ]
  },
  {
   "cell_type": "code",
   "execution_count": null,
   "id": "0ce7c42b-97a3-42e8-aa31-c0efb55115d6",
   "metadata": {},
   "outputs": [],
   "source": [
    "Segment_DF_1['Mobile_login_share'].describe()"
   ]
  },
  {
   "cell_type": "code",
   "execution_count": null,
   "id": "451e4677-7e05-42d0-9d49-388f46ee0f3c",
   "metadata": {},
   "outputs": [],
   "source": [
    "Segment_DF_1['VCD_login_share'].describe()"
   ]
  },
  {
   "cell_type": "code",
   "execution_count": null,
   "id": "372652c4-5ccb-4007-ac10-b3547672df10",
   "metadata": {},
   "outputs": [],
   "source": [
    "Segment_DF_1['Web_login_share'].describe()"
   ]
  },
  {
   "cell_type": "code",
   "execution_count": null,
   "id": "54a32139-b9f6-4dbe-9395-0f2e746e2ca6",
   "metadata": {},
   "outputs": [],
   "source": [
    "Device_types_SQL='''\n",
    "\n",
    "select * from `divgpras-pr-579355.ADC.Device_Type_mapping`\n",
    "\n",
    "'''"
   ]
  },
  {
   "cell_type": "code",
   "execution_count": null,
   "id": "b29d40a5-d77a-4552-81e4-a3b6c27b8a7e",
   "metadata": {},
   "outputs": [],
   "source": [
    "Device_type_df= extract_bq_data(bq_client, sql=Device_types_SQL)"
   ]
  },
  {
   "cell_type": "code",
   "execution_count": null,
   "id": "35427975-0578-4e34-adb0-0d1da96c7d5d",
   "metadata": {},
   "outputs": [],
   "source": [
    "Device_type_df.info()"
   ]
  },
  {
   "cell_type": "code",
   "execution_count": null,
   "id": "e8277095-f95e-41cd-a2d3-1f2af8aa8db8",
   "metadata": {},
   "outputs": [],
   "source": [
    "feature_cols=Device_type_df.drop('customer_id',axis=1).columns.to_list()\n",
    "\n",
    "\n",
    "Device_type_df.columns=['customer_id']+['device_type_'+ str(col) for col in feature_cols]"
   ]
  },
  {
   "cell_type": "code",
   "execution_count": null,
   "id": "dafd67db-dc13-422d-837f-13460677769d",
   "metadata": {},
   "outputs": [],
   "source": [
    "Device_type_df.info()"
   ]
  },
  {
   "cell_type": "code",
   "execution_count": null,
   "id": "8a270b78-3940-4e83-b943-507cd346527e",
   "metadata": {},
   "outputs": [],
   "source": [
    "Device_type_df.head()"
   ]
  },
  {
   "cell_type": "code",
   "execution_count": null,
   "id": "85dc941d-4901-4a12-b06b-9c0f9f4dbeeb",
   "metadata": {},
   "outputs": [],
   "source": [
    "Device_type_df['Device_Flag']=1"
   ]
  },
  {
   "cell_type": "code",
   "execution_count": null,
   "id": "ca4a5c24-0ff6-402a-8ef9-8e1655b1fbe4",
   "metadata": {},
   "outputs": [],
   "source": [
    "Segment_DF_2=Segment_DF_1.merge(Device_type_df,on='customer_id',how='left')"
   ]
  },
  {
   "cell_type": "code",
   "execution_count": null,
   "id": "7a6382d4-88e8-443d-ab7d-d46014ad278f",
   "metadata": {},
   "outputs": [],
   "source": [
    "del Segment_DF"
   ]
  },
  {
   "cell_type": "code",
   "execution_count": null,
   "id": "5c3136b1-f668-4ce1-8e91-fdc84dfc3623",
   "metadata": {},
   "outputs": [],
   "source": []
  },
  {
   "cell_type": "code",
   "execution_count": null,
   "id": "61a71f3d-d7c6-4783-960b-42f43c0bb29c",
   "metadata": {},
   "outputs": [],
   "source": [
    "Segment_DF_2['Device_Flag'].sum()*100/Segment_DF_2.shape[0]"
   ]
  },
  {
   "cell_type": "code",
   "execution_count": null,
   "id": "faaa7b7e-5162-437b-a009-bf8cc422efe0",
   "metadata": {},
   "outputs": [],
   "source": [
    "Segment_DF_2['device_type_Total_types_of_devices'].describe()"
   ]
  },
  {
   "cell_type": "code",
   "execution_count": null,
   "id": "81405236-f7b3-4ade-b4a2-39fd6006d826",
   "metadata": {},
   "outputs": [],
   "source": [
    "Segment_DF_2['device_type_Total_types_of_devices'].value_counts()"
   ]
  },
  {
   "cell_type": "code",
   "execution_count": null,
   "id": "f0442b50-17f9-4f26-80e2-740e50b081e8",
   "metadata": {},
   "outputs": [],
   "source": [
    "TC_Query='''\n",
    "\n",
    "select * from `divgpras-pr-579355.ADC.Trouble_Condition_Group_last3months_Aug2022`\n",
    "'''"
   ]
  },
  {
   "cell_type": "code",
   "execution_count": null,
   "id": "5a36a05d-df2b-40f5-b314-958c404ca0bc",
   "metadata": {},
   "outputs": [],
   "source": [
    "TC_Data=extract_bq_data(bq_client, sql=TC_Query)"
   ]
  },
  {
   "cell_type": "code",
   "execution_count": null,
   "id": "838653d1-6feb-4270-83a6-4e65d3f7ba58",
   "metadata": {},
   "outputs": [],
   "source": [
    "TC_Data.info()"
   ]
  },
  {
   "cell_type": "code",
   "execution_count": null,
   "id": "6cf20374-2b74-4269-b657-aebfee5609e0",
   "metadata": {},
   "outputs": [],
   "source": [
    "Segment_DF_3=Segment_DF_2.merge(TC_Data,on='customer_id',how='left')"
   ]
  },
  {
   "cell_type": "code",
   "execution_count": null,
   "id": "930a56f8-0d18-48e2-b677-d87f71dc174d",
   "metadata": {},
   "outputs": [],
   "source": [
    "(1-(Segment_DF_3['ref_end_date'].isna().sum()/Segment_DF_3.shape[0]))*100"
   ]
  },
  {
   "cell_type": "code",
   "execution_count": null,
   "id": "fe971efb-e5d9-4b6e-93a5-00c0462488de",
   "metadata": {},
   "outputs": [],
   "source": [
    "(Segment_DF_3['Central_Station_Condition_Issue_count_last3M']>0).sum()*100/Segment_DF_3.shape[0]"
   ]
  },
  {
   "cell_type": "code",
   "execution_count": null,
   "id": "6615fbb8-4595-4d13-9f6b-90da6cf96e94",
   "metadata": {},
   "outputs": [],
   "source": [
    "(Segment_DF_3['Critical_System_Issue_count_last3M']>0).sum()*100/Segment_DF_3.shape[0]"
   ]
  },
  {
   "cell_type": "code",
   "execution_count": null,
   "id": "a82d049b-776c-4b39-a629-d7fc0b303986",
   "metadata": {},
   "outputs": [],
   "source": [
    "(Segment_DF_3['Engagement_Issue_count_last3M']>0).sum()*100/Segment_DF_3.shape[0]"
   ]
  },
  {
   "cell_type": "code",
   "execution_count": null,
   "id": "12bc92ea-26a7-421a-8aea-b23a3b3ab2ac",
   "metadata": {},
   "outputs": [],
   "source": [
    "(Segment_DF_3['System_Condition_Issue_count_last3M']>0).sum()*100/Segment_DF_3.shape[0]"
   ]
  },
  {
   "cell_type": "code",
   "execution_count": null,
   "id": "f47c1f6f-b1ed-4c64-afc6-e5ed3437ded0",
   "metadata": {},
   "outputs": [],
   "source": [
    "Segment_DF_3['Central_Station_Condition_Issue_count_last3M'].describe()"
   ]
  },
  {
   "cell_type": "code",
   "execution_count": null,
   "id": "c4441c98-f2e9-46a2-bdd8-70de55339ad7",
   "metadata": {},
   "outputs": [],
   "source": [
    "Segment_DF_3['Critical_System_Issue_count_last3M'].describe()"
   ]
  },
  {
   "cell_type": "code",
   "execution_count": null,
   "id": "c00da697-e732-4c80-8d08-16cdf834dcb1",
   "metadata": {},
   "outputs": [],
   "source": [
    "Segment_DF_3['Engagement_Issue_count_last3M'].describe()"
   ]
  },
  {
   "cell_type": "code",
   "execution_count": null,
   "id": "fb684ea3-9049-4644-9354-1f6e1f43fa75",
   "metadata": {},
   "outputs": [],
   "source": [
    "Segment_DF_3['System_Condition_Issue_count_last3M'].describe()"
   ]
  },
  {
   "cell_type": "code",
   "execution_count": null,
   "id": "981cfaae-3544-435b-bb91-5e4967fe4ead",
   "metadata": {},
   "outputs": [],
   "source": [
    "Segment_DF_3['Central_Station_Condition_Issue_Avg_duration_hours_last3M']=Segment_DF_3.apply(lambda x: 0 if x['Central_Station_Condition_Issue_count_last3M']==0 else x['Central_Station_Condition_Issue_duration_hours_sum_last3M']/x['Central_Station_Condition_Issue_count_last3M'],axis=1)\n",
    "Segment_DF_3['Critical_System_Avg_duration_hours_last3M']=Segment_DF_3.apply(lambda x: 0 if x['Critical_System_Issue_count_last3M']==0 else x['Critical_System_Issue_duration_hours_sum_last3M']/x['Critical_System_Issue_count_last3M'],axis=1)\n",
    "Segment_DF_3['Engagement_Issue_Issue_Avg_duration_hours_last3M']=Segment_DF_3.apply(lambda x: 0 if x['Engagement_Issue_count_last3M']==0 else x['Engagement_Issue_duration_hours_sum_last3M']/x['Engagement_Issue_count_last3M'],axis=1)\n",
    "Segment_DF_3['System_Condition_Issue_Avg_duration_hours_last3M']=Segment_DF_3.apply(lambda x: 0 if x['System_Condition_Issue_count_last3M']==0 else x['System_Condition_Issue_duration_hours_sum_last3M']/x['System_Condition_Issue_count_last3M'],axis=1)"
   ]
  },
  {
   "cell_type": "code",
   "execution_count": null,
   "id": "63056b76-f002-49fe-b935-4f4365b5e2f6",
   "metadata": {},
   "outputs": [],
   "source": [
    "Segment_DF_3['Central_Station_Condition_Issue_Avg_duration_hours_last3M'].describe()"
   ]
  },
  {
   "cell_type": "code",
   "execution_count": null,
   "id": "90fbd42f-ead7-47f6-a6f0-0ced9f94f0a9",
   "metadata": {},
   "outputs": [],
   "source": [
    "Segment_DF_3['Critical_System_Avg_duration_hours_last3M'].describe()"
   ]
  },
  {
   "cell_type": "code",
   "execution_count": null,
   "id": "75e6536f-6044-441a-af72-54e8acc46bf7",
   "metadata": {},
   "outputs": [],
   "source": [
    "Segment_DF_3['Engagement_Issue_Issue_Avg_duration_hours_last3M'].describe()"
   ]
  },
  {
   "cell_type": "code",
   "execution_count": null,
   "id": "d9396540-9682-457a-af87-47f84d7aedf5",
   "metadata": {},
   "outputs": [],
   "source": [
    "Segment_DF_3['System_Condition_Issue_Avg_duration_hours_last3M'].describe()"
   ]
  },
  {
   "cell_type": "code",
   "execution_count": null,
   "id": "702caa13-b8db-4bc0-b2c0-2c61af106811",
   "metadata": {},
   "outputs": [],
   "source": []
  }
 ],
 "metadata": {
  "kernelspec": {
   "display_name": "Python 3 (ipykernel)",
   "language": "python",
   "name": "python3"
  },
  "language_info": {
   "codemirror_mode": {
    "name": "ipython",
    "version": 3
   },
   "file_extension": ".py",
   "mimetype": "text/x-python",
   "name": "python",
   "nbconvert_exporter": "python",
   "pygments_lexer": "ipython3",
   "version": "3.7.12"
  }
 },
 "nbformat": 4,
 "nbformat_minor": 5
}
