{
 "cells": [
  {
   "cell_type": "code",
   "execution_count": null,
   "id": "7197d995-8d99-4b00-bcef-2d764ca2fafd",
   "metadata": {},
   "outputs": [],
   "source": [
    "#### import global modules\n",
    "import os\n",
    "import sys\n",
    "import pandas as pd\n",
    "import numpy as np\n",
    "from pathlib import Path\n",
    "from yaml import safe_load\n",
    "import google.oauth2.credentials\n",
    "from google.cloud import bigquery\n",
    "import gc\n",
    "\n",
    "# Set global vars\n",
    "pth_project = Path(os.getcwd().split('notebooks')[0])\n",
    "pth_data = pth_project / 'data'\n",
    "pth_queries = pth_project / 'core' / 'queries'\n",
    "pth_creds = pth_project / 'conf' / 'local' / 'project_config.yaml'\n",
    "sys.path.insert(0, str(pth_project))\n",
    "d_project_config = safe_load(pth_creds.open())\n",
    "# d_params = safe_load((pth_project / 'core' / 'parameters' / 'common.yaml').open())['data_extract']\n",
    "\n",
    "# import local modules\n",
    "from core.utils.gcp import connect_bq_services\n",
    "# from core.etl.extract import extract_bq_data, extract_pr_codes, format_conv_df, filter_convs\n",
    "\n",
    "# Connect to google services\n",
    "bq_client = connect_bq_services(d_project_config['gcp-project-name'])\n",
    "pd.options.display.max_rows = 100"
   ]
  },
  {
   "cell_type": "code",
   "execution_count": null,
   "id": "b650abcc-2de8-44e1-b86e-838994646783",
   "metadata": {},
   "outputs": [],
   "source": [
    "def extract_bq_data(bq_client, sql=None, pth_query=None):\n",
    "    if sql is not None:\n",
    "        df = bq_client.query(sql).to_dataframe()\n",
    "    elif pth_query is not None:\n",
    "        sql = pth_query.read_text()\n",
    "        df = bq_client.query(sql).to_dataframe()\n",
    "    else:\n",
    "        raise ValueError('`sql` or `pth_query` should be set')  \n",
    "    return df"
   ]
  },
  {
   "cell_type": "code",
   "execution_count": null,
   "id": "8831ace0-e333-4f45-ae9e-f2851e49ebd1",
   "metadata": {},
   "outputs": [],
   "source": [
    "# Customer_Details_Query='''\n",
    "\n",
    "# SELECT customer_id,dealer_customer_id,primary_login_id,dealer_name,join_date,account_type_name,customer_type_name,primary_email,primary_phone,last_updt_ts\n",
    "# FROM `cio-datahub-enterprise-pr-183a.src_adc.bq_customer_account_details` \n",
    "# --where last_updt_ts >='2022-08-01'  and last_updt_ts < '2022-10-01'\n",
    "# where date(last_updt_ts) ='2022-11-30'\n",
    "# and date(join_date)<'2022-09-01'\n",
    "# and account_type_name!='Standalone'\n",
    "# and dealer_name in ('TELUS Communications Inc.','ADT by TELUS')\n",
    "# --and customer_type_name='Customer'\n",
    "# QUALIFY ROW_NUMBER() OVER (PARTITION BY customer_id ORDER BY last_updt_ts DESC) = 1\n",
    "# order by dealer_name,join_date,customer_id\n",
    "\n",
    "# '''"
   ]
  },
  {
   "cell_type": "code",
   "execution_count": null,
   "id": "ec0c8e07-44e1-45d3-a6fb-055d3707281d",
   "metadata": {},
   "outputs": [],
   "source": [
    "All_resi_customers='''\n",
    "\n",
    "\n",
    "with ADC_Customer_Base as (\n",
    "\n",
    "SELECT customer_id,dealer_customer_id,primary_login_id,dealer_name,join_date,account_type_name,customer_type_name,primary_email,primary_phone,last_updt_ts\n",
    "FROM `cio-datahub-enterprise-pr-183a.src_adc.bq_customer_account_details` \n",
    "where date(last_updt_ts) ='2022-10-31'\n",
    "--and date(join_date)<'2022-08-01'\n",
    "and account_type_name!='Standalone'\n",
    "--and dealer_name in ('TELUS Communications Inc.','ADT by TELUS')\n",
    "--and customer_type_name='Customer'\n",
    "QUALIFY ROW_NUMBER() OVER (PARTITION BY customer_id ORDER BY last_updt_ts DESC) = 1\n",
    "order by dealer_name,join_date,customer_id\n",
    "\n",
    "\n",
    ")\n",
    "\n",
    "\n",
    "\n",
    ", Telus_Customer_Base as (\n",
    "\n",
    "SELECT customer_id,'Telus_Customer' as Dealer_type_flag,COUNT(*) OVER (PARTITION BY 1) as RowCnt, Telus_Churn_Flag as Churn_flag \n",
    "FROM `divgpras-pr-579355.SHS.ADC_SMHM_CustomerBase_OCT2022` \n",
    ")\n",
    "\n",
    "\n",
    ", ADT_Customer_Base as (\n",
    "\n",
    "SELECT customer_id,'ADT_Customer' as Dealer_type_flag,COUNT(*) OVER (PARTITION BY 1) as RowCnt \n",
    "FROM `divgpras-pr-579355.ADC_updated.ADC_ADT_mapping` \n",
    ")\n",
    "\n",
    "\n",
    ",ADT_Base_with_Churn as (\n",
    "\n",
    "\n",
    "select a.customer_id, 'ADT_Customer' as Dealer_type_flag,COUNT(*) OVER (PARTITION BY 1) as RowCnt,b.ADT_Churn_flag as Churn_flag\n",
    "\n",
    "from `divgpras-pr-579355.ADC_updated.ADC_ADT_mapping` a \n",
    "LEFT JOIN `divgpras-pr-579355.ADC_updated.ADT_Churn_Nov2022` b\n",
    "ON a.customer_id=b.CustomerId\n",
    ")\n",
    "\n",
    ", Union_data as (\n",
    "\n",
    "SELECT * from Telus_Customer_Base\n",
    "UNION ALL\n",
    "SELECT * from ADT_Base_with_Churn\n",
    "\n",
    ")\n",
    "\n",
    ",Merge_data as (\n",
    "\n",
    "SELECT * from ADC_Customer_Base a\n",
    "INNER JOIN Union_data b\n",
    "\n",
    "on a.customer_id=b.customer_id\n",
    "order by Dealer_type_flag\n",
    ")\n",
    "\n",
    "select * from Merge_data\n",
    "\n",
    "\n",
    "\n",
    "'''"
   ]
  },
  {
   "cell_type": "code",
   "execution_count": null,
   "id": "7ad25a35-5c15-4147-bb96-26c71881bf9b",
   "metadata": {},
   "outputs": [],
   "source": [
    "# SHS_Churn_Nov_2022=pd.read_csv('/home/jupyter/ADC/notebooks/SMHH_CHURN_NOV2022.csv')"
   ]
  },
  {
   "cell_type": "code",
   "execution_count": null,
   "id": "d1189078-58a8-437b-b420-59133d346880",
   "metadata": {},
   "outputs": [],
   "source": [
    "# SHS_Churn_Nov_2022.info()"
   ]
  },
  {
   "cell_type": "code",
   "execution_count": null,
   "id": "edcf1be9-ad17-48e4-b5d8-d70dde5d51e3",
   "metadata": {},
   "outputs": [],
   "source": [
    "# SHS_Churn_Nov_2022['Telus_Churn_flag']=1"
   ]
  },
  {
   "cell_type": "code",
   "execution_count": null,
   "id": "f5d82021-3989-46e4-bfa8-b6661afba213",
   "metadata": {},
   "outputs": [],
   "source": [
    "# ADT_Churn_Nov2022=pd.read_csv('/home/jupyter/ADC/notebooks/ADT_Churn_Nov22.csv')"
   ]
  },
  {
   "cell_type": "code",
   "execution_count": null,
   "id": "1cf93b21-5e13-4fc3-a7cd-7de422892963",
   "metadata": {},
   "outputs": [],
   "source": [
    "# ADT_Churn_Nov2022['ADT_Churn_flag']=1"
   ]
  },
  {
   "cell_type": "code",
   "execution_count": null,
   "id": "5af8143e-1e34-4021-b230-741b25326755",
   "metadata": {},
   "outputs": [],
   "source": [
    "# ADT_Churn_Nov2022.head()"
   ]
  },
  {
   "cell_type": "code",
   "execution_count": null,
   "id": "0b76eda8-ef46-45e3-a733-423271d399f1",
   "metadata": {},
   "outputs": [],
   "source": [
    "# config= bigquery.job.LoadJobConfig()\n",
    "\n",
    "# # config._properties['timePartitioning'] = {'field': 'Month_Year'}\n",
    "# config.write_disposition = bigquery.WriteDisposition.WRITE_TRUNCATE\n",
    "\n",
    "# Table_BQ = 'ADC_updated.ADT_Churn_Nov2022'\n",
    "\n",
    "# bq_table_instance= bq_client.load_table_from_dataframe(ADT_Churn_Nov2022, Table_BQ,job_config=config)"
   ]
  },
  {
   "cell_type": "code",
   "execution_count": null,
   "id": "94436e87-fb63-46ea-b47b-0176a5b7f34f",
   "metadata": {},
   "outputs": [],
   "source": [
    "# config= bigquery.job.LoadJobConfig()\n",
    "\n",
    "# # config._properties['timePartitioning'] = {'field': 'Month_Year'}\n",
    "# config.write_disposition = bigquery.WriteDisposition.WRITE_TRUNCATE\n",
    "\n",
    "# Table_BQ = 'ADC_updated.SHS_Churn_Nov_2022'\n",
    "\n",
    "# bq_table_instance= bq_client.load_table_from_dataframe(SHS_Churn_Nov_2022, Table_BQ,job_config=config)"
   ]
  },
  {
   "cell_type": "code",
   "execution_count": null,
   "id": "486e611d-eecd-42ba-8721-ac17cf85ce87",
   "metadata": {},
   "outputs": [],
   "source": [
    "Customer_DF=extract_bq_data(bq_client, sql=All_resi_customers)"
   ]
  },
  {
   "cell_type": "code",
   "execution_count": null,
   "id": "0e2b8f04-1f3c-4590-870d-339266108af8",
   "metadata": {},
   "outputs": [],
   "source": [
    "# config= bigquery.job.LoadJobConfig()\n",
    "\n",
    "# # config._properties['timePartitioning'] = {'field': 'Month_Year'}\n",
    "# config.write_disposition = bigquery.WriteDisposition.WRITE_TRUNCATE\n",
    "\n",
    "# Table_BQ = 'ADC.Customer_details_30Sep2022'\n",
    "\n",
    "# bq_table_instance= bq_client.load_table_from_dataframe(Customer_DF, Table_BQ,job_config=config)"
   ]
  },
  {
   "cell_type": "code",
   "execution_count": null,
   "id": "78dafc4b-e497-4988-a2a6-d8bc90041acf",
   "metadata": {},
   "outputs": [],
   "source": [
    "Customer_DF.info()"
   ]
  },
  {
   "cell_type": "code",
   "execution_count": null,
   "id": "d7803775-cc5f-4e93-8492-050ce255ea1d",
   "metadata": {},
   "outputs": [],
   "source": [
    "Customer_DF.head()"
   ]
  },
  {
   "cell_type": "code",
   "execution_count": null,
   "id": "81df3e66-ff06-4269-9bf5-9443e96d8748",
   "metadata": {},
   "outputs": [],
   "source": [
    "Customer_DF['Churn_flag'].isna().sum()/Customer_DF.shape[0]"
   ]
  },
  {
   "cell_type": "code",
   "execution_count": null,
   "id": "96108647-57c0-41b3-8929-0f1c4a8b1512",
   "metadata": {},
   "outputs": [],
   "source": [
    "Customer_DF.isna().sum() * 100 / len(Customer_DF)"
   ]
  },
  {
   "cell_type": "code",
   "execution_count": null,
   "id": "c7852ae8-7585-4037-9034-fd9ac1132b6d",
   "metadata": {},
   "outputs": [],
   "source": [
    "Customer_DF.fillna(0,inplace=True)"
   ]
  },
  {
   "cell_type": "code",
   "execution_count": null,
   "id": "ab312c58-96db-4ab2-92ed-b76257838636",
   "metadata": {},
   "outputs": [],
   "source": [
    "Customer_DF['Churn_flag'].sum()"
   ]
  },
  {
   "cell_type": "code",
   "execution_count": null,
   "id": "b0ef6712-535f-4409-92e6-9b0d0f87a11a",
   "metadata": {},
   "outputs": [],
   "source": [
    "Customer_DF['dealer_name'].value_counts()"
   ]
  },
  {
   "cell_type": "code",
   "execution_count": null,
   "id": "d3f7ac8d-dd25-4be4-8f13-2389b4be448c",
   "metadata": {},
   "outputs": [],
   "source": [
    "pd.DataFrame(Customer_DF.groupby(['dealer_name']).agg(\n",
    "    \n",
    "    Customer_count= ('customer_id','nunique'),\n",
    "    Churn_Total=('Churn_flag',lambda x: x.sum()))\n",
    "             .reset_index())"
   ]
  },
  {
   "cell_type": "code",
   "execution_count": null,
   "id": "2bc83259-4c69-43dd-85ec-a93f822ae7fa",
   "metadata": {},
   "outputs": [],
   "source": [
    "Best_practices_details_Query='''\n",
    "\n",
    "select customer_id,best_practices_id,best_practices_ind,date(dt_last_calculate_utc) as last_date_calculate\n",
    "from `cio-datahub-enterprise-pr-183a.src_adc.bq_customer_best_practice`\n",
    "where DATE(dt_last_calculate_utc)<='2022-10-31'\n",
    "QUALIFY ROW_NUMBER() OVER (PARTITION BY customer_id,best_practices_id ORDER BY last_updt_ts DESC) = 1\n",
    "order by customer_id,best_practices_id\n",
    "\n",
    "\n",
    "'''"
   ]
  },
  {
   "cell_type": "code",
   "execution_count": null,
   "id": "35c15fda-21a8-4b33-ab7b-23d487a37ad2",
   "metadata": {},
   "outputs": [],
   "source": [
    "Best_Practices_DF= extract_bq_data(bq_client,sql=Best_practices_details_Query)"
   ]
  },
  {
   "cell_type": "code",
   "execution_count": null,
   "id": "852ea4a6-cd2f-43c3-aa77-ab50ef8d2aad",
   "metadata": {},
   "outputs": [],
   "source": [
    "Best_Practices_DF.info()"
   ]
  },
  {
   "cell_type": "code",
   "execution_count": null,
   "id": "f3c2b9bf-0611-468e-867e-8d3022f1f17e",
   "metadata": {},
   "outputs": [],
   "source": [
    "Best_Practices_DF['Best_practices_flag']=Best_Practices_DF['best_practices_ind'].apply(lambda x: 1 if x==True else 0)\n",
    "Best_Practices_DF_wide=Best_Practices_DF.pivot(index='customer_id', columns='best_practices_id', values='Best_practices_flag').reset_index()\n"
   ]
  },
  {
   "cell_type": "code",
   "execution_count": null,
   "id": "3dccc582-b31b-4cc6-8aed-abb0a929c829",
   "metadata": {},
   "outputs": [],
   "source": [
    "Best_Practices_DF_wide.columns=['customer_id','Best_partices_1','Best_partices_2','Best_partices_3','Best_partices_4','Best_partices_5','Best_partices_6']"
   ]
  },
  {
   "cell_type": "code",
   "execution_count": null,
   "id": "6773b26a-5eb9-4124-9443-ee3aa28a3840",
   "metadata": {},
   "outputs": [],
   "source": [
    "cols_to_sum=['Best_partices_1','Best_partices_2','Best_partices_3','Best_partices_4','Best_partices_5','Best_partices_6']\n",
    "Best_Practices_DF_wide['Best_Practice_All']=Best_Practices_DF_wide[cols_to_sum].sum(axis=1)"
   ]
  },
  {
   "cell_type": "code",
   "execution_count": null,
   "id": "0a08e1f2-e9e2-4598-b63b-c35d2dcff917",
   "metadata": {},
   "outputs": [],
   "source": [
    "Best_Practices_DF_wide=Best_Practices_DF_wide.sort_values('Best_Practice_All',ascending=False)\n",
    "Best_Practices_DF_wide['Best_Practice_All_flag']=Best_Practices_DF_wide['Best_Practice_All'].apply(lambda x: 1 if x==6 else 0)"
   ]
  },
  {
   "cell_type": "code",
   "execution_count": null,
   "id": "4ed320a3-fb96-4c07-9c7a-557ac38b9d84",
   "metadata": {},
   "outputs": [],
   "source": [
    "Best_Practices_DF_wide.head()"
   ]
  },
  {
   "cell_type": "code",
   "execution_count": null,
   "id": "3bb81733-0d92-47ac-9f26-6a8714f3ff48",
   "metadata": {},
   "outputs": [],
   "source": [
    "Best_Practices_DF_mapp=Best_Practices_DF_wide.merge(Customer_DF[['customer_id','dealer_name']],on='customer_id',how='left')"
   ]
  },
  {
   "cell_type": "code",
   "execution_count": null,
   "id": "e71a20f9-9f2e-46c8-baf6-f8ac7f857e4b",
   "metadata": {},
   "outputs": [],
   "source": [
    "Best_Practices_DF_mapp['dealer_name'].isna().sum()"
   ]
  },
  {
   "cell_type": "code",
   "execution_count": null,
   "id": "5e774a2d-33e2-4fa4-9657-8f00db290b2a",
   "metadata": {},
   "outputs": [],
   "source": [
    "Best_Practices_DF_mapp['dealer_name'].value_counts()"
   ]
  },
  {
   "cell_type": "code",
   "execution_count": null,
   "id": "2f991320-cc60-44a0-b47f-5ecaec61edbe",
   "metadata": {},
   "outputs": [],
   "source": [
    "Arming_Query='''\n",
    "\n",
    "\n",
    "\n",
    "with date_sql as (\n",
    "select  count(distinct date(date)) as count_of_dates from `cio-datahub-enterprise-pr-183a.src_adc.bq_aggregate_daily_arming_commands`\n",
    "where date(date)< '2022-11-01' \n",
    "--and date(date)>= '2022-09-01'\n",
    ")\n",
    "\n",
    "\n",
    "\n",
    "select id_cust as customer_id,sum(count_arm_commands) as sum_arm_commands,sum(count_disarm_commands) as sum_disarm_commands,count (distinct date(date)) as number_days_arming_disarming, (select count_of_dates from date_sql ) as count_of_dates_arming\n",
    "from `cio-datahub-enterprise-pr-183a.src_adc.bq_aggregate_daily_arming_commands`\n",
    "where date(date)< '2022-11-01' \n",
    "--and date(date)>= '2022-09-01'\n",
    "group by customer_id\n",
    "order by number_days_arming_disarming desc\n",
    "\n",
    "-- select id_cust as customer_id,sum(count_arm_commands) as sum_arm_commands,sum(count_disarm_commands) as sum_disarm_commands,count (distinct date(date)) as number_days_arming_disarming_in_last15\n",
    "-- from `cio-datahub-enterprise-pr-183a.src_adc.bq_aggregate_daily_arming_commands`\n",
    "-- where date(date)<'2022-10-01' and date(date)>=DATE_SUB('2022-10-01',INTERVAL 15 DAY)\n",
    "-- group by customer_id\n",
    "-- order by number_days_arming_disarming_in_last15 desc\n",
    "\n",
    "\n",
    "\n",
    "'''"
   ]
  },
  {
   "cell_type": "code",
   "execution_count": null,
   "id": "d1fa47fa-8eab-477b-b2fe-42f6c34ecccd",
   "metadata": {},
   "outputs": [],
   "source": [
    "Arming_DF=extract_bq_data(bq_client, sql=Arming_Query)"
   ]
  },
  {
   "cell_type": "code",
   "execution_count": null,
   "id": "cb2b60d4-011e-474b-8ce0-86fc3c8b851d",
   "metadata": {},
   "outputs": [],
   "source": [
    "Arming_DF.info()"
   ]
  },
  {
   "cell_type": "code",
   "execution_count": null,
   "id": "8648cde7-1f61-41d0-853b-c37580e97fba",
   "metadata": {},
   "outputs": [],
   "source": [
    "Arming_DF.head()"
   ]
  },
  {
   "cell_type": "code",
   "execution_count": null,
   "id": "8c086e5f-c7ac-4d41-bd9b-f73dd2b995da",
   "metadata": {},
   "outputs": [],
   "source": [
    "max_number_arming_dates=Arming_DF['count_of_dates_arming'].max()"
   ]
  },
  {
   "cell_type": "code",
   "execution_count": null,
   "id": "dba8cc92-a674-4d72-ab31-5a59424f703e",
   "metadata": {},
   "outputs": [],
   "source": [
    "max_number_arming_dates"
   ]
  },
  {
   "cell_type": "code",
   "execution_count": null,
   "id": "2617325f-6df6-4b38-987b-78377e341b84",
   "metadata": {},
   "outputs": [],
   "source": [
    "\n",
    "Arming_DF['Arming_Consistency']=Arming_DF['number_days_arming_disarming'].apply(lambda x: x*100/max_number_arming_dates)\n"
   ]
  },
  {
   "cell_type": "code",
   "execution_count": null,
   "id": "f42b94b9-9015-4b6a-9fd4-ea5f96dbd1a4",
   "metadata": {},
   "outputs": [],
   "source": [
    "Arming_DF.head()"
   ]
  },
  {
   "cell_type": "code",
   "execution_count": null,
   "id": "854cc7fa-fbbc-489c-8ecb-6fb5545eb365",
   "metadata": {},
   "outputs": [],
   "source": [
    "pd.DataFrame(Arming_DF['Arming_Consistency'].value_counts(normalize=True)*100).reset_index().sort_values(by='index',ascending=False)"
   ]
  },
  {
   "cell_type": "code",
   "execution_count": null,
   "id": "5126f75f-a039-4db2-bf61-e89dec908cc6",
   "metadata": {},
   "outputs": [],
   "source": [
    "Arming_DF['Arming_Flag']=1"
   ]
  },
  {
   "cell_type": "code",
   "execution_count": null,
   "id": "4a4f1d18-bcdc-46b7-ac0e-b373b3510a29",
   "metadata": {},
   "outputs": [],
   "source": [
    "Arming_DF.info()"
   ]
  },
  {
   "cell_type": "code",
   "execution_count": null,
   "id": "e7934441-2919-48ce-b557-0f33e2dc890a",
   "metadata": {},
   "outputs": [],
   "source": [
    "Arming_DF_mapp=Arming_DF.merge(Customer_DF[['customer_id','dealer_name']],on='customer_id',how='left')"
   ]
  },
  {
   "cell_type": "code",
   "execution_count": null,
   "id": "f2d010a0-c0ac-4f2e-8e92-e9c19d497127",
   "metadata": {},
   "outputs": [],
   "source": [
    "Arming_DF_mapp['dealer_name'].value_counts()"
   ]
  },
  {
   "cell_type": "code",
   "execution_count": null,
   "id": "0681302d-60c5-4a67-93a5-ad9f3d2be1ba",
   "metadata": {},
   "outputs": [],
   "source": [
    "140127/241919"
   ]
  },
  {
   "cell_type": "code",
   "execution_count": null,
   "id": "346b18d1-516a-4fb1-aa2b-620d33fdc669",
   "metadata": {},
   "outputs": [],
   "source": [
    "113448/198280"
   ]
  },
  {
   "cell_type": "code",
   "execution_count": null,
   "id": "201a36fb-e5fc-4b28-83aa-6f2ffe3580a4",
   "metadata": {},
   "outputs": [],
   "source": [
    "Login_SQL='''\n",
    "\n",
    "\n",
    "with date_sql as (\n",
    "select  count(distinct date(login_dt_utc)) as count_of_dates from `cio-datahub-enterprise-pr-183a.src_adc.bq_customer_daily_logins`\n",
    "\n",
    "where date(login_dt_utc)<'2022-11-01' \n",
    "--and date(login_dt_utc)>= '2022-09-01'\n",
    "\n",
    ")\n",
    "\n",
    "\n",
    "\n",
    "select customer_id,sum(login_count) as sum_login_count,count (distinct date(login_dt_utc)) as number_of_login_days, (select count_of_dates from date_sql ) as count_of_dates_logins\n",
    "from `cio-datahub-enterprise-pr-183a.src_adc.bq_customer_daily_logins`\n",
    "where date(login_dt_utc)<'2022-11-01' \n",
    "--and date(login_dt_utc)>= '2022-09-01'\n",
    "group by customer_id\n",
    "order by number_of_login_days desc\n",
    "\n",
    "\n",
    "\n",
    "'''"
   ]
  },
  {
   "cell_type": "code",
   "execution_count": null,
   "id": "4bba3711-2eab-4514-8eb4-ac01fcfae92b",
   "metadata": {},
   "outputs": [],
   "source": [
    "Login_DF=extract_bq_data(bq_client, sql=Login_SQL)"
   ]
  },
  {
   "cell_type": "code",
   "execution_count": null,
   "id": "3f1966ae-38fe-426a-94de-e4004dcf6f85",
   "metadata": {},
   "outputs": [],
   "source": [
    "Login_DF.info()"
   ]
  },
  {
   "cell_type": "code",
   "execution_count": null,
   "id": "ee0c5a4c-9209-491c-aa4b-d4b63eac375e",
   "metadata": {},
   "outputs": [],
   "source": [
    "Login_DF['count_of_dates_logins'].max()"
   ]
  },
  {
   "cell_type": "code",
   "execution_count": null,
   "id": "6535ee87-cfd7-430e-8c2b-cfccdd8b8df7",
   "metadata": {},
   "outputs": [],
   "source": [
    "Login_DF.head()"
   ]
  },
  {
   "cell_type": "code",
   "execution_count": null,
   "id": "a22baaae-b568-4c9b-a029-ec9e566a58ea",
   "metadata": {},
   "outputs": [],
   "source": [
    "max_number_login_dates=Login_DF['count_of_dates_logins'].max()"
   ]
  },
  {
   "cell_type": "code",
   "execution_count": null,
   "id": "cdde8dbb-bb57-4f06-bd80-bd71def056e8",
   "metadata": {},
   "outputs": [],
   "source": [
    "Login_DF['Login_Consistency']=Login_DF['number_of_login_days'].apply(lambda x: x*100/max_number_login_dates)"
   ]
  },
  {
   "cell_type": "code",
   "execution_count": null,
   "id": "7a9f7abf-23c2-45ff-9dd7-6063cd3a6de6",
   "metadata": {},
   "outputs": [],
   "source": [
    "Login_DF.head()"
   ]
  },
  {
   "cell_type": "code",
   "execution_count": null,
   "id": "1e0d4e2d-36f4-43f8-9681-9c583af3c8e0",
   "metadata": {},
   "outputs": [],
   "source": [
    "Login_DF.info()"
   ]
  },
  {
   "cell_type": "code",
   "execution_count": null,
   "id": "efd90946-1f48-4fdd-9788-7d5e6290c4e6",
   "metadata": {},
   "outputs": [],
   "source": [
    "Dealer_mapping= Customer_DF[['customer_id','dealer_name']]"
   ]
  },
  {
   "cell_type": "code",
   "execution_count": null,
   "id": "a3a91921-547a-4d76-bf86-d036b0f4840a",
   "metadata": {},
   "outputs": [],
   "source": [
    "Login_DF_dealer=Login_DF.merge(Dealer_mapping,how='left',on='customer_id')"
   ]
  },
  {
   "cell_type": "code",
   "execution_count": null,
   "id": "334e3d74-b9c0-42f8-9ee0-c510a9c60138",
   "metadata": {},
   "outputs": [],
   "source": [
    "Login_DF_dealer['dealer_name'].isna().sum()"
   ]
  },
  {
   "cell_type": "code",
   "execution_count": null,
   "id": "8b331b4a-6730-4228-a517-7bd9aa59fc06",
   "metadata": {},
   "outputs": [],
   "source": [
    "Login_DF_dealer['dealer_name'].value_counts()"
   ]
  },
  {
   "cell_type": "code",
   "execution_count": null,
   "id": "ccb8b4b2-0f0e-48c6-b51d-d0eeb26594db",
   "metadata": {},
   "outputs": [],
   "source": [
    "pd.DataFrame(Login_DF['Login_Consistency'].value_counts(normalize=True)*100).reset_index().sort_values(by='index',ascending=False)"
   ]
  },
  {
   "cell_type": "code",
   "execution_count": null,
   "id": "c14d0f3b-ced5-43fe-a3b4-e3b51f22fb94",
   "metadata": {},
   "outputs": [],
   "source": [
    "Login_DF['Login_Flag']=1"
   ]
  },
  {
   "cell_type": "code",
   "execution_count": null,
   "id": "45c92a3f-b6a8-4c21-9427-1b77d110d2ac",
   "metadata": {},
   "outputs": [],
   "source": [
    "Merge_DF=Customer_DF.merge(Best_Practices_DF_wide,on='customer_id',how='left')"
   ]
  },
  {
   "cell_type": "code",
   "execution_count": null,
   "id": "75e7b0e6-774a-49f2-b773-a70a0277dbfc",
   "metadata": {},
   "outputs": [],
   "source": [
    "Merge_DF_1=Merge_DF.merge(Arming_DF,on='customer_id',how='left')"
   ]
  },
  {
   "cell_type": "code",
   "execution_count": null,
   "id": "00d6b764-a325-421f-bcdc-9248d723a239",
   "metadata": {},
   "outputs": [],
   "source": [
    "Merge_DF_2=Merge_DF_1.merge(Login_DF,on='customer_id',how='left')"
   ]
  },
  {
   "cell_type": "code",
   "execution_count": null,
   "id": "ab632a35-6a15-4b36-bb28-b8df3d639470",
   "metadata": {},
   "outputs": [],
   "source": [
    "Merge_DF_2.head()"
   ]
  },
  {
   "cell_type": "code",
   "execution_count": null,
   "id": "4968ccfb-e70b-47b8-a450-95c23e9eda6c",
   "metadata": {},
   "outputs": [],
   "source": [
    "Merge_DF_2.isnull().sum() * 100 / len(Merge_DF_2)"
   ]
  },
  {
   "cell_type": "code",
   "execution_count": null,
   "id": "cc2cc2af-2854-475b-8c9c-6ad5a38a3bc2",
   "metadata": {},
   "outputs": [],
   "source": [
    "Merge_DF_2.fillna(0,inplace=True)"
   ]
  },
  {
   "cell_type": "code",
   "execution_count": null,
   "id": "42bca0a6-b4d7-415f-804f-48144dd32699",
   "metadata": {},
   "outputs": [],
   "source": [
    "Merge_DF_2['count_of_dates_logins'].value_counts()"
   ]
  },
  {
   "cell_type": "code",
   "execution_count": null,
   "id": "0c94d695-6809-40ca-9bcc-32013f7f1af0",
   "metadata": {},
   "outputs": [],
   "source": [
    "Merge_DF_2['count_of_dates_logins']=max_number_login_dates"
   ]
  },
  {
   "cell_type": "code",
   "execution_count": null,
   "id": "90e38766-41ef-41eb-8494-6b19e37a49a9",
   "metadata": {},
   "outputs": [],
   "source": [
    "Merge_DF_2['Login_Consistency'].value_counts()"
   ]
  },
  {
   "cell_type": "code",
   "execution_count": null,
   "id": "0c324ffa-beed-436c-9e29-235fffd18965",
   "metadata": {},
   "outputs": [],
   "source": [
    "Merge_DF_2.info()"
   ]
  },
  {
   "cell_type": "code",
   "execution_count": null,
   "id": "f7bad7d1-4ba0-4d7f-b6db-1475d449b87e",
   "metadata": {},
   "outputs": [],
   "source": [
    "Merge_DF_2['Login_Flag'].value_counts()"
   ]
  },
  {
   "cell_type": "code",
   "execution_count": null,
   "id": "4d0a0502-0b85-4623-913a-9708b51d6496",
   "metadata": {},
   "outputs": [],
   "source": [
    "Merge_DF_2['Arming_Flag'].value_counts()"
   ]
  },
  {
   "cell_type": "code",
   "execution_count": null,
   "id": "91b3a925-ef76-4592-a49b-277479e0db34",
   "metadata": {},
   "outputs": [],
   "source": [
    "pd.DataFrame(Merge_DF_2['Arming_Consistency'].value_counts(normalize=True)*100).reset_index().sort_values(by='index',ascending=False)"
   ]
  },
  {
   "cell_type": "code",
   "execution_count": null,
   "id": "b72111cd-29fb-4be9-9ba6-a794e0c96648",
   "metadata": {},
   "outputs": [],
   "source": [
    "pd.DataFrame(Merge_DF_2['Login_Consistency'].value_counts(normalize=True)*100).reset_index().sort_values(by='index',ascending=False)"
   ]
  },
  {
   "cell_type": "code",
   "execution_count": null,
   "id": "0a9ed1dd-ce9e-4453-a81a-eee2accc6863",
   "metadata": {},
   "outputs": [],
   "source": [
    "Merge_DF_2['Best_Practice_All'].isna().sum()"
   ]
  },
  {
   "cell_type": "code",
   "execution_count": null,
   "id": "5cac95d2-e26b-4452-9521-1e6beb7bc8f1",
   "metadata": {},
   "outputs": [],
   "source": [
    "pd.DataFrame(Merge_DF_2['Best_Practice_All'].value_counts(normalize=True)*100).reset_index().sort_values(by='index',ascending=False)"
   ]
  },
  {
   "cell_type": "code",
   "execution_count": null,
   "id": "0dbb0a60-40e9-4f7d-8d04-27f0a04f0bce",
   "metadata": {},
   "outputs": [],
   "source": [
    "def Segment_making(row\n",
    "                   ,min_login_consistency_threshold=50\n",
    "                   ,min_arming_consistency_threshold=50\n",
    "                   ,max_login_consistency_threshold=50\n",
    "                   ,max_arming_consistency_threshold=50):\n",
    "    \n",
    "    if row['Best_Practice_All']>=5 and row['Login_Consistency']>=max_login_consistency_threshold  and row['Arming_Consistency']>=max_arming_consistency_threshold:\n",
    "        return 'Heavy_User'\n",
    "    elif row['Login_Consistency']>=max_login_consistency_threshold  and row['Arming_Consistency']< min_arming_consistency_threshold:\n",
    "        return 'Home_automation_Savvy'\n",
    "    elif row['Login_Consistency']< min_login_consistency_threshold  and row['Arming_Consistency']>=max_login_consistency_threshold:\n",
    "        return 'Old_Fashion'\n",
    "    elif row['Login_Consistency']==0  and row['Arming_Consistency']==0:\n",
    "        return 'Disengaged'\n",
    "    else:\n",
    "        return \"Moderate_Users\"\n",
    "    "
   ]
  },
  {
   "cell_type": "code",
   "execution_count": null,
   "id": "866561d9-d474-4d9c-8fb5-0c1201b5f252",
   "metadata": {},
   "outputs": [],
   "source": [
    "Merge_DF_2.shape"
   ]
  },
  {
   "cell_type": "code",
   "execution_count": null,
   "id": "e6c9c028-f5a0-4f25-a349-c6d65ed319ef",
   "metadata": {},
   "outputs": [],
   "source": [
    "Merge_DF_2['Segment']=Merge_DF_2.apply(Segment_making,axis=1)"
   ]
  },
  {
   "cell_type": "code",
   "execution_count": null,
   "id": "4094cfd6-9002-4b1c-981d-be2e74e2239a",
   "metadata": {},
   "outputs": [],
   "source": [
    "Merge_DF_2.shape"
   ]
  },
  {
   "cell_type": "code",
   "execution_count": null,
   "id": "1b383900-9d5e-4899-bcd9-b1feac93dadc",
   "metadata": {},
   "outputs": [],
   "source": [
    "Merge_DF_2['Segment'].isna().sum()"
   ]
  },
  {
   "cell_type": "code",
   "execution_count": null,
   "id": "26b6302e-9f34-45b7-9253-c96b49de471a",
   "metadata": {},
   "outputs": [],
   "source": [
    "Merge_DF_2['Segment'].value_counts(normalize=True)*100"
   ]
  },
  {
   "cell_type": "code",
   "execution_count": null,
   "id": "ff1c330e-2cce-4632-af41-3d4850dd64fb",
   "metadata": {},
   "outputs": [],
   "source": [
    "Merge_DF_2['Segment'].value_counts()"
   ]
  },
  {
   "cell_type": "code",
   "execution_count": null,
   "id": "ebd3cb95-d4c8-494a-a7b0-cc7960be5044",
   "metadata": {},
   "outputs": [],
   "source": [
    "pd.DataFrame(Merge_DF_2.groupby(['Segment']).agg(\n",
    "    \n",
    "    Customer_count= ('customer_id','nunique'),\n",
    "    Churn_total=('Churn_flag',lambda x: x.sum()),\n",
    "    Churn_rate=('Churn_flag',lambda x: x.mean()*100)).reset_index())"
   ]
  },
  {
   "cell_type": "code",
   "execution_count": null,
   "id": "ca40726f-1d04-4b6d-a74f-8a804c068a84",
   "metadata": {},
   "outputs": [],
   "source": [
    "pd.DataFrame(Merge_DF_2.groupby(['Segment']).agg(\n",
    "    \n",
    "    Customer_count= ('customer_id','nunique'),\n",
    "    Customer_Share= ('customer_id',lambda x:x.count()*100/Merge_DF_2.shape[0]),\n",
    "    Churn_total=('Churn_flag',lambda x: x.sum()),\n",
    "    Churn_rate=('Churn_flag',lambda x: x.mean()*100)).reset_index())"
   ]
  },
  {
   "cell_type": "code",
   "execution_count": null,
   "id": "a377ccb0-a2f7-42b7-af5c-a08c9e078e16",
   "metadata": {},
   "outputs": [],
   "source": [
    "Merge_DF_2['Churn_flag'].value_counts(normalize=True)*100"
   ]
  },
  {
   "cell_type": "code",
   "execution_count": null,
   "id": "ec4e9c4a-959c-46a1-8d51-a652f13c2de7",
   "metadata": {},
   "outputs": [],
   "source": [
    "pd.DataFrame(Merge_DF_2.groupby(['Segment','dealer_name']).agg(\n",
    "    \n",
    "    Customer_count= ('customer_id','nunique'),\n",
    "    Customer_Share= ('customer_id',lambda x:np.round(x.count()*100/Merge_DF_2.shape[0],0)),\n",
    "    # Dealer_count= ('customer_id',lambda x:x.count()*100/Merge_DF_2.shape[0]),\n",
    "    Churn_total=('Churn_flag',lambda x: x.sum()),\n",
    "    Churn_rate=('Churn_flag',lambda x: np.round(x.mean()*100,2))).reset_index())"
   ]
  },
  {
   "cell_type": "code",
   "execution_count": null,
   "id": "0d560da4-1fb6-4059-b693-47cd9ed0f16d",
   "metadata": {},
   "outputs": [],
   "source": [
    "Merge_DF_2.info()"
   ]
  },
  {
   "cell_type": "code",
   "execution_count": null,
   "id": "b799e4f2-eefa-48d4-86ce-a8273f7e6899",
   "metadata": {},
   "outputs": [],
   "source": [
    "# Merge_DF_2.to_csv('ADC_Segment_Nov22.csv',index=False)"
   ]
  },
  {
   "cell_type": "code",
   "execution_count": null,
   "id": "b153c008-6e30-4e89-ad73-7cfe93b84fa7",
   "metadata": {},
   "outputs": [],
   "source": [
    "# Merge_DF_2[['customer_id','dealer_customer_id','Segment']].to_csv('ADC_Segment_Nov22_subset.csv',index=False)"
   ]
  },
  {
   "cell_type": "code",
   "execution_count": null,
   "id": "8c3f1721-07c1-442b-89d2-c168fef82845",
   "metadata": {},
   "outputs": [],
   "source": [
    "# Merge_DF_2.info()"
   ]
  },
  {
   "cell_type": "code",
   "execution_count": null,
   "id": "93cb1cf7-93b2-4c37-a73f-6083904fcb76",
   "metadata": {},
   "outputs": [],
   "source": [
    "# ADT_Churn_Nov2022.head()"
   ]
  },
  {
   "cell_type": "code",
   "execution_count": null,
   "id": "f3beed24-b77c-4766-9821-d9964ec1cb8a",
   "metadata": {},
   "outputs": [],
   "source": [
    "# Merge_DF_3=Merge_DF_2.merge(ADT_Churn_Nov2022[['CustomerId','ADT_Churn_flag']],left_on='customer_id',right_on='CustomerId',how='left')"
   ]
  },
  {
   "cell_type": "code",
   "execution_count": null,
   "id": "4a52f3bf-2f74-48b0-b749-e0c8482bf914",
   "metadata": {},
   "outputs": [],
   "source": [
    "# Merge_DF_3['ADT_Churn_flag'].sum()"
   ]
  },
  {
   "cell_type": "code",
   "execution_count": null,
   "id": "48fedef3-e1b4-4d13-b15a-91bb86c8d71d",
   "metadata": {},
   "outputs": [],
   "source": [
    "# SHS_Churn_Nov_2022.info()"
   ]
  },
  {
   "cell_type": "code",
   "execution_count": null,
   "id": "2a04e099-805a-4039-bae9-f6abe2c525b2",
   "metadata": {},
   "outputs": [],
   "source": [
    "# SHS_Churn_Nov_2022['dealer_cust_id']=SHS_Churn_Nov_2022['CUST_ID'].astype('object')"
   ]
  },
  {
   "cell_type": "code",
   "execution_count": null,
   "id": "afcab309-addb-48af-b648-9d5a95fca3f3",
   "metadata": {},
   "outputs": [],
   "source": [
    "# SHS_Churn_Nov_2022.head()"
   ]
  },
  {
   "cell_type": "code",
   "execution_count": null,
   "id": "bbfef2cf-670f-44f8-9b8a-ab11908c91be",
   "metadata": {},
   "outputs": [],
   "source": [
    "# Merge_DF_3.info()"
   ]
  },
  {
   "cell_type": "code",
   "execution_count": null,
   "id": "97200623-1132-4da7-a315-2e4c81a7f312",
   "metadata": {},
   "outputs": [],
   "source": [
    "# Merge_DF_3['dealer_customer_id_int']=Merge_DF_3['dealer_customer_id'].astype('int64')"
   ]
  },
  {
   "cell_type": "code",
   "execution_count": null,
   "id": "cfe1a659-a9fe-483c-9d90-a7b0e54569cd",
   "metadata": {},
   "outputs": [],
   "source": [
    "# Merge_DF_4=Merge_DF_3.merge(SHS_Churn_Nov_2022[['dealer_cust_id','Telus_Churn_flag']],left_on='dealer_customer_id',right_on='dealer_cust_id',how='left')"
   ]
  },
  {
   "cell_type": "code",
   "execution_count": null,
   "id": "bd437460-ee00-4a71-bf4b-bce4161bca1f",
   "metadata": {},
   "outputs": [],
   "source": [
    "# Merge_DF_4['Telus_Churn_flag'].sum()"
   ]
  },
  {
   "cell_type": "code",
   "execution_count": null,
   "id": "19371f9f-fd7c-4782-9ea6-e919b4362441",
   "metadata": {},
   "outputs": [],
   "source": [
    "Merge_DF_2['Avg_Arming_per_day']=Merge_DF_2.apply(lambda x: np.round(x['sum_arm_commands']/x['number_days_arming_disarming']) if x['number_days_arming_disarming']!=0 else 0 ,axis=1)"
   ]
  },
  {
   "cell_type": "code",
   "execution_count": null,
   "id": "de10c34b-79af-472c-8a70-79a0f2a56e21",
   "metadata": {},
   "outputs": [],
   "source": [
    "Merge_DF_2['Avg_DisArming_per_day']=Merge_DF_2.apply(lambda x: np.round(x['sum_disarm_commands']/x['number_days_arming_disarming']) if x['number_days_arming_disarming']!=0 else 0 ,axis=1)"
   ]
  },
  {
   "cell_type": "code",
   "execution_count": null,
   "id": "ef228ae3-c1de-4408-b252-ac6d0969d8b3",
   "metadata": {},
   "outputs": [],
   "source": [
    "Merge_DF_2['Avg_logins_per_day']=Merge_DF_2.apply(lambda x: np.round(x['sum_login_count']/x['number_of_login_days']) if x['number_of_login_days']!=0 else 0 ,axis=1)"
   ]
  },
  {
   "cell_type": "code",
   "execution_count": null,
   "id": "51788496-4015-4775-84aa-4f5419b3e6fe",
   "metadata": {},
   "outputs": [],
   "source": [
    "Merge_DF_2['Avg_Arming_per_day'].describe()"
   ]
  },
  {
   "cell_type": "code",
   "execution_count": null,
   "id": "f9d15bad-d8f5-40e4-a7bf-bf63a75fb857",
   "metadata": {},
   "outputs": [],
   "source": [
    "Merge_DF_2['Avg_DisArming_per_day'].describe()"
   ]
  },
  {
   "cell_type": "code",
   "execution_count": null,
   "id": "a299d718-354a-497f-8db9-dfd20734051c",
   "metadata": {},
   "outputs": [],
   "source": [
    "Merge_DF_2['Avg_logins_per_day'].describe()"
   ]
  },
  {
   "cell_type": "code",
   "execution_count": null,
   "id": "1a5088f0-63d5-433c-b4bd-2b530dae9846",
   "metadata": {},
   "outputs": [],
   "source": [
    "Merge_DF_2.head()"
   ]
  },
  {
   "cell_type": "code",
   "execution_count": null,
   "id": "c33812a2-e446-423b-b743-071fc8974d19",
   "metadata": {},
   "outputs": [],
   "source": [
    "Login_SQL_wide='''\n",
    "\n",
    "with date_sql as (\n",
    "select  count(distinct date(login_dt_utc)) as count_of_dates from `cio-datahub-enterprise-pr-183a.src_adc.bq_customer_daily_logins`\n",
    "where date(login_dt_utc)<'2022-12-01' and date(login_dt_utc)>= '2022-09-01'\n",
    "\n",
    ")\n",
    "\n",
    "\n",
    "\n",
    "select customer_id,login_type_desc,sum(login_count) as sum_login_count,count (distinct date(login_dt_utc)) as number_of_login_days, (select count_of_dates from date_sql ) as count_of_dates_logins\n",
    "from `cio-datahub-enterprise-pr-183a.src_adc.bq_customer_daily_logins`\n",
    "where date(login_dt_utc)<'2022-12-01' and date(login_dt_utc)>= '2022-09-01'\n",
    "group by customer_id,login_type_desc\n",
    "order by customer_id\n",
    "\n",
    "\n",
    "'''"
   ]
  },
  {
   "cell_type": "code",
   "execution_count": null,
   "id": "9bec14de-3bcb-4864-bd35-f67f8826cd97",
   "metadata": {},
   "outputs": [],
   "source": [
    "Login_DF_1= extract_bq_data(bq_client, sql=Login_SQL_wide)"
   ]
  },
  {
   "cell_type": "code",
   "execution_count": null,
   "id": "6d36d2e4-435a-443e-8fad-7882f39c168d",
   "metadata": {},
   "outputs": [],
   "source": [
    "Login_DF_1.info()"
   ]
  },
  {
   "cell_type": "code",
   "execution_count": null,
   "id": "8fc5d67a-c360-4aa7-b425-0b5b23800d5d",
   "metadata": {},
   "outputs": [],
   "source": [
    "Login_DF_wide=Login_DF_1.pivot(index='customer_id', columns='login_type_desc', values=['sum_login_count','number_of_login_days']).reset_index()"
   ]
  },
  {
   "cell_type": "code",
   "execution_count": null,
   "id": "82593dc9-f472-4fd4-8a04-696baaa9215f",
   "metadata": {},
   "outputs": [],
   "source": [
    "Login_DF_wide.info()"
   ]
  },
  {
   "cell_type": "code",
   "execution_count": null,
   "id": "cf278d56-77ac-4b8e-8eee-0106598fc4ad",
   "metadata": {},
   "outputs": [],
   "source": [
    "Login_DF_wide.columns=['customer_id','Mobile_login_Counts','VCD_Login_Counts','Web_login_Counts','Mobile_login_days','VCD_Login_days','Web_login_days']"
   ]
  },
  {
   "cell_type": "code",
   "execution_count": null,
   "id": "81597012-fd5c-46fc-945c-5ae4ce698874",
   "metadata": {},
   "outputs": [],
   "source": [
    "Login_DF_wide.head()"
   ]
  },
  {
   "cell_type": "code",
   "execution_count": null,
   "id": "dc02d9ab-00e2-4c8d-ab63-9e7e6e7a0548",
   "metadata": {},
   "outputs": [],
   "source": [
    "Login_DF_wide.fillna(0,inplace=True)"
   ]
  },
  {
   "cell_type": "code",
   "execution_count": null,
   "id": "a787433a-e752-4a3f-aeff-a247dafe64f6",
   "metadata": {},
   "outputs": [],
   "source": [
    "Login_DF_wide['All_login_Counts']=Login_DF_wide.apply(lambda x:x['Mobile_login_Counts']+x['VCD_Login_Counts']+x['Web_login_Counts'],axis=1)\n",
    "Login_DF_wide['Mobile_login_share']=Login_DF_wide.apply(lambda x: x['Mobile_login_Counts']*100/x['All_login_Counts'],axis=1)\n",
    "Login_DF_wide['VCD_login_share']=Login_DF_wide.apply(lambda x: x['VCD_Login_Counts']*100/x['All_login_Counts'],axis=1)\n",
    "Login_DF_wide['Web_login_share']=Login_DF_wide.apply(lambda x: x['Web_login_Counts']*100/x['All_login_Counts'],axis=1)"
   ]
  },
  {
   "cell_type": "code",
   "execution_count": null,
   "id": "7320d0e5-9b6b-4130-afb4-8fc41ed5895f",
   "metadata": {},
   "outputs": [],
   "source": [
    "Login_DF_wide.head()"
   ]
  },
  {
   "cell_type": "code",
   "execution_count": null,
   "id": "7ab9e02d-4b6c-45ca-aba2-25ad33710732",
   "metadata": {},
   "outputs": [],
   "source": [
    "Merge_DF_3=Merge_DF_2.merge(Login_DF_wide,on='customer_id',how='left')"
   ]
  },
  {
   "cell_type": "code",
   "execution_count": null,
   "id": "9e82bb34-02ed-424d-a11f-d034cec7a358",
   "metadata": {},
   "outputs": [],
   "source": [
    "Merge_DF_3.info()"
   ]
  },
  {
   "cell_type": "code",
   "execution_count": null,
   "id": "d15bb2f0-d5c8-411f-9d21-5b7ee6ede89a",
   "metadata": {},
   "outputs": [],
   "source": [
    "Merge_DF_3['Segment'].value_counts(normalize=True)*100"
   ]
  },
  {
   "cell_type": "code",
   "execution_count": null,
   "id": "5458fe30-bd84-4f0a-8328-ab1df2078b79",
   "metadata": {},
   "outputs": [],
   "source": [
    "Merge_DF_3['Segment'].value_counts()"
   ]
  },
  {
   "cell_type": "code",
   "execution_count": null,
   "id": "5a1e4a1a-d5c7-424d-af3f-014b8e1f3a4a",
   "metadata": {},
   "outputs": [],
   "source": [
    "Merge_DF_3['Mobile_login_share'].isna().sum()/Merge_DF_3.shape[0]"
   ]
  },
  {
   "cell_type": "code",
   "execution_count": null,
   "id": "09ce455a-8523-4681-8424-1b265a011157",
   "metadata": {},
   "outputs": [],
   "source": [
    "Merge_DF_3.shape"
   ]
  },
  {
   "cell_type": "code",
   "execution_count": null,
   "id": "b57cad8f-5140-49f9-ba83-dc716d3d829a",
   "metadata": {},
   "outputs": [],
   "source": [
    "Merge_DF_3['Mobile_login_share'].describe(),Merge_DF_3['VCD_login_share'].describe(),Merge_DF_3['Web_login_share'].describe()"
   ]
  },
  {
   "cell_type": "code",
   "execution_count": null,
   "id": "115f48bd-d85d-472e-801c-138f0ca366b1",
   "metadata": {},
   "outputs": [],
   "source": [
    "pd.DataFrame(Merge_DF_3.groupby(['Segment']).agg(\n",
    "    Mobile_login_share=('Mobile_login_share',np.nanmean), \n",
    "    Web_login_share=('Web_login_share',np.nanmean),    \n",
    "    VCD_login_share = ('VCD_login_share',np.nanmean)\n",
    "     ).reset_index().sort_values('Mobile_login_share',ascending=False))\n",
    "             "
   ]
  },
  {
   "cell_type": "code",
   "execution_count": null,
   "id": "119c8ccd-aa87-49ff-b266-0af6a9ab3c34",
   "metadata": {},
   "outputs": [],
   "source": []
  },
  {
   "cell_type": "code",
   "execution_count": null,
   "id": "b3d885d9-aad2-477d-8ba8-15d3429f3564",
   "metadata": {},
   "outputs": [],
   "source": [
    "Merge_DF_3['Login_Type_Customer'] = Merge_DF_3[['Mobile_login_share','Web_login_share','VCD_login_share']].idxmax(axis=1)"
   ]
  },
  {
   "cell_type": "code",
   "execution_count": null,
   "id": "29776ddb-ff5f-4fb4-8705-6a1759de8c96",
   "metadata": {},
   "outputs": [],
   "source": [
    "Merge_DF_3['Login_Type_Customer'].value_counts(normalize=True)*100"
   ]
  },
  {
   "cell_type": "code",
   "execution_count": null,
   "id": "900e105f-255c-4d32-afe6-7bb391c2116e",
   "metadata": {},
   "outputs": [],
   "source": [
    "pd.crosstab(Merge_DF_3['Segment'],Merge_DF_3['Login_Type_Customer'], dropna=True)"
   ]
  },
  {
   "cell_type": "code",
   "execution_count": null,
   "id": "3847337e-6449-486c-858f-9a50d9fd2c87",
   "metadata": {},
   "outputs": [],
   "source": [
    "Merge_DF_3.info()"
   ]
  },
  {
   "cell_type": "code",
   "execution_count": null,
   "id": "4534f59b-0300-4f72-9d0b-6fe48c12ae5c",
   "metadata": {},
   "outputs": [],
   "source": []
  },
  {
   "cell_type": "code",
   "execution_count": null,
   "id": "11cbfe2e-9c42-4ff8-a49e-7f252ec6c481",
   "metadata": {},
   "outputs": [],
   "source": [
    "pd.DataFrame(Merge_DF_3.groupby(['Segment']).agg(\n",
    "        Volume=('customer_id','nunique'),\n",
    "    Has_home_automation_Device=('Best_partices_6',np.sum),\n",
    "\n",
    "     ).reset_index())"
   ]
  },
  {
   "cell_type": "code",
   "execution_count": null,
   "id": "e97a2c84-221e-46d5-8075-8216403538b9",
   "metadata": {},
   "outputs": [],
   "source": [
    "pd.DataFrame(Merge_DF_3[(Merge_DF_3.Avg_logins_per_day > 0) & (Merge_DF_3.Avg_logins_per_day <= 2) ].groupby(['Segment']).agg(\n",
    "    Volume=('customer_id','nunique'),\n",
    "    # Avg_Arming_per_day=('Avg_Arming_per_day',np.nanmean), \n",
    "    Has_home_automation_Device=('Best_partices_6',np.sum),  \n",
    "    # Avg_logins_per_day = ('Avg_logins_per_day',np.nanmean)\n",
    "     ).reset_index().sort_values('Volume',ascending=False))"
   ]
  },
  {
   "cell_type": "code",
   "execution_count": null,
   "id": "49c7e280-f905-428a-8a45-2171ee64bf42",
   "metadata": {},
   "outputs": [],
   "source": [
    "pd.DataFrame(Merge_DF_3[(Merge_DF_3.Avg_logins_per_day > 0) ].groupby(['Segment']).agg(\n",
    "    Volume=('customer_id','nunique'),\n",
    "    # Avg_Arming_per_day=('Avg_Arming_per_day',np.nanmean), \n",
    "    Has_home_automation_Device=('Best_partices_6',np.sum),  \n",
    "    # Avg_logins_per_day = ('Avg_logins_per_day',np.nanmean)\n",
    "     ).reset_index().sort_values('Volume',ascending=False))"
   ]
  },
  {
   "cell_type": "code",
   "execution_count": null,
   "id": "dcca5a1c-393a-4e8f-a032-bfaf2055e720",
   "metadata": {},
   "outputs": [],
   "source": [
    "pd.DataFrame(Merge_DF_3[(Merge_DF_3.Avg_logins_per_day > 2) & (Merge_DF_3.Avg_logins_per_day <= 5) ].groupby(['Segment']).agg(\n",
    "    Volume=('customer_id','nunique'),\n",
    "    # Avg_Arming_per_day=('Avg_Arming_per_day',np.nanmean), \n",
    "    Has_home_automation_Device=('Best_partices_6',np.sum), \n",
    "    # Avg_logins_per_day = ('Avg_logins_per_day',np.nanmean)\n",
    "     ).reset_index().sort_values('Volume',ascending=False))"
   ]
  },
  {
   "cell_type": "code",
   "execution_count": null,
   "id": "623f693e-01cf-4f3a-a352-c44c8f990b69",
   "metadata": {},
   "outputs": [],
   "source": [
    "pd.DataFrame(Merge_DF_3[(Merge_DF_3.Avg_logins_per_day > 5) & (Merge_DF_3.Avg_logins_per_day <= 10) ].groupby(['Segment']).agg(\n",
    "    Volume=('customer_id','nunique'),\n",
    "    # Avg_Arming_per_day=('Avg_Arming_per_day',np.nanmean), \n",
    "    Has_home_automation_Device=('Best_partices_6',np.sum), \n",
    "    # Avg_logins_per_day = ('Avg_logins_per_day',np.nanmean)\n",
    "     ).reset_index().sort_values('Volume',ascending=False))"
   ]
  },
  {
   "cell_type": "code",
   "execution_count": null,
   "id": "142d4347-8aa8-4cd5-8008-aa646c1fcd02",
   "metadata": {},
   "outputs": [],
   "source": [
    "pd.DataFrame(Merge_DF_3[Merge_DF_3.Avg_logins_per_day > 2].groupby(['Segment']).agg(\n",
    "    Volume=('customer_id','nunique'),\n",
    "    # Avg_Arming_per_day=('Avg_Arming_per_day',np.nanmean), \n",
    "    Has_home_automation_Device=('Best_partices_6',np.sum),  \n",
    "    # Avg_logins_per_day = ('Avg_logins_per_day',np.nanmean)\n",
    "     ).reset_index().sort_values('Volume',ascending=False))"
   ]
  },
  {
   "cell_type": "code",
   "execution_count": null,
   "id": "4939b7ce-3b89-427b-beed-5224d9e60f18",
   "metadata": {},
   "outputs": [],
   "source": [
    "13955-13127"
   ]
  },
  {
   "cell_type": "code",
   "execution_count": null,
   "id": "4e8364fd-7bfa-4a4d-a6bb-a9884bfcb7a0",
   "metadata": {},
   "outputs": [],
   "source": [
    "pd.DataFrame(Merge_DF_3.groupby(['Segment']).agg(\n",
    "    Volume=('customer_id','nunique'),\n",
    "    # Avg_Arming_per_day=('Avg_Arming_per_day',np.nanmean), \n",
    "    Has_home_automation_Device=('Best_partices_6',np.sum),  \n",
    "    # Avg_logins_per_day = ('Avg_logins_per_day',np.nanmean)\n",
    "     ).reset_index().sort_values('Volume',ascending=False))"
   ]
  },
  {
   "cell_type": "code",
   "execution_count": null,
   "id": "7636be26-e5f7-4563-bdc6-7cd31f1cc5a2",
   "metadata": {},
   "outputs": [],
   "source": []
  },
  {
   "cell_type": "code",
   "execution_count": null,
   "id": "e0528c17-fca1-47cb-bb48-344f964f65f3",
   "metadata": {},
   "outputs": [],
   "source": [
    "pd.DataFrame(Merge_DF_3[Merge_DF_3.Avg_logins_per_day > 10].groupby(['Segment']).agg(\n",
    "    Volume=('customer_id','nunique'),\n",
    "    # Avg_Arming_per_day=('Avg_Arming_per_day',np.nanmean), \n",
    "    Has_home_automation_Device=('Best_partices_6',np.sum),  \n",
    "    # Avg_logins_per_day = ('Avg_logins_per_day',np.nanmean)\n",
    "     ).reset_index().sort_values('Volume',ascending=False))"
   ]
  },
  {
   "cell_type": "code",
   "execution_count": null,
   "id": "ca81f447-856b-4432-b3ba-b62f7d63ff4d",
   "metadata": {},
   "outputs": [],
   "source": [
    "# Merge_DF_3['count_of_dates_logins']=max_number_login_dates"
   ]
  },
  {
   "cell_type": "code",
   "execution_count": null,
   "id": "057ea98d-191a-48d2-8f39-c1400a62b43a",
   "metadata": {},
   "outputs": [],
   "source": [
    "# Old_Fashion_high_login=Merge_DF_3[(Merge_DF_3.Avg_logins_per_day > 10) & (Merge_DF_3.Segment=='Old_Fashion')]"
   ]
  },
  {
   "cell_type": "code",
   "execution_count": null,
   "id": "b717176f-9c60-4416-b493-2570f606f126",
   "metadata": {},
   "outputs": [],
   "source": [
    "# Old_Fashion_high_login.head()"
   ]
  },
  {
   "cell_type": "code",
   "execution_count": null,
   "id": "820a898d-e39e-4d45-a267-cb516f08066c",
   "metadata": {},
   "outputs": [],
   "source": [
    "# Old_Fashion_high_login.info()"
   ]
  },
  {
   "cell_type": "code",
   "execution_count": null,
   "id": "15741c32-affc-437d-879d-5b102c6ae6c0",
   "metadata": {},
   "outputs": [],
   "source": [
    "# Old_Fashion_high_login['Login_Consistency'].value_counts()"
   ]
  },
  {
   "cell_type": "code",
   "execution_count": null,
   "id": "3b040aff-1f4d-41e9-b10b-905f36e262eb",
   "metadata": {},
   "outputs": [],
   "source": [
    "# Old_Fashion_high_login['count_of_dates_logins'].min(),Old_Fashion_high_login['count_of_dates_logins'].max()"
   ]
  },
  {
   "cell_type": "code",
   "execution_count": null,
   "id": "bcc13aab-85d7-4c62-9e61-17aba9d86b40",
   "metadata": {},
   "outputs": [],
   "source": [
    "# Old_Fashion_high_login['Avg_logins_per_day'].value_counts()"
   ]
  },
  {
   "cell_type": "code",
   "execution_count": null,
   "id": "d1b08e22-1383-4281-9916-2a25ae3f6ffe",
   "metadata": {},
   "outputs": [],
   "source": [
    "# Customer_Login=Merge_DF_3[['customer_id','Segment','Avg_Arming_per_day','Avg_DisArming_per_day','Avg_logins_per_day']][Merge_DF_3.Avg_logins_per_day > 5]"
   ]
  },
  {
   "cell_type": "code",
   "execution_count": null,
   "id": "3966ae62-d901-45ec-ba52-9315b8bd55c0",
   "metadata": {},
   "outputs": [],
   "source": [
    "# Customer_Login.info()"
   ]
  },
  {
   "cell_type": "code",
   "execution_count": null,
   "id": "fb66a45d-3e82-4174-a6ec-b463032c55ca",
   "metadata": {},
   "outputs": [],
   "source": [
    "# Customer_Login['Segment'].value_counts(normalize=True)*100"
   ]
  },
  {
   "cell_type": "code",
   "execution_count": null,
   "id": "a50d07c2-ad0a-4a4a-bd82-03efbc42f003",
   "metadata": {},
   "outputs": [],
   "source": [
    "TC_Query='''\n",
    "\n",
    "select * from `divgpras-pr-579355.ADC.Trouble_Condition_Group_last3months_Aug2022`\n",
    "\n",
    "'''"
   ]
  },
  {
   "cell_type": "code",
   "execution_count": null,
   "id": "97030672-f2ae-4383-9f95-6e547971887e",
   "metadata": {},
   "outputs": [],
   "source": [
    "TC_Data=extract_bq_data(bq_client, sql=TC_Query)"
   ]
  },
  {
   "cell_type": "code",
   "execution_count": null,
   "id": "97a5214c-2b05-4570-aa1b-7f0b6f60854a",
   "metadata": {},
   "outputs": [],
   "source": [
    "TC_Data.head()"
   ]
  },
  {
   "cell_type": "code",
   "execution_count": null,
   "id": "13745155-2f10-4e7e-874b-1df2f5da64d7",
   "metadata": {},
   "outputs": [],
   "source": [
    "Merge_DF_4=Merge_DF_3.merge(TC_Data,on='customer_id',how='left')"
   ]
  },
  {
   "cell_type": "code",
   "execution_count": null,
   "id": "b51e5b7a-ec62-44bd-be05-d79364a4e042",
   "metadata": {},
   "outputs": [],
   "source": [
    "(1-(Merge_DF_4['ref_end_date'].isna().sum()/Merge_DF_4.shape[0]))*100"
   ]
  },
  {
   "cell_type": "code",
   "execution_count": null,
   "id": "2df61db8-d79a-4d37-9284-d21f1db70735",
   "metadata": {},
   "outputs": [],
   "source": [
    "# Customer_Login=Merge_DF_4[Merge_DF_4.Segment=='Heavy_User']"
   ]
  },
  {
   "cell_type": "code",
   "execution_count": null,
   "id": "9e8554bb-5773-4539-a0a9-f522e30945fe",
   "metadata": {},
   "outputs": [],
   "source": [
    "# (1-(Customer_Login['ref_end_date'].isna().sum()/Customer_Login.shape[0]))*100\n",
    "\n",
    "# del Customer_Login"
   ]
  },
  {
   "cell_type": "code",
   "execution_count": null,
   "id": "9fc1e119-aa56-4979-9104-811e2487b270",
   "metadata": {},
   "outputs": [],
   "source": [
    "pd.DataFrame(Merge_DF_4.groupby(['Segment']).agg(\n",
    "    Customer_with_TC=('ref_end_date',lambda x: (1-(sum(x.isna())/len(x)))*100),\n",
    "    Customer_with_Central_Station_TC=('Central_Station_Condition_Issue_count_last3M',lambda x: (1-(sum(x.isna())/len(x)))*100),\n",
    "    Customer_with_Critical_System_TC=('Critical_System_Issue_count_last3M',lambda x: (1-(sum(x.isna())/len(x)))*100),\n",
    "    Customer_with_Engagement_TC=('Engagement_Issue_count_last3M',lambda x: (1-(sum(x.isna())/len(x)))*100),\n",
    "    Customer_with_System_Condition_TC=('System_Condition_Issue_count_last3M',lambda x: (1-(sum(x.isna())/len(x)))*100)).reset_index())"
   ]
  },
  {
   "cell_type": "code",
   "execution_count": null,
   "id": "ba53adbb-be14-46a5-a9cd-a86ceecb7a9e",
   "metadata": {},
   "outputs": [],
   "source": [
    "pd.DataFrame(Merge_DF_4.groupby(['Segment']).agg(\n",
    "    Customer_with_Central_Station_TC=('Central_Station_Condition_Issue_count_last3M','sum'),\n",
    "    Customer_with_Critical_System_TC=('Critical_System_Issue_count_last3M','sum'),\n",
    "    Customer_with_Engagement_TC=('Engagement_Issue_count_last3M','sum'),\n",
    "    Customer_with_System_Condition_TC=('System_Condition_Issue_count_last3M','sum')).reset_index())"
   ]
  },
  {
   "cell_type": "code",
   "execution_count": null,
   "id": "3df60cb1-bfb8-4d66-9f9e-32982385a260",
   "metadata": {},
   "outputs": [],
   "source": [
    "Merge_DF_4[Merge_DF_4['Central_Station_Condition_Issue_count_last3M']>0].groupby('Segment')['Central_Station_Condition_Issue_count_last3M'].describe().reset_index()"
   ]
  },
  {
   "cell_type": "code",
   "execution_count": null,
   "id": "906aacaf-011d-493f-b3d1-99ce392b1e0a",
   "metadata": {},
   "outputs": [],
   "source": [
    "Merge_DF_4[Merge_DF_4['Central_Station_Condition_Issue_count_last3M']>5].groupby('Segment')['Central_Station_Condition_Issue_count_last3M'].describe()['mean'].reset_index()"
   ]
  },
  {
   "cell_type": "code",
   "execution_count": null,
   "id": "245cd64e-674a-441f-9bb0-a4e0c84706b5",
   "metadata": {},
   "outputs": [],
   "source": [
    "# Critical_morethan_5=Merge_DF_4[Merge_DF_4['Critical_System_Issue_count_last3M']>0]\n",
    "\n",
    "\n",
    "Merge_DF_4[Merge_DF_4['Critical_System_Issue_count_last3M']>5].groupby('Segment')['Critical_System_Issue_count_last3M'].describe()['mean'].reset_index()"
   ]
  },
  {
   "cell_type": "code",
   "execution_count": null,
   "id": "e24c8d30-6710-44b3-bedc-4c87304891ca",
   "metadata": {},
   "outputs": [],
   "source": [
    "Merge_DF_4[Merge_DF_4['Engagement_Issue_count_last3M']>5].groupby('Segment')['Engagement_Issue_count_last3M'].describe()['mean'].reset_index()"
   ]
  },
  {
   "cell_type": "code",
   "execution_count": null,
   "id": "e2726d52-1f2f-4a5f-b41b-20c9c894b965",
   "metadata": {},
   "outputs": [],
   "source": [
    "Merge_DF_4[Merge_DF_4['System_Condition_Issue_count_last3M']>5].groupby('Segment')['System_Condition_Issue_count_last3M'].describe()['mean'].reset_index()"
   ]
  },
  {
   "cell_type": "code",
   "execution_count": null,
   "id": "c791ad9d-5eb8-4451-9123-327992821d8a",
   "metadata": {},
   "outputs": [],
   "source": [
    "Merge_DF_4.info()"
   ]
  },
  {
   "cell_type": "code",
   "execution_count": null,
   "id": "d0757389-98f9-4628-8403-3f2dc4459d35",
   "metadata": {},
   "outputs": [],
   "source": [
    "pd.DataFrame(Merge_DF_4[Merge_DF_4['Best_Practice_All']>3].groupby(['Segment']).agg(\n",
    "    Volume=('customer_id','nunique'),\n",
    "    # Avg_Arming_per_day=('Avg_Arming_per_day',np.nanmean), \n",
    "    # Avg_DisArming_per_day=('Avg_DisArming_per_day',np.nanmean),    \n",
    "    # Avg_logins_per_day = ('Avg_logins_per_day',np.nanmean)\n",
    ").reset_index())"
   ]
  },
  {
   "cell_type": "code",
   "execution_count": null,
   "id": "a9658c81-7e87-4d39-a12a-b5bc2007e869",
   "metadata": {},
   "outputs": [],
   "source": [
    "pd.DataFrame(Merge_DF_4[Merge_DF_4['Best_Practice_All']<=3].groupby(['Segment']).agg(\n",
    "    Volume=('customer_id','nunique'),\n",
    "    # Avg_Arming_per_day=('Avg_Arming_per_day',np.nanmean), \n",
    "    # Avg_DisArming_per_day=('Avg_DisArming_per_day',np.nanmean),    \n",
    "    # Avg_logins_per_day = ('Avg_logins_per_day',np.nanmean)\n",
    ").reset_index())"
   ]
  },
  {
   "cell_type": "code",
   "execution_count": null,
   "id": "a3148416-70d2-4992-8df2-33df7e8fad1f",
   "metadata": {},
   "outputs": [],
   "source": [
    "pd.DataFrame(Merge_DF_4[Merge_DF_4['Best_Practice_All']==6].groupby(['Segment']).agg(\n",
    "    Volume=('customer_id','nunique'),\n",
    "    # Avg_Arming_per_day=('Avg_Arming_per_day',np.nanmean), \n",
    "    # Avg_DisArming_per_day=('Avg_DisArming_per_day',np.nanmean),    \n",
    "    # Avg_logins_per_day = ('Avg_logins_per_day',np.nanmean)\n",
    ").reset_index())"
   ]
  },
  {
   "cell_type": "code",
   "execution_count": null,
   "id": "aaaf096a-b233-488a-bac8-c20827e38077",
   "metadata": {},
   "outputs": [],
   "source": [
    "pd.DataFrame(Merge_DF_4['Arming_Consistency'].value_counts().reset_index().sort_values(by='index',ascending=True))"
   ]
  },
  {
   "cell_type": "code",
   "execution_count": null,
   "id": "120d8117-54f0-43b1-8986-f867be61054d",
   "metadata": {},
   "outputs": [],
   "source": [
    "pd.DataFrame(Merge_DF_4['Login_Consistency'].value_counts().reset_index().sort_values(by='index',ascending=True))"
   ]
  },
  {
   "cell_type": "code",
   "execution_count": null,
   "id": "b04de271-0e0f-46e8-8cde-91c8298c3b31",
   "metadata": {},
   "outputs": [],
   "source": [
    "pd.DataFrame(Merge_DF_4[Merge_DF_4['Login_Consistency']==0].groupby(['Segment']).agg(\n",
    "    Volume=('customer_id','nunique'),\n",
    "    Avg_Arming_per_day=('Avg_Arming_per_day',np.nanmean), \n",
    "    Avg_DisArming_per_day=('Avg_DisArming_per_day',np.nanmean),    \n",
    "    Avg_logins_per_day = ('Avg_logins_per_day',np.nanmean)).reset_index())"
   ]
  },
  {
   "cell_type": "code",
   "execution_count": null,
   "id": "f76d9355-2df6-422b-8a21-918ae0f31db7",
   "metadata": {},
   "outputs": [],
   "source": [
    "Merge_DF_4[Merge_DF_4['Login_Consistency']==0].shape[0]"
   ]
  },
  {
   "cell_type": "code",
   "execution_count": null,
   "id": "e657cbcd-ab7e-4cbc-8f12-81f6e0ddea3e",
   "metadata": {},
   "outputs": [],
   "source": [
    "Merge_DF_4[Merge_DF_4['Arming_Consistency']==0].shape[0]"
   ]
  },
  {
   "cell_type": "code",
   "execution_count": null,
   "id": "281cfb42-b591-4d7b-8990-4b0bfecba6e9",
   "metadata": {},
   "outputs": [],
   "source": [
    "Camera_TC_issue_query='''\n",
    "\n",
    "select dealer_name,customer_id,unit_id,device_id,trouble_condition_name,trouble_condition_group_id,trouble_condition_group_desc, start_date_utc,end_date_utc\n",
    "from `cio-datahub-enterprise-pr-183a.src_adc.bq_troublecondition_data`\n",
    "where trouble_condition_start_ind='Y'and trouble_condition_closed_ind='Y' and date(start_date_utc) >= '2022-05-01' and date(start_date_utc) <'2022-08-01' and trouble_condition_name in ('CameraNotReachable','CameraNotCommunicating','BroadbandCommFailure')\n",
    "\n",
    "\n",
    "'''\n"
   ]
  },
  {
   "cell_type": "code",
   "execution_count": null,
   "id": "6af47c80-f2bb-4044-9919-7ada8bd01ad2",
   "metadata": {},
   "outputs": [],
   "source": [
    "Camera_TC= extract_bq_data(bq_client, sql=Camera_TC_issue_query)"
   ]
  },
  {
   "cell_type": "code",
   "execution_count": null,
   "id": "8bf69217-ef11-426a-9495-b43270102690",
   "metadata": {},
   "outputs": [],
   "source": [
    "Camera_TC.info()"
   ]
  },
  {
   "cell_type": "code",
   "execution_count": null,
   "id": "a21212cc-9de0-4498-9e9a-1294eb7f3bc8",
   "metadata": {},
   "outputs": [],
   "source": [
    "Camera_TC['count_instance']=1"
   ]
  },
  {
   "cell_type": "code",
   "execution_count": null,
   "id": "54310603-d0ed-452e-8d7a-824c642c45a2",
   "metadata": {},
   "outputs": [],
   "source": [
    "Camera_TC['Day_Diff']=Camera_TC['end_date_utc'] - Camera_TC['start_date_utc']"
   ]
  },
  {
   "cell_type": "code",
   "execution_count": null,
   "id": "90e1198c-8af3-41c5-9fe3-5940a20ca936",
   "metadata": {},
   "outputs": [],
   "source": [
    "TC_pivot_table=pd.pivot_table(Camera_TC, values=['count_instance','Day_Diff'], index=['customer_id'], columns='trouble_condition_name',\n",
    "                          aggfunc={'count_instance': np.sum})"
   ]
  },
  {
   "cell_type": "code",
   "execution_count": null,
   "id": "79509ab0-388f-4994-b495-a63ae7056480",
   "metadata": {},
   "outputs": [],
   "source": [
    "TC_pivot_table=TC_pivot_table.reset_index()"
   ]
  },
  {
   "cell_type": "code",
   "execution_count": null,
   "id": "8895a38e-b034-4747-af35-e0aec993dd10",
   "metadata": {},
   "outputs": [],
   "source": [
    "TC_pivot_table.head()"
   ]
  },
  {
   "cell_type": "code",
   "execution_count": null,
   "id": "5727d923-7770-4b4c-a4b5-893decb37023",
   "metadata": {},
   "outputs": [],
   "source": [
    "TC_pivot_table.columns=['customer_id','BroadbandCommFailure_count','CameraNotCommunicating_count','CameraNotReachable_count']"
   ]
  },
  {
   "cell_type": "code",
   "execution_count": null,
   "id": "92f7e48d-d39b-404e-9282-a01bb88fbf28",
   "metadata": {},
   "outputs": [],
   "source": [
    "TC_pivot_table.head()\n"
   ]
  },
  {
   "cell_type": "code",
   "execution_count": null,
   "id": "6b3f990b-6328-4cb0-896e-c99339d64888",
   "metadata": {},
   "outputs": [],
   "source": [
    "TC_pivot_table['BroadbandCommFailure_Flag']=TC_pivot_table['BroadbandCommFailure_count'].apply(lambda x: 1 if x>0 else 0)\n",
    "TC_pivot_table['CameraNotCommunicating_Flag']=TC_pivot_table['CameraNotCommunicating_count'].apply(lambda x: 1 if x>0 else 0)\n",
    "TC_pivot_table['CameraNotReachable_Flag']=TC_pivot_table['CameraNotReachable_count'].apply(lambda x: 1 if x>0 else 0)"
   ]
  },
  {
   "cell_type": "code",
   "execution_count": null,
   "id": "5d3a27c8-2e76-4a27-810f-3a7a8dc63a53",
   "metadata": {},
   "outputs": [],
   "source": [
    "TC_pivot_table.info()"
   ]
  },
  {
   "cell_type": "code",
   "execution_count": null,
   "id": "a73156df-442b-4dd0-a01d-2aae2198bff1",
   "metadata": {},
   "outputs": [],
   "source": [
    "TC_pivot_table.head()"
   ]
  },
  {
   "cell_type": "code",
   "execution_count": null,
   "id": "d3932610-688e-4b43-8971-aa163f93adbe",
   "metadata": {},
   "outputs": [],
   "source": [
    "\n"
   ]
  },
  {
   "cell_type": "code",
   "execution_count": null,
   "id": "161e780c-eecd-42dc-977e-2376d1d5d045",
   "metadata": {},
   "outputs": [],
   "source": [
    "TC_pivot_table['BroadbandCommFailure_Flag'].sum()"
   ]
  },
  {
   "cell_type": "code",
   "execution_count": null,
   "id": "c0e5eacb-4f10-4540-be92-86406e975c38",
   "metadata": {},
   "outputs": [],
   "source": [
    "TC_pivot_table['CameraNotCommunicating_Flag'].sum()"
   ]
  },
  {
   "cell_type": "code",
   "execution_count": null,
   "id": "c7401029-3643-45c5-97d6-80eeeaa21596",
   "metadata": {},
   "outputs": [],
   "source": [
    "Merge_DF_5=Merge_DF_4.merge(TC_pivot_table,on='customer_id',how='left')"
   ]
  },
  {
   "cell_type": "code",
   "execution_count": null,
   "id": "b1e1ca22-df94-4fc4-907a-de424d770b1c",
   "metadata": {},
   "outputs": [],
   "source": [
    "Merge_DF_5.info()"
   ]
  },
  {
   "cell_type": "code",
   "execution_count": null,
   "id": "7d3952ba-e376-4a33-ac7e-380bb0c3e29e",
   "metadata": {},
   "outputs": [],
   "source": [
    "Merge_DF_5['BroadbandCommFailure_Flag'].sum(),Merge_DF_5['CameraNotCommunicating_Flag'].sum()"
   ]
  },
  {
   "cell_type": "code",
   "execution_count": null,
   "id": "f8ac3217-0ca1-45aa-8446-2fab25359265",
   "metadata": {},
   "outputs": [],
   "source": [
    "Merge_DF_5['BroadbandCommFailure_Flag'].isna().sum()/Merge_DF_5.shape[0]"
   ]
  },
  {
   "cell_type": "code",
   "execution_count": null,
   "id": "e982d080-e9ea-4d97-b799-da82755b3ca4",
   "metadata": {},
   "outputs": [],
   "source": [
    "Merge_DF_5['Segment'].value_counts()"
   ]
  },
  {
   "cell_type": "code",
   "execution_count": null,
   "id": "497515bf-c00a-43a2-851a-ce0b7d036f2a",
   "metadata": {},
   "outputs": [],
   "source": [
    "Merge_DF_5['BroadbandCommFailure_count'].value_counts()"
   ]
  },
  {
   "cell_type": "code",
   "execution_count": null,
   "id": "d955db94-3583-4f24-8a87-082b9b8d9f90",
   "metadata": {},
   "outputs": [],
   "source": [
    "Merge_DF_5['BroadbandCommFailure_lessthan5']=Merge_DF_5['BroadbandCommFailure_count'].apply(lambda x: 1 if x<=5 else 0)\n",
    "Merge_DF_5['BroadbandCommFailure_grtrthan5']=Merge_DF_5['BroadbandCommFailure_count'].apply(lambda x: 1 if x>5 else 0)\n",
    "Merge_DF_5['CameraNotCommunicating_lessthan5']=Merge_DF_5['CameraNotCommunicating_count'].apply(lambda x: 1 if x<=5 else 0)\n",
    "Merge_DF_5['CameraNotCommunicating_grtrthan5']=Merge_DF_5['CameraNotCommunicating_count'].apply(lambda x: 1 if x>5 else 0)\n",
    "Merge_DF_5['CameraNotReachable_lessthan5']=Merge_DF_5['CameraNotReachable_count'].apply(lambda x: 1 if x<=5 else 0)\n",
    "Merge_DF_5['CameraNotReachable_grtrthan5']=Merge_DF_5['CameraNotReachable_count'].apply(lambda x: 1 if x>5 else 0)"
   ]
  },
  {
   "cell_type": "code",
   "execution_count": null,
   "id": "84b0c4e1-a262-48fa-a101-c4096f11442c",
   "metadata": {},
   "outputs": [],
   "source": [
    "Merge_DF_5['BroadbandCommFailure_lessthan5'].value_counts()"
   ]
  },
  {
   "cell_type": "code",
   "execution_count": null,
   "id": "5f919b40-9d3a-4744-8fd6-2c73faa5717b",
   "metadata": {},
   "outputs": [],
   "source": [
    "Merge_DF_5['BroadbandCommFailure_grtrthan5'].value_counts()"
   ]
  },
  {
   "cell_type": "code",
   "execution_count": null,
   "id": "ff28ea9e-4371-4d8f-ad0e-eef8cbcd20f3",
   "metadata": {},
   "outputs": [],
   "source": [
    "Merge_DF_5.shape"
   ]
  },
  {
   "cell_type": "code",
   "execution_count": null,
   "id": "e8ae4c70-b986-4dcd-93a1-63e1a79b36cb",
   "metadata": {},
   "outputs": [],
   "source": [
    "pd.DataFrame(Merge_DF_5.groupby(['Segment']).agg(\n",
    "    BroadbandCommFailure_count=('BroadbandCommFailure_Flag',np.sum),\n",
    "    CameraNotCommunicating_count=('CameraNotCommunicating_Flag',np.sum), \n",
    "    CameraNotReachable_count=('CameraNotReachable_Flag',np.sum)).reset_index())"
   ]
  },
  {
   "cell_type": "code",
   "execution_count": null,
   "id": "fa42648c-8242-4446-bbc4-1fabf4faeade",
   "metadata": {},
   "outputs": [],
   "source": [
    "pd.DataFrame(Merge_DF_5.groupby(['Segment']).agg(\n",
    "    BroadbandCommFailure_lessthan5=('BroadbandCommFailure_lessthan5',np.sum),\n",
    "    BroadbandCommFailure_grtrthan5=('BroadbandCommFailure_grtrthan5',np.sum), \n",
    "    CameraNotCommunicating_lessthan5=('CameraNotCommunicating_lessthan5',np.sum),\n",
    "    CameraNotCommunicating_grtrthan5=('CameraNotCommunicating_grtrthan5',np.sum),\n",
    "    CameraNotReachable_lessthan5=('CameraNotReachable_lessthan5',np.sum), \n",
    "    CameraNotReachable_grtrthan5=('CameraNotReachable_grtrthan5',np.sum)).reset_index())"
   ]
  },
  {
   "cell_type": "code",
   "execution_count": null,
   "id": "6249d53c-c846-4b32-af25-58642a39a0bc",
   "metadata": {},
   "outputs": [],
   "source": [
    "ADC_Telus_internet_customers='''\n",
    "\n",
    "with  Telus_internet_customers as\n",
    "\n",
    "(select cust_bus_cust_id, pi_prod_instnc_typ_cd as pi_prod_instnc_typ_cd_internet\n",
    "from `cio-datahub-enterprise-pr-183a.ent_cust_cust.bq_prod_instnc_snpsht` \n",
    "WHERE DATE(prod_instnc_ts) = \"2022-09-30\" #Snapshot of the last day of the month\n",
    "and pi_prod_instnc_stat_cd in ('A')\n",
    "and pi_prod_instnc_typ_cd ='HSIC'\n",
    "and consldt_cust_typ_cd = 'R'\n",
    ")\n",
    "\n",
    ",\n",
    "Telus_customers as\n",
    "(select bacct_bus_bacct_num,bacct_billg_acct_id,cust_bus_cust_id,pi_prod_instnc_typ_cd,pi_prod_instnc_stat_ts,prod_instnc_ts\n",
    "from `cio-datahub-enterprise-pr-183a.ent_cust_cust.bq_prod_instnc_snpsht` \n",
    "WHERE DATE(prod_instnc_ts) = \"2022-09-30\" #Snapshot of the last day of the month\n",
    "and pi_prod_instnc_typ_cd ='SMHM' #Serice type\n",
    "and bus_prod_instnc_src_id = 1001 #BANs that are for home services\n",
    "and pi_prod_instnc_stat_cd in ('A')\n",
    "and  consldt_cust_typ_cd = 'R'\n",
    "-- and DATE(pi_prod_instnc_stat_ts)>='2022-08-01' and DATE(pi_prod_instnc_stat_ts)<'2022-09-01' #Date on which the status was updated\n",
    "QUALIFY ROW_NUMBER() OVER (PARTITION BY cust_bus_cust_id ORDER BY pi_prod_instnc_stat_ts DESC) = 1\n",
    "order by cust_bus_cust_id)\n",
    ",\n",
    "\n",
    "ADC_customer_base as(\n",
    "\n",
    "SELECT customer_id,dealer_customer_id,dealer_name\n",
    "FROM `cio-datahub-enterprise-pr-183a.src_adc.bq_customer_account_details` \n",
    "--where last_updt_ts >='2022-08-01'  and last_updt_ts < '2022-10-01'\n",
    "where date(last_updt_ts) ='2022-09-30'\n",
    "and account_type_name!='Standalone'\n",
    "and customer_type_name='Customer'\n",
    "and dealer_name='TELUS Communications Inc.'\n",
    "QUALIFY ROW_NUMBER() OVER (PARTITION BY customer_id ORDER BY last_updt_ts DESC) = 1\n",
    "order by dealer_name,join_date,customer_id\n",
    "\n",
    ")\n",
    ",\n",
    "merge_data as(\n",
    "\n",
    "select distinct adc.customer_id,adc.dealer_customer_id, adc.dealer_name,telus.bacct_bus_bacct_num, telus.bacct_billg_acct_id, telus.cust_bus_cust_id,\n",
    "       telus.pi_prod_instnc_typ_cd, telus.pi_prod_instnc_stat_ts, telus.prod_instnc_ts,b.cust_bus_cust_id as cust_bus_cust_id_internet ,\n",
    "       b.pi_prod_instnc_typ_cd_internet \n",
    "from ADC_customer_base adc\n",
    "inner join Telus_customers telus\n",
    "on telus.cust_bus_cust_id=adc.dealer_customer_id\n",
    "inner join Telus_internet_customers b\n",
    "on adc.dealer_customer_id=b.cust_bus_cust_id\n",
    "order by telus.bacct_bus_bacct_num\n",
    ")\n",
    "\n",
    "\n",
    "\n",
    "\n",
    "select distinct customer_id, dealer_customer_id, dealer_name,\n",
    "       bacct_bus_bacct_num, bacct_billg_acct_id, cust_bus_cust_id,\n",
    "       pi_prod_instnc_typ_cd, pi_prod_instnc_stat_ts, prod_instnc_ts,cust_bus_cust_id_internet,\n",
    "       pi_prod_instnc_typ_cd_internet, 1 as Telus_internet_flag \n",
    "       from merge_data\n",
    "\n",
    "\n",
    "'''"
   ]
  },
  {
   "cell_type": "code",
   "execution_count": null,
   "id": "5422dd6d-b456-4a29-a963-702be1e4b129",
   "metadata": {},
   "outputs": [],
   "source": [
    "ADC_Telus_internet=extract_bq_data(bq_client, sql=ADC_Telus_internet_customers)"
   ]
  },
  {
   "cell_type": "code",
   "execution_count": null,
   "id": "25a32e8c-49db-4b28-9157-3541dc5085ff",
   "metadata": {},
   "outputs": [],
   "source": [
    "ADC_Telus_internet.info()"
   ]
  },
  {
   "cell_type": "code",
   "execution_count": null,
   "id": "0f22af74-34c4-41e4-ac1c-bac84a7a6698",
   "metadata": {},
   "outputs": [],
   "source": [
    "ADC_Telus_internet.head()"
   ]
  },
  {
   "cell_type": "code",
   "execution_count": null,
   "id": "e2dd68a7-1acb-4eb5-a5c5-c178de5adc2a",
   "metadata": {},
   "outputs": [],
   "source": [
    "Merge_DF_6=Merge_DF_5.merge(ADC_Telus_internet[['customer_id','Telus_internet_flag']],how='left',on='customer_id')"
   ]
  },
  {
   "cell_type": "code",
   "execution_count": null,
   "id": "7573e948-165d-4915-a2e5-701a44d65eed",
   "metadata": {},
   "outputs": [],
   "source": [
    "Merge_DF_6.shape"
   ]
  },
  {
   "cell_type": "code",
   "execution_count": null,
   "id": "96e3ce67-2a44-4700-8eb9-423f841837c8",
   "metadata": {},
   "outputs": [],
   "source": [
    "Merge_DF_5.shape"
   ]
  },
  {
   "cell_type": "code",
   "execution_count": null,
   "id": "2359f51e-6d16-4501-9395-110c7df8430e",
   "metadata": {},
   "outputs": [],
   "source": [
    "Merge_DF_5['dealer_name'].value_counts()"
   ]
  },
  {
   "cell_type": "code",
   "execution_count": null,
   "id": "2b1bf229-3a43-44ff-8812-01d2c5c96c05",
   "metadata": {},
   "outputs": [],
   "source": [
    "Merge_DF_6['Telus_internet_flag'].isna().sum()/Merge_DF_6.shape[0]"
   ]
  },
  {
   "cell_type": "code",
   "execution_count": null,
   "id": "fa8c724b-8d23-4fb4-af83-5a3a3677e64e",
   "metadata": {},
   "outputs": [],
   "source": [
    "Merge_DF_6['dealer_name'].value_counts()"
   ]
  },
  {
   "cell_type": "code",
   "execution_count": null,
   "id": "308a24fc-4c6e-44d0-9a0c-802eebecf161",
   "metadata": {},
   "outputs": [],
   "source": [
    "Merge_DF_6['Telus_internet_flag'].sum()"
   ]
  },
  {
   "cell_type": "code",
   "execution_count": null,
   "id": "a3e9073d-1d4c-44ab-ba41-44ac1b1b0031",
   "metadata": {},
   "outputs": [],
   "source": [
    "pd.DataFrame(Merge_DF_6.groupby(['Segment']).agg(\n",
    "    BroadbandCommFailure_count=('BroadbandCommFailure_Flag',np.sum),\n",
    "    CameraNotCommunicating_count=('CameraNotCommunicating_Flag',np.sum), \n",
    "    CameraNotReachable_count=('CameraNotReachable_Flag',np.sum)).reset_index())"
   ]
  },
  {
   "cell_type": "code",
   "execution_count": null,
   "id": "789962c4-b092-41b9-82b6-1d2f54161fba",
   "metadata": {},
   "outputs": [],
   "source": [
    "Merge_DF_6['dealer_name'].value_counts()"
   ]
  },
  {
   "cell_type": "code",
   "execution_count": null,
   "id": "50391601-6324-4be4-9bec-77c8f4910d01",
   "metadata": {},
   "outputs": [],
   "source": [
    "pd.DataFrame(Merge_DF_6.groupby(['Segment']).agg(\n",
    "    Telus_internet_customers=('Telus_internet_flag',np.sum)).reset_index())"
   ]
  },
  {
   "cell_type": "code",
   "execution_count": null,
   "id": "95c2d347-b0ec-4e55-8ca9-4a88bf302d72",
   "metadata": {},
   "outputs": [],
   "source": []
  },
  {
   "cell_type": "code",
   "execution_count": null,
   "id": "5ab89e05-8537-47d8-b51c-78454ce33f0b",
   "metadata": {},
   "outputs": [],
   "source": []
  },
  {
   "cell_type": "code",
   "execution_count": null,
   "id": "c214dfed-c5c3-48be-b371-f002d15464ee",
   "metadata": {},
   "outputs": [],
   "source": [
    "pd.crosstab(Merge_DF_6['Segment'],Merge_DF_3['dealer_name'], dropna=True)"
   ]
  },
  {
   "cell_type": "code",
   "execution_count": null,
   "id": "906e3016-33a9-476d-86d3-f5adec5c8735",
   "metadata": {},
   "outputs": [],
   "source": [
    "camera_issue_DF=Merge_DF_6[(Merge_DF_6.BroadbandCommFailure_Flag==1) | (Merge_DF_6.CameraNotCommunicating_Flag==1) | (Merge_DF_6.CameraNotReachable_Flag==1)]"
   ]
  },
  {
   "cell_type": "code",
   "execution_count": null,
   "id": "97592e52-fcfe-4a55-96d3-a15ed897173b",
   "metadata": {},
   "outputs": [],
   "source": [
    "pd.DataFrame(camera_issue_DF.groupby(['Segment']).agg(\n",
    "    BroadbandCommFailure_count=('BroadbandCommFailure_Flag',np.sum),\n",
    "    CameraNotCommunicating_count=('CameraNotCommunicating_Flag',np.sum), \n",
    "    CameraNotReachable_count=('CameraNotReachable_Flag',np.sum)).reset_index())"
   ]
  },
  {
   "cell_type": "code",
   "execution_count": null,
   "id": "5277f3ab-9d79-44ad-a9fb-81c3eaecc1cf",
   "metadata": {},
   "outputs": [],
   "source": [
    "pd.DataFrame(camera_issue_DF.groupby(['Segment']).agg(\n",
    "    Telus_internet_customers=('Telus_internet_flag',np.sum)).reset_index()).merge(pd.DataFrame(camera_issue_DF.groupby(['Segment']).agg(\n",
    "    BroadbandCommFailure_customer_count=('BroadbandCommFailure_Flag',np.sum),\n",
    "    CameraNotCommunicating_customer_count=('CameraNotCommunicating_Flag',np.sum), \n",
    "    CameraNotReachable_customer_count=('CameraNotReachable_Flag',np.sum)).reset_index()),on='Segment',how='left')"
   ]
  },
  {
   "cell_type": "code",
   "execution_count": null,
   "id": "9af5d739-a240-4dfb-9bcf-d6a18c4d5470",
   "metadata": {},
   "outputs": [],
   "source": [
    "Merge_DF_6['Telus_internet_flag'].value_counts()"
   ]
  },
  {
   "cell_type": "code",
   "execution_count": null,
   "id": "f328269c-701c-4e6c-8747-8b8f87125937",
   "metadata": {},
   "outputs": [],
   "source": [
    "Merge_DF_6['Telus_internet_flag'].info()"
   ]
  },
  {
   "cell_type": "code",
   "execution_count": null,
   "id": "f4443079-a24b-4716-a4e9-1b8155baa05d",
   "metadata": {},
   "outputs": [],
   "source": []
  },
  {
   "cell_type": "code",
   "execution_count": null,
   "id": "e42faed0-a4bb-4209-947a-fffe35f59fd0",
   "metadata": {},
   "outputs": [],
   "source": [
    "DF_Non_telus_internet=Merge_DF_6[(Merge_DF_6['Telus_internet_flag'].isna()==True) & (Merge_DF_6['dealer_name']=='TELUS Communications Inc.')]"
   ]
  },
  {
   "cell_type": "code",
   "execution_count": null,
   "id": "c1f92914-b55b-4f5b-838a-2f520dd14fb4",
   "metadata": {},
   "outputs": [],
   "source": [
    "DF_Non_telus_internet['Segment'].value_counts()"
   ]
  },
  {
   "cell_type": "code",
   "execution_count": null,
   "id": "ff33fe30-7e14-4942-a093-557b98134f0e",
   "metadata": {},
   "outputs": [],
   "source": [
    "pd.DataFrame(DF_Non_telus_internet.groupby(['Segment']).agg(\n",
    "    BroadbandCommFailure_count=('BroadbandCommFailure_Flag',np.sum),\n",
    "    CameraNotCommunicating_count=('CameraNotCommunicating_Flag',np.sum), \n",
    "    CameraNotReachable_count=('CameraNotReachable_Flag',np.sum)).reset_index())"
   ]
  },
  {
   "cell_type": "code",
   "execution_count": null,
   "id": "68a48eda-4441-4de4-802f-3f3791c9cda6",
   "metadata": {},
   "outputs": [],
   "source": [
    "Merge_DF_6.info()"
   ]
  },
  {
   "cell_type": "code",
   "execution_count": null,
   "id": "bf03ee97-8a47-4a78-a595-a65e234d93e1",
   "metadata": {},
   "outputs": [],
   "source": [
    "Merge_DF_6['Best_practices_less_than3']=Merge_DF_6['Best_Practice_All'].apply(lambda x: 'Less than 3 Best Practices' if x<=3 else 'More than 3 Best Practices')"
   ]
  },
  {
   "cell_type": "code",
   "execution_count": null,
   "id": "3fde2764-db14-4689-ae27-c580d9d26738",
   "metadata": {},
   "outputs": [],
   "source": [
    "Merge_DF_6['Best_partices_1'].value_counts()"
   ]
  },
  {
   "cell_type": "code",
   "execution_count": null,
   "id": "91424a00-7d42-4337-a5bb-0bf3616635ac",
   "metadata": {},
   "outputs": [],
   "source": [
    "pd.DataFrame(Merge_DF_6.groupby(['Best_practices_less_than3']).agg(\n",
    "    Volume=('customer_id','nunique'),\n",
    "    Best_partices_1=('Best_partices_1',np.nanmean), \n",
    "    Best_partices_2=('Best_partices_2',np.nanmean),    \n",
    "    Best_partices_3 = ('Best_partices_3',np.nanmean),\n",
    "    Best_partices_4=('Best_partices_4',np.nanmean), \n",
    "    Best_partices_5=('Best_partices_5',np.nanmean),    \n",
    "    Best_partices_6 = ('Best_partices_6',np.nanmean),\n",
    ").reset_index())"
   ]
  },
  {
   "cell_type": "code",
   "execution_count": null,
   "id": "a3701cb4-9564-4801-8b8f-cc26b4972afc",
   "metadata": {},
   "outputs": [],
   "source": [
    "pd.DataFrame(Merge_DF_6.groupby(['Best_practices_less_than3']).agg(\n",
    "    Volume=('customer_id','nunique'),\n",
    "    Best_partices_1=('Best_partices_1',np.nanmean), \n",
    "    Best_partices_2=('Best_partices_2',np.nanmean),    \n",
    "    Best_partices_3 = ('Best_partices_3',np.nanmean),\n",
    "    Best_partices_4=('Best_partices_4',np.nanmean), \n",
    "    Best_partices_5=('Best_partices_5',np.nanmean),    \n",
    "    Best_partices_6 = ('Best_partices_6',np.nanmean),\n",
    ").reset_index())"
   ]
  },
  {
   "cell_type": "code",
   "execution_count": null,
   "id": "13de45f5-9f27-4d02-afc4-437ddd820a9b",
   "metadata": {},
   "outputs": [],
   "source": [
    "Merge_DF_6['Best_partices_1'].mean(),Merge_DF_6['Best_partices_2'].mean(),Merge_DF_6['Best_partices_3'].mean(),Merge_DF_6['Best_partices_4'].mean(),Merge_DF_6['Best_partices_5'].mean(),Merge_DF_6['Best_partices_6'].mean()"
   ]
  },
  {
   "cell_type": "code",
   "execution_count": null,
   "id": "899740d7-c0ae-4417-9fb1-0ae975ff4bc1",
   "metadata": {},
   "outputs": [],
   "source": [
    "Merge_DF_6['Best_partices_1'].sum()"
   ]
  },
  {
   "cell_type": "code",
   "execution_count": null,
   "id": "44e286f6-cfe1-4e85-add0-4c095597cafc",
   "metadata": {},
   "outputs": [],
   "source": [
    "Merge_DF_6.shape[0]-393370"
   ]
  },
  {
   "cell_type": "code",
   "execution_count": null,
   "id": "5da75237-8c8a-4ca9-b91e-af46219d2890",
   "metadata": {},
   "outputs": [],
   "source": [
    "Merge_DF_6['Telus_internet_flag'].value_counts()"
   ]
  },
  {
   "cell_type": "code",
   "execution_count": null,
   "id": "fb4cc039-184e-4de5-b0f8-0b888a80be1e",
   "metadata": {},
   "outputs": [],
   "source": [
    "Merge_DF_6['Telus_internet_flag'].fillna(0,inplace=True)"
   ]
  },
  {
   "cell_type": "code",
   "execution_count": null,
   "id": "165ce216-050a-4ed9-b35a-7b40d1eb737f",
   "metadata": {},
   "outputs": [],
   "source": [
    "pd.DataFrame(Merge_DF_6.groupby(['Telus_internet_flag']).agg(\n",
    "    BroadbandCommFailure_count=('BroadbandCommFailure_Flag',np.sum),\n",
    "    CameraNotCommunicating_count=('CameraNotCommunicating_Flag',np.sum), \n",
    "    CameraNotReachable_count=('CameraNotReachable_Flag',np.sum),\n",
    "    BroadbandCommFailure_grtrthan5=('BroadbandCommFailure_grtrthan5',np.sum)).reset_index())"
   ]
  },
  {
   "cell_type": "code",
   "execution_count": null,
   "id": "2db4cb7c-c618-46e7-8946-649bf9b49907",
   "metadata": {},
   "outputs": [],
   "source": [
    "config= bigquery.job.LoadJobConfig()\n",
    "\n",
    "# config._properties['timePartitioning'] = {'field': 'Month_Year'}\n",
    "config.write_disposition = bigquery.WriteDisposition.WRITE_TRUNCATE\n",
    "\n",
    "Table_BQ = 'ADC.Customer_Segment'\n",
    "\n",
    "bq_table_instance= bq_client.load_table_from_dataframe(Merge_DF_3, Table_BQ,job_config=config)"
   ]
  },
  {
   "cell_type": "code",
   "execution_count": null,
   "id": "07a9346f-e145-4d6d-a244-1db7cab89efc",
   "metadata": {},
   "outputs": [],
   "source": [
    "# Device_types_SQL='''\n",
    "\n",
    "# select * from `divgpras-pr-579355.ADC.Device_Type_mapping`\n",
    "\n",
    "# '''\n",
    "\n",
    "# Device_type_df= extract_bq_data(bq_client, sql=Device_types_SQL)\n",
    "# Device_type_df.info()"
   ]
  },
  {
   "cell_type": "code",
   "execution_count": null,
   "id": "88eeb004-2e5f-49e3-b6e4-f23fa68e93db",
   "metadata": {},
   "outputs": [],
   "source": [
    "# feature_cols=Device_type_df.drop('customer_id',axis=1).columns.to_list()\n",
    "# Device_type_df.columns=['customer_id']+['device_type_'+ str(col) for col in feature_cols]\n",
    "# Device_type_df['Device_Flag']=1\n",
    "# Merge_DF_4=Merge_DF_3.merge(Device_type_df,on='customer_id',how='left')\n",
    "# Merge_DF_4['Device_Flag'].isna().sum()*100/Merge_DF_3.shape[0]\n",
    "# Merge_DF_4['Device_Flag'].sum()"
   ]
  },
  {
   "cell_type": "code",
   "execution_count": null,
   "id": "01b32427-ca67-4e26-bac4-13dff4e459c1",
   "metadata": {},
   "outputs": [],
   "source": [
    "# del Merge_DF, Merge_DF_1,Merge_DF_2"
   ]
  },
  {
   "cell_type": "code",
   "execution_count": null,
   "id": "902e5ee1-1681-4a67-a12d-c6eb75c7228a",
   "metadata": {},
   "outputs": [],
   "source": [
    "Telus_addrs='''\n",
    "\n",
    "\n",
    "select bus_bacct_num,prov_state_cd from `cio-datahub-enterprise-pr-183a.ent_cust_cust.bq_biilg_acct_addr_snpsht`\n",
    "where date(snapshot_load_dt)='2022-09-30'\n",
    "\n",
    "'''"
   ]
  },
  {
   "cell_type": "code",
   "execution_count": null,
   "id": "b82130b0-3023-4b14-820a-3aebbefcb462",
   "metadata": {},
   "outputs": [],
   "source": [
    "Telus_Addrs=extract_bq_data(bq_client, sql=Telus_addrs)"
   ]
  },
  {
   "cell_type": "code",
   "execution_count": null,
   "id": "a8df82ff-b806-4043-8995-6dc8deba34b6",
   "metadata": {},
   "outputs": [],
   "source": []
  },
  {
   "cell_type": "code",
   "execution_count": null,
   "id": "da9871b8-8d62-4624-8f8e-37eb169d722a",
   "metadata": {},
   "outputs": [],
   "source": []
  },
  {
   "cell_type": "code",
   "execution_count": null,
   "id": "9ea3a671-4baa-4e35-b067-6b0717471174",
   "metadata": {},
   "outputs": [],
   "source": []
  },
  {
   "cell_type": "code",
   "execution_count": null,
   "id": "3adfa609-4cea-4f2f-9de5-9ebb20571f2c",
   "metadata": {},
   "outputs": [],
   "source": []
  }
 ],
 "metadata": {
  "kernelspec": {
   "display_name": "Python 3 (ipykernel)",
   "language": "python",
   "name": "python3"
  },
  "language_info": {
   "codemirror_mode": {
    "name": "ipython",
    "version": 3
   },
   "file_extension": ".py",
   "mimetype": "text/x-python",
   "name": "python",
   "nbconvert_exporter": "python",
   "pygments_lexer": "ipython3",
   "version": "3.8.12"
  }
 },
 "nbformat": 4,
 "nbformat_minor": 5
}
