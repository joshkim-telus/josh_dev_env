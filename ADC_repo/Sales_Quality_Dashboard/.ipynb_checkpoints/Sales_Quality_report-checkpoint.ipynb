{
 "cells": [
  {
   "cell_type": "code",
   "execution_count": null,
   "id": "6d29c2d4-12aa-4f89-8baf-87af41898c7e",
   "metadata": {},
   "outputs": [],
   "source": [
    "#### import global modules\n",
    "import os\n",
    "import sys\n",
    "import pandas as pd\n",
    "import numpy as np\n",
    "from pathlib import Path\n",
    "from yaml import safe_load\n",
    "import google.oauth2.credentials\n",
    "from google.cloud import bigquery\n",
    "import gc\n",
    "\n",
    "# Set global vars\n",
    "pth_project = Path(os.getcwd().split('notebooks')[0])\n",
    "pth_data = pth_project / 'data'\n",
    "pth_queries = pth_project / 'core' / 'queries'\n",
    "pth_creds = pth_project / 'conf' / 'local' / 'project_config.yaml'\n",
    "sys.path.insert(0, str(pth_project))\n",
    "d_project_config = safe_load(pth_creds.open())\n",
    "# d_params = safe_load((pth_project / 'core' / 'parameters' / 'common.yaml').open())['data_extract']\n",
    "\n",
    "# import local modules\n",
    "from core.utils.gcp import connect_bq_services\n",
    "# from core.etl.extract import extract_bq_data, extract_pr_codes, format_conv_df, filter_convs\n",
    "\n",
    "# Connect to google services\n",
    "bq_client = connect_bq_services(d_project_config['gcp-project-name'])\n",
    "pd.options.display.max_rows = 100"
   ]
  },
  {
   "cell_type": "code",
   "execution_count": null,
   "id": "8a587766-4c93-4d76-88c6-42e0ee8b64cf",
   "metadata": {},
   "outputs": [],
   "source": [
    "def extract_bq_data(bq_client, sql=None, pth_query=None):\n",
    "    if sql is not None:\n",
    "        df = bq_client.query(sql).to_dataframe()\n",
    "    elif pth_query is not None:\n",
    "        sql = pth_query.read_text()\n",
    "        df = bq_client.query(sql).to_dataframe()\n",
    "    else:\n",
    "        raise ValueError('`sql` or `pth_query` should be set')  \n",
    "    return df"
   ]
  },
  {
   "cell_type": "raw",
   "id": "31545472-936f-46ba-b4c3-96d945e03688",
   "metadata": {},
   "source": [
    "\n",
    "\n",
    "select ACTIVITY_DATE ,PARSE_DATE('%d%h%Y',SUBSTR(ACTIVITY_DATE, 0,9)) as parsed_date from `divgpras-pr-579355.SHS.SMHM_Deact_Dec2022_Feb2023` "
   ]
  },
  {
   "cell_type": "code",
   "execution_count": null,
   "id": "60ee2337-9232-4986-9ccf-9603e7bbd613",
   "metadata": {},
   "outputs": [],
   "source": [
    "Query='''\n",
    "\n",
    "\n",
    "\n",
    "\n",
    "\n",
    "\n",
    "DECLARE\n",
    "  start_dt_YTD_snpsht DATE DEFAULT '2023-01-01';\n",
    "DECLARE\n",
    "  end_dt_YTD_snpsht DATE DEFAULT '2023-03-31';\n",
    "DECLARE\n",
    "  snpsht_start_mnth DATE DEFAULT '2023-03-01';\n",
    "\n",
    "\n",
    "\n",
    "with order_data as (select *,PARSE_DATE('%d%h%Y',SUBSTR(CREATED_DT, 0,9)) as Created_date,  PARSE_DATE('%d%h%Y',SUBSTR(ACTIVATION_DT, 0,9)) as Activation_date\n",
    "from `divgpras-pr-579355.SHS.Order_details_Jan2023_Mar2023`\n",
    ")\n",
    "\n",
    "\n",
    ", order_data_1 as (\n",
    "\n",
    "select * , cast (CUST_ID as STRING) as Telus_Cust_ID,\n",
    "\n",
    "CASE\n",
    "      WHEN DATE_DIFF(DATE(Activation_date),Created_date, DAY) > 30 THEN 'Activated_30days+'\n",
    "    ELSE\n",
    "    'Activated_within_30days'\n",
    "  END\n",
    "    AS Day_gap\n",
    "\n",
    "from order_data\n",
    "\n",
    ")\n",
    "\n",
    ",Vol_churn as (\n",
    "\n",
    "select distinct BILLING_ACCOUNT_NUM as BAN,1 as Vol_churn ,PARSE_DATE('%d%h%Y',SUBSTR(ACTIVITY_DATE, 0,9)) as Vol_churn_date from `divgpras-pr-579355.SHS.VolChurn_Jan2023_Mar2023`\n",
    "\n",
    ")\n",
    "\n",
    ",InVol_churn as (\n",
    "\n",
    "select distinct BILLING_ACCOUNT_NUM as BAN, 1 as InVol_churn,PARSE_DATE('%d%h%Y',SUBSTR(DLY_PROD_INSTNC_ACTVY_TS, 0,9)) as InVol_churn_date from `divgpras-pr-579355.SHS.InVolChurn_Jan2023_Mar2023`\n",
    "\n",
    ")\n",
    "\n",
    ",ADC_customer_details as (\n",
    "\n",
    "select customer_id as adc_customer_id,dealer_customer_id  as Telus_customer_ID, date(join_date) as join_date\n",
    "\n",
    "from `cio-datahub-enterprise-pr-183a.src_adc.bq_customer_account_details`\n",
    "where dealer_name='TELUS Communications Inc.' \n",
    "and date(last_updt_ts)>=start_dt_YTD_snpsht and date(last_updt_ts)<= end_dt_YTD_snpsht\n",
    "and date(join_date) >= start_dt_YTD_snpsht\n",
    "QUALIFY ROW_NUMBER() OVER (PARTITION BY customer_id ORDER BY last_updt_ts DESC) = 1\n",
    "\n",
    ")\n",
    "\n",
    "\n",
    ",ADC_login_YTD as (\n",
    "\n",
    "with date_sql as (\n",
    "select  count(distinct date(login_dt_utc)) as count_of_dates from `cio-datahub-enterprise-pr-183a.src_adc.bq_customer_daily_logins`\n",
    "where date(login_dt_utc)<= end_dt_YTD_snpsht and date(login_dt_utc)>= start_dt_YTD_snpsht\n",
    "\n",
    ")\n",
    "\n",
    "select customer_id,sum(login_count) as sum_login_count,count (distinct date(login_dt_utc)) as number_of_login_days_YTD, (select count_of_dates from date_sql ) as count_of_dates_login_YTD\n",
    "from `cio-datahub-enterprise-pr-183a.src_adc.bq_customer_daily_logins`\n",
    "where date(login_dt_utc)<= end_dt_YTD_snpsht and date(login_dt_utc)>= start_dt_YTD_snpsht\n",
    "group by customer_id\n",
    "\n",
    "\n",
    "\n",
    ")\n",
    "\n",
    ",ADC_merge_data as (\n",
    "\n",
    "select *\n",
    "from ADC_customer_details a\n",
    "left join ADC_login_YTD b\n",
    "on a.adc_customer_id=b.customer_id\n",
    "\n",
    "\n",
    ")\n",
    "\n",
    ",ADC_final_data as (\n",
    "\n",
    "select Telus_customer_ID, avg(number_of_login_days_YTD) as Avg_no_login_days_YTD\n",
    "from ADC_merge_data \n",
    "group by Telus_customer_ID\n",
    "\n",
    ")\n",
    "\n",
    "\n",
    "select a.*,b.Vol_churn, b.Vol_churn_date,c.InVol_churn,c.InVol_churn_date,d.Telus_customer_ID,d.Avg_no_login_days_YTD,DATE_DIFF(end_dt_YTD_snpsht,a.Activation_date, DAY)  as Days_potential_login\n",
    "-- round(d.number_of_login_days_YTD)*100/(DATE_DIFF(end_dt_YTD_snpsht,a.Activation_date, DAY)) as login_consistency_YTD\n",
    "\n",
    "\n",
    "\n",
    "from order_data_1 a\n",
    "left join Vol_churn b\n",
    "on a.BILL_ACCOUNT_NUMBER=b.BAN\n",
    "left join InVol_churn c\n",
    "on a.BILL_ACCOUNT_NUMBER=c.BAN\n",
    "left join ADC_final_data d\n",
    "on a.Telus_Cust_ID=d.Telus_customer_ID\n",
    "order by a.Created_date\n",
    "\n",
    "\n",
    "\n",
    "\n",
    "'''"
   ]
  },
  {
   "cell_type": "code",
   "execution_count": null,
   "id": "50f3ebec-a6eb-4032-aaed-7d73b127a7ee",
   "metadata": {},
   "outputs": [],
   "source": [
    "DF=extract_bq_data(bq_client, sql=Query)"
   ]
  },
  {
   "cell_type": "code",
   "execution_count": null,
   "id": "fba944d3-0189-45b6-a07c-cd6c577ba3f5",
   "metadata": {},
   "outputs": [],
   "source": [
    "DF.info()"
   ]
  },
  {
   "cell_type": "code",
   "execution_count": null,
   "id": "242b9a6d-c440-4820-b745-80c9d5f0f960",
   "metadata": {},
   "outputs": [],
   "source": [
    "DF.head()"
   ]
  },
  {
   "cell_type": "code",
   "execution_count": null,
   "id": "a5e9fbd8-6a04-4824-9707-0c91b4159309",
   "metadata": {},
   "outputs": [],
   "source": [
    "DF.tail()"
   ]
  },
  {
   "cell_type": "code",
   "execution_count": null,
   "id": "84ba614c-5de5-4bbf-b162-0a75baeb8d03",
   "metadata": {},
   "outputs": [],
   "source": [
    "# DF['adc_customer_id'].isna().sum()"
   ]
  },
  {
   "cell_type": "code",
   "execution_count": null,
   "id": "88d69640-4b56-4969-b0e1-60c0d4ae127e",
   "metadata": {},
   "outputs": [],
   "source": [
    "DF['Avg_no_login_days_YTD'].isna().sum()"
   ]
  },
  {
   "cell_type": "code",
   "execution_count": null,
   "id": "0344d0c2-c974-48cd-afa5-486ac4d85598",
   "metadata": {},
   "outputs": [],
   "source": [
    "# DF['number_of_login_days_YTD']=np.where(DF['adc_customer_id'].isna(),0,DF['number_of_login_days_YTD'])"
   ]
  },
  {
   "cell_type": "code",
   "execution_count": null,
   "id": "56c5ab14-ba84-4efc-aaef-2af3c3946190",
   "metadata": {},
   "outputs": [],
   "source": [
    "DF.to_csv('Telus_Sales_Quality_report.csv',index=False)"
   ]
  },
  {
   "cell_type": "code",
   "execution_count": null,
   "id": "0c0e088d-c310-4d40-b178-4911c28d5790",
   "metadata": {},
   "outputs": [],
   "source": []
  }
 ],
 "metadata": {
  "kernelspec": {
   "display_name": "Python 3 (ipykernel)",
   "language": "python",
   "name": "python3"
  },
  "language_info": {
   "codemirror_mode": {
    "name": "ipython",
    "version": 3
   },
   "file_extension": ".py",
   "mimetype": "text/x-python",
   "name": "python",
   "nbconvert_exporter": "python",
   "pygments_lexer": "ipython3",
   "version": "3.8.12"
  }
 },
 "nbformat": 4,
 "nbformat_minor": 5
}
