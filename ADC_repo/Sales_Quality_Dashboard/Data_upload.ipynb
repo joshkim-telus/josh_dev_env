{
 "cells": [
  {
   "cell_type": "code",
   "execution_count": null,
   "id": "37eaa88e-3cfc-4290-8dd0-9f3d2985e7f9",
   "metadata": {},
   "outputs": [],
   "source": [
    "#### import global modules\n",
    "import os\n",
    "import sys\n",
    "import pandas as pd\n",
    "import numpy as np\n",
    "from pathlib import Path\n",
    "from yaml import safe_load\n",
    "import google.oauth2.credentials\n",
    "from google.cloud import bigquery\n",
    "import gc\n",
    "\n",
    "# Set global vars\n",
    "pth_project = Path(os.getcwd().split('notebooks')[0])\n",
    "pth_data = pth_project / 'data'\n",
    "pth_queries = pth_project / 'core' / 'queries'\n",
    "pth_creds = pth_project / 'conf' / 'local' / 'project_config.yaml'\n",
    "sys.path.insert(0, str(pth_project))\n",
    "d_project_config = safe_load(pth_creds.open())\n",
    "# d_params = safe_load((pth_project / 'core' / 'parameters' / 'common.yaml').open())['data_extract']\n",
    "\n",
    "# import local modules\n",
    "from core.utils.gcp import connect_bq_services\n",
    "# from core.etl.extract import extract_bq_data, extract_pr_codes, format_conv_df, filter_convs\n",
    "\n",
    "# Connect to google services\n",
    "bq_client = connect_bq_services(d_project_config['gcp-project-name'])\n",
    "pd.options.display.max_rows = 100"
   ]
  },
  {
   "cell_type": "code",
   "execution_count": null,
   "id": "8444b249-79fa-4274-9d1a-757381cab605",
   "metadata": {},
   "outputs": [],
   "source": [
    "def extract_bq_data(bq_client, sql=None, pth_query=None):\n",
    "    if sql is not None:\n",
    "        df = bq_client.query(sql).to_dataframe()\n",
    "    elif pth_query is not None:\n",
    "        sql = pth_query.read_text()\n",
    "        df = bq_client.query(sql).to_dataframe()\n",
    "    else:\n",
    "        raise ValueError('`sql` or `pth_query` should be set')  \n",
    "    return df"
   ]
  },
  {
   "cell_type": "code",
   "execution_count": null,
   "id": "6a49436b-cea7-4bc4-b759-33d925638f16",
   "metadata": {},
   "outputs": [],
   "source": [
    "Order_DF=pd.read_csv('ORDER_DETAILS_JAN2023_MAR2023.csv')"
   ]
  },
  {
   "cell_type": "code",
   "execution_count": null,
   "id": "8df46ec1-e1eb-49df-b782-4a849ed8d686",
   "metadata": {},
   "outputs": [],
   "source": [
    "Order_DF.info()"
   ]
  },
  {
   "cell_type": "code",
   "execution_count": null,
   "id": "3e643aea-d28e-4979-a297-5a3d89739632",
   "metadata": {},
   "outputs": [],
   "source": [
    "Order_DF.head()"
   ]
  },
  {
   "cell_type": "code",
   "execution_count": null,
   "id": "1f70e552-de2c-4dd9-9951-2e42d791cc57",
   "metadata": {},
   "outputs": [],
   "source": [
    "config= bigquery.job.LoadJobConfig()\n",
    "\n",
    "# config._properties['timePartitioning'] = {'field': 'Month_Year'}\n",
    "config.write_disposition = bigquery.WriteDisposition.WRITE_TRUNCATE\n",
    "\n",
    "Table_BQ = 'SHS.Order_details_Jan2023_Mar2023'\n",
    "\n",
    "bq_table_instance= bq_client.load_table_from_dataframe(Order_DF, Table_BQ,job_config=config)"
   ]
  },
  {
   "cell_type": "code",
   "execution_count": null,
   "id": "8ccd64b0-3e2f-4b72-9c95-825baa388dbc",
   "metadata": {},
   "outputs": [],
   "source": [
    "Invol_DF=pd.read_csv('SMHH_Involchurn_JAN2023_MAR2023.csv')\n",
    "Vol_DF=pd.read_csv('SMHH_VC_JAN2023_MAR2023.csv')"
   ]
  },
  {
   "cell_type": "code",
   "execution_count": null,
   "id": "d53796eb-5b27-4982-b2d2-a676cdb1c325",
   "metadata": {},
   "outputs": [],
   "source": [
    "Invol_DF.head()"
   ]
  },
  {
   "cell_type": "code",
   "execution_count": null,
   "id": "84e1e3b1-1ab0-4f6d-8ec1-4c1e7281addd",
   "metadata": {},
   "outputs": [],
   "source": [
    "Vol_DF.head()"
   ]
  },
  {
   "cell_type": "code",
   "execution_count": null,
   "id": "396be8ac-f012-4793-8752-8afbdebb4eff",
   "metadata": {},
   "outputs": [],
   "source": [
    "config= bigquery.job.LoadJobConfig()\n",
    "\n",
    "# config._properties['timePartitioning'] = {'field': 'Month_Year'}\n",
    "config.write_disposition = bigquery.WriteDisposition.WRITE_TRUNCATE\n",
    "\n",
    "Table_BQ = 'SHS.VolChurn_Jan2023_Mar2023'\n",
    "\n",
    "bq_table_instance= bq_client.load_table_from_dataframe(Vol_DF, Table_BQ,job_config=config)"
   ]
  },
  {
   "cell_type": "code",
   "execution_count": null,
   "id": "bdeaf44b-17a3-4116-ba3d-424d0f378d51",
   "metadata": {},
   "outputs": [],
   "source": [
    "config= bigquery.job.LoadJobConfig()\n",
    "\n",
    "# config._properties['timePartitioning'] = {'field': 'Month_Year'}\n",
    "config.write_disposition = bigquery.WriteDisposition.WRITE_TRUNCATE\n",
    "\n",
    "Table_BQ = 'SHS.InVolChurn_Jan2023_Mar2023'\n",
    "\n",
    "bq_table_instance= bq_client.load_table_from_dataframe(Invol_DF, Table_BQ,job_config=config)"
   ]
  },
  {
   "cell_type": "code",
   "execution_count": null,
   "id": "b95a3492-ea7b-4254-bb55-83fc59b3f8ac",
   "metadata": {},
   "outputs": [],
   "source": []
  }
 ],
 "metadata": {
  "kernelspec": {
   "display_name": "Python 3 (ipykernel)",
   "language": "python",
   "name": "python3"
  },
  "language_info": {
   "codemirror_mode": {
    "name": "ipython",
    "version": 3
   },
   "file_extension": ".py",
   "mimetype": "text/x-python",
   "name": "python",
   "nbconvert_exporter": "python",
   "pygments_lexer": "ipython3",
   "version": "3.8.12"
  }
 },
 "nbformat": 4,
 "nbformat_minor": 5
}
