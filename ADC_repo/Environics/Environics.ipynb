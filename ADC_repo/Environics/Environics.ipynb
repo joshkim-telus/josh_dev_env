{
 "cells": [
  {
   "cell_type": "code",
   "execution_count": null,
   "id": "dab737d1-db96-4fc1-b961-e7942b2d8e4b",
   "metadata": {},
   "outputs": [],
   "source": [
    "#### import global modules\n",
    "import os\n",
    "import sys\n",
    "import pandas as pd\n",
    "import numpy as np\n",
    "from pathlib import Path\n",
    "from yaml import safe_load\n",
    "import google.oauth2.credentials\n",
    "from google.cloud import bigquery\n",
    "import gc\n",
    "\n",
    "# Set global vars\n",
    "pth_project = Path(os.getcwd().split('notebooks')[0])\n",
    "pth_data = pth_project / 'data'\n",
    "pth_queries = pth_project / 'core' / 'queries'\n",
    "pth_creds = pth_project / 'conf' / 'local' / 'project_config.yaml'\n",
    "sys.path.insert(0, str(pth_project))\n",
    "d_project_config = safe_load(pth_creds.open())\n",
    "# d_params = safe_load((pth_project / 'core' / 'parameters' / 'common.yaml').open())['data_extract']\n",
    "\n",
    "# import local modules\n",
    "from core.utils.gcp import connect_bq_services\n",
    "# from core.etl.extract import extract_bq_data, extract_pr_codes, format_conv_df, filter_convs\n",
    "\n",
    "# Connect to google services\n",
    "bq_client = connect_bq_services(d_project_config['gcp-project-name'])\n",
    "pd.options.display.max_rows = 100"
   ]
  },
  {
   "cell_type": "code",
   "execution_count": null,
   "id": "44c82037-da22-4cb7-a884-db9ce8841d91",
   "metadata": {},
   "outputs": [],
   "source": [
    "pth_project = Path('/home/jupyter/churn_models')\n",
    "sys.path.insert(0, str(pth_project))\n",
    "from core.utils.gcp import connect_bq_services, connect_storage_services"
   ]
  },
  {
   "cell_type": "code",
   "execution_count": null,
   "id": "e81b69aa-549a-4770-87a1-777d3d70fd03",
   "metadata": {},
   "outputs": [],
   "source": [
    "# Set global vars\n",
    "pth_project = Path('/home/jupyter/churn_models')\n",
    "pth_data = pth_project / 'data' \n",
    "pth_query = pth_project / 'core' / 'pipelines' / 'queries' /'account_churn'\n",
    "pth_local_creds = pth_project / 'conf' / 'local' / 'project_config.yaml'  # this is gcp credential for common project if you are working on\n",
    "pth_global_creds = pth_project / 'conf' / 'global' / 'project_config.yaml' # use this local credential for your own dev"
   ]
  },
  {
   "cell_type": "code",
   "execution_count": null,
   "id": "aae2f7f0-2d6d-4c33-bfa0-932154546d49",
   "metadata": {},
   "outputs": [],
   "source": [
    "config = pth_project / 'core' / 'pipelines' / 'account_churn' / 'config.yaml'\n",
    "params = safe_load(config.open())\n",
    "gcp_config = safe_load(pth_global_creds.open())\n",
    "bkt_id = params['bkt_id']"
   ]
  },
  {
   "cell_type": "code",
   "execution_count": null,
   "id": "43736c52-763d-4cee-8a82-5659dc887692",
   "metadata": {},
   "outputs": [],
   "source": [
    "proj_id = gcp_config['gcp-project-name']\n",
    "dataset_id = gcp_config['dataset']\n",
    "train_table_id = params['train_table_id']\n",
    "score_table_id = params['score_table_id']\n",
    "pred_out_table_id = params['pred_out_table_id']\n",
    "print('we will use project_id:{} and dataset_id:{}'.format(proj_id,dataset_id))"
   ]
  },
  {
   "cell_type": "code",
   "execution_count": null,
   "id": "cee2244d-fd14-4c57-96ef-c66cf5383b18",
   "metadata": {},
   "outputs": [],
   "source": [
    "bq_client = connect_bq_services(gcp_config['gcp-project-name'])"
   ]
  },
  {
   "cell_type": "code",
   "execution_count": null,
   "id": "38596bf0-e4cf-474e-a0ed-59ca5ca01799",
   "metadata": {},
   "outputs": [],
   "source": [
    "def extract_bq_data(bq_client, sql=None, pth_query=None):\n",
    "    if sql is not None:\n",
    "        df = bq_client.query(sql).to_dataframe()\n",
    "    elif pth_query is not None:\n",
    "        sql = pth_query.read_text()\n",
    "        df = bq_client.query(sql).to_dataframe()\n",
    "    else:\n",
    "        raise ValueError('`sql` or `pth_query` should be set')  \n",
    "    return df"
   ]
  },
  {
   "cell_type": "code",
   "execution_count": null,
   "id": "fe290e38-2781-4861-b4fd-818dfac80b82",
   "metadata": {},
   "outputs": [],
   "source": [
    "Prizm_UniqueLicense_DF=pd.read_csv('Prizm_Unique_License_201901_updated.csv')"
   ]
  },
  {
   "cell_type": "code",
   "execution_count": null,
   "id": "f980630a-bd55-4840-93cd-d1d2d171f165",
   "metadata": {},
   "outputs": [],
   "source": [
    "Prizm_UniqueLicense_DF.info()"
   ]
  },
  {
   "cell_type": "code",
   "execution_count": null,
   "id": "530d59c0-a8e8-4d52-bfe1-35549e19caf4",
   "metadata": {},
   "outputs": [],
   "source": [
    "config= bigquery.job.LoadJobConfig()\n",
    "\n",
    "# config._properties['timePartitioning'] = {'field': 'Month_Year'}\n",
    "config.write_disposition = bigquery.WriteDisposition.WRITE_TRUNCATE\n",
    "\n",
    "Table_BQ = 'divg_churn_analysis_pr_dataset.Prizm_Unique_License_201901'\n",
    "\n",
    "bq_table_instance= bq_client.load_table_from_dataframe(Prizm_UniqueLicense_DF, Table_BQ,job_config=config)"
   ]
  },
  {
   "cell_type": "code",
   "execution_count": null,
   "id": "e21909f1-50a0-413b-87b4-56abbd6b68eb",
   "metadata": {},
   "outputs": [],
   "source": [
    "Prizm_Geo_DF=pd.read_csv('PRIZM5_GeoProfile_updated.csv')"
   ]
  },
  {
   "cell_type": "code",
   "execution_count": null,
   "id": "8d062e1d-bacf-439b-9131-a258330fb5c9",
   "metadata": {},
   "outputs": [],
   "source": [
    "Prizm_Geo_DF.info()"
   ]
  },
  {
   "cell_type": "code",
   "execution_count": null,
   "id": "43a8295e-e24e-4e43-9d3c-b9d9cc5e9d44",
   "metadata": {},
   "outputs": [],
   "source": [
    "config= bigquery.job.LoadJobConfig()\n",
    "\n",
    "# config._properties['timePartitioning'] = {'field': 'Month_Year'}\n",
    "config.write_disposition = bigquery.WriteDisposition.WRITE_TRUNCATE\n",
    "\n",
    "Table_BQ = 'divg_churn_analysis_pr_dataset.PRIZM5_E17BASHHD_GeoProfile_GEO'\n",
    "\n",
    "bq_table_instance= bq_client.load_table_from_dataframe(Prizm_Geo_DF, Table_BQ,job_config=config)"
   ]
  },
  {
   "cell_type": "code",
   "execution_count": null,
   "id": "b3533dee-bd54-449d-81ed-9ffd08dd80aa",
   "metadata": {},
   "outputs": [],
   "source": []
  }
 ],
 "metadata": {
  "kernelspec": {
   "display_name": "Python 3 (ipykernel)",
   "language": "python",
   "name": "python3"
  },
  "language_info": {
   "codemirror_mode": {
    "name": "ipython",
    "version": 3
   },
   "file_extension": ".py",
   "mimetype": "text/x-python",
   "name": "python",
   "nbconvert_exporter": "python",
   "pygments_lexer": "ipython3",
   "version": "3.8.12"
  }
 },
 "nbformat": 4,
 "nbformat_minor": 5
}
