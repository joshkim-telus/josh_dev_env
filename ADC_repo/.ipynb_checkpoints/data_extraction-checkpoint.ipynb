{
 "cells": [
  {
   "cell_type": "code",
   "execution_count": null,
   "id": "531f2af1-9a82-47ce-b8e0-7922b596cbc9",
   "metadata": {},
   "outputs": [],
   "source": [
    "#### import global modules\n",
    "import os\n",
    "import sys\n",
    "import pandas as pd\n",
    "from pathlib import Path\n",
    "from yaml import safe_load\n",
    "import google.oauth2.credentials\n",
    "from google.cloud import bigquery\n",
    "\n",
    "# Set global vars\n",
    "pth_project = Path(os.getcwd().split('notebooks')[0])\n",
    "pth_data = pth_project / 'data'\n",
    "pth_queries = pth_project / 'core' / 'queries'\n",
    "pth_creds = pth_project / 'conf' / 'local' / 'project_config.yaml'\n",
    "sys.path.insert(0, str(pth_project))\n",
    "d_project_config = safe_load(pth_creds.open())\n",
    "# d_params = safe_load((pth_project / 'core' / 'parameters' / 'common.yaml').open())['data_extract']\n",
    "\n",
    "# import local modules\n",
    "from core.utils.gcp import connect_bq_services\n",
    "# from core.etl.extract import extract_bq_data, extract_pr_codes, format_conv_df, filter_convs\n",
    "\n",
    "# Connect to google services\n",
    "bq_client = connect_bq_services(d_project_config['gcp-project-name'])"
   ]
  },
  {
   "cell_type": "code",
   "execution_count": null,
   "id": "8eb432e2-4363-4a07-9b79-b49f48241ed6",
   "metadata": {},
   "outputs": [],
   "source": [
    "pd.options.display.max_rows = 100"
   ]
  },
  {
   "cell_type": "code",
   "execution_count": null,
   "id": "7f970652-c092-4a5c-8a77-bcd361b73a86",
   "metadata": {},
   "outputs": [],
   "source": [
    "Customer_Detail_Query= '''\n",
    "\n",
    "SELECT a.*  FROM `cio-datahub-enterprise-pr-183a.src_adc.bq_customer_account_details` as a\n",
    "left join `cio-datahub-enterprise-pr-183a.src_adc.bq_customer_account_terminated_details` as b\n",
    "on a.customer_id=b.customer_id WHERE b.customer_id IS NULL\n",
    "and a.last_updt_ts=(SELECT MAX(st1.last_updt_ts) FROM `cio-datahub-enterprise-pr-183a.src_adc.bq_customer_account_details` AS st1) \n",
    "\n",
    "\n",
    "'''"
   ]
  },
  {
   "cell_type": "code",
   "execution_count": null,
   "id": "68090790-e848-4272-abb5-130874e7783c",
   "metadata": {},
   "outputs": [],
   "source": [
    "Network_Query='''\n",
    "\n",
    "\n",
    "with Customer_details as\n",
    " (\n",
    "SELECT a.customer_id,\n",
    "  FROM `cio-datahub-enterprise-pr-183a.src_adc.bq_customer_account_details` as a\n",
    "left join `cio-datahub-enterprise-pr-183a.src_adc.bq_customer_account_terminated_details` as b\n",
    "on a.customer_id=b.customer_id WHERE b.customer_id IS NULL\n",
    "and a.last_updt_ts=(SELECT MAX(st1.last_updt_ts) FROM `cio-datahub-enterprise-pr-183a.src_adc.bq_customer_account_details` AS st1) \n",
    "),\n",
    "\n",
    "\n",
    "-- OLDER METHOD FOR MAX RECORD\n",
    "--  signal_info_interim as (\n",
    "--    select customer_id, network_desc, history_date_utc\n",
    "--          ,row_number() over (partition by customer_id order by history_date_utc desc) as rn\n",
    "--    from `cio-datahub-enterprise-pr-183a.src_adc.bq_signal_rating_history`\n",
    "-- ),\n",
    "\n",
    "-- OLDER METHOD FOR MAX RECORD\n",
    "\n",
    "-- signal_info as\n",
    "-- (SELECT * FROM signal_info_interim where rn=1),\n",
    "\n",
    "\n",
    "\n",
    "\n",
    "-- NEW METHOD FOR MAX RECORD\n",
    "signal_info_final as\n",
    "(select customer_id,network_id, network_desc,signaling_rating_id,signaling_rating_name,sinaling_rating_logic, history_date_utc as signal_rating_date from `cio-datahub-enterprise-pr-183a.src_adc.bq_signal_rating_history` \n",
    "QUALIFY ROW_NUMBER() OVER (PARTITION BY customer_id ORDER BY history_date_utc DESC) = 1)\n",
    "-- ,\n",
    "\n",
    "\n",
    "select cd.* ,sig.network_id,sig.network_desc,sig.signaling_rating_id,sig.signaling_rating_name,sig.sinaling_rating_logic, sig.signal_rating_date from Customer_details cd \n",
    "left join signal_info_final sig \n",
    "on  cd.customer_id=sig.customer_id\n",
    "order by cd.customer_id\n",
    "\n",
    "\n",
    "\n",
    "\n",
    "'''"
   ]
  },
  {
   "cell_type": "code",
   "execution_count": null,
   "id": "6de01921-89ea-4347-b5cf-17da2af46d5b",
   "metadata": {},
   "outputs": [],
   "source": []
  },
  {
   "cell_type": "code",
   "execution_count": null,
   "id": "de6d480c-3014-4ae9-b395-e0c2677b11bb",
   "metadata": {},
   "outputs": [],
   "source": [
    "Trouble_condition_Query='''\n",
    "\n",
    "select * from `cio-datahub-enterprise-pr-183a.src_adc.bq_troublecondition_data`\n",
    "\n",
    "'''"
   ]
  },
  {
   "cell_type": "code",
   "execution_count": null,
   "id": "03cecc34-70bf-4d10-8ece-69264a96275f",
   "metadata": {},
   "outputs": [],
   "source": [
    "def extract_bq_data(bq_client, sql=None, pth_query=None):\n",
    "    if sql is not None:\n",
    "        df = bq_client.query(sql).to_dataframe()\n",
    "    elif pth_query is not None:\n",
    "        sql = pth_query.read_text()\n",
    "        df = bq_client.query(sql).to_dataframe()\n",
    "    else:\n",
    "        raise ValueError('`sql` or `pth_query` should be set')  \n",
    "    return df"
   ]
  },
  {
   "cell_type": "code",
   "execution_count": null,
   "id": "6f71547d-371b-4526-9d13-00004793f85d",
   "metadata": {},
   "outputs": [],
   "source": [
    "Customer_Network_details_DF= extract_bq_data(bq_client,sql=Network_Query)"
   ]
  },
  {
   "cell_type": "code",
   "execution_count": null,
   "id": "1427030e-55ed-4985-8945-2e2ff62b43cf",
   "metadata": {},
   "outputs": [],
   "source": [
    "Customer_Network_details_DF.info()"
   ]
  },
  {
   "cell_type": "code",
   "execution_count": null,
   "id": "9ed21da1-ee32-41f7-bcd5-763b88d52da6",
   "metadata": {},
   "outputs": [],
   "source": [
    "Customer_Network_details_DF.isnull().sum() * 100 / len(Customer_Network_details_DF)"
   ]
  },
  {
   "cell_type": "code",
   "execution_count": null,
   "id": "3d24b722-1dfd-4bcf-a5aa-f2edbc461098",
   "metadata": {},
   "outputs": [],
   "source": [
    "Customer_Network_details_DF.head()"
   ]
  },
  {
   "cell_type": "code",
   "execution_count": null,
   "id": "0608e135-3043-44a1-ba41-105d883fd2c6",
   "metadata": {},
   "outputs": [],
   "source": [
    "Customer_Network_details_DF['network_desc'].fillna('Missing_network_information',inplace=True)"
   ]
  },
  {
   "cell_type": "code",
   "execution_count": null,
   "id": "217de635-499d-4e60-b722-9c24f310c330",
   "metadata": {},
   "outputs": [],
   "source": [
    "Customer_Network_details_DF.value_counts('network_desc',normalize=True)*100"
   ]
  },
  {
   "cell_type": "code",
   "execution_count": null,
   "id": "5f2f4eed-fc1b-499c-b6a8-74e76ca39a68",
   "metadata": {},
   "outputs": [],
   "source": []
  },
  {
   "cell_type": "code",
   "execution_count": null,
   "id": "f9ed2813-7d8d-4347-96d6-99cb99f93cc4",
   "metadata": {},
   "outputs": [],
   "source": [
    "job_config_Network = bigquery.job.LoadJobConfig()\n",
    "job_config_Network.write_disposition = bigquery.WriteDisposition.WRITE_TRUNCATE\n",
    "\n",
    "Network_BQ_table = 'ADC.Customer_Network_details'\n",
    "\n",
    "job_device_type= bq_client.load_table_from_dataframe(Customer_Network_details_DF, Network_BQ_table,job_config=job_config_Network)"
   ]
  },
  {
   "cell_type": "code",
   "execution_count": null,
   "id": "9ef5cf0c-d421-471e-abab-67cf15461a20",
   "metadata": {},
   "outputs": [],
   "source": [
    "Customer_Details_DF= extract_bq_data(bq_client,sql=Customer_Detail_Query)"
   ]
  },
  {
   "cell_type": "code",
   "execution_count": null,
   "id": "05237755-464f-49dc-a7f0-8c35d8db03d4",
   "metadata": {},
   "outputs": [],
   "source": [
    "Customer_Details_DF.info()"
   ]
  },
  {
   "cell_type": "code",
   "execution_count": null,
   "id": "a772eed5-7f7d-42be-ba57-946f48660e9c",
   "metadata": {},
   "outputs": [],
   "source": [
    "Customer_Details_DF['dealer_name'].value_counts()"
   ]
  },
  {
   "cell_type": "code",
   "execution_count": null,
   "id": "16437c85-36b2-4d39-9d11-955b98519d76",
   "metadata": {},
   "outputs": [],
   "source": [
    "Customer_Details_DF_NonADT=Customer_Details_DF[(Customer_Details_DF['dealer_name']=='TELUS Communications Inc.') & (Customer_Details_DF['customer_type_name']=='Customer') ]"
   ]
  },
  {
   "cell_type": "code",
   "execution_count": null,
   "id": "6ca55d6b-74cf-4b96-bc3f-a620180477c5",
   "metadata": {},
   "outputs": [],
   "source": [
    "Customer_Details_DF_NonADT.shape"
   ]
  },
  {
   "cell_type": "code",
   "execution_count": null,
   "id": "928c8e6b-8e2b-4c2b-b748-0b081e5d28cd",
   "metadata": {},
   "outputs": [],
   "source": [
    "Customer_Details_DF_NonADT.to_csv('NON_ADT_Customer_BQ_ADC.csv',index=False)"
   ]
  },
  {
   "cell_type": "code",
   "execution_count": null,
   "id": "612a1612-eecb-4a53-865d-64f05c2390ce",
   "metadata": {},
   "outputs": [],
   "source": [
    "Trouble_condition_DF= extract_bq_data(bq_client,sql=Trouble_condition_Query)"
   ]
  },
  {
   "cell_type": "code",
   "execution_count": null,
   "id": "deae708e-1bb4-4ecf-adb7-34652a38bdac",
   "metadata": {},
   "outputs": [],
   "source": [
    "Trouble_condition_DF.head()"
   ]
  },
  {
   "cell_type": "code",
   "execution_count": null,
   "id": "f152f3c1-c8d1-4417-aece-51504149c06d",
   "metadata": {},
   "outputs": [],
   "source": [
    "print(Trouble_condition_DF['start_date_utc'].min(),'and',Trouble_condition_DF['start_date_utc'].max())"
   ]
  },
  {
   "cell_type": "code",
   "execution_count": null,
   "id": "3c679566-ee26-4c5d-aa81-dd6e6468f6c3",
   "metadata": {},
   "outputs": [],
   "source": [
    "Trouble_condition_DF['trouble_condition_group_desc'].value_counts(normalize=True)*100"
   ]
  },
  {
   "cell_type": "code",
   "execution_count": null,
   "id": "d8100f16-dafe-4835-841b-4e4fcbfe848b",
   "metadata": {},
   "outputs": [],
   "source": [
    "Trouble_condition_DF['trouble_condition_name'].value_counts(normalize=True)*100"
   ]
  },
  {
   "cell_type": "code",
   "execution_count": null,
   "id": "1a00df55-650d-48d5-b01b-0fab54a89f6b",
   "metadata": {},
   "outputs": [],
   "source": [
    "Trouble_condition_DF['trouble_condition_start_ind'].value_counts(normalize=True)*100"
   ]
  },
  {
   "cell_type": "code",
   "execution_count": null,
   "id": "6f2f4bcc-c569-47d0-8041-39311ac3d86e",
   "metadata": {},
   "outputs": [],
   "source": [
    "Trouble_condition_DF['trouble_condition_closed_ind'].value_counts(normalize=True)*100"
   ]
  },
  {
   "cell_type": "code",
   "execution_count": null,
   "id": "984fb2b5-b6e3-44b1-9ef0-62a79056337f",
   "metadata": {},
   "outputs": [],
   "source": [
    "Trouble_condition_DF[Trouble_condition_DF['trouble_condition_closed_ind']=='N']['start_date_utc'].min()"
   ]
  },
  {
   "cell_type": "code",
   "execution_count": null,
   "id": "9fb68a04-8dd4-4425-b340-1fb0637c367f",
   "metadata": {},
   "outputs": [],
   "source": [
    "Trouble_condition_DF[Trouble_condition_DF['trouble_condition_start_ind']=='N']['start_date_utc'].max()"
   ]
  },
  {
   "cell_type": "code",
   "execution_count": null,
   "id": "8f83c7b6-3b2b-4891-aba0-268dc100eeff",
   "metadata": {},
   "outputs": [],
   "source": [
    "Trouble_condition_DF[Trouble_condition_DF['start_date_utc']=='2011-07-27 10:27:55+0000']"
   ]
  },
  {
   "cell_type": "code",
   "execution_count": null,
   "id": "6d05ae58-1882-4939-86a5-5c5030d3049a",
   "metadata": {},
   "outputs": [],
   "source": [
    "Trouble_condition_DF['dealer_name'].value_counts(normalize=True)*100"
   ]
  },
  {
   "cell_type": "code",
   "execution_count": null,
   "id": "852c3fe3-cd54-49c9-8a50-72cb75768b15",
   "metadata": {},
   "outputs": [],
   "source": [
    "Trouble_condition_DF['Day_Diff']=Trouble_condition_DF['end_date_utc'] - Trouble_condition_DF['start_date_utc']"
   ]
  },
  {
   "cell_type": "code",
   "execution_count": null,
   "id": "958a121a-f991-4da7-9693-576e2ab5a91b",
   "metadata": {},
   "outputs": [],
   "source": [
    "Trouble_condition_DF.info()"
   ]
  },
  {
   "cell_type": "code",
   "execution_count": null,
   "id": "97ff033d-bdb1-4275-b06f-23605ccb7db4",
   "metadata": {},
   "outputs": [],
   "source": [
    "Trouble_condition_DF['Day_Diff'].min()"
   ]
  },
  {
   "cell_type": "code",
   "execution_count": null,
   "id": "2e6a516d-be49-4465-9716-87253e9d262f",
   "metadata": {},
   "outputs": [],
   "source": [
    "Trouble_condition_DF['Day_Diff'].max()"
   ]
  },
  {
   "cell_type": "code",
   "execution_count": null,
   "id": "1dfd9a8f-f1fe-44ff-9113-62f150abde3a",
   "metadata": {},
   "outputs": [],
   "source": [
    "Trouble_condition_DF['Day_Diff'].median()"
   ]
  },
  {
   "cell_type": "code",
   "execution_count": null,
   "id": "c0b46635-21eb-4e9b-9337-18e96cf0e74d",
   "metadata": {},
   "outputs": [],
   "source": [
    "Trouble_condition_DF['Day_Diff'].mean()"
   ]
  },
  {
   "cell_type": "code",
   "execution_count": null,
   "id": "1e3abd71-d9b1-4f20-a85d-82df3a5af39d",
   "metadata": {},
   "outputs": [],
   "source": [
    "Trouble_condition_DF.groupby('trouble_condition_group_desc')['Day_Diff'].median()"
   ]
  },
  {
   "cell_type": "code",
   "execution_count": null,
   "id": "891deea1-44aa-47b9-b981-7d0dd7de6b03",
   "metadata": {},
   "outputs": [],
   "source": [
    "Trouble_condition_DF.groupby('trouble_condition_group_desc')['Day_Diff'].mean()"
   ]
  },
  {
   "cell_type": "code",
   "execution_count": null,
   "id": "c9c34035-7471-4ec3-86ab-521f52c9b096",
   "metadata": {},
   "outputs": [],
   "source": [
    "Current_device_Query='''\n",
    "\n",
    "select * from `cio-datahub-enterprise-dv-e8ff.src_adc.bq_current_device`\n",
    "\n",
    "'''"
   ]
  },
  {
   "cell_type": "code",
   "execution_count": null,
   "id": "40ab9947-fbff-4ec2-9e26-a3be7c042f56",
   "metadata": {},
   "outputs": [],
   "source": [
    "Current_Device_DF= extract_bq_data(bq_client,sql=Current_device_Query)"
   ]
  },
  {
   "cell_type": "code",
   "execution_count": null,
   "id": "9db08a5c-d5b9-47b5-92a7-4a1f27c8d7f0",
   "metadata": {},
   "outputs": [],
   "source": [
    "Current_Device_DF.info()"
   ]
  },
  {
   "cell_type": "code",
   "execution_count": null,
   "id": "4b010d11-431a-4e52-bb2c-30bec5380828",
   "metadata": {},
   "outputs": [],
   "source": [
    "Current_Device_DF.head()"
   ]
  },
  {
   "cell_type": "code",
   "execution_count": null,
   "id": "d1a6f972-1964-4037-b520-b1478c3b1a17",
   "metadata": {},
   "outputs": [],
   "source": [
    "Current_Device_DF['partition_device'].value_counts(normalize=True)*100"
   ]
  },
  {
   "cell_type": "code",
   "execution_count": null,
   "id": "e6e2eac5-1075-486b-a52c-772971e2afdf",
   "metadata": {},
   "outputs": [],
   "source": [
    "Current_Device_DF['non_reporting_flag'].value_counts(normalize=True)*100"
   ]
  },
  {
   "cell_type": "code",
   "execution_count": null,
   "id": "f580b9ef-4fdc-4139-ae01-4774f236b0a9",
   "metadata": {},
   "outputs": [],
   "source": [
    "Current_Device_DF['device_type_desc'].value_counts(normalize=True)*100"
   ]
  },
  {
   "cell_type": "code",
   "execution_count": null,
   "id": "c4f03c27-9661-4639-8828-ddf0d4c3f04a",
   "metadata": {},
   "outputs": [],
   "source": [
    "Current_Device_DF['device_class_desc'].value_counts(normalize=True)*100"
   ]
  },
  {
   "cell_type": "code",
   "execution_count": null,
   "id": "55bb6b8d-63d2-4628-8ba0-957cd7741b72",
   "metadata": {},
   "outputs": [],
   "source": [
    "Current_Device_DF.groupby('customer_id')['device_class_desc'].count()"
   ]
  },
  {
   "cell_type": "code",
   "execution_count": null,
   "id": "5acedebe-a11f-42b2-87dc-5ff3c7c60ff3",
   "metadata": {},
   "outputs": [],
   "source": [
    "Current_Device_DF['count_device']=1"
   ]
  },
  {
   "cell_type": "code",
   "execution_count": null,
   "id": "87e7e2d3-33ab-4aba-8f36-6506addfacaf",
   "metadata": {},
   "outputs": [],
   "source": [
    "Device_class_DF=pd.pivot_table(Current_Device_DF, values='count_device', index='customer_id', columns='device_class_desc',\n",
    "                          aggfunc='sum').reset_index()"
   ]
  },
  {
   "cell_type": "code",
   "execution_count": null,
   "id": "4e23065c-1660-4a4b-8073-aa59bdb18d0f",
   "metadata": {},
   "outputs": [],
   "source": [
    "Device_class_DF=Device_class_DF.fillna(0)"
   ]
  },
  {
   "cell_type": "code",
   "execution_count": null,
   "id": "e1731b79-850a-4bc6-bd0e-6496c31b1442",
   "metadata": {},
   "outputs": [],
   "source": [
    "Device_class_DF.info()"
   ]
  },
  {
   "cell_type": "code",
   "execution_count": null,
   "id": "9fd17978-5ba0-402e-b13b-ca2445c1aeba",
   "metadata": {},
   "outputs": [],
   "source": [
    "Device_class_DF.rename({'Keypad/Touchscreen': 'Keypad_Touchscreen'}, axis=1, inplace=True)"
   ]
  },
  {
   "cell_type": "code",
   "execution_count": null,
   "id": "81639c3f-baa8-418f-bdae-79949710f425",
   "metadata": {},
   "outputs": [],
   "source": [
    "Device_class_DF.columns = Device_class_DF.columns.str.replace(' ', '_')"
   ]
  },
  {
   "cell_type": "code",
   "execution_count": null,
   "id": "acc61a3c-6624-49e4-bea6-bce509b6bdd2",
   "metadata": {},
   "outputs": [],
   "source": [
    "job_config_device_class_log = bigquery.job.LoadJobConfig()\n",
    "job_config_device_class_log.write_disposition = bigquery.WriteDisposition.WRITE_TRUNCATE\n",
    "\n",
    "table_Customer_device_class_count = 'ADC.customer_device_class_count'\n",
    "\n",
    "job_ban_log = bq_client.load_table_from_dataframe(Device_class_DF, table_Customer_device_class_count,job_config=job_config_device_class_log)"
   ]
  },
  {
   "cell_type": "code",
   "execution_count": null,
   "id": "f7213ab6-8b4c-4a52-8b5a-ea2d804a3392",
   "metadata": {},
   "outputs": [],
   "source": [
    "device_type_DF=pd.pivot_table(Current_Device_DF, values='count_device', index='customer_id', columns='device_type_desc',\n",
    "                          aggfunc='sum')"
   ]
  },
  {
   "cell_type": "code",
   "execution_count": null,
   "id": "c94ff38f-732d-41c8-956f-b29b3cb8ae5e",
   "metadata": {},
   "outputs": [],
   "source": [
    "device_type_DF=device_type_DF.reset_index()"
   ]
  },
  {
   "cell_type": "code",
   "execution_count": null,
   "id": "5e4440a6-adc8-43b8-8c41-261aed54593e",
   "metadata": {},
   "outputs": [],
   "source": [
    "device_type_DF.head()"
   ]
  },
  {
   "cell_type": "code",
   "execution_count": null,
   "id": "481be655-35d7-4018-940f-1f51ed1bca46",
   "metadata": {},
   "outputs": [],
   "source": [
    "device_type_DF.info()"
   ]
  },
  {
   "cell_type": "code",
   "execution_count": null,
   "id": "69a344a0-5527-4965-95fb-149fc03cc7be",
   "metadata": {},
   "outputs": [],
   "source": [
    "rep_chars = ' |\\|-|:|/'\n",
    "\n",
    "device_type_DF.columns = device_type_DF.columns.str.replace(rep_chars, '_')"
   ]
  },
  {
   "cell_type": "code",
   "execution_count": null,
   "id": "73c906c8-a717-4527-b006-28914e742803",
   "metadata": {},
   "outputs": [],
   "source": [
    "device_type_DF.columns = device_type_DF.columns.str.replace('-', '_')"
   ]
  },
  {
   "cell_type": "code",
   "execution_count": null,
   "id": "738ab7e2-aa0a-4cbe-aaaa-1ce361268924",
   "metadata": {},
   "outputs": [],
   "source": [
    "device_type_DF.info()"
   ]
  },
  {
   "cell_type": "code",
   "execution_count": null,
   "id": "3e66a1ad-4743-416c-be63-30e076510f30",
   "metadata": {},
   "outputs": [],
   "source": [
    "device_type_DF=device_type_DF.fillna(0)"
   ]
  },
  {
   "cell_type": "code",
   "execution_count": null,
   "id": "aa9d0089-42a7-469e-bdbf-1248579ccce6",
   "metadata": {},
   "outputs": [],
   "source": [
    "job_config_device_type_log = bigquery.job.LoadJobConfig()\n",
    "job_config_device_type_log.write_disposition = bigquery.WriteDisposition.WRITE_TRUNCATE\n",
    "\n",
    "table_Customer_device_type_count = 'ADC.customer_device_type_count'\n",
    "\n",
    "job_device_type= bq_client.load_table_from_dataframe(device_type_DF, table_Customer_device_type_count,job_config=job_config_device_type_log)"
   ]
  },
  {
   "cell_type": "code",
   "execution_count": null,
   "id": "49c92434-bc9e-449b-a17c-e7498426b863",
   "metadata": {},
   "outputs": [],
   "source": [
    "Camera_Event_schedule_sql= 'select * from `cio-datahub-enterprise-dv-e8ff.src_adc.bq_camera_event_schedules`'"
   ]
  },
  {
   "cell_type": "code",
   "execution_count": null,
   "id": "053aacdc-4655-4034-842b-bbe360d8f24c",
   "metadata": {},
   "outputs": [],
   "source": [
    "Camera_Event_schedule_DF= extract_bq_data(bq_client,sql=Camera_Event_schedule_sql)"
   ]
  },
  {
   "cell_type": "code",
   "execution_count": null,
   "id": "7c9e8db3-30f8-4904-a318-d401993be28a",
   "metadata": {},
   "outputs": [],
   "source": [
    "Camera_Event_schedule_DF.info()"
   ]
  },
  {
   "cell_type": "code",
   "execution_count": null,
   "id": "7f0a8dfb-db3c-4991-bfe6-918076be7fc8",
   "metadata": {},
   "outputs": [],
   "source": [
    "Camera_Event_schedule_DF.head()"
   ]
  },
  {
   "cell_type": "code",
   "execution_count": null,
   "id": "2dad8357-5dce-4a95-a00a-35045f8c5af1",
   "metadata": {},
   "outputs": [],
   "source": [
    "Camera_Event_schedule_DF['description'].value_counts(normalize=True)*100"
   ]
  },
  {
   "cell_type": "code",
   "execution_count": null,
   "id": "2e9d3ecd-f6cb-482b-9ca2-49c16e0c8e10",
   "metadata": {},
   "outputs": [],
   "source": [
    "notification_schedule_sql='select customer_id,event_type_desc, count(*) as count_of_notification_schedules from `cio-datahub-enterprise-dv-e8ff.src_adc.bq_current_customer_notification_schedules` where enabled_status!=0 group by customer_id,event_type_desc order by customer_id'"
   ]
  },
  {
   "cell_type": "code",
   "execution_count": null,
   "id": "7df21175-f8be-4bb6-a983-e17d7e38eb5c",
   "metadata": {},
   "outputs": [],
   "source": [
    "notification_schedule_DF= extract_bq_data(bq_client,sql=notification_schedule_sql)"
   ]
  },
  {
   "cell_type": "code",
   "execution_count": null,
   "id": "4b5c35e0-55ec-4e6f-bdc2-04b68e835f73",
   "metadata": {},
   "outputs": [],
   "source": [
    "notification_schedule_DF.head()"
   ]
  },
  {
   "cell_type": "code",
   "execution_count": null,
   "id": "d3069930-6841-4052-a649-f7a6a8a05cce",
   "metadata": {},
   "outputs": [],
   "source": [
    "notification_schedule_DF['event_type_desc'].value_counts()"
   ]
  },
  {
   "cell_type": "code",
   "execution_count": null,
   "id": "731c4392-0e6b-4d73-90e0-55b2705b2a3a",
   "metadata": {},
   "outputs": [],
   "source": [
    "job_config_notification_schedule = bigquery.job.LoadJobConfig()\n",
    "job_config_notification_schedule.write_disposition = bigquery.WriteDisposition.WRITE_TRUNCATE\n",
    "\n",
    "table_notification_schedule_count = 'ADC.customer_notification_schedule_count'\n",
    "\n",
    "job_device_type= bq_client.load_table_from_dataframe(notification_schedule_DF, table_notification_schedule_count,job_config=job_config_notification_schedule)"
   ]
  },
  {
   "cell_type": "code",
   "execution_count": null,
   "id": "626b2f1f-64c5-4303-a1e2-ffbdf55a4cd9",
   "metadata": {},
   "outputs": [],
   "source": [
    "light_rules_sql= 'select * from cio-datahub-enterprise-dv-e8ff.src_adc.bq_light_rules'"
   ]
  },
  {
   "cell_type": "code",
   "execution_count": null,
   "id": "ee174039-971f-4baf-988a-db12281dcb94",
   "metadata": {},
   "outputs": [],
   "source": [
    "light_rules_DF= extract_bq_data(bq_client,sql=light_rules_sql)"
   ]
  },
  {
   "cell_type": "code",
   "execution_count": null,
   "id": "75aa6c86-e578-42cf-86aa-cd34487fb347",
   "metadata": {},
   "outputs": [],
   "source": [
    "light_rules_DF.info()"
   ]
  },
  {
   "cell_type": "code",
   "execution_count": null,
   "id": "a963a5ed-96e4-4c5e-92af-ba2e8018b84d",
   "metadata": {},
   "outputs": [],
   "source": [
    "light_rules_DF.head()"
   ]
  },
  {
   "cell_type": "code",
   "execution_count": null,
   "id": "d9569185-3754-4172-890a-e5b584ba571c",
   "metadata": {},
   "outputs": [],
   "source": [
    "light_rules_DF['rule_type_desc'].value_counts()"
   ]
  },
  {
   "cell_type": "code",
   "execution_count": null,
   "id": "77fd4956-fce9-4a4b-854f-88fa3f135feb",
   "metadata": {},
   "outputs": [],
   "source": [
    "light_rules_DF['event_type_desc'].value_counts()"
   ]
  },
  {
   "cell_type": "code",
   "execution_count": null,
   "id": "5b83f225-5901-48a0-a732-9ff7d208d41e",
   "metadata": {},
   "outputs": [],
   "source": []
  }
 ],
 "metadata": {
  "kernelspec": {
   "display_name": "Python 3 (ipykernel)",
   "language": "python",
   "name": "python3"
  },
  "language_info": {
   "codemirror_mode": {
    "name": "ipython",
    "version": 3
   },
   "file_extension": ".py",
   "mimetype": "text/x-python",
   "name": "python",
   "nbconvert_exporter": "python",
   "pygments_lexer": "ipython3",
   "version": "3.7.12"
  }
 },
 "nbformat": 4,
 "nbformat_minor": 5
}
