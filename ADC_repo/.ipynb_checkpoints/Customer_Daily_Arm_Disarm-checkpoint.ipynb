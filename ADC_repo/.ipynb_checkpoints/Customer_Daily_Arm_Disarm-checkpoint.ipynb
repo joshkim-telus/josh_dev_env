{
 "cells": [
  {
   "cell_type": "code",
   "execution_count": null,
   "id": "c0b31ef6-1292-4ae8-8ca5-32da7cd95ad5",
   "metadata": {},
   "outputs": [],
   "source": [
    "#### import global modules\n",
    "import os\n",
    "import sys\n",
    "import pandas as pd\n",
    "import numpy as np\n",
    "from pathlib import Path\n",
    "from yaml import safe_load\n",
    "import google.oauth2.credentials\n",
    "from google.cloud import bigquery\n",
    "import numpy as np\n",
    "# Set global vars\n",
    "pth_project = Path(os.getcwd().split('notebooks')[0])\n",
    "pth_data = pth_project / 'data'\n",
    "pth_queries = pth_project / 'core' / 'queries'\n",
    "pth_creds = pth_project / 'conf' / 'local' / 'project_config.yaml'\n",
    "sys.path.insert(0, str(pth_project))\n",
    "d_project_config = safe_load(pth_creds.open())\n",
    "# d_params = safe_load((pth_project / 'core' / 'parameters' / 'common.yaml').open())['data_extract']\n",
    "\n",
    "# import local modules\n",
    "from core.utils.gcp import connect_bq_services\n",
    "# from core.etl.extract import extract_bq_data, extract_pr_codes, format_conv_df, filter_convs\n",
    "\n",
    "# Connect to google services\n",
    "bq_client = connect_bq_services(d_project_config['gcp-project-name'])\n",
    "pd.options.display.max_rows = 100"
   ]
  },
  {
   "cell_type": "code",
   "execution_count": null,
   "id": "d3eee21c-44cb-4c17-b3fc-e30fb6666fe3",
   "metadata": {},
   "outputs": [],
   "source": [
    "def extract_bq_data(bq_client, sql=None, pth_query=None):\n",
    "    if sql is not None:\n",
    "        df = bq_client.query(sql).to_dataframe()\n",
    "    elif pth_query is not None:\n",
    "        sql = pth_query.read_text()\n",
    "        df = bq_client.query(sql).to_dataframe()\n",
    "    else:\n",
    "        raise ValueError('`sql` or `pth_query` should be set')  \n",
    "    return df"
   ]
  },
  {
   "cell_type": "code",
   "execution_count": null,
   "id": "db087951-2a64-4d6f-9e83-8f93c20caf8b",
   "metadata": {},
   "outputs": [],
   "source": [
    "Arming_Query='''\n",
    "\n",
    "select date(date) as date_utc,id_cust as customer_id,sum(count_arm_commands) as sum_arm_commands,sum(count_disarm_commands) as sum_disarm_commands\n",
    "from `cio-datahub-enterprise-pr-183a.src_adc.bq_aggregate_daily_arming_commands`\n",
    "where date(date)>='2022-09-08' and date(date)<='2022-09-20'\n",
    "group by date_utc,customer_id\n",
    "\n",
    "\n",
    "'''"
   ]
  },
  {
   "cell_type": "code",
   "execution_count": null,
   "id": "14f17549-165d-4fbe-b68e-bde1a53b533d",
   "metadata": {},
   "outputs": [],
   "source": [
    "Arming_DF= extract_bq_data(bq_client,sql=Arming_Query)"
   ]
  },
  {
   "cell_type": "code",
   "execution_count": null,
   "id": "1a925212-cca3-4279-b4d5-2c1bb393c539",
   "metadata": {},
   "outputs": [],
   "source": [
    "Arming_DF.info()"
   ]
  },
  {
   "cell_type": "code",
   "execution_count": null,
   "id": "8001811b-8b40-472c-a835-81c843348fe9",
   "metadata": {},
   "outputs": [],
   "source": [
    "Arming_DF.head()"
   ]
  },
  {
   "cell_type": "code",
   "execution_count": null,
   "id": "aaf77fa2-6f5d-4dbc-92de-218bb4b7f64a",
   "metadata": {},
   "outputs": [],
   "source": [
    "Arming_DF['Arming_flag']=Arming_DF['sum_arm_commands'].apply(lambda x: 1 if x>0 else 0)\n",
    "Arming_DF['Disarming_flag']=Arming_DF['sum_disarm_commands'].apply(lambda x: 1 if x>0 else 0)"
   ]
  },
  {
   "cell_type": "code",
   "execution_count": null,
   "id": "edeaee01-cbbf-4cb4-8808-934c4286a583",
   "metadata": {},
   "outputs": [],
   "source": [
    "Arming_DF=Arming_DF.sort_values(['customer_id','date_utc'])"
   ]
  },
  {
   "cell_type": "code",
   "execution_count": null,
   "id": "2446f3ef-3966-42a9-a55d-a9aadf2cb14f",
   "metadata": {},
   "outputs": [],
   "source": [
    "Arming_DF.head()"
   ]
  },
  {
   "cell_type": "code",
   "execution_count": null,
   "id": "c67b2d7a-be83-4073-8ac0-dc778be44bcc",
   "metadata": {},
   "outputs": [],
   "source": [
    "Arming_DF['customer_id'].value_counts()"
   ]
  },
  {
   "cell_type": "code",
   "execution_count": null,
   "id": "fc91a5e3-656a-4031-ab8d-f96d153aa257",
   "metadata": {},
   "outputs": [],
   "source": [
    "Arming_DF_wide=Arming_DF.groupby('customer_id').agg({'Arming_flag':np.sum,'Disarming_flag':np.sum}).reset_index()"
   ]
  },
  {
   "cell_type": "code",
   "execution_count": null,
   "id": "03ecde39-7e1a-4d52-903d-6e2de348156a",
   "metadata": {},
   "outputs": [],
   "source": [
    "Arming_DF_wide.head()"
   ]
  },
  {
   "cell_type": "code",
   "execution_count": null,
   "id": "0e741a01-3267-41ef-a0f2-bfbf8a9d2b71",
   "metadata": {},
   "outputs": [],
   "source": [
    "Arming_DF_wide['Disarming_flag'].value_counts()"
   ]
  },
  {
   "cell_type": "code",
   "execution_count": null,
   "id": "08428d2e-a9eb-44aa-8d75-a0ce704422b6",
   "metadata": {},
   "outputs": [],
   "source": [
    "Arming_DF_wide['consecutive_arming_last13_flag']=Arming_DF_wide['Arming_flag'].apply(lambda x: 1 if x==13 else 0)\n",
    "\n",
    "Arming_DF_wide['consecutive_disarming_last13_flag']=Arming_DF_wide['Disarming_flag'].apply(lambda x: 1 if x==13 else 0)"
   ]
  },
  {
   "cell_type": "code",
   "execution_count": null,
   "id": "67365892-f351-4f2c-a69c-aa587bec5690",
   "metadata": {},
   "outputs": [],
   "source": [
    "Arming_DF_wide.head()"
   ]
  },
  {
   "cell_type": "code",
   "execution_count": null,
   "id": "0164ce84-766d-4aae-a52a-ebdbdc205a9f",
   "metadata": {},
   "outputs": [],
   "source": [
    "Arming_DF_wide.columns=['customer_id','Arming_count_last13_days','Disarming_count_last13_days','consecutive_arming_last13_flag','consecutive_disarming_last13_flag']"
   ]
  },
  {
   "cell_type": "code",
   "execution_count": null,
   "id": "af3aac0d-6ed1-43a9-b03e-04428b85f7a6",
   "metadata": {},
   "outputs": [],
   "source": [
    "Arming_DF_wide.head()"
   ]
  },
  {
   "cell_type": "code",
   "execution_count": null,
   "id": "bf25c448-3aac-4f99-beb7-29f2dfb033f9",
   "metadata": {},
   "outputs": [],
   "source": [
    "config= bigquery.job.LoadJobConfig()\n",
    "\n",
    "# config._properties['timePartitioning'] = {'field': 'Month_Year'}\n",
    "config.write_disposition = bigquery.WriteDisposition.WRITE_TRUNCATE\n",
    "\n",
    "Table_BQ = 'ADC.Arming_Sep8_Sep20'\n",
    "\n",
    "bq_table_instance= bq_client.load_table_from_dataframe(Arming_DF_wide, Table_BQ,job_config=config)"
   ]
  },
  {
   "cell_type": "code",
   "execution_count": null,
   "id": "72a8bcae-3832-4263-be14-81af0d0a98b6",
   "metadata": {},
   "outputs": [],
   "source": []
  }
 ],
 "metadata": {
  "kernelspec": {
   "display_name": "Python 3 (ipykernel)",
   "language": "python",
   "name": "python3"
  },
  "language_info": {
   "codemirror_mode": {
    "name": "ipython",
    "version": 3
   },
   "file_extension": ".py",
   "mimetype": "text/x-python",
   "name": "python",
   "nbconvert_exporter": "python",
   "pygments_lexer": "ipython3",
   "version": "3.7.12"
  }
 },
 "nbformat": 4,
 "nbformat_minor": 5
}
