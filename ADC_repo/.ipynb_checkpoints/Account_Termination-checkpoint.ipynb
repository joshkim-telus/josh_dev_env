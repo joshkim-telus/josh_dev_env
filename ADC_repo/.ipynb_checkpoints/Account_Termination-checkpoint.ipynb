{
 "cells": [
  {
   "cell_type": "code",
   "execution_count": null,
   "id": "33416324-3be2-4a32-9abd-aca44a7a2fb8",
   "metadata": {},
   "outputs": [],
   "source": [
    "#### import global modules\n",
    "import os\n",
    "import sys\n",
    "import pandas as pd\n",
    "from pathlib import Path\n",
    "from yaml import safe_load\n",
    "import google.oauth2.credentials\n",
    "from google.cloud import bigquery\n",
    "\n",
    "# Set global vars\n",
    "pth_project = Path(os.getcwd().split('notebooks')[0])\n",
    "pth_data = pth_project / 'data'\n",
    "pth_queries = pth_project / 'core' / 'queries'\n",
    "pth_creds = pth_project / 'conf' / 'local' / 'project_config.yaml'\n",
    "sys.path.insert(0, str(pth_project))\n",
    "d_project_config = safe_load(pth_creds.open())\n",
    "# d_params = safe_load((pth_project / 'core' / 'parameters' / 'common.yaml').open())['data_extract']\n",
    "\n",
    "# import local modules\n",
    "from core.utils.gcp import connect_bq_services\n",
    "# from core.etl.extract import extract_bq_data, extract_pr_codes, format_conv_df, filter_convs\n",
    "\n",
    "# Connect to google services\n",
    "bq_client = connect_bq_services(d_project_config['gcp-project-name'])\n",
    "pd.options.display.max_rows = 100"
   ]
  },
  {
   "cell_type": "code",
   "execution_count": null,
   "id": "a85fb0f9-6a34-4fea-968c-45f0e95a3d48",
   "metadata": {},
   "outputs": [],
   "source": [
    "def extract_bq_data(bq_client, sql=None, pth_query=None):\n",
    "    if sql is not None:\n",
    "        df = bq_client.query(sql).to_dataframe()\n",
    "    elif pth_query is not None:\n",
    "        sql = pth_query.read_text()\n",
    "        df = bq_client.query(sql).to_dataframe()\n",
    "    else:\n",
    "        raise ValueError('`sql` or `pth_query` should be set')  \n",
    "    return df"
   ]
  },
  {
   "cell_type": "code",
   "execution_count": null,
   "id": "889732b9-02d3-4773-b015-0d931062596d",
   "metadata": {},
   "outputs": [],
   "source": [
    "Query_Termination_details='''\n",
    "\n",
    "select * from `cio-datahub-enterprise-pr-183a.src_adc.bq_customer_account_terminated_details`\n",
    "\n",
    "'''"
   ]
  },
  {
   "cell_type": "code",
   "execution_count": null,
   "id": "35f1e14c-c1f9-4917-81fb-218f52987bb2",
   "metadata": {},
   "outputs": [],
   "source": [
    "Query_Termination_reason_lookup='''\n",
    "\n",
    "select * from `cio-datahub-enterprise-pr-183a.src_adc.bq_termination_reason`\n",
    "\n",
    "'''"
   ]
  },
  {
   "cell_type": "code",
   "execution_count": null,
   "id": "8c531c1c-f070-4dd1-a723-050e69f84bcc",
   "metadata": {},
   "outputs": [],
   "source": [
    "Termination_DF= extract_bq_data(bq_client,sql=Query_Termination_details)"
   ]
  },
  {
   "cell_type": "code",
   "execution_count": null,
   "id": "da471ef1-16a8-4603-bf34-26f1e292a7cb",
   "metadata": {},
   "outputs": [],
   "source": [
    "Termination_DF.info()"
   ]
  },
  {
   "cell_type": "code",
   "execution_count": null,
   "id": "9ce037ae-e571-4c28-a3d4-a092048ef806",
   "metadata": {},
   "outputs": [],
   "source": [
    "Termination_DF['term_date'].min(),Termination_DF['term_date'].max()"
   ]
  },
  {
   "cell_type": "code",
   "execution_count": null,
   "id": "1909aa31-0e14-44f4-8209-576900458465",
   "metadata": {},
   "outputs": [],
   "source": [
    "Termination_DF['term_reason'].value_counts()"
   ]
  },
  {
   "cell_type": "code",
   "execution_count": null,
   "id": "7c576cf6-1ecc-4154-8173-0d686e755734",
   "metadata": {},
   "outputs": [],
   "source": [
    "Termination_DF['account_recycle_reason_id'].value_counts()"
   ]
  },
  {
   "cell_type": "code",
   "execution_count": null,
   "id": "83b4451a-d8ba-4e9b-b236-9aad152f1443",
   "metadata": {},
   "outputs": [],
   "source": [
    "Termination_DF['account_recycle_reason_type_desc'].value_counts()"
   ]
  },
  {
   "cell_type": "code",
   "execution_count": null,
   "id": "4ea59328-a751-474b-adca-a947516cad99",
   "metadata": {},
   "outputs": [],
   "source": [
    "Termination_DF_Aug2022= Termination_DF[(Termination_DF['term_date']<'2022-09-01') & (Termination_DF['term_date']>='2022-08-01')]"
   ]
  },
  {
   "cell_type": "code",
   "execution_count": null,
   "id": "b9bfca63-5af2-49bb-8d49-e6eff40ebe82",
   "metadata": {},
   "outputs": [],
   "source": [
    "Termination_DF_Aug2022.info()"
   ]
  },
  {
   "cell_type": "code",
   "execution_count": null,
   "id": "fcafb6aa-babc-42e3-999c-277d6d0837d4",
   "metadata": {},
   "outputs": [],
   "source": []
  },
  {
   "cell_type": "code",
   "execution_count": null,
   "id": "877f77bf-c68b-4379-9aa7-d4f7285cded2",
   "metadata": {},
   "outputs": [],
   "source": [
    "Termination_lookup_DF= extract_bq_data(bq_client,sql=Query_Termination_reason_lookup)"
   ]
  },
  {
   "cell_type": "code",
   "execution_count": null,
   "id": "35e73938-d464-41f3-99a0-305adc7b0d9b",
   "metadata": {},
   "outputs": [],
   "source": [
    "Termination_lookup_DF.info()"
   ]
  },
  {
   "cell_type": "code",
   "execution_count": null,
   "id": "ae39e62d-1856-46ea-aa59-94dcd35b74be",
   "metadata": {},
   "outputs": [],
   "source": [
    "Termination_lookup_DF.sort_values('term_id')"
   ]
  },
  {
   "cell_type": "code",
   "execution_count": null,
   "id": "1bc928ac-2af1-4bc4-a7a4-e843fcbdc90f",
   "metadata": {},
   "outputs": [],
   "source": [
    "Customer_Detail_Query= '''\n",
    "\n",
    "SELECT a.*  FROM `cio-datahub-enterprise-pr-183a.src_adc.bq_customer_account_details` as a\n",
    "left join `cio-datahub-enterprise-pr-183a.src_adc.bq_customer_account_terminated_details` as b\n",
    "on a.customer_id=b.customer_id WHERE b.customer_id IS NULL\n",
    "and a.last_updt_ts=(SELECT MAX(st1.last_updt_ts) FROM `cio-datahub-enterprise-pr-183a.src_adc.bq_customer_account_details` AS st1) \n",
    "\n",
    "\n",
    "\n",
    "'''"
   ]
  },
  {
   "cell_type": "code",
   "execution_count": null,
   "id": "3d0a629b-d6b5-48c5-90a3-2ce13ae77b2b",
   "metadata": {},
   "outputs": [],
   "source": [
    "Customer_DF= extract_bq_data(bq_client,sql=Customer_Detail_Query)"
   ]
  },
  {
   "cell_type": "code",
   "execution_count": null,
   "id": "12888f8c-f5af-48dd-87df-f6d29e0c58fe",
   "metadata": {},
   "outputs": [],
   "source": [
    "Customer_DF=Customer_DF[Customer_DF['customer_type_name']=='Customer']"
   ]
  },
  {
   "cell_type": "code",
   "execution_count": null,
   "id": "579d8d25-7873-487f-b106-2fb4845c1b03",
   "metadata": {},
   "outputs": [],
   "source": [
    "Customer_DF.info()"
   ]
  },
  {
   "cell_type": "code",
   "execution_count": null,
   "id": "4b6fe5b6-2df2-4ea1-b8f7-d345a349cad2",
   "metadata": {},
   "outputs": [],
   "source": [
    "Customer_DF['dealer_name'].value_counts()"
   ]
  },
  {
   "cell_type": "code",
   "execution_count": null,
   "id": "3e4c0dcf-2d64-421a-a128-cea2f5ef18be",
   "metadata": {},
   "outputs": [],
   "source": [
    "Customer_DF['customer_type_name'].value_counts()"
   ]
  },
  {
   "cell_type": "code",
   "execution_count": null,
   "id": "74b31b26-1688-4822-a927-dc1518ad5cbd",
   "metadata": {},
   "outputs": [],
   "source": [
    "Customer_DF['account_recycle_reason_type_desc'].value_counts()"
   ]
  },
  {
   "cell_type": "code",
   "execution_count": null,
   "id": "97c39b34-d5c6-4de2-b451-cf208effe5cc",
   "metadata": {},
   "outputs": [],
   "source": [
    "Customer_DF['account_type_name'].value_counts()"
   ]
  },
  {
   "cell_type": "code",
   "execution_count": null,
   "id": "9bac28ac-8a3a-48cb-b83a-ea0159eada09",
   "metadata": {},
   "outputs": [],
   "source": [
    "Customer_DF_1=Customer_DF[Customer_DF['account_type_name']!='Standalone']"
   ]
  },
  {
   "cell_type": "code",
   "execution_count": null,
   "id": "35ccf499-be79-4c88-8a43-873fd8d7dc38",
   "metadata": {},
   "outputs": [],
   "source": [
    "Customer_DF_1['dealer_name'].value_counts()"
   ]
  },
  {
   "cell_type": "code",
   "execution_count": null,
   "id": "bd1ab2e3-154f-49a5-9449-38b6abb4a6ea",
   "metadata": {},
   "outputs": [],
   "source": [
    "Customer_DF_1.info()"
   ]
  },
  {
   "cell_type": "code",
   "execution_count": null,
   "id": "ec10865f-73a1-4e57-ac5a-1df2be7c435b",
   "metadata": {},
   "outputs": [],
   "source": []
  }
 ],
 "metadata": {
  "kernelspec": {
   "display_name": "Python 3 (ipykernel)",
   "language": "python",
   "name": "python3"
  },
  "language_info": {
   "codemirror_mode": {
    "name": "ipython",
    "version": 3
   },
   "file_extension": ".py",
   "mimetype": "text/x-python",
   "name": "python",
   "nbconvert_exporter": "python",
   "pygments_lexer": "ipython3",
   "version": "3.8.12"
  }
 },
 "nbformat": 4,
 "nbformat_minor": 5
}
