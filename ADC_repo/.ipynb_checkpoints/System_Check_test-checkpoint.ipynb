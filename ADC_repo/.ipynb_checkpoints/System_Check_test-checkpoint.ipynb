{
 "cells": [
  {
   "cell_type": "code",
   "execution_count": null,
   "id": "9906b976-8235-4e02-b13d-b60baa4f8ae0",
   "metadata": {},
   "outputs": [],
   "source": [
    "#### import global modules\n",
    "import os\n",
    "import sys\n",
    "import pandas as pd\n",
    "from pathlib import Path\n",
    "from yaml import safe_load\n",
    "import google.oauth2.credentials\n",
    "from google.cloud import bigquery\n",
    "import numpy as np\n",
    "# Set global vars\n",
    "pth_project = Path(os.getcwd().split('notebooks')[0])\n",
    "pth_data = pth_project / 'data'\n",
    "pth_queries = pth_project / 'core' / 'queries'\n",
    "pth_creds = pth_project / 'conf' / 'local' / 'project_config.yaml'\n",
    "sys.path.insert(0, str(pth_project))\n",
    "d_project_config = safe_load(pth_creds.open())\n",
    "# d_params = safe_load((pth_project / 'core' / 'parameters' / 'common.yaml').open())['data_extract']\n",
    "\n",
    "# import local modules\n",
    "from core.utils.gcp import connect_bq_services\n",
    "# from core.etl.extract import extract_bq_data, extract_pr_codes, format_conv_df, filter_convs\n",
    "\n",
    "# Connect to google services\n",
    "bq_client = connect_bq_services(d_project_config['gcp-project-name'])\n",
    "pd.options.display.max_rows = 100"
   ]
  },
  {
   "cell_type": "code",
   "execution_count": null,
   "id": "d8ab7429-a26f-4d97-8049-038491d83415",
   "metadata": {},
   "outputs": [],
   "source": [
    "def extract_bq_data(bq_client, sql=None, pth_query=None):\n",
    "    if sql is not None:\n",
    "        df = bq_client.query(sql).to_dataframe()\n",
    "    elif pth_query is not None:\n",
    "        sql = pth_query.read_text()\n",
    "        df = bq_client.query(sql).to_dataframe()\n",
    "    else:\n",
    "        raise ValueError('`sql` or `pth_query` should be set')  \n",
    "    return df"
   ]
  },
  {
   "cell_type": "code",
   "execution_count": null,
   "id": "f48e99d6-2da5-4c6f-a787-05a3156531ec",
   "metadata": {},
   "outputs": [],
   "source": [
    "System_Check_test_Query='''\n",
    "\n",
    "select * from `cio-datahub-enterprise-pr-183a.src_adc.bq_system_check_test_items`\n",
    "\n",
    "'''"
   ]
  },
  {
   "cell_type": "code",
   "execution_count": null,
   "id": "8b8b9226-4d1d-4c22-9df2-d29d282c39bf",
   "metadata": {},
   "outputs": [],
   "source": [
    "System_Check_test_DF= extract_bq_data(bq_client,sql=System_Check_test_Query)"
   ]
  },
  {
   "cell_type": "code",
   "execution_count": null,
   "id": "af7cf931-db6c-435e-8e03-8dd05cf00e12",
   "metadata": {},
   "outputs": [],
   "source": [
    "System_Check_test_DF.info()"
   ]
  },
  {
   "cell_type": "code",
   "execution_count": null,
   "id": "1477b27f-50b8-4de6-9a52-3e34aa441b4b",
   "metadata": {},
   "outputs": [],
   "source": [
    "System_Check_test_DF.head()"
   ]
  },
  {
   "cell_type": "code",
   "execution_count": null,
   "id": "fd1d3eb9-051b-48db-8271-7564152f26d5",
   "metadata": {},
   "outputs": [],
   "source": [
    "System_Check_test_DF['start_date_utc'].min(),System_Check_test_DF['start_date_utc'].max()"
   ]
  },
  {
   "cell_type": "code",
   "execution_count": null,
   "id": "f2a5e185-3222-4207-99ac-deb74253a9b8",
   "metadata": {},
   "outputs": [],
   "source": [
    "System_Check_test_DF['test_desc'].value_counts(normalize=True)*100"
   ]
  },
  {
   "cell_type": "code",
   "execution_count": null,
   "id": "dfa12c3b-8696-4a2c-8aaf-e81a6ddf3dde",
   "metadata": {},
   "outputs": [],
   "source": [
    "System_Check_test_DF['test_category_desc'].value_counts(normalize=True)*100"
   ]
  },
  {
   "cell_type": "code",
   "execution_count": null,
   "id": "5112d845-b2d6-4175-a4ba-fc207296f751",
   "metadata": {},
   "outputs": [],
   "source": [
    "System_Check_test_DF['test_status_type_desc'].value_counts(normalize=True)*100"
   ]
  },
  {
   "cell_type": "code",
   "execution_count": null,
   "id": "ae984e20-e682-4bb0-8439-30f932cccf71",
   "metadata": {},
   "outputs": [],
   "source": [
    "System_Check_test_DF['number_of_attempts'].value_counts(normalize=True)*100"
   ]
  },
  {
   "cell_type": "code",
   "execution_count": null,
   "id": "339490e0-cd42-4a33-8b4b-723d77a980ee",
   "metadata": {},
   "outputs": [],
   "source": [
    "System_Check_test_DF['test_result_type_desc'].value_counts(normalize=True)*100"
   ]
  },
  {
   "cell_type": "code",
   "execution_count": null,
   "id": "a5a24f07-4c52-4daf-8fab-56c866d4e633",
   "metadata": {},
   "outputs": [],
   "source": [
    "System_Check_test_DF['test_message_type_desc'].value_counts(normalize=True)*100"
   ]
  },
  {
   "cell_type": "code",
   "execution_count": null,
   "id": "ca0549cd-c3b5-4329-9f08-e7b3534978ef",
   "metadata": {},
   "outputs": [],
   "source": [
    "System_Check_test_DF['message'].value_counts(normalize=True)*100"
   ]
  },
  {
   "cell_type": "code",
   "execution_count": null,
   "id": "42f6040c-a732-4b1c-aa95-df4696b4ee03",
   "metadata": {},
   "outputs": [],
   "source": [
    "System_Check_test_DF['Month_year'] = System_Check_test_DF['start_date_utc'].dt.to_period('M')"
   ]
  },
  {
   "cell_type": "code",
   "execution_count": null,
   "id": "1ac4b929-e2a0-4ffe-b912-717fee115504",
   "metadata": {},
   "outputs": [],
   "source": [
    "System_Check_test_DF['Month_Year_1'] = System_Check_test_DF['Month_year'].astype(str)\n",
    "System_Check_test_DF['Month_Year_1'] = pd.to_datetime(System_Check_test_DF['Month_Year_1'])"
   ]
  },
  {
   "cell_type": "code",
   "execution_count": null,
   "id": "bce13209-bf7a-4bda-8736-9bc55e65d5fb",
   "metadata": {},
   "outputs": [],
   "source": [
    "System_Check_test_DF = System_Check_test_DF.drop('Month_year', axis=1)"
   ]
  },
  {
   "cell_type": "code",
   "execution_count": null,
   "id": "33f26088-cac1-4b6e-b997-49424bbe3bc9",
   "metadata": {},
   "outputs": [],
   "source": [
    "System_Check_test_DF=System_Check_test_DF.rename(columns={\"Month_Year_1\": \"Month_year\"})"
   ]
  },
  {
   "cell_type": "code",
   "execution_count": null,
   "id": "b658c2c0-3f7c-4a2b-8ca3-c7286cf665b4",
   "metadata": {},
   "outputs": [],
   "source": [
    "System_Check_test_DF['count_instance']=1"
   ]
  },
  {
   "cell_type": "code",
   "execution_count": null,
   "id": "ed830e9c-f8d5-4cb5-a108-76927f0b305d",
   "metadata": {},
   "outputs": [],
   "source": [
    "System_Check_test_DF['Check_Succes']=System_Check_test_DF['test_result_type_desc'].apply(lambda x: 1 if x=='Success' else 0)"
   ]
  },
  {
   "cell_type": "code",
   "execution_count": null,
   "id": "0b792ba9-0427-4f77-979d-c38f1ae5540d",
   "metadata": {},
   "outputs": [],
   "source": [
    "System_Check_test_DF['Check_Succes'].value_counts(normalize=True)*100"
   ]
  },
  {
   "cell_type": "code",
   "execution_count": null,
   "id": "2f48dc60-13ce-42ec-9ab3-831ef7ff573b",
   "metadata": {},
   "outputs": [],
   "source": [
    "System_Check_test_DF.head()"
   ]
  },
  {
   "cell_type": "code",
   "execution_count": null,
   "id": "f08b8f30-5a3c-4ebc-9cb5-41170e3105ae",
   "metadata": {},
   "outputs": [],
   "source": [
    "# perc_func = lambda x: 100*x.count()/df.shape[0]\n",
    "\n",
    "System_Check_test_pivot=pd.pivot_table(System_Check_test_DF, values=['count_instance','Check_Succes'], index=['Month_year','customer_id'], columns='test_category_desc',\n",
    "                          aggfunc={'count_instance': np.sum,'Check_Succes':np.sum}).reset_index()"
   ]
  },
  {
   "cell_type": "code",
   "execution_count": null,
   "id": "85b56572-4e78-43e0-9894-8514ffd3bad8",
   "metadata": {},
   "outputs": [],
   "source": [
    "System_Check_test_pivot.head()"
   ]
  },
  {
   "cell_type": "code",
   "execution_count": null,
   "id": "6e6625c2-1b49-4427-9071-598b8c2b9ee9",
   "metadata": {},
   "outputs": [],
   "source": [
    "System_Check_test_pivot.columns"
   ]
  },
  {
   "cell_type": "code",
   "execution_count": null,
   "id": "43bb1817-d22a-4e49-98d8-e16ca98aeff1",
   "metadata": {},
   "outputs": [],
   "source": [
    "System_Check_test_pivot.columns=['Month_Year','customer_id','Access_Control_test_Success_count','AccessPoints_test_Success_count','Communications_test_Success_count','Engagement_test_Success_count','ImageSensor_test_Success_count','Monitoring_Success_count','Panel_Success_count','Sensors_Succces_count','Video_Success_count','Z_wave_Success_count','Access_Control_test_count','AccessPoints_test_count','Communications_test_count','Engagement_test_count','ImageSensor_test_count','Monitoring_test_count','Panel_test_count','Sensors_test_count','Video_test_count','Z_wave_test_count']"
   ]
  },
  {
   "cell_type": "code",
   "execution_count": null,
   "id": "c4116cfd-a398-4117-bd46-53d5855fa15a",
   "metadata": {},
   "outputs": [],
   "source": [
    "System_Check_test_pivot.head()"
   ]
  },
  {
   "cell_type": "code",
   "execution_count": null,
   "id": "e5f52f51-060c-4598-8ef2-4460e35f2896",
   "metadata": {},
   "outputs": [],
   "source": [
    "System_Check_test_pivot.isnull().sum() * 100 / len(System_Check_test_pivot)"
   ]
  },
  {
   "cell_type": "code",
   "execution_count": null,
   "id": "be6e4d01-8f5f-46a1-8a99-55b7e15610bb",
   "metadata": {},
   "outputs": [],
   "source": [
    "System_Check_test_pivot.isna().sum() * 100 / len(System_Check_test_pivot)"
   ]
  },
  {
   "cell_type": "code",
   "execution_count": null,
   "id": "8050e99a-d657-41fb-ac78-ed97778da59e",
   "metadata": {},
   "outputs": [],
   "source": [
    "System_Check_test_pivot.update(System_Check_test_pivot[['Access_Control_test_Success_count','AccessPoints_test_Success_count','Communications_test_Success_count','Engagement_test_Success_count','ImageSensor_test_Success_count','Monitoring_Success_count','Panel_Success_count','Sensors_Succces_count','Video_Success_count','Z_wave_Success_count','Access_Control_test_count','AccessPoints_test_count','Communications_test_count','Engagement_test_count','ImageSensor_test_count','Monitoring_test_count','Panel_test_count','Sensors_test_count','Video_test_count','Z_wave_test_count']].fillna(0))"
   ]
  },
  {
   "cell_type": "code",
   "execution_count": null,
   "id": "ea563841-8ae1-47a3-9b25-a95fb623fe94",
   "metadata": {},
   "outputs": [],
   "source": [
    "System_Check_test_pivot.isna().sum() * 100 / len(System_Check_test_pivot)"
   ]
  },
  {
   "cell_type": "code",
   "execution_count": null,
   "id": "4a0aa7ea-5756-4c5c-af3a-9fbb5357fdbb",
   "metadata": {},
   "outputs": [],
   "source": []
  },
  {
   "cell_type": "code",
   "execution_count": null,
   "id": "2e0373f4-2b0e-4a01-8fe1-47206fdcc17e",
   "metadata": {},
   "outputs": [],
   "source": [
    "System_Check_test_pivot=System_Check_test_pivot.sort_values(['customer_id','Month_Year'])"
   ]
  },
  {
   "cell_type": "code",
   "execution_count": null,
   "id": "db19e9a5-5423-428a-918e-1f3f5c32e54d",
   "metadata": {},
   "outputs": [],
   "source": [
    "System_Check_test_pivot.head()"
   ]
  },
  {
   "cell_type": "code",
   "execution_count": null,
   "id": "0fe0e854-aed0-4d8a-bdf8-ca844df413f7",
   "metadata": {},
   "outputs": [],
   "source": [
    "config= bigquery.job.LoadJobConfig()\n",
    "\n",
    "config._properties['timePartitioning'] = {'field': 'Month_Year'}\n",
    "config.write_disposition = bigquery.WriteDisposition.WRITE_TRUNCATE\n",
    "\n",
    "Table_BQ = 'ADC.System_Check_test_All'\n",
    "\n",
    "bq_table_instance= bq_client.load_table_from_dataframe(System_Check_test_pivot, Table_BQ,job_config=config)"
   ]
  },
  {
   "cell_type": "code",
   "execution_count": null,
   "id": "aacc1a83-3a00-48e8-b34c-58fac941c0c7",
   "metadata": {},
   "outputs": [],
   "source": [
    "start_date = '2022-05-01'\n",
    "end_date = '2022-08-01'\n",
    "last_3months = (System_Check_test_pivot['Month_Year'] >= start_date) & (System_Check_test_pivot['Month_Year'] < end_date)\n",
    "\n",
    "\n",
    "\n",
    "\n"
   ]
  },
  {
   "cell_type": "code",
   "execution_count": null,
   "id": "e4fcd991-7dcb-4803-95bb-4a5c97f3689c",
   "metadata": {},
   "outputs": [],
   "source": [
    "System_Check_test_pivot_1=System_Check_test_pivot[last_3months]"
   ]
  },
  {
   "cell_type": "code",
   "execution_count": null,
   "id": "ea13312d-721b-4383-92bc-43a78ade5606",
   "metadata": {},
   "outputs": [],
   "source": [
    "System_Check_test_pivot_1.info()"
   ]
  },
  {
   "cell_type": "code",
   "execution_count": null,
   "id": "8bcf69f0-2bcf-4eca-b500-2773c6d6e951",
   "metadata": {},
   "outputs": [],
   "source": [
    "System_Check_test_wide=System_Check_test_pivot_1.groupby(['customer_id']).agg({'Access_Control_test_Success_count':'sum','AccessPoints_test_Success_count':'sum'\n",
    "                                                                               ,'Communications_test_Success_count':'sum','Engagement_test_Success_count':'sum'\n",
    "                                                                               ,'ImageSensor_test_Success_count':'sum','Monitoring_Success_count':'sum'\n",
    "                                                                               ,'Panel_Success_count':'sum','Sensors_Succces_count':'sum','Video_Success_count':'sum','Z_wave_Success_count':'sum'\n",
    "                                                                               ,'Access_Control_test_count':'sum','AccessPoints_test_count':'sum'\n",
    "                                                                               ,'Communications_test_count':'sum','Engagement_test_count':'sum','ImageSensor_test_count':'sum'\n",
    "                                                                               ,'Monitoring_test_count':'sum','Panel_test_count':'sum','Sensors_test_count':'sum'\n",
    "                                                                               ,'Video_test_count':'sum','Z_wave_test_count':'sum'}).reset_index()"
   ]
  },
  {
   "cell_type": "code",
   "execution_count": null,
   "id": "e0a57e1b-9052-463a-93e5-42231b373da5",
   "metadata": {},
   "outputs": [],
   "source": [
    "System_Check_test_wide.columns"
   ]
  },
  {
   "cell_type": "code",
   "execution_count": null,
   "id": "6210608a-1f88-4bd2-8f3b-ac82711df555",
   "metadata": {},
   "outputs": [],
   "source": [
    "System_Check_test_wide.head()"
   ]
  },
  {
   "cell_type": "code",
   "execution_count": null,
   "id": "d9d9b43a-7df1-4244-aebf-2174a810580e",
   "metadata": {},
   "outputs": [],
   "source": []
  },
  {
   "cell_type": "code",
   "execution_count": null,
   "id": "8f2aebf0-0ff2-425f-86b5-244aed55e3da",
   "metadata": {},
   "outputs": [],
   "source": [
    "System_Check_test_wide.columns=['customer_id', 'Access_Control_test_Success_count_last3M',\n",
    "       'AccessPoints_test_Success_count_last3M', 'Communications_test_Success_count_last3M',\n",
    "       'Engagement_test_Success_count_last3M', 'ImageSensor_test_Success_count_last3M',\n",
    "       'Monitoring_Success_count_last3M', 'Panel_Success_count_last3M',\n",
    "       'Sensors_Succces_count_last3M', 'Video_Success_count_last3M', 'Z_wave_Success_count_last3M',\n",
    "       'Access_Control_test_count_last3M', 'AccessPoints_test_count_last3M',\n",
    "       'Communications_test_count_last3M', 'Engagement_test_count_last3M',\n",
    "       'ImageSensor_test_count_last3M', 'Monitoring_test_count_last3M', 'Panel_test_count_last3M',\n",
    "       'Sensors_test_count_last3M', 'Video_test_count_last3M', 'Z_wave_test_count_last3M']"
   ]
  },
  {
   "cell_type": "code",
   "execution_count": null,
   "id": "32be0f50-48c3-408d-b72d-12b4b5af1b69",
   "metadata": {},
   "outputs": [],
   "source": [
    "System_Check_test_wide.head()"
   ]
  },
  {
   "cell_type": "code",
   "execution_count": null,
   "id": "0b8ede35-7e3f-43d8-a19a-e2b8a25225b9",
   "metadata": {},
   "outputs": [],
   "source": [
    "System_Check_test_wide['Access_Control_test_Success_rate_last3M']=System_Check_test_wide['Access_Control_test_Success_count_last3M']*100/System_Check_test_wide['Access_Control_test_count_last3M']\n",
    "\n",
    "System_Check_test_wide['AccessPoints_test_Success_rate_last3M']=System_Check_test_wide['AccessPoints_test_Success_count_last3M']*100/System_Check_test_wide['AccessPoints_test_count_last3M']\n",
    "\n",
    "System_Check_test_wide['Communications_test_Success_rate_last3M']=System_Check_test_wide['Communications_test_Success_count_last3M']*100/System_Check_test_wide['Communications_test_count_last3M']\n",
    "\n",
    "System_Check_test_wide['Engagement_test_Success_rate_last3M']=System_Check_test_wide['Engagement_test_Success_count_last3M']*100/System_Check_test_wide['Engagement_test_count_last3M']\n",
    "\n",
    "System_Check_test_wide['ImageSensor_test_Success_rate_last3M']=System_Check_test_wide['ImageSensor_test_Success_count_last3M']*100/System_Check_test_wide['ImageSensor_test_count_last3M']\n",
    "\n",
    "System_Check_test_wide['Monitoring_Success_rate_last3M']=System_Check_test_wide['Monitoring_Success_count_last3M']*100/System_Check_test_wide['Monitoring_test_count_last3M']\n",
    "\n",
    "System_Check_test_wide['Panel_Success_rate_last3M']=System_Check_test_wide['Panel_Success_count_last3M']*100/System_Check_test_wide['Panel_test_count_last3M']\n",
    "\n",
    "System_Check_test_wide['Sensors_Succces_rate_last3M']=System_Check_test_wide['Sensors_Succces_count_last3M']*100/System_Check_test_wide['Sensors_test_count_last3M']\n",
    "\n",
    "System_Check_test_wide['Video_Success_rate_last3M']=System_Check_test_wide['Video_Success_count_last3M']*100/System_Check_test_wide['Video_test_count_last3M']\n",
    "\n",
    "System_Check_test_wide['Z_wave_Success_rate_last3M']=System_Check_test_wide['Z_wave_Success_count_last3M']*100/System_Check_test_wide['Z_wave_test_count_last3M']\n",
    "\n",
    "\n"
   ]
  },
  {
   "cell_type": "code",
   "execution_count": null,
   "id": "fa0df682-6c9e-491b-aa19-99b1bfe5cc9e",
   "metadata": {},
   "outputs": [],
   "source": [
    "System_Check_test_wide.info()"
   ]
  },
  {
   "cell_type": "code",
   "execution_count": null,
   "id": "4a741d13-b0a8-4a45-b08d-40f878c9ef22",
   "metadata": {},
   "outputs": [],
   "source": [
    "System_Check_test_wide.isna().sum()/System_Check_test_wide.shape[0]"
   ]
  },
  {
   "cell_type": "code",
   "execution_count": null,
   "id": "47692190-e276-40aa-b0f8-0cc8d411af9f",
   "metadata": {},
   "outputs": [],
   "source": [
    "System_Check_test_wide.fillna(0,inplace=True)"
   ]
  },
  {
   "cell_type": "code",
   "execution_count": null,
   "id": "8aa1c085-34ee-4478-bd25-9cea7f12153f",
   "metadata": {},
   "outputs": [],
   "source": [
    "config= bigquery.job.LoadJobConfig()\n",
    "\n",
    "\n",
    "config.write_disposition = bigquery.WriteDisposition.WRITE_TRUNCATE\n",
    "\n",
    "\n",
    "Table_BQ = 'ADC.System_Check_last3months_May2022_Aug2022'\n",
    "\n",
    "job_device_type= bq_client.load_table_from_dataframe(System_Check_test_wide, Table_BQ,job_config=config)"
   ]
  },
  {
   "cell_type": "markdown",
   "id": "3bc27111-5f2c-4b21-a2b1-94a124b02ec9",
   "metadata": {},
   "source": [
    "### Last 1 month Activity"
   ]
  },
  {
   "cell_type": "code",
   "execution_count": null,
   "id": "e46c91f9-743d-48b6-8e30-0209aef613c4",
   "metadata": {},
   "outputs": [],
   "source": [
    "start_date = '2022-07-01'\n",
    "end_date = '2022-08-01'\n",
    "last_1month = (System_Check_test_pivot['Month_Year'] >= start_date) & (System_Check_test_pivot['Month_Year'] < end_date)"
   ]
  },
  {
   "cell_type": "code",
   "execution_count": null,
   "id": "44c54ff2-572c-484f-a092-17016650a340",
   "metadata": {},
   "outputs": [],
   "source": [
    "System_Check_test_pivot_last1month=System_Check_test_pivot[last_1month]"
   ]
  },
  {
   "cell_type": "code",
   "execution_count": null,
   "id": "5e5686c2-fb95-4169-80be-0a32c4b04134",
   "metadata": {},
   "outputs": [],
   "source": [
    "System_Check_test_pivot_last1month.info()"
   ]
  },
  {
   "cell_type": "code",
   "execution_count": null,
   "id": "5f835055-0c0f-42f4-9d9f-c62c0b1e245f",
   "metadata": {},
   "outputs": [],
   "source": [
    "System_Check_test_last1month_wide=System_Check_test_pivot_last1month.groupby(['customer_id']).agg({'Access_Control_test_Success_count':'sum','AccessPoints_test_Success_count':'sum'\n",
    "                                                                               ,'Communications_test_Success_count':'sum','Engagement_test_Success_count':'sum'\n",
    "                                                                               ,'ImageSensor_test_Success_count':'sum','Monitoring_Success_count':'sum'\n",
    "                                                                               ,'Panel_Success_count':'sum','Sensors_Succces_count':'sum','Video_Success_count':'sum','Z_wave_Success_count':'sum'\n",
    "                                                                               ,'Access_Control_test_count':'sum','AccessPoints_test_count':'sum'\n",
    "                                                                               ,'Communications_test_count':'sum','Engagement_test_count':'sum','ImageSensor_test_count':'sum'\n",
    "                                                                               ,'Monitoring_test_count':'sum','Panel_test_count':'sum','Sensors_test_count':'sum'\n",
    "                                                                               ,'Video_test_count':'sum','Z_wave_test_count':'sum'}).reset_index()"
   ]
  },
  {
   "cell_type": "code",
   "execution_count": null,
   "id": "7647651c-b221-420b-aa3a-06b9884b13b0",
   "metadata": {},
   "outputs": [],
   "source": [
    "System_Check_test_last1month_wide.head()"
   ]
  },
  {
   "cell_type": "code",
   "execution_count": null,
   "id": "aaca6f00-c40e-480c-a222-43c7f7c978a4",
   "metadata": {},
   "outputs": [],
   "source": [
    "System_Check_test_last1month_wide.columns=['customer_id', 'Access_Control_test_Success_count_last1M',\n",
    "       'AccessPoints_test_Success_count_last1M', 'Communications_test_Success_count_last1M',\n",
    "       'Engagement_test_Success_count_last1M', 'ImageSensor_test_Success_count_last1M',\n",
    "       'Monitoring_Success_count_last1M', 'Panel_Success_count_last1M',\n",
    "       'Sensors_Succces_count_last1M', 'Video_Success_count_last1M', 'Z_wave_Success_count_last1M',\n",
    "       'Access_Control_test_count_last1M', 'AccessPoints_test_count_last1M',\n",
    "       'Communications_test_count_last1M', 'Engagement_test_count_last1M',\n",
    "       'ImageSensor_test_count_last1M', 'Monitoring_test_count_last1M', 'Panel_test_count_last1M',\n",
    "       'Sensors_test_count_last1M', 'Video_test_count_last1M', 'Z_wave_test_count_last1M']"
   ]
  },
  {
   "cell_type": "code",
   "execution_count": null,
   "id": "b0141d43-398b-44e6-9b22-e0f442d9fa60",
   "metadata": {},
   "outputs": [],
   "source": [
    "System_Check_test_last1month_wide['Access_Control_test_Success_rate_last1M']=System_Check_test_last1month_wide['Access_Control_test_Success_count_last1M']*100/System_Check_test_last1month_wide['Access_Control_test_count_last1M']\n",
    "\n",
    "System_Check_test_last1month_wide['AccessPoints_test_Success_rate_last1M']=System_Check_test_last1month_wide['AccessPoints_test_Success_count_last1M']*100/System_Check_test_last1month_wide['AccessPoints_test_count_last1M']\n",
    "\n",
    "System_Check_test_last1month_wide['Communications_test_Success_rate_last1M']=System_Check_test_last1month_wide['Communications_test_Success_count_last1M']*100/System_Check_test_last1month_wide['Communications_test_count_last1M']\n",
    "\n",
    "System_Check_test_last1month_wide['Engagement_test_Success_rate_last1M']=System_Check_test_last1month_wide['Engagement_test_Success_count_last1M']*100/System_Check_test_last1month_wide['Engagement_test_count_last1M']\n",
    "\n",
    "System_Check_test_last1month_wide['ImageSensor_test_Success_rate_last1M']=System_Check_test_last1month_wide['ImageSensor_test_Success_count_last1M']*100/System_Check_test_last1month_wide['ImageSensor_test_count_last1M']\n",
    "\n",
    "System_Check_test_last1month_wide['Monitoring_Success_rate_last1M']=System_Check_test_last1month_wide['Monitoring_Success_count_last1M']*100/System_Check_test_last1month_wide['Monitoring_test_count_last1M']\n",
    "\n",
    "System_Check_test_last1month_wide['Panel_Success_rate_last1M']=System_Check_test_last1month_wide['Panel_Success_count_last1M']*100/System_Check_test_last1month_wide['Panel_test_count_last1M']\n",
    "\n",
    "System_Check_test_last1month_wide['Sensors_Succces_rate_last1M']=System_Check_test_last1month_wide['Sensors_Succces_count_last1M']*100/System_Check_test_last1month_wide['Sensors_test_count_last1M']\n",
    "\n",
    "System_Check_test_last1month_wide['Video_Success_rate_last1M']=System_Check_test_last1month_wide['Video_Success_count_last1M']*100/System_Check_test_last1month_wide['Video_test_count_last1M']\n",
    "\n",
    "System_Check_test_last1month_wide['Z_wave_Success_rate_last1M']=System_Check_test_last1month_wide['Z_wave_Success_count_last1M']*100/System_Check_test_last1month_wide['Z_wave_test_count_last1M']"
   ]
  },
  {
   "cell_type": "code",
   "execution_count": null,
   "id": "a0f165c9-2e35-43a1-a681-05f635bd9a01",
   "metadata": {},
   "outputs": [],
   "source": [
    "System_Check_test_last1month_wide.head()"
   ]
  },
  {
   "cell_type": "code",
   "execution_count": null,
   "id": "5a076d5c-306b-4dfc-a1e9-310f95d68a5c",
   "metadata": {},
   "outputs": [],
   "source": [
    "System_Check_test_last1month_wide.fillna(0,inplace=True)"
   ]
  },
  {
   "cell_type": "code",
   "execution_count": null,
   "id": "a9549cb3-fef9-4627-917a-f13870b29e90",
   "metadata": {},
   "outputs": [],
   "source": [
    "config= bigquery.job.LoadJobConfig()\n",
    "\n",
    "config.write_disposition = bigquery.WriteDisposition.WRITE_TRUNCATE\n",
    "\n",
    "Table_BQ = 'ADC.System_Check_last1month_Jul2022_Aug2022'\n",
    "\n",
    "job_device_type= bq_client.load_table_from_dataframe(System_Check_test_last1month_wide, Table_BQ,job_config=config)"
   ]
  },
  {
   "cell_type": "markdown",
   "id": "e326cbc9-7996-4620-889a-47061f81a72b",
   "metadata": {},
   "source": [
    "## Indiviual datasets, not needed for model"
   ]
  },
  {
   "cell_type": "code",
   "execution_count": null,
   "id": "c699a82a-802f-47a6-8730-a443f64935ab",
   "metadata": {},
   "outputs": [],
   "source": [
    "Access_Control_DF=pd.pivot_table(System_Check_test_DF[System_Check_test_DF['test_category_desc']=='Access Control'], values=['count_instance','Check_Succes'], index=['Month_year','customer_id'], columns='test_category_desc',\n",
    "                          aggfunc={'count_instance': np.sum,'Check_Succes':np.mean}).reset_index()"
   ]
  },
  {
   "cell_type": "code",
   "execution_count": null,
   "id": "faf115d1-a736-4f98-a0ba-03f700d9de11",
   "metadata": {},
   "outputs": [],
   "source": [
    "Access_Control_DF.head()"
   ]
  },
  {
   "cell_type": "code",
   "execution_count": null,
   "id": "00c95582-b4ed-4b6d-8843-d3093dce8b30",
   "metadata": {},
   "outputs": [],
   "source": [
    "Access_Control_DF.columns=['Month_year','customer_id','Access_Control_test_Success_rate','Access_Control_test_count']"
   ]
  },
  {
   "cell_type": "code",
   "execution_count": null,
   "id": "8abba204-45d6-4a9e-967d-df8809547837",
   "metadata": {},
   "outputs": [],
   "source": [
    "Access_Control_DF.head()"
   ]
  },
  {
   "cell_type": "code",
   "execution_count": null,
   "id": "5ae65b4e-64ed-476a-a712-376becb4bdc6",
   "metadata": {},
   "outputs": [],
   "source": [
    "config= bigquery.job.LoadJobConfig()\n",
    "\n",
    "config._properties['timePartitioning'] = {'field': 'Month_Year'}\n",
    "config.write_disposition = bigquery.WriteDisposition.WRITE_TRUNCATE\n",
    "\n",
    "Table_BQ = 'ADC.System_Check_test_AccessControl'\n",
    "\n",
    "bq_table_instance= bq_client.load_table_from_dataframe(Access_Control_DF, Table_BQ,job_config=config)"
   ]
  },
  {
   "cell_type": "code",
   "execution_count": null,
   "id": "40a2e3b6-d5ed-466a-9dc6-2d4527a7754f",
   "metadata": {},
   "outputs": [],
   "source": [
    "AccessPoints_DF=pd.pivot_table(System_Check_test_DF[System_Check_test_DF['test_category_desc']=='AccessPoints'], values=['count_instance','Check_Succes'], index=['Month_year','customer_id'], columns='test_category_desc',\n",
    "                          aggfunc={'count_instance': np.sum,'Check_Succes':np.mean}).reset_index()"
   ]
  },
  {
   "cell_type": "code",
   "execution_count": null,
   "id": "d32c9ad3-fed3-4554-a25c-3524ed519b52",
   "metadata": {},
   "outputs": [],
   "source": [
    "AccessPoints_DF.head()"
   ]
  },
  {
   "cell_type": "code",
   "execution_count": null,
   "id": "e0171668-3a29-4470-9b23-a04e3a8416cc",
   "metadata": {},
   "outputs": [],
   "source": [
    "AccessPoints_DF.columns=['Month_year','customer_id','AccessPoints_test_Success_rate','AccessPoints_test_count']"
   ]
  },
  {
   "cell_type": "code",
   "execution_count": null,
   "id": "e0b85004-e4cd-4b05-a83a-75a728350c27",
   "metadata": {},
   "outputs": [],
   "source": [
    "AccessPoints_DF.head()"
   ]
  },
  {
   "cell_type": "code",
   "execution_count": null,
   "id": "ab1e7e95-ca40-48b2-8312-35067462990d",
   "metadata": {},
   "outputs": [],
   "source": [
    "config= bigquery.job.LoadJobConfig()\n",
    "\n",
    "config._properties['timePartitioning'] = {'field': 'Month_Year'}\n",
    "config.write_disposition = bigquery.WriteDisposition.WRITE_TRUNCATE\n",
    "\n",
    "Table_BQ = 'ADC.System_Check_test_AccessPoints'\n",
    "\n",
    "bq_table_instance= bq_client.load_table_from_dataframe(AccessPoints_DF, Table_BQ,job_config=config)"
   ]
  },
  {
   "cell_type": "code",
   "execution_count": null,
   "id": "2343c13b-7838-48a6-8539-6f16496f6e7b",
   "metadata": {},
   "outputs": [],
   "source": [
    "Communications_DF=pd.pivot_table(System_Check_test_DF[System_Check_test_DF['test_category_desc']=='Communications'], values=['count_instance','Check_Succes'], index=['Month_year','customer_id'], columns='test_category_desc',\n",
    "                          aggfunc={'count_instance': np.sum,'Check_Succes':np.mean}).reset_index()"
   ]
  },
  {
   "cell_type": "code",
   "execution_count": null,
   "id": "8b1a37b5-e563-48fd-b700-4e6b3e7bc3ab",
   "metadata": {},
   "outputs": [],
   "source": [
    "Communications_DF.head()"
   ]
  },
  {
   "cell_type": "code",
   "execution_count": null,
   "id": "d84e7336-1703-480b-88cf-67d6c71538fe",
   "metadata": {},
   "outputs": [],
   "source": [
    "Communications_DF.columns=['Month_year','customer_id','Communications_test_Success_rate','Communications_test_count']"
   ]
  },
  {
   "cell_type": "code",
   "execution_count": null,
   "id": "6a686acf-c2e1-4604-9b79-138aaec0524d",
   "metadata": {},
   "outputs": [],
   "source": [
    "Communications_DF.head()"
   ]
  },
  {
   "cell_type": "code",
   "execution_count": null,
   "id": "e45e4c89-3ae9-4448-980a-0ead27a82caa",
   "metadata": {},
   "outputs": [],
   "source": [
    "config= bigquery.job.LoadJobConfig()\n",
    "\n",
    "config._properties['timePartitioning'] = {'field': 'Month_Year'}\n",
    "config.write_disposition = bigquery.WriteDisposition.WRITE_TRUNCATE\n",
    "\n",
    "Table_BQ = 'ADC.System_Check_test_Communications'\n",
    "\n",
    "bq_table_instance= bq_client.load_table_from_dataframe(Communications_DF, Table_BQ,job_config=config)"
   ]
  },
  {
   "cell_type": "code",
   "execution_count": null,
   "id": "f67ec7e6-25ef-47bd-aff3-241e661de3e7",
   "metadata": {},
   "outputs": [],
   "source": [
    "Engagement_DF=pd.pivot_table(System_Check_test_DF[System_Check_test_DF['test_category_desc']=='Engagement'], values=['count_instance','Check_Succes'], index=['Month_year','customer_id'], columns='test_category_desc',\n",
    "                          aggfunc={'count_instance': np.sum,'Check_Succes':np.mean}).reset_index()"
   ]
  },
  {
   "cell_type": "code",
   "execution_count": null,
   "id": "25516d2b-fdfd-48ce-811b-761124661c1d",
   "metadata": {},
   "outputs": [],
   "source": [
    "Engagement_DF.head()"
   ]
  },
  {
   "cell_type": "code",
   "execution_count": null,
   "id": "b620842d-754e-4389-ae0d-c66f66ba3c4e",
   "metadata": {},
   "outputs": [],
   "source": [
    "Engagement_DF.columns=['Month_year','customer_id','Engagement_test_Success_rate','Engagement_test_count']"
   ]
  },
  {
   "cell_type": "code",
   "execution_count": null,
   "id": "68bd3829-96c7-4e12-89d3-9d9547b50976",
   "metadata": {},
   "outputs": [],
   "source": [
    "Engagement_DF.head()"
   ]
  },
  {
   "cell_type": "code",
   "execution_count": null,
   "id": "42063901-01b6-47df-9b51-3f7a4845c008",
   "metadata": {},
   "outputs": [],
   "source": [
    "config= bigquery.job.LoadJobConfig()\n",
    "\n",
    "config._properties['timePartitioning'] = {'field': 'Month_Year'}\n",
    "config.write_disposition = bigquery.WriteDisposition.WRITE_TRUNCATE\n",
    "\n",
    "Table_BQ = 'ADC.System_Check_test_Engagement'\n",
    "\n",
    "bq_table_instance= bq_client.load_table_from_dataframe(Engagement_DF, Table_BQ,job_config=config)"
   ]
  },
  {
   "cell_type": "code",
   "execution_count": null,
   "id": "a079d7ad-7ab2-4551-aa9a-c27d7e4a3099",
   "metadata": {},
   "outputs": [],
   "source": [
    "ImageSensor_DF=pd.pivot_table(System_Check_test_DF[System_Check_test_DF['test_category_desc']=='Image Sensor'], values=['count_instance','Check_Succes'], index=['Month_year','customer_id'], columns='test_category_desc',\n",
    "                          aggfunc={'count_instance': np.sum,'Check_Succes':np.mean}).reset_index()\n",
    "\n",
    "ImageSensor_DF.columns=['Month_year','customer_id','ImageSensor_test_Success_rate','ImageSensor_test_count']\n",
    "\n",
    "ImageSensor_DF.head()"
   ]
  },
  {
   "cell_type": "code",
   "execution_count": null,
   "id": "b0854be1-5d4e-4dcb-aaf4-76bc93081561",
   "metadata": {},
   "outputs": [],
   "source": [
    "config= bigquery.job.LoadJobConfig()\n",
    "\n",
    "config._properties['timePartitioning'] = {'field': 'Month_Year'}\n",
    "config.write_disposition = bigquery.WriteDisposition.WRITE_TRUNCATE\n",
    "\n",
    "Table_BQ = 'ADC.System_Check_test_ImageSensor'\n",
    "\n",
    "bq_table_instance= bq_client.load_table_from_dataframe(ImageSensor_DF, Table_BQ,job_config=config)"
   ]
  },
  {
   "cell_type": "code",
   "execution_count": null,
   "id": "3c121c72-3e9e-4c02-be98-05cbfc16f6ef",
   "metadata": {},
   "outputs": [],
   "source": [
    "Monitoring_DF=pd.pivot_table(System_Check_test_DF[System_Check_test_DF['test_category_desc']=='Monitoring'], values=['count_instance','Check_Succes'], index=['Month_year','customer_id'], columns='test_category_desc',\n",
    "                          aggfunc={'count_instance': np.sum,'Check_Succes':np.mean}).reset_index()\n",
    "\n",
    "Monitoring_DF.columns=['Month_year','customer_id','Monitoring_test_Success_rate','Monitoring_test_count']\n",
    "\n",
    "Monitoring_DF.head()"
   ]
  },
  {
   "cell_type": "code",
   "execution_count": null,
   "id": "03d56061-cf7f-46e3-9f6c-2cd5d127099c",
   "metadata": {},
   "outputs": [],
   "source": [
    "config= bigquery.job.LoadJobConfig()\n",
    "\n",
    "config._properties['timePartitioning'] = {'field': 'Month_Year'}\n",
    "config.write_disposition = bigquery.WriteDisposition.WRITE_TRUNCATE\n",
    "\n",
    "Table_BQ = 'ADC.System_Check_test_Monitoring'\n",
    "\n",
    "bq_table_instance= bq_client.load_table_from_dataframe(Monitoring_DF, Table_BQ,job_config=config)"
   ]
  },
  {
   "cell_type": "code",
   "execution_count": null,
   "id": "c9807ba8-20d6-4b3d-befe-c28e33e6a23f",
   "metadata": {},
   "outputs": [],
   "source": [
    "Panel_DF=pd.pivot_table(System_Check_test_DF[System_Check_test_DF['test_category_desc']=='Panel'], values=['count_instance','Check_Succes'], index=['Month_year','customer_id'], columns='test_category_desc',\n",
    "                          aggfunc={'count_instance': np.sum,'Check_Succes':np.mean}).reset_index()\n",
    "\n",
    "Panel_DF.columns=['Month_year','customer_id','Panel_test_Success_rate','Panel_test_count']\n",
    "\n",
    "Panel_DF.head()"
   ]
  },
  {
   "cell_type": "code",
   "execution_count": null,
   "id": "cac43749-a21a-4d92-8aa6-9026f9958f54",
   "metadata": {},
   "outputs": [],
   "source": [
    "config= bigquery.job.LoadJobConfig()\n",
    "\n",
    "config._properties['timePartitioning'] = {'field': 'Month_Year'}\n",
    "config.write_disposition = bigquery.WriteDisposition.WRITE_TRUNCATE\n",
    "\n",
    "Table_BQ = 'ADC.System_Check_test_Panel'\n",
    "\n",
    "bq_table_instance= bq_client.load_table_from_dataframe(Panel_DF, Table_BQ,job_config=config)"
   ]
  },
  {
   "cell_type": "code",
   "execution_count": null,
   "id": "29fe10d9-c59d-4508-9539-33a08b7c16fd",
   "metadata": {},
   "outputs": [],
   "source": [
    "Sensors_DF=pd.pivot_table(System_Check_test_DF[System_Check_test_DF['test_category_desc']=='Sensors'], values=['count_instance','Check_Succes'], index=['Month_year','customer_id'], columns='test_category_desc',\n",
    "                          aggfunc={'count_instance': np.sum,'Check_Succes':np.mean}).reset_index()\n",
    "\n",
    "Sensors_DF.columns=['Month_year','customer_id','Sensors_test_Success_rate','Sensors_test_count']\n",
    "\n",
    "Sensors_DF.head()"
   ]
  },
  {
   "cell_type": "code",
   "execution_count": null,
   "id": "380fdcef-254f-427c-8c17-9336313c470c",
   "metadata": {},
   "outputs": [],
   "source": [
    "config= bigquery.job.LoadJobConfig()\n",
    "\n",
    "config._properties['timePartitioning'] = {'field': 'Month_Year'}\n",
    "config.write_disposition = bigquery.WriteDisposition.WRITE_TRUNCATE\n",
    "\n",
    "Table_BQ = 'ADC.System_Check_test_Sensors'\n",
    "\n",
    "bq_table_instance= bq_client.load_table_from_dataframe(Sensors_DF, Table_BQ,job_config=config)"
   ]
  },
  {
   "cell_type": "code",
   "execution_count": null,
   "id": "47b6d022-9f31-4728-af6e-f0461c3c9e50",
   "metadata": {},
   "outputs": [],
   "source": [
    "Video_DF=pd.pivot_table(System_Check_test_DF[System_Check_test_DF['test_category_desc']=='Video'], values=['count_instance','Check_Succes'], index=['Month_year','customer_id'], columns='test_category_desc',\n",
    "                          aggfunc={'count_instance': np.sum,'Check_Succes':np.mean}).reset_index()\n",
    "\n",
    "Video_DF.columns=['Month_year','customer_id','Video_test_Success_rate','Video_test_count']\n",
    "\n",
    "Video_DF.head()"
   ]
  },
  {
   "cell_type": "code",
   "execution_count": null,
   "id": "8a5846d2-ff24-4f93-a554-68dd0c24ddcd",
   "metadata": {},
   "outputs": [],
   "source": [
    "config= bigquery.job.LoadJobConfig()\n",
    "\n",
    "config._properties['timePartitioning'] = {'field': 'Month_Year'}\n",
    "config.write_disposition = bigquery.WriteDisposition.WRITE_TRUNCATE\n",
    "\n",
    "Table_BQ = 'ADC.System_Check_test_Video'\n",
    "\n",
    "bq_table_instance= bq_client.load_table_from_dataframe(Video_DF, Table_BQ,job_config=config)"
   ]
  },
  {
   "cell_type": "code",
   "execution_count": null,
   "id": "d7283f91-b4b4-462d-830e-8253aca583f9",
   "metadata": {},
   "outputs": [],
   "source": [
    "Z_wave_DF=pd.pivot_table(System_Check_test_DF[System_Check_test_DF['test_category_desc']=='Z-wave'], values=['count_instance','Check_Succes'], index=['Month_year','customer_id'], columns='test_category_desc',\n",
    "                          aggfunc={'count_instance': np.sum,'Check_Succes':np.mean}).reset_index()\n",
    "\n",
    "Z_wave_DF.columns=['Month_year','customer_id','Video_test_Success_rate','Video_test_count']\n",
    "\n",
    "Z_wave_DF.head()"
   ]
  },
  {
   "cell_type": "code",
   "execution_count": null,
   "id": "cd088b58-c089-4be8-a626-265c60ecf26f",
   "metadata": {},
   "outputs": [],
   "source": [
    "config= bigquery.job.LoadJobConfig()\n",
    "\n",
    "config._properties['timePartitioning'] = {'field': 'Month_Year'}\n",
    "config.write_disposition = bigquery.WriteDisposition.WRITE_TRUNCATE\n",
    "\n",
    "Table_BQ = 'ADC.System_Check_test_Z_wave'\n",
    "\n",
    "bq_table_instance= bq_client.load_table_from_dataframe(Z_wave_DF, Table_BQ,job_config=config)"
   ]
  },
  {
   "cell_type": "code",
   "execution_count": null,
   "id": "a4a5b7d0-a51e-48f8-a719-1ca328398efb",
   "metadata": {},
   "outputs": [],
   "source": [
    "\n",
    "# UE_Activity_pivot_table=pd.pivot_table(System_Check_test_DF, values='count_instance', index=['Month_year','customer_id'], columns='test_category_desc',\n",
    "#                           aggfunc={'count_instance': np.sum})"
   ]
  },
  {
   "cell_type": "code",
   "execution_count": null,
   "id": "2f7c3310-b6f8-4b71-af6c-140dd83e3f40",
   "metadata": {},
   "outputs": [],
   "source": [
    "# UE_Activity_pivot_table.head()"
   ]
  },
  {
   "cell_type": "code",
   "execution_count": null,
   "id": "eeb3ae42-4c65-4e4b-91ff-b92126e819c2",
   "metadata": {},
   "outputs": [],
   "source": [
    "# UE_Activity_pivot_table=UE_Activity_pivot_table.reset_index()"
   ]
  },
  {
   "cell_type": "code",
   "execution_count": null,
   "id": "6fba12d3-5f04-4ee7-8f90-e31e22f9781a",
   "metadata": {},
   "outputs": [],
   "source": [
    "# UE_Activity_pivot_table.columns=['Month_year','customer_id','Access Control','AccessPoints','Communications','Engagement','Image Sensor','Monitoring','Panel','Sensors','Video','Z_wave']"
   ]
  },
  {
   "cell_type": "code",
   "execution_count": null,
   "id": "994db438-ffb8-4245-b5b7-394dab92bb34",
   "metadata": {},
   "outputs": [],
   "source": [
    "# UE_Activity_result_pivot_table=pd.pivot_table(System_Check_test_DF, values='count_instance', index=['Month_year','customer_id'], columns='test_result_type_desc',\n",
    "                          # aggfunc={'count_instance': np.sum})"
   ]
  },
  {
   "cell_type": "code",
   "execution_count": null,
   "id": "6dd8d1d9-e58c-447c-aeb6-cbf9174e2bf7",
   "metadata": {},
   "outputs": [],
   "source": [
    "# UE_Activity_result_pivot_table.head()"
   ]
  },
  {
   "cell_type": "code",
   "execution_count": null,
   "id": "13615139-57dc-4cf0-a509-f6ebef93b634",
   "metadata": {},
   "outputs": [],
   "source": []
  }
 ],
 "metadata": {
  "kernelspec": {
   "display_name": "Python 3 (ipykernel)",
   "language": "python",
   "name": "python3"
  },
  "language_info": {
   "codemirror_mode": {
    "name": "ipython",
    "version": 3
   },
   "file_extension": ".py",
   "mimetype": "text/x-python",
   "name": "python",
   "nbconvert_exporter": "python",
   "pygments_lexer": "ipython3",
   "version": "3.7.12"
  }
 },
 "nbformat": 4,
 "nbformat_minor": 5
}
