{
 "cells": [
  {
   "cell_type": "code",
   "execution_count": null,
   "id": "aed34bb0-d8f5-497e-9c42-c03be7145941",
   "metadata": {},
   "outputs": [],
   "source": [
    "#### import global modules\n",
    "import os\n",
    "import sys\n",
    "import pandas as pd\n",
    "from pathlib import Path\n",
    "from yaml import safe_load\n",
    "import google.oauth2.credentials\n",
    "from google.cloud import bigquery\n",
    "\n",
    "# Set global vars\n",
    "pth_project = Path(os.getcwd().split('notebooks')[0])\n",
    "pth_data = pth_project / 'data'\n",
    "pth_queries = pth_project / 'core' / 'queries'\n",
    "pth_creds = pth_project / 'conf' / 'local' / 'project_config.yaml'\n",
    "sys.path.insert(0, str(pth_project))\n",
    "d_project_config = safe_load(pth_creds.open())\n",
    "# d_params = safe_load((pth_project / 'core' / 'parameters' / 'common.yaml').open())['data_extract']\n",
    "\n",
    "# import local modules\n",
    "from core.utils.gcp import connect_bq_services\n",
    "# from core.etl.extract import extract_bq_data, extract_pr_codes, format_conv_df, filter_convs\n",
    "\n",
    "# Connect to google services\n",
    "bq_client = connect_bq_services(d_project_config['gcp-project-name'])\n",
    "pd.options.display.max_rows = 100"
   ]
  },
  {
   "cell_type": "code",
   "execution_count": null,
   "id": "dfe0f3c3-b7d2-460b-b5f2-ad4b509f66ec",
   "metadata": {},
   "outputs": [],
   "source": [
    "pd.options.display.max_rows = 200"
   ]
  },
  {
   "cell_type": "code",
   "execution_count": null,
   "id": "4e9f6d53-5fe9-4f8c-8bad-1e2b67d8a0a2",
   "metadata": {},
   "outputs": [],
   "source": [
    "def extract_bq_data(bq_client, sql=None, pth_query=None):\n",
    "    if sql is not None:\n",
    "        df = bq_client.query(sql).to_dataframe()\n",
    "    elif pth_query is not None:\n",
    "        sql = pth_query.read_text()\n",
    "        df = bq_client.query(sql).to_dataframe()\n",
    "    else:\n",
    "        raise ValueError('`sql` or `pth_query` should be set')  \n",
    "    return df"
   ]
  },
  {
   "cell_type": "code",
   "execution_count": null,
   "id": "18d79d93-e046-4c59-a43c-f4489d31bdba",
   "metadata": {},
   "outputs": [],
   "source": [
    "Telus_GCP_Churn_Query= '''\n",
    "\n",
    "select *\n",
    "from `cio-datahub-enterprise-pr-183a.ent_cust_cust.bq_prod_instnc_snpsht` \n",
    "CROSS JOIN UNNEST(list_tpl_pi_alias_str) as param\n",
    "WHERE DATE(prod_instnc_ts) = \"2022-08-31\" #Snapshot of the last day of the month\n",
    "and pi_prod_instnc_typ_cd ='SMHM' #Serice type\n",
    "and pi_prod_instnc_stat_cd in ('C') #Canceled service\n",
    "and bus_prod_instnc_src_id = 1001 #BANs that are for home services\n",
    "and DATE(pi_prod_instnc_stat_ts)>='2022-08-01' and DATE(pi_prod_instnc_stat_ts)<'2022-09-01' #Date on which the status was updated\n",
    "\n",
    "\n",
    "'''\n"
   ]
  },
  {
   "cell_type": "code",
   "execution_count": null,
   "id": "7d51ee7a-f770-4d75-a2f4-c2237dc8a04b",
   "metadata": {},
   "outputs": [],
   "source": [
    "Telus_GCP_Churn_DF= extract_bq_data(bq_client,sql=Telus_GCP_Churn_Query)"
   ]
  },
  {
   "cell_type": "code",
   "execution_count": null,
   "id": "8b210e06-a35e-41ee-b531-56dec1b2becc",
   "metadata": {},
   "outputs": [],
   "source": [
    "Telus_GCP_Churn_DF.info(verbose=True)"
   ]
  },
  {
   "cell_type": "code",
   "execution_count": null,
   "id": "4b7f7ff9-eb1c-4f42-9356-61d7158ef35d",
   "metadata": {},
   "outputs": [],
   "source": [
    "Telus_GCP_Churn_DF.head()"
   ]
  },
  {
   "cell_type": "code",
   "execution_count": null,
   "id": "4ad0817d-cff4-4dd5-88d6-62d703862af3",
   "metadata": {},
   "outputs": [],
   "source": [
    "Telus_GCP_Churn_DF['pi_alias_str_key'].value_counts()"
   ]
  },
  {
   "cell_type": "code",
   "execution_count": null,
   "id": "014043c7-d108-4d7e-907d-7e862eecf36a",
   "metadata": {},
   "outputs": [],
   "source": [
    "Telus_GCP_Churn_DF['pi_alias_str_value'].value_counts()"
   ]
  },
  {
   "cell_type": "code",
   "execution_count": null,
   "id": "43e673f6-c488-4226-ac23-d53f5e911909",
   "metadata": {},
   "outputs": [],
   "source": [
    "Telus_GCP_Churn_DF['bacct_bus_bacct_num'].head()"
   ]
  },
  {
   "cell_type": "code",
   "execution_count": null,
   "id": "3d6b6ba2-68af-4ea0-a76b-cb2b361bae94",
   "metadata": {},
   "outputs": [],
   "source": [
    "Telus_GCP_Churn_DF['bacct_billg_acct_id'].head()"
   ]
  },
  {
   "cell_type": "code",
   "execution_count": null,
   "id": "7d042f60-4203-4822-b404-7cacdb647443",
   "metadata": {},
   "outputs": [],
   "source": [
    "Telus_GCP_Churn_DF['cust_bus_cust_id'].head()"
   ]
  },
  {
   "cell_type": "code",
   "execution_count": null,
   "id": "71dd48ba-8101-4129-9618-77781182c9ba",
   "metadata": {},
   "outputs": [],
   "source": [
    "Telus_GCP_Churn_DF['cust_bus_cust_id'].value_counts()"
   ]
  },
  {
   "cell_type": "code",
   "execution_count": null,
   "id": "c762d3f5-27fe-4a5a-a5f6-acc62357a46b",
   "metadata": {},
   "outputs": [],
   "source": [
    "Telus_GCP_Churn_DF['consldt_cust_bus_cust_id'].value_counts()"
   ]
  },
  {
   "cell_type": "code",
   "execution_count": null,
   "id": "90e98156-d1aa-4f5d-8703-5854cc8a51cb",
   "metadata": {},
   "outputs": [],
   "source": [
    "Telus_GCP_Churn_DF['bacct_bus_bacct_num'].value_counts()"
   ]
  },
  {
   "cell_type": "code",
   "execution_count": null,
   "id": "611f2028-2373-4d05-9fdc-3656861fba8f",
   "metadata": {},
   "outputs": [],
   "source": [
    "Telus_GCP_Churn_DF_cust=Telus_GCP_Churn_DF[Telus_GCP_Churn_DF['bacct_bus_bacct_num']==605276646]"
   ]
  },
  {
   "cell_type": "code",
   "execution_count": null,
   "id": "5439b6d4-7932-4364-b6ff-15b8b51cb8d5",
   "metadata": {},
   "outputs": [],
   "source": [
    "Telus_GCP_Churn_DF_cust"
   ]
  },
  {
   "cell_type": "code",
   "execution_count": null,
   "id": "0f1062a3-db0f-4ee9-8237-2ef0c7555879",
   "metadata": {},
   "outputs": [],
   "source": [
    "Telus_GCP_Churn_DF_cust['pi_prod_instnc_stat_actvy_cd'].value_counts()"
   ]
  },
  {
   "cell_type": "code",
   "execution_count": null,
   "id": "1de086da-ae85-4ef7-8acc-67293d21d7d6",
   "metadata": {},
   "outputs": [],
   "source": [
    "Telus_GCP_Churn_DF['pi_stat_actvy_rsn_cd'].value_counts()"
   ]
  },
  {
   "cell_type": "code",
   "execution_count": null,
   "id": "b40f013e-cbe8-486d-a725-d2abd02ce7ce",
   "metadata": {},
   "outputs": [],
   "source": [
    "Telus_GCP_Churn_DF['bacct_brand_nm'].value_counts()"
   ]
  },
  {
   "cell_type": "code",
   "execution_count": null,
   "id": "d1832e59-de0a-4d07-96a6-2d25a1fb15de",
   "metadata": {},
   "outputs": [],
   "source": [
    "Telus_GCP_Churn_DF['pi_prev_bus_bacct_num'].value_counts()"
   ]
  },
  {
   "cell_type": "code",
   "execution_count": null,
   "id": "1f26871f-ff44-4ab7-8d72-9b986ed80cdb",
   "metadata": {},
   "outputs": [],
   "source": [
    "Telus_GCP_Churn_DF['pi_actvn_dlr_cd'].value_counts()"
   ]
  },
  {
   "cell_type": "code",
   "execution_count": null,
   "id": "47c2d101-6764-4de8-8374-cd9a5664666a",
   "metadata": {},
   "outputs": [],
   "source": [
    "Telus_GCP_Churn_DF['Telus_Churn']=1"
   ]
  },
  {
   "cell_type": "code",
   "execution_count": null,
   "id": "a3ef8651-d263-4b7f-ad66-0fbed1f9b202",
   "metadata": {},
   "outputs": [],
   "source": [
    "Telus_GCP_Churn_DF_sub=Telus_GCP_Churn_DF[['prod_instnc_ts','cust_bus_cust_id','bacct_bus_bacct_num','pi_prod_instnc_typ_cd','pi_prod_instnc_stat_ts','Telus_Churn']]"
   ]
  },
  {
   "cell_type": "code",
   "execution_count": null,
   "id": "e9f26fd4-d96a-462f-b5fa-7e5d890e1bb5",
   "metadata": {},
   "outputs": [],
   "source": [
    "Telus_GCP_Churn_DF_sub.info()"
   ]
  },
  {
   "cell_type": "code",
   "execution_count": null,
   "id": "08c54c1e-ecae-4994-aebd-6c5b4ce5fde0",
   "metadata": {},
   "outputs": [],
   "source": [
    "Telus_GCP_Churn_DF_sub['pi_prod_instnc_stat_ts'].value_counts()"
   ]
  },
  {
   "cell_type": "code",
   "execution_count": null,
   "id": "6101e7c9-405b-45dc-a4a0-e32741ed9684",
   "metadata": {},
   "outputs": [],
   "source": [
    "Customer_Details_Query='''\n",
    "\n",
    "SELECT \n",
    "customer_id,dealer_customer_id,primary_login_id,dealer_name,title,lastname,firstname,address1,address2,city,state,postal_code,join_date,account_type_name,customer_type_name,primary_email,primary_phone,last_updt_ts \n",
    "FROM `cio-datahub-enterprise-pr-183a.src_adc.bq_customer_account_details` \n",
    "where last_updt_ts= '2022-08-31 11:59:52.034161 UTC'\n",
    "and account_type_name!='Standalone'\n",
    "and customer_type_name='Customer'\n",
    "order by dealer_name\n",
    "\n",
    "'''"
   ]
  },
  {
   "cell_type": "code",
   "execution_count": null,
   "id": "a4b99ac5-e30a-4326-961e-dab110e43191",
   "metadata": {},
   "outputs": [],
   "source": [
    "ADC_Aug2022_CustomerBase= extract_bq_data(bq_client,sql=Customer_Details_Query)"
   ]
  },
  {
   "cell_type": "code",
   "execution_count": null,
   "id": "1c0fbb86-ae8a-4133-b948-b3a121cdf923",
   "metadata": {},
   "outputs": [],
   "source": [
    "ADC_Aug2022_CustomerBase.info()"
   ]
  },
  {
   "cell_type": "code",
   "execution_count": null,
   "id": "f5c3b879-f9f5-42e6-9146-518c872cae9c",
   "metadata": {},
   "outputs": [],
   "source": [
    "ADC_Aug2022_CustomerBase.head()"
   ]
  },
  {
   "cell_type": "code",
   "execution_count": null,
   "id": "0bce892f-a2f5-4513-9ada-ff280e00c230",
   "metadata": {},
   "outputs": [],
   "source": [
    "ADC_Aug2022_CustomerBase['dealer_name'].value_counts()"
   ]
  },
  {
   "cell_type": "code",
   "execution_count": null,
   "id": "0087f534-2242-4bd3-b8e9-3db9fbcf2b5d",
   "metadata": {},
   "outputs": [],
   "source": [
    "sum(ADC_Aug2022_CustomerBase['dealer_customer_id'].isnull())"
   ]
  },
  {
   "cell_type": "code",
   "execution_count": null,
   "id": "a91edd1b-0e91-43ba-a3cf-c26f561aa7c5",
   "metadata": {},
   "outputs": [],
   "source": [
    "ADC_Aug2022_CustomerBase['dealer_customer_id'].value_counts()"
   ]
  },
  {
   "cell_type": "code",
   "execution_count": null,
   "id": "d5cd3c3f-65f5-4e5a-83ac-598d7094e10f",
   "metadata": {},
   "outputs": [],
   "source": [
    "ADC_Aug2022_CustomerBase_telus=ADC_Aug2022_CustomerBase[ADC_Aug2022_CustomerBase['dealer_name']=='TELUS Communications Inc.']"
   ]
  },
  {
   "cell_type": "code",
   "execution_count": null,
   "id": "228c59bc-b98e-4e7b-aa6d-2ee0479d8906",
   "metadata": {},
   "outputs": [],
   "source": []
  },
  {
   "cell_type": "code",
   "execution_count": null,
   "id": "9a0d0309-87a1-4866-9bdc-3fc095a93315",
   "metadata": {},
   "outputs": [],
   "source": [
    "ADC_Aug2022_CustomerBase_telus.info()"
   ]
  },
  {
   "cell_type": "code",
   "execution_count": null,
   "id": "984cc169-c724-4e9d-9615-c0a04bde8645",
   "metadata": {},
   "outputs": [],
   "source": [
    "ADC_Aug2022_CustomerBase_telus['customer_id'].value_counts()"
   ]
  },
  {
   "cell_type": "code",
   "execution_count": null,
   "id": "512cb1b5-46cc-4923-a4d6-5b24cb0a71b3",
   "metadata": {},
   "outputs": [],
   "source": [
    "ADC_Aug2022_CustomerBase_telus['dealer_customer_id'].value_counts()"
   ]
  },
  {
   "cell_type": "code",
   "execution_count": null,
   "id": "6edc13d3-0b3a-4d09-8f12-abb831c82d25",
   "metadata": {},
   "outputs": [],
   "source": [
    "ADC_Aug2022_CustomerBase_telus_merge=ADC_Aug2022_CustomerBase_telus.merge(Telus_GCP_Churn_DF_sub,how='left',left_on='dealer_customer_id',right_on='cust_bus_cust_id')"
   ]
  },
  {
   "cell_type": "code",
   "execution_count": null,
   "id": "75a1dea8-488f-4faa-b2d2-7edc0f0b1768",
   "metadata": {},
   "outputs": [],
   "source": [
    "ADC_Aug2022_CustomerBase_merge=ADC_Aug2022_CustomerBase.merge(Telus_GCP_Churn_DF_sub,how='left',left_on='dealer_customer_id',right_on='cust_bus_cust_id')"
   ]
  },
  {
   "cell_type": "code",
   "execution_count": null,
   "id": "470cf8c1-b965-46c2-9bf5-7b3ea307e56d",
   "metadata": {},
   "outputs": [],
   "source": [
    "ADC_Aug2022_CustomerBase_merge['Telus_Churn'].sum()"
   ]
  },
  {
   "cell_type": "code",
   "execution_count": null,
   "id": "9c5e8c9f-e44a-4737-a297-c981be1bcdfa",
   "metadata": {},
   "outputs": [],
   "source": [
    "ADC_Aug2022_CustomerBase_merge_1=ADC_Aug2022_CustomerBase_merge[ADC_Aug2022_CustomerBase_merge['Telus_Churn']==1]"
   ]
  },
  {
   "cell_type": "code",
   "execution_count": null,
   "id": "322d591e-a302-4930-b22a-9ae67c11485e",
   "metadata": {},
   "outputs": [],
   "source": [
    "ADC_Aug2022_CustomerBase_merge_1['dealer_name'].value_counts()"
   ]
  },
  {
   "cell_type": "code",
   "execution_count": null,
   "id": "b1e4d112-d012-46ff-a6c9-508fb59383f2",
   "metadata": {},
   "outputs": [],
   "source": [
    "ADC_Aug2022_CustomerBase_merge_1.head()"
   ]
  },
  {
   "cell_type": "code",
   "execution_count": null,
   "id": "bf56d101-3215-433b-96c2-c894f389c8f6",
   "metadata": {},
   "outputs": [],
   "source": [
    "ADC_Aug2022_CustomerBase_merge_1['account_type_name'].value_counts()"
   ]
  },
  {
   "cell_type": "code",
   "execution_count": null,
   "id": "6ca6240e-2240-45ce-a829-36b7bb297991",
   "metadata": {},
   "outputs": [],
   "source": []
  },
  {
   "cell_type": "code",
   "execution_count": null,
   "id": "ed673b0a-321d-40da-8f01-944e8a2b2cda",
   "metadata": {},
   "outputs": [],
   "source": [
    "ADC_Aug2022_CustomerBase_telus_merge['Telus_Churn'].sum()"
   ]
  },
  {
   "cell_type": "code",
   "execution_count": null,
   "id": "984f6eee-709b-4295-af35-3b125ff75541",
   "metadata": {},
   "outputs": [],
   "source": [
    "ADC_Aug2022_CustomerBase_telus_merge['Telus_Churn'].isna().sum()/ADC_Aug2022_CustomerBase_telus_merge['Telus_Churn'].shape[0]"
   ]
  },
  {
   "cell_type": "code",
   "execution_count": null,
   "id": "a324e976-408c-4514-b893-68291cbb8549",
   "metadata": {},
   "outputs": [],
   "source": [
    "Telus_GCP_Churn_DF_sub['Telus_Churn'].sum()"
   ]
  },
  {
   "cell_type": "code",
   "execution_count": null,
   "id": "60e93cca-1a83-411f-b0f9-26c66ccdb50e",
   "metadata": {},
   "outputs": [],
   "source": [
    "ADC_Aug2022_CustomerBase_telus['ADC_flag']=1"
   ]
  },
  {
   "cell_type": "code",
   "execution_count": null,
   "id": "d0f3e146-cda3-4301-ad74-2150b91c23f4",
   "metadata": {},
   "outputs": [],
   "source": [
    "ADC_Aug2022_CustomerBase_telus.head()"
   ]
  },
  {
   "cell_type": "code",
   "execution_count": null,
   "id": "e7dc827d-5857-4493-b16b-c2f57bf8eb65",
   "metadata": {},
   "outputs": [],
   "source": [
    "Telus_GCP_Churn_DF_sub_1=Telus_GCP_Churn_DF_sub.merge(ADC_Aug2022_CustomerBase_telus,how='inner',right_on='dealer_customer_id',left_on='cust_bus_cust_id')"
   ]
  },
  {
   "cell_type": "code",
   "execution_count": null,
   "id": "d69a000e-ae6a-49dd-854a-9a545aae2471",
   "metadata": {},
   "outputs": [],
   "source": [
    "Telus_GCP_Churn_DF_sub_1.head()"
   ]
  },
  {
   "cell_type": "code",
   "execution_count": null,
   "id": "b3215105-7812-40e4-aa52-0a809693883c",
   "metadata": {},
   "outputs": [],
   "source": [
    "Telus_GCP_Churn_DF_sub_1.info()"
   ]
  },
  {
   "cell_type": "code",
   "execution_count": null,
   "id": "c7ceb4bb-1371-4468-8432-c6e70308f360",
   "metadata": {},
   "outputs": [],
   "source": [
    "Telus_GCP_Churn_DF_sub_1['ADC_flag'].sum()"
   ]
  },
  {
   "cell_type": "code",
   "execution_count": null,
   "id": "9708a416-e84b-4d36-8cb6-4434d0c66ecc",
   "metadata": {},
   "outputs": [],
   "source": []
  }
 ],
 "metadata": {
  "kernelspec": {
   "display_name": "Python 3 (ipykernel)",
   "language": "python",
   "name": "python3"
  },
  "language_info": {
   "codemirror_mode": {
    "name": "ipython",
    "version": 3
   },
   "file_extension": ".py",
   "mimetype": "text/x-python",
   "name": "python",
   "nbconvert_exporter": "python",
   "pygments_lexer": "ipython3",
   "version": "3.8.12"
  }
 },
 "nbformat": 4,
 "nbformat_minor": 5
}
