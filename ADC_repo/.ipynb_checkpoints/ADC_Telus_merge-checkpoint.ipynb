{
 "cells": [
  {
   "cell_type": "code",
   "execution_count": null,
   "id": "21114b55-7023-411d-a903-6f648fa03003",
   "metadata": {},
   "outputs": [],
   "source": [
    "#### import global modules\n",
    "import os\n",
    "import sys\n",
    "import pandas as pd\n",
    "import numpy as np\n",
    "from pathlib import Path\n",
    "from yaml import safe_load\n",
    "import google.oauth2.credentials\n",
    "from google.cloud import bigquery\n",
    "import gc\n",
    "\n",
    "# Set global vars\n",
    "pth_project = Path(os.getcwd().split('notebooks')[0])\n",
    "pth_data = pth_project / 'data'\n",
    "pth_queries = pth_project / 'core' / 'queries'\n",
    "pth_creds = pth_project / 'conf' / 'local' / 'project_config.yaml'\n",
    "sys.path.insert(0, str(pth_project))\n",
    "d_project_config = safe_load(pth_creds.open())\n",
    "# d_params = safe_load((pth_project / 'core' / 'parameters' / 'common.yaml').open())['data_extract']\n",
    "\n",
    "# import local modules\n",
    "from core.utils.gcp import connect_bq_services\n",
    "# from core.etl.extract import extract_bq_data, extract_pr_codes, format_conv_df, filter_convs\n",
    "\n",
    "# Connect to google services\n",
    "bq_client = connect_bq_services(d_project_config['gcp-project-name'])\n",
    "pd.options.display.max_rows = 100"
   ]
  },
  {
   "cell_type": "code",
   "execution_count": null,
   "id": "673776fa-5e0c-430f-8ea1-884c419e36b6",
   "metadata": {},
   "outputs": [],
   "source": [
    "def extract_bq_data(bq_client, sql=None, pth_query=None):\n",
    "    if sql is not None:\n",
    "        df = bq_client.query(sql).to_dataframe()\n",
    "    elif pth_query is not None:\n",
    "        sql = pth_query.read_text()\n",
    "        df = bq_client.query(sql).to_dataframe()\n",
    "    else:\n",
    "        raise ValueError('`sql` or `pth_query` should be set')  \n",
    "    return df"
   ]
  },
  {
   "cell_type": "code",
   "execution_count": null,
   "id": "352daece-161d-4f62-8faf-af5b2e127c3d",
   "metadata": {},
   "outputs": [],
   "source": []
  },
  {
   "cell_type": "code",
   "execution_count": null,
   "id": "9ca61393-2f20-469e-a30e-dab16a1d4eb7",
   "metadata": {},
   "outputs": [],
   "source": [
    "Customer_Details_Query='''\n",
    "\n",
    "SELECT *\n",
    "FROM `cio-datahub-enterprise-pr-183a.src_adc.bq_customer_account_details` \n",
    "--where last_updt_ts >='2022-08-01'  and last_updt_ts < '2022-10-01'\n",
    "where date(last_updt_ts) ='2022-09-30'\n",
    "and account_type_name!='Standalone'\n",
    "and customer_type_name='Customer'\n",
    "and dealer_name='TELUS Communications Inc.'\n",
    "QUALIFY ROW_NUMBER() OVER (PARTITION BY customer_id ORDER BY last_updt_ts DESC) = 1\n",
    "order by dealer_name,join_date,customer_id\n",
    "\n",
    "\n",
    "'''"
   ]
  },
  {
   "cell_type": "code",
   "execution_count": null,
   "id": "15348db1-3a98-4349-9f43-d705bab8e843",
   "metadata": {},
   "outputs": [],
   "source": [
    "Customer_DF=extract_bq_data(bq_client, sql=Customer_Details_Query)"
   ]
  },
  {
   "cell_type": "code",
   "execution_count": null,
   "id": "22d1036d-c9e6-48dc-987a-48366f806058",
   "metadata": {},
   "outputs": [],
   "source": [
    "Customer_DF.info()"
   ]
  },
  {
   "cell_type": "code",
   "execution_count": null,
   "id": "253ffb25-2b59-4ef3-9cd6-53a35864f916",
   "metadata": {},
   "outputs": [],
   "source": [
    "Customer_DF.head()"
   ]
  },
  {
   "cell_type": "code",
   "execution_count": null,
   "id": "6dcb399c-a3fe-4494-854a-c98fe02bdb2d",
   "metadata": {},
   "outputs": [],
   "source": [
    "Customer_DF['dealer_name'].value_counts()"
   ]
  },
  {
   "cell_type": "code",
   "execution_count": null,
   "id": "1986c9c4-dd40-490d-b384-5bc064405de0",
   "metadata": {},
   "outputs": [],
   "source": [
    "Telus_Customer= '''\n",
    "\n",
    "select bacct_bus_bacct_num,bacct_bacct_typ_cd,bacct_billg_acct_id,cust_bus_cust_id,pi_prev_bus_bacct_num,pi_prev_bus_bacct_num_src_id,pi_prod_instnc_typ_cd,pi_prod_instnc_stat_ts,pi_prod_instnc_stat_actvy_cd,pi_curr_bacct_assn_ts\n",
    "-- ,param\n",
    "from `cio-datahub-enterprise-pr-183a.ent_cust_cust.bq_prod_instnc_snpsht` \n",
    "-- CROSS JOIN UNNEST(list_tpl_pi_alias_str) as param\n",
    "WHERE DATE(prod_instnc_ts) = \"2022-09-30\" #Snapshot of the last day of the month\n",
    "and pi_prod_instnc_typ_cd ='SMHM' #Serice type\n",
    "and bus_prod_instnc_src_id = 1001 #BANs that are for home services\n",
    "and pi_prod_instnc_stat_cd in ('A')\n",
    "-- and DATE(pi_prod_instnc_stat_ts)>='2022-08-01' and DATE(pi_prod_instnc_stat_ts)<'2022-09-01' #Date on which the status was updated\n",
    "QUALIFY ROW_NUMBER() OVER (PARTITION BY cust_bus_cust_id ORDER BY pi_prod_instnc_stat_ts DESC) = 1\n",
    "order by cust_bus_cust_id\n",
    "\n",
    "\n",
    "'''"
   ]
  },
  {
   "cell_type": "code",
   "execution_count": null,
   "id": "c88126fd-fcd8-4d6b-b8ef-9aab30e02557",
   "metadata": {},
   "outputs": [],
   "source": [
    "Telus_Customer_DF=extract_bq_data(bq_client, sql=Telus_Customer)"
   ]
  },
  {
   "cell_type": "code",
   "execution_count": null,
   "id": "0d9ddbf1-c8a4-4e55-9f4d-77c81b58c621",
   "metadata": {},
   "outputs": [],
   "source": [
    "Telus_Customer_DF['Telus_flag']=1"
   ]
  },
  {
   "cell_type": "code",
   "execution_count": null,
   "id": "8f2bc628-6f98-4fa5-be76-c6b82bbc84a9",
   "metadata": {},
   "outputs": [],
   "source": [
    "Telus_Customer_DF.info()"
   ]
  },
  {
   "cell_type": "code",
   "execution_count": null,
   "id": "92144d94-f415-4d7e-9e28-f97855a3c509",
   "metadata": {},
   "outputs": [],
   "source": [
    "Merge_DF_1=Customer_DF.merge(Telus_Customer_DF,left_on='dealer_customer_id',right_on='cust_bus_cust_id',how='left')"
   ]
  },
  {
   "cell_type": "code",
   "execution_count": null,
   "id": "c3f11928-2aac-4eb7-9c7c-d6d7ac08f4d7",
   "metadata": {},
   "outputs": [],
   "source": [
    "Merge_DF_1['Telus_flag'].isna().sum()*100/Merge_DF_1.shape[0]"
   ]
  },
  {
   "cell_type": "code",
   "execution_count": null,
   "id": "d6867ace-d7b4-4f49-9201-c365ea497640",
   "metadata": {},
   "outputs": [],
   "source": [
    "Merge_DF_1.head()"
   ]
  },
  {
   "cell_type": "code",
   "execution_count": null,
   "id": "d1f86b0e-7328-4eed-a8d9-c62b448768ff",
   "metadata": {},
   "outputs": [],
   "source": [
    "Merge_DF_1['Telus_flag'].value_counts()"
   ]
  },
  {
   "cell_type": "code",
   "execution_count": null,
   "id": "4f682a8b-293c-45cf-9b3b-967d47a1f498",
   "metadata": {},
   "outputs": [],
   "source": [
    "Merge_DF_1['pi_prod_instnc_typ_cd'].value_counts()"
   ]
  },
  {
   "cell_type": "code",
   "execution_count": null,
   "id": "37384fda-7a3a-4bfa-aafa-b6685aa1cb0e",
   "metadata": {},
   "outputs": [],
   "source": [
    "Merge_DF_1.info()"
   ]
  },
  {
   "cell_type": "code",
   "execution_count": null,
   "id": "8debdd45-8b4c-48ad-8e14-31eee316998d",
   "metadata": {},
   "outputs": [],
   "source": [
    "cols_needed=['customer_id','dealer_customer_id','dealer_name','join_date','bacct_bus_bacct_num','bacct_bacct_typ_cd','bacct_billg_acct_id','cust_bus_cust_id','pi_prod_instnc_typ_cd','pi_prod_instnc_stat_ts','pi_prod_instnc_stat_actvy_cd','pi_curr_bacct_assn_ts']\n",
    "Merge_DF_2=Merge_DF_1[cols_needed]"
   ]
  },
  {
   "cell_type": "code",
   "execution_count": null,
   "id": "f88fbdb4-2242-499d-8b35-c45343a39579",
   "metadata": {},
   "outputs": [],
   "source": [
    "Merge_DF_2=Merge_DF_2[Merge_DF_1['Telus_flag']==1]"
   ]
  },
  {
   "cell_type": "code",
   "execution_count": null,
   "id": "2ee77163-050e-4409-b14c-eb32867edb75",
   "metadata": {},
   "outputs": [],
   "source": [
    "Merge_DF_2.info()"
   ]
  },
  {
   "cell_type": "code",
   "execution_count": null,
   "id": "66f1d171-ebed-450d-8029-e2849e6fbb64",
   "metadata": {},
   "outputs": [],
   "source": [
    "Merge_DF_2.head()"
   ]
  },
  {
   "cell_type": "code",
   "execution_count": null,
   "id": "afe1c96c-a8df-4f97-bb3c-9456f0893ceb",
   "metadata": {},
   "outputs": [],
   "source": [
    "config= bigquery.job.LoadJobConfig()\n",
    "\n",
    "# config._properties['timePartitioning'] = {'field': 'Month_Year'}\n",
    "config.write_disposition = bigquery.WriteDisposition.WRITE_TRUNCATE\n",
    "\n",
    "Table_BQ = 'ADC.ADC_Telus_Customers'\n",
    "\n",
    "bq_table_instance= bq_client.load_table_from_dataframe(Merge_DF_2, Table_BQ,job_config=config)"
   ]
  },
  {
   "cell_type": "code",
   "execution_count": null,
   "id": "098da075-c6b8-42d3-814f-c3e06f917075",
   "metadata": {},
   "outputs": [],
   "source": [
    "Merge_DF_1_non_match=Merge_DF_1[Merge_DF_1['Telus_flag'].isna()==True]"
   ]
  },
  {
   "cell_type": "code",
   "execution_count": null,
   "id": "4cc98989-efb2-465e-94fb-90a9e0ce471f",
   "metadata": {},
   "outputs": [],
   "source": [
    "Merge_DF_1_non_match.info()"
   ]
  },
  {
   "cell_type": "code",
   "execution_count": null,
   "id": "fef4e3f7-703b-4914-aba4-cdbb6368d430",
   "metadata": {},
   "outputs": [],
   "source": [
    "Merge_DF_1_non_match.head()"
   ]
  },
  {
   "cell_type": "code",
   "execution_count": null,
   "id": "869ac16b-b931-491f-bc31-219b3f848a5e",
   "metadata": {},
   "outputs": [],
   "source": [
    "Customer_Details_Adil_SQL='''\n",
    "\n",
    "SELECT *\n",
    "FROM `cio-datahub-enterprise-pr-183a.src_adc.bq_customer_account_details` \n",
    "where date(last_updt_ts) ='2022-09-30'\n",
    "and account_type_name!='Standalone'\n",
    "--and customer_type_name='Customer'\n",
    "QUALIFY ROW_NUMBER() OVER (PARTITION BY customer_id ORDER BY last_updt_ts DESC) = 1\n",
    "order by dealer_name,join_date,customer_id\n",
    "\n",
    "\n",
    "'''"
   ]
  },
  {
   "cell_type": "code",
   "execution_count": null,
   "id": "463ee559-d88b-4021-b689-7366a24ed95a",
   "metadata": {},
   "outputs": [],
   "source": [
    "Customer_Details_Adil_DF=extract_bq_data(bq_client, sql=Customer_Details_Adil_SQL)"
   ]
  },
  {
   "cell_type": "code",
   "execution_count": null,
   "id": "efae4faf-0754-404e-9ae9-3d5228a488bc",
   "metadata": {},
   "outputs": [],
   "source": [
    "Customer_Details_Adil_DF.info()"
   ]
  },
  {
   "cell_type": "code",
   "execution_count": null,
   "id": "3666d061-c590-4eee-9579-7ef5b91ca2d7",
   "metadata": {},
   "outputs": [],
   "source": [
    "Customer_Details_Adil_DF['customer_type_name'].value_counts()"
   ]
  },
  {
   "cell_type": "code",
   "execution_count": null,
   "id": "706360f9-c692-4474-9e41-ec281b23f495",
   "metadata": {},
   "outputs": [],
   "source": []
  },
  {
   "cell_type": "code",
   "execution_count": null,
   "id": "2bb33d05-3844-41ed-a344-66b91c88d7d8",
   "metadata": {},
   "outputs": [],
   "source": [
    "Customer_Details_Adil_DF['account_type_name'].value_counts()"
   ]
  },
  {
   "cell_type": "code",
   "execution_count": null,
   "id": "4511ecd0-f34f-496a-a774-46f9fcf626ec",
   "metadata": {},
   "outputs": [],
   "source": [
    "Customer_Details_Adil_DF['dealer_name'].value_counts()"
   ]
  },
  {
   "cell_type": "code",
   "execution_count": null,
   "id": "8c02c363-7bb8-4e56-aa04-4304060b0e6f",
   "metadata": {},
   "outputs": [],
   "source": []
  }
 ],
 "metadata": {
  "kernelspec": {
   "display_name": "Python 3 (ipykernel)",
   "language": "python",
   "name": "python3"
  },
  "language_info": {
   "codemirror_mode": {
    "name": "ipython",
    "version": 3
   },
   "file_extension": ".py",
   "mimetype": "text/x-python",
   "name": "python",
   "nbconvert_exporter": "python",
   "pygments_lexer": "ipython3",
   "version": "3.8.12"
  }
 },
 "nbformat": 4,
 "nbformat_minor": 5
}
