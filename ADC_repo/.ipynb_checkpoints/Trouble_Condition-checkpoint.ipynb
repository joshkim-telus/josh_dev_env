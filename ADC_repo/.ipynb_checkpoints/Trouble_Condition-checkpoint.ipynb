{
 "cells": [
  {
   "cell_type": "code",
   "execution_count": null,
   "id": "9904f29e-f4a6-43cf-869d-3faef3709c12",
   "metadata": {},
   "outputs": [],
   "source": [
    "#### import global modules\n",
    "import os\n",
    "import sys\n",
    "import pandas as pd\n",
    "from pathlib import Path\n",
    "from yaml import safe_load\n",
    "import google.oauth2.credentials\n",
    "from google.cloud import bigquery\n",
    "import numpy as np\n",
    "# Set global vars\n",
    "pth_project = Path(os.getcwd().split('notebooks')[0])\n",
    "pth_data = pth_project / 'data'\n",
    "pth_queries = pth_project / 'core' / 'queries'\n",
    "pth_creds = pth_project / 'conf' / 'local' / 'project_config.yaml'\n",
    "sys.path.insert(0, str(pth_project))\n",
    "d_project_config = safe_load(pth_creds.open())\n",
    "# d_params = safe_load((pth_project / 'core' / 'parameters' / 'common.yaml').open())['data_extract']\n",
    "\n",
    "# import local modules\n",
    "from core.utils.gcp import connect_bq_services\n",
    "# from core.etl.extract import extract_bq_data, extract_pr_codes, format_conv_df, filter_convs\n",
    "\n",
    "# Connect to google services\n",
    "bq_client = connect_bq_services(d_project_config['gcp-project-name'])\n",
    "pd.options.display.max_rows = 100"
   ]
  },
  {
   "cell_type": "code",
   "execution_count": null,
   "id": "ed9913ab-5cce-4d4a-885a-b17fbd7be43e",
   "metadata": {},
   "outputs": [],
   "source": [
    "def extract_bq_data(bq_client, sql=None, pth_query=None):\n",
    "    if sql is not None:\n",
    "        df = bq_client.query(sql).to_dataframe()\n",
    "    elif pth_query is not None:\n",
    "        sql = pth_query.read_text()\n",
    "        df = bq_client.query(sql).to_dataframe()\n",
    "    else:\n",
    "        raise ValueError('`sql` or `pth_query` should be set')  \n",
    "    return df"
   ]
  },
  {
   "cell_type": "code",
   "execution_count": null,
   "id": "ad1e0897-9c05-4f76-8649-9c893167613b",
   "metadata": {},
   "outputs": [],
   "source": [
    "Trouble_condition_Query='''\n",
    "\n",
    "select * from `cio-datahub-enterprise-pr-183a.src_adc.bq_troublecondition_data`\n",
    "\n",
    "'''"
   ]
  },
  {
   "cell_type": "code",
   "execution_count": null,
   "id": "2879fff2-4e14-4438-b5c2-2b0818e9ffb3",
   "metadata": {},
   "outputs": [],
   "source": [
    "TC_Lookup_Query='''\n",
    "\n",
    "\n",
    "select * from `cio-datahub-enterprise-pr-183a.src_adc.bq_troublecondition_lookup`\n",
    "\n",
    "'''"
   ]
  },
  {
   "cell_type": "code",
   "execution_count": null,
   "id": "67f5fc67-1491-4d0d-aa15-5f7ad4d3d990",
   "metadata": {},
   "outputs": [],
   "source": [
    "Trouble_condition_DF= extract_bq_data(bq_client,sql=Trouble_condition_Query)"
   ]
  },
  {
   "cell_type": "code",
   "execution_count": null,
   "id": "c375a2cd-2418-45be-afdc-c13e7584953b",
   "metadata": {},
   "outputs": [],
   "source": [
    "TC_lookup_DF= extract_bq_data(bq_client,sql=TC_Lookup_Query)"
   ]
  },
  {
   "cell_type": "code",
   "execution_count": null,
   "id": "3ec09241-fc25-41dc-812e-3a208f33a36d",
   "metadata": {},
   "outputs": [],
   "source": [
    "Trouble_condition_DF.info()"
   ]
  },
  {
   "cell_type": "code",
   "execution_count": null,
   "id": "40106ce2-8267-4f86-aa86-a1b0aba95ab5",
   "metadata": {},
   "outputs": [],
   "source": [
    "TC_lookup_DF.info()"
   ]
  },
  {
   "cell_type": "code",
   "execution_count": null,
   "id": "0aa9103a-ce10-48e6-a5fa-49adca4c5d2e",
   "metadata": {},
   "outputs": [],
   "source": [
    "Trouble_condition_DF.head()"
   ]
  },
  {
   "cell_type": "code",
   "execution_count": null,
   "id": "2e226fe9-b624-42bf-90fa-e086e3ee8c4c",
   "metadata": {},
   "outputs": [],
   "source": [
    "Trouble_condition_DF['trouble_condition_name'].value_counts(normalize=True)*100"
   ]
  },
  {
   "cell_type": "code",
   "execution_count": null,
   "id": "644dde30-fc97-4238-91e7-1008b33d3cff",
   "metadata": {},
   "outputs": [],
   "source": [
    "Trouble_condition_DF['month_year'] = Trouble_condition_DF['start_date_utc'].dt.to_period('M')\n"
   ]
  },
  {
   "cell_type": "code",
   "execution_count": null,
   "id": "66b19ad7-caf2-41fc-a5c6-0c6afdda0c5b",
   "metadata": {},
   "outputs": [],
   "source": [
    "Trouble_condition_DF['count_instance']=1"
   ]
  },
  {
   "cell_type": "code",
   "execution_count": null,
   "id": "00cf2750-56c1-4377-a7dc-6dd2cd93a5ee",
   "metadata": {},
   "outputs": [],
   "source": [
    "Trouble_condition_DF['Day_Diff']=Trouble_condition_DF['end_date_utc'] - Trouble_condition_DF['start_date_utc']"
   ]
  },
  {
   "cell_type": "code",
   "execution_count": null,
   "id": "f11ff753-3a3b-41a1-9b83-4a24eca9705b",
   "metadata": {},
   "outputs": [],
   "source": []
  },
  {
   "cell_type": "code",
   "execution_count": null,
   "id": "d46d85bd-b6c1-472c-8f2b-f2db4ebc22a3",
   "metadata": {},
   "outputs": [],
   "source": [
    "Trouble_condition_DF.groupby('trouble_condition_group_desc')['Day_Diff'].mean()"
   ]
  },
  {
   "cell_type": "code",
   "execution_count": null,
   "id": "ba21bea2-b257-469d-8307-5552b91e6994",
   "metadata": {},
   "outputs": [],
   "source": [
    "TC_closed_DF= Trouble_condition_DF[(Trouble_condition_DF['trouble_condition_start_ind']=='Y') & (Trouble_condition_DF['trouble_condition_closed_ind']=='Y') ]"
   ]
  },
  {
   "cell_type": "code",
   "execution_count": null,
   "id": "ecadd2b1-29f1-43f5-b56a-cf0768584944",
   "metadata": {},
   "outputs": [],
   "source": [
    "TC_closed_DF.shape"
   ]
  },
  {
   "cell_type": "code",
   "execution_count": null,
   "id": "b3f31bca-a1a1-4116-bcf9-f96eea965f41",
   "metadata": {},
   "outputs": [],
   "source": [
    "Trouble_condition_DF['trouble_condition_closed_ind'].value_counts(normalize=True)"
   ]
  },
  {
   "cell_type": "code",
   "execution_count": null,
   "id": "7622b031-b047-4ea3-a9bd-3bbd4cb1ed5a",
   "metadata": {},
   "outputs": [],
   "source": [
    "Trouble_condition_DF['trouble_condition_start_ind'].value_counts(normalize=True)"
   ]
  },
  {
   "cell_type": "code",
   "execution_count": null,
   "id": "2124e247-5e93-4679-9917-c626ffe4b3f7",
   "metadata": {},
   "outputs": [],
   "source": [
    "TC_closed_DF.info()"
   ]
  },
  {
   "cell_type": "code",
   "execution_count": null,
   "id": "7c7494a0-9d64-46c8-85eb-2e40885e135a",
   "metadata": {},
   "outputs": [],
   "source": [
    "TC_closed_DF.head()"
   ]
  },
  {
   "cell_type": "code",
   "execution_count": null,
   "id": "3053cbcf-3434-4137-8dbd-655b35964959",
   "metadata": {},
   "outputs": [],
   "source": [
    "TC_pivot_table=pd.pivot_table(TC_closed_DF, values=['count_instance','Day_Diff'], index=['month_year','customer_id'], columns='trouble_condition_group_desc',\n",
    "                          aggfunc={'count_instance': np.sum,\n",
    "                             'Day_Diff': np.sum})"
   ]
  },
  {
   "cell_type": "code",
   "execution_count": null,
   "id": "75cb42d9-0e33-424d-9c0c-b3a741f4eebf",
   "metadata": {},
   "outputs": [],
   "source": []
  },
  {
   "cell_type": "code",
   "execution_count": null,
   "id": "fe2c83cd-abd1-4b3c-bc7f-1975700d8270",
   "metadata": {},
   "outputs": [],
   "source": [
    "# TC_name_pivot_table=TC_name_pivot_table.reset_index()"
   ]
  },
  {
   "cell_type": "code",
   "execution_count": null,
   "id": "5dab3c8c-dacf-4381-9d5f-01f792b9507f",
   "metadata": {},
   "outputs": [],
   "source": [
    "TC_pivot_table=TC_pivot_table.reset_index()"
   ]
  },
  {
   "cell_type": "code",
   "execution_count": null,
   "id": "95111dc1-981e-4630-ae1e-561da8e8fb08",
   "metadata": {},
   "outputs": [],
   "source": [
    "TC_pivot_table.info()"
   ]
  },
  {
   "cell_type": "code",
   "execution_count": null,
   "id": "66618609-37aa-4247-8884-7dc7aef31651",
   "metadata": {},
   "outputs": [],
   "source": [
    "TC_pivot_table.head()"
   ]
  },
  {
   "cell_type": "code",
   "execution_count": null,
   "id": "ef093118-5d8d-48f5-90c1-b3ab071bbf8e",
   "metadata": {},
   "outputs": [],
   "source": [
    "TC_pivot_table.columns=['Month_Year','customer_id','Central_Station_Condition_diff_sum','Critical_System_Issue_diff_sum','Engagement_Issue_diff_sum','System_Condition_diff_sum','Central_Station_Condition_count','Critical_System_Issue_count','Engagement_Issue_count','System_Condition_count']"
   ]
  },
  {
   "cell_type": "code",
   "execution_count": null,
   "id": "39db82a4-1714-491b-ac74-3ba31bba0ed9",
   "metadata": {},
   "outputs": [],
   "source": [
    "TC_pivot_table.head(10)"
   ]
  },
  {
   "cell_type": "code",
   "execution_count": null,
   "id": "781718fc-afbc-42ad-9e1c-a46c3e849971",
   "metadata": {},
   "outputs": [],
   "source": [
    "TC_pivot_table.info()"
   ]
  },
  {
   "cell_type": "code",
   "execution_count": null,
   "id": "5f174afc-b04b-4654-a543-60b27aed09fd",
   "metadata": {},
   "outputs": [],
   "source": [
    "\n",
    "TC_pivot_table['Central_Station_Condition_diff_sum_hours']=TC_pivot_table['Central_Station_Condition_diff_sum'].astype('timedelta64[h]')\n",
    "TC_pivot_table['Critical_System_Issue_diff_sum_hours']=TC_pivot_table['Critical_System_Issue_diff_sum'].astype('timedelta64[h]')\n",
    "TC_pivot_table['Engagement_Issue_diff_sum_hours']=TC_pivot_table['Engagement_Issue_diff_sum'].astype('timedelta64[h]')\n",
    "TC_pivot_table['System_Condition_diff_sum_hours']=TC_pivot_table['System_Condition_diff_sum'].astype('timedelta64[h]')\n"
   ]
  },
  {
   "cell_type": "code",
   "execution_count": null,
   "id": "aa663f2d-63ed-466f-966e-82ddde861394",
   "metadata": {},
   "outputs": [],
   "source": [
    "TC_pivot_table.columns"
   ]
  },
  {
   "cell_type": "code",
   "execution_count": null,
   "id": "4e599a5a-1df0-407a-8287-ee63ec24faf5",
   "metadata": {},
   "outputs": [],
   "source": [
    "TC_pivot_table=TC_pivot_table[['Month_Year', \n",
    "       'customer_id',\n",
    "       'Central_Station_Condition_count',\n",
    "       'Critical_System_Issue_count', \n",
    "        'Engagement_Issue_count',\n",
    "       'System_Condition_count',\n",
    "       'Central_Station_Condition_diff_sum_hours',\n",
    "       'Critical_System_Issue_diff_sum_hours',\n",
    "       'Engagement_Issue_diff_sum_hours',\n",
    "       'System_Condition_diff_sum_hours']]"
   ]
  },
  {
   "cell_type": "code",
   "execution_count": null,
   "id": "11772a03-f2ec-4312-ad1a-03efa49499e3",
   "metadata": {},
   "outputs": [],
   "source": [
    "\n",
    "TC_pivot_table['Month_Year_1'] = TC_pivot_table['Month_Year'].astype(str)\n",
    "TC_pivot_table['Month_Year_1'] = pd.to_datetime(TC_pivot_table['Month_Year_1'])\n",
    "\n",
    "# TC_pivot_table['Month_Year_1'] = TC_pivot_table['Month_Year'].to_timestamp()\n"
   ]
  },
  {
   "cell_type": "code",
   "execution_count": null,
   "id": "48a43105-4501-46cc-bd47-6827704ac670",
   "metadata": {},
   "outputs": [],
   "source": [
    "TC_pivot_table=TC_pivot_table[['Month_Year_1', \n",
    "       'customer_id',\n",
    "     'Central_Station_Condition_count',\n",
    "       'Critical_System_Issue_count', \n",
    "        'Engagement_Issue_count',\n",
    "       'System_Condition_count',\n",
    "       'Central_Station_Condition_diff_sum_hours',\n",
    "       'Critical_System_Issue_diff_sum_hours',\n",
    "       'Engagement_Issue_diff_sum_hours',\n",
    "       'System_Condition_diff_sum_hours']]"
   ]
  },
  {
   "cell_type": "code",
   "execution_count": null,
   "id": "05b762f8-4642-4e35-84b8-3050d2f32708",
   "metadata": {},
   "outputs": [],
   "source": [
    "TC_pivot_table.columns=['Month_Year', \n",
    "       'customer_id',\n",
    "     'Central_Station_Condition_Issue_count',\n",
    "       'Critical_System_Issue_count', \n",
    "        'Engagement_Issue_count',\n",
    "       'System_Condition_Issue_count',\n",
    "        'Central_Station_Condition_diff_sum_hours',\n",
    "       'Critical_System_Issue_diff_sum_hours',\n",
    "       'Engagement_Issue_diff_sum_hours',\n",
    "       'System_Condition_diff_sum_hours']"
   ]
  },
  {
   "cell_type": "code",
   "execution_count": null,
   "id": "9a72eba8-fbb4-4814-957a-199bc7517ce3",
   "metadata": {},
   "outputs": [],
   "source": [
    "TC_pivot_table.info()"
   ]
  },
  {
   "cell_type": "code",
   "execution_count": null,
   "id": "9e5d470d-2b9f-43ea-9c52-6926e1471159",
   "metadata": {},
   "outputs": [],
   "source": [
    "TC_pivot_table.head()"
   ]
  },
  {
   "cell_type": "code",
   "execution_count": null,
   "id": "e5816f60-f862-4ef2-91d1-411415819699",
   "metadata": {},
   "outputs": [],
   "source": [
    "# TC_pivot_table['ref_date']='2022-08-01'"
   ]
  },
  {
   "cell_type": "code",
   "execution_count": null,
   "id": "5b9b57d6-4f36-4d36-b2d8-cbde21714781",
   "metadata": {},
   "outputs": [],
   "source": [
    "# TC_pivot_table['ref_date'] = pd.to_datetime(TC_pivot_table['ref_date'])"
   ]
  },
  {
   "cell_type": "code",
   "execution_count": null,
   "id": "dae63766-da6f-4b34-8db3-e34168b713c8",
   "metadata": {},
   "outputs": [],
   "source": [
    "# TC_pivot_table.info()"
   ]
  },
  {
   "cell_type": "code",
   "execution_count": null,
   "id": "823a0ffe-ffe0-4b26-9ac0-1f4113aec714",
   "metadata": {},
   "outputs": [],
   "source": [
    "# from pandas.tseries.offsets import DateOffset\n",
    "# # ref = TC_pivot_table.ref_date - DateOffset(months=3)"
   ]
  },
  {
   "cell_type": "code",
   "execution_count": null,
   "id": "6d5fda2d-df90-40b3-9aa1-8850383354b2",
   "metadata": {},
   "outputs": [],
   "source": [
    "# ref"
   ]
  },
  {
   "cell_type": "code",
   "execution_count": null,
   "id": "a22d37cc-872f-4761-a6ec-0b096e85d016",
   "metadata": {},
   "outputs": [],
   "source": [
    "# start_date = '2022-05-01'\n",
    "# end_date = '2022-08-01'\n"
   ]
  },
  {
   "cell_type": "code",
   "execution_count": null,
   "id": "1dc38693-cc83-443b-8dbb-988f302c5588",
   "metadata": {},
   "outputs": [],
   "source": [
    "# between = (TC_pivot_table['Month_Year'] >= start_date) & (TC_pivot_table['Month_Year'] < end_date)"
   ]
  },
  {
   "cell_type": "code",
   "execution_count": null,
   "id": "87a09842-bcbb-4ecc-8365-7e44bd93dc13",
   "metadata": {},
   "outputs": [],
   "source": [
    "# TC_pivot_table = TC_pivot_table[between]\n"
   ]
  },
  {
   "cell_type": "code",
   "execution_count": null,
   "id": "0584ef44-81ba-4008-8e71-8387e2fb187d",
   "metadata": {},
   "outputs": [],
   "source": [
    "TC_pivot_table.head()"
   ]
  },
  {
   "cell_type": "code",
   "execution_count": null,
   "id": "64d3c5b5-5e00-4754-99f9-7af2b86d92cb",
   "metadata": {},
   "outputs": [],
   "source": [
    "# TC_pivot_table['Central_Station_Condition_Issue_count_last3M'] = TC_pivot_table['Central_Station_Condition_Issue_count'].cumsum()"
   ]
  },
  {
   "cell_type": "code",
   "execution_count": null,
   "id": "92ae61c5-f34b-4d6e-88bc-65cdda4e544e",
   "metadata": {},
   "outputs": [],
   "source": [
    "# TC_pivot_table.head()"
   ]
  },
  {
   "cell_type": "code",
   "execution_count": null,
   "id": "bd6a0a96-d45a-476d-b3c1-c1b2b9aa870b",
   "metadata": {},
   "outputs": [],
   "source": [
    "# dfg = list()\n",
    "# for g, dg in df.groupby('id'):\n",
    "#     print(\"g is\",g)\n",
    "#     print(dg)\n",
    "#     dg['total'] = dg.apply(lambda x: get_future_sum(x, dg), axis=1)\n",
    "#     dfg.append(dg)\n",
    "\n",
    "# val=pd.Timestamp('2005-08-01 00:00:00')"
   ]
  },
  {
   "cell_type": "code",
   "execution_count": null,
   "id": "2005b304-adc7-46ab-b40a-8c1ef896a2fc",
   "metadata": {},
   "outputs": [],
   "source": [
    "TC_pivot_table=TC_pivot_table.fillna(0)"
   ]
  },
  {
   "cell_type": "code",
   "execution_count": null,
   "id": "3c07a9a9-9553-4d55-9366-0ff036531693",
   "metadata": {},
   "outputs": [],
   "source": [
    "TC_pivot_table.head()"
   ]
  },
  {
   "cell_type": "code",
   "execution_count": null,
   "id": "30c97db7-24fb-4625-89e9-88c13869cdbf",
   "metadata": {},
   "outputs": [],
   "source": []
  },
  {
   "cell_type": "code",
   "execution_count": null,
   "id": "d81f0073-ee59-4e1b-ab29-52e223590b51",
   "metadata": {},
   "outputs": [],
   "source": [
    "\n"
   ]
  },
  {
   "cell_type": "code",
   "execution_count": null,
   "id": "54ce1824-9888-4884-adf7-cab8c7019be6",
   "metadata": {},
   "outputs": [],
   "source": []
  },
  {
   "cell_type": "code",
   "execution_count": null,
   "id": "29540bdd-643e-44e7-b4a2-f94e177d6e42",
   "metadata": {},
   "outputs": [],
   "source": []
  },
  {
   "cell_type": "code",
   "execution_count": null,
   "id": "d02bc7c7-44d3-490e-9b27-641807bf4588",
   "metadata": {},
   "outputs": [],
   "source": []
  },
  {
   "cell_type": "code",
   "execution_count": null,
   "id": "c4b32e2c-039f-47b4-8afc-33e3e4f71797",
   "metadata": {},
   "outputs": [],
   "source": [
    "config= bigquery.job.LoadJobConfig()\n",
    "\n",
    "# config = bigquery.LoadJobConfig(\n",
    "    \n",
    "#         schema=[\n",
    "#         bigquery.SchemaField(\"Month_Year\", bigquery.SqlTypeNames.TIMESTAMP),\n",
    "#         bigquery.SchemaField(\"customer_id\", bigquery.SqlTypeNames.STRING),\n",
    "#         bigquery.SchemaField(\"Central_Station_Condition_diff_mean\", bigquery.SqlTypeNames.TIMESTAMP),\n",
    "#         bigquery.SchemaField(\"Critical_System_Issue_diff_mean\", bigquery.SqlTypeNames.TIMESTAMP),\n",
    "#         bigquery.SchemaField(\"Engagement_Issue_diff_mean\", bigquery.SqlTypeNames.TIMESTAMP),\n",
    "#         bigquery.SchemaField(\"System_Condition_diff_mean\", bigquery.SqlTypeNames.TIMESTAMP),\n",
    "#         bigquery.SchemaField(\"Central_Station_Condition_diff_count\", bigquery.SqlTypeNames.NUMERIC),\n",
    "#         bigquery.SchemaField(\"Critical_System_Issue_diff_count\", bigquery.SqlTypeNames.NUMERIC),\n",
    "#         bigquery.SchemaField(\"Engagement_Issue_diff_count\", bigquery.SqlTypeNames.NUMERIC),\n",
    "#         bigquery.SchemaField(\"System_Condition_count\", bigquery.SqlTypeNames.NUMERIC) \n",
    "#       ],\n",
    "#       time_partitioning=bigquery.TimePartitioning(\n",
    "#             field=\"Month_Year\"  # Name of the column to use for partitioning.\n",
    "#         ),\n",
    "#     )\n",
    "\n",
    "config._properties['timePartitioning'] = {'field': 'Month_Year'}\n",
    "config.write_disposition = bigquery.WriteDisposition.WRITE_TRUNCATE\n",
    "\n",
    "\n",
    "TC_Table_BQ = 'ADC.Trouble_Condition_Group'\n",
    "\n",
    "job_device_type= bq_client.load_table_from_dataframe(TC_pivot_table, TC_Table_BQ,job_config=config)"
   ]
  },
  {
   "cell_type": "code",
   "execution_count": null,
   "id": "9ee59b88-e664-418f-85d8-05f14f7f5f87",
   "metadata": {},
   "outputs": [],
   "source": [
    "# TC_name_pivot_table=pd.pivot_table(TC_closed_DF, values=['count_instance','Day_Diff'], index=['month_year','customer_id'], columns='trouble_condition_name',\n",
    "#                           aggfunc={'count_instance': np.sum,\n",
    "#                              'Day_Diff': np.mean})"
   ]
  },
  {
   "cell_type": "code",
   "execution_count": null,
   "id": "bcdf2ae7-dddc-4388-af67-60bd09b387f7",
   "metadata": {},
   "outputs": [],
   "source": [
    "# TC_name_pivot_table=TC_name_pivot_table.reset_index()"
   ]
  },
  {
   "cell_type": "code",
   "execution_count": null,
   "id": "c3b7df60-067f-4e11-b1d8-31157215e34d",
   "metadata": {},
   "outputs": [],
   "source": [
    "# TC_closed_DF['trouble_condition_name'].value_counts(normalize=True)*100"
   ]
  },
  {
   "cell_type": "code",
   "execution_count": null,
   "id": "ffe193b4-6a30-49e9-8acc-97e2aff12bae",
   "metadata": {},
   "outputs": [],
   "source": [
    "# TC_name_pivot_table.head()"
   ]
  },
  {
   "cell_type": "code",
   "execution_count": null,
   "id": "caea4dca-046f-4d31-a32c-7302b3903f90",
   "metadata": {},
   "outputs": [],
   "source": [
    "# TC_name_pivot_table.columns=['Month_Year','customer_id','Central_Station_Condition_diff_mean','Critical_System_Issue_diff_mean','Engagement_Issue_diff_mean','System_Condition_diff_mean','Central_Station_Condition_count','Critical_System_Issue_count','Engagement_Issue_count','System_Condition_count']"
   ]
  },
  {
   "cell_type": "code",
   "execution_count": null,
   "id": "7245d7ac-6b31-499a-bcc9-bfe7ae53cabb",
   "metadata": {},
   "outputs": [],
   "source": [
    "start_date = '2022-05-01'\n",
    "end_date = '2022-08-01'\n",
    "last_3months = (TC_pivot_table['Month_Year'] >= start_date) & (TC_pivot_table['Month_Year'] < end_date)"
   ]
  },
  {
   "cell_type": "code",
   "execution_count": null,
   "id": "fe044d44-24d8-40c6-bca1-51297af818bd",
   "metadata": {},
   "outputs": [],
   "source": [
    "TC_pivot_table.info()"
   ]
  },
  {
   "cell_type": "code",
   "execution_count": null,
   "id": "c13a9c1d-58f9-4ffc-bbc0-acf5355f6539",
   "metadata": {},
   "outputs": [],
   "source": [
    "Trouble_condition_DF_1=TC_pivot_table[last_3months]"
   ]
  },
  {
   "cell_type": "code",
   "execution_count": null,
   "id": "ff55f873-1db3-450f-8ed1-2f067bea85fa",
   "metadata": {},
   "outputs": [],
   "source": [
    "Trouble_condition_DF_1.info()"
   ]
  },
  {
   "cell_type": "code",
   "execution_count": null,
   "id": "a8ed57e3-9dac-48e2-8d4f-bf6c3fcb0957",
   "metadata": {},
   "outputs": [],
   "source": [
    "Trouble_condition_DF_wide=Trouble_condition_DF_1.groupby(['customer_id']).agg({'Central_Station_Condition_Issue_count':'sum','Critical_System_Issue_count':'sum','Engagement_Issue_count':'sum','System_Condition_Issue_count':'sum','Central_Station_Condition_diff_sum_hours':'sum','Critical_System_Issue_diff_sum_hours':'sum','Engagement_Issue_diff_sum_hours':'sum','System_Condition_diff_sum_hours':'sum'}).reset_index()"
   ]
  },
  {
   "cell_type": "code",
   "execution_count": null,
   "id": "c018ba62-58fd-433e-b938-e97f702d0654",
   "metadata": {},
   "outputs": [],
   "source": [
    "Trouble_condition_DF_wide.head()"
   ]
  },
  {
   "cell_type": "code",
   "execution_count": null,
   "id": "5f475213-9d96-405c-9f77-f0b23abe0ce7",
   "metadata": {},
   "outputs": [],
   "source": [
    "Trouble_condition_DF_wide.columns=['customer_id',\n",
    "'Central_Station_Condition_Issue_count_last3M',\n",
    "'Critical_System_Issue_count_last3M', \n",
    "'Engagement_Issue_count_last3M',\n",
    "'System_Condition_Issue_count_last3M',\n",
    "'Central_Station_Condition_Issue_duration_hours_sum_last3M',\n",
    "'Critical_System_Issue_duration_hours_sum_last3M',\n",
    "'Engagement_Issue_duration_hours_sum_last3M',\n",
    "'System_Condition_Issue_duration_hours_sum_last3M']"
   ]
  },
  {
   "cell_type": "code",
   "execution_count": null,
   "id": "9dbdcfa2-8f63-436b-9198-910d6b3afb78",
   "metadata": {},
   "outputs": [],
   "source": [
    "Trouble_condition_DF_wide.head()"
   ]
  },
  {
   "cell_type": "code",
   "execution_count": null,
   "id": "f9a0a601-ca61-4a79-8793-26fc0668880c",
   "metadata": {},
   "outputs": [],
   "source": [
    "Trouble_condition_DF_wide.info()"
   ]
  },
  {
   "cell_type": "code",
   "execution_count": null,
   "id": "5bfb3776-9a2d-418e-ba9c-3c515d4c4a88",
   "metadata": {},
   "outputs": [],
   "source": [
    "Trouble_condition_DF_wide['ref_date']=pd.to_datetime('2022-08-01')"
   ]
  },
  {
   "cell_type": "code",
   "execution_count": null,
   "id": "1f773fec-a5ef-47ee-bde6-4da2a5522722",
   "metadata": {},
   "outputs": [],
   "source": [
    "Trouble_condition_DF_wide.columns=['customer_id',\n",
    "'Central_Station_Condition_Issue_count_last3M',\n",
    "'Critical_System_Issue_count_last3M', \n",
    "'Engagement_Issue_count_last3M',\n",
    "'System_Condition_Issue_count_last3M',\n",
    "'Central_Station_Condition_Issue_duration_hours_sum_last3M',\n",
    "'Critical_System_Issue_duration_hours_sum_last3M',\n",
    "'Engagement_Issue_duration_hours_sum_last3M',\n",
    "'System_Condition_Issue_duration_hours_sum_last3M',\n",
    "'ref_end_date']"
   ]
  },
  {
   "cell_type": "code",
   "execution_count": null,
   "id": "029cbe81-6724-46f2-9b15-7952780869ae",
   "metadata": {},
   "outputs": [],
   "source": [
    "Trouble_condition_DF_wide=Trouble_condition_DF_wide[['ref_end_date','customer_id',\n",
    "'Central_Station_Condition_Issue_count_last3M',\n",
    "'Critical_System_Issue_count_last3M', \n",
    "'Engagement_Issue_count_last3M',\n",
    "'System_Condition_Issue_count_last3M',\n",
    "'Central_Station_Condition_Issue_duration_hours_sum_last3M',\n",
    "'Critical_System_Issue_duration_hours_sum_last3M',\n",
    "'Engagement_Issue_duration_hours_sum_last3M',\n",
    "'System_Condition_Issue_duration_hours_sum_last3M']]"
   ]
  },
  {
   "cell_type": "code",
   "execution_count": null,
   "id": "8a7ab4fe-69b1-4cfb-9d7b-11d35e47a65c",
   "metadata": {},
   "outputs": [],
   "source": [
    "config= bigquery.job.LoadJobConfig()\n",
    "\n",
    "# config = bigquery.LoadJobConfig(\n",
    "    \n",
    "#         schema=[\n",
    "#         bigquery.SchemaField(\"Month_Year\", bigquery.SqlTypeNames.TIMESTAMP),\n",
    "#         bigquery.SchemaField(\"customer_id\", bigquery.SqlTypeNames.STRING),\n",
    "#         bigquery.SchemaField(\"Central_Station_Condition_diff_mean\", bigquery.SqlTypeNames.TIMESTAMP),\n",
    "#         bigquery.SchemaField(\"Critical_System_Issue_diff_mean\", bigquery.SqlTypeNames.TIMESTAMP),\n",
    "#         bigquery.SchemaField(\"Engagement_Issue_diff_mean\", bigquery.SqlTypeNames.TIMESTAMP),\n",
    "#         bigquery.SchemaField(\"System_Condition_diff_mean\", bigquery.SqlTypeNames.TIMESTAMP),\n",
    "#         bigquery.SchemaField(\"Central_Station_Condition_diff_count\", bigquery.SqlTypeNames.NUMERIC),\n",
    "#         bigquery.SchemaField(\"Critical_System_Issue_diff_count\", bigquery.SqlTypeNames.NUMERIC),\n",
    "#         bigquery.SchemaField(\"Engagement_Issue_diff_count\", bigquery.SqlTypeNames.NUMERIC),\n",
    "#         bigquery.SchemaField(\"System_Condition_count\", bigquery.SqlTypeNames.NUMERIC) \n",
    "#       ],\n",
    "#       time_partitioning=bigquery.TimePartitioning(\n",
    "#             field=\"Month_Year\"  # Name of the column to use for partitioning.\n",
    "#         ),\n",
    "#     )\n",
    "\n",
    "# config._properties['timePartitioning'] = {'field': 'Month_Year'}\n",
    "config.write_disposition = bigquery.WriteDisposition.WRITE_TRUNCATE\n",
    "\n",
    "\n",
    "TC_Table_BQ = 'ADC.Trouble_Condition_Group_last3months_Aug2022'\n",
    "\n",
    "job_device_type= bq_client.load_table_from_dataframe(Trouble_condition_DF_wide, TC_Table_BQ,job_config=config)"
   ]
  },
  {
   "cell_type": "code",
   "execution_count": null,
   "id": "c4891783-9207-4a67-8c52-ecaf43aa7498",
   "metadata": {},
   "outputs": [],
   "source": []
  }
 ],
 "metadata": {
  "kernelspec": {
   "display_name": "Python 3 (ipykernel)",
   "language": "python",
   "name": "python3"
  },
  "language_info": {
   "codemirror_mode": {
    "name": "ipython",
    "version": 3
   },
   "file_extension": ".py",
   "mimetype": "text/x-python",
   "name": "python",
   "nbconvert_exporter": "python",
   "pygments_lexer": "ipython3",
   "version": "3.8.12"
  }
 },
 "nbformat": 4,
 "nbformat_minor": 5
}
