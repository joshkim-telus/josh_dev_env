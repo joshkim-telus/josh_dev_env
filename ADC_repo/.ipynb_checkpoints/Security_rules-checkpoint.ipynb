{
 "cells": [
  {
   "cell_type": "code",
   "execution_count": null,
   "id": "0442366b-ea04-4020-bb55-07e11d8e43bc",
   "metadata": {},
   "outputs": [],
   "source": [
    "#### import global modules\n",
    "import os\n",
    "import sys\n",
    "import pandas as pd\n",
    "from pathlib import Path\n",
    "from yaml import safe_load\n",
    "import google.oauth2.credentials\n",
    "from google.cloud import bigquery\n",
    "import numpy as np\n",
    "# Set global vars\n",
    "pth_project = Path(os.getcwd().split('notebooks')[0])\n",
    "pth_data = pth_project / 'data'\n",
    "pth_queries = pth_project / 'core' / 'queries'\n",
    "pth_creds = pth_project / 'conf' / 'local' / 'project_config.yaml'\n",
    "sys.path.insert(0, str(pth_project))\n",
    "d_project_config = safe_load(pth_creds.open())\n",
    "# d_params = safe_load((pth_project / 'core' / 'parameters' / 'common.yaml').open())['data_extract']\n",
    "\n",
    "# import local modules\n",
    "from core.utils.gcp import connect_bq_services\n",
    "# from core.etl.extract import extract_bq_data, extract_pr_codes, format_conv_df, filter_convs\n",
    "\n",
    "# Connect to google services\n",
    "bq_client = connect_bq_services(d_project_config['gcp-project-name'])\n",
    "pd.options.display.max_rows = 100"
   ]
  },
  {
   "cell_type": "code",
   "execution_count": null,
   "id": "4f717f95-d299-4523-adce-4e193fe3fb60",
   "metadata": {},
   "outputs": [],
   "source": [
    "def extract_bq_data(bq_client, sql=None, pth_query=None):\n",
    "    if sql is not None:\n",
    "        df = bq_client.query(sql).to_dataframe()\n",
    "    elif pth_query is not None:\n",
    "        sql = pth_query.read_text()\n",
    "        df = bq_client.query(sql).to_dataframe()\n",
    "    else:\n",
    "        raise ValueError('`sql` or `pth_query` should be set')  \n",
    "    return df"
   ]
  },
  {
   "cell_type": "code",
   "execution_count": null,
   "id": "7c26df4c-d355-43cb-ab4a-cadd7a8571e7",
   "metadata": {},
   "outputs": [],
   "source": [
    "Query='''\n",
    "\n",
    "select * from `cio-datahub-enterprise-pr-183a.src_adc.bq_security_rules`\n",
    "\n",
    "\n",
    "'''"
   ]
  },
  {
   "cell_type": "code",
   "execution_count": null,
   "id": "4bb4d9ba-dd79-4d83-94ba-921eb240693e",
   "metadata": {},
   "outputs": [],
   "source": [
    "Security_rules_DF= extract_bq_data(bq_client,sql=Query)"
   ]
  },
  {
   "cell_type": "code",
   "execution_count": null,
   "id": "f053c08c-04d2-4e5f-a41f-9983d3404fae",
   "metadata": {},
   "outputs": [],
   "source": [
    "Security_rules_DF.info()"
   ]
  },
  {
   "cell_type": "code",
   "execution_count": null,
   "id": "f0267caf-1671-4ca7-9e3d-a8458b229568",
   "metadata": {},
   "outputs": [],
   "source": [
    "Security_rules_DF.head()"
   ]
  },
  {
   "cell_type": "code",
   "execution_count": null,
   "id": "d7c62beb-f7a4-4764-adac-6fc0db1e77ce",
   "metadata": {},
   "outputs": [],
   "source": [
    "Security_rules_DF=Security_rules_DF[Security_rules_DF['deleted_date_utc'].isnull()]"
   ]
  },
  {
   "cell_type": "code",
   "execution_count": null,
   "id": "160cb270-feed-401c-a8b9-08cc0f0fad10",
   "metadata": {},
   "outputs": [],
   "source": [
    "Security_rules_DF['rule_type_desc'].value_counts()"
   ]
  },
  {
   "cell_type": "code",
   "execution_count": null,
   "id": "929662bd-0634-4f27-86be-af51e284be08",
   "metadata": {},
   "outputs": [],
   "source": []
  },
  {
   "cell_type": "code",
   "execution_count": null,
   "id": "ef29310a-6c16-4f98-bf72-9c5d26f8df48",
   "metadata": {},
   "outputs": [],
   "source": [
    "Security_rules_DF['device_type_exec_desc'].value_counts()"
   ]
  },
  {
   "cell_type": "code",
   "execution_count": null,
   "id": "f152f86a-f8e5-4fdd-8893-da16dffb6e29",
   "metadata": {},
   "outputs": [],
   "source": [
    "Security_rules_DF['device_type_trigger_desc'].value_counts()"
   ]
  },
  {
   "cell_type": "code",
   "execution_count": null,
   "id": "bced3a2c-5460-4510-9dbf-5feaf47c540f",
   "metadata": {},
   "outputs": [],
   "source": [
    "Security_rules_DF['deleted_date_utc'].value_counts()"
   ]
  },
  {
   "cell_type": "code",
   "execution_count": null,
   "id": "cef91f48-e722-4027-8c96-8c2fdc5dda66",
   "metadata": {},
   "outputs": [],
   "source": [
    "Security_rules_DF_1=Security_rules_DF[['customer_id','device_type_trigger_desc','rule_type_desc']]"
   ]
  },
  {
   "cell_type": "code",
   "execution_count": null,
   "id": "e93b20a0-9104-4187-9bbf-10d696277e61",
   "metadata": {},
   "outputs": [],
   "source": [
    "Security_rules_DF_1.head()"
   ]
  },
  {
   "cell_type": "code",
   "execution_count": null,
   "id": "51662d51-580b-4708-b576-9169952f4025",
   "metadata": {},
   "outputs": [],
   "source": [
    "config= bigquery.job.LoadJobConfig()\n",
    "\n",
    "# config._properties['timePartitioning'] = {'field': 'Month_Year'}\n",
    "config.write_disposition = bigquery.WriteDisposition.WRITE_TRUNCATE\n",
    "\n",
    "\n",
    "Table_BQ = 'ADC.Customer_Security_rules_configured'\n",
    "\n",
    "bq_table_instance= bq_client.load_table_from_dataframe(Security_rules_DF_1, Table_BQ,job_config=config)"
   ]
  },
  {
   "cell_type": "code",
   "execution_count": null,
   "id": "5b4585ae-93cf-487b-8837-41b1f2d56f31",
   "metadata": {},
   "outputs": [],
   "source": [
    "Query_1='''\n",
    "\n",
    "select * from `cio-datahub-enterprise-pr-183a.src_adc.bq_light_rules`\n",
    "\n",
    "\n",
    "'''"
   ]
  },
  {
   "cell_type": "code",
   "execution_count": null,
   "id": "80093ef0-3241-46ac-a3f6-42a60b53accf",
   "metadata": {},
   "outputs": [],
   "source": [
    "Light_rules_DF= extract_bq_data(bq_client,sql=Query_1)"
   ]
  },
  {
   "cell_type": "code",
   "execution_count": null,
   "id": "c9012b4c-32ff-4e77-9ec3-b12eda38f38b",
   "metadata": {},
   "outputs": [],
   "source": [
    "Light_rules_DF.info()"
   ]
  },
  {
   "cell_type": "code",
   "execution_count": null,
   "id": "e775c26e-8181-4f36-810a-d59a2af3e011",
   "metadata": {},
   "outputs": [],
   "source": [
    "Light_rules_DF=Light_rules_DF[Light_rules_DF['deleted_date_utc'].isnull()]"
   ]
  },
  {
   "cell_type": "code",
   "execution_count": null,
   "id": "e286698f-8db6-40d4-bcc9-74153f998fad",
   "metadata": {},
   "outputs": [],
   "source": [
    "Light_rules_DF.head()"
   ]
  },
  {
   "cell_type": "code",
   "execution_count": null,
   "id": "134ea2c7-c95a-4e52-8b7d-f638e7f339da",
   "metadata": {},
   "outputs": [],
   "source": [
    "Light_rules_DF['sunrise_based_id'].value_counts()"
   ]
  },
  {
   "cell_type": "code",
   "execution_count": null,
   "id": "4aadb527-73f1-49a1-a358-59f353da16d7",
   "metadata": {},
   "outputs": [],
   "source": [
    "Light_rules_DF['device_type_trigger_desc'].value_counts()"
   ]
  },
  {
   "cell_type": "code",
   "execution_count": null,
   "id": "28b3a455-fdb7-4156-982f-882d7569faa6",
   "metadata": {},
   "outputs": [],
   "source": [
    "Light_rules_DF['rule_type_desc'].value_counts()"
   ]
  },
  {
   "cell_type": "code",
   "execution_count": null,
   "id": "08db0777-bde9-4169-b4eb-6fc194ab3759",
   "metadata": {},
   "outputs": [],
   "source": [
    "Light_rules_DF['device_type_exec_desc'].value_counts()"
   ]
  },
  {
   "cell_type": "code",
   "execution_count": null,
   "id": "5e36d988-27b6-43aa-b426-6eacf4b37108",
   "metadata": {},
   "outputs": [],
   "source": [
    "Light_rules_DF_1=Light_rules_DF[['customer_id','device_type_exec_desc','device_type_trigger_desc','rule_type_desc']]"
   ]
  },
  {
   "cell_type": "code",
   "execution_count": null,
   "id": "8ecd14ac-f7e1-47e9-9c3f-debb8b915617",
   "metadata": {},
   "outputs": [],
   "source": [
    "Light_rules_DF_1.head()"
   ]
  },
  {
   "cell_type": "code",
   "execution_count": null,
   "id": "e943ea1c-354f-4af2-b210-fb7e1df28953",
   "metadata": {},
   "outputs": [],
   "source": [
    "config= bigquery.job.LoadJobConfig()\n",
    "\n",
    "# config._properties['timePartitioning'] = {'field': 'Month_Year'}\n",
    "config.write_disposition = bigquery.WriteDisposition.WRITE_TRUNCATE\n",
    "\n",
    "\n",
    "Table_BQ = 'ADC.Customer_light_rules_configured'\n",
    "\n",
    "bq_table_instance= bq_client.load_table_from_dataframe(Light_rules_DF_1, Table_BQ,job_config=config)"
   ]
  },
  {
   "cell_type": "code",
   "execution_count": null,
   "id": "ce224b8c-1888-464b-85ed-e8ce57fe3f7d",
   "metadata": {},
   "outputs": [],
   "source": [
    "Query_video_rule = '''\n",
    "\n",
    "select * from `cio-datahub-enterprise-pr-183a.src_adc.bq_video_analytics_rule`\n",
    "\n",
    "\n",
    "'''"
   ]
  },
  {
   "cell_type": "code",
   "execution_count": null,
   "id": "2cf66294-b7b6-4b1f-9b9e-cf7971723e75",
   "metadata": {},
   "outputs": [],
   "source": [
    "Video_rules_DF= extract_bq_data(bq_client,sql=Query_video_rule)"
   ]
  },
  {
   "cell_type": "code",
   "execution_count": null,
   "id": "af9a4ffb-6ff7-4f9b-be62-1aad398320cd",
   "metadata": {},
   "outputs": [],
   "source": [
    "Video_rules_DF.info()"
   ]
  },
  {
   "cell_type": "code",
   "execution_count": null,
   "id": "ef26c275-9161-46df-ba7f-4baad4f03558",
   "metadata": {},
   "outputs": [],
   "source": [
    "Video_rules_DF.head()"
   ]
  },
  {
   "cell_type": "code",
   "execution_count": null,
   "id": "a3d0d6a8-b677-4a45-aa46-677f32d9eaed",
   "metadata": {},
   "outputs": [],
   "source": [
    "Video_rules_DF['rule_name'].value_counts()"
   ]
  },
  {
   "cell_type": "code",
   "execution_count": null,
   "id": "42dd0492-dce3-448f-8738-af32712b294e",
   "metadata": {},
   "outputs": [],
   "source": [
    "Video_rules_DF=Video_rules_DF[Video_rules_DF['enabled']==True]"
   ]
  },
  {
   "cell_type": "code",
   "execution_count": null,
   "id": "c673f806-00d1-4548-8974-b535779cc5dc",
   "metadata": {},
   "outputs": [],
   "source": [
    "Video_rules_DF['count']=1"
   ]
  },
  {
   "cell_type": "code",
   "execution_count": null,
   "id": "57885572-4c7b-4e84-9da0-a3c85396835c",
   "metadata": {},
   "outputs": [],
   "source": [
    "Video_rules_DF_pivot_table=pd.pivot_table(Video_rules_DF, values=['count'], index=['customer_id'],\n",
    "                          aggfunc={'count': np.sum}).reset_index()"
   ]
  },
  {
   "cell_type": "code",
   "execution_count": null,
   "id": "588b2eb3-fee8-4112-88e1-25a918933582",
   "metadata": {},
   "outputs": [],
   "source": [
    "Video_rules_DF_pivot_table.head()"
   ]
  },
  {
   "cell_type": "code",
   "execution_count": null,
   "id": "b1c39273-c0f9-41a0-9bf4-9b2f5c2a29d4",
   "metadata": {},
   "outputs": [],
   "source": [
    "Video_rules_DF_pivot_table.columns=['customer_id','Enabled_video_rules_count']"
   ]
  },
  {
   "cell_type": "code",
   "execution_count": null,
   "id": "96babf47-a6c0-42b2-a31c-a35ea294d108",
   "metadata": {},
   "outputs": [],
   "source": [
    "Video_rules_DF_pivot_table.head()"
   ]
  },
  {
   "cell_type": "code",
   "execution_count": null,
   "id": "84cd7718-83ba-47a8-8851-00f432b947e8",
   "metadata": {},
   "outputs": [],
   "source": [
    "config= bigquery.job.LoadJobConfig()\n",
    "\n",
    "# config._properties['timePartitioning'] = {'field': 'Month_Year'}\n",
    "config.write_disposition = bigquery.WriteDisposition.WRITE_TRUNCATE\n",
    "\n",
    "\n",
    "Table_BQ = 'ADC.Customer_video_rules_configured_count'\n",
    "\n",
    "bq_table_instance= bq_client.load_table_from_dataframe(Video_rules_DF_pivot_table, Table_BQ,job_config=config)"
   ]
  },
  {
   "cell_type": "code",
   "execution_count": null,
   "id": "1e222299-3476-4a15-b815-b065306825ed",
   "metadata": {},
   "outputs": [],
   "source": []
  }
 ],
 "metadata": {
  "kernelspec": {
   "display_name": "Python 3 (ipykernel)",
   "language": "python",
   "name": "python3"
  },
  "language_info": {
   "codemirror_mode": {
    "name": "ipython",
    "version": 3
   },
   "file_extension": ".py",
   "mimetype": "text/x-python",
   "name": "python",
   "nbconvert_exporter": "python",
   "pygments_lexer": "ipython3",
   "version": "3.7.12"
  }
 },
 "nbformat": 4,
 "nbformat_minor": 5
}
