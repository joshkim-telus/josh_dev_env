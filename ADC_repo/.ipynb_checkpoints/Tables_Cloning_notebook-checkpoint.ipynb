{
 "cells": [
  {
   "cell_type": "code",
   "execution_count": 50,
   "id": "e8bc7cb1-84ed-4036-9a10-0a765500dae2",
   "metadata": {},
   "outputs": [],
   "source": [
    "#### import global modules\n",
    "import os\n",
    "import sys\n",
    "import pandas as pd\n",
    "import numpy as np\n",
    "from pathlib import Path\n",
    "from yaml import safe_load\n",
    "import google.oauth2.credentials\n",
    "from google.cloud import bigquery\n",
    "import gc\n",
    "\n",
    "# Set global vars\n",
    "pth_project = Path(os.getcwd().split('notebooks')[0])\n",
    "pth_data = pth_project / 'data'\n",
    "pth_queries = pth_project / 'core' / 'queries'\n",
    "pth_creds = pth_project / 'conf' / 'local' / 'project_config.yaml'\n",
    "sys.path.insert(0, str(pth_project))\n",
    "d_project_config = safe_load(pth_creds.open())\n",
    "# d_params = safe_load((pth_project / 'core' / 'parameters' / 'common.yaml').open())['data_extract']\n",
    "\n",
    "# import local modules\n",
    "from core.utils.gcp import connect_bq_services\n",
    "# from core.etl.extract import extract_bq_data, extract_pr_codes, format_conv_df, filter_convs\n",
    "\n",
    "# Connect to google services\n",
    "bq_client = connect_bq_services(d_project_config['gcp-project-name'])\n",
    "pd.options.display.max_rows = 100"
   ]
  },
  {
   "cell_type": "code",
   "execution_count": 51,
   "id": "66519691-ae34-4777-86e0-c813af6fe150",
   "metadata": {},
   "outputs": [],
   "source": [
    "PROJECT_ID=d_project_config['gcp-project-name']"
   ]
  },
  {
   "cell_type": "code",
   "execution_count": 52,
   "id": "7597bfdf-fd6e-4146-a490-4bb600088471",
   "metadata": {},
   "outputs": [
    {
     "data": {
      "text/plain": [
       "'divgpras-pr-579355'"
      ]
     },
     "execution_count": 52,
     "metadata": {},
     "output_type": "execute_result"
    }
   ],
   "source": [
    "PROJECT_ID"
   ]
  },
  {
   "cell_type": "code",
   "execution_count": 53,
   "id": "ee8961bc-1c95-4b70-97b5-fadd78d803eb",
   "metadata": {},
   "outputs": [
    {
     "data": {
      "text/plain": [
       "<google.api_core.page_iterator.HTTPIterator at 0x7f90b05f1c40>"
      ]
     },
     "execution_count": 53,
     "metadata": {},
     "output_type": "execute_result"
    }
   ],
   "source": [
    "bq_client.list_datasets()"
   ]
  },
  {
   "cell_type": "code",
   "execution_count": 54,
   "id": "2e06636d-1b35-40c6-842f-b4d24703adc2",
   "metadata": {},
   "outputs": [],
   "source": [
    "datasets = list(bq_client.list_datasets())\n",
    "table_refs = []\n",
    "\n"
   ]
  },
  {
   "cell_type": "code",
   "execution_count": 55,
   "id": "dee86d90-5918-4c2d-b50c-161348ea0c46",
   "metadata": {},
   "outputs": [
    {
     "data": {
      "text/plain": [
       "[<google.cloud.bigquery.dataset.DatasetListItem at 0x7f90b04abeb0>,\n",
       " <google.cloud.bigquery.dataset.DatasetListItem at 0x7f90b0f86970>,\n",
       " <google.cloud.bigquery.dataset.DatasetListItem at 0x7f90b0f604c0>,\n",
       " <google.cloud.bigquery.dataset.DatasetListItem at 0x7f90b0f60580>,\n",
       " <google.cloud.bigquery.dataset.DatasetListItem at 0x7f90b0f984f0>,\n",
       " <google.cloud.bigquery.dataset.DatasetListItem at 0x7f90b0f982e0>]"
      ]
     },
     "execution_count": 55,
     "metadata": {},
     "output_type": "execute_result"
    }
   ],
   "source": [
    "datasets"
   ]
  },
  {
   "cell_type": "code",
   "execution_count": 56,
   "id": "02357c39-a4be-4d88-b068-b3b0d97cb9cf",
   "metadata": {},
   "outputs": [
    {
     "name": "stdout",
     "output_type": "stream",
     "text": [
      "Datasets in project divgpras-pr-579355:\n"
     ]
    }
   ],
   "source": [
    "\n",
    "if datasets:\n",
    "    print(\"Datasets in project {}:\".format(PROJECT_ID))\n",
    "    for dataset in datasets:\n",
    "        # print(\"\\t{}\".format(dataset.dataset_id))\n",
    "        tables = bq_client.list_tables(dataset)\n",
    "        for table in tables:\n",
    "            # print(\"{}.{}.{}\".format(table.project, table.dataset_id, table.table_id))\n",
    "            table_refs.append(\"{}.{}.{}\".format(table.project, table.dataset_id, table.table_id))\n",
    "\n",
    "else:\n",
    "    print(\"{} project does not contain any datasets.\".format(PROJECT_ID))"
   ]
  },
  {
   "cell_type": "code",
   "execution_count": 57,
   "id": "c56aa790-ae34-48ee-881f-bca9e7686cfa",
   "metadata": {},
   "outputs": [
    {
     "data": {
      "text/plain": [
       "['divgpras-pr-579355.ADC_Feature_Datastore.ADC_Master_Data',\n",
       " 'divgpras-pr-579355.ADC_updated.ADC_ADT_Customer_31Aug2022',\n",
       " 'divgpras-pr-579355.ADC_updated.ADC_ADT_mapping',\n",
       " 'divgpras-pr-579355.ADC_updated.ADC_Camera_details',\n",
       " 'divgpras-pr-579355.ADC_updated.ADC_Inventory_device_data',\n",
       " 'divgpras-pr-579355.ADC_updated.ADC_Inventory_device_data_Feb2023',\n",
       " 'divgpras-pr-579355.ADC_updated.ADC_Telus_Customer_31Aug2022',\n",
       " 'divgpras-pr-579355.ADC_updated.ADC_Telus_Customers_Nov22',\n",
       " 'divgpras-pr-579355.ADC_updated.ADC_resi_customers_base_31Aug2022',\n",
       " 'divgpras-pr-579355.ADC_updated.ADT_Churn_Nov2022',\n",
       " 'divgpras-pr-579355.ADC_updated.ADT_Churn_Since_Jan2021',\n",
       " 'divgpras-pr-579355.ADC_updated.ADT_Customer_base',\n",
       " 'divgpras-pr-579355.ADC_updated.Best_Practices_Customers',\n",
       " 'divgpras-pr-579355.ADC_updated.Best_Practices_Customers_31Aug2022',\n",
       " 'divgpras-pr-579355.ADC_updated.Best_Practices_Customers_latest',\n",
       " 'divgpras-pr-579355.ADC_updated.SHS_Churn_Nov_2022',\n",
       " 'divgpras-pr-579355.ADC_updated.Smart_Camera_Amalysis_Oct2022',\n",
       " 'divgpras-pr-579355.ADC_updated.Telus_ADC_missed_churn',\n",
       " 'divgpras-pr-579355.ADC_updated.Telus_SMHM_Nov2022_Deacts',\n",
       " 'divgpras-pr-579355.ADC_updated.Telus_SMHM_Sep2022_Deacts',\n",
       " 'divgpras-pr-579355.ADC_updated.Telus_internet_31Aug2022',\n",
       " 'divgpras-pr-579355.ADC_updated.Telus_internet_31Oct2022',\n",
       " 'divgpras-pr-579355.ADT.ADT_Churn_Oct_Dec_2022',\n",
       " 'divgpras-pr-579355.SHS.ADC_SMHM_CustomerBase_NOV2022',\n",
       " 'divgpras-pr-579355.SHS.ADC_SMHM_CustomerBase_OCT2022',\n",
       " 'divgpras-pr-579355.SHS.ADC_SMHM_CustomerBase_SEP2022',\n",
       " 'divgpras-pr-579355.SHS.Audit_data_usage',\n",
       " 'divgpras-pr-579355.SHS.HBUR_Campaign_data',\n",
       " 'divgpras-pr-579355.SHS.HBUR_Campaign_data_SAS',\n",
       " 'divgpras-pr-579355.SHS.HBUR_Control_data',\n",
       " 'divgpras-pr-579355.SHS.InVolChurn_Jan2023_Mar2023',\n",
       " 'divgpras-pr-579355.SHS.Loading_data',\n",
       " 'divgpras-pr-579355.SHS.Never_pay_customers',\n",
       " 'divgpras-pr-579355.SHS.Never_pay_customers_2022',\n",
       " 'divgpras-pr-579355.SHS.Never_pay_customers_2023',\n",
       " 'divgpras-pr-579355.SHS.Order_details_Jan2023_Mar2023',\n",
       " 'divgpras-pr-579355.SHS.SHS_ALR_Campaign_data',\n",
       " 'divgpras-pr-579355.SHS.SHS_ALR_Campaign_data_Control_Eligble_not_recieved',\n",
       " 'divgpras-pr-579355.SHS.SHS_ALR_Campaign_data_Control_NotOpened_Jan_June_2022',\n",
       " 'divgpras-pr-579355.SHS.SHS_ALR_Campaign_data_Jan_June_2022',\n",
       " 'divgpras-pr-579355.SHS.SHS_ALR_Campaign_data_Mar2022',\n",
       " 'divgpras-pr-579355.SHS.SHS_ALR_Campaign_data_May_Aug_2022',\n",
       " 'divgpras-pr-579355.SHS.SHS_ALR_Campaign_data_SAS',\n",
       " 'divgpras-pr-579355.SHS.SHS_Churn_Analysis_NOV2022',\n",
       " 'divgpras-pr-579355.SHS.SHS_Churn_Analysis_OCT2022',\n",
       " 'divgpras-pr-579355.SHS.SHS_Churn_Analysis_SEP2022',\n",
       " 'divgpras-pr-579355.SHS.SHS_DEACTS_AUG2022',\n",
       " 'divgpras-pr-579355.SHS.SHS_DEACTS_DEC2022',\n",
       " 'divgpras-pr-579355.SHS.SHS_DEACTS_NOV2022',\n",
       " 'divgpras-pr-579355.SHS.SHS_DEACTS_OCT2022',\n",
       " 'divgpras-pr-579355.SHS.SHS_DEACTS_SEP2022',\n",
       " 'divgpras-pr-579355.SHS.SHS_GTM_14Dec2022',\n",
       " 'divgpras-pr-579355.SHS.SHS_GTM_ADC_UseCases_30Nov2022',\n",
       " 'divgpras-pr-579355.SHS.SHS_Model_score',\n",
       " 'divgpras-pr-579355.SHS.SHS_Model_score_top_decile',\n",
       " 'divgpras-pr-579355.SHS.SHS_churn_model_base_data_sep_nov_2022',\n",
       " 'divgpras-pr-579355.SHS.SHS_churn_model_base_score_data_jan23_mar23',\n",
       " 'divgpras-pr-579355.SHS.SHS_churn_model_base_score_data_oct2022_jan2023',\n",
       " 'divgpras-pr-579355.SHS.SHS_churn_model_base_trn_data_dec22_feb23',\n",
       " 'divgpras-pr-579355.SHS.SHS_churn_model_score_data_Oct2022_Jan2023',\n",
       " 'divgpras-pr-579355.SHS.SHS_churn_model_score_data_jan23_mar2023',\n",
       " 'divgpras-pr-579355.SHS.SHS_churn_model_train_data_dec22_feb23',\n",
       " 'divgpras-pr-579355.SHS.SHS_churn_model_train_data_sep_nov_2022',\n",
       " 'divgpras-pr-579355.SHS.SMHM_Deact_Dec2022_Feb2023',\n",
       " 'divgpras-pr-579355.SHS.SMHM_Deact_Mar2023',\n",
       " 'divgpras-pr-579355.SHS.Santa_Campaign',\n",
       " 'divgpras-pr-579355.SHS.VolChurn_Jan2023_Mar2023',\n",
       " 'divgpras-pr-579355.nlp.Referral_BAN',\n",
       " 'divgpras-pr-579355.nlp.Referral_BAN_date',\n",
       " 'divgpras-pr-579355.nlp.Referral_BAN_log',\n",
       " 'divgpras-pr-579355.nlp.ref_data_examples']"
      ]
     },
     "execution_count": 57,
     "metadata": {},
     "output_type": "execute_result"
    }
   ],
   "source": [
    "table_refs"
   ]
  },
  {
   "cell_type": "code",
   "execution_count": 59,
   "id": "287aae23-d255-4431-a09f-5213c0db4243",
   "metadata": {},
   "outputs": [],
   "source": [
    "# divg-team-v02-pr-5de84a\n",
    "\n"
   ]
  },
  {
   "cell_type": "code",
   "execution_count": 60,
   "id": "1aaed036-2f62-4472-92e2-5c9ca4a35e0c",
   "metadata": {},
   "outputs": [],
   "source": [
    "def extract_bq_data(bq_client, sql=None, pth_query=None):\n",
    "    if sql is not None:\n",
    "        df = bq_client.query(sql).to_dataframe()\n",
    "    elif pth_query is not None:\n",
    "        sql = pth_query.read_text()\n",
    "        df = bq_client.query(sql).to_dataframe()\n",
    "    else:\n",
    "        raise ValueError('`sql` or `pth_query` should be set')  \n",
    "    return df"
   ]
  },
  {
   "cell_type": "code",
   "execution_count": 72,
   "id": "c3fffd01-0bb1-4a5e-b150-e4d5acd778f6",
   "metadata": {},
   "outputs": [],
   "source": [
    "table_refs_1=['divgpras-pr-579355.SHS.SMHM_Deact_Mar2023']"
   ]
  },
  {
   "cell_type": "code",
   "execution_count": 74,
   "id": "3368cff1-a430-43c3-9334-a4bc45944d37",
   "metadata": {},
   "outputs": [
    {
     "name": "stdout",
     "output_type": "stream",
     "text": [
      " CREATE TABLE `divg-team-v02-pr-5de84a.adc_backup.ADC_Master_Data`\n",
      "    CLONE `divgpras-pr-579355.ADC_Feature_Datastore.ADC_Master_Data`; \n",
      " CREATE TABLE `divg-team-v02-pr-5de84a.adc_backup.ADC_ADT_Customer_31Aug2022`\n",
      "    CLONE `divgpras-pr-579355.ADC_updated.ADC_ADT_Customer_31Aug2022`; \n",
      " CREATE TABLE `divg-team-v02-pr-5de84a.adc_backup.ADC_ADT_mapping`\n",
      "    CLONE `divgpras-pr-579355.ADC_updated.ADC_ADT_mapping`; \n",
      " CREATE TABLE `divg-team-v02-pr-5de84a.adc_backup.ADC_Camera_details`\n",
      "    CLONE `divgpras-pr-579355.ADC_updated.ADC_Camera_details`; \n",
      " CREATE TABLE `divg-team-v02-pr-5de84a.adc_backup.ADC_Inventory_device_data`\n",
      "    CLONE `divgpras-pr-579355.ADC_updated.ADC_Inventory_device_data`; \n",
      " CREATE TABLE `divg-team-v02-pr-5de84a.adc_backup.ADC_Inventory_device_data_Feb2023`\n",
      "    CLONE `divgpras-pr-579355.ADC_updated.ADC_Inventory_device_data_Feb2023`; \n",
      " CREATE TABLE `divg-team-v02-pr-5de84a.adc_backup.ADC_Telus_Customer_31Aug2022`\n",
      "    CLONE `divgpras-pr-579355.ADC_updated.ADC_Telus_Customer_31Aug2022`; \n",
      " CREATE TABLE `divg-team-v02-pr-5de84a.adc_backup.ADC_Telus_Customers_Nov22`\n",
      "    CLONE `divgpras-pr-579355.ADC_updated.ADC_Telus_Customers_Nov22`; \n",
      " CREATE TABLE `divg-team-v02-pr-5de84a.adc_backup.ADC_resi_customers_base_31Aug2022`\n",
      "    CLONE `divgpras-pr-579355.ADC_updated.ADC_resi_customers_base_31Aug2022`; \n",
      " CREATE TABLE `divg-team-v02-pr-5de84a.adc_backup.ADT_Churn_Nov2022`\n",
      "    CLONE `divgpras-pr-579355.ADC_updated.ADT_Churn_Nov2022`; \n",
      " CREATE TABLE `divg-team-v02-pr-5de84a.adc_backup.ADT_Churn_Since_Jan2021`\n",
      "    CLONE `divgpras-pr-579355.ADC_updated.ADT_Churn_Since_Jan2021`; \n",
      " CREATE TABLE `divg-team-v02-pr-5de84a.adc_backup.ADT_Customer_base`\n",
      "    CLONE `divgpras-pr-579355.ADC_updated.ADT_Customer_base`; \n",
      " CREATE TABLE `divg-team-v02-pr-5de84a.adc_backup.Best_Practices_Customers`\n",
      "    CLONE `divgpras-pr-579355.ADC_updated.Best_Practices_Customers`; \n",
      " CREATE TABLE `divg-team-v02-pr-5de84a.adc_backup.Best_Practices_Customers_31Aug2022`\n",
      "    CLONE `divgpras-pr-579355.ADC_updated.Best_Practices_Customers_31Aug2022`; \n",
      " CREATE TABLE `divg-team-v02-pr-5de84a.adc_backup.Best_Practices_Customers_latest`\n",
      "    CLONE `divgpras-pr-579355.ADC_updated.Best_Practices_Customers_latest`; \n",
      " CREATE TABLE `divg-team-v02-pr-5de84a.adc_backup.SHS_Churn_Nov_2022`\n",
      "    CLONE `divgpras-pr-579355.ADC_updated.SHS_Churn_Nov_2022`; \n",
      " CREATE TABLE `divg-team-v02-pr-5de84a.adc_backup.Smart_Camera_Amalysis_Oct2022`\n",
      "    CLONE `divgpras-pr-579355.ADC_updated.Smart_Camera_Amalysis_Oct2022`; \n",
      " CREATE TABLE `divg-team-v02-pr-5de84a.adc_backup.Telus_ADC_missed_churn`\n",
      "    CLONE `divgpras-pr-579355.ADC_updated.Telus_ADC_missed_churn`; \n",
      " CREATE TABLE `divg-team-v02-pr-5de84a.adc_backup.Telus_SMHM_Nov2022_Deacts`\n",
      "    CLONE `divgpras-pr-579355.ADC_updated.Telus_SMHM_Nov2022_Deacts`; \n",
      " CREATE TABLE `divg-team-v02-pr-5de84a.adc_backup.Telus_SMHM_Sep2022_Deacts`\n",
      "    CLONE `divgpras-pr-579355.ADC_updated.Telus_SMHM_Sep2022_Deacts`; \n",
      " CREATE TABLE `divg-team-v02-pr-5de84a.adc_backup.Telus_internet_31Aug2022`\n",
      "    CLONE `divgpras-pr-579355.ADC_updated.Telus_internet_31Aug2022`; \n",
      " CREATE TABLE `divg-team-v02-pr-5de84a.adc_backup.Telus_internet_31Oct2022`\n",
      "    CLONE `divgpras-pr-579355.ADC_updated.Telus_internet_31Oct2022`; \n",
      " CREATE TABLE `divg-team-v02-pr-5de84a.adc_backup.ADT_Churn_Oct_Dec_2022`\n",
      "    CLONE `divgpras-pr-579355.ADT.ADT_Churn_Oct_Dec_2022`; \n",
      " CREATE TABLE `divg-team-v02-pr-5de84a.adc_backup.ADC_SMHM_CustomerBase_NOV2022`\n",
      "    CLONE `divgpras-pr-579355.SHS.ADC_SMHM_CustomerBase_NOV2022`; \n",
      " CREATE TABLE `divg-team-v02-pr-5de84a.adc_backup.ADC_SMHM_CustomerBase_OCT2022`\n",
      "    CLONE `divgpras-pr-579355.SHS.ADC_SMHM_CustomerBase_OCT2022`; \n",
      " CREATE TABLE `divg-team-v02-pr-5de84a.adc_backup.ADC_SMHM_CustomerBase_SEP2022`\n",
      "    CLONE `divgpras-pr-579355.SHS.ADC_SMHM_CustomerBase_SEP2022`; \n",
      " CREATE TABLE `divg-team-v02-pr-5de84a.adc_backup.Audit_data_usage`\n",
      "    CLONE `divgpras-pr-579355.SHS.Audit_data_usage`; \n",
      " CREATE TABLE `divg-team-v02-pr-5de84a.adc_backup.HBUR_Campaign_data`\n",
      "    CLONE `divgpras-pr-579355.SHS.HBUR_Campaign_data`; \n",
      " CREATE TABLE `divg-team-v02-pr-5de84a.adc_backup.HBUR_Campaign_data_SAS`\n",
      "    CLONE `divgpras-pr-579355.SHS.HBUR_Campaign_data_SAS`; \n",
      " CREATE TABLE `divg-team-v02-pr-5de84a.adc_backup.HBUR_Control_data`\n",
      "    CLONE `divgpras-pr-579355.SHS.HBUR_Control_data`; \n",
      " CREATE TABLE `divg-team-v02-pr-5de84a.adc_backup.InVolChurn_Jan2023_Mar2023`\n",
      "    CLONE `divgpras-pr-579355.SHS.InVolChurn_Jan2023_Mar2023`; \n",
      " CREATE TABLE `divg-team-v02-pr-5de84a.adc_backup.Loading_data`\n",
      "    CLONE `divgpras-pr-579355.SHS.Loading_data`; \n",
      " CREATE TABLE `divg-team-v02-pr-5de84a.adc_backup.Never_pay_customers`\n",
      "    CLONE `divgpras-pr-579355.SHS.Never_pay_customers`; \n",
      " CREATE TABLE `divg-team-v02-pr-5de84a.adc_backup.Never_pay_customers_2022`\n",
      "    CLONE `divgpras-pr-579355.SHS.Never_pay_customers_2022`; \n",
      " CREATE TABLE `divg-team-v02-pr-5de84a.adc_backup.Never_pay_customers_2023`\n",
      "    CLONE `divgpras-pr-579355.SHS.Never_pay_customers_2023`; \n",
      " CREATE TABLE `divg-team-v02-pr-5de84a.adc_backup.Order_details_Jan2023_Mar2023`\n",
      "    CLONE `divgpras-pr-579355.SHS.Order_details_Jan2023_Mar2023`; \n",
      " CREATE TABLE `divg-team-v02-pr-5de84a.adc_backup.SHS_ALR_Campaign_data`\n",
      "    CLONE `divgpras-pr-579355.SHS.SHS_ALR_Campaign_data`; \n",
      " CREATE TABLE `divg-team-v02-pr-5de84a.adc_backup.SHS_ALR_Campaign_data_Control_Eligble_not_recieved`\n",
      "    CLONE `divgpras-pr-579355.SHS.SHS_ALR_Campaign_data_Control_Eligble_not_recieved`; \n",
      " CREATE TABLE `divg-team-v02-pr-5de84a.adc_backup.SHS_ALR_Campaign_data_Control_NotOpened_Jan_June_2022`\n",
      "    CLONE `divgpras-pr-579355.SHS.SHS_ALR_Campaign_data_Control_NotOpened_Jan_June_2022`; \n",
      " CREATE TABLE `divg-team-v02-pr-5de84a.adc_backup.SHS_ALR_Campaign_data_Jan_June_2022`\n",
      "    CLONE `divgpras-pr-579355.SHS.SHS_ALR_Campaign_data_Jan_June_2022`; \n",
      " CREATE TABLE `divg-team-v02-pr-5de84a.adc_backup.SHS_ALR_Campaign_data_Mar2022`\n",
      "    CLONE `divgpras-pr-579355.SHS.SHS_ALR_Campaign_data_Mar2022`; \n",
      " CREATE TABLE `divg-team-v02-pr-5de84a.adc_backup.SHS_ALR_Campaign_data_May_Aug_2022`\n",
      "    CLONE `divgpras-pr-579355.SHS.SHS_ALR_Campaign_data_May_Aug_2022`; \n",
      " CREATE TABLE `divg-team-v02-pr-5de84a.adc_backup.SHS_ALR_Campaign_data_SAS`\n",
      "    CLONE `divgpras-pr-579355.SHS.SHS_ALR_Campaign_data_SAS`; \n",
      " CREATE TABLE `divg-team-v02-pr-5de84a.adc_backup.SHS_Churn_Analysis_NOV2022`\n",
      "    CLONE `divgpras-pr-579355.SHS.SHS_Churn_Analysis_NOV2022`; \n",
      " CREATE TABLE `divg-team-v02-pr-5de84a.adc_backup.SHS_Churn_Analysis_OCT2022`\n",
      "    CLONE `divgpras-pr-579355.SHS.SHS_Churn_Analysis_OCT2022`; \n",
      " CREATE TABLE `divg-team-v02-pr-5de84a.adc_backup.SHS_Churn_Analysis_SEP2022`\n",
      "    CLONE `divgpras-pr-579355.SHS.SHS_Churn_Analysis_SEP2022`; \n",
      " CREATE TABLE `divg-team-v02-pr-5de84a.adc_backup.SHS_DEACTS_AUG2022`\n",
      "    CLONE `divgpras-pr-579355.SHS.SHS_DEACTS_AUG2022`; \n",
      " CREATE TABLE `divg-team-v02-pr-5de84a.adc_backup.SHS_DEACTS_DEC2022`\n",
      "    CLONE `divgpras-pr-579355.SHS.SHS_DEACTS_DEC2022`; \n",
      " CREATE TABLE `divg-team-v02-pr-5de84a.adc_backup.SHS_DEACTS_NOV2022`\n",
      "    CLONE `divgpras-pr-579355.SHS.SHS_DEACTS_NOV2022`; \n",
      " CREATE TABLE `divg-team-v02-pr-5de84a.adc_backup.SHS_DEACTS_OCT2022`\n",
      "    CLONE `divgpras-pr-579355.SHS.SHS_DEACTS_OCT2022`; \n",
      " CREATE TABLE `divg-team-v02-pr-5de84a.adc_backup.SHS_DEACTS_SEP2022`\n",
      "    CLONE `divgpras-pr-579355.SHS.SHS_DEACTS_SEP2022`; \n",
      " CREATE TABLE `divg-team-v02-pr-5de84a.adc_backup.SHS_GTM_14Dec2022`\n",
      "    CLONE `divgpras-pr-579355.SHS.SHS_GTM_14Dec2022`; \n",
      " CREATE TABLE `divg-team-v02-pr-5de84a.adc_backup.SHS_GTM_ADC_UseCases_30Nov2022`\n",
      "    CLONE `divgpras-pr-579355.SHS.SHS_GTM_ADC_UseCases_30Nov2022`; \n",
      " CREATE TABLE `divg-team-v02-pr-5de84a.adc_backup.SHS_Model_score`\n",
      "    CLONE `divgpras-pr-579355.SHS.SHS_Model_score`; \n",
      " CREATE TABLE `divg-team-v02-pr-5de84a.adc_backup.SHS_Model_score_top_decile`\n",
      "    CLONE `divgpras-pr-579355.SHS.SHS_Model_score_top_decile`; \n",
      " CREATE TABLE `divg-team-v02-pr-5de84a.adc_backup.SHS_churn_model_base_data_sep_nov_2022`\n",
      "    CLONE `divgpras-pr-579355.SHS.SHS_churn_model_base_data_sep_nov_2022`; \n",
      " CREATE TABLE `divg-team-v02-pr-5de84a.adc_backup.SHS_churn_model_base_score_data_jan23_mar23`\n",
      "    CLONE `divgpras-pr-579355.SHS.SHS_churn_model_base_score_data_jan23_mar23`; \n",
      " CREATE TABLE `divg-team-v02-pr-5de84a.adc_backup.SHS_churn_model_base_score_data_oct2022_jan2023`\n",
      "    CLONE `divgpras-pr-579355.SHS.SHS_churn_model_base_score_data_oct2022_jan2023`; \n",
      " CREATE TABLE `divg-team-v02-pr-5de84a.adc_backup.SHS_churn_model_base_trn_data_dec22_feb23`\n",
      "    CLONE `divgpras-pr-579355.SHS.SHS_churn_model_base_trn_data_dec22_feb23`; \n",
      " CREATE TABLE `divg-team-v02-pr-5de84a.adc_backup.SHS_churn_model_score_data_Oct2022_Jan2023`\n",
      "    CLONE `divgpras-pr-579355.SHS.SHS_churn_model_score_data_Oct2022_Jan2023`; \n",
      " CREATE TABLE `divg-team-v02-pr-5de84a.adc_backup.SHS_churn_model_score_data_jan23_mar2023`\n",
      "    CLONE `divgpras-pr-579355.SHS.SHS_churn_model_score_data_jan23_mar2023`; \n",
      " CREATE TABLE `divg-team-v02-pr-5de84a.adc_backup.SHS_churn_model_train_data_dec22_feb23`\n",
      "    CLONE `divgpras-pr-579355.SHS.SHS_churn_model_train_data_dec22_feb23`; \n",
      " CREATE TABLE `divg-team-v02-pr-5de84a.adc_backup.SHS_churn_model_train_data_sep_nov_2022`\n",
      "    CLONE `divgpras-pr-579355.SHS.SHS_churn_model_train_data_sep_nov_2022`; \n",
      " CREATE TABLE `divg-team-v02-pr-5de84a.adc_backup.SMHM_Deact_Dec2022_Feb2023`\n",
      "    CLONE `divgpras-pr-579355.SHS.SMHM_Deact_Dec2022_Feb2023`; \n",
      " CREATE TABLE `divg-team-v02-pr-5de84a.adc_backup.SMHM_Deact_Mar2023`\n",
      "    CLONE `divgpras-pr-579355.SHS.SMHM_Deact_Mar2023`; \n",
      " CREATE TABLE `divg-team-v02-pr-5de84a.adc_backup.Santa_Campaign`\n",
      "    CLONE `divgpras-pr-579355.SHS.Santa_Campaign`; \n",
      " CREATE TABLE `divg-team-v02-pr-5de84a.adc_backup.VolChurn_Jan2023_Mar2023`\n",
      "    CLONE `divgpras-pr-579355.SHS.VolChurn_Jan2023_Mar2023`; \n",
      " CREATE TABLE `divg-team-v02-pr-5de84a.adc_backup.Referral_BAN`\n",
      "    CLONE `divgpras-pr-579355.nlp.Referral_BAN`; \n",
      " CREATE TABLE `divg-team-v02-pr-5de84a.adc_backup.Referral_BAN_date`\n",
      "    CLONE `divgpras-pr-579355.nlp.Referral_BAN_date`; \n",
      " CREATE TABLE `divg-team-v02-pr-5de84a.adc_backup.Referral_BAN_log`\n",
      "    CLONE `divgpras-pr-579355.nlp.Referral_BAN_log`; \n",
      " CREATE TABLE `divg-team-v02-pr-5de84a.adc_backup.ref_data_examples`\n",
      "    CLONE `divgpras-pr-579355.nlp.ref_data_examples`; \n"
     ]
    }
   ],
   "source": [
    "prefix = 'divg-team-v02-pr-5de84a.adc_backup.'\n",
    "for table_ref in table_refs:\n",
    "    # table_name=prefix+table_ref.split(\".\")[-1]\n",
    "    # bq_client.create_table(table_name)\n",
    "    # config = bigquery.job.LoadJobConfig()\n",
    "    # config.write_disposition = bigquery.WriteDisposition.WRITE_TRUNCATE\n",
    "    Query=''' CREATE TABLE `divg-team-v02-pr-5de84a.adc_backup.{destination_table}`\n",
    "    CLONE `divgpras-pr-579355.{source_dataset}.{soruce_table}`; '''.format(destination_table=table_ref.split(\".\")[-1] ,source_dataset=table_ref.split(\".\")[-2], soruce_table= table_ref.split(\".\")[-1])\n",
    "    print(Query)\n",
    "    bq_client.query(Query)\n",
    "\n",
    "\n",
    "    # df_ucar=extract_bq_data(bq_client,sql=Query)\n",
    "    # bq_table_instance = client.load_table_from_dataframe(df_ucar, table_ref, job_config=config)\n"
   ]
  },
  {
   "cell_type": "code",
   "execution_count": 41,
   "id": "ed282907-4787-4b0f-bd1b-eda8c3cc3a54",
   "metadata": {},
   "outputs": [],
   "source": [
    "def extract_bq_data(bq_client, sql=None, pth_query=None):\n",
    "    if sql is not None:\n",
    "        df = bq_client.query(sql).to_dataframe()\n",
    "    elif pth_query is not None:\n",
    "        sql = pth_query.read_text()\n",
    "        df = bq_client.query(sql).to_dataframe()\n",
    "    else:\n",
    "        raise ValueError('`sql` or `pth_query` should be set')  \n",
    "    return df"
   ]
  },
  {
   "cell_type": "code",
   "execution_count": 38,
   "id": "5fc795f1-db8a-4340-bbac-02ec3e44bb2e",
   "metadata": {},
   "outputs": [],
   "source": [
    "Query='''\n",
    "\n",
    "CREATE TABLE\n",
    "`divg-team-v02-pr-5de84a.adc_backup.ADC_ADT_mapping`\n",
    "CLONE `divgpras-pr-579355.SHS.SMHM_Deact_Mar2023`;\n",
    "\n",
    "'''"
   ]
  },
  {
   "cell_type": "code",
   "execution_count": 39,
   "id": "29d460f6-2a4d-4c8e-993e-2b7e9bb2b21b",
   "metadata": {},
   "outputs": [],
   "source": [
    "DF=extract_bq_data(bq_client, sql=Query,)"
   ]
  },
  {
   "cell_type": "code",
   "execution_count": 40,
   "id": "90f82cd3-64ec-40f2-8078-cbdfb369ca55",
   "metadata": {},
   "outputs": [],
   "source": []
  },
  {
   "cell_type": "code",
   "execution_count": null,
   "id": "73a9a3d1-d6b5-4452-a758-f74a4ad01623",
   "metadata": {},
   "outputs": [],
   "source": []
  }
 ],
 "metadata": {
  "kernelspec": {
   "display_name": "Python 3 (ipykernel)",
   "language": "python",
   "name": "python3"
  },
  "language_info": {
   "codemirror_mode": {
    "name": "ipython",
    "version": 3
   },
   "file_extension": ".py",
   "mimetype": "text/x-python",
   "name": "python",
   "nbconvert_exporter": "python",
   "pygments_lexer": "ipython3",
   "version": "3.8.12"
  }
 },
 "nbformat": 4,
 "nbformat_minor": 5
}
