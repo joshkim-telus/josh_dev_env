{
 "cells": [
  {
   "cell_type": "code",
   "execution_count": null,
   "id": "c2d9d277-64e0-4dc3-bab3-7207e001f115",
   "metadata": {},
   "outputs": [],
   "source": [
    "#### import global modules\n",
    "import os\n",
    "import sys\n",
    "import pandas as pd\n",
    "import numpy as np\n",
    "from pathlib import Path\n",
    "from yaml import safe_load\n",
    "import google.oauth2.credentials\n",
    "from google.cloud import bigquery\n",
    "import numpy as np\n",
    "# Set global vars\n",
    "pth_project = Path(os.getcwd().split('notebooks')[0])\n",
    "pth_data = pth_project / 'data'\n",
    "pth_queries = pth_project / 'core' / 'queries'\n",
    "pth_creds = pth_project / 'conf' / 'local' / 'project_config.yaml'\n",
    "sys.path.insert(0, str(pth_project))\n",
    "d_project_config = safe_load(pth_creds.open())\n",
    "# d_params = safe_load((pth_project / 'core' / 'parameters' / 'common.yaml').open())['data_extract']\n",
    "\n",
    "# import local modules\n",
    "from core.utils.gcp import connect_bq_services\n",
    "# from core.etl.extract import extract_bq_data, extract_pr_codes, format_conv_df, filter_convs\n",
    "\n",
    "# Connect to google services\n",
    "bq_client = connect_bq_services(d_project_config['gcp-project-name'])\n",
    "pd.options.display.max_rows = 100"
   ]
  },
  {
   "cell_type": "code",
   "execution_count": null,
   "id": "c0a67370-2a07-44b5-ab89-cfe638134900",
   "metadata": {},
   "outputs": [],
   "source": [
    "def extract_bq_data(bq_client, sql=None, pth_query=None):\n",
    "    if sql is not None:\n",
    "        df = bq_client.query(sql).to_dataframe()\n",
    "    elif pth_query is not None:\n",
    "        sql = pth_query.read_text()\n",
    "        df = bq_client.query(sql).to_dataframe()\n",
    "    else:\n",
    "        raise ValueError('`sql` or `pth_query` should be set')  \n",
    "    return df"
   ]
  },
  {
   "cell_type": "code",
   "execution_count": null,
   "id": "cd18f822-849a-4b01-8a49-41f3bffa6c73",
   "metadata": {},
   "outputs": [],
   "source": [
    "Trouble_condition_Query='''\n",
    "\n",
    "select dealer_name,customer_id,unit_id,device_id,tcon_id,trouble_condition_name,trouble_condition_group_id,trouble_condition_group_desc, start_date_utc,end_date_utc,trouble_condition_start_ind,trouble_condition_closed_ind,ncid\n",
    "from `cio-datahub-enterprise-pr-183a.src_adc.bq_troublecondition_data`\n",
    "where dealer_name='TELUS Communications Inc.'\n",
    "\n",
    "'''"
   ]
  },
  {
   "cell_type": "code",
   "execution_count": null,
   "id": "b93e800f-fc1c-4f12-973c-37cf5e0685b2",
   "metadata": {},
   "outputs": [],
   "source": [
    "Trouble_condition_DF= extract_bq_data(bq_client,sql=Trouble_condition_Query)"
   ]
  },
  {
   "cell_type": "code",
   "execution_count": null,
   "id": "43ae27b4-cbd0-4bf5-98ea-3b8eff8ccda0",
   "metadata": {},
   "outputs": [],
   "source": [
    "Trouble_condition_DF.info()"
   ]
  },
  {
   "cell_type": "code",
   "execution_count": null,
   "id": "4c886b88-05c5-492a-9825-1f73aebcdb43",
   "metadata": {},
   "outputs": [],
   "source": [
    "Trouble_condition_DF.head()"
   ]
  },
  {
   "cell_type": "code",
   "execution_count": null,
   "id": "7abc563c-f425-4f50-98d0-da9b6a84bdab",
   "metadata": {},
   "outputs": [],
   "source": [
    "Trouble_condition_DF['trouble_condition_name'].value_counts(normalize=True)*100"
   ]
  },
  {
   "cell_type": "code",
   "execution_count": null,
   "id": "cd965330-57a4-4282-9e3e-12bbe3eba234",
   "metadata": {},
   "outputs": [],
   "source": [
    "Camera_Query='''\n",
    "\n",
    "select customer_id,unit_id,device_id, 1 as Camera_flag\n",
    "from `cio-datahub-enterprise-pr-183a.src_adc.bq_camera`\n",
    "\n",
    "'''"
   ]
  },
  {
   "cell_type": "code",
   "execution_count": null,
   "id": "2698e63f-dbbb-4a46-a1ef-03faff0b26aa",
   "metadata": {},
   "outputs": [],
   "source": [
    "Camera_DF= extract_bq_data(bq_client,sql=Camera_Query)"
   ]
  },
  {
   "cell_type": "code",
   "execution_count": null,
   "id": "6aae2735-ef6f-4200-9ab7-444fbfe7ffe1",
   "metadata": {},
   "outputs": [],
   "source": [
    "Camera_DF.info()"
   ]
  },
  {
   "cell_type": "code",
   "execution_count": null,
   "id": "45c40f89-523d-4808-9e5b-2d4f43c4f213",
   "metadata": {},
   "outputs": [],
   "source": [
    "Camera_DF.head()"
   ]
  },
  {
   "cell_type": "code",
   "execution_count": null,
   "id": "7c1066b3-9049-498b-bee0-37ace520e5b4",
   "metadata": {},
   "outputs": [],
   "source": [
    "Camera_DF.drop_duplicates(keep=False, inplace=True)\n"
   ]
  },
  {
   "cell_type": "code",
   "execution_count": null,
   "id": "29b463f3-a6f7-4e93-8b44-8543a80bfadb",
   "metadata": {},
   "outputs": [],
   "source": [
    "Camera_DF.info()"
   ]
  },
  {
   "cell_type": "code",
   "execution_count": null,
   "id": "e1dc2ab0-0cc0-434d-ad19-03dc55c9f7c9",
   "metadata": {},
   "outputs": [],
   "source": [
    "Merge_Data=Trouble_condition_DF.merge(Camera_DF, on=['customer_id','unit_id','device_id'], how='inner')"
   ]
  },
  {
   "cell_type": "code",
   "execution_count": null,
   "id": "b12d54e0-5f7c-4d19-bd3e-8087666de3f0",
   "metadata": {},
   "outputs": [],
   "source": [
    "Merge_Data.info()"
   ]
  },
  {
   "cell_type": "code",
   "execution_count": null,
   "id": "2bd14d75-6581-4a05-81cd-8b73ef17dc0d",
   "metadata": {},
   "outputs": [],
   "source": [
    "Merge_Data.head()"
   ]
  },
  {
   "cell_type": "code",
   "execution_count": null,
   "id": "bf7fbf28-bd22-495c-b2e7-c4bd7d244569",
   "metadata": {},
   "outputs": [],
   "source": [
    "Merge_Data['trouble_condition_name'].value_counts(normalize=True)*100"
   ]
  },
  {
   "cell_type": "code",
   "execution_count": null,
   "id": "dda17a8d-97ee-4d48-843f-72d14182457e",
   "metadata": {},
   "outputs": [],
   "source": [
    "Merge_Data['trouble_condition_group_desc'].value_counts(normalize=True)*100"
   ]
  },
  {
   "cell_type": "code",
   "execution_count": null,
   "id": "ec2bf550-fd54-4427-824b-75096efe65b2",
   "metadata": {},
   "outputs": [],
   "source": [
    "Customer_Details_Query='''\n",
    "\n",
    "SELECT customer_id,dealer_customer_id,primary_login_id,dealer_name,join_date,account_type_name,customer_type_name,primary_email,primary_phone,last_updt_ts\n",
    "FROM `cio-datahub-enterprise-pr-183a.src_adc.bq_customer_account_details` \n",
    "QUALIFY ROW_NUMBER() OVER (PARTITION BY customer_id ORDER BY last_updt_ts DESC) = 1\n",
    "order by dealer_name,join_date,customer_id\n",
    "\n",
    "\n",
    "'''"
   ]
  },
  {
   "cell_type": "code",
   "execution_count": null,
   "id": "40c79fc7-9541-49be-b192-82b2fd612b93",
   "metadata": {},
   "outputs": [],
   "source": [
    "Query_Termination_details='''\n",
    "\n",
    "select customer_id,term_date,term_reason,1 as Churn_flag from `cio-datahub-enterprise-pr-183a.src_adc.bq_customer_account_terminated_details`\n",
    "QUALIFY ROW_NUMBER() OVER (PARTITION BY customer_id ORDER BY last_updt_ts DESC) = 1\n",
    "\n",
    "\n",
    "\n",
    "'''"
   ]
  },
  {
   "cell_type": "code",
   "execution_count": null,
   "id": "d104d7e2-10ac-40d1-acc4-cd19f1213e85",
   "metadata": {},
   "outputs": [],
   "source": [
    "Customer_Details_DF=extract_bq_data(bq_client,sql=Customer_Details_Query)"
   ]
  },
  {
   "cell_type": "code",
   "execution_count": null,
   "id": "842598d4-37a2-440d-a498-25424589ff7d",
   "metadata": {},
   "outputs": [],
   "source": [
    "Termination_details=extract_bq_data(bq_client,sql=Query_Termination_details)"
   ]
  },
  {
   "cell_type": "code",
   "execution_count": null,
   "id": "d765898c-6e79-4a5b-92b3-a84b6562ce96",
   "metadata": {},
   "outputs": [],
   "source": [
    "Customer_base=Customer_Details_DF.merge(Termination_details,on='customer_id',how='left')"
   ]
  },
  {
   "cell_type": "code",
   "execution_count": null,
   "id": "4aeb45bb-91fa-4b05-980e-01119b2ece31",
   "metadata": {},
   "outputs": [],
   "source": [
    "Customer_base.head()"
   ]
  },
  {
   "cell_type": "code",
   "execution_count": null,
   "id": "84926103-5048-41b4-8832-3c2ab0c76f22",
   "metadata": {},
   "outputs": [],
   "source": [
    "Customer_base['Churn_flag'].fillna(0,inplace=True)"
   ]
  },
  {
   "cell_type": "code",
   "execution_count": null,
   "id": "64405e6c-feab-4557-9f60-36c116d47e64",
   "metadata": {},
   "outputs": [],
   "source": [
    "Customer_base['Churn_flag'].value_counts(normalize=True)*100"
   ]
  },
  {
   "cell_type": "code",
   "execution_count": null,
   "id": "78688e1d-0e12-4922-b225-812cf4b4ad8b",
   "metadata": {},
   "outputs": [],
   "source": [
    "Customer_base.info()"
   ]
  },
  {
   "cell_type": "code",
   "execution_count": null,
   "id": "f2dc3d84-415a-4aeb-825d-55b34cb79a2e",
   "metadata": {},
   "outputs": [],
   "source": [
    "Merge_Data=Merge_Data.merge(Customer_base,on='customer_id',how='left')"
   ]
  },
  {
   "cell_type": "code",
   "execution_count": null,
   "id": "94250d2a-609b-4ca3-b862-1249bcdf799d",
   "metadata": {},
   "outputs": [],
   "source": [
    "Merge_Data.info()"
   ]
  },
  {
   "cell_type": "code",
   "execution_count": null,
   "id": "778bbd23-c8a7-4215-bb48-d7f26ffebf19",
   "metadata": {},
   "outputs": [],
   "source": [
    "Merge_Data.head()"
   ]
  },
  {
   "cell_type": "code",
   "execution_count": null,
   "id": "ad73a112-4466-463b-8adc-24c7e4f1feec",
   "metadata": {},
   "outputs": [],
   "source": []
  },
  {
   "cell_type": "code",
   "execution_count": null,
   "id": "4a1ddbec-10bb-4da6-92d1-ff709241d681",
   "metadata": {},
   "outputs": [],
   "source": []
  }
 ],
 "metadata": {
  "kernelspec": {
   "display_name": "Python 3 (ipykernel)",
   "language": "python",
   "name": "python3"
  },
  "language_info": {
   "codemirror_mode": {
    "name": "ipython",
    "version": 3
   },
   "file_extension": ".py",
   "mimetype": "text/x-python",
   "name": "python",
   "nbconvert_exporter": "python",
   "pygments_lexer": "ipython3",
   "version": "3.7.12"
  }
 },
 "nbformat": 4,
 "nbformat_minor": 5
}
