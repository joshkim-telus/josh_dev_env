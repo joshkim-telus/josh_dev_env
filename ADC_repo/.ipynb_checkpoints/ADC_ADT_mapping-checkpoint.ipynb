{
 "cells": [
  {
   "cell_type": "code",
   "execution_count": null,
   "id": "cfa5f2dc-d694-4d34-aec5-3081e94dee8d",
   "metadata": {},
   "outputs": [],
   "source": [
    "\n",
    "#### import global modules\n",
    "import os\n",
    "import sys\n",
    "import pandas as pd\n",
    "import numpy as np\n",
    "from pathlib import Path\n",
    "from yaml import safe_load\n",
    "import google.oauth2.credentials\n",
    "from google.cloud import bigquery\n",
    "import gc\n",
    "\n",
    "# Set global vars\n",
    "pth_project = Path(os.getcwd().split('notebooks')[0])\n",
    "pth_data = pth_project / 'data'\n",
    "pth_queries = pth_project / 'core' / 'queries'\n",
    "pth_creds = pth_project / 'conf' / 'local' / 'project_config.yaml'\n",
    "sys.path.insert(0, str(pth_project))\n",
    "d_project_config = safe_load(pth_creds.open())\n",
    "# d_params = safe_load((pth_project / 'core' / 'parameters' / 'common.yaml').open())['data_extract']\n",
    "\n",
    "# import local modules\n",
    "from core.utils.gcp import connect_bq_services\n",
    "# from core.etl.extract import extract_bq_data, extract_pr_codes, format_conv_df, filter_convs\n",
    "\n",
    "# Connect to google services\n",
    "bq_client = connect_bq_services(d_project_config['gcp-project-name'])\n",
    "pd.options.display.max_rows = 100"
   ]
  },
  {
   "cell_type": "code",
   "execution_count": null,
   "id": "28f9712d-abbe-49fd-86ae-030e12c2d7f9",
   "metadata": {},
   "outputs": [],
   "source": [
    "def extract_bq_data(bq_client, sql=None, pth_query=None):\n",
    "    if sql is not None:\n",
    "        df = bq_client.query(sql).to_dataframe()\n",
    "    elif pth_query is not None:\n",
    "        sql = pth_query.read_text()\n",
    "        df = bq_client.query(sql).to_dataframe()\n",
    "    else:\n",
    "        raise ValueError('`sql` or `pth_query` should be set')  \n",
    "    return df"
   ]
  },
  {
   "cell_type": "code",
   "execution_count": null,
   "id": "2fe4c74c-6d8c-40a4-b7f5-cc50e395ad84",
   "metadata": {},
   "outputs": [],
   "source": [
    "ADC_ADT_mapping=pd.read_csv('ADC_ADT_mapping.csv',low_memory=False)"
   ]
  },
  {
   "cell_type": "code",
   "execution_count": null,
   "id": "717308d9-16ae-4999-85ee-0460aaaa627b",
   "metadata": {},
   "outputs": [],
   "source": [
    "ADC_ADT_mapping.info()"
   ]
  },
  {
   "cell_type": "code",
   "execution_count": null,
   "id": "39b8acf5-9852-4e62-8ae1-85409b482210",
   "metadata": {},
   "outputs": [],
   "source": [
    "ADC_ADT_mapping['sitetype_id']=ADC_ADT_mapping['sitetype_id'].str.strip()"
   ]
  },
  {
   "cell_type": "code",
   "execution_count": null,
   "id": "5126e589-bf4d-41ab-af42-09bd9fa7349f",
   "metadata": {},
   "outputs": [],
   "source": [
    "ADC_ADT_mapping['sitetype_id'].value_counts()"
   ]
  },
  {
   "cell_type": "code",
   "execution_count": null,
   "id": "673b426a-09e2-4cf2-92e0-f9c032d67a7d",
   "metadata": {},
   "outputs": [],
   "source": [
    "# ADC_ADT_mapping['CustomerId_1']=ADC_ADT_mapping['CustomerId'].astype('object')"
   ]
  },
  {
   "cell_type": "code",
   "execution_count": null,
   "id": "e9b47ce2-11a9-40ec-8374-b87715f84df2",
   "metadata": {},
   "outputs": [],
   "source": [
    "ADC_ADT_mapping.head()"
   ]
  },
  {
   "cell_type": "code",
   "execution_count": null,
   "id": "e7d2d649-55b1-4c6e-aa05-26f41ee8e10a",
   "metadata": {},
   "outputs": [],
   "source": [
    "Customer_Details_Query='''\n",
    "\n",
    "SELECT customer_id,dealer_customer_id,primary_login_id,dealer_name,join_date,account_type_name,customer_type_name,primary_email,primary_phone,last_updt_ts\n",
    "FROM `cio-datahub-enterprise-pr-183a.src_adc.bq_customer_account_details` \n",
    "where dealer_name='ADT by TELUS'\n",
    "--and account_type_name!='Standalone'\n",
    "--and customer_type_name='Customer'\n",
    "QUALIFY ROW_NUMBER() OVER (PARTITION BY customer_id ORDER BY last_updt_ts DESC) = 1\n",
    "order by dealer_name,join_date,customer_id\n",
    "\n",
    "\n",
    "'''"
   ]
  },
  {
   "cell_type": "code",
   "execution_count": null,
   "id": "6a31478d-fcc6-4242-9718-18bfb975a1a5",
   "metadata": {},
   "outputs": [],
   "source": [
    "Customer_DF=extract_bq_data(bq_client, sql=Customer_Details_Query)"
   ]
  },
  {
   "cell_type": "code",
   "execution_count": null,
   "id": "3187b3b9-cbd4-4288-81bc-32c01d553ddc",
   "metadata": {},
   "outputs": [],
   "source": [
    "Customer_DF.info()"
   ]
  },
  {
   "cell_type": "code",
   "execution_count": null,
   "id": "4d68c9d2-a26a-4645-b4a0-1881250a5695",
   "metadata": {},
   "outputs": [],
   "source": [
    "Customer_DF['dealer_name'].value_counts()"
   ]
  },
  {
   "cell_type": "code",
   "execution_count": null,
   "id": "f04f7ac2-e2ab-4efa-876a-3d7b2220ac3d",
   "metadata": {},
   "outputs": [],
   "source": [
    "ADC_ADT_mapping['ADT_customer_flag']=1"
   ]
  },
  {
   "cell_type": "code",
   "execution_count": null,
   "id": "e8dfa1da-2c2f-4200-b938-084dc486c904",
   "metadata": {},
   "outputs": [],
   "source": []
  },
  {
   "cell_type": "code",
   "execution_count": null,
   "id": "4ce020ee-6e64-48d4-8aa1-e12febe8f90b",
   "metadata": {},
   "outputs": [],
   "source": [
    "Merge_data=Customer_DF.merge(ADC_ADT_mapping[ADC_ADT_mapping['sitetype_id']=='R'],how='inner',left_on='customer_id',right_on='CustomerId')"
   ]
  },
  {
   "cell_type": "code",
   "execution_count": null,
   "id": "1681f96a-a5dc-49c0-8d2c-5603c6170124",
   "metadata": {},
   "outputs": [],
   "source": [
    "Merge_data['ADT_customer_flag'].sum()"
   ]
  },
  {
   "cell_type": "code",
   "execution_count": null,
   "id": "6cdc1e77-e3c4-4698-a10c-2ab6591d710a",
   "metadata": {},
   "outputs": [],
   "source": [
    "Merge_data['customer_type_name'].value_counts()"
   ]
  },
  {
   "cell_type": "code",
   "execution_count": null,
   "id": "72182b54-825d-4013-895b-3e0f245d5cfd",
   "metadata": {},
   "outputs": [],
   "source": [
    "Merge_data['dealer_name'].value_counts()"
   ]
  },
  {
   "cell_type": "code",
   "execution_count": null,
   "id": "6861601d-1794-480e-a22c-350b519a24e0",
   "metadata": {},
   "outputs": [],
   "source": [
    "Merge_data.head()"
   ]
  },
  {
   "cell_type": "code",
   "execution_count": null,
   "id": "5a43c22d-bf76-4494-bfed-88fc0dd03dcd",
   "metadata": {},
   "outputs": [],
   "source": [
    "Merge_data.info()"
   ]
  },
  {
   "cell_type": "code",
   "execution_count": null,
   "id": "435348fd-05be-4c22-92f6-6ef5a93d3078",
   "metadata": {},
   "outputs": [],
   "source": [
    "rep_chars = ' |\\|-|:|/'\n",
    "\n",
    "Merge_data.columns = Merge_data.columns.str.replace(rep_chars, '_')"
   ]
  },
  {
   "cell_type": "code",
   "execution_count": null,
   "id": "dd896300-fc3b-4c16-8a70-6e59685a357d",
   "metadata": {},
   "outputs": [],
   "source": [
    "Merge_data.info()"
   ]
  },
  {
   "cell_type": "code",
   "execution_count": null,
   "id": "0e854c18-e344-489c-add3-11d6aedb59d1",
   "metadata": {},
   "outputs": [],
   "source": [
    "config= bigquery.job.LoadJobConfig()\n",
    "\n",
    "# config._properties['timePartitioning'] = {'field': 'Month_Year'}\n",
    "config.write_disposition = bigquery.WriteDisposition.WRITE_TRUNCATE\n",
    "\n",
    "Table_BQ = 'ADC_updated.ADC_ADT_mapping'\n",
    "\n",
    "bq_table_instance= bq_client.load_table_from_dataframe(Merge_data, Table_BQ,job_config=config)"
   ]
  },
  {
   "cell_type": "code",
   "execution_count": null,
   "id": "480343f8-c5c7-4f6d-8563-5b432eed8f72",
   "metadata": {},
   "outputs": [],
   "source": []
  }
 ],
 "metadata": {
  "kernelspec": {
   "display_name": "Python 3 (ipykernel)",
   "language": "python",
   "name": "python3"
  },
  "language_info": {
   "codemirror_mode": {
    "name": "ipython",
    "version": 3
   },
   "file_extension": ".py",
   "mimetype": "text/x-python",
   "name": "python",
   "nbconvert_exporter": "python",
   "pygments_lexer": "ipython3",
   "version": "3.8.12"
  }
 },
 "nbformat": 4,
 "nbformat_minor": 5
}
