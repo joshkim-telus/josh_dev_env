{
 "cells": [
  {
   "cell_type": "code",
   "execution_count": null,
   "id": "4d9cdb92-b58e-4806-9266-a4bc5f46175c",
   "metadata": {},
   "outputs": [],
   "source": [
    "#### import global modules\n",
    "import os\n",
    "import sys\n",
    "import pandas as pd\n",
    "import numpy as np\n",
    "from pathlib import Path\n",
    "from yaml import safe_load\n",
    "import google.oauth2.credentials\n",
    "from google.cloud import bigquery\n",
    "import gc\n",
    "\n",
    "# Set global vars\n",
    "pth_project = Path(os.getcwd().split('notebooks')[0])\n",
    "pth_data = pth_project / 'data'\n",
    "pth_queries = pth_project / 'core' / 'queries'\n",
    "pth_creds = pth_project / 'conf' / 'local' / 'project_config.yaml'\n",
    "sys.path.insert(0, str(pth_project))\n",
    "d_project_config = safe_load(pth_creds.open())\n",
    "# d_params = safe_load((pth_project / 'core' / 'parameters' / 'common.yaml').open())['data_extract']\n",
    "\n",
    "# import local modules\n",
    "from core.utils.gcp import connect_bq_services\n",
    "# from core.etl.extract import extract_bq_data, extract_pr_codes, format_conv_df, filter_convs\n",
    "\n",
    "# Connect to google services\n",
    "bq_client = connect_bq_services(d_project_config['gcp-project-name'])\n",
    "pd.options.display.max_rows = 100"
   ]
  },
  {
   "cell_type": "code",
   "execution_count": null,
   "id": "694d2041-3aec-4348-87dd-dacf89b2c8e2",
   "metadata": {},
   "outputs": [],
   "source": [
    "def extract_bq_data(bq_client, sql=None, pth_query=None):\n",
    "    if sql is not None:\n",
    "        df = bq_client.query(sql).to_dataframe()\n",
    "    elif pth_query is not None:\n",
    "        sql = pth_query.read_text()\n",
    "        df = bq_client.query(sql).to_dataframe()\n",
    "    else:\n",
    "        raise ValueError('`sql` or `pth_query` should be set')  \n",
    "    return df"
   ]
  },
  {
   "cell_type": "code",
   "execution_count": null,
   "id": "17a7f711-934f-4d1f-a086-f41671aef11d",
   "metadata": {},
   "outputs": [],
   "source": [
    "Telus_Query ='''\n",
    "\n",
    "\n",
    "with ADC_customer_base as(\n",
    "\n",
    "SELECT distinct customer_id,dealer_customer_id,dealer_name,account_type_name,customer_type_name\n",
    "FROM `cio-datahub-enterprise-pr-183a.src_adc.bq_customer_account_details` \n",
    "where date(last_updt_ts) = '2022-08-31'\n",
    "--and account_type_name!='Standalone'\n",
    "--and customer_type_name='Customer'\n",
    "and dealer_name='TELUS Communications Inc.'\n",
    "QUALIFY ROW_NUMBER() OVER (PARTITION BY dealer_customer_id ORDER BY last_updt_ts DESC) = 1\n",
    "--order by dealer_name,join_date,customer_id\n",
    ")\n",
    ",\n",
    "\n",
    "Telus_customers as\n",
    "(\n",
    "select bacct_bus_bacct_num,bacct_billg_acct_id,cust_bus_cust_id,pi_prod_instnc_typ_cd,pi_prod_instnc_stat_ts,prod_instnc_ts,pi_cntrct_end_ts as contract_end_date\n",
    "from `cio-datahub-enterprise-pr-183a.ent_cust_cust.bq_prod_instnc_snpsht` \n",
    "WHERE DATE(prod_instnc_ts) = \"2022-08-31\" #Snapshot of the last day of the month\n",
    "and pi_prod_instnc_typ_cd ='SMHM' #Serice type\n",
    "and bus_prod_instnc_src_id = 1001 #BANs that are for home services\n",
    "and pi_prod_instnc_stat_cd in ('A')\n",
    "and  consldt_cust_typ_cd = 'R'\n",
    "QUALIFY ROW_NUMBER() OVER (PARTITION BY cust_bus_cust_id ORDER BY pi_prod_instnc_stat_ts DESC) = 1\n",
    "order by cust_bus_cust_id\n",
    "\n",
    ")\n",
    "\n",
    "\n",
    ",Telus_internet_customers as \n",
    "(\n",
    "\n",
    "select distinct (customer_id) as cust_id_telus,Telus_internet_flag from `divgpras-pr-579355.ADC_updated.Telus_internet_31Aug2022`\n",
    "\n",
    ")\n",
    "\n",
    "\n",
    ", Telus_SMHM_Deact_Sep2022 as \n",
    "\n",
    "\n",
    "(\n",
    "\n",
    "\n",
    "select distinct(CAST (CUST_ID as STRING)) as CUST_ID ,Deact_Flag as Telus_Churn_Flag  \n",
    "\n",
    "from `divgpras-pr-579355.ADC_updated.Telus_SMHM_Sep2022_Deacts`\n",
    "\n",
    "\n",
    ")\n",
    "\n",
    "select * from ADC_customer_base as ADC\n",
    "inner join Telus_customers as Telus\n",
    "on ADC.dealer_customer_id=Telus.cust_bus_cust_id\n",
    "left join Telus_internet_customers\n",
    "on ADC.customer_id=Telus_internet_customers.cust_id_telus\n",
    "left join Telus_SMHM_Deact_Sep2022\n",
    "on ADC.dealer_customer_id=Telus_SMHM_Deact_Sep2022.CUST_ID\n",
    "\n",
    "'''\n"
   ]
  },
  {
   "cell_type": "code",
   "execution_count": null,
   "id": "f19497f7-954c-4573-a969-60dc8ebd5050",
   "metadata": {},
   "outputs": [],
   "source": [
    "Data_Telus=extract_bq_data(bq_client, sql=Telus_Query)"
   ]
  },
  {
   "cell_type": "code",
   "execution_count": null,
   "id": "d39bfbb4-5156-4e9e-84eb-c81ad28775a9",
   "metadata": {},
   "outputs": [],
   "source": [
    "Data_Telus.info()"
   ]
  },
  {
   "cell_type": "code",
   "execution_count": null,
   "id": "db3ad038-3fe3-44c5-8e45-9ed0ae57eadd",
   "metadata": {},
   "outputs": [],
   "source": [
    "Data_Telus['Cust_id_1']=Data_Telus['dealer_customer_id'].astype('int64')"
   ]
  },
  {
   "cell_type": "code",
   "execution_count": null,
   "id": "513fb333-0245-4077-8a6f-db6cd4a22f35",
   "metadata": {},
   "outputs": [],
   "source": [
    "ARPU=pd.read_csv('Telus_SMHM_ARPU_Sep_Apr2022.csv')"
   ]
  },
  {
   "cell_type": "code",
   "execution_count": null,
   "id": "3d319dd9-8097-42c2-9463-33679432249c",
   "metadata": {},
   "outputs": [],
   "source": [
    "ARPU.info()"
   ]
  },
  {
   "cell_type": "code",
   "execution_count": null,
   "id": "4ae08031-6a47-41bb-8c25-33a1ef767167",
   "metadata": {},
   "outputs": [],
   "source": [
    "# ARPU['cust_id']=ARPU['cust_id'].astype('O')"
   ]
  },
  {
   "cell_type": "code",
   "execution_count": null,
   "id": "769bcc1a-dd43-44b1-9fa7-f2d4e60c940b",
   "metadata": {},
   "outputs": [],
   "source": [
    "ARPU.head()"
   ]
  },
  {
   "cell_type": "code",
   "execution_count": null,
   "id": "5082f172-be71-40a4-8c6b-98565e5c816e",
   "metadata": {},
   "outputs": [],
   "source": [
    "ARPU['ARPU_flag']=1"
   ]
  },
  {
   "cell_type": "code",
   "execution_count": null,
   "id": "ee0363a7-6f36-426b-a46a-c0d0aaabe042",
   "metadata": {},
   "outputs": [],
   "source": [
    "Data_Telus[Data_Telus['cust_bus_cust_id']=='100402370']"
   ]
  },
  {
   "cell_type": "code",
   "execution_count": null,
   "id": "2f4b2d54-1715-4546-b983-cee2c440f943",
   "metadata": {},
   "outputs": [],
   "source": []
  },
  {
   "cell_type": "code",
   "execution_count": null,
   "id": "7f54d597-9da0-4bef-9ec0-21d2672bc0d8",
   "metadata": {},
   "outputs": [],
   "source": [
    "Data_Telus_merge=Data_Telus.merge(ARPU,left_on='Cust_id_1',right_on='cust_id',how='left')"
   ]
  },
  {
   "cell_type": "code",
   "execution_count": null,
   "id": "e37e9c30-174f-402e-a15f-53be83572e30",
   "metadata": {},
   "outputs": [],
   "source": [
    "Data_Telus_merge['ARPU_flag'].isna().sum()*100/Data_Telus_merge.shape[0]"
   ]
  },
  {
   "cell_type": "code",
   "execution_count": null,
   "id": "3ed56894-79a7-4466-b10c-bb2330a46048",
   "metadata": {},
   "outputs": [],
   "source": [
    "Data_Telus_merge.head()"
   ]
  },
  {
   "cell_type": "code",
   "execution_count": null,
   "id": "2aa36b2f-8568-4d12-bce6-edcdefd530e1",
   "metadata": {},
   "outputs": [],
   "source": [
    "pd.DataFrame(Data_Telus_merge.groupby(['account_type_name']).agg(\n",
    "    \n",
    "    Customer_count= ('customer_id','nunique'),\n",
    "    ARPU_Avg=('ffh_amt_0','mean')))"
   ]
  },
  {
   "cell_type": "code",
   "execution_count": null,
   "id": "6d156757-aff0-40d3-b672-aa6b34904b2a",
   "metadata": {},
   "outputs": [],
   "source": []
  }
 ],
 "metadata": {
  "kernelspec": {
   "display_name": "Python 3 (ipykernel)",
   "language": "python",
   "name": "python3"
  },
  "language_info": {
   "codemirror_mode": {
    "name": "ipython",
    "version": 3
   },
   "file_extension": ".py",
   "mimetype": "text/x-python",
   "name": "python",
   "nbconvert_exporter": "python",
   "pygments_lexer": "ipython3",
   "version": "3.8.12"
  }
 },
 "nbformat": 4,
 "nbformat_minor": 5
}
