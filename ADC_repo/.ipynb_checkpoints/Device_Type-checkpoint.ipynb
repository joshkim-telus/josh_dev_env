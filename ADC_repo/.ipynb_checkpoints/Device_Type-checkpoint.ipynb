{
 "cells": [
  {
   "cell_type": "code",
   "execution_count": null,
   "id": "3e92a623-2e3c-42a7-b3fa-153a5fcac3da",
   "metadata": {},
   "outputs": [],
   "source": [
    "#### import global modules\n",
    "import os\n",
    "import sys\n",
    "import pandas as pd\n",
    "import numpy as np\n",
    "from pathlib import Path\n",
    "from yaml import safe_load\n",
    "import google.oauth2.credentials\n",
    "from google.cloud import bigquery\n",
    "import gc\n",
    "\n",
    "# Set global vars\n",
    "pth_project = Path(os.getcwd().split('notebooks')[0])\n",
    "pth_data = pth_project / 'data'\n",
    "pth_queries = pth_project / 'core' / 'queries'\n",
    "pth_creds = pth_project / 'conf' / 'local' / 'project_config.yaml'\n",
    "sys.path.insert(0, str(pth_project))\n",
    "d_project_config = safe_load(pth_creds.open())\n",
    "# d_params = safe_load((pth_project / 'core' / 'parameters' / 'common.yaml').open())['data_extract']\n",
    "\n",
    "# import local modules\n",
    "from core.utils.gcp import connect_bq_services\n",
    "# from core.etl.extract import extract_bq_data, extract_pr_codes, format_conv_df, filter_convs\n",
    "\n",
    "# Connect to google services\n",
    "bq_client = connect_bq_services(d_project_config['gcp-project-name'])\n",
    "pd.options.display.max_rows = 100"
   ]
  },
  {
   "cell_type": "code",
   "execution_count": null,
   "id": "78b6f06e-409c-403c-b0cd-2acc1303187e",
   "metadata": {},
   "outputs": [],
   "source": [
    "def extract_bq_data(bq_client, sql=None, pth_query=None):\n",
    "    if sql is not None:\n",
    "        df = bq_client.query(sql).to_dataframe()\n",
    "    elif pth_query is not None:\n",
    "        sql = pth_query.read_text()\n",
    "        df = bq_client.query(sql).to_dataframe()\n",
    "    else:\n",
    "        raise ValueError('`sql` or `pth_query` should be set')  \n",
    "    return df"
   ]
  },
  {
   "cell_type": "code",
   "execution_count": null,
   "id": "ff0a3df9-f108-464d-8adc-aa5434acf6b2",
   "metadata": {},
   "outputs": [],
   "source": [
    "Current_device_Query='''\n",
    "\n",
    "select * from `cio-datahub-enterprise-dv-e8ff.src_adc.bq_current_device`\n",
    "\n",
    "'''"
   ]
  },
  {
   "cell_type": "code",
   "execution_count": null,
   "id": "530052b8-3a18-47ad-a3ca-a75c263078c9",
   "metadata": {},
   "outputs": [],
   "source": [
    "Current_Device_DF= extract_bq_data(bq_client,sql=Current_device_Query)"
   ]
  },
  {
   "cell_type": "code",
   "execution_count": null,
   "id": "94629c21-2a84-47d1-bf06-a19c16f9d02d",
   "metadata": {},
   "outputs": [],
   "source": [
    "Current_Device_DF.info()"
   ]
  },
  {
   "cell_type": "code",
   "execution_count": null,
   "id": "c6f5f019-0213-442d-a5dd-2024fdb10713",
   "metadata": {},
   "outputs": [],
   "source": [
    "Current_Device_DF['device_type_desc'].value_counts(normalize=True)*100"
   ]
  },
  {
   "cell_type": "code",
   "execution_count": null,
   "id": "d094bbd4-dd0d-41d0-afb4-a5033aafc712",
   "metadata": {},
   "outputs": [],
   "source": [
    "Current_Device_DF['count_device']=1"
   ]
  },
  {
   "cell_type": "code",
   "execution_count": null,
   "id": "f56a21ff-37b5-4b92-9fd0-8989b7f44198",
   "metadata": {},
   "outputs": [],
   "source": [
    "device_type_DF=pd.pivot_table(Current_Device_DF, values='count_device', index='customer_id', columns='device_type_desc',\n",
    "                          aggfunc='sum').reset_index()"
   ]
  },
  {
   "cell_type": "code",
   "execution_count": null,
   "id": "e292996a-e6cc-4854-b781-46aed9304f00",
   "metadata": {},
   "outputs": [],
   "source": [
    "rep_chars = ' |\\|-|:|/'\n",
    "\n",
    "device_type_DF.columns = device_type_DF.columns.str.replace(rep_chars, '_')"
   ]
  },
  {
   "cell_type": "code",
   "execution_count": null,
   "id": "70eadad2-e371-461d-bb1f-334923809dae",
   "metadata": {},
   "outputs": [],
   "source": [
    "device_type_DF.columns = device_type_DF.columns.str.replace('-', '_')"
   ]
  },
  {
   "cell_type": "code",
   "execution_count": null,
   "id": "9444828e-954d-43b8-9d64-1fee55c93c00",
   "metadata": {},
   "outputs": [],
   "source": [
    "device_type_DF.info()"
   ]
  },
  {
   "cell_type": "code",
   "execution_count": null,
   "id": "11f752c2-4b63-48a1-afcb-848eb606694c",
   "metadata": {},
   "outputs": [],
   "source": [
    "device_type_DF['Camera'].value_counts()"
   ]
  },
  {
   "cell_type": "code",
   "execution_count": null,
   "id": "bac00222-0190-4b3f-82eb-f8030a7feb60",
   "metadata": {},
   "outputs": [],
   "source": [
    "device_type_DF.head()"
   ]
  },
  {
   "cell_type": "code",
   "execution_count": null,
   "id": "c2f2af43-ca10-46e9-9268-77c67e39a3d3",
   "metadata": {},
   "outputs": [],
   "source": [
    "device_type_DF.fillna(0,inplace=True)"
   ]
  },
  {
   "cell_type": "code",
   "execution_count": null,
   "id": "03a3e4d6-71df-4d0a-82dc-ca1ee0051def",
   "metadata": {},
   "outputs": [],
   "source": [
    "device_type_DF['Camera'].value_counts()"
   ]
  },
  {
   "cell_type": "code",
   "execution_count": null,
   "id": "64eee2e4-0e22-4b32-8ffa-ed429a77154d",
   "metadata": {},
   "outputs": [],
   "source": [
    "feature_cols=device_type_DF.drop('customer_id',axis=1).columns.to_list()"
   ]
  },
  {
   "cell_type": "code",
   "execution_count": null,
   "id": "54233a2a-2c08-4b9c-b030-edabf7817326",
   "metadata": {},
   "outputs": [],
   "source": [
    "feature_cols"
   ]
  },
  {
   "cell_type": "code",
   "execution_count": null,
   "id": "c55ee22e-ccf7-4f60-9be7-d9fd07f1b30f",
   "metadata": {},
   "outputs": [],
   "source": [
    "\n",
    "device_type_DF[feature_cols]= device_type_DF[feature_cols].applymap(lambda x: 1 if x> 0 else 0)\n",
    "\n"
   ]
  },
  {
   "cell_type": "code",
   "execution_count": null,
   "id": "2153d5ce-a4fd-4b6e-840e-3c46e25f9cb2",
   "metadata": {},
   "outputs": [],
   "source": [
    "device_type_DF.head()"
   ]
  },
  {
   "cell_type": "code",
   "execution_count": null,
   "id": "4720cc9c-24ac-4dab-99cb-db4b9fec9337",
   "metadata": {},
   "outputs": [],
   "source": [
    "device_type_DF['Camera'].value_counts()"
   ]
  },
  {
   "cell_type": "code",
   "execution_count": null,
   "id": "11046c87-a889-4396-b60b-f6df6311910d",
   "metadata": {},
   "outputs": [],
   "source": [
    "device_type_DF['Total_types_of_devices']=device_type_DF[feature_cols].sum(axis=1)"
   ]
  },
  {
   "cell_type": "code",
   "execution_count": null,
   "id": "7fcf450b-663e-42ae-a2d0-99b72868cbac",
   "metadata": {},
   "outputs": [],
   "source": [
    "device_type_DF.head()"
   ]
  },
  {
   "cell_type": "code",
   "execution_count": null,
   "id": "837b2f48-4bc9-4b2c-99ff-1741befea49c",
   "metadata": {},
   "outputs": [],
   "source": [
    "device_type_DF['Total_types_of_devices'].value_counts()"
   ]
  },
  {
   "cell_type": "code",
   "execution_count": null,
   "id": "e6e15877-9733-4716-be8f-db47365afb19",
   "metadata": {},
   "outputs": [],
   "source": [
    "device_type_DF.info()"
   ]
  },
  {
   "cell_type": "code",
   "execution_count": null,
   "id": "cf3482e2-1614-48a3-8748-d0549d727214",
   "metadata": {},
   "outputs": [],
   "source": [
    "config= bigquery.job.LoadJobConfig()\n",
    "\n",
    "# config._properties['timePartitioning'] = {'field': 'Month_Year'}\n",
    "config.write_disposition = bigquery.WriteDisposition.WRITE_TRUNCATE\n",
    "\n",
    "Table_BQ = 'ADC.Device_type_mapping'\n",
    "\n",
    "bq_table_instance= bq_client.load_table_from_dataframe(device_type_DF, Table_BQ,job_config=config)"
   ]
  },
  {
   "cell_type": "code",
   "execution_count": null,
   "id": "9855ab5f-e59f-4a50-b37e-070494a4ed71",
   "metadata": {},
   "outputs": [],
   "source": [
    "device_type_DF['Total_types_of_devices'].describe()"
   ]
  },
  {
   "cell_type": "code",
   "execution_count": null,
   "id": "0417b539-3b24-4ac4-bfe8-8d978668bb2a",
   "metadata": {},
   "outputs": [],
   "source": []
  },
  {
   "cell_type": "code",
   "execution_count": null,
   "id": "944fb040-2213-4e3b-9194-028981b84e85",
   "metadata": {},
   "outputs": [],
   "source": []
  },
  {
   "cell_type": "code",
   "execution_count": null,
   "id": "ff4f9f93-1a03-400a-aada-8cf94cd4b318",
   "metadata": {},
   "outputs": [],
   "source": []
  }
 ],
 "metadata": {
  "kernelspec": {
   "display_name": "Python 3 (ipykernel)",
   "language": "python",
   "name": "python3"
  },
  "language_info": {
   "codemirror_mode": {
    "name": "ipython",
    "version": 3
   },
   "file_extension": ".py",
   "mimetype": "text/x-python",
   "name": "python",
   "nbconvert_exporter": "python",
   "pygments_lexer": "ipython3",
   "version": "3.8.12"
  }
 },
 "nbformat": 4,
 "nbformat_minor": 5
}
