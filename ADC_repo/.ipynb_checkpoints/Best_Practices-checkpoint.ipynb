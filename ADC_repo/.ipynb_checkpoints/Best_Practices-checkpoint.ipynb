{
 "cells": [
  {
   "cell_type": "code",
   "execution_count": 1,
   "id": "582fcd7f-4cd0-4aea-8e53-f96adb91df9d",
   "metadata": {},
   "outputs": [],
   "source": [
    "#### import global modules\n",
    "import os\n",
    "import sys\n",
    "import pandas as pd\n",
    "from pathlib import Path\n",
    "from yaml import safe_load\n",
    "import google.oauth2.credentials\n",
    "from google.cloud import bigquery\n",
    "import numpy as np\n",
    "# Set global vars\n",
    "pth_project = Path(os.getcwd().split('notebooks')[0])\n",
    "pth_data = pth_project / 'data'\n",
    "pth_queries = pth_project / 'core' / 'queries'\n",
    "pth_creds = pth_project / 'conf' / 'local' / 'project_config.yaml'\n",
    "sys.path.insert(0, str(pth_project))\n",
    "d_project_config = safe_load(pth_creds.open())\n",
    "# d_params = safe_load((pth_project / 'core' / 'parameters' / 'common.yaml').open())['data_extract']\n",
    "\n",
    "# import local modules\n",
    "from core.utils.gcp import connect_bq_services\n",
    "# from core.etl.extract import extract_bq_data, extract_pr_codes, format_conv_df, filter_convs\n",
    "\n",
    "# Connect to google services\n",
    "bq_client = connect_bq_services(d_project_config['gcp-project-name'])\n",
    "pd.options.display.max_rows = 100"
   ]
  },
  {
   "cell_type": "code",
   "execution_count": 2,
   "id": "0a2fed14-ae16-47b6-bb4a-1f2bc4737071",
   "metadata": {},
   "outputs": [],
   "source": [
    "def extract_bq_data(bq_client, sql=None, pth_query=None):\n",
    "    if sql is not None:\n",
    "        df = bq_client.query(sql).to_dataframe()\n",
    "    elif pth_query is not None:\n",
    "        sql = pth_query.read_text()\n",
    "        df = bq_client.query(sql).to_dataframe()\n",
    "    else:\n",
    "        raise ValueError('`sql` or `pth_query` should be set')  \n",
    "    return df"
   ]
  },
  {
   "cell_type": "code",
   "execution_count": 3,
   "id": "7c872b23-901c-4117-aa89-ef668dcb1f8a",
   "metadata": {},
   "outputs": [],
   "source": [
    "Best_Practices_Query='''\n",
    "\n",
    "select customer_id,best_practices_id,best_practices_ind,date(dt_last_calculate_utc) as last_date_calculate\n",
    "from `cio-datahub-enterprise-pr-183a.src_adc.bq_customer_best_practice`\n",
    "-- where DATE(create_ts)<='2022-08-31'\n",
    "QUALIFY ROW_NUMBER() OVER (PARTITION BY customer_id,best_practices_id ORDER BY last_updt_ts DESC) = 1\n",
    "order by customer_id,best_practices_id\n",
    "\n",
    "\n",
    "'''"
   ]
  },
  {
   "cell_type": "code",
   "execution_count": 4,
   "id": "b9d5a04c-ff0f-42d4-89ea-d9e6f7a5f495",
   "metadata": {},
   "outputs": [],
   "source": [
    "Best_Practices_DF= extract_bq_data(bq_client,sql=Best_Practices_Query)"
   ]
  },
  {
   "cell_type": "code",
   "execution_count": 5,
   "id": "bf3e4ca7-df8a-43d3-b13d-b69104254365",
   "metadata": {},
   "outputs": [
    {
     "name": "stdout",
     "output_type": "stream",
     "text": [
      "<class 'pandas.core.frame.DataFrame'>\n",
      "RangeIndex: 3672642 entries, 0 to 3672641\n",
      "Data columns (total 4 columns):\n",
      " #   Column               Dtype  \n",
      "---  ------               -----  \n",
      " 0   customer_id          Int64  \n",
      " 1   best_practices_id    Int64  \n",
      " 2   best_practices_ind   boolean\n",
      " 3   last_date_calculate  dbdate \n",
      "dtypes: Int64(2), boolean(1), dbdate(1)\n",
      "memory usage: 98.1 MB\n"
     ]
    }
   ],
   "source": [
    "Best_Practices_DF.info()"
   ]
  },
  {
   "cell_type": "code",
   "execution_count": 6,
   "id": "d3230500-3bdf-460f-8ed9-b0b243502e84",
   "metadata": {},
   "outputs": [
    {
     "data": {
      "text/html": [
       "<div>\n",
       "<style scoped>\n",
       "    .dataframe tbody tr th:only-of-type {\n",
       "        vertical-align: middle;\n",
       "    }\n",
       "\n",
       "    .dataframe tbody tr th {\n",
       "        vertical-align: top;\n",
       "    }\n",
       "\n",
       "    .dataframe thead th {\n",
       "        text-align: right;\n",
       "    }\n",
       "</style>\n",
       "<table border=\"1\" class=\"dataframe\">\n",
       "  <thead>\n",
       "    <tr style=\"text-align: right;\">\n",
       "      <th></th>\n",
       "      <th>customer_id</th>\n",
       "      <th>best_practices_id</th>\n",
       "      <th>best_practices_ind</th>\n",
       "      <th>last_date_calculate</th>\n",
       "    </tr>\n",
       "  </thead>\n",
       "  <tbody>\n",
       "    <tr>\n",
       "      <th>0</th>\n",
       "      <td>287850</td>\n",
       "      <td>1</td>\n",
       "      <td>True</td>\n",
       "      <td>2022-08-14</td>\n",
       "    </tr>\n",
       "    <tr>\n",
       "      <th>1</th>\n",
       "      <td>287850</td>\n",
       "      <td>2</td>\n",
       "      <td>False</td>\n",
       "      <td>2022-08-14</td>\n",
       "    </tr>\n",
       "    <tr>\n",
       "      <th>2</th>\n",
       "      <td>287850</td>\n",
       "      <td>3</td>\n",
       "      <td>False</td>\n",
       "      <td>2022-08-14</td>\n",
       "    </tr>\n",
       "    <tr>\n",
       "      <th>3</th>\n",
       "      <td>287850</td>\n",
       "      <td>4</td>\n",
       "      <td>False</td>\n",
       "      <td>2022-08-14</td>\n",
       "    </tr>\n",
       "    <tr>\n",
       "      <th>4</th>\n",
       "      <td>287850</td>\n",
       "      <td>5</td>\n",
       "      <td>True</td>\n",
       "      <td>2022-08-14</td>\n",
       "    </tr>\n",
       "  </tbody>\n",
       "</table>\n",
       "</div>"
      ],
      "text/plain": [
       "   customer_id  best_practices_id  best_practices_ind last_date_calculate\n",
       "0       287850                  1                True          2022-08-14\n",
       "1       287850                  2               False          2022-08-14\n",
       "2       287850                  3               False          2022-08-14\n",
       "3       287850                  4               False          2022-08-14\n",
       "4       287850                  5                True          2022-08-14"
      ]
     },
     "execution_count": 6,
     "metadata": {},
     "output_type": "execute_result"
    }
   ],
   "source": [
    "Best_Practices_DF.head()"
   ]
  },
  {
   "cell_type": "code",
   "execution_count": 7,
   "id": "3b34dfae-899a-467c-b62f-616eb67f0436",
   "metadata": {},
   "outputs": [],
   "source": [
    "# Best_Practices_DF['customer_id'].value_counts()"
   ]
  },
  {
   "cell_type": "code",
   "execution_count": 8,
   "id": "94917e0d-c4c4-48c0-b427-1d1a50215a1f",
   "metadata": {},
   "outputs": [],
   "source": [
    "# Best_Practices_DF_True=Best_Practices_DF[Best_Practices_DF['best_practices_ind']==True]"
   ]
  },
  {
   "cell_type": "code",
   "execution_count": 9,
   "id": "022962de-ee94-4e50-9a5a-52989996b828",
   "metadata": {},
   "outputs": [],
   "source": [
    "# Best_Practices_DF_True['customer_id'].value_counts()"
   ]
  },
  {
   "cell_type": "code",
   "execution_count": 10,
   "id": "91540493-f93e-4355-96e7-d86aa6b844de",
   "metadata": {},
   "outputs": [],
   "source": [
    "Best_Practices_DF['Best_practices_flag']=Best_Practices_DF['best_practices_ind'].apply(lambda x: 1 if x==True else 0)"
   ]
  },
  {
   "cell_type": "code",
   "execution_count": 11,
   "id": "6a246999-9a51-45f6-9785-5475b7180f46",
   "metadata": {},
   "outputs": [
    {
     "data": {
      "text/html": [
       "<div>\n",
       "<style scoped>\n",
       "    .dataframe tbody tr th:only-of-type {\n",
       "        vertical-align: middle;\n",
       "    }\n",
       "\n",
       "    .dataframe tbody tr th {\n",
       "        vertical-align: top;\n",
       "    }\n",
       "\n",
       "    .dataframe thead th {\n",
       "        text-align: right;\n",
       "    }\n",
       "</style>\n",
       "<table border=\"1\" class=\"dataframe\">\n",
       "  <thead>\n",
       "    <tr style=\"text-align: right;\">\n",
       "      <th></th>\n",
       "      <th>customer_id</th>\n",
       "      <th>best_practices_id</th>\n",
       "      <th>best_practices_ind</th>\n",
       "      <th>last_date_calculate</th>\n",
       "      <th>Best_practices_flag</th>\n",
       "    </tr>\n",
       "  </thead>\n",
       "  <tbody>\n",
       "    <tr>\n",
       "      <th>0</th>\n",
       "      <td>287850</td>\n",
       "      <td>1</td>\n",
       "      <td>True</td>\n",
       "      <td>2022-08-14</td>\n",
       "      <td>1</td>\n",
       "    </tr>\n",
       "    <tr>\n",
       "      <th>1</th>\n",
       "      <td>287850</td>\n",
       "      <td>2</td>\n",
       "      <td>False</td>\n",
       "      <td>2022-08-14</td>\n",
       "      <td>0</td>\n",
       "    </tr>\n",
       "    <tr>\n",
       "      <th>2</th>\n",
       "      <td>287850</td>\n",
       "      <td>3</td>\n",
       "      <td>False</td>\n",
       "      <td>2022-08-14</td>\n",
       "      <td>0</td>\n",
       "    </tr>\n",
       "    <tr>\n",
       "      <th>3</th>\n",
       "      <td>287850</td>\n",
       "      <td>4</td>\n",
       "      <td>False</td>\n",
       "      <td>2022-08-14</td>\n",
       "      <td>0</td>\n",
       "    </tr>\n",
       "    <tr>\n",
       "      <th>4</th>\n",
       "      <td>287850</td>\n",
       "      <td>5</td>\n",
       "      <td>True</td>\n",
       "      <td>2022-08-14</td>\n",
       "      <td>1</td>\n",
       "    </tr>\n",
       "  </tbody>\n",
       "</table>\n",
       "</div>"
      ],
      "text/plain": [
       "   customer_id  best_practices_id  best_practices_ind last_date_calculate  \\\n",
       "0       287850                  1                True          2022-08-14   \n",
       "1       287850                  2               False          2022-08-14   \n",
       "2       287850                  3               False          2022-08-14   \n",
       "3       287850                  4               False          2022-08-14   \n",
       "4       287850                  5                True          2022-08-14   \n",
       "\n",
       "   Best_practices_flag  \n",
       "0                    1  \n",
       "1                    0  \n",
       "2                    0  \n",
       "3                    0  \n",
       "4                    1  "
      ]
     },
     "execution_count": 11,
     "metadata": {},
     "output_type": "execute_result"
    }
   ],
   "source": [
    "Best_Practices_DF.head()"
   ]
  },
  {
   "cell_type": "code",
   "execution_count": 12,
   "id": "613dea69-c073-43b0-9861-b3743e3ea39a",
   "metadata": {},
   "outputs": [],
   "source": [
    "Best_Practices_DF_wide=Best_Practices_DF.pivot(index='customer_id', columns='best_practices_id', values='Best_practices_flag').reset_index()\n"
   ]
  },
  {
   "cell_type": "code",
   "execution_count": 13,
   "id": "1d435783-abbd-4208-956b-8b3b10445856",
   "metadata": {},
   "outputs": [
    {
     "name": "stdout",
     "output_type": "stream",
     "text": [
      "<class 'pandas.core.frame.DataFrame'>\n",
      "RangeIndex: 612107 entries, 0 to 612106\n",
      "Data columns (total 7 columns):\n",
      " #   Column       Non-Null Count   Dtype\n",
      "---  ------       --------------   -----\n",
      " 0   customer_id  612107 non-null  Int64\n",
      " 1   1            612107 non-null  int64\n",
      " 2   2            612107 non-null  int64\n",
      " 3   3            612107 non-null  int64\n",
      " 4   4            612107 non-null  int64\n",
      " 5   5            612107 non-null  int64\n",
      " 6   6            612107 non-null  int64\n",
      "dtypes: Int64(1), int64(6)\n",
      "memory usage: 33.3 MB\n"
     ]
    }
   ],
   "source": [
    "Best_Practices_DF_wide.info()"
   ]
  },
  {
   "cell_type": "code",
   "execution_count": 14,
   "id": "0a46443d-b66a-4fbb-88f0-721c5f3961e1",
   "metadata": {},
   "outputs": [],
   "source": [
    "Best_Practices_DF_wide.columns=['customer_id','Best_partices_1','Best_partices_2','Best_partices_3','Best_partices_4','Best_partices_5','Best_partices_6']"
   ]
  },
  {
   "cell_type": "code",
   "execution_count": 15,
   "id": "cf01542d-5577-4747-8c2f-74d67bcace49",
   "metadata": {},
   "outputs": [
    {
     "data": {
      "text/html": [
       "<div>\n",
       "<style scoped>\n",
       "    .dataframe tbody tr th:only-of-type {\n",
       "        vertical-align: middle;\n",
       "    }\n",
       "\n",
       "    .dataframe tbody tr th {\n",
       "        vertical-align: top;\n",
       "    }\n",
       "\n",
       "    .dataframe thead th {\n",
       "        text-align: right;\n",
       "    }\n",
       "</style>\n",
       "<table border=\"1\" class=\"dataframe\">\n",
       "  <thead>\n",
       "    <tr style=\"text-align: right;\">\n",
       "      <th></th>\n",
       "      <th>customer_id</th>\n",
       "      <th>Best_partices_1</th>\n",
       "      <th>Best_partices_2</th>\n",
       "      <th>Best_partices_3</th>\n",
       "      <th>Best_partices_4</th>\n",
       "      <th>Best_partices_5</th>\n",
       "      <th>Best_partices_6</th>\n",
       "    </tr>\n",
       "  </thead>\n",
       "  <tbody>\n",
       "    <tr>\n",
       "      <th>0</th>\n",
       "      <td>287850</td>\n",
       "      <td>1</td>\n",
       "      <td>0</td>\n",
       "      <td>0</td>\n",
       "      <td>0</td>\n",
       "      <td>1</td>\n",
       "      <td>0</td>\n",
       "    </tr>\n",
       "    <tr>\n",
       "      <th>1</th>\n",
       "      <td>292877</td>\n",
       "      <td>1</td>\n",
       "      <td>1</td>\n",
       "      <td>0</td>\n",
       "      <td>0</td>\n",
       "      <td>0</td>\n",
       "      <td>0</td>\n",
       "    </tr>\n",
       "    <tr>\n",
       "      <th>2</th>\n",
       "      <td>299100</td>\n",
       "      <td>1</td>\n",
       "      <td>1</td>\n",
       "      <td>0</td>\n",
       "      <td>0</td>\n",
       "      <td>1</td>\n",
       "      <td>1</td>\n",
       "    </tr>\n",
       "    <tr>\n",
       "      <th>3</th>\n",
       "      <td>355703</td>\n",
       "      <td>1</td>\n",
       "      <td>1</td>\n",
       "      <td>0</td>\n",
       "      <td>1</td>\n",
       "      <td>1</td>\n",
       "      <td>1</td>\n",
       "    </tr>\n",
       "    <tr>\n",
       "      <th>4</th>\n",
       "      <td>359052</td>\n",
       "      <td>1</td>\n",
       "      <td>1</td>\n",
       "      <td>0</td>\n",
       "      <td>0</td>\n",
       "      <td>1</td>\n",
       "      <td>1</td>\n",
       "    </tr>\n",
       "  </tbody>\n",
       "</table>\n",
       "</div>"
      ],
      "text/plain": [
       "   customer_id  Best_partices_1  Best_partices_2  Best_partices_3  \\\n",
       "0       287850                1                0                0   \n",
       "1       292877                1                1                0   \n",
       "2       299100                1                1                0   \n",
       "3       355703                1                1                0   \n",
       "4       359052                1                1                0   \n",
       "\n",
       "   Best_partices_4  Best_partices_5  Best_partices_6  \n",
       "0                0                1                0  \n",
       "1                0                0                0  \n",
       "2                0                1                1  \n",
       "3                1                1                1  \n",
       "4                0                1                1  "
      ]
     },
     "execution_count": 15,
     "metadata": {},
     "output_type": "execute_result"
    }
   ],
   "source": [
    "Best_Practices_DF_wide.head()"
   ]
  },
  {
   "cell_type": "code",
   "execution_count": 16,
   "id": "68bde2a7-440b-4760-8e74-0628a1f4ddab",
   "metadata": {},
   "outputs": [
    {
     "data": {
      "text/plain": [
       "1    519533\n",
       "0     92574\n",
       "Name: Best_partices_1, dtype: int64"
      ]
     },
     "execution_count": 16,
     "metadata": {},
     "output_type": "execute_result"
    }
   ],
   "source": [
    "Best_Practices_DF_wide['Best_partices_1'].value_counts()"
   ]
  },
  {
   "cell_type": "code",
   "execution_count": 17,
   "id": "6f84ad5f-4eac-4824-8f71-f45a1d5d8ff0",
   "metadata": {},
   "outputs": [],
   "source": [
    "Best_Practices_DF_wide.fillna(0,inplace=True)"
   ]
  },
  {
   "cell_type": "code",
   "execution_count": 18,
   "id": "97794826-6392-4b82-a716-6a2f142f3e34",
   "metadata": {},
   "outputs": [
    {
     "data": {
      "text/plain": [
       "1    519533\n",
       "0     92574\n",
       "Name: Best_partices_1, dtype: int64"
      ]
     },
     "execution_count": 18,
     "metadata": {},
     "output_type": "execute_result"
    }
   ],
   "source": [
    "Best_Practices_DF_wide['Best_partices_1'].value_counts()"
   ]
  },
  {
   "cell_type": "code",
   "execution_count": 19,
   "id": "64faafbd-3c13-48c6-8cc4-73e2332280a4",
   "metadata": {},
   "outputs": [
    {
     "data": {
      "text/plain": [
       "0    425436\n",
       "1    186671\n",
       "Name: Best_partices_3, dtype: int64"
      ]
     },
     "execution_count": 19,
     "metadata": {},
     "output_type": "execute_result"
    }
   ],
   "source": [
    "Best_Practices_DF_wide['Best_partices_3'].value_counts()"
   ]
  },
  {
   "cell_type": "code",
   "execution_count": 20,
   "id": "0e7dee43-678f-4baf-bc19-c15a67639975",
   "metadata": {},
   "outputs": [
    {
     "data": {
      "text/html": [
       "<div>\n",
       "<style scoped>\n",
       "    .dataframe tbody tr th:only-of-type {\n",
       "        vertical-align: middle;\n",
       "    }\n",
       "\n",
       "    .dataframe tbody tr th {\n",
       "        vertical-align: top;\n",
       "    }\n",
       "\n",
       "    .dataframe thead th {\n",
       "        text-align: right;\n",
       "    }\n",
       "</style>\n",
       "<table border=\"1\" class=\"dataframe\">\n",
       "  <thead>\n",
       "    <tr style=\"text-align: right;\">\n",
       "      <th></th>\n",
       "      <th>customer_id</th>\n",
       "      <th>Best_partices_1</th>\n",
       "      <th>Best_partices_2</th>\n",
       "      <th>Best_partices_3</th>\n",
       "      <th>Best_partices_4</th>\n",
       "      <th>Best_partices_5</th>\n",
       "      <th>Best_partices_6</th>\n",
       "    </tr>\n",
       "  </thead>\n",
       "  <tbody>\n",
       "    <tr>\n",
       "      <th>0</th>\n",
       "      <td>287850</td>\n",
       "      <td>1</td>\n",
       "      <td>0</td>\n",
       "      <td>0</td>\n",
       "      <td>0</td>\n",
       "      <td>1</td>\n",
       "      <td>0</td>\n",
       "    </tr>\n",
       "    <tr>\n",
       "      <th>1</th>\n",
       "      <td>292877</td>\n",
       "      <td>1</td>\n",
       "      <td>1</td>\n",
       "      <td>0</td>\n",
       "      <td>0</td>\n",
       "      <td>0</td>\n",
       "      <td>0</td>\n",
       "    </tr>\n",
       "    <tr>\n",
       "      <th>2</th>\n",
       "      <td>299100</td>\n",
       "      <td>1</td>\n",
       "      <td>1</td>\n",
       "      <td>0</td>\n",
       "      <td>0</td>\n",
       "      <td>1</td>\n",
       "      <td>1</td>\n",
       "    </tr>\n",
       "    <tr>\n",
       "      <th>3</th>\n",
       "      <td>355703</td>\n",
       "      <td>1</td>\n",
       "      <td>1</td>\n",
       "      <td>0</td>\n",
       "      <td>1</td>\n",
       "      <td>1</td>\n",
       "      <td>1</td>\n",
       "    </tr>\n",
       "    <tr>\n",
       "      <th>4</th>\n",
       "      <td>359052</td>\n",
       "      <td>1</td>\n",
       "      <td>1</td>\n",
       "      <td>0</td>\n",
       "      <td>0</td>\n",
       "      <td>1</td>\n",
       "      <td>1</td>\n",
       "    </tr>\n",
       "  </tbody>\n",
       "</table>\n",
       "</div>"
      ],
      "text/plain": [
       "   customer_id  Best_partices_1  Best_partices_2  Best_partices_3  \\\n",
       "0       287850                1                0                0   \n",
       "1       292877                1                1                0   \n",
       "2       299100                1                1                0   \n",
       "3       355703                1                1                0   \n",
       "4       359052                1                1                0   \n",
       "\n",
       "   Best_partices_4  Best_partices_5  Best_partices_6  \n",
       "0                0                1                0  \n",
       "1                0                0                0  \n",
       "2                0                1                1  \n",
       "3                1                1                1  \n",
       "4                0                1                1  "
      ]
     },
     "execution_count": 20,
     "metadata": {},
     "output_type": "execute_result"
    }
   ],
   "source": [
    "Best_Practices_DF_wide.head()"
   ]
  },
  {
   "cell_type": "code",
   "execution_count": 21,
   "id": "f2b3adc3-a4c6-4cc2-99a8-a187ff12146e",
   "metadata": {},
   "outputs": [],
   "source": [
    "cols_to_sum=['Best_partices_1','Best_partices_2','Best_partices_3','Best_partices_4','Best_partices_5','Best_partices_6']\n",
    "Best_Practices_DF_wide['Best_Practice_All']=Best_Practices_DF_wide[cols_to_sum].sum(axis=1)"
   ]
  },
  {
   "cell_type": "code",
   "execution_count": null,
   "id": "c5ca1594-9ce9-42cb-91cc-bacb058eea79",
   "metadata": {},
   "outputs": [],
   "source": []
  },
  {
   "cell_type": "code",
   "execution_count": 22,
   "id": "eb01f0b1-0c7a-4920-a20c-e0b86e0af934",
   "metadata": {},
   "outputs": [
    {
     "data": {
      "text/plain": [
       "4    28.229215\n",
       "5    21.841606\n",
       "3    15.352054\n",
       "2    11.631463\n",
       "0     9.583292\n",
       "6     6.742612\n",
       "1     6.619758\n",
       "Name: Best_Practice_All, dtype: float64"
      ]
     },
     "execution_count": 22,
     "metadata": {},
     "output_type": "execute_result"
    }
   ],
   "source": [
    "Best_Practices_DF_wide['Best_Practice_All'].value_counts(normalize=True)*100"
   ]
  },
  {
   "cell_type": "code",
   "execution_count": 23,
   "id": "bd97f3ef-37d8-41b6-b968-ea150efd3f47",
   "metadata": {},
   "outputs": [],
   "source": [
    "Best_Practices_DF_wide=Best_Practices_DF_wide.sort_values('Best_Practice_All',ascending=False)"
   ]
  },
  {
   "cell_type": "code",
   "execution_count": 24,
   "id": "3ce63554-82ad-4375-81e4-2eb2fbd02410",
   "metadata": {},
   "outputs": [
    {
     "data": {
      "text/html": [
       "<div>\n",
       "<style scoped>\n",
       "    .dataframe tbody tr th:only-of-type {\n",
       "        vertical-align: middle;\n",
       "    }\n",
       "\n",
       "    .dataframe tbody tr th {\n",
       "        vertical-align: top;\n",
       "    }\n",
       "\n",
       "    .dataframe thead th {\n",
       "        text-align: right;\n",
       "    }\n",
       "</style>\n",
       "<table border=\"1\" class=\"dataframe\">\n",
       "  <thead>\n",
       "    <tr style=\"text-align: right;\">\n",
       "      <th></th>\n",
       "      <th>customer_id</th>\n",
       "      <th>Best_partices_1</th>\n",
       "      <th>Best_partices_2</th>\n",
       "      <th>Best_partices_3</th>\n",
       "      <th>Best_partices_4</th>\n",
       "      <th>Best_partices_5</th>\n",
       "      <th>Best_partices_6</th>\n",
       "      <th>Best_Practice_All</th>\n",
       "    </tr>\n",
       "  </thead>\n",
       "  <tbody>\n",
       "    <tr>\n",
       "      <th>226310</th>\n",
       "      <td>9733900</td>\n",
       "      <td>1</td>\n",
       "      <td>1</td>\n",
       "      <td>1</td>\n",
       "      <td>1</td>\n",
       "      <td>1</td>\n",
       "      <td>1</td>\n",
       "      <td>6</td>\n",
       "    </tr>\n",
       "    <tr>\n",
       "      <th>70328</th>\n",
       "      <td>6732112</td>\n",
       "      <td>1</td>\n",
       "      <td>1</td>\n",
       "      <td>1</td>\n",
       "      <td>1</td>\n",
       "      <td>1</td>\n",
       "      <td>1</td>\n",
       "      <td>6</td>\n",
       "    </tr>\n",
       "    <tr>\n",
       "      <th>555897</th>\n",
       "      <td>13867410</td>\n",
       "      <td>1</td>\n",
       "      <td>1</td>\n",
       "      <td>1</td>\n",
       "      <td>1</td>\n",
       "      <td>1</td>\n",
       "      <td>1</td>\n",
       "      <td>6</td>\n",
       "    </tr>\n",
       "    <tr>\n",
       "      <th>555895</th>\n",
       "      <td>13867396</td>\n",
       "      <td>1</td>\n",
       "      <td>1</td>\n",
       "      <td>1</td>\n",
       "      <td>1</td>\n",
       "      <td>1</td>\n",
       "      <td>1</td>\n",
       "      <td>6</td>\n",
       "    </tr>\n",
       "    <tr>\n",
       "      <th>281920</th>\n",
       "      <td>10486393</td>\n",
       "      <td>1</td>\n",
       "      <td>1</td>\n",
       "      <td>1</td>\n",
       "      <td>1</td>\n",
       "      <td>1</td>\n",
       "      <td>1</td>\n",
       "      <td>6</td>\n",
       "    </tr>\n",
       "  </tbody>\n",
       "</table>\n",
       "</div>"
      ],
      "text/plain": [
       "        customer_id  Best_partices_1  Best_partices_2  Best_partices_3  \\\n",
       "226310      9733900                1                1                1   \n",
       "70328       6732112                1                1                1   \n",
       "555897     13867410                1                1                1   \n",
       "555895     13867396                1                1                1   \n",
       "281920     10486393                1                1                1   \n",
       "\n",
       "        Best_partices_4  Best_partices_5  Best_partices_6  Best_Practice_All  \n",
       "226310                1                1                1                  6  \n",
       "70328                 1                1                1                  6  \n",
       "555897                1                1                1                  6  \n",
       "555895                1                1                1                  6  \n",
       "281920                1                1                1                  6  "
      ]
     },
     "execution_count": 24,
     "metadata": {},
     "output_type": "execute_result"
    }
   ],
   "source": [
    "Best_Practices_DF_wide.head()"
   ]
  },
  {
   "cell_type": "code",
   "execution_count": 25,
   "id": "cc816324-a50a-4d39-b39e-11814515a7f6",
   "metadata": {},
   "outputs": [],
   "source": [
    "Best_Practices_DF_wide['Best_Practice_All_flag']=Best_Practices_DF_wide['Best_Practice_All'].apply(lambda x: 1 if x==6 else 0)"
   ]
  },
  {
   "cell_type": "code",
   "execution_count": 26,
   "id": "d97a0da4-bfa7-4e74-b858-8231081cfd0b",
   "metadata": {},
   "outputs": [
    {
     "data": {
      "text/html": [
       "<div>\n",
       "<style scoped>\n",
       "    .dataframe tbody tr th:only-of-type {\n",
       "        vertical-align: middle;\n",
       "    }\n",
       "\n",
       "    .dataframe tbody tr th {\n",
       "        vertical-align: top;\n",
       "    }\n",
       "\n",
       "    .dataframe thead th {\n",
       "        text-align: right;\n",
       "    }\n",
       "</style>\n",
       "<table border=\"1\" class=\"dataframe\">\n",
       "  <thead>\n",
       "    <tr style=\"text-align: right;\">\n",
       "      <th></th>\n",
       "      <th>customer_id</th>\n",
       "      <th>Best_partices_1</th>\n",
       "      <th>Best_partices_2</th>\n",
       "      <th>Best_partices_3</th>\n",
       "      <th>Best_partices_4</th>\n",
       "      <th>Best_partices_5</th>\n",
       "      <th>Best_partices_6</th>\n",
       "      <th>Best_Practice_All</th>\n",
       "      <th>Best_Practice_All_flag</th>\n",
       "    </tr>\n",
       "  </thead>\n",
       "  <tbody>\n",
       "    <tr>\n",
       "      <th>226310</th>\n",
       "      <td>9733900</td>\n",
       "      <td>1</td>\n",
       "      <td>1</td>\n",
       "      <td>1</td>\n",
       "      <td>1</td>\n",
       "      <td>1</td>\n",
       "      <td>1</td>\n",
       "      <td>6</td>\n",
       "      <td>1</td>\n",
       "    </tr>\n",
       "    <tr>\n",
       "      <th>70328</th>\n",
       "      <td>6732112</td>\n",
       "      <td>1</td>\n",
       "      <td>1</td>\n",
       "      <td>1</td>\n",
       "      <td>1</td>\n",
       "      <td>1</td>\n",
       "      <td>1</td>\n",
       "      <td>6</td>\n",
       "      <td>1</td>\n",
       "    </tr>\n",
       "    <tr>\n",
       "      <th>555897</th>\n",
       "      <td>13867410</td>\n",
       "      <td>1</td>\n",
       "      <td>1</td>\n",
       "      <td>1</td>\n",
       "      <td>1</td>\n",
       "      <td>1</td>\n",
       "      <td>1</td>\n",
       "      <td>6</td>\n",
       "      <td>1</td>\n",
       "    </tr>\n",
       "    <tr>\n",
       "      <th>555895</th>\n",
       "      <td>13867396</td>\n",
       "      <td>1</td>\n",
       "      <td>1</td>\n",
       "      <td>1</td>\n",
       "      <td>1</td>\n",
       "      <td>1</td>\n",
       "      <td>1</td>\n",
       "      <td>6</td>\n",
       "      <td>1</td>\n",
       "    </tr>\n",
       "    <tr>\n",
       "      <th>281920</th>\n",
       "      <td>10486393</td>\n",
       "      <td>1</td>\n",
       "      <td>1</td>\n",
       "      <td>1</td>\n",
       "      <td>1</td>\n",
       "      <td>1</td>\n",
       "      <td>1</td>\n",
       "      <td>6</td>\n",
       "      <td>1</td>\n",
       "    </tr>\n",
       "  </tbody>\n",
       "</table>\n",
       "</div>"
      ],
      "text/plain": [
       "        customer_id  Best_partices_1  Best_partices_2  Best_partices_3  \\\n",
       "226310      9733900                1                1                1   \n",
       "70328       6732112                1                1                1   \n",
       "555897     13867410                1                1                1   \n",
       "555895     13867396                1                1                1   \n",
       "281920     10486393                1                1                1   \n",
       "\n",
       "        Best_partices_4  Best_partices_5  Best_partices_6  Best_Practice_All  \\\n",
       "226310                1                1                1                  6   \n",
       "70328                 1                1                1                  6   \n",
       "555897                1                1                1                  6   \n",
       "555895                1                1                1                  6   \n",
       "281920                1                1                1                  6   \n",
       "\n",
       "        Best_Practice_All_flag  \n",
       "226310                       1  \n",
       "70328                        1  \n",
       "555897                       1  \n",
       "555895                       1  \n",
       "281920                       1  "
      ]
     },
     "execution_count": 26,
     "metadata": {},
     "output_type": "execute_result"
    }
   ],
   "source": [
    "Best_Practices_DF_wide.head()"
   ]
  },
  {
   "cell_type": "code",
   "execution_count": 27,
   "id": "cb0b2ecb-c651-4b1b-9aa8-4cd27a81bb88",
   "metadata": {},
   "outputs": [
    {
     "name": "stdout",
     "output_type": "stream",
     "text": [
      "<class 'pandas.core.frame.DataFrame'>\n",
      "Int64Index: 612107 entries, 226310 to 612106\n",
      "Data columns (total 9 columns):\n",
      " #   Column                  Non-Null Count   Dtype\n",
      "---  ------                  --------------   -----\n",
      " 0   customer_id             612107 non-null  Int64\n",
      " 1   Best_partices_1         612107 non-null  int64\n",
      " 2   Best_partices_2         612107 non-null  int64\n",
      " 3   Best_partices_3         612107 non-null  int64\n",
      " 4   Best_partices_4         612107 non-null  int64\n",
      " 5   Best_partices_5         612107 non-null  int64\n",
      " 6   Best_partices_6         612107 non-null  int64\n",
      " 7   Best_Practice_All       612107 non-null  int64\n",
      " 8   Best_Practice_All_flag  612107 non-null  int64\n",
      "dtypes: Int64(1), int64(8)\n",
      "memory usage: 47.3 MB\n"
     ]
    }
   ],
   "source": [
    "Best_Practices_DF_wide.info()"
   ]
  },
  {
   "cell_type": "code",
   "execution_count": 28,
   "id": "d192cfd5-836c-429b-a773-e307b8a8351c",
   "metadata": {},
   "outputs": [],
   "source": [
    "config= bigquery.job.LoadJobConfig()\n",
    "\n",
    "# config._properties['timePartitioning'] = {'field': 'Month_Year'}\n",
    "config.write_disposition = bigquery.WriteDisposition.WRITE_TRUNCATE\n",
    "\n",
    "Table_BQ = 'ADC_updated.Best_Practices_Customers_latest'\n",
    "\n",
    "bq_table_instance= bq_client.load_table_from_dataframe(Best_Practices_DF_wide, Table_BQ,job_config=config)"
   ]
  },
  {
   "cell_type": "code",
   "execution_count": null,
   "id": "11b18bc2-fa4a-4c4c-8510-64a773b5f73c",
   "metadata": {},
   "outputs": [],
   "source": []
  }
 ],
 "metadata": {
  "kernelspec": {
   "display_name": "Python 3 (ipykernel)",
   "language": "python",
   "name": "python3"
  },
  "language_info": {
   "codemirror_mode": {
    "name": "ipython",
    "version": 3
   },
   "file_extension": ".py",
   "mimetype": "text/x-python",
   "name": "python",
   "nbconvert_exporter": "python",
   "pygments_lexer": "ipython3",
   "version": "3.8.12"
  }
 },
 "nbformat": 4,
 "nbformat_minor": 5
}
