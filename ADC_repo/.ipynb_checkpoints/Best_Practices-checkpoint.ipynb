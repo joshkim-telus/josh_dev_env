{
 "cells": [
  {
   "cell_type": "code",
   "execution_count": null,
   "id": "582fcd7f-4cd0-4aea-8e53-f96adb91df9d",
   "metadata": {},
   "outputs": [],
   "source": [
    "#### import global modules\n",
    "import os\n",
    "import sys\n",
    "import pandas as pd\n",
    "from pathlib import Path\n",
    "from yaml import safe_load\n",
    "import google.oauth2.credentials\n",
    "from google.cloud import bigquery\n",
    "import numpy as np\n",
    "# Set global vars\n",
    "pth_project = Path(os.getcwd().split('notebooks')[0])\n",
    "pth_data = pth_project / 'data'\n",
    "pth_queries = pth_project / 'core' / 'queries'\n",
    "pth_creds = pth_project / 'conf' / 'local' / 'project_config.yaml'\n",
    "sys.path.insert(0, str(pth_project))\n",
    "d_project_config = safe_load(pth_creds.open())\n",
    "# d_params = safe_load((pth_project / 'core' / 'parameters' / 'common.yaml').open())['data_extract']\n",
    "\n",
    "# import local modules\n",
    "from core.utils.gcp import connect_bq_services\n",
    "# from core.etl.extract import extract_bq_data, extract_pr_codes, format_conv_df, filter_convs\n",
    "\n",
    "# Connect to google services\n",
    "bq_client = connect_bq_services(d_project_config['gcp-project-name'])\n",
    "pd.options.display.max_rows = 100"
   ]
  },
  {
   "cell_type": "code",
   "execution_count": null,
   "id": "0a2fed14-ae16-47b6-bb4a-1f2bc4737071",
   "metadata": {},
   "outputs": [],
   "source": [
    "def extract_bq_data(bq_client, sql=None, pth_query=None):\n",
    "    if sql is not None:\n",
    "        df = bq_client.query(sql).to_dataframe()\n",
    "    elif pth_query is not None:\n",
    "        sql = pth_query.read_text()\n",
    "        df = bq_client.query(sql).to_dataframe()\n",
    "    else:\n",
    "        raise ValueError('`sql` or `pth_query` should be set')  \n",
    "    return df"
   ]
  },
  {
   "cell_type": "code",
   "execution_count": null,
   "id": "7c872b23-901c-4117-aa89-ef668dcb1f8a",
   "metadata": {},
   "outputs": [],
   "source": [
    "Best_Practices_Query='''\n",
    "\n",
    "select customer_id,best_practices_id,best_practices_ind,date(dt_last_calculate_utc) as last_date_calculate\n",
    "from `cio-datahub-enterprise-pr-183a.src_adc.bq_customer_best_practice`\n",
    "-- where DATE(create_ts)<='2022-08-31'\n",
    "QUALIFY ROW_NUMBER() OVER (PARTITION BY customer_id,best_practices_id ORDER BY last_updt_ts DESC) = 1\n",
    "order by customer_id,best_practices_id\n",
    "\n",
    "\n",
    "'''"
   ]
  },
  {
   "cell_type": "code",
   "execution_count": null,
   "id": "b9d5a04c-ff0f-42d4-89ea-d9e6f7a5f495",
   "metadata": {},
   "outputs": [],
   "source": [
    "Best_Practices_DF= extract_bq_data(bq_client,sql=Best_Practices_Query)"
   ]
  },
  {
   "cell_type": "code",
   "execution_count": null,
   "id": "bf3e4ca7-df8a-43d3-b13d-b69104254365",
   "metadata": {},
   "outputs": [],
   "source": [
    "Best_Practices_DF.info()"
   ]
  },
  {
   "cell_type": "code",
   "execution_count": null,
   "id": "d3230500-3bdf-460f-8ed9-b0b243502e84",
   "metadata": {},
   "outputs": [],
   "source": [
    "Best_Practices_DF.head()"
   ]
  },
  {
   "cell_type": "code",
   "execution_count": null,
   "id": "3b34dfae-899a-467c-b62f-616eb67f0436",
   "metadata": {},
   "outputs": [],
   "source": [
    "# Best_Practices_DF['customer_id'].value_counts()"
   ]
  },
  {
   "cell_type": "code",
   "execution_count": null,
   "id": "94917e0d-c4c4-48c0-b427-1d1a50215a1f",
   "metadata": {},
   "outputs": [],
   "source": [
    "# Best_Practices_DF_True=Best_Practices_DF[Best_Practices_DF['best_practices_ind']==True]"
   ]
  },
  {
   "cell_type": "code",
   "execution_count": null,
   "id": "022962de-ee94-4e50-9a5a-52989996b828",
   "metadata": {},
   "outputs": [],
   "source": [
    "# Best_Practices_DF_True['customer_id'].value_counts()"
   ]
  },
  {
   "cell_type": "code",
   "execution_count": null,
   "id": "91540493-f93e-4355-96e7-d86aa6b844de",
   "metadata": {},
   "outputs": [],
   "source": [
    "Best_Practices_DF['Best_practices_flag']=Best_Practices_DF['best_practices_ind'].apply(lambda x: 1 if x==True else 0)"
   ]
  },
  {
   "cell_type": "code",
   "execution_count": null,
   "id": "6a246999-9a51-45f6-9785-5475b7180f46",
   "metadata": {},
   "outputs": [],
   "source": [
    "Best_Practices_DF.head()"
   ]
  },
  {
   "cell_type": "code",
   "execution_count": null,
   "id": "613dea69-c073-43b0-9861-b3743e3ea39a",
   "metadata": {},
   "outputs": [],
   "source": [
    "Best_Practices_DF_wide=Best_Practices_DF.pivot(index='customer_id', columns='best_practices_id', values='Best_practices_flag').reset_index()\n"
   ]
  },
  {
   "cell_type": "code",
   "execution_count": null,
   "id": "1d435783-abbd-4208-956b-8b3b10445856",
   "metadata": {},
   "outputs": [],
   "source": [
    "Best_Practices_DF_wide.info()"
   ]
  },
  {
   "cell_type": "code",
   "execution_count": null,
   "id": "0a46443d-b66a-4fbb-88f0-721c5f3961e1",
   "metadata": {},
   "outputs": [],
   "source": [
    "Best_Practices_DF_wide.columns=['customer_id','Best_partices_1','Best_partices_2','Best_partices_3','Best_partices_4','Best_partices_5','Best_partices_6']"
   ]
  },
  {
   "cell_type": "code",
   "execution_count": null,
   "id": "cf01542d-5577-4747-8c2f-74d67bcace49",
   "metadata": {},
   "outputs": [],
   "source": [
    "Best_Practices_DF_wide.head()"
   ]
  },
  {
   "cell_type": "code",
   "execution_count": null,
   "id": "68bde2a7-440b-4760-8e74-0628a1f4ddab",
   "metadata": {},
   "outputs": [],
   "source": [
    "Best_Practices_DF_wide['Best_partices_1'].value_counts()"
   ]
  },
  {
   "cell_type": "code",
   "execution_count": null,
   "id": "6f84ad5f-4eac-4824-8f71-f45a1d5d8ff0",
   "metadata": {},
   "outputs": [],
   "source": [
    "Best_Practices_DF_wide.fillna(0,inplace=True)"
   ]
  },
  {
   "cell_type": "code",
   "execution_count": null,
   "id": "97794826-6392-4b82-a716-6a2f142f3e34",
   "metadata": {},
   "outputs": [],
   "source": [
    "Best_Practices_DF_wide['Best_partices_1'].value_counts()"
   ]
  },
  {
   "cell_type": "code",
   "execution_count": null,
   "id": "64faafbd-3c13-48c6-8cc4-73e2332280a4",
   "metadata": {},
   "outputs": [],
   "source": [
    "Best_Practices_DF_wide['Best_partices_3'].value_counts()"
   ]
  },
  {
   "cell_type": "code",
   "execution_count": null,
   "id": "0e7dee43-678f-4baf-bc19-c15a67639975",
   "metadata": {},
   "outputs": [],
   "source": [
    "Best_Practices_DF_wide.head()"
   ]
  },
  {
   "cell_type": "code",
   "execution_count": null,
   "id": "f2b3adc3-a4c6-4cc2-99a8-a187ff12146e",
   "metadata": {},
   "outputs": [],
   "source": [
    "cols_to_sum=['Best_partices_1','Best_partices_2','Best_partices_3','Best_partices_4','Best_partices_5','Best_partices_6']\n",
    "Best_Practices_DF_wide['Best_Practice_All']=Best_Practices_DF_wide[cols_to_sum].sum(axis=1)"
   ]
  },
  {
   "cell_type": "code",
   "execution_count": null,
   "id": "c5ca1594-9ce9-42cb-91cc-bacb058eea79",
   "metadata": {},
   "outputs": [],
   "source": []
  },
  {
   "cell_type": "code",
   "execution_count": null,
   "id": "eb01f0b1-0c7a-4920-a20c-e0b86e0af934",
   "metadata": {},
   "outputs": [],
   "source": [
    "Best_Practices_DF_wide['Best_Practice_All'].value_counts(normalize=True)*100"
   ]
  },
  {
   "cell_type": "code",
   "execution_count": null,
   "id": "bd97f3ef-37d8-41b6-b968-ea150efd3f47",
   "metadata": {},
   "outputs": [],
   "source": [
    "Best_Practices_DF_wide=Best_Practices_DF_wide.sort_values('Best_Practice_All',ascending=False)"
   ]
  },
  {
   "cell_type": "code",
   "execution_count": null,
   "id": "3ce63554-82ad-4375-81e4-2eb2fbd02410",
   "metadata": {},
   "outputs": [],
   "source": [
    "Best_Practices_DF_wide.head()"
   ]
  },
  {
   "cell_type": "code",
   "execution_count": null,
   "id": "cc816324-a50a-4d39-b39e-11814515a7f6",
   "metadata": {},
   "outputs": [],
   "source": [
    "Best_Practices_DF_wide['Best_Practice_All_flag']=Best_Practices_DF_wide['Best_Practice_All'].apply(lambda x: 1 if x==6 else 0)"
   ]
  },
  {
   "cell_type": "code",
   "execution_count": null,
   "id": "d97a0da4-bfa7-4e74-b858-8231081cfd0b",
   "metadata": {},
   "outputs": [],
   "source": [
    "Best_Practices_DF_wide.head()"
   ]
  },
  {
   "cell_type": "code",
   "execution_count": null,
   "id": "cb0b2ecb-c651-4b1b-9aa8-4cd27a81bb88",
   "metadata": {},
   "outputs": [],
   "source": [
    "Best_Practices_DF_wide.info()"
   ]
  },
  {
   "cell_type": "code",
   "execution_count": null,
   "id": "d192cfd5-836c-429b-a773-e307b8a8351c",
   "metadata": {},
   "outputs": [],
   "source": [
    "config= bigquery.job.LoadJobConfig()\n",
    "\n",
    "# config._properties['timePartitioning'] = {'field': 'Month_Year'}\n",
    "config.write_disposition = bigquery.WriteDisposition.WRITE_TRUNCATE\n",
    "\n",
    "Table_BQ = 'ADC_updated.Best_Practices_Customers_latest'\n",
    "\n",
    "bq_table_instance= bq_client.load_table_from_dataframe(Best_Practices_DF_wide, Table_BQ,job_config=config)"
   ]
  },
  {
   "cell_type": "code",
   "execution_count": null,
   "id": "11b18bc2-fa4a-4c4c-8510-64a773b5f73c",
   "metadata": {},
   "outputs": [],
   "source": []
  }
 ],
 "metadata": {
  "kernelspec": {
   "display_name": "Python 3 (ipykernel)",
   "language": "python",
   "name": "python3"
  },
  "language_info": {
   "codemirror_mode": {
    "name": "ipython",
    "version": 3
   },
   "file_extension": ".py",
   "mimetype": "text/x-python",
   "name": "python",
   "nbconvert_exporter": "python",
   "pygments_lexer": "ipython3",
   "version": "3.8.12"
  }
 },
 "nbformat": 4,
 "nbformat_minor": 5
}
