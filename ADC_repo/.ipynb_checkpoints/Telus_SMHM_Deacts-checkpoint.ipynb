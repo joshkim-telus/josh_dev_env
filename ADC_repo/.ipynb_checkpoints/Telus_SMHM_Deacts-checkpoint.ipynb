{
 "cells": [
  {
   "cell_type": "code",
   "execution_count": null,
   "id": "a2ddab0e-1d05-4f6e-8696-8e4dbdf9edf9",
   "metadata": {},
   "outputs": [],
   "source": [
    "#### import global modules\n",
    "import os\n",
    "import sys\n",
    "import pandas as pd\n",
    "import numpy as np\n",
    "from pathlib import Path\n",
    "from yaml import safe_load\n",
    "import google.oauth2.credentials\n",
    "from google.cloud import bigquery\n",
    "import gc\n",
    "\n",
    "# Set global vars\n",
    "pth_project = Path(os.getcwd().split('notebooks')[0])\n",
    "pth_data = pth_project / 'data'\n",
    "pth_queries = pth_project / 'core' / 'queries'\n",
    "pth_creds = pth_project / 'conf' / 'local' / 'project_config.yaml'\n",
    "sys.path.insert(0, str(pth_project))\n",
    "d_project_config = safe_load(pth_creds.open())\n",
    "# d_params = safe_load((pth_project / 'core' / 'parameters' / 'common.yaml').open())['data_extract']\n",
    "\n",
    "# import local modules\n",
    "from core.utils.gcp import connect_bq_services\n",
    "# from core.etl.extract import extract_bq_data, extract_pr_codes, format_conv_df, filter_convs\n",
    "\n",
    "# Connect to google services\n",
    "bq_client = connect_bq_services(d_project_config['gcp-project-name'])\n",
    "pd.options.display.max_rows = 100"
   ]
  },
  {
   "cell_type": "code",
   "execution_count": null,
   "id": "45aed2cf-f4d1-46f3-a8a2-9b87fe570909",
   "metadata": {},
   "outputs": [],
   "source": [
    "# Sep_deacts=pd.read_csv('SMHM_Deacts_Sep2022.csv')"
   ]
  },
  {
   "cell_type": "code",
   "execution_count": null,
   "id": "acabde42-b945-423c-93c7-5b8ce0bae3d3",
   "metadata": {},
   "outputs": [],
   "source": [
    "Nov_deacts=pd.read_csv('SMHH_CHURN_DEC2022.csv')"
   ]
  },
  {
   "cell_type": "code",
   "execution_count": null,
   "id": "e3c40aa9-6dfd-4893-8131-764d6aba840f",
   "metadata": {},
   "outputs": [],
   "source": [
    "Nov_deacts.info()"
   ]
  },
  {
   "cell_type": "code",
   "execution_count": null,
   "id": "3f07adf0-3f50-42df-b59e-a89f84d44255",
   "metadata": {},
   "outputs": [],
   "source": [
    "Nov_deacts['Deact_Flag']=1"
   ]
  },
  {
   "cell_type": "code",
   "execution_count": null,
   "id": "7fd27280-64f6-4a2f-8357-2cb501e98ebd",
   "metadata": {},
   "outputs": [],
   "source": [
    "config= bigquery.job.LoadJobConfig()\n",
    "\n",
    "# config._properties['timePartitioning'] = {'field': 'Month_Year'}\n",
    "config.write_disposition = bigquery.WriteDisposition.WRITE_TRUNCATE\n",
    "\n",
    "Table_BQ = 'SHS.SHS_DEACTS_DEC2022'\n",
    "\n",
    "bq_table_instance= bq_client.load_table_from_dataframe(Nov_deacts, Table_BQ,job_config=config)"
   ]
  },
  {
   "cell_type": "code",
   "execution_count": null,
   "id": "65b11950-54d1-42a6-a678-1aadbc54d13d",
   "metadata": {},
   "outputs": [],
   "source": []
  }
 ],
 "metadata": {
  "kernelspec": {
   "display_name": "Python 3 (ipykernel)",
   "language": "python",
   "name": "python3"
  },
  "language_info": {
   "codemirror_mode": {
    "name": "ipython",
    "version": 3
   },
   "file_extension": ".py",
   "mimetype": "text/x-python",
   "name": "python",
   "nbconvert_exporter": "python",
   "pygments_lexer": "ipython3",
   "version": "3.8.12"
  }
 },
 "nbformat": 4,
 "nbformat_minor": 5
}
