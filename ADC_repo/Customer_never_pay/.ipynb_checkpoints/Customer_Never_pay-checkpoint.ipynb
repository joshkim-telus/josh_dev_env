{
 "cells": [
  {
   "cell_type": "code",
   "execution_count": null,
   "id": "e646414c-e2c2-461a-bcee-af7e8be8bbf2",
   "metadata": {},
   "outputs": [],
   "source": [
    "#### import global modules\n",
    "import os\n",
    "import sys\n",
    "import pandas as pd\n",
    "import numpy as np\n",
    "from pathlib import Path\n",
    "from yaml import safe_load\n",
    "import google.oauth2.credentials\n",
    "from google.cloud import bigquery\n",
    "import gc\n",
    "\n",
    "# Set global vars\n",
    "pth_project = Path(os.getcwd().split('notebooks')[0])\n",
    "pth_data = pth_project / 'data'\n",
    "pth_queries = pth_project / 'core' / 'queries'\n",
    "pth_creds = pth_project / 'conf' / 'local' / 'project_config.yaml'\n",
    "sys.path.insert(0, str(pth_project))\n",
    "d_project_config = safe_load(pth_creds.open())\n",
    "# d_params = safe_load((pth_project / 'core' / 'parameters' / 'common.yaml').open())['data_extract']\n",
    "\n",
    "# import local modules\n",
    "from core.utils.gcp import connect_bq_services\n",
    "# from core.etl.extract import extract_bq_data, extract_pr_codes, format_conv_df, filter_convs\n",
    "\n",
    "# Connect to google services\n",
    "bq_client = connect_bq_services(d_project_config['gcp-project-name'])\n",
    "pd.options.display.max_rows = 100"
   ]
  },
  {
   "cell_type": "code",
   "execution_count": null,
   "id": "2631efd4-e7a4-400a-984c-e77f285e8235",
   "metadata": {},
   "outputs": [],
   "source": [
    "def extract_bq_data(bq_client, sql=None, pth_query=None):\n",
    "    if sql is not None:\n",
    "        df = bq_client.query(sql).to_dataframe()\n",
    "    elif pth_query is not None:\n",
    "        sql = pth_query.read_text()\n",
    "        df = bq_client.query(sql).to_dataframe()\n",
    "    else:\n",
    "        raise ValueError('`sql` or `pth_query` should be set')  \n",
    "    return df"
   ]
  },
  {
   "cell_type": "code",
   "execution_count": null,
   "id": "ee7f7ae8-85f3-4985-a230-aaca9a1a0802",
   "metadata": {},
   "outputs": [],
   "source": [
    "Customer_DF=pd.read_csv('Never_pay_customer_list.csv')"
   ]
  },
  {
   "cell_type": "code",
   "execution_count": null,
   "id": "0796f17e-f910-4f38-b56c-aaaaa726587b",
   "metadata": {},
   "outputs": [],
   "source": [
    "Customer_DF.info()"
   ]
  },
  {
   "cell_type": "code",
   "execution_count": null,
   "id": "ba401c9d-b5a1-4bc5-83b0-72d7f207f13d",
   "metadata": {},
   "outputs": [],
   "source": [
    "Customer_DF.head()"
   ]
  },
  {
   "cell_type": "code",
   "execution_count": null,
   "id": "3b2afb03-eb7e-43a0-8078-a66a7b874bb6",
   "metadata": {},
   "outputs": [],
   "source": [
    "Customer_DF.rename(columns={'CUSTOMER_ID':'Telus_customer_ID'},inplace=True)"
   ]
  },
  {
   "cell_type": "code",
   "execution_count": null,
   "id": "bf810b78-477c-4df7-8caa-c57d1a72affa",
   "metadata": {},
   "outputs": [],
   "source": [
    "Customer_DF.head()"
   ]
  },
  {
   "cell_type": "code",
   "execution_count": null,
   "id": "6fe7acce-e0f2-40f5-8e54-a4bfc94281bc",
   "metadata": {},
   "outputs": [],
   "source": [
    "config= bigquery.job.LoadJobConfig()\n",
    "\n",
    "# config._properties['timePartitioning'] = {'field': 'Month_Year'}\n",
    "config.write_disposition = bigquery.WriteDisposition.WRITE_TRUNCATE\n",
    "\n",
    "Table_BQ = 'SHS.Never_pay_customers'\n",
    "\n",
    "bq_table_instance= bq_client.load_table_from_dataframe(Customer_DF, Table_BQ,job_config=config)"
   ]
  },
  {
   "cell_type": "code",
   "execution_count": null,
   "id": "9d2da5b2-9819-4b49-9914-484a335b81ce",
   "metadata": {},
   "outputs": [],
   "source": [
    "Query='''\n",
    "\n",
    "\n",
    "\n",
    "with base_data as (\n",
    "select BAN, cast(Telus_customer_ID as STRING) as Telus_customer_ID  from `divgpras-pr-579355.SHS.Never_pay_customers`\n",
    ")\n",
    "\n",
    "\n",
    ", ADC_data_Sep_2022 as \n",
    "\n",
    "(\n",
    "\n",
    "SELECT distinct\n",
    "    dealer_customer_id as Telus_ID,\n",
    "    avg(Login_consistency) as Login_consistency_sep ,\n",
    "    avg(number_of_login_days) as Login_days_sep,\n",
    "    avg(Arming_Consistency) as Arming_consistency_sep,\n",
    "    1 as Sept_data_flag\n",
    "\n",
    "   FROM\n",
    "    `divgpras-pr-579355.ADC_Feature_Datastore.ADC_Master_Data`\n",
    "  WHERE\n",
    "    Month_Snapshot='2022-09-01'\n",
    "  group by dealer_customer_id\n",
    "    \n",
    ")\n",
    "\n",
    ", ADC_data_oct_2022 as \n",
    "\n",
    "(\n",
    "\n",
    "SELECT distinct\n",
    "    dealer_customer_id as Telus_ID,\n",
    "    avg(Login_consistency) as Login_consistency_Oct ,\n",
    "    avg(number_of_login_days) as Login_days_Oct,\n",
    "    avg(Arming_Consistency) as Arming_consistency_Oct,\n",
    "    1 as Oct_data_flag\n",
    "\n",
    "   FROM\n",
    "    `divgpras-pr-579355.ADC_Feature_Datastore.ADC_Master_Data`\n",
    "  WHERE\n",
    "    Month_Snapshot='2022-10-01'\n",
    "  group by dealer_customer_id\n",
    "    \n",
    ")\n",
    "\n",
    "\n",
    ", ADC_data_Nov_2022 as \n",
    "\n",
    "(\n",
    "\n",
    "SELECT distinct\n",
    "    dealer_customer_id as Telus_ID,\n",
    "    avg(Login_consistency) as Login_consistency_Nov ,\n",
    "    avg(number_of_login_days) as Login_days_Nov,\n",
    "    avg(Arming_Consistency) as Arming_consistency_Nov,\n",
    "    1 as Nov_data_flag\n",
    "\n",
    "   FROM\n",
    "    `divgpras-pr-579355.ADC_Feature_Datastore.ADC_Master_Data`\n",
    "  WHERE\n",
    "    Month_Snapshot='2022-11-01'\n",
    "  group by dealer_customer_id\n",
    "    \n",
    ")\n",
    "\n",
    "\n",
    "\n",
    ", ADC_data_Dec_2022 as \n",
    "\n",
    "(\n",
    "\n",
    "SELECT distinct\n",
    "    dealer_customer_id as Telus_ID,\n",
    "    avg(Login_consistency) as Login_consistency_Dec ,\n",
    "    avg(number_of_login_days) as Login_days_Dec,\n",
    "    avg(Arming_Consistency) as Arming_consistency_Dec,\n",
    "    1 as Dec_data_flag\n",
    "\n",
    "   FROM\n",
    "    `divgpras-pr-579355.ADC_Feature_Datastore.ADC_Master_Data`\n",
    "  WHERE\n",
    "    Month_Snapshot='2022-12-01'\n",
    "  group by dealer_customer_id\n",
    "    \n",
    ")\n",
    "\n",
    "\n",
    ", ADC_data_Jan_2023 as \n",
    "\n",
    "(\n",
    "\n",
    "SELECT distinct\n",
    "    dealer_customer_id as Telus_ID,\n",
    "    avg(Login_consistency) as Login_consistency_Jan ,\n",
    "    avg(number_of_login_days) as Login_days_Jan,\n",
    "    avg(Arming_Consistency) as Arming_consistency_Jan,\n",
    "    1 as Jan_data_flag\n",
    "\n",
    "   FROM\n",
    "    `divgpras-pr-579355.ADC_Feature_Datastore.ADC_Master_Data`\n",
    "  WHERE\n",
    "    Month_Snapshot='2023-01-01'\n",
    "  group by dealer_customer_id\n",
    "    \n",
    ")\n",
    "\n",
    "\n",
    "select a.BAN,a.Telus_customer_ID\n",
    ",b.Login_consistency_sep,b.Login_days_sep,b.Arming_consistency_sep,b.Sept_data_flag\n",
    ",c.Login_consistency_Oct,c.Login_days_Oct,c.Arming_consistency_Oct,c.Oct_data_flag\n",
    ",d.Login_consistency_Nov,d.Login_days_Nov,d.Arming_consistency_Nov,d.Nov_data_flag\n",
    ",e.Login_consistency_Dec,e.Login_days_Dec,e.Arming_consistency_Dec,e.Dec_data_flag\n",
    ",f.Login_consistency_Jan,f.Login_days_Jan,f.Arming_consistency_Jan,f.Jan_data_flag\n",
    "from base_data a\n",
    "left join ADC_data_Sep_2022 b\n",
    "on a.Telus_customer_ID=b.Telus_ID\n",
    "left join ADC_data_oct_2022 c\n",
    "on a.Telus_customer_ID=c.Telus_ID\n",
    "left join ADC_data_Nov_2022 d\n",
    "on a.Telus_customer_ID=d.Telus_ID\n",
    "left join ADC_data_Dec_2022 e\n",
    "on a.Telus_customer_ID=e.Telus_ID\n",
    "left join ADC_data_Jan_2023 f\n",
    "on a.Telus_customer_ID=f.Telus_ID\n",
    "order by BAN\n",
    "\n",
    "\n",
    "\n",
    "'''"
   ]
  },
  {
   "cell_type": "code",
   "execution_count": null,
   "id": "104ca254-d6e3-4e2d-b6b7-cc7be08104a6",
   "metadata": {},
   "outputs": [],
   "source": [
    "DF=extract_bq_data(bq_client, sql=Query)"
   ]
  },
  {
   "cell_type": "code",
   "execution_count": null,
   "id": "c288c35c-ec85-48a5-9527-d5279aea16c7",
   "metadata": {},
   "outputs": [],
   "source": [
    "DF.info(verbose=True)"
   ]
  },
  {
   "cell_type": "code",
   "execution_count": null,
   "id": "982076a3-f34d-43e3-a5f8-e623f965a827",
   "metadata": {},
   "outputs": [],
   "source": [
    "DF.head(10)"
   ]
  },
  {
   "cell_type": "code",
   "execution_count": null,
   "id": "5338ae6f-2752-4ede-9aba-68a1e38d85b0",
   "metadata": {},
   "outputs": [],
   "source": [
    "\n",
    "DF['Sep_Usage_Flag']=DF['Login_consistency_sep'].apply(lambda x: 1 if x>0 else 0)\n",
    "DF['Oct_Usage_Flag']=DF['Login_consistency_Oct'].apply(lambda x: 1 if x>0 else 0)\n",
    "DF['Nov_Usage_Flag']=DF['Login_consistency_Nov'].apply(lambda x: 1 if x>0 else 0)\n",
    "DF['Dec_Usage_Flag']=DF['Login_consistency_Dec'].apply(lambda x: 1 if x>0 else 0)\n",
    "DF['Jan_Usage_Flag']=DF['Login_consistency_Jan'].apply(lambda x: 1 if x>0 else 0)\n",
    "\n"
   ]
  },
  {
   "cell_type": "code",
   "execution_count": null,
   "id": "9da78d21-6af9-4054-a891-c1ba38c4f59d",
   "metadata": {},
   "outputs": [],
   "source": [
    "DF['Sep_Usage_Flag'].value_counts(normalize=True)*100"
   ]
  },
  {
   "cell_type": "code",
   "execution_count": null,
   "id": "8449e3eb-c0f5-4d49-85c9-f89bd1c5660a",
   "metadata": {},
   "outputs": [],
   "source": [
    "DF['Oct_Usage_Flag'].value_counts(normalize=True)*100"
   ]
  },
  {
   "cell_type": "code",
   "execution_count": null,
   "id": "a13de0b5-0653-4763-a4ce-cfc972ff19c5",
   "metadata": {},
   "outputs": [],
   "source": [
    "DF['Jan_Usage_Flag'].value_counts(normalize=True)*100"
   ]
  },
  {
   "cell_type": "code",
   "execution_count": null,
   "id": "326d3439-02ae-4741-92b4-fca83e70b696",
   "metadata": {},
   "outputs": [],
   "source": [
    "DF.head(10)"
   ]
  },
  {
   "cell_type": "code",
   "execution_count": null,
   "id": "3573835d-f3b3-4489-89a9-cd39a1b59f88",
   "metadata": {},
   "outputs": [],
   "source": [
    "DF.to_csv('Never_pay_customer_list_Usage_updated.csv',index=False)"
   ]
  },
  {
   "cell_type": "code",
   "execution_count": null,
   "id": "f085f55d-8d05-4fd5-ab35-a8fbaceda21e",
   "metadata": {},
   "outputs": [],
   "source": []
  }
 ],
 "metadata": {
  "kernelspec": {
   "display_name": "Python 3 (ipykernel)",
   "language": "python",
   "name": "python3"
  },
  "language_info": {
   "codemirror_mode": {
    "name": "ipython",
    "version": 3
   },
   "file_extension": ".py",
   "mimetype": "text/x-python",
   "name": "python",
   "nbconvert_exporter": "python",
   "pygments_lexer": "ipython3",
   "version": "3.8.12"
  }
 },
 "nbformat": 4,
 "nbformat_minor": 5
}
