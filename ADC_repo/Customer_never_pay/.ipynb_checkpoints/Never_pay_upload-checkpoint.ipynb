{
 "cells": [
  {
   "cell_type": "code",
   "execution_count": 1,
   "id": "83c4e286-07d1-463d-b904-c87a7a5e63f8",
   "metadata": {},
   "outputs": [],
   "source": [
    "#### import global modules\n",
    "import os\n",
    "import sys\n",
    "import pandas as pd\n",
    "import numpy as np\n",
    "from pathlib import Path\n",
    "from yaml import safe_load\n",
    "import google.oauth2.credentials\n",
    "from google.cloud import bigquery\n",
    "import gc\n",
    "\n",
    "# Set global vars\n",
    "pth_project = Path(os.getcwd().split('notebooks')[0])\n",
    "pth_data = pth_project / 'data'\n",
    "pth_queries = pth_project / 'core' / 'queries'\n",
    "pth_creds = pth_project / 'conf' / 'local' / 'project_config.yaml'\n",
    "sys.path.insert(0, str(pth_project))\n",
    "d_project_config = safe_load(pth_creds.open())\n",
    "# d_params = safe_load((pth_project / 'core' / 'parameters' / 'common.yaml').open())['data_extract']\n",
    "\n",
    "# import local modules\n",
    "from core.utils.gcp import connect_bq_services\n",
    "# from core.etl.extract import extract_bq_data, extract_pr_codes, format_conv_df, filter_convs\n",
    "\n",
    "# Connect to google services\n",
    "bq_client = connect_bq_services(d_project_config['gcp-project-name'])\n",
    "pd.options.display.max_rows = 100"
   ]
  },
  {
   "cell_type": "code",
   "execution_count": 2,
   "id": "39021ff8-5e35-4216-9a5c-21e292f01a9e",
   "metadata": {},
   "outputs": [],
   "source": [
    "def extract_bq_data(bq_client, sql=None, pth_query=None):\n",
    "    if sql is not None:\n",
    "        df = bq_client.query(sql).to_dataframe()\n",
    "    elif pth_query is not None:\n",
    "        sql = pth_query.read_text()\n",
    "        df = bq_client.query(sql).to_dataframe()\n",
    "    else:\n",
    "        raise ValueError('`sql` or `pth_query` should be set')  \n",
    "    return df"
   ]
  },
  {
   "cell_type": "code",
   "execution_count": 3,
   "id": "040640f8-42f3-416e-91f1-71dfb15a851b",
   "metadata": {},
   "outputs": [],
   "source": [
    "Never_pay_2022=pd.read_csv('NeverPaidGraph Data Source - NEVER_PAID_RAW_2022.csv')"
   ]
  },
  {
   "cell_type": "code",
   "execution_count": 4,
   "id": "6b8fae91-701a-45a9-9147-97fb597ec3c2",
   "metadata": {},
   "outputs": [],
   "source": [
    "Never_pay_2023=pd.read_csv('NeverPaidGraph Data Source - Never_Paid_RAW_2023.csv')"
   ]
  },
  {
   "cell_type": "code",
   "execution_count": 9,
   "id": "3a2fec65-52e2-4cbb-89b6-57eea8418b75",
   "metadata": {},
   "outputs": [
    {
     "name": "stdout",
     "output_type": "stream",
     "text": [
      "<class 'pandas.core.frame.DataFrame'>\n",
      "RangeIndex: 117352 entries, 0 to 117351\n",
      "Data columns (total 31 columns):\n",
      " #   Column                 Non-Null Count   Dtype  \n",
      "---  ------                 --------------   -----  \n",
      " 0   BAN                    117352 non-null  int64  \n",
      " 1   CUSTOMER_ID            117352 non-null  int64  \n",
      " 2   FULL_NM                117084 non-null  object \n",
      " 3   START_SERVICE_DT       117352 non-null  object \n",
      " 4   BAN_STATUS             117352 non-null  object \n",
      " 5   TENURE_MTHS            117352 non-null  int64  \n",
      " 6   LANGUAGE_IND           114081 non-null  object \n",
      " 7   COMMUNICATION_CHANNEL  76956 non-null   object \n",
      " 8   E_BILL_IND             117352 non-null  object \n",
      " 9   START_COLLECTION_DT    64011 non-null   object \n",
      " 10  COLLECTION_STATUS_CD   64493 non-null   object \n",
      " 11  INCOLL_STATUS_IND      117352 non-null  object \n",
      " 12  SERVICES_ALL           117352 non-null  object \n",
      " 13  SMHM_ONLY_IND          117352 non-null  object \n",
      " 14  BILL_CYC_DT            117352 non-null  object \n",
      " 15  SERVICE_PROVINCE       117096 non-null  object \n",
      " 16  REGION                 117352 non-null  object \n",
      " 17  TQ_IND                 36642 non-null   object \n",
      " 18  NEVER_PAID_IND         117352 non-null  int64  \n",
      " 19  CYCLES_DELINQUENT      117352 non-null  int64  \n",
      " 20  TOTAL_BILLED_AMT       117352 non-null  float64\n",
      " 21  OVERDUE_AMT            117352 non-null  float64\n",
      " 22  SUPPRESSION_END_DT     36329 non-null   object \n",
      " 23  LOADDT                 117352 non-null  object \n",
      " 24  TOTAL_0                117352 non-null  float64\n",
      " 25  TOTAL_1_30             117352 non-null  float64\n",
      " 26  TOTAL_31_60            117352 non-null  float64\n",
      " 27  TOTAL_61_90            117352 non-null  float64\n",
      " 28  TOTAL_91_120           117352 non-null  float64\n",
      " 29  TOTAL_121_150          117352 non-null  float64\n",
      " 30  TOTAL_151_PLUS         117352 non-null  float64\n",
      "dtypes: float64(9), int64(5), object(17)\n",
      "memory usage: 27.8+ MB\n"
     ]
    }
   ],
   "source": [
    "Never_pay_2022.info()"
   ]
  },
  {
   "cell_type": "code",
   "execution_count": 6,
   "id": "ce96a5ab-388e-4d6c-9351-84b03a2f71da",
   "metadata": {},
   "outputs": [],
   "source": [
    "config= bigquery.job.LoadJobConfig()\n",
    "\n",
    "# config._properties['timePartitioning'] = {'field': 'Month_Year'}\n",
    "config.write_disposition = bigquery.WriteDisposition.WRITE_TRUNCATE\n",
    "\n",
    "Table_BQ = 'SHS.Never_pay_customers_2022'\n",
    "\n",
    "bq_table_instance= bq_client.load_table_from_dataframe(Never_pay_2022, Table_BQ,job_config=config)"
   ]
  },
  {
   "cell_type": "code",
   "execution_count": 7,
   "id": "dc3520b6-890d-4a8a-8ddd-444a4ebd8779",
   "metadata": {},
   "outputs": [],
   "source": [
    "config= bigquery.job.LoadJobConfig()\n",
    "\n",
    "# config._properties['timePartitioning'] = {'field': 'Month_Year'}\n",
    "config.write_disposition = bigquery.WriteDisposition.WRITE_TRUNCATE\n",
    "\n",
    "Table_BQ = 'SHS.Never_pay_customers_2023'\n",
    "\n",
    "bq_table_instance= bq_client.load_table_from_dataframe(Never_pay_2023, Table_BQ,job_config=config)"
   ]
  },
  {
   "cell_type": "code",
   "execution_count": null,
   "id": "5bb06afb-1bc9-4a20-9643-c644aa5a6632",
   "metadata": {},
   "outputs": [],
   "source": []
  }
 ],
 "metadata": {
  "kernelspec": {
   "display_name": "Python 3 (ipykernel)",
   "language": "python",
   "name": "python3"
  },
  "language_info": {
   "codemirror_mode": {
    "name": "ipython",
    "version": 3
   },
   "file_extension": ".py",
   "mimetype": "text/x-python",
   "name": "python",
   "nbconvert_exporter": "python",
   "pygments_lexer": "ipython3",
   "version": "3.8.12"
  }
 },
 "nbformat": 4,
 "nbformat_minor": 5
}
