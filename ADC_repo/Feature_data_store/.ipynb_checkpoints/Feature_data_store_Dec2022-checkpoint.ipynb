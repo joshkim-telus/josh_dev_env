{
 "cells": [
  {
   "cell_type": "code",
   "execution_count": null,
   "id": "5f17e470-a355-47bb-ab99-0c1153b2988d",
   "metadata": {},
   "outputs": [],
   "source": [
    "#### import global modules\n",
    "import os\n",
    "import sys\n",
    "import pandas as pd\n",
    "import numpy as np\n",
    "from pathlib import Path\n",
    "from yaml import safe_load\n",
    "import google.oauth2.credentials\n",
    "from google.cloud import bigquery\n",
    "import gc\n",
    "\n",
    "# Set global vars\n",
    "pth_project = Path(os.getcwd().split('notebooks')[0])\n",
    "pth_data = pth_project / 'data'\n",
    "pth_queries = pth_project / 'core' / 'queries'\n",
    "pth_creds = pth_project / 'conf' / 'local' / 'project_config.yaml'\n",
    "sys.path.insert(0, str(pth_project))\n",
    "d_project_config = safe_load(pth_creds.open())\n",
    "# d_params = safe_load((pth_project / 'core' / 'parameters' / 'common.yaml').open())['data_extract']\n",
    "\n",
    "# import local modules\n",
    "from core.utils.gcp import connect_bq_services\n",
    "# from core.etl.extract import extract_bq_data, extract_pr_codes, format_conv_df, filter_convs\n",
    "\n",
    "# Connect to google services\n",
    "bq_client = connect_bq_services(d_project_config['gcp-project-name'])\n",
    "pd.options.display.max_rows = 100"
   ]
  },
  {
   "cell_type": "code",
   "execution_count": null,
   "id": "2c3e7039-9f6b-4071-85aa-a0a39f7f943f",
   "metadata": {},
   "outputs": [],
   "source": [
    "def extract_bq_data(bq_client, sql=None, pth_query=None):\n",
    "    if sql is not None:\n",
    "        df = bq_client.query(sql).to_dataframe()\n",
    "    elif pth_query is not None:\n",
    "        sql = pth_query.read_text()\n",
    "        df = bq_client.query(sql).to_dataframe()\n",
    "    else:\n",
    "        raise ValueError('`sql` or `pth_query` should be set')  \n",
    "    return df"
   ]
  },
  {
   "cell_type": "code",
   "execution_count": null,
   "id": "2c5dcb54-8d22-493a-840a-f49bf8270def",
   "metadata": {},
   "outputs": [],
   "source": [
    "Customer_details='''\n",
    "\n",
    "DECLARE _end_dt_snpsht DATE DEFAULT '2022-12-31';\n",
    "\n",
    "\n",
    "\n",
    "with ADC_Customer_Base as (\n",
    "\n",
    "SELECT date('2022-12-01') as Month_Snapshot,customer_id,dealer_customer_id,primary_login_id,dealer_name,join_date,account_type_name,customer_type_name,primary_email,primary_phone,last_updt_ts\n",
    "FROM `cio-datahub-enterprise-pr-183a.src_adc.bq_customer_account_details` \n",
    "where date(last_updt_ts) =_end_dt_snpsht\n",
    "and  dealer_name in ('TELUS Communications Inc.','ADT by TELUS')\n",
    "QUALIFY ROW_NUMBER() OVER (PARTITION BY customer_id ORDER BY last_updt_ts DESC) = 1\n",
    "order by dealer_name,join_date,customer_id\n",
    "\n",
    "\n",
    ")\n",
    "\n",
    "\n",
    "\n",
    ",Telus_customers as\n",
    "(\n",
    "select bacct_bus_bacct_num,bacct_billg_acct_id,cust_bus_cust_id\n",
    "--,pi_prod_instnc_typ_cd,pi_prod_instnc_stat_ts,prod_instnc_ts,pi_cntrct_start_ts as contract_start_date\n",
    "--,pi_cntrct_end_ts as contract_end_date\n",
    "from `cio-datahub-enterprise-pr-183a.ent_cust_cust.bq_prod_instnc_snpsht` \n",
    "WHERE DATE(prod_instnc_ts) = _end_dt_snpsht #Snapshot of the last day of the month\n",
    "and pi_prod_instnc_typ_cd ='SMHM' #Serice type\n",
    "and bus_prod_instnc_src_id = 1001 #BANs that are for home services\n",
    "and pi_prod_instnc_stat_cd in ('A')\n",
    "and  consldt_cust_typ_cd = 'R'\n",
    "--QUALIFY ROW_NUMBER() OVER (PARTITION BY bacct_bus_bacct_num ORDER BY pi_prod_instnc_stat_ts DESC) = 1\n",
    "order by cust_bus_cust_id\n",
    "\n",
    ")\n",
    "\n",
    "\n",
    "\n",
    " ,Telus_Customer_Base as (\n",
    "\n",
    "SELECT a.customer_id,'Telus_Customer' as Dealer_type_flag,b.bacct_bus_bacct_num as BAN, NULL as ADT_site_no\n",
    "FROM ADC_Customer_Base a\n",
    "inner join Telus_customers b\n",
    "on a.dealer_customer_id=b.cust_bus_cust_id\n",
    ")\n",
    "\n",
    "\n",
    "\n",
    ", ADT_Customer_Base as (\n",
    "\n",
    "SELECT customer_id,'ADT_Customer' as Dealer_type_flag,NULL  as BAN,site_no as ADT_site_no \n",
    "FROM `divgpras-pr-579355.ADC_updated.ADC_ADT_mapping` \n",
    "\n",
    ")\n",
    "\n",
    "\n",
    "\n",
    ", Union_data as (\n",
    "\n",
    "SELECT * from Telus_Customer_Base\n",
    "UNION ALL\n",
    "SELECT * from ADT_Customer_Base\n",
    "\n",
    ")\n",
    "\n",
    ",Merge_data as (\n",
    "\n",
    "SELECT * from ADC_Customer_Base a\n",
    "INNER JOIN Union_data b\n",
    "on a.customer_id=b.customer_id\n",
    "order by Dealer_type_flag\n",
    "\n",
    ")\n",
    "\n",
    "select * from Merge_data\n",
    "\n",
    "\n",
    "\n",
    "'''"
   ]
  },
  {
   "cell_type": "code",
   "execution_count": null,
   "id": "31ef0622-5347-4586-9e85-1ed1fdd655b1",
   "metadata": {},
   "outputs": [],
   "source": [
    "Customer_info=extract_bq_data(bq_client, sql=Customer_details)"
   ]
  },
  {
   "cell_type": "code",
   "execution_count": null,
   "id": "c545c074-1075-4346-a287-15e0dc940f69",
   "metadata": {},
   "outputs": [],
   "source": [
    "Customer_info.info()"
   ]
  },
  {
   "cell_type": "code",
   "execution_count": null,
   "id": "4ee839bb-628e-4a46-9d2c-e6a6b7123d8f",
   "metadata": {},
   "outputs": [],
   "source": [
    "Customer_info['account_type_name'].value_counts()"
   ]
  },
  {
   "cell_type": "code",
   "execution_count": null,
   "id": "942043dd-e85a-4197-8f37-fab485f6790f",
   "metadata": {},
   "outputs": [],
   "source": [
    "Customer_info['dealer_name'].value_counts()"
   ]
  },
  {
   "cell_type": "code",
   "execution_count": null,
   "id": "4dfa67cd-fe61-4c76-8c15-060ed4515ec3",
   "metadata": {},
   "outputs": [],
   "source": [
    "Customer_info['customer_id'].value_counts()"
   ]
  },
  {
   "cell_type": "code",
   "execution_count": null,
   "id": "d321cae0-a5dc-47ad-bd55-0b2d86f56bb3",
   "metadata": {},
   "outputs": [],
   "source": [
    "Customer_info.head()"
   ]
  },
  {
   "cell_type": "code",
   "execution_count": null,
   "id": "623e4c57-39b6-4b5b-93a0-e900a8ad3871",
   "metadata": {},
   "outputs": [],
   "source": []
  },
  {
   "cell_type": "code",
   "execution_count": null,
   "id": "896b76d8-b26a-4128-becd-52fb6bb25ac9",
   "metadata": {},
   "outputs": [],
   "source": [
    "Best_practices_details_Query='''\n",
    "\n",
    "select customer_id,best_practices_id,best_practices_ind,date(dt_last_calculate_utc) as last_date_calculate\n",
    "from `cio-datahub-enterprise-pr-183a.src_adc.bq_customer_best_practice`\n",
    "where DATE(dt_last_calculate_utc)<'2023-01-01'\n",
    "QUALIFY ROW_NUMBER() OVER (PARTITION BY customer_id,best_practices_id ORDER BY last_updt_ts DESC) = 1\n",
    "order by customer_id,best_practices_id\n",
    "\n",
    "\n",
    "'''"
   ]
  },
  {
   "cell_type": "code",
   "execution_count": null,
   "id": "5764d389-2bbd-460f-8aae-87de01c31265",
   "metadata": {},
   "outputs": [],
   "source": [
    "Best_Practices_DF= extract_bq_data(bq_client,sql=Best_practices_details_Query)"
   ]
  },
  {
   "cell_type": "code",
   "execution_count": null,
   "id": "99c712ae-5e75-4196-a8f6-6924b93b6cbd",
   "metadata": {},
   "outputs": [],
   "source": [
    "Best_Practices_DF.info()"
   ]
  },
  {
   "cell_type": "code",
   "execution_count": null,
   "id": "1432093c-7078-4007-b8a6-cb99e9f8599f",
   "metadata": {},
   "outputs": [],
   "source": [
    "Best_Practices_DF.head()"
   ]
  },
  {
   "cell_type": "code",
   "execution_count": null,
   "id": "9cedb48c-9236-4e98-b1f9-0d6ee6de553f",
   "metadata": {},
   "outputs": [],
   "source": [
    "Best_Practices_DF['Best_practices_flag']=Best_Practices_DF['best_practices_ind'].apply(lambda x: 1 if x==True else 0)"
   ]
  },
  {
   "cell_type": "code",
   "execution_count": null,
   "id": "a199ebef-019a-4233-af39-bd45fd391e56",
   "metadata": {},
   "outputs": [],
   "source": [
    "Best_Practices_DF_wide=Best_Practices_DF.pivot(index='customer_id', columns='best_practices_id', values='Best_practices_flag').reset_index()"
   ]
  },
  {
   "cell_type": "code",
   "execution_count": null,
   "id": "2d624149-aa8a-4d65-a46d-cb9233a67d63",
   "metadata": {},
   "outputs": [],
   "source": [
    "Best_Practices_DF_wide.head()"
   ]
  },
  {
   "cell_type": "code",
   "execution_count": null,
   "id": "1f9c30d8-0482-4c38-9502-00b9771ea507",
   "metadata": {},
   "outputs": [],
   "source": [
    "Best_Practices_DF_wide.columns=['customer_id','Best_partices_1','Best_partices_2','Best_partices_3','Best_partices_4','Best_partices_5','Best_partices_6']"
   ]
  },
  {
   "cell_type": "code",
   "execution_count": null,
   "id": "46023b99-cc89-4656-8f4c-843e07d48f88",
   "metadata": {},
   "outputs": [],
   "source": [
    "cols_to_sum=['Best_partices_1','Best_partices_2','Best_partices_3','Best_partices_4','Best_partices_5','Best_partices_6']\n",
    "Best_Practices_DF_wide['Best_Practice_All']=Best_Practices_DF_wide[cols_to_sum].sum(axis=1)"
   ]
  },
  {
   "cell_type": "code",
   "execution_count": null,
   "id": "9ab57562-540c-40c3-bbac-064d1ee084a1",
   "metadata": {},
   "outputs": [],
   "source": [
    "Best_Practices_DF_wide['Best_Practice_All_flag']=Best_Practices_DF_wide['Best_Practice_All'].apply(lambda x: 1 if x==6 else 0)"
   ]
  },
  {
   "cell_type": "code",
   "execution_count": null,
   "id": "de90e61f-adb5-4692-a889-ac7f65fa6107",
   "metadata": {},
   "outputs": [],
   "source": [
    "Best_Practices_DF_wide.head()"
   ]
  },
  {
   "cell_type": "code",
   "execution_count": null,
   "id": "722a0a52-1ef2-47a7-817d-2bd5a944fbce",
   "metadata": {},
   "outputs": [],
   "source": [
    "Best_Practices_DF_wide['Best_Practice_All'].value_counts(normalize=True)*100"
   ]
  },
  {
   "cell_type": "code",
   "execution_count": null,
   "id": "fcc3bba1-3f04-47e8-9cad-d0adc2d66039",
   "metadata": {},
   "outputs": [],
   "source": [
    "Arming_Query=  '''\n",
    "\n",
    "with date_sql as (\n",
    "select  count(distinct date(date)) as count_of_dates from `cio-datahub-enterprise-pr-183a.src_adc.bq_aggregate_daily_arming_commands`\n",
    "where date(date)< '2023-01-01' and date(date)>= '2022-12-01'\n",
    "\n",
    ")\n",
    "\n",
    "select id_cust as customer_id,sum(count_arm_commands) as sum_arm_commands,sum(count_disarm_commands) as sum_disarm_commands,count (distinct date(date)) as number_days_arming_disarming, (select count_of_dates from date_sql ) as count_of_dates_arming\n",
    "from `cio-datahub-enterprise-pr-183a.src_adc.bq_aggregate_daily_arming_commands`\n",
    "where date(date)< '2023-01-01' and date(date)>= '2022-12-01'\n",
    "group by customer_id\n",
    "order by number_days_arming_disarming desc\n",
    "\n",
    "'''\n"
   ]
  },
  {
   "cell_type": "code",
   "execution_count": null,
   "id": "533f02d9-1cc1-4d86-b939-8b51a3b866d0",
   "metadata": {},
   "outputs": [],
   "source": [
    "Arming_DF=extract_bq_data(bq_client, sql=Arming_Query)"
   ]
  },
  {
   "cell_type": "code",
   "execution_count": null,
   "id": "f08fd8e1-c8cf-492b-a35f-84c2f50d3335",
   "metadata": {},
   "outputs": [],
   "source": [
    "max_number_arming_dates=Arming_DF['count_of_dates_arming'].max()\n",
    "Arming_DF['Arming_Consistency']=Arming_DF['number_days_arming_disarming'].apply(lambda x: x*100/max_number_arming_dates)"
   ]
  },
  {
   "cell_type": "code",
   "execution_count": null,
   "id": "31e3bd53-01fc-4018-9acd-9e95a9390413",
   "metadata": {},
   "outputs": [],
   "source": [
    "max_number_arming_dates"
   ]
  },
  {
   "cell_type": "code",
   "execution_count": null,
   "id": "d606ae21-fb4c-4acd-a190-895f19ba1cf3",
   "metadata": {},
   "outputs": [],
   "source": [
    "Arming_DF['Arming_Flag']=1"
   ]
  },
  {
   "cell_type": "code",
   "execution_count": null,
   "id": "e6a795af-4f66-400e-90ac-25a3433721ad",
   "metadata": {},
   "outputs": [],
   "source": [
    "pd.DataFrame(Arming_DF['Arming_Consistency'].value_counts(normalize=True)*100).reset_index().sort_values(by='index',ascending=False)"
   ]
  },
  {
   "cell_type": "code",
   "execution_count": null,
   "id": "e411ceb4-dda0-4b2f-bf04-92f4acb33baa",
   "metadata": {},
   "outputs": [],
   "source": [
    "Login_SQL='''\n",
    "\n",
    "with date_sql as (\n",
    "select  count(distinct date(login_dt_utc)) as count_of_dates from `cio-datahub-enterprise-pr-183a.src_adc.bq_customer_daily_logins`\n",
    "where date(login_dt_utc)< '2023-01-01' and date(login_dt_utc)>= '2022-12-01' \n",
    "\n",
    ")\n",
    "\n",
    "\n",
    "\n",
    "select customer_id,sum(login_count) as sum_login_count,count (distinct date(login_dt_utc)) as number_of_login_days, (select count_of_dates from date_sql ) as count_of_dates_logins\n",
    "from `cio-datahub-enterprise-pr-183a.src_adc.bq_customer_daily_logins`\n",
    "where date(login_dt_utc)< '2023-01-01' and date(login_dt_utc)>= '2022-12-01' \n",
    "group by customer_id\n",
    "order by number_of_login_days desc\n",
    "\n",
    "\n",
    "'''"
   ]
  },
  {
   "cell_type": "code",
   "execution_count": null,
   "id": "468bb9c2-51df-47ad-8dcb-ee90c08e62f2",
   "metadata": {},
   "outputs": [],
   "source": [
    "Login_DF=extract_bq_data(bq_client, sql=Login_SQL)"
   ]
  },
  {
   "cell_type": "code",
   "execution_count": null,
   "id": "888b675c-90c7-4d06-b8aa-c8e361396cff",
   "metadata": {},
   "outputs": [],
   "source": [
    "max_number_login_dates=Login_DF['count_of_dates_logins'].max()\n",
    "Login_DF['Login_Consistency']=Login_DF['number_of_login_days'].apply(lambda x: x*100/max_number_login_dates)"
   ]
  },
  {
   "cell_type": "code",
   "execution_count": null,
   "id": "c3750c12-aed2-4ac0-ae5f-58f0490ebf4b",
   "metadata": {},
   "outputs": [],
   "source": [
    "max_number_login_dates"
   ]
  },
  {
   "cell_type": "code",
   "execution_count": null,
   "id": "f6116f98-f3e3-4bb4-8140-c016ef274905",
   "metadata": {},
   "outputs": [],
   "source": [
    "Login_DF.head()"
   ]
  },
  {
   "cell_type": "code",
   "execution_count": null,
   "id": "ac566be1-4c6f-49bc-a594-cd1ae7826895",
   "metadata": {},
   "outputs": [],
   "source": [
    "Login_DF['Login_Consistency'].value_counts(normalize=True)*100"
   ]
  },
  {
   "cell_type": "code",
   "execution_count": null,
   "id": "49586c7f-3c94-4362-8328-2ed3772f43c7",
   "metadata": {},
   "outputs": [],
   "source": [
    "TC_issue_query='''\n",
    "\n",
    "select dealer_name,customer_id,unit_id,device_id,trouble_condition_name,trouble_condition_group_id,trouble_condition_group_desc, start_date_utc,end_date_utc\n",
    "from `cio-datahub-enterprise-pr-183a.src_adc.bq_troublecondition_data`\n",
    "where trouble_condition_start_ind='Y'and trouble_condition_closed_ind='Y' \n",
    "and date(start_date_utc) >= '2022-10-01' and date(start_date_utc) <'2023-01-01' \n",
    "\n",
    "\n",
    "'''"
   ]
  },
  {
   "cell_type": "code",
   "execution_count": null,
   "id": "9e5819c3-245c-41bf-b048-5d014a717e03",
   "metadata": {},
   "outputs": [],
   "source": [
    "TC_data= extract_bq_data(bq_client, sql=TC_issue_query)"
   ]
  },
  {
   "cell_type": "code",
   "execution_count": null,
   "id": "ee5d5c62-e11d-46b2-9f08-9d4af7aa8c7e",
   "metadata": {},
   "outputs": [],
   "source": [
    "TC_data.head()"
   ]
  },
  {
   "cell_type": "code",
   "execution_count": null,
   "id": "33d60f6a-b984-4af0-be33-ead333d35b12",
   "metadata": {},
   "outputs": [],
   "source": [
    "TC_data['count']=1\n",
    "\n",
    "TC_pivot_table=pd.pivot_table(TC_data, values=['count'], index=['customer_id'], columns='trouble_condition_name',\n",
    "                          aggfunc={'count': np.sum})"
   ]
  },
  {
   "cell_type": "code",
   "execution_count": null,
   "id": "b1150c5e-dd8d-4526-8c03-16f28c9278f8",
   "metadata": {},
   "outputs": [],
   "source": [
    "TC_pivot_table=TC_pivot_table.reset_index()"
   ]
  },
  {
   "cell_type": "code",
   "execution_count": null,
   "id": "60342e26-ba90-4478-8cbf-c2fa15843ed3",
   "metadata": {},
   "outputs": [],
   "source": [
    "TC_pivot_table.head()"
   ]
  },
  {
   "cell_type": "code",
   "execution_count": null,
   "id": "277dbf98-b12d-400c-b7c6-bf64a351a1a8",
   "metadata": {},
   "outputs": [],
   "source": [
    "TC_pivot_table.fillna(0,inplace=True)"
   ]
  },
  {
   "cell_type": "code",
   "execution_count": null,
   "id": "1773e627-1a85-49df-95ba-5107d66fa35d",
   "metadata": {},
   "outputs": [],
   "source": [
    "TC_pivot_table.columns=['TC_Last3M_'+'_'.join(col).strip() for col in TC_pivot_table.columns.values]"
   ]
  },
  {
   "cell_type": "code",
   "execution_count": null,
   "id": "e09ff23f-2ad4-4303-b337-f23b68c5c91c",
   "metadata": {},
   "outputs": [],
   "source": [
    "# TC_pivot_table.columns=['customer_id','TC_BroadbandCommFailure_count','TC_CameraNotCommunicating_count','TC_CameraNotReachable_count']"
   ]
  },
  {
   "cell_type": "code",
   "execution_count": null,
   "id": "030ab42a-955b-4995-b9c1-b81bcc756dba",
   "metadata": {},
   "outputs": [],
   "source": [
    "# TC_pivot_table.fillna(0,inplace=True)"
   ]
  },
  {
   "cell_type": "code",
   "execution_count": null,
   "id": "2af6c254-0ebe-48c2-aec7-a23ba1a27f5f",
   "metadata": {},
   "outputs": [],
   "source": [
    "TC_pivot_table.head()"
   ]
  },
  {
   "cell_type": "code",
   "execution_count": null,
   "id": "3d255842-a017-4fff-8bb8-322d5bbaf403",
   "metadata": {},
   "outputs": [],
   "source": [
    "TCG_Pivot=pd.pivot_table(TC_data, values=['count'], index=['customer_id'], columns='trouble_condition_group_desc',\n",
    "                          aggfunc={'count': np.sum})"
   ]
  },
  {
   "cell_type": "code",
   "execution_count": null,
   "id": "b37e031a-c548-4682-a528-17aac5e3845c",
   "metadata": {},
   "outputs": [],
   "source": [
    "TCG_Pivot=TCG_Pivot.reset_index()\n",
    "TCG_Pivot.fillna(0,inplace=True)"
   ]
  },
  {
   "cell_type": "code",
   "execution_count": null,
   "id": "a85a7570-718a-4a35-b38c-01f8f859bcf2",
   "metadata": {},
   "outputs": [],
   "source": [
    "TCG_Pivot.head()"
   ]
  },
  {
   "cell_type": "code",
   "execution_count": null,
   "id": "f1fdb856-db80-492a-a43b-1eddbb75e2c9",
   "metadata": {},
   "outputs": [],
   "source": [
    "TCG_Pivot.columns=['TCG_Last3M_'+'_'.join(col).strip() for col in TCG_Pivot.columns.values]"
   ]
  },
  {
   "cell_type": "code",
   "execution_count": null,
   "id": "06f206f0-6ced-4c0a-a38d-8862cc8fbd6b",
   "metadata": {},
   "outputs": [],
   "source": [
    "TCG_Pivot.head()"
   ]
  },
  {
   "cell_type": "code",
   "execution_count": null,
   "id": "745d6fa6-76b5-482f-8edc-e622c66eb6d1",
   "metadata": {},
   "outputs": [],
   "source": [
    "# TC_pivot_table['TC_BroadbandCommFailure_Flag']=TC_pivot_table['TC_BroadbandCommFailure_count'].apply(lambda x: 1 if x>0 else 0)\n",
    "# TC_pivot_table['TC_CameraNotCommunicating_Flag']=TC_pivot_table['TC_CameraNotCommunicating_count'].apply(lambda x: 1 if x>0 else 0)\n",
    "# TC_pivot_table['TC_CameraNotReachable_Flag']=TC_pivot_table['TC_CameraNotReachable_count'].apply(lambda x: 1 if x>0 else 0)"
   ]
  },
  {
   "cell_type": "code",
   "execution_count": null,
   "id": "168873d9-e7cd-4a13-937c-0fde568a2194",
   "metadata": {},
   "outputs": [],
   "source": [
    "Merge_DF=Customer_info.merge(Best_Practices_DF_wide,on='customer_id',how='left')"
   ]
  },
  {
   "cell_type": "code",
   "execution_count": null,
   "id": "9e0334e1-d9e7-4d3b-91e4-dcc38ca47aeb",
   "metadata": {},
   "outputs": [],
   "source": [
    "Merge_DF_1=Merge_DF.merge(Arming_DF,on='customer_id',how='left')"
   ]
  },
  {
   "cell_type": "code",
   "execution_count": null,
   "id": "49e8f3c4-0833-4c82-8aaf-cb0359e6c0f2",
   "metadata": {},
   "outputs": [],
   "source": [
    "Merge_DF_2=Merge_DF_1.merge(Login_DF,on='customer_id',how='left')"
   ]
  },
  {
   "cell_type": "code",
   "execution_count": null,
   "id": "552c9ded-40f8-4c67-b8c0-dfab6c9ffd06",
   "metadata": {},
   "outputs": [],
   "source": [
    "Merge_DF_3=Merge_DF_2.merge(TC_pivot_table,left_on='customer_id',right_on='TC_Last3M_customer_id_',how='left')"
   ]
  },
  {
   "cell_type": "code",
   "execution_count": null,
   "id": "d18be8c1-8a85-40c7-aa80-3e30cffad77e",
   "metadata": {},
   "outputs": [],
   "source": [
    "Merge_DF_4=Merge_DF_3.merge(TCG_Pivot,left_on='customer_id',right_on='TCG_Last3M_customer_id_',how='left')"
   ]
  },
  {
   "cell_type": "code",
   "execution_count": null,
   "id": "ddd4400e-9890-47fd-8e1e-ccb021553ea4",
   "metadata": {},
   "outputs": [],
   "source": [
    "del Merge_DF_1,Merge_DF_2,Merge_DF_3"
   ]
  },
  {
   "cell_type": "code",
   "execution_count": null,
   "id": "6cd108cf-f5e5-4407-afe8-990340c37fb5",
   "metadata": {},
   "outputs": [],
   "source": [
    "Merge_DF_4=Merge_DF_4.replace(np.nan, 0)"
   ]
  },
  {
   "cell_type": "code",
   "execution_count": null,
   "id": "c78fc743-1936-4725-89fd-de2ed4423fc4",
   "metadata": {},
   "outputs": [],
   "source": [
    "Merge_DF_4 = Merge_DF_4.drop(['customer_id_1','TC_Last3M_customer_id_','TCG_Last3M_customer_id_'], axis=1)"
   ]
  },
  {
   "cell_type": "code",
   "execution_count": null,
   "id": "71ed211b-526e-410d-a6f7-88e017dc2971",
   "metadata": {},
   "outputs": [],
   "source": [
    "Merge_DF_4['dealer_name'].value_counts(normalize=True)*100"
   ]
  },
  {
   "cell_type": "code",
   "execution_count": null,
   "id": "f49a26e2-76a6-4f91-97bb-f7783cf1129a",
   "metadata": {},
   "outputs": [],
   "source": [
    "Merge_DF_4['Dealer_type_flag'].value_counts(normalize=True)*100"
   ]
  },
  {
   "cell_type": "code",
   "execution_count": null,
   "id": "f5021c98-99f1-4e2b-b821-c805d9a53eee",
   "metadata": {},
   "outputs": [],
   "source": [
    "pd.DataFrame(Merge_DF_4.groupby(['dealer_name','Dealer_type_flag']).agg(\n",
    "    \n",
    "    Customer_count= ('Dealer_type_flag','count'),\n",
    "    # Churn_total=('Churn_flag',lambda x: x.sum()),\n",
    "    # Churn_rate=('Churn_flag',lambda x: x.mean()*100)\n",
    ").reset_index())"
   ]
  },
  {
   "cell_type": "code",
   "execution_count": null,
   "id": "677d64ea-ef0b-4df0-b86c-5e7ec92c2592",
   "metadata": {},
   "outputs": [],
   "source": [
    "rep_chars = ' |\\|-|:|/'\n",
    "\n",
    "Merge_DF_4.columns = Merge_DF_4.columns.str.replace(rep_chars, '_')"
   ]
  },
  {
   "cell_type": "code",
   "execution_count": null,
   "id": "558f2a27-7e99-4151-be6d-ead4dbf484ab",
   "metadata": {},
   "outputs": [],
   "source": [
    "Merge_DF_4.info(verbose=True)"
   ]
  },
  {
   "cell_type": "code",
   "execution_count": null,
   "id": "3bb0d041-e96b-4ce8-bed0-86e1cac04a0f",
   "metadata": {},
   "outputs": [],
   "source": [
    "def Segment_making(row\n",
    "                   ,min_login_consistency_threshold=50\n",
    "                   ,min_arming_consistency_threshold=50\n",
    "                   ,max_login_consistency_threshold=50\n",
    "                   ,max_arming_consistency_threshold=50):\n",
    "    \n",
    "    if row['Best_Practice_All']>=5 and row['Login_Consistency']>=max_login_consistency_threshold  and row['Arming_Consistency']>=max_arming_consistency_threshold:\n",
    "        return 'Heavy_User'\n",
    "    elif row['Login_Consistency']>=max_login_consistency_threshold  and row['Arming_Consistency']< min_arming_consistency_threshold:\n",
    "        return 'Home_automation_Savvy'\n",
    "    elif row['Login_Consistency']< min_login_consistency_threshold  and row['Arming_Consistency']>=max_login_consistency_threshold:\n",
    "        return 'Old_Fashion'\n",
    "    elif row['Login_Consistency']==0  and row['Arming_Consistency']==0:\n",
    "        return 'Disengaged'\n",
    "    else:\n",
    "        return \"Moderate_Users\""
   ]
  },
  {
   "cell_type": "code",
   "execution_count": null,
   "id": "1ce87589-c654-4ae0-bbd7-efca79a13d9f",
   "metadata": {},
   "outputs": [],
   "source": [
    "Merge_DF_4['Segment']=Merge_DF_4.apply(Segment_making,axis=1)"
   ]
  },
  {
   "cell_type": "code",
   "execution_count": null,
   "id": "3871143e-b99f-493f-9dc8-b4031019ffb7",
   "metadata": {},
   "outputs": [],
   "source": [
    "Merge_DF_4['Segment'].value_counts()"
   ]
  },
  {
   "cell_type": "code",
   "execution_count": null,
   "id": "196bd9ff-31c3-41ab-84f8-b19e54d77f3b",
   "metadata": {},
   "outputs": [],
   "source": [
    "Merge_DF_4['Segment'].value_counts(normalize=True)*100"
   ]
  },
  {
   "cell_type": "code",
   "execution_count": null,
   "id": "23d1cfae-185d-4970-8ab6-7172513e833d",
   "metadata": {},
   "outputs": [],
   "source": []
  },
  {
   "cell_type": "code",
   "execution_count": null,
   "id": "2ba8bed7-ee9b-4b15-9840-1e3722a0b4e8",
   "metadata": {},
   "outputs": [],
   "source": [
    "pd.DataFrame(Merge_DF_4.groupby(['Dealer_type_flag','Segment']).agg(\n",
    "    \n",
    "    Customer_count= ('customer_id','count'),\n",
    "    Customer_Share= ('customer_id',lambda x:x.count()*100/Merge_DF_4.shape[0])\n",
    "    # Churn_total=('Churn_flag',lambda x: x.sum()),\n",
    "    # Churn_rate=('Churn_flag',lambda x: x.mean()*100)\n",
    ").reset_index())"
   ]
  },
  {
   "cell_type": "code",
   "execution_count": null,
   "id": "de647df3-51cf-43d1-9b27-689e15d78c5c",
   "metadata": {},
   "outputs": [],
   "source": [
    "Merge_DF_4['dealer_name'].value_counts()"
   ]
  },
  {
   "cell_type": "code",
   "execution_count": null,
   "id": "d66e1d5f-31ec-4e7a-b76b-00cfa6dd8ca9",
   "metadata": {},
   "outputs": [],
   "source": [
    "# Merge_DF_4['dealer_name'=='ADT by TELUS'].to_csv('ADC_Master_Data_Sep2022_ADT.csv',index=False)"
   ]
  },
  {
   "cell_type": "code",
   "execution_count": null,
   "id": "5a127d15-7f9c-4a2b-b051-a04c50be9271",
   "metadata": {},
   "outputs": [],
   "source": [
    "# config= bigquery.job.LoadJobConfig()\n",
    "\n",
    "# # config._properties['timePartitioning'] = {'field': 'Month_Year'}\n",
    "# config.write_disposition = bigquery.WriteDisposition.WRITE_TRUNCATE\n",
    "\n",
    "# Table_BQ = 'ADC_Feature_Datastore.ADC_Master_Data'\n",
    "\n",
    "# bq_table_instance= bq_client.load_table_from_dataframe(Merge_DF_4, Table_BQ,job_config=config)"
   ]
  },
  {
   "cell_type": "code",
   "execution_count": null,
   "id": "4d3ad8ea-64c1-46f1-8a36-91e8041041e5",
   "metadata": {},
   "outputs": [],
   "source": [
    "Merge_DF_4.drop(['TC_Last3M_count_CredentialsInConflict','TC_Last3M_count_LowControllerBattery'],inplace=True,axis=1)"
   ]
  },
  {
   "cell_type": "code",
   "execution_count": null,
   "id": "592e4211-0319-4a93-a1e1-cab2357703f3",
   "metadata": {},
   "outputs": [],
   "source": [
    "Merge_DF_4.drop(['TC_Last3M_count_AuxSupply'],inplace=True,axis=1)"
   ]
  },
  {
   "cell_type": "code",
   "execution_count": null,
   "id": "3a531d77-efb7-4576-8658-51cacc819795",
   "metadata": {},
   "outputs": [],
   "source": [
    "from datetime import date\n",
    "date.today()"
   ]
  },
  {
   "cell_type": "code",
   "execution_count": null,
   "id": "730fe1ab-d163-4f37-9d22-adecf2f10434",
   "metadata": {},
   "outputs": [],
   "source": [
    "date.today().strftime('%Y-%m-%d')"
   ]
  },
  {
   "cell_type": "code",
   "execution_count": null,
   "id": "02309b22-5dd0-41e1-a9cb-56db3bcf95c7",
   "metadata": {},
   "outputs": [],
   "source": [
    "config= bigquery.job.LoadJobConfig()\n",
    "\n",
    "# config._properties['timePartitioning'] = {'field': 'Month_Year'}\n",
    "config.write_disposition = bigquery.WriteDisposition.WRITE_APPEND\n",
    "\n",
    "Table_BQ = 'ADC_Feature_Datastore.ADC_Master_Data'\n",
    "\n",
    "bq_table_instance= bq_client.load_table_from_dataframe(Merge_DF_4, Table_BQ,job_config=config)"
   ]
  },
  {
   "cell_type": "code",
   "execution_count": null,
   "id": "567947a6-348f-4582-be93-31d58a311b90",
   "metadata": {},
   "outputs": [],
   "source": [
    "# Merge_DF_4.to_csv('ADC_Master_Data_Nov2022.csv',index=False)"
   ]
  },
  {
   "cell_type": "code",
   "execution_count": null,
   "id": "0ebddaef-6fba-42f1-9ffe-457b0fbf49b8",
   "metadata": {},
   "outputs": [],
   "source": [
    "# ADC_Master_Query= '''\n",
    "\n",
    "\n",
    "# select * from `divgpras-pr-579355.ADC_Feature_Datastore.ADC_Master_Data`\n",
    "# where Month_Snapshot!='2022-09-30'\n",
    "\n",
    "\n",
    "# '''"
   ]
  },
  {
   "cell_type": "code",
   "execution_count": null,
   "id": "c047a674-2bc7-4e63-bf93-f03bedc5aee4",
   "metadata": {},
   "outputs": [],
   "source": [
    "# ADC_Master_DF=extract_bq_data(bq_client, sql=ADC_Master_Query)"
   ]
  },
  {
   "cell_type": "code",
   "execution_count": null,
   "id": "04b261f8-a8b8-4f64-956a-df26ccc0755e",
   "metadata": {},
   "outputs": [],
   "source": [
    "# ADC_Master_DF.info()"
   ]
  },
  {
   "cell_type": "code",
   "execution_count": null,
   "id": "797e5ae9-8688-40c1-8b52-fb07e0a811cb",
   "metadata": {},
   "outputs": [],
   "source": [
    "# ADC_Master_DF['Month_Snapshot'].value_counts()"
   ]
  },
  {
   "cell_type": "code",
   "execution_count": null,
   "id": "c064cab3-ccbd-4b2e-9d16-89a6af9437fc",
   "metadata": {},
   "outputs": [],
   "source": [
    "# config= bigquery.job.LoadJobConfig()\n",
    "\n",
    "# # config._properties['timePartitioning'] = {'field': 'Month_Year'}\n",
    "# config.write_disposition = bigquery.WriteDisposition.WRITE_TRUNCATE\n",
    "\n",
    "# Table_BQ = 'ADC_Feature_Datastore.ADC_Master_Data'\n",
    "\n",
    "# bq_table_instance= bq_client.load_table_from_dataframe(ADC_Master_DF, Table_BQ,job_config=config)"
   ]
  },
  {
   "cell_type": "code",
   "execution_count": null,
   "id": "96608788-59bd-4dc2-a853-0837e93310c9",
   "metadata": {},
   "outputs": [],
   "source": []
  }
 ],
 "metadata": {
  "kernelspec": {
   "display_name": "Python 3 (ipykernel)",
   "language": "python",
   "name": "python3"
  },
  "language_info": {
   "codemirror_mode": {
    "name": "ipython",
    "version": 3
   },
   "file_extension": ".py",
   "mimetype": "text/x-python",
   "name": "python",
   "nbconvert_exporter": "python",
   "pygments_lexer": "ipython3",
   "version": "3.8.12"
  }
 },
 "nbformat": 4,
 "nbformat_minor": 5
}
