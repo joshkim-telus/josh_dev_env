{
 "cells": [
  {
   "cell_type": "code",
   "execution_count": 1,
   "id": "5f17e470-a355-47bb-ab99-0c1153b2988d",
   "metadata": {},
   "outputs": [],
   "source": [
    "#### import global modules\n",
    "import os\n",
    "import sys\n",
    "import pandas as pd\n",
    "import numpy as np\n",
    "from pathlib import Path\n",
    "from yaml import safe_load\n",
    "import google.oauth2.credentials\n",
    "from google.cloud import bigquery\n",
    "import gc\n",
    "\n",
    "# Set global vars\n",
    "pth_project = Path(os.getcwd().split('notebooks')[0])\n",
    "pth_data = pth_project / 'data'\n",
    "pth_queries = pth_project / 'core' / 'queries'\n",
    "pth_creds = pth_project / 'conf' / 'local' / 'project_config.yaml'\n",
    "sys.path.insert(0, str(pth_project))\n",
    "d_project_config = safe_load(pth_creds.open())\n",
    "# d_params = safe_load((pth_project / 'core' / 'parameters' / 'common.yaml').open())['data_extract']\n",
    "\n",
    "# import local modules\n",
    "from core.utils.gcp import connect_bq_services\n",
    "# from core.etl.extract import extract_bq_data, extract_pr_codes, format_conv_df, filter_convs\n",
    "\n",
    "# Connect to google services\n",
    "bq_client = connect_bq_services(d_project_config['gcp-project-name'])\n",
    "pd.options.display.max_rows = 100"
   ]
  },
  {
   "cell_type": "code",
   "execution_count": 2,
   "id": "2c3e7039-9f6b-4071-85aa-a0a39f7f943f",
   "metadata": {},
   "outputs": [],
   "source": [
    "def extract_bq_data(bq_client, sql=None, pth_query=None):\n",
    "    if sql is not None:\n",
    "        df = bq_client.query(sql).to_dataframe()\n",
    "    elif pth_query is not None:\n",
    "        sql = pth_query.read_text()\n",
    "        df = bq_client.query(sql).to_dataframe()\n",
    "    else:\n",
    "        raise ValueError('`sql` or `pth_query` should be set')  \n",
    "    return df"
   ]
  },
  {
   "cell_type": "code",
   "execution_count": 3,
   "id": "2c5dcb54-8d22-493a-840a-f49bf8270def",
   "metadata": {},
   "outputs": [],
   "source": [
    "Customer_details='''\n",
    "\n",
    "DECLARE _end_dt_snpsht DATE DEFAULT '2022-09-30';\n",
    "\n",
    "\n",
    "\n",
    "with ADC_Customer_Base as (\n",
    "\n",
    "SELECT date('2022-09-01') as Month_Snapshot,customer_id,dealer_customer_id,primary_login_id,dealer_name,join_date,account_type_name,customer_type_name,primary_email,primary_phone,last_updt_ts\n",
    "FROM `cio-datahub-enterprise-pr-183a.src_adc.bq_customer_account_details` \n",
    "where date(last_updt_ts) =_end_dt_snpsht\n",
    "and  dealer_name in ('TELUS Communications Inc.','ADT by TELUS')\n",
    "QUALIFY ROW_NUMBER() OVER (PARTITION BY customer_id ORDER BY last_updt_ts DESC) = 1\n",
    "order by dealer_name,join_date,customer_id\n",
    "\n",
    "\n",
    ")\n",
    "\n",
    "\n",
    "\n",
    ",Telus_customers as\n",
    "(\n",
    "select bacct_bus_bacct_num,bacct_billg_acct_id,cust_bus_cust_id\n",
    "--,pi_prod_instnc_typ_cd,pi_prod_instnc_stat_ts,prod_instnc_ts,pi_cntrct_start_ts as contract_start_date\n",
    "--,pi_cntrct_end_ts as contract_end_date\n",
    "from `cio-datahub-enterprise-pr-183a.ent_cust_cust.bq_prod_instnc_snpsht` \n",
    "WHERE DATE(prod_instnc_ts) = _end_dt_snpsht #Snapshot of the last day of the month\n",
    "and pi_prod_instnc_typ_cd ='SMHM' #Serice type\n",
    "and bus_prod_instnc_src_id = 1001 #BANs that are for home services\n",
    "and pi_prod_instnc_stat_cd in ('A')\n",
    "and  consldt_cust_typ_cd = 'R'\n",
    "--QUALIFY ROW_NUMBER() OVER (PARTITION BY bacct_bus_bacct_num ORDER BY pi_prod_instnc_stat_ts DESC) = 1\n",
    "order by cust_bus_cust_id\n",
    "\n",
    ")\n",
    "\n",
    "\n",
    "\n",
    " ,Telus_Customer_Base as (\n",
    "\n",
    "SELECT a.customer_id,'Telus_Customer' as Dealer_type_flag,b.bacct_bus_bacct_num as BAN, NULL as ADT_site_no\n",
    "FROM ADC_Customer_Base a\n",
    "inner join Telus_customers b\n",
    "on a.dealer_customer_id=b.cust_bus_cust_id\n",
    ")\n",
    "\n",
    "\n",
    ", ADT_Customer_Base as (\n",
    "\n",
    "SELECT customer_id,'ADT_Customer' as Dealer_type_flag,NULL  as BAN,site_no as ADT_site_no \n",
    "FROM `divgpras-pr-579355.ADC_updated.ADC_ADT_mapping` \n",
    "\n",
    ")\n",
    "\n",
    "\n",
    "\n",
    ", Union_data as (\n",
    "\n",
    "SELECT * from Telus_Customer_Base\n",
    "UNION ALL\n",
    "SELECT * from ADT_Customer_Base\n",
    "\n",
    ")\n",
    "\n",
    ",Merge_data as (\n",
    "\n",
    "SELECT * from ADC_Customer_Base a\n",
    "INNER JOIN Union_data b\n",
    "\n",
    "on a.customer_id=b.customer_id\n",
    "order by Dealer_type_flag\n",
    ")\n",
    "\n",
    "select * from Merge_data\n",
    "\n",
    "\n",
    "\n",
    "'''"
   ]
  },
  {
   "cell_type": "code",
   "execution_count": 4,
   "id": "31ef0622-5347-4586-9e85-1ed1fdd655b1",
   "metadata": {},
   "outputs": [],
   "source": [
    "Customer_info=extract_bq_data(bq_client, sql=Customer_details)"
   ]
  },
  {
   "cell_type": "code",
   "execution_count": 5,
   "id": "c545c074-1075-4346-a287-15e0dc940f69",
   "metadata": {},
   "outputs": [
    {
     "name": "stdout",
     "output_type": "stream",
     "text": [
      "<class 'pandas.core.frame.DataFrame'>\n",
      "RangeIndex: 533503 entries, 0 to 533502\n",
      "Data columns (total 15 columns):\n",
      " #   Column              Non-Null Count   Dtype              \n",
      "---  ------              --------------   -----              \n",
      " 0   Month_Snapshot      533503 non-null  dbdate             \n",
      " 1   customer_id         533503 non-null  Int64              \n",
      " 2   dealer_customer_id  533503 non-null  object             \n",
      " 3   primary_login_id    533503 non-null  Int64              \n",
      " 4   dealer_name         533503 non-null  object             \n",
      " 5   join_date           533503 non-null  datetime64[ns, UTC]\n",
      " 6   account_type_name   533503 non-null  object             \n",
      " 7   customer_type_name  533503 non-null  object             \n",
      " 8   primary_email       533503 non-null  object             \n",
      " 9   primary_phone       533503 non-null  object             \n",
      " 10  last_updt_ts        533503 non-null  datetime64[ns, UTC]\n",
      " 11  customer_id_1       533503 non-null  Int64              \n",
      " 12  Dealer_type_flag    533503 non-null  object             \n",
      " 13  BAN                 330781 non-null  Int64              \n",
      " 14  ADT_site_no         202722 non-null  float64            \n",
      "dtypes: Int64(4), datetime64[ns, UTC](2), dbdate(1), float64(1), object(7)\n",
      "memory usage: 63.1+ MB\n"
     ]
    }
   ],
   "source": [
    "Customer_info.info()"
   ]
  },
  {
   "cell_type": "code",
   "execution_count": 6,
   "id": "0cd05628-b111-4c9a-b869-65bd4e6b2467",
   "metadata": {},
   "outputs": [
    {
     "data": {
      "text/plain": [
       "13901033    27\n",
       "13901046    27\n",
       "13796294    27\n",
       "13901041    27\n",
       "13407055    27\n",
       "            ..\n",
       "12448127     1\n",
       "12453530     1\n",
       "12454969     1\n",
       "12455010     1\n",
       "14629185     1\n",
       "Name: customer_id, Length: 523316, dtype: Int64"
      ]
     },
     "execution_count": 6,
     "metadata": {},
     "output_type": "execute_result"
    }
   ],
   "source": [
    "Customer_info['customer_id'].value_counts()"
   ]
  },
  {
   "cell_type": "code",
   "execution_count": 7,
   "id": "82df9a5a-c7f0-4185-ba28-8f0e10475f73",
   "metadata": {},
   "outputs": [
    {
     "data": {
      "text/plain": [
       "Month_Snapshot         0.000000\n",
       "customer_id            0.000000\n",
       "dealer_customer_id     0.000000\n",
       "primary_login_id       0.000000\n",
       "dealer_name            0.000000\n",
       "join_date              0.000000\n",
       "account_type_name      0.000000\n",
       "customer_type_name     0.000000\n",
       "primary_email          0.000000\n",
       "primary_phone          0.000000\n",
       "last_updt_ts           0.000000\n",
       "customer_id_1          0.000000\n",
       "Dealer_type_flag       0.000000\n",
       "BAN                   37.998287\n",
       "ADT_site_no           62.001713\n",
       "dtype: float64"
      ]
     },
     "execution_count": 7,
     "metadata": {},
     "output_type": "execute_result"
    }
   ],
   "source": [
    "Customer_info.isna().sum()*100/Customer_info.shape[0]"
   ]
  },
  {
   "cell_type": "code",
   "execution_count": 8,
   "id": "4ec24875-cacf-42fb-a5da-0cd841258fd6",
   "metadata": {},
   "outputs": [],
   "source": [
    "# Customer_info['BAN']=Customer_info['BAN'].fillna(0)"
   ]
  },
  {
   "cell_type": "code",
   "execution_count": 9,
   "id": "5ec22c4d-174f-48fe-b88c-d7a110a34116",
   "metadata": {},
   "outputs": [],
   "source": [
    "# Customer_info['ADT_site_no']=Customer_info['ADT_site_no'].fillna(0)"
   ]
  },
  {
   "cell_type": "code",
   "execution_count": 10,
   "id": "4ee839bb-628e-4a46-9d2c-e6a6b7123d8f",
   "metadata": {},
   "outputs": [
    {
     "data": {
      "text/plain": [
       "Security System             407419\n",
       "Awareness and Automation     79008\n",
       "Standalone                   47076\n",
       "Name: account_type_name, dtype: int64"
      ]
     },
     "execution_count": 10,
     "metadata": {},
     "output_type": "execute_result"
    }
   ],
   "source": [
    "Customer_info['account_type_name'].value_counts()"
   ]
  },
  {
   "cell_type": "code",
   "execution_count": 11,
   "id": "942043dd-e85a-4197-8f37-fab485f6790f",
   "metadata": {},
   "outputs": [
    {
     "data": {
      "text/plain": [
       "TELUS Communications Inc.    330354\n",
       "ADT by TELUS                 203149\n",
       "Name: dealer_name, dtype: int64"
      ]
     },
     "execution_count": 11,
     "metadata": {},
     "output_type": "execute_result"
    }
   ],
   "source": [
    "Customer_info['dealer_name'].value_counts()"
   ]
  },
  {
   "cell_type": "code",
   "execution_count": 12,
   "id": "d321cae0-a5dc-47ad-bd55-0b2d86f56bb3",
   "metadata": {},
   "outputs": [
    {
     "data": {
      "text/html": [
       "<div>\n",
       "<style scoped>\n",
       "    .dataframe tbody tr th:only-of-type {\n",
       "        vertical-align: middle;\n",
       "    }\n",
       "\n",
       "    .dataframe tbody tr th {\n",
       "        vertical-align: top;\n",
       "    }\n",
       "\n",
       "    .dataframe thead th {\n",
       "        text-align: right;\n",
       "    }\n",
       "</style>\n",
       "<table border=\"1\" class=\"dataframe\">\n",
       "  <thead>\n",
       "    <tr style=\"text-align: right;\">\n",
       "      <th></th>\n",
       "      <th>Month_Snapshot</th>\n",
       "      <th>customer_id</th>\n",
       "      <th>dealer_customer_id</th>\n",
       "      <th>primary_login_id</th>\n",
       "      <th>dealer_name</th>\n",
       "      <th>join_date</th>\n",
       "      <th>account_type_name</th>\n",
       "      <th>customer_type_name</th>\n",
       "      <th>primary_email</th>\n",
       "      <th>primary_phone</th>\n",
       "      <th>last_updt_ts</th>\n",
       "      <th>customer_id_1</th>\n",
       "      <th>Dealer_type_flag</th>\n",
       "      <th>BAN</th>\n",
       "      <th>ADT_site_no</th>\n",
       "    </tr>\n",
       "  </thead>\n",
       "  <tbody>\n",
       "    <tr>\n",
       "      <th>0</th>\n",
       "      <td>2022-09-01</td>\n",
       "      <td>975124</td>\n",
       "      <td>09031103</td>\n",
       "      <td>1026047</td>\n",
       "      <td>ADT by TELUS</td>\n",
       "      <td>2011-07-26 15:20:45+00:00</td>\n",
       "      <td>Security System</td>\n",
       "      <td>Customer</td>\n",
       "      <td>AcP5K03DwjVQXjEhFdMuYDdPecyXXrxYn0luenJHVzNTF4...</td>\n",
       "      <td>+15177040970</td>\n",
       "      <td>2022-09-30 11:27:24.729296+00:00</td>\n",
       "      <td>975124</td>\n",
       "      <td>ADT_Customer</td>\n",
       "      <td>&lt;NA&gt;</td>\n",
       "      <td>700152631.0</td>\n",
       "    </tr>\n",
       "    <tr>\n",
       "      <th>1</th>\n",
       "      <td>2022-09-01</td>\n",
       "      <td>988732</td>\n",
       "      <td>01040864</td>\n",
       "      <td>1040428</td>\n",
       "      <td>ADT by TELUS</td>\n",
       "      <td>2011-08-01 13:06:17+00:00</td>\n",
       "      <td>Security System</td>\n",
       "      <td>Customer</td>\n",
       "      <td>AQIAOe6TST2/E3v6PDAoUqzhRQatoTuSuNEX8vHvFjKYA5...</td>\n",
       "      <td>+15146780540</td>\n",
       "      <td>2022-09-30 11:27:24.729296+00:00</td>\n",
       "      <td>988732</td>\n",
       "      <td>ADT_Customer</td>\n",
       "      <td>&lt;NA&gt;</td>\n",
       "      <td>700150387.0</td>\n",
       "    </tr>\n",
       "    <tr>\n",
       "      <th>2</th>\n",
       "      <td>2022-09-01</td>\n",
       "      <td>1061341</td>\n",
       "      <td>321293</td>\n",
       "      <td>1117777</td>\n",
       "      <td>ADT by TELUS</td>\n",
       "      <td>2011-09-12 23:45:27+00:00</td>\n",
       "      <td>Security System</td>\n",
       "      <td>Customer</td>\n",
       "      <td>AY68U4ny1c3DktdOk/PWIeoa1SiNMC4rB6vVVVD8o/6vJw==</td>\n",
       "      <td>+12505633193</td>\n",
       "      <td>2022-09-30 11:27:24.729296+00:00</td>\n",
       "      <td>1061341</td>\n",
       "      <td>ADT_Customer</td>\n",
       "      <td>&lt;NA&gt;</td>\n",
       "      <td>700287739.0</td>\n",
       "    </tr>\n",
       "    <tr>\n",
       "      <th>3</th>\n",
       "      <td>2022-09-01</td>\n",
       "      <td>1095359</td>\n",
       "      <td>01016685</td>\n",
       "      <td>1155226</td>\n",
       "      <td>ADT by TELUS</td>\n",
       "      <td>2011-10-18 11:24:39+00:00</td>\n",
       "      <td>Security System</td>\n",
       "      <td>Customer</td>\n",
       "      <td>AZEDdaC/Ghn9vM7Q/Q5uWDzaLGQ9R1mRw2LHqAaBMqztiO2s</td>\n",
       "      <td>+15149239614</td>\n",
       "      <td>2022-09-30 11:27:24.729296+00:00</td>\n",
       "      <td>1095359</td>\n",
       "      <td>ADT_Customer</td>\n",
       "      <td>&lt;NA&gt;</td>\n",
       "      <td>700112460.0</td>\n",
       "    </tr>\n",
       "    <tr>\n",
       "      <th>4</th>\n",
       "      <td>2022-09-01</td>\n",
       "      <td>1222668</td>\n",
       "      <td>09602539</td>\n",
       "      <td>1298722</td>\n",
       "      <td>ADT by TELUS</td>\n",
       "      <td>2012-02-28 11:57:21+00:00</td>\n",
       "      <td>Security System</td>\n",
       "      <td>Customer</td>\n",
       "      <td>AeKBG4RmtIhQ9YtO78XBrtHXqQKAVuWtNPog01mT12XBbW...</td>\n",
       "      <td>+14504322858</td>\n",
       "      <td>2022-09-30 11:27:24.729296+00:00</td>\n",
       "      <td>1222668</td>\n",
       "      <td>ADT_Customer</td>\n",
       "      <td>&lt;NA&gt;</td>\n",
       "      <td>700306496.0</td>\n",
       "    </tr>\n",
       "  </tbody>\n",
       "</table>\n",
       "</div>"
      ],
      "text/plain": [
       "  Month_Snapshot  customer_id dealer_customer_id  primary_login_id  \\\n",
       "0     2022-09-01       975124           09031103           1026047   \n",
       "1     2022-09-01       988732           01040864           1040428   \n",
       "2     2022-09-01      1061341             321293           1117777   \n",
       "3     2022-09-01      1095359           01016685           1155226   \n",
       "4     2022-09-01      1222668           09602539           1298722   \n",
       "\n",
       "    dealer_name                 join_date account_type_name  \\\n",
       "0  ADT by TELUS 2011-07-26 15:20:45+00:00   Security System   \n",
       "1  ADT by TELUS 2011-08-01 13:06:17+00:00   Security System   \n",
       "2  ADT by TELUS 2011-09-12 23:45:27+00:00   Security System   \n",
       "3  ADT by TELUS 2011-10-18 11:24:39+00:00   Security System   \n",
       "4  ADT by TELUS 2012-02-28 11:57:21+00:00   Security System   \n",
       "\n",
       "  customer_type_name                                      primary_email  \\\n",
       "0           Customer  AcP5K03DwjVQXjEhFdMuYDdPecyXXrxYn0luenJHVzNTF4...   \n",
       "1           Customer  AQIAOe6TST2/E3v6PDAoUqzhRQatoTuSuNEX8vHvFjKYA5...   \n",
       "2           Customer   AY68U4ny1c3DktdOk/PWIeoa1SiNMC4rB6vVVVD8o/6vJw==   \n",
       "3           Customer   AZEDdaC/Ghn9vM7Q/Q5uWDzaLGQ9R1mRw2LHqAaBMqztiO2s   \n",
       "4           Customer  AeKBG4RmtIhQ9YtO78XBrtHXqQKAVuWtNPog01mT12XBbW...   \n",
       "\n",
       "  primary_phone                     last_updt_ts  customer_id_1  \\\n",
       "0  +15177040970 2022-09-30 11:27:24.729296+00:00         975124   \n",
       "1  +15146780540 2022-09-30 11:27:24.729296+00:00         988732   \n",
       "2  +12505633193 2022-09-30 11:27:24.729296+00:00        1061341   \n",
       "3  +15149239614 2022-09-30 11:27:24.729296+00:00        1095359   \n",
       "4  +14504322858 2022-09-30 11:27:24.729296+00:00        1222668   \n",
       "\n",
       "  Dealer_type_flag   BAN  ADT_site_no  \n",
       "0     ADT_Customer  <NA>  700152631.0  \n",
       "1     ADT_Customer  <NA>  700150387.0  \n",
       "2     ADT_Customer  <NA>  700287739.0  \n",
       "3     ADT_Customer  <NA>  700112460.0  \n",
       "4     ADT_Customer  <NA>  700306496.0  "
      ]
     },
     "execution_count": 12,
     "metadata": {},
     "output_type": "execute_result"
    }
   ],
   "source": [
    "Customer_info.head()"
   ]
  },
  {
   "cell_type": "code",
   "execution_count": null,
   "id": "623e4c57-39b6-4b5b-93a0-e900a8ad3871",
   "metadata": {},
   "outputs": [],
   "source": []
  },
  {
   "cell_type": "code",
   "execution_count": 13,
   "id": "896b76d8-b26a-4128-becd-52fb6bb25ac9",
   "metadata": {},
   "outputs": [],
   "source": [
    "Best_practices_details_Query='''\n",
    "\n",
    "select customer_id,best_practices_id,best_practices_ind,date(dt_last_calculate_utc) as last_date_calculate\n",
    "from `cio-datahub-enterprise-pr-183a.src_adc.bq_customer_best_practice`\n",
    "where DATE(dt_last_calculate_utc)<='2022-09-30'\n",
    "QUALIFY ROW_NUMBER() OVER (PARTITION BY customer_id,best_practices_id ORDER BY last_updt_ts DESC) = 1\n",
    "order by customer_id,best_practices_id\n",
    "\n",
    "\n",
    "'''"
   ]
  },
  {
   "cell_type": "code",
   "execution_count": 14,
   "id": "5764d389-2bbd-460f-8aae-87de01c31265",
   "metadata": {},
   "outputs": [],
   "source": [
    "Best_Practices_DF= extract_bq_data(bq_client,sql=Best_practices_details_Query)"
   ]
  },
  {
   "cell_type": "code",
   "execution_count": 15,
   "id": "99c712ae-5e75-4196-a8f6-6924b93b6cbd",
   "metadata": {},
   "outputs": [
    {
     "name": "stdout",
     "output_type": "stream",
     "text": [
      "<class 'pandas.core.frame.DataFrame'>\n",
      "RangeIndex: 3652638 entries, 0 to 3652637\n",
      "Data columns (total 4 columns):\n",
      " #   Column               Dtype  \n",
      "---  ------               -----  \n",
      " 0   customer_id          Int64  \n",
      " 1   best_practices_id    Int64  \n",
      " 2   best_practices_ind   boolean\n",
      " 3   last_date_calculate  dbdate \n",
      "dtypes: Int64(2), boolean(1), dbdate(1)\n",
      "memory usage: 97.5 MB\n"
     ]
    }
   ],
   "source": [
    "Best_Practices_DF.info()"
   ]
  },
  {
   "cell_type": "code",
   "execution_count": 16,
   "id": "1432093c-7078-4007-b8a6-cb99e9f8599f",
   "metadata": {},
   "outputs": [
    {
     "data": {
      "text/html": [
       "<div>\n",
       "<style scoped>\n",
       "    .dataframe tbody tr th:only-of-type {\n",
       "        vertical-align: middle;\n",
       "    }\n",
       "\n",
       "    .dataframe tbody tr th {\n",
       "        vertical-align: top;\n",
       "    }\n",
       "\n",
       "    .dataframe thead th {\n",
       "        text-align: right;\n",
       "    }\n",
       "</style>\n",
       "<table border=\"1\" class=\"dataframe\">\n",
       "  <thead>\n",
       "    <tr style=\"text-align: right;\">\n",
       "      <th></th>\n",
       "      <th>customer_id</th>\n",
       "      <th>best_practices_id</th>\n",
       "      <th>best_practices_ind</th>\n",
       "      <th>last_date_calculate</th>\n",
       "    </tr>\n",
       "  </thead>\n",
       "  <tbody>\n",
       "    <tr>\n",
       "      <th>0</th>\n",
       "      <td>287850</td>\n",
       "      <td>1</td>\n",
       "      <td>True</td>\n",
       "      <td>2022-08-14</td>\n",
       "    </tr>\n",
       "    <tr>\n",
       "      <th>1</th>\n",
       "      <td>287850</td>\n",
       "      <td>2</td>\n",
       "      <td>False</td>\n",
       "      <td>2022-08-14</td>\n",
       "    </tr>\n",
       "    <tr>\n",
       "      <th>2</th>\n",
       "      <td>287850</td>\n",
       "      <td>3</td>\n",
       "      <td>False</td>\n",
       "      <td>2022-08-14</td>\n",
       "    </tr>\n",
       "    <tr>\n",
       "      <th>3</th>\n",
       "      <td>287850</td>\n",
       "      <td>4</td>\n",
       "      <td>False</td>\n",
       "      <td>2022-08-14</td>\n",
       "    </tr>\n",
       "    <tr>\n",
       "      <th>4</th>\n",
       "      <td>287850</td>\n",
       "      <td>5</td>\n",
       "      <td>True</td>\n",
       "      <td>2022-08-14</td>\n",
       "    </tr>\n",
       "  </tbody>\n",
       "</table>\n",
       "</div>"
      ],
      "text/plain": [
       "   customer_id  best_practices_id  best_practices_ind last_date_calculate\n",
       "0       287850                  1                True          2022-08-14\n",
       "1       287850                  2               False          2022-08-14\n",
       "2       287850                  3               False          2022-08-14\n",
       "3       287850                  4               False          2022-08-14\n",
       "4       287850                  5                True          2022-08-14"
      ]
     },
     "execution_count": 16,
     "metadata": {},
     "output_type": "execute_result"
    }
   ],
   "source": [
    "Best_Practices_DF.head()"
   ]
  },
  {
   "cell_type": "code",
   "execution_count": 17,
   "id": "9cedb48c-9236-4e98-b1f9-0d6ee6de553f",
   "metadata": {},
   "outputs": [],
   "source": [
    "Best_Practices_DF['Best_practices_flag']=Best_Practices_DF['best_practices_ind'].apply(lambda x: 1 if x==True else 0)"
   ]
  },
  {
   "cell_type": "code",
   "execution_count": 18,
   "id": "a199ebef-019a-4233-af39-bd45fd391e56",
   "metadata": {},
   "outputs": [],
   "source": [
    "Best_Practices_DF_wide=Best_Practices_DF.pivot(index='customer_id', columns='best_practices_id', values='Best_practices_flag').reset_index()"
   ]
  },
  {
   "cell_type": "code",
   "execution_count": 19,
   "id": "2d624149-aa8a-4d65-a46d-cb9233a67d63",
   "metadata": {},
   "outputs": [
    {
     "data": {
      "text/html": [
       "<div>\n",
       "<style scoped>\n",
       "    .dataframe tbody tr th:only-of-type {\n",
       "        vertical-align: middle;\n",
       "    }\n",
       "\n",
       "    .dataframe tbody tr th {\n",
       "        vertical-align: top;\n",
       "    }\n",
       "\n",
       "    .dataframe thead th {\n",
       "        text-align: right;\n",
       "    }\n",
       "</style>\n",
       "<table border=\"1\" class=\"dataframe\">\n",
       "  <thead>\n",
       "    <tr style=\"text-align: right;\">\n",
       "      <th>best_practices_id</th>\n",
       "      <th>customer_id</th>\n",
       "      <th>1</th>\n",
       "      <th>2</th>\n",
       "      <th>3</th>\n",
       "      <th>4</th>\n",
       "      <th>5</th>\n",
       "      <th>6</th>\n",
       "    </tr>\n",
       "  </thead>\n",
       "  <tbody>\n",
       "    <tr>\n",
       "      <th>0</th>\n",
       "      <td>287850</td>\n",
       "      <td>1</td>\n",
       "      <td>0</td>\n",
       "      <td>0</td>\n",
       "      <td>0</td>\n",
       "      <td>1</td>\n",
       "      <td>0</td>\n",
       "    </tr>\n",
       "    <tr>\n",
       "      <th>1</th>\n",
       "      <td>292877</td>\n",
       "      <td>1</td>\n",
       "      <td>1</td>\n",
       "      <td>0</td>\n",
       "      <td>0</td>\n",
       "      <td>0</td>\n",
       "      <td>0</td>\n",
       "    </tr>\n",
       "    <tr>\n",
       "      <th>2</th>\n",
       "      <td>299100</td>\n",
       "      <td>1</td>\n",
       "      <td>1</td>\n",
       "      <td>0</td>\n",
       "      <td>0</td>\n",
       "      <td>1</td>\n",
       "      <td>1</td>\n",
       "    </tr>\n",
       "    <tr>\n",
       "      <th>3</th>\n",
       "      <td>355703</td>\n",
       "      <td>1</td>\n",
       "      <td>1</td>\n",
       "      <td>0</td>\n",
       "      <td>1</td>\n",
       "      <td>1</td>\n",
       "      <td>1</td>\n",
       "    </tr>\n",
       "    <tr>\n",
       "      <th>4</th>\n",
       "      <td>359052</td>\n",
       "      <td>1</td>\n",
       "      <td>1</td>\n",
       "      <td>0</td>\n",
       "      <td>0</td>\n",
       "      <td>1</td>\n",
       "      <td>1</td>\n",
       "    </tr>\n",
       "  </tbody>\n",
       "</table>\n",
       "</div>"
      ],
      "text/plain": [
       "best_practices_id  customer_id  1  2  3  4  5  6\n",
       "0                       287850  1  0  0  0  1  0\n",
       "1                       292877  1  1  0  0  0  0\n",
       "2                       299100  1  1  0  0  1  1\n",
       "3                       355703  1  1  0  1  1  1\n",
       "4                       359052  1  1  0  0  1  1"
      ]
     },
     "execution_count": 19,
     "metadata": {},
     "output_type": "execute_result"
    }
   ],
   "source": [
    "Best_Practices_DF_wide.head()"
   ]
  },
  {
   "cell_type": "code",
   "execution_count": 20,
   "id": "1f9c30d8-0482-4c38-9502-00b9771ea507",
   "metadata": {},
   "outputs": [],
   "source": [
    "Best_Practices_DF_wide.columns=['customer_id','Best_partices_1','Best_partices_2','Best_partices_3','Best_partices_4','Best_partices_5','Best_partices_6']"
   ]
  },
  {
   "cell_type": "code",
   "execution_count": 21,
   "id": "46023b99-cc89-4656-8f4c-843e07d48f88",
   "metadata": {},
   "outputs": [],
   "source": [
    "cols_to_sum=['Best_partices_1','Best_partices_2','Best_partices_3','Best_partices_4','Best_partices_5','Best_partices_6']\n",
    "Best_Practices_DF_wide['Best_Practice_All']=Best_Practices_DF_wide[cols_to_sum].sum(axis=1)"
   ]
  },
  {
   "cell_type": "code",
   "execution_count": 22,
   "id": "9ab57562-540c-40c3-bbac-064d1ee084a1",
   "metadata": {},
   "outputs": [],
   "source": [
    "Best_Practices_DF_wide['Best_Practice_All_flag']=Best_Practices_DF_wide['Best_Practice_All'].apply(lambda x: 1 if x==6 else 0)"
   ]
  },
  {
   "cell_type": "code",
   "execution_count": 23,
   "id": "de90e61f-adb5-4692-a889-ac7f65fa6107",
   "metadata": {},
   "outputs": [
    {
     "data": {
      "text/html": [
       "<div>\n",
       "<style scoped>\n",
       "    .dataframe tbody tr th:only-of-type {\n",
       "        vertical-align: middle;\n",
       "    }\n",
       "\n",
       "    .dataframe tbody tr th {\n",
       "        vertical-align: top;\n",
       "    }\n",
       "\n",
       "    .dataframe thead th {\n",
       "        text-align: right;\n",
       "    }\n",
       "</style>\n",
       "<table border=\"1\" class=\"dataframe\">\n",
       "  <thead>\n",
       "    <tr style=\"text-align: right;\">\n",
       "      <th></th>\n",
       "      <th>customer_id</th>\n",
       "      <th>Best_partices_1</th>\n",
       "      <th>Best_partices_2</th>\n",
       "      <th>Best_partices_3</th>\n",
       "      <th>Best_partices_4</th>\n",
       "      <th>Best_partices_5</th>\n",
       "      <th>Best_partices_6</th>\n",
       "      <th>Best_Practice_All</th>\n",
       "      <th>Best_Practice_All_flag</th>\n",
       "    </tr>\n",
       "  </thead>\n",
       "  <tbody>\n",
       "    <tr>\n",
       "      <th>0</th>\n",
       "      <td>287850</td>\n",
       "      <td>1</td>\n",
       "      <td>0</td>\n",
       "      <td>0</td>\n",
       "      <td>0</td>\n",
       "      <td>1</td>\n",
       "      <td>0</td>\n",
       "      <td>2</td>\n",
       "      <td>0</td>\n",
       "    </tr>\n",
       "    <tr>\n",
       "      <th>1</th>\n",
       "      <td>292877</td>\n",
       "      <td>1</td>\n",
       "      <td>1</td>\n",
       "      <td>0</td>\n",
       "      <td>0</td>\n",
       "      <td>0</td>\n",
       "      <td>0</td>\n",
       "      <td>2</td>\n",
       "      <td>0</td>\n",
       "    </tr>\n",
       "    <tr>\n",
       "      <th>2</th>\n",
       "      <td>299100</td>\n",
       "      <td>1</td>\n",
       "      <td>1</td>\n",
       "      <td>0</td>\n",
       "      <td>0</td>\n",
       "      <td>1</td>\n",
       "      <td>1</td>\n",
       "      <td>4</td>\n",
       "      <td>0</td>\n",
       "    </tr>\n",
       "    <tr>\n",
       "      <th>3</th>\n",
       "      <td>355703</td>\n",
       "      <td>1</td>\n",
       "      <td>1</td>\n",
       "      <td>0</td>\n",
       "      <td>1</td>\n",
       "      <td>1</td>\n",
       "      <td>1</td>\n",
       "      <td>5</td>\n",
       "      <td>0</td>\n",
       "    </tr>\n",
       "    <tr>\n",
       "      <th>4</th>\n",
       "      <td>359052</td>\n",
       "      <td>1</td>\n",
       "      <td>1</td>\n",
       "      <td>0</td>\n",
       "      <td>0</td>\n",
       "      <td>1</td>\n",
       "      <td>1</td>\n",
       "      <td>4</td>\n",
       "      <td>0</td>\n",
       "    </tr>\n",
       "  </tbody>\n",
       "</table>\n",
       "</div>"
      ],
      "text/plain": [
       "   customer_id  Best_partices_1  Best_partices_2  Best_partices_3  \\\n",
       "0       287850                1                0                0   \n",
       "1       292877                1                1                0   \n",
       "2       299100                1                1                0   \n",
       "3       355703                1                1                0   \n",
       "4       359052                1                1                0   \n",
       "\n",
       "   Best_partices_4  Best_partices_5  Best_partices_6  Best_Practice_All  \\\n",
       "0                0                1                0                  2   \n",
       "1                0                0                0                  2   \n",
       "2                0                1                1                  4   \n",
       "3                1                1                1                  5   \n",
       "4                0                1                1                  4   \n",
       "\n",
       "   Best_Practice_All_flag  \n",
       "0                       0  \n",
       "1                       0  \n",
       "2                       0  \n",
       "3                       0  \n",
       "4                       0  "
      ]
     },
     "execution_count": 23,
     "metadata": {},
     "output_type": "execute_result"
    }
   ],
   "source": [
    "Best_Practices_DF_wide.head()"
   ]
  },
  {
   "cell_type": "code",
   "execution_count": 24,
   "id": "722a0a52-1ef2-47a7-817d-2bd5a944fbce",
   "metadata": {},
   "outputs": [
    {
     "data": {
      "text/plain": [
       "4    28.336506\n",
       "5    21.922950\n",
       "3    15.389480\n",
       "2    11.664446\n",
       "0     9.321208\n",
       "6     6.769518\n",
       "1     6.595890\n",
       "Name: Best_Practice_All, dtype: float64"
      ]
     },
     "execution_count": 24,
     "metadata": {},
     "output_type": "execute_result"
    }
   ],
   "source": [
    "Best_Practices_DF_wide['Best_Practice_All'].value_counts(normalize=True)*100"
   ]
  },
  {
   "cell_type": "code",
   "execution_count": 25,
   "id": "fcc3bba1-3f04-47e8-9cad-d0adc2d66039",
   "metadata": {},
   "outputs": [],
   "source": [
    "Arming_Query=  '''\n",
    "\n",
    "with date_sql as (\n",
    "select  count(distinct date(date)) as count_of_dates from `cio-datahub-enterprise-pr-183a.src_adc.bq_aggregate_daily_arming_commands`\n",
    "where date(date)< '2022-10-01' and date(date)>= '2022-09-01'\n",
    "\n",
    ")\n",
    "\n",
    "select id_cust as customer_id,sum(count_arm_commands) as sum_arm_commands,sum(count_disarm_commands) as sum_disarm_commands,count (distinct date(date)) as number_days_arming_disarming, (select count_of_dates from date_sql ) as count_of_dates_arming\n",
    "from `cio-datahub-enterprise-pr-183a.src_adc.bq_aggregate_daily_arming_commands`\n",
    "where date(date)< '2022-10-01' and date(date)>= '2022-09-01'\n",
    "group by customer_id\n",
    "order by number_days_arming_disarming desc\n",
    "\n",
    "'''\n"
   ]
  },
  {
   "cell_type": "code",
   "execution_count": 26,
   "id": "533f02d9-1cc1-4d86-b939-8b51a3b866d0",
   "metadata": {},
   "outputs": [],
   "source": [
    "Arming_DF=extract_bq_data(bq_client, sql=Arming_Query)"
   ]
  },
  {
   "cell_type": "code",
   "execution_count": 27,
   "id": "f08fd8e1-c8cf-492b-a35f-84c2f50d3335",
   "metadata": {},
   "outputs": [],
   "source": [
    "max_number_arming_dates=Arming_DF['count_of_dates_arming'].max()\n",
    "Arming_DF['Arming_Consistency']=Arming_DF['number_days_arming_disarming'].apply(lambda x: x*100/max_number_arming_dates)"
   ]
  },
  {
   "cell_type": "code",
   "execution_count": 28,
   "id": "31e3bd53-01fc-4018-9acd-9e95a9390413",
   "metadata": {},
   "outputs": [
    {
     "data": {
      "text/plain": [
       "23"
      ]
     },
     "execution_count": 28,
     "metadata": {},
     "output_type": "execute_result"
    }
   ],
   "source": [
    "max_number_arming_dates"
   ]
  },
  {
   "cell_type": "code",
   "execution_count": 29,
   "id": "d606ae21-fb4c-4acd-a190-895f19ba1cf3",
   "metadata": {},
   "outputs": [],
   "source": [
    "Arming_DF['Arming_Flag']=1"
   ]
  },
  {
   "cell_type": "code",
   "execution_count": 30,
   "id": "e6a795af-4f66-400e-90ac-25a3433721ad",
   "metadata": {},
   "outputs": [
    {
     "data": {
      "text/plain": [
       "100.000000    28.509748\n",
       "95.652174      8.484381\n",
       "4.347826       8.265297\n",
       "91.304348      5.934806\n",
       "8.695652       5.343536\n",
       "86.956522      5.283640\n",
       "82.608696      3.768950\n",
       "78.260870      3.315087\n",
       "13.043478      3.259675\n",
       "73.913043      3.218998\n",
       "17.391304      2.691466\n",
       "21.739130      2.239846\n",
       "69.565217      2.210058\n",
       "26.086957      1.972717\n",
       "65.217391      1.933961\n",
       "30.434783      1.872143\n",
       "34.782609      1.782460\n",
       "60.869565      1.763562\n",
       "56.521739      1.684128\n",
       "39.130435      1.649536\n",
       "52.173913      1.629678\n",
       "47.826087      1.593804\n",
       "43.478261      1.592523\n",
       "Name: Arming_Consistency, dtype: float64"
      ]
     },
     "execution_count": 30,
     "metadata": {},
     "output_type": "execute_result"
    }
   ],
   "source": [
    "Arming_DF['Arming_Consistency'].value_counts(normalize=True)*100"
   ]
  },
  {
   "cell_type": "code",
   "execution_count": 31,
   "id": "e411ceb4-dda0-4b2f-bf04-92f4acb33baa",
   "metadata": {},
   "outputs": [],
   "source": [
    "Login_SQL='''\n",
    "\n",
    "with date_sql as (\n",
    "select  count(distinct date(login_dt_utc)) as count_of_dates from `cio-datahub-enterprise-pr-183a.src_adc.bq_customer_daily_logins`\n",
    "where date(login_dt_utc)< '2022-10-01' and date(login_dt_utc)>= '2022-09-01' \n",
    "\n",
    ")\n",
    "\n",
    "\n",
    "\n",
    "select customer_id,sum(login_count) as sum_login_count,count (distinct date(login_dt_utc)) as number_of_login_days, (select count_of_dates from date_sql ) as count_of_dates_logins\n",
    "from `cio-datahub-enterprise-pr-183a.src_adc.bq_customer_daily_logins`\n",
    "where date(login_dt_utc)< '2022-10-01' and date(login_dt_utc)>= '2022-09-01' \n",
    "group by customer_id\n",
    "order by number_of_login_days desc\n",
    "\n",
    "\n",
    "'''"
   ]
  },
  {
   "cell_type": "code",
   "execution_count": 32,
   "id": "468bb9c2-51df-47ad-8dcb-ee90c08e62f2",
   "metadata": {},
   "outputs": [],
   "source": [
    "Login_DF=extract_bq_data(bq_client, sql=Login_SQL)"
   ]
  },
  {
   "cell_type": "code",
   "execution_count": 33,
   "id": "888b675c-90c7-4d06-b8aa-c8e361396cff",
   "metadata": {},
   "outputs": [],
   "source": [
    "max_number_login_dates=Login_DF['count_of_dates_logins'].max()\n",
    "Login_DF['Login_Consistency']=Login_DF['number_of_login_days'].apply(lambda x: x*100/max_number_login_dates)"
   ]
  },
  {
   "cell_type": "code",
   "execution_count": 34,
   "id": "c3750c12-aed2-4ac0-ae5f-58f0490ebf4b",
   "metadata": {},
   "outputs": [
    {
     "data": {
      "text/plain": [
       "30"
      ]
     },
     "execution_count": 34,
     "metadata": {},
     "output_type": "execute_result"
    }
   ],
   "source": [
    "max_number_login_dates"
   ]
  },
  {
   "cell_type": "code",
   "execution_count": 35,
   "id": "f6116f98-f3e3-4bb4-8140-c016ef274905",
   "metadata": {},
   "outputs": [
    {
     "data": {
      "text/html": [
       "<div>\n",
       "<style scoped>\n",
       "    .dataframe tbody tr th:only-of-type {\n",
       "        vertical-align: middle;\n",
       "    }\n",
       "\n",
       "    .dataframe tbody tr th {\n",
       "        vertical-align: top;\n",
       "    }\n",
       "\n",
       "    .dataframe thead th {\n",
       "        text-align: right;\n",
       "    }\n",
       "</style>\n",
       "<table border=\"1\" class=\"dataframe\">\n",
       "  <thead>\n",
       "    <tr style=\"text-align: right;\">\n",
       "      <th></th>\n",
       "      <th>customer_id</th>\n",
       "      <th>sum_login_count</th>\n",
       "      <th>number_of_login_days</th>\n",
       "      <th>count_of_dates_logins</th>\n",
       "      <th>Login_Consistency</th>\n",
       "    </tr>\n",
       "  </thead>\n",
       "  <tbody>\n",
       "    <tr>\n",
       "      <th>0</th>\n",
       "      <td>11901102</td>\n",
       "      <td>132</td>\n",
       "      <td>30</td>\n",
       "      <td>30</td>\n",
       "      <td>100.0</td>\n",
       "    </tr>\n",
       "    <tr>\n",
       "      <th>1</th>\n",
       "      <td>12035238</td>\n",
       "      <td>64</td>\n",
       "      <td>30</td>\n",
       "      <td>30</td>\n",
       "      <td>100.0</td>\n",
       "    </tr>\n",
       "    <tr>\n",
       "      <th>2</th>\n",
       "      <td>12021990</td>\n",
       "      <td>70</td>\n",
       "      <td>30</td>\n",
       "      <td>30</td>\n",
       "      <td>100.0</td>\n",
       "    </tr>\n",
       "    <tr>\n",
       "      <th>3</th>\n",
       "      <td>11810730</td>\n",
       "      <td>151</td>\n",
       "      <td>30</td>\n",
       "      <td>30</td>\n",
       "      <td>100.0</td>\n",
       "    </tr>\n",
       "    <tr>\n",
       "      <th>4</th>\n",
       "      <td>9229363</td>\n",
       "      <td>144</td>\n",
       "      <td>30</td>\n",
       "      <td>30</td>\n",
       "      <td>100.0</td>\n",
       "    </tr>\n",
       "  </tbody>\n",
       "</table>\n",
       "</div>"
      ],
      "text/plain": [
       "   customer_id  sum_login_count  number_of_login_days  count_of_dates_logins  \\\n",
       "0     11901102              132                    30                     30   \n",
       "1     12035238               64                    30                     30   \n",
       "2     12021990               70                    30                     30   \n",
       "3     11810730              151                    30                     30   \n",
       "4      9229363              144                    30                     30   \n",
       "\n",
       "   Login_Consistency  \n",
       "0              100.0  \n",
       "1              100.0  \n",
       "2              100.0  \n",
       "3              100.0  \n",
       "4              100.0  "
      ]
     },
     "execution_count": 35,
     "metadata": {},
     "output_type": "execute_result"
    }
   ],
   "source": [
    "Login_DF.head()"
   ]
  },
  {
   "cell_type": "code",
   "execution_count": 36,
   "id": "ac566be1-4c6f-49bc-a594-cd1ae7826895",
   "metadata": {},
   "outputs": [
    {
     "data": {
      "text/plain": [
       "100.000000    27.352993\n",
       "3.333333       7.340600\n",
       "6.666667       5.091007\n",
       "10.000000      3.978940\n",
       "96.666667      3.937148\n",
       "13.333333      3.336440\n",
       "93.333333      2.992011\n",
       "16.666667      2.889932\n",
       "20.000000      2.553189\n",
       "90.000000      2.458796\n",
       "23.333333      2.414121\n",
       "86.666667      2.227496\n",
       "26.666667      2.212124\n",
       "30.000000      2.166969\n",
       "83.333333      2.061526\n",
       "33.333333      2.046875\n",
       "80.000000      1.973618\n",
       "36.666667      1.913331\n",
       "73.333333      1.891714\n",
       "76.666667      1.880425\n",
       "40.000000      1.857848\n",
       "43.333333      1.812933\n",
       "70.000000      1.767777\n",
       "46.666667      1.748803\n",
       "50.000000      1.721181\n",
       "53.333333      1.708932\n",
       "66.666667      1.686834\n",
       "60.000000      1.662575\n",
       "63.333333      1.660654\n",
       "56.666667      1.653208\n",
       "Name: Login_Consistency, dtype: float64"
      ]
     },
     "execution_count": 36,
     "metadata": {},
     "output_type": "execute_result"
    }
   ],
   "source": [
    "Login_DF['Login_Consistency'].value_counts(normalize=True)*100"
   ]
  },
  {
   "cell_type": "code",
   "execution_count": 37,
   "id": "49586c7f-3c94-4362-8328-2ed3772f43c7",
   "metadata": {},
   "outputs": [],
   "source": [
    "TC_issue_query='''\n",
    "\n",
    "select dealer_name,customer_id,unit_id,device_id,trouble_condition_name,trouble_condition_group_id,trouble_condition_group_desc, start_date_utc,end_date_utc\n",
    "from `cio-datahub-enterprise-pr-183a.src_adc.bq_troublecondition_data`\n",
    "where trouble_condition_start_ind='Y'and trouble_condition_closed_ind='Y' \n",
    "and date(start_date_utc) >= '2022-07-01' and date(start_date_utc) <'2022-10-01' \n",
    "\n",
    "\n",
    "'''"
   ]
  },
  {
   "cell_type": "code",
   "execution_count": 38,
   "id": "9e5819c3-245c-41bf-b048-5d014a717e03",
   "metadata": {},
   "outputs": [],
   "source": [
    "TC_data= extract_bq_data(bq_client, sql=TC_issue_query)"
   ]
  },
  {
   "cell_type": "code",
   "execution_count": 39,
   "id": "ee5d5c62-e11d-46b2-9f08-9d4af7aa8c7e",
   "metadata": {},
   "outputs": [
    {
     "data": {
      "text/html": [
       "<div>\n",
       "<style scoped>\n",
       "    .dataframe tbody tr th:only-of-type {\n",
       "        vertical-align: middle;\n",
       "    }\n",
       "\n",
       "    .dataframe tbody tr th {\n",
       "        vertical-align: top;\n",
       "    }\n",
       "\n",
       "    .dataframe thead th {\n",
       "        text-align: right;\n",
       "    }\n",
       "</style>\n",
       "<table border=\"1\" class=\"dataframe\">\n",
       "  <thead>\n",
       "    <tr style=\"text-align: right;\">\n",
       "      <th></th>\n",
       "      <th>dealer_name</th>\n",
       "      <th>customer_id</th>\n",
       "      <th>unit_id</th>\n",
       "      <th>device_id</th>\n",
       "      <th>trouble_condition_name</th>\n",
       "      <th>trouble_condition_group_id</th>\n",
       "      <th>trouble_condition_group_desc</th>\n",
       "      <th>start_date_utc</th>\n",
       "      <th>end_date_utc</th>\n",
       "    </tr>\n",
       "  </thead>\n",
       "  <tbody>\n",
       "    <tr>\n",
       "      <th>0</th>\n",
       "      <td>ADT by TELUS</td>\n",
       "      <td>7494296</td>\n",
       "      <td>97456472</td>\n",
       "      <td>127</td>\n",
       "      <td>KeypadTamper</td>\n",
       "      <td>1</td>\n",
       "      <td>Critical System Issue</td>\n",
       "      <td>2022-07-03 17:21:24+00:00</td>\n",
       "      <td>2022-07-03 17:22:02+00:00</td>\n",
       "    </tr>\n",
       "    <tr>\n",
       "      <th>1</th>\n",
       "      <td>ADT by TELUS</td>\n",
       "      <td>7560026</td>\n",
       "      <td>97522199</td>\n",
       "      <td>127</td>\n",
       "      <td>ZWaveRadioTrouble</td>\n",
       "      <td>2</td>\n",
       "      <td>System Condition</td>\n",
       "      <td>2022-07-03 03:50:57+00:00</td>\n",
       "      <td>2022-07-03 03:51:00+00:00</td>\n",
       "    </tr>\n",
       "    <tr>\n",
       "      <th>2</th>\n",
       "      <td>ADT by TELUS</td>\n",
       "      <td>7692469</td>\n",
       "      <td>97654632</td>\n",
       "      <td>127</td>\n",
       "      <td>BatteryAbsent</td>\n",
       "      <td>1</td>\n",
       "      <td>Critical System Issue</td>\n",
       "      <td>2022-07-03 05:36:43+00:00</td>\n",
       "      <td>2022-07-03 05:38:44+00:00</td>\n",
       "    </tr>\n",
       "    <tr>\n",
       "      <th>3</th>\n",
       "      <td>ADT by TELUS</td>\n",
       "      <td>13963158</td>\n",
       "      <td>103924794</td>\n",
       "      <td>127</td>\n",
       "      <td>PanelAuxPanic</td>\n",
       "      <td>4</td>\n",
       "      <td>Central Station Condition</td>\n",
       "      <td>2022-07-03 10:50:07+00:00</td>\n",
       "      <td>2022-07-03 10:52:04+00:00</td>\n",
       "    </tr>\n",
       "    <tr>\n",
       "      <th>4</th>\n",
       "      <td>ADT by TELUS</td>\n",
       "      <td>8117879</td>\n",
       "      <td>98080035</td>\n",
       "      <td>127</td>\n",
       "      <td>BatteryAbsent</td>\n",
       "      <td>1</td>\n",
       "      <td>Critical System Issue</td>\n",
       "      <td>2022-07-03 06:50:47+00:00</td>\n",
       "      <td>2022-07-03 06:55:48+00:00</td>\n",
       "    </tr>\n",
       "  </tbody>\n",
       "</table>\n",
       "</div>"
      ],
      "text/plain": [
       "    dealer_name  customer_id    unit_id  device_id trouble_condition_name  \\\n",
       "0  ADT by TELUS      7494296   97456472        127           KeypadTamper   \n",
       "1  ADT by TELUS      7560026   97522199        127      ZWaveRadioTrouble   \n",
       "2  ADT by TELUS      7692469   97654632        127          BatteryAbsent   \n",
       "3  ADT by TELUS     13963158  103924794        127          PanelAuxPanic   \n",
       "4  ADT by TELUS      8117879   98080035        127          BatteryAbsent   \n",
       "\n",
       "   trouble_condition_group_id trouble_condition_group_desc  \\\n",
       "0                           1        Critical System Issue   \n",
       "1                           2             System Condition   \n",
       "2                           1        Critical System Issue   \n",
       "3                           4    Central Station Condition   \n",
       "4                           1        Critical System Issue   \n",
       "\n",
       "             start_date_utc              end_date_utc  \n",
       "0 2022-07-03 17:21:24+00:00 2022-07-03 17:22:02+00:00  \n",
       "1 2022-07-03 03:50:57+00:00 2022-07-03 03:51:00+00:00  \n",
       "2 2022-07-03 05:36:43+00:00 2022-07-03 05:38:44+00:00  \n",
       "3 2022-07-03 10:50:07+00:00 2022-07-03 10:52:04+00:00  \n",
       "4 2022-07-03 06:50:47+00:00 2022-07-03 06:55:48+00:00  "
      ]
     },
     "execution_count": 39,
     "metadata": {},
     "output_type": "execute_result"
    }
   ],
   "source": [
    "TC_data.head()"
   ]
  },
  {
   "cell_type": "code",
   "execution_count": 40,
   "id": "33d60f6a-b984-4af0-be33-ead333d35b12",
   "metadata": {},
   "outputs": [],
   "source": [
    "TC_data['count']=1\n",
    "\n",
    "TC_pivot_table=pd.pivot_table(TC_data, values=['count'], index=['customer_id'], columns='trouble_condition_name',\n",
    "                          aggfunc={'count': np.sum})"
   ]
  },
  {
   "cell_type": "code",
   "execution_count": 41,
   "id": "b1150c5e-dd8d-4526-8c03-16f28c9278f8",
   "metadata": {},
   "outputs": [],
   "source": [
    "TC_pivot_table=TC_pivot_table.reset_index()"
   ]
  },
  {
   "cell_type": "code",
   "execution_count": 42,
   "id": "60342e26-ba90-4478-8cbf-c2fa15843ed3",
   "metadata": {},
   "outputs": [
    {
     "data": {
      "text/html": [
       "<div>\n",
       "<style scoped>\n",
       "    .dataframe tbody tr th:only-of-type {\n",
       "        vertical-align: middle;\n",
       "    }\n",
       "\n",
       "    .dataframe tbody tr th {\n",
       "        vertical-align: top;\n",
       "    }\n",
       "\n",
       "    .dataframe thead tr th {\n",
       "        text-align: left;\n",
       "    }\n",
       "</style>\n",
       "<table border=\"1\" class=\"dataframe\">\n",
       "  <thead>\n",
       "    <tr>\n",
       "      <th></th>\n",
       "      <th>customer_id</th>\n",
       "      <th colspan=\"20\" halign=\"left\">count</th>\n",
       "    </tr>\n",
       "    <tr>\n",
       "      <th>trouble_condition_name</th>\n",
       "      <th></th>\n",
       "      <th>ACFailure</th>\n",
       "      <th>Alarm</th>\n",
       "      <th>BatteryAbsent</th>\n",
       "      <th>BellCircuit</th>\n",
       "      <th>BroadbandCommFailure</th>\n",
       "      <th>CameraNotCommunicating</th>\n",
       "      <th>CameraNotReachable</th>\n",
       "      <th>CarbonMonoxideAlert</th>\n",
       "      <th>CarbonMonoxideSensorTrouble</th>\n",
       "      <th>...</th>\n",
       "      <th>SystemLocked</th>\n",
       "      <th>TamperEventsDisabled</th>\n",
       "      <th>ThermostatTooCold</th>\n",
       "      <th>ThermostatTooWarm</th>\n",
       "      <th>UploadsOverQuota</th>\n",
       "      <th>VideoDeviceFirmwareOutdated</th>\n",
       "      <th>VideoObjectDetectionRuleNotConfigured</th>\n",
       "      <th>WaterAlert</th>\n",
       "      <th>ZWaveRadioTrouble</th>\n",
       "      <th>ZoneDeviceMaskTrouble</th>\n",
       "    </tr>\n",
       "  </thead>\n",
       "  <tbody>\n",
       "    <tr>\n",
       "      <th>0</th>\n",
       "      <td>174996</td>\n",
       "      <td>NaN</td>\n",
       "      <td>1.0</td>\n",
       "      <td>NaN</td>\n",
       "      <td>NaN</td>\n",
       "      <td>NaN</td>\n",
       "      <td>NaN</td>\n",
       "      <td>NaN</td>\n",
       "      <td>NaN</td>\n",
       "      <td>NaN</td>\n",
       "      <td>...</td>\n",
       "      <td>NaN</td>\n",
       "      <td>NaN</td>\n",
       "      <td>NaN</td>\n",
       "      <td>NaN</td>\n",
       "      <td>NaN</td>\n",
       "      <td>NaN</td>\n",
       "      <td>NaN</td>\n",
       "      <td>NaN</td>\n",
       "      <td>NaN</td>\n",
       "      <td>NaN</td>\n",
       "    </tr>\n",
       "    <tr>\n",
       "      <th>1</th>\n",
       "      <td>210137</td>\n",
       "      <td>NaN</td>\n",
       "      <td>23.0</td>\n",
       "      <td>1.0</td>\n",
       "      <td>NaN</td>\n",
       "      <td>NaN</td>\n",
       "      <td>NaN</td>\n",
       "      <td>NaN</td>\n",
       "      <td>NaN</td>\n",
       "      <td>NaN</td>\n",
       "      <td>...</td>\n",
       "      <td>NaN</td>\n",
       "      <td>NaN</td>\n",
       "      <td>NaN</td>\n",
       "      <td>NaN</td>\n",
       "      <td>NaN</td>\n",
       "      <td>NaN</td>\n",
       "      <td>NaN</td>\n",
       "      <td>NaN</td>\n",
       "      <td>NaN</td>\n",
       "      <td>NaN</td>\n",
       "    </tr>\n",
       "    <tr>\n",
       "      <th>2</th>\n",
       "      <td>213860</td>\n",
       "      <td>NaN</td>\n",
       "      <td>NaN</td>\n",
       "      <td>NaN</td>\n",
       "      <td>NaN</td>\n",
       "      <td>41.0</td>\n",
       "      <td>NaN</td>\n",
       "      <td>NaN</td>\n",
       "      <td>NaN</td>\n",
       "      <td>NaN</td>\n",
       "      <td>...</td>\n",
       "      <td>NaN</td>\n",
       "      <td>NaN</td>\n",
       "      <td>NaN</td>\n",
       "      <td>NaN</td>\n",
       "      <td>NaN</td>\n",
       "      <td>NaN</td>\n",
       "      <td>NaN</td>\n",
       "      <td>NaN</td>\n",
       "      <td>NaN</td>\n",
       "      <td>NaN</td>\n",
       "    </tr>\n",
       "    <tr>\n",
       "      <th>3</th>\n",
       "      <td>217919</td>\n",
       "      <td>1.0</td>\n",
       "      <td>NaN</td>\n",
       "      <td>NaN</td>\n",
       "      <td>NaN</td>\n",
       "      <td>NaN</td>\n",
       "      <td>NaN</td>\n",
       "      <td>NaN</td>\n",
       "      <td>NaN</td>\n",
       "      <td>NaN</td>\n",
       "      <td>...</td>\n",
       "      <td>NaN</td>\n",
       "      <td>NaN</td>\n",
       "      <td>NaN</td>\n",
       "      <td>NaN</td>\n",
       "      <td>NaN</td>\n",
       "      <td>NaN</td>\n",
       "      <td>NaN</td>\n",
       "      <td>NaN</td>\n",
       "      <td>NaN</td>\n",
       "      <td>NaN</td>\n",
       "    </tr>\n",
       "    <tr>\n",
       "      <th>4</th>\n",
       "      <td>218873</td>\n",
       "      <td>NaN</td>\n",
       "      <td>2.0</td>\n",
       "      <td>NaN</td>\n",
       "      <td>NaN</td>\n",
       "      <td>NaN</td>\n",
       "      <td>NaN</td>\n",
       "      <td>NaN</td>\n",
       "      <td>NaN</td>\n",
       "      <td>NaN</td>\n",
       "      <td>...</td>\n",
       "      <td>NaN</td>\n",
       "      <td>NaN</td>\n",
       "      <td>NaN</td>\n",
       "      <td>NaN</td>\n",
       "      <td>NaN</td>\n",
       "      <td>NaN</td>\n",
       "      <td>NaN</td>\n",
       "      <td>NaN</td>\n",
       "      <td>NaN</td>\n",
       "      <td>NaN</td>\n",
       "    </tr>\n",
       "  </tbody>\n",
       "</table>\n",
       "<p>5 rows × 84 columns</p>\n",
       "</div>"
      ],
      "text/plain": [
       "                       customer_id     count                                  \\\n",
       "trouble_condition_name             ACFailure Alarm BatteryAbsent BellCircuit   \n",
       "0                           174996       NaN   1.0           NaN         NaN   \n",
       "1                           210137       NaN  23.0           1.0         NaN   \n",
       "2                           213860       NaN   NaN           NaN         NaN   \n",
       "3                           217919       1.0   NaN           NaN         NaN   \n",
       "4                           218873       NaN   2.0           NaN         NaN   \n",
       "\n",
       "                                                                    \\\n",
       "trouble_condition_name BroadbandCommFailure CameraNotCommunicating   \n",
       "0                                       NaN                    NaN   \n",
       "1                                       NaN                    NaN   \n",
       "2                                      41.0                    NaN   \n",
       "3                                       NaN                    NaN   \n",
       "4                                       NaN                    NaN   \n",
       "\n",
       "                                                               \\\n",
       "trouble_condition_name CameraNotReachable CarbonMonoxideAlert   \n",
       "0                                     NaN                 NaN   \n",
       "1                                     NaN                 NaN   \n",
       "2                                     NaN                 NaN   \n",
       "3                                     NaN                 NaN   \n",
       "4                                     NaN                 NaN   \n",
       "\n",
       "                                                    ...               \\\n",
       "trouble_condition_name CarbonMonoxideSensorTrouble  ... SystemLocked   \n",
       "0                                              NaN  ...          NaN   \n",
       "1                                              NaN  ...          NaN   \n",
       "2                                              NaN  ...          NaN   \n",
       "3                                              NaN  ...          NaN   \n",
       "4                                              NaN  ...          NaN   \n",
       "\n",
       "                                                               \\\n",
       "trouble_condition_name TamperEventsDisabled ThermostatTooCold   \n",
       "0                                       NaN               NaN   \n",
       "1                                       NaN               NaN   \n",
       "2                                       NaN               NaN   \n",
       "3                                       NaN               NaN   \n",
       "4                                       NaN               NaN   \n",
       "\n",
       "                                                           \\\n",
       "trouble_condition_name ThermostatTooWarm UploadsOverQuota   \n",
       "0                                    NaN              NaN   \n",
       "1                                    NaN              NaN   \n",
       "2                                    NaN              NaN   \n",
       "3                                    NaN              NaN   \n",
       "4                                    NaN              NaN   \n",
       "\n",
       "                                                    \\\n",
       "trouble_condition_name VideoDeviceFirmwareOutdated   \n",
       "0                                              NaN   \n",
       "1                                              NaN   \n",
       "2                                              NaN   \n",
       "3                                              NaN   \n",
       "4                                              NaN   \n",
       "\n",
       "                                                                         \\\n",
       "trouble_condition_name VideoObjectDetectionRuleNotConfigured WaterAlert   \n",
       "0                                                        NaN        NaN   \n",
       "1                                                        NaN        NaN   \n",
       "2                                                        NaN        NaN   \n",
       "3                                                        NaN        NaN   \n",
       "4                                                        NaN        NaN   \n",
       "\n",
       "                                                                \n",
       "trouble_condition_name ZWaveRadioTrouble ZoneDeviceMaskTrouble  \n",
       "0                                    NaN                   NaN  \n",
       "1                                    NaN                   NaN  \n",
       "2                                    NaN                   NaN  \n",
       "3                                    NaN                   NaN  \n",
       "4                                    NaN                   NaN  \n",
       "\n",
       "[5 rows x 84 columns]"
      ]
     },
     "execution_count": 42,
     "metadata": {},
     "output_type": "execute_result"
    }
   ],
   "source": [
    "TC_pivot_table.head()"
   ]
  },
  {
   "cell_type": "code",
   "execution_count": 43,
   "id": "277dbf98-b12d-400c-b7c6-bf64a351a1a8",
   "metadata": {},
   "outputs": [],
   "source": [
    "TC_pivot_table.fillna(0,inplace=True)"
   ]
  },
  {
   "cell_type": "code",
   "execution_count": 44,
   "id": "1773e627-1a85-49df-95ba-5107d66fa35d",
   "metadata": {},
   "outputs": [],
   "source": [
    "TC_pivot_table.columns=['TC_Last3M_'+'_'.join(col).strip() for col in TC_pivot_table.columns.values]"
   ]
  },
  {
   "cell_type": "code",
   "execution_count": 45,
   "id": "e09ff23f-2ad4-4303-b337-f23b68c5c91c",
   "metadata": {},
   "outputs": [],
   "source": [
    "# TC_pivot_table.columns=['customer_id','TC_BroadbandCommFailure_count','TC_CameraNotCommunicating_count','TC_CameraNotReachable_count']"
   ]
  },
  {
   "cell_type": "code",
   "execution_count": 46,
   "id": "030ab42a-955b-4995-b9c1-b81bcc756dba",
   "metadata": {},
   "outputs": [],
   "source": [
    "# TC_pivot_table.fillna(0,inplace=True)"
   ]
  },
  {
   "cell_type": "code",
   "execution_count": 47,
   "id": "2af6c254-0ebe-48c2-aec7-a23ba1a27f5f",
   "metadata": {},
   "outputs": [
    {
     "data": {
      "text/html": [
       "<div>\n",
       "<style scoped>\n",
       "    .dataframe tbody tr th:only-of-type {\n",
       "        vertical-align: middle;\n",
       "    }\n",
       "\n",
       "    .dataframe tbody tr th {\n",
       "        vertical-align: top;\n",
       "    }\n",
       "\n",
       "    .dataframe thead th {\n",
       "        text-align: right;\n",
       "    }\n",
       "</style>\n",
       "<table border=\"1\" class=\"dataframe\">\n",
       "  <thead>\n",
       "    <tr style=\"text-align: right;\">\n",
       "      <th></th>\n",
       "      <th>TC_Last3M_customer_id_</th>\n",
       "      <th>TC_Last3M_count_ACFailure</th>\n",
       "      <th>TC_Last3M_count_Alarm</th>\n",
       "      <th>TC_Last3M_count_BatteryAbsent</th>\n",
       "      <th>TC_Last3M_count_BellCircuit</th>\n",
       "      <th>TC_Last3M_count_BroadbandCommFailure</th>\n",
       "      <th>TC_Last3M_count_CameraNotCommunicating</th>\n",
       "      <th>TC_Last3M_count_CameraNotReachable</th>\n",
       "      <th>TC_Last3M_count_CarbonMonoxideAlert</th>\n",
       "      <th>TC_Last3M_count_CarbonMonoxideSensorTrouble</th>\n",
       "      <th>...</th>\n",
       "      <th>TC_Last3M_count_SystemLocked</th>\n",
       "      <th>TC_Last3M_count_TamperEventsDisabled</th>\n",
       "      <th>TC_Last3M_count_ThermostatTooCold</th>\n",
       "      <th>TC_Last3M_count_ThermostatTooWarm</th>\n",
       "      <th>TC_Last3M_count_UploadsOverQuota</th>\n",
       "      <th>TC_Last3M_count_VideoDeviceFirmwareOutdated</th>\n",
       "      <th>TC_Last3M_count_VideoObjectDetectionRuleNotConfigured</th>\n",
       "      <th>TC_Last3M_count_WaterAlert</th>\n",
       "      <th>TC_Last3M_count_ZWaveRadioTrouble</th>\n",
       "      <th>TC_Last3M_count_ZoneDeviceMaskTrouble</th>\n",
       "    </tr>\n",
       "  </thead>\n",
       "  <tbody>\n",
       "    <tr>\n",
       "      <th>0</th>\n",
       "      <td>174996</td>\n",
       "      <td>0.0</td>\n",
       "      <td>1.0</td>\n",
       "      <td>0.0</td>\n",
       "      <td>0.0</td>\n",
       "      <td>0.0</td>\n",
       "      <td>0.0</td>\n",
       "      <td>0.0</td>\n",
       "      <td>0.0</td>\n",
       "      <td>0.0</td>\n",
       "      <td>...</td>\n",
       "      <td>0.0</td>\n",
       "      <td>0.0</td>\n",
       "      <td>0.0</td>\n",
       "      <td>0.0</td>\n",
       "      <td>0.0</td>\n",
       "      <td>0.0</td>\n",
       "      <td>0.0</td>\n",
       "      <td>0.0</td>\n",
       "      <td>0.0</td>\n",
       "      <td>0.0</td>\n",
       "    </tr>\n",
       "    <tr>\n",
       "      <th>1</th>\n",
       "      <td>210137</td>\n",
       "      <td>0.0</td>\n",
       "      <td>23.0</td>\n",
       "      <td>1.0</td>\n",
       "      <td>0.0</td>\n",
       "      <td>0.0</td>\n",
       "      <td>0.0</td>\n",
       "      <td>0.0</td>\n",
       "      <td>0.0</td>\n",
       "      <td>0.0</td>\n",
       "      <td>...</td>\n",
       "      <td>0.0</td>\n",
       "      <td>0.0</td>\n",
       "      <td>0.0</td>\n",
       "      <td>0.0</td>\n",
       "      <td>0.0</td>\n",
       "      <td>0.0</td>\n",
       "      <td>0.0</td>\n",
       "      <td>0.0</td>\n",
       "      <td>0.0</td>\n",
       "      <td>0.0</td>\n",
       "    </tr>\n",
       "    <tr>\n",
       "      <th>2</th>\n",
       "      <td>213860</td>\n",
       "      <td>0.0</td>\n",
       "      <td>0.0</td>\n",
       "      <td>0.0</td>\n",
       "      <td>0.0</td>\n",
       "      <td>41.0</td>\n",
       "      <td>0.0</td>\n",
       "      <td>0.0</td>\n",
       "      <td>0.0</td>\n",
       "      <td>0.0</td>\n",
       "      <td>...</td>\n",
       "      <td>0.0</td>\n",
       "      <td>0.0</td>\n",
       "      <td>0.0</td>\n",
       "      <td>0.0</td>\n",
       "      <td>0.0</td>\n",
       "      <td>0.0</td>\n",
       "      <td>0.0</td>\n",
       "      <td>0.0</td>\n",
       "      <td>0.0</td>\n",
       "      <td>0.0</td>\n",
       "    </tr>\n",
       "    <tr>\n",
       "      <th>3</th>\n",
       "      <td>217919</td>\n",
       "      <td>1.0</td>\n",
       "      <td>0.0</td>\n",
       "      <td>0.0</td>\n",
       "      <td>0.0</td>\n",
       "      <td>0.0</td>\n",
       "      <td>0.0</td>\n",
       "      <td>0.0</td>\n",
       "      <td>0.0</td>\n",
       "      <td>0.0</td>\n",
       "      <td>...</td>\n",
       "      <td>0.0</td>\n",
       "      <td>0.0</td>\n",
       "      <td>0.0</td>\n",
       "      <td>0.0</td>\n",
       "      <td>0.0</td>\n",
       "      <td>0.0</td>\n",
       "      <td>0.0</td>\n",
       "      <td>0.0</td>\n",
       "      <td>0.0</td>\n",
       "      <td>0.0</td>\n",
       "    </tr>\n",
       "    <tr>\n",
       "      <th>4</th>\n",
       "      <td>218873</td>\n",
       "      <td>0.0</td>\n",
       "      <td>2.0</td>\n",
       "      <td>0.0</td>\n",
       "      <td>0.0</td>\n",
       "      <td>0.0</td>\n",
       "      <td>0.0</td>\n",
       "      <td>0.0</td>\n",
       "      <td>0.0</td>\n",
       "      <td>0.0</td>\n",
       "      <td>...</td>\n",
       "      <td>0.0</td>\n",
       "      <td>0.0</td>\n",
       "      <td>0.0</td>\n",
       "      <td>0.0</td>\n",
       "      <td>0.0</td>\n",
       "      <td>0.0</td>\n",
       "      <td>0.0</td>\n",
       "      <td>0.0</td>\n",
       "      <td>0.0</td>\n",
       "      <td>0.0</td>\n",
       "    </tr>\n",
       "  </tbody>\n",
       "</table>\n",
       "<p>5 rows × 84 columns</p>\n",
       "</div>"
      ],
      "text/plain": [
       "   TC_Last3M_customer_id_  TC_Last3M_count_ACFailure  TC_Last3M_count_Alarm  \\\n",
       "0                  174996                        0.0                    1.0   \n",
       "1                  210137                        0.0                   23.0   \n",
       "2                  213860                        0.0                    0.0   \n",
       "3                  217919                        1.0                    0.0   \n",
       "4                  218873                        0.0                    2.0   \n",
       "\n",
       "   TC_Last3M_count_BatteryAbsent  TC_Last3M_count_BellCircuit  \\\n",
       "0                            0.0                          0.0   \n",
       "1                            1.0                          0.0   \n",
       "2                            0.0                          0.0   \n",
       "3                            0.0                          0.0   \n",
       "4                            0.0                          0.0   \n",
       "\n",
       "   TC_Last3M_count_BroadbandCommFailure  \\\n",
       "0                                   0.0   \n",
       "1                                   0.0   \n",
       "2                                  41.0   \n",
       "3                                   0.0   \n",
       "4                                   0.0   \n",
       "\n",
       "   TC_Last3M_count_CameraNotCommunicating  TC_Last3M_count_CameraNotReachable  \\\n",
       "0                                     0.0                                 0.0   \n",
       "1                                     0.0                                 0.0   \n",
       "2                                     0.0                                 0.0   \n",
       "3                                     0.0                                 0.0   \n",
       "4                                     0.0                                 0.0   \n",
       "\n",
       "   TC_Last3M_count_CarbonMonoxideAlert  \\\n",
       "0                                  0.0   \n",
       "1                                  0.0   \n",
       "2                                  0.0   \n",
       "3                                  0.0   \n",
       "4                                  0.0   \n",
       "\n",
       "   TC_Last3M_count_CarbonMonoxideSensorTrouble  ...  \\\n",
       "0                                          0.0  ...   \n",
       "1                                          0.0  ...   \n",
       "2                                          0.0  ...   \n",
       "3                                          0.0  ...   \n",
       "4                                          0.0  ...   \n",
       "\n",
       "   TC_Last3M_count_SystemLocked  TC_Last3M_count_TamperEventsDisabled  \\\n",
       "0                           0.0                                   0.0   \n",
       "1                           0.0                                   0.0   \n",
       "2                           0.0                                   0.0   \n",
       "3                           0.0                                   0.0   \n",
       "4                           0.0                                   0.0   \n",
       "\n",
       "   TC_Last3M_count_ThermostatTooCold  TC_Last3M_count_ThermostatTooWarm  \\\n",
       "0                                0.0                                0.0   \n",
       "1                                0.0                                0.0   \n",
       "2                                0.0                                0.0   \n",
       "3                                0.0                                0.0   \n",
       "4                                0.0                                0.0   \n",
       "\n",
       "   TC_Last3M_count_UploadsOverQuota  \\\n",
       "0                               0.0   \n",
       "1                               0.0   \n",
       "2                               0.0   \n",
       "3                               0.0   \n",
       "4                               0.0   \n",
       "\n",
       "   TC_Last3M_count_VideoDeviceFirmwareOutdated  \\\n",
       "0                                          0.0   \n",
       "1                                          0.0   \n",
       "2                                          0.0   \n",
       "3                                          0.0   \n",
       "4                                          0.0   \n",
       "\n",
       "   TC_Last3M_count_VideoObjectDetectionRuleNotConfigured  \\\n",
       "0                                                0.0       \n",
       "1                                                0.0       \n",
       "2                                                0.0       \n",
       "3                                                0.0       \n",
       "4                                                0.0       \n",
       "\n",
       "   TC_Last3M_count_WaterAlert  TC_Last3M_count_ZWaveRadioTrouble  \\\n",
       "0                         0.0                                0.0   \n",
       "1                         0.0                                0.0   \n",
       "2                         0.0                                0.0   \n",
       "3                         0.0                                0.0   \n",
       "4                         0.0                                0.0   \n",
       "\n",
       "   TC_Last3M_count_ZoneDeviceMaskTrouble  \n",
       "0                                    0.0  \n",
       "1                                    0.0  \n",
       "2                                    0.0  \n",
       "3                                    0.0  \n",
       "4                                    0.0  \n",
       "\n",
       "[5 rows x 84 columns]"
      ]
     },
     "execution_count": 47,
     "metadata": {},
     "output_type": "execute_result"
    }
   ],
   "source": [
    "TC_pivot_table.head()"
   ]
  },
  {
   "cell_type": "code",
   "execution_count": 48,
   "id": "3d255842-a017-4fff-8bb8-322d5bbaf403",
   "metadata": {},
   "outputs": [],
   "source": [
    "TCG_Pivot=pd.pivot_table(TC_data, values=['count'], index=['customer_id'], columns='trouble_condition_group_desc',\n",
    "                          aggfunc={'count': np.sum})"
   ]
  },
  {
   "cell_type": "code",
   "execution_count": 49,
   "id": "b37e031a-c548-4682-a528-17aac5e3845c",
   "metadata": {},
   "outputs": [],
   "source": [
    "TCG_Pivot=TCG_Pivot.reset_index()\n",
    "TCG_Pivot.fillna(0,inplace=True)"
   ]
  },
  {
   "cell_type": "code",
   "execution_count": 50,
   "id": "a85a7570-718a-4a35-b38c-01f8f859bcf2",
   "metadata": {},
   "outputs": [
    {
     "data": {
      "text/html": [
       "<div>\n",
       "<style scoped>\n",
       "    .dataframe tbody tr th:only-of-type {\n",
       "        vertical-align: middle;\n",
       "    }\n",
       "\n",
       "    .dataframe tbody tr th {\n",
       "        vertical-align: top;\n",
       "    }\n",
       "\n",
       "    .dataframe thead tr th {\n",
       "        text-align: left;\n",
       "    }\n",
       "</style>\n",
       "<table border=\"1\" class=\"dataframe\">\n",
       "  <thead>\n",
       "    <tr>\n",
       "      <th></th>\n",
       "      <th>customer_id</th>\n",
       "      <th colspan=\"4\" halign=\"left\">count</th>\n",
       "    </tr>\n",
       "    <tr>\n",
       "      <th>trouble_condition_group_desc</th>\n",
       "      <th></th>\n",
       "      <th>Central Station Condition</th>\n",
       "      <th>Critical System Issue</th>\n",
       "      <th>Engagement Issue</th>\n",
       "      <th>System Condition</th>\n",
       "    </tr>\n",
       "  </thead>\n",
       "  <tbody>\n",
       "    <tr>\n",
       "      <th>0</th>\n",
       "      <td>174996</td>\n",
       "      <td>1.0</td>\n",
       "      <td>0.0</td>\n",
       "      <td>0.0</td>\n",
       "      <td>0.0</td>\n",
       "    </tr>\n",
       "    <tr>\n",
       "      <th>1</th>\n",
       "      <td>210137</td>\n",
       "      <td>26.0</td>\n",
       "      <td>3.0</td>\n",
       "      <td>0.0</td>\n",
       "      <td>0.0</td>\n",
       "    </tr>\n",
       "    <tr>\n",
       "      <th>2</th>\n",
       "      <td>213860</td>\n",
       "      <td>0.0</td>\n",
       "      <td>1.0</td>\n",
       "      <td>0.0</td>\n",
       "      <td>41.0</td>\n",
       "    </tr>\n",
       "    <tr>\n",
       "      <th>3</th>\n",
       "      <td>217919</td>\n",
       "      <td>0.0</td>\n",
       "      <td>1.0</td>\n",
       "      <td>0.0</td>\n",
       "      <td>0.0</td>\n",
       "    </tr>\n",
       "    <tr>\n",
       "      <th>4</th>\n",
       "      <td>218873</td>\n",
       "      <td>2.0</td>\n",
       "      <td>0.0</td>\n",
       "      <td>0.0</td>\n",
       "      <td>0.0</td>\n",
       "    </tr>\n",
       "  </tbody>\n",
       "</table>\n",
       "</div>"
      ],
      "text/plain": [
       "                             customer_id                     count  \\\n",
       "trouble_condition_group_desc             Central Station Condition   \n",
       "0                                 174996                       1.0   \n",
       "1                                 210137                      26.0   \n",
       "2                                 213860                       0.0   \n",
       "3                                 217919                       0.0   \n",
       "4                                 218873                       2.0   \n",
       "\n",
       "                                                                     \\\n",
       "trouble_condition_group_desc Critical System Issue Engagement Issue   \n",
       "0                                              0.0              0.0   \n",
       "1                                              3.0              0.0   \n",
       "2                                              1.0              0.0   \n",
       "3                                              1.0              0.0   \n",
       "4                                              0.0              0.0   \n",
       "\n",
       "                                               \n",
       "trouble_condition_group_desc System Condition  \n",
       "0                                         0.0  \n",
       "1                                         0.0  \n",
       "2                                        41.0  \n",
       "3                                         0.0  \n",
       "4                                         0.0  "
      ]
     },
     "execution_count": 50,
     "metadata": {},
     "output_type": "execute_result"
    }
   ],
   "source": [
    "TCG_Pivot.head()"
   ]
  },
  {
   "cell_type": "code",
   "execution_count": 51,
   "id": "f1fdb856-db80-492a-a43b-1eddbb75e2c9",
   "metadata": {},
   "outputs": [],
   "source": [
    "TCG_Pivot.columns=['TCG_Last3M_'+'_'.join(col).strip() for col in TCG_Pivot.columns.values]"
   ]
  },
  {
   "cell_type": "code",
   "execution_count": 52,
   "id": "06f206f0-6ced-4c0a-a38d-8862cc8fbd6b",
   "metadata": {},
   "outputs": [
    {
     "data": {
      "text/html": [
       "<div>\n",
       "<style scoped>\n",
       "    .dataframe tbody tr th:only-of-type {\n",
       "        vertical-align: middle;\n",
       "    }\n",
       "\n",
       "    .dataframe tbody tr th {\n",
       "        vertical-align: top;\n",
       "    }\n",
       "\n",
       "    .dataframe thead th {\n",
       "        text-align: right;\n",
       "    }\n",
       "</style>\n",
       "<table border=\"1\" class=\"dataframe\">\n",
       "  <thead>\n",
       "    <tr style=\"text-align: right;\">\n",
       "      <th></th>\n",
       "      <th>TCG_Last3M_customer_id_</th>\n",
       "      <th>TCG_Last3M_count_Central Station Condition</th>\n",
       "      <th>TCG_Last3M_count_Critical System Issue</th>\n",
       "      <th>TCG_Last3M_count_Engagement Issue</th>\n",
       "      <th>TCG_Last3M_count_System Condition</th>\n",
       "    </tr>\n",
       "  </thead>\n",
       "  <tbody>\n",
       "    <tr>\n",
       "      <th>0</th>\n",
       "      <td>174996</td>\n",
       "      <td>1.0</td>\n",
       "      <td>0.0</td>\n",
       "      <td>0.0</td>\n",
       "      <td>0.0</td>\n",
       "    </tr>\n",
       "    <tr>\n",
       "      <th>1</th>\n",
       "      <td>210137</td>\n",
       "      <td>26.0</td>\n",
       "      <td>3.0</td>\n",
       "      <td>0.0</td>\n",
       "      <td>0.0</td>\n",
       "    </tr>\n",
       "    <tr>\n",
       "      <th>2</th>\n",
       "      <td>213860</td>\n",
       "      <td>0.0</td>\n",
       "      <td>1.0</td>\n",
       "      <td>0.0</td>\n",
       "      <td>41.0</td>\n",
       "    </tr>\n",
       "    <tr>\n",
       "      <th>3</th>\n",
       "      <td>217919</td>\n",
       "      <td>0.0</td>\n",
       "      <td>1.0</td>\n",
       "      <td>0.0</td>\n",
       "      <td>0.0</td>\n",
       "    </tr>\n",
       "    <tr>\n",
       "      <th>4</th>\n",
       "      <td>218873</td>\n",
       "      <td>2.0</td>\n",
       "      <td>0.0</td>\n",
       "      <td>0.0</td>\n",
       "      <td>0.0</td>\n",
       "    </tr>\n",
       "  </tbody>\n",
       "</table>\n",
       "</div>"
      ],
      "text/plain": [
       "   TCG_Last3M_customer_id_  TCG_Last3M_count_Central Station Condition  \\\n",
       "0                   174996                                         1.0   \n",
       "1                   210137                                        26.0   \n",
       "2                   213860                                         0.0   \n",
       "3                   217919                                         0.0   \n",
       "4                   218873                                         2.0   \n",
       "\n",
       "   TCG_Last3M_count_Critical System Issue  TCG_Last3M_count_Engagement Issue  \\\n",
       "0                                     0.0                                0.0   \n",
       "1                                     3.0                                0.0   \n",
       "2                                     1.0                                0.0   \n",
       "3                                     1.0                                0.0   \n",
       "4                                     0.0                                0.0   \n",
       "\n",
       "   TCG_Last3M_count_System Condition  \n",
       "0                                0.0  \n",
       "1                                0.0  \n",
       "2                               41.0  \n",
       "3                                0.0  \n",
       "4                                0.0  "
      ]
     },
     "execution_count": 52,
     "metadata": {},
     "output_type": "execute_result"
    }
   ],
   "source": [
    "TCG_Pivot.head()"
   ]
  },
  {
   "cell_type": "code",
   "execution_count": 53,
   "id": "745d6fa6-76b5-482f-8edc-e622c66eb6d1",
   "metadata": {},
   "outputs": [],
   "source": [
    "# TC_pivot_table['TC_BroadbandCommFailure_Flag']=TC_pivot_table['TC_BroadbandCommFailure_count'].apply(lambda x: 1 if x>0 else 0)\n",
    "# TC_pivot_table['TC_CameraNotCommunicating_Flag']=TC_pivot_table['TC_CameraNotCommunicating_count'].apply(lambda x: 1 if x>0 else 0)\n",
    "# TC_pivot_table['TC_CameraNotReachable_Flag']=TC_pivot_table['TC_CameraNotReachable_count'].apply(lambda x: 1 if x>0 else 0)"
   ]
  },
  {
   "cell_type": "code",
   "execution_count": 54,
   "id": "1b225725-8471-4e7a-873c-33887406b59a",
   "metadata": {},
   "outputs": [],
   "source": [
    "# Customer_info.fillna(0,inplace=True)"
   ]
  },
  {
   "cell_type": "code",
   "execution_count": 55,
   "id": "168873d9-e7cd-4a13-937c-0fde568a2194",
   "metadata": {},
   "outputs": [],
   "source": [
    "Merge_DF=Customer_info.merge(Best_Practices_DF_wide,on='customer_id',how='left')"
   ]
  },
  {
   "cell_type": "code",
   "execution_count": 56,
   "id": "630ef77c-88fa-4d2f-b7f4-7a64721d2ec7",
   "metadata": {},
   "outputs": [],
   "source": [
    "# Merge_DF.isna().sum()*100/Merge_DF.shape[0]"
   ]
  },
  {
   "cell_type": "code",
   "execution_count": 57,
   "id": "9e0334e1-d9e7-4d3b-91e4-dcc38ca47aeb",
   "metadata": {},
   "outputs": [],
   "source": [
    "Merge_DF_1=Merge_DF.merge(Arming_DF,on='customer_id',how='left')"
   ]
  },
  {
   "cell_type": "code",
   "execution_count": 58,
   "id": "175cd163-f0aa-46bd-8db6-049b245bd019",
   "metadata": {},
   "outputs": [],
   "source": [
    "# Merge_DF_1.isna().sum()*100/Merge_DF_1.shape[0]"
   ]
  },
  {
   "cell_type": "code",
   "execution_count": 59,
   "id": "49e8f3c4-0833-4c82-8aaf-cb0359e6c0f2",
   "metadata": {},
   "outputs": [],
   "source": [
    "Merge_DF_2=Merge_DF_1.merge(Login_DF,on='customer_id',how='left')"
   ]
  },
  {
   "cell_type": "code",
   "execution_count": 60,
   "id": "552c9ded-40f8-4c67-b8c0-dfab6c9ffd06",
   "metadata": {},
   "outputs": [],
   "source": [
    "Merge_DF_3=Merge_DF_2.merge(TC_pivot_table,left_on='customer_id',right_on='TC_Last3M_customer_id_',how='left')"
   ]
  },
  {
   "cell_type": "code",
   "execution_count": 61,
   "id": "d18be8c1-8a85-40c7-aa80-3e30cffad77e",
   "metadata": {},
   "outputs": [],
   "source": [
    "Merge_DF_4=Merge_DF_3.merge(TCG_Pivot,left_on='customer_id',right_on='TCG_Last3M_customer_id_',how='left')"
   ]
  },
  {
   "cell_type": "code",
   "execution_count": 62,
   "id": "ddd4400e-9890-47fd-8e1e-ccb021553ea4",
   "metadata": {},
   "outputs": [],
   "source": [
    "del Merge_DF_1,Merge_DF_2,Merge_DF_3"
   ]
  },
  {
   "cell_type": "code",
   "execution_count": 63,
   "id": "6cd108cf-f5e5-4407-afe8-990340c37fb5",
   "metadata": {},
   "outputs": [],
   "source": [
    "# Merge_DF_4.isna().sum()*100/Merge_DF_4.shape[0]"
   ]
  },
  {
   "cell_type": "code",
   "execution_count": 64,
   "id": "951031c1-d5e9-46cd-aa9f-e686ca90a9e8",
   "metadata": {},
   "outputs": [],
   "source": [
    "Merge_DF_4=Merge_DF_4.replace(np.nan, 0)"
   ]
  },
  {
   "cell_type": "code",
   "execution_count": 65,
   "id": "5cedc687-6788-4946-a231-72edc2b72f2d",
   "metadata": {},
   "outputs": [],
   "source": [
    "# Merge_DF_4.isna().sum()*100/Merge_DF_4.shape[0]"
   ]
  },
  {
   "cell_type": "code",
   "execution_count": 66,
   "id": "c78fc743-1936-4725-89fd-de2ed4423fc4",
   "metadata": {},
   "outputs": [],
   "source": [
    "Merge_DF_4 = Merge_DF_4.drop(['customer_id_1','TC_Last3M_customer_id_','TCG_Last3M_customer_id_'], axis=1)"
   ]
  },
  {
   "cell_type": "code",
   "execution_count": 67,
   "id": "71ed211b-526e-410d-a6f7-88e017dc2971",
   "metadata": {},
   "outputs": [
    {
     "data": {
      "text/plain": [
       "TELUS Communications Inc.    61.921676\n",
       "ADT by TELUS                 38.078324\n",
       "Name: dealer_name, dtype: float64"
      ]
     },
     "execution_count": 67,
     "metadata": {},
     "output_type": "execute_result"
    }
   ],
   "source": [
    "Merge_DF_4['dealer_name'].value_counts(normalize=True)*100"
   ]
  },
  {
   "cell_type": "code",
   "execution_count": 68,
   "id": "f49a26e2-76a6-4f91-97bb-f7783cf1129a",
   "metadata": {},
   "outputs": [
    {
     "data": {
      "text/plain": [
       "Telus_Customer    62.001713\n",
       "ADT_Customer      37.998287\n",
       "Name: Dealer_type_flag, dtype: float64"
      ]
     },
     "execution_count": 68,
     "metadata": {},
     "output_type": "execute_result"
    }
   ],
   "source": [
    "Merge_DF_4['Dealer_type_flag'].value_counts(normalize=True)*100"
   ]
  },
  {
   "cell_type": "code",
   "execution_count": 69,
   "id": "f5021c98-99f1-4e2b-b821-c805d9a53eee",
   "metadata": {},
   "outputs": [
    {
     "data": {
      "text/html": [
       "<div>\n",
       "<style scoped>\n",
       "    .dataframe tbody tr th:only-of-type {\n",
       "        vertical-align: middle;\n",
       "    }\n",
       "\n",
       "    .dataframe tbody tr th {\n",
       "        vertical-align: top;\n",
       "    }\n",
       "\n",
       "    .dataframe thead th {\n",
       "        text-align: right;\n",
       "    }\n",
       "</style>\n",
       "<table border=\"1\" class=\"dataframe\">\n",
       "  <thead>\n",
       "    <tr style=\"text-align: right;\">\n",
       "      <th></th>\n",
       "      <th>dealer_name</th>\n",
       "      <th>Dealer_type_flag</th>\n",
       "      <th>Customer_count</th>\n",
       "    </tr>\n",
       "  </thead>\n",
       "  <tbody>\n",
       "    <tr>\n",
       "      <th>0</th>\n",
       "      <td>ADT by TELUS</td>\n",
       "      <td>ADT_Customer</td>\n",
       "      <td>202678</td>\n",
       "    </tr>\n",
       "    <tr>\n",
       "      <th>1</th>\n",
       "      <td>ADT by TELUS</td>\n",
       "      <td>Telus_Customer</td>\n",
       "      <td>471</td>\n",
       "    </tr>\n",
       "    <tr>\n",
       "      <th>2</th>\n",
       "      <td>TELUS Communications Inc.</td>\n",
       "      <td>ADT_Customer</td>\n",
       "      <td>44</td>\n",
       "    </tr>\n",
       "    <tr>\n",
       "      <th>3</th>\n",
       "      <td>TELUS Communications Inc.</td>\n",
       "      <td>Telus_Customer</td>\n",
       "      <td>330310</td>\n",
       "    </tr>\n",
       "  </tbody>\n",
       "</table>\n",
       "</div>"
      ],
      "text/plain": [
       "                 dealer_name Dealer_type_flag  Customer_count\n",
       "0               ADT by TELUS     ADT_Customer          202678\n",
       "1               ADT by TELUS   Telus_Customer             471\n",
       "2  TELUS Communications Inc.     ADT_Customer              44\n",
       "3  TELUS Communications Inc.   Telus_Customer          330310"
      ]
     },
     "execution_count": 69,
     "metadata": {},
     "output_type": "execute_result"
    }
   ],
   "source": [
    "pd.DataFrame(Merge_DF_4.groupby(['dealer_name','Dealer_type_flag']).agg(\n",
    "    \n",
    "    Customer_count= ('Dealer_type_flag','count'),\n",
    "    # Churn_total=('Churn_flag',lambda x: x.sum()),\n",
    "    # Churn_rate=('Churn_flag',lambda x: x.mean()*100)\n",
    ").reset_index())"
   ]
  },
  {
   "cell_type": "code",
   "execution_count": 70,
   "id": "677d64ea-ef0b-4df0-b86c-5e7ec92c2592",
   "metadata": {},
   "outputs": [
    {
     "name": "stderr",
     "output_type": "stream",
     "text": [
      "/tmp/ipykernel_20229/4047618775.py:3: FutureWarning: The default value of regex will change from True to False in a future version.\n",
      "  Merge_DF_4.columns = Merge_DF_4.columns.str.replace(rep_chars, '_')\n"
     ]
    }
   ],
   "source": [
    "rep_chars = ' |\\|-|:|/'\n",
    "\n",
    "Merge_DF_4.columns = Merge_DF_4.columns.str.replace(rep_chars, '_')"
   ]
  },
  {
   "cell_type": "code",
   "execution_count": 71,
   "id": "558f2a27-7e99-4151-be6d-ead4dbf484ab",
   "metadata": {},
   "outputs": [],
   "source": [
    "# Merge_DF_4.info(verbose=True)"
   ]
  },
  {
   "cell_type": "code",
   "execution_count": 72,
   "id": "3bb0d041-e96b-4ce8-bed0-86e1cac04a0f",
   "metadata": {},
   "outputs": [],
   "source": [
    "def Segment_making(row\n",
    "                   ,min_login_consistency_threshold=50\n",
    "                   ,min_arming_consistency_threshold=50\n",
    "                   ,max_login_consistency_threshold=50\n",
    "                   ,max_arming_consistency_threshold=50):\n",
    "    \n",
    "    if row['Best_Practice_All']>=5 and row['Login_Consistency']>=max_login_consistency_threshold  and row['Arming_Consistency']>=max_arming_consistency_threshold:\n",
    "        return 'Heavy_User'\n",
    "    elif row['Login_Consistency']>=max_login_consistency_threshold  and row['Arming_Consistency']< min_arming_consistency_threshold:\n",
    "        return 'Home_automation_Savvy'\n",
    "    elif row['Login_Consistency']< min_login_consistency_threshold  and row['Arming_Consistency']>=max_login_consistency_threshold:\n",
    "        return 'Old_Fashion'\n",
    "    elif row['Login_Consistency']==0  and row['Arming_Consistency']==0:\n",
    "        return 'Disengaged'\n",
    "    else:\n",
    "        return \"Moderate_Users\""
   ]
  },
  {
   "cell_type": "code",
   "execution_count": 73,
   "id": "1ce87589-c654-4ae0-bbd7-efca79a13d9f",
   "metadata": {},
   "outputs": [],
   "source": [
    "Merge_DF_4['Segment']=Merge_DF_4.apply(Segment_making,axis=1)"
   ]
  },
  {
   "cell_type": "code",
   "execution_count": 74,
   "id": "3871143e-b99f-493f-9dc8-b4031019ffb7",
   "metadata": {},
   "outputs": [
    {
     "data": {
      "text/plain": [
       "Moderate_Users           187511\n",
       "Home_automation_Savvy    128906\n",
       "Disengaged               109639\n",
       "Old_Fashion               61041\n",
       "Heavy_User                46406\n",
       "Name: Segment, dtype: int64"
      ]
     },
     "execution_count": 74,
     "metadata": {},
     "output_type": "execute_result"
    }
   ],
   "source": [
    "Merge_DF_4['Segment'].value_counts()"
   ]
  },
  {
   "cell_type": "code",
   "execution_count": 75,
   "id": "196bd9ff-31c3-41ab-84f8-b19e54d77f3b",
   "metadata": {},
   "outputs": [
    {
     "data": {
      "text/plain": [
       "Moderate_Users           35.147131\n",
       "Home_automation_Savvy    24.162188\n",
       "Disengaged               20.550775\n",
       "Old_Fashion              11.441548\n",
       "Heavy_User                8.698358\n",
       "Name: Segment, dtype: float64"
      ]
     },
     "execution_count": 75,
     "metadata": {},
     "output_type": "execute_result"
    }
   ],
   "source": [
    "Merge_DF_4['Segment'].value_counts(normalize=True)*100"
   ]
  },
  {
   "cell_type": "code",
   "execution_count": 76,
   "id": "2ba8bed7-ee9b-4b15-9840-1e3722a0b4e8",
   "metadata": {},
   "outputs": [],
   "source": [
    "# Merge_DF_4.to_csv('ADC_Master_Data_Sep2022.csv',index=False)"
   ]
  },
  {
   "cell_type": "code",
   "execution_count": 77,
   "id": "de647df3-51cf-43d1-9b27-689e15d78c5c",
   "metadata": {},
   "outputs": [
    {
     "data": {
      "text/plain": [
       "TELUS Communications Inc.    330354\n",
       "ADT by TELUS                 203149\n",
       "Name: dealer_name, dtype: int64"
      ]
     },
     "execution_count": 77,
     "metadata": {},
     "output_type": "execute_result"
    }
   ],
   "source": [
    "Merge_DF_4['dealer_name'].value_counts()"
   ]
  },
  {
   "cell_type": "code",
   "execution_count": null,
   "id": "5e3b0a22-d6e6-4cb6-a03d-335326b82c2e",
   "metadata": {},
   "outputs": [],
   "source": []
  },
  {
   "cell_type": "code",
   "execution_count": 78,
   "id": "d66e1d5f-31ec-4e7a-b76b-00cfa6dd8ca9",
   "metadata": {},
   "outputs": [],
   "source": [
    "# Merge_DF_4['dealer_name'=='ADT by TELUS'].to_csv('ADC_Master_Data_Sep2022_ADT.csv',index=False)"
   ]
  },
  {
   "cell_type": "code",
   "execution_count": 79,
   "id": "5a127d15-7f9c-4a2b-b051-a04c50be9271",
   "metadata": {},
   "outputs": [],
   "source": [
    "# config= bigquery.job.LoadJobConfig()\n",
    "\n",
    "# # config._properties['timePartitioning'] = {'field': 'Month_Year'}\n",
    "# config.write_disposition = bigquery.WriteDisposition.WRITE_TRUNCATE\n",
    "\n",
    "# Table_BQ = 'ADC_Feature_Datastore.ADC_Master_Data'\n",
    "\n",
    "# bq_table_instance= bq_client.load_table_from_dataframe(Merge_DF_4, Table_BQ,job_config=config)"
   ]
  },
  {
   "cell_type": "code",
   "execution_count": 80,
   "id": "4d3ad8ea-64c1-46f1-8a36-91e8041041e5",
   "metadata": {},
   "outputs": [],
   "source": [
    "# Merge_DF_4.drop(['TC_Last3M_count_CredentialsInConflict'],inplace=True,axis=1)"
   ]
  },
  {
   "cell_type": "code",
   "execution_count": 81,
   "id": "02309b22-5dd0-41e1-a9cb-56db3bcf95c7",
   "metadata": {},
   "outputs": [],
   "source": [
    "config= bigquery.job.LoadJobConfig()\n",
    "\n",
    "# config._properties['timePartitioning'] = {'field': 'Month_Year'}\n",
    "\n",
    "# config.write_disposition = bigquery.WriteDisposition.WRITE_APPEND\n",
    "\n",
    "config.write_disposition = bigquery.WriteDisposition.WRITE_TRUNCATE\n",
    "\n",
    "\n",
    "Table_BQ = 'ADC_Feature_Datastore.ADC_Master_Data'\n",
    "\n",
    "bq_table_instance= bq_client.load_table_from_dataframe(Merge_DF_4, Table_BQ,job_config=config)"
   ]
  },
  {
   "cell_type": "code",
   "execution_count": 82,
   "id": "0ebddaef-6fba-42f1-9ffe-457b0fbf49b8",
   "metadata": {},
   "outputs": [],
   "source": [
    "# ADC_Master_Query= '''\n",
    "\n",
    "\n",
    "# select * from `divgpras-pr-579355.ADC_Feature_Datastore.ADC_Master_Data`\n",
    "# where Month_Snapshot!='2022-09-30'\n",
    "\n",
    "\n",
    "# '''"
   ]
  },
  {
   "cell_type": "code",
   "execution_count": 83,
   "id": "c047a674-2bc7-4e63-bf93-f03bedc5aee4",
   "metadata": {},
   "outputs": [],
   "source": [
    "# ADC_Master_DF=extract_bq_data(bq_client, sql=ADC_Master_Query)"
   ]
  },
  {
   "cell_type": "code",
   "execution_count": 84,
   "id": "04b261f8-a8b8-4f64-956a-df26ccc0755e",
   "metadata": {},
   "outputs": [],
   "source": [
    "# ADC_Master_DF.info()"
   ]
  },
  {
   "cell_type": "code",
   "execution_count": 85,
   "id": "797e5ae9-8688-40c1-8b52-fb07e0a811cb",
   "metadata": {},
   "outputs": [],
   "source": [
    "# ADC_Master_DF['Month_Snapshot'].value_counts()"
   ]
  },
  {
   "cell_type": "code",
   "execution_count": 86,
   "id": "c064cab3-ccbd-4b2e-9d16-89a6af9437fc",
   "metadata": {},
   "outputs": [],
   "source": [
    "# config= bigquery.job.LoadJobConfig()\n",
    "\n",
    "# # config._properties['timePartitioning'] = {'field': 'Month_Year'}\n",
    "# config.write_disposition = bigquery.WriteDisposition.WRITE_TRUNCATE\n",
    "\n",
    "# Table_BQ = 'ADC_Feature_Datastore.ADC_Master_Data'\n",
    "\n",
    "# bq_table_instance= bq_client.load_table_from_dataframe(ADC_Master_DF, Table_BQ,job_config=config)"
   ]
  },
  {
   "cell_type": "code",
   "execution_count": null,
   "id": "96608788-59bd-4dc2-a853-0837e93310c9",
   "metadata": {},
   "outputs": [],
   "source": []
  }
 ],
 "metadata": {
  "kernelspec": {
   "display_name": "Python 3 (ipykernel)",
   "language": "python",
   "name": "python3"
  },
  "language_info": {
   "codemirror_mode": {
    "name": "ipython",
    "version": 3
   },
   "file_extension": ".py",
   "mimetype": "text/x-python",
   "name": "python",
   "nbconvert_exporter": "python",
   "pygments_lexer": "ipython3",
   "version": "3.8.12"
  }
 },
 "nbformat": 4,
 "nbformat_minor": 5
}
