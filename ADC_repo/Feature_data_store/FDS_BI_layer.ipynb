{
 "cells": [
  {
   "cell_type": "code",
   "execution_count": null,
   "id": "2cdae274-86a8-4372-af7a-9cdaac60aa10",
   "metadata": {},
   "outputs": [],
   "source": [
    "#### import global modules\n",
    "import os\n",
    "import sys\n",
    "import pandas as pd\n",
    "import numpy as np\n",
    "from pathlib import Path\n",
    "from yaml import safe_load\n",
    "import google.oauth2.credentials\n",
    "from google.cloud import bigquery\n",
    "import gc\n",
    "\n",
    "# Set global vars\n",
    "pth_project = Path(os.getcwd().split('notebooks')[0])\n",
    "pth_data = pth_project / 'data'\n",
    "pth_queries = pth_project / 'core' / 'queries'\n",
    "pth_creds = pth_project / 'conf' / 'local' / 'project_config.yaml'\n",
    "sys.path.insert(0, str(pth_project))\n",
    "d_project_config = safe_load(pth_creds.open())\n",
    "# d_params = safe_load((pth_project / 'core' / 'parameters' / 'common.yaml').open())['data_extract']\n",
    "\n",
    "# import local modules\n",
    "from core.utils.gcp import connect_bq_services\n",
    "# from core.etl.extract import extract_bq_data, extract_pr_codes, format_conv_df, filter_convs\n",
    "\n",
    "# Connect to google services\n",
    "bq_client = connect_bq_services(d_project_config['gcp-project-name'])\n",
    "pd.options.display.max_rows = 100"
   ]
  },
  {
   "cell_type": "code",
   "execution_count": null,
   "id": "0d5c8c69-d592-4348-b571-e87e229436e9",
   "metadata": {},
   "outputs": [],
   "source": [
    "def extract_bq_data(bq_client, sql=None, pth_query=None):\n",
    "    if sql is not None:\n",
    "        df = bq_client.query(sql).to_dataframe()\n",
    "    elif pth_query is not None:\n",
    "        sql = pth_query.read_text()\n",
    "        df = bq_client.query(sql).to_dataframe()\n",
    "    else:\n",
    "        raise ValueError('`sql` or `pth_query` should be set')  \n",
    "    return df"
   ]
  },
  {
   "cell_type": "code",
   "execution_count": null,
   "id": "9b736d10-536d-4c05-90e0-307ef3d809fa",
   "metadata": {},
   "outputs": [],
   "source": [
    "Customer_details='''\n",
    "\n",
    "--DECLARE _end_dt_snpsht_tmp DATE DEFAULT CURRENT_DATE();\n",
    "DECLARE _end_dt_snpsht_tmp DATE DEFAULT '2023-02-04';\n",
    "\n",
    "WITH date_sql as (\n",
    "\n",
    "SELECT \n",
    "\n",
    "last_day(date_sub(_end_dt_snpsht_tmp, interval 1 month), month) as last_date_prev_month\n",
    ",date_trunc(date_sub(_end_dt_snpsht_tmp, interval 1 month), month) as first_date_prev_month\n",
    "\n",
    ")\n",
    "\n",
    "\n",
    "\n",
    ", ADC_Customer_Base as (\n",
    "\n",
    "SELECT date((select first_date_prev_month from date_sql)) as Month_Snapshot,customer_id,dealer_customer_id,primary_login_id,dealer_name,join_date,account_type_name,customer_type_name,primary_email,primary_phone,last_updt_ts\n",
    "FROM `cio-datahub-enterprise-pr-183a.src_adc.bq_customer_account_details` \n",
    "where date(last_updt_ts) =(select last_date_prev_month from date_sql)\n",
    "and  dealer_name in ('TELUS Communications Inc.','ADT by TELUS')\n",
    "QUALIFY ROW_NUMBER() OVER (PARTITION BY customer_id ORDER BY last_updt_ts DESC) = 1\n",
    "order by dealer_name,join_date,customer_id\n",
    "\n",
    "\n",
    "\n",
    ")\n",
    "\n",
    "\n",
    ", ADT_Customer_Base as (\n",
    "\n",
    "SELECT customer_id,'ADT_Customer' as Dealer_type_flag,NULL  as BAN,site_no as ADT_site_no \n",
    "FROM `divgpras-pr-579355.ADC_updated.ADC_ADT_mapping` \n",
    "\n",
    ")\n",
    "\n",
    "\n",
    "/*\n",
    ",Telus_customers as\n",
    "(\n",
    "select bacct_bus_bacct_num as BAN,cust_bus_cust_id,pi_prod_instnc_typ_cd,pi_prod_instnc_stat_ts,prod_instnc_ts,pi_cntrct_start_ts as contract_start_date,pi_cntrct_end_ts as contract_end_date\n",
    "from `cio-datahub-enterprise-pr-183a.ent_cust_cust.bq_prod_instnc_snpsht` \n",
    "WHERE DATE(prod_instnc_ts) = (select last_date_prev_month from date_sql) #Snapshot of the last day of the month\n",
    "and pi_prod_instnc_typ_cd ='SMHM' #Serice type\n",
    "and bus_prod_instnc_src_id = 1001 #BANs that are for home services\n",
    "and pi_prod_instnc_stat_cd in ('A')\n",
    "and  consldt_cust_typ_cd = 'R'\n",
    "order by cust_bus_cust_id\n",
    "\n",
    ")\n",
    "\n",
    "*/\n",
    "\n",
    ",Telus_customers as\n",
    "(\n",
    "select bacct_bus_bacct_num,bacct_billg_acct_id,cust_bus_cust_id\n",
    "--,pi_prod_instnc_typ_cd,pi_prod_instnc_stat_ts,prod_instnc_ts,pi_cntrct_start_ts as contract_start_date\n",
    "--,pi_cntrct_end_ts as contract_end_date\n",
    "from `cio-datahub-enterprise-pr-183a.ent_cust_cust.bq_prod_instnc_snpsht` \n",
    "WHERE DATE(prod_instnc_ts) = (select last_date_prev_month from date_sql) #Snapshot of the last day of the month\n",
    "and pi_prod_instnc_typ_cd ='SMHM' #Serice type\n",
    "and bus_prod_instnc_src_id = 1001 #BANs that are for home services\n",
    "and pi_prod_instnc_stat_cd in ('A')\n",
    "and  consldt_cust_typ_cd = 'R'\n",
    "--QUALIFY ROW_NUMBER() OVER (PARTITION BY bacct_bus_bacct_num ORDER BY pi_prod_instnc_stat_ts DESC) = 1\n",
    "order by cust_bus_cust_id\n",
    "\n",
    ")\n",
    "\n",
    "\n",
    "\n",
    " ,Telus_Customer_Base as (\n",
    "\n",
    "SELECT a.customer_id,'Telus_Customer' as Dealer_type_flag,b.bacct_bus_bacct_num as BAN, NULL as ADT_site_no\n",
    "FROM ADC_Customer_Base a\n",
    "inner join Telus_customers b\n",
    "on a.dealer_customer_id=b.cust_bus_cust_id\n",
    ")\n",
    "\n",
    "\n",
    "\n",
    ", Union_data as (\n",
    "\n",
    "SELECT * from Telus_Customer_Base\n",
    "UNION ALL\n",
    "SELECT * from ADT_Customer_Base\n",
    "\n",
    ")\n",
    "\n",
    ",Merge_data as (\n",
    "\n",
    "SELECT * from ADC_Customer_Base a\n",
    "INNER JOIN Union_data b\n",
    "\n",
    "on a.customer_id=b.customer_id\n",
    "order by Dealer_type_flag\n",
    ")\n",
    "\n",
    "\n",
    "/*\n",
    " ,Merge_data as (\n",
    "\n",
    "SELECT *\n",
    "FROM ADC_Customer_Base a\n",
    "left join Telus_customers b\n",
    "on a.dealer_customer_id=b.cust_bus_cust_id\n",
    "\n",
    ")\n",
    "*/\n",
    "\n",
    "\n",
    "\n",
    "select * from Merge_data\n",
    "\n",
    "\n",
    "\n",
    "'''"
   ]
  },
  {
   "cell_type": "code",
   "execution_count": null,
   "id": "1041b19c-721a-4775-83cd-4c28cf1f87a7",
   "metadata": {},
   "outputs": [],
   "source": [
    "Customer_info=extract_bq_data(bq_client, sql=Customer_details)"
   ]
  },
  {
   "cell_type": "code",
   "execution_count": null,
   "id": "463bfb51-c046-44d2-bb8b-a1363c316828",
   "metadata": {},
   "outputs": [],
   "source": [
    "Customer_info.info()"
   ]
  },
  {
   "cell_type": "code",
   "execution_count": null,
   "id": "c24a5de8-198d-4594-9fd5-3f5605c4732b",
   "metadata": {},
   "outputs": [],
   "source": [
    "Customer_info.head()"
   ]
  },
  {
   "cell_type": "code",
   "execution_count": null,
   "id": "506b3a79-85dc-46cc-9424-a0514f66fb7e",
   "metadata": {},
   "outputs": [],
   "source": [
    "Best_practices_details_Query='''\n",
    "\n",
    "--DECLARE _end_dt_snpsht_tmp DATE DEFAULT CURRENT_DATE();\n",
    "DECLARE _end_dt_snpsht_tmp DATE DEFAULT '2023-02-04';\n",
    "\n",
    "WITH date_sql as (\n",
    "\n",
    "SELECT \n",
    "\n",
    "last_day(date_sub(_end_dt_snpsht_tmp, interval 1 month), month) as last_date_prev_month\n",
    ",date_trunc(date_sub(_end_dt_snpsht_tmp, interval 1 month), month) as first_date_prev_month\n",
    "\n",
    ")\n",
    "\n",
    "select customer_id,best_practices_id,best_practices_ind,date(dt_last_calculate_utc) as last_date_calculate\n",
    "from `cio-datahub-enterprise-pr-183a.src_adc.bq_customer_best_practice`\n",
    "where DATE(dt_last_calculate_utc) < (select last_date_prev_month from date_sql)\n",
    "QUALIFY ROW_NUMBER() OVER (PARTITION BY customer_id,best_practices_id ORDER BY last_updt_ts DESC) = 1\n",
    "order by last_date_calculate\n",
    "\n",
    "\n",
    "'''"
   ]
  },
  {
   "cell_type": "code",
   "execution_count": null,
   "id": "85608a26-a331-44c9-abab-d1ab4d17dfad",
   "metadata": {},
   "outputs": [],
   "source": [
    "Best_Practices_DF= extract_bq_data(bq_client,sql=Best_practices_details_Query)"
   ]
  },
  {
   "cell_type": "code",
   "execution_count": null,
   "id": "0837f269-9bd0-4b22-9354-756b47a739d4",
   "metadata": {},
   "outputs": [],
   "source": [
    "Best_Practices_DF.info()"
   ]
  },
  {
   "cell_type": "code",
   "execution_count": null,
   "id": "78f0bb6a-5611-44ec-b507-682c564c5cd6",
   "metadata": {},
   "outputs": [],
   "source": [
    "Best_Practices_DF.head()"
   ]
  },
  {
   "cell_type": "code",
   "execution_count": null,
   "id": "a721a62d-4c3e-4638-bba8-bbd0c75c42a6",
   "metadata": {},
   "outputs": [],
   "source": [
    "Best_Practices_DF['last_date_calculate'].max()"
   ]
  },
  {
   "cell_type": "code",
   "execution_count": null,
   "id": "a5ff7a57-bc68-453f-a406-2c8a272abc4f",
   "metadata": {},
   "outputs": [],
   "source": [
    "Best_Practices_DF['Best_practices_flag']=Best_Practices_DF['best_practices_ind'].apply(lambda x: 1 if x==True else 0)\n",
    "Best_Practices_DF_wide=Best_Practices_DF.pivot(index='customer_id', columns='best_practices_id', values='Best_practices_flag').reset_index()\n",
    "Best_Practices_DF_wide.columns=['customer_id','Best_partices_1','Best_partices_2','Best_partices_3','Best_partices_4','Best_partices_5','Best_partices_6']\n",
    "cols_to_sum=['Best_partices_1','Best_partices_2','Best_partices_3','Best_partices_4','Best_partices_5','Best_partices_6']\n",
    "Best_Practices_DF_wide['Best_Practice_All']=Best_Practices_DF_wide[cols_to_sum].sum(axis=1)\n",
    "Best_Practices_DF_wide['Best_Practice_All_flag']=Best_Practices_DF_wide['Best_Practice_All'].apply(lambda x: 1 if x==6 else 0)"
   ]
  },
  {
   "cell_type": "code",
   "execution_count": null,
   "id": "89331998-41d3-4fb0-80ff-388e430c9fd5",
   "metadata": {},
   "outputs": [],
   "source": [
    "Best_Practices_DF_wide.head()"
   ]
  },
  {
   "cell_type": "code",
   "execution_count": null,
   "id": "aa0c6230-5e9a-45aa-b7b0-08ed5244adbf",
   "metadata": {},
   "outputs": [],
   "source": [
    "Arming_Query=  '''\n",
    "\n",
    "--DECLARE _end_dt_snpsht_tmp DATE DEFAULT CURRENT_DATE();\n",
    "DECLARE _end_dt_snpsht_tmp DATE DEFAULT '2023-02-04';\n",
    "\n",
    "WITH date_sql as (\n",
    "\n",
    "SELECT \n",
    "\n",
    "last_day(date_sub(_end_dt_snpsht_tmp, interval 1 month), month) as last_date_prev_month\n",
    ",date_trunc(date_sub(_end_dt_snpsht_tmp, interval 1 month), month) as first_date_prev_month\n",
    "\n",
    ")\n",
    "\n",
    "\n",
    ", date_sql_arming as (\n",
    "select  count(distinct date(date)) as count_of_dates from `cio-datahub-enterprise-pr-183a.src_adc.bq_aggregate_daily_arming_commands`\n",
    "where date(date)< (select last_date_prev_month from date_sql)\n",
    "and date(date)>= (select first_date_prev_month from date_sql)\n",
    "\n",
    ")\n",
    "\n",
    "select id_cust as customer_id,sum(count_arm_commands) as sum_arm_commands,sum(count_disarm_commands) as sum_disarm_commands,count (distinct date(date)) as number_days_arming_disarming, (select count_of_dates from date_sql_arming ) as count_of_dates_arming\n",
    "from `cio-datahub-enterprise-pr-183a.src_adc.bq_aggregate_daily_arming_commands`\n",
    "where date(date)< (select last_date_prev_month from date_sql)\n",
    "and date(date)>= (select first_date_prev_month from date_sql)\n",
    "group by customer_id\n",
    "order by number_days_arming_disarming desc\n",
    "\n",
    "'''"
   ]
  },
  {
   "cell_type": "code",
   "execution_count": null,
   "id": "3f6243ff-3a5d-440b-bde7-0b8b69294659",
   "metadata": {},
   "outputs": [],
   "source": [
    "Arming_DF=extract_bq_data(bq_client, sql=Arming_Query)"
   ]
  },
  {
   "cell_type": "code",
   "execution_count": null,
   "id": "77c797a4-1154-4467-acb5-d096ec49b10e",
   "metadata": {},
   "outputs": [],
   "source": [
    "Arming_DF.info()"
   ]
  },
  {
   "cell_type": "code",
   "execution_count": null,
   "id": "b2e1707e-dacb-4c2d-b187-6043be3df2ac",
   "metadata": {},
   "outputs": [],
   "source": [
    "Arming_DF.head()"
   ]
  },
  {
   "cell_type": "code",
   "execution_count": null,
   "id": "953ef23e-8ab8-47c6-90cc-b386eb6b03a7",
   "metadata": {},
   "outputs": [],
   "source": [
    "max_number_arming_dates=Arming_DF['count_of_dates_arming'].max()\n",
    "Arming_DF['Arming_Consistency']=Arming_DF['number_days_arming_disarming'].apply(lambda x: x*100/max_number_arming_dates)"
   ]
  },
  {
   "cell_type": "code",
   "execution_count": null,
   "id": "ca1dde58-3c54-4667-aac5-ba3a48a35a3e",
   "metadata": {},
   "outputs": [],
   "source": [
    "Login_SQL='''\n",
    "\n",
    "\n",
    "--DECLARE _end_dt_snpsht_tmp DATE DEFAULT CURRENT_DATE();\n",
    "DECLARE _end_dt_snpsht_tmp DATE DEFAULT '2023-02-04';\n",
    "\n",
    "WITH date_sql as (\n",
    "\n",
    "SELECT \n",
    "\n",
    "last_day(date_sub(_end_dt_snpsht_tmp, interval 1 month), month) as last_date_prev_month\n",
    ",date_trunc(date_sub(_end_dt_snpsht_tmp, interval 1 month), month) as first_date_prev_month\n",
    "\n",
    ")\n",
    "\n",
    "\n",
    ", date_sql_login as (\n",
    "select  count(distinct date(login_dt_utc)) as count_of_dates from `cio-datahub-enterprise-pr-183a.src_adc.bq_customer_daily_logins`\n",
    "where date(login_dt_utc)< (select last_date_prev_month from date_sql)\n",
    "and date(login_dt_utc)>= (select first_date_prev_month from date_sql)\n",
    "\n",
    ")\n",
    "\n",
    "\n",
    "\n",
    "select customer_id,sum(login_count) as sum_login_count,count (distinct date(login_dt_utc)) as number_of_login_days, (select count_of_dates from date_sql_login ) as count_of_dates_logins\n",
    "from `cio-datahub-enterprise-pr-183a.src_adc.bq_customer_daily_logins`\n",
    "where date(login_dt_utc)< (select last_date_prev_month from date_sql)\n",
    "and date(login_dt_utc)>= (select first_date_prev_month from date_sql) \n",
    "group by customer_id\n",
    "order by number_of_login_days desc\n",
    "\n",
    "\n",
    "'''"
   ]
  },
  {
   "cell_type": "code",
   "execution_count": null,
   "id": "26a4c5b8-3e20-465c-917b-69af42cf6bf0",
   "metadata": {},
   "outputs": [],
   "source": [
    "Login_DF=extract_bq_data(bq_client, sql=Login_SQL)"
   ]
  },
  {
   "cell_type": "code",
   "execution_count": null,
   "id": "b5b50986-b342-4005-a1dd-1b46b7478443",
   "metadata": {},
   "outputs": [],
   "source": [
    "Login_DF.info()"
   ]
  },
  {
   "cell_type": "code",
   "execution_count": null,
   "id": "203aea53-19ee-4d78-a33e-63db583dac41",
   "metadata": {},
   "outputs": [],
   "source": [
    "Login_DF.head()"
   ]
  },
  {
   "cell_type": "code",
   "execution_count": null,
   "id": "c3dff844-a01b-46e5-8964-5ea6eb64e5a5",
   "metadata": {},
   "outputs": [],
   "source": [
    "max_number_login_dates=Login_DF['count_of_dates_logins'].max()\n",
    "Login_DF['Login_Consistency']=Login_DF['number_of_login_days'].apply(lambda x: x*100/max_number_login_dates)"
   ]
  },
  {
   "cell_type": "code",
   "execution_count": null,
   "id": "ede393e4-b26e-41ff-bc2e-dffca01eecbf",
   "metadata": {},
   "outputs": [],
   "source": [
    "Login_DF.head()"
   ]
  },
  {
   "cell_type": "code",
   "execution_count": null,
   "id": "7fb108ab-e178-47ed-850c-60ffded38b07",
   "metadata": {},
   "outputs": [],
   "source": [
    "TC_issue_query='''\n",
    "\n",
    "--DECLARE _end_dt_snpsht_tmp DATE DEFAULT CURRENT_DATE();\n",
    "DECLARE _end_dt_snpsht_tmp DATE DEFAULT '2023-02-04';\n",
    "\n",
    "WITH date_sql as (\n",
    "\n",
    "SELECT \n",
    "\n",
    "last_day(date_sub(_end_dt_snpsht_tmp, interval 1 month), month) as last_date_prev_month\n",
    ",date_trunc(date_sub(_end_dt_snpsht_tmp, interval 1 month), month) as first_date_prev_month\n",
    ",date_trunc(date_sub(_end_dt_snpsht_tmp, interval 4 month), month) as first_date_prev_3_month\n",
    "\n",
    ")\n",
    "\n",
    "\n",
    "select dealer_name,customer_id,unit_id,device_id,trouble_condition_name,trouble_condition_group_id,trouble_condition_group_desc, start_date_utc,end_date_utc\n",
    "from `cio-datahub-enterprise-pr-183a.src_adc.bq_troublecondition_data`\n",
    "where trouble_condition_start_ind='Y'and trouble_condition_closed_ind='Y' \n",
    "and date(start_date_utc) >= (select first_date_prev_3_month from date_sql) \n",
    "and date(start_date_utc) <(select first_date_prev_month from date_sql)\n",
    "\n",
    "\n",
    "'''"
   ]
  },
  {
   "cell_type": "raw",
   "id": "65728cf7-39a3-46fe-bd66-42a5708eff62",
   "metadata": {},
   "source": [
    "TC_issue_query='''\n",
    "\n",
    "\n",
    "\n",
    "select dealer_name,customer_id,unit_id,device_id,trouble_condition_name,trouble_condition_group_id,trouble_condition_group_desc, start_date_utc,end_date_utc\n",
    "from `cio-datahub-enterprise-pr-183a.src_adc.bq_troublecondition_data`\n",
    "where trouble_condition_start_ind='Y'and trouble_condition_closed_ind='Y' \n",
    "and date(start_date_utc) >= '2022-01-01' \n",
    "and date(start_date_utc) < '2023-01-01'\n",
    "\n",
    "\n",
    "'''"
   ]
  },
  {
   "cell_type": "code",
   "execution_count": null,
   "id": "b77ad88b-4a6b-4667-8dad-6dd3c4db7469",
   "metadata": {},
   "outputs": [],
   "source": [
    "TC_data= extract_bq_data(bq_client, sql=TC_issue_query)"
   ]
  },
  {
   "cell_type": "code",
   "execution_count": null,
   "id": "9d889d4c-55aa-42d7-8387-038cbcefe932",
   "metadata": {},
   "outputs": [],
   "source": [
    "TC_data.head()"
   ]
  },
  {
   "cell_type": "code",
   "execution_count": null,
   "id": "0f485803-c211-40eb-8676-033462ce8f49",
   "metadata": {},
   "outputs": [],
   "source": [
    "TC_data['trouble_condition_name'].nunique()"
   ]
  },
  {
   "cell_type": "code",
   "execution_count": null,
   "id": "e4ab8678-7323-4fe7-959e-eb16e458d8ff",
   "metadata": {},
   "outputs": [],
   "source": [
    "TC_data['start_date_utc'].min()"
   ]
  },
  {
   "cell_type": "code",
   "execution_count": null,
   "id": "01ee44fc-c516-4368-865d-1c67b98505fa",
   "metadata": {},
   "outputs": [],
   "source": [
    "TC_data['start_date_utc'].max()"
   ]
  },
  {
   "cell_type": "code",
   "execution_count": null,
   "id": "83c1f6bc-a724-4c0d-bda9-3d744c0dfe68",
   "metadata": {},
   "outputs": [],
   "source": [
    "TC_data['count']=1\n",
    "\n",
    "TC_pivot_table=pd.pivot_table(TC_data, values=['count'], index=['customer_id'], columns='trouble_condition_name',\n",
    "                          aggfunc={'count': 'sum'})\n",
    "\n",
    "TC_pivot_table=TC_pivot_table.reset_index()\n",
    "\n",
    "TC_pivot_table.fillna(0,inplace=True)"
   ]
  },
  {
   "cell_type": "code",
   "execution_count": null,
   "id": "a47b39ee-10ac-40b3-b172-8b59f9992d4d",
   "metadata": {},
   "outputs": [],
   "source": [
    "TC_pivot_table.columns=['TC_Last3M_'+'_'.join(col).strip() for col in TC_pivot_table.columns.values]"
   ]
  },
  {
   "cell_type": "code",
   "execution_count": null,
   "id": "37ea3f7f-3c74-4de7-bd25-5ab247ab90e3",
   "metadata": {},
   "outputs": [],
   "source": [
    "# TC_pivot_cols_required=TC_pivot_table.columns.to_list()"
   ]
  },
  {
   "cell_type": "code",
   "execution_count": null,
   "id": "2ca5635f-19dd-4db7-af33-53bec45627de",
   "metadata": {},
   "outputs": [],
   "source": [
    "# TC_pivot_cols_required"
   ]
  },
  {
   "cell_type": "code",
   "execution_count": null,
   "id": "a6d2e016-1da9-4cc5-a37a-f09b5120b3c5",
   "metadata": {},
   "outputs": [],
   "source": [
    "# import yaml\n",
    "# with open(r'/home/jupyter/ADC/notebooks/Feature_data_store/TC_pivot_cols_required.yaml', 'w') as file:\n",
    "#     documents = yaml.dump(TC_pivot_cols_required, file)\n",
    "\n",
    "# import json\n",
    "    \n",
    "# with open(r'/home/jupyter/ADC/notebooks/Feature_data_store/TC_pivot_cols_required.json', 'w') as Ffp:\n",
    "#     json.dump(TC_pivot_cols_required, Ffp)\n"
   ]
  },
  {
   "cell_type": "code",
   "execution_count": null,
   "id": "3352dc21-761c-46ca-be6d-0a73754aae23",
   "metadata": {},
   "outputs": [],
   "source": [
    "TC_pivot_table.head()"
   ]
  },
  {
   "cell_type": "code",
   "execution_count": null,
   "id": "e73a062e-6610-4168-8401-4d5a40da0bba",
   "metadata": {},
   "outputs": [],
   "source": [
    "def add_missing_dummy_columns(d, cols_req_model):\n",
    "    ''' \n",
    "    This function adds missing columns to the data so that the model doesn't fail.\n",
    "    d is the Dataset. \n",
    "    cols_req_model is the list of columns required by the model.\n",
    "    \n",
    "    '''\n",
    "    missing_cols = list(set(cols_req_model) - set(d.columns))\n",
    "    print('Adding columns', missing_cols, 'to the data and populating them with 0.')\n",
    "    for c in missing_cols:\n",
    "        d[c] = 0"
   ]
  },
  {
   "cell_type": "code",
   "execution_count": null,
   "id": "8a4f1476-d1f8-4f64-b668-41da60a28441",
   "metadata": {},
   "outputs": [],
   "source": [
    "import json\n",
    "with open(r'/home/jupyter/ADC/notebooks/Feature_data_store/TC_pivot_cols_required.json') as json_file:\n",
    "    final_feature_cols_TC = json.load(json_file)"
   ]
  },
  {
   "cell_type": "code",
   "execution_count": null,
   "id": "968893df-aba3-4d36-ac8d-ddf78e24eca2",
   "metadata": {},
   "outputs": [],
   "source": [
    "# final_feature_cols_TC"
   ]
  },
  {
   "cell_type": "code",
   "execution_count": null,
   "id": "33f01e6a-7b0c-4fd9-9e7e-374775eb0817",
   "metadata": {},
   "outputs": [],
   "source": [
    "add_missing_dummy_columns(TC_pivot_table,final_feature_cols_TC)"
   ]
  },
  {
   "cell_type": "code",
   "execution_count": null,
   "id": "4776e3b7-128b-44e3-a48c-569d7f21a22b",
   "metadata": {},
   "outputs": [],
   "source": [
    "def remove_extra_columns(d,cols_req_model):\n",
    "    \n",
    "    ''' \n",
    "    This function drops extra columns from the data so that the model doesn't fail.\n",
    "    d is the Dataset. \n",
    "    cols_req_model is the list of columns required by the model.\n",
    "    \n",
    "    '''\n",
    "    extra_cols= list(set( d.columns ) - set( cols_req_model ))\n",
    "    print('Dropping', extra_cols, 'columns from the data.')\n",
    "    d = d.drop(extra_cols, axis=1)\n",
    "    return d"
   ]
  },
  {
   "cell_type": "code",
   "execution_count": null,
   "id": "20613229-797e-4270-a0f8-443ae100919a",
   "metadata": {},
   "outputs": [],
   "source": [
    "TC_pivot_table=remove_extra_columns(TC_pivot_table,final_feature_cols_TC)"
   ]
  },
  {
   "cell_type": "code",
   "execution_count": null,
   "id": "9cf29547-aad0-4a33-8467-e9b8eac1eb63",
   "metadata": {},
   "outputs": [],
   "source": [
    "TCG_Pivot=pd.pivot_table(TC_data, values=['count'], index=['customer_id'], columns='trouble_condition_group_desc',\n",
    "                          aggfunc={'count': np.sum})\n",
    "TCG_Pivot=TCG_Pivot.reset_index()\n",
    "TCG_Pivot.fillna(0,inplace=True)\n",
    "TCG_Pivot.columns=['TCG_Last3M_'+'_'.join(col).strip() for col in TCG_Pivot.columns.values]"
   ]
  },
  {
   "cell_type": "code",
   "execution_count": null,
   "id": "8b133e36-0b72-4e5e-959c-dfefdb5d50f9",
   "metadata": {},
   "outputs": [],
   "source": [
    "TCG_Pivot.head()"
   ]
  },
  {
   "cell_type": "code",
   "execution_count": null,
   "id": "7447eeb1-1d80-475a-ae2f-ec4de06022b5",
   "metadata": {},
   "outputs": [],
   "source": [
    "Merge_DF=Customer_info.merge(Best_Practices_DF_wide,on='customer_id',how='left')"
   ]
  },
  {
   "cell_type": "code",
   "execution_count": null,
   "id": "41351e6d-c549-4c32-b86c-242a239e70f6",
   "metadata": {},
   "outputs": [],
   "source": [
    "Merge_DF_1=Merge_DF.merge(Arming_DF,on='customer_id',how='left')\n",
    "Merge_DF_2=Merge_DF_1.merge(Login_DF,on='customer_id',how='left')\n",
    "Merge_DF_3=Merge_DF_2.merge(TC_pivot_table,left_on='customer_id',right_on='TC_Last3M_customer_id_',how='left')\n",
    "Merge_DF_4=Merge_DF_3.merge(TCG_Pivot,left_on='customer_id',right_on='TCG_Last3M_customer_id_',how='left')"
   ]
  },
  {
   "cell_type": "code",
   "execution_count": null,
   "id": "c072597d-2b4e-4ab1-8c19-a3df3b1198a2",
   "metadata": {},
   "outputs": [],
   "source": [
    "del Merge_DF_1,Merge_DF_2,Merge_DF_3"
   ]
  },
  {
   "cell_type": "code",
   "execution_count": null,
   "id": "ec5d79e3-27ba-4c54-a418-538412d4b935",
   "metadata": {},
   "outputs": [],
   "source": [
    "rep_chars = ' |\\|-|:|/'\n",
    "\n",
    "Merge_DF_4.columns = Merge_DF_4.columns.str.replace(rep_chars, '_')"
   ]
  },
  {
   "cell_type": "code",
   "execution_count": null,
   "id": "a7cdfb05-355f-4ad2-b8b3-767bcb31577e",
   "metadata": {},
   "outputs": [],
   "source": [
    "def Segment_making(row\n",
    "                   ,min_login_consistency_threshold=50\n",
    "                   ,min_arming_consistency_threshold=50\n",
    "                   ,max_login_consistency_threshold=50\n",
    "                   ,max_arming_consistency_threshold=50):\n",
    "    \n",
    "    if row['Best_Practice_All']>=5 and row['Login_Consistency']>=max_login_consistency_threshold  and row['Arming_Consistency']>=max_arming_consistency_threshold:\n",
    "        return 'Heavy_User'\n",
    "    elif row['Login_Consistency']>=max_login_consistency_threshold  and row['Arming_Consistency']< min_arming_consistency_threshold:\n",
    "        return 'Home_automation_Savvy'\n",
    "    elif row['Login_Consistency']< min_login_consistency_threshold  and row['Arming_Consistency']>=max_login_consistency_threshold:\n",
    "        return 'Old_Fashion'\n",
    "    elif row['Login_Consistency']==0  and row['Arming_Consistency']==0:\n",
    "        return 'Disengaged'\n",
    "    else:\n",
    "        return \"Moderate_Users\""
   ]
  },
  {
   "cell_type": "code",
   "execution_count": null,
   "id": "4507439d-4b7f-4f02-8fa1-61e76dbab5c0",
   "metadata": {},
   "outputs": [],
   "source": [
    "Merge_DF_4['Segment']=Merge_DF_4.apply(Segment_making,axis=1)"
   ]
  },
  {
   "cell_type": "code",
   "execution_count": null,
   "id": "2715e592-8eb7-49b2-98c2-c02895770b2f",
   "metadata": {},
   "outputs": [],
   "source": [
    "Merge_DF_4['Segment'].value_counts(normalize=True)*100"
   ]
  },
  {
   "cell_type": "code",
   "execution_count": null,
   "id": "82e20ff7-5aab-4137-87c6-d7d31a44f8c1",
   "metadata": {},
   "outputs": [],
   "source": [
    "Merge_DF_4.info(verbose=True)"
   ]
  },
  {
   "cell_type": "code",
   "execution_count": null,
   "id": "10a7fc7c-f897-4456-8200-f08d34f00793",
   "metadata": {},
   "outputs": [],
   "source": [
    "Merge_DF_4.head()"
   ]
  },
  {
   "cell_type": "code",
   "execution_count": null,
   "id": "ab2e6d2f-1c15-4f5f-a0cd-96e5050c2754",
   "metadata": {},
   "outputs": [],
   "source": [
    "config= bigquery.job.LoadJobConfig()\n",
    "\n",
    "# config._properties['timePartitioning'] = {'field': 'Month_Year'}\n",
    "config.write_disposition = bigquery.WriteDisposition.WRITE_APPEND\n",
    "\n",
    "Table_BQ = 'ADC_Feature_Datastore.ADC_Master_Data'\n",
    "\n",
    "bq_table_instance= bq_client.load_table_from_dataframe(Merge_DF_4, Table_BQ,job_config=config)"
   ]
  },
  {
   "cell_type": "code",
   "execution_count": null,
   "id": "a16d0ded-c6f9-4b14-8660-108a0d7dbdc8",
   "metadata": {},
   "outputs": [],
   "source": [
    "Query_test='''\n",
    "\n",
    "declare end_date date;\n",
    "\n",
    "set end_date = DATE('{score_date}');\n",
    "\n",
    "\n",
    "\n",
    "WITH date_sql as (\n",
    "\n",
    "SELECT \n",
    "\n",
    "last_day(date_sub(end_date, interval 1 month), month) as last_date_prev_month\n",
    ",date_trunc(date_sub(end_date, interval 1 month), month) as first_date_prev_month\n",
    "\n",
    ")\n",
    "\n",
    "\n",
    ", date_sql_arming as (\n",
    "select  count(distinct date(date)) as count_of_dates from `cio-datahub-enterprise-pr-183a.src_adc.bq_aggregate_daily_arming_commands`\n",
    "where date(date)< (select last_date_prev_month from date_sql)\n",
    "and date(date)>= (select first_date_prev_month from date_sql)\n",
    "\n",
    ")\n",
    "\n",
    "select id_cust as customer_id,sum(count_arm_commands) as sum_arm_commands,sum(count_disarm_commands) as sum_disarm_commands,count (distinct date(date)) as number_days_arming_disarming, (select count_of_dates from date_sql_arming ) as count_of_dates_arming\n",
    "from `cio-datahub-enterprise-pr-183a.src_adc.bq_aggregate_daily_arming_commands`\n",
    "where date(date)< (select last_date_prev_month from date_sql)\n",
    "and date(date)>= (select first_date_prev_month from date_sql)\n",
    "group by customer_id\n",
    "order by number_days_arming_disarming desc\n",
    "\n",
    "\n",
    "'''"
   ]
  },
  {
   "cell_type": "code",
   "execution_count": null,
   "id": "1052659b-19a6-47fc-a23c-4d4aca620dba",
   "metadata": {},
   "outputs": [],
   "source": [
    "def extract_bq_data(bq_client, sql=None, pth_query=None):\n",
    "    if sql is not None:\n",
    "        df = bq_client.query(sql).to_dataframe()\n",
    "    elif pth_query is not None:\n",
    "        sql = pth_query.read_text()\n",
    "        df = bq_client.query(sql).to_dataframe()\n",
    "    else:\n",
    "        raise ValueError('`sql` or `pth_query` should be set')  \n",
    "    return df"
   ]
  },
  {
   "cell_type": "code",
   "execution_count": null,
   "id": "c88072fe-3d05-4912-8f24-f03bf594fdb6",
   "metadata": {},
   "outputs": [],
   "source": [
    "from datetime import date\n",
    "SCORE_DATE = date.today().strftime('%Y-%m-%d')"
   ]
  },
  {
   "cell_type": "code",
   "execution_count": null,
   "id": "6ec6635a-b4b3-4879-b070-8e2df76599d4",
   "metadata": {},
   "outputs": [],
   "source": [
    "SCORE_DATE"
   ]
  },
  {
   "cell_type": "code",
   "execution_count": null,
   "id": "9db0eee5-3610-4428-9540-27ab8cb61f46",
   "metadata": {},
   "outputs": [],
   "source": [
    "# DF=extract_bq_data(bq_client, sql=Query_test).format(score_date='2023-01-26')"
   ]
  },
  {
   "cell_type": "code",
   "execution_count": null,
   "id": "dab38845-d362-4064-85b8-825e89ff2341",
   "metadata": {},
   "outputs": [],
   "source": []
  }
 ],
 "metadata": {
  "kernelspec": {
   "display_name": "Python 3 (ipykernel)",
   "language": "python",
   "name": "python3"
  },
  "language_info": {
   "codemirror_mode": {
    "name": "ipython",
    "version": 3
   },
   "file_extension": ".py",
   "mimetype": "text/x-python",
   "name": "python",
   "nbconvert_exporter": "python",
   "pygments_lexer": "ipython3",
   "version": "3.8.12"
  }
 },
 "nbformat": 4,
 "nbformat_minor": 5
}
