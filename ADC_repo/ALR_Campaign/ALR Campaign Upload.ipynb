{
 "cells": [
  {
   "cell_type": "code",
   "execution_count": null,
   "id": "c5d111cc-f9a9-4ab1-a751-3acab66fdf76",
   "metadata": {},
   "outputs": [],
   "source": [
    "#### import global modules\n",
    "import os\n",
    "import sys\n",
    "import pandas as pd\n",
    "import numpy as np\n",
    "from pathlib import Path\n",
    "from yaml import safe_load\n",
    "import google.oauth2.credentials\n",
    "from google.cloud import bigquery\n",
    "import gc\n",
    "\n",
    "# Set global vars\n",
    "pth_project = Path(os.getcwd().split('notebooks')[0])\n",
    "pth_data = pth_project / 'data'\n",
    "pth_queries = pth_project / 'core' / 'queries'\n",
    "pth_creds = pth_project / 'conf' / 'local' / 'project_config.yaml'\n",
    "sys.path.insert(0, str(pth_project))\n",
    "d_project_config = safe_load(pth_creds.open())\n",
    "# d_params = safe_load((pth_project / 'core' / 'parameters' / 'common.yaml').open())['data_extract']\n",
    "\n",
    "# import local modules\n",
    "from core.utils.gcp import connect_bq_services\n",
    "# from core.etl.extract import extract_bq_data, extract_pr_codes, format_conv_df, filter_convs\n",
    "\n",
    "# Connect to google services\n",
    "bq_client = connect_bq_services(d_project_config['gcp-project-name'])\n",
    "pd.options.display.max_rows = 100"
   ]
  },
  {
   "cell_type": "code",
   "execution_count": null,
   "id": "11cd8885-a54b-418d-81f7-6476a05673dc",
   "metadata": {},
   "outputs": [],
   "source": [
    "def extract_bq_data(bq_client, sql=None, pth_query=None):\n",
    "    if sql is not None:\n",
    "        df = bq_client.query(sql).to_dataframe()\n",
    "    elif pth_query is not None:\n",
    "        sql = pth_query.read_text()\n",
    "        df = bq_client.query(sql).to_dataframe()\n",
    "    else:\n",
    "        raise ValueError('`sql` or `pth_query` should be set')  \n",
    "    return df"
   ]
  },
  {
   "cell_type": "code",
   "execution_count": null,
   "id": "c6998102-4e81-42e6-a874-ecc2906eb0b0",
   "metadata": {},
   "outputs": [],
   "source": [
    "print(pd.to_datetime('22SEP2021:00:00:00', format='%d%b%Y:%H:%M:%S').strftime('%Y-%m-%d'))"
   ]
  },
  {
   "cell_type": "code",
   "execution_count": null,
   "id": "23bc469a-53a4-47f0-95ae-0bed2f0e98d6",
   "metadata": {},
   "outputs": [],
   "source": [
    "# Query='''\n",
    "\n",
    "\n",
    "\n",
    "# With Telus_customers_prev as(\n",
    "\n",
    "# select cust_bus_cust_id,pi_cntrct_end_ts as contract_end_date,pi_cntrct_start_ts as contract_start_date\n",
    "# from `cio-datahub-enterprise-pr-183a.ent_cust_cust.bq_prod_instnc_snpsht` \n",
    "# WHERE DATE(prod_instnc_ts) = '2022-0' #Snapshot of the last day of the month\n",
    "# and pi_prod_instnc_typ_cd ='SMHM' #Serice type\n",
    "# and bus_prod_instnc_src_id = 1001 #BANs that are for home services\n",
    "# and pi_prod_instnc_stat_cd in ('A')\n",
    "# and  consldt_cust_typ_cd = 'R'\n",
    "# QUALIFY ROW_NUMBER() OVER (PARTITION BY cust_bus_cust_id ORDER BY prod_instnc_ts DESC) = 1\n",
    "# order by cust_bus_cust_id\n",
    "\n",
    "# )\n",
    "\n",
    "\n",
    "\n",
    "# '''"
   ]
  },
  {
   "cell_type": "code",
   "execution_count": null,
   "id": "d390154f-9d5c-4c22-8df2-08269e45a5b3",
   "metadata": {},
   "outputs": [],
   "source": [
    "Campaign_Query='''\n",
    "\n",
    "\n",
    "select *\n",
    "from `cio-datahub-enterprise-pr-183a.ent_cust_intractn.bq_ffh_dbm`\n",
    "where REGEXP_CONTAINS (creative_cd, r'ALR[1-9]_')\n",
    "and cmpgn_cd='ALR' \n",
    "\n",
    "'''"
   ]
  },
  {
   "cell_type": "code",
   "execution_count": null,
   "id": "666b2bef-78b1-4995-a9c2-5e45276e320f",
   "metadata": {},
   "outputs": [],
   "source": [
    "Camp_DF=extract_bq_data(bq_client, sql=Campaign_Query)"
   ]
  },
  {
   "cell_type": "code",
   "execution_count": null,
   "id": "4b4571ac-ba6f-4bcc-8771-5300f0bf5da9",
   "metadata": {},
   "outputs": [],
   "source": [
    "Camp_DF.info()"
   ]
  },
  {
   "cell_type": "code",
   "execution_count": null,
   "id": "1262b3de-f106-47c8-9ace-6d257739c006",
   "metadata": {},
   "outputs": [],
   "source": [
    "Camp_DF['in_hm_dt'].value_counts()"
   ]
  },
  {
   "cell_type": "code",
   "execution_count": null,
   "id": "993189df-525c-4908-80fb-8962da2bca26",
   "metadata": {},
   "outputs": [],
   "source": [
    "Camp_DF['creative_cd'].value_counts()"
   ]
  },
  {
   "cell_type": "code",
   "execution_count": null,
   "id": "6be8b6f4-27af-4aba-909d-bafd259be17f",
   "metadata": {},
   "outputs": [],
   "source": [
    "Camp_DF['cmpgn_typ_desc'].value_counts()"
   ]
  },
  {
   "cell_type": "code",
   "execution_count": null,
   "id": "de4a6c33-d78e-4332-b8d7-958fc5b483c5",
   "metadata": {},
   "outputs": [],
   "source": [
    "pd.DataFrame(Camp_DF.groupby(['creative_cd']).agg(\n",
    "    \n",
    "    Customer_count= ('bus_bacct_num','count'),\n",
    "    campaign_date_min=('in_hm_dt','min'),\n",
    "    campaign_date_max=('in_hm_dt','max')\n",
    "\n",
    "    \n",
    "    # # Customer_Share= ('customer_id',lambda x:x.count()*100/Merge_DF_4.shape[0])\n",
    "    # Churn_total=('Telus_Churn_Flag',lambda x: x.sum()),\n",
    "    # Churn_rate=('Telus_Churn_Flag',lambda x: x.mean()*100)\n",
    ").reset_index())"
   ]
  },
  {
   "cell_type": "code",
   "execution_count": null,
   "id": "283adc4f-f030-40d7-8da0-032ab240fc82",
   "metadata": {},
   "outputs": [],
   "source": [
    "pd.DataFrame(Camp_DF.groupby(['creative_cd','ctrl_flg']).agg(\n",
    "    \n",
    "    Customer_count= ('bus_bacct_num','count'),\n",
    "    campaign_date_min=('in_hm_dt','min'),\n",
    "    campaign_date_max=('in_hm_dt','max')\n",
    "\n",
    "    \n",
    "    # # Customer_Share= ('customer_id',lambda x:x.count()*100/Merge_DF_4.shape[0])\n",
    "    # Churn_total=('Telus_Churn_Flag',lambda x: x.sum()),\n",
    "    # Churn_rate=('Telus_Churn_Flag',lambda x: x.mean()*100)\n",
    ").reset_index())"
   ]
  },
  {
   "cell_type": "code",
   "execution_count": null,
   "id": "e57b9a65-1799-4831-ad7f-9e47bf8a08ef",
   "metadata": {},
   "outputs": [],
   "source": [
    "Camp_DF['seg_desc'].value_counts()"
   ]
  },
  {
   "cell_type": "code",
   "execution_count": null,
   "id": "12085f4d-785d-407a-97ae-8ca4d5e3bc75",
   "metadata": {},
   "outputs": [],
   "source": [
    "Camp_DF[Camp_DF.creative_cd=='ALR1_TP5_V2']['in_hm_dt'].value_counts().sort_index()"
   ]
  },
  {
   "cell_type": "code",
   "execution_count": null,
   "id": "ef197ee2-fd61-4b10-8436-b7bc11ecf269",
   "metadata": {},
   "outputs": [],
   "source": [
    "config= bigquery.job.LoadJobConfig()\n",
    "\n",
    "# config._properties['timePartitioning'] = {'field': 'Month_Year'}\n",
    "config.write_disposition = bigquery.WriteDisposition.WRITE_TRUNCATE\n",
    "\n",
    "Table_BQ = 'SHS.SHS_ALR_Campaign_data'\n",
    "\n",
    "bq_table_instance= bq_client.load_table_from_dataframe(Camp_DF, Table_BQ,job_config=config)"
   ]
  },
  {
   "cell_type": "code",
   "execution_count": null,
   "id": "7b0e110c-2fc0-41e7-a278-7f23b21934b9",
   "metadata": {},
   "outputs": [],
   "source": [
    "Camp_SAS=pd.read_csv('SHS_ALR_Campaign.csv')"
   ]
  },
  {
   "cell_type": "code",
   "execution_count": null,
   "id": "1203bc87-8fb9-46b7-9597-44b69bd1db6c",
   "metadata": {},
   "outputs": [],
   "source": [
    "Camp_SAS.info()"
   ]
  },
  {
   "cell_type": "code",
   "execution_count": null,
   "id": "334d9739-a0a0-4297-9e9e-ba51b837298a",
   "metadata": {},
   "outputs": [],
   "source": [
    "def date_converter(x):\n",
    "    try:\n",
    "        return(pd.to_datetime(x, format='%d%b%Y:%H:%M:%S'))\n",
    "    except:\n",
    "        return x"
   ]
  },
  {
   "cell_type": "code",
   "execution_count": null,
   "id": "0156478d-631d-4473-9c14-fb4d4dfff900",
   "metadata": {},
   "outputs": [],
   "source": [
    "# from datetime import datetime\n",
    "\n",
    "# pd.to_datetime('22SEP2021:00:00:00', format='%d%b%Y:%H:%M:%S').strftime('%Y-%m-%d')\n",
    "\n",
    "# datetime.strptime('22SEP2021:00:00:00', '%d%b%Y:%H:%M:%S').strftime('%Y-%m-%d')"
   ]
  },
  {
   "cell_type": "code",
   "execution_count": null,
   "id": "a90ff62c-2665-42c2-90d9-8bdeab6f9d88",
   "metadata": {},
   "outputs": [],
   "source": [
    "Camp_SAS['Campaign_date']=Camp_SAS['CAMP_INHOME'].apply(date_converter)"
   ]
  },
  {
   "cell_type": "code",
   "execution_count": null,
   "id": "79b63ee7-b962-401d-941a-c4d863598e9f",
   "metadata": {},
   "outputs": [],
   "source": [
    "Camp_SAS[Camp_SAS.Campaign_date>='2021-09-22']['CAMP_CREATIVE'].value_counts().sort_index()"
   ]
  },
  {
   "cell_type": "code",
   "execution_count": null,
   "id": "f883548b-69e8-4631-93f0-a8d525950858",
   "metadata": {},
   "outputs": [],
   "source": [
    "config= bigquery.job.LoadJobConfig()\n",
    "\n",
    "# config._properties['timePartitioning'] = {'field': 'Month_Year'}\n",
    "config.write_disposition = bigquery.WriteDisposition.WRITE_TRUNCATE\n",
    "\n",
    "Table_BQ = 'SHS.SHS_ALR_Campaign_data_SAS'\n",
    "\n",
    "bq_table_instance= bq_client.load_table_from_dataframe(Camp_SAS, Table_BQ,job_config=config)"
   ]
  },
  {
   "cell_type": "code",
   "execution_count": null,
   "id": "65edfb85-3c80-48de-8fa6-21a08219b6a5",
   "metadata": {},
   "outputs": [],
   "source": []
  }
 ],
 "metadata": {
  "kernelspec": {
   "display_name": "Python 3 (ipykernel)",
   "language": "python",
   "name": "python3"
  },
  "language_info": {
   "codemirror_mode": {
    "name": "ipython",
    "version": 3
   },
   "file_extension": ".py",
   "mimetype": "text/x-python",
   "name": "python",
   "nbconvert_exporter": "python",
   "pygments_lexer": "ipython3",
   "version": "3.8.12"
  }
 },
 "nbformat": 4,
 "nbformat_minor": 5
}
