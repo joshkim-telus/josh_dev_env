{
 "cells": [
  {
   "cell_type": "code",
   "execution_count": null,
   "id": "0a87e078-3ec2-4cdb-968c-ce6fbccd1da9",
   "metadata": {},
   "outputs": [],
   "source": [
    "#### import global modules\n",
    "import os\n",
    "import sys\n",
    "import pandas as pd\n",
    "import numpy as np\n",
    "from pathlib import Path\n",
    "from yaml import safe_load\n",
    "import google.oauth2.credentials\n",
    "from google.cloud import bigquery\n",
    "import gc\n",
    "\n",
    "# Set global vars\n",
    "pth_project = Path(os.getcwd().split('notebooks')[0])\n",
    "pth_data = pth_project / 'data'\n",
    "pth_queries = pth_project / 'core' / 'queries'\n",
    "pth_creds = pth_project / 'conf' / 'local' / 'project_config.yaml'\n",
    "sys.path.insert(0, str(pth_project))\n",
    "d_project_config = safe_load(pth_creds.open())\n",
    "# d_params = safe_load((pth_project / 'core' / 'parameters' / 'common.yaml').open())['data_extract']\n",
    "\n",
    "# import local modules\n",
    "from gcp import connect_bq_services\n",
    "# from core.etl.extract import extract_bq_data, extract_pr_codes, format_conv_df, filter_convs\n",
    "\n",
    "# Connect to google services\n",
    "bq_client = connect_bq_services(d_project_config['gcp-project-name'])\n",
    "pd.options.display.max_rows = 100"
   ]
  },
  {
   "cell_type": "code",
   "execution_count": null,
   "id": "3137fb5e-c889-4c80-ac42-daa02e465b5a",
   "metadata": {},
   "outputs": [],
   "source": [
    "def extract_bq_data(bq_client, sql=None, pth_query=None):\n",
    "    if sql is not None:\n",
    "        df = bq_client.query(sql).to_dataframe()\n",
    "    elif pth_query is not None:\n",
    "        sql = pth_query.read_text()\n",
    "        df = bq_client.query(sql).to_dataframe()\n",
    "    else:\n",
    "        raise ValueError('`sql` or `pth_query` should be set')  \n",
    "    return df"
   ]
  },
  {
   "cell_type": "markdown",
   "id": "04709152-f1c2-4aff-87d5-fac4d2e2073f",
   "metadata": {},
   "source": [
    "\n",
    "**BAN_Prod_Mix_mapping_data:** BAN level info of product mix\n",
    "\n",
    "**ADC Inventory Device Data:** Device data for all ADC customers (ADT and Telus) at ADC customer_level\n",
    "\n",
    "**ADC_BAN_Mapping_data:** Mapping between ADC customerd_id and BAN\n",
    "\n",
    "\n"
   ]
  },
  {
   "cell_type": "code",
   "execution_count": null,
   "id": "fc6e2ce2-f48e-41d0-bac3-19b8a229486d",
   "metadata": {},
   "outputs": [],
   "source": [
    "Product_Mix_Query='''\n",
    "\n",
    "SELECT distinct cast( ban as STRING) as BAN, prod_mix FROM `bi-srv-features-pr-ef5a93.ban_product.bq_ban_product_mix` \n",
    "where date(part_dt) = '2023-02-01' \n",
    "and prod_mix is not null\n",
    "\n",
    "\n",
    "'''"
   ]
  },
  {
   "cell_type": "code",
   "execution_count": null,
   "id": "55088d30-2f99-4bca-ac45-158abb4cd213",
   "metadata": {},
   "outputs": [],
   "source": [
    "Product_Mix_DF=extract_bq_data(bq_client, sql=Product_Mix_Query)"
   ]
  },
  {
   "cell_type": "code",
   "execution_count": null,
   "id": "f774b9ed-b47d-44e7-b72a-4f90bc50a32c",
   "metadata": {},
   "outputs": [],
   "source": [
    "Product_Mix_DF.info()"
   ]
  },
  {
   "cell_type": "code",
   "execution_count": null,
   "id": "6989e67e-76ce-4acb-8bed-a63c62f414e5",
   "metadata": {},
   "outputs": [],
   "source": [
    "Product_Mix_DF.tail(15)"
   ]
  },
  {
   "cell_type": "code",
   "execution_count": null,
   "id": "c3fee082-3a45-4491-ae08-9d2b7bcff60a",
   "metadata": {},
   "outputs": [],
   "source": [
    "Product_Mix_DF['prod_mix'].value_counts()"
   ]
  },
  {
   "cell_type": "code",
   "execution_count": null,
   "id": "d88a7698-b358-48ee-84bc-8433b2fcf316",
   "metadata": {},
   "outputs": [],
   "source": [
    "BAN_Cust_mapping='''\n",
    "\n",
    "WITH\n",
    "  ADC_Customer_Base AS (\n",
    "  SELECT\n",
    "    customer_id, ## ADC level\n",
    "    dealer_customer_id,\n",
    "    dealer_name,\n",
    "    join_date,\n",
    "    CASE\n",
    "      WHEN account_type_name='Standalone' THEN 'Smart_Camera'\n",
    "      WHEN account_type_name='Awareness and Automation' THEN 'Smart_Automation_Plus'\n",
    "    ELSE\n",
    "    'Monitored'\n",
    "  END\n",
    "    AS Package,\n",
    "    primary_phone\n",
    "  FROM\n",
    "    `cio-datahub-enterprise-pr-183a.src_adc.bq_customer_account_details`\n",
    "  WHERE\n",
    "    DATE(last_updt_ts) ='2023-02-01'\n",
    "    AND dealer_name IN ('TELUS Communications Inc.',\n",
    "      'ADT by TELUS') QUALIFY ROW_NUMBER() OVER (PARTITION BY customer_id ORDER BY last_updt_ts DESC) = 1\n",
    "  ORDER BY\n",
    "    dealer_name,\n",
    "    join_date,\n",
    "    customer_id ),\n",
    " \n",
    " \n",
    " Telus_customers AS (\n",
    "  SELECT\n",
    "    bacct_bus_bacct_num AS BAN,\n",
    "    cust_bus_cust_id,\n",
    "    pi_prod_instnc_typ_cd,\n",
    "    pi_prod_instnc_stat_ts,\n",
    "    prod_instnc_ts,\n",
    "    pi_cntrct_start_ts AS contract_start_date,\n",
    "    pi_cntrct_end_ts AS contract_end_date\n",
    "  FROM\n",
    "    `cio-datahub-enterprise-pr-183a.ent_cust_cust.bq_prod_instnc_snpsht`\n",
    "  WHERE\n",
    "    DATE(prod_instnc_ts) = '2023-02-01'\n",
    "    AND pi_prod_instnc_typ_cd ='SMHM' #Serice type\n",
    "    AND bus_prod_instnc_src_id = 1001 #BANs that are FOR home services\n",
    "    AND pi_prod_instnc_stat_cd IN ('A')\n",
    "    AND consldt_cust_typ_cd = 'R'\n",
    "  ORDER BY\n",
    "    cust_bus_cust_id )\n",
    "\n",
    "\n",
    "\n",
    "SELECT\n",
    "  *\n",
    "FROM\n",
    "  ADC_Customer_Base AS ADC\n",
    "LEFT JOIN\n",
    "  Telus_customers AS Telus\n",
    "ON\n",
    "  ADC.dealer_customer_id=Telus.cust_bus_cust_id\n",
    "\n",
    "\n",
    "\n",
    "\n",
    "'''"
   ]
  },
  {
   "cell_type": "code",
   "execution_count": null,
   "id": "6b513c59-0ad6-45e6-882e-ee2bcce5528a",
   "metadata": {},
   "outputs": [],
   "source": [
    "BAN_cust_mapping_DF=extract_bq_data(bq_client,sql=BAN_Cust_mapping)"
   ]
  },
  {
   "cell_type": "code",
   "execution_count": null,
   "id": "78b73a24-4cd6-43a3-be50-1351065ee70d",
   "metadata": {},
   "outputs": [],
   "source": [
    "BAN_cust_mapping_DF.head()"
   ]
  },
  {
   "cell_type": "code",
   "execution_count": null,
   "id": "de858d9c-af2a-4eb4-a7cf-4fe3ae2f9f93",
   "metadata": {},
   "outputs": [],
   "source": [
    "BAN_cust_mapping_DF[BAN_cust_mapping_DF.BAN.isna()==True]"
   ]
  },
  {
   "cell_type": "code",
   "execution_count": null,
   "id": "4618f553-bc04-4c5f-abc5-e076f51713dc",
   "metadata": {},
   "outputs": [],
   "source": [
    "ADC_Inventory_data_Query='''\n",
    "\n",
    "SELECT customer_id,combined_device_type_desc as Device_type, count(distinct device_id) as count_of_device \n",
    "FROM `divgpras-pr-579355.ADC_updated.ADC_Inventory_device_data` \n",
    "Where date(device_removal_date) is NULL\n",
    "group by customer_id,Device_type\n",
    "\n",
    "'''"
   ]
  },
  {
   "cell_type": "code",
   "execution_count": null,
   "id": "b7f7d939-66be-42f0-a425-f90edb4a8d66",
   "metadata": {},
   "outputs": [],
   "source": [
    "Device_info=extract_bq_data(bq_client, sql=ADC_Inventory_data_Query)"
   ]
  },
  {
   "cell_type": "code",
   "execution_count": null,
   "id": "71bdebeb-6f09-4550-8649-a80afc320173",
   "metadata": {},
   "outputs": [],
   "source": [
    "Device_info.info()"
   ]
  },
  {
   "cell_type": "code",
   "execution_count": null,
   "id": "7864773b-5b1e-4f73-ac32-92d78619d10b",
   "metadata": {},
   "outputs": [],
   "source": [
    "Device_info.head()"
   ]
  },
  {
   "cell_type": "code",
   "execution_count": null,
   "id": "d658c8b0-14ca-4883-a4d6-24a473d7fc87",
   "metadata": {},
   "outputs": [],
   "source": [
    "Device_info['Device_type'].value_counts()"
   ]
  },
  {
   "cell_type": "code",
   "execution_count": null,
   "id": "dfb2f61d-1f31-46b0-81d8-c26278d10464",
   "metadata": {},
   "outputs": [],
   "source": [
    "Device_info_wide=Device_info.pivot_table(index='customer_id', columns='Device_type', values='count_of_device',aggfunc = \"sum\").reset_index()"
   ]
  },
  {
   "cell_type": "code",
   "execution_count": null,
   "id": "4e0e4b83-dbb4-4432-b998-c9164e490b89",
   "metadata": {},
   "outputs": [],
   "source": [
    "rep_chars = ' |\\|-|:|/'\n",
    "\n",
    "Device_info_wide.columns = Device_info_wide.columns.str.replace(rep_chars, '_')"
   ]
  },
  {
   "cell_type": "code",
   "execution_count": null,
   "id": "118cbbf6-3b72-4d0e-80f0-ef4b46bacaf2",
   "metadata": {},
   "outputs": [],
   "source": [
    "Device_info_wide.head()"
   ]
  },
  {
   "cell_type": "code",
   "execution_count": null,
   "id": "9635faa2-62ab-4900-91f1-3850135b5b6f",
   "metadata": {},
   "outputs": [],
   "source": [
    "Device_info_wide.fillna(0,inplace=True)"
   ]
  },
  {
   "cell_type": "code",
   "execution_count": null,
   "id": "9ce5cb17-d2fb-43e9-9659-deef3475d8ba",
   "metadata": {},
   "outputs": [],
   "source": [
    "Device_BAN_mapping=BAN_cust_mapping_DF[['customer_id','BAN','cust_bus_cust_id']].merge(Device_info_wide,on='customer_id',how='left')"
   ]
  },
  {
   "cell_type": "code",
   "execution_count": null,
   "id": "8e688f86-7d66-4c3f-ad0c-d14cc06418f8",
   "metadata": {},
   "outputs": [],
   "source": [
    "Device_BAN_mapping.head()"
   ]
  },
  {
   "cell_type": "code",
   "execution_count": null,
   "id": "a19a7cf8-482e-4c08-8872-27c359d0b761",
   "metadata": {},
   "outputs": [],
   "source": []
  }
 ],
 "metadata": {
  "kernelspec": {
   "display_name": "Python 3 (ipykernel)",
   "language": "python",
   "name": "python3"
  },
  "language_info": {
   "codemirror_mode": {
    "name": "ipython",
    "version": 3
   },
   "file_extension": ".py",
   "mimetype": "text/x-python",
   "name": "python",
   "nbconvert_exporter": "python",
   "pygments_lexer": "ipython3",
   "version": "3.8.12"
  }
 },
 "nbformat": 4,
 "nbformat_minor": 5
}
