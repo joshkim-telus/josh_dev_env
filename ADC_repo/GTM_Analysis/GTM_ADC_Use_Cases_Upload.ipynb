{
 "cells": [
  {
   "cell_type": "code",
   "execution_count": 9,
   "id": "4383bd50-349e-454d-9073-bcf9ec202f7e",
   "metadata": {},
   "outputs": [],
   "source": [
    "#### import global modules\n",
    "import os\n",
    "import sys\n",
    "import pandas as pd\n",
    "import numpy as np\n",
    "from pathlib import Path\n",
    "from yaml import safe_load\n",
    "import google.oauth2.credentials\n",
    "from google.cloud import bigquery\n",
    "import gc\n",
    "\n",
    "# Set global vars\n",
    "pth_project = Path(os.getcwd().split('notebooks')[0])\n",
    "pth_data = pth_project / 'data'\n",
    "pth_queries = pth_project / 'core' / 'queries'\n",
    "pth_creds = pth_project / 'conf' / 'local' / 'project_config.yaml'\n",
    "sys.path.insert(0, str(pth_project))\n",
    "d_project_config = safe_load(pth_creds.open())\n",
    "# d_params = safe_load((pth_project / 'core' / 'parameters' / 'common.yaml').open())['data_extract']\n",
    "\n",
    "# import local modules\n",
    "from core.utils.gcp import connect_bq_services\n",
    "# from core.etl.extract import extract_bq_data, extract_pr_codes, format_conv_df, filter_convs\n",
    "\n",
    "# Connect to google services\n",
    "bq_client = connect_bq_services(d_project_config['gcp-project-name'])\n",
    "pd.options.display.max_rows = 100"
   ]
  },
  {
   "cell_type": "code",
   "execution_count": 10,
   "id": "0ef55bbd-dcf4-45e8-81bc-6e293a0a633a",
   "metadata": {},
   "outputs": [],
   "source": [
    "def extract_bq_data(bq_client, sql=None, pth_query=None):\n",
    "    if sql is not None:\n",
    "        df = bq_client.query(sql).to_dataframe()\n",
    "    elif pth_query is not None:\n",
    "        sql = pth_query.read_text()\n",
    "        df = bq_client.query(sql).to_dataframe()\n",
    "    else:\n",
    "        raise ValueError('`sql` or `pth_query` should be set')  \n",
    "    return df"
   ]
  },
  {
   "cell_type": "code",
   "execution_count": 14,
   "id": "f965fc6a-12d2-4ab9-aa83-83cdb4da821d",
   "metadata": {},
   "outputs": [],
   "source": [
    "Query='''\n",
    "\n",
    "\n",
    "select *\n",
    "from `cio-datahub-enterprise-pr-183a.ent_cust_intractn.bq_ffh_dbm`\n",
    "where cmpgn_cd='HBUR' \n",
    "\n",
    "'''"
   ]
  },
  {
   "cell_type": "code",
   "execution_count": 15,
   "id": "60761748-419b-43ea-8406-639b4dc44cb2",
   "metadata": {},
   "outputs": [],
   "source": [
    "DF=extract_bq_data(bq_client, sql=Query)"
   ]
  },
  {
   "cell_type": "code",
   "execution_count": 16,
   "id": "78221ac7-209b-4039-8903-a2e0434a7af4",
   "metadata": {},
   "outputs": [
    {
     "name": "stdout",
     "output_type": "stream",
     "text": [
      "<class 'pandas.core.frame.DataFrame'>\n",
      "RangeIndex: 4846 entries, 0 to 4845\n",
      "Data columns (total 81 columns):\n",
      " #   Column                   Non-Null Count  Dtype              \n",
      "---  ------                   --------------  -----              \n",
      " 0   seg_id                   4846 non-null   object             \n",
      " 1   cmpgn_id                 4846 non-null   object             \n",
      " 2   lang_cd                  4846 non-null   object             \n",
      " 3   seg_desc                 0 non-null      object             \n",
      " 4   vndr_cd                  4846 non-null   object             \n",
      " 5   vndr_cd_desc             4846 non-null   object             \n",
      " 6   cntct_med                4846 non-null   object             \n",
      " 7   cntct_med_desc           4846 non-null   object             \n",
      " 8   ctrl_flg                 4846 non-null   object             \n",
      " 9   creative_cd              4846 non-null   object             \n",
      " 10  creative_grp             0 non-null      object             \n",
      " 11  creative_desc            0 non-null      object             \n",
      " 12  in_hm_dt                 4846 non-null   datetime64[ns, UTC]\n",
      " 13  rqst_id                  4846 non-null   object             \n",
      " 14  lob_cd                   4846 non-null   object             \n",
      " 15  lob_desc                 4846 non-null   object             \n",
      " 16  seg_cd                   0 non-null      object             \n",
      " 17  trtmt_cd                 0 non-null      object             \n",
      " 18  offr_cd                  0 non-null      object             \n",
      " 19  audit_cd                 4846 non-null   object             \n",
      " 20  camp_seg_del_ind         4846 non-null   object             \n",
      " 21  camp_seg_create_ts       4846 non-null   datetime64[ns, UTC]\n",
      " 22  camp_seg_last_updt_ts    4846 non-null   datetime64[ns, UTC]\n",
      " 23  pull_dt                  4846 non-null   datetime64[ns, UTC]\n",
      " 24  excl_cntrct_strat        4846 non-null   object             \n",
      " 25  journey_seq_id           0 non-null      object             \n",
      " 26  journey_parent_id        0 non-null      object             \n",
      " 27  trkg_src                 4846 non-null   object             \n",
      " 28  trkg_cd                  4846 non-null   object             \n",
      " 29  list_num                 4846 non-null   object             \n",
      " 30  list_gen_stat            4846 non-null   object             \n",
      " 31  cmpgn_catgy              4846 non-null   object             \n",
      " 32  cmpgn_catgy_desc         4846 non-null   object             \n",
      " 33  cmpgn_cd                 4846 non-null   object             \n",
      " 34  cmpgn_cd_desc            4846 non-null   object             \n",
      " 35  one_src_link             0 non-null      object             \n",
      " 36  cmpgn_desc               4846 non-null   object             \n",
      " 37  cmpgn_typ                4846 non-null   object             \n",
      " 38  cmpgn_typ_desc           4846 non-null   object             \n",
      " 39  data_prime               4846 non-null   object             \n",
      " 40  bus_prime                4846 non-null   object             \n",
      " 41  camp_desc_audit_cd       0 non-null      object             \n",
      " 42  camp_desc_del_ind        4846 non-null   object             \n",
      " 43  camp_desc_create_ts      4846 non-null   datetime64[ns, UTC]\n",
      " 44  camp_desc_last_updt_ts   4846 non-null   datetime64[ns, UTC]\n",
      " 45  em_mstr_dl               4846 non-null   object             \n",
      " 46  sms_mstr_dl              0 non-null      object             \n",
      " 47  trkg_id                  4846 non-null   Int64              \n",
      " 48  camp_ts                  4846 non-null   datetime64[ns, UTC]\n",
      " 49  ffh_cust_id              4846 non-null   object             \n",
      " 50  ffh_ban                  4846 non-null   object             \n",
      " 51  subsc_num                3944 non-null   object             \n",
      " 52  email_id                 4846 non-null   object             \n",
      " 53  addr_id                  4757 non-null   object             \n",
      " 54  fms_addr_id              4846 non-null   object             \n",
      " 55  lang_pref_cd             0 non-null      object             \n",
      " 56  first_nm                 4846 non-null   object             \n",
      " 57  crtc_cmplnc_dt           0 non-null      dbdate             \n",
      " 58  sent_ts                  0 non-null      datetime64[ns, UTC]\n",
      " 59  camp_comm_audit_cd       4846 non-null   object             \n",
      " 60  camp_comm_del_ind        4846 non-null   object             \n",
      " 61  camp_comm_create_ts      4846 non-null   datetime64[ns, UTC]\n",
      " 62  camp_comm_last_updt_ts   4846 non-null   datetime64[ns, UTC]\n",
      " 63  tel_num                  4846 non-null   object             \n",
      " 64  mob_cust_id              0 non-null      object             \n",
      " 65  mob_ban                  4329 non-null   object             \n",
      " 66  ai_seg_id                0 non-null      Int64              \n",
      " 67  predict_convrsn          0 non-null      float64            \n",
      " 68  bus_prod_instnc_id       4846 non-null   object             \n",
      " 69  bus_prod_instnc_src_id   4846 non-null   Int64              \n",
      " 70  bus_cust_id              4846 non-null   object             \n",
      " 71  bus_cust_src_id          4846 non-null   Int64              \n",
      " 72  bus_bacct_num            4846 non-null   Int64              \n",
      " 73  bus_bacct_num_src_id     4846 non-null   Int64              \n",
      " 74  bus_pp_catlg_itm_cd      4846 non-null   object             \n",
      " 75  bus_pp_catlg_itm_src_id  4846 non-null   Int64              \n",
      " 76  src_create_dt            4846 non-null   dbdate             \n",
      " 77  create_ts                4846 non-null   datetime64[ns, UTC]\n",
      " 78  create_user_id           4846 non-null   object             \n",
      " 79  last_updt_ts             4846 non-null   datetime64[ns, UTC]\n",
      " 80  last_updt_user_id        4846 non-null   object             \n",
      "dtypes: Int64(7), datetime64[ns, UTC](12), dbdate(2), float64(1), object(59)\n",
      "memory usage: 3.0+ MB\n"
     ]
    }
   ],
   "source": [
    "DF.info()"
   ]
  },
  {
   "cell_type": "code",
   "execution_count": 17,
   "id": "6372e447-c045-46f9-99a7-2455365c1332",
   "metadata": {},
   "outputs": [
    {
     "data": {
      "text/plain": [
       "2022-11-30 00:00:00+00:00    4846\n",
       "Name: in_hm_dt, dtype: int64"
      ]
     },
     "execution_count": 17,
     "metadata": {},
     "output_type": "execute_result"
    }
   ],
   "source": [
    "DF['in_hm_dt'].value_counts()"
   ]
  },
  {
   "cell_type": "code",
   "execution_count": 22,
   "id": "51643438-b13d-47e4-b347-41471aa461aa",
   "metadata": {},
   "outputs": [
    {
     "data": {
      "text/plain": [
       "ADCNOUSEINCON11.30.2    1906\n",
       "ADCLOWUSEINCON11.30.    1697\n",
       "ADCNOUSEOOC11.30.22     1243\n",
       "Name: creative_cd, dtype: int64"
      ]
     },
     "execution_count": 22,
     "metadata": {},
     "output_type": "execute_result"
    }
   ],
   "source": [
    "DF['creative_cd'].value_counts()"
   ]
  },
  {
   "cell_type": "code",
   "execution_count": 26,
   "id": "9347b0b4-d5fc-4050-ab46-8dfe0ab4e186",
   "metadata": {},
   "outputs": [
    {
     "data": {
      "text/plain": [
       "SHS    4846\n",
       "Name: cmpgn_typ_desc, dtype: int64"
      ]
     },
     "execution_count": 26,
     "metadata": {},
     "output_type": "execute_result"
    }
   ],
   "source": [
    "DF['cmpgn_typ_desc'].value_counts()"
   ]
  },
  {
   "cell_type": "code",
   "execution_count": 25,
   "id": "26c8bf2b-74c8-46bd-a839-cfa550abc87e",
   "metadata": {},
   "outputs": [
    {
     "data": {
      "text/html": [
       "<div>\n",
       "<style scoped>\n",
       "    .dataframe tbody tr th:only-of-type {\n",
       "        vertical-align: middle;\n",
       "    }\n",
       "\n",
       "    .dataframe tbody tr th {\n",
       "        vertical-align: top;\n",
       "    }\n",
       "\n",
       "    .dataframe thead th {\n",
       "        text-align: right;\n",
       "    }\n",
       "</style>\n",
       "<table border=\"1\" class=\"dataframe\">\n",
       "  <thead>\n",
       "    <tr style=\"text-align: right;\">\n",
       "      <th></th>\n",
       "      <th>creative_cd</th>\n",
       "      <th>ctrl_flg</th>\n",
       "      <th>Customer_count</th>\n",
       "    </tr>\n",
       "  </thead>\n",
       "  <tbody>\n",
       "    <tr>\n",
       "      <th>0</th>\n",
       "      <td>ADCLOWUSEINCON11.30.</td>\n",
       "      <td>N</td>\n",
       "      <td>1608</td>\n",
       "    </tr>\n",
       "    <tr>\n",
       "      <th>1</th>\n",
       "      <td>ADCLOWUSEINCON11.30.</td>\n",
       "      <td>Y</td>\n",
       "      <td>89</td>\n",
       "    </tr>\n",
       "    <tr>\n",
       "      <th>2</th>\n",
       "      <td>ADCNOUSEINCON11.30.2</td>\n",
       "      <td>N</td>\n",
       "      <td>1813</td>\n",
       "    </tr>\n",
       "    <tr>\n",
       "      <th>3</th>\n",
       "      <td>ADCNOUSEINCON11.30.2</td>\n",
       "      <td>Y</td>\n",
       "      <td>93</td>\n",
       "    </tr>\n",
       "    <tr>\n",
       "      <th>4</th>\n",
       "      <td>ADCNOUSEOOC11.30.22</td>\n",
       "      <td>N</td>\n",
       "      <td>1168</td>\n",
       "    </tr>\n",
       "    <tr>\n",
       "      <th>5</th>\n",
       "      <td>ADCNOUSEOOC11.30.22</td>\n",
       "      <td>Y</td>\n",
       "      <td>75</td>\n",
       "    </tr>\n",
       "  </tbody>\n",
       "</table>\n",
       "</div>"
      ],
      "text/plain": [
       "            creative_cd ctrl_flg  Customer_count\n",
       "0  ADCLOWUSEINCON11.30.        N            1608\n",
       "1  ADCLOWUSEINCON11.30.        Y              89\n",
       "2  ADCNOUSEINCON11.30.2        N            1813\n",
       "3  ADCNOUSEINCON11.30.2        Y              93\n",
       "4   ADCNOUSEOOC11.30.22        N            1168\n",
       "5   ADCNOUSEOOC11.30.22        Y              75"
      ]
     },
     "execution_count": 25,
     "metadata": {},
     "output_type": "execute_result"
    }
   ],
   "source": [
    "pd.DataFrame(DF.groupby(['creative_cd','ctrl_flg']).agg(\n",
    "    \n",
    "    Customer_count= ('bus_bacct_num','nunique'),\n",
    "    # # Customer_Share= ('customer_id',lambda x:x.count()*100/Merge_DF_4.shape[0])\n",
    "    # Churn_total=('Telus_Churn_Flag',lambda x: x.sum()),\n",
    "    # Churn_rate=('Telus_Churn_Flag',lambda x: x.mean()*100)\n",
    ").reset_index())"
   ]
  },
  {
   "cell_type": "code",
   "execution_count": null,
   "id": "86a10491-65b6-41dc-8ecc-eef3523598c7",
   "metadata": {},
   "outputs": [],
   "source": []
  },
  {
   "cell_type": "code",
   "execution_count": 23,
   "id": "8fc6cf71-f1a5-4b15-90bf-9f23fc39fbd4",
   "metadata": {},
   "outputs": [
    {
     "name": "stderr",
     "output_type": "stream",
     "text": [
      "/opt/conda/lib/python3.8/site-packages/google/cloud/bigquery/_pandas_helpers.py:558: UserWarning: Pyarrow could not determine the type of columns: seg_desc, creative_grp, creative_desc, seg_cd, trtmt_cd, offr_cd, journey_seq_id, journey_parent_id, one_src_link, camp_desc_audit_cd, sms_mstr_dl, lang_pref_cd, mob_cust_id.\n",
      "  warnings.warn(\n"
     ]
    }
   ],
   "source": [
    "config= bigquery.job.LoadJobConfig()\n",
    "\n",
    "# config._properties['timePartitioning'] = {'field': 'Month_Year'}\n",
    "config.write_disposition = bigquery.WriteDisposition.WRITE_TRUNCATE\n",
    "\n",
    "Table_BQ = 'SHS.SHS_GTM_ADC_UseCases_30Nov2022'\n",
    "\n",
    "bq_table_instance= bq_client.load_table_from_dataframe(DF, Table_BQ,job_config=config)"
   ]
  },
  {
   "cell_type": "code",
   "execution_count": null,
   "id": "34fe7016-0f0e-4c83-ab92-1fa1a09de906",
   "metadata": {},
   "outputs": [],
   "source": []
  }
 ],
 "metadata": {
  "kernelspec": {
   "display_name": "Python 3 (ipykernel)",
   "language": "python",
   "name": "python3"
  },
  "language_info": {
   "codemirror_mode": {
    "name": "ipython",
    "version": 3
   },
   "file_extension": ".py",
   "mimetype": "text/x-python",
   "name": "python",
   "nbconvert_exporter": "python",
   "pygments_lexer": "ipython3",
   "version": "3.8.12"
  }
 },
 "nbformat": 4,
 "nbformat_minor": 5
}
