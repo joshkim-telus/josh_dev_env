{
 "cells": [
  {
   "cell_type": "code",
   "execution_count": null,
   "id": "1a08798e-74a4-41d4-b16a-3ee501a5a2fb",
   "metadata": {},
   "outputs": [],
   "source": [
    "#### import global modules\n",
    "import os\n",
    "import sys\n",
    "import pandas as pd\n",
    "import numpy as np\n",
    "from pathlib import Path\n",
    "from yaml import safe_load\n",
    "import google.oauth2.credentials\n",
    "from google.cloud import bigquery\n",
    "import gc\n",
    "\n",
    "# Set global vars\n",
    "pth_project = Path(os.getcwd().split('notebooks')[0])\n",
    "pth_data = pth_project / 'data'\n",
    "pth_queries = pth_project / 'core' / 'queries'\n",
    "pth_creds = pth_project / 'conf' / 'local' / 'project_config.yaml'\n",
    "sys.path.insert(0, str(pth_project))\n",
    "d_project_config = safe_load(pth_creds.open())\n",
    "# d_params = safe_load((pth_project / 'core' / 'parameters' / 'common.yaml').open())['data_extract']\n",
    "\n",
    "# import local modules\n",
    "from core.utils.gcp import connect_bq_services\n",
    "# from core.etl.extract import extract_bq_data, extract_pr_codes, format_conv_df, filter_convs\n",
    "\n",
    "# Connect to google services\n",
    "bq_client = connect_bq_services(d_project_config['gcp-project-name'])\n",
    "pd.options.display.max_rows = 100"
   ]
  },
  {
   "cell_type": "code",
   "execution_count": null,
   "id": "738b3ac4-6d6e-4c9a-a21e-685a970949f1",
   "metadata": {},
   "outputs": [],
   "source": [
    "def extract_bq_data(bq_client, sql=None, pth_query=None):\n",
    "    if sql is not None:\n",
    "        df = bq_client.query(sql).to_dataframe()\n",
    "    elif pth_query is not None:\n",
    "        sql = pth_query.read_text()\n",
    "        df = bq_client.query(sql).to_dataframe()\n",
    "    else:\n",
    "        raise ValueError('`sql` or `pth_query` should be set')  \n",
    "    return df"
   ]
  },
  {
   "cell_type": "code",
   "execution_count": null,
   "id": "152ec9f4-75c7-424b-af50-efc7d88b4e2b",
   "metadata": {},
   "outputs": [],
   "source": [
    "Query='''\n",
    "\n",
    "\n",
    "select * from `divgpras-pr-579355.SHS.SHS_GTM_ADC_UseCases_30Nov2022`\n",
    "\n",
    "'''"
   ]
  },
  {
   "cell_type": "code",
   "execution_count": null,
   "id": "b9f0f863-daa3-4c49-9f1f-8c779dfd665d",
   "metadata": {},
   "outputs": [],
   "source": [
    "Customer_details='''\n",
    "\n",
    "\n",
    "DECLARE _end_dt_snpsht DATE DEFAULT '2023-01-20';\n",
    "DECLARE _start_dt_snpsht DATE DEFAULT '2022-12-01';\n",
    "\n",
    "\n",
    "\n",
    "\n",
    "SELECT customer_id,dealer_customer_id,primary_login_id,dealer_name,join_date,account_type_name,customer_type_name,primary_email,primary_phone,last_updt_ts\n",
    "FROM `cio-datahub-enterprise-pr-183a.src_adc.bq_customer_account_details` \n",
    "where date(last_updt_ts) <= _end_dt_snpsht\n",
    "and date(last_updt_ts) >= _start_dt_snpsht\n",
    "and  dealer_name in ('TELUS Communications Inc.')\n",
    "QUALIFY ROW_NUMBER() OVER (PARTITION BY customer_id ORDER BY last_updt_ts DESC) = 1\n",
    "order by dealer_name,join_date,customer_id\n",
    "\n",
    "\n",
    "\n",
    "\n",
    "\n",
    "\n",
    "\n",
    "'''"
   ]
  },
  {
   "cell_type": "code",
   "execution_count": null,
   "id": "53f63d48-7a41-44b8-86d4-7c37094a18da",
   "metadata": {},
   "outputs": [],
   "source": [
    "Best_practices_details_Query='''\n",
    "\n",
    "select customer_id,best_practices_id,best_practices_ind,date(dt_last_calculate_utc) as last_date_calculate\n",
    "from `cio-datahub-enterprise-pr-183a.src_adc.bq_customer_best_practice`\n",
    "where DATE(dt_last_calculate_utc)<'2023-01-20'\n",
    "\n",
    "QUALIFY ROW_NUMBER() OVER (PARTITION BY customer_id,best_practices_id ORDER BY last_updt_ts DESC) = 1\n",
    "order by customer_id,best_practices_id\n",
    "\n",
    "\n",
    "'''"
   ]
  },
  {
   "cell_type": "code",
   "execution_count": null,
   "id": "34b9c64a-183a-4b98-99ac-ff7c24fb6c55",
   "metadata": {},
   "outputs": [],
   "source": [
    "Arming_Query=  '''\n",
    "\n",
    "with date_sql as (\n",
    "select  count(distinct date(date)) as count_of_dates from `cio-datahub-enterprise-pr-183a.src_adc.bq_aggregate_daily_arming_commands`\n",
    "where date(date)<= '2023-01-20' and date(date)>= '2022-12-01'\n",
    "\n",
    ")\n",
    "\n",
    "select id_cust as customer_id,sum(count_arm_commands) as sum_arm_commands,sum(count_disarm_commands) as sum_disarm_commands,count (distinct date(date)) as number_days_arming_disarming, (select count_of_dates from date_sql ) as count_of_dates_arming\n",
    "from `cio-datahub-enterprise-pr-183a.src_adc.bq_aggregate_daily_arming_commands`\n",
    "where date(date)< '2023-01-20' and date(date)>= '2022-12-01'\n",
    "group by customer_id\n",
    "order by number_days_arming_disarming desc\n",
    "\n",
    "'''"
   ]
  },
  {
   "cell_type": "code",
   "execution_count": null,
   "id": "356e9352-19c9-40a5-b5ab-e33df16f580e",
   "metadata": {},
   "outputs": [],
   "source": [
    "Login_SQL='''\n",
    "\n",
    "with date_sql as (\n",
    "select  count(distinct date(login_dt_utc)) as count_of_dates from `cio-datahub-enterprise-pr-183a.src_adc.bq_customer_daily_logins`\n",
    "where date(login_dt_utc)<= '2023-01-20' and date(login_dt_utc)>= '2022-12-01' \n",
    "\n",
    ")\n",
    "\n",
    "\n",
    "\n",
    "select customer_id,sum(login_count) as sum_login_count,count (distinct date(login_dt_utc)) as number_of_login_days, (select count_of_dates from date_sql ) as count_of_dates_logins\n",
    "from `cio-datahub-enterprise-pr-183a.src_adc.bq_customer_daily_logins`\n",
    "where date(login_dt_utc)<= '2023-01-20' and date(login_dt_utc)>= '2022-12-01' \n",
    "group by customer_id\n",
    "order by number_of_login_days desc\n",
    "\n",
    "\n",
    "'''"
   ]
  },
  {
   "cell_type": "code",
   "execution_count": null,
   "id": "5bc513fc-711f-4b0e-869e-761a664454a4",
   "metadata": {},
   "outputs": [],
   "source": [
    "Customer_DF=extract_bq_data(bq_client, sql=Customer_details)"
   ]
  },
  {
   "cell_type": "code",
   "execution_count": null,
   "id": "995fefcb-ceac-4c20-bd20-531cedbbac05",
   "metadata": {},
   "outputs": [],
   "source": [
    "Customer_DF.info()"
   ]
  },
  {
   "cell_type": "code",
   "execution_count": null,
   "id": "f06cd1dc-64b5-467c-b65f-de785944feda",
   "metadata": {},
   "outputs": [],
   "source": [
    "Best_Practices_DF=extract_bq_data(bq_client, sql=Best_practices_details_Query)"
   ]
  },
  {
   "cell_type": "code",
   "execution_count": null,
   "id": "1fe4963d-2402-4055-83d9-d0862f57c1a0",
   "metadata": {},
   "outputs": [],
   "source": [
    "Best_Practices_DF['Best_practices_flag']=Best_Practices_DF['best_practices_ind'].apply(lambda x: 1 if x==True else 0)"
   ]
  },
  {
   "cell_type": "code",
   "execution_count": null,
   "id": "a0e2e9d9-a4bf-4e5d-a2ae-f6dea32ac6cc",
   "metadata": {},
   "outputs": [],
   "source": [
    "Best_Practices_DF_wide=Best_Practices_DF.pivot(index='customer_id', columns='best_practices_id', values='Best_practices_flag').reset_index()"
   ]
  },
  {
   "cell_type": "code",
   "execution_count": null,
   "id": "14d392a8-2d4e-4733-97bf-961617a89798",
   "metadata": {},
   "outputs": [],
   "source": [
    "Best_Practices_DF_wide.head()"
   ]
  },
  {
   "cell_type": "code",
   "execution_count": null,
   "id": "1df9ffdd-86e2-42ff-b4cc-a12cc3787a94",
   "metadata": {},
   "outputs": [],
   "source": [
    "Best_Practices_DF_wide.columns=['customer_id','Best_partices_1','Best_partices_2','Best_partices_3','Best_partices_4','Best_partices_5','Best_partices_6']"
   ]
  },
  {
   "cell_type": "code",
   "execution_count": null,
   "id": "ce552f52-e518-4a41-bd7d-f64cafe44cb8",
   "metadata": {},
   "outputs": [],
   "source": [
    "cols_to_sum=['Best_partices_1','Best_partices_2','Best_partices_3','Best_partices_4','Best_partices_5','Best_partices_6']\n",
    "Best_Practices_DF_wide['Best_Practice_All']=Best_Practices_DF_wide[cols_to_sum].sum(axis=1)"
   ]
  },
  {
   "cell_type": "code",
   "execution_count": null,
   "id": "63441cdd-bf1e-4b6c-8b4f-69e60e904a70",
   "metadata": {},
   "outputs": [],
   "source": [
    "Best_Practices_DF_wide['Best_Practice_All_flag']=Best_Practices_DF_wide['Best_Practice_All'].apply(lambda x: 1 if x==6 else 0)"
   ]
  },
  {
   "cell_type": "code",
   "execution_count": null,
   "id": "c0b76303-6ad9-4275-a4a5-0afa7deb38fc",
   "metadata": {},
   "outputs": [],
   "source": [
    "Best_Practices_DF_wide.head()"
   ]
  },
  {
   "cell_type": "code",
   "execution_count": null,
   "id": "03261dc5-7b5b-4a1e-89f5-a84b00198b22",
   "metadata": {},
   "outputs": [],
   "source": [
    "Arming_DF=extract_bq_data(bq_client, sql=Arming_Query)"
   ]
  },
  {
   "cell_type": "code",
   "execution_count": null,
   "id": "7e7a61ce-fc69-4090-a5cb-62cb392737ca",
   "metadata": {},
   "outputs": [],
   "source": [
    "max_number_arming_dates=Arming_DF['count_of_dates_arming'].max()\n",
    "Arming_DF['Arming_Consistency']=Arming_DF['number_days_arming_disarming'].apply(lambda x: x*100/max_number_arming_dates)"
   ]
  },
  {
   "cell_type": "code",
   "execution_count": null,
   "id": "6cb774c9-b8cc-4e1e-a24b-6ad80f067579",
   "metadata": {},
   "outputs": [],
   "source": [
    "Login_DF=extract_bq_data(bq_client, sql=Login_SQL)"
   ]
  },
  {
   "cell_type": "code",
   "execution_count": null,
   "id": "155841a9-2d8a-4d9e-a409-2780eb33923d",
   "metadata": {},
   "outputs": [],
   "source": [
    "max_number_login_dates=Login_DF['count_of_dates_logins'].max()\n",
    "Login_DF['Login_Consistency']=Login_DF['number_of_login_days'].apply(lambda x: x*100/max_number_login_dates)"
   ]
  },
  {
   "cell_type": "code",
   "execution_count": null,
   "id": "97935621-64e1-419e-bbfa-6d1486b9e96a",
   "metadata": {},
   "outputs": [],
   "source": [
    "Merge_DF=Customer_DF.merge(Best_Practices_DF_wide,on='customer_id',how='left')"
   ]
  },
  {
   "cell_type": "code",
   "execution_count": null,
   "id": "1a8940c8-d737-4a90-b15e-feb5b86a9a46",
   "metadata": {},
   "outputs": [],
   "source": [
    "Merge_DF_1=Merge_DF.merge(Arming_DF,on='customer_id',how='left')"
   ]
  },
  {
   "cell_type": "code",
   "execution_count": null,
   "id": "08c6f493-0af5-4515-b7c2-9dcef5f4ceca",
   "metadata": {},
   "outputs": [],
   "source": [
    "Merge_DF_2=Merge_DF_1.merge(Login_DF,on='customer_id',how='left')"
   ]
  },
  {
   "cell_type": "code",
   "execution_count": null,
   "id": "26bf6e38-34dc-4b99-a721-c9665857af98",
   "metadata": {},
   "outputs": [],
   "source": [
    "del Merge_DF_1,Merge_DF"
   ]
  },
  {
   "cell_type": "code",
   "execution_count": null,
   "id": "aa346453-fad0-41ad-a8dc-f38d7d789566",
   "metadata": {},
   "outputs": [],
   "source": [
    "Merge_DF_2.info()"
   ]
  },
  {
   "cell_type": "code",
   "execution_count": null,
   "id": "cdabb536-c5fb-4e83-94ac-5139db333a34",
   "metadata": {},
   "outputs": [],
   "source": [
    "Merge_DF_2=Merge_DF_2.replace(np.nan, 0)"
   ]
  },
  {
   "cell_type": "code",
   "execution_count": null,
   "id": "6662609d-5de8-4f82-99ff-2bb287b1e1dd",
   "metadata": {},
   "outputs": [],
   "source": [
    "def Segment_making(row\n",
    "                   ,min_login_consistency_threshold=50\n",
    "                   ,min_arming_consistency_threshold=50\n",
    "                   ,max_login_consistency_threshold=50\n",
    "                   ,max_arming_consistency_threshold=50):\n",
    "    \n",
    "    if row['Best_Practice_All']>=5 and row['Login_Consistency']>=max_login_consistency_threshold  and row['Arming_Consistency']>=max_arming_consistency_threshold:\n",
    "        return 'Heavy_User'\n",
    "    elif row['Login_Consistency']>=max_login_consistency_threshold  and row['Arming_Consistency']< min_arming_consistency_threshold:\n",
    "        return 'Home_automation_Savvy'\n",
    "    elif row['Login_Consistency']< min_login_consistency_threshold  and row['Arming_Consistency']>=max_login_consistency_threshold:\n",
    "        return 'Old_Fashion'\n",
    "    elif row['Login_Consistency']==0  and row['Arming_Consistency']==0:\n",
    "        return 'Disengaged'\n",
    "    else:\n",
    "        return \"Moderate_Users\""
   ]
  },
  {
   "cell_type": "code",
   "execution_count": null,
   "id": "15cd2341-e034-4f59-9389-3da578a2c26f",
   "metadata": {},
   "outputs": [],
   "source": [
    "Merge_DF_2['Segment']=Merge_DF_2.apply(Segment_making,axis=1)"
   ]
  },
  {
   "cell_type": "code",
   "execution_count": null,
   "id": "6eafc59a-e5ab-4eb3-b767-861d9b6ec993",
   "metadata": {},
   "outputs": [],
   "source": [
    "Merge_DF_2['Segment'].value_counts()"
   ]
  },
  {
   "cell_type": "code",
   "execution_count": null,
   "id": "da64c088-5bc7-41c2-99ca-fa522b5d36b8",
   "metadata": {},
   "outputs": [],
   "source": [
    "Merge_DF_2['Segment'].value_counts(normalize=True)*100"
   ]
  },
  {
   "cell_type": "code",
   "execution_count": null,
   "id": "6685b142-998b-4b5f-aef5-cf8092732f51",
   "metadata": {},
   "outputs": [],
   "source": [
    "GTM_data=extract_bq_data(bq_client, sql=Query)"
   ]
  },
  {
   "cell_type": "code",
   "execution_count": null,
   "id": "9804a59c-d31d-4ade-89b6-736e20dcbaf5",
   "metadata": {},
   "outputs": [],
   "source": [
    "GTM_data.info()"
   ]
  },
  {
   "cell_type": "code",
   "execution_count": null,
   "id": "bccfed9e-cfee-4c09-aeeb-88cf9438b0af",
   "metadata": {},
   "outputs": [],
   "source": [
    "GTM_data['creative_cd'].value_counts()"
   ]
  },
  {
   "cell_type": "code",
   "execution_count": null,
   "id": "4721c5e2-d03d-464b-b8d7-bf7173754469",
   "metadata": {},
   "outputs": [],
   "source": [
    "pd.DataFrame(GTM_data.groupby(['creative_cd','ctrl_flg']).agg(\n",
    "    \n",
    "    Customer_count= ('bus_cust_id','count'),\n",
    "    # # Customer_Share= ('customer_id',lambda x:x.count()*100/Merge_DF_4.shape[0])\n",
    "    # Churn_total=('Telus_Churn_Flag',lambda x: x.sum()),\n",
    "    # Churn_rate=('Telus_Churn_Flag',lambda x: x.mean()*100)\n",
    ").reset_index())"
   ]
  },
  {
   "cell_type": "code",
   "execution_count": null,
   "id": "5e129938-760b-4e80-9092-61d71a9b8373",
   "metadata": {},
   "outputs": [],
   "source": [
    "GTM_NOUse_INCON=GTM_data[GTM_data.creative_cd=='ADCNOUSEINCON11.30.2'].merge(Merge_DF_2,left_on='bus_cust_id',right_on='dealer_customer_id',how='left')"
   ]
  },
  {
   "cell_type": "code",
   "execution_count": null,
   "id": "cacdae41-a6da-469d-810b-15680a40011b",
   "metadata": {},
   "outputs": [],
   "source": [
    "GTM_NOUse_INCON.shape"
   ]
  },
  {
   "cell_type": "code",
   "execution_count": null,
   "id": "60af63d1-98b1-4b31-af02-add0a37ebe09",
   "metadata": {},
   "outputs": [],
   "source": [
    "pd.DataFrame(GTM_NOUse_INCON[GTM_NOUse_INCON.ctrl_flg=='N'].groupby(['ctrl_flg','Segment']).agg(\n",
    "    \n",
    "    Customer_count= ('bus_cust_id','count'),\n",
    "    Customer_Share= ('bus_cust_id',lambda x:x.count()*100/GTM_NOUse_INCON[GTM_NOUse_INCON.ctrl_flg=='N'].shape[0])\n",
    "    \n",
    "    # # Customer_Share= ('customer_id',lambda x:x.count()*100/Merge_DF_4.shape[0])\n",
    "    # Churn_total=('Telus_Churn_Flag',lambda x: x.sum()),\n",
    "    # Churn_rate=('Telus_Churn_Flag',lambda x: x.mean()*100)\n",
    ").reset_index())"
   ]
  },
  {
   "cell_type": "code",
   "execution_count": null,
   "id": "db748fc3-d329-47a8-8b59-8df064c38f3c",
   "metadata": {},
   "outputs": [],
   "source": [
    "pd.DataFrame(GTM_NOUse_INCON[GTM_NOUse_INCON.ctrl_flg=='Y'].groupby(['ctrl_flg','Segment']).agg(\n",
    "    \n",
    "    Customer_count= ('bus_cust_id','count'),\n",
    "    Customer_Share= ('bus_cust_id',lambda x:x.count()*100/GTM_NOUse_INCON[GTM_NOUse_INCON.ctrl_flg=='Y'].shape[0])\n",
    "    \n",
    "    # # Customer_Share= ('customer_id',lambda x:x.count()*100/Merge_DF_4.shape[0])\n",
    "    # Churn_total=('Telus_Churn_Flag',lambda x: x.sum()),\n",
    "    # Churn_rate=('Telus_Churn_Flag',lambda x: x.mean()*100)\n",
    ").reset_index())"
   ]
  },
  {
   "cell_type": "code",
   "execution_count": null,
   "id": "1138f44e-51a6-45d4-81aa-be8f1b6ea3f4",
   "metadata": {},
   "outputs": [],
   "source": [
    "GTM_NOUse_OOCON=GTM_data[GTM_data.creative_cd=='ADCNOUSEOOC11.30.22'].merge(Merge_DF_2,left_on='bus_cust_id',right_on='dealer_customer_id',how='left')"
   ]
  },
  {
   "cell_type": "code",
   "execution_count": null,
   "id": "d5f6ad62-4f1e-4e8b-a48e-d82ef2fd3920",
   "metadata": {},
   "outputs": [],
   "source": [
    "GTM_NOUse_OOCON.shape"
   ]
  },
  {
   "cell_type": "code",
   "execution_count": null,
   "id": "de628b16-92d3-4a1b-875f-ef0dc6ffee0c",
   "metadata": {},
   "outputs": [],
   "source": [
    "pd.DataFrame(GTM_NOUse_OOCON[GTM_NOUse_OOCON.ctrl_flg=='N'].groupby(['ctrl_flg','Segment']).agg(\n",
    "    \n",
    "    Customer_count= ('bus_cust_id','count'),\n",
    "    Customer_Share= ('bus_cust_id',lambda x:x.count()*100/GTM_NOUse_OOCON[GTM_NOUse_OOCON.ctrl_flg=='N'].shape[0])\n",
    "    \n",
    "    # # Customer_Share= ('customer_id',lambda x:x.count()*100/Merge_DF_4.shape[0])\n",
    "    # Churn_total=('Telus_Churn_Flag',lambda x: x.sum()),\n",
    "    # Churn_rate=('Telus_Churn_Flag',lambda x: x.mean()*100)\n",
    ").reset_index())"
   ]
  },
  {
   "cell_type": "code",
   "execution_count": null,
   "id": "7a6d90c9-b657-4097-8c7c-af6bac786cb6",
   "metadata": {},
   "outputs": [],
   "source": [
    "pd.DataFrame(GTM_NOUse_OOCON[GTM_NOUse_OOCON.ctrl_flg=='Y'].groupby(['ctrl_flg','Segment']).agg(\n",
    "    \n",
    "    Customer_count= ('bus_cust_id','count'),\n",
    "    Customer_Share= ('bus_cust_id',lambda x:x.count()*100/GTM_NOUse_OOCON[GTM_NOUse_OOCON.ctrl_flg=='Y'].shape[0])\n",
    "    \n",
    "    # # Customer_Share= ('customer_id',lambda x:x.count()*100/Merge_DF_4.shape[0])\n",
    "    # Churn_total=('Telus_Churn_Flag',lambda x: x.sum()),\n",
    "    # Churn_rate=('Telus_Churn_Flag',lambda x: x.mean()*100)\n",
    ").reset_index())"
   ]
  },
  {
   "cell_type": "code",
   "execution_count": null,
   "id": "d5ee60cf-8e84-4b02-a413-77075f548f4a",
   "metadata": {},
   "outputs": [],
   "source": [
    "GTM_LowUse_InCON=GTM_data[GTM_data.creative_cd=='ADCLOWUSEINCON11.30.'].merge(Merge_DF_2,left_on='bus_cust_id',right_on='dealer_customer_id',how='left')"
   ]
  },
  {
   "cell_type": "code",
   "execution_count": null,
   "id": "4e31ed45-90b3-4682-a7c6-3d48c7c708e2",
   "metadata": {},
   "outputs": [],
   "source": [
    "pd.DataFrame(GTM_LowUse_InCON[GTM_LowUse_InCON.ctrl_flg=='N'].groupby(['ctrl_flg','Segment']).agg(\n",
    "    \n",
    "    Customer_count= ('bus_cust_id','count'),\n",
    "    Customer_Share= ('bus_cust_id',lambda x:x.count()*100/GTM_LowUse_InCON[GTM_LowUse_InCON.ctrl_flg=='N'].shape[0])\n",
    "    \n",
    "    # # Customer_Share= ('customer_id',lambda x:x.count()*100/Merge_DF_4.shape[0])\n",
    "    # Churn_total=('Telus_Churn_Flag',lambda x: x.sum()),\n",
    "    # Churn_rate=('Telus_Churn_Flag',lambda x: x.mean()*100)\n",
    ").reset_index())"
   ]
  },
  {
   "cell_type": "code",
   "execution_count": null,
   "id": "ab7a83f1-dc80-417b-a18d-7722a7eb8bf9",
   "metadata": {},
   "outputs": [],
   "source": [
    "pd.DataFrame(GTM_LowUse_InCON[GTM_LowUse_InCON.ctrl_flg=='Y'].groupby(['ctrl_flg','Segment']).agg(\n",
    "    \n",
    "    Customer_count= ('bus_cust_id','count'),\n",
    "    Customer_Share= ('bus_cust_id',lambda x:x.count()*100/GTM_LowUse_InCON[GTM_LowUse_InCON.ctrl_flg=='Y'].shape[0])\n",
    "    \n",
    "    # # Customer_Share= ('customer_id',lambda x:x.count()*100/Merge_DF_4.shape[0])\n",
    "    # Churn_total=('Telus_Churn_Flag',lambda x: x.sum()),\n",
    "    # Churn_rate=('Telus_Churn_Flag',lambda x: x.mean()*100)\n",
    ").reset_index())"
   ]
  },
  {
   "cell_type": "code",
   "execution_count": null,
   "id": "1742fa6f-8879-46a5-b48f-5d3aaa383b4c",
   "metadata": {},
   "outputs": [],
   "source": []
  }
 ],
 "metadata": {
  "kernelspec": {
   "display_name": "Python 3 (ipykernel)",
   "language": "python",
   "name": "python3"
  },
  "language_info": {
   "codemirror_mode": {
    "name": "ipython",
    "version": 3
   },
   "file_extension": ".py",
   "mimetype": "text/x-python",
   "name": "python",
   "nbconvert_exporter": "python",
   "pygments_lexer": "ipython3",
   "version": "3.8.12"
  }
 },
 "nbformat": 4,
 "nbformat_minor": 5
}
