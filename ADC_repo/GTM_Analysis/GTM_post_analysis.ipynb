{
 "cells": [
  {
   "cell_type": "code",
   "execution_count": 3,
   "id": "1a08798e-74a4-41d4-b16a-3ee501a5a2fb",
   "metadata": {},
   "outputs": [],
   "source": [
    "#### import global modules\n",
    "import os\n",
    "import sys\n",
    "import pandas as pd\n",
    "import numpy as np\n",
    "from pathlib import Path\n",
    "from yaml import safe_load\n",
    "import google.oauth2.credentials\n",
    "from google.cloud import bigquery\n",
    "import gc\n",
    "\n",
    "# Set global vars\n",
    "pth_project = Path(os.getcwd().split('notebooks')[0])\n",
    "pth_data = pth_project / 'data'\n",
    "pth_queries = pth_project / 'core' / 'queries'\n",
    "pth_creds = pth_project / 'conf' / 'local' / 'project_config.yaml'\n",
    "sys.path.insert(0, str(pth_project))\n",
    "d_project_config = safe_load(pth_creds.open())\n",
    "# d_params = safe_load((pth_project / 'core' / 'parameters' / 'common.yaml').open())['data_extract']\n",
    "\n",
    "# import local modules\n",
    "from core.utils.gcp import connect_bq_services\n",
    "# from core.etl.extract import extract_bq_data, extract_pr_codes, format_conv_df, filter_convs\n",
    "\n",
    "# Connect to google services\n",
    "bq_client = connect_bq_services(d_project_config['gcp-project-name'])\n",
    "pd.options.display.max_rows = 100"
   ]
  },
  {
   "cell_type": "code",
   "execution_count": 4,
   "id": "738b3ac4-6d6e-4c9a-a21e-685a970949f1",
   "metadata": {},
   "outputs": [],
   "source": [
    "def extract_bq_data(bq_client, sql=None, pth_query=None):\n",
    "    if sql is not None:\n",
    "        df = bq_client.query(sql).to_dataframe()\n",
    "    elif pth_query is not None:\n",
    "        sql = pth_query.read_text()\n",
    "        df = bq_client.query(sql).to_dataframe()\n",
    "    else:\n",
    "        raise ValueError('`sql` or `pth_query` should be set')  \n",
    "    return df"
   ]
  },
  {
   "cell_type": "code",
   "execution_count": 5,
   "id": "152ec9f4-75c7-424b-af50-efc7d88b4e2b",
   "metadata": {},
   "outputs": [],
   "source": [
    "Query='''\n",
    "\n",
    "\n",
    "select * from `divgpras-pr-579355.SHS.SHS_GTM_ADC_UseCases_30Nov2022`\n",
    "\n",
    "'''"
   ]
  },
  {
   "cell_type": "code",
   "execution_count": 20,
   "id": "b9f0f863-daa3-4c49-9f1f-8c779dfd665d",
   "metadata": {},
   "outputs": [],
   "source": [
    "Customer_details='''\n",
    "\n",
    "\n",
    "DECLARE _end_dt_snpsht DATE DEFAULT '2023-01-20';\n",
    "DECLARE _start_dt_snpsht DATE DEFAULT '2022-12-01';\n",
    "\n",
    "\n",
    "\n",
    "\n",
    "SELECT customer_id,dealer_customer_id,primary_login_id,dealer_name,join_date,account_type_name,customer_type_name,primary_email,primary_phone,last_updt_ts\n",
    "FROM `cio-datahub-enterprise-pr-183a.src_adc.bq_customer_account_details` \n",
    "where date(last_updt_ts) <= _end_dt_snpsht\n",
    "and date(last_updt_ts) >= _start_dt_snpsht\n",
    "and  dealer_name in ('TELUS Communications Inc.')\n",
    "QUALIFY ROW_NUMBER() OVER (PARTITION BY customer_id ORDER BY last_updt_ts DESC) = 1\n",
    "order by dealer_name,join_date,customer_id\n",
    "\n",
    "\n",
    "\n",
    "\n",
    "\n",
    "\n",
    "\n",
    "'''"
   ]
  },
  {
   "cell_type": "code",
   "execution_count": 21,
   "id": "53f63d48-7a41-44b8-86d4-7c37094a18da",
   "metadata": {},
   "outputs": [],
   "source": [
    "Best_practices_details_Query='''\n",
    "\n",
    "select customer_id,best_practices_id,best_practices_ind,date(dt_last_calculate_utc) as last_date_calculate\n",
    "from `cio-datahub-enterprise-pr-183a.src_adc.bq_customer_best_practice`\n",
    "where DATE(dt_last_calculate_utc)<'2023-01-20'\n",
    "\n",
    "QUALIFY ROW_NUMBER() OVER (PARTITION BY customer_id,best_practices_id ORDER BY last_updt_ts DESC) = 1\n",
    "order by customer_id,best_practices_id\n",
    "\n",
    "\n",
    "'''"
   ]
  },
  {
   "cell_type": "code",
   "execution_count": 22,
   "id": "34b9c64a-183a-4b98-99ac-ff7c24fb6c55",
   "metadata": {},
   "outputs": [],
   "source": [
    "Arming_Query=  '''\n",
    "\n",
    "with date_sql as (\n",
    "select  count(distinct date(date)) as count_of_dates from `cio-datahub-enterprise-pr-183a.src_adc.bq_aggregate_daily_arming_commands`\n",
    "where date(date)<= '2023-01-20' and date(date)>= '2022-12-01'\n",
    "\n",
    ")\n",
    "\n",
    "select id_cust as customer_id,sum(count_arm_commands) as sum_arm_commands,sum(count_disarm_commands) as sum_disarm_commands,count (distinct date(date)) as number_days_arming_disarming, (select count_of_dates from date_sql ) as count_of_dates_arming\n",
    "from `cio-datahub-enterprise-pr-183a.src_adc.bq_aggregate_daily_arming_commands`\n",
    "where date(date)< '2023-01-20' and date(date)>= '2022-12-01'\n",
    "group by customer_id\n",
    "order by number_days_arming_disarming desc\n",
    "\n",
    "'''"
   ]
  },
  {
   "cell_type": "code",
   "execution_count": 23,
   "id": "356e9352-19c9-40a5-b5ab-e33df16f580e",
   "metadata": {},
   "outputs": [],
   "source": [
    "Login_SQL='''\n",
    "\n",
    "with date_sql as (\n",
    "select  count(distinct date(login_dt_utc)) as count_of_dates from `cio-datahub-enterprise-pr-183a.src_adc.bq_customer_daily_logins`\n",
    "where date(login_dt_utc)<= '2023-01-20' and date(login_dt_utc)>= '2022-12-01' \n",
    "\n",
    ")\n",
    "\n",
    "\n",
    "\n",
    "select customer_id,sum(login_count) as sum_login_count,count (distinct date(login_dt_utc)) as number_of_login_days, (select count_of_dates from date_sql ) as count_of_dates_logins\n",
    "from `cio-datahub-enterprise-pr-183a.src_adc.bq_customer_daily_logins`\n",
    "where date(login_dt_utc)<= '2023-01-20' and date(login_dt_utc)>= '2022-12-01' \n",
    "group by customer_id\n",
    "order by number_of_login_days desc\n",
    "\n",
    "\n",
    "'''"
   ]
  },
  {
   "cell_type": "code",
   "execution_count": 24,
   "id": "5bc513fc-711f-4b0e-869e-761a664454a4",
   "metadata": {},
   "outputs": [],
   "source": [
    "Customer_DF=extract_bq_data(bq_client, sql=Customer_details)"
   ]
  },
  {
   "cell_type": "code",
   "execution_count": 26,
   "id": "995fefcb-ceac-4c20-bd20-531cedbbac05",
   "metadata": {},
   "outputs": [
    {
     "name": "stdout",
     "output_type": "stream",
     "text": [
      "<class 'pandas.core.frame.DataFrame'>\n",
      "RangeIndex: 557226 entries, 0 to 557225\n",
      "Data columns (total 10 columns):\n",
      " #   Column              Non-Null Count   Dtype              \n",
      "---  ------              --------------   -----              \n",
      " 0   customer_id         557226 non-null  Int64              \n",
      " 1   dealer_customer_id  557226 non-null  object             \n",
      " 2   primary_login_id    557226 non-null  Int64              \n",
      " 3   dealer_name         557226 non-null  object             \n",
      " 4   join_date           557226 non-null  datetime64[ns, UTC]\n",
      " 5   account_type_name   557226 non-null  object             \n",
      " 6   customer_type_name  557226 non-null  object             \n",
      " 7   primary_email       557226 non-null  object             \n",
      " 8   primary_phone       557226 non-null  object             \n",
      " 9   last_updt_ts        557226 non-null  datetime64[ns, UTC]\n",
      "dtypes: Int64(2), datetime64[ns, UTC](2), object(6)\n",
      "memory usage: 43.6+ MB\n"
     ]
    }
   ],
   "source": [
    "Customer_DF.info()"
   ]
  },
  {
   "cell_type": "code",
   "execution_count": 28,
   "id": "f06cd1dc-64b5-467c-b65f-de785944feda",
   "metadata": {},
   "outputs": [],
   "source": [
    "Best_Practices_DF=extract_bq_data(bq_client, sql=Best_practices_details_Query)"
   ]
  },
  {
   "cell_type": "code",
   "execution_count": 29,
   "id": "1fe4963d-2402-4055-83d9-d0862f57c1a0",
   "metadata": {},
   "outputs": [],
   "source": [
    "Best_Practices_DF['Best_practices_flag']=Best_Practices_DF['best_practices_ind'].apply(lambda x: 1 if x==True else 0)"
   ]
  },
  {
   "cell_type": "code",
   "execution_count": 30,
   "id": "a0e2e9d9-a4bf-4e5d-a2ae-f6dea32ac6cc",
   "metadata": {},
   "outputs": [],
   "source": [
    "Best_Practices_DF_wide=Best_Practices_DF.pivot(index='customer_id', columns='best_practices_id', values='Best_practices_flag').reset_index()"
   ]
  },
  {
   "cell_type": "code",
   "execution_count": 31,
   "id": "14d392a8-2d4e-4733-97bf-961617a89798",
   "metadata": {},
   "outputs": [
    {
     "data": {
      "text/html": [
       "<div>\n",
       "<style scoped>\n",
       "    .dataframe tbody tr th:only-of-type {\n",
       "        vertical-align: middle;\n",
       "    }\n",
       "\n",
       "    .dataframe tbody tr th {\n",
       "        vertical-align: top;\n",
       "    }\n",
       "\n",
       "    .dataframe thead th {\n",
       "        text-align: right;\n",
       "    }\n",
       "</style>\n",
       "<table border=\"1\" class=\"dataframe\">\n",
       "  <thead>\n",
       "    <tr style=\"text-align: right;\">\n",
       "      <th>best_practices_id</th>\n",
       "      <th>customer_id</th>\n",
       "      <th>1</th>\n",
       "      <th>2</th>\n",
       "      <th>3</th>\n",
       "      <th>4</th>\n",
       "      <th>5</th>\n",
       "      <th>6</th>\n",
       "    </tr>\n",
       "  </thead>\n",
       "  <tbody>\n",
       "    <tr>\n",
       "      <th>0</th>\n",
       "      <td>287850</td>\n",
       "      <td>1</td>\n",
       "      <td>0</td>\n",
       "      <td>0</td>\n",
       "      <td>0</td>\n",
       "      <td>1</td>\n",
       "      <td>0</td>\n",
       "    </tr>\n",
       "    <tr>\n",
       "      <th>1</th>\n",
       "      <td>292877</td>\n",
       "      <td>1</td>\n",
       "      <td>1</td>\n",
       "      <td>0</td>\n",
       "      <td>0</td>\n",
       "      <td>0</td>\n",
       "      <td>0</td>\n",
       "    </tr>\n",
       "    <tr>\n",
       "      <th>2</th>\n",
       "      <td>299100</td>\n",
       "      <td>1</td>\n",
       "      <td>1</td>\n",
       "      <td>0</td>\n",
       "      <td>0</td>\n",
       "      <td>1</td>\n",
       "      <td>1</td>\n",
       "    </tr>\n",
       "    <tr>\n",
       "      <th>3</th>\n",
       "      <td>355703</td>\n",
       "      <td>1</td>\n",
       "      <td>1</td>\n",
       "      <td>0</td>\n",
       "      <td>1</td>\n",
       "      <td>1</td>\n",
       "      <td>1</td>\n",
       "    </tr>\n",
       "    <tr>\n",
       "      <th>4</th>\n",
       "      <td>359052</td>\n",
       "      <td>1</td>\n",
       "      <td>1</td>\n",
       "      <td>0</td>\n",
       "      <td>0</td>\n",
       "      <td>1</td>\n",
       "      <td>1</td>\n",
       "    </tr>\n",
       "  </tbody>\n",
       "</table>\n",
       "</div>"
      ],
      "text/plain": [
       "best_practices_id  customer_id  1  2  3  4  5  6\n",
       "0                       287850  1  0  0  0  1  0\n",
       "1                       292877  1  1  0  0  0  0\n",
       "2                       299100  1  1  0  0  1  1\n",
       "3                       355703  1  1  0  1  1  1\n",
       "4                       359052  1  1  0  0  1  1"
      ]
     },
     "execution_count": 31,
     "metadata": {},
     "output_type": "execute_result"
    }
   ],
   "source": [
    "Best_Practices_DF_wide.head()"
   ]
  },
  {
   "cell_type": "code",
   "execution_count": 32,
   "id": "1df9ffdd-86e2-42ff-b4cc-a12cc3787a94",
   "metadata": {},
   "outputs": [],
   "source": [
    "Best_Practices_DF_wide.columns=['customer_id','Best_partices_1','Best_partices_2','Best_partices_3','Best_partices_4','Best_partices_5','Best_partices_6']"
   ]
  },
  {
   "cell_type": "code",
   "execution_count": 33,
   "id": "ce552f52-e518-4a41-bd7d-f64cafe44cb8",
   "metadata": {},
   "outputs": [],
   "source": [
    "cols_to_sum=['Best_partices_1','Best_partices_2','Best_partices_3','Best_partices_4','Best_partices_5','Best_partices_6']\n",
    "Best_Practices_DF_wide['Best_Practice_All']=Best_Practices_DF_wide[cols_to_sum].sum(axis=1)"
   ]
  },
  {
   "cell_type": "code",
   "execution_count": 34,
   "id": "63441cdd-bf1e-4b6c-8b4f-69e60e904a70",
   "metadata": {},
   "outputs": [],
   "source": [
    "Best_Practices_DF_wide['Best_Practice_All_flag']=Best_Practices_DF_wide['Best_Practice_All'].apply(lambda x: 1 if x==6 else 0)"
   ]
  },
  {
   "cell_type": "code",
   "execution_count": 35,
   "id": "c0b76303-6ad9-4275-a4a5-0afa7deb38fc",
   "metadata": {},
   "outputs": [
    {
     "data": {
      "text/html": [
       "<div>\n",
       "<style scoped>\n",
       "    .dataframe tbody tr th:only-of-type {\n",
       "        vertical-align: middle;\n",
       "    }\n",
       "\n",
       "    .dataframe tbody tr th {\n",
       "        vertical-align: top;\n",
       "    }\n",
       "\n",
       "    .dataframe thead th {\n",
       "        text-align: right;\n",
       "    }\n",
       "</style>\n",
       "<table border=\"1\" class=\"dataframe\">\n",
       "  <thead>\n",
       "    <tr style=\"text-align: right;\">\n",
       "      <th></th>\n",
       "      <th>customer_id</th>\n",
       "      <th>Best_partices_1</th>\n",
       "      <th>Best_partices_2</th>\n",
       "      <th>Best_partices_3</th>\n",
       "      <th>Best_partices_4</th>\n",
       "      <th>Best_partices_5</th>\n",
       "      <th>Best_partices_6</th>\n",
       "      <th>Best_Practice_All</th>\n",
       "      <th>Best_Practice_All_flag</th>\n",
       "    </tr>\n",
       "  </thead>\n",
       "  <tbody>\n",
       "    <tr>\n",
       "      <th>0</th>\n",
       "      <td>287850</td>\n",
       "      <td>1</td>\n",
       "      <td>0</td>\n",
       "      <td>0</td>\n",
       "      <td>0</td>\n",
       "      <td>1</td>\n",
       "      <td>0</td>\n",
       "      <td>2</td>\n",
       "      <td>0</td>\n",
       "    </tr>\n",
       "    <tr>\n",
       "      <th>1</th>\n",
       "      <td>292877</td>\n",
       "      <td>1</td>\n",
       "      <td>1</td>\n",
       "      <td>0</td>\n",
       "      <td>0</td>\n",
       "      <td>0</td>\n",
       "      <td>0</td>\n",
       "      <td>2</td>\n",
       "      <td>0</td>\n",
       "    </tr>\n",
       "    <tr>\n",
       "      <th>2</th>\n",
       "      <td>299100</td>\n",
       "      <td>1</td>\n",
       "      <td>1</td>\n",
       "      <td>0</td>\n",
       "      <td>0</td>\n",
       "      <td>1</td>\n",
       "      <td>1</td>\n",
       "      <td>4</td>\n",
       "      <td>0</td>\n",
       "    </tr>\n",
       "    <tr>\n",
       "      <th>3</th>\n",
       "      <td>355703</td>\n",
       "      <td>1</td>\n",
       "      <td>1</td>\n",
       "      <td>0</td>\n",
       "      <td>1</td>\n",
       "      <td>1</td>\n",
       "      <td>1</td>\n",
       "      <td>5</td>\n",
       "      <td>0</td>\n",
       "    </tr>\n",
       "    <tr>\n",
       "      <th>4</th>\n",
       "      <td>359052</td>\n",
       "      <td>1</td>\n",
       "      <td>1</td>\n",
       "      <td>0</td>\n",
       "      <td>0</td>\n",
       "      <td>1</td>\n",
       "      <td>1</td>\n",
       "      <td>4</td>\n",
       "      <td>0</td>\n",
       "    </tr>\n",
       "  </tbody>\n",
       "</table>\n",
       "</div>"
      ],
      "text/plain": [
       "   customer_id  Best_partices_1  Best_partices_2  Best_partices_3  \\\n",
       "0       287850                1                0                0   \n",
       "1       292877                1                1                0   \n",
       "2       299100                1                1                0   \n",
       "3       355703                1                1                0   \n",
       "4       359052                1                1                0   \n",
       "\n",
       "   Best_partices_4  Best_partices_5  Best_partices_6  Best_Practice_All  \\\n",
       "0                0                1                0                  2   \n",
       "1                0                0                0                  2   \n",
       "2                0                1                1                  4   \n",
       "3                1                1                1                  5   \n",
       "4                0                1                1                  4   \n",
       "\n",
       "   Best_Practice_All_flag  \n",
       "0                       0  \n",
       "1                       0  \n",
       "2                       0  \n",
       "3                       0  \n",
       "4                       0  "
      ]
     },
     "execution_count": 35,
     "metadata": {},
     "output_type": "execute_result"
    }
   ],
   "source": [
    "Best_Practices_DF_wide.head()"
   ]
  },
  {
   "cell_type": "code",
   "execution_count": 36,
   "id": "03261dc5-7b5b-4a1e-89f5-a84b00198b22",
   "metadata": {},
   "outputs": [],
   "source": [
    "Arming_DF=extract_bq_data(bq_client, sql=Arming_Query)"
   ]
  },
  {
   "cell_type": "code",
   "execution_count": 37,
   "id": "7e7a61ce-fc69-4090-a5cb-62cb392737ca",
   "metadata": {},
   "outputs": [],
   "source": [
    "max_number_arming_dates=Arming_DF['count_of_dates_arming'].max()\n",
    "Arming_DF['Arming_Consistency']=Arming_DF['number_days_arming_disarming'].apply(lambda x: x*100/max_number_arming_dates)"
   ]
  },
  {
   "cell_type": "code",
   "execution_count": 38,
   "id": "6cb774c9-b8cc-4e1e-a24b-6ad80f067579",
   "metadata": {},
   "outputs": [],
   "source": [
    "Login_DF=extract_bq_data(bq_client, sql=Login_SQL)"
   ]
  },
  {
   "cell_type": "code",
   "execution_count": 39,
   "id": "155841a9-2d8a-4d9e-a409-2780eb33923d",
   "metadata": {},
   "outputs": [],
   "source": [
    "max_number_login_dates=Login_DF['count_of_dates_logins'].max()\n",
    "Login_DF['Login_Consistency']=Login_DF['number_of_login_days'].apply(lambda x: x*100/max_number_login_dates)"
   ]
  },
  {
   "cell_type": "code",
   "execution_count": 40,
   "id": "97935621-64e1-419e-bbfa-6d1486b9e96a",
   "metadata": {},
   "outputs": [],
   "source": [
    "Merge_DF=Customer_DF.merge(Best_Practices_DF_wide,on='customer_id',how='left')"
   ]
  },
  {
   "cell_type": "code",
   "execution_count": 41,
   "id": "1a8940c8-d737-4a90-b15e-feb5b86a9a46",
   "metadata": {},
   "outputs": [],
   "source": [
    "Merge_DF_1=Merge_DF.merge(Arming_DF,on='customer_id',how='left')"
   ]
  },
  {
   "cell_type": "code",
   "execution_count": 42,
   "id": "08c6f493-0af5-4515-b7c2-9dcef5f4ceca",
   "metadata": {},
   "outputs": [],
   "source": [
    "Merge_DF_2=Merge_DF_1.merge(Login_DF,on='customer_id',how='left')"
   ]
  },
  {
   "cell_type": "code",
   "execution_count": 43,
   "id": "26bf6e38-34dc-4b99-a721-c9665857af98",
   "metadata": {},
   "outputs": [],
   "source": [
    "del Merge_DF_1,Merge_DF"
   ]
  },
  {
   "cell_type": "code",
   "execution_count": 46,
   "id": "aa346453-fad0-41ad-a8dc-f38d7d789566",
   "metadata": {},
   "outputs": [
    {
     "name": "stdout",
     "output_type": "stream",
     "text": [
      "<class 'pandas.core.frame.DataFrame'>\n",
      "Int64Index: 557226 entries, 0 to 557225\n",
      "Data columns (total 27 columns):\n",
      " #   Column                        Non-Null Count   Dtype              \n",
      "---  ------                        --------------   -----              \n",
      " 0   customer_id                   557226 non-null  Int64              \n",
      " 1   dealer_customer_id            557226 non-null  object             \n",
      " 2   primary_login_id              557226 non-null  Int64              \n",
      " 3   dealer_name                   557226 non-null  object             \n",
      " 4   join_date                     557226 non-null  datetime64[ns, UTC]\n",
      " 5   account_type_name             557226 non-null  object             \n",
      " 6   customer_type_name            557226 non-null  object             \n",
      " 7   primary_email                 557226 non-null  object             \n",
      " 8   primary_phone                 557226 non-null  object             \n",
      " 9   last_updt_ts                  557226 non-null  datetime64[ns, UTC]\n",
      " 10  Best_partices_1               557226 non-null  float64            \n",
      " 11  Best_partices_2               557226 non-null  float64            \n",
      " 12  Best_partices_3               557226 non-null  float64            \n",
      " 13  Best_partices_4               557226 non-null  float64            \n",
      " 14  Best_partices_5               557226 non-null  float64            \n",
      " 15  Best_partices_6               557226 non-null  float64            \n",
      " 16  Best_Practice_All             557226 non-null  float64            \n",
      " 17  Best_Practice_All_flag        557226 non-null  float64            \n",
      " 18  sum_arm_commands              557226 non-null  Int64              \n",
      " 19  sum_disarm_commands           557226 non-null  Int64              \n",
      " 20  number_days_arming_disarming  557226 non-null  Int64              \n",
      " 21  count_of_dates_arming         557226 non-null  Int64              \n",
      " 22  Arming_Consistency            557226 non-null  float64            \n",
      " 23  sum_login_count               557226 non-null  Int64              \n",
      " 24  number_of_login_days          557226 non-null  Int64              \n",
      " 25  count_of_dates_logins         557226 non-null  Int64              \n",
      " 26  Login_Consistency             557226 non-null  float64            \n",
      "dtypes: Int64(9), datetime64[ns, UTC](2), float64(10), object(6)\n",
      "memory usage: 123.8+ MB\n"
     ]
    }
   ],
   "source": [
    "Merge_DF_2.info()"
   ]
  },
  {
   "cell_type": "code",
   "execution_count": 45,
   "id": "cdabb536-c5fb-4e83-94ac-5139db333a34",
   "metadata": {},
   "outputs": [],
   "source": [
    "Merge_DF_2=Merge_DF_2.replace(np.nan, 0)"
   ]
  },
  {
   "cell_type": "code",
   "execution_count": 47,
   "id": "6662609d-5de8-4f82-99ff-2bb287b1e1dd",
   "metadata": {},
   "outputs": [],
   "source": [
    "def Segment_making(row\n",
    "                   ,min_login_consistency_threshold=50\n",
    "                   ,min_arming_consistency_threshold=50\n",
    "                   ,max_login_consistency_threshold=50\n",
    "                   ,max_arming_consistency_threshold=50):\n",
    "    \n",
    "    if row['Best_Practice_All']>=5 and row['Login_Consistency']>=max_login_consistency_threshold  and row['Arming_Consistency']>=max_arming_consistency_threshold:\n",
    "        return 'Heavy_User'\n",
    "    elif row['Login_Consistency']>=max_login_consistency_threshold  and row['Arming_Consistency']< min_arming_consistency_threshold:\n",
    "        return 'Home_automation_Savvy'\n",
    "    elif row['Login_Consistency']< min_login_consistency_threshold  and row['Arming_Consistency']>=max_login_consistency_threshold:\n",
    "        return 'Old_Fashion'\n",
    "    elif row['Login_Consistency']==0  and row['Arming_Consistency']==0:\n",
    "        return 'Disengaged'\n",
    "    else:\n",
    "        return \"Moderate_Users\""
   ]
  },
  {
   "cell_type": "code",
   "execution_count": 48,
   "id": "15cd2341-e034-4f59-9389-3da578a2c26f",
   "metadata": {},
   "outputs": [],
   "source": [
    "Merge_DF_2['Segment']=Merge_DF_2.apply(Segment_making,axis=1)"
   ]
  },
  {
   "cell_type": "code",
   "execution_count": 49,
   "id": "6eafc59a-e5ab-4eb3-b767-861d9b6ec993",
   "metadata": {},
   "outputs": [
    {
     "data": {
      "text/plain": [
       "Moderate_Users           222120\n",
       "Home_automation_Savvy    132986\n",
       "Disengaged               101956\n",
       "Old_Fashion               60269\n",
       "Heavy_User                39895\n",
       "Name: Segment, dtype: int64"
      ]
     },
     "execution_count": 49,
     "metadata": {},
     "output_type": "execute_result"
    }
   ],
   "source": [
    "Merge_DF_2['Segment'].value_counts()"
   ]
  },
  {
   "cell_type": "code",
   "execution_count": 51,
   "id": "da64c088-5bc7-41c2-99ca-fa522b5d36b8",
   "metadata": {},
   "outputs": [
    {
     "data": {
      "text/plain": [
       "Moderate_Users           39.861744\n",
       "Home_automation_Savvy    23.865721\n",
       "Disengaged               18.297064\n",
       "Old_Fashion              10.815899\n",
       "Heavy_User                7.159573\n",
       "Name: Segment, dtype: float64"
      ]
     },
     "execution_count": 51,
     "metadata": {},
     "output_type": "execute_result"
    }
   ],
   "source": [
    "Merge_DF_2['Segment'].value_counts(normalize=True)*100"
   ]
  },
  {
   "cell_type": "code",
   "execution_count": 52,
   "id": "6685b142-998b-4b5f-aef5-cf8092732f51",
   "metadata": {},
   "outputs": [],
   "source": [
    "GTM_data=extract_bq_data(bq_client, sql=Query)"
   ]
  },
  {
   "cell_type": "code",
   "execution_count": 53,
   "id": "9804a59c-d31d-4ade-89b6-736e20dcbaf5",
   "metadata": {},
   "outputs": [
    {
     "name": "stdout",
     "output_type": "stream",
     "text": [
      "<class 'pandas.core.frame.DataFrame'>\n",
      "RangeIndex: 4846 entries, 0 to 4845\n",
      "Data columns (total 81 columns):\n",
      " #   Column                   Non-Null Count  Dtype              \n",
      "---  ------                   --------------  -----              \n",
      " 0   seg_id                   4846 non-null   object             \n",
      " 1   cmpgn_id                 4846 non-null   object             \n",
      " 2   lang_cd                  4846 non-null   object             \n",
      " 3   seg_desc                 0 non-null      Int64              \n",
      " 4   vndr_cd                  4846 non-null   object             \n",
      " 5   vndr_cd_desc             4846 non-null   object             \n",
      " 6   cntct_med                4846 non-null   object             \n",
      " 7   cntct_med_desc           4846 non-null   object             \n",
      " 8   ctrl_flg                 4846 non-null   object             \n",
      " 9   creative_cd              4846 non-null   object             \n",
      " 10  creative_grp             0 non-null      Int64              \n",
      " 11  creative_desc            0 non-null      Int64              \n",
      " 12  in_hm_dt                 4846 non-null   datetime64[ns, UTC]\n",
      " 13  rqst_id                  4846 non-null   object             \n",
      " 14  lob_cd                   4846 non-null   object             \n",
      " 15  lob_desc                 4846 non-null   object             \n",
      " 16  seg_cd                   0 non-null      Int64              \n",
      " 17  trtmt_cd                 0 non-null      Int64              \n",
      " 18  offr_cd                  0 non-null      Int64              \n",
      " 19  audit_cd                 4846 non-null   object             \n",
      " 20  camp_seg_del_ind         4846 non-null   object             \n",
      " 21  camp_seg_create_ts       4846 non-null   datetime64[ns, UTC]\n",
      " 22  camp_seg_last_updt_ts    4846 non-null   datetime64[ns, UTC]\n",
      " 23  pull_dt                  4846 non-null   datetime64[ns, UTC]\n",
      " 24  excl_cntrct_strat        4846 non-null   object             \n",
      " 25  journey_seq_id           0 non-null      Int64              \n",
      " 26  journey_parent_id        0 non-null      Int64              \n",
      " 27  trkg_src                 4846 non-null   object             \n",
      " 28  trkg_cd                  4846 non-null   object             \n",
      " 29  list_num                 4846 non-null   object             \n",
      " 30  list_gen_stat            4846 non-null   object             \n",
      " 31  cmpgn_catgy              4846 non-null   object             \n",
      " 32  cmpgn_catgy_desc         4846 non-null   object             \n",
      " 33  cmpgn_cd                 4846 non-null   object             \n",
      " 34  cmpgn_cd_desc            4846 non-null   object             \n",
      " 35  one_src_link             0 non-null      Int64              \n",
      " 36  cmpgn_desc               4846 non-null   object             \n",
      " 37  cmpgn_typ                4846 non-null   object             \n",
      " 38  cmpgn_typ_desc           4846 non-null   object             \n",
      " 39  data_prime               4846 non-null   object             \n",
      " 40  bus_prime                4846 non-null   object             \n",
      " 41  camp_desc_audit_cd       0 non-null      Int64              \n",
      " 42  camp_desc_del_ind        4846 non-null   object             \n",
      " 43  camp_desc_create_ts      4846 non-null   datetime64[ns, UTC]\n",
      " 44  camp_desc_last_updt_ts   4846 non-null   datetime64[ns, UTC]\n",
      " 45  em_mstr_dl               4846 non-null   object             \n",
      " 46  sms_mstr_dl              0 non-null      Int64              \n",
      " 47  trkg_id                  4846 non-null   Int64              \n",
      " 48  camp_ts                  4846 non-null   datetime64[ns, UTC]\n",
      " 49  ffh_cust_id              4846 non-null   object             \n",
      " 50  ffh_ban                  4846 non-null   object             \n",
      " 51  subsc_num                3944 non-null   object             \n",
      " 52  email_id                 4846 non-null   object             \n",
      " 53  addr_id                  4757 non-null   object             \n",
      " 54  fms_addr_id              4846 non-null   object             \n",
      " 55  lang_pref_cd             0 non-null      Int64              \n",
      " 56  first_nm                 4846 non-null   object             \n",
      " 57  crtc_cmplnc_dt           0 non-null      dbdate             \n",
      " 58  sent_ts                  0 non-null      datetime64[ns, UTC]\n",
      " 59  camp_comm_audit_cd       4846 non-null   object             \n",
      " 60  camp_comm_del_ind        4846 non-null   object             \n",
      " 61  camp_comm_create_ts      4846 non-null   datetime64[ns, UTC]\n",
      " 62  camp_comm_last_updt_ts   4846 non-null   datetime64[ns, UTC]\n",
      " 63  tel_num                  4846 non-null   object             \n",
      " 64  mob_cust_id              0 non-null      Int64              \n",
      " 65  mob_ban                  4329 non-null   object             \n",
      " 66  ai_seg_id                0 non-null      Int64              \n",
      " 67  predict_convrsn          0 non-null      float64            \n",
      " 68  bus_prod_instnc_id       4846 non-null   object             \n",
      " 69  bus_prod_instnc_src_id   4846 non-null   Int64              \n",
      " 70  bus_cust_id              4846 non-null   object             \n",
      " 71  bus_cust_src_id          4846 non-null   Int64              \n",
      " 72  bus_bacct_num            4846 non-null   Int64              \n",
      " 73  bus_bacct_num_src_id     4846 non-null   Int64              \n",
      " 74  bus_pp_catlg_itm_cd      4846 non-null   object             \n",
      " 75  bus_pp_catlg_itm_src_id  4846 non-null   Int64              \n",
      " 76  src_create_dt            4846 non-null   dbdate             \n",
      " 77  create_ts                4846 non-null   datetime64[ns, UTC]\n",
      " 78  create_user_id           4846 non-null   object             \n",
      " 79  last_updt_ts             4846 non-null   datetime64[ns, UTC]\n",
      " 80  last_updt_user_id        4846 non-null   object             \n",
      "dtypes: Int64(20), datetime64[ns, UTC](12), dbdate(2), float64(1), object(46)\n",
      "memory usage: 3.1+ MB\n"
     ]
    }
   ],
   "source": [
    "GTM_data.info()"
   ]
  },
  {
   "cell_type": "code",
   "execution_count": 55,
   "id": "bccfed9e-cfee-4c09-aeeb-88cf9438b0af",
   "metadata": {},
   "outputs": [
    {
     "data": {
      "text/plain": [
       "ADCNOUSEINCON11.30.2    1906\n",
       "ADCLOWUSEINCON11.30.    1697\n",
       "ADCNOUSEOOC11.30.22     1243\n",
       "Name: creative_cd, dtype: int64"
      ]
     },
     "execution_count": 55,
     "metadata": {},
     "output_type": "execute_result"
    }
   ],
   "source": [
    "GTM_data['creative_cd'].value_counts()"
   ]
  },
  {
   "cell_type": "code",
   "execution_count": 57,
   "id": "4721c5e2-d03d-464b-b8d7-bf7173754469",
   "metadata": {},
   "outputs": [
    {
     "data": {
      "text/html": [
       "<div>\n",
       "<style scoped>\n",
       "    .dataframe tbody tr th:only-of-type {\n",
       "        vertical-align: middle;\n",
       "    }\n",
       "\n",
       "    .dataframe tbody tr th {\n",
       "        vertical-align: top;\n",
       "    }\n",
       "\n",
       "    .dataframe thead th {\n",
       "        text-align: right;\n",
       "    }\n",
       "</style>\n",
       "<table border=\"1\" class=\"dataframe\">\n",
       "  <thead>\n",
       "    <tr style=\"text-align: right;\">\n",
       "      <th></th>\n",
       "      <th>creative_cd</th>\n",
       "      <th>ctrl_flg</th>\n",
       "      <th>Customer_count</th>\n",
       "    </tr>\n",
       "  </thead>\n",
       "  <tbody>\n",
       "    <tr>\n",
       "      <th>0</th>\n",
       "      <td>ADCLOWUSEINCON11.30.</td>\n",
       "      <td>N</td>\n",
       "      <td>1608</td>\n",
       "    </tr>\n",
       "    <tr>\n",
       "      <th>1</th>\n",
       "      <td>ADCLOWUSEINCON11.30.</td>\n",
       "      <td>Y</td>\n",
       "      <td>89</td>\n",
       "    </tr>\n",
       "    <tr>\n",
       "      <th>2</th>\n",
       "      <td>ADCNOUSEINCON11.30.2</td>\n",
       "      <td>N</td>\n",
       "      <td>1813</td>\n",
       "    </tr>\n",
       "    <tr>\n",
       "      <th>3</th>\n",
       "      <td>ADCNOUSEINCON11.30.2</td>\n",
       "      <td>Y</td>\n",
       "      <td>93</td>\n",
       "    </tr>\n",
       "    <tr>\n",
       "      <th>4</th>\n",
       "      <td>ADCNOUSEOOC11.30.22</td>\n",
       "      <td>N</td>\n",
       "      <td>1168</td>\n",
       "    </tr>\n",
       "    <tr>\n",
       "      <th>5</th>\n",
       "      <td>ADCNOUSEOOC11.30.22</td>\n",
       "      <td>Y</td>\n",
       "      <td>75</td>\n",
       "    </tr>\n",
       "  </tbody>\n",
       "</table>\n",
       "</div>"
      ],
      "text/plain": [
       "            creative_cd ctrl_flg  Customer_count\n",
       "0  ADCLOWUSEINCON11.30.        N            1608\n",
       "1  ADCLOWUSEINCON11.30.        Y              89\n",
       "2  ADCNOUSEINCON11.30.2        N            1813\n",
       "3  ADCNOUSEINCON11.30.2        Y              93\n",
       "4   ADCNOUSEOOC11.30.22        N            1168\n",
       "5   ADCNOUSEOOC11.30.22        Y              75"
      ]
     },
     "execution_count": 57,
     "metadata": {},
     "output_type": "execute_result"
    }
   ],
   "source": [
    "pd.DataFrame(GTM_data.groupby(['creative_cd','ctrl_flg']).agg(\n",
    "    \n",
    "    Customer_count= ('bus_cust_id','count'),\n",
    "    # # Customer_Share= ('customer_id',lambda x:x.count()*100/Merge_DF_4.shape[0])\n",
    "    # Churn_total=('Telus_Churn_Flag',lambda x: x.sum()),\n",
    "    # Churn_rate=('Telus_Churn_Flag',lambda x: x.mean()*100)\n",
    ").reset_index())"
   ]
  },
  {
   "cell_type": "code",
   "execution_count": 58,
   "id": "5e129938-760b-4e80-9092-61d71a9b8373",
   "metadata": {},
   "outputs": [],
   "source": [
    "GTM_NOUse_INCON=GTM_data[GTM_data.creative_cd=='ADCNOUSEINCON11.30.2'].merge(Merge_DF_2,left_on='bus_cust_id',right_on='dealer_customer_id',how='left')"
   ]
  },
  {
   "cell_type": "code",
   "execution_count": 59,
   "id": "cacdae41-a6da-469d-810b-15680a40011b",
   "metadata": {},
   "outputs": [
    {
     "data": {
      "text/plain": [
       "(1959, 109)"
      ]
     },
     "execution_count": 59,
     "metadata": {},
     "output_type": "execute_result"
    }
   ],
   "source": [
    "GTM_NOUse_INCON.shape"
   ]
  },
  {
   "cell_type": "code",
   "execution_count": 66,
   "id": "60af63d1-98b1-4b31-af02-add0a37ebe09",
   "metadata": {},
   "outputs": [
    {
     "data": {
      "text/html": [
       "<div>\n",
       "<style scoped>\n",
       "    .dataframe tbody tr th:only-of-type {\n",
       "        vertical-align: middle;\n",
       "    }\n",
       "\n",
       "    .dataframe tbody tr th {\n",
       "        vertical-align: top;\n",
       "    }\n",
       "\n",
       "    .dataframe thead th {\n",
       "        text-align: right;\n",
       "    }\n",
       "</style>\n",
       "<table border=\"1\" class=\"dataframe\">\n",
       "  <thead>\n",
       "    <tr style=\"text-align: right;\">\n",
       "      <th></th>\n",
       "      <th>ctrl_flg</th>\n",
       "      <th>Segment</th>\n",
       "      <th>Customer_count</th>\n",
       "      <th>Customer_Share</th>\n",
       "    </tr>\n",
       "  </thead>\n",
       "  <tbody>\n",
       "    <tr>\n",
       "      <th>0</th>\n",
       "      <td>N</td>\n",
       "      <td>Disengaged</td>\n",
       "      <td>695</td>\n",
       "      <td>37.265416</td>\n",
       "    </tr>\n",
       "    <tr>\n",
       "      <th>1</th>\n",
       "      <td>N</td>\n",
       "      <td>Heavy_User</td>\n",
       "      <td>4</td>\n",
       "      <td>0.214477</td>\n",
       "    </tr>\n",
       "    <tr>\n",
       "      <th>2</th>\n",
       "      <td>N</td>\n",
       "      <td>Home_automation_Savvy</td>\n",
       "      <td>247</td>\n",
       "      <td>13.243968</td>\n",
       "    </tr>\n",
       "    <tr>\n",
       "      <th>3</th>\n",
       "      <td>N</td>\n",
       "      <td>Moderate_Users</td>\n",
       "      <td>903</td>\n",
       "      <td>48.418231</td>\n",
       "    </tr>\n",
       "    <tr>\n",
       "      <th>4</th>\n",
       "      <td>N</td>\n",
       "      <td>Old_Fashion</td>\n",
       "      <td>4</td>\n",
       "      <td>0.214477</td>\n",
       "    </tr>\n",
       "  </tbody>\n",
       "</table>\n",
       "</div>"
      ],
      "text/plain": [
       "  ctrl_flg                Segment  Customer_count  Customer_Share\n",
       "0        N             Disengaged             695       37.265416\n",
       "1        N             Heavy_User               4        0.214477\n",
       "2        N  Home_automation_Savvy             247       13.243968\n",
       "3        N         Moderate_Users             903       48.418231\n",
       "4        N            Old_Fashion               4        0.214477"
      ]
     },
     "execution_count": 66,
     "metadata": {},
     "output_type": "execute_result"
    }
   ],
   "source": [
    "pd.DataFrame(GTM_NOUse_INCON[GTM_NOUse_INCON.ctrl_flg=='N'].groupby(['ctrl_flg','Segment']).agg(\n",
    "    \n",
    "    Customer_count= ('bus_cust_id','count'),\n",
    "    Customer_Share= ('bus_cust_id',lambda x:x.count()*100/GTM_NOUse_INCON[GTM_NOUse_INCON.ctrl_flg=='N'].shape[0])\n",
    "    \n",
    "    # # Customer_Share= ('customer_id',lambda x:x.count()*100/Merge_DF_4.shape[0])\n",
    "    # Churn_total=('Telus_Churn_Flag',lambda x: x.sum()),\n",
    "    # Churn_rate=('Telus_Churn_Flag',lambda x: x.mean()*100)\n",
    ").reset_index())"
   ]
  },
  {
   "cell_type": "code",
   "execution_count": 67,
   "id": "db748fc3-d329-47a8-8b59-8df064c38f3c",
   "metadata": {},
   "outputs": [
    {
     "data": {
      "text/html": [
       "<div>\n",
       "<style scoped>\n",
       "    .dataframe tbody tr th:only-of-type {\n",
       "        vertical-align: middle;\n",
       "    }\n",
       "\n",
       "    .dataframe tbody tr th {\n",
       "        vertical-align: top;\n",
       "    }\n",
       "\n",
       "    .dataframe thead th {\n",
       "        text-align: right;\n",
       "    }\n",
       "</style>\n",
       "<table border=\"1\" class=\"dataframe\">\n",
       "  <thead>\n",
       "    <tr style=\"text-align: right;\">\n",
       "      <th></th>\n",
       "      <th>ctrl_flg</th>\n",
       "      <th>Segment</th>\n",
       "      <th>Customer_count</th>\n",
       "      <th>Customer_Share</th>\n",
       "    </tr>\n",
       "  </thead>\n",
       "  <tbody>\n",
       "    <tr>\n",
       "      <th>0</th>\n",
       "      <td>Y</td>\n",
       "      <td>Disengaged</td>\n",
       "      <td>37</td>\n",
       "      <td>39.361702</td>\n",
       "    </tr>\n",
       "    <tr>\n",
       "      <th>1</th>\n",
       "      <td>Y</td>\n",
       "      <td>Home_automation_Savvy</td>\n",
       "      <td>14</td>\n",
       "      <td>14.893617</td>\n",
       "    </tr>\n",
       "    <tr>\n",
       "      <th>2</th>\n",
       "      <td>Y</td>\n",
       "      <td>Moderate_Users</td>\n",
       "      <td>41</td>\n",
       "      <td>43.617021</td>\n",
       "    </tr>\n",
       "    <tr>\n",
       "      <th>3</th>\n",
       "      <td>Y</td>\n",
       "      <td>Old_Fashion</td>\n",
       "      <td>1</td>\n",
       "      <td>1.063830</td>\n",
       "    </tr>\n",
       "  </tbody>\n",
       "</table>\n",
       "</div>"
      ],
      "text/plain": [
       "  ctrl_flg                Segment  Customer_count  Customer_Share\n",
       "0        Y             Disengaged              37       39.361702\n",
       "1        Y  Home_automation_Savvy              14       14.893617\n",
       "2        Y         Moderate_Users              41       43.617021\n",
       "3        Y            Old_Fashion               1        1.063830"
      ]
     },
     "execution_count": 67,
     "metadata": {},
     "output_type": "execute_result"
    }
   ],
   "source": [
    "pd.DataFrame(GTM_NOUse_INCON[GTM_NOUse_INCON.ctrl_flg=='Y'].groupby(['ctrl_flg','Segment']).agg(\n",
    "    \n",
    "    Customer_count= ('bus_cust_id','count'),\n",
    "    Customer_Share= ('bus_cust_id',lambda x:x.count()*100/GTM_NOUse_INCON[GTM_NOUse_INCON.ctrl_flg=='Y'].shape[0])\n",
    "    \n",
    "    # # Customer_Share= ('customer_id',lambda x:x.count()*100/Merge_DF_4.shape[0])\n",
    "    # Churn_total=('Telus_Churn_Flag',lambda x: x.sum()),\n",
    "    # Churn_rate=('Telus_Churn_Flag',lambda x: x.mean()*100)\n",
    ").reset_index())"
   ]
  },
  {
   "cell_type": "code",
   "execution_count": 70,
   "id": "1138f44e-51a6-45d4-81aa-be8f1b6ea3f4",
   "metadata": {},
   "outputs": [],
   "source": [
    "GTM_NOUse_OOCON=GTM_data[GTM_data.creative_cd=='ADCNOUSEOOC11.30.22'].merge(Merge_DF_2,left_on='bus_cust_id',right_on='dealer_customer_id',how='left')"
   ]
  },
  {
   "cell_type": "code",
   "execution_count": 71,
   "id": "d5f6ad62-4f1e-4e8b-a48e-d82ef2fd3920",
   "metadata": {},
   "outputs": [
    {
     "data": {
      "text/plain": [
       "(1286, 109)"
      ]
     },
     "execution_count": 71,
     "metadata": {},
     "output_type": "execute_result"
    }
   ],
   "source": [
    "GTM_NOUse_OOCON.shape"
   ]
  },
  {
   "cell_type": "code",
   "execution_count": 72,
   "id": "de628b16-92d3-4a1b-875f-ef0dc6ffee0c",
   "metadata": {},
   "outputs": [
    {
     "data": {
      "text/html": [
       "<div>\n",
       "<style scoped>\n",
       "    .dataframe tbody tr th:only-of-type {\n",
       "        vertical-align: middle;\n",
       "    }\n",
       "\n",
       "    .dataframe tbody tr th {\n",
       "        vertical-align: top;\n",
       "    }\n",
       "\n",
       "    .dataframe thead th {\n",
       "        text-align: right;\n",
       "    }\n",
       "</style>\n",
       "<table border=\"1\" class=\"dataframe\">\n",
       "  <thead>\n",
       "    <tr style=\"text-align: right;\">\n",
       "      <th></th>\n",
       "      <th>ctrl_flg</th>\n",
       "      <th>Segment</th>\n",
       "      <th>Customer_count</th>\n",
       "      <th>Customer_Share</th>\n",
       "    </tr>\n",
       "  </thead>\n",
       "  <tbody>\n",
       "    <tr>\n",
       "      <th>0</th>\n",
       "      <td>N</td>\n",
       "      <td>Disengaged</td>\n",
       "      <td>527</td>\n",
       "      <td>43.553719</td>\n",
       "    </tr>\n",
       "    <tr>\n",
       "      <th>1</th>\n",
       "      <td>N</td>\n",
       "      <td>Heavy_User</td>\n",
       "      <td>3</td>\n",
       "      <td>0.247934</td>\n",
       "    </tr>\n",
       "    <tr>\n",
       "      <th>2</th>\n",
       "      <td>N</td>\n",
       "      <td>Home_automation_Savvy</td>\n",
       "      <td>121</td>\n",
       "      <td>10.000000</td>\n",
       "    </tr>\n",
       "    <tr>\n",
       "      <th>3</th>\n",
       "      <td>N</td>\n",
       "      <td>Moderate_Users</td>\n",
       "      <td>536</td>\n",
       "      <td>44.297521</td>\n",
       "    </tr>\n",
       "    <tr>\n",
       "      <th>4</th>\n",
       "      <td>N</td>\n",
       "      <td>Old_Fashion</td>\n",
       "      <td>8</td>\n",
       "      <td>0.661157</td>\n",
       "    </tr>\n",
       "  </tbody>\n",
       "</table>\n",
       "</div>"
      ],
      "text/plain": [
       "  ctrl_flg                Segment  Customer_count  Customer_Share\n",
       "0        N             Disengaged             527       43.553719\n",
       "1        N             Heavy_User               3        0.247934\n",
       "2        N  Home_automation_Savvy             121       10.000000\n",
       "3        N         Moderate_Users             536       44.297521\n",
       "4        N            Old_Fashion               8        0.661157"
      ]
     },
     "execution_count": 72,
     "metadata": {},
     "output_type": "execute_result"
    }
   ],
   "source": [
    "pd.DataFrame(GTM_NOUse_OOCON[GTM_NOUse_OOCON.ctrl_flg=='N'].groupby(['ctrl_flg','Segment']).agg(\n",
    "    \n",
    "    Customer_count= ('bus_cust_id','count'),\n",
    "    Customer_Share= ('bus_cust_id',lambda x:x.count()*100/GTM_NOUse_OOCON[GTM_NOUse_OOCON.ctrl_flg=='N'].shape[0])\n",
    "    \n",
    "    # # Customer_Share= ('customer_id',lambda x:x.count()*100/Merge_DF_4.shape[0])\n",
    "    # Churn_total=('Telus_Churn_Flag',lambda x: x.sum()),\n",
    "    # Churn_rate=('Telus_Churn_Flag',lambda x: x.mean()*100)\n",
    ").reset_index())"
   ]
  },
  {
   "cell_type": "code",
   "execution_count": 73,
   "id": "7a6d90c9-b657-4097-8c7c-af6bac786cb6",
   "metadata": {},
   "outputs": [
    {
     "data": {
      "text/html": [
       "<div>\n",
       "<style scoped>\n",
       "    .dataframe tbody tr th:only-of-type {\n",
       "        vertical-align: middle;\n",
       "    }\n",
       "\n",
       "    .dataframe tbody tr th {\n",
       "        vertical-align: top;\n",
       "    }\n",
       "\n",
       "    .dataframe thead th {\n",
       "        text-align: right;\n",
       "    }\n",
       "</style>\n",
       "<table border=\"1\" class=\"dataframe\">\n",
       "  <thead>\n",
       "    <tr style=\"text-align: right;\">\n",
       "      <th></th>\n",
       "      <th>ctrl_flg</th>\n",
       "      <th>Segment</th>\n",
       "      <th>Customer_count</th>\n",
       "      <th>Customer_Share</th>\n",
       "    </tr>\n",
       "  </thead>\n",
       "  <tbody>\n",
       "    <tr>\n",
       "      <th>0</th>\n",
       "      <td>Y</td>\n",
       "      <td>Disengaged</td>\n",
       "      <td>37</td>\n",
       "      <td>48.684211</td>\n",
       "    </tr>\n",
       "    <tr>\n",
       "      <th>1</th>\n",
       "      <td>Y</td>\n",
       "      <td>Home_automation_Savvy</td>\n",
       "      <td>5</td>\n",
       "      <td>6.578947</td>\n",
       "    </tr>\n",
       "    <tr>\n",
       "      <th>2</th>\n",
       "      <td>Y</td>\n",
       "      <td>Moderate_Users</td>\n",
       "      <td>34</td>\n",
       "      <td>44.736842</td>\n",
       "    </tr>\n",
       "  </tbody>\n",
       "</table>\n",
       "</div>"
      ],
      "text/plain": [
       "  ctrl_flg                Segment  Customer_count  Customer_Share\n",
       "0        Y             Disengaged              37       48.684211\n",
       "1        Y  Home_automation_Savvy               5        6.578947\n",
       "2        Y         Moderate_Users              34       44.736842"
      ]
     },
     "execution_count": 73,
     "metadata": {},
     "output_type": "execute_result"
    }
   ],
   "source": [
    "pd.DataFrame(GTM_NOUse_OOCON[GTM_NOUse_OOCON.ctrl_flg=='Y'].groupby(['ctrl_flg','Segment']).agg(\n",
    "    \n",
    "    Customer_count= ('bus_cust_id','count'),\n",
    "    Customer_Share= ('bus_cust_id',lambda x:x.count()*100/GTM_NOUse_OOCON[GTM_NOUse_OOCON.ctrl_flg=='Y'].shape[0])\n",
    "    \n",
    "    # # Customer_Share= ('customer_id',lambda x:x.count()*100/Merge_DF_4.shape[0])\n",
    "    # Churn_total=('Telus_Churn_Flag',lambda x: x.sum()),\n",
    "    # Churn_rate=('Telus_Churn_Flag',lambda x: x.mean()*100)\n",
    ").reset_index())"
   ]
  },
  {
   "cell_type": "code",
   "execution_count": 74,
   "id": "d5ee60cf-8e84-4b02-a413-77075f548f4a",
   "metadata": {},
   "outputs": [],
   "source": [
    "GTM_LowUse_InCON=GTM_data[GTM_data.creative_cd=='ADCLOWUSEINCON11.30.'].merge(Merge_DF_2,left_on='bus_cust_id',right_on='dealer_customer_id',how='left')"
   ]
  },
  {
   "cell_type": "code",
   "execution_count": 75,
   "id": "4e31ed45-90b3-4682-a7c6-3d48c7c708e2",
   "metadata": {},
   "outputs": [
    {
     "data": {
      "text/html": [
       "<div>\n",
       "<style scoped>\n",
       "    .dataframe tbody tr th:only-of-type {\n",
       "        vertical-align: middle;\n",
       "    }\n",
       "\n",
       "    .dataframe tbody tr th {\n",
       "        vertical-align: top;\n",
       "    }\n",
       "\n",
       "    .dataframe thead th {\n",
       "        text-align: right;\n",
       "    }\n",
       "</style>\n",
       "<table border=\"1\" class=\"dataframe\">\n",
       "  <thead>\n",
       "    <tr style=\"text-align: right;\">\n",
       "      <th></th>\n",
       "      <th>ctrl_flg</th>\n",
       "      <th>Segment</th>\n",
       "      <th>Customer_count</th>\n",
       "      <th>Customer_Share</th>\n",
       "    </tr>\n",
       "  </thead>\n",
       "  <tbody>\n",
       "    <tr>\n",
       "      <th>0</th>\n",
       "      <td>N</td>\n",
       "      <td>Disengaged</td>\n",
       "      <td>352</td>\n",
       "      <td>21.529052</td>\n",
       "    </tr>\n",
       "    <tr>\n",
       "      <th>1</th>\n",
       "      <td>N</td>\n",
       "      <td>Heavy_User</td>\n",
       "      <td>55</td>\n",
       "      <td>3.363914</td>\n",
       "    </tr>\n",
       "    <tr>\n",
       "      <th>2</th>\n",
       "      <td>N</td>\n",
       "      <td>Home_automation_Savvy</td>\n",
       "      <td>284</td>\n",
       "      <td>17.370031</td>\n",
       "    </tr>\n",
       "    <tr>\n",
       "      <th>3</th>\n",
       "      <td>N</td>\n",
       "      <td>Moderate_Users</td>\n",
       "      <td>817</td>\n",
       "      <td>49.969419</td>\n",
       "    </tr>\n",
       "    <tr>\n",
       "      <th>4</th>\n",
       "      <td>N</td>\n",
       "      <td>Old_Fashion</td>\n",
       "      <td>122</td>\n",
       "      <td>7.461774</td>\n",
       "    </tr>\n",
       "  </tbody>\n",
       "</table>\n",
       "</div>"
      ],
      "text/plain": [
       "  ctrl_flg                Segment  Customer_count  Customer_Share\n",
       "0        N             Disengaged             352       21.529052\n",
       "1        N             Heavy_User              55        3.363914\n",
       "2        N  Home_automation_Savvy             284       17.370031\n",
       "3        N         Moderate_Users             817       49.969419\n",
       "4        N            Old_Fashion             122        7.461774"
      ]
     },
     "execution_count": 75,
     "metadata": {},
     "output_type": "execute_result"
    }
   ],
   "source": [
    "pd.DataFrame(GTM_LowUse_InCON[GTM_LowUse_InCON.ctrl_flg=='N'].groupby(['ctrl_flg','Segment']).agg(\n",
    "    \n",
    "    Customer_count= ('bus_cust_id','count'),\n",
    "    Customer_Share= ('bus_cust_id',lambda x:x.count()*100/GTM_LowUse_InCON[GTM_LowUse_InCON.ctrl_flg=='N'].shape[0])\n",
    "    \n",
    "    # # Customer_Share= ('customer_id',lambda x:x.count()*100/Merge_DF_4.shape[0])\n",
    "    # Churn_total=('Telus_Churn_Flag',lambda x: x.sum()),\n",
    "    # Churn_rate=('Telus_Churn_Flag',lambda x: x.mean()*100)\n",
    ").reset_index())"
   ]
  },
  {
   "cell_type": "code",
   "execution_count": 76,
   "id": "ab7a83f1-dc80-417b-a18d-7722a7eb8bf9",
   "metadata": {},
   "outputs": [
    {
     "data": {
      "text/html": [
       "<div>\n",
       "<style scoped>\n",
       "    .dataframe tbody tr th:only-of-type {\n",
       "        vertical-align: middle;\n",
       "    }\n",
       "\n",
       "    .dataframe tbody tr th {\n",
       "        vertical-align: top;\n",
       "    }\n",
       "\n",
       "    .dataframe thead th {\n",
       "        text-align: right;\n",
       "    }\n",
       "</style>\n",
       "<table border=\"1\" class=\"dataframe\">\n",
       "  <thead>\n",
       "    <tr style=\"text-align: right;\">\n",
       "      <th></th>\n",
       "      <th>ctrl_flg</th>\n",
       "      <th>Segment</th>\n",
       "      <th>Customer_count</th>\n",
       "      <th>Customer_Share</th>\n",
       "    </tr>\n",
       "  </thead>\n",
       "  <tbody>\n",
       "    <tr>\n",
       "      <th>0</th>\n",
       "      <td>Y</td>\n",
       "      <td>Disengaged</td>\n",
       "      <td>25</td>\n",
       "      <td>27.777778</td>\n",
       "    </tr>\n",
       "    <tr>\n",
       "      <th>1</th>\n",
       "      <td>Y</td>\n",
       "      <td>Heavy_User</td>\n",
       "      <td>5</td>\n",
       "      <td>5.555556</td>\n",
       "    </tr>\n",
       "    <tr>\n",
       "      <th>2</th>\n",
       "      <td>Y</td>\n",
       "      <td>Home_automation_Savvy</td>\n",
       "      <td>13</td>\n",
       "      <td>14.444444</td>\n",
       "    </tr>\n",
       "    <tr>\n",
       "      <th>3</th>\n",
       "      <td>Y</td>\n",
       "      <td>Moderate_Users</td>\n",
       "      <td>41</td>\n",
       "      <td>45.555556</td>\n",
       "    </tr>\n",
       "    <tr>\n",
       "      <th>4</th>\n",
       "      <td>Y</td>\n",
       "      <td>Old_Fashion</td>\n",
       "      <td>6</td>\n",
       "      <td>6.666667</td>\n",
       "    </tr>\n",
       "  </tbody>\n",
       "</table>\n",
       "</div>"
      ],
      "text/plain": [
       "  ctrl_flg                Segment  Customer_count  Customer_Share\n",
       "0        Y             Disengaged              25       27.777778\n",
       "1        Y             Heavy_User               5        5.555556\n",
       "2        Y  Home_automation_Savvy              13       14.444444\n",
       "3        Y         Moderate_Users              41       45.555556\n",
       "4        Y            Old_Fashion               6        6.666667"
      ]
     },
     "execution_count": 76,
     "metadata": {},
     "output_type": "execute_result"
    }
   ],
   "source": [
    "pd.DataFrame(GTM_LowUse_InCON[GTM_LowUse_InCON.ctrl_flg=='Y'].groupby(['ctrl_flg','Segment']).agg(\n",
    "    \n",
    "    Customer_count= ('bus_cust_id','count'),\n",
    "    Customer_Share= ('bus_cust_id',lambda x:x.count()*100/GTM_LowUse_InCON[GTM_LowUse_InCON.ctrl_flg=='Y'].shape[0])\n",
    "    \n",
    "    # # Customer_Share= ('customer_id',lambda x:x.count()*100/Merge_DF_4.shape[0])\n",
    "    # Churn_total=('Telus_Churn_Flag',lambda x: x.sum()),\n",
    "    # Churn_rate=('Telus_Churn_Flag',lambda x: x.mean()*100)\n",
    ").reset_index())"
   ]
  },
  {
   "cell_type": "code",
   "execution_count": null,
   "id": "1742fa6f-8879-46a5-b48f-5d3aaa383b4c",
   "metadata": {},
   "outputs": [],
   "source": []
  }
 ],
 "metadata": {
  "kernelspec": {
   "display_name": "Python 3 (ipykernel)",
   "language": "python",
   "name": "python3"
  },
  "language_info": {
   "codemirror_mode": {
    "name": "ipython",
    "version": 3
   },
   "file_extension": ".py",
   "mimetype": "text/x-python",
   "name": "python",
   "nbconvert_exporter": "python",
   "pygments_lexer": "ipython3",
   "version": "3.8.12"
  }
 },
 "nbformat": 4,
 "nbformat_minor": 5
}
