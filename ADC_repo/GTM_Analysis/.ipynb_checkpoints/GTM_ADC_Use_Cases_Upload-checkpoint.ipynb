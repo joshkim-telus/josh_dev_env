{
 "cells": [
  {
   "cell_type": "code",
   "execution_count": null,
   "id": "4383bd50-349e-454d-9073-bcf9ec202f7e",
   "metadata": {},
   "outputs": [],
   "source": [
    "#### import global modules\n",
    "import os\n",
    "import sys\n",
    "import pandas as pd\n",
    "import numpy as np\n",
    "from pathlib import Path\n",
    "from yaml import safe_load\n",
    "import google.oauth2.credentials\n",
    "from google.cloud import bigquery\n",
    "import gc\n",
    "\n",
    "# Set global vars\n",
    "pth_project = Path(os.getcwd().split('notebooks')[0])\n",
    "pth_data = pth_project / 'data'\n",
    "pth_queries = pth_project / 'core' / 'queries'\n",
    "pth_creds = pth_project / 'conf' / 'local' / 'project_config.yaml'\n",
    "sys.path.insert(0, str(pth_project))\n",
    "d_project_config = safe_load(pth_creds.open())\n",
    "# d_params = safe_load((pth_project / 'core' / 'parameters' / 'common.yaml').open())['data_extract']\n",
    "\n",
    "# import local modules\n",
    "from core.utils.gcp import connect_bq_services\n",
    "# from core.etl.extract import extract_bq_data, extract_pr_codes, format_conv_df, filter_convs\n",
    "\n",
    "# Connect to google services\n",
    "bq_client = connect_bq_services(d_project_config['gcp-project-name'])\n",
    "pd.options.display.max_rows = 100"
   ]
  },
  {
   "cell_type": "code",
   "execution_count": null,
   "id": "0ef55bbd-dcf4-45e8-81bc-6e293a0a633a",
   "metadata": {},
   "outputs": [],
   "source": [
    "def extract_bq_data(bq_client, sql=None, pth_query=None):\n",
    "    if sql is not None:\n",
    "        df = bq_client.query(sql).to_dataframe()\n",
    "    elif pth_query is not None:\n",
    "        sql = pth_query.read_text()\n",
    "        df = bq_client.query(sql).to_dataframe()\n",
    "    else:\n",
    "        raise ValueError('`sql` or `pth_query` should be set')  \n",
    "    return df"
   ]
  },
  {
   "cell_type": "code",
   "execution_count": null,
   "id": "f965fc6a-12d2-4ab9-aa83-83cdb4da821d",
   "metadata": {},
   "outputs": [],
   "source": [
    "Query='''\n",
    "\n",
    "\n",
    "select *\n",
    "from `cio-datahub-enterprise-pr-183a.ent_cust_intractn.bq_ffh_dbm`\n",
    "where cmpgn_cd='HBUR' \n",
    "\n",
    "'''"
   ]
  },
  {
   "cell_type": "code",
   "execution_count": null,
   "id": "60761748-419b-43ea-8406-639b4dc44cb2",
   "metadata": {},
   "outputs": [],
   "source": [
    "DF=extract_bq_data(bq_client, sql=Query)"
   ]
  },
  {
   "cell_type": "code",
   "execution_count": null,
   "id": "78221ac7-209b-4039-8903-a2e0434a7af4",
   "metadata": {},
   "outputs": [],
   "source": [
    "DF.info()"
   ]
  },
  {
   "cell_type": "code",
   "execution_count": null,
   "id": "6372e447-c045-46f9-99a7-2455365c1332",
   "metadata": {},
   "outputs": [],
   "source": [
    "DF['in_hm_dt'].value_counts()"
   ]
  },
  {
   "cell_type": "code",
   "execution_count": null,
   "id": "51643438-b13d-47e4-b347-41471aa461aa",
   "metadata": {},
   "outputs": [],
   "source": [
    "DF['creative_cd'].value_counts()"
   ]
  },
  {
   "cell_type": "code",
   "execution_count": null,
   "id": "9347b0b4-d5fc-4050-ab46-8dfe0ab4e186",
   "metadata": {},
   "outputs": [],
   "source": [
    "DF['cmpgn_typ_desc'].value_counts()"
   ]
  },
  {
   "cell_type": "code",
   "execution_count": null,
   "id": "26c8bf2b-74c8-46bd-a839-cfa550abc87e",
   "metadata": {},
   "outputs": [],
   "source": [
    "pd.DataFrame(DF.groupby(['creative_cd','ctrl_flg']).agg(\n",
    "    \n",
    "    Customer_count= ('bus_bacct_num','nunique'),\n",
    "    # # Customer_Share= ('customer_id',lambda x:x.count()*100/Merge_DF_4.shape[0])\n",
    "    # Churn_total=('Telus_Churn_Flag',lambda x: x.sum()),\n",
    "    # Churn_rate=('Telus_Churn_Flag',lambda x: x.mean()*100)\n",
    ").reset_index())"
   ]
  },
  {
   "cell_type": "code",
   "execution_count": null,
   "id": "86a10491-65b6-41dc-8ecc-eef3523598c7",
   "metadata": {},
   "outputs": [],
   "source": []
  },
  {
   "cell_type": "code",
   "execution_count": null,
   "id": "8fc6cf71-f1a5-4b15-90bf-9f23fc39fbd4",
   "metadata": {},
   "outputs": [],
   "source": [
    "config= bigquery.job.LoadJobConfig()\n",
    "\n",
    "# config._properties['timePartitioning'] = {'field': 'Month_Year'}\n",
    "config.write_disposition = bigquery.WriteDisposition.WRITE_TRUNCATE\n",
    "\n",
    "Table_BQ = 'SHS.SHS_GTM_ADC_UseCases_30Nov2022'\n",
    "\n",
    "bq_table_instance= bq_client.load_table_from_dataframe(DF, Table_BQ,job_config=config)"
   ]
  },
  {
   "cell_type": "code",
   "execution_count": null,
   "id": "34fe7016-0f0e-4c83-ab92-1fa1a09de906",
   "metadata": {},
   "outputs": [],
   "source": []
  }
 ],
 "metadata": {
  "kernelspec": {
   "display_name": "Python 3 (ipykernel)",
   "language": "python",
   "name": "python3"
  },
  "language_info": {
   "codemirror_mode": {
    "name": "ipython",
    "version": 3
   },
   "file_extension": ".py",
   "mimetype": "text/x-python",
   "name": "python",
   "nbconvert_exporter": "python",
   "pygments_lexer": "ipython3",
   "version": "3.8.12"
  }
 },
 "nbformat": 4,
 "nbformat_minor": 5
}
