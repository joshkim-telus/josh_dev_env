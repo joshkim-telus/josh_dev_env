{
 "cells": [
  {
   "cell_type": "code",
   "execution_count": null,
   "id": "f8b22073-e804-4b79-a315-fabbc6fa50e0",
   "metadata": {},
   "outputs": [],
   "source": [
    "#### import global modules\n",
    "import os\n",
    "import sys\n",
    "import pandas as pd\n",
    "import numpy as np\n",
    "from pathlib import Path\n",
    "from yaml import safe_load\n",
    "import google.oauth2.credentials\n",
    "from google.cloud import bigquery\n",
    "import gc\n",
    "\n",
    "# Set global vars\n",
    "pth_project = Path(os.getcwd().split('notebooks')[0])\n",
    "pth_data = pth_project / 'data'\n",
    "pth_queries = pth_project / 'core' / 'queries'\n",
    "pth_creds = pth_project / 'conf' / 'local' / 'project_config.yaml'\n",
    "sys.path.insert(0, str(pth_project))\n",
    "d_project_config = safe_load(pth_creds.open())\n",
    "# d_params = safe_load((pth_project / 'core' / 'parameters' / 'common.yaml').open())['data_extract']\n",
    "\n",
    "# import local modules\n",
    "from core.utils.gcp import connect_bq_services\n",
    "# from core.etl.extract import extract_bq_data, extract_pr_codes, format_conv_df, filter_convs\n",
    "\n",
    "# Connect to google services\n",
    "bq_client = connect_bq_services(d_project_config['gcp-project-name'])\n",
    "pd.options.display.max_rows = 100"
   ]
  },
  {
   "cell_type": "code",
   "execution_count": null,
   "id": "d6c5aeb8-f582-42c1-8bc4-d5b4db3c64ce",
   "metadata": {},
   "outputs": [],
   "source": [
    "def extract_bq_data(bq_client, sql=None, pth_query=None):\n",
    "    if sql is not None:\n",
    "        df = bq_client.query(sql).to_dataframe()\n",
    "    elif pth_query is not None:\n",
    "        sql = pth_query.read_text()\n",
    "        df = bq_client.query(sql).to_dataframe()\n",
    "    else:\n",
    "        raise ValueError('`sql` or `pth_query` should be set')  \n",
    "    return df"
   ]
  },
  {
   "cell_type": "code",
   "execution_count": null,
   "id": "9f5aa16c-2712-4647-8e15-d8566e84e263",
   "metadata": {},
   "outputs": [],
   "source": [
    "Telus_Customer_details='''\n",
    "\n",
    "\n",
    "\n",
    "with ADC_customer_base as(\n",
    "\n",
    "SELECT customer_id,dealer_customer_id,dealer_name\n",
    "FROM `cio-datahub-enterprise-pr-183a.src_adc.bq_customer_account_details` \n",
    "where date(last_updt_ts) ='2022-08-31'\n",
    "and account_type_name!='Standalone'\n",
    "and customer_type_name='Customer'\n",
    "and dealer_name='TELUS Communications Inc.'\n",
    "QUALIFY ROW_NUMBER() OVER (PARTITION BY customer_id ORDER BY last_updt_ts DESC) = 1\n",
    "order by dealer_name,join_date,customer_id\n",
    ")\n",
    ",\n",
    "\n",
    "Telus_customers as\n",
    "(\n",
    "\n",
    "select bacct_bus_bacct_num,bacct_billg_acct_id,cust_bus_cust_id,pi_prod_instnc_typ_cd,pi_prod_instnc_stat_ts,prod_instnc_ts,pi_cntrct_end_ts as contract_end_date\n",
    "from `cio-datahub-enterprise-pr-183a.ent_cust_cust.bq_prod_instnc_snpsht` \n",
    "WHERE DATE(prod_instnc_ts) = \"2022-08-31\" #Snapshot of the last day of the month\n",
    "and pi_prod_instnc_typ_cd ='SMHM' #Serice type\n",
    "and bus_prod_instnc_src_id = 1001 #BANs that are for home services\n",
    "and pi_prod_instnc_stat_cd in ('A')\n",
    "and  consldt_cust_typ_cd = 'R'\n",
    "QUALIFY ROW_NUMBER() OVER (PARTITION BY cust_bus_cust_id ORDER BY pi_prod_instnc_stat_ts DESC) = 1\n",
    "order by cust_bus_cust_id\n",
    "\n",
    ")\n",
    "\n",
    "\n",
    "\n",
    "\n",
    "\n",
    "\n",
    "\n",
    "\n",
    "select * from ADC_customer_base as adc\n",
    "inner join Telus_customers as telus\n",
    "on telus.cust_bus_cust_id=adc.dealer_customer_id\n",
    "\n",
    "'''"
   ]
  },
  {
   "cell_type": "code",
   "execution_count": null,
   "id": "799c5c3b-baa1-4b06-b34a-c8c0fd446e3f",
   "metadata": {},
   "outputs": [],
   "source": [
    "Telus_Customer_info=extract_bq_data(bq_client, sql=Telus_Customer_details)"
   ]
  },
  {
   "cell_type": "code",
   "execution_count": null,
   "id": "86507917-51a4-4324-990b-be4ba5f4400b",
   "metadata": {},
   "outputs": [],
   "source": [
    "Telus_Customer_info.info()"
   ]
  },
  {
   "cell_type": "code",
   "execution_count": null,
   "id": "67086406-5b1f-40ca-a403-ddceb5c673f7",
   "metadata": {},
   "outputs": [],
   "source": [
    "Telus_Customer_info.head()"
   ]
  },
  {
   "cell_type": "code",
   "execution_count": null,
   "id": "bcd41b8c-6392-4ad8-bdfe-2610145ceddd",
   "metadata": {},
   "outputs": [],
   "source": []
  },
  {
   "cell_type": "code",
   "execution_count": null,
   "id": "12027a09-0e7e-4aa2-abf5-fefe4a185342",
   "metadata": {},
   "outputs": [],
   "source": [
    "ADC_Resi_DF_query='''\n",
    "\n",
    "\n",
    "\n",
    "with ADC_resi_base as\n",
    "\n",
    "\n",
    "(\n",
    "\n",
    "select * from `divgpras-pr-579355.ADC_updated.ADC_resi_customers_base_31Aug2022`\n",
    "\n",
    "\n",
    "),\n",
    "\n",
    "telus_churn as (\n",
    "\n",
    "\n",
    "select cust_bus_cust_id,1 as Telus_Churn,pi_prod_instnc_stat_ts as churn_date_telus\n",
    "from `cio-datahub-enterprise-pr-183a.ent_cust_cust.bq_prod_instnc_snpsht` \n",
    "WHERE DATE(prod_instnc_ts) = \"2022-10-01\" #Snapshot of the last day of the month\n",
    "and pi_prod_instnc_typ_cd ='SMHM' #Serice type\n",
    "and bus_prod_instnc_src_id = 1001 #BANs that are for home services\n",
    "and pi_prod_instnc_stat_cd in ('C')\n",
    "and DATE(pi_prod_instnc_stat_ts)>='2022-09-01' and DATE(pi_prod_instnc_stat_ts)<'2022-10-01' #Date on which the status was updated\n",
    "QUALIFY ROW_NUMBER() OVER (PARTITION BY cust_bus_cust_id ORDER BY pi_prod_instnc_stat_ts DESC) = 1\n",
    "order by pi_cntrct_end_ts\n",
    "\n",
    "\n",
    ")\n",
    "\n",
    "\n",
    "\n",
    "select * from ADC_resi_base as adc\n",
    "left join telus_churn as telus\n",
    "on telus.cust_bus_cust_id=adc.dealer_customer_id\n",
    "order by Telus_Churn desc\n",
    "\n",
    "'''"
   ]
  },
  {
   "cell_type": "code",
   "execution_count": null,
   "id": "97ce7e9a-c925-414e-8ff9-11df732e43d5",
   "metadata": {},
   "outputs": [],
   "source": [
    "ADC_resi_DF=extract_bq_data(bq_client, sql=ADC_Resi_DF_query)"
   ]
  },
  {
   "cell_type": "code",
   "execution_count": null,
   "id": "0220fec9-3b86-4589-a043-32499d911d4c",
   "metadata": {},
   "outputs": [],
   "source": [
    "ADC_resi_DF.head()"
   ]
  },
  {
   "cell_type": "code",
   "execution_count": null,
   "id": "b8576e83-4b6e-464b-89c7-bad6d5a99bfc",
   "metadata": {},
   "outputs": [],
   "source": [
    "ADC_resi_DF['Telus_Churn'].sum()"
   ]
  },
  {
   "cell_type": "code",
   "execution_count": null,
   "id": "936d92e8-e511-4378-94f9-1c3e37956729",
   "metadata": {},
   "outputs": [],
   "source": [
    "Churn_Customers='''\n",
    "\n",
    "\n",
    "select customer_id,term_date,term_reason,1 as Churn_flag from `cio-datahub-enterprise-pr-183a.src_adc.bq_customer_account_terminated_details`\n",
    "where date(term_date) >= '2022-09-01' and date(term_date) < '2022-10-01'\n",
    "\n",
    "\n",
    "'''"
   ]
  },
  {
   "cell_type": "code",
   "execution_count": null,
   "id": "7ad7d7f3-4055-4694-95c4-b595d84741cc",
   "metadata": {},
   "outputs": [],
   "source": [
    "Churn_DF_Sep2022=extract_bq_data(bq_client, sql=Churn_Customers)"
   ]
  },
  {
   "cell_type": "code",
   "execution_count": null,
   "id": "81797619-7244-4a10-9341-48d82e5b7ef9",
   "metadata": {},
   "outputs": [],
   "source": [
    "Churn_DF_Sep2022.info()"
   ]
  },
  {
   "cell_type": "code",
   "execution_count": null,
   "id": "963af3a7-4f03-482b-9982-2178051d3bd8",
   "metadata": {},
   "outputs": [],
   "source": [
    "Churn_DF_Sep2022['term_date'].min()"
   ]
  },
  {
   "cell_type": "code",
   "execution_count": null,
   "id": "43248ec4-7cec-4ee6-97ad-569aa325125f",
   "metadata": {},
   "outputs": [],
   "source": [
    "Churn_DF_Sep2022['term_date'].max()"
   ]
  },
  {
   "cell_type": "code",
   "execution_count": null,
   "id": "379912e2-5b27-4ab4-b159-c74a9187212a",
   "metadata": {},
   "outputs": [],
   "source": [
    "Churn_DF_Sep2022.info()"
   ]
  },
  {
   "cell_type": "code",
   "execution_count": null,
   "id": "46eb0b2a-0345-4967-bdd2-fef6c109a684",
   "metadata": {},
   "outputs": [],
   "source": [
    "All_DF=ADC_resi_DF.merge(Churn_DF_Sep2022,on='customer_id',how='left')"
   ]
  },
  {
   "cell_type": "code",
   "execution_count": null,
   "id": "44f172a7-00a6-4197-90de-da858a344e97",
   "metadata": {},
   "outputs": [],
   "source": [
    "All_DF.info()"
   ]
  },
  {
   "cell_type": "code",
   "execution_count": null,
   "id": "b11ce939-7ba5-42e8-b2b6-abbcc4712e31",
   "metadata": {},
   "outputs": [],
   "source": []
  },
  {
   "cell_type": "code",
   "execution_count": null,
   "id": "e32ad39d-99b8-4d1e-8df4-9028b679aaf6",
   "metadata": {},
   "outputs": [],
   "source": [
    "pd.DataFrame(All_DF.groupby(['dealer_name']).agg(\n",
    "    \n",
    "    Customer_count= ('customer_id','nunique'),\n",
    "    Churn_total_telus=('Telus_Churn',lambda x: x.sum()),\n",
    "    Churn_rate_telus=('Telus_Churn',lambda x: x.mean()*100),\n",
    "    Churn_total=('Churn_flag',lambda x: x.sum()),\n",
    "    Churn_rate=('Churn_flag',lambda x: x.mean()*100)).reset_index())"
   ]
  },
  {
   "cell_type": "code",
   "execution_count": null,
   "id": "2688267c-7a5f-4586-ad37-20200017a4e0",
   "metadata": {},
   "outputs": [],
   "source": [
    "3424-2890"
   ]
  },
  {
   "cell_type": "code",
   "execution_count": null,
   "id": "e7fd777a-38d7-4d41-a791-7e8279132b39",
   "metadata": {},
   "outputs": [],
   "source": [
    "All_DF['Churn_flag'].fillna(0,inplace=True)"
   ]
  },
  {
   "cell_type": "code",
   "execution_count": null,
   "id": "2b545684-28fd-44e7-a89c-edba9e02e6cd",
   "metadata": {},
   "outputs": [],
   "source": [
    "Best_Practices_Query= '''\n",
    "\n",
    "select * from `divgpras-pr-579355.ADC.Best_Practices_Customers`\n",
    "\n",
    "'''"
   ]
  },
  {
   "cell_type": "code",
   "execution_count": null,
   "id": "5650e6b1-f325-4da1-a213-2271a2f344ce",
   "metadata": {},
   "outputs": [],
   "source": [
    "Best_Practices_DF=extract_bq_data(bq_client, sql=Best_Practices_Query)"
   ]
  },
  {
   "cell_type": "code",
   "execution_count": null,
   "id": "f3196633-6119-48a6-a5fc-c924aea06752",
   "metadata": {},
   "outputs": [],
   "source": [
    "Best_Practices_DF.head()"
   ]
  },
  {
   "cell_type": "code",
   "execution_count": null,
   "id": "f12e8177-19ec-4dab-a940-b08793116137",
   "metadata": {},
   "outputs": [],
   "source": [
    "Arming_Query='''\n",
    "\n",
    "\n",
    "\n",
    "with date_sql as (\n",
    "select  count(distinct date(date)) as count_of_dates from `cio-datahub-enterprise-pr-183a.src_adc.bq_aggregate_daily_arming_commands`\n",
    "where date(date)< '2022-09-01'\n",
    ")\n",
    "\n",
    "\n",
    "\n",
    "select id_cust as customer_id,sum(count_arm_commands) as sum_arm_commands,sum(count_disarm_commands) as sum_disarm_commands,count (distinct date(date)) as number_days_arming_disarming, (select count_of_dates from date_sql ) as count_of_dates_arming\n",
    "from `cio-datahub-enterprise-pr-183a.src_adc.bq_aggregate_daily_arming_commands`\n",
    "where date(date)< '2022-09-01'\n",
    "group by customer_id\n",
    "order by number_days_arming_disarming desc\n",
    "\n",
    "\n",
    "\n",
    "\n",
    "\n",
    "'''"
   ]
  },
  {
   "cell_type": "code",
   "execution_count": null,
   "id": "5320b974-0096-412f-bf2a-e5278dc6fa99",
   "metadata": {},
   "outputs": [],
   "source": [
    "Arming_DF=extract_bq_data(bq_client, sql=Arming_Query)"
   ]
  },
  {
   "cell_type": "code",
   "execution_count": null,
   "id": "9fc8dc6b-2efc-462c-935f-7c15e3e5661e",
   "metadata": {},
   "outputs": [],
   "source": [
    "Arming_DF.info()"
   ]
  },
  {
   "cell_type": "code",
   "execution_count": null,
   "id": "84ae773d-f7fd-48ca-9c1c-075cffad45f2",
   "metadata": {},
   "outputs": [],
   "source": [
    "Arming_DF.head()"
   ]
  },
  {
   "cell_type": "code",
   "execution_count": null,
   "id": "335e2381-3de3-4471-bfe0-9840f09d3268",
   "metadata": {},
   "outputs": [],
   "source": [
    "\n",
    "max_number_arming_dates=Arming_DF['count_of_dates_arming'].max()\n",
    "Arming_DF['Arming_Consistency']=Arming_DF['number_days_arming_disarming'].apply(lambda x: x*100/max_number_arming_dates)\n"
   ]
  },
  {
   "cell_type": "code",
   "execution_count": null,
   "id": "6a8020f1-398e-45ef-bd06-3b974d5f83ad",
   "metadata": {},
   "outputs": [],
   "source": [
    "Arming_DF['Arming_Flag']=1"
   ]
  },
  {
   "cell_type": "code",
   "execution_count": null,
   "id": "77e5399b-893f-4c66-b524-0af258d4dfee",
   "metadata": {},
   "outputs": [],
   "source": [
    "Login_SQL='''\n",
    "\n",
    "with date_sql as (\n",
    "select  count(distinct date(login_dt_utc)) as count_of_dates from `cio-datahub-enterprise-pr-183a.src_adc.bq_customer_daily_logins`\n",
    "where date(login_dt_utc)< '2022-09-01'\n",
    "\n",
    ")\n",
    "\n",
    "\n",
    "\n",
    "select customer_id,sum(login_count) as sum_login_count,count (distinct date(login_dt_utc)) as number_of_login_days, (select count_of_dates from date_sql ) as count_of_dates_logins\n",
    "from `cio-datahub-enterprise-pr-183a.src_adc.bq_customer_daily_logins`\n",
    "where date(login_dt_utc)< '2022-09-01'\n",
    "group by customer_id\n",
    "order by number_of_login_days desc\n",
    "\n",
    "\n",
    "'''"
   ]
  },
  {
   "cell_type": "code",
   "execution_count": null,
   "id": "b897b2c7-c756-42e1-b637-2f046cdfba88",
   "metadata": {},
   "outputs": [],
   "source": [
    "Login_DF=extract_bq_data(bq_client, sql=Login_SQL)"
   ]
  },
  {
   "cell_type": "code",
   "execution_count": null,
   "id": "916ba454-94e1-4d36-b96e-1b9ad5a1bf61",
   "metadata": {},
   "outputs": [],
   "source": [
    "Login_DF.info()"
   ]
  },
  {
   "cell_type": "code",
   "execution_count": null,
   "id": "1238381a-1074-417f-b157-2467ca5f29b6",
   "metadata": {},
   "outputs": [],
   "source": [
    "max_number_login_dates=Login_DF['count_of_dates_logins'].max()\n",
    "Login_DF['Login_Consistency']=Login_DF['number_of_login_days'].apply(lambda x: x*100/max_number_login_dates)"
   ]
  },
  {
   "cell_type": "code",
   "execution_count": null,
   "id": "488a441e-7a20-4413-9909-354fb4539e3b",
   "metadata": {},
   "outputs": [],
   "source": [
    "Merge_DF=All_DF.merge(Best_Practices_DF,on='customer_id',how='left')"
   ]
  },
  {
   "cell_type": "code",
   "execution_count": null,
   "id": "c599c8a1-edae-4540-bd09-02c9886a67c5",
   "metadata": {},
   "outputs": [],
   "source": [
    "Merge_DF_1=Merge_DF.merge(Arming_DF,on='customer_id',how='left')"
   ]
  },
  {
   "cell_type": "code",
   "execution_count": null,
   "id": "8a47b2c8-77a6-4010-829c-734550df2bea",
   "metadata": {},
   "outputs": [],
   "source": [
    "Merge_DF_2=Merge_DF_1.merge(Login_DF,on='customer_id',how='left')"
   ]
  },
  {
   "cell_type": "code",
   "execution_count": null,
   "id": "1aa89439-c4d0-46d0-84f6-d9130780e47e",
   "metadata": {},
   "outputs": [],
   "source": [
    "Merge_DF_2.head()"
   ]
  },
  {
   "cell_type": "code",
   "execution_count": null,
   "id": "415fb058-a636-4a38-9bd3-eb0779853f95",
   "metadata": {},
   "outputs": [],
   "source": [
    "Merge_DF_2.info()"
   ]
  },
  {
   "cell_type": "code",
   "execution_count": null,
   "id": "e82d0d3f-e8dc-47f4-9a79-06fa49be8d90",
   "metadata": {},
   "outputs": [],
   "source": [
    "Merge_DF_2.fillna(0,inplace=True)"
   ]
  },
  {
   "cell_type": "code",
   "execution_count": null,
   "id": "c640b698-5620-461e-8357-f3edfc621990",
   "metadata": {},
   "outputs": [],
   "source": [
    "def Segment_making(row\n",
    "                   ,min_login_consistency_threshold=50\n",
    "                   ,min_arming_consistency_threshold=50\n",
    "                   ,max_login_consistency_threshold=50\n",
    "                   ,max_arming_consistency_threshold=50):\n",
    "    \n",
    "    if row['Best_Practice_All']>=5 and row['Login_Consistency']>=max_login_consistency_threshold  and row['Arming_Consistency']>=max_arming_consistency_threshold:\n",
    "        return 'Heavy_User'\n",
    "    elif row['Login_Consistency']>=max_login_consistency_threshold  and row['Arming_Consistency']< min_arming_consistency_threshold:\n",
    "        return 'Home_automation_Savvy'\n",
    "    elif row['Login_Consistency']< min_login_consistency_threshold  and row['Arming_Consistency']>=max_login_consistency_threshold:\n",
    "        return 'Old_Fashion'\n",
    "    elif row['Login_Consistency']==0  and row['Arming_Consistency']==0:\n",
    "        return 'Disengaged'\n",
    "    else:\n",
    "        return \"Moderate_Users\""
   ]
  },
  {
   "cell_type": "code",
   "execution_count": null,
   "id": "e54e0fb6-c0db-4ef9-804c-c50e91d5a191",
   "metadata": {},
   "outputs": [],
   "source": [
    "Merge_DF_2['Segment']=Merge_DF_2.apply(Segment_making,axis=1)"
   ]
  },
  {
   "cell_type": "code",
   "execution_count": null,
   "id": "22458862-dbc9-4925-8179-2082aff541df",
   "metadata": {},
   "outputs": [],
   "source": [
    "Merge_DF_2['Segment'].value_counts(normalize=True)*100"
   ]
  },
  {
   "cell_type": "code",
   "execution_count": null,
   "id": "9849731c-1cf2-41b1-ac8b-dadf8f37b2a9",
   "metadata": {},
   "outputs": [],
   "source": [
    "Merge_DF_2['Segment'].value_counts()"
   ]
  },
  {
   "cell_type": "code",
   "execution_count": null,
   "id": "e1d615c8-48dc-4e86-a7f2-89e9cf3d3695",
   "metadata": {},
   "outputs": [],
   "source": [
    "Merge_DF_2['Churn_flag'].value_counts(normalize=True)*100"
   ]
  },
  {
   "cell_type": "code",
   "execution_count": null,
   "id": "d7b4ded3-833b-4c7f-a93c-1782358b9cf7",
   "metadata": {},
   "outputs": [],
   "source": [
    "pd.DataFrame(Merge_DF_2.groupby(['dealer_name']).agg(\n",
    "\n",
    "    Customer_count= ('customer_id','nunique'),\n",
    "    Churn_total=('Churn_flag',lambda x: x.sum()),\n",
    "    Churn_rate=('Churn_flag',lambda x: x.mean()*100)\n",
    "\n",
    "\n",
    ").reset_index())"
   ]
  },
  {
   "cell_type": "code",
   "execution_count": null,
   "id": "2bc0b972-8879-4808-912d-08b50a3a3312",
   "metadata": {},
   "outputs": [],
   "source": [
    "pd.DataFrame(Merge_DF_2.groupby(['Segment']).agg(\n",
    "       Customer_count= ('customer_id','nunique'),\n",
    "    Churn_total=('Churn_flag',lambda x: x.sum()),\n",
    "    Churn_rate=('Churn_flag',lambda x: x.mean()*100)).sort_values('Customer_count',ascending=False).reset_index())"
   ]
  },
  {
   "cell_type": "code",
   "execution_count": null,
   "id": "fcb22376-231e-4286-983e-05fd648a5da1",
   "metadata": {},
   "outputs": [],
   "source": [
    "pd.DataFrame(Merge_DF_2.groupby(['Best_Practice_All']).agg(\n",
    "    \n",
    "    Customer_count= ('customer_id','nunique'),\n",
    "    Churn_total=('Churn_flag',lambda x: x.sum()),\n",
    "    Churn_rate=('Churn_flag',lambda x: x.mean()*100)).reset_index())"
   ]
  },
  {
   "cell_type": "code",
   "execution_count": null,
   "id": "174bcac9-66c2-48bb-b9d8-c1497f0072cd",
   "metadata": {},
   "outputs": [],
   "source": [
    "pd.DataFrame(Merge_DF_2.groupby(['Best_partices_1']).agg(\n",
    "    \n",
    "    Customer_count= ('customer_id','nunique'),\n",
    "    Churn_total=('Churn_flag',lambda x: x.sum()),\n",
    "    Churn_rate=('Churn_flag',lambda x: x.mean()*100)).reset_index())"
   ]
  },
  {
   "cell_type": "code",
   "execution_count": null,
   "id": "6a3ea3ff-5604-4833-af64-a72311b66cbe",
   "metadata": {},
   "outputs": [],
   "source": [
    "pd.DataFrame(Merge_DF_2.groupby(['Best_partices_2']).agg(\n",
    "    \n",
    "    Customer_count= ('customer_id','nunique'),\n",
    "    Churn_total=('Churn_flag',lambda x: x.sum()),\n",
    "    Churn_rate=('Churn_flag',lambda x: x.mean()*100)).reset_index())"
   ]
  },
  {
   "cell_type": "code",
   "execution_count": null,
   "id": "687b7d1d-4770-4ecd-aae6-ff659adaa58d",
   "metadata": {},
   "outputs": [],
   "source": [
    "pd.DataFrame(Merge_DF_2.groupby(['Best_partices_3']).agg(\n",
    "    \n",
    "    Customer_count= ('customer_id','nunique'),\n",
    "    Churn_total=('Churn_flag',lambda x: x.sum()),\n",
    "    Churn_rate=('Churn_flag',lambda x: x.mean()*100)).reset_index())"
   ]
  },
  {
   "cell_type": "code",
   "execution_count": null,
   "id": "f0b0e61c-6314-4165-aecb-1a3fcf8b761f",
   "metadata": {},
   "outputs": [],
   "source": [
    "pd.DataFrame(Merge_DF_2.groupby(['Best_partices_4']).agg(\n",
    "    \n",
    "    Customer_count= ('customer_id','nunique'),\n",
    "    Churn_total=('Churn_flag',lambda x: x.sum()),\n",
    "    Churn_rate=('Churn_flag',lambda x: x.mean()*100)).reset_index())"
   ]
  },
  {
   "cell_type": "code",
   "execution_count": null,
   "id": "3be5c461-9541-4464-ab21-ff6465133ed3",
   "metadata": {},
   "outputs": [],
   "source": [
    "pd.DataFrame(Merge_DF_2.groupby(['Best_partices_5']).agg(\n",
    "    \n",
    "    Customer_count= ('customer_id','nunique'),\n",
    "    Churn_total=('Churn_flag',lambda x: x.sum()),\n",
    "    Churn_rate=('Churn_flag',lambda x: x.mean()*100)).reset_index())"
   ]
  },
  {
   "cell_type": "code",
   "execution_count": null,
   "id": "c7e221ba-8167-4675-a537-ddbfc7dacba6",
   "metadata": {},
   "outputs": [],
   "source": [
    "pd.DataFrame(Merge_DF_2.groupby(['Best_partices_6']).agg(\n",
    "    \n",
    "    Customer_count= ('customer_id','nunique'),\n",
    "    Churn_total=('Churn_flag',lambda x: x.sum()),\n",
    "    Churn_rate=('Churn_flag',lambda x: x.mean()*100)).reset_index())"
   ]
  },
  {
   "cell_type": "code",
   "execution_count": null,
   "id": "e855fc07-99f6-48d9-bce8-f6328b8a523e",
   "metadata": {},
   "outputs": [],
   "source": [
    "Telus_internet_customers_query='''\n",
    "\n",
    "select * from `divgpras-pr-579355.ADC_updated.ADC_Telus_internet_customers_31Aug2022`\n",
    "\n",
    "'''"
   ]
  },
  {
   "cell_type": "code",
   "execution_count": null,
   "id": "0ff8a36e-b16b-4938-9fe8-6b8f9e774ea2",
   "metadata": {},
   "outputs": [],
   "source": [
    "Telus_internet_DF=extract_bq_data(bq_client, sql=Telus_internet_customers_query)"
   ]
  },
  {
   "cell_type": "code",
   "execution_count": null,
   "id": "6dbbc4a8-b9dc-4ea2-8f3b-896381628595",
   "metadata": {},
   "outputs": [],
   "source": [
    "Telus_internet_DF.info()"
   ]
  },
  {
   "cell_type": "code",
   "execution_count": null,
   "id": "984e48fd-9d89-43f0-9797-955866f05a0f",
   "metadata": {},
   "outputs": [],
   "source": [
    "Merge_DF_3=Merge_DF_2.merge(Telus_internet_DF[['customer_id','Telus_internet_flag']],how='left',on='customer_id')"
   ]
  },
  {
   "cell_type": "code",
   "execution_count": null,
   "id": "0e4988c7-7df0-4bce-83dc-7300abd65142",
   "metadata": {},
   "outputs": [],
   "source": [
    "Merge_DF_3['Telus_internet_flag'].sum()"
   ]
  },
  {
   "cell_type": "code",
   "execution_count": null,
   "id": "497bdaa2-b043-4645-8bee-e63247ff7012",
   "metadata": {},
   "outputs": [],
   "source": [
    "Telus_DF=Merge_DF_3[Merge_DF_3['dealer_name']=='TELUS Communications Inc.']"
   ]
  },
  {
   "cell_type": "code",
   "execution_count": null,
   "id": "ce0721d2-80e8-4553-a527-d581f10a6f0f",
   "metadata": {},
   "outputs": [],
   "source": [
    "Telus_DF['Telus_internet_flag'].sum()"
   ]
  },
  {
   "cell_type": "code",
   "execution_count": null,
   "id": "cda46ebc-42a7-4419-8c2d-fd2dcd36f15b",
   "metadata": {},
   "outputs": [],
   "source": [
    "Telus_DF['Telus_internet_flag'].fillna(0,inplace=True)"
   ]
  },
  {
   "cell_type": "code",
   "execution_count": null,
   "id": "18981099-b256-4452-9a39-4c8782633c5a",
   "metadata": {},
   "outputs": [],
   "source": [
    "Telus_DF['Churn_flag'].value_counts(normalize=True)*100"
   ]
  },
  {
   "cell_type": "code",
   "execution_count": null,
   "id": "c7737dd1-a618-436c-896d-3529e3503fa2",
   "metadata": {},
   "outputs": [],
   "source": [
    "pd.DataFrame(Telus_DF.groupby(['Telus_internet_flag']).agg(\n",
    "    \n",
    "    Customer_count= ('customer_id','nunique'),\n",
    "    Churn_total=('Churn_flag',lambda x: x.sum()),\n",
    "    Churn_rate=('Churn_flag',lambda x: x.mean()*100)).reset_index())"
   ]
  },
  {
   "cell_type": "code",
   "execution_count": null,
   "id": "9ef541c0-de6c-4c9c-948c-d11c40ec1daa",
   "metadata": {},
   "outputs": [],
   "source": [
    "Camera_TC_issue_query='''\n",
    "\n",
    "select dealer_name,customer_id,unit_id,device_id,trouble_condition_name,trouble_condition_group_id,trouble_condition_group_desc, start_date_utc,end_date_utc\n",
    "from `cio-datahub-enterprise-pr-183a.src_adc.bq_troublecondition_data`\n",
    "where trouble_condition_start_ind='Y'and trouble_condition_closed_ind='Y' and date(start_date_utc) >= '2022-06-01' and date(start_date_utc) <'2022-09-01' and trouble_condition_name in ('CameraNotReachable','CameraNotCommunicating','BroadbandCommFailure')\n",
    "\n",
    "\n",
    "'''"
   ]
  },
  {
   "cell_type": "code",
   "execution_count": null,
   "id": "630c0bc8-03e8-4752-a978-b6d262f0b4a8",
   "metadata": {},
   "outputs": [],
   "source": [
    "Camera_TC= extract_bq_data(bq_client, sql=Camera_TC_issue_query)"
   ]
  },
  {
   "cell_type": "code",
   "execution_count": null,
   "id": "d21eae78-ae92-4da8-8ed2-fa0d9bbeb087",
   "metadata": {},
   "outputs": [],
   "source": [
    "Camera_TC.info()"
   ]
  },
  {
   "cell_type": "code",
   "execution_count": null,
   "id": "f430d5c9-72fd-4b86-9080-b580a2f4d9a2",
   "metadata": {},
   "outputs": [],
   "source": [
    "Camera_TC['count_instance']=1\n",
    "\n",
    "TC_pivot_table=pd.pivot_table(Camera_TC, values=['count_instance'], index=['customer_id'], columns='trouble_condition_name',\n",
    "                          aggfunc={'count_instance': np.sum})"
   ]
  },
  {
   "cell_type": "code",
   "execution_count": null,
   "id": "1477fa6f-654b-40c3-bae1-70b7a604d0b7",
   "metadata": {},
   "outputs": [],
   "source": [
    "TC_pivot_table=TC_pivot_table.reset_index()"
   ]
  },
  {
   "cell_type": "code",
   "execution_count": null,
   "id": "aa89fcc5-6756-4adb-9b8d-dda30462a490",
   "metadata": {},
   "outputs": [],
   "source": [
    "TC_pivot_table.head()"
   ]
  },
  {
   "cell_type": "code",
   "execution_count": null,
   "id": "dc7ab712-39af-476c-831e-2a9751c52a08",
   "metadata": {},
   "outputs": [],
   "source": [
    "TC_pivot_table.columns=['customer_id','BroadbandCommFailure_count','CameraNotCommunicating_count','CameraNotReachable_count']"
   ]
  },
  {
   "cell_type": "code",
   "execution_count": null,
   "id": "ff7368fd-0850-403c-ad1e-18972fa41a93",
   "metadata": {},
   "outputs": [],
   "source": [
    "TC_pivot_table['BroadbandCommFailure_Flag']=TC_pivot_table['BroadbandCommFailure_count'].apply(lambda x: 1 if x>0 else 0)\n",
    "TC_pivot_table['CameraNotCommunicating_Flag']=TC_pivot_table['CameraNotCommunicating_count'].apply(lambda x: 1 if x>0 else 0)\n",
    "TC_pivot_table['CameraNotReachable_Flag']=TC_pivot_table['CameraNotReachable_count'].apply(lambda x: 1 if x>0 else 0)"
   ]
  },
  {
   "cell_type": "code",
   "execution_count": null,
   "id": "45443bf2-d005-45d4-acc3-00e8b7c0cb0e",
   "metadata": {},
   "outputs": [],
   "source": [
    "Merge_DF_4=Merge_DF_3.merge(TC_pivot_table,on='customer_id',how='left')"
   ]
  },
  {
   "cell_type": "code",
   "execution_count": null,
   "id": "f5eb90ab-6cf0-4f6e-8efa-b4e76ecca7b2",
   "metadata": {},
   "outputs": [],
   "source": [
    "Merge_DF_5=Merge_DF_4.merge(Telus_Customer_info[['customer_id','contract_end_date']],on='customer_id',how='left')"
   ]
  },
  {
   "cell_type": "code",
   "execution_count": null,
   "id": "bc183ee6-7ae9-4c60-bfde-9efa7a23bcbc",
   "metadata": {},
   "outputs": [],
   "source": [
    "Merge_DF_5.info()"
   ]
  },
  {
   "cell_type": "code",
   "execution_count": null,
   "id": "eda4f70a-d645-4472-8b76-c7f1697effa2",
   "metadata": {},
   "outputs": [],
   "source": [
    "Merge_DF_5['Telus_Churn'].isnull().sum()"
   ]
  },
  {
   "cell_type": "code",
   "execution_count": null,
   "id": "9f653e61-c4f3-4718-8ec8-f258987b60b6",
   "metadata": {},
   "outputs": [],
   "source": [
    "Merge_DF_5['Telus_Churn'].value_counts()"
   ]
  },
  {
   "cell_type": "code",
   "execution_count": null,
   "id": "da695e22-5d13-4bfa-a2eb-80a558cd422f",
   "metadata": {},
   "outputs": [],
   "source": [
    "Merge_DF_5['Churn_flag'].isna().sum()"
   ]
  },
  {
   "cell_type": "code",
   "execution_count": null,
   "id": "911bc33f-d0c8-4153-a3ed-fd42f08a461f",
   "metadata": {},
   "outputs": [],
   "source": [
    "Merge_DF_5['Churn_flag'].value_counts()"
   ]
  },
  {
   "cell_type": "code",
   "execution_count": null,
   "id": "138b928c-9bc3-4932-94bb-bbbcc3757b5d",
   "metadata": {},
   "outputs": [],
   "source": [
    "# def telus_delta(row):\n",
    "#     if row['Telus_Churn']!=row['Churn_flag']:\n",
    "#         1\n",
    "#     else:\n",
    "#         0\n",
    "    \n",
    "    "
   ]
  },
  {
   "cell_type": "code",
   "execution_count": null,
   "id": "346315a7-3bcd-4027-9d0c-97c06165e730",
   "metadata": {},
   "outputs": [],
   "source": []
  },
  {
   "cell_type": "code",
   "execution_count": null,
   "id": "60fe9aac-be93-4fa2-ac2b-2d4f974faa39",
   "metadata": {},
   "outputs": [],
   "source": [
    "Merge_DF_5['Delta_Telus']=Merge_DF_5.apply(lambda x:1 if x['Telus_Churn']!=x['Churn_flag'] else 0,axis=1)"
   ]
  },
  {
   "cell_type": "code",
   "execution_count": null,
   "id": "a58248bb-ff0d-4732-8c54-ede1130e6f93",
   "metadata": {},
   "outputs": [],
   "source": [
    "Telus_delta_DF=Merge_DF_5[(Merge_DF_5['dealer_name']=='TELUS Communications Inc.') & (Merge_DF_5['Delta_Telus']==1) ]"
   ]
  },
  {
   "cell_type": "code",
   "execution_count": null,
   "id": "6ab40b32-c2e3-41bc-97df-873d0d4735f8",
   "metadata": {},
   "outputs": [],
   "source": [
    "Telus_delta_DF.info()"
   ]
  },
  {
   "cell_type": "code",
   "execution_count": null,
   "id": "e59b384f-88eb-47ef-94fe-4e3ff82a9e09",
   "metadata": {},
   "outputs": [],
   "source": [
    "Telus_delta_DF.head()"
   ]
  },
  {
   "cell_type": "code",
   "execution_count": null,
   "id": "885e9102-3003-4811-a1a9-f1859c3d80e6",
   "metadata": {},
   "outputs": [],
   "source": [
    "Telus_delta_DF['Telus_Churn'].sum()"
   ]
  },
  {
   "cell_type": "code",
   "execution_count": null,
   "id": "40f734fc-f4d3-4896-9eed-0150ae48262b",
   "metadata": {},
   "outputs": [],
   "source": [
    "Telus_delta_missed_DF=Telus_delta_DF[Telus_delta_DF['Telus_Churn']==1]"
   ]
  },
  {
   "cell_type": "code",
   "execution_count": null,
   "id": "6dc92e1f-6941-4911-aea4-7fbc0e76c6cd",
   "metadata": {},
   "outputs": [],
   "source": []
  },
  {
   "cell_type": "code",
   "execution_count": null,
   "id": "5088ad38-8944-48df-9f30-034fa883a801",
   "metadata": {},
   "outputs": [],
   "source": [
    "Telus_delta_missed_DF['Delta_Telus'].sum()"
   ]
  },
  {
   "cell_type": "code",
   "execution_count": null,
   "id": "1a7c2cfa-1635-4b49-918c-7e0979c48dcf",
   "metadata": {},
   "outputs": [],
   "source": [
    "Telus_delta_missed_DF['Churn_flag'].sum()"
   ]
  },
  {
   "cell_type": "code",
   "execution_count": null,
   "id": "2ead9335-81cc-4f26-8116-7ab5da70ff90",
   "metadata": {},
   "outputs": [],
   "source": [
    "Telus_delta_missed_DF.columns.to_list()"
   ]
  },
  {
   "cell_type": "code",
   "execution_count": null,
   "id": "2fe6f917-436e-425e-9625-c28da8fb23b7",
   "metadata": {},
   "outputs": [],
   "source": [
    "cols_req=['customer_id','dealer_name','dealer_customer_id','Telus_Churn','churn_date_telus','Churn_flag','term_date_y','term_reason_y','Telus_internet_flag','Segment','contract_end_date','Delta_Telus',]\n",
    "Telus_delta_missed_DF=Telus_delta_missed_DF[cols_req]"
   ]
  },
  {
   "cell_type": "code",
   "execution_count": null,
   "id": "8d5a3d20-0d15-4951-b4cd-7d4aa44f50f6",
   "metadata": {},
   "outputs": [],
   "source": [
    "config= bigquery.job.LoadJobConfig()\n",
    "\n",
    "# config._properties['timePartitioning'] = {'field': 'Month_Year'}\n",
    "config.write_disposition = bigquery.WriteDisposition.WRITE_TRUNCATE\n",
    "\n",
    "Table_BQ = 'ADC_updated.Telus_ADC_missed_churn'\n",
    "\n",
    "bq_table_instance= bq_client.load_table_from_dataframe(Telus_delta_missed_DF, Table_BQ,job_config=config)"
   ]
  },
  {
   "cell_type": "code",
   "execution_count": null,
   "id": "5a3c8293-4b02-4cc2-a9b5-eaf81479a836",
   "metadata": {},
   "outputs": [],
   "source": [
    "Disengaged_DF=Merge_DF_5[Merge_DF_5['Segment']=='Disengaged']"
   ]
  },
  {
   "cell_type": "code",
   "execution_count": null,
   "id": "b43de9fd-e97b-4491-a0d8-dc4ebb5e7951",
   "metadata": {},
   "outputs": [],
   "source": [
    "Disengaged_DF.info()"
   ]
  },
  {
   "cell_type": "code",
   "execution_count": null,
   "id": "6fff723d-8300-481a-b8dc-4a535104716a",
   "metadata": {},
   "outputs": [],
   "source": [
    "Disengaged_DF['dealer_name'].value_counts()"
   ]
  },
  {
   "cell_type": "code",
   "execution_count": null,
   "id": "f171e7e9-f0a6-4f53-a2d1-91d91359176a",
   "metadata": {},
   "outputs": [],
   "source": [
    "Disengaged_DF['contract_end_date'].isna().sum()"
   ]
  },
  {
   "cell_type": "code",
   "execution_count": null,
   "id": "933998db-bba5-4359-856e-76657ea01364",
   "metadata": {},
   "outputs": [],
   "source": [
    "Disengaged_DF['Telus_Churn'].sum()"
   ]
  },
  {
   "cell_type": "code",
   "execution_count": null,
   "id": "e08146aa-7371-4053-806c-f7a48bba8f7f",
   "metadata": {},
   "outputs": [],
   "source": [
    "Disengaged_DF['Churn_flag'].sum()"
   ]
  },
  {
   "cell_type": "code",
   "execution_count": null,
   "id": "31c19de0-0072-43c2-9e59-7b4596e02a62",
   "metadata": {},
   "outputs": [],
   "source": [
    "pd.DataFrame(Disengaged_DF.groupby(['Best_Practice_All']).agg(\n",
    "    \n",
    "    Customer_count= ('customer_id','nunique'),\n",
    "    Telus_Churn_total=('Telus_Churn',lambda x: x.sum()),\n",
    "    Telus_Churn_rate=('Telus_Churn',lambda x: x.mean()*100),    \n",
    "    Churn_total=('Churn_flag',lambda x: x.sum()),\n",
    "    Churn_rate=('Churn_flag',lambda x: x.mean()*100)\n",
    "\n",
    ").reset_index())"
   ]
  },
  {
   "cell_type": "code",
   "execution_count": null,
   "id": "ba5c1e3f-9db1-4fea-8bf6-3acd02567090",
   "metadata": {},
   "outputs": [],
   "source": [
    "pd.DataFrame(Disengaged_DF.groupby(['Best_partices_1']).agg(\n",
    "    \n",
    "    Customer_count= ('customer_id','nunique'),\n",
    "    Churn_total=('Churn_flag',lambda x: x.sum()),\n",
    "    Churn_rate=('Churn_flag',lambda x: x.mean()*100)).reset_index())"
   ]
  },
  {
   "cell_type": "code",
   "execution_count": null,
   "id": "ae592260-08fc-467d-a32c-b1b404bcf7eb",
   "metadata": {},
   "outputs": [],
   "source": [
    "pd.DataFrame(Disengaged_DF.groupby(['Best_Practice_All']).agg(\n",
    "    BroadbandCommFailure_count=('BroadbandCommFailure_Flag',np.sum),\n",
    "    CameraNotCommunicating_count=('CameraNotCommunicating_Flag',np.sum), \n",
    "    CameraNotReachable_count=('CameraNotReachable_Flag',np.sum)).reset_index())"
   ]
  },
  {
   "cell_type": "code",
   "execution_count": null,
   "id": "a10d84d8-3b31-424f-ad36-3d030c2372be",
   "metadata": {},
   "outputs": [],
   "source": [
    "pd.DataFrame(Disengaged_DF.groupby(['BroadbandCommFailure_Flag']).agg(\n",
    "    \n",
    "    Customer_count= ('customer_id','nunique'),\n",
    "    Churn_total=('Churn_flag',lambda x: x.sum()),\n",
    "    Churn_rate=('Churn_flag',lambda x: x.mean()*100)).reset_index())"
   ]
  },
  {
   "cell_type": "code",
   "execution_count": null,
   "id": "a9c6c746-22e8-4800-9a0e-da20adfc8d3d",
   "metadata": {},
   "outputs": [],
   "source": [
    "pd.DataFrame(Disengaged_DF.groupby(['CameraNotCommunicating_Flag']).agg(\n",
    "    \n",
    "    Customer_count= ('customer_id','nunique'),\n",
    "    Churn_total=('Churn_flag',lambda x: x.sum()),\n",
    "    Churn_rate=('Churn_flag',lambda x: x.mean()*100)).reset_index())"
   ]
  },
  {
   "cell_type": "code",
   "execution_count": null,
   "id": "549a30f0-3278-40ed-94ca-e9d9bb63884b",
   "metadata": {},
   "outputs": [],
   "source": [
    "pd.DataFrame(Disengaged_DF.groupby(['CameraNotReachable_Flag']).agg(\n",
    "    \n",
    "    Customer_count= ('customer_id','nunique'),\n",
    "    Churn_total=('Churn_flag',lambda x: x.sum()),\n",
    "    Churn_rate=('Churn_flag',lambda x: x.mean()*100)).reset_index())"
   ]
  },
  {
   "cell_type": "code",
   "execution_count": null,
   "id": "92ddfb57-071e-425f-8637-4025c598c2c5",
   "metadata": {},
   "outputs": [],
   "source": [
    "pd.DataFrame(Disengaged_DF.groupby(['CameraNotCommunicating_count']).agg(\n",
    "    \n",
    "    Customer_count= ('customer_id','nunique'),\n",
    "    Churn_total=('Churn_flag',lambda x: x.sum()),\n",
    "    Churn_rate=('Churn_flag',lambda x: x.mean()*100)).sort_values('Churn_total',ascending=False).reset_index())"
   ]
  },
  {
   "cell_type": "code",
   "execution_count": null,
   "id": "22b7858b-ee9a-4ba3-8bfc-b07db325f319",
   "metadata": {},
   "outputs": [],
   "source": [
    "pd.DataFrame(Disengaged_DF.groupby(['CameraNotCommunicating_count']).agg(\n",
    "    \n",
    "    Customer_count= ('customer_id','nunique'),\n",
    "    Churn_total=('Churn_flag',lambda x: x.sum()),\n",
    "    Churn_rate=('Churn_flag',lambda x: x.mean()*100)).sort_values('Churn_total',ascending=False).reset_index())"
   ]
  },
  {
   "cell_type": "code",
   "execution_count": null,
   "id": "8d395b9f-9b31-4c0a-bacb-6f6a1c6d5d14",
   "metadata": {},
   "outputs": [],
   "source": [
    "pd.DataFrame(Disengaged_DF.groupby(['BroadbandCommFailure_count']).agg(\n",
    "    \n",
    "    Customer_count= ('customer_id','nunique'),\n",
    "    Churn_total=('Churn_flag',lambda x: x.sum()),\n",
    "    Churn_rate=('Churn_flag',lambda x: x.mean()*100)).sort_values('Churn_total',ascending=False).reset_index())"
   ]
  },
  {
   "cell_type": "code",
   "execution_count": null,
   "id": "301b4276-ada1-4b8e-a91d-cd75c352803e",
   "metadata": {},
   "outputs": [],
   "source": [
    "pd.DataFrame(Disengaged_DF.groupby(['CameraNotReachable_count']).agg(\n",
    "    \n",
    "    Customer_count= ('customer_id','nunique'),\n",
    "    Churn_total=('Churn_flag',lambda x: x.sum()),\n",
    "    Churn_rate=('Churn_flag',lambda x: x.mean()*100)).sort_values('Churn_total',ascending=False).reset_index())"
   ]
  },
  {
   "cell_type": "code",
   "execution_count": null,
   "id": "5604755d-5582-42d4-9a4b-9cf762fdafc2",
   "metadata": {},
   "outputs": [],
   "source": [
    "Disengaged_DF['Telus_internet_flag'].fillna(0,inplace=True)"
   ]
  },
  {
   "cell_type": "code",
   "execution_count": null,
   "id": "d11f8eaa-4b7c-4094-88fd-556948b52494",
   "metadata": {},
   "outputs": [],
   "source": [
    "Disengaged_DF.info()"
   ]
  },
  {
   "cell_type": "code",
   "execution_count": null,
   "id": "0959733d-f73d-4608-9c67-169f27eeb4a3",
   "metadata": {},
   "outputs": [],
   "source": [
    "Disengaged_DF['Churn_flag'].isna().sum()\n",
    " "
   ]
  },
  {
   "cell_type": "code",
   "execution_count": null,
   "id": "8f5947a1-9d70-43a0-8ea3-3c9cde44ee35",
   "metadata": {},
   "outputs": [],
   "source": [
    "Disengaged_DF['BroadbandCommFailure_Flag'].fillna(0,inplace=True)\n",
    "Disengaged_DF['CameraNotCommunicating_Flag'].fillna(0,inplace=True)\n",
    "Disengaged_DF['CameraNotReachable_Flag'].fillna(0,inplace=True)\n",
    "Disengaged_DF['BroadbandCommFailure_count'].fillna(0,inplace=True)\n",
    "Disengaged_DF['CameraNotCommunicating_count'].fillna(0,inplace=True)\n",
    "Disengaged_DF['CameraNotReachable_count'].fillna(0,inplace=True)\n",
    "\n",
    "# Disengaged_DF['Churn_Flag'].fillna(0,inplace=True)\n"
   ]
  },
  {
   "cell_type": "code",
   "execution_count": null,
   "id": "2a66bdb4-ffa2-4f1a-afe2-a732fc6e786c",
   "metadata": {},
   "outputs": [],
   "source": [
    "pd.DataFrame(Disengaged_DF[Disengaged_DF['dealer_name']=='TELUS Communications Inc.'].groupby(['Telus_internet_flag']).agg(\n",
    "    \n",
    "    Customer_count= ('customer_id','nunique'),\n",
    "    Churn_total=('Churn_flag',lambda x: x.sum()),\n",
    "    Churn_rate=('Churn_flag',lambda x: x.mean()*100)).reset_index())"
   ]
  },
  {
   "cell_type": "code",
   "execution_count": null,
   "id": "7420dead-0741-449a-a743-2c58b82ffd63",
   "metadata": {},
   "outputs": [],
   "source": [
    "pd.DataFrame(Disengaged_DF[(Disengaged_DF['dealer_name']=='TELUS Communications Inc.') & (Disengaged_DF['Best_Practice_All']<3) ].groupby(['Telus_internet_flag']).agg(\n",
    "    \n",
    "    Customer_count= ('customer_id','nunique'),\n",
    "    Telus_Churn_total=('Telus_Churn',lambda x: x.sum()),\n",
    "    Telus_Churn_rate=('Telus_Churn',lambda x: x.mean()*100),    \n",
    "    Churn_total=('Churn_flag',lambda x: x.sum()),\n",
    "    Churn_rate=('Churn_flag',lambda x: x.mean()*100)).reset_index())"
   ]
  },
  {
   "cell_type": "code",
   "execution_count": null,
   "id": "3438ac52-6744-4bee-8b95-08d803609e10",
   "metadata": {},
   "outputs": [],
   "source": [
    "pd.DataFrame(Disengaged_DF[(Disengaged_DF['dealer_name']=='TELUS Communications Inc.') & (Disengaged_DF['Best_Practice_All']==0) ].groupby(['Telus_internet_flag']).agg(\n",
    "    \n",
    "    Customer_count= ('customer_id','nunique'),\n",
    "    Telus_Churn_total=('Telus_Churn',lambda x: x.sum()),\n",
    "    Telus_Churn_rate=('Telus_Churn',lambda x: x.mean()*100),    \n",
    "    Churn_total=('Churn_flag',lambda x: x.sum()),\n",
    "    Churn_rate=('Churn_flag',lambda x: x.mean()*100)).reset_index())"
   ]
  },
  {
   "cell_type": "code",
   "execution_count": null,
   "id": "36b24c96-9c98-43cd-a4eb-1e82e89bd488",
   "metadata": {},
   "outputs": [],
   "source": [
    "pd.DataFrame(Disengaged_DF[(Disengaged_DF['dealer_name']=='TELUS Communications Inc.') & (Disengaged_DF['Best_partices_1']==0) ].groupby(['Telus_internet_flag']).agg(\n",
    "    \n",
    "    Customer_count= ('customer_id','nunique'),\n",
    "    Telus_Churn_total=('Telus_Churn',lambda x: x.sum()),\n",
    "    Telus_Churn_rate=('Telus_Churn',lambda x: x.mean()*100),    \n",
    "    Churn_total=('Churn_flag',lambda x: x.sum()),\n",
    "    Churn_rate=('Churn_flag',lambda x: x.mean()*100)).reset_index())"
   ]
  },
  {
   "cell_type": "code",
   "execution_count": null,
   "id": "05576bb1-4d5c-4ce9-a54f-15ae461e6e3f",
   "metadata": {},
   "outputs": [],
   "source": [
    "pd.DataFrame(Disengaged_DF[(Disengaged_DF['dealer_name']=='TELUS Communications Inc.') & (Disengaged_DF['Best_partices_1']==1) ].groupby(['Telus_internet_flag']).agg(\n",
    "    \n",
    "    Customer_count= ('customer_id','nunique'),\n",
    "    Telus_Churn_total=('Telus_Churn',lambda x: x.sum()),\n",
    "    Telus_Churn_rate=('Telus_Churn',lambda x: x.mean()*100),   \n",
    "    Churn_total=('Churn_flag',lambda x: x.sum()),\n",
    "    Churn_rate=('Churn_flag',lambda x: x.mean()*100)).reset_index())"
   ]
  },
  {
   "cell_type": "code",
   "execution_count": null,
   "id": "2ca4e6a0-7361-4b1d-aeb2-bfeff77ad390",
   "metadata": {},
   "outputs": [],
   "source": [
    "pd.DataFrame(Disengaged_DF[(Disengaged_DF['dealer_name']=='TELUS Communications Inc.') & (Disengaged_DF['Best_partices_2']==0) ].groupby(['Telus_internet_flag']).agg(\n",
    "    \n",
    "    Customer_count= ('customer_id','nunique'),\n",
    "    Telus_Churn_total=('Telus_Churn',lambda x: x.sum()),\n",
    "    Telus_Churn_rate=('Telus_Churn',lambda x: x.mean()*100),   \n",
    "    Churn_total=('Churn_flag',lambda x: x.sum()),\n",
    "    Churn_rate=('Churn_flag',lambda x: x.mean()*100)).reset_index())"
   ]
  },
  {
   "cell_type": "code",
   "execution_count": null,
   "id": "0af7c513-c8c7-48bf-b27b-bf2b8a4d7ae3",
   "metadata": {},
   "outputs": [],
   "source": [
    "pd.DataFrame(Disengaged_DF[(Disengaged_DF['dealer_name']=='TELUS Communications Inc.') & (Disengaged_DF['Best_partices_3']==0) ].groupby(['Telus_internet_flag']).agg(\n",
    "    \n",
    "    Customer_count= ('customer_id','nunique'),\n",
    "    Telus_Churn_total=('Telus_Churn',lambda x: x.sum()),\n",
    "    Telus_Churn_rate=('Telus_Churn',lambda x: x.mean()*100),   \n",
    "    Churn_total=('Churn_flag',lambda x: x.sum()),\n",
    "    Churn_rate=('Churn_flag',lambda x: x.mean()*100)).reset_index())"
   ]
  },
  {
   "cell_type": "code",
   "execution_count": null,
   "id": "a3a6febf-b742-4762-b19b-949bc274d592",
   "metadata": {},
   "outputs": [],
   "source": [
    "pd.DataFrame(Disengaged_DF[(Disengaged_DF['dealer_name']=='TELUS Communications Inc.') & (Disengaged_DF['Best_partices_4']==0) ].groupby(['Telus_internet_flag']).agg(\n",
    "    \n",
    "    Customer_count= ('customer_id','nunique'),\n",
    "    Telus_Churn_total=('Telus_Churn',lambda x: x.sum()),\n",
    "    Telus_Churn_rate=('Telus_Churn',lambda x: x.mean()*100),   \n",
    "    Churn_total=('Churn_flag',lambda x: x.sum()),\n",
    "    Churn_rate=('Churn_flag',lambda x: x.mean()*100)).reset_index())"
   ]
  },
  {
   "cell_type": "code",
   "execution_count": null,
   "id": "8d8772f3-0050-480a-b76f-7c15d9097001",
   "metadata": {},
   "outputs": [],
   "source": [
    "pd.DataFrame(Disengaged_DF[(Disengaged_DF['dealer_name']=='TELUS Communications Inc.') & (Disengaged_DF['Best_partices_5']==0) ].groupby(['Telus_internet_flag']).agg(\n",
    "    \n",
    "    Customer_count= ('customer_id','nunique'),\n",
    "    Telus_Churn_total=('Telus_Churn',lambda x: x.sum()),\n",
    "    Telus_Churn_rate=('Telus_Churn',lambda x: x.mean()*100),   \n",
    "    Churn_total=('Churn_flag',lambda x: x.sum()),\n",
    "    Churn_rate=('Churn_flag',lambda x: x.mean()*100)).reset_index())"
   ]
  },
  {
   "cell_type": "code",
   "execution_count": null,
   "id": "351147b5-21a7-456b-9256-500be4be14dd",
   "metadata": {},
   "outputs": [],
   "source": [
    "pd.DataFrame(Disengaged_DF[(Disengaged_DF['dealer_name']=='TELUS Communications Inc.') & (Disengaged_DF['Best_partices_6']==0) ].groupby(['Telus_internet_flag']).agg(\n",
    "    \n",
    "    Customer_count= ('customer_id','nunique'),\n",
    "    Telus_Churn_total=('Telus_Churn',lambda x: x.sum()),\n",
    "    Telus_Churn_rate=('Telus_Churn',lambda x: x.mean()*100),   \n",
    "    Churn_total=('Churn_flag',lambda x: x.sum()),\n",
    "    Churn_rate=('Churn_flag',lambda x: x.mean()*100)).reset_index())"
   ]
  },
  {
   "cell_type": "code",
   "execution_count": null,
   "id": "1741457b-e726-434c-bc2a-2ae7791d763e",
   "metadata": {},
   "outputs": [],
   "source": [
    "pd.DataFrame(Disengaged_DF[(Disengaged_DF['dealer_name']=='TELUS Communications Inc.') & (Disengaged_DF['Telus_internet_flag']==0) ].groupby(['CameraNotReachable_Flag']).agg(\n",
    "    \n",
    "    Customer_count= ('customer_id','nunique'),\n",
    "    Telus_Churn_total=('Telus_Churn',lambda x: x.sum()),\n",
    "    Telus_Churn_rate=('Telus_Churn',lambda x: x.mean()*100),   \n",
    "    Churn_total=('Churn_flag',lambda x: x.sum()),\n",
    "    Churn_rate=('Churn_flag',lambda x: x.mean()*100)).reset_index())"
   ]
  },
  {
   "cell_type": "code",
   "execution_count": null,
   "id": "285c5b4b-0851-420d-ac79-d57a8192c0fd",
   "metadata": {},
   "outputs": [],
   "source": [
    "pd.DataFrame(Disengaged_DF[(Disengaged_DF['dealer_name']=='TELUS Communications Inc.') & (Disengaged_DF['Telus_internet_flag']==0) ].groupby(['BroadbandCommFailure_Flag']).agg(\n",
    "    \n",
    "    Customer_count= ('customer_id','nunique'),\n",
    "    Churn_total=('Churn_flag',lambda x: x.sum()),\n",
    "    Churn_rate=('Churn_flag',lambda x: x.mean()*100)).reset_index())"
   ]
  },
  {
   "cell_type": "code",
   "execution_count": null,
   "id": "f5ebf236-6ee5-4cc3-9969-590f9d7e0852",
   "metadata": {},
   "outputs": [],
   "source": [
    "pd.DataFrame(Disengaged_DF[(Disengaged_DF['dealer_name']=='TELUS Communications Inc.') & (Disengaged_DF['Telus_internet_flag']==0) ].groupby(['CameraNotCommunicating_Flag']).agg(\n",
    "    \n",
    "    Customer_count= ('customer_id','nunique'),\n",
    "    Churn_total=('Churn_flag',lambda x: x.sum()),\n",
    "    Churn_rate=('Churn_flag',lambda x: x.mean()*100)).reset_index())"
   ]
  },
  {
   "cell_type": "code",
   "execution_count": null,
   "id": "7365a2c7-3b0d-4034-96c5-18e99283a4ae",
   "metadata": {},
   "outputs": [],
   "source": [
    "Disengaged_DF['contract_end_date'].value_counts()"
   ]
  },
  {
   "cell_type": "code",
   "execution_count": null,
   "id": "ccc5a670-a7af-4e9e-8a00-2aebc1c167f2",
   "metadata": {},
   "outputs": [],
   "source": []
  },
  {
   "cell_type": "code",
   "execution_count": null,
   "id": "cb573495-ecea-4aa1-838d-f0b363a47426",
   "metadata": {},
   "outputs": [],
   "source": []
  },
  {
   "cell_type": "code",
   "execution_count": null,
   "id": "ca223d01-9df6-44a6-b5b0-00bc63be68a4",
   "metadata": {},
   "outputs": [],
   "source": [
    "sum(Disengaged_DF['contract_end_date']=='2024-06-24')"
   ]
  },
  {
   "cell_type": "code",
   "execution_count": null,
   "id": "9365ccb4-191d-405b-87c4-b12f919b9718",
   "metadata": {},
   "outputs": [],
   "source": [
    "GTM_data_1=Disengaged_DF[(Disengaged_DF['dealer_name']=='TELUS Communications Inc.') & (Disengaged_DF['Best_partices_1']==0)] "
   ]
  },
  {
   "cell_type": "code",
   "execution_count": null,
   "id": "31cbf54d-e5c9-43a3-8fad-62d15ac23aad",
   "metadata": {},
   "outputs": [],
   "source": [
    "GTM_data_2=Disengaged_DF[(Disengaged_DF['dealer_name']=='TELUS Communications Inc.') & (Disengaged_DF['Best_Practice_All']<3)] "
   ]
  },
  {
   "cell_type": "code",
   "execution_count": null,
   "id": "ed8dd82b-7167-4cec-84d2-e9a139a13346",
   "metadata": {},
   "outputs": [],
   "source": [
    "GTM_data_2.shape"
   ]
  },
  {
   "cell_type": "code",
   "execution_count": null,
   "id": "39d6b6de-d9ce-48f0-8ddf-bad990742cfc",
   "metadata": {},
   "outputs": [],
   "source": [
    "GTM_data_1.shape"
   ]
  },
  {
   "cell_type": "code",
   "execution_count": null,
   "id": "03992725-6b11-46d0-a98c-5feb1a0046b9",
   "metadata": {},
   "outputs": [],
   "source": [
    "GTM_data_1.to_csv('/home/jovyan/work/ADC/notebooks/GTM_data_1.csv',index=False)"
   ]
  },
  {
   "cell_type": "code",
   "execution_count": null,
   "id": "5fe69c19-f96d-4880-9098-aa4b87881110",
   "metadata": {},
   "outputs": [],
   "source": [
    "GTM_data_2.to_csv('/home/jovyan/work/ADC/notebooks/GTM_data_2.csv',index=False)"
   ]
  },
  {
   "cell_type": "code",
   "execution_count": null,
   "id": "d0ce4c7d-32e1-4d8f-8b0b-e25c38bdc620",
   "metadata": {},
   "outputs": [],
   "source": []
  },
  {
   "cell_type": "code",
   "execution_count": null,
   "id": "d4e02825-a739-435d-9036-12b10b599a28",
   "metadata": {},
   "outputs": [],
   "source": [
    "Disengaged_DF.info()"
   ]
  },
  {
   "cell_type": "markdown",
   "id": "377d51da-0606-4161-932d-a34c5977b942",
   "metadata": {},
   "source": [
    "### Decision Tree "
   ]
  },
  {
   "cell_type": "code",
   "execution_count": null,
   "id": "bb4b8d9e-2f97-4d4b-8e74-48d40acc49ad",
   "metadata": {},
   "outputs": [],
   "source": [
    "\n"
   ]
  },
  {
   "cell_type": "code",
   "execution_count": null,
   "id": "b8b24c7e-0f5c-4af4-a79e-47c568257d78",
   "metadata": {},
   "outputs": [],
   "source": [
    "feature_cols=['dealer_name','Best_partices_1','Best_partices_2','Best_partices_3','Best_partices_4','Best_partices_5','Best_partices_6','Best_Practice_All','Telus_internet_flag','BroadbandCommFailure_count','CameraNotCommunicating_count','CameraNotReachable_count']\n",
    "Target_col=['Churn_flag']"
   ]
  },
  {
   "cell_type": "code",
   "execution_count": null,
   "id": "5aeb85ff-e2a8-40b8-a056-b55c75add290",
   "metadata": {},
   "outputs": [],
   "source": [
    "percent_missing = Disengaged_DF[feature_cols].isnull().sum() * 100 / Disengaged_DF.shape[0]\n",
    "missing_value_df = pd.DataFrame({'column_name': Disengaged_DF[feature_cols].columns,\n",
    "                                 'percent_missing': percent_missing})\n"
   ]
  },
  {
   "cell_type": "code",
   "execution_count": null,
   "id": "b5d1be89-d8e8-4953-95fd-a11264975b07",
   "metadata": {},
   "outputs": [],
   "source": [
    "missing_value_df"
   ]
  },
  {
   "cell_type": "code",
   "execution_count": null,
   "id": "f2543c40-9aa1-4a93-ad94-09ced0ca814d",
   "metadata": {},
   "outputs": [],
   "source": []
  },
  {
   "cell_type": "code",
   "execution_count": null,
   "id": "f4490184-0b09-4a12-b6a6-5b81f005f992",
   "metadata": {},
   "outputs": [],
   "source": [
    "Disengaged_DF[feature_cols].info()"
   ]
  },
  {
   "cell_type": "code",
   "execution_count": null,
   "id": "74a4a462-9bf1-404d-a509-192207bd76ee",
   "metadata": {},
   "outputs": [],
   "source": [
    "X=pd.get_dummies(Disengaged_DF[feature_cols])\n",
    "Y=Disengaged_DF[Target_col]"
   ]
  },
  {
   "cell_type": "code",
   "execution_count": null,
   "id": "e8d07b82-ab1d-478b-abc1-c11ce54ea8c8",
   "metadata": {},
   "outputs": [],
   "source": [
    "X.columns"
   ]
  },
  {
   "cell_type": "code",
   "execution_count": null,
   "id": "f14443e0-9887-4e7f-9363-efcb734f7edf",
   "metadata": {},
   "outputs": [],
   "source": [
    "X.info()"
   ]
  },
  {
   "cell_type": "code",
   "execution_count": null,
   "id": "209c3bc5-cabb-42d0-b1b3-cc9033b93394",
   "metadata": {},
   "outputs": [],
   "source": [
    "from sklearn import tree\n",
    "from matplotlib import pyplot as plt\n",
    "from matplotlib.pyplot import figure\n",
    "dt = tree.DecisionTreeClassifier(criterion='entropy',max_depth = 3)"
   ]
  },
  {
   "cell_type": "code",
   "execution_count": null,
   "id": "3a5f913d-7aca-4c3a-b058-edf2d0322dd6",
   "metadata": {},
   "outputs": [],
   "source": [
    "decision_tree=dt.fit(X, Y)"
   ]
  },
  {
   "cell_type": "code",
   "execution_count": null,
   "id": "dc7e8576-1ccb-4024-812d-e6b1bff2f64f",
   "metadata": {},
   "outputs": [],
   "source": []
  },
  {
   "cell_type": "code",
   "execution_count": null,
   "id": "4356b531-f16d-4dc5-9eec-5295c342b2f3",
   "metadata": {},
   "outputs": [],
   "source": [
    "from sklearn.tree import export_text\n",
    "r = export_text(decision_tree, feature_names=X.columns.tolist())\n"
   ]
  },
  {
   "cell_type": "code",
   "execution_count": null,
   "id": "64b6bd87-6a6b-47e1-ba15-1161110a4390",
   "metadata": {},
   "outputs": [],
   "source": [
    "\n",
    "figure(figsize=(100, 100))\n",
    "\n",
    "tree.plot_tree(decision_tree,feature_names=X.columns.tolist())\n"
   ]
  },
  {
   "cell_type": "code",
   "execution_count": null,
   "id": "b3183fdb-16d0-40df-883c-ac236000ac63",
   "metadata": {},
   "outputs": [],
   "source": [
    "411*100/13104"
   ]
  },
  {
   "cell_type": "code",
   "execution_count": null,
   "id": "0377027d-fcdc-4238-9012-dfb115f24c46",
   "metadata": {},
   "outputs": [],
   "source": [
    "1305*100/49442"
   ]
  },
  {
   "cell_type": "code",
   "execution_count": null,
   "id": "7909aa1c-1a0f-4fe2-bb37-899056b1e82f",
   "metadata": {},
   "outputs": [],
   "source": []
  }
 ],
 "metadata": {
  "kernelspec": {
   "display_name": "Python 3 (ipykernel)",
   "language": "python",
   "name": "python3"
  },
  "language_info": {
   "codemirror_mode": {
    "name": "ipython",
    "version": 3
   },
   "file_extension": ".py",
   "mimetype": "text/x-python",
   "name": "python",
   "nbconvert_exporter": "python",
   "pygments_lexer": "ipython3",
   "version": "3.8.12"
  }
 },
 "nbformat": 4,
 "nbformat_minor": 5
}
