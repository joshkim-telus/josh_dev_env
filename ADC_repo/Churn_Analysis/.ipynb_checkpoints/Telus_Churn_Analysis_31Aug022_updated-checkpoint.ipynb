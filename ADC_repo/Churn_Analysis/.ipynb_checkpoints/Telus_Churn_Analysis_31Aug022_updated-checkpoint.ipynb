{
 "cells": [
  {
   "cell_type": "code",
   "execution_count": null,
   "id": "e9f080a9-4073-4aab-89a3-b6932f49ee2d",
   "metadata": {},
   "outputs": [],
   "source": [
    "#### import global modules\n",
    "import os\n",
    "import sys\n",
    "import pandas as pd\n",
    "import numpy as np\n",
    "from pathlib import Path\n",
    "from yaml import safe_load\n",
    "import google.oauth2.credentials\n",
    "from google.cloud import bigquery\n",
    "import gc\n",
    "\n",
    "# Set global vars\n",
    "pth_project = Path(os.getcwd().split('notebooks')[0])\n",
    "pth_data = pth_project / 'data'\n",
    "pth_queries = pth_project / 'core' / 'queries'\n",
    "pth_creds = pth_project / 'conf' / 'local' / 'project_config.yaml'\n",
    "sys.path.insert(0, str(pth_project))\n",
    "d_project_config = safe_load(pth_creds.open())\n",
    "# d_params = safe_load((pth_project / 'core' / 'parameters' / 'common.yaml').open())['data_extract']\n",
    "\n",
    "# import local modules\n",
    "from core.utils.gcp import connect_bq_services\n",
    "# from core.etl.extract import extract_bq_data, extract_pr_codes, format_conv_df, filter_convs\n",
    "\n",
    "# Connect to google services\n",
    "bq_client = connect_bq_services(d_project_config['gcp-project-name'])\n",
    "pd.options.display.max_rows = 100"
   ]
  },
  {
   "cell_type": "code",
   "execution_count": null,
   "id": "22661801-01e6-4f2c-a4bd-d0f2fe241aa0",
   "metadata": {},
   "outputs": [],
   "source": [
    "def extract_bq_data(bq_client, sql=None, pth_query=None):\n",
    "    if sql is not None:\n",
    "        df = bq_client.query(sql).to_dataframe()\n",
    "    elif pth_query is not None:\n",
    "        sql = pth_query.read_text()\n",
    "        df = bq_client.query(sql).to_dataframe()\n",
    "    else:\n",
    "        raise ValueError('`sql` or `pth_query` should be set')  \n",
    "    return df"
   ]
  },
  {
   "cell_type": "code",
   "execution_count": null,
   "id": "7b00ff7b-8e9f-4035-a0ad-15da6b5474ca",
   "metadata": {},
   "outputs": [],
   "source": [
    "Telus_Customer_details='''\n",
    "\n",
    "\n",
    "\n",
    "with ADC_customer_base as(\n",
    "\n",
    "SELECT distinct customer_id,dealer_customer_id,dealer_name,account_type_name,customer_type_name\n",
    "FROM `cio-datahub-enterprise-pr-183a.src_adc.bq_customer_account_details` \n",
    "where date(last_updt_ts) = '2022-08-31'\n",
    "--and account_type_name!='Standalone'\n",
    "--and customer_type_name='Customer'\n",
    "and dealer_name='TELUS Communications Inc.'\n",
    "QUALIFY ROW_NUMBER() OVER (PARTITION BY dealer_customer_id ORDER BY last_updt_ts DESC) = 1\n",
    "--order by dealer_name,join_date,customer_id\n",
    ")\n",
    ",\n",
    "\n",
    "Telus_customers as\n",
    "(\n",
    "select bacct_bus_bacct_num,bacct_billg_acct_id,cust_bus_cust_id,pi_prod_instnc_typ_cd,pi_prod_instnc_stat_ts,prod_instnc_ts,pi_cntrct_end_ts as contract_end_date\n",
    "from `cio-datahub-enterprise-pr-183a.ent_cust_cust.bq_prod_instnc_snpsht` \n",
    "WHERE DATE(prod_instnc_ts) = \"2022-08-31\" #Snapshot of the last day of the month\n",
    "and pi_prod_instnc_typ_cd ='SMHM' #Serice type\n",
    "and bus_prod_instnc_src_id = 1001 #BANs that are for home services\n",
    "and pi_prod_instnc_stat_cd in ('A')\n",
    "and  consldt_cust_typ_cd = 'R'\n",
    "QUALIFY ROW_NUMBER() OVER (PARTITION BY cust_bus_cust_id ORDER BY pi_prod_instnc_stat_ts DESC) = 1\n",
    "order by cust_bus_cust_id\n",
    "\n",
    ")\n",
    "\n",
    "\n",
    ",Telus_internet_customers as \n",
    "(\n",
    "\n",
    "select distinct (customer_id) as cust_id_telus,Telus_internet_flag from `divgpras-pr-579355.ADC_updated.Telus_internet_31Aug2022`\n",
    "\n",
    ")\n",
    "\n",
    "\n",
    ", Telus_SMHM_Deact_Sep2022 as \n",
    "\n",
    "\n",
    "(\n",
    "\n",
    "\n",
    "select distinct(CAST (CUST_ID as STRING)) as CUST_ID ,Deact_Flag as Telus_Churn_Flag  \n",
    "\n",
    "from `divgpras-pr-579355.ADC_updated.Telus_SMHM_Sep2022_Deacts`\n",
    "\n",
    "\n",
    ")\n",
    "\n",
    "select * from ADC_customer_base as ADC\n",
    "inner join Telus_customers as Telus\n",
    "on ADC.dealer_customer_id=Telus.cust_bus_cust_id\n",
    "left join Telus_internet_customers\n",
    "on ADC.customer_id=Telus_internet_customers.cust_id_telus\n",
    "left join Telus_SMHM_Deact_Sep2022\n",
    "on ADC.dealer_customer_id=Telus_SMHM_Deact_Sep2022.CUST_ID\n",
    "\n",
    "'''"
   ]
  },
  {
   "cell_type": "code",
   "execution_count": null,
   "id": "dd975cb1-7a9c-4c08-9e91-5402c7eb487b",
   "metadata": {},
   "outputs": [],
   "source": [
    "Telus_Customer_details_Nov2022='''\n",
    "\n",
    "\n",
    "\n",
    "with ADC_customer_base as(\n",
    "\n",
    "SELECT distinct customer_id,dealer_customer_id,dealer_name,account_type_name,customer_type_name\n",
    "FROM `cio-datahub-enterprise-pr-183a.src_adc.bq_customer_account_details` \n",
    "where \n",
    "date(last_updt_ts) = '2022-11-30'\n",
    "--and account_type_name!='Standalone'\n",
    "--and customer_type_name='Customer'\n",
    "and dealer_name='TELUS Communications Inc.'\n",
    "QUALIFY ROW_NUMBER() OVER (PARTITION BY dealer_customer_id ORDER BY last_updt_ts DESC) = 1\n",
    "--order by dealer_name,join_date,customer_id\n",
    ")\n",
    ",\n",
    "\n",
    "Telus_customers as\n",
    "(\n",
    "select bacct_bus_bacct_num,bacct_billg_acct_id,cust_bus_cust_id,pi_prod_instnc_typ_cd,pi_prod_instnc_stat_ts,prod_instnc_ts,pi_cntrct_end_ts as contract_end_date\n",
    "from `cio-datahub-enterprise-pr-183a.ent_cust_cust.bq_prod_instnc_snpsht` \n",
    "WHERE DATE(prod_instnc_ts) = \"2022-11-30\" #Snapshot of the last day of the month\n",
    "and pi_prod_instnc_typ_cd ='SMHM' #Serice type\n",
    "and bus_prod_instnc_src_id = 1001 #BANs that are for home services\n",
    "and pi_prod_instnc_stat_cd in ('A')\n",
    "and  consldt_cust_typ_cd = 'R'\n",
    "QUALIFY ROW_NUMBER() OVER (PARTITION BY cust_bus_cust_id ORDER BY prod_instnc_ts DESC) = 1\n",
    "order by cust_bus_cust_id\n",
    "\n",
    ")\n",
    "\n",
    "\n",
    "\n",
    "\n",
    "\n",
    ", Telus_SMHM_Deact_Nov2022 as \n",
    "\n",
    "\n",
    "(\n",
    "\n",
    "\n",
    "select distinct(CAST (CUST_ID as STRING)) as CUST_ID ,1 as Telus_Churn_Flag  \n",
    "\n",
    "from `divgpras-pr-579355.ADC_updated.Telus_SMHM_Nov2022_Deacts`\n",
    "\n",
    "\n",
    ")\n",
    "\n",
    "select * from ADC_customer_base as ADC\n",
    "inner join Telus_customers as Telus\n",
    "on ADC.dealer_customer_id=Telus.cust_bus_cust_id\n",
    "left join Telus_SMHM_Deact_Nov2022\n",
    "on ADC.dealer_customer_id=Telus_SMHM_Deact_Nov2022.CUST_ID\n",
    "\n",
    "'''"
   ]
  },
  {
   "cell_type": "code",
   "execution_count": null,
   "id": "5943ebec-6119-4617-89fa-f7b469912a7e",
   "metadata": {},
   "outputs": [],
   "source": [
    "Data_Nov22=extract_bq_data(bq_client, sql=Telus_Customer_details_Nov2022)"
   ]
  },
  {
   "cell_type": "code",
   "execution_count": null,
   "id": "05ade681-dce3-43ef-9347-8aa6b7dcf76e",
   "metadata": {},
   "outputs": [],
   "source": [
    "Data_Nov22.info()"
   ]
  },
  {
   "cell_type": "code",
   "execution_count": null,
   "id": "5fe802f1-583e-43b0-9ffc-f20a3687ba02",
   "metadata": {},
   "outputs": [],
   "source": [
    "config= bigquery.job.LoadJobConfig()\n",
    "\n",
    "# config._properties['timePartitioning'] = {'field': 'Month_Year'}\n",
    "config.write_disposition = bigquery.WriteDisposition.WRITE_TRUNCATE\n",
    "\n",
    "Table_BQ = 'ADC_updated.ADC_Telus_Customers_Nov22'\n",
    "\n",
    "bq_table_instance= bq_client.load_table_from_dataframe(Data_Nov22, Table_BQ,job_config=config)"
   ]
  },
  {
   "cell_type": "code",
   "execution_count": null,
   "id": "78d29b7a-e5ac-4279-b89f-af6b8a27e2ce",
   "metadata": {},
   "outputs": [],
   "source": [
    "Data_Nov22['Telus_Churn_Flag'].sum()"
   ]
  },
  {
   "cell_type": "code",
   "execution_count": null,
   "id": "4d5d5f46-a481-42fe-8cd7-8683017ae4ec",
   "metadata": {},
   "outputs": [],
   "source": [
    "Data_Sep2022=extract_bq_data(bq_client, sql=Telus_Customer_details)"
   ]
  },
  {
   "cell_type": "code",
   "execution_count": null,
   "id": "1cac255f-3e45-4195-9f1d-4c7287e5bf67",
   "metadata": {},
   "outputs": [],
   "source": [
    "Data_Sep2022.info()"
   ]
  },
  {
   "cell_type": "code",
   "execution_count": null,
   "id": "63799ea7-3671-4a3e-a4c3-2447d8cfc0e9",
   "metadata": {},
   "outputs": [],
   "source": [
    "Data_Sep2022['Telus_Churn_Flag'].sum()"
   ]
  },
  {
   "cell_type": "code",
   "execution_count": null,
   "id": "effbe60e-d14d-4045-9225-611085d20795",
   "metadata": {},
   "outputs": [],
   "source": [
    "Data_Sep2022['Telus_internet_flag'].sum()"
   ]
  },
  {
   "cell_type": "code",
   "execution_count": null,
   "id": "3c0d809c-9170-4386-99ad-a3c4212592ac",
   "metadata": {},
   "outputs": [],
   "source": [
    "Data_Sep2022['Telus_Churn_Flag'].fillna(0,inplace=True)"
   ]
  },
  {
   "cell_type": "code",
   "execution_count": null,
   "id": "83776228-f157-499f-8f20-3b696dae0bcc",
   "metadata": {},
   "outputs": [],
   "source": [
    "Data_Sep2022['Telus_internet_flag'].fillna(0,inplace=True)"
   ]
  },
  {
   "cell_type": "code",
   "execution_count": null,
   "id": "22065bee-a00f-4e6b-9673-9ca438e0c2a6",
   "metadata": {},
   "outputs": [],
   "source": [
    "Data_Sep2022['Telus_Churn_Flag'].value_counts(normalize=True)*100"
   ]
  },
  {
   "cell_type": "code",
   "execution_count": null,
   "id": "4b09483c-4ed1-4b91-a80d-7412cc0be886",
   "metadata": {},
   "outputs": [],
   "source": [
    "Data_Sep2022['dealer_customer_id'].isna().sum()"
   ]
  },
  {
   "cell_type": "code",
   "execution_count": null,
   "id": "b8021a36-14a0-4164-b8de-61fdadc6d18e",
   "metadata": {},
   "outputs": [],
   "source": [
    "Data_Sep2022['customer_id'].value_counts()"
   ]
  },
  {
   "cell_type": "code",
   "execution_count": null,
   "id": "183ca680-9f8c-4c11-9c53-cd944be1f307",
   "metadata": {},
   "outputs": [],
   "source": [
    "Data_Sep2022['dealer_customer_id'].value_counts()"
   ]
  },
  {
   "cell_type": "code",
   "execution_count": null,
   "id": "9493b5dc-0fc8-4e21-bd3b-46f2ca13ae75",
   "metadata": {},
   "outputs": [],
   "source": [
    "Data_Sep2022['bacct_bus_bacct_num'].isna().sum()*100/Data_Sep2022.shape[0]"
   ]
  },
  {
   "cell_type": "code",
   "execution_count": null,
   "id": "6536d656-c9b6-4a25-8946-4f742c2fcb09",
   "metadata": {},
   "outputs": [],
   "source": [
    "pd.DataFrame(Data_Sep2022.groupby(['dealer_name']).agg(\n",
    "    \n",
    "    Customer_count= ('customer_id','nunique'),\n",
    "    Churn_total=('Telus_Churn_Flag',lambda x: x.sum()),\n",
    "    Churn_rate=('Telus_Churn_Flag',lambda x: x.mean()*100)).reset_index())"
   ]
  },
  {
   "cell_type": "code",
   "execution_count": null,
   "id": "1f4dfc0c-19cf-4452-8b98-453734d102cb",
   "metadata": {},
   "outputs": [],
   "source": [
    "pd.DataFrame(Data_Sep2022.groupby(['account_type_name']).agg(\n",
    "    \n",
    "    Customer_count= ('customer_id','nunique'),\n",
    "    Churn_total=('Telus_Churn_Flag',lambda x: x.sum()),\n",
    "    Churn_rate=('Telus_Churn_Flag',lambda x: x.mean()*100)).reset_index())"
   ]
  },
  {
   "cell_type": "code",
   "execution_count": null,
   "id": "70ec6610-b96a-4bf0-8caf-59cf664e5b36",
   "metadata": {},
   "outputs": [],
   "source": [
    "pd.DataFrame(Data_Sep2022.groupby(['customer_type_name']).agg(\n",
    "    \n",
    "    Customer_count= ('customer_id','nunique'),\n",
    "    Churn_total=('Telus_Churn_Flag',lambda x: x.sum()),\n",
    "    Churn_rate=('Telus_Churn_Flag',lambda x: x.mean()*100)).reset_index())"
   ]
  },
  {
   "cell_type": "code",
   "execution_count": null,
   "id": "7bd7f09e-ae30-43a0-a667-e7747ba4a786",
   "metadata": {},
   "outputs": [],
   "source": [
    "pd.DataFrame(Data_Sep2022.groupby(['customer_type_name','account_type_name']).agg(\n",
    "    \n",
    "    Customer_count= ('customer_id','nunique'),\n",
    "    Telus_matched_customers=('cust_bus_cust_id','nunique'),\n",
    "    Telus_internet_customers=('Telus_internet_flag',lambda x: x.sum()),\n",
    "    Telus_internet_penetration=('Telus_internet_flag',lambda x: x.mean()*100),\n",
    "    Churn_total=('Telus_Churn_Flag',lambda x: x.sum()),\n",
    "    Churn_rate=('Telus_Churn_Flag',lambda x: x.mean()*100)).reset_index())"
   ]
  },
  {
   "cell_type": "code",
   "execution_count": null,
   "id": "6ce6735b-a8b3-4291-b2e2-667bafaca18d",
   "metadata": {},
   "outputs": [],
   "source": [
    "# Data_Sep2022[Data_Sep2022['account_type_name']=='Standalone'][['customer_id','cust_bus_cust_id','account_type_name']]"
   ]
  },
  {
   "cell_type": "code",
   "execution_count": null,
   "id": "e716065e-b7a3-4a60-8af0-4943d9668ef2",
   "metadata": {},
   "outputs": [],
   "source": [
    "661+1431"
   ]
  },
  {
   "cell_type": "code",
   "execution_count": null,
   "id": "ea42e02f-1d2e-4d54-b03a-16d2f81556db",
   "metadata": {},
   "outputs": [],
   "source": [
    "44490/44892"
   ]
  },
  {
   "cell_type": "code",
   "execution_count": null,
   "id": "ef378ea9-5bd1-4257-b808-d70642693b74",
   "metadata": {},
   "outputs": [],
   "source": [
    "Best_Practices_Query= '''\n",
    "\n",
    "select * from `divgpras-pr-579355.ADC_updated.Best_Practices_Customers_latest`\n",
    "\n",
    "'''"
   ]
  },
  {
   "cell_type": "code",
   "execution_count": null,
   "id": "b3c8b461-97b5-4c02-a67d-210d19b4c6b4",
   "metadata": {},
   "outputs": [],
   "source": [
    "Best_Practices_DF=extract_bq_data(bq_client, sql=Best_Practices_Query)"
   ]
  },
  {
   "cell_type": "code",
   "execution_count": null,
   "id": "364c1533-0f74-4b7d-8b9a-01c5b80c3324",
   "metadata": {},
   "outputs": [],
   "source": [
    "Best_Practices_DF.head()"
   ]
  },
  {
   "cell_type": "code",
   "execution_count": null,
   "id": "0f428528-d09d-4cbc-b9c2-3d2196f2082a",
   "metadata": {},
   "outputs": [],
   "source": [
    "Best_Practices_DF['Best_partices_5'].value_counts(normalize=True)*100"
   ]
  },
  {
   "cell_type": "code",
   "execution_count": null,
   "id": "06312983-8fb9-40b5-8dd0-549d2676fc28",
   "metadata": {},
   "outputs": [],
   "source": [
    "Arming_Query=  '''\n",
    "\n",
    "with date_sql as (\n",
    "select  count(distinct date(date)) as count_of_dates from `cio-datahub-enterprise-pr-183a.src_adc.bq_aggregate_daily_arming_commands`\n",
    "where date(date)< '2022-09-01'and date(date)>= '2022-08-01'\n",
    ")\n",
    "\n",
    "select id_cust as customer_id,sum(count_arm_commands) as sum_arm_commands,sum(count_disarm_commands) as sum_disarm_commands,count (distinct date(date)) as number_days_arming_disarming, (select count_of_dates from date_sql ) as count_of_dates_arming\n",
    "from `cio-datahub-enterprise-pr-183a.src_adc.bq_aggregate_daily_arming_commands`\n",
    "where date(date)< '2022-09-01' and date(date)>= '2022-08-01'\n",
    "group by customer_id\n",
    "order by number_days_arming_disarming desc\n",
    "\n",
    "'''"
   ]
  },
  {
   "cell_type": "code",
   "execution_count": null,
   "id": "a0bb8420-c4ac-40c5-82be-cc61bbbd878d",
   "metadata": {},
   "outputs": [],
   "source": [
    "Arming_DF=extract_bq_data(bq_client, sql=Arming_Query)"
   ]
  },
  {
   "cell_type": "code",
   "execution_count": null,
   "id": "d2f2290c-1dd1-4fda-a4b4-925921303a46",
   "metadata": {},
   "outputs": [],
   "source": [
    "Arming_DF.info()"
   ]
  },
  {
   "cell_type": "code",
   "execution_count": null,
   "id": "6ab99f89-296f-4332-bf03-a1f4ac1f749f",
   "metadata": {},
   "outputs": [],
   "source": [
    "\n",
    "max_number_arming_dates=Arming_DF['count_of_dates_arming'].max()\n",
    "Arming_DF['Arming_Consistency']=Arming_DF['number_days_arming_disarming'].apply(lambda x: x*100/max_number_arming_dates)\n"
   ]
  },
  {
   "cell_type": "code",
   "execution_count": null,
   "id": "e271684b-635a-45f4-977b-b2fe321b5bce",
   "metadata": {},
   "outputs": [],
   "source": [
    "max_number_arming_dates"
   ]
  },
  {
   "cell_type": "code",
   "execution_count": null,
   "id": "5026bd7f-e7ea-474f-a31b-ccf70e1c5977",
   "metadata": {},
   "outputs": [],
   "source": [
    "Arming_DF['Arming_Flag']=1"
   ]
  },
  {
   "cell_type": "code",
   "execution_count": null,
   "id": "b63b3085-30b3-431d-bec6-c8a1bbe830d3",
   "metadata": {},
   "outputs": [],
   "source": [
    "Login_SQL='''\n",
    "\n",
    "with date_sql as (\n",
    "select  count(distinct date(login_dt_utc)) as count_of_dates from `cio-datahub-enterprise-pr-183a.src_adc.bq_customer_daily_logins`\n",
    "where date(login_dt_utc)< '2022-09-01' and date(login_dt_utc)>= '2022-08-01'\n",
    "\n",
    ")\n",
    "\n",
    "\n",
    "\n",
    "select customer_id,sum(login_count) as sum_login_count,count (distinct date(login_dt_utc)) as number_of_login_days, (select count_of_dates from date_sql ) as count_of_dates_logins\n",
    "from `cio-datahub-enterprise-pr-183a.src_adc.bq_customer_daily_logins`\n",
    "where date(login_dt_utc)< '2022-09-01' and date(login_dt_utc)>= '2022-08-01'\n",
    "group by customer_id\n",
    "order by number_of_login_days desc\n",
    "\n",
    "\n",
    "'''"
   ]
  },
  {
   "cell_type": "code",
   "execution_count": null,
   "id": "0b2bd982-6901-4d09-a69e-ce5e54e3e108",
   "metadata": {},
   "outputs": [],
   "source": [
    "Login_DF=extract_bq_data(bq_client, sql=Login_SQL)"
   ]
  },
  {
   "cell_type": "code",
   "execution_count": null,
   "id": "14e77ccc-a385-4d65-b481-9d91c29f6e2b",
   "metadata": {},
   "outputs": [],
   "source": [
    "max_number_login_dates=Login_DF['count_of_dates_logins'].max()\n",
    "Login_DF['Login_Consistency']=Login_DF['number_of_login_days'].apply(lambda x: x*100/max_number_login_dates)"
   ]
  },
  {
   "cell_type": "code",
   "execution_count": null,
   "id": "730eb625-d4df-4d1d-a22b-1dbbfd243116",
   "metadata": {},
   "outputs": [],
   "source": [
    "Camera_TC_issue_query='''\n",
    "\n",
    "select dealer_name,customer_id,unit_id,device_id,trouble_condition_name,trouble_condition_group_id,trouble_condition_group_desc, start_date_utc,end_date_utc\n",
    "from `cio-datahub-enterprise-pr-183a.src_adc.bq_troublecondition_data`\n",
    "where trouble_condition_start_ind='Y'and trouble_condition_closed_ind='Y' \n",
    "and date(start_date_utc) >= '2022-06-01' and date(start_date_utc) <'2022-09-01' \n",
    "and trouble_condition_name in ('CameraNotReachable','CameraNotCommunicating','BroadbandCommFailure')\n",
    "\n",
    "\n",
    "'''"
   ]
  },
  {
   "cell_type": "code",
   "execution_count": null,
   "id": "981facca-982e-4b56-8889-fe039acd9cc2",
   "metadata": {},
   "outputs": [],
   "source": [
    "Camera_TC= extract_bq_data(bq_client, sql=Camera_TC_issue_query)"
   ]
  },
  {
   "cell_type": "code",
   "execution_count": null,
   "id": "c481073e-f3e8-4f48-bb40-cd35cb135f30",
   "metadata": {},
   "outputs": [],
   "source": [
    "Camera_TC['count_instance']=1\n",
    "\n",
    "TC_pivot_table=pd.pivot_table(Camera_TC, values=['count_instance'], index=['customer_id'], columns='trouble_condition_name',\n",
    "                          aggfunc={'count_instance': np.sum})"
   ]
  },
  {
   "cell_type": "code",
   "execution_count": null,
   "id": "73b71a46-1939-4c39-80cf-2d9437574e4f",
   "metadata": {},
   "outputs": [],
   "source": [
    "TC_pivot_table=TC_pivot_table.reset_index()"
   ]
  },
  {
   "cell_type": "code",
   "execution_count": null,
   "id": "3ed6ac04-07d4-4972-afc1-da6d97ec1470",
   "metadata": {},
   "outputs": [],
   "source": [
    "TC_pivot_table.head()"
   ]
  },
  {
   "cell_type": "code",
   "execution_count": null,
   "id": "096a6168-905c-41d3-a93e-f21820e10968",
   "metadata": {},
   "outputs": [],
   "source": [
    "TC_pivot_table.columns=['customer_id','BroadbandCommFailure_count','CameraNotCommunicating_count','CameraNotReachable_count']"
   ]
  },
  {
   "cell_type": "code",
   "execution_count": null,
   "id": "9aa1f874-ba48-448e-af41-b791ba7d5073",
   "metadata": {},
   "outputs": [],
   "source": [
    "TC_pivot_table.fillna(0,inplace=True)"
   ]
  },
  {
   "cell_type": "code",
   "execution_count": null,
   "id": "55bf777a-287f-4ab3-b297-807d05b87cd1",
   "metadata": {},
   "outputs": [],
   "source": [
    "TC_pivot_table['BroadbandCommFailure_Flag']=TC_pivot_table['BroadbandCommFailure_count'].apply(lambda x: 1 if x>0 else 0)\n",
    "TC_pivot_table['CameraNotCommunicating_Flag']=TC_pivot_table['CameraNotCommunicating_count'].apply(lambda x: 1 if x>0 else 0)\n",
    "TC_pivot_table['CameraNotReachable_Flag']=TC_pivot_table['CameraNotReachable_count'].apply(lambda x: 1 if x>0 else 0)\n"
   ]
  },
  {
   "cell_type": "code",
   "execution_count": null,
   "id": "e638d0f4-6b32-47b3-b2a0-2db5113180d7",
   "metadata": {},
   "outputs": [],
   "source": []
  },
  {
   "cell_type": "code",
   "execution_count": null,
   "id": "76f677d9-ca05-4b2e-b8db-de371f92d5cb",
   "metadata": {},
   "outputs": [],
   "source": [
    "Merge_DF=Data_Sep2022.merge(Best_Practices_DF,on='customer_id',how='left')"
   ]
  },
  {
   "cell_type": "code",
   "execution_count": null,
   "id": "385789bc-faa5-4705-ba86-69bf2c85dece",
   "metadata": {},
   "outputs": [],
   "source": [
    "Merge_DF_1=Merge_DF.merge(Arming_DF,on='customer_id',how='left')"
   ]
  },
  {
   "cell_type": "code",
   "execution_count": null,
   "id": "e8a29604-3587-4c90-8eac-d0a8a21379ac",
   "metadata": {},
   "outputs": [],
   "source": [
    "Merge_DF_2=Merge_DF_1.merge(Login_DF,on='customer_id',how='left')"
   ]
  },
  {
   "cell_type": "code",
   "execution_count": null,
   "id": "bf4e05e8-fa90-4670-9340-131e99ff7340",
   "metadata": {},
   "outputs": [],
   "source": [
    "Merge_DF_3=Merge_DF_2.merge(TC_pivot_table,on='customer_id',how='left')"
   ]
  },
  {
   "cell_type": "code",
   "execution_count": null,
   "id": "dc17a4b4-e4f9-4d87-b14e-1fd85abafcee",
   "metadata": {},
   "outputs": [],
   "source": [
    "Merge_DF_3['Best_Practice_All_flag'].isna().sum()"
   ]
  },
  {
   "cell_type": "code",
   "execution_count": null,
   "id": "bb950857-84bc-43dd-93bf-78588c581886",
   "metadata": {},
   "outputs": [],
   "source": [
    "Merge_DF_3['Arming_Consistency'].isna().sum()"
   ]
  },
  {
   "cell_type": "code",
   "execution_count": null,
   "id": "474de19b-0dcd-46c2-9f26-51d02b17d795",
   "metadata": {},
   "outputs": [],
   "source": [
    "Merge_DF_3['Login_Consistency'].isna().sum()"
   ]
  },
  {
   "cell_type": "code",
   "execution_count": null,
   "id": "d112826d-12dd-44fc-9505-244ef39c0f1d",
   "metadata": {},
   "outputs": [],
   "source": [
    "Merge_DF_3.fillna(0,inplace=True)"
   ]
  },
  {
   "cell_type": "code",
   "execution_count": null,
   "id": "631fdf7c-8ff9-4c80-aafa-b95773af2dbf",
   "metadata": {},
   "outputs": [],
   "source": [
    "Merge_DF_3['Login_Consistency'].value_counts()"
   ]
  },
  {
   "cell_type": "code",
   "execution_count": null,
   "id": "5f27a018-b72f-4228-8aae-f394f3c330ef",
   "metadata": {},
   "outputs": [],
   "source": [
    "def Segment_making(row\n",
    "                   ,min_login_consistency_threshold=50\n",
    "                   ,min_arming_consistency_threshold=50\n",
    "                   ,max_login_consistency_threshold=50\n",
    "                   ,max_arming_consistency_threshold=50):\n",
    "    \n",
    "    if row['Best_Practice_All']>=5 and row['Login_Consistency']>=max_login_consistency_threshold  and row['Arming_Consistency']>=max_arming_consistency_threshold:\n",
    "        return 'Heavy_User'\n",
    "    elif row['Login_Consistency']>=max_login_consistency_threshold  and row['Arming_Consistency']< min_arming_consistency_threshold:\n",
    "        return 'Home_automation_Savvy'\n",
    "    elif row['Login_Consistency']< min_login_consistency_threshold  and row['Arming_Consistency']>=max_login_consistency_threshold:\n",
    "        return 'Old_Fashion'\n",
    "    elif row['Login_Consistency']==0  and row['Arming_Consistency']==0:\n",
    "        return 'Disengaged'\n",
    "    else:\n",
    "        return \"Moderate_Users\""
   ]
  },
  {
   "cell_type": "code",
   "execution_count": null,
   "id": "f4f9972c-e749-451b-ab4b-bdf67ca9c3fd",
   "metadata": {},
   "outputs": [],
   "source": [
    "Merge_DF_3['Segment']=Merge_DF_3.apply(Segment_making,axis=1)"
   ]
  },
  {
   "cell_type": "code",
   "execution_count": null,
   "id": "0ce26297-4537-4a91-b581-c9ada7480048",
   "metadata": {},
   "outputs": [],
   "source": [
    "pd.DataFrame(Merge_DF_3.groupby(['Segment']).agg(\n",
    "    \n",
    "    Customer_count= ('customer_id','nunique'),\n",
    "    Best_practices_1=('Best_partices_1','sum'),\n",
    "     Login_conis=('Login_Consistency','mean'),\n",
    "    # Telus_internet_customers=('Telus_internet_flag',lambda x: x.sum()),\n",
    "    # Telus_internet_penetration=('Telus_internet_flag',lambda x: x.mean()*100),\n",
    "    # Churn_total=('Telus_Churn_Flag',lambda x: x.sum()),\n",
    "    # Churn_rate=('Telus_Churn_Flag',lambda x: x.mean()*100)\n",
    ").reset_index())"
   ]
  },
  {
   "cell_type": "code",
   "execution_count": null,
   "id": "a50da015-09b4-4363-8743-0697c14dd739",
   "metadata": {},
   "outputs": [],
   "source": [
    "Merge_DF_3['Segment'].value_counts(normalize=True)*100"
   ]
  },
  {
   "cell_type": "code",
   "execution_count": null,
   "id": "6ec7389b-1ca6-43be-8b68-be108723c0a3",
   "metadata": {},
   "outputs": [],
   "source": [
    "Merge_DF_3['Segment'].value_counts()"
   ]
  },
  {
   "cell_type": "code",
   "execution_count": null,
   "id": "8d34b35f-e986-4d48-aff5-f4977b430e30",
   "metadata": {},
   "outputs": [],
   "source": [
    "Merge_DF_3['Login_Consistency'].value_counts(normalize=True)*100"
   ]
  },
  {
   "cell_type": "code",
   "execution_count": null,
   "id": "a9dbbef8-72c5-4441-8241-b7d917599f2c",
   "metadata": {},
   "outputs": [],
   "source": [
    "Merge_DF_3['Arming_Consistency'].value_counts(normalize=True)*100"
   ]
  },
  {
   "cell_type": "code",
   "execution_count": null,
   "id": "18693b0d-e61f-4b36-b3c2-3034cfc555ba",
   "metadata": {},
   "outputs": [],
   "source": [
    "Merge_DF_3.info()"
   ]
  },
  {
   "cell_type": "code",
   "execution_count": null,
   "id": "90bf2380-9e34-403a-9aaf-e0ae24c5a2be",
   "metadata": {},
   "outputs": [],
   "source": [
    "Merge_DF_3['Best_partices_3'].value_counts(normalize=True)*100"
   ]
  },
  {
   "cell_type": "code",
   "execution_count": null,
   "id": "24e311b5-315a-4993-b10b-0adefef38c4a",
   "metadata": {},
   "outputs": [],
   "source": [
    "pd.DataFrame(Merge_DF_3.groupby(['Segment']).agg(\n",
    "    \n",
    "    Customer_count= ('customer_id','nunique'),\n",
    "    Best_practices_3=('Best_partices_3','sum'),\n",
    "     Best_pract_Arming_per=('Best_partices_3','mean'),\n",
    "    # Telus_internet_customers=('Telus_internet_flag',lambda x: x.sum()),\n",
    "    # Telus_internet_penetration=('Telus_internet_flag',lambda x: x.mean()*100),\n",
    "    # Churn_total=('Telus_Churn_Flag',lambda x: x.sum()),\n",
    "    # Churn_rate=('Telus_Churn_Flag',lambda x: x.mean()*100)\n",
    ").reset_index())"
   ]
  },
  {
   "cell_type": "code",
   "execution_count": null,
   "id": "3502b65a-decb-464d-b23b-3dd0893e6f31",
   "metadata": {},
   "outputs": [],
   "source": [
    "Merge_DF_3['contract_end_date'].value_counts()"
   ]
  },
  {
   "cell_type": "code",
   "execution_count": null,
   "id": "320348fa-2d14-4961-99fb-b699406f42e9",
   "metadata": {},
   "outputs": [],
   "source": [
    "# Merge_DF_2[Merge_DF_2['contract_end_date']]"
   ]
  },
  {
   "cell_type": "code",
   "execution_count": null,
   "id": "912493e9-4b1b-4f8e-b35e-9a668c0c7a3f",
   "metadata": {},
   "outputs": [],
   "source": [
    "Merge_DF_3['Camera_TC_condition_count']=Merge_DF_3.apply(lambda x: x['BroadbandCommFailure_count']+x['CameraNotCommunicating_count']+x['CameraNotReachable_count'],axis=1)"
   ]
  },
  {
   "cell_type": "code",
   "execution_count": null,
   "id": "3a729f4a-1d65-4419-beef-7d1d37bb1b71",
   "metadata": {},
   "outputs": [],
   "source": [
    "Merge_DF_3['Camera_TC_condition_count'].value_counts()"
   ]
  },
  {
   "cell_type": "code",
   "execution_count": null,
   "id": "85e473d4-174b-4ce1-bfdc-76e8f5f25d0a",
   "metadata": {},
   "outputs": [],
   "source": [
    "Merge_DF_3['Telus_Churn_Flag'].value_counts(normalize=True)*100"
   ]
  },
  {
   "cell_type": "code",
   "execution_count": null,
   "id": "969cfd0e-8a11-4ad8-8b89-e0e6f3771cc2",
   "metadata": {},
   "outputs": [],
   "source": [
    "Merge_DF_3.to_csv('GTM_full_data_Sep2022.csv',index=False)"
   ]
  },
  {
   "cell_type": "code",
   "execution_count": null,
   "id": "c4dd92c1-a53c-4157-b94e-16e977d1a2e8",
   "metadata": {},
   "outputs": [],
   "source": [
    "# GTM_data_4=Merge_DF_3[(Merge_DF_3['dealer_name']=='TELUS Communications Inc.') & (Merge_DF_3['Best_partices_4']==1) & (Merge_DF_3['Best_partices_1']==0) & ((Merge_DF_3['Segment']=='Disengaged') | (Merge_DF_3['Segment']=='Moderate_Users'))] \n",
    "# GTM_data_5=Merge_DF_3[(Merge_DF_3['dealer_name']=='TELUS Communications Inc.')& (Merge_DF_3['Best_partices_4']==1) & (Merge_DF_3['Best_Practice_All']<3) & ((Merge_DF_3['Segment']=='Disengaged') | (Merge_DF_3['Segment']=='Moderate_Users'))] \n",
    "# GTM_data_6=Merge_DF_3[(Merge_DF_3['dealer_name']=='TELUS Communications Inc.')& (Merge_DF_3['Best_partices_4']==1) & (Merge_DF_3['Camera_TC_condition_count']>3) & ((Merge_DF_3['Segment']=='Disengaged') | (Merge_DF_3['Segment']=='Moderate_Users'))] \n",
    "GTM_data_7=Merge_DF_3[(Merge_DF_3['dealer_name']=='TELUS Communications Inc.')& (Merge_DF_3['Best_partices_5']==1)  & ((Merge_DF_3['Segment']=='Disengaged') | (Merge_DF_3['Segment']=='Moderate_Users'))]"
   ]
  },
  {
   "cell_type": "code",
   "execution_count": null,
   "id": "42443a96-337a-47a5-9399-85afce61363f",
   "metadata": {},
   "outputs": [],
   "source": [
    "GTM_data_7.shape"
   ]
  },
  {
   "cell_type": "code",
   "execution_count": null,
   "id": "e097ca75-095d-42d9-8b43-785ea27b7cf8",
   "metadata": {},
   "outputs": [],
   "source": [
    "GTM_data_7.to_csv('GTM_data_HomeAutodev.csv',index=False)"
   ]
  },
  {
   "cell_type": "code",
   "execution_count": null,
   "id": "9aa111b3-bcf6-466b-b876-d6062fba3543",
   "metadata": {},
   "outputs": [],
   "source": [
    "# GTM_dis_data_1=Merge_DF_3[(Merge_DF_3['dealer_name']=='TELUS Communications Inc.') & (Merge_DF_3['Best_partices_1']==0) & (Merge_DF_3['Segment']=='Disengaged')] \n",
    "# GTM_dis_data_2=Merge_DF_3[(Merge_DF_3['dealer_name']=='TELUS Communications Inc.') & (Merge_DF_3['Best_Practice_All']<3) & (Merge_DF_3['Segment']=='Disengaged')] \n",
    "# GTM_dis_data_3=Merge_DF_3[(Merge_DF_3['dealer_name']=='TELUS Communications Inc.') & (Merge_DF_3['Camera_TC_condition_count']>3) & (Merge_DF_3['Segment']=='Disengaged')] \n"
   ]
  },
  {
   "cell_type": "code",
   "execution_count": null,
   "id": "86ad6453-1735-48e0-9327-aef1b536706b",
   "metadata": {},
   "outputs": [],
   "source": [
    "# GTM_dis_data_2['Telus_Churn_Flag'].value_counts(normalize=True)*100"
   ]
  },
  {
   "cell_type": "code",
   "execution_count": null,
   "id": "c4c959fe-9534-4151-bb07-316ab232a797",
   "metadata": {},
   "outputs": [],
   "source": [
    "# GTM_dis_data_3['Telus_Churn_Flag'].value_counts(normalize=True)*100"
   ]
  },
  {
   "cell_type": "code",
   "execution_count": null,
   "id": "25ff79d0-9733-42a6-9b33-9130fa6c982d",
   "metadata": {},
   "outputs": [],
   "source": [
    "# GTM_dis_data_1.to_csv('GTM_data_NoEV_disengaged.csv',index=False)"
   ]
  },
  {
   "cell_type": "code",
   "execution_count": null,
   "id": "5b32b07e-2eee-4656-bdb9-6258502bd8f6",
   "metadata": {},
   "outputs": [],
   "source": [
    "# GTM_dis_data_2.to_csv('GTM_data_BPlessthan3_disengaged.csv',index=False)"
   ]
  },
  {
   "cell_type": "code",
   "execution_count": null,
   "id": "e51d785f-ffa9-4acf-9871-f31808bf83f0",
   "metadata": {},
   "outputs": [],
   "source": [
    "# GTM_dis_data_3.to_csv('GTM_data_CameraTC_grtr_than3_disengaged.csv',index=False)"
   ]
  },
  {
   "cell_type": "code",
   "execution_count": null,
   "id": "d8940bdb-0cba-476e-be37-aef9c3bc625c",
   "metadata": {},
   "outputs": [],
   "source": [
    "# GTM_Mod_data_1=Merge_DF_3[(Merge_DF_3['dealer_name']=='TELUS Communications Inc.') & (Merge_DF_3['Best_partices_1']==0) & (Merge_DF_3['Segment']=='Moderate_Users')] \n",
    "# GTM_Mod_data_2=Merge_DF_3[(Merge_DF_3['dealer_name']=='TELUS Communications Inc.') & (Merge_DF_3['Best_Practice_All']<3) & (Merge_DF_3['Segment']=='Moderate_Users')] \n",
    "# GTM_Mod_data_3=Merge_DF_3[(Merge_DF_3['dealer_name']=='TELUS Communications Inc.') & (Merge_DF_3['Camera_TC_condition_count']>3) & (Merge_DF_3['Segment']=='Moderate_Users')]"
   ]
  },
  {
   "cell_type": "code",
   "execution_count": null,
   "id": "ac41b02a-457c-4bb7-99ad-a4a625f1480c",
   "metadata": {},
   "outputs": [],
   "source": [
    "# GTM_Mod_data_1.to_csv('GTM_data_NoEV_Moderate.csv',index=False)\n",
    "# GTM_Mod_data_2.to_csv('GTM_data_BPlessthan3_Moderate.csv',index=False)\n",
    "# GTM_Mod_data_3.to_csv('GTM_data_CameraTC_grtr_than3_Moderate.csv',index=False)"
   ]
  },
  {
   "cell_type": "code",
   "execution_count": null,
   "id": "431f446d-6bcb-4800-b045-30e15663c9ec",
   "metadata": {},
   "outputs": [],
   "source": []
  },
  {
   "cell_type": "code",
   "execution_count": null,
   "id": "8710a33e-0abf-4389-bec8-6178cee66921",
   "metadata": {},
   "outputs": [],
   "source": []
  }
 ],
 "metadata": {
  "kernelspec": {
   "display_name": "Python 3 (ipykernel)",
   "language": "python",
   "name": "python3"
  },
  "language_info": {
   "codemirror_mode": {
    "name": "ipython",
    "version": 3
   },
   "file_extension": ".py",
   "mimetype": "text/x-python",
   "name": "python",
   "nbconvert_exporter": "python",
   "pygments_lexer": "ipython3",
   "version": "3.8.12"
  }
 },
 "nbformat": 4,
 "nbformat_minor": 5
}
