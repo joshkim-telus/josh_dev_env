{
 "cells": [
  {
   "cell_type": "code",
   "execution_count": 35,
   "id": "e9f080a9-4073-4aab-89a3-b6932f49ee2d",
   "metadata": {},
   "outputs": [],
   "source": [
    "#### import global modules\n",
    "import os\n",
    "import sys\n",
    "import pandas as pd\n",
    "import numpy as np\n",
    "from pathlib import Path\n",
    "from yaml import safe_load\n",
    "import google.oauth2.credentials\n",
    "from google.cloud import bigquery\n",
    "import gc\n",
    "\n",
    "# Set global vars\n",
    "pth_project = Path(os.getcwd().split('notebooks')[0])\n",
    "pth_data = pth_project / 'data'\n",
    "pth_queries = pth_project / 'core' / 'queries'\n",
    "pth_creds = pth_project / 'conf' / 'local' / 'project_config.yaml'\n",
    "sys.path.insert(0, str(pth_project))\n",
    "d_project_config = safe_load(pth_creds.open())\n",
    "# d_params = safe_load((pth_project / 'core' / 'parameters' / 'common.yaml').open())['data_extract']\n",
    "\n",
    "# import local modules\n",
    "from core.utils.gcp import connect_bq_services\n",
    "# from core.etl.extract import extract_bq_data, extract_pr_codes, format_conv_df, filter_convs\n",
    "\n",
    "# Connect to google services\n",
    "bq_client = connect_bq_services(d_project_config['gcp-project-name'])\n",
    "pd.options.display.max_rows = 100"
   ]
  },
  {
   "cell_type": "code",
   "execution_count": 36,
   "id": "22661801-01e6-4f2c-a4bd-d0f2fe241aa0",
   "metadata": {},
   "outputs": [],
   "source": [
    "def extract_bq_data(bq_client, sql=None, pth_query=None):\n",
    "    if sql is not None:\n",
    "        df = bq_client.query(sql).to_dataframe()\n",
    "    elif pth_query is not None:\n",
    "        sql = pth_query.read_text()\n",
    "        df = bq_client.query(sql).to_dataframe()\n",
    "    else:\n",
    "        raise ValueError('`sql` or `pth_query` should be set')  \n",
    "    return df"
   ]
  },
  {
   "cell_type": "code",
   "execution_count": 37,
   "id": "7b00ff7b-8e9f-4035-a0ad-15da6b5474ca",
   "metadata": {},
   "outputs": [],
   "source": [
    "Telus_Customer_details='''\n",
    "\n",
    "\n",
    "\n",
    "with ADC_customer_base as(\n",
    "\n",
    "SELECT distinct customer_id,dealer_customer_id,dealer_name,account_type_name,customer_type_name\n",
    "FROM `cio-datahub-enterprise-pr-183a.src_adc.bq_customer_account_details` \n",
    "where date(last_updt_ts) = '2022-08-31'\n",
    "--and account_type_name!='Standalone'\n",
    "--and customer_type_name='Customer'\n",
    "and dealer_name='TELUS Communications Inc.'\n",
    "QUALIFY ROW_NUMBER() OVER (PARTITION BY dealer_customer_id ORDER BY last_updt_ts DESC) = 1\n",
    "--order by dealer_name,join_date,customer_id\n",
    ")\n",
    ",\n",
    "\n",
    "Telus_customers as\n",
    "(\n",
    "select bacct_bus_bacct_num,bacct_billg_acct_id,cust_bus_cust_id,pi_prod_instnc_typ_cd,pi_prod_instnc_stat_ts,prod_instnc_ts,pi_cntrct_end_ts as contract_end_date\n",
    "from `cio-datahub-enterprise-pr-183a.ent_cust_cust.bq_prod_instnc_snpsht` \n",
    "WHERE DATE(prod_instnc_ts) = \"2022-08-31\" #Snapshot of the last day of the month\n",
    "and pi_prod_instnc_typ_cd ='SMHM' #Serice type\n",
    "and bus_prod_instnc_src_id = 1001 #BANs that are for home services\n",
    "and pi_prod_instnc_stat_cd in ('A')\n",
    "and  consldt_cust_typ_cd = 'R'\n",
    "QUALIFY ROW_NUMBER() OVER (PARTITION BY cust_bus_cust_id ORDER BY pi_prod_instnc_stat_ts DESC) = 1\n",
    "order by cust_bus_cust_id\n",
    "\n",
    ")\n",
    "\n",
    "\n",
    ",Telus_internet_customers as \n",
    "(\n",
    "\n",
    "select distinct (customer_id) as cust_id_telus,Telus_internet_flag from `divgpras-pr-579355.ADC_updated.Telus_internet_31Aug2022`\n",
    "\n",
    ")\n",
    "\n",
    "\n",
    ", Telus_SMHM_Deact_Sep2022 as \n",
    "\n",
    "\n",
    "(\n",
    "\n",
    "\n",
    "select distinct(CAST (CUST_ID as STRING)) as CUST_ID ,Deact_Flag as Telus_Churn_Flag  \n",
    "\n",
    "from `divgpras-pr-579355.ADC_updated.Telus_SMHM_Sep2022_Deacts`\n",
    "\n",
    "\n",
    ")\n",
    "\n",
    "select * from ADC_customer_base as ADC\n",
    "inner join Telus_customers as Telus\n",
    "on ADC.dealer_customer_id=Telus.cust_bus_cust_id\n",
    "left join Telus_internet_customers\n",
    "on ADC.customer_id=Telus_internet_customers.cust_id_telus\n",
    "left join Telus_SMHM_Deact_Sep2022\n",
    "on ADC.dealer_customer_id=Telus_SMHM_Deact_Sep2022.CUST_ID\n",
    "\n",
    "'''"
   ]
  },
  {
   "cell_type": "code",
   "execution_count": 46,
   "id": "dd975cb1-7a9c-4c08-9e91-5402c7eb487b",
   "metadata": {},
   "outputs": [],
   "source": [
    "Telus_Customer_details_Nov2022='''\n",
    "\n",
    "\n",
    "\n",
    "with ADC_customer_base as(\n",
    "\n",
    "SELECT distinct customer_id,dealer_customer_id,dealer_name,account_type_name,customer_type_name\n",
    "FROM `cio-datahub-enterprise-pr-183a.src_adc.bq_customer_account_details` \n",
    "where \n",
    "date(last_updt_ts) = '2022-11-30'\n",
    "--and account_type_name!='Standalone'\n",
    "--and customer_type_name='Customer'\n",
    "and dealer_name='TELUS Communications Inc.'\n",
    "QUALIFY ROW_NUMBER() OVER (PARTITION BY dealer_customer_id ORDER BY last_updt_ts DESC) = 1\n",
    "--order by dealer_name,join_date,customer_id\n",
    ")\n",
    ",\n",
    "\n",
    "Telus_customers as\n",
    "(\n",
    "select bacct_bus_bacct_num,bacct_billg_acct_id,cust_bus_cust_id,pi_prod_instnc_typ_cd,pi_prod_instnc_stat_ts,prod_instnc_ts,pi_cntrct_end_ts as contract_end_date\n",
    "from `cio-datahub-enterprise-pr-183a.ent_cust_cust.bq_prod_instnc_snpsht` \n",
    "WHERE DATE(prod_instnc_ts) = \"2022-11-30\" #Snapshot of the last day of the month\n",
    "and pi_prod_instnc_typ_cd ='SMHM' #Serice type\n",
    "and bus_prod_instnc_src_id = 1001 #BANs that are for home services\n",
    "and pi_prod_instnc_stat_cd in ('A')\n",
    "and  consldt_cust_typ_cd = 'R'\n",
    "QUALIFY ROW_NUMBER() OVER (PARTITION BY cust_bus_cust_id ORDER BY prod_instnc_ts DESC) = 1\n",
    "order by cust_bus_cust_id\n",
    "\n",
    ")\n",
    "\n",
    "\n",
    "\n",
    "\n",
    "\n",
    ", Telus_SMHM_Deact_Nov2022 as \n",
    "\n",
    "\n",
    "(\n",
    "\n",
    "\n",
    "select distinct(CAST (CUST_ID as STRING)) as CUST_ID ,1 as Telus_Churn_Flag  \n",
    "\n",
    "from `divgpras-pr-579355.ADC_updated.Telus_SMHM_Nov2022_Deacts`\n",
    "\n",
    "\n",
    ")\n",
    "\n",
    "select * from ADC_customer_base as ADC\n",
    "inner join Telus_customers as Telus\n",
    "on ADC.dealer_customer_id=Telus.cust_bus_cust_id\n",
    "left join Telus_SMHM_Deact_Nov2022\n",
    "on ADC.dealer_customer_id=Telus_SMHM_Deact_Nov2022.CUST_ID\n",
    "\n",
    "'''"
   ]
  },
  {
   "cell_type": "code",
   "execution_count": 47,
   "id": "5943ebec-6119-4617-89fa-f7b469912a7e",
   "metadata": {},
   "outputs": [],
   "source": [
    "Data_Nov22=extract_bq_data(bq_client, sql=Telus_Customer_details_Nov2022)"
   ]
  },
  {
   "cell_type": "code",
   "execution_count": 48,
   "id": "05ade681-dce3-43ef-9347-8aa6b7dcf76e",
   "metadata": {},
   "outputs": [
    {
     "name": "stdout",
     "output_type": "stream",
     "text": [
      "<class 'pandas.core.frame.DataFrame'>\n",
      "RangeIndex: 337944 entries, 0 to 337943\n",
      "Data columns (total 12 columns):\n",
      " #   Column                  Non-Null Count   Dtype \n",
      "---  ------                  --------------   ----- \n",
      " 0   customer_id             337944 non-null  Int64 \n",
      " 1   dealer_customer_id      337944 non-null  object\n",
      " 2   dealer_name             337944 non-null  object\n",
      " 3   account_type_name       337944 non-null  object\n",
      " 4   customer_type_name      337944 non-null  object\n",
      " 5   bacct_bus_bacct_num     337944 non-null  Int64 \n",
      " 6   bacct_billg_acct_id     337944 non-null  Int64 \n",
      " 7   cust_bus_cust_id        337944 non-null  object\n",
      " 8   pi_prod_instnc_typ_cd   337944 non-null  object\n",
      " 9   pi_prod_instnc_stat_ts  337944 non-null  object\n",
      " 10  prod_instnc_ts          337944 non-null  object\n",
      " 11  contract_end_date       337944 non-null  object\n",
      "dtypes: Int64(3), object(9)\n",
      "memory usage: 31.9+ MB\n"
     ]
    }
   ],
   "source": [
    "Data_Nov22.info()"
   ]
  },
  {
   "cell_type": "code",
   "execution_count": 51,
   "id": "5fe802f1-583e-43b0-9ffc-f20a3687ba02",
   "metadata": {},
   "outputs": [],
   "source": [
    "config= bigquery.job.LoadJobConfig()\n",
    "\n",
    "# config._properties['timePartitioning'] = {'field': 'Month_Year'}\n",
    "config.write_disposition = bigquery.WriteDisposition.WRITE_TRUNCATE\n",
    "\n",
    "Table_BQ = 'ADC_updated.ADC_Telus_Customers_Nov22'\n",
    "\n",
    "bq_table_instance= bq_client.load_table_from_dataframe(Data_Nov22, Table_BQ,job_config=config)"
   ]
  },
  {
   "cell_type": "code",
   "execution_count": 50,
   "id": "78d29b7a-e5ac-4279-b89f-af6b8a27e2ce",
   "metadata": {},
   "outputs": [
    {
     "ename": "KeyError",
     "evalue": "'Telus_Churn_Flag'",
     "output_type": "error",
     "traceback": [
      "\u001b[0;31m---------------------------------------------------------------------------\u001b[0m",
      "\u001b[0;31mKeyError\u001b[0m                                  Traceback (most recent call last)",
      "File \u001b[0;32m/opt/conda/lib/python3.8/site-packages/pandas/core/indexes/base.py:3621\u001b[0m, in \u001b[0;36mIndex.get_loc\u001b[0;34m(self, key, method, tolerance)\u001b[0m\n\u001b[1;32m   3620\u001b[0m \u001b[38;5;28;01mtry\u001b[39;00m:\n\u001b[0;32m-> 3621\u001b[0m     \u001b[38;5;28;01mreturn\u001b[39;00m \u001b[38;5;28;43mself\u001b[39;49m\u001b[38;5;241;43m.\u001b[39;49m\u001b[43m_engine\u001b[49m\u001b[38;5;241;43m.\u001b[39;49m\u001b[43mget_loc\u001b[49m\u001b[43m(\u001b[49m\u001b[43mcasted_key\u001b[49m\u001b[43m)\u001b[49m\n\u001b[1;32m   3622\u001b[0m \u001b[38;5;28;01mexcept\u001b[39;00m \u001b[38;5;167;01mKeyError\u001b[39;00m \u001b[38;5;28;01mas\u001b[39;00m err:\n",
      "File \u001b[0;32m/opt/conda/lib/python3.8/site-packages/pandas/_libs/index.pyx:136\u001b[0m, in \u001b[0;36mpandas._libs.index.IndexEngine.get_loc\u001b[0;34m()\u001b[0m\n",
      "File \u001b[0;32m/opt/conda/lib/python3.8/site-packages/pandas/_libs/index.pyx:163\u001b[0m, in \u001b[0;36mpandas._libs.index.IndexEngine.get_loc\u001b[0;34m()\u001b[0m\n",
      "File \u001b[0;32mpandas/_libs/hashtable_class_helper.pxi:5198\u001b[0m, in \u001b[0;36mpandas._libs.hashtable.PyObjectHashTable.get_item\u001b[0;34m()\u001b[0m\n",
      "File \u001b[0;32mpandas/_libs/hashtable_class_helper.pxi:5206\u001b[0m, in \u001b[0;36mpandas._libs.hashtable.PyObjectHashTable.get_item\u001b[0;34m()\u001b[0m\n",
      "\u001b[0;31mKeyError\u001b[0m: 'Telus_Churn_Flag'",
      "\nThe above exception was the direct cause of the following exception:\n",
      "\u001b[0;31mKeyError\u001b[0m                                  Traceback (most recent call last)",
      "Input \u001b[0;32mIn [50]\u001b[0m, in \u001b[0;36m<cell line: 1>\u001b[0;34m()\u001b[0m\n\u001b[0;32m----> 1\u001b[0m \u001b[43mData_Nov22\u001b[49m\u001b[43m[\u001b[49m\u001b[38;5;124;43m'\u001b[39;49m\u001b[38;5;124;43mTelus_Churn_Flag\u001b[39;49m\u001b[38;5;124;43m'\u001b[39;49m\u001b[43m]\u001b[49m\u001b[38;5;241m.\u001b[39msum()\n",
      "File \u001b[0;32m/opt/conda/lib/python3.8/site-packages/pandas/core/frame.py:3505\u001b[0m, in \u001b[0;36mDataFrame.__getitem__\u001b[0;34m(self, key)\u001b[0m\n\u001b[1;32m   3503\u001b[0m \u001b[38;5;28;01mif\u001b[39;00m \u001b[38;5;28mself\u001b[39m\u001b[38;5;241m.\u001b[39mcolumns\u001b[38;5;241m.\u001b[39mnlevels \u001b[38;5;241m>\u001b[39m \u001b[38;5;241m1\u001b[39m:\n\u001b[1;32m   3504\u001b[0m     \u001b[38;5;28;01mreturn\u001b[39;00m \u001b[38;5;28mself\u001b[39m\u001b[38;5;241m.\u001b[39m_getitem_multilevel(key)\n\u001b[0;32m-> 3505\u001b[0m indexer \u001b[38;5;241m=\u001b[39m \u001b[38;5;28;43mself\u001b[39;49m\u001b[38;5;241;43m.\u001b[39;49m\u001b[43mcolumns\u001b[49m\u001b[38;5;241;43m.\u001b[39;49m\u001b[43mget_loc\u001b[49m\u001b[43m(\u001b[49m\u001b[43mkey\u001b[49m\u001b[43m)\u001b[49m\n\u001b[1;32m   3506\u001b[0m \u001b[38;5;28;01mif\u001b[39;00m is_integer(indexer):\n\u001b[1;32m   3507\u001b[0m     indexer \u001b[38;5;241m=\u001b[39m [indexer]\n",
      "File \u001b[0;32m/opt/conda/lib/python3.8/site-packages/pandas/core/indexes/base.py:3623\u001b[0m, in \u001b[0;36mIndex.get_loc\u001b[0;34m(self, key, method, tolerance)\u001b[0m\n\u001b[1;32m   3621\u001b[0m     \u001b[38;5;28;01mreturn\u001b[39;00m \u001b[38;5;28mself\u001b[39m\u001b[38;5;241m.\u001b[39m_engine\u001b[38;5;241m.\u001b[39mget_loc(casted_key)\n\u001b[1;32m   3622\u001b[0m \u001b[38;5;28;01mexcept\u001b[39;00m \u001b[38;5;167;01mKeyError\u001b[39;00m \u001b[38;5;28;01mas\u001b[39;00m err:\n\u001b[0;32m-> 3623\u001b[0m     \u001b[38;5;28;01mraise\u001b[39;00m \u001b[38;5;167;01mKeyError\u001b[39;00m(key) \u001b[38;5;28;01mfrom\u001b[39;00m \u001b[38;5;21;01merr\u001b[39;00m\n\u001b[1;32m   3624\u001b[0m \u001b[38;5;28;01mexcept\u001b[39;00m \u001b[38;5;167;01mTypeError\u001b[39;00m:\n\u001b[1;32m   3625\u001b[0m     \u001b[38;5;66;03m# If we have a listlike key, _check_indexing_error will raise\u001b[39;00m\n\u001b[1;32m   3626\u001b[0m     \u001b[38;5;66;03m#  InvalidIndexError. Otherwise we fall through and re-raise\u001b[39;00m\n\u001b[1;32m   3627\u001b[0m     \u001b[38;5;66;03m#  the TypeError.\u001b[39;00m\n\u001b[1;32m   3628\u001b[0m     \u001b[38;5;28mself\u001b[39m\u001b[38;5;241m.\u001b[39m_check_indexing_error(key)\n",
      "\u001b[0;31mKeyError\u001b[0m: 'Telus_Churn_Flag'"
     ]
    }
   ],
   "source": [
    "Data_Nov22['Telus_Churn_Flag'].sum()"
   ]
  },
  {
   "cell_type": "code",
   "execution_count": 15,
   "id": "4d5d5f46-a481-42fe-8cd7-8683017ae4ec",
   "metadata": {},
   "outputs": [],
   "source": [
    "Data_Sep2022=extract_bq_data(bq_client, sql=Telus_Customer_details)"
   ]
  },
  {
   "cell_type": "code",
   "execution_count": 16,
   "id": "1cac255f-3e45-4195-9f1d-4c7287e5bf67",
   "metadata": {},
   "outputs": [
    {
     "name": "stdout",
     "output_type": "stream",
     "text": [
      "<class 'pandas.core.frame.DataFrame'>\n",
      "RangeIndex: 305606 entries, 0 to 305605\n",
      "Data columns (total 16 columns):\n",
      " #   Column                  Non-Null Count   Dtype \n",
      "---  ------                  --------------   ----- \n",
      " 0   customer_id             305606 non-null  Int64 \n",
      " 1   dealer_customer_id      305606 non-null  object\n",
      " 2   dealer_name             305606 non-null  object\n",
      " 3   account_type_name       305606 non-null  object\n",
      " 4   customer_type_name      305606 non-null  object\n",
      " 5   bacct_bus_bacct_num     305606 non-null  Int64 \n",
      " 6   bacct_billg_acct_id     305606 non-null  Int64 \n",
      " 7   cust_bus_cust_id        305606 non-null  object\n",
      " 8   pi_prod_instnc_typ_cd   305606 non-null  object\n",
      " 9   pi_prod_instnc_stat_ts  305606 non-null  object\n",
      " 10  prod_instnc_ts          305606 non-null  object\n",
      " 11  contract_end_date       305606 non-null  object\n",
      " 12  cust_id_telus           216722 non-null  Int64 \n",
      " 13  Telus_internet_flag     216722 non-null  Int64 \n",
      " 14  CUST_ID                 3207 non-null    object\n",
      " 15  Telus_Churn_Flag        3207 non-null    Int64 \n",
      "dtypes: Int64(6), object(10)\n",
      "memory usage: 39.1+ MB\n"
     ]
    }
   ],
   "source": [
    "Data_Sep2022.info()"
   ]
  },
  {
   "cell_type": "code",
   "execution_count": 17,
   "id": "63799ea7-3671-4a3e-a4c3-2447d8cfc0e9",
   "metadata": {},
   "outputs": [
    {
     "data": {
      "text/plain": [
       "3207"
      ]
     },
     "execution_count": 17,
     "metadata": {},
     "output_type": "execute_result"
    }
   ],
   "source": [
    "Data_Sep2022['Telus_Churn_Flag'].sum()"
   ]
  },
  {
   "cell_type": "code",
   "execution_count": 18,
   "id": "effbe60e-d14d-4045-9225-611085d20795",
   "metadata": {},
   "outputs": [
    {
     "data": {
      "text/plain": [
       "216722"
      ]
     },
     "execution_count": 18,
     "metadata": {},
     "output_type": "execute_result"
    }
   ],
   "source": [
    "Data_Sep2022['Telus_internet_flag'].sum()"
   ]
  },
  {
   "cell_type": "code",
   "execution_count": 336,
   "id": "3c0d809c-9170-4386-99ad-a3c4212592ac",
   "metadata": {},
   "outputs": [],
   "source": [
    "Data_Sep2022['Telus_Churn_Flag'].fillna(0,inplace=True)"
   ]
  },
  {
   "cell_type": "code",
   "execution_count": 337,
   "id": "83776228-f157-499f-8f20-3b696dae0bcc",
   "metadata": {},
   "outputs": [],
   "source": [
    "Data_Sep2022['Telus_internet_flag'].fillna(0,inplace=True)"
   ]
  },
  {
   "cell_type": "code",
   "execution_count": 338,
   "id": "22065bee-a00f-4e6b-9673-9ca438e0c2a6",
   "metadata": {},
   "outputs": [
    {
     "data": {
      "text/plain": [
       "0    98.95061\n",
       "1     1.04939\n",
       "Name: Telus_Churn_Flag, dtype: Float64"
      ]
     },
     "execution_count": 338,
     "metadata": {},
     "output_type": "execute_result"
    }
   ],
   "source": [
    "Data_Sep2022['Telus_Churn_Flag'].value_counts(normalize=True)*100"
   ]
  },
  {
   "cell_type": "code",
   "execution_count": 339,
   "id": "4b09483c-4ed1-4b91-a80d-7412cc0be886",
   "metadata": {},
   "outputs": [
    {
     "data": {
      "text/plain": [
       "0"
      ]
     },
     "execution_count": 339,
     "metadata": {},
     "output_type": "execute_result"
    }
   ],
   "source": [
    "Data_Sep2022['dealer_customer_id'].isna().sum()"
   ]
  },
  {
   "cell_type": "code",
   "execution_count": 340,
   "id": "b8021a36-14a0-4164-b8de-61fdadc6d18e",
   "metadata": {},
   "outputs": [
    {
     "data": {
      "text/plain": [
       "8254474     1\n",
       "13560457    1\n",
       "8755605     1\n",
       "13558223    1\n",
       "9421904     1\n",
       "           ..\n",
       "6261724     1\n",
       "7269798     1\n",
       "13702410    1\n",
       "13880864    1\n",
       "9236191     1\n",
       "Name: customer_id, Length: 305606, dtype: Int64"
      ]
     },
     "execution_count": 340,
     "metadata": {},
     "output_type": "execute_result"
    }
   ],
   "source": [
    "Data_Sep2022['customer_id'].value_counts()"
   ]
  },
  {
   "cell_type": "code",
   "execution_count": 341,
   "id": "183ca680-9f8c-4c11-9c53-cd944be1f307",
   "metadata": {},
   "outputs": [
    {
     "data": {
      "text/plain": [
       "100020154    1\n",
       "19508239     1\n",
       "19375756     1\n",
       "19316525     1\n",
       "19253502     1\n",
       "            ..\n",
       "104461496    1\n",
       "104439987    1\n",
       "104379422    1\n",
       "104351220    1\n",
       "99977803     1\n",
       "Name: dealer_customer_id, Length: 305606, dtype: int64"
      ]
     },
     "execution_count": 341,
     "metadata": {},
     "output_type": "execute_result"
    }
   ],
   "source": [
    "Data_Sep2022['dealer_customer_id'].value_counts()"
   ]
  },
  {
   "cell_type": "code",
   "execution_count": 342,
   "id": "9493b5dc-0fc8-4e21-bd3b-46f2ca13ae75",
   "metadata": {},
   "outputs": [
    {
     "data": {
      "text/plain": [
       "0.0"
      ]
     },
     "execution_count": 342,
     "metadata": {},
     "output_type": "execute_result"
    }
   ],
   "source": [
    "Data_Sep2022['bacct_bus_bacct_num'].isna().sum()*100/Data_Sep2022.shape[0]"
   ]
  },
  {
   "cell_type": "code",
   "execution_count": 343,
   "id": "6536d656-c9b6-4a25-8946-4f742c2fcb09",
   "metadata": {},
   "outputs": [
    {
     "data": {
      "text/html": [
       "<div>\n",
       "<style scoped>\n",
       "    .dataframe tbody tr th:only-of-type {\n",
       "        vertical-align: middle;\n",
       "    }\n",
       "\n",
       "    .dataframe tbody tr th {\n",
       "        vertical-align: top;\n",
       "    }\n",
       "\n",
       "    .dataframe thead th {\n",
       "        text-align: right;\n",
       "    }\n",
       "</style>\n",
       "<table border=\"1\" class=\"dataframe\">\n",
       "  <thead>\n",
       "    <tr style=\"text-align: right;\">\n",
       "      <th></th>\n",
       "      <th>dealer_name</th>\n",
       "      <th>Customer_count</th>\n",
       "      <th>Churn_total</th>\n",
       "      <th>Churn_rate</th>\n",
       "    </tr>\n",
       "  </thead>\n",
       "  <tbody>\n",
       "    <tr>\n",
       "      <th>0</th>\n",
       "      <td>TELUS Communications Inc.</td>\n",
       "      <td>305606</td>\n",
       "      <td>3207</td>\n",
       "      <td>1.04939</td>\n",
       "    </tr>\n",
       "  </tbody>\n",
       "</table>\n",
       "</div>"
      ],
      "text/plain": [
       "                 dealer_name  Customer_count  Churn_total  Churn_rate\n",
       "0  TELUS Communications Inc.          305606         3207     1.04939"
      ]
     },
     "execution_count": 343,
     "metadata": {},
     "output_type": "execute_result"
    }
   ],
   "source": [
    "pd.DataFrame(Data_Sep2022.groupby(['dealer_name']).agg(\n",
    "    \n",
    "    Customer_count= ('customer_id','nunique'),\n",
    "    Churn_total=('Telus_Churn_Flag',lambda x: x.sum()),\n",
    "    Churn_rate=('Telus_Churn_Flag',lambda x: x.mean()*100)).reset_index())"
   ]
  },
  {
   "cell_type": "code",
   "execution_count": 344,
   "id": "1f4dfc0c-19cf-4452-8b98-453734d102cb",
   "metadata": {},
   "outputs": [
    {
     "data": {
      "text/html": [
       "<div>\n",
       "<style scoped>\n",
       "    .dataframe tbody tr th:only-of-type {\n",
       "        vertical-align: middle;\n",
       "    }\n",
       "\n",
       "    .dataframe tbody tr th {\n",
       "        vertical-align: top;\n",
       "    }\n",
       "\n",
       "    .dataframe thead th {\n",
       "        text-align: right;\n",
       "    }\n",
       "</style>\n",
       "<table border=\"1\" class=\"dataframe\">\n",
       "  <thead>\n",
       "    <tr style=\"text-align: right;\">\n",
       "      <th></th>\n",
       "      <th>account_type_name</th>\n",
       "      <th>Customer_count</th>\n",
       "      <th>Churn_total</th>\n",
       "      <th>Churn_rate</th>\n",
       "    </tr>\n",
       "  </thead>\n",
       "  <tbody>\n",
       "    <tr>\n",
       "      <th>0</th>\n",
       "      <td>Awareness and Automation</td>\n",
       "      <td>70993</td>\n",
       "      <td>768</td>\n",
       "      <td>1.081797</td>\n",
       "    </tr>\n",
       "    <tr>\n",
       "      <th>1</th>\n",
       "      <td>Security System</td>\n",
       "      <td>190276</td>\n",
       "      <td>1464</td>\n",
       "      <td>0.769409</td>\n",
       "    </tr>\n",
       "    <tr>\n",
       "      <th>2</th>\n",
       "      <td>Standalone</td>\n",
       "      <td>44337</td>\n",
       "      <td>975</td>\n",
       "      <td>2.199066</td>\n",
       "    </tr>\n",
       "  </tbody>\n",
       "</table>\n",
       "</div>"
      ],
      "text/plain": [
       "          account_type_name  Customer_count  Churn_total  Churn_rate\n",
       "0  Awareness and Automation           70993          768    1.081797\n",
       "1           Security System          190276         1464    0.769409\n",
       "2                Standalone           44337          975    2.199066"
      ]
     },
     "execution_count": 344,
     "metadata": {},
     "output_type": "execute_result"
    }
   ],
   "source": [
    "pd.DataFrame(Data_Sep2022.groupby(['account_type_name']).agg(\n",
    "    \n",
    "    Customer_count= ('customer_id','nunique'),\n",
    "    Churn_total=('Telus_Churn_Flag',lambda x: x.sum()),\n",
    "    Churn_rate=('Telus_Churn_Flag',lambda x: x.mean()*100)).reset_index())"
   ]
  },
  {
   "cell_type": "code",
   "execution_count": 345,
   "id": "70ec6610-b96a-4bf0-8caf-59cf664e5b36",
   "metadata": {},
   "outputs": [
    {
     "data": {
      "text/html": [
       "<div>\n",
       "<style scoped>\n",
       "    .dataframe tbody tr th:only-of-type {\n",
       "        vertical-align: middle;\n",
       "    }\n",
       "\n",
       "    .dataframe tbody tr th {\n",
       "        vertical-align: top;\n",
       "    }\n",
       "\n",
       "    .dataframe thead th {\n",
       "        text-align: right;\n",
       "    }\n",
       "</style>\n",
       "<table border=\"1\" class=\"dataframe\">\n",
       "  <thead>\n",
       "    <tr style=\"text-align: right;\">\n",
       "      <th></th>\n",
       "      <th>customer_type_name</th>\n",
       "      <th>Customer_count</th>\n",
       "      <th>Churn_total</th>\n",
       "      <th>Churn_rate</th>\n",
       "    </tr>\n",
       "  </thead>\n",
       "  <tbody>\n",
       "    <tr>\n",
       "      <th>0</th>\n",
       "      <td>Commitment</td>\n",
       "      <td>3310</td>\n",
       "      <td>203</td>\n",
       "      <td>6.132931</td>\n",
       "    </tr>\n",
       "    <tr>\n",
       "      <th>1</th>\n",
       "      <td>Customer</td>\n",
       "      <td>302194</td>\n",
       "      <td>3004</td>\n",
       "      <td>0.994063</td>\n",
       "    </tr>\n",
       "    <tr>\n",
       "      <th>2</th>\n",
       "      <td>Demo - Normal</td>\n",
       "      <td>99</td>\n",
       "      <td>0</td>\n",
       "      <td>0.000000</td>\n",
       "    </tr>\n",
       "    <tr>\n",
       "      <th>3</th>\n",
       "      <td>From Recycle</td>\n",
       "      <td>3</td>\n",
       "      <td>0</td>\n",
       "      <td>0.000000</td>\n",
       "    </tr>\n",
       "  </tbody>\n",
       "</table>\n",
       "</div>"
      ],
      "text/plain": [
       "  customer_type_name  Customer_count  Churn_total  Churn_rate\n",
       "0         Commitment            3310          203    6.132931\n",
       "1           Customer          302194         3004    0.994063\n",
       "2      Demo - Normal              99            0    0.000000\n",
       "3       From Recycle               3            0    0.000000"
      ]
     },
     "execution_count": 345,
     "metadata": {},
     "output_type": "execute_result"
    }
   ],
   "source": [
    "pd.DataFrame(Data_Sep2022.groupby(['customer_type_name']).agg(\n",
    "    \n",
    "    Customer_count= ('customer_id','nunique'),\n",
    "    Churn_total=('Telus_Churn_Flag',lambda x: x.sum()),\n",
    "    Churn_rate=('Telus_Churn_Flag',lambda x: x.mean()*100)).reset_index())"
   ]
  },
  {
   "cell_type": "code",
   "execution_count": 346,
   "id": "7bd7f09e-ae30-43a0-a667-e7747ba4a786",
   "metadata": {},
   "outputs": [
    {
     "data": {
      "text/html": [
       "<div>\n",
       "<style scoped>\n",
       "    .dataframe tbody tr th:only-of-type {\n",
       "        vertical-align: middle;\n",
       "    }\n",
       "\n",
       "    .dataframe tbody tr th {\n",
       "        vertical-align: top;\n",
       "    }\n",
       "\n",
       "    .dataframe thead th {\n",
       "        text-align: right;\n",
       "    }\n",
       "</style>\n",
       "<table border=\"1\" class=\"dataframe\">\n",
       "  <thead>\n",
       "    <tr style=\"text-align: right;\">\n",
       "      <th></th>\n",
       "      <th>customer_type_name</th>\n",
       "      <th>account_type_name</th>\n",
       "      <th>Customer_count</th>\n",
       "      <th>Telus_matched_customers</th>\n",
       "      <th>Telus_internet_customers</th>\n",
       "      <th>Telus_internet_penetration</th>\n",
       "      <th>Churn_total</th>\n",
       "      <th>Churn_rate</th>\n",
       "    </tr>\n",
       "  </thead>\n",
       "  <tbody>\n",
       "    <tr>\n",
       "      <th>0</th>\n",
       "      <td>Commitment</td>\n",
       "      <td>Awareness and Automation</td>\n",
       "      <td>2037</td>\n",
       "      <td>2037</td>\n",
       "      <td>1791</td>\n",
       "      <td>87.923417</td>\n",
       "      <td>118</td>\n",
       "      <td>5.792833</td>\n",
       "    </tr>\n",
       "    <tr>\n",
       "      <th>1</th>\n",
       "      <td>Commitment</td>\n",
       "      <td>Security System</td>\n",
       "      <td>1261</td>\n",
       "      <td>1261</td>\n",
       "      <td>673</td>\n",
       "      <td>53.370341</td>\n",
       "      <td>84</td>\n",
       "      <td>6.661380</td>\n",
       "    </tr>\n",
       "    <tr>\n",
       "      <th>2</th>\n",
       "      <td>Commitment</td>\n",
       "      <td>Standalone</td>\n",
       "      <td>12</td>\n",
       "      <td>12</td>\n",
       "      <td>11</td>\n",
       "      <td>91.666667</td>\n",
       "      <td>1</td>\n",
       "      <td>8.333333</td>\n",
       "    </tr>\n",
       "    <tr>\n",
       "      <th>3</th>\n",
       "      <td>Customer</td>\n",
       "      <td>Awareness and Automation</td>\n",
       "      <td>68956</td>\n",
       "      <td>68956</td>\n",
       "      <td>61859</td>\n",
       "      <td>89.707930</td>\n",
       "      <td>650</td>\n",
       "      <td>0.942630</td>\n",
       "    </tr>\n",
       "    <tr>\n",
       "      <th>4</th>\n",
       "      <td>Customer</td>\n",
       "      <td>Security System</td>\n",
       "      <td>188913</td>\n",
       "      <td>188913</td>\n",
       "      <td>120861</td>\n",
       "      <td>63.977069</td>\n",
       "      <td>1380</td>\n",
       "      <td>0.730495</td>\n",
       "    </tr>\n",
       "    <tr>\n",
       "      <th>5</th>\n",
       "      <td>Customer</td>\n",
       "      <td>Standalone</td>\n",
       "      <td>44325</td>\n",
       "      <td>44325</td>\n",
       "      <td>31451</td>\n",
       "      <td>70.955443</td>\n",
       "      <td>974</td>\n",
       "      <td>2.197406</td>\n",
       "    </tr>\n",
       "    <tr>\n",
       "      <th>6</th>\n",
       "      <td>Demo - Normal</td>\n",
       "      <td>Security System</td>\n",
       "      <td>99</td>\n",
       "      <td>99</td>\n",
       "      <td>76</td>\n",
       "      <td>76.767677</td>\n",
       "      <td>0</td>\n",
       "      <td>0.000000</td>\n",
       "    </tr>\n",
       "    <tr>\n",
       "      <th>7</th>\n",
       "      <td>From Recycle</td>\n",
       "      <td>Security System</td>\n",
       "      <td>3</td>\n",
       "      <td>3</td>\n",
       "      <td>0</td>\n",
       "      <td>0.000000</td>\n",
       "      <td>0</td>\n",
       "      <td>0.000000</td>\n",
       "    </tr>\n",
       "  </tbody>\n",
       "</table>\n",
       "</div>"
      ],
      "text/plain": [
       "  customer_type_name         account_type_name  Customer_count  \\\n",
       "0         Commitment  Awareness and Automation            2037   \n",
       "1         Commitment           Security System            1261   \n",
       "2         Commitment                Standalone              12   \n",
       "3           Customer  Awareness and Automation           68956   \n",
       "4           Customer           Security System          188913   \n",
       "5           Customer                Standalone           44325   \n",
       "6      Demo - Normal           Security System              99   \n",
       "7       From Recycle           Security System               3   \n",
       "\n",
       "   Telus_matched_customers  Telus_internet_customers  \\\n",
       "0                     2037                      1791   \n",
       "1                     1261                       673   \n",
       "2                       12                        11   \n",
       "3                    68956                     61859   \n",
       "4                   188913                    120861   \n",
       "5                    44325                     31451   \n",
       "6                       99                        76   \n",
       "7                        3                         0   \n",
       "\n",
       "   Telus_internet_penetration  Churn_total  Churn_rate  \n",
       "0                   87.923417          118    5.792833  \n",
       "1                   53.370341           84    6.661380  \n",
       "2                   91.666667            1    8.333333  \n",
       "3                   89.707930          650    0.942630  \n",
       "4                   63.977069         1380    0.730495  \n",
       "5                   70.955443          974    2.197406  \n",
       "6                   76.767677            0    0.000000  \n",
       "7                    0.000000            0    0.000000  "
      ]
     },
     "execution_count": 346,
     "metadata": {},
     "output_type": "execute_result"
    }
   ],
   "source": [
    "pd.DataFrame(Data_Sep2022.groupby(['customer_type_name','account_type_name']).agg(\n",
    "    \n",
    "    Customer_count= ('customer_id','nunique'),\n",
    "    Telus_matched_customers=('cust_bus_cust_id','nunique'),\n",
    "    Telus_internet_customers=('Telus_internet_flag',lambda x: x.sum()),\n",
    "    Telus_internet_penetration=('Telus_internet_flag',lambda x: x.mean()*100),\n",
    "    Churn_total=('Telus_Churn_Flag',lambda x: x.sum()),\n",
    "    Churn_rate=('Telus_Churn_Flag',lambda x: x.mean()*100)).reset_index())"
   ]
  },
  {
   "cell_type": "code",
   "execution_count": 347,
   "id": "6ce6735b-a8b3-4291-b2e2-667bafaca18d",
   "metadata": {},
   "outputs": [],
   "source": [
    "# Data_Sep2022[Data_Sep2022['account_type_name']=='Standalone'][['customer_id','cust_bus_cust_id','account_type_name']]"
   ]
  },
  {
   "cell_type": "code",
   "execution_count": 348,
   "id": "e716065e-b7a3-4a60-8af0-4943d9668ef2",
   "metadata": {},
   "outputs": [
    {
     "data": {
      "text/plain": [
       "2092"
      ]
     },
     "execution_count": 348,
     "metadata": {},
     "output_type": "execute_result"
    }
   ],
   "source": [
    "661+1431"
   ]
  },
  {
   "cell_type": "code",
   "execution_count": 349,
   "id": "ea42e02f-1d2e-4d54-b03a-16d2f81556db",
   "metadata": {},
   "outputs": [
    {
     "data": {
      "text/plain": [
       "0.9910451750868752"
      ]
     },
     "execution_count": 349,
     "metadata": {},
     "output_type": "execute_result"
    }
   ],
   "source": [
    "44490/44892"
   ]
  },
  {
   "cell_type": "code",
   "execution_count": 350,
   "id": "ef378ea9-5bd1-4257-b808-d70642693b74",
   "metadata": {},
   "outputs": [],
   "source": [
    "Best_Practices_Query= '''\n",
    "\n",
    "select * from `divgpras-pr-579355.ADC_updated.Best_Practices_Customers_latest`\n",
    "\n",
    "'''"
   ]
  },
  {
   "cell_type": "code",
   "execution_count": 351,
   "id": "b3c8b461-97b5-4c02-a67d-210d19b4c6b4",
   "metadata": {},
   "outputs": [],
   "source": [
    "Best_Practices_DF=extract_bq_data(bq_client, sql=Best_Practices_Query)"
   ]
  },
  {
   "cell_type": "code",
   "execution_count": 352,
   "id": "364c1533-0f74-4b7d-8b9a-01c5b80c3324",
   "metadata": {},
   "outputs": [
    {
     "data": {
      "text/html": [
       "<div>\n",
       "<style scoped>\n",
       "    .dataframe tbody tr th:only-of-type {\n",
       "        vertical-align: middle;\n",
       "    }\n",
       "\n",
       "    .dataframe tbody tr th {\n",
       "        vertical-align: top;\n",
       "    }\n",
       "\n",
       "    .dataframe thead th {\n",
       "        text-align: right;\n",
       "    }\n",
       "</style>\n",
       "<table border=\"1\" class=\"dataframe\">\n",
       "  <thead>\n",
       "    <tr style=\"text-align: right;\">\n",
       "      <th></th>\n",
       "      <th>customer_id</th>\n",
       "      <th>Best_partices_1</th>\n",
       "      <th>Best_partices_2</th>\n",
       "      <th>Best_partices_3</th>\n",
       "      <th>Best_partices_4</th>\n",
       "      <th>Best_partices_5</th>\n",
       "      <th>Best_partices_6</th>\n",
       "      <th>Best_Practice_All</th>\n",
       "      <th>Best_Practice_All_flag</th>\n",
       "    </tr>\n",
       "  </thead>\n",
       "  <tbody>\n",
       "    <tr>\n",
       "      <th>0</th>\n",
       "      <td>11254267</td>\n",
       "      <td>1</td>\n",
       "      <td>1</td>\n",
       "      <td>0</td>\n",
       "      <td>1</td>\n",
       "      <td>1</td>\n",
       "      <td>0</td>\n",
       "      <td>4</td>\n",
       "      <td>0</td>\n",
       "    </tr>\n",
       "    <tr>\n",
       "      <th>1</th>\n",
       "      <td>10445690</td>\n",
       "      <td>1</td>\n",
       "      <td>1</td>\n",
       "      <td>0</td>\n",
       "      <td>1</td>\n",
       "      <td>1</td>\n",
       "      <td>0</td>\n",
       "      <td>4</td>\n",
       "      <td>0</td>\n",
       "    </tr>\n",
       "    <tr>\n",
       "      <th>2</th>\n",
       "      <td>6579995</td>\n",
       "      <td>1</td>\n",
       "      <td>1</td>\n",
       "      <td>0</td>\n",
       "      <td>1</td>\n",
       "      <td>1</td>\n",
       "      <td>0</td>\n",
       "      <td>4</td>\n",
       "      <td>0</td>\n",
       "    </tr>\n",
       "    <tr>\n",
       "      <th>3</th>\n",
       "      <td>11253105</td>\n",
       "      <td>1</td>\n",
       "      <td>1</td>\n",
       "      <td>0</td>\n",
       "      <td>1</td>\n",
       "      <td>1</td>\n",
       "      <td>0</td>\n",
       "      <td>4</td>\n",
       "      <td>0</td>\n",
       "    </tr>\n",
       "    <tr>\n",
       "      <th>4</th>\n",
       "      <td>11253845</td>\n",
       "      <td>1</td>\n",
       "      <td>1</td>\n",
       "      <td>0</td>\n",
       "      <td>1</td>\n",
       "      <td>1</td>\n",
       "      <td>0</td>\n",
       "      <td>4</td>\n",
       "      <td>0</td>\n",
       "    </tr>\n",
       "  </tbody>\n",
       "</table>\n",
       "</div>"
      ],
      "text/plain": [
       "   customer_id  Best_partices_1  Best_partices_2  Best_partices_3  \\\n",
       "0     11254267                1                1                0   \n",
       "1     10445690                1                1                0   \n",
       "2      6579995                1                1                0   \n",
       "3     11253105                1                1                0   \n",
       "4     11253845                1                1                0   \n",
       "\n",
       "   Best_partices_4  Best_partices_5  Best_partices_6  Best_Practice_All  \\\n",
       "0                1                1                0                  4   \n",
       "1                1                1                0                  4   \n",
       "2                1                1                0                  4   \n",
       "3                1                1                0                  4   \n",
       "4                1                1                0                  4   \n",
       "\n",
       "   Best_Practice_All_flag  \n",
       "0                       0  \n",
       "1                       0  \n",
       "2                       0  \n",
       "3                       0  \n",
       "4                       0  "
      ]
     },
     "execution_count": 352,
     "metadata": {},
     "output_type": "execute_result"
    }
   ],
   "source": [
    "Best_Practices_DF.head()"
   ]
  },
  {
   "cell_type": "code",
   "execution_count": 353,
   "id": "0f428528-d09d-4cbc-b9c2-3d2196f2082a",
   "metadata": {},
   "outputs": [
    {
     "data": {
      "text/plain": [
       "1    68.015069\n",
       "0    31.984931\n",
       "Name: Best_partices_5, dtype: Float64"
      ]
     },
     "execution_count": 353,
     "metadata": {},
     "output_type": "execute_result"
    }
   ],
   "source": [
    "Best_Practices_DF['Best_partices_5'].value_counts(normalize=True)*100"
   ]
  },
  {
   "cell_type": "code",
   "execution_count": 354,
   "id": "06312983-8fb9-40b5-8dd0-549d2676fc28",
   "metadata": {},
   "outputs": [],
   "source": [
    "Arming_Query=  '''\n",
    "\n",
    "with date_sql as (\n",
    "select  count(distinct date(date)) as count_of_dates from `cio-datahub-enterprise-pr-183a.src_adc.bq_aggregate_daily_arming_commands`\n",
    "where date(date)< '2022-09-01'and date(date)>= '2022-08-01'\n",
    ")\n",
    "\n",
    "select id_cust as customer_id,sum(count_arm_commands) as sum_arm_commands,sum(count_disarm_commands) as sum_disarm_commands,count (distinct date(date)) as number_days_arming_disarming, (select count_of_dates from date_sql ) as count_of_dates_arming\n",
    "from `cio-datahub-enterprise-pr-183a.src_adc.bq_aggregate_daily_arming_commands`\n",
    "where date(date)< '2022-09-01' and date(date)>= '2022-08-01'\n",
    "group by customer_id\n",
    "order by number_days_arming_disarming desc\n",
    "\n",
    "'''"
   ]
  },
  {
   "cell_type": "code",
   "execution_count": 355,
   "id": "a0bb8420-c4ac-40c5-82be-cc61bbbd878d",
   "metadata": {},
   "outputs": [],
   "source": [
    "Arming_DF=extract_bq_data(bq_client, sql=Arming_Query)"
   ]
  },
  {
   "cell_type": "code",
   "execution_count": 356,
   "id": "d2f2290c-1dd1-4fda-a4b4-925921303a46",
   "metadata": {},
   "outputs": [
    {
     "name": "stdout",
     "output_type": "stream",
     "text": [
      "<class 'pandas.core.frame.DataFrame'>\n",
      "RangeIndex: 309292 entries, 0 to 309291\n",
      "Data columns (total 5 columns):\n",
      " #   Column                        Non-Null Count   Dtype\n",
      "---  ------                        --------------   -----\n",
      " 0   customer_id                   309292 non-null  Int64\n",
      " 1   sum_arm_commands              309292 non-null  Int64\n",
      " 2   sum_disarm_commands           309292 non-null  Int64\n",
      " 3   number_days_arming_disarming  309292 non-null  Int64\n",
      " 4   count_of_dates_arming         309292 non-null  Int64\n",
      "dtypes: Int64(5)\n",
      "memory usage: 13.3 MB\n"
     ]
    }
   ],
   "source": [
    "Arming_DF.info()"
   ]
  },
  {
   "cell_type": "code",
   "execution_count": 357,
   "id": "6ab99f89-296f-4332-bf03-a1f4ac1f749f",
   "metadata": {},
   "outputs": [],
   "source": [
    "\n",
    "max_number_arming_dates=Arming_DF['count_of_dates_arming'].max()\n",
    "Arming_DF['Arming_Consistency']=Arming_DF['number_days_arming_disarming'].apply(lambda x: x*100/max_number_arming_dates)\n"
   ]
  },
  {
   "cell_type": "code",
   "execution_count": 358,
   "id": "e271684b-635a-45f4-977b-b2fe321b5bce",
   "metadata": {},
   "outputs": [
    {
     "data": {
      "text/plain": [
       "18"
      ]
     },
     "execution_count": 358,
     "metadata": {},
     "output_type": "execute_result"
    }
   ],
   "source": [
    "max_number_arming_dates"
   ]
  },
  {
   "cell_type": "code",
   "execution_count": 359,
   "id": "5026bd7f-e7ea-474f-a31b-ccf70e1c5977",
   "metadata": {},
   "outputs": [],
   "source": [
    "Arming_DF['Arming_Flag']=1"
   ]
  },
  {
   "cell_type": "code",
   "execution_count": 360,
   "id": "b63b3085-30b3-431d-bec6-c8a1bbe830d3",
   "metadata": {},
   "outputs": [],
   "source": [
    "Login_SQL='''\n",
    "\n",
    "with date_sql as (\n",
    "select  count(distinct date(login_dt_utc)) as count_of_dates from `cio-datahub-enterprise-pr-183a.src_adc.bq_customer_daily_logins`\n",
    "where date(login_dt_utc)< '2022-09-01' and date(login_dt_utc)>= '2022-08-01'\n",
    "\n",
    ")\n",
    "\n",
    "\n",
    "\n",
    "select customer_id,sum(login_count) as sum_login_count,count (distinct date(login_dt_utc)) as number_of_login_days, (select count_of_dates from date_sql ) as count_of_dates_logins\n",
    "from `cio-datahub-enterprise-pr-183a.src_adc.bq_customer_daily_logins`\n",
    "where date(login_dt_utc)< '2022-09-01' and date(login_dt_utc)>= '2022-08-01'\n",
    "group by customer_id\n",
    "order by number_of_login_days desc\n",
    "\n",
    "\n",
    "'''"
   ]
  },
  {
   "cell_type": "code",
   "execution_count": 361,
   "id": "0b2bd982-6901-4d09-a69e-ce5e54e3e108",
   "metadata": {},
   "outputs": [],
   "source": [
    "Login_DF=extract_bq_data(bq_client, sql=Login_SQL)"
   ]
  },
  {
   "cell_type": "code",
   "execution_count": 362,
   "id": "14e77ccc-a385-4d65-b481-9d91c29f6e2b",
   "metadata": {},
   "outputs": [],
   "source": [
    "max_number_login_dates=Login_DF['count_of_dates_logins'].max()\n",
    "Login_DF['Login_Consistency']=Login_DF['number_of_login_days'].apply(lambda x: x*100/max_number_login_dates)"
   ]
  },
  {
   "cell_type": "code",
   "execution_count": 363,
   "id": "730eb625-d4df-4d1d-a22b-1dbbfd243116",
   "metadata": {},
   "outputs": [],
   "source": [
    "Camera_TC_issue_query='''\n",
    "\n",
    "select dealer_name,customer_id,unit_id,device_id,trouble_condition_name,trouble_condition_group_id,trouble_condition_group_desc, start_date_utc,end_date_utc\n",
    "from `cio-datahub-enterprise-pr-183a.src_adc.bq_troublecondition_data`\n",
    "where trouble_condition_start_ind='Y'and trouble_condition_closed_ind='Y' \n",
    "and date(start_date_utc) >= '2022-06-01' and date(start_date_utc) <'2022-09-01' \n",
    "and trouble_condition_name in ('CameraNotReachable','CameraNotCommunicating','BroadbandCommFailure')\n",
    "\n",
    "\n",
    "'''"
   ]
  },
  {
   "cell_type": "code",
   "execution_count": 364,
   "id": "981facca-982e-4b56-8889-fe039acd9cc2",
   "metadata": {},
   "outputs": [],
   "source": [
    "Camera_TC= extract_bq_data(bq_client, sql=Camera_TC_issue_query)"
   ]
  },
  {
   "cell_type": "code",
   "execution_count": 365,
   "id": "c481073e-f3e8-4f48-bb40-cd35cb135f30",
   "metadata": {},
   "outputs": [],
   "source": [
    "Camera_TC['count_instance']=1\n",
    "\n",
    "TC_pivot_table=pd.pivot_table(Camera_TC, values=['count_instance'], index=['customer_id'], columns='trouble_condition_name',\n",
    "                          aggfunc={'count_instance': np.sum})"
   ]
  },
  {
   "cell_type": "code",
   "execution_count": 366,
   "id": "73b71a46-1939-4c39-80cf-2d9437574e4f",
   "metadata": {},
   "outputs": [],
   "source": [
    "TC_pivot_table=TC_pivot_table.reset_index()"
   ]
  },
  {
   "cell_type": "code",
   "execution_count": 367,
   "id": "3ed6ac04-07d4-4972-afc1-da6d97ec1470",
   "metadata": {},
   "outputs": [
    {
     "data": {
      "text/html": [
       "<div>\n",
       "<style scoped>\n",
       "    .dataframe tbody tr th:only-of-type {\n",
       "        vertical-align: middle;\n",
       "    }\n",
       "\n",
       "    .dataframe tbody tr th {\n",
       "        vertical-align: top;\n",
       "    }\n",
       "\n",
       "    .dataframe thead tr th {\n",
       "        text-align: left;\n",
       "    }\n",
       "</style>\n",
       "<table border=\"1\" class=\"dataframe\">\n",
       "  <thead>\n",
       "    <tr>\n",
       "      <th></th>\n",
       "      <th>customer_id</th>\n",
       "      <th colspan=\"3\" halign=\"left\">count_instance</th>\n",
       "    </tr>\n",
       "    <tr>\n",
       "      <th>trouble_condition_name</th>\n",
       "      <th></th>\n",
       "      <th>BroadbandCommFailure</th>\n",
       "      <th>CameraNotCommunicating</th>\n",
       "      <th>CameraNotReachable</th>\n",
       "    </tr>\n",
       "  </thead>\n",
       "  <tbody>\n",
       "    <tr>\n",
       "      <th>0</th>\n",
       "      <td>213860</td>\n",
       "      <td>2.0</td>\n",
       "      <td>NaN</td>\n",
       "      <td>NaN</td>\n",
       "    </tr>\n",
       "    <tr>\n",
       "      <th>1</th>\n",
       "      <td>229153</td>\n",
       "      <td>NaN</td>\n",
       "      <td>NaN</td>\n",
       "      <td>1.0</td>\n",
       "    </tr>\n",
       "    <tr>\n",
       "      <th>2</th>\n",
       "      <td>287850</td>\n",
       "      <td>20.0</td>\n",
       "      <td>NaN</td>\n",
       "      <td>NaN</td>\n",
       "    </tr>\n",
       "    <tr>\n",
       "      <th>3</th>\n",
       "      <td>292877</td>\n",
       "      <td>3.0</td>\n",
       "      <td>NaN</td>\n",
       "      <td>NaN</td>\n",
       "    </tr>\n",
       "    <tr>\n",
       "      <th>4</th>\n",
       "      <td>299100</td>\n",
       "      <td>131.0</td>\n",
       "      <td>NaN</td>\n",
       "      <td>NaN</td>\n",
       "    </tr>\n",
       "  </tbody>\n",
       "</table>\n",
       "</div>"
      ],
      "text/plain": [
       "                       customer_id       count_instance  \\\n",
       "trouble_condition_name             BroadbandCommFailure   \n",
       "0                           213860                  2.0   \n",
       "1                           229153                  NaN   \n",
       "2                           287850                 20.0   \n",
       "3                           292877                  3.0   \n",
       "4                           299100                131.0   \n",
       "\n",
       "                                                                  \n",
       "trouble_condition_name CameraNotCommunicating CameraNotReachable  \n",
       "0                                         NaN                NaN  \n",
       "1                                         NaN                1.0  \n",
       "2                                         NaN                NaN  \n",
       "3                                         NaN                NaN  \n",
       "4                                         NaN                NaN  "
      ]
     },
     "execution_count": 367,
     "metadata": {},
     "output_type": "execute_result"
    }
   ],
   "source": [
    "TC_pivot_table.head()"
   ]
  },
  {
   "cell_type": "code",
   "execution_count": 368,
   "id": "096a6168-905c-41d3-a93e-f21820e10968",
   "metadata": {},
   "outputs": [],
   "source": [
    "TC_pivot_table.columns=['customer_id','BroadbandCommFailure_count','CameraNotCommunicating_count','CameraNotReachable_count']"
   ]
  },
  {
   "cell_type": "code",
   "execution_count": 369,
   "id": "9aa1f874-ba48-448e-af41-b791ba7d5073",
   "metadata": {},
   "outputs": [],
   "source": [
    "TC_pivot_table.fillna(0,inplace=True)"
   ]
  },
  {
   "cell_type": "code",
   "execution_count": 370,
   "id": "55bf777a-287f-4ab3-b297-807d05b87cd1",
   "metadata": {},
   "outputs": [],
   "source": [
    "TC_pivot_table['BroadbandCommFailure_Flag']=TC_pivot_table['BroadbandCommFailure_count'].apply(lambda x: 1 if x>0 else 0)\n",
    "TC_pivot_table['CameraNotCommunicating_Flag']=TC_pivot_table['CameraNotCommunicating_count'].apply(lambda x: 1 if x>0 else 0)\n",
    "TC_pivot_table['CameraNotReachable_Flag']=TC_pivot_table['CameraNotReachable_count'].apply(lambda x: 1 if x>0 else 0)\n"
   ]
  },
  {
   "cell_type": "code",
   "execution_count": null,
   "id": "e638d0f4-6b32-47b3-b2a0-2db5113180d7",
   "metadata": {},
   "outputs": [],
   "source": []
  },
  {
   "cell_type": "code",
   "execution_count": 371,
   "id": "76f677d9-ca05-4b2e-b8db-de371f92d5cb",
   "metadata": {},
   "outputs": [],
   "source": [
    "Merge_DF=Data_Sep2022.merge(Best_Practices_DF,on='customer_id',how='left')"
   ]
  },
  {
   "cell_type": "code",
   "execution_count": 372,
   "id": "385789bc-faa5-4705-ba86-69bf2c85dece",
   "metadata": {},
   "outputs": [],
   "source": [
    "Merge_DF_1=Merge_DF.merge(Arming_DF,on='customer_id',how='left')"
   ]
  },
  {
   "cell_type": "code",
   "execution_count": 373,
   "id": "e8a29604-3587-4c90-8eac-d0a8a21379ac",
   "metadata": {},
   "outputs": [],
   "source": [
    "Merge_DF_2=Merge_DF_1.merge(Login_DF,on='customer_id',how='left')"
   ]
  },
  {
   "cell_type": "code",
   "execution_count": 374,
   "id": "bf4e05e8-fa90-4670-9340-131e99ff7340",
   "metadata": {},
   "outputs": [],
   "source": [
    "Merge_DF_3=Merge_DF_2.merge(TC_pivot_table,on='customer_id',how='left')"
   ]
  },
  {
   "cell_type": "code",
   "execution_count": 375,
   "id": "dc17a4b4-e4f9-4d87-b14e-1fd85abafcee",
   "metadata": {},
   "outputs": [
    {
     "data": {
      "text/plain": [
       "6083"
      ]
     },
     "execution_count": 375,
     "metadata": {},
     "output_type": "execute_result"
    }
   ],
   "source": [
    "Merge_DF_3['Best_Practice_All_flag'].isna().sum()"
   ]
  },
  {
   "cell_type": "code",
   "execution_count": 376,
   "id": "bb950857-84bc-43dd-93bf-78588c581886",
   "metadata": {},
   "outputs": [
    {
     "data": {
      "text/plain": [
       "195849"
      ]
     },
     "execution_count": 376,
     "metadata": {},
     "output_type": "execute_result"
    }
   ],
   "source": [
    "Merge_DF_3['Arming_Consistency'].isna().sum()"
   ]
  },
  {
   "cell_type": "code",
   "execution_count": 377,
   "id": "474de19b-0dcd-46c2-9f26-51d02b17d795",
   "metadata": {},
   "outputs": [
    {
     "data": {
      "text/plain": [
       "305606"
      ]
     },
     "execution_count": 377,
     "metadata": {},
     "output_type": "execute_result"
    }
   ],
   "source": [
    "Merge_DF_3['Login_Consistency'].isna().sum()"
   ]
  },
  {
   "cell_type": "code",
   "execution_count": 378,
   "id": "d112826d-12dd-44fc-9505-244ef39c0f1d",
   "metadata": {},
   "outputs": [],
   "source": [
    "Merge_DF_3.fillna(0,inplace=True)"
   ]
  },
  {
   "cell_type": "code",
   "execution_count": 379,
   "id": "631fdf7c-8ff9-4c80-aafa-b95773af2dbf",
   "metadata": {},
   "outputs": [
    {
     "data": {
      "text/plain": [
       "0.0    305606\n",
       "Name: Login_Consistency, dtype: int64"
      ]
     },
     "execution_count": 379,
     "metadata": {},
     "output_type": "execute_result"
    }
   ],
   "source": [
    "Merge_DF_3['Login_Consistency'].value_counts()"
   ]
  },
  {
   "cell_type": "code",
   "execution_count": 380,
   "id": "5f27a018-b72f-4228-8aae-f394f3c330ef",
   "metadata": {},
   "outputs": [],
   "source": [
    "def Segment_making(row\n",
    "                   ,min_login_consistency_threshold=50\n",
    "                   ,min_arming_consistency_threshold=50\n",
    "                   ,max_login_consistency_threshold=50\n",
    "                   ,max_arming_consistency_threshold=50):\n",
    "    \n",
    "    if row['Best_Practice_All']>=5 and row['Login_Consistency']>=max_login_consistency_threshold  and row['Arming_Consistency']>=max_arming_consistency_threshold:\n",
    "        return 'Heavy_User'\n",
    "    elif row['Login_Consistency']>=max_login_consistency_threshold  and row['Arming_Consistency']< min_arming_consistency_threshold:\n",
    "        return 'Home_automation_Savvy'\n",
    "    elif row['Login_Consistency']< min_login_consistency_threshold  and row['Arming_Consistency']>=max_login_consistency_threshold:\n",
    "        return 'Old_Fashion'\n",
    "    elif row['Login_Consistency']==0  and row['Arming_Consistency']==0:\n",
    "        return 'Disengaged'\n",
    "    else:\n",
    "        return \"Moderate_Users\""
   ]
  },
  {
   "cell_type": "code",
   "execution_count": 381,
   "id": "f4f9972c-e749-451b-ab4b-bdf67ca9c3fd",
   "metadata": {},
   "outputs": [],
   "source": [
    "Merge_DF_3['Segment']=Merge_DF_3.apply(Segment_making,axis=1)"
   ]
  },
  {
   "cell_type": "code",
   "execution_count": 382,
   "id": "0ce26297-4537-4a91-b581-c9ada7480048",
   "metadata": {},
   "outputs": [
    {
     "data": {
      "text/html": [
       "<div>\n",
       "<style scoped>\n",
       "    .dataframe tbody tr th:only-of-type {\n",
       "        vertical-align: middle;\n",
       "    }\n",
       "\n",
       "    .dataframe tbody tr th {\n",
       "        vertical-align: top;\n",
       "    }\n",
       "\n",
       "    .dataframe thead th {\n",
       "        text-align: right;\n",
       "    }\n",
       "</style>\n",
       "<table border=\"1\" class=\"dataframe\">\n",
       "  <thead>\n",
       "    <tr style=\"text-align: right;\">\n",
       "      <th></th>\n",
       "      <th>Segment</th>\n",
       "      <th>Customer_count</th>\n",
       "      <th>Best_practices_1</th>\n",
       "      <th>Login_conis</th>\n",
       "    </tr>\n",
       "  </thead>\n",
       "  <tbody>\n",
       "    <tr>\n",
       "      <th>0</th>\n",
       "      <td>Disengaged</td>\n",
       "      <td>195849</td>\n",
       "      <td>161115</td>\n",
       "      <td>0.0</td>\n",
       "    </tr>\n",
       "    <tr>\n",
       "      <th>1</th>\n",
       "      <td>Moderate_Users</td>\n",
       "      <td>45110</td>\n",
       "      <td>39984</td>\n",
       "      <td>0.0</td>\n",
       "    </tr>\n",
       "    <tr>\n",
       "      <th>2</th>\n",
       "      <td>Old_Fashion</td>\n",
       "      <td>64647</td>\n",
       "      <td>61517</td>\n",
       "      <td>0.0</td>\n",
       "    </tr>\n",
       "  </tbody>\n",
       "</table>\n",
       "</div>"
      ],
      "text/plain": [
       "          Segment  Customer_count  Best_practices_1  Login_conis\n",
       "0      Disengaged          195849            161115          0.0\n",
       "1  Moderate_Users           45110             39984          0.0\n",
       "2     Old_Fashion           64647             61517          0.0"
      ]
     },
     "execution_count": 382,
     "metadata": {},
     "output_type": "execute_result"
    }
   ],
   "source": [
    "pd.DataFrame(Merge_DF_3.groupby(['Segment']).agg(\n",
    "    \n",
    "    Customer_count= ('customer_id','nunique'),\n",
    "    Best_practices_1=('Best_partices_1','sum'),\n",
    "     Login_conis=('Login_Consistency','mean'),\n",
    "    # Telus_internet_customers=('Telus_internet_flag',lambda x: x.sum()),\n",
    "    # Telus_internet_penetration=('Telus_internet_flag',lambda x: x.mean()*100),\n",
    "    # Churn_total=('Telus_Churn_Flag',lambda x: x.sum()),\n",
    "    # Churn_rate=('Telus_Churn_Flag',lambda x: x.mean()*100)\n",
    ").reset_index())"
   ]
  },
  {
   "cell_type": "code",
   "execution_count": 383,
   "id": "a50da015-09b4-4363-8743-0697c14dd739",
   "metadata": {},
   "outputs": [
    {
     "data": {
      "text/plain": [
       "Disengaged        64.085456\n",
       "Old_Fashion       21.153708\n",
       "Moderate_Users    14.760836\n",
       "Name: Segment, dtype: float64"
      ]
     },
     "execution_count": 383,
     "metadata": {},
     "output_type": "execute_result"
    }
   ],
   "source": [
    "Merge_DF_3['Segment'].value_counts(normalize=True)*100"
   ]
  },
  {
   "cell_type": "code",
   "execution_count": 384,
   "id": "6ec7389b-1ca6-43be-8b68-be108723c0a3",
   "metadata": {},
   "outputs": [
    {
     "data": {
      "text/plain": [
       "Disengaged        195849\n",
       "Old_Fashion        64647\n",
       "Moderate_Users     45110\n",
       "Name: Segment, dtype: int64"
      ]
     },
     "execution_count": 384,
     "metadata": {},
     "output_type": "execute_result"
    }
   ],
   "source": [
    "Merge_DF_3['Segment'].value_counts()"
   ]
  },
  {
   "cell_type": "code",
   "execution_count": 385,
   "id": "8d34b35f-e986-4d48-aff5-f4977b430e30",
   "metadata": {},
   "outputs": [
    {
     "data": {
      "text/plain": [
       "0.0    100.0\n",
       "Name: Login_Consistency, dtype: float64"
      ]
     },
     "execution_count": 385,
     "metadata": {},
     "output_type": "execute_result"
    }
   ],
   "source": [
    "Merge_DF_3['Login_Consistency'].value_counts(normalize=True)*100"
   ]
  },
  {
   "cell_type": "code",
   "execution_count": 386,
   "id": "a9dbbef8-72c5-4441-8241-b7d917599f2c",
   "metadata": {},
   "outputs": [
    {
     "data": {
      "text/plain": [
       "0.000000      64.085456\n",
       "100.000000     7.027022\n",
       "5.555556       4.622619\n",
       "94.444444      3.086981\n",
       "11.111111      2.783322\n",
       "88.888889      2.161607\n",
       "16.666667      1.753238\n",
       "83.333333      1.720189\n",
       "77.777778      1.509133\n",
       "22.222222      1.409331\n",
       "72.222222      1.260774\n",
       "61.111111      1.180278\n",
       "27.777778      1.179623\n",
       "66.666667      1.148538\n",
       "55.555556      1.089311\n",
       "33.333333      1.051354\n",
       "38.888889      1.004234\n",
       "50.000000      0.969876\n",
       "44.444444      0.957115\n",
       "Name: Arming_Consistency, dtype: float64"
      ]
     },
     "execution_count": 386,
     "metadata": {},
     "output_type": "execute_result"
    }
   ],
   "source": [
    "Merge_DF_3['Arming_Consistency'].value_counts(normalize=True)*100"
   ]
  },
  {
   "cell_type": "code",
   "execution_count": 387,
   "id": "18693b0d-e61f-4b36-b3c2-3034cfc555ba",
   "metadata": {},
   "outputs": [
    {
     "name": "stdout",
     "output_type": "stream",
     "text": [
      "<class 'pandas.core.frame.DataFrame'>\n",
      "Int64Index: 305606 entries, 0 to 305605\n",
      "Data columns (total 41 columns):\n",
      " #   Column                        Non-Null Count   Dtype              \n",
      "---  ------                        --------------   -----              \n",
      " 0   customer_id                   305606 non-null  Int64              \n",
      " 1   dealer_customer_id            305606 non-null  object             \n",
      " 2   dealer_name                   305606 non-null  object             \n",
      " 3   account_type_name             305606 non-null  object             \n",
      " 4   customer_type_name            305606 non-null  object             \n",
      " 5   bacct_bus_bacct_num           305606 non-null  Int64              \n",
      " 6   bacct_billg_acct_id           305606 non-null  Int64              \n",
      " 7   cust_bus_cust_id              305606 non-null  object             \n",
      " 8   pi_prod_instnc_typ_cd         305606 non-null  object             \n",
      " 9   pi_prod_instnc_stat_ts        305606 non-null  datetime64[ns]     \n",
      " 10  prod_instnc_ts                305606 non-null  datetime64[ns, UTC]\n",
      " 11  contract_end_date             305606 non-null  object             \n",
      " 12  cust_id_telus                 305606 non-null  Int64              \n",
      " 13  Telus_internet_flag           305606 non-null  Int64              \n",
      " 14  CUST_ID                       305606 non-null  object             \n",
      " 15  Telus_Churn_Flag              305606 non-null  Int64              \n",
      " 16  Best_partices_1               305606 non-null  Int64              \n",
      " 17  Best_partices_2               305606 non-null  Int64              \n",
      " 18  Best_partices_3               305606 non-null  Int64              \n",
      " 19  Best_partices_4               305606 non-null  Int64              \n",
      " 20  Best_partices_5               305606 non-null  Int64              \n",
      " 21  Best_partices_6               305606 non-null  Int64              \n",
      " 22  Best_Practice_All             305606 non-null  Int64              \n",
      " 23  Best_Practice_All_flag        305606 non-null  Int64              \n",
      " 24  sum_arm_commands              305606 non-null  Int64              \n",
      " 25  sum_disarm_commands           305606 non-null  Int64              \n",
      " 26  number_days_arming_disarming  305606 non-null  Int64              \n",
      " 27  count_of_dates_arming         305606 non-null  Int64              \n",
      " 28  Arming_Consistency            305606 non-null  float64            \n",
      " 29  Arming_Flag                   305606 non-null  float64            \n",
      " 30  sum_login_count               305606 non-null  Int64              \n",
      " 31  number_of_login_days          305606 non-null  Int64              \n",
      " 32  count_of_dates_logins         305606 non-null  Int64              \n",
      " 33  Login_Consistency             305606 non-null  float64            \n",
      " 34  BroadbandCommFailure_count    305606 non-null  float64            \n",
      " 35  CameraNotCommunicating_count  305606 non-null  float64            \n",
      " 36  CameraNotReachable_count      305606 non-null  float64            \n",
      " 37  BroadbandCommFailure_Flag     305606 non-null  float64            \n",
      " 38  CameraNotCommunicating_Flag   305606 non-null  float64            \n",
      " 39  CameraNotReachable_Flag       305606 non-null  float64            \n",
      " 40  Segment                       305606 non-null  object             \n",
      "dtypes: Int64(21), datetime64[ns, UTC](1), datetime64[ns](1), float64(9), object(9)\n",
      "memory usage: 104.0+ MB\n"
     ]
    }
   ],
   "source": [
    "Merge_DF_3.info()"
   ]
  },
  {
   "cell_type": "code",
   "execution_count": 388,
   "id": "90bf2380-9e34-403a-9aaf-e0ae24c5a2be",
   "metadata": {},
   "outputs": [
    {
     "data": {
      "text/plain": [
       "0    59.430116\n",
       "1    40.569884\n",
       "Name: Best_partices_3, dtype: Float64"
      ]
     },
     "execution_count": 388,
     "metadata": {},
     "output_type": "execute_result"
    }
   ],
   "source": [
    "Merge_DF_3['Best_partices_3'].value_counts(normalize=True)*100"
   ]
  },
  {
   "cell_type": "code",
   "execution_count": 389,
   "id": "24e311b5-315a-4993-b10b-0adefef38c4a",
   "metadata": {},
   "outputs": [
    {
     "data": {
      "text/html": [
       "<div>\n",
       "<style scoped>\n",
       "    .dataframe tbody tr th:only-of-type {\n",
       "        vertical-align: middle;\n",
       "    }\n",
       "\n",
       "    .dataframe tbody tr th {\n",
       "        vertical-align: top;\n",
       "    }\n",
       "\n",
       "    .dataframe thead th {\n",
       "        text-align: right;\n",
       "    }\n",
       "</style>\n",
       "<table border=\"1\" class=\"dataframe\">\n",
       "  <thead>\n",
       "    <tr style=\"text-align: right;\">\n",
       "      <th></th>\n",
       "      <th>Segment</th>\n",
       "      <th>Customer_count</th>\n",
       "      <th>Best_practices_3</th>\n",
       "      <th>Best_pract_Arming_per</th>\n",
       "    </tr>\n",
       "  </thead>\n",
       "  <tbody>\n",
       "    <tr>\n",
       "      <th>0</th>\n",
       "      <td>Disengaged</td>\n",
       "      <td>195849</td>\n",
       "      <td>52074</td>\n",
       "      <td>0.265889</td>\n",
       "    </tr>\n",
       "    <tr>\n",
       "      <th>1</th>\n",
       "      <td>Moderate_Users</td>\n",
       "      <td>45110</td>\n",
       "      <td>28947</td>\n",
       "      <td>0.641698</td>\n",
       "    </tr>\n",
       "    <tr>\n",
       "      <th>2</th>\n",
       "      <td>Old_Fashion</td>\n",
       "      <td>64647</td>\n",
       "      <td>42963</td>\n",
       "      <td>0.664578</td>\n",
       "    </tr>\n",
       "  </tbody>\n",
       "</table>\n",
       "</div>"
      ],
      "text/plain": [
       "          Segment  Customer_count  Best_practices_3  Best_pract_Arming_per\n",
       "0      Disengaged          195849             52074               0.265889\n",
       "1  Moderate_Users           45110             28947               0.641698\n",
       "2     Old_Fashion           64647             42963               0.664578"
      ]
     },
     "execution_count": 389,
     "metadata": {},
     "output_type": "execute_result"
    }
   ],
   "source": [
    "pd.DataFrame(Merge_DF_3.groupby(['Segment']).agg(\n",
    "    \n",
    "    Customer_count= ('customer_id','nunique'),\n",
    "    Best_practices_3=('Best_partices_3','sum'),\n",
    "     Best_pract_Arming_per=('Best_partices_3','mean'),\n",
    "    # Telus_internet_customers=('Telus_internet_flag',lambda x: x.sum()),\n",
    "    # Telus_internet_penetration=('Telus_internet_flag',lambda x: x.mean()*100),\n",
    "    # Churn_total=('Telus_Churn_Flag',lambda x: x.sum()),\n",
    "    # Churn_rate=('Telus_Churn_Flag',lambda x: x.mean()*100)\n",
    ").reset_index())"
   ]
  },
  {
   "cell_type": "code",
   "execution_count": 390,
   "id": "3502b65a-decb-464d-b23b-3dd0893e6f31",
   "metadata": {},
   "outputs": [
    {
     "data": {
      "text/plain": [
       "9999-12-31 00:00:00    27903\n",
       "2024-06-24 00:00:00      535\n",
       "2025-08-26 00:00:00      528\n",
       "2025-08-18 00:00:00      528\n",
       "2025-08-25 00:00:00      516\n",
       "                       ...  \n",
       "2018-08-18 00:00:00        1\n",
       "2018-12-04 00:00:00        1\n",
       "2013-10-26 00:00:00        1\n",
       "2009-02-22 00:00:00        1\n",
       "2017-07-21 00:00:00        1\n",
       "Name: contract_end_date, Length: 4232, dtype: int64"
      ]
     },
     "execution_count": 390,
     "metadata": {},
     "output_type": "execute_result"
    }
   ],
   "source": [
    "Merge_DF_3['contract_end_date'].value_counts()"
   ]
  },
  {
   "cell_type": "code",
   "execution_count": 391,
   "id": "320348fa-2d14-4961-99fb-b699406f42e9",
   "metadata": {},
   "outputs": [],
   "source": [
    "# Merge_DF_2[Merge_DF_2['contract_end_date']]"
   ]
  },
  {
   "cell_type": "code",
   "execution_count": 392,
   "id": "912493e9-4b1b-4f8e-b35e-9a668c0c7a3f",
   "metadata": {},
   "outputs": [],
   "source": [
    "Merge_DF_3['Camera_TC_condition_count']=Merge_DF_3.apply(lambda x: x['BroadbandCommFailure_count']+x['CameraNotCommunicating_count']+x['CameraNotReachable_count'],axis=1)"
   ]
  },
  {
   "cell_type": "code",
   "execution_count": 393,
   "id": "3a729f4a-1d65-4419-beef-7d1d37bb1b71",
   "metadata": {},
   "outputs": [
    {
     "data": {
      "text/plain": [
       "0.0       255433\n",
       "1.0        21956\n",
       "2.0         8105\n",
       "3.0         4563\n",
       "4.0         3301\n",
       "           ...  \n",
       "901.0          1\n",
       "485.0          1\n",
       "881.0          1\n",
       "1243.0         1\n",
       "1609.0         1\n",
       "Name: Camera_TC_condition_count, Length: 721, dtype: int64"
      ]
     },
     "execution_count": 393,
     "metadata": {},
     "output_type": "execute_result"
    }
   ],
   "source": [
    "Merge_DF_3['Camera_TC_condition_count'].value_counts()"
   ]
  },
  {
   "cell_type": "code",
   "execution_count": 394,
   "id": "85e473d4-174b-4ce1-bfdc-76e8f5f25d0a",
   "metadata": {},
   "outputs": [
    {
     "data": {
      "text/plain": [
       "0    98.95061\n",
       "1     1.04939\n",
       "Name: Telus_Churn_Flag, dtype: Float64"
      ]
     },
     "execution_count": 394,
     "metadata": {},
     "output_type": "execute_result"
    }
   ],
   "source": [
    "Merge_DF_3['Telus_Churn_Flag'].value_counts(normalize=True)*100"
   ]
  },
  {
   "cell_type": "code",
   "execution_count": 395,
   "id": "969cfd0e-8a11-4ad8-8b89-e0e6f3771cc2",
   "metadata": {},
   "outputs": [],
   "source": [
    "Merge_DF_3.to_csv('GTM_full_data_Sep2022.csv',index=False)"
   ]
  },
  {
   "cell_type": "code",
   "execution_count": 253,
   "id": "c4dd92c1-a53c-4157-b94e-16e977d1a2e8",
   "metadata": {},
   "outputs": [],
   "source": [
    "# GTM_data_4=Merge_DF_3[(Merge_DF_3['dealer_name']=='TELUS Communications Inc.') & (Merge_DF_3['Best_partices_4']==1) & (Merge_DF_3['Best_partices_1']==0) & ((Merge_DF_3['Segment']=='Disengaged') | (Merge_DF_3['Segment']=='Moderate_Users'))] \n",
    "# GTM_data_5=Merge_DF_3[(Merge_DF_3['dealer_name']=='TELUS Communications Inc.')& (Merge_DF_3['Best_partices_4']==1) & (Merge_DF_3['Best_Practice_All']<3) & ((Merge_DF_3['Segment']=='Disengaged') | (Merge_DF_3['Segment']=='Moderate_Users'))] \n",
    "# GTM_data_6=Merge_DF_3[(Merge_DF_3['dealer_name']=='TELUS Communications Inc.')& (Merge_DF_3['Best_partices_4']==1) & (Merge_DF_3['Camera_TC_condition_count']>3) & ((Merge_DF_3['Segment']=='Disengaged') | (Merge_DF_3['Segment']=='Moderate_Users'))] \n",
    "GTM_data_7=Merge_DF_3[(Merge_DF_3['dealer_name']=='TELUS Communications Inc.')& (Merge_DF_3['Best_partices_5']==1)  & ((Merge_DF_3['Segment']=='Disengaged') | (Merge_DF_3['Segment']=='Moderate_Users'))]"
   ]
  },
  {
   "cell_type": "code",
   "execution_count": 255,
   "id": "42443a96-337a-47a5-9399-85afce61363f",
   "metadata": {},
   "outputs": [
    {
     "data": {
      "text/plain": [
       "(180275, 42)"
      ]
     },
     "execution_count": 255,
     "metadata": {},
     "output_type": "execute_result"
    }
   ],
   "source": [
    "GTM_data_7.shape"
   ]
  },
  {
   "cell_type": "code",
   "execution_count": 256,
   "id": "e097ca75-095d-42d9-8b43-785ea27b7cf8",
   "metadata": {},
   "outputs": [],
   "source": [
    "GTM_data_7.to_csv('GTM_data_HomeAutodev.csv',index=False)"
   ]
  },
  {
   "cell_type": "code",
   "execution_count": 235,
   "id": "9aa111b3-bcf6-466b-b876-d6062fba3543",
   "metadata": {},
   "outputs": [],
   "source": [
    "# GTM_dis_data_1=Merge_DF_3[(Merge_DF_3['dealer_name']=='TELUS Communications Inc.') & (Merge_DF_3['Best_partices_1']==0) & (Merge_DF_3['Segment']=='Disengaged')] \n",
    "# GTM_dis_data_2=Merge_DF_3[(Merge_DF_3['dealer_name']=='TELUS Communications Inc.') & (Merge_DF_3['Best_Practice_All']<3) & (Merge_DF_3['Segment']=='Disengaged')] \n",
    "# GTM_dis_data_3=Merge_DF_3[(Merge_DF_3['dealer_name']=='TELUS Communications Inc.') & (Merge_DF_3['Camera_TC_condition_count']>3) & (Merge_DF_3['Segment']=='Disengaged')] \n"
   ]
  },
  {
   "cell_type": "code",
   "execution_count": 236,
   "id": "86ad6453-1735-48e0-9327-aef1b536706b",
   "metadata": {},
   "outputs": [],
   "source": [
    "# GTM_dis_data_2['Telus_Churn_Flag'].value_counts(normalize=True)*100"
   ]
  },
  {
   "cell_type": "code",
   "execution_count": 237,
   "id": "c4c959fe-9534-4151-bb07-316ab232a797",
   "metadata": {},
   "outputs": [],
   "source": [
    "# GTM_dis_data_3['Telus_Churn_Flag'].value_counts(normalize=True)*100"
   ]
  },
  {
   "cell_type": "code",
   "execution_count": 238,
   "id": "25ff79d0-9733-42a6-9b33-9130fa6c982d",
   "metadata": {},
   "outputs": [],
   "source": [
    "# GTM_dis_data_1.to_csv('GTM_data_NoEV_disengaged.csv',index=False)"
   ]
  },
  {
   "cell_type": "code",
   "execution_count": 239,
   "id": "5b32b07e-2eee-4656-bdb9-6258502bd8f6",
   "metadata": {},
   "outputs": [],
   "source": [
    "# GTM_dis_data_2.to_csv('GTM_data_BPlessthan3_disengaged.csv',index=False)"
   ]
  },
  {
   "cell_type": "code",
   "execution_count": 240,
   "id": "e51d785f-ffa9-4acf-9871-f31808bf83f0",
   "metadata": {},
   "outputs": [],
   "source": [
    "# GTM_dis_data_3.to_csv('GTM_data_CameraTC_grtr_than3_disengaged.csv',index=False)"
   ]
  },
  {
   "cell_type": "code",
   "execution_count": 241,
   "id": "d8940bdb-0cba-476e-be37-aef9c3bc625c",
   "metadata": {},
   "outputs": [],
   "source": [
    "# GTM_Mod_data_1=Merge_DF_3[(Merge_DF_3['dealer_name']=='TELUS Communications Inc.') & (Merge_DF_3['Best_partices_1']==0) & (Merge_DF_3['Segment']=='Moderate_Users')] \n",
    "# GTM_Mod_data_2=Merge_DF_3[(Merge_DF_3['dealer_name']=='TELUS Communications Inc.') & (Merge_DF_3['Best_Practice_All']<3) & (Merge_DF_3['Segment']=='Moderate_Users')] \n",
    "# GTM_Mod_data_3=Merge_DF_3[(Merge_DF_3['dealer_name']=='TELUS Communications Inc.') & (Merge_DF_3['Camera_TC_condition_count']>3) & (Merge_DF_3['Segment']=='Moderate_Users')]"
   ]
  },
  {
   "cell_type": "code",
   "execution_count": 242,
   "id": "ac41b02a-457c-4bb7-99ad-a4a625f1480c",
   "metadata": {},
   "outputs": [],
   "source": [
    "# GTM_Mod_data_1.to_csv('GTM_data_NoEV_Moderate.csv',index=False)\n",
    "# GTM_Mod_data_2.to_csv('GTM_data_BPlessthan3_Moderate.csv',index=False)\n",
    "# GTM_Mod_data_3.to_csv('GTM_data_CameraTC_grtr_than3_Moderate.csv',index=False)"
   ]
  },
  {
   "cell_type": "code",
   "execution_count": null,
   "id": "431f446d-6bcb-4800-b045-30e15663c9ec",
   "metadata": {},
   "outputs": [],
   "source": []
  },
  {
   "cell_type": "code",
   "execution_count": null,
   "id": "8710a33e-0abf-4389-bec8-6178cee66921",
   "metadata": {},
   "outputs": [],
   "source": []
  }
 ],
 "metadata": {
  "kernelspec": {
   "display_name": "Python 3 (ipykernel)",
   "language": "python",
   "name": "python3"
  },
  "language_info": {
   "codemirror_mode": {
    "name": "ipython",
    "version": 3
   },
   "file_extension": ".py",
   "mimetype": "text/x-python",
   "name": "python",
   "nbconvert_exporter": "python",
   "pygments_lexer": "ipython3",
   "version": "3.8.12"
  }
 },
 "nbformat": 4,
 "nbformat_minor": 5
}
