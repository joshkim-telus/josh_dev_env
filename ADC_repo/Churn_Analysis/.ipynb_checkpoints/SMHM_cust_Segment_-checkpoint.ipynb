{
 "cells": [
  {
   "cell_type": "code",
   "execution_count": 2,
   "id": "f603f79c-a329-4f26-bfec-7275ae63fb1a",
   "metadata": {},
   "outputs": [],
   "source": [
    "#### import global modules\n",
    "import os\n",
    "import sys\n",
    "import pandas as pd\n",
    "import numpy as np\n",
    "from pathlib import Path\n",
    "from yaml import safe_load\n",
    "import google.oauth2.credentials\n",
    "from google.cloud import bigquery\n",
    "import gc\n",
    "\n",
    "# Set global vars\n",
    "pth_project = Path(os.getcwd().split('notebooks')[0])\n",
    "pth_data = pth_project / 'data'\n",
    "pth_queries = pth_project / 'core' / 'queries'\n",
    "pth_creds = pth_project / 'conf' / 'local' / 'project_config.yaml'\n",
    "sys.path.insert(0, str(pth_project))\n",
    "d_project_config = safe_load(pth_creds.open())\n",
    "# d_params = safe_load((pth_project / 'core' / 'parameters' / 'common.yaml').open())['data_extract']\n",
    "\n",
    "# import local modules\n",
    "from core.utils.gcp import connect_bq_services\n",
    "# from core.etl.extract import extract_bq_data, extract_pr_codes, format_conv_df, filter_convs\n",
    "\n",
    "# Connect to google services\n",
    "bq_client = connect_bq_services(d_project_config['gcp-project-name'])\n",
    "pd.options.display.max_rows = 100"
   ]
  },
  {
   "cell_type": "code",
   "execution_count": 3,
   "id": "ccd2c222-bdf4-417b-9ff1-3caa43330619",
   "metadata": {},
   "outputs": [],
   "source": [
    "def extract_bq_data(bq_client, sql=None, pth_query=None):\n",
    "    if sql is not None:\n",
    "        df = bq_client.query(sql).to_dataframe()\n",
    "    elif pth_query is not None:\n",
    "        sql = pth_query.read_text()\n",
    "        df = bq_client.query(sql).to_dataframe()\n",
    "    else:\n",
    "        raise ValueError('`sql` or `pth_query` should be set')  \n",
    "    return df"
   ]
  },
  {
   "cell_type": "code",
   "execution_count": 31,
   "id": "631493e0-9771-4d8a-ae72-5992d081c10f",
   "metadata": {},
   "outputs": [],
   "source": [
    "Query='''\n",
    "\n",
    "select customer_id, dealer_customer_id,\n",
    "    CASE\n",
    "      WHEN Login_consistency = 0 THEN  \"NO_User\"\n",
    "      WHEN Login_consistency>=30 THEN 'Heavy_User'\n",
    "      WHEN Login_consistency<30 THEN \"Low_User\"\n",
    "    ELSE\n",
    "    'Un_assigned'\n",
    "  END\n",
    "    AS Login_Segment\n",
    "\n",
    "from `divgpras-pr-579355.ADC_Feature_Datastore.ADC_Master_Data`\n",
    "WHERE dealer_name='TELUS Communications Inc.'\n",
    "and dealer_customer_id!=''\n",
    "QUALIFY ROW_NUMBER() OVER (PARTITION BY customer_id ORDER BY Month_Snapshot DESC) = 1\n",
    "\n",
    "\n",
    "'''"
   ]
  },
  {
   "cell_type": "code",
   "execution_count": 32,
   "id": "d2e446e2-f105-452b-9dc8-43b0531e5587",
   "metadata": {},
   "outputs": [],
   "source": [
    "DF=extract_bq_data(bq_client, sql=Query)"
   ]
  },
  {
   "cell_type": "code",
   "execution_count": 33,
   "id": "4f740953-1e01-4a13-87cf-e37fadf86112",
   "metadata": {},
   "outputs": [
    {
     "name": "stdout",
     "output_type": "stream",
     "text": [
      "<class 'pandas.core.frame.DataFrame'>\n",
      "RangeIndex: 417076 entries, 0 to 417075\n",
      "Data columns (total 3 columns):\n",
      " #   Column              Non-Null Count   Dtype \n",
      "---  ------              --------------   ----- \n",
      " 0   customer_id         417076 non-null  Int64 \n",
      " 1   dealer_customer_id  417076 non-null  object\n",
      " 2   Login_Segment       417076 non-null  object\n",
      "dtypes: Int64(1), object(2)\n",
      "memory usage: 9.9+ MB\n"
     ]
    }
   ],
   "source": [
    "DF.info()"
   ]
  },
  {
   "cell_type": "code",
   "execution_count": 34,
   "id": "47d1dae9-1ccc-4d3b-881a-ac804b9db4c8",
   "metadata": {},
   "outputs": [
    {
     "data": {
      "text/html": [
       "<div>\n",
       "<style scoped>\n",
       "    .dataframe tbody tr th:only-of-type {\n",
       "        vertical-align: middle;\n",
       "    }\n",
       "\n",
       "    .dataframe tbody tr th {\n",
       "        vertical-align: top;\n",
       "    }\n",
       "\n",
       "    .dataframe thead th {\n",
       "        text-align: right;\n",
       "    }\n",
       "</style>\n",
       "<table border=\"1\" class=\"dataframe\">\n",
       "  <thead>\n",
       "    <tr style=\"text-align: right;\">\n",
       "      <th></th>\n",
       "      <th>customer_id</th>\n",
       "      <th>dealer_customer_id</th>\n",
       "      <th>Login_Segment</th>\n",
       "    </tr>\n",
       "  </thead>\n",
       "  <tbody>\n",
       "    <tr>\n",
       "      <th>0</th>\n",
       "      <td>1261094</td>\n",
       "      <td>09054513</td>\n",
       "      <td>NO_User</td>\n",
       "    </tr>\n",
       "    <tr>\n",
       "      <th>1</th>\n",
       "      <td>1429415</td>\n",
       "      <td>DV102746</td>\n",
       "      <td>NO_User</td>\n",
       "    </tr>\n",
       "    <tr>\n",
       "      <th>2</th>\n",
       "      <td>1741007</td>\n",
       "      <td>09056736</td>\n",
       "      <td>NO_User</td>\n",
       "    </tr>\n",
       "    <tr>\n",
       "      <th>3</th>\n",
       "      <td>1882205</td>\n",
       "      <td>APE16845</td>\n",
       "      <td>NO_User</td>\n",
       "    </tr>\n",
       "    <tr>\n",
       "      <th>4</th>\n",
       "      <td>2292475</td>\n",
       "      <td>60003392</td>\n",
       "      <td>NO_User</td>\n",
       "    </tr>\n",
       "  </tbody>\n",
       "</table>\n",
       "</div>"
      ],
      "text/plain": [
       "   customer_id dealer_customer_id Login_Segment\n",
       "0      1261094           09054513       NO_User\n",
       "1      1429415           DV102746       NO_User\n",
       "2      1741007           09056736       NO_User\n",
       "3      1882205           APE16845       NO_User\n",
       "4      2292475           60003392       NO_User"
      ]
     },
     "execution_count": 34,
     "metadata": {},
     "output_type": "execute_result"
    }
   ],
   "source": [
    "DF.head()"
   ]
  },
  {
   "cell_type": "code",
   "execution_count": 35,
   "id": "a254f907-2def-406d-996f-5892e79b3557",
   "metadata": {},
   "outputs": [
    {
     "data": {
      "text/plain": [
       "Heavy_User    50.884731\n",
       "NO_User       29.109083\n",
       "Low_User      20.006186\n",
       "Name: Login_Segment, dtype: float64"
      ]
     },
     "execution_count": 35,
     "metadata": {},
     "output_type": "execute_result"
    }
   ],
   "source": [
    "DF['Login_Segment'].value_counts(normalize=True)*100"
   ]
  },
  {
   "cell_type": "code",
   "execution_count": 36,
   "id": "e6493054-b30f-46a7-afd2-3fb0d65524fe",
   "metadata": {},
   "outputs": [],
   "source": [
    "DF.to_csv('SMHM_Customer_Login_Segment_mapping.csv',index=False)"
   ]
  },
  {
   "cell_type": "code",
   "execution_count": null,
   "id": "71a3e51e-319a-404e-a7fa-2f977f3ab8a3",
   "metadata": {},
   "outputs": [],
   "source": []
  }
 ],
 "metadata": {
  "kernelspec": {
   "display_name": "Python 3 (ipykernel)",
   "language": "python",
   "name": "python3"
  },
  "language_info": {
   "codemirror_mode": {
    "name": "ipython",
    "version": 3
   },
   "file_extension": ".py",
   "mimetype": "text/x-python",
   "name": "python",
   "nbconvert_exporter": "python",
   "pygments_lexer": "ipython3",
   "version": "3.8.12"
  }
 },
 "nbformat": 4,
 "nbformat_minor": 5
}
