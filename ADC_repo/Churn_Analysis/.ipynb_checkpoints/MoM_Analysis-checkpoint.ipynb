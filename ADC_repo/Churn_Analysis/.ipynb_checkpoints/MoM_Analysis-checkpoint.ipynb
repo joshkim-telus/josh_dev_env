{
 "cells": [
  {
   "cell_type": "code",
   "execution_count": null,
   "id": "f201376e-36d5-4efd-94d5-f761719d9202",
   "metadata": {},
   "outputs": [],
   "source": [
    "#### import global modules\n",
    "import os\n",
    "import sys\n",
    "import pandas as pd\n",
    "import numpy as np\n",
    "from pathlib import Path\n",
    "from yaml import safe_load\n",
    "import google.oauth2.credentials\n",
    "from google.cloud import bigquery\n",
    "import gc\n",
    "\n",
    "# Set global vars\n",
    "pth_project = Path(os.getcwd().split('notebooks')[0])\n",
    "pth_data = pth_project / 'data'\n",
    "pth_queries = pth_project / 'core' / 'queries'\n",
    "pth_creds = pth_project / 'conf' / 'local' / 'project_config.yaml'\n",
    "sys.path.insert(0, str(pth_project))\n",
    "d_project_config = safe_load(pth_creds.open())\n",
    "# d_params = safe_load((pth_project / 'core' / 'parameters' / 'common.yaml').open())['data_extract']\n",
    "\n",
    "# import local modules\n",
    "from core.utils.gcp import connect_bq_services\n",
    "# from core.etl.extract import extract_bq_data, extract_pr_codes, format_conv_df, filter_convs\n",
    "\n",
    "# Connect to google services\n",
    "bq_client = connect_bq_services(d_project_config['gcp-project-name'])\n",
    "pd.options.display.max_rows = 100"
   ]
  },
  {
   "cell_type": "code",
   "execution_count": null,
   "id": "42952982-ac9a-4d17-ad3c-71b0325f0f68",
   "metadata": {},
   "outputs": [],
   "source": [
    "def extract_bq_data(bq_client, sql=None, pth_query=None):\n",
    "    if sql is not None:\n",
    "        df = bq_client.query(sql).to_dataframe()\n",
    "    elif pth_query is not None:\n",
    "        sql = pth_query.read_text()\n",
    "        df = bq_client.query(sql).to_dataframe()\n",
    "    else:\n",
    "        raise ValueError('`sql` or `pth_query` should be set')  \n",
    "    return df"
   ]
  },
  {
   "cell_type": "code",
   "execution_count": null,
   "id": "52b2fd12-fbbb-4459-93a9-acde93aa1dce",
   "metadata": {},
   "outputs": [],
   "source": [
    "Query='''\n",
    "\n",
    "\n",
    "with ADC_data_Sep_2022 as \n",
    "\n",
    "(\n",
    "\n",
    "SELECT distinct\n",
    "    customer_id as cust_Sep,\n",
    "    BAN,\n",
    "    Login_consistency as Login_consistency_sep ,\n",
    "    Arming_Consistency as Arming_consistency_sep,\n",
    "    1 as Sept_data_flag\n",
    "\n",
    "   FROM\n",
    "    `divgpras-pr-579355.ADC_Feature_Datastore.ADC_Master_Data`\n",
    "  WHERE\n",
    "    Month_Snapshot='2022-09-01'\n",
    "    AND dealer_name='TELUS Communications Inc.' \n",
    "    and Login_consistency=0 and Arming_Consistency=0\n",
    "    and account_type_name='Security System'\n",
    "    \n",
    ")\n",
    "\n",
    ", ADC_data_Oct_2022 as \n",
    "\n",
    "(\n",
    "\n",
    "SELECT distinct\n",
    "    customer_id as cust_Oct,\n",
    "    Login_consistency as Login_consistency_Oct,\n",
    "    Arming_Consistency as Arming_consistency_Oct,\n",
    "    1 as Oct_data_flag\n",
    "\n",
    "   FROM\n",
    "    `divgpras-pr-579355.ADC_Feature_Datastore.ADC_Master_Data`\n",
    "  WHERE\n",
    "    Month_Snapshot='2022-10-01'\n",
    "    AND dealer_name='TELUS Communications Inc.' \n",
    "    --and Login_consistency=0 and Arming_Consistency=0\n",
    "    and account_type_name='Security System'\n",
    "    \n",
    ")\n",
    "\n",
    ", ADC_data_Nov_2022 as \n",
    "\n",
    "(\n",
    "\n",
    "SELECT distinct\n",
    "    customer_id as cust_Nov,\n",
    "    Login_consistency as Login_consistency_Nov ,\n",
    "    Arming_Consistency as Arming_consistency_Nov,\n",
    "    1 as Nov_data_flag\n",
    "\n",
    "   FROM\n",
    "    `divgpras-pr-579355.ADC_Feature_Datastore.ADC_Master_Data`\n",
    "  WHERE\n",
    "    Month_Snapshot='2022-11-01'\n",
    "    AND dealer_name='TELUS Communications Inc.' \n",
    "    --and Login_consistency=0 and Arming_Consistency=0\n",
    "    and account_type_name='Security System'\n",
    "    \n",
    ")\n",
    "\n",
    ", ADC_data_Dec_2022 as \n",
    "\n",
    "(\n",
    "\n",
    "SELECT distinct\n",
    "    customer_id as cust_Dec,\n",
    "    Login_consistency as Login_consistency_Dec ,\n",
    "    Arming_Consistency as Arming_consistency_Dec,\n",
    "    1 as Nov_data_flag\n",
    "\n",
    "   FROM\n",
    "    `divgpras-pr-579355.ADC_Feature_Datastore.ADC_Master_Data`\n",
    "  WHERE\n",
    "    Month_Snapshot='2022-12-01'\n",
    "    AND dealer_name='TELUS Communications Inc.' \n",
    "    --and Login_consistency=0 and Arming_Consistency=0\n",
    "    and account_type_name='Security System'\n",
    "    \n",
    ")\n",
    "\n",
    "  \n",
    ",Telus_Deacts_Oct as (\n",
    "\n",
    "\n",
    "select distinct BILLING_ACCOUNT_NUM as BAN ,1 as Telus_Churn_Flag_Oct  \n",
    "from `divgpras-pr-579355.SHS.SHS_DEACTS_OCT2022`\n",
    "\n",
    ")\n",
    "\n",
    ",Telus_Deacts_Nov as (\n",
    "\n",
    "\n",
    "select distinct BILLING_ACCOUNT_NUM as BAN ,1 as Telus_Churn_Flag_Nov  \n",
    "from `divgpras-pr-579355.SHS.SHS_DEACTS_NOV2022`\n",
    "\n",
    ")\n",
    "\n",
    ",Telus_Deacts_Dec as (\n",
    "\n",
    "\n",
    "select distinct BILLING_ACCOUNT_NUM as BAN ,1 as Telus_Churn_Flag_Dec \n",
    "from `divgpras-pr-579355.SHS.SHS_DEACTS_DEC2022`\n",
    "\n",
    ")\n",
    "\n",
    "\n",
    "\n",
    "\n",
    "select * from ADC_data_Sep_2022 a\n",
    "left join ADC_data_Oct_2022 b\n",
    "on a.cust_Sep=b.cust_Oct\n",
    "left join ADC_data_Nov_2022 c\n",
    "on a.cust_Sep=c.cust_Nov\n",
    "left join Telus_Deacts_Oct d\n",
    "on a.BAN=d.BAN\n",
    "left join Telus_Deacts_Nov e\n",
    "on a.BAN=e.BAN\n",
    "left join Telus_Deacts_Dec f\n",
    "on a.BAN=f.BAN\n",
    "\n",
    "\n",
    "\n",
    "\n",
    "\n",
    "\n",
    "'''"
   ]
  },
  {
   "cell_type": "code",
   "execution_count": null,
   "id": "f5c458c3-3137-47d5-b54a-0adaa17ea5df",
   "metadata": {},
   "outputs": [],
   "source": []
  },
  {
   "cell_type": "code",
   "execution_count": null,
   "id": "98069f29-5f6c-4a68-8894-bd1dade324a7",
   "metadata": {},
   "outputs": [],
   "source": [
    "DF=extract_bq_data(bq_client, sql=Query)"
   ]
  },
  {
   "cell_type": "code",
   "execution_count": null,
   "id": "616c4265-ba7c-46a3-8464-6593392fec02",
   "metadata": {},
   "outputs": [],
   "source": [
    "DF.info()"
   ]
  },
  {
   "cell_type": "code",
   "execution_count": null,
   "id": "49284ddf-2ff9-4f89-91eb-c46badfc7eba",
   "metadata": {},
   "outputs": [],
   "source": [
    "# DF.fillna(0,inplace=True)"
   ]
  },
  {
   "cell_type": "code",
   "execution_count": null,
   "id": "61ad44ef-cb5e-47ea-9be1-ba09a844d64b",
   "metadata": {},
   "outputs": [],
   "source": [
    "# DF['Oct_data_flag'].fillna(0,inplace=True)"
   ]
  },
  {
   "cell_type": "code",
   "execution_count": null,
   "id": "af98fa2f-5efd-48c1-bc03-a71cb1430c00",
   "metadata": {},
   "outputs": [],
   "source": [
    "# DF['Nov_data_flag'].fillna(0,inplace=True)"
   ]
  },
  {
   "cell_type": "code",
   "execution_count": null,
   "id": "e8dd4ae3-6335-41b0-9fd6-6fc0b2646bda",
   "metadata": {},
   "outputs": [],
   "source": [
    "DF['Oct_data_flag'].value_counts(normalize=True)*100"
   ]
  },
  {
   "cell_type": "code",
   "execution_count": null,
   "id": "482fe937-f6c8-437b-81da-3d62f3dd4ba2",
   "metadata": {},
   "outputs": [],
   "source": [
    "DF['Nov_data_flag'].value_counts(normalize=True)*100"
   ]
  },
  {
   "cell_type": "code",
   "execution_count": null,
   "id": "b2c59b11-9d4e-4e14-9d56-a6845badc44e",
   "metadata": {},
   "outputs": [],
   "source": [
    "# pd.DataFrame(DF_monitored.groupby(['Segment','Best_Practice_All']).agg(\n",
    "    \n",
    "#     Customer_count= ('customer_id','count'),\n",
    "#     Customer_count_1= ('customer_id','nunique'),\n",
    "#     Churn_total=('Telus_Churn_Flag',lambda x: x.sum()),\n",
    "#     Churn_rate=('Telus_Churn_Flag',lambda x: x.mean()*100)"
   ]
  },
  {
   "cell_type": "code",
   "execution_count": null,
   "id": "aec1e7c7-cdf6-489e-a788-18bd0f79e368",
   "metadata": {},
   "outputs": [],
   "source": [
    "def Arming_category_making(var):\n",
    "    \n",
    "    if var==0:\n",
    "        return 'Arming_0%'\n",
    "    elif var>0 and var<=20 :\n",
    "        return 'Arming_0_20%%'\n",
    "    elif var>20 and var<=50 :\n",
    "        return 'Arming_20_50%%'\n",
    "    elif var>50:\n",
    "        return 'Arming_50_more%'\n",
    "    else:\n",
    "        return \"None_of_Above\""
   ]
  },
  {
   "cell_type": "code",
   "execution_count": null,
   "id": "b7a95051-47f8-4071-9449-26cf95c14613",
   "metadata": {},
   "outputs": [],
   "source": [
    "def login_category_making(var):\n",
    "    \n",
    "    if var==0:\n",
    "        return 'Login_0%'\n",
    "    elif var>0 and var<=20 :\n",
    "        return 'Login_0_20%%'\n",
    "    elif var>20 and var<=50 :\n",
    "        return 'Login_20_50%%'\n",
    "    elif var>50:\n",
    "        return 'Login_50_more%'\n",
    "    else:\n",
    "        return \"None_of_Above\""
   ]
  },
  {
   "cell_type": "code",
   "execution_count": null,
   "id": "46a541de-1e61-4979-b35a-cab464b5dc78",
   "metadata": {},
   "outputs": [],
   "source": [
    "# def login_amring_segment_making(row):\n",
    "    \n",
    "#     if row['Arming_category_Oct']=='Arming_0%' and row['Login_category_Oct']=='Login_0%':\n",
    "#         return \n",
    "        "
   ]
  },
  {
   "cell_type": "code",
   "execution_count": null,
   "id": "c3ef477a-ac20-4c40-a3ff-e93e4c4f1842",
   "metadata": {},
   "outputs": [],
   "source": [
    "DF['Arming_category_Sep']=DF['Arming_consistency_sep'].apply(Arming_category_making)\n",
    "DF['Arming_category_Oct']=DF['Arming_consistency_Oct'].apply(Arming_category_making)\n",
    "DF['Arming_category_Nov']=DF['Arming_consistency_Dec'].apply(Arming_category_making)\n",
    "\n",
    "\n",
    "DF['Login_category_Sep']=DF['Login_consistency_sep'].apply(login_category_making)\n",
    "DF['Login_category_Oct']=DF['Login_consistency_Oct'].apply(login_category_making)\n",
    "DF['Login_category_Nov']=DF['Login_consistency_Dec'].apply(login_category_making)\n",
    "\n",
    "# DF['Arming_category_Sep']=DF.apply(Arming_category_making,axis=1)"
   ]
  },
  {
   "cell_type": "code",
   "execution_count": null,
   "id": "4f8f04ff-f862-43b6-b02b-f8a38ae1f083",
   "metadata": {},
   "outputs": [],
   "source": [
    "DF.head()"
   ]
  },
  {
   "cell_type": "code",
   "execution_count": null,
   "id": "bc32c8a8-d3f7-4f23-bf36-22c141080c36",
   "metadata": {},
   "outputs": [],
   "source": [
    "DF['Arming_category_Sep'].value_counts(),DF['Login_category_Sep'].value_counts()"
   ]
  },
  {
   "cell_type": "code",
   "execution_count": null,
   "id": "ed9d3828-1ce4-4402-bd35-cedeeb564995",
   "metadata": {},
   "outputs": [],
   "source": [
    "DF.to_csv('Telus_Arming_login_MoM_analysis.csv',index=False)"
   ]
  },
  {
   "cell_type": "code",
   "execution_count": null,
   "id": "fa4c1a5a-7428-4554-a06e-a733d7758d28",
   "metadata": {},
   "outputs": [],
   "source": [
    "pd.DataFrame(DF.groupby(['Login_category_Oct','Login_category_Nov','Arming_category_Oct','Arming_category_Nov']).agg(\n",
    "    \n",
    "    Customer_count= ('cust_Sep','count'),\n",
    "    Customer_count_1= ('cust_Sep','nunique'),\n",
    "    # # Customer_Share= ('customer_id',lambda x:x.count()*100/Merge_DF_4.shape[0])\n",
    "    # Churn_total=('Telus_Churn_Flag',lambda x: x.sum()),\n",
    "    # Churn_rate=('Telus_Churn_Flag',lambda x: x.mean()*100)\n",
    ").reset_index())"
   ]
  },
  {
   "cell_type": "code",
   "execution_count": null,
   "id": "3515488b-59fb-4fe2-8969-d8979188ece0",
   "metadata": {},
   "outputs": [],
   "source": [
    "rep_query='''\n",
    "\n",
    "select distinct customer_id,rep_id\n",
    "from `cio-datahub-enterprise-pr-183a.src_adc.bq_customer_account_details`\n",
    "where date(last_updt_ts)='2022-10-31'\n",
    "\n",
    "'''"
   ]
  },
  {
   "cell_type": "code",
   "execution_count": null,
   "id": "1f7a65e6-6ebf-4fec-a9e8-fbdb31dbf694",
   "metadata": {},
   "outputs": [],
   "source": [
    "rep_DF=extract_bq_data(bq_client, sql=rep_query)"
   ]
  },
  {
   "cell_type": "code",
   "execution_count": null,
   "id": "4f2cc156-b67b-41d9-99dc-cf721ae2c621",
   "metadata": {},
   "outputs": [],
   "source": [
    "rep_DF.info()"
   ]
  },
  {
   "cell_type": "code",
   "execution_count": null,
   "id": "e3757aac-90ab-4fc6-ad47-a703e692c353",
   "metadata": {},
   "outputs": [],
   "source": [
    "rep_DF.to_csv('ADC_rep_data.csv',index=False)"
   ]
  },
  {
   "cell_type": "code",
   "execution_count": null,
   "id": "6dacdb45-d52c-4ab4-b230-4a1bd902b1fd",
   "metadata": {},
   "outputs": [],
   "source": [
    "Prizm_demo_query='''\n",
    "\n",
    "select distinct ban,prizm_name,lifestage_nm,med_income\n",
    "from `bi-srv-features-pr-ef5a93.ban_demogr.bq_ban_demogr_prizm`\n",
    "where date(part_dt)='2023-02-01'\n",
    "\n",
    "'''"
   ]
  },
  {
   "cell_type": "code",
   "execution_count": null,
   "id": "e2ca39cc-492f-4cfd-9b87-206fec0f86c1",
   "metadata": {},
   "outputs": [],
   "source": [
    "prizm_DF=extract_bq_data(bq_client, sql=Prizm_demo_query)"
   ]
  },
  {
   "cell_type": "code",
   "execution_count": null,
   "id": "99008c7f-f4b7-43e0-afa9-76ca50e5d236",
   "metadata": {},
   "outputs": [],
   "source": [
    "prizm_DF.info()"
   ]
  },
  {
   "cell_type": "code",
   "execution_count": null,
   "id": "c26f33b5-ea3a-444b-baa8-f2fe6cb746db",
   "metadata": {},
   "outputs": [],
   "source": [
    "Telus_Oct_cust_list=pd.read_csv('Telus_Oct_cust_list.csv')"
   ]
  },
  {
   "cell_type": "code",
   "execution_count": null,
   "id": "9cb8467d-1afd-4b8e-8b8c-a9be022f98c0",
   "metadata": {},
   "outputs": [],
   "source": [
    "Telus_Oct_cust_list.info()"
   ]
  },
  {
   "cell_type": "code",
   "execution_count": null,
   "id": "4c42bfb6-04e1-4aca-b368-ec0ab2c1e45c",
   "metadata": {},
   "outputs": [],
   "source": [
    "Telus_Oct_cust_list_prizm=Telus_Oct_cust_list.merge(prizm_DF,left_on='BAN',right_on='ban',how='left')"
   ]
  },
  {
   "cell_type": "code",
   "execution_count": null,
   "id": "90417631-987a-4eb4-bed1-6b016e4a1f2d",
   "metadata": {},
   "outputs": [],
   "source": [
    "Telus_Oct_cust_list_prizm.info()"
   ]
  },
  {
   "cell_type": "code",
   "execution_count": null,
   "id": "8a8be516-0464-4821-a61f-5686b9f5a5f9",
   "metadata": {},
   "outputs": [],
   "source": [
    "Telus_Oct_cust_list_prizm.to_csv('Prizm_data.csv',index=False)"
   ]
  },
  {
   "cell_type": "code",
   "execution_count": null,
   "id": "4d7e8634-6cca-438a-baef-8e34c7d30c29",
   "metadata": {},
   "outputs": [],
   "source": []
  }
 ],
 "metadata": {
  "kernelspec": {
   "display_name": "Python 3 (ipykernel)",
   "language": "python",
   "name": "python3"
  },
  "language_info": {
   "codemirror_mode": {
    "name": "ipython",
    "version": 3
   },
   "file_extension": ".py",
   "mimetype": "text/x-python",
   "name": "python",
   "nbconvert_exporter": "python",
   "pygments_lexer": "ipython3",
   "version": "3.8.12"
  }
 },
 "nbformat": 4,
 "nbformat_minor": 5
}
