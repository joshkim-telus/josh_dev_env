{
 "cells": [
  {
   "cell_type": "code",
   "execution_count": 547,
   "id": "e9f080a9-4073-4aab-89a3-b6932f49ee2d",
   "metadata": {},
   "outputs": [],
   "source": [
    "#### import global modules\n",
    "import os\n",
    "import sys\n",
    "import pandas as pd\n",
    "import numpy as np\n",
    "from pathlib import Path\n",
    "from yaml import safe_load\n",
    "import google.oauth2.credentials\n",
    "from google.cloud import bigquery\n",
    "import gc\n",
    "\n",
    "# Set global vars\n",
    "pth_project = Path(os.getcwd().split('notebooks')[0])\n",
    "pth_data = pth_project / 'data'\n",
    "pth_queries = pth_project / 'core' / 'queries'\n",
    "pth_creds = pth_project / 'conf' / 'local' / 'project_config.yaml'\n",
    "sys.path.insert(0, str(pth_project))\n",
    "d_project_config = safe_load(pth_creds.open())\n",
    "# d_params = safe_load((pth_project / 'core' / 'parameters' / 'common.yaml').open())['data_extract']\n",
    "\n",
    "# import local modules\n",
    "from core.utils.gcp import connect_bq_services\n",
    "# from core.etl.extract import extract_bq_data, extract_pr_codes, format_conv_df, filter_convs\n",
    "\n",
    "# Connect to google services\n",
    "bq_client = connect_bq_services(d_project_config['gcp-project-name'])\n",
    "pd.options.display.max_rows = 100"
   ]
  },
  {
   "cell_type": "code",
   "execution_count": 548,
   "id": "22661801-01e6-4f2c-a4bd-d0f2fe241aa0",
   "metadata": {},
   "outputs": [],
   "source": [
    "def extract_bq_data(bq_client, sql=None, pth_query=None):\n",
    "    if sql is not None:\n",
    "        df = bq_client.query(sql).to_dataframe()\n",
    "    elif pth_query is not None:\n",
    "        sql = pth_query.read_text()\n",
    "        df = bq_client.query(sql).to_dataframe()\n",
    "    else:\n",
    "        raise ValueError('`sql` or `pth_query` should be set')  \n",
    "    return df"
   ]
  },
  {
   "cell_type": "code",
   "execution_count": 549,
   "id": "7b00ff7b-8e9f-4035-a0ad-15da6b5474ca",
   "metadata": {},
   "outputs": [],
   "source": [
    "Telus_Customer_details='''\n",
    "\n",
    "\n",
    "\n",
    "with ADC_customer_base as(\n",
    "\n",
    "SELECT distinct customer_id,dealer_customer_id,dealer_name,account_type_name,customer_type_name\n",
    "FROM `cio-datahub-enterprise-pr-183a.src_adc.bq_customer_account_details` \n",
    "where date(last_updt_ts) = '2022-10-31'\n",
    "--and account_type_name!='Standalone'\n",
    "--and customer_type_name='Customer'\n",
    "and dealer_name='TELUS Communications Inc.'\n",
    "QUALIFY ROW_NUMBER() OVER (PARTITION BY dealer_customer_id ORDER BY last_updt_ts DESC) = 1\n",
    "--order by dealer_name,join_date,customer_id\n",
    ")\n",
    ",\n",
    "\n",
    "Telus_customers as\n",
    "(\n",
    "select bacct_bus_bacct_num,bacct_billg_acct_id,cust_bus_cust_id,pi_prod_instnc_typ_cd,pi_prod_instnc_stat_ts,prod_instnc_ts,pi_cntrct_end_ts as contract_end_date\n",
    "from `cio-datahub-enterprise-pr-183a.ent_cust_cust.bq_prod_instnc_snpsht` \n",
    "WHERE DATE(prod_instnc_ts) = \"2022-10-31\" #Snapshot of the last day of the month\n",
    "and pi_prod_instnc_typ_cd ='SMHM' #Serice type\n",
    "and bus_prod_instnc_src_id = 1001 #BANs that are for home services\n",
    "and pi_prod_instnc_stat_cd in ('A')\n",
    "and  consldt_cust_typ_cd = 'R'\n",
    "QUALIFY ROW_NUMBER() OVER (PARTITION BY cust_bus_cust_id ORDER BY prod_instnc_ts DESC) = 1\n",
    "order by cust_bus_cust_id\n",
    "\n",
    ")\n",
    "\n",
    "\n",
    ",Telus_internet_customers as \n",
    "(\n",
    "\n",
    "select distinct (customer_id) as cust_id_telus,Telus_internet_flag from `divgpras-pr-579355.ADC_updated.Telus_internet_31Oct2022`\n",
    "\n",
    ")\n",
    "\n",
    "\n",
    "\n",
    "select * from ADC_customer_base as ADC\n",
    "inner join Telus_customers as Telus\n",
    "on ADC.dealer_customer_id=Telus.cust_bus_cust_id\n",
    "left join Telus_internet_customers\n",
    "on ADC.customer_id=Telus_internet_customers.cust_id_telus\n",
    "\n",
    "'''"
   ]
  },
  {
   "cell_type": "code",
   "execution_count": 550,
   "id": "4d5d5f46-a481-42fe-8cd7-8683017ae4ec",
   "metadata": {},
   "outputs": [],
   "source": [
    "Data_Oct2022=extract_bq_data(bq_client, sql=Telus_Customer_details)"
   ]
  },
  {
   "cell_type": "code",
   "execution_count": 552,
   "id": "1cac255f-3e45-4195-9f1d-4c7287e5bf67",
   "metadata": {},
   "outputs": [
    {
     "name": "stdout",
     "output_type": "stream",
     "text": [
      "<class 'pandas.core.frame.DataFrame'>\n",
      "RangeIndex: 326670 entries, 0 to 326669\n",
      "Data columns (total 14 columns):\n",
      " #   Column                  Non-Null Count   Dtype \n",
      "---  ------                  --------------   ----- \n",
      " 0   customer_id             326670 non-null  Int64 \n",
      " 1   dealer_customer_id      326670 non-null  object\n",
      " 2   dealer_name             326670 non-null  object\n",
      " 3   account_type_name       326670 non-null  object\n",
      " 4   customer_type_name      326670 non-null  object\n",
      " 5   bacct_bus_bacct_num     326670 non-null  Int64 \n",
      " 6   bacct_billg_acct_id     326670 non-null  Int64 \n",
      " 7   cust_bus_cust_id        326670 non-null  object\n",
      " 8   pi_prod_instnc_typ_cd   326670 non-null  object\n",
      " 9   pi_prod_instnc_stat_ts  326670 non-null  object\n",
      " 10  prod_instnc_ts          326670 non-null  object\n",
      " 11  contract_end_date       326670 non-null  object\n",
      " 12  cust_id_telus           230927 non-null  Int64 \n",
      " 13  Telus_internet_flag     230927 non-null  Int64 \n",
      "dtypes: Int64(5), object(9)\n",
      "memory usage: 36.4+ MB\n"
     ]
    }
   ],
   "source": [
    "Data_Oct2022.info()"
   ]
  },
  {
   "cell_type": "code",
   "execution_count": 553,
   "id": "63799ea7-3671-4a3e-a4c3-2447d8cfc0e9",
   "metadata": {},
   "outputs": [],
   "source": [
    "# Data_Oct2022['Telus_Churn_Flag'].sum()"
   ]
  },
  {
   "cell_type": "code",
   "execution_count": 554,
   "id": "effbe60e-d14d-4045-9225-611085d20795",
   "metadata": {},
   "outputs": [
    {
     "data": {
      "text/plain": [
       "230927"
      ]
     },
     "execution_count": 554,
     "metadata": {},
     "output_type": "execute_result"
    }
   ],
   "source": [
    "Data_Oct2022['Telus_internet_flag'].sum()"
   ]
  },
  {
   "cell_type": "code",
   "execution_count": 555,
   "id": "3c0d809c-9170-4386-99ad-a3c4212592ac",
   "metadata": {},
   "outputs": [],
   "source": [
    "# Data_Oct2022['Telus_Churn_Flag'].fillna(0,inplace=True)"
   ]
  },
  {
   "cell_type": "code",
   "execution_count": 556,
   "id": "83776228-f157-499f-8f20-3b696dae0bcc",
   "metadata": {},
   "outputs": [],
   "source": [
    "Data_Oct2022['Telus_internet_flag'].fillna(0,inplace=True)"
   ]
  },
  {
   "cell_type": "code",
   "execution_count": 557,
   "id": "22065bee-a00f-4e6b-9673-9ca438e0c2a6",
   "metadata": {},
   "outputs": [
    {
     "data": {
      "text/plain": [
       "1    70.691217\n",
       "0    29.308783\n",
       "Name: Telus_internet_flag, dtype: Float64"
      ]
     },
     "execution_count": 557,
     "metadata": {},
     "output_type": "execute_result"
    }
   ],
   "source": [
    "Data_Oct2022['Telus_internet_flag'].value_counts(normalize=True)*100"
   ]
  },
  {
   "cell_type": "code",
   "execution_count": 558,
   "id": "4b09483c-4ed1-4b91-a80d-7412cc0be886",
   "metadata": {},
   "outputs": [
    {
     "data": {
      "text/plain": [
       "0"
      ]
     },
     "execution_count": 558,
     "metadata": {},
     "output_type": "execute_result"
    }
   ],
   "source": [
    "Data_Oct2022['dealer_customer_id'].isna().sum()"
   ]
  },
  {
   "cell_type": "code",
   "execution_count": 559,
   "id": "b8021a36-14a0-4164-b8de-61fdadc6d18e",
   "metadata": {},
   "outputs": [
    {
     "data": {
      "text/plain": [
       "13900254    1\n",
       "13878651    1\n",
       "10369728    1\n",
       "13670506    1\n",
       "11935249    1\n",
       "           ..\n",
       "12090667    1\n",
       "12324607    1\n",
       "13124901    1\n",
       "11833060    1\n",
       "12864950    1\n",
       "Name: customer_id, Length: 326670, dtype: Int64"
      ]
     },
     "execution_count": 559,
     "metadata": {},
     "output_type": "execute_result"
    }
   ],
   "source": [
    "Data_Oct2022['customer_id'].value_counts()"
   ]
  },
  {
   "cell_type": "code",
   "execution_count": 560,
   "id": "183ca680-9f8c-4c11-9c53-cd944be1f307",
   "metadata": {},
   "outputs": [
    {
     "data": {
      "text/plain": [
       "100914267    1\n",
       "20790639     1\n",
       "2612908      1\n",
       "2591957      1\n",
       "2567689      1\n",
       "            ..\n",
       "18872049     1\n",
       "18828218     1\n",
       "1870974      1\n",
       "1865754      1\n",
       "99996141     1\n",
       "Name: dealer_customer_id, Length: 326670, dtype: int64"
      ]
     },
     "execution_count": 560,
     "metadata": {},
     "output_type": "execute_result"
    }
   ],
   "source": [
    "Data_Oct2022['dealer_customer_id'].value_counts()"
   ]
  },
  {
   "cell_type": "code",
   "execution_count": 561,
   "id": "9493b5dc-0fc8-4e21-bd3b-46f2ca13ae75",
   "metadata": {},
   "outputs": [
    {
     "data": {
      "text/plain": [
       "0.0"
      ]
     },
     "execution_count": 561,
     "metadata": {},
     "output_type": "execute_result"
    }
   ],
   "source": [
    "Data_Oct2022['bacct_bus_bacct_num'].isna().sum()*100/Data_Oct2022.shape[0]"
   ]
  },
  {
   "cell_type": "code",
   "execution_count": 562,
   "id": "6536d656-c9b6-4a25-8946-4f742c2fcb09",
   "metadata": {},
   "outputs": [
    {
     "data": {
      "text/html": [
       "<div>\n",
       "<style scoped>\n",
       "    .dataframe tbody tr th:only-of-type {\n",
       "        vertical-align: middle;\n",
       "    }\n",
       "\n",
       "    .dataframe tbody tr th {\n",
       "        vertical-align: top;\n",
       "    }\n",
       "\n",
       "    .dataframe thead th {\n",
       "        text-align: right;\n",
       "    }\n",
       "</style>\n",
       "<table border=\"1\" class=\"dataframe\">\n",
       "  <thead>\n",
       "    <tr style=\"text-align: right;\">\n",
       "      <th></th>\n",
       "      <th>dealer_name</th>\n",
       "      <th>Customer_count</th>\n",
       "      <th>Churn_internet_total</th>\n",
       "      <th>Churn_internet_rate</th>\n",
       "    </tr>\n",
       "  </thead>\n",
       "  <tbody>\n",
       "    <tr>\n",
       "      <th>0</th>\n",
       "      <td>TELUS Communications Inc.</td>\n",
       "      <td>326670</td>\n",
       "      <td>230927</td>\n",
       "      <td>70.691217</td>\n",
       "    </tr>\n",
       "  </tbody>\n",
       "</table>\n",
       "</div>"
      ],
      "text/plain": [
       "                 dealer_name  Customer_count  Churn_internet_total  \\\n",
       "0  TELUS Communications Inc.          326670                230927   \n",
       "\n",
       "   Churn_internet_rate  \n",
       "0            70.691217  "
      ]
     },
     "execution_count": 562,
     "metadata": {},
     "output_type": "execute_result"
    }
   ],
   "source": [
    "pd.DataFrame(Data_Oct2022.groupby(['dealer_name']).agg(\n",
    "    \n",
    "    Customer_count= ('customer_id','nunique'),\n",
    "    Churn_internet_total=('Telus_internet_flag',lambda x: x.sum()),\n",
    "    Churn_internet_rate=('Telus_internet_flag',lambda x: x.mean()*100))\n",
    "             .reset_index())"
   ]
  },
  {
   "cell_type": "code",
   "execution_count": 563,
   "id": "1f4dfc0c-19cf-4452-8b98-453734d102cb",
   "metadata": {},
   "outputs": [
    {
     "data": {
      "text/html": [
       "<div>\n",
       "<style scoped>\n",
       "    .dataframe tbody tr th:only-of-type {\n",
       "        vertical-align: middle;\n",
       "    }\n",
       "\n",
       "    .dataframe tbody tr th {\n",
       "        vertical-align: top;\n",
       "    }\n",
       "\n",
       "    .dataframe thead th {\n",
       "        text-align: right;\n",
       "    }\n",
       "</style>\n",
       "<table border=\"1\" class=\"dataframe\">\n",
       "  <thead>\n",
       "    <tr style=\"text-align: right;\">\n",
       "      <th></th>\n",
       "      <th>account_type_name</th>\n",
       "      <th>Customer_count</th>\n",
       "      <th>Churn_internet_total</th>\n",
       "      <th>Churn_internet_rate</th>\n",
       "    </tr>\n",
       "  </thead>\n",
       "  <tbody>\n",
       "    <tr>\n",
       "      <th>0</th>\n",
       "      <td>Awareness and Automation</td>\n",
       "      <td>82611</td>\n",
       "      <td>73563</td>\n",
       "      <td>89.047463</td>\n",
       "    </tr>\n",
       "    <tr>\n",
       "      <th>1</th>\n",
       "      <td>Security System</td>\n",
       "      <td>199060</td>\n",
       "      <td>124935</td>\n",
       "      <td>62.762484</td>\n",
       "    </tr>\n",
       "    <tr>\n",
       "      <th>2</th>\n",
       "      <td>Standalone</td>\n",
       "      <td>44999</td>\n",
       "      <td>32429</td>\n",
       "      <td>72.066046</td>\n",
       "    </tr>\n",
       "  </tbody>\n",
       "</table>\n",
       "</div>"
      ],
      "text/plain": [
       "          account_type_name  Customer_count  Churn_internet_total  \\\n",
       "0  Awareness and Automation           82611                 73563   \n",
       "1           Security System          199060                124935   \n",
       "2                Standalone           44999                 32429   \n",
       "\n",
       "   Churn_internet_rate  \n",
       "0            89.047463  \n",
       "1            62.762484  \n",
       "2            72.066046  "
      ]
     },
     "execution_count": 563,
     "metadata": {},
     "output_type": "execute_result"
    }
   ],
   "source": [
    "pd.DataFrame(Data_Oct2022.groupby(['account_type_name']).agg(\n",
    "    \n",
    "    Customer_count= ('customer_id','nunique'),\n",
    "    Churn_internet_total=('Telus_internet_flag',lambda x: x.sum()),\n",
    "    Churn_internet_rate=('Telus_internet_flag',lambda x: x.mean()*100))\n",
    "             .reset_index())"
   ]
  },
  {
   "cell_type": "code",
   "execution_count": 564,
   "id": "70ec6610-b96a-4bf0-8caf-59cf664e5b36",
   "metadata": {},
   "outputs": [
    {
     "data": {
      "text/html": [
       "<div>\n",
       "<style scoped>\n",
       "    .dataframe tbody tr th:only-of-type {\n",
       "        vertical-align: middle;\n",
       "    }\n",
       "\n",
       "    .dataframe tbody tr th {\n",
       "        vertical-align: top;\n",
       "    }\n",
       "\n",
       "    .dataframe thead th {\n",
       "        text-align: right;\n",
       "    }\n",
       "</style>\n",
       "<table border=\"1\" class=\"dataframe\">\n",
       "  <thead>\n",
       "    <tr style=\"text-align: right;\">\n",
       "      <th></th>\n",
       "      <th>customer_type_name</th>\n",
       "      <th>Customer_count</th>\n",
       "      <th>Churn_internet_total</th>\n",
       "      <th>Churn_internet_rate</th>\n",
       "    </tr>\n",
       "  </thead>\n",
       "  <tbody>\n",
       "    <tr>\n",
       "      <th>0</th>\n",
       "      <td>Commitment</td>\n",
       "      <td>4777</td>\n",
       "      <td>3473</td>\n",
       "      <td>72.702533</td>\n",
       "    </tr>\n",
       "    <tr>\n",
       "      <th>1</th>\n",
       "      <td>Customer</td>\n",
       "      <td>321791</td>\n",
       "      <td>227379</td>\n",
       "      <td>70.660460</td>\n",
       "    </tr>\n",
       "    <tr>\n",
       "      <th>2</th>\n",
       "      <td>Demo - Normal</td>\n",
       "      <td>99</td>\n",
       "      <td>75</td>\n",
       "      <td>75.757576</td>\n",
       "    </tr>\n",
       "    <tr>\n",
       "      <th>3</th>\n",
       "      <td>From Recycle</td>\n",
       "      <td>3</td>\n",
       "      <td>0</td>\n",
       "      <td>0.000000</td>\n",
       "    </tr>\n",
       "  </tbody>\n",
       "</table>\n",
       "</div>"
      ],
      "text/plain": [
       "  customer_type_name  Customer_count  Churn_internet_total  \\\n",
       "0         Commitment            4777                  3473   \n",
       "1           Customer          321791                227379   \n",
       "2      Demo - Normal              99                    75   \n",
       "3       From Recycle               3                     0   \n",
       "\n",
       "   Churn_internet_rate  \n",
       "0            72.702533  \n",
       "1            70.660460  \n",
       "2            75.757576  \n",
       "3             0.000000  "
      ]
     },
     "execution_count": 564,
     "metadata": {},
     "output_type": "execute_result"
    }
   ],
   "source": [
    "pd.DataFrame(Data_Oct2022.groupby(['customer_type_name']).agg(\n",
    "    \n",
    "    Customer_count= ('customer_id','nunique'),\n",
    "    Churn_internet_total=('Telus_internet_flag',lambda x: x.sum()),\n",
    "    Churn_internet_rate=('Telus_internet_flag',lambda x: x.mean()*100))\n",
    "             .reset_index())"
   ]
  },
  {
   "cell_type": "code",
   "execution_count": 565,
   "id": "7bd7f09e-ae30-43a0-a667-e7747ba4a786",
   "metadata": {},
   "outputs": [
    {
     "data": {
      "text/html": [
       "<div>\n",
       "<style scoped>\n",
       "    .dataframe tbody tr th:only-of-type {\n",
       "        vertical-align: middle;\n",
       "    }\n",
       "\n",
       "    .dataframe tbody tr th {\n",
       "        vertical-align: top;\n",
       "    }\n",
       "\n",
       "    .dataframe thead th {\n",
       "        text-align: right;\n",
       "    }\n",
       "</style>\n",
       "<table border=\"1\" class=\"dataframe\">\n",
       "  <thead>\n",
       "    <tr style=\"text-align: right;\">\n",
       "      <th></th>\n",
       "      <th>customer_type_name</th>\n",
       "      <th>account_type_name</th>\n",
       "      <th>Customer_count</th>\n",
       "      <th>Telus_matched_customers</th>\n",
       "      <th>Telus_internet_customers</th>\n",
       "      <th>Telus_internet_penetration</th>\n",
       "    </tr>\n",
       "  </thead>\n",
       "  <tbody>\n",
       "    <tr>\n",
       "      <th>0</th>\n",
       "      <td>Commitment</td>\n",
       "      <td>Awareness and Automation</td>\n",
       "      <td>3284</td>\n",
       "      <td>3284</td>\n",
       "      <td>2763</td>\n",
       "      <td>84.135201</td>\n",
       "    </tr>\n",
       "    <tr>\n",
       "      <th>1</th>\n",
       "      <td>Commitment</td>\n",
       "      <td>Security System</td>\n",
       "      <td>1484</td>\n",
       "      <td>1484</td>\n",
       "      <td>702</td>\n",
       "      <td>47.304582</td>\n",
       "    </tr>\n",
       "    <tr>\n",
       "      <th>2</th>\n",
       "      <td>Commitment</td>\n",
       "      <td>Standalone</td>\n",
       "      <td>9</td>\n",
       "      <td>9</td>\n",
       "      <td>8</td>\n",
       "      <td>88.888889</td>\n",
       "    </tr>\n",
       "    <tr>\n",
       "      <th>3</th>\n",
       "      <td>Customer</td>\n",
       "      <td>Awareness and Automation</td>\n",
       "      <td>79327</td>\n",
       "      <td>79327</td>\n",
       "      <td>70800</td>\n",
       "      <td>89.250823</td>\n",
       "    </tr>\n",
       "    <tr>\n",
       "      <th>4</th>\n",
       "      <td>Customer</td>\n",
       "      <td>Security System</td>\n",
       "      <td>197474</td>\n",
       "      <td>197474</td>\n",
       "      <td>124158</td>\n",
       "      <td>62.873087</td>\n",
       "    </tr>\n",
       "    <tr>\n",
       "      <th>5</th>\n",
       "      <td>Customer</td>\n",
       "      <td>Standalone</td>\n",
       "      <td>44990</td>\n",
       "      <td>44990</td>\n",
       "      <td>32421</td>\n",
       "      <td>72.062681</td>\n",
       "    </tr>\n",
       "    <tr>\n",
       "      <th>6</th>\n",
       "      <td>Demo - Normal</td>\n",
       "      <td>Security System</td>\n",
       "      <td>99</td>\n",
       "      <td>99</td>\n",
       "      <td>75</td>\n",
       "      <td>75.757576</td>\n",
       "    </tr>\n",
       "    <tr>\n",
       "      <th>7</th>\n",
       "      <td>From Recycle</td>\n",
       "      <td>Security System</td>\n",
       "      <td>3</td>\n",
       "      <td>3</td>\n",
       "      <td>0</td>\n",
       "      <td>0.000000</td>\n",
       "    </tr>\n",
       "  </tbody>\n",
       "</table>\n",
       "</div>"
      ],
      "text/plain": [
       "  customer_type_name         account_type_name  Customer_count  \\\n",
       "0         Commitment  Awareness and Automation            3284   \n",
       "1         Commitment           Security System            1484   \n",
       "2         Commitment                Standalone               9   \n",
       "3           Customer  Awareness and Automation           79327   \n",
       "4           Customer           Security System          197474   \n",
       "5           Customer                Standalone           44990   \n",
       "6      Demo - Normal           Security System              99   \n",
       "7       From Recycle           Security System               3   \n",
       "\n",
       "   Telus_matched_customers  Telus_internet_customers  \\\n",
       "0                     3284                      2763   \n",
       "1                     1484                       702   \n",
       "2                        9                         8   \n",
       "3                    79327                     70800   \n",
       "4                   197474                    124158   \n",
       "5                    44990                     32421   \n",
       "6                       99                        75   \n",
       "7                        3                         0   \n",
       "\n",
       "   Telus_internet_penetration  \n",
       "0                   84.135201  \n",
       "1                   47.304582  \n",
       "2                   88.888889  \n",
       "3                   89.250823  \n",
       "4                   62.873087  \n",
       "5                   72.062681  \n",
       "6                   75.757576  \n",
       "7                    0.000000  "
      ]
     },
     "execution_count": 565,
     "metadata": {},
     "output_type": "execute_result"
    }
   ],
   "source": [
    "pd.DataFrame(Data_Oct2022.groupby(['customer_type_name','account_type_name']).agg(\n",
    "    \n",
    "    Customer_count= ('customer_id','nunique'),\n",
    "    Telus_matched_customers=('cust_bus_cust_id','nunique'),\n",
    "    Telus_internet_customers=('Telus_internet_flag',lambda x: x.sum()),\n",
    "    Telus_internet_penetration=('Telus_internet_flag',lambda x: x.mean()*100))\n",
    "             .reset_index())"
   ]
  },
  {
   "cell_type": "code",
   "execution_count": 566,
   "id": "6ce6735b-a8b3-4291-b2e2-667bafaca18d",
   "metadata": {},
   "outputs": [],
   "source": [
    "# Data_Oct2022[Data_Oct2022['account_type_name']=='Standalone'][['customer_id','cust_bus_cust_id','account_type_name']]"
   ]
  },
  {
   "cell_type": "code",
   "execution_count": null,
   "id": "e716065e-b7a3-4a60-8af0-4943d9668ef2",
   "metadata": {},
   "outputs": [],
   "source": []
  },
  {
   "cell_type": "code",
   "execution_count": null,
   "id": "ea42e02f-1d2e-4d54-b03a-16d2f81556db",
   "metadata": {},
   "outputs": [],
   "source": []
  },
  {
   "cell_type": "code",
   "execution_count": 567,
   "id": "ef378ea9-5bd1-4257-b808-d70642693b74",
   "metadata": {},
   "outputs": [],
   "source": [
    "Best_Practices_Query= '''\n",
    "\n",
    "select * from `divgpras-pr-579355.ADC_updated.Best_Practices_Customers_latest`\n",
    "\n",
    "'''"
   ]
  },
  {
   "cell_type": "code",
   "execution_count": 568,
   "id": "b3c8b461-97b5-4c02-a67d-210d19b4c6b4",
   "metadata": {},
   "outputs": [],
   "source": [
    "Best_Practices_DF=extract_bq_data(bq_client, sql=Best_Practices_Query)"
   ]
  },
  {
   "cell_type": "code",
   "execution_count": 569,
   "id": "364c1533-0f74-4b7d-8b9a-01c5b80c3324",
   "metadata": {},
   "outputs": [
    {
     "data": {
      "text/html": [
       "<div>\n",
       "<style scoped>\n",
       "    .dataframe tbody tr th:only-of-type {\n",
       "        vertical-align: middle;\n",
       "    }\n",
       "\n",
       "    .dataframe tbody tr th {\n",
       "        vertical-align: top;\n",
       "    }\n",
       "\n",
       "    .dataframe thead th {\n",
       "        text-align: right;\n",
       "    }\n",
       "</style>\n",
       "<table border=\"1\" class=\"dataframe\">\n",
       "  <thead>\n",
       "    <tr style=\"text-align: right;\">\n",
       "      <th></th>\n",
       "      <th>customer_id</th>\n",
       "      <th>Best_partices_1</th>\n",
       "      <th>Best_partices_2</th>\n",
       "      <th>Best_partices_3</th>\n",
       "      <th>Best_partices_4</th>\n",
       "      <th>Best_partices_5</th>\n",
       "      <th>Best_partices_6</th>\n",
       "      <th>Best_Practice_All</th>\n",
       "      <th>Best_Practice_All_flag</th>\n",
       "    </tr>\n",
       "  </thead>\n",
       "  <tbody>\n",
       "    <tr>\n",
       "      <th>0</th>\n",
       "      <td>11254267</td>\n",
       "      <td>1</td>\n",
       "      <td>1</td>\n",
       "      <td>0</td>\n",
       "      <td>1</td>\n",
       "      <td>1</td>\n",
       "      <td>0</td>\n",
       "      <td>4</td>\n",
       "      <td>0</td>\n",
       "    </tr>\n",
       "    <tr>\n",
       "      <th>1</th>\n",
       "      <td>10445690</td>\n",
       "      <td>1</td>\n",
       "      <td>1</td>\n",
       "      <td>0</td>\n",
       "      <td>1</td>\n",
       "      <td>1</td>\n",
       "      <td>0</td>\n",
       "      <td>4</td>\n",
       "      <td>0</td>\n",
       "    </tr>\n",
       "    <tr>\n",
       "      <th>2</th>\n",
       "      <td>6579995</td>\n",
       "      <td>1</td>\n",
       "      <td>1</td>\n",
       "      <td>0</td>\n",
       "      <td>1</td>\n",
       "      <td>1</td>\n",
       "      <td>0</td>\n",
       "      <td>4</td>\n",
       "      <td>0</td>\n",
       "    </tr>\n",
       "    <tr>\n",
       "      <th>3</th>\n",
       "      <td>11253105</td>\n",
       "      <td>1</td>\n",
       "      <td>1</td>\n",
       "      <td>0</td>\n",
       "      <td>1</td>\n",
       "      <td>1</td>\n",
       "      <td>0</td>\n",
       "      <td>4</td>\n",
       "      <td>0</td>\n",
       "    </tr>\n",
       "    <tr>\n",
       "      <th>4</th>\n",
       "      <td>11253845</td>\n",
       "      <td>1</td>\n",
       "      <td>1</td>\n",
       "      <td>0</td>\n",
       "      <td>1</td>\n",
       "      <td>1</td>\n",
       "      <td>0</td>\n",
       "      <td>4</td>\n",
       "      <td>0</td>\n",
       "    </tr>\n",
       "  </tbody>\n",
       "</table>\n",
       "</div>"
      ],
      "text/plain": [
       "   customer_id  Best_partices_1  Best_partices_2  Best_partices_3  \\\n",
       "0     11254267                1                1                0   \n",
       "1     10445690                1                1                0   \n",
       "2      6579995                1                1                0   \n",
       "3     11253105                1                1                0   \n",
       "4     11253845                1                1                0   \n",
       "\n",
       "   Best_partices_4  Best_partices_5  Best_partices_6  Best_Practice_All  \\\n",
       "0                1                1                0                  4   \n",
       "1                1                1                0                  4   \n",
       "2                1                1                0                  4   \n",
       "3                1                1                0                  4   \n",
       "4                1                1                0                  4   \n",
       "\n",
       "   Best_Practice_All_flag  \n",
       "0                       0  \n",
       "1                       0  \n",
       "2                       0  \n",
       "3                       0  \n",
       "4                       0  "
      ]
     },
     "execution_count": 569,
     "metadata": {},
     "output_type": "execute_result"
    }
   ],
   "source": [
    "Best_Practices_DF.head()"
   ]
  },
  {
   "cell_type": "code",
   "execution_count": 570,
   "id": "06312983-8fb9-40b5-8dd0-549d2676fc28",
   "metadata": {},
   "outputs": [],
   "source": [
    "Arming_Query=  '''\n",
    "\n",
    "with date_sql as (\n",
    "select  count(distinct date(date)) as count_of_dates from `cio-datahub-enterprise-pr-183a.src_adc.bq_aggregate_daily_arming_commands`\n",
    "where date(date)< '2022-11-01' and date(date)>= '2022-10-01'\n",
    "\n",
    ")\n",
    "\n",
    "select id_cust as customer_id,sum(count_arm_commands) as sum_arm_commands,sum(count_disarm_commands) as sum_disarm_commands,count (distinct date(date)) as number_days_arming_disarming, (select count_of_dates from date_sql ) as count_of_dates_arming\n",
    "from `cio-datahub-enterprise-pr-183a.src_adc.bq_aggregate_daily_arming_commands`\n",
    "where date(date)< '2022-11-01' and date(date)>= '2022-10-01'\n",
    "group by customer_id\n",
    "order by number_days_arming_disarming desc\n",
    "\n",
    "'''"
   ]
  },
  {
   "cell_type": "code",
   "execution_count": 571,
   "id": "a0bb8420-c4ac-40c5-82be-cc61bbbd878d",
   "metadata": {},
   "outputs": [],
   "source": [
    "Arming_DF=extract_bq_data(bq_client, sql=Arming_Query)"
   ]
  },
  {
   "cell_type": "code",
   "execution_count": 572,
   "id": "d2f2290c-1dd1-4fda-a4b4-925921303a46",
   "metadata": {},
   "outputs": [
    {
     "name": "stdout",
     "output_type": "stream",
     "text": [
      "<class 'pandas.core.frame.DataFrame'>\n",
      "RangeIndex: 326507 entries, 0 to 326506\n",
      "Data columns (total 5 columns):\n",
      " #   Column                        Non-Null Count   Dtype\n",
      "---  ------                        --------------   -----\n",
      " 0   customer_id                   326507 non-null  Int64\n",
      " 1   sum_arm_commands              326507 non-null  Int64\n",
      " 2   sum_disarm_commands           326507 non-null  Int64\n",
      " 3   number_days_arming_disarming  326507 non-null  Int64\n",
      " 4   count_of_dates_arming         326507 non-null  Int64\n",
      "dtypes: Int64(5)\n",
      "memory usage: 14.0 MB\n"
     ]
    }
   ],
   "source": [
    "Arming_DF.info()"
   ]
  },
  {
   "cell_type": "code",
   "execution_count": 573,
   "id": "6ab99f89-296f-4332-bf03-a1f4ac1f749f",
   "metadata": {},
   "outputs": [],
   "source": [
    "\n",
    "max_number_arming_dates=Arming_DF['count_of_dates_arming'].max()\n",
    "Arming_DF['Arming_Consistency']=Arming_DF['number_days_arming_disarming'].apply(lambda x: x*100/max_number_arming_dates)\n"
   ]
  },
  {
   "cell_type": "code",
   "execution_count": 574,
   "id": "2bc84fae-a3af-48bf-84fc-0f770317817b",
   "metadata": {},
   "outputs": [
    {
     "data": {
      "text/plain": [
       "30"
      ]
     },
     "execution_count": 574,
     "metadata": {},
     "output_type": "execute_result"
    }
   ],
   "source": [
    "max_number_arming_dates"
   ]
  },
  {
   "cell_type": "code",
   "execution_count": 575,
   "id": "5026bd7f-e7ea-474f-a31b-ccf70e1c5977",
   "metadata": {},
   "outputs": [],
   "source": [
    "Arming_DF['Arming_Flag']=1"
   ]
  },
  {
   "cell_type": "code",
   "execution_count": 576,
   "id": "b63b3085-30b3-431d-bec6-c8a1bbe830d3",
   "metadata": {},
   "outputs": [],
   "source": [
    "Login_SQL='''\n",
    "\n",
    "with date_sql as (\n",
    "select  count(distinct date(login_dt_utc)) as count_of_dates from `cio-datahub-enterprise-pr-183a.src_adc.bq_customer_daily_logins`\n",
    "where date(login_dt_utc)< '2022-11-01' and date(login_dt_utc)>= '2022-10-01' \n",
    "\n",
    ")\n",
    "\n",
    "\n",
    "\n",
    "select customer_id,sum(login_count) as sum_login_count,count (distinct date(login_dt_utc)) as number_of_login_days, (select count_of_dates from date_sql ) as count_of_dates_logins\n",
    "from `cio-datahub-enterprise-pr-183a.src_adc.bq_customer_daily_logins`\n",
    "where date(login_dt_utc)< '2022-11-01' and date(login_dt_utc)>= '2022-10-01' \n",
    "group by customer_id\n",
    "order by number_of_login_days desc\n",
    "\n",
    "\n",
    "'''"
   ]
  },
  {
   "cell_type": "code",
   "execution_count": null,
   "id": "fb3c9ba8-43f4-424c-98bd-5a7a4c8d3b71",
   "metadata": {},
   "outputs": [],
   "source": []
  },
  {
   "cell_type": "code",
   "execution_count": 577,
   "id": "0b2bd982-6901-4d09-a69e-ce5e54e3e108",
   "metadata": {},
   "outputs": [],
   "source": [
    "Login_DF=extract_bq_data(bq_client, sql=Login_SQL)"
   ]
  },
  {
   "cell_type": "code",
   "execution_count": 578,
   "id": "14e77ccc-a385-4d65-b481-9d91c29f6e2b",
   "metadata": {},
   "outputs": [],
   "source": [
    "max_number_login_dates=Login_DF['count_of_dates_logins'].max()\n",
    "Login_DF['Login_Consistency']=Login_DF['number_of_login_days'].apply(lambda x: x*100/max_number_login_dates)"
   ]
  },
  {
   "cell_type": "code",
   "execution_count": 579,
   "id": "a4922f7d-13cd-4cc1-95ae-a2877de2456f",
   "metadata": {},
   "outputs": [
    {
     "data": {
      "text/plain": [
       "15"
      ]
     },
     "execution_count": 579,
     "metadata": {},
     "output_type": "execute_result"
    }
   ],
   "source": [
    "max_number_login_dates"
   ]
  },
  {
   "cell_type": "code",
   "execution_count": 580,
   "id": "15e76166-a66b-464b-8723-8c54cc1fe032",
   "metadata": {},
   "outputs": [
    {
     "data": {
      "text/html": [
       "<div>\n",
       "<style scoped>\n",
       "    .dataframe tbody tr th:only-of-type {\n",
       "        vertical-align: middle;\n",
       "    }\n",
       "\n",
       "    .dataframe tbody tr th {\n",
       "        vertical-align: top;\n",
       "    }\n",
       "\n",
       "    .dataframe thead th {\n",
       "        text-align: right;\n",
       "    }\n",
       "</style>\n",
       "<table border=\"1\" class=\"dataframe\">\n",
       "  <thead>\n",
       "    <tr style=\"text-align: right;\">\n",
       "      <th></th>\n",
       "      <th>customer_id</th>\n",
       "      <th>sum_login_count</th>\n",
       "      <th>number_of_login_days</th>\n",
       "      <th>count_of_dates_logins</th>\n",
       "      <th>Login_Consistency</th>\n",
       "    </tr>\n",
       "  </thead>\n",
       "  <tbody>\n",
       "    <tr>\n",
       "      <th>0</th>\n",
       "      <td>6971873</td>\n",
       "      <td>118</td>\n",
       "      <td>15</td>\n",
       "      <td>15</td>\n",
       "      <td>100.0</td>\n",
       "    </tr>\n",
       "    <tr>\n",
       "      <th>1</th>\n",
       "      <td>9455216</td>\n",
       "      <td>67</td>\n",
       "      <td>15</td>\n",
       "      <td>15</td>\n",
       "      <td>100.0</td>\n",
       "    </tr>\n",
       "    <tr>\n",
       "      <th>2</th>\n",
       "      <td>8265537</td>\n",
       "      <td>281</td>\n",
       "      <td>15</td>\n",
       "      <td>15</td>\n",
       "      <td>100.0</td>\n",
       "    </tr>\n",
       "    <tr>\n",
       "      <th>3</th>\n",
       "      <td>11002802</td>\n",
       "      <td>75</td>\n",
       "      <td>15</td>\n",
       "      <td>15</td>\n",
       "      <td>100.0</td>\n",
       "    </tr>\n",
       "    <tr>\n",
       "      <th>4</th>\n",
       "      <td>6988451</td>\n",
       "      <td>139</td>\n",
       "      <td>15</td>\n",
       "      <td>15</td>\n",
       "      <td>100.0</td>\n",
       "    </tr>\n",
       "  </tbody>\n",
       "</table>\n",
       "</div>"
      ],
      "text/plain": [
       "   customer_id  sum_login_count  number_of_login_days  count_of_dates_logins  \\\n",
       "0      6971873              118                    15                     15   \n",
       "1      9455216               67                    15                     15   \n",
       "2      8265537              281                    15                     15   \n",
       "3     11002802               75                    15                     15   \n",
       "4      6988451              139                    15                     15   \n",
       "\n",
       "   Login_Consistency  \n",
       "0              100.0  \n",
       "1              100.0  \n",
       "2              100.0  \n",
       "3              100.0  \n",
       "4              100.0  "
      ]
     },
     "execution_count": 580,
     "metadata": {},
     "output_type": "execute_result"
    }
   ],
   "source": [
    "Login_DF.head()"
   ]
  },
  {
   "cell_type": "code",
   "execution_count": 581,
   "id": "730eb625-d4df-4d1d-a22b-1dbbfd243116",
   "metadata": {},
   "outputs": [],
   "source": [
    "Camera_TC_issue_query='''\n",
    "\n",
    "select dealer_name,customer_id,unit_id,device_id,trouble_condition_name,trouble_condition_group_id,trouble_condition_group_desc, start_date_utc,end_date_utc\n",
    "from `cio-datahub-enterprise-pr-183a.src_adc.bq_troublecondition_data`\n",
    "where trouble_condition_start_ind='Y'and trouble_condition_closed_ind='Y' \n",
    "and date(start_date_utc) >= '2022-08-01' and date(start_date_utc) <'2022-11-01' \n",
    "and trouble_condition_name in ('CameraNotReachable','CameraNotCommunicating','BroadbandCommFailure')\n",
    "\n",
    "\n",
    "'''"
   ]
  },
  {
   "cell_type": "code",
   "execution_count": 582,
   "id": "981facca-982e-4b56-8889-fe039acd9cc2",
   "metadata": {},
   "outputs": [],
   "source": [
    "Camera_TC= extract_bq_data(bq_client, sql=Camera_TC_issue_query)"
   ]
  },
  {
   "cell_type": "code",
   "execution_count": 583,
   "id": "c481073e-f3e8-4f48-bb40-cd35cb135f30",
   "metadata": {},
   "outputs": [],
   "source": [
    "Camera_TC['count_instance']=1\n",
    "\n",
    "TC_pivot_table=pd.pivot_table(Camera_TC, values=['count_instance'], index=['customer_id'], columns='trouble_condition_name',\n",
    "                          aggfunc={'count_instance': np.sum})"
   ]
  },
  {
   "cell_type": "code",
   "execution_count": 584,
   "id": "73b71a46-1939-4c39-80cf-2d9437574e4f",
   "metadata": {},
   "outputs": [],
   "source": [
    "TC_pivot_table=TC_pivot_table.reset_index()"
   ]
  },
  {
   "cell_type": "code",
   "execution_count": 585,
   "id": "3ed6ac04-07d4-4972-afc1-da6d97ec1470",
   "metadata": {},
   "outputs": [
    {
     "data": {
      "text/html": [
       "<div>\n",
       "<style scoped>\n",
       "    .dataframe tbody tr th:only-of-type {\n",
       "        vertical-align: middle;\n",
       "    }\n",
       "\n",
       "    .dataframe tbody tr th {\n",
       "        vertical-align: top;\n",
       "    }\n",
       "\n",
       "    .dataframe thead tr th {\n",
       "        text-align: left;\n",
       "    }\n",
       "</style>\n",
       "<table border=\"1\" class=\"dataframe\">\n",
       "  <thead>\n",
       "    <tr>\n",
       "      <th></th>\n",
       "      <th>customer_id</th>\n",
       "      <th colspan=\"3\" halign=\"left\">count_instance</th>\n",
       "    </tr>\n",
       "    <tr>\n",
       "      <th>trouble_condition_name</th>\n",
       "      <th></th>\n",
       "      <th>BroadbandCommFailure</th>\n",
       "      <th>CameraNotCommunicating</th>\n",
       "      <th>CameraNotReachable</th>\n",
       "    </tr>\n",
       "  </thead>\n",
       "  <tbody>\n",
       "    <tr>\n",
       "      <th>0</th>\n",
       "      <td>213860</td>\n",
       "      <td>44.0</td>\n",
       "      <td>NaN</td>\n",
       "      <td>NaN</td>\n",
       "    </tr>\n",
       "    <tr>\n",
       "      <th>1</th>\n",
       "      <td>218873</td>\n",
       "      <td>NaN</td>\n",
       "      <td>NaN</td>\n",
       "      <td>2.0</td>\n",
       "    </tr>\n",
       "    <tr>\n",
       "      <th>2</th>\n",
       "      <td>229153</td>\n",
       "      <td>NaN</td>\n",
       "      <td>NaN</td>\n",
       "      <td>1.0</td>\n",
       "    </tr>\n",
       "    <tr>\n",
       "      <th>3</th>\n",
       "      <td>233626</td>\n",
       "      <td>5.0</td>\n",
       "      <td>NaN</td>\n",
       "      <td>NaN</td>\n",
       "    </tr>\n",
       "    <tr>\n",
       "      <th>4</th>\n",
       "      <td>287850</td>\n",
       "      <td>10.0</td>\n",
       "      <td>NaN</td>\n",
       "      <td>NaN</td>\n",
       "    </tr>\n",
       "  </tbody>\n",
       "</table>\n",
       "</div>"
      ],
      "text/plain": [
       "                       customer_id       count_instance  \\\n",
       "trouble_condition_name             BroadbandCommFailure   \n",
       "0                           213860                 44.0   \n",
       "1                           218873                  NaN   \n",
       "2                           229153                  NaN   \n",
       "3                           233626                  5.0   \n",
       "4                           287850                 10.0   \n",
       "\n",
       "                                                                  \n",
       "trouble_condition_name CameraNotCommunicating CameraNotReachable  \n",
       "0                                         NaN                NaN  \n",
       "1                                         NaN                2.0  \n",
       "2                                         NaN                1.0  \n",
       "3                                         NaN                NaN  \n",
       "4                                         NaN                NaN  "
      ]
     },
     "execution_count": 585,
     "metadata": {},
     "output_type": "execute_result"
    }
   ],
   "source": [
    "TC_pivot_table.head()"
   ]
  },
  {
   "cell_type": "code",
   "execution_count": 586,
   "id": "096a6168-905c-41d3-a93e-f21820e10968",
   "metadata": {},
   "outputs": [],
   "source": [
    "TC_pivot_table.columns=['customer_id','BroadbandCommFailure_count','CameraNotCommunicating_count','CameraNotReachable_count']"
   ]
  },
  {
   "cell_type": "code",
   "execution_count": 587,
   "id": "9aa1f874-ba48-448e-af41-b791ba7d5073",
   "metadata": {},
   "outputs": [],
   "source": [
    "TC_pivot_table.fillna(0,inplace=True)"
   ]
  },
  {
   "cell_type": "code",
   "execution_count": 588,
   "id": "55bf777a-287f-4ab3-b297-807d05b87cd1",
   "metadata": {},
   "outputs": [],
   "source": [
    "TC_pivot_table['BroadbandCommFailure_Flag']=TC_pivot_table['BroadbandCommFailure_count'].apply(lambda x: 1 if x>0 else 0)\n",
    "TC_pivot_table['CameraNotCommunicating_Flag']=TC_pivot_table['CameraNotCommunicating_count'].apply(lambda x: 1 if x>0 else 0)\n",
    "TC_pivot_table['CameraNotReachable_Flag']=TC_pivot_table['CameraNotReachable_count'].apply(lambda x: 1 if x>0 else 0)\n"
   ]
  },
  {
   "cell_type": "code",
   "execution_count": null,
   "id": "e638d0f4-6b32-47b3-b2a0-2db5113180d7",
   "metadata": {},
   "outputs": [],
   "source": []
  },
  {
   "cell_type": "code",
   "execution_count": 589,
   "id": "76f677d9-ca05-4b2e-b8db-de371f92d5cb",
   "metadata": {},
   "outputs": [],
   "source": [
    "Merge_DF=Data_Oct2022.merge(Best_Practices_DF,on='customer_id',how='left')"
   ]
  },
  {
   "cell_type": "code",
   "execution_count": 590,
   "id": "385789bc-faa5-4705-ba86-69bf2c85dece",
   "metadata": {},
   "outputs": [],
   "source": [
    "Merge_DF_1=Merge_DF.merge(Arming_DF,on='customer_id',how='left')"
   ]
  },
  {
   "cell_type": "code",
   "execution_count": 591,
   "id": "e8a29604-3587-4c90-8eac-d0a8a21379ac",
   "metadata": {},
   "outputs": [],
   "source": [
    "Merge_DF_2=Merge_DF_1.merge(Login_DF,on='customer_id',how='left')"
   ]
  },
  {
   "cell_type": "code",
   "execution_count": 592,
   "id": "bf4e05e8-fa90-4670-9340-131e99ff7340",
   "metadata": {},
   "outputs": [],
   "source": [
    "Merge_DF_3=Merge_DF_2.merge(TC_pivot_table,on='customer_id',how='left')"
   ]
  },
  {
   "cell_type": "code",
   "execution_count": 593,
   "id": "488f5417-5433-45fd-8b05-8a3aa25524e4",
   "metadata": {},
   "outputs": [
    {
     "name": "stdout",
     "output_type": "stream",
     "text": [
      "<class 'pandas.core.frame.DataFrame'>\n",
      "Int64Index: 326670 entries, 0 to 326669\n",
      "Data columns (total 38 columns):\n",
      " #   Column                        Non-Null Count   Dtype  \n",
      "---  ------                        --------------   -----  \n",
      " 0   customer_id                   326670 non-null  Int64  \n",
      " 1   dealer_customer_id            326670 non-null  object \n",
      " 2   dealer_name                   326670 non-null  object \n",
      " 3   account_type_name             326670 non-null  object \n",
      " 4   customer_type_name            326670 non-null  object \n",
      " 5   bacct_bus_bacct_num           326670 non-null  Int64  \n",
      " 6   bacct_billg_acct_id           326670 non-null  Int64  \n",
      " 7   cust_bus_cust_id              326670 non-null  object \n",
      " 8   pi_prod_instnc_typ_cd         326670 non-null  object \n",
      " 9   pi_prod_instnc_stat_ts        326670 non-null  object \n",
      " 10  prod_instnc_ts                326670 non-null  object \n",
      " 11  contract_end_date             326670 non-null  object \n",
      " 12  cust_id_telus                 230927 non-null  Int64  \n",
      " 13  Telus_internet_flag           326670 non-null  Int64  \n",
      " 14  Best_partices_1               285141 non-null  Int64  \n",
      " 15  Best_partices_2               285141 non-null  Int64  \n",
      " 16  Best_partices_3               285141 non-null  Int64  \n",
      " 17  Best_partices_4               285141 non-null  Int64  \n",
      " 18  Best_partices_5               285141 non-null  Int64  \n",
      " 19  Best_partices_6               285141 non-null  Int64  \n",
      " 20  Best_Practice_All             285141 non-null  Int64  \n",
      " 21  Best_Practice_All_flag        285141 non-null  Int64  \n",
      " 22  sum_arm_commands              118984 non-null  Int64  \n",
      " 23  sum_disarm_commands           118984 non-null  Int64  \n",
      " 24  number_days_arming_disarming  118984 non-null  Int64  \n",
      " 25  count_of_dates_arming         118984 non-null  Int64  \n",
      " 26  Arming_Consistency            118984 non-null  float64\n",
      " 27  Arming_Flag                   118984 non-null  float64\n",
      " 28  sum_login_count               153986 non-null  Int64  \n",
      " 29  number_of_login_days          153986 non-null  Int64  \n",
      " 30  count_of_dates_logins         153986 non-null  Int64  \n",
      " 31  Login_Consistency             153986 non-null  float64\n",
      " 32  BroadbandCommFailure_count    54132 non-null   float64\n",
      " 33  CameraNotCommunicating_count  54132 non-null   float64\n",
      " 34  CameraNotReachable_count      54132 non-null   float64\n",
      " 35  BroadbandCommFailure_Flag     54132 non-null   float64\n",
      " 36  CameraNotCommunicating_Flag   54132 non-null   float64\n",
      " 37  CameraNotReachable_Flag       54132 non-null   float64\n",
      "dtypes: Int64(20), float64(9), object(9)\n",
      "memory usage: 103.4+ MB\n"
     ]
    }
   ],
   "source": [
    "Merge_DF_3.info()"
   ]
  },
  {
   "cell_type": "code",
   "execution_count": 594,
   "id": "dc17a4b4-e4f9-4d87-b14e-1fd85abafcee",
   "metadata": {},
   "outputs": [
    {
     "data": {
      "text/plain": [
       "41529"
      ]
     },
     "execution_count": 594,
     "metadata": {},
     "output_type": "execute_result"
    }
   ],
   "source": [
    "Merge_DF_3['Best_Practice_All_flag'].isna().sum()"
   ]
  },
  {
   "cell_type": "code",
   "execution_count": 595,
   "id": "bb950857-84bc-43dd-93bf-78588c581886",
   "metadata": {},
   "outputs": [
    {
     "data": {
      "text/plain": [
       "207686"
      ]
     },
     "execution_count": 595,
     "metadata": {},
     "output_type": "execute_result"
    }
   ],
   "source": [
    "Merge_DF_3['Arming_Consistency'].isna().sum()"
   ]
  },
  {
   "cell_type": "code",
   "execution_count": 596,
   "id": "474de19b-0dcd-46c2-9f26-51d02b17d795",
   "metadata": {},
   "outputs": [
    {
     "data": {
      "text/plain": [
       "172684"
      ]
     },
     "execution_count": 596,
     "metadata": {},
     "output_type": "execute_result"
    }
   ],
   "source": [
    "Merge_DF_3['Login_Consistency'].isna().sum()"
   ]
  },
  {
   "cell_type": "code",
   "execution_count": 597,
   "id": "4c3a354e-d385-4852-9e0b-9f3abf060744",
   "metadata": {},
   "outputs": [
    {
     "data": {
      "text/plain": [
       "6.666667     153976\n",
       "40.000000         3\n",
       "33.333333         3\n",
       "20.000000         2\n",
       "66.666667         1\n",
       "60.000000         1\n",
       "Name: Login_Consistency, dtype: int64"
      ]
     },
     "execution_count": 597,
     "metadata": {},
     "output_type": "execute_result"
    }
   ],
   "source": [
    "Merge_DF_3['Login_Consistency'].value_counts()"
   ]
  },
  {
   "cell_type": "code",
   "execution_count": 598,
   "id": "d112826d-12dd-44fc-9505-244ef39c0f1d",
   "metadata": {},
   "outputs": [],
   "source": [
    "Merge_DF_3.fillna(0,inplace=True)"
   ]
  },
  {
   "cell_type": "code",
   "execution_count": 599,
   "id": "5f27a018-b72f-4228-8aae-f394f3c330ef",
   "metadata": {},
   "outputs": [],
   "source": [
    "def Segment_making(row\n",
    "                   ,min_login_consistency_threshold=50\n",
    "                   ,min_arming_consistency_threshold=50\n",
    "                   ,max_login_consistency_threshold=50\n",
    "                   ,max_arming_consistency_threshold=50):\n",
    "    \n",
    "    if row['Best_Practice_All']>=5 and row['Login_Consistency']>=max_login_consistency_threshold  and row['Arming_Consistency']>=max_arming_consistency_threshold:\n",
    "        return 'Heavy_User'\n",
    "    elif row['Login_Consistency']>=max_login_consistency_threshold  and row['Arming_Consistency']< min_arming_consistency_threshold:\n",
    "        return 'Home_automation_Savvy'\n",
    "    elif row['Login_Consistency']< min_login_consistency_threshold  and row['Arming_Consistency']>=max_login_consistency_threshold:\n",
    "        return 'Old_Fashion'\n",
    "    elif row['Login_Consistency']==0  and row['Arming_Consistency']==0:\n",
    "        return 'Disengaged'\n",
    "    else:\n",
    "        return \"Moderate_Users\""
   ]
  },
  {
   "cell_type": "code",
   "execution_count": 600,
   "id": "f4f9972c-e749-451b-ab4b-bdf67ca9c3fd",
   "metadata": {},
   "outputs": [],
   "source": [
    "Merge_DF_3['Segment']=Merge_DF_3.apply(Segment_making,axis=1)"
   ]
  },
  {
   "cell_type": "code",
   "execution_count": 601,
   "id": "53ec1ba2-eb4c-42c2-9648-80ac371e56f9",
   "metadata": {},
   "outputs": [
    {
     "data": {
      "text/html": [
       "<div>\n",
       "<style scoped>\n",
       "    .dataframe tbody tr th:only-of-type {\n",
       "        vertical-align: middle;\n",
       "    }\n",
       "\n",
       "    .dataframe tbody tr th {\n",
       "        vertical-align: top;\n",
       "    }\n",
       "\n",
       "    .dataframe thead th {\n",
       "        text-align: right;\n",
       "    }\n",
       "</style>\n",
       "<table border=\"1\" class=\"dataframe\">\n",
       "  <thead>\n",
       "    <tr style=\"text-align: right;\">\n",
       "      <th></th>\n",
       "      <th>Segment</th>\n",
       "      <th>Customer_count</th>\n",
       "      <th>Best_practices_1</th>\n",
       "      <th>Login_conis</th>\n",
       "    </tr>\n",
       "  </thead>\n",
       "  <tbody>\n",
       "    <tr>\n",
       "      <th>0</th>\n",
       "      <td>Disengaged</td>\n",
       "      <td>42638</td>\n",
       "      <td>0</td>\n",
       "      <td>0.000000</td>\n",
       "    </tr>\n",
       "    <tr>\n",
       "      <th>1</th>\n",
       "      <td>Moderate_Users</td>\n",
       "      <td>23182</td>\n",
       "      <td>0</td>\n",
       "      <td>5.267880</td>\n",
       "    </tr>\n",
       "    <tr>\n",
       "      <th>2</th>\n",
       "      <td>Old_Fashion</td>\n",
       "      <td>8304</td>\n",
       "      <td>0</td>\n",
       "      <td>4.418754</td>\n",
       "    </tr>\n",
       "  </tbody>\n",
       "</table>\n",
       "</div>"
      ],
      "text/plain": [
       "          Segment  Customer_count  Best_practices_1  Login_conis\n",
       "0      Disengaged           42638                 0     0.000000\n",
       "1  Moderate_Users           23182                 0     5.267880\n",
       "2     Old_Fashion            8304                 0     4.418754"
      ]
     },
     "execution_count": 601,
     "metadata": {},
     "output_type": "execute_result"
    }
   ],
   "source": [
    "pd.DataFrame(Merge_DF_3[Merge_DF_3['Best_partices_1']==0].groupby(['Segment']).agg(\n",
    "    \n",
    "    Customer_count= ('customer_id','nunique'),\n",
    "    Best_practices_1=('Best_partices_1','sum'),\n",
    "     Login_conis=('Login_Consistency','mean'),\n",
    "    # Telus_internet_customers=('Telus_internet_flag',lambda x: x.sum()),\n",
    "    # Telus_internet_penetration=('Telus_internet_flag',lambda x: x.mean()*100),\n",
    "    # Churn_total=('Telus_Churn_Flag',lambda x: x.sum()),\n",
    "    # Churn_rate=('Telus_Churn_Flag',lambda x: x.mean()*100)\n",
    ").reset_index())"
   ]
  },
  {
   "cell_type": "code",
   "execution_count": 602,
   "id": "1865914d-dedd-4d95-b361-b74676d22236",
   "metadata": {},
   "outputs": [
    {
     "data": {
      "text/html": [
       "<div>\n",
       "<style scoped>\n",
       "    .dataframe tbody tr th:only-of-type {\n",
       "        vertical-align: middle;\n",
       "    }\n",
       "\n",
       "    .dataframe tbody tr th {\n",
       "        vertical-align: top;\n",
       "    }\n",
       "\n",
       "    .dataframe thead th {\n",
       "        text-align: right;\n",
       "    }\n",
       "</style>\n",
       "<table border=\"1\" class=\"dataframe\">\n",
       "  <thead>\n",
       "    <tr style=\"text-align: right;\">\n",
       "      <th></th>\n",
       "      <th>Segment</th>\n",
       "      <th>Customer_count</th>\n",
       "      <th>Best_practices_1</th>\n",
       "      <th>Login_conis</th>\n",
       "    </tr>\n",
       "  </thead>\n",
       "  <tbody>\n",
       "    <tr>\n",
       "      <th>0</th>\n",
       "      <td>Disengaged</td>\n",
       "      <td>132136</td>\n",
       "      <td>89498</td>\n",
       "      <td>0.000000</td>\n",
       "    </tr>\n",
       "    <tr>\n",
       "      <th>1</th>\n",
       "      <td>Moderate_Users</td>\n",
       "      <td>125722</td>\n",
       "      <td>102540</td>\n",
       "      <td>5.537031</td>\n",
       "    </tr>\n",
       "    <tr>\n",
       "      <th>2</th>\n",
       "      <td>Old_Fashion</td>\n",
       "      <td>68812</td>\n",
       "      <td>60508</td>\n",
       "      <td>4.806817</td>\n",
       "    </tr>\n",
       "  </tbody>\n",
       "</table>\n",
       "</div>"
      ],
      "text/plain": [
       "          Segment  Customer_count  Best_practices_1  Login_conis\n",
       "0      Disengaged          132136             89498     0.000000\n",
       "1  Moderate_Users          125722            102540     5.537031\n",
       "2     Old_Fashion           68812             60508     4.806817"
      ]
     },
     "execution_count": 602,
     "metadata": {},
     "output_type": "execute_result"
    }
   ],
   "source": [
    "pd.DataFrame(Merge_DF_3.groupby(['Segment']).agg(\n",
    "    \n",
    "    Customer_count= ('customer_id','nunique'),\n",
    "    Best_practices_1=('Best_partices_1','sum'),\n",
    "     Login_conis=('Login_Consistency','mean'),\n",
    "    # Telus_internet_customers=('Telus_internet_flag',lambda x: x.sum()),\n",
    "    # Telus_internet_penetration=('Telus_internet_flag',lambda x: x.mean()*100),\n",
    "    # Churn_total=('Telus_Churn_Flag',lambda x: x.sum()),\n",
    "    # Churn_rate=('Telus_Churn_Flag',lambda x: x.mean()*100)\n",
    ").reset_index())"
   ]
  },
  {
   "cell_type": "code",
   "execution_count": 603,
   "id": "a50da015-09b4-4363-8743-0697c14dd739",
   "metadata": {},
   "outputs": [
    {
     "data": {
      "text/plain": [
       "Disengaged        40.449383\n",
       "Moderate_Users    38.485934\n",
       "Old_Fashion       21.064683\n",
       "Name: Segment, dtype: float64"
      ]
     },
     "execution_count": 603,
     "metadata": {},
     "output_type": "execute_result"
    }
   ],
   "source": [
    "Merge_DF_3['Segment'].value_counts(normalize=True)*100"
   ]
  },
  {
   "cell_type": "code",
   "execution_count": 604,
   "id": "6ec7389b-1ca6-43be-8b68-be108723c0a3",
   "metadata": {},
   "outputs": [
    {
     "data": {
      "text/plain": [
       "Disengaged        132136\n",
       "Moderate_Users    125722\n",
       "Old_Fashion        68812\n",
       "Name: Segment, dtype: int64"
      ]
     },
     "execution_count": 604,
     "metadata": {},
     "output_type": "execute_result"
    }
   ],
   "source": [
    "Merge_DF_3['Segment'].value_counts()"
   ]
  },
  {
   "cell_type": "code",
   "execution_count": 605,
   "id": "bfdb2739-e75b-4bdc-a270-7f7707264606",
   "metadata": {},
   "outputs": [
    {
     "data": {
      "text/plain": [
       "0.000000     52.861910\n",
       "6.666667     47.135029\n",
       "40.000000     0.000918\n",
       "33.333333     0.000918\n",
       "20.000000     0.000612\n",
       "66.666667     0.000306\n",
       "60.000000     0.000306\n",
       "Name: Login_Consistency, dtype: float64"
      ]
     },
     "execution_count": 605,
     "metadata": {},
     "output_type": "execute_result"
    }
   ],
   "source": [
    "Merge_DF_3['Login_Consistency'].value_counts(normalize=True)*100"
   ]
  },
  {
   "cell_type": "code",
   "execution_count": 606,
   "id": "976c8ef4-cb21-456c-9f45-864b7cd79097",
   "metadata": {},
   "outputs": [
    {
     "data": {
      "text/plain": [
       "0.000000     172684\n",
       "6.666667     153976\n",
       "40.000000         3\n",
       "33.333333         3\n",
       "20.000000         2\n",
       "66.666667         1\n",
       "60.000000         1\n",
       "Name: Login_Consistency, dtype: int64"
      ]
     },
     "execution_count": 606,
     "metadata": {},
     "output_type": "execute_result"
    }
   ],
   "source": [
    "Merge_DF_3['Login_Consistency'].value_counts()"
   ]
  },
  {
   "cell_type": "code",
   "execution_count": 607,
   "id": "dbbca86f-2590-4330-ac00-749d26c2d4af",
   "metadata": {},
   "outputs": [
    {
     "data": {
      "text/plain": [
       "0.000000      63.576698\n",
       "100.000000     7.110540\n",
       "3.333333       4.282915\n",
       "96.666667      2.786910\n",
       "6.666667       2.629871\n",
       "93.333333      1.878042\n",
       "10.000000      1.441822\n",
       "90.000000      1.380598\n",
       "86.666667      1.142743\n",
       "13.333333      1.117336\n",
       "83.333333      0.919582\n",
       "16.666667      0.882236\n",
       "80.000000      0.830196\n",
       "20.000000      0.754890\n",
       "76.666667      0.703156\n",
       "23.333333      0.673769\n",
       "73.333333      0.666422\n",
       "70.000000      0.601524\n",
       "26.666667      0.586525\n",
       "66.666667      0.580402\n",
       "63.333333      0.552852\n",
       "33.333333      0.535097\n",
       "30.000000      0.534484\n",
       "56.666667      0.500505\n",
       "60.000000      0.495607\n",
       "40.000000      0.488566\n",
       "43.333333      0.487648\n",
       "36.666667      0.482138\n",
       "53.333333      0.464689\n",
       "46.666667      0.460710\n",
       "50.000000      0.451526\n",
       "Name: Arming_Consistency, dtype: float64"
      ]
     },
     "execution_count": 607,
     "metadata": {},
     "output_type": "execute_result"
    }
   ],
   "source": [
    "Merge_DF_3['Arming_Consistency'].value_counts(normalize=True)*100"
   ]
  },
  {
   "cell_type": "code",
   "execution_count": 608,
   "id": "18693b0d-e61f-4b36-b3c2-3034cfc555ba",
   "metadata": {},
   "outputs": [
    {
     "name": "stdout",
     "output_type": "stream",
     "text": [
      "<class 'pandas.core.frame.DataFrame'>\n",
      "Int64Index: 326670 entries, 0 to 326669\n",
      "Data columns (total 39 columns):\n",
      " #   Column                        Non-Null Count   Dtype              \n",
      "---  ------                        --------------   -----              \n",
      " 0   customer_id                   326670 non-null  Int64              \n",
      " 1   dealer_customer_id            326670 non-null  object             \n",
      " 2   dealer_name                   326670 non-null  object             \n",
      " 3   account_type_name             326670 non-null  object             \n",
      " 4   customer_type_name            326670 non-null  object             \n",
      " 5   bacct_bus_bacct_num           326670 non-null  Int64              \n",
      " 6   bacct_billg_acct_id           326670 non-null  Int64              \n",
      " 7   cust_bus_cust_id              326670 non-null  object             \n",
      " 8   pi_prod_instnc_typ_cd         326670 non-null  object             \n",
      " 9   pi_prod_instnc_stat_ts        326670 non-null  datetime64[ns]     \n",
      " 10  prod_instnc_ts                326670 non-null  datetime64[ns, UTC]\n",
      " 11  contract_end_date             326670 non-null  object             \n",
      " 12  cust_id_telus                 326670 non-null  Int64              \n",
      " 13  Telus_internet_flag           326670 non-null  Int64              \n",
      " 14  Best_partices_1               326670 non-null  Int64              \n",
      " 15  Best_partices_2               326670 non-null  Int64              \n",
      " 16  Best_partices_3               326670 non-null  Int64              \n",
      " 17  Best_partices_4               326670 non-null  Int64              \n",
      " 18  Best_partices_5               326670 non-null  Int64              \n",
      " 19  Best_partices_6               326670 non-null  Int64              \n",
      " 20  Best_Practice_All             326670 non-null  Int64              \n",
      " 21  Best_Practice_All_flag        326670 non-null  Int64              \n",
      " 22  sum_arm_commands              326670 non-null  Int64              \n",
      " 23  sum_disarm_commands           326670 non-null  Int64              \n",
      " 24  number_days_arming_disarming  326670 non-null  Int64              \n",
      " 25  count_of_dates_arming         326670 non-null  Int64              \n",
      " 26  Arming_Consistency            326670 non-null  float64            \n",
      " 27  Arming_Flag                   326670 non-null  float64            \n",
      " 28  sum_login_count               326670 non-null  Int64              \n",
      " 29  number_of_login_days          326670 non-null  Int64              \n",
      " 30  count_of_dates_logins         326670 non-null  Int64              \n",
      " 31  Login_Consistency             326670 non-null  float64            \n",
      " 32  BroadbandCommFailure_count    326670 non-null  float64            \n",
      " 33  CameraNotCommunicating_count  326670 non-null  float64            \n",
      " 34  CameraNotReachable_count      326670 non-null  float64            \n",
      " 35  BroadbandCommFailure_Flag     326670 non-null  float64            \n",
      " 36  CameraNotCommunicating_Flag   326670 non-null  float64            \n",
      " 37  CameraNotReachable_Flag       326670 non-null  float64            \n",
      " 38  Segment                       326670 non-null  object             \n",
      "dtypes: Int64(20), datetime64[ns, UTC](1), datetime64[ns](1), float64(9), object(8)\n",
      "memory usage: 105.9+ MB\n"
     ]
    }
   ],
   "source": [
    "Merge_DF_3.info()"
   ]
  },
  {
   "cell_type": "code",
   "execution_count": 609,
   "id": "90bf2380-9e34-403a-9aaf-e0ae24c5a2be",
   "metadata": {},
   "outputs": [
    {
     "data": {
      "text/plain": [
       "9999-12-31 00:00:00    30788\n",
       "2025-10-26 00:00:00      584\n",
       "2025-10-27 00:00:00      577\n",
       "2025-10-20 00:00:00      570\n",
       "2025-10-21 00:00:00      558\n",
       "                       ...  \n",
       "2019-10-23 00:00:00        1\n",
       "2013-02-05 00:00:00        1\n",
       "2008-11-22 00:00:00        1\n",
       "2017-06-18 00:00:00        1\n",
       "1205-09-11 00:00:00        1\n",
       "Name: contract_end_date, Length: 4226, dtype: int64"
      ]
     },
     "execution_count": 609,
     "metadata": {},
     "output_type": "execute_result"
    }
   ],
   "source": [
    "Merge_DF_3['contract_end_date'].value_counts()"
   ]
  },
  {
   "cell_type": "code",
   "execution_count": null,
   "id": "3502b65a-decb-464d-b23b-3dd0893e6f31",
   "metadata": {},
   "outputs": [],
   "source": []
  },
  {
   "cell_type": "code",
   "execution_count": 610,
   "id": "320348fa-2d14-4961-99fb-b699406f42e9",
   "metadata": {},
   "outputs": [],
   "source": [
    "# Merge_DF_2[Merge_DF_2['contract_end_date']]"
   ]
  },
  {
   "cell_type": "code",
   "execution_count": 611,
   "id": "912493e9-4b1b-4f8e-b35e-9a668c0c7a3f",
   "metadata": {},
   "outputs": [],
   "source": [
    "Merge_DF_3['Camera_TC_condition_count']=Merge_DF_3.apply(lambda x: x['BroadbandCommFailure_count']+x['CameraNotCommunicating_count']+x['CameraNotReachable_count'],axis=1)"
   ]
  },
  {
   "cell_type": "code",
   "execution_count": 612,
   "id": "3a729f4a-1d65-4419-beef-7d1d37bb1b71",
   "metadata": {},
   "outputs": [
    {
     "data": {
      "text/plain": [
       "0.0       272538\n",
       "1.0        23731\n",
       "2.0         9231\n",
       "3.0         5021\n",
       "4.0         3809\n",
       "           ...  \n",
       "301.0          1\n",
       "486.0          1\n",
       "1271.0         1\n",
       "496.0          1\n",
       "1022.0         1\n",
       "Name: Camera_TC_condition_count, Length: 638, dtype: int64"
      ]
     },
     "execution_count": 612,
     "metadata": {},
     "output_type": "execute_result"
    }
   ],
   "source": [
    "Merge_DF_3['Camera_TC_condition_count'].value_counts()"
   ]
  },
  {
   "cell_type": "code",
   "execution_count": 613,
   "id": "e1d2c1c5-bfd5-4e32-bcc0-3550e325b9c4",
   "metadata": {},
   "outputs": [
    {
     "data": {
      "text/plain": [
       "1    66.601463\n",
       "0    33.398537\n",
       "Name: Best_partices_5, dtype: Float64"
      ]
     },
     "execution_count": 613,
     "metadata": {},
     "output_type": "execute_result"
    }
   ],
   "source": [
    "Merge_DF_3['Best_partices_5'].value_counts(normalize=True)*100"
   ]
  },
  {
   "cell_type": "code",
   "execution_count": 617,
   "id": "70364a55-2664-41e9-b46b-7707873d414c",
   "metadata": {},
   "outputs": [
    {
     "data": {
      "text/plain": [
       "(326670, 40)"
      ]
     },
     "execution_count": 617,
     "metadata": {},
     "output_type": "execute_result"
    }
   ],
   "source": [
    "Merge_DF_3.shape"
   ]
  },
  {
   "cell_type": "code",
   "execution_count": 618,
   "id": "49b611f7-703e-4427-9dfb-929f54f8b440",
   "metadata": {},
   "outputs": [],
   "source": [
    "Merge_DF_3_sub=Merge_DF_3[Merge_DF_3['account_type_name']=='Security System']"
   ]
  },
  {
   "cell_type": "code",
   "execution_count": 619,
   "id": "479f7657-1c55-43d0-a8b0-999be7c23d6d",
   "metadata": {},
   "outputs": [
    {
     "data": {
      "text/plain": [
       "(199060, 40)"
      ]
     },
     "execution_count": 619,
     "metadata": {},
     "output_type": "execute_result"
    }
   ],
   "source": [
    "Merge_DF_3_sub.shape"
   ]
  },
  {
   "cell_type": "code",
   "execution_count": 621,
   "id": "722199ee-c12e-4a2c-b8f1-d77273677894",
   "metadata": {},
   "outputs": [],
   "source": [
    "Merge_DF_3_sub.to_csv('GTM_full_data_Nov2022.csv')"
   ]
  },
  {
   "cell_type": "code",
   "execution_count": 622,
   "id": "c4bac4ff-6af2-4643-969b-19f307bd19c7",
   "metadata": {},
   "outputs": [],
   "source": [
    "Merge_DF_3_sub.to_csv('GTM_full_data_Nov2022.txt',sep=' ', index=False)"
   ]
  },
  {
   "cell_type": "code",
   "execution_count": null,
   "id": "4cae75eb-3816-45c3-baae-7cfde3acd60a",
   "metadata": {},
   "outputs": [],
   "source": [
    "# Merge_DF_3_sub.to_"
   ]
  },
  {
   "cell_type": "code",
   "execution_count": 614,
   "id": "85e473d4-174b-4ce1-bfdc-76e8f5f25d0a",
   "metadata": {},
   "outputs": [],
   "source": [
    "# Merge_DF_3['Telus_Churn_Flag'].value_counts(normalize=True)*100"
   ]
  },
  {
   "cell_type": "code",
   "execution_count": 536,
   "id": "7e3353aa-9c1f-4c1c-8cf4-7a4e2d7b9e3f",
   "metadata": {},
   "outputs": [],
   "source": [
    "GTM_data_8=Merge_DF_3[(Merge_DF_3['dealer_name']=='TELUS Communications Inc.') & ((Merge_DF_3['Segment']=='Disengaged') | (Merge_DF_3['Segment']=='Moderate_Users'))]"
   ]
  },
  {
   "cell_type": "code",
   "execution_count": 537,
   "id": "30958fee-f662-4b73-a8f8-61bb8bf3fcb6",
   "metadata": {},
   "outputs": [
    {
     "data": {
      "text/plain": [
       "(257847, 40)"
      ]
     },
     "execution_count": 537,
     "metadata": {},
     "output_type": "execute_result"
    }
   ],
   "source": [
    "GTM_data_8.shape"
   ]
  },
  {
   "cell_type": "code",
   "execution_count": 539,
   "id": "a1bb8a0f-e730-456a-9481-a68c1971a0de",
   "metadata": {},
   "outputs": [
    {
     "data": {
      "text/plain": [
       "0    180674\n",
       "1     77173\n",
       "Name: Best_partices_3, dtype: Int64"
      ]
     },
     "execution_count": 539,
     "metadata": {},
     "output_type": "execute_result"
    }
   ],
   "source": [
    "GTM_data_8['Best_partices_3'].value_counts()"
   ]
  },
  {
   "cell_type": "code",
   "execution_count": 543,
   "id": "8e3483e9-59ed-439a-961b-90ce9c835a3c",
   "metadata": {},
   "outputs": [
    {
     "data": {
      "text/html": [
       "<div>\n",
       "<style scoped>\n",
       "    .dataframe tbody tr th:only-of-type {\n",
       "        vertical-align: middle;\n",
       "    }\n",
       "\n",
       "    .dataframe tbody tr th {\n",
       "        vertical-align: top;\n",
       "    }\n",
       "\n",
       "    .dataframe thead th {\n",
       "        text-align: right;\n",
       "    }\n",
       "</style>\n",
       "<table border=\"1\" class=\"dataframe\">\n",
       "  <thead>\n",
       "    <tr style=\"text-align: right;\">\n",
       "      <th></th>\n",
       "      <th>Segment</th>\n",
       "      <th>Customer_count</th>\n",
       "      <th>Best_practices_3</th>\n",
       "    </tr>\n",
       "  </thead>\n",
       "  <tbody>\n",
       "    <tr>\n",
       "      <th>0</th>\n",
       "      <td>Disengaged</td>\n",
       "      <td>43844</td>\n",
       "      <td>26880</td>\n",
       "    </tr>\n",
       "    <tr>\n",
       "      <th>1</th>\n",
       "      <td>Moderate_Users</td>\n",
       "      <td>86420</td>\n",
       "      <td>50284</td>\n",
       "    </tr>\n",
       "    <tr>\n",
       "      <th>2</th>\n",
       "      <td>Old_Fashion</td>\n",
       "      <td>68787</td>\n",
       "      <td>42110</td>\n",
       "    </tr>\n",
       "  </tbody>\n",
       "</table>\n",
       "</div>"
      ],
      "text/plain": [
       "          Segment  Customer_count  Best_practices_3\n",
       "0      Disengaged           43844             26880\n",
       "1  Moderate_Users           86420             50284\n",
       "2     Old_Fashion           68787             42110"
      ]
     },
     "execution_count": 543,
     "metadata": {},
     "output_type": "execute_result"
    }
   ],
   "source": [
    "pd.DataFrame(Merge_DF_3[Merge_DF_3['account_type_name']=='Security System'].groupby(['Segment']).agg(\n",
    "    \n",
    "    Customer_count= ('customer_id','nunique'),\n",
    "    Best_practices_3=('Best_partices_3','sum'),\n",
    "     # Login_conis=('Login_Consistency','mean'),\n",
    "    # Telus_internet_customers=('Telus_internet_flag',lambda x: x.sum()),\n",
    "    # Telus_internet_penetration=('Telus_internet_flag',lambda x: x.mean()*100),\n",
    "    # Churn_total=('Telus_Churn_Flag',lambda x: x.sum()),\n",
    "    # Churn_rate=('Telus_Churn_Flag',lambda x: x.mean()*100)\n",
    ").reset_index())"
   ]
  },
  {
   "cell_type": "code",
   "execution_count": 545,
   "id": "2ce9c712-0b19-4b77-a1f3-57e9e54eae0e",
   "metadata": {},
   "outputs": [
    {
     "data": {
      "text/plain": [
       "['customer_id',\n",
       " 'dealer_customer_id',\n",
       " 'dealer_name',\n",
       " 'account_type_name',\n",
       " 'customer_type_name',\n",
       " 'bacct_bus_bacct_num',\n",
       " 'bacct_billg_acct_id',\n",
       " 'cust_bus_cust_id',\n",
       " 'pi_prod_instnc_typ_cd',\n",
       " 'pi_prod_instnc_stat_ts',\n",
       " 'prod_instnc_ts',\n",
       " 'contract_end_date',\n",
       " 'cust_id_telus',\n",
       " 'Telus_internet_flag',\n",
       " 'Best_partices_1',\n",
       " 'Best_partices_2',\n",
       " 'Best_partices_3',\n",
       " 'Best_partices_4',\n",
       " 'Best_partices_5',\n",
       " 'Best_partices_6',\n",
       " 'Best_Practice_All',\n",
       " 'Best_Practice_All_flag',\n",
       " 'sum_arm_commands',\n",
       " 'sum_disarm_commands',\n",
       " 'number_days_arming_disarming',\n",
       " 'count_of_dates_arming',\n",
       " 'Arming_Consistency',\n",
       " 'Arming_Flag',\n",
       " 'sum_login_count',\n",
       " 'number_of_login_days',\n",
       " 'count_of_dates_logins',\n",
       " 'Login_Consistency',\n",
       " 'BroadbandCommFailure_count',\n",
       " 'CameraNotCommunicating_count',\n",
       " 'CameraNotReachable_count',\n",
       " 'BroadbandCommFailure_Flag',\n",
       " 'CameraNotCommunicating_Flag',\n",
       " 'CameraNotReachable_Flag',\n",
       " 'Segment',\n",
       " 'Camera_TC_condition_count']"
      ]
     },
     "execution_count": 545,
     "metadata": {},
     "output_type": "execute_result"
    }
   ],
   "source": [
    "Merge_DF_3.columns.to_list()"
   ]
  },
  {
   "cell_type": "code",
   "execution_count": 546,
   "id": "335970f4-25e5-47f3-b130-f7e436a28d3d",
   "metadata": {},
   "outputs": [],
   "source": [
    "\n"
   ]
  },
  {
   "cell_type": "code",
   "execution_count": 467,
   "id": "c221eaab-9593-4d5a-bdd6-65dbf28bddcc",
   "metadata": {},
   "outputs": [],
   "source": [
    "GTM_data_7=Merge_DF_3[(Merge_DF_3['dealer_name']=='TELUS Communications Inc.')& (Merge_DF_3['Best_partices_5']==1)  & ((Merge_DF_3['Segment']=='Disengaged') | (Merge_DF_3['Segment']=='Moderate_Users'))]"
   ]
  },
  {
   "cell_type": "code",
   "execution_count": 468,
   "id": "11181a93-052e-478b-8f85-80a696681b26",
   "metadata": {},
   "outputs": [
    {
     "data": {
      "text/plain": [
       "(172441, 40)"
      ]
     },
     "execution_count": 468,
     "metadata": {},
     "output_type": "execute_result"
    }
   ],
   "source": [
    "GTM_data_7.shape"
   ]
  },
  {
   "cell_type": "code",
   "execution_count": 469,
   "id": "27527eda-46cd-4835-83df-f05ce12b29fa",
   "metadata": {},
   "outputs": [],
   "source": [
    "GTM_data_7.to_csv('GTM_data_HomeAutodev_Nov.csv',index=False)"
   ]
  },
  {
   "cell_type": "code",
   "execution_count": 396,
   "id": "3881fdea-ca64-4a08-8ce5-e87f3f839e3e",
   "metadata": {},
   "outputs": [],
   "source": [
    "GTM_dis_data_1=Merge_DF_3[(Merge_DF_3['dealer_name']=='TELUS Communications Inc.') & (Merge_DF_3['Best_partices_1']==0) & ((Merge_DF_3['Segment']=='Disengaged') | (Merge_DF_3['Segment']=='Moderate_Users'))] \n",
    "GTM_dis_data_2=Merge_DF_3[(Merge_DF_3['dealer_name']=='TELUS Communications Inc.') & (Merge_DF_3['Best_Practice_All']<3) & ((Merge_DF_3['Segment']=='Disengaged') | (Merge_DF_3['Segment']=='Moderate_Users'))] \n",
    "GTM_dis_data_3=Merge_DF_3[(Merge_DF_3['dealer_name']=='TELUS Communications Inc.') & (Merge_DF_3['Camera_TC_condition_count']>3) & ((Merge_DF_3['Segment']=='Disengaged') | (Merge_DF_3['Segment']=='Moderate_Users'))] \n"
   ]
  },
  {
   "cell_type": "code",
   "execution_count": 325,
   "id": "9aa111b3-bcf6-466b-b876-d6062fba3543",
   "metadata": {},
   "outputs": [
    {
     "data": {
      "text/plain": [
       "1    69.42405\n",
       "0    30.57595\n",
       "Name: Telus_internet_flag, dtype: Float64"
      ]
     },
     "execution_count": 325,
     "metadata": {},
     "output_type": "execute_result"
    }
   ],
   "source": [
    "GTM_dis_data_1['Telus_internet_flag'].value_counts(normalize=True)*100"
   ]
  },
  {
   "cell_type": "code",
   "execution_count": 326,
   "id": "86ad6453-1735-48e0-9327-aef1b536706b",
   "metadata": {},
   "outputs": [
    {
     "data": {
      "text/plain": [
       "1    69.108379\n",
       "0    30.891621\n",
       "Name: Telus_internet_flag, dtype: Float64"
      ]
     },
     "execution_count": 326,
     "metadata": {},
     "output_type": "execute_result"
    }
   ],
   "source": [
    "GTM_dis_data_2['Telus_internet_flag'].value_counts(normalize=True)*100"
   ]
  },
  {
   "cell_type": "code",
   "execution_count": 327,
   "id": "c4c959fe-9534-4151-bb07-316ab232a797",
   "metadata": {},
   "outputs": [
    {
     "data": {
      "text/plain": [
       "1    69.997989\n",
       "0    30.002011\n",
       "Name: Telus_internet_flag, dtype: Float64"
      ]
     },
     "execution_count": 327,
     "metadata": {},
     "output_type": "execute_result"
    }
   ],
   "source": [
    "GTM_dis_data_3['Telus_internet_flag'].value_counts(normalize=True)*100"
   ]
  },
  {
   "cell_type": "code",
   "execution_count": 328,
   "id": "25ff79d0-9733-42a6-9b33-9130fa6c982d",
   "metadata": {},
   "outputs": [],
   "source": [
    "GTM_dis_data_1.to_csv('GTM_data_Nov2022_NoEV.csv',index=False)"
   ]
  },
  {
   "cell_type": "code",
   "execution_count": 329,
   "id": "5b32b07e-2eee-4656-bdb9-6258502bd8f6",
   "metadata": {},
   "outputs": [],
   "source": [
    "GTM_dis_data_2.to_csv('GTM_data_Nov2022_BPlessthan3.csv',index=False)"
   ]
  },
  {
   "cell_type": "code",
   "execution_count": 330,
   "id": "e51d785f-ffa9-4acf-9871-f31808bf83f0",
   "metadata": {},
   "outputs": [],
   "source": [
    "GTM_dis_data_3.to_csv('GTM_data_Nov2022_CameraTC_grtr_than3.csv',index=False)"
   ]
  },
  {
   "cell_type": "code",
   "execution_count": 82,
   "id": "d8940bdb-0cba-476e-be37-aef9c3bc625c",
   "metadata": {},
   "outputs": [],
   "source": [
    "# GTM_Mod_data_1=Merge_DF_3[(Merge_DF_3['dealer_name']=='TELUS Communications Inc.') & (Merge_DF_3['Best_partices_1']==0) & (Merge_DF_3['Segment']=='Moderate_Users')] \n",
    "# GTM_Mod_data_2=Merge_DF_3[(Merge_DF_3['dealer_name']=='TELUS Communications Inc.') & (Merge_DF_3['Best_Practice_All']<3) & (Merge_DF_3['Segment']=='Moderate_Users')] \n",
    "# GTM_Mod_data_3=Merge_DF_3[(Merge_DF_3['dealer_name']=='TELUS Communications Inc.') & (Merge_DF_3['Camera_TC_condition_count']>3) & (Merge_DF_3['Segment']=='Moderate_Users')]"
   ]
  },
  {
   "cell_type": "code",
   "execution_count": 83,
   "id": "ac41b02a-457c-4bb7-99ad-a4a625f1480c",
   "metadata": {},
   "outputs": [],
   "source": [
    "# GTM_Mod_data_1.to_csv('GTM_data_NoEV_Moderate.csv',index=False)\n",
    "# GTM_Mod_data_2.to_csv('GTM_data_BPlessthan3_Moderate.csv',index=False)\n",
    "# GTM_Mod_data_3.to_csv('GTM_data_CameraTC_grtr_than3_Moderate.csv',index=False)"
   ]
  },
  {
   "cell_type": "code",
   "execution_count": null,
   "id": "431f446d-6bcb-4800-b045-30e15663c9ec",
   "metadata": {},
   "outputs": [],
   "source": []
  }
 ],
 "metadata": {
  "kernelspec": {
   "display_name": "Python 3 (ipykernel)",
   "language": "python",
   "name": "python3"
  },
  "language_info": {
   "codemirror_mode": {
    "name": "ipython",
    "version": 3
   },
   "file_extension": ".py",
   "mimetype": "text/x-python",
   "name": "python",
   "nbconvert_exporter": "python",
   "pygments_lexer": "ipython3",
   "version": "3.8.12"
  }
 },
 "nbformat": 4,
 "nbformat_minor": 5
}
