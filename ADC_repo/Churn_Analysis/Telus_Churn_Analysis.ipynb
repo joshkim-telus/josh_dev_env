{
 "cells": [
  {
   "cell_type": "code",
   "execution_count": null,
   "id": "6532374e-810f-4a5e-9d52-9739bbcef392",
   "metadata": {},
   "outputs": [],
   "source": [
    "#### import global modules\n",
    "import os\n",
    "import sys\n",
    "import pandas as pd\n",
    "import numpy as np\n",
    "from pathlib import Path\n",
    "from yaml import safe_load\n",
    "import google.oauth2.credentials\n",
    "from google.cloud import bigquery\n",
    "import gc\n",
    "\n",
    "# Set global vars\n",
    "pth_project = Path(os.getcwd().split('notebooks')[0])\n",
    "pth_data = pth_project / 'data'\n",
    "pth_queries = pth_project / 'core' / 'queries'\n",
    "pth_creds = pth_project / 'conf' / 'local' / 'project_config.yaml'\n",
    "sys.path.insert(0, str(pth_project))\n",
    "d_project_config = safe_load(pth_creds.open())\n",
    "# d_params = safe_load((pth_project / 'core' / 'parameters' / 'common.yaml').open())['data_extract']\n",
    "\n",
    "# import local modules\n",
    "from core.utils.gcp import connect_bq_services\n",
    "# from core.etl.extract import extract_bq_data, extract_pr_codes, format_conv_df, filter_convs\n",
    "\n",
    "# Connect to google services\n",
    "bq_client = connect_bq_services(d_project_config['gcp-project-name'])\n",
    "pd.options.display.max_rows = 100"
   ]
  },
  {
   "cell_type": "code",
   "execution_count": null,
   "id": "2489a3d0-f5c0-4843-8c77-52e668cb998d",
   "metadata": {},
   "outputs": [],
   "source": [
    "def extract_bq_data(bq_client, sql=None, pth_query=None):\n",
    "    if sql is not None:\n",
    "        df = bq_client.query(sql).to_dataframe()\n",
    "    elif pth_query is not None:\n",
    "        sql = pth_query.read_text()\n",
    "        df = bq_client.query(sql).to_dataframe()\n",
    "    else:\n",
    "        raise ValueError('`sql` or `pth_query` should be set')  \n",
    "    return df"
   ]
  },
  {
   "cell_type": "code",
   "execution_count": null,
   "id": "ada5758e-5d17-4473-bb9e-1e7403bea565",
   "metadata": {},
   "outputs": [],
   "source": [
    "Query='''\n",
    "\n",
    "DECLARE _end_dt_snpsht DATE DEFAULT '2022-11-30';\n",
    "DECLARE _mnth_snpsht DATE DEFAULT '2022-11-01';\n",
    "\n",
    "WITH\n",
    "  ADC_data AS(\n",
    "  SELECT\n",
    "    customer_id,\n",
    "    dealer_customer_id,\n",
    "    BAN,\n",
    "    Best_partices_1,\n",
    "    Best_partices_2,\n",
    "    Best_partices_3,\n",
    "    Best_partices_4,\n",
    "    Best_partices_5,\n",
    "    Best_partices_6,\n",
    "    Best_Practice_All,\n",
    "    Best_Practice_All_flag,\n",
    "    number_days_arming_disarming,\n",
    "    Arming_Consistency,\n",
    "    number_of_login_days,\n",
    "    Login_Consistency,\n",
    "    Segment,\n",
    "    TC_Last3M_count_BroadbandCommFailure,\n",
    "    TC_Last3M_count_CameraNotCommunicating,\n",
    "    TC_Last3M_count_CameraNotReachable,\n",
    "    \n",
    "    \n",
    "    CASE\n",
    "      WHEN account_type_name='Standalone' THEN 'Smart_Camera'\n",
    "      WHEN account_type_name='Awareness and Automation' THEN 'Smart_Automation_Plus'\n",
    "    ELSE\n",
    "    'Monitored'\n",
    "  END\n",
    "    AS Package\n",
    "  FROM\n",
    "    `divgpras-pr-579355.ADC_Feature_Datastore.ADC_Master_Data`\n",
    "  WHERE\n",
    "    Month_Snapshot=_mnth_snpsht\n",
    "    AND dealer_name='TELUS Communications Inc.' ),\n",
    "    \n",
    "\n",
    "\n",
    "Telus_customers as(\n",
    "\n",
    "select cust_bus_cust_id,pi_cntrct_end_ts as contract_end_date,pi_cntrct_start_ts as contract_start_date\n",
    "from `cio-datahub-enterprise-pr-183a.ent_cust_cust.bq_prod_instnc_snpsht` \n",
    "WHERE DATE(prod_instnc_ts) = _end_dt_snpsht #Snapshot of the last day of the month\n",
    "and pi_prod_instnc_typ_cd ='SMHM' #Serice type\n",
    "and bus_prod_instnc_src_id = 1001 #BANs that are for home services\n",
    "and pi_prod_instnc_stat_cd in ('A')\n",
    "and  consldt_cust_typ_cd = 'R'\n",
    "QUALIFY ROW_NUMBER() OVER (PARTITION BY cust_bus_cust_id ORDER BY prod_instnc_ts DESC) = 1\n",
    "order by cust_bus_cust_id\n",
    "\n",
    ")\n",
    "\n",
    "\n",
    "\n",
    ",Telus_internet_customers as\n",
    "\n",
    "(\n",
    "\n",
    "select cust_bus_cust_id as cust_bus_cust_id,1 as Telus_Internet_customers\n",
    "from `cio-datahub-enterprise-pr-183a.ent_cust_cust.bq_prod_instnc_snpsht` \n",
    "WHERE DATE(prod_instnc_ts) = _end_dt_snpsht  #Snapshot of the last day of the month\n",
    "and pi_prod_instnc_stat_cd in ('A')\n",
    "and pi_prod_instnc_typ_cd ='HSIC'\n",
    "and consldt_cust_typ_cd = 'R'\n",
    "QUALIFY ROW_NUMBER() OVER (PARTITION BY cust_bus_cust_id ORDER BY prod_instnc_ts DESC) = 1\n",
    "\n",
    ")\n",
    "\n",
    "\n",
    ", Telus_SMHM_Deacts as\n",
    "\n",
    "\n",
    "(\n",
    "\n",
    "\n",
    "select distinct BILLING_ACCOUNT_NUM as BAN ,1 as Telus_Churn_Flag  \n",
    "\n",
    "--from `divgpras-pr-579355.SHS.SHS_DEACTS_OCT2022`\n",
    "--from `divgpras-pr-579355.SHS.SHS_DEACTS_NOV2022`\n",
    "from `divgpras-pr-579355.SHS.SHS_DEACTS_DEC2022`\n",
    "\n",
    ")\n",
    "\n",
    "\n",
    "select * from ADC_data as ADC\n",
    "inner join Telus_customers as Telus\n",
    "on ADC.dealer_customer_id=Telus.cust_bus_cust_id\n",
    "left join Telus_internet_customers as Telus_int\n",
    "on ADC.dealer_customer_id=Telus_int.cust_bus_cust_id\n",
    "left join Telus_SMHM_Deacts c\n",
    "on ADC.BAN=c.BAN\n",
    "\n",
    "\n",
    "'''"
   ]
  },
  {
   "cell_type": "code",
   "execution_count": null,
   "id": "b3419215-7155-43d7-8771-2a1064656477",
   "metadata": {},
   "outputs": [],
   "source": [
    "DF=extract_bq_data(bq_client, sql=Query)"
   ]
  },
  {
   "cell_type": "code",
   "execution_count": null,
   "id": "c5562343-dec0-48cd-a628-fb45001b3a97",
   "metadata": {},
   "outputs": [],
   "source": [
    "DF.info()"
   ]
  },
  {
   "cell_type": "code",
   "execution_count": null,
   "id": "dae92f0e-6de6-4d3c-a973-9edebb696d3e",
   "metadata": {},
   "outputs": [],
   "source": [
    "DF.head()"
   ]
  },
  {
   "cell_type": "code",
   "execution_count": null,
   "id": "f95f43a2-2570-492f-a9e0-47da48b7c07c",
   "metadata": {},
   "outputs": [],
   "source": [
    "DF.fillna(0,inplace=True)"
   ]
  },
  {
   "cell_type": "code",
   "execution_count": null,
   "id": "f6e4bdfa-181e-44ca-8406-d8df4b3d182c",
   "metadata": {},
   "outputs": [],
   "source": [
    "DF['Arming_Consistency'].value_counts(normalize=True)*100"
   ]
  },
  {
   "cell_type": "code",
   "execution_count": null,
   "id": "a6320139-2c62-44d2-8925-2830cb35835b",
   "metadata": {},
   "outputs": [],
   "source": [
    "def Arming_category_making(row):\n",
    "    \n",
    "    if row['Arming_Consistency']==0:\n",
    "        return 'Arming_0%'\n",
    "    elif row['Arming_Consistency']>0 and row['Arming_Consistency']<=20 :\n",
    "        return 'Arming_0_20%%'\n",
    "    elif row['Arming_Consistency']>20 and row['Arming_Consistency']<=50 :\n",
    "        return 'Arming_20_50%%'\n",
    "    elif row['Arming_Consistency']>50:\n",
    "        return 'Arming_50_more%'\n",
    "    else:\n",
    "        return \"None_of_Above\""
   ]
  },
  {
   "cell_type": "code",
   "execution_count": null,
   "id": "a8d2fa39-b9d0-48b0-9786-33937ea38487",
   "metadata": {},
   "outputs": [],
   "source": [
    "\n",
    "DF['Arming_category']=DF.apply(Arming_category_making,axis=1)"
   ]
  },
  {
   "cell_type": "code",
   "execution_count": null,
   "id": "2a3d7bb7-b32b-4a47-b0c5-220314359475",
   "metadata": {},
   "outputs": [],
   "source": [
    "DF['Arming_category'].value_counts(normalize=True)*100"
   ]
  },
  {
   "cell_type": "code",
   "execution_count": null,
   "id": "0a9c9415-7407-47d4-9ce8-19b67b6455da",
   "metadata": {},
   "outputs": [],
   "source": [
    "DF['Login_Consistency'].value_counts(normalize=True)*100"
   ]
  },
  {
   "cell_type": "code",
   "execution_count": null,
   "id": "851aaa76-50fc-4e90-839e-720ce42892a9",
   "metadata": {},
   "outputs": [],
   "source": [
    "def login_category_making(row):\n",
    "    \n",
    "    if row['Login_Consistency']==0:\n",
    "        return 'Login_0%'\n",
    "    elif row['Login_Consistency']>0 and row['Login_Consistency']<=20 :\n",
    "        return 'Login_0_20%%'\n",
    "    elif row['Login_Consistency']>20 and row['Login_Consistency']<=50 :\n",
    "        return 'Login_20_50%%'\n",
    "    elif row['Login_Consistency']>50:\n",
    "        return 'Login_50_more%'\n",
    "    else:\n",
    "        return \"None_of_Above\""
   ]
  },
  {
   "cell_type": "code",
   "execution_count": null,
   "id": "be0d0d74-2a36-4641-9eaf-1b266d970e1b",
   "metadata": {},
   "outputs": [],
   "source": [
    "DF['Login_category']=DF.apply(login_category_making,axis=1)"
   ]
  },
  {
   "cell_type": "code",
   "execution_count": null,
   "id": "9ab7ba01-b0f5-48af-ace4-a8b97408a633",
   "metadata": {},
   "outputs": [],
   "source": [
    "DF['Login_category'].value_counts(normalize=True)*100"
   ]
  },
  {
   "cell_type": "code",
   "execution_count": null,
   "id": "34d6cd3d-37b6-4d39-9590-33bd93d5ff6a",
   "metadata": {},
   "outputs": [],
   "source": [
    "DF['Telus_Churn_Flag'].value_counts()"
   ]
  },
  {
   "cell_type": "code",
   "execution_count": null,
   "id": "a703d333-6004-4f69-869f-49a4b48e15a4",
   "metadata": {},
   "outputs": [],
   "source": [
    "DF['Telus_Churn_Flag'].value_counts(normalize=True)*100"
   ]
  },
  {
   "cell_type": "code",
   "execution_count": null,
   "id": "183f8f14-32cb-48bc-9244-3272afadf385",
   "metadata": {},
   "outputs": [],
   "source": [
    "# DF['Telus_Churn_Flag'].fillna(0,inplace=True)"
   ]
  },
  {
   "cell_type": "code",
   "execution_count": null,
   "id": "ee6bb09f-a0e5-4805-a528-bf60c7cbbe48",
   "metadata": {},
   "outputs": [],
   "source": [
    "DF['Telus_Churn_Flag'].value_counts(normalize=True)*100"
   ]
  },
  {
   "cell_type": "code",
   "execution_count": null,
   "id": "415f9bd6-e43f-4a4f-909f-627e973a9091",
   "metadata": {},
   "outputs": [],
   "source": [
    "DF.head()"
   ]
  },
  {
   "cell_type": "code",
   "execution_count": null,
   "id": "2ef3c584-968b-4207-b77e-8aae110189fa",
   "metadata": {},
   "outputs": [],
   "source": [
    "# DF.to_csv('SHS_Churn_Analysis_OCT2022.csv',index=False)"
   ]
  },
  {
   "cell_type": "code",
   "execution_count": null,
   "id": "a1601aba-80da-4ceb-9e83-546d39a17b95",
   "metadata": {},
   "outputs": [],
   "source": []
  },
  {
   "cell_type": "code",
   "execution_count": null,
   "id": "e14db457-d0da-42e9-9486-2e4c2a2a3617",
   "metadata": {},
   "outputs": [],
   "source": [
    "DF['BAN'].value_counts()"
   ]
  },
  {
   "cell_type": "code",
   "execution_count": null,
   "id": "a03fd07b-b1f8-42bf-9d35-873980dcbf42",
   "metadata": {},
   "outputs": [],
   "source": [
    "DF['customer_id'].value_counts()"
   ]
  },
  {
   "cell_type": "code",
   "execution_count": null,
   "id": "bc1f4a57-ebee-473d-b8d8-71ab3e2c5094",
   "metadata": {},
   "outputs": [],
   "source": [
    "DF['customer_id'].count()"
   ]
  },
  {
   "cell_type": "code",
   "execution_count": null,
   "id": "c997e487-fcbb-4aea-a52d-fd1fae84b1f0",
   "metadata": {},
   "outputs": [],
   "source": [
    "DF['Telus_Internet_customers'].value_counts()"
   ]
  },
  {
   "cell_type": "code",
   "execution_count": null,
   "id": "fefe8bae-e9f7-40fd-ab8e-92ed3ee52cf4",
   "metadata": {},
   "outputs": [],
   "source": [
    "DF['Telus_Internet_customers'].value_counts(normalize=True)"
   ]
  },
  {
   "cell_type": "code",
   "execution_count": null,
   "id": "202322c6-f43b-410d-9d3e-444f16367700",
   "metadata": {},
   "outputs": [],
   "source": [
    "DF['TC_Last3M_count_BroadbandCommFailure_flag']=DF['TC_Last3M_count_BroadbandCommFailure'].apply(lambda x: 1 if x>0 else 0)\n",
    "DF['TC_Last3M_count_CameraNotCommunicating_flag']=DF['TC_Last3M_count_CameraNotCommunicating'].apply(lambda x: 1 if x>0 else 0)\n",
    "DF['TC_Last3M_count_CameraNotReachable_flag']=DF['TC_Last3M_count_CameraNotReachable'].apply(lambda x: 1 if x>0 else 0)\n",
    "DF['TC_Last3M_count_BroadbandCommFailure_morethan5_flag']=DF['TC_Last3M_count_BroadbandCommFailure'].apply(lambda x: 1 if x>5 else 0)\n"
   ]
  },
  {
   "cell_type": "code",
   "execution_count": null,
   "id": "729a98d0-408e-4d34-ba5c-e9064ef010d5",
   "metadata": {},
   "outputs": [],
   "source": [
    "DF_monitored=DF[DF['Package']=='Monitored']"
   ]
  },
  {
   "cell_type": "code",
   "execution_count": null,
   "id": "f2f1612d-a1b0-479f-8e30-f2b840c0a757",
   "metadata": {},
   "outputs": [],
   "source": [
    "DF_monitored['Telus_Internet_customers'].value_counts(normalize=True)"
   ]
  },
  {
   "cell_type": "code",
   "execution_count": null,
   "id": "ea304f40-3aa6-4f84-af68-92d58b843b82",
   "metadata": {},
   "outputs": [],
   "source": [
    "DF_monitored.info()"
   ]
  },
  {
   "cell_type": "code",
   "execution_count": null,
   "id": "6346d796-4469-43a6-8dde-db492cad5db0",
   "metadata": {},
   "outputs": [],
   "source": [
    "pd.DataFrame(DF_monitored.groupby(['Arming_category','Login_category']).agg(\n",
    "    \n",
    "    Customer_count= ('customer_id','count'),\n",
    "    Customer_count_1= ('customer_id','nunique'),\n",
    "    # Customer_Share= ('customer_id',lambda x:x.count()*100/Merge_DF_4.shape[0])\n",
    "    Churn_total=('Telus_Churn_Flag',lambda x: x.sum()),\n",
    "    Churn_rate=('Telus_Churn_Flag',lambda x: x.mean()*100)\n",
    ").reset_index())"
   ]
  },
  {
   "cell_type": "code",
   "execution_count": null,
   "id": "a3b9f39f-20a1-4111-a328-0a5b2450e145",
   "metadata": {},
   "outputs": [],
   "source": [
    "pd.DataFrame(DF_monitored.groupby(['Segment','Best_Practice_All']).agg(\n",
    "    \n",
    "    Customer_count= ('customer_id','count'),\n",
    "    Customer_count_1= ('customer_id','nunique'),\n",
    "    Churn_total=('Telus_Churn_Flag',lambda x: x.sum()),\n",
    "    Churn_rate=('Telus_Churn_Flag',lambda x: x.mean()*100)\n",
    "    \n",
    "    # Best_partices_1= ('Best_partices_1','sum'),\n",
    "    # Best_partices_2= ('Best_partices_2','sum'),\n",
    "    # Best_partices_3= ('Best_partices_3','sum'),\n",
    "    # Best_partices_4= ('Best_partices_4','sum'),\n",
    "    # Best_partices_5= ('Best_partices_5','sum'),\n",
    "    # Best_partices_6= ('Best_partices_6','sum'),\n",
    "    # # Best_partices_All= ('Best_Practice_All','sum'),\n",
    "    # Best_partices_All_flag= ('Best_Practice_All_flag','sum')\n",
    "    # Customer_Share= ('customer_id',lambda x:x.count()*100/Merge_DF_4.shape[0])\n",
    "    # Churn_total=('Telus_Churn_Flag',lambda x: x.sum()),\n",
    "    # Churn_rate=('Telus_Churn_Flag',lambda x: x.mean()*100)\n",
    ").reset_index())"
   ]
  },
  {
   "cell_type": "code",
   "execution_count": null,
   "id": "e084bacc-47eb-4d20-9154-1128c9ceca8e",
   "metadata": {},
   "outputs": [],
   "source": [
    "pd.DataFrame(DF_monitored.groupby(['Segment']).agg(\n",
    "    \n",
    "    Customer_count= ('customer_id','count'),\n",
    "    Customer_count_1= ('customer_id','nunique'),\n",
    "    Best_partices_1= ('Best_partices_1','sum'),\n",
    "    Best_partices_2= ('Best_partices_2','sum'),\n",
    "    Best_partices_3= ('Best_partices_3','sum'),\n",
    "    Best_partices_4= ('Best_partices_4','sum'),\n",
    "    Best_partices_5= ('Best_partices_5','sum'),\n",
    "    Best_partices_6= ('Best_partices_6','sum'),\n",
    "    # Best_partices_All= ('Best_Practice_All','sum'),\n",
    "    Best_partices_All_flag= ('Best_Practice_All_flag','sum')\n",
    "    # Customer_Share= ('customer_id',lambda x:x.count()*100/Merge_DF_4.shape[0])\n",
    "    # Churn_total=('Telus_Churn_Flag',lambda x: x.sum()),\n",
    "    # Churn_rate=('Telus_Churn_Flag',lambda x: x.mean()*100)\n",
    ").reset_index())"
   ]
  },
  {
   "cell_type": "code",
   "execution_count": null,
   "id": "d0503a33-6fa9-4475-b115-70ad9db5b1dc",
   "metadata": {},
   "outputs": [],
   "source": [
    "pd.DataFrame(DF_monitored[DF_monitored.Best_partices_1==1].groupby(['Segment','Best_partices_1']).agg(\n",
    "    \n",
    "    Customer_count= ('customer_id','nunique'),\n",
    "    Churn_total=('Telus_Churn_Flag',lambda x: x.sum()),\n",
    "    Churn_rate=('Telus_Churn_Flag',lambda x: x.mean()*100)).reset_index())"
   ]
  },
  {
   "cell_type": "code",
   "execution_count": null,
   "id": "7d190a2b-b28a-4906-8e9c-a5b4c1bf1917",
   "metadata": {},
   "outputs": [],
   "source": [
    "pd.DataFrame(DF_monitored[DF_monitored.Best_partices_2==1].groupby(['Segment','Best_partices_2']).agg(\n",
    "    \n",
    "    Customer_count= ('customer_id','nunique'),\n",
    "    Churn_total=('Telus_Churn_Flag',lambda x: x.sum()),\n",
    "    Churn_rate=('Telus_Churn_Flag',lambda x: x.mean()*100)).reset_index())"
   ]
  },
  {
   "cell_type": "code",
   "execution_count": null,
   "id": "3f2466bd-a179-4054-b381-0868b71592ca",
   "metadata": {},
   "outputs": [],
   "source": [
    "pd.DataFrame(DF_monitored[DF_monitored.Best_partices_3==1].groupby(['Segment','Best_partices_3']).agg(\n",
    "    \n",
    "    Customer_count= ('customer_id','nunique'),\n",
    "    Churn_total=('Telus_Churn_Flag',lambda x: x.sum()),\n",
    "    Churn_rate=('Telus_Churn_Flag',lambda x: x.mean()*100)).reset_index())"
   ]
  },
  {
   "cell_type": "code",
   "execution_count": null,
   "id": "25429845-e675-4417-a206-0490a804fe2c",
   "metadata": {},
   "outputs": [],
   "source": [
    "pd.DataFrame(DF_monitored[DF_monitored.Best_partices_4==1].groupby(['Segment','Best_partices_4']).agg(\n",
    "    \n",
    "    Customer_count= ('customer_id','nunique'),\n",
    "    Churn_total=('Telus_Churn_Flag',lambda x: x.sum()),\n",
    "    Churn_rate=('Telus_Churn_Flag',lambda x: x.mean()*100)).reset_index())"
   ]
  },
  {
   "cell_type": "code",
   "execution_count": null,
   "id": "ef7ffa9b-9e3d-4989-a048-2446aa1eba74",
   "metadata": {},
   "outputs": [],
   "source": [
    "pd.DataFrame(DF_monitored[DF_monitored.Best_partices_5==1].groupby(['Segment','Best_partices_5']).agg(\n",
    "    \n",
    "    Customer_count= ('customer_id','nunique'),\n",
    "    Churn_total=('Telus_Churn_Flag',lambda x: x.sum()),\n",
    "    Churn_rate=('Telus_Churn_Flag',lambda x: x.mean()*100)).reset_index())"
   ]
  },
  {
   "cell_type": "code",
   "execution_count": null,
   "id": "14f6f399-a988-43be-b081-3a7ea3b46ba3",
   "metadata": {},
   "outputs": [],
   "source": [
    "pd.DataFrame(DF_monitored[DF_monitored.Best_partices_6==1].groupby(['Segment','Best_partices_6']).agg(\n",
    "    \n",
    "    Customer_count= ('customer_id','nunique'),\n",
    "    Churn_total=('Telus_Churn_Flag',lambda x: x.sum()),\n",
    "    Churn_rate=('Telus_Churn_Flag',lambda x: x.mean()*100)).reset_index())"
   ]
  },
  {
   "cell_type": "code",
   "execution_count": null,
   "id": "ede56935-a523-4bfd-8dab-de304be3f0aa",
   "metadata": {},
   "outputs": [],
   "source": [
    "pd.DataFrame(DF_monitored[DF_monitored.Best_Practice_All_flag==1].groupby(['Segment','Best_Practice_All_flag']).agg(\n",
    "    \n",
    "    Customer_count= ('customer_id','nunique'),\n",
    "    Churn_total=('Telus_Churn_Flag',lambda x: x.sum()),\n",
    "    Churn_rate=('Telus_Churn_Flag',lambda x: x.mean()*100)).reset_index())"
   ]
  },
  {
   "cell_type": "code",
   "execution_count": null,
   "id": "ad6895a2-152c-4426-9d13-99c84032cfc7",
   "metadata": {},
   "outputs": [],
   "source": []
  },
  {
   "cell_type": "code",
   "execution_count": null,
   "id": "d2b710e6-e4da-4a07-964a-10e47996013f",
   "metadata": {},
   "outputs": [],
   "source": []
  },
  {
   "cell_type": "code",
   "execution_count": null,
   "id": "b44040ea-76e6-40a3-96e7-877bcd088b32",
   "metadata": {},
   "outputs": [],
   "source": []
  },
  {
   "cell_type": "code",
   "execution_count": null,
   "id": "42638146-bae1-4c38-b23d-eb0925dd5b7a",
   "metadata": {},
   "outputs": [],
   "source": []
  },
  {
   "cell_type": "code",
   "execution_count": null,
   "id": "c41f0de3-66fc-47d7-b912-a12621fe77d8",
   "metadata": {},
   "outputs": [],
   "source": [
    "pd.DataFrame(DF_monitored.groupby(['Telus_Internet_customers']).agg(\n",
    "    \n",
    "    Customer_count= ('customer_id','count'),\n",
    "    Customer_count_1= ('customer_id','nunique'),\n",
    "    TC_Last3M_count_CameraNotReachable_flag=('TC_Last3M_count_CameraNotReachable_flag','sum'),\n",
    "    TC_Last3M_count_CameraNotCommunicating_flag=('TC_Last3M_count_CameraNotCommunicating_flag','sum'),\n",
    "    TC_Last3M_count_BroadbandCommFailure_flag=('TC_Last3M_count_BroadbandCommFailure_flag','sum'),\n",
    "    TC_Last3M_count_BroadbandCommFailure_morethan5_flag=('TC_Last3M_count_BroadbandCommFailure_morethan5_flag','sum'),\n",
    "\n",
    "    \n",
    "    \n",
    "    # Best_partices_1= ('Best_partices_1','sum'),\n",
    "    # Best_partices_2= ('Best_partices_2','sum'),\n",
    "    # Best_partices_3= ('Best_partices_3','sum'),\n",
    "    # Best_partices_4= ('Best_partices_4','sum'),\n",
    "    # Best_partices_5= ('Best_partices_5','sum'),\n",
    "    # Best_partices_6= ('Best_partices_6','sum'),\n",
    "    # # Best_partices_All= ('Best_Practice_All','sum'),\n",
    "    # Best_partices_All_flag= ('Best_Practice_All_flag','sum')\n",
    "    # Customer_Share= ('customer_id',lambda x:x.count()*100/Merge_DF_4.shape[0])\n",
    "    Churn_total=('Telus_Churn_Flag',lambda x: x.sum()),\n",
    "    Churn_rate=('Telus_Churn_Flag',lambda x: x.mean()*100)\n",
    ").reset_index())"
   ]
  },
  {
   "cell_type": "code",
   "execution_count": null,
   "id": "b048b963-a449-4492-9876-a92ea333fe9c",
   "metadata": {},
   "outputs": [],
   "source": [
    "pd.DataFrame(DF_monitored[DF_monitored.TC_Last3M_count_BroadbandCommFailure_flag>0].groupby(['Telus_Internet_customers','TC_Last3M_count_BroadbandCommFailure_flag']).agg(\n",
    "    \n",
    "    Customer_count= ('customer_id','count'),\n",
    "    Customer_count_1= ('customer_id','nunique'),\n",
    "    Churn_total=('Telus_Churn_Flag',lambda x: x.sum()),\n",
    "    Churn_rate=('Telus_Churn_Flag',lambda x: x.mean()*100)\n",
    ").reset_index())"
   ]
  },
  {
   "cell_type": "code",
   "execution_count": null,
   "id": "660fe051-8454-49ff-904b-ebb2ee6e0ff9",
   "metadata": {},
   "outputs": [],
   "source": [
    "pd.DataFrame(DF_monitored[DF_monitored.TC_Last3M_count_CameraNotCommunicating_flag>0].groupby(['Telus_Internet_customers','TC_Last3M_count_CameraNotCommunicating_flag']).agg(\n",
    "    \n",
    "    Customer_count= ('customer_id','count'),\n",
    "    Customer_count_1= ('customer_id','nunique'),\n",
    "    Churn_total=('Telus_Churn_Flag',lambda x: x.sum()),\n",
    "    Churn_rate=('Telus_Churn_Flag',lambda x: x.mean()*100)\n",
    ").reset_index())"
   ]
  },
  {
   "cell_type": "code",
   "execution_count": null,
   "id": "4346917c-79bc-40d8-bd48-2f9bf1c0b8a9",
   "metadata": {},
   "outputs": [],
   "source": [
    "pd.DataFrame(DF_monitored[DF_monitored.TC_Last3M_count_CameraNotReachable_flag>0].groupby(['Telus_Internet_customers','TC_Last3M_count_CameraNotReachable_flag']).agg(\n",
    "    \n",
    "    Customer_count= ('customer_id','count'),\n",
    "    Customer_count_1= ('customer_id','nunique'),\n",
    "    Churn_total=('Telus_Churn_Flag',lambda x: x.sum()),\n",
    "    Churn_rate=('Telus_Churn_Flag',lambda x: x.mean()*100)\n",
    ").reset_index())"
   ]
  },
  {
   "cell_type": "code",
   "execution_count": null,
   "id": "201a0d91-5eb6-41a4-9325-22da618ab2df",
   "metadata": {},
   "outputs": [],
   "source": [
    "pd.DataFrame(DF_monitored[DF_monitored.TC_Last3M_count_BroadbandCommFailure_morethan5_flag>0].groupby(['Telus_Internet_customers','TC_Last3M_count_BroadbandCommFailure_morethan5_flag']).agg(\n",
    "    \n",
    "    Customer_count= ('customer_id','count'),\n",
    "    Customer_count_1= ('customer_id','nunique'),\n",
    "    Churn_total=('Telus_Churn_Flag',lambda x: x.sum()),\n",
    "    Churn_rate=('Telus_Churn_Flag',lambda x: x.mean()*100)\n",
    ").reset_index())"
   ]
  },
  {
   "cell_type": "code",
   "execution_count": null,
   "id": "2c8c509f-1b20-41aa-a97b-3910e86b6d19",
   "metadata": {},
   "outputs": [],
   "source": []
  },
  {
   "cell_type": "code",
   "execution_count": null,
   "id": "62a57e9e-611e-45e9-bddb-92d36bc97689",
   "metadata": {},
   "outputs": [],
   "source": []
  },
  {
   "cell_type": "code",
   "execution_count": null,
   "id": "45db9cb7-b5f0-4eb0-83f4-b16e8b0a3875",
   "metadata": {},
   "outputs": [],
   "source": [
    "# config= bigquery.job.LoadJobConfig()\n",
    "\n",
    "# # config._properties['timePartitioning'] = {'field': 'Month_Year'}\n",
    "# config.write_disposition = bigquery.WriteDisposition.WRITE_TRUNCATE\n",
    "\n",
    "# Table_BQ = 'SHS.SHS_Churn_Analysis_OCT2022'\n",
    "\n",
    "# bq_table_instance= bq_client.load_table_from_dataframe(DF, Table_BQ,job_config=config)"
   ]
  },
  {
   "cell_type": "code",
   "execution_count": null,
   "id": "d595a9a2-5264-4348-a3c2-3fb8b6639840",
   "metadata": {},
   "outputs": [],
   "source": []
  }
 ],
 "metadata": {
  "kernelspec": {
   "display_name": "Python 3 (ipykernel)",
   "language": "python",
   "name": "python3"
  },
  "language_info": {
   "codemirror_mode": {
    "name": "ipython",
    "version": 3
   },
   "file_extension": ".py",
   "mimetype": "text/x-python",
   "name": "python",
   "nbconvert_exporter": "python",
   "pygments_lexer": "ipython3",
   "version": "3.8.12"
  }
 },
 "nbformat": 4,
 "nbformat_minor": 5
}
