{
 "cells": [
  {
   "cell_type": "code",
   "execution_count": null,
   "id": "2e5f8094-49ee-446e-8a7f-1a1a032f547e",
   "metadata": {},
   "outputs": [],
   "source": [
    "#### import global modules\n",
    "import os\n",
    "import sys\n",
    "import pandas as pd\n",
    "from pathlib import Path\n",
    "from yaml import safe_load\n",
    "import google.oauth2.credentials\n",
    "from google.cloud import bigquery\n",
    "\n",
    "# Set global vars\n",
    "pth_project = Path(os.getcwd().split('notebooks')[0])\n",
    "pth_data = pth_project / 'data'\n",
    "pth_queries = pth_project / 'core' / 'queries'\n",
    "pth_creds = pth_project / 'conf' / 'local' / 'project_config.yaml'\n",
    "sys.path.insert(0, str(pth_project))\n",
    "d_project_config = safe_load(pth_creds.open())\n",
    "# d_params = safe_load((pth_project / 'core' / 'parameters' / 'common.yaml').open())['data_extract']\n",
    "\n",
    "# import local modules\n",
    "from core.utils.gcp import connect_bq_services\n",
    "# from core.etl.extract import extract_bq_data, extract_pr_codes, format_conv_df, filter_convs\n",
    "\n",
    "# Connect to google services\n",
    "bq_client = connect_bq_services(d_project_config['gcp-project-name'])\n",
    "pd.options.display.max_rows = 100"
   ]
  },
  {
   "cell_type": "code",
   "execution_count": null,
   "id": "630fc87c-071f-4c49-8d03-11b000debe9f",
   "metadata": {},
   "outputs": [],
   "source": [
    "def extract_bq_data(bq_client, sql=None, pth_query=None):\n",
    "    if sql is not None:\n",
    "        df = bq_client.query(sql).to_dataframe()\n",
    "    elif pth_query is not None:\n",
    "        sql = pth_query.read_text()\n",
    "        df = bq_client.query(sql).to_dataframe()\n",
    "    else:\n",
    "        raise ValueError('`sql` or `pth_query` should be set')  \n",
    "    return df"
   ]
  },
  {
   "cell_type": "code",
   "execution_count": null,
   "id": "f2a8d308-0c85-4931-8aa0-ce2e71d241cf",
   "metadata": {},
   "outputs": [],
   "source": [
    "Customer_Details_Query='''\n",
    "\n",
    "SELECT customer_id,dealer_customer_id,primary_login_id,dealer_name,join_date,account_type_name,customer_type_name,primary_email,primary_phone,last_updt_ts,suspended_date_utc\n",
    "FROM `cio-datahub-enterprise-pr-183a.src_adc.bq_customer_account_details` \n",
    "where last_updt_ts >='2022-08-01'  and last_updt_ts < '2022-09-01'  \n",
    "and account_type_name!='Standalone'\n",
    "and customer_type_name='Customer'\n",
    "QUALIFY ROW_NUMBER() OVER (PARTITION BY customer_id ORDER BY last_updt_ts DESC) = 1\n",
    "order by dealer_name,join_date,customer_id\n",
    "\n",
    "\n",
    "'''"
   ]
  },
  {
   "cell_type": "code",
   "execution_count": null,
   "id": "b04c4042-c30e-4046-9165-9ac8dd9a49e3",
   "metadata": {},
   "outputs": [],
   "source": [
    "ADC_Aug2022_CustomerBase= extract_bq_data(bq_client,sql=Customer_Details_Query)"
   ]
  },
  {
   "cell_type": "code",
   "execution_count": null,
   "id": "d30b7816-9f75-47f5-a50e-29e18eb93198",
   "metadata": {},
   "outputs": [],
   "source": [
    "# cols_required=['customer_id','dealer_customer_id',primary_login_id,dealer_name,join_date,account_type_name,customer_type_name,primary_email,primary_phone]"
   ]
  },
  {
   "cell_type": "code",
   "execution_count": null,
   "id": "7bc3cbf1-58ea-42c3-aa15-b29917798c71",
   "metadata": {},
   "outputs": [],
   "source": [
    "# ADC_Aug2022_CustomerBase['suspended_date_utc'].value_counts()"
   ]
  },
  {
   "cell_type": "code",
   "execution_count": null,
   "id": "adaa91a2-90f2-40a4-8037-adf681063253",
   "metadata": {},
   "outputs": [],
   "source": [
    "ADC_Aug2022_CustomerBase.shape[0]-ADC_Aug2022_CustomerBase['suspended_date_utc'].isna().sum()"
   ]
  },
  {
   "cell_type": "code",
   "execution_count": null,
   "id": "531c6d2d-a2a0-432e-8334-f2db92d10bd0",
   "metadata": {},
   "outputs": [],
   "source": [
    "# 100-(ADC_Aug2022_CustomerBase['suspended_date_utc'].isna().sum()*100/ADC_Aug2022_CustomerBase.shape[0])"
   ]
  },
  {
   "cell_type": "code",
   "execution_count": null,
   "id": "4dafeb1b-f7d0-40d7-8d65-88e90afbcfcb",
   "metadata": {},
   "outputs": [],
   "source": [
    "# ADC_Aug2022_CustomerBase['suspended_date_utc'].head(10)"
   ]
  },
  {
   "cell_type": "code",
   "execution_count": null,
   "id": "123678af-abb3-40da-888c-95f2f0d9ae1b",
   "metadata": {},
   "outputs": [],
   "source": [
    "ADC_Aug2022_CustomerBase.info()"
   ]
  },
  {
   "cell_type": "code",
   "execution_count": null,
   "id": "46169544-09c7-4d54-b9d2-4ac4c80754b3",
   "metadata": {},
   "outputs": [],
   "source": [
    "Query_Termination_details='''\n",
    "\n",
    "select * from `cio-datahub-enterprise-pr-183a.src_adc.bq_customer_account_terminated_details`\n",
    "Where term_date >='2022-08-01' and term_date < '2022-09-01'\n",
    "and account_type_name!='Standalone'\n",
    "and customer_type_name='Customer'\n",
    "QUALIFY ROW_NUMBER() OVER (PARTITION BY customer_id ORDER BY last_updt_ts DESC) = 1\n",
    "\n",
    "\n",
    "\n",
    "'''"
   ]
  },
  {
   "cell_type": "code",
   "execution_count": null,
   "id": "9c34cbfc-69b3-497f-9de4-33dc18f53fdf",
   "metadata": {},
   "outputs": [],
   "source": [
    "Termination_DF_Aug2022= extract_bq_data(bq_client,sql=Query_Termination_details)"
   ]
  },
  {
   "cell_type": "code",
   "execution_count": null,
   "id": "6c87c88e-dc66-4fc8-8e8b-4b4c37642f8f",
   "metadata": {},
   "outputs": [],
   "source": []
  },
  {
   "cell_type": "code",
   "execution_count": null,
   "id": "7d0d74f6-b733-4ef1-a878-5d9d04bb584e",
   "metadata": {},
   "outputs": [],
   "source": []
  },
  {
   "cell_type": "code",
   "execution_count": null,
   "id": "0769e992-a622-4d2e-a135-82d659d31ff9",
   "metadata": {},
   "outputs": [],
   "source": [
    "Termination_DF_Aug2022.info()"
   ]
  },
  {
   "cell_type": "code",
   "execution_count": null,
   "id": "c332e632-4d81-4777-9699-e4160edcd57a",
   "metadata": {},
   "outputs": [],
   "source": [
    "Termination_DF_Aug2022['Churn']=1"
   ]
  },
  {
   "cell_type": "code",
   "execution_count": null,
   "id": "a8c4032e-4d83-4633-a03a-e29c810a042e",
   "metadata": {},
   "outputs": [],
   "source": []
  },
  {
   "cell_type": "code",
   "execution_count": null,
   "id": "8835f39e-fac6-4d28-9b30-396a3b63cdcb",
   "metadata": {},
   "outputs": [],
   "source": [
    "Termination_DF_Aug2022['Churn'].sum()"
   ]
  },
  {
   "cell_type": "code",
   "execution_count": null,
   "id": "957582f8-0896-4c6f-992e-6ef8c3c5d78e",
   "metadata": {},
   "outputs": [],
   "source": [
    "Termination_DF_Aug2022['term_reason'].value_counts()"
   ]
  },
  {
   "cell_type": "code",
   "execution_count": null,
   "id": "07a9b68c-1474-45cf-935e-22cbe25a09d6",
   "metadata": {},
   "outputs": [],
   "source": [
    "cols_req_termination=['customer_id','term_date','term_reason','Churn']\n",
    "Termination_DF_Aug2022_sub=Termination_DF_Aug2022[cols_req_termination]"
   ]
  },
  {
   "cell_type": "code",
   "execution_count": null,
   "id": "63793880-50de-427b-8db6-466dfb46a981",
   "metadata": {},
   "outputs": [],
   "source": [
    "Termination_DF_Aug2022_sub.head()"
   ]
  },
  {
   "cell_type": "code",
   "execution_count": null,
   "id": "5ab33805-471a-4b4b-85bb-52c09681c764",
   "metadata": {},
   "outputs": [],
   "source": [
    "Termination_DF_Aug2022_sub['term_date'].min(),Termination_DF_Aug2022_sub['term_date'].max()"
   ]
  },
  {
   "cell_type": "code",
   "execution_count": null,
   "id": "b679281f-51e0-4204-b6a1-71920002b34a",
   "metadata": {},
   "outputs": [],
   "source": [
    "ADC_Aug2022_CustomerBase_merge=ADC_Aug2022_CustomerBase.merge(Termination_DF_Aug2022_sub,how='left',on='customer_id')"
   ]
  },
  {
   "cell_type": "code",
   "execution_count": null,
   "id": "0388ca93-d066-4b8a-b42b-20b02eec0ed5",
   "metadata": {},
   "outputs": [],
   "source": [
    "ADC_Aug2022_CustomerBase_merge.head()"
   ]
  },
  {
   "cell_type": "code",
   "execution_count": null,
   "id": "1a1fd235-0aef-4846-9e30-6d73fc039514",
   "metadata": {},
   "outputs": [],
   "source": [
    "ADC_Aug2022_CustomerBase_merge['Churn'].sum()"
   ]
  },
  {
   "cell_type": "code",
   "execution_count": null,
   "id": "6879ce78-bdb2-4957-be8d-cebc353be00f",
   "metadata": {},
   "outputs": [],
   "source": []
  },
  {
   "cell_type": "code",
   "execution_count": null,
   "id": "d904a821-4b3c-4a55-bc86-42b04d08ff05",
   "metadata": {},
   "outputs": [],
   "source": [
    "ADC_Aug2022_CustomerBase_merge['Churn'].fillna(0,inplace=True)"
   ]
  },
  {
   "cell_type": "code",
   "execution_count": null,
   "id": "eb276ade-5045-4cd7-86a6-ab1185d5525e",
   "metadata": {},
   "outputs": [],
   "source": [
    "ADC_Aug2022_CustomerBase_merge['Churn'].value_counts(normalize=True)*100"
   ]
  },
  {
   "cell_type": "code",
   "execution_count": null,
   "id": "d55eeab2-87fc-4bf8-aaba-2642e60362e6",
   "metadata": {},
   "outputs": [],
   "source": [
    "TC_Query='''\n",
    "\n",
    "\n",
    "select * from `ADC.Trouble_Condition_Group_last3months_Aug2022`\n",
    "\n",
    "\n",
    "'''"
   ]
  },
  {
   "cell_type": "code",
   "execution_count": null,
   "id": "4e42e0f5-cbf0-4baf-9094-e1f8e23693a6",
   "metadata": {},
   "outputs": [],
   "source": [
    "TC_Data=extract_bq_data(bq_client,sql=TC_Query)"
   ]
  },
  {
   "cell_type": "code",
   "execution_count": null,
   "id": "035d361b-9b7a-4e72-accb-38cb5af21f58",
   "metadata": {},
   "outputs": [],
   "source": [
    "TC_Data['TC_data_flag']=1"
   ]
  },
  {
   "cell_type": "code",
   "execution_count": null,
   "id": "db097580-ba2f-4b52-a556-5306f87369aa",
   "metadata": {},
   "outputs": [],
   "source": [
    "TC_Data.info()"
   ]
  },
  {
   "cell_type": "code",
   "execution_count": null,
   "id": "91d818cd-61dd-40e3-9c8f-8f333d0a7921",
   "metadata": {},
   "outputs": [],
   "source": [
    "ADC_Aug2022_CustomerBase_Full_data=ADC_Aug2022_CustomerBase_merge.merge(TC_Data,on='customer_id',how='left')"
   ]
  },
  {
   "cell_type": "code",
   "execution_count": null,
   "id": "39b45ea8-e3b6-4228-a727-ecbeeaa99a95",
   "metadata": {},
   "outputs": [],
   "source": [
    "ADC_Aug2022_CustomerBase_Full_data.head()"
   ]
  },
  {
   "cell_type": "code",
   "execution_count": null,
   "id": "a3f1f907-029e-4654-a2d0-5da5f93cc929",
   "metadata": {},
   "outputs": [],
   "source": [
    "ADC_Aug2022_CustomerBase_Full_data.info()"
   ]
  },
  {
   "cell_type": "code",
   "execution_count": null,
   "id": "75e7d5a2-0127-446c-9f59-d76b4f62decd",
   "metadata": {},
   "outputs": [],
   "source": [
    "ADC_Aug2022_CustomerBase_Full_data['TC_data_flag'].sum()"
   ]
  },
  {
   "cell_type": "code",
   "execution_count": null,
   "id": "dcbc3412-b383-448f-807c-eb0811c64997",
   "metadata": {},
   "outputs": [],
   "source": [
    "ADC_Aug2022_CustomerBase_Full_data['Central_Station_Condition_Issue_count_last3M'].fillna(0,inplace=True)\n",
    "ADC_Aug2022_CustomerBase_Full_data['Critical_System_Issue_count_last3M'].fillna(0,inplace=True)\n",
    "ADC_Aug2022_CustomerBase_Full_data['Engagement_Issue_count_last3M'].fillna(0,inplace=True)\n",
    "ADC_Aug2022_CustomerBase_Full_data['System_Condition_Issue_count_last3M'].fillna(0,inplace=True)\n",
    "ADC_Aug2022_CustomerBase_Full_data['Central_Station_Condition_Issue_duration_hours_sum_last3M'].fillna(0,inplace=True)\n",
    "ADC_Aug2022_CustomerBase_Full_data['Critical_System_Issue_duration_hours_sum_last3M'].fillna(0,inplace=True)\n",
    "ADC_Aug2022_CustomerBase_Full_data['Engagement_Issue_duration_hours_sum_last3M'].fillna(0,inplace=True)\n",
    "ADC_Aug2022_CustomerBase_Full_data['System_Condition_Issue_duration_hours_sum_last3M'].fillna(0,inplace=True)\n"
   ]
  },
  {
   "cell_type": "code",
   "execution_count": null,
   "id": "943299af-5bb0-447f-aa7c-645b7933af37",
   "metadata": {},
   "outputs": [],
   "source": [
    "\n",
    "# X=ADC_Aug2022_CustomerBase_Full_data['Central_Station_Condition_Issue_count_last3M'].to_numpy().reshape(-1,1)\n",
    "# y=ADC_Aug2022_CustomerBase_Full_data['Churn'].values\n",
    "# mutual_info_classif(X, y, discrete_features=True)\n"
   ]
  },
  {
   "cell_type": "code",
   "execution_count": null,
   "id": "3e8304a6-f12c-42ee-8898-65599c0ccbf8",
   "metadata": {},
   "outputs": [],
   "source": [
    "# from sklearn.feature_selection import mutual_info_classif\n",
    "# import numpy as np\n",
    "# import gc\n",
    "\n",
    "# TC_Cols=[\n",
    "# 'Central_Station_Condition_Issue_count_last3M',\n",
    "# 'Critical_System_Issue_count_last3M', \n",
    "# 'Engagement_Issue_count_last3M',\n",
    "# 'System_Condition_Issue_count_last3M',\n",
    "# 'Central_Station_Condition_Issue_duration_hours_sum_last3M',\n",
    "# 'Critical_System_Issue_duration_hours_sum_last3M',\n",
    "# 'Engagement_Issue_duration_hours_sum_last3M',\n",
    "# 'System_Condition_Issue_duration_hours_sum_last3M'\n",
    "# ]\n",
    "\n",
    "# MI_score_features_name = []\n",
    "# MI_score_features_value = []\n",
    "# Y=ADC_Aug2022_CustomerBase_Full_data['Churn'].values\n",
    "\n",
    "# for datacols in TC_Cols:\n",
    "#         X= ADC_Aug2022_CustomerBase_Full_data[datacols].fillna(0).to_numpy().reshape(-1,1)\n",
    "#         feature_scores= mutual_info_classif(X,Y,random_state=0)\n",
    "#         value= np.round(feature_scores[0],4)\n",
    "#         MI_score_features_value.append(value)\n",
    "#         MI_score_features_name.append(datacols)\n",
    "#         print(datacols,':',value)\n",
    "#         gc.collect()\n",
    "#         MI_data = pd.DataFrame(\n",
    "#         {'MI_score_features_name': MI_score_features_name,\n",
    "#         'MI_score_features_value': MI_score_features_value,\n",
    "#          'MI_features_datatype': 'numeric'})\n",
    "\n",
    "# MI_data.sort_values(by=['MI_score_features_value'],ascending=False)\n",
    "#         # .to_excel(data_processed+\"Numcols_Mutual_information_202101.xlsx\",index=False)\n",
    "# print(\"Mutual Information calculation for Numerical columns completed.\")\n",
    "\n"
   ]
  },
  {
   "cell_type": "code",
   "execution_count": null,
   "id": "212c384a-b646-46a3-a728-195a374c2063",
   "metadata": {},
   "outputs": [],
   "source": [
    "System_Check_Query_last3M='''\n",
    "\n",
    "\n",
    "select * from `divgpras-pr-579355.ADC.System_Check_last3months_May2022_Aug2022`\n",
    "\n",
    "\n",
    "'''"
   ]
  },
  {
   "cell_type": "code",
   "execution_count": null,
   "id": "86a806a2-eb37-4126-b34b-152bb499ad67",
   "metadata": {},
   "outputs": [],
   "source": [
    "System_Check_Query_last1M='''\n",
    "\n",
    "\n",
    "select * from `divgpras-pr-579355.ADC.System_Check_last1month_Jul2022_Aug2022`\n",
    "\n",
    "\n",
    "'''"
   ]
  },
  {
   "cell_type": "code",
   "execution_count": null,
   "id": "e470e098-fb9b-405e-985b-dd0f18a5ffff",
   "metadata": {},
   "outputs": [],
   "source": [
    "System_Check_Data_last3M=extract_bq_data(bq_client,sql=System_Check_Query_last3M)"
   ]
  },
  {
   "cell_type": "code",
   "execution_count": null,
   "id": "88fe0eac-034d-48c9-b35f-78b5820bd964",
   "metadata": {},
   "outputs": [],
   "source": [
    "System_Check_Data_last1M=extract_bq_data(bq_client,sql=System_Check_Query_last1M)"
   ]
  },
  {
   "cell_type": "code",
   "execution_count": null,
   "id": "491640f9-f5b8-40a8-90f2-b85e95d5d41a",
   "metadata": {},
   "outputs": [],
   "source": [
    "System_Check_Data_last3M.info()"
   ]
  },
  {
   "cell_type": "code",
   "execution_count": null,
   "id": "98b8a25e-119f-4b3d-8ce4-005098446592",
   "metadata": {},
   "outputs": [],
   "source": [
    "System_Check_Data_last3M.head()"
   ]
  },
  {
   "cell_type": "code",
   "execution_count": null,
   "id": "c58b418a-553b-4166-a1a5-bdcf920ec21a",
   "metadata": {},
   "outputs": [],
   "source": [
    "System_Check_Data_last3M['System_Check_data_last3M_flag']=1"
   ]
  },
  {
   "cell_type": "code",
   "execution_count": null,
   "id": "6f3ad347-f062-4855-9ab8-989c1a642268",
   "metadata": {},
   "outputs": [],
   "source": [
    "System_Check_Data_last1M['System_Check_data_last1M_flag']=1"
   ]
  },
  {
   "cell_type": "code",
   "execution_count": null,
   "id": "5128b8bd-7634-4064-8c61-51156ab50512",
   "metadata": {},
   "outputs": [],
   "source": [
    "ADC_Aug2022_CustomerBase_Full_data_2=ADC_Aug2022_CustomerBase_Full_data.merge(System_Check_Data_last3M,on='customer_id',how='left')"
   ]
  },
  {
   "cell_type": "code",
   "execution_count": null,
   "id": "f70c359b-7aa7-462a-a3de-58e76fb168f3",
   "metadata": {},
   "outputs": [],
   "source": [
    "ADC_Aug2022_CustomerBase_Full_data_1=ADC_Aug2022_CustomerBase_Full_data_2.merge(System_Check_Data_last1M,on='customer_id',how='left')"
   ]
  },
  {
   "cell_type": "code",
   "execution_count": null,
   "id": "a5fbe710-0d0c-43d6-a8af-90121c4df6c0",
   "metadata": {},
   "outputs": [],
   "source": [
    "ADC_Aug2022_CustomerBase_Full_data_1.info()"
   ]
  },
  {
   "cell_type": "code",
   "execution_count": null,
   "id": "6d18a588-5cb2-42b6-9680-fb42a815e6c6",
   "metadata": {},
   "outputs": [],
   "source": [
    "ADC_Aug2022_CustomerBase_Full_data_1.isna().sum()*100/ADC_Aug2022_CustomerBase_Full_data_1.shape[0]"
   ]
  },
  {
   "cell_type": "code",
   "execution_count": null,
   "id": "b6ea2afa-5444-4562-9715-f0ed6b40c5ba",
   "metadata": {},
   "outputs": [],
   "source": [
    "feature_cols_last3M = [col for col in ADC_Aug2022_CustomerBase_Full_data_1.columns if '_last3M' in col]\n",
    "feature_cols_last1M = [col for col in ADC_Aug2022_CustomerBase_Full_data_1.columns if '_last1M' in col]\n",
    "\n",
    "feature_cols_previous_months=feature_cols_last3M+feature_cols_last1M"
   ]
  },
  {
   "cell_type": "code",
   "execution_count": null,
   "id": "0b3a45c9-0913-4cfb-bd47-2a7fff4b00be",
   "metadata": {},
   "outputs": [],
   "source": [
    "ADC_Aug2022_CustomerBase_Full_data_1.update(ADC_Aug2022_CustomerBase_Full_data_1[feature_cols_previous_months].fillna(0))"
   ]
  },
  {
   "cell_type": "code",
   "execution_count": null,
   "id": "55e87429-80cb-4650-927a-7f1bccab4181",
   "metadata": {},
   "outputs": [],
   "source": [
    "ADC_Aug2022_CustomerBase_Full_data_1.info()"
   ]
  },
  {
   "cell_type": "code",
   "execution_count": null,
   "id": "ef3ea392-dffa-4096-9b9c-a9b3555f8fbb",
   "metadata": {},
   "outputs": [],
   "source": [
    "ADC_Aug2022_CustomerBase_Full_data_1['Churn']=ADC_Aug2022_CustomerBase_Full_data_1['Churn'].astype('category')"
   ]
  },
  {
   "cell_type": "code",
   "execution_count": null,
   "id": "bc941dbf-1cde-4fd2-ac07-b08adaed1211",
   "metadata": {},
   "outputs": [],
   "source": []
  },
  {
   "cell_type": "code",
   "execution_count": null,
   "id": "9cdc5106-b24b-49a0-a0cf-67d183242d5f",
   "metadata": {},
   "outputs": [],
   "source": [
    "from sklearn.feature_selection import mutual_info_classif\n",
    "import numpy as np\n",
    "import gc\n",
    "\n",
    "\n",
    "\n",
    "MI_score_features_name = []\n",
    "MI_score_features_value = []\n",
    "Y=ADC_Aug2022_CustomerBase_Full_data_1['Churn'].values\n",
    "\n",
    "for datacols in feature_cols_previous_months:\n",
    "        X= ADC_Aug2022_CustomerBase_Full_data_1[datacols].fillna(0).to_numpy().reshape(-1,1)\n",
    "        feature_scores= mutual_info_classif(X,Y,random_state=0)\n",
    "        value= np.round(feature_scores[0],4)*100\n",
    "        MI_score_features_value.append(value)\n",
    "        MI_score_features_name.append(datacols)\n",
    "        print(datacols,':',value)\n",
    "        gc.collect()\n",
    "        \n",
    "print(\"Mutual Information calculation for Numerical columns completed.\")"
   ]
  },
  {
   "cell_type": "code",
   "execution_count": null,
   "id": "43043592-75b9-4b8e-83a3-952d3220d29f",
   "metadata": {},
   "outputs": [],
   "source": [
    "MI_data = pd.DataFrame({'MI_score_features_name': MI_score_features_name,\n",
    "        'MI_score_features_value': MI_score_features_value,\n",
    "         'MI_features_datatype': 'numeric'})\n",
    "\n",
    "# MI_data.sort_values(by=['MI_score_features_value'],ascending=False)\n",
    "        # .to_excel(data_processed+\"Numcols_Mutual_information_202101.xlsx\",index=False)\n"
   ]
  },
  {
   "cell_type": "code",
   "execution_count": null,
   "id": "9a6a22bd-50e0-4041-95e8-917e0439b8a9",
   "metadata": {},
   "outputs": [],
   "source": []
  },
  {
   "cell_type": "code",
   "execution_count": null,
   "id": "3155533c-2588-4029-9235-bb0cf44b5fdd",
   "metadata": {},
   "outputs": [],
   "source": []
  },
  {
   "cell_type": "code",
   "execution_count": null,
   "id": "70952227-fcff-4864-8c46-aec54403ef99",
   "metadata": {},
   "outputs": [],
   "source": [
    "MI_data=MI_data.sort_values(by=['MI_score_features_value'],ascending=False)"
   ]
  },
  {
   "cell_type": "code",
   "execution_count": null,
   "id": "244bf4b8-ee33-44ce-a492-773320cebb59",
   "metadata": {},
   "outputs": [],
   "source": [
    "MI_data['MI_score_features_value']=MI_data['MI_score_features_value'].round(decimals=6)"
   ]
  },
  {
   "cell_type": "code",
   "execution_count": null,
   "id": "9edc4c88-b672-4027-8d5b-2ba96e734879",
   "metadata": {},
   "outputs": [],
   "source": [
    "MI_data"
   ]
  },
  {
   "cell_type": "code",
   "execution_count": null,
   "id": "ee564970-e7b3-4dd8-a6b3-51f98cb8d9af",
   "metadata": {},
   "outputs": [],
   "source": [
    "config= bigquery.job.LoadJobConfig()\n",
    "\n",
    "# config._properties['timePartitioning'] = {'field': 'Month_Year'}\n",
    "config.write_disposition = bigquery.WriteDisposition.WRITE_TRUNCATE\n",
    "\n",
    "Table_BQ = 'ADC.Mutual_Info_table'\n",
    "\n",
    "bq_table_instance= bq_client.load_table_from_dataframe(MI_data, Table_BQ,job_config=config)"
   ]
  },
  {
   "cell_type": "code",
   "execution_count": null,
   "id": "c487597e-53f7-43dd-b104-2d5c77194152",
   "metadata": {},
   "outputs": [],
   "source": [
    "from scipy import stats\n",
    "\n",
    "corr_list_name = []\n",
    "corr_list_correlation = []\n",
    "corr_list_pvalue = []\n",
    "\n",
    "y = ADC_Aug2022_CustomerBase_Full_data_1['Churn'].astype(float)\n",
    "\n",
    "\n",
    "for column in feature_cols_previous_months:\n",
    "    x=ADC_Aug2022_CustomerBase_Full_data_1[column]\n",
    "    corr = stats.pointbiserialr(list(x), list(y))\n",
    "    corr_list_name.append(column)\n",
    "    corr_list_correlation.append(corr[0])\n",
    "    corr_list_pvalue.append(corr[1])\n",
    "    print(column,':',corr)\n",
    "    gc.collect()\n",
    "\n"
   ]
  },
  {
   "cell_type": "code",
   "execution_count": null,
   "id": "7cf56edf-8888-4658-b553-e73fdbed7c53",
   "metadata": {},
   "outputs": [],
   "source": [
    "BI_data = pd.DataFrame({'BC_score_features_name': corr_list_name,\n",
    "        'BC_score_correlation': corr_list_correlation,\n",
    "        'BC_score_pvalue': corr_list_pvalue,\n",
    "         'BC_features_datatype': 'numeric'})"
   ]
  },
  {
   "cell_type": "code",
   "execution_count": null,
   "id": "51532bed-c996-48f9-aa46-77e1566c9455",
   "metadata": {},
   "outputs": [],
   "source": [
    "BI_data"
   ]
  },
  {
   "cell_type": "code",
   "execution_count": null,
   "id": "541c5be6-5085-48f7-aca6-c3c8eb2b0d06",
   "metadata": {},
   "outputs": [],
   "source": []
  }
 ],
 "metadata": {
  "kernelspec": {
   "display_name": "Python 3 (ipykernel)",
   "language": "python",
   "name": "python3"
  },
  "language_info": {
   "codemirror_mode": {
    "name": "ipython",
    "version": 3
   },
   "file_extension": ".py",
   "mimetype": "text/x-python",
   "name": "python",
   "nbconvert_exporter": "python",
   "pygments_lexer": "ipython3",
   "version": "3.8.12"
  }
 },
 "nbformat": 4,
 "nbformat_minor": 5
}
