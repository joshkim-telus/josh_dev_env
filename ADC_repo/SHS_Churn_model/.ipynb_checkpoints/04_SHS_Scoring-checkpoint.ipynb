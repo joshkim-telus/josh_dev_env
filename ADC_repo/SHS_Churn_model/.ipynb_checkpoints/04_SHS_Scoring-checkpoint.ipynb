{
 "cells": [
  {
   "cell_type": "code",
   "execution_count": 1,
   "id": "d2dfb833-8dcc-4324-ba3c-6b2a36c25319",
   "metadata": {},
   "outputs": [],
   "source": [
    "#### import global modules\n",
    "import os\n",
    "import sys\n",
    "import pandas as pd\n",
    "import numpy as np\n",
    "from pathlib import Path\n",
    "from yaml import safe_load\n",
    "import google.oauth2.credentials\n",
    "from google.cloud import bigquery\n",
    "import gc\n",
    "\n",
    "# Set global vars\n",
    "pth_project = Path(os.getcwd().split('notebooks')[0])\n",
    "pth_data = pth_project / 'data'\n",
    "pth_queries = pth_project / 'core' / 'queries'\n",
    "pth_creds = pth_project / 'conf' / 'local' / 'project_config.yaml'\n",
    "sys.path.insert(0, str(pth_project))\n",
    "d_project_config = safe_load(pth_creds.open())\n",
    "# d_params = safe_load((pth_project / 'core' / 'parameters' / 'common.yaml').open())['data_extract']\n",
    "\n",
    "# import local modules\n",
    "from core.utils.gcp import connect_bq_services\n",
    "# from core.etl.extract import extract_bq_data, extract_pr_codes, format_conv_df, filter_convs\n",
    "\n",
    "# Connect to google services\n",
    "bq_client = connect_bq_services(d_project_config['gcp-project-name'])\n",
    "pd.options.display.max_rows = 100"
   ]
  },
  {
   "cell_type": "code",
   "execution_count": null,
   "id": "5dfa10ae-e392-430e-9c15-df8a7214ec68",
   "metadata": {},
   "outputs": [],
   "source": []
  },
  {
   "cell_type": "code",
   "execution_count": 2,
   "id": "9ccda073-f1fb-41b7-a685-201c4724c607",
   "metadata": {},
   "outputs": [],
   "source": [
    "def extract_bq_data(bq_client, sql=None, pth_query=None):\n",
    "    if sql is not None:\n",
    "        df = bq_client.query(sql).to_dataframe()\n",
    "    elif pth_query is not None:\n",
    "        sql = pth_query.read_text()\n",
    "        df = bq_client.query(sql).to_dataframe()\n",
    "    else:\n",
    "        raise ValueError('`sql` or `pth_query` should be set')  \n",
    "    return df"
   ]
  },
  {
   "cell_type": "code",
   "execution_count": 3,
   "id": "0223f580-e2c1-4db0-a68a-3ad99a7d8b39",
   "metadata": {},
   "outputs": [],
   "source": [
    "Query='''\n",
    "\n",
    "\n",
    "DECLARE\n",
    "  start_dt_snpsht DATE DEFAULT '2023-01-01';\n",
    "DECLARE\n",
    "  end_dt_snpsht DATE DEFAULT '2023-03-31';\n",
    "--DECLARE\n",
    "  --churn_dt_snpsht_start DATE DEFAULT '2023-03-01';\n",
    "--DECLARE\n",
    "  --churn_dt_snpsht_end DATE DEFAULT '2023-03-31';  \n",
    "\n",
    "\n",
    "\n",
    "\n",
    "WITH Customer_Base as (select * from `divgpras-pr-579355.SHS.SHS_churn_model_base_score_data_jan23_mar23`)\n",
    "\n",
    ", ADC_BP as ( \n",
    "select *,(Best_Practices_1+Best_Practices_2+Best_Practices_3+Best_Practices_4+Best_Practices_5+Best_Practices_6) as Best_Practice_All\n",
    "from \n",
    "\n",
    "(\n",
    "  -- #1 from_item\n",
    "  SELECT \n",
    "    customer_id,\n",
    "    best_practices_id,\n",
    "     case when best_practices_ind=True then 1 else 0 end as Best_practices_flag,\n",
    "\n",
    "  FROM `cio-datahub-enterprise-pr-183a.src_adc.bq_customer_best_practice`\n",
    "  where DATE(dt_last_calculate_utc) <= end_dt_snpsht\n",
    "  QUALIFY ROW_NUMBER() OVER (PARTITION BY customer_id,best_practices_id ORDER BY last_updt_ts DESC) = 1\n",
    ")\n",
    "PIVOT\n",
    "(\n",
    "  -- #2 aggregate\n",
    "  sum(Best_practices_flag) AS Best_Practices\n",
    "  -- #3 pivot_column\n",
    "  FOR best_practices_id in (1,2,3,4,5,6)\n",
    ")\n",
    "\n",
    ")\n",
    "\n",
    "\n",
    ",ADC_arming AS (\n",
    "\n",
    "With date_sql as (\n",
    "select  count(distinct date(date)) as count_of_dates from `cio-datahub-enterprise-pr-183a.src_adc.bq_aggregate_daily_arming_commands`\n",
    "where date(date)<= end_dt_snpsht and date(date)>= start_dt_snpsht\n",
    "\n",
    ")\n",
    "\n",
    "select \n",
    "    id_cust as customer_id\n",
    "    ,sum(count_arm_commands) as sum_arm_commands\n",
    "    ,sum(count_disarm_commands) as sum_disarm_commands\n",
    "    ,count (distinct date(date)) as number_days_arming_disarming\n",
    "    , (select count_of_dates from date_sql ) as count_of_dates_arming\n",
    "    , round(count (distinct date(date))*100/(select max(count_of_dates) from date_sql),0) as arming_consistency\n",
    "    , round(sum(count_arm_commands)/(count (distinct date(date))),0) as Avg_arm_per_day\n",
    "    ,round(sum(count_disarm_commands)/(count (distinct date(date))),0) as Avg_disarm_per_day\n",
    "from `cio-datahub-enterprise-pr-183a.src_adc.bq_aggregate_daily_arming_commands`\n",
    "where date(date)<= end_dt_snpsht and date(date)>= start_dt_snpsht\n",
    "group by customer_id\n",
    "order by number_days_arming_disarming desc\n",
    "\n",
    ")\n",
    "\n",
    "\n",
    ", ADC_login as (\n",
    "\n",
    "with date_sql as (\n",
    "select  count(distinct date(login_dt_utc)) as count_of_dates from `cio-datahub-enterprise-pr-183a.src_adc.bq_customer_daily_logins`\n",
    "where date(login_dt_utc)<= end_dt_snpsht and date(login_dt_utc)>= start_dt_snpsht\n",
    "\n",
    ")\n",
    "\n",
    "select customer_id,sum(login_count) as sum_login_count,count (distinct date(login_dt_utc)) as number_of_login_days, (select count_of_dates from date_sql ) as count_of_dates_login, round(count (distinct date(login_dt_utc))*100/(select max(count_of_dates) from date_sql),0) as login_consistency, round(sum(login_count)/(count (distinct date(login_dt_utc))),0) as Avg_login_per_day\n",
    "from `cio-datahub-enterprise-pr-183a.src_adc.bq_customer_daily_logins`\n",
    "where date(login_dt_utc)<= end_dt_snpsht and date(login_dt_utc)>= start_dt_snpsht\n",
    "group by customer_id\n",
    "order by login_consistency desc\n",
    "\n",
    "\n",
    "\n",
    ")\n",
    "\n",
    "\n",
    ", cte_product_mix AS (\n",
    "  \n",
    "SELECT distinct cast (ffh_prod.bacct_bus_bacct_num as STRING) AS ban,\n",
    "         COUNT(DISTINCT CASE WHEN ffh_prod.pi_prod_instnc_typ_cd IN ('SING', 'HSIC', 'TTV', 'SMHM', 'STV', 'DIIC','C') THEN ffh_prod.pi_prod_instnc_typ_cd ELSE NULL END) AS product_mix_all,\n",
    "         COUNT(DISTINCT CASE WHEN ffh_prod.pi_prod_instnc_typ_cd = 'HSIC' THEN ffh_prod.bus_prod_instnc_id ELSE NULL END) AS hsic_count,\n",
    "         COUNT(DISTINCT CASE WHEN ffh_prod.pi_prod_instnc_typ_cd = 'SING' THEN ffh_prod.bus_prod_instnc_id ELSE NULL END) AS sing_count,\n",
    "         COUNT(DISTINCT CASE WHEN ffh_prod.pi_prod_instnc_typ_cd = 'SMHM' THEN ffh_prod.bus_prod_instnc_id ELSE NULL END) AS shs_count,\n",
    "         COUNT(DISTINCT CASE WHEN ffh_prod.pi_prod_instnc_typ_cd = 'TTV'  THEN ffh_prod.bus_prod_instnc_id ELSE NULL END) AS ttv_count,\n",
    "         COUNT(DISTINCT CASE WHEN ffh_prod.pi_prod_instnc_typ_cd = 'STV'  THEN ffh_prod.bus_prod_instnc_id ELSE NULL END) AS stv_count,\n",
    "         COUNT(DISTINCT CASE WHEN ffh_prod.pi_prod_instnc_typ_cd = 'DIIC' THEN ffh_prod.bus_prod_instnc_id ELSE NULL END) AS diic_count   \n",
    "         FROM `cio-datahub-enterprise-pr-183a.ent_cust_cust.bq_prod_instnc_snpsht` AS ffh_prod\n",
    "   \n",
    "   WHERE DATE(ffh_prod.prod_instnc_ts) = end_dt_snpsht\n",
    "     AND ffh_prod.pi_prod_instnc_stat_cd = 'A' --Active Products\n",
    "     AND ffh_prod.consldt_cust_typ_cd = 'R' --Regular (not Business)\n",
    "     AND ffh_prod.pi_prod_instnc_typ_cd IN \n",
    "         (\n",
    "           'DIIC', --Dialup\n",
    "           'HSIC', --High Speed\n",
    "           'SING', --Home Phone\n",
    "           'SMHM', --Smart Home\n",
    "           'STV',  --Satelite\n",
    "           'TTV'   --TV\n",
    "         )\n",
    "GROUP BY ffh_prod.bacct_bus_bacct_num\n",
    "--QUALIFY ROW_NUMBER() OVER (PARTITION BY ffh_prod.bacct_bus_bacct_num ORDER BY ffh_prod.prod_instnc_ts ) = 1\n",
    ")\n",
    "\n",
    "\n",
    "\n",
    ", ARPU_Calculation as(\n",
    "\n",
    "with ARPU_full as (\n",
    "SELECT\n",
    "  distinct cast (billg_acct_num as string) AS ban,\n",
    "  EXTRACT(YEAR\n",
    "  FROM\n",
    "    bill.bill_dt)||'-'||LPAD(CAST(EXTRACT(MONTH\n",
    "      FROM\n",
    "        bill.bill_dt) AS STRING), 2, '0') AS bill_year_month,\n",
    "  sum(bill.rid_unit_chrg_amt) as ARPU_SMHM,\n",
    "  sum(tot_inv_amt) as ARPU_FFH\n",
    "  FROM\n",
    "  `cio-datahub-enterprise-pr-183a.ent_cust_bill.bq_wln_inv_sum_view` bill\n",
    "WHERE\n",
    "  DATE(bill.bill_dt)>=  start_dt_snpsht\n",
    "  and DATE(bill.bill_dt)<= end_dt_snpsht\n",
    "  group by ban,bill_year_month\n",
    ")\n",
    "\n",
    "select ban, round(avg(ARPU_SMHM),0) as Avg_SMHM_ARPU,round(avg(ARPU_FFH),0) as Avg_FFH_ARPU \n",
    "from ARPU_full group by ban\n",
    "\n",
    ")\n",
    "\n",
    "\n",
    "\n",
    "\n",
    "select cb.*,bp.*,arm.* ,lg.*,prod_mix.*,ARPU.*\n",
    "from Customer_Base cb\n",
    "left join ADC_BP bp\n",
    "on cb.customer_id=bp.customer_id\n",
    "left join ADC_arming arm\n",
    "on cb.customer_id=arm.customer_id\n",
    "left join ADC_login lg\n",
    "on cb.customer_id=lg.customer_id\n",
    "left join cte_product_mix as prod_mix\n",
    "on cb.BAN=prod_mix.ban\n",
    "left join ARPU_Calculation as ARPU\n",
    "on cb.BAN=ARPU.ban\n",
    "\n",
    "'''"
   ]
  },
  {
   "cell_type": "code",
   "execution_count": 4,
   "id": "c16878d7-b337-4623-a2a6-9090d8ef1862",
   "metadata": {},
   "outputs": [],
   "source": [
    "DF=extract_bq_data(bq_client, sql=Query)"
   ]
  },
  {
   "cell_type": "code",
   "execution_count": 5,
   "id": "791e30e4-21ad-41dd-a584-a27880016499",
   "metadata": {},
   "outputs": [
    {
     "name": "stdout",
     "output_type": "stream",
     "text": [
      "<class 'pandas.core.frame.DataFrame'>\n",
      "RangeIndex: 598803 entries, 0 to 598802\n",
      "Data columns (total 52 columns):\n",
      " #   Column                        Non-Null Count   Dtype  \n",
      "---  ------                        --------------   -----  \n",
      " 0   Telus_ID                      598803 non-null  object \n",
      " 1   BAN                           598803 non-null  object \n",
      " 2   contract_start_date           421171 non-null  object \n",
      " 3   contract_end_date             598803 non-null  object \n",
      " 4   Intial_activation_date        598803 non-null  object \n",
      " 5   contract_end_status           598803 non-null  object \n",
      " 6   Contract_start_months         421171 non-null  Int64  \n",
      " 7   dealer_customer_id            461601 non-null  object \n",
      " 8   customer_id                   461601 non-null  Int64  \n",
      " 9   primary_login_id              461601 non-null  Int64  \n",
      " 10  dealer_name                   598803 non-null  object \n",
      " 11  join_date                     461601 non-null  object \n",
      " 12  account_type_name             461601 non-null  object \n",
      " 13  customer_type_name            461601 non-null  object \n",
      " 14  Package                       598803 non-null  object \n",
      " 15  Tenure_months                 461601 non-null  Int64  \n",
      " 16  Interactivity_flag            598803 non-null  Int64  \n",
      " 17  ADT_migrated_customer         598803 non-null  Int64  \n",
      " 18  Province_code                 598800 non-null  object \n",
      " 19  customer_id_1                 451833 non-null  Int64  \n",
      " 20  Best_Practices_1              451833 non-null  Int64  \n",
      " 21  Best_Practices_2              451833 non-null  Int64  \n",
      " 22  Best_Practices_3              451833 non-null  Int64  \n",
      " 23  Best_Practices_4              451833 non-null  Int64  \n",
      " 24  Best_Practices_5              451833 non-null  Int64  \n",
      " 25  Best_Practices_6              451833 non-null  Int64  \n",
      " 26  Best_Practice_All             451833 non-null  Int64  \n",
      " 27  customer_id_2                 219286 non-null  Int64  \n",
      " 28  sum_arm_commands              219286 non-null  Int64  \n",
      " 29  sum_disarm_commands           219286 non-null  Int64  \n",
      " 30  number_days_arming_disarming  219286 non-null  Int64  \n",
      " 31  count_of_dates_arming         219286 non-null  Int64  \n",
      " 32  arming_consistency            219286 non-null  float64\n",
      " 33  Avg_arm_per_day               219286 non-null  float64\n",
      " 34  Avg_disarm_per_day            219286 non-null  float64\n",
      " 35  customer_id_3                 370760 non-null  Int64  \n",
      " 36  sum_login_count               370760 non-null  Int64  \n",
      " 37  number_of_login_days          370760 non-null  Int64  \n",
      " 38  count_of_dates_login          370760 non-null  Int64  \n",
      " 39  login_consistency             370760 non-null  float64\n",
      " 40  Avg_login_per_day             370760 non-null  float64\n",
      " 41  ban_1                         598803 non-null  object \n",
      " 42  product_mix_all               598803 non-null  Int64  \n",
      " 43  hsic_count                    598803 non-null  Int64  \n",
      " 44  sing_count                    598803 non-null  Int64  \n",
      " 45  shs_count                     598803 non-null  Int64  \n",
      " 46  ttv_count                     598803 non-null  Int64  \n",
      " 47  stv_count                     598803 non-null  Int64  \n",
      " 48  diic_count                    598803 non-null  Int64  \n",
      " 49  ban_2                         541056 non-null  object \n",
      " 50  Avg_SMHM_ARPU                 540795 non-null  object \n",
      " 51  Avg_FFH_ARPU                  541056 non-null  object \n",
      "dtypes: Int64(30), float64(5), object(17)\n",
      "memory usage: 254.7+ MB\n"
     ]
    }
   ],
   "source": [
    "DF.info()"
   ]
  },
  {
   "cell_type": "code",
   "execution_count": 14,
   "id": "13488b60-908a-422f-96d3-15f10da90c6b",
   "metadata": {},
   "outputs": [
    {
     "data": {
      "text/html": [
       "<div>\n",
       "<style scoped>\n",
       "    .dataframe tbody tr th:only-of-type {\n",
       "        vertical-align: middle;\n",
       "    }\n",
       "\n",
       "    .dataframe tbody tr th {\n",
       "        vertical-align: top;\n",
       "    }\n",
       "\n",
       "    .dataframe thead th {\n",
       "        text-align: right;\n",
       "    }\n",
       "</style>\n",
       "<table border=\"1\" class=\"dataframe\">\n",
       "  <thead>\n",
       "    <tr style=\"text-align: right;\">\n",
       "      <th></th>\n",
       "      <th>Telus_ID</th>\n",
       "      <th>BAN</th>\n",
       "      <th>contract_start_date</th>\n",
       "      <th>contract_end_date</th>\n",
       "      <th>Intial_activation_date</th>\n",
       "      <th>contract_end_status</th>\n",
       "      <th>Contract_start_months</th>\n",
       "      <th>dealer_customer_id</th>\n",
       "      <th>customer_id</th>\n",
       "      <th>primary_login_id</th>\n",
       "      <th>...</th>\n",
       "      <th>product_mix_all</th>\n",
       "      <th>hsic_count</th>\n",
       "      <th>sing_count</th>\n",
       "      <th>shs_count</th>\n",
       "      <th>ttv_count</th>\n",
       "      <th>stv_count</th>\n",
       "      <th>diic_count</th>\n",
       "      <th>ban_2</th>\n",
       "      <th>Avg_SMHM_ARPU</th>\n",
       "      <th>Avg_FFH_ARPU</th>\n",
       "    </tr>\n",
       "  </thead>\n",
       "  <tbody>\n",
       "    <tr>\n",
       "      <th>0</th>\n",
       "      <td>98324694</td>\n",
       "      <td>603568819</td>\n",
       "      <td>2011-03-01</td>\n",
       "      <td>2014-03-01</td>\n",
       "      <td>2018-07-20</td>\n",
       "      <td>contract_expired</td>\n",
       "      <td>144</td>\n",
       "      <td>None</td>\n",
       "      <td>&lt;NA&gt;</td>\n",
       "      <td>&lt;NA&gt;</td>\n",
       "      <td>...</td>\n",
       "      <td>1</td>\n",
       "      <td>0</td>\n",
       "      <td>0</td>\n",
       "      <td>1</td>\n",
       "      <td>0</td>\n",
       "      <td>0</td>\n",
       "      <td>0</td>\n",
       "      <td>603568819</td>\n",
       "      <td>27.000000000</td>\n",
       "      <td>30.000000000</td>\n",
       "    </tr>\n",
       "    <tr>\n",
       "      <th>1</th>\n",
       "      <td>1640915</td>\n",
       "      <td>604839065</td>\n",
       "      <td>2021-09-08</td>\n",
       "      <td>2024-09-08</td>\n",
       "      <td>2021-09-08</td>\n",
       "      <td>contract_expiring_after_90_days</td>\n",
       "      <td>18</td>\n",
       "      <td>None</td>\n",
       "      <td>&lt;NA&gt;</td>\n",
       "      <td>&lt;NA&gt;</td>\n",
       "      <td>...</td>\n",
       "      <td>2</td>\n",
       "      <td>1</td>\n",
       "      <td>0</td>\n",
       "      <td>1</td>\n",
       "      <td>0</td>\n",
       "      <td>0</td>\n",
       "      <td>0</td>\n",
       "      <td>604839065</td>\n",
       "      <td>30.000000000</td>\n",
       "      <td>86.000000000</td>\n",
       "    </tr>\n",
       "    <tr>\n",
       "      <th>2</th>\n",
       "      <td>105061063</td>\n",
       "      <td>605529234</td>\n",
       "      <td>2022-01-01</td>\n",
       "      <td>2024-01-01</td>\n",
       "      <td>2022-11-17</td>\n",
       "      <td>contract_expiring_after_90_days</td>\n",
       "      <td>14</td>\n",
       "      <td>None</td>\n",
       "      <td>&lt;NA&gt;</td>\n",
       "      <td>&lt;NA&gt;</td>\n",
       "      <td>...</td>\n",
       "      <td>1</td>\n",
       "      <td>0</td>\n",
       "      <td>0</td>\n",
       "      <td>1</td>\n",
       "      <td>0</td>\n",
       "      <td>0</td>\n",
       "      <td>0</td>\n",
       "      <td>605529234</td>\n",
       "      <td>40.000000000</td>\n",
       "      <td>32.000000000</td>\n",
       "    </tr>\n",
       "    <tr>\n",
       "      <th>3</th>\n",
       "      <td>10094850</td>\n",
       "      <td>230744466</td>\n",
       "      <td>2022-05-27</td>\n",
       "      <td>2025-05-27</td>\n",
       "      <td>2022-05-27</td>\n",
       "      <td>contract_expiring_after_90_days</td>\n",
       "      <td>10</td>\n",
       "      <td>None</td>\n",
       "      <td>&lt;NA&gt;</td>\n",
       "      <td>&lt;NA&gt;</td>\n",
       "      <td>...</td>\n",
       "      <td>5</td>\n",
       "      <td>1</td>\n",
       "      <td>1</td>\n",
       "      <td>1</td>\n",
       "      <td>1</td>\n",
       "      <td>0</td>\n",
       "      <td>2</td>\n",
       "      <td>230744466</td>\n",
       "      <td>39.000000000</td>\n",
       "      <td>181.000000000</td>\n",
       "    </tr>\n",
       "    <tr>\n",
       "      <th>4</th>\n",
       "      <td>104963217</td>\n",
       "      <td>605483573</td>\n",
       "      <td>2021-04-24</td>\n",
       "      <td>2023-04-24</td>\n",
       "      <td>2022-10-31</td>\n",
       "      <td>contract_expiring_within_90_days</td>\n",
       "      <td>23</td>\n",
       "      <td>None</td>\n",
       "      <td>&lt;NA&gt;</td>\n",
       "      <td>&lt;NA&gt;</td>\n",
       "      <td>...</td>\n",
       "      <td>1</td>\n",
       "      <td>0</td>\n",
       "      <td>0</td>\n",
       "      <td>1</td>\n",
       "      <td>0</td>\n",
       "      <td>0</td>\n",
       "      <td>0</td>\n",
       "      <td>605483573</td>\n",
       "      <td>20.000000000</td>\n",
       "      <td>23.000000000</td>\n",
       "    </tr>\n",
       "  </tbody>\n",
       "</table>\n",
       "<p>5 rows × 52 columns</p>\n",
       "</div>"
      ],
      "text/plain": [
       "    Telus_ID        BAN contract_start_date contract_end_date  \\\n",
       "0   98324694  603568819          2011-03-01        2014-03-01   \n",
       "1    1640915  604839065          2021-09-08        2024-09-08   \n",
       "2  105061063  605529234          2022-01-01        2024-01-01   \n",
       "3   10094850  230744466          2022-05-27        2025-05-27   \n",
       "4  104963217  605483573          2021-04-24        2023-04-24   \n",
       "\n",
       "  Intial_activation_date               contract_end_status  \\\n",
       "0             2018-07-20                  contract_expired   \n",
       "1             2021-09-08   contract_expiring_after_90_days   \n",
       "2             2022-11-17   contract_expiring_after_90_days   \n",
       "3             2022-05-27   contract_expiring_after_90_days   \n",
       "4             2022-10-31  contract_expiring_within_90_days   \n",
       "\n",
       "   Contract_start_months dealer_customer_id  customer_id  primary_login_id  \\\n",
       "0                    144               None         <NA>              <NA>   \n",
       "1                     18               None         <NA>              <NA>   \n",
       "2                     14               None         <NA>              <NA>   \n",
       "3                     10               None         <NA>              <NA>   \n",
       "4                     23               None         <NA>              <NA>   \n",
       "\n",
       "   ... product_mix_all hsic_count sing_count shs_count ttv_count  stv_count  \\\n",
       "0  ...               1          0          0         1         0          0   \n",
       "1  ...               2          1          0         1         0          0   \n",
       "2  ...               1          0          0         1         0          0   \n",
       "3  ...               5          1          1         1         1          0   \n",
       "4  ...               1          0          0         1         0          0   \n",
       "\n",
       "   diic_count      ban_2 Avg_SMHM_ARPU   Avg_FFH_ARPU  \n",
       "0           0  603568819  27.000000000   30.000000000  \n",
       "1           0  604839065  30.000000000   86.000000000  \n",
       "2           0  605529234  40.000000000   32.000000000  \n",
       "3           2  230744466  39.000000000  181.000000000  \n",
       "4           0  605483573  20.000000000   23.000000000  \n",
       "\n",
       "[5 rows x 52 columns]"
      ]
     },
     "execution_count": 14,
     "metadata": {},
     "output_type": "execute_result"
    }
   ],
   "source": [
    "DF.head()"
   ]
  },
  {
   "cell_type": "code",
   "execution_count": 15,
   "id": "d87d16f0-a701-499f-87a1-1b2e973c1f5b",
   "metadata": {},
   "outputs": [],
   "source": [
    "# DF['SMHM_Churn'].fillna(0,inplace=True)"
   ]
  },
  {
   "cell_type": "code",
   "execution_count": 16,
   "id": "fb2e5c8e-f037-402b-b9f2-b4c0febd5215",
   "metadata": {},
   "outputs": [],
   "source": [
    "# DF['churn_date'].fillna(0,inplace=True)"
   ]
  },
  {
   "cell_type": "code",
   "execution_count": 17,
   "id": "44551826-e9c6-4c56-9d3d-75263103bc07",
   "metadata": {},
   "outputs": [],
   "source": [
    "# DF['SMHM_Churn'].value_counts()"
   ]
  },
  {
   "cell_type": "code",
   "execution_count": 18,
   "id": "ea607d65-1fab-427c-90d0-98ecc42886de",
   "metadata": {},
   "outputs": [],
   "source": [
    "# DF['churn_date'].value_counts()"
   ]
  },
  {
   "cell_type": "code",
   "execution_count": 19,
   "id": "a463181f-3bd5-4391-9e56-1baec887d876",
   "metadata": {},
   "outputs": [],
   "source": [
    "# DF['churn_date'].min()"
   ]
  },
  {
   "cell_type": "code",
   "execution_count": 20,
   "id": "efe2afc4-a010-4845-8757-bc6ea557629b",
   "metadata": {},
   "outputs": [],
   "source": [
    "# DF['SMHM_Churn'].value_counts(normalize=True)*100"
   ]
  },
  {
   "cell_type": "code",
   "execution_count": 21,
   "id": "b5c6a0c3-97db-4057-8f93-22bccce958ac",
   "metadata": {},
   "outputs": [
    {
     "data": {
      "text/plain": [
       "1     594446\n",
       "2       4088\n",
       "3        158\n",
       "4         17\n",
       "6          9\n",
       "5          9\n",
       "25         8\n",
       "18         7\n",
       "8          6\n",
       "9          6\n",
       "21         5\n",
       "10         4\n",
       "20         4\n",
       "13         4\n",
       "7          4\n",
       "17         4\n",
       "11         3\n",
       "19         3\n",
       "22         3\n",
       "14         3\n",
       "28         2\n",
       "12         2\n",
       "24         2\n",
       "16         2\n",
       "26         1\n",
       "15         1\n",
       "30         1\n",
       "35         1\n",
       "Name: shs_count, dtype: Int64"
      ]
     },
     "execution_count": 21,
     "metadata": {},
     "output_type": "execute_result"
    }
   ],
   "source": [
    "DF['shs_count'].value_counts()"
   ]
  },
  {
   "cell_type": "code",
   "execution_count": 22,
   "id": "fd4b9c7c-f62d-41ff-aad5-593273dc5cdf",
   "metadata": {},
   "outputs": [],
   "source": [
    "def login_consistency_cat(row):\n",
    "    if row['login_consistency']>30:\n",
    "        return 'Heavy_User'\n",
    "    elif row['login_consistency']>0 and row['login_consistency']<=30:\n",
    "        return 'Low_User'\n",
    "    elif row['Interactivity_flag']==1:\n",
    "        return 'No_User'\n",
    "    elif row['Interactivity_flag']==0:\n",
    "        return 'No_ADC_account'\n",
    "    else:\n",
    "        return 'None_of_the_above'"
   ]
  },
  {
   "cell_type": "code",
   "execution_count": 23,
   "id": "fd316ae1-26fa-479c-bf00-129d41a78f56",
   "metadata": {},
   "outputs": [],
   "source": [
    "def arming_consistency_cat(row):\n",
    "    if row['arming_consistency']>30:\n",
    "        return 'Heavy_User'\n",
    "    elif row['arming_consistency']>0 and row['arming_consistency']<=30:\n",
    "        return 'Low_User'\n",
    "    elif row['Interactivity_flag']==1:\n",
    "        return 'No_User'\n",
    "    elif row['Interactivity_flag']==0:\n",
    "        return 'No_ADC_account'\n",
    "    else:\n",
    "        return 'None_of_the_above'"
   ]
  },
  {
   "cell_type": "code",
   "execution_count": 24,
   "id": "b8daecaa-9f22-48f8-b983-a08379b2b1c8",
   "metadata": {},
   "outputs": [],
   "source": [
    "DF['login_consistency_cat']=DF.apply(login_consistency_cat,axis=1)"
   ]
  },
  {
   "cell_type": "code",
   "execution_count": 25,
   "id": "bbaa9a42-49a6-4261-9866-a0f23731f6c0",
   "metadata": {},
   "outputs": [],
   "source": [
    "DF['arming_consistency_cat']=DF.apply(arming_consistency_cat,axis=1)"
   ]
  },
  {
   "cell_type": "code",
   "execution_count": 26,
   "id": "d36b6568-36a0-4d02-83d4-f426c17d644a",
   "metadata": {},
   "outputs": [
    {
     "data": {
      "text/plain": [
       "Heavy_User        238595\n",
       "No_ADC_account    137202\n",
       "Low_User          132165\n",
       "No_User            90841\n",
       "Name: login_consistency_cat, dtype: int64"
      ]
     },
     "execution_count": 26,
     "metadata": {},
     "output_type": "execute_result"
    }
   ],
   "source": [
    "DF['login_consistency_cat'].value_counts()"
   ]
  },
  {
   "cell_type": "code",
   "execution_count": 27,
   "id": "4be0c43a-b46a-4fbc-acd5-165cb8bbc9d7",
   "metadata": {},
   "outputs": [
    {
     "data": {
      "text/plain": [
       "603568819    1\n",
       "603841726    1\n",
       "605681850    1\n",
       "605667437    1\n",
       "601652633    1\n",
       "            ..\n",
       "236070304    1\n",
       "604648315    1\n",
       "605009557    1\n",
       "603581997    1\n",
       "605664071    1\n",
       "Name: BAN, Length: 598803, dtype: int64"
      ]
     },
     "execution_count": 27,
     "metadata": {},
     "output_type": "execute_result"
    }
   ],
   "source": [
    "DF['BAN'].value_counts()"
   ]
  },
  {
   "cell_type": "code",
   "execution_count": 28,
   "id": "936b002f-a72a-4c9a-b00d-4575b378da7f",
   "metadata": {},
   "outputs": [],
   "source": [
    "DF=DF.drop_duplicates()"
   ]
  },
  {
   "cell_type": "code",
   "execution_count": 29,
   "id": "6ef64489-5e8e-426f-bfb0-3775255c5816",
   "metadata": {},
   "outputs": [
    {
     "name": "stdout",
     "output_type": "stream",
     "text": [
      "<class 'pandas.core.frame.DataFrame'>\n",
      "Int64Index: 598803 entries, 0 to 598802\n",
      "Data columns (total 54 columns):\n",
      " #   Column                        Non-Null Count   Dtype  \n",
      "---  ------                        --------------   -----  \n",
      " 0   Telus_ID                      598803 non-null  object \n",
      " 1   BAN                           598803 non-null  object \n",
      " 2   contract_start_date           421171 non-null  object \n",
      " 3   contract_end_date             598803 non-null  object \n",
      " 4   Intial_activation_date        598803 non-null  object \n",
      " 5   contract_end_status           598803 non-null  object \n",
      " 6   Contract_start_months         421171 non-null  Int64  \n",
      " 7   dealer_customer_id            461601 non-null  object \n",
      " 8   customer_id                   461601 non-null  Int64  \n",
      " 9   primary_login_id              461601 non-null  Int64  \n",
      " 10  dealer_name                   598803 non-null  object \n",
      " 11  join_date                     461601 non-null  object \n",
      " 12  account_type_name             461601 non-null  object \n",
      " 13  customer_type_name            461601 non-null  object \n",
      " 14  Package                       598803 non-null  object \n",
      " 15  Tenure_months                 461601 non-null  Int64  \n",
      " 16  Interactivity_flag            598803 non-null  Int64  \n",
      " 17  ADT_migrated_customer         598803 non-null  Int64  \n",
      " 18  Province_code                 598800 non-null  object \n",
      " 19  customer_id_1                 451833 non-null  Int64  \n",
      " 20  Best_Practices_1              451833 non-null  Int64  \n",
      " 21  Best_Practices_2              451833 non-null  Int64  \n",
      " 22  Best_Practices_3              451833 non-null  Int64  \n",
      " 23  Best_Practices_4              451833 non-null  Int64  \n",
      " 24  Best_Practices_5              451833 non-null  Int64  \n",
      " 25  Best_Practices_6              451833 non-null  Int64  \n",
      " 26  Best_Practice_All             451833 non-null  Int64  \n",
      " 27  customer_id_2                 219286 non-null  Int64  \n",
      " 28  sum_arm_commands              219286 non-null  Int64  \n",
      " 29  sum_disarm_commands           219286 non-null  Int64  \n",
      " 30  number_days_arming_disarming  219286 non-null  Int64  \n",
      " 31  count_of_dates_arming         219286 non-null  Int64  \n",
      " 32  arming_consistency            219286 non-null  float64\n",
      " 33  Avg_arm_per_day               219286 non-null  float64\n",
      " 34  Avg_disarm_per_day            219286 non-null  float64\n",
      " 35  customer_id_3                 370760 non-null  Int64  \n",
      " 36  sum_login_count               370760 non-null  Int64  \n",
      " 37  number_of_login_days          370760 non-null  Int64  \n",
      " 38  count_of_dates_login          370760 non-null  Int64  \n",
      " 39  login_consistency             370760 non-null  float64\n",
      " 40  Avg_login_per_day             370760 non-null  float64\n",
      " 41  ban_1                         598803 non-null  object \n",
      " 42  product_mix_all               598803 non-null  Int64  \n",
      " 43  hsic_count                    598803 non-null  Int64  \n",
      " 44  sing_count                    598803 non-null  Int64  \n",
      " 45  shs_count                     598803 non-null  Int64  \n",
      " 46  ttv_count                     598803 non-null  Int64  \n",
      " 47  stv_count                     598803 non-null  Int64  \n",
      " 48  diic_count                    598803 non-null  Int64  \n",
      " 49  ban_2                         541056 non-null  object \n",
      " 50  Avg_SMHM_ARPU                 540795 non-null  object \n",
      " 51  Avg_FFH_ARPU                  541056 non-null  object \n",
      " 52  login_consistency_cat         598803 non-null  object \n",
      " 53  arming_consistency_cat        598803 non-null  object \n",
      "dtypes: Int64(30), float64(5), object(19)\n",
      "memory usage: 268.4+ MB\n"
     ]
    }
   ],
   "source": [
    "DF.info()"
   ]
  },
  {
   "cell_type": "code",
   "execution_count": 30,
   "id": "d0edbca3-3f45-4b57-85c5-7a2bd4726992",
   "metadata": {},
   "outputs": [],
   "source": [
    "# BAN_list=DF['BAN'].value_counts().rename_axis('BAN').reset_index(name='unique_counts')"
   ]
  },
  {
   "cell_type": "code",
   "execution_count": 31,
   "id": "1045a5c3-03d5-4a90-a4ee-271b8e33227f",
   "metadata": {},
   "outputs": [],
   "source": [
    "# BAN_list_2=BAN_list[BAN_list.unique_counts>1]"
   ]
  },
  {
   "cell_type": "code",
   "execution_count": 32,
   "id": "6f9a6537-adf6-4542-bd0b-c52c4af98e07",
   "metadata": {},
   "outputs": [],
   "source": [
    "# BAN_list_2"
   ]
  },
  {
   "cell_type": "code",
   "execution_count": 33,
   "id": "7db9831c-104f-4c4b-ae24-f0443e2dc025",
   "metadata": {},
   "outputs": [],
   "source": [
    "# DF[DF['BAN']==604371757]\n",
    "# .to_csv('Data_testing.csv',index=False)"
   ]
  },
  {
   "cell_type": "code",
   "execution_count": 34,
   "id": "1fe52910-e99c-4bf4-89e4-1dd1e19bed3c",
   "metadata": {},
   "outputs": [],
   "source": [
    "config= bigquery.job.LoadJobConfig()\n",
    "\n",
    "# config._properties['timePartitioning'] = {'field': 'Month_Year'}\n",
    "config.write_disposition = bigquery.WriteDisposition.WRITE_TRUNCATE\n",
    "\n",
    "Table_BQ = 'SHS.SHS_churn_model_score_data_jan23_mar2023'\n",
    "\n",
    "bq_table_instance= bq_client.load_table_from_dataframe(DF, Table_BQ,job_config=config)"
   ]
  },
  {
   "cell_type": "code",
   "execution_count": 35,
   "id": "57b3b93e-e71f-45e0-b5b2-1bf2939af937",
   "metadata": {},
   "outputs": [],
   "source": [
    "Query_score_data= '''\n",
    "\n",
    "select * from `divgpras-pr-579355.SHS.SHS_churn_model_score_data_jan23_mar2023`\n",
    "\n",
    "'''"
   ]
  },
  {
   "cell_type": "code",
   "execution_count": 36,
   "id": "3e40eaeb-1e1c-4e6a-ad80-000e1820748f",
   "metadata": {},
   "outputs": [],
   "source": [
    "DF=extract_bq_data(bq_client, sql=Query_score_data)"
   ]
  },
  {
   "cell_type": "code",
   "execution_count": 37,
   "id": "0efcefd5-3b41-4150-ba48-c6d6c6a9b744",
   "metadata": {},
   "outputs": [
    {
     "name": "stdout",
     "output_type": "stream",
     "text": [
      "<class 'pandas.core.frame.DataFrame'>\n",
      "RangeIndex: 599329 entries, 0 to 599328\n",
      "Data columns (total 53 columns):\n",
      " #   Column                        Non-Null Count   Dtype  \n",
      "---  ------                        --------------   -----  \n",
      " 0   Telus_ID                      599329 non-null  object \n",
      " 1   BAN                           599329 non-null  object \n",
      " 2   contract_start_date           421300 non-null  object \n",
      " 3   contract_end_date             599329 non-null  object \n",
      " 4   Intial_activation_date        599329 non-null  object \n",
      " 5   contract_end_status           599329 non-null  object \n",
      " 6   Contract_start_months         421300 non-null  Int64  \n",
      " 7   dealer_customer_id            461900 non-null  object \n",
      " 8   customer_id                   461900 non-null  Int64  \n",
      " 9   primary_login_id              461900 non-null  Int64  \n",
      " 10  dealer_name                   599329 non-null  object \n",
      " 11  join_date                     461900 non-null  object \n",
      " 12  account_type_name             461900 non-null  object \n",
      " 13  customer_type_name            461900 non-null  object \n",
      " 14  Package                       599329 non-null  object \n",
      " 15  Tenure_months                 461900 non-null  Int64  \n",
      " 16  Interactivity_flag            599329 non-null  Int64  \n",
      " 17  ADT_migrated_customer         599329 non-null  Int64  \n",
      " 18  customer_id_1                 452130 non-null  Int64  \n",
      " 19  Best_Practices_1              452130 non-null  Int64  \n",
      " 20  Best_Practices_2              452130 non-null  Int64  \n",
      " 21  Best_Practices_3              452130 non-null  Int64  \n",
      " 22  Best_Practices_4              452130 non-null  Int64  \n",
      " 23  Best_Practices_5              452130 non-null  Int64  \n",
      " 24  Best_Practices_6              452130 non-null  Int64  \n",
      " 25  Best_Practice_All             452130 non-null  Int64  \n",
      " 26  customer_id_2                 219467 non-null  Int64  \n",
      " 27  sum_arm_commands              219467 non-null  Int64  \n",
      " 28  sum_disarm_commands           219467 non-null  Int64  \n",
      " 29  number_days_arming_disarming  219467 non-null  Int64  \n",
      " 30  count_of_dates_arming         219467 non-null  Int64  \n",
      " 31  arming_consistency            219467 non-null  float64\n",
      " 32  Avg_arm_per_day               219467 non-null  float64\n",
      " 33  Avg_disarm_per_day            219467 non-null  float64\n",
      " 34  customer_id_3                 370879 non-null  Int64  \n",
      " 35  sum_login_count               370879 non-null  Int64  \n",
      " 36  number_of_login_days          370879 non-null  Int64  \n",
      " 37  count_of_dates_login          370879 non-null  Int64  \n",
      " 38  login_consistency             370879 non-null  float64\n",
      " 39  Avg_login_per_day             370879 non-null  float64\n",
      " 40  ban_1                         599329 non-null  object \n",
      " 41  product_mix_all               599329 non-null  Int64  \n",
      " 42  hsic_count                    599329 non-null  Int64  \n",
      " 43  sing_count                    599329 non-null  Int64  \n",
      " 44  shs_count                     599329 non-null  Int64  \n",
      " 45  ttv_count                     599329 non-null  Int64  \n",
      " 46  stv_count                     599329 non-null  Int64  \n",
      " 47  diic_count                    599329 non-null  Int64  \n",
      " 48  ban_2                         541410 non-null  object \n",
      " 49  Avg_SMHM_ARPU                 541145 non-null  object \n",
      " 50  Avg_FFH_ARPU                  541410 non-null  object \n",
      " 51  login_consistency_cat         599329 non-null  object \n",
      " 52  arming_consistency_cat        599329 non-null  object \n",
      "dtypes: Int64(30), float64(5), object(18)\n",
      "memory usage: 259.5+ MB\n"
     ]
    }
   ],
   "source": [
    "DF.info()"
   ]
  },
  {
   "cell_type": "code",
   "execution_count": 38,
   "id": "c13981d1-f9a7-49c8-92e9-e9908148c837",
   "metadata": {},
   "outputs": [],
   "source": [
    "ID_cols=['customer_id','dealer_customer_id','BAN']\n",
    "ignore_cols=['primary_login_id','dealer_name','join_date','account_type_name','customer_type_name','cust_bus_cust_id'\n",
    "             ,'contract_start_date','contract_end_date','customer_id_1','customer_id_2','customer_id_3','ban_1','ban_2'\n",
    "             ,'BAN_3','sum_arm_commands','sum_disarm_commands','number_days_arming_disarming','count_of_dates_arming'\n",
    "             ,'sum_login_count','number_of_login_days','count_of_dates_login','shs_count','Telus_Cust_ID','Best_Practice_All','Intial_activation_date','Telus_ID','arming_consistency','Province_code']\n",
    "\n",
    "Target_col=['SMHM_Churn']"
   ]
  },
  {
   "cell_type": "code",
   "execution_count": 39,
   "id": "0bba7a37-123d-44da-a4fa-f008cd47911e",
   "metadata": {},
   "outputs": [],
   "source": [
    "DF['Avg_SMHM_ARPU']=pd.to_numeric(DF['Avg_SMHM_ARPU'])\n",
    "DF['Avg_FFH_ARPU']=pd.to_numeric(DF['Avg_FFH_ARPU'])"
   ]
  },
  {
   "cell_type": "code",
   "execution_count": 40,
   "id": "2377e7e2-c5be-40ab-a0a2-22d1c57e3836",
   "metadata": {},
   "outputs": [],
   "source": [
    "num_cols=DF.select_dtypes(include=np.number).columns.tolist()\n",
    "cat_cols=DF.select_dtypes(exclude=np.number).columns.tolist()\n",
    "\n",
    "num_cols_features=list(set(num_cols)-set(ID_cols)-set(Target_col)-set(ignore_cols))\n",
    "cat_cols_features=list(set(cat_cols)-set(ID_cols)-set(Target_col)-set(ignore_cols))\n",
    "feature_cols=cat_cols_features+num_cols_features"
   ]
  },
  {
   "cell_type": "code",
   "execution_count": 41,
   "id": "f28ec99d-a868-438b-b05a-e582de551d15",
   "metadata": {},
   "outputs": [
    {
     "data": {
      "text/plain": [
       "contract_end_status        0.000000\n",
       "Package                    0.000000\n",
       "arming_consistency_cat     0.000000\n",
       "login_consistency_cat      0.000000\n",
       "Best_Practices_5          24.560634\n",
       "diic_count                 0.000000\n",
       "login_consistency         38.117628\n",
       "stv_count                  0.000000\n",
       "ttv_count                  0.000000\n",
       "Contract_start_months     29.704720\n",
       "Best_Practices_2          24.560634\n",
       "Interactivity_flag         0.000000\n",
       "Avg_arm_per_day           63.381215\n",
       "sing_count                 0.000000\n",
       "Best_Practices_1          24.560634\n",
       "Avg_login_per_day         38.117628\n",
       "Tenure_months             22.930477\n",
       "Avg_SMHM_ARPU              9.708190\n",
       "Best_Practices_6          24.560634\n",
       "Best_Practices_4          24.560634\n",
       "Avg_FFH_ARPU               9.663974\n",
       "ADT_migrated_customer      0.000000\n",
       "hsic_count                 0.000000\n",
       "product_mix_all            0.000000\n",
       "Avg_disarm_per_day        63.381215\n",
       "Best_Practices_3          24.560634\n",
       "dtype: float64"
      ]
     },
     "execution_count": 41,
     "metadata": {},
     "output_type": "execute_result"
    }
   ],
   "source": [
    "DF[feature_cols].isnull().sum() * 100 / len(DF[feature_cols])"
   ]
  },
  {
   "cell_type": "code",
   "execution_count": 42,
   "id": "426a869a-5857-423f-85a2-2d4fc131eba3",
   "metadata": {},
   "outputs": [
    {
     "name": "stderr",
     "output_type": "stream",
     "text": [
      "/tmp/ipykernel_3887/1067958573.py:7: SettingWithCopyWarning: \n",
      "A value is trying to be set on a copy of a slice from a DataFrame.\n",
      "Try using .loc[row_indexer,col_indexer] = value instead\n",
      "\n",
      "See the caveats in the documentation: https://pandas.pydata.org/pandas-docs/stable/user_guide/indexing.html#returning-a-view-versus-a-copy\n",
      "  dataset[cols]=dataset[cols].fillna(\"Missing_category\",inplace=False)\n",
      "/tmp/ipykernel_3887/1067958573.py:9: SettingWithCopyWarning: \n",
      "A value is trying to be set on a copy of a slice from a DataFrame.\n",
      "Try using .loc[row_indexer,col_indexer] = value instead\n",
      "\n",
      "See the caveats in the documentation: https://pandas.pydata.org/pandas-docs/stable/user_guide/indexing.html#returning-a-view-versus-a-copy\n",
      "  dataset[cols]=dataset[cols].fillna(0,inplace=False)\n"
     ]
    }
   ],
   "source": [
    "def impute_missing_values(dataset=DF):\n",
    "    \n",
    "    for cols in dataset.columns:\n",
    "        if dataset[cols].dtype == np.dtype('O'):\n",
    "            # df.loc[np.isnan(df[\"Age\"]), 'Age'] = rand1\n",
    "            #dataset.loc[dataset[cols].isnull(), cols]=\"Missing_category\"\n",
    "            dataset[cols]=dataset[cols].fillna(\"Missing_category\",inplace=False)\n",
    "        else:\n",
    "            dataset[cols]=dataset[cols].fillna(0,inplace=False)\n",
    "            #dataset.loc[dataset[cols].isnull(), cols]=0\n",
    "    return dataset\n",
    "\n",
    " \n",
    "DF[feature_cols]=impute_missing_values(dataset=DF[feature_cols])"
   ]
  },
  {
   "cell_type": "code",
   "execution_count": 43,
   "id": "5c8e3cc3-5bda-4514-9357-32dc14d011f7",
   "metadata": {},
   "outputs": [],
   "source": [
    "# DF['SMHM_Churn'].value_counts()"
   ]
  },
  {
   "cell_type": "code",
   "execution_count": 44,
   "id": "8958c0a3-5705-45f7-b1f5-0d9cc7a0c3be",
   "metadata": {},
   "outputs": [],
   "source": [
    "from pickle import dump,load\n",
    "import warnings\n",
    "import json\n",
    "import joblib\n",
    "## reading Intial feature list \n",
    "with open('Intial_feature_columns.json') as json_file:\n",
    "    intial_feature_cols = json.load(json_file)\n",
    "\n",
    "\n",
    "## reading final feature list \n",
    "with open('Final_feature_columns.json') as json_file:\n",
    "    final_feature_cols = json.load(json_file)"
   ]
  },
  {
   "cell_type": "code",
   "execution_count": 45,
   "id": "2f73401a-fefc-4283-8a4a-cc69a8e6230c",
   "metadata": {},
   "outputs": [
    {
     "data": {
      "text/plain": [
       "['stv_count',\n",
       " 'Best_Practices_1',\n",
       " 'Avg_login_per_day',\n",
       " 'product_mix_all',\n",
       " 'Package',\n",
       " 'Avg_FFH_ARPU',\n",
       " 'ADT_migrated_customer',\n",
       " 'diic_count',\n",
       " 'Contract_start_months',\n",
       " 'Best_Practices_2',\n",
       " 'sing_count',\n",
       " 'Tenure_months',\n",
       " 'Avg_disarm_per_day',\n",
       " 'Interactivity_flag',\n",
       " 'ttv_count',\n",
       " 'Best_Practices_6',\n",
       " 'Avg_arm_per_day',\n",
       " 'contract_end_status',\n",
       " 'Best_Practices_4',\n",
       " 'Best_Practices_3',\n",
       " 'hsic_count',\n",
       " 'Best_Practices_5',\n",
       " 'Avg_SMHM_ARPU',\n",
       " 'login_consistency_cat',\n",
       " 'arming_consistency_cat']"
      ]
     },
     "execution_count": 45,
     "metadata": {},
     "output_type": "execute_result"
    }
   ],
   "source": [
    "intial_feature_cols"
   ]
  },
  {
   "cell_type": "code",
   "execution_count": 46,
   "id": "cced7008-b160-4e2d-a2a8-b2538a3f836e",
   "metadata": {},
   "outputs": [],
   "source": [
    "X_test_df= pd.get_dummies(DF[intial_feature_cols],prefix_sep='__')\n"
   ]
  },
  {
   "cell_type": "code",
   "execution_count": 47,
   "id": "49e3e7a9-584d-4662-9c8f-e2a98da5d2a7",
   "metadata": {},
   "outputs": [],
   "source": [
    "def add_missing_dummy_columns(d, cols_req_model):\n",
    "    ''' \n",
    "    This function adds missing columns to the data so that the model doesn't fail.\n",
    "    d is the Dataset. \n",
    "    cols_req_model is the list of columns required by the model.\n",
    "    \n",
    "    '''\n",
    "    missing_cols = list(set(cols_req_model) - set(d.columns))\n",
    "    print('Adding columns', missing_cols, 'to the data and populating them with 0.')\n",
    "    for c in missing_cols:\n",
    "        d[c] = 0\n",
    "\n",
    "\n",
    "def remove_extra_columns(d,cols_req_model):\n",
    "    \n",
    "    ''' \n",
    "    This function drops extra columns from the data so that the model doesn't fail.\n",
    "    d is the Dataset. \n",
    "    cols_req_model is the list of columns required by the model.\n",
    "    \n",
    "    '''\n",
    "    extra_cols= list(set( d.columns ) - set( cols_req_model ))\n",
    "    print('Dropping', extra_cols, 'columns from the data.')\n",
    "    d = d.drop(extra_cols, axis=1)\n",
    "    return d"
   ]
  },
  {
   "cell_type": "code",
   "execution_count": 48,
   "id": "9b6f2c77-aafb-436e-9d77-a0acfb00bf14",
   "metadata": {},
   "outputs": [
    {
     "name": "stdout",
     "output_type": "stream",
     "text": [
      "Adding columns [] to the data and populating them with 0.\n"
     ]
    }
   ],
   "source": [
    "add_missing_dummy_columns(X_test_df,final_feature_cols)\n"
   ]
  },
  {
   "cell_type": "code",
   "execution_count": 49,
   "id": "d3998676-e510-4880-84db-8998c9a6d14b",
   "metadata": {},
   "outputs": [
    {
     "name": "stdout",
     "output_type": "stream",
     "text": [
      "Dropping [] columns from the data.\n"
     ]
    }
   ],
   "source": [
    "X_test_df=remove_extra_columns(X_test_df,final_feature_cols)\n"
   ]
  },
  {
   "cell_type": "code",
   "execution_count": 50,
   "id": "f5799dd5-f716-4d97-8909-e03c68210151",
   "metadata": {},
   "outputs": [],
   "source": [
    "X_test_df=X_test_df.reindex(columns=final_feature_cols,fill_value=0)"
   ]
  },
  {
   "cell_type": "code",
   "execution_count": 51,
   "id": "d9cb6622-0db1-4a33-b333-552ab42016ee",
   "metadata": {},
   "outputs": [],
   "source": [
    "model_filename='XGB_SMHM_SMHM_churn_model_20230417_073900.pkl'\n",
    "modle_pickle=joblib.load(model_filename)\n"
   ]
  },
  {
   "cell_type": "code",
   "execution_count": 52,
   "id": "21f353d9-f6cb-40c4-ba9c-1a58fffcd650",
   "metadata": {},
   "outputs": [],
   "source": [
    "import pandas as pd\n",
    "import numpy as np\n",
    "from sklearn.metrics import make_scorer\n",
    "\n",
    "def Capture_Rate_1stSD(ground_truth, prediction):\n",
    "    \"\"\" this functions takes in the model\n",
    "    test features, targets, will return the\n",
    "    lift dataframe\n",
    "    \"\"\"\n",
    "    #print(\"data shape:\", ground_truth.shape)\n",
    "\n",
    "    prediction_df = pd.DataFrame(prediction, columns=[\"prob_of_predict_1\"])\n",
    "    # print(prediction_df.head())\n",
    "    y_df = pd.DataFrame(ground_truth, columns=['target'])\n",
    "    prediction_with_label_df = y_df.join(prediction_df.set_index(y_df.index))\n",
    "    # Calculate lift on validation data\n",
    "    v1 = prediction_with_label_df[['target', 'prob_of_predict_1']]\n",
    "    v1.sort_values(by=['prob_of_predict_1'], inplace=True)\n",
    "    v1['Qcut'] = pd.qcut(v1['prob_of_predict_1'].rank(\n",
    "    method='first'), q=20, labels=False)\n",
    "    v1['SD'] = 20-(v1['Qcut'].astype(int))\n",
    "    vl1 = v1.drop(['Qcut'], axis=1)\n",
    "    vl1['Freq'] = vl1.groupby('SD')['target'].transform(np.sum)\n",
    "    vl2 = vl1.drop(['target', 'prob_of_predict_1'], axis=1).drop_duplicates()\n",
    "    vl2.sort_values(by=['SD'], inplace=True)\n",
    "    vl2['Cumm Sum'] = vl2['Freq'].cumsum()\n",
    "    vl2['Lift'] = vl2['Freq'].div(vl2['Freq'].sum(), axis=0).div(0.05)\n",
    "    vl2['Cumm Lift'] = vl2['Cumm Sum'].div(\n",
    "    vl2['Freq'].sum(), axis=0).div(vl2['SD']/20)\n",
    "    vl2['Capture Rate'] = vl2['Lift']*5\n",
    "    #vl2['Capture Rate_defintion'] = vl2['Freq']/vl2.iloc[19, 'Cumm Sum']\n",
    "    vl2['Cummu Capture Rate'] = vl2['Capture Rate'].cumsum()\n",
    "\n",
    "    # this is lift csv\n",
    "    # vl2.to_csv(\"/lift_chart_{0}.csv\".format(today))\n",
    "    # vl2.to_csv(\n",
    "    # f'lift_of_{model}_on_{datetime.today().strftime(\"%Y-%m-%d\")}.csv')\n",
    "    # print(f'lift_of_{model}_on_{datetime.today().strftime(\"%Y-%m-%d\")}.csv')\n",
    "    #print(\"Training process completed success\")\n",
    "    Magic_score= round(vl2.iloc[0, 6],2)\n",
    "    print(\"Cumm Capture Rate on 1st SD is: \", Magic_score)\n",
    "    #vl2[vl2['SD'] == 1, 'Lift'].iloc[0]\n",
    "    return Magic_score\n",
    "\n",
    "\n",
    "\n",
    "def lift_calc_pd(model, X_test, y_test,target_column): # , model_path\n",
    "    \"\"\" this functions takes in the model\n",
    "    test features, targets, will return the\n",
    "    lift dataframe\n",
    "    \"\"\"\n",
    "    prediction = model.predict_proba(X_test)\n",
    "    print(\"output shape\", prediction.shape)\n",
    "    print(\"y_test shape:\", y_test.shape)\n",
    "    #Total_Actual_positive_targets=sum(y_test[target_column])\n",
    "    #print('Total_Actual_positive_targets:',Total_Actual_positive_targets)\n",
    "\n",
    "\n",
    "    prediction_df = pd.DataFrame(\n",
    "    prediction, columns=['prob_of_predict_0', 'prob_of_predict_1'])\n",
    "    y_df = pd.DataFrame(y_test, columns=[target_column])\n",
    "    prediction_with_label_df = y_df.join(prediction_df.set_index(y_df.index))\n",
    "\n",
    "\n",
    "    # Calculate lift on validation data\n",
    "    v1 = prediction_with_label_df[[target_column, 'prob_of_predict_1']]\n",
    "    v1.sort_values(by=['prob_of_predict_1'], inplace=True)\n",
    "    v1['Qcut'] = pd.qcut(v1['prob_of_predict_1'].rank(\n",
    "    method='first'), q=20, labels=False)\n",
    "    v1['SD'] = 20-(v1['Qcut'].astype(int))\n",
    "\n",
    "\n",
    "    vl1 = v1.drop(['Qcut'], axis=1)\n",
    "    vl1['Freq'] = vl1.groupby('SD')[target_column].transform(np.sum)\n",
    "    vl2 = vl1.drop([target_column, 'prob_of_predict_1'], axis=1).drop_duplicates()\n",
    "    vl2.sort_values(by=['SD'], inplace=True)\n",
    "    vl2['Cumm Sum'] = vl2['Freq'].cumsum()\n",
    "    vl2['Lift'] = vl2['Freq'].div(vl2['Freq'].sum(), axis=0).div(0.05)\n",
    "    vl2['Cumm Lift'] = vl2['Cumm Sum'].div(vl2['Freq'].sum(), axis=0).div(vl2['SD']/20)\n",
    "    vl2['Capture Rate'] = vl2['Lift']*5\n",
    "    vl2['Cummu Capture Rate'] = vl2['Capture Rate'].cumsum()\n",
    "    # vl2['Capture_Rate_Defintion']= vl2['Freq']*100/Total_Actual_positive_targets\n",
    "    # vl2['Cummu_Capture_Rate_Defintion']= vl2['Capture_Rate_Defintion'].cumsum()\n",
    "    return pd.DataFrame(vl2)"
   ]
  },
  {
   "cell_type": "code",
   "execution_count": 53,
   "id": "df5a80a9-6130-4514-9587-c96037d04d0e",
   "metadata": {},
   "outputs": [],
   "source": [
    "# Test_lift=lift_calc_pd(model=modle_pickle,X_test=X_test_df\n",
    "# ,y_test=DF[Target_col[0]],target_column=Target_col[0])"
   ]
  },
  {
   "cell_type": "code",
   "execution_count": 54,
   "id": "f404edc8-b7f8-425a-99bc-a9ab60f2baa1",
   "metadata": {},
   "outputs": [],
   "source": [
    "# Target_col[0]"
   ]
  },
  {
   "cell_type": "code",
   "execution_count": 55,
   "id": "1d1ffd1a-693e-46e8-8f4a-e6a8779feca6",
   "metadata": {},
   "outputs": [],
   "source": [
    "# DF[Target_col[0]].value_counts()"
   ]
  },
  {
   "cell_type": "code",
   "execution_count": 56,
   "id": "e7a29ea6-1053-4bbb-827d-a9b3efee8648",
   "metadata": {},
   "outputs": [],
   "source": [
    "# Test_lift"
   ]
  },
  {
   "cell_type": "code",
   "execution_count": 57,
   "id": "6ba7982f-a677-4a5f-b652-56ec07d9e0c0",
   "metadata": {},
   "outputs": [],
   "source": [
    "# Test_lift.to_csv('SHS_Churn_model_lift.csv',index=False)"
   ]
  },
  {
   "cell_type": "code",
   "execution_count": 58,
   "id": "c91ebbce-8ba4-4415-9af8-9a57e1d32b4a",
   "metadata": {},
   "outputs": [],
   "source": [
    "# ID_DF=DF[ID_cols+Target_col]\n",
    "# X_data=pd.concat([ID_DF,X_test_df],axis=1)"
   ]
  },
  {
   "cell_type": "code",
   "execution_count": 59,
   "id": "0f35c7f9-2b82-4006-b8d7-bd6bb36c8035",
   "metadata": {},
   "outputs": [],
   "source": [
    "# X_data.head()"
   ]
  },
  {
   "cell_type": "code",
   "execution_count": 60,
   "id": "f354b544-aa25-43bc-83bc-3b96444ac509",
   "metadata": {},
   "outputs": [],
   "source": [
    "# X_data.columns"
   ]
  },
  {
   "cell_type": "code",
   "execution_count": 61,
   "id": "c39cffbd-dbd7-4f2e-b3df-97d82e835281",
   "metadata": {},
   "outputs": [],
   "source": [
    "# # print(X_data.Package__Smart_Camera.sum()*100/X_data.shape[0])\n",
    "# print(X_data.Package__Smart_Automation_Plus.sum()*100/X_data.shape[0])\n",
    "# print(X_data.Package__Monitored.sum()*100/X_data.shape[0])"
   ]
  },
  {
   "cell_type": "code",
   "execution_count": 62,
   "id": "bcfc236c-ec77-4846-81d6-2ebfda024c84",
   "metadata": {},
   "outputs": [],
   "source": [
    "# x_SC=X_data[X_data.Package__Smart_Camera==1]\n",
    "# # y_sc=x_SC[Target_col]\n",
    "\n",
    "\n",
    "# Test_lift=lift_calc_pd(model=modle_pickle,X_test=x_SC[final_feature_cols]\n",
    "# ,y_test=x_SC[Target_col[0]],target_column=Target_col[0])\n",
    "# Test_lift.to_csv('Smart_Camera_Lift.csv',index=False)"
   ]
  },
  {
   "cell_type": "code",
   "execution_count": 63,
   "id": "fbbd5d5e-09ca-4656-bf63-752788a35adb",
   "metadata": {},
   "outputs": [],
   "source": [
    "# x_SC=X_data[X_data.Package__Smart_Automation_Plus==1]\n",
    "# # y_sc=x_SC[Target_col]\n",
    "\n",
    "\n",
    "# Test_lift=lift_calc_pd(model=modle_pickle,X_test=x_SC[final_feature_cols]\n",
    "# ,y_test=x_SC[Target_col[0]],target_column=Target_col[0])\n",
    "# Test_lift.to_csv('Smart_Automation_Plus_Lift.csv',index=False)"
   ]
  },
  {
   "cell_type": "code",
   "execution_count": 64,
   "id": "9f06e06c-33df-4747-9ae9-2b0872a0844d",
   "metadata": {},
   "outputs": [],
   "source": [
    "# x_SC=X_data[X_data.Package__Monitored==1]\n",
    "# # y_sc=x_SC[Target_col]\n",
    "\n",
    "\n",
    "# Test_lift=lift_calc_pd(model=modle_pickle,X_test=x_SC[final_feature_cols]\n",
    "# ,y_test=x_SC[Target_col[0]],target_column=Target_col[0])\n",
    "# Test_lift.to_csv('Monitored_Lift.csv',index=False)"
   ]
  },
  {
   "cell_type": "code",
   "execution_count": 65,
   "id": "6323f552-1ab9-4b95-99c1-4a4a1508b7f9",
   "metadata": {},
   "outputs": [],
   "source": [
    "# import shap\n",
    "# x_SC=X_data[X_data.Package__Monitored==1]\n",
    "# # model_shap = XGB_final_model.best_estimator_\n",
    "# explainer = shap.TreeExplainer(modle_pickle)\n",
    "# shap_values = explainer.shap_values(x_SC[final_feature_cols],check_additivity=False)\n",
    "# #%%\n",
    "\n",
    "# shap.summary_plot(shap_values, features=x_SC[final_feature_cols]\n",
    "# , feature_names=final_feature_cols,show=False,max_display=15)"
   ]
  },
  {
   "cell_type": "code",
   "execution_count": 66,
   "id": "8c52d65a-e37e-4fb3-853a-a70ffc999731",
   "metadata": {},
   "outputs": [],
   "source": [
    "# import shap\n",
    "# x_SC=X_data[X_data.Package__Monitored==1]\n",
    "# # model_shap = XGB_final_model.best_estimator_\n",
    "# explainer = shap.Explainer(modle_pickle)\n",
    "# shap_values = explainer.shap_values(x_SC[final_feature_cols],check_additivity=False)\n",
    "# # #%%\n",
    "\n",
    "# shap.summary_plot(shap_values, features=x_SC[final_feature_cols]\n",
    "# , feature_names=final_feature_cols,show=False,max_display=15)"
   ]
  },
  {
   "cell_type": "code",
   "execution_count": 67,
   "id": "09580c94-f6e5-4269-b230-1e749e683335",
   "metadata": {},
   "outputs": [],
   "source": [
    "# shap.plots.waterfall(shap_values[0])"
   ]
  },
  {
   "cell_type": "code",
   "execution_count": 68,
   "id": "3bef3719-0bc0-41df-adce-fec061d75dd1",
   "metadata": {},
   "outputs": [],
   "source": [
    "# shap.plots._waterfall.waterfall_legacy(explainer.expected_value, shap_values[0])"
   ]
  },
  {
   "cell_type": "code",
   "execution_count": 69,
   "id": "6a1a8d18-b1b7-41e5-a8bb-ebff9044bec8",
   "metadata": {},
   "outputs": [],
   "source": [
    "# np.round(shap_values[[idx]],2)"
   ]
  },
  {
   "cell_type": "code",
   "execution_count": 70,
   "id": "baef329d-c497-4724-9ec9-e71098e2e2c6",
   "metadata": {},
   "outputs": [],
   "source": [
    "# shap_values[idx]"
   ]
  },
  {
   "cell_type": "code",
   "execution_count": 71,
   "id": "90c5e88d-1c31-4972-8b7a-124c24c02d4c",
   "metadata": {},
   "outputs": [],
   "source": [
    "# shap_values"
   ]
  },
  {
   "cell_type": "code",
   "execution_count": 72,
   "id": "71d09441-d3fc-4551-a7b7-fa1f74dbcc67",
   "metadata": {},
   "outputs": [],
   "source": [
    "# x_SC[final_feature_cols].iloc[[idx]]"
   ]
  },
  {
   "cell_type": "code",
   "execution_count": 73,
   "id": "ccc73d28-cdf6-4af9-bb34-8bf433115a03",
   "metadata": {},
   "outputs": [],
   "source": [
    "# X_data.columns"
   ]
  },
  {
   "cell_type": "code",
   "execution_count": 74,
   "id": "a595ef4a-e395-4065-918b-638a2a5348a7",
   "metadata": {},
   "outputs": [],
   "source": [
    "# x_SC=X_data[(X_data.Package__Monitored==1) & (X_data.SMHM_Churn==1)]\n"
   ]
  },
  {
   "cell_type": "code",
   "execution_count": 75,
   "id": "4ce0df93-bab7-4e32-bc94-25a944a80955",
   "metadata": {},
   "outputs": [
    {
     "data": {
      "text/plain": [
       "['stv_count',\n",
       " 'Best_Practices_1',\n",
       " 'Avg_login_per_day',\n",
       " 'product_mix_all',\n",
       " 'Avg_FFH_ARPU',\n",
       " 'ADT_migrated_customer',\n",
       " 'diic_count',\n",
       " 'Contract_start_months',\n",
       " 'Best_Practices_2',\n",
       " 'sing_count',\n",
       " 'Tenure_months',\n",
       " 'Avg_disarm_per_day',\n",
       " 'Interactivity_flag',\n",
       " 'ttv_count',\n",
       " 'Best_Practices_6',\n",
       " 'Avg_arm_per_day',\n",
       " 'Best_Practices_4',\n",
       " 'Best_Practices_3',\n",
       " 'hsic_count',\n",
       " 'Best_Practices_5',\n",
       " 'Avg_SMHM_ARPU',\n",
       " 'Package__Monitored',\n",
       " 'Package__Smart_Automation_Plus',\n",
       " 'Package__Smart_Camera',\n",
       " 'Package__Unknown_Package',\n",
       " 'contract_end_status__contract_expired',\n",
       " 'contract_end_status__contract_expiring_after_90_days',\n",
       " 'contract_end_status__contract_expiring_within_90_days',\n",
       " 'login_consistency_cat__Heavy_User',\n",
       " 'login_consistency_cat__Low_User',\n",
       " 'login_consistency_cat__No_ADC_account',\n",
       " 'login_consistency_cat__No_User',\n",
       " 'arming_consistency_cat__Heavy_User',\n",
       " 'arming_consistency_cat__Low_User',\n",
       " 'arming_consistency_cat__No_ADC_account',\n",
       " 'arming_consistency_cat__No_User']"
      ]
     },
     "execution_count": 75,
     "metadata": {},
     "output_type": "execute_result"
    }
   ],
   "source": [
    "final_feature_cols"
   ]
  },
  {
   "cell_type": "code",
   "execution_count": null,
   "id": "56f02f60-df17-4d27-a6e3-8ef23ca9d8ef",
   "metadata": {},
   "outputs": [],
   "source": [
    "# pd.DataFrame(np.round(shap_values[[idx]],2),columns=final_feature_cols)"
   ]
  },
  {
   "cell_type": "code",
   "execution_count": null,
   "id": "c77c70da-569a-474f-8464-af57a4e1813d",
   "metadata": {},
   "outputs": [],
   "source": [
    "# pd.DataFrame(x_SC[final_feature_cols].iloc[[idx]])"
   ]
  },
  {
   "cell_type": "code",
   "execution_count": null,
   "id": "783b5b94-272f-413a-92ea-b51e6aed92b0",
   "metadata": {},
   "outputs": [],
   "source": []
  },
  {
   "cell_type": "code",
   "execution_count": null,
   "id": "21342368-de59-44fe-8c5b-c3940ffcd5d5",
   "metadata": {},
   "outputs": [],
   "source": [
    "# np.round(shap_values[[idx]],2).sum()"
   ]
  },
  {
   "cell_type": "code",
   "execution_count": null,
   "id": "dc726dc1-fc13-4ff2-b042-105efcbf099c",
   "metadata": {},
   "outputs": [],
   "source": []
  },
  {
   "cell_type": "code",
   "execution_count": 255,
   "id": "559d08ce-3b9f-4632-a0f8-278eef8d2a41",
   "metadata": {},
   "outputs": [],
   "source": [
    "# plots the waterfall for the 6th observation. As optional input give waterfall_plot the number of features, in order to draw them all. Since all observations have the same number of features, the index of the second argument does not need to be adjusted."
   ]
  },
  {
   "cell_type": "code",
   "execution_count": 256,
   "id": "2f4a4268-4430-4999-88bd-2736179d2a35",
   "metadata": {},
   "outputs": [],
   "source": [
    "# shap_values.base"
   ]
  },
  {
   "cell_type": "code",
   "execution_count": 257,
   "id": "c0355ad4-87fa-4a04-87e8-4a1d13b4044f",
   "metadata": {},
   "outputs": [],
   "source": [
    "# import shap\n",
    "# x_SC=X_data[(X_data.Package__Monitored==1) & (X_data.SMHM_Churn==1)]\n",
    "# # model_shap = XGB_final_model.best_estimator_\n",
    "# explainer = shap.Explainer(modle_pickle)\n",
    "# shap_values = explainer.shap_values(x_SC[final_feature_cols],check_additivity=False)\n",
    "# # #%%\n",
    "\n",
    "# shap.summary_plot(shap_values, features=x_SC[final_feature_cols]\n",
    "# , feature_names=final_feature_cols,show=False,max_display=15)"
   ]
  },
  {
   "cell_type": "code",
   "execution_count": null,
   "id": "3258fb64-9579-4fba-8f89-4333ec8fd7ce",
   "metadata": {},
   "outputs": [],
   "source": []
  },
  {
   "cell_type": "code",
   "execution_count": 258,
   "id": "f34240f4-49de-4e18-807e-96bcf01614d4",
   "metadata": {},
   "outputs": [],
   "source": [
    "# idx=10\n",
    "\n",
    "# shap.plots._bar.bar_legacy(shap_values[idx],feature_names=final_feature_cols,show=True)"
   ]
  },
  {
   "cell_type": "code",
   "execution_count": 259,
   "id": "b05147c5-5812-4566-85e9-a619d49cc9f4",
   "metadata": {},
   "outputs": [],
   "source": [
    "# x_SC[final_feature_cols].iloc[[idx]]"
   ]
  },
  {
   "cell_type": "code",
   "execution_count": 260,
   "id": "6f1ffcd5-4241-4a5a-a216-c79c5fb413d1",
   "metadata": {},
   "outputs": [],
   "source": [
    "# shap.plots._waterfall.waterfall_legacy(explainer.expected_value, shap_values[idx],feature_names=final_feature_cols,max_display=10)"
   ]
  },
  {
   "cell_type": "code",
   "execution_count": null,
   "id": "81d1cbf3-5e3b-4fb8-8af2-d2768fc95ab0",
   "metadata": {},
   "outputs": [],
   "source": []
  },
  {
   "cell_type": "code",
   "execution_count": null,
   "id": "8a244c7a-bbd7-4485-97f4-63388187bac2",
   "metadata": {},
   "outputs": [],
   "source": [
    "\n"
   ]
  },
  {
   "cell_type": "code",
   "execution_count": 261,
   "id": "25b0d134-e933-48e1-9a53-72105e45c5ac",
   "metadata": {},
   "outputs": [],
   "source": [
    "# shap.summary_plot(shap_values[0], x_SC[final_feature_cols], plot_type=\"bar\")"
   ]
  },
  {
   "cell_type": "code",
   "execution_count": 262,
   "id": "1b2437c8-bdee-4f34-acd2-d19b532dd35b",
   "metadata": {},
   "outputs": [],
   "source": [
    "# shap.summary_plot(shap_values[1], x_SC[final_feature_cols].iloc[[idx]], plot_type=\"bar\")"
   ]
  },
  {
   "cell_type": "code",
   "execution_count": 263,
   "id": "b4eefa66-67b4-46e1-bef0-7d860bab327a",
   "metadata": {},
   "outputs": [],
   "source": [
    "# shap.plots.bar(shap_values[0])"
   ]
  },
  {
   "cell_type": "code",
   "execution_count": 264,
   "id": "30f94273-8443-443c-900e-336082d31616",
   "metadata": {},
   "outputs": [],
   "source": [
    "# idx=20\n",
    "# print(x_SC.iloc[[idx]])\n",
    "# print(np.round(shap_values[[idx]],2))\n",
    "# shap.summary_plot(shap_values[[idx]], features=x_SC[final_feature_cols].iloc[[idx]]\n",
    "# , feature_names=final_feature_cols,show=True,max_display=15)"
   ]
  },
  {
   "cell_type": "code",
   "execution_count": 265,
   "id": "419b76de-fb1a-435b-94a6-4c6eac1c85ab",
   "metadata": {},
   "outputs": [],
   "source": [
    "# DF.info()"
   ]
  },
  {
   "cell_type": "code",
   "execution_count": null,
   "id": "2425b341-2e9e-4e7c-b386-66b4b4a973f6",
   "metadata": {},
   "outputs": [],
   "source": []
  },
  {
   "cell_type": "code",
   "execution_count": 266,
   "id": "228dcb25-a1c5-4a0c-bcc2-d1d782e8d17d",
   "metadata": {},
   "outputs": [],
   "source": [
    "# import shap\n",
    "# # model_shap = XGB_final_model.best_estimator_\n",
    "# explainer = shap.Explainer(modle_pickle)\n",
    "# shap_values = explainer.shap_values(X_test_df,check_additivity=False)\n",
    "# #%%\n",
    "\n",
    "# shap.summary_plot(shap_values, features=X_test_df\n",
    "# , feature_names=final_feature_cols,show=False,max_display=15)"
   ]
  },
  {
   "cell_type": "code",
   "execution_count": 76,
   "id": "2edff67a-6d17-4154-9594-92c613f33121",
   "metadata": {},
   "outputs": [],
   "source": [
    "column_order=list(X_test_df.columns.sort_values())"
   ]
  },
  {
   "cell_type": "code",
   "execution_count": 77,
   "id": "275292b9-0d61-46e4-b0cd-bba396f9034a",
   "metadata": {},
   "outputs": [
    {
     "data": {
      "text/plain": [
       "['ADT_migrated_customer',\n",
       " 'Avg_FFH_ARPU',\n",
       " 'Avg_SMHM_ARPU',\n",
       " 'Avg_arm_per_day',\n",
       " 'Avg_disarm_per_day',\n",
       " 'Avg_login_per_day',\n",
       " 'Best_Practices_1',\n",
       " 'Best_Practices_2',\n",
       " 'Best_Practices_3',\n",
       " 'Best_Practices_4',\n",
       " 'Best_Practices_5',\n",
       " 'Best_Practices_6',\n",
       " 'Contract_start_months',\n",
       " 'Interactivity_flag',\n",
       " 'Package__Monitored',\n",
       " 'Package__Smart_Automation_Plus',\n",
       " 'Package__Smart_Camera',\n",
       " 'Package__Unknown_Package',\n",
       " 'Tenure_months',\n",
       " 'arming_consistency_cat__Heavy_User',\n",
       " 'arming_consistency_cat__Low_User',\n",
       " 'arming_consistency_cat__No_ADC_account',\n",
       " 'arming_consistency_cat__No_User',\n",
       " 'contract_end_status__contract_expired',\n",
       " 'contract_end_status__contract_expiring_after_90_days',\n",
       " 'contract_end_status__contract_expiring_within_90_days',\n",
       " 'diic_count',\n",
       " 'hsic_count',\n",
       " 'login_consistency_cat__Heavy_User',\n",
       " 'login_consistency_cat__Low_User',\n",
       " 'login_consistency_cat__No_ADC_account',\n",
       " 'login_consistency_cat__No_User',\n",
       " 'product_mix_all',\n",
       " 'sing_count',\n",
       " 'stv_count',\n",
       " 'ttv_count']"
      ]
     },
     "execution_count": 77,
     "metadata": {},
     "output_type": "execute_result"
    }
   ],
   "source": [
    "column_order"
   ]
  },
  {
   "cell_type": "code",
   "execution_count": null,
   "id": "6b4313d0-2fbd-42a3-aff9-424dca196452",
   "metadata": {},
   "outputs": [],
   "source": []
  },
  {
   "cell_type": "code",
   "execution_count": 78,
   "id": "3cd2ebaf-eb46-4f3a-ba63-36eed426669e",
   "metadata": {},
   "outputs": [],
   "source": [
    "# shap.plots.waterfall(shap_values[x])"
   ]
  },
  {
   "cell_type": "code",
   "execution_count": 79,
   "id": "fab2b279-29e7-4b71-b249-6b774c803898",
   "metadata": {},
   "outputs": [],
   "source": [
    "result_churn_model=pd.DataFrame(modle_pickle.predict_proba(X_test_df) [:,1])"
   ]
  },
  {
   "cell_type": "code",
   "execution_count": 80,
   "id": "b91c2858-d102-40f6-83b8-d4ab9a8a1b0f",
   "metadata": {},
   "outputs": [
    {
     "data": {
      "text/plain": [
       "0    0.472376\n",
       "dtype: float32"
      ]
     },
     "execution_count": 80,
     "metadata": {},
     "output_type": "execute_result"
    }
   ],
   "source": [
    "result_churn_model.mean()*100"
   ]
  },
  {
   "cell_type": "code",
   "execution_count": 93,
   "id": "46ecae34-2026-456b-99e1-eba52f2bca46",
   "metadata": {},
   "outputs": [
    {
     "data": {
      "text/html": [
       "<div>\n",
       "<style scoped>\n",
       "    .dataframe tbody tr th:only-of-type {\n",
       "        vertical-align: middle;\n",
       "    }\n",
       "\n",
       "    .dataframe tbody tr th {\n",
       "        vertical-align: top;\n",
       "    }\n",
       "\n",
       "    .dataframe thead th {\n",
       "        text-align: right;\n",
       "    }\n",
       "</style>\n",
       "<table border=\"1\" class=\"dataframe\">\n",
       "  <thead>\n",
       "    <tr style=\"text-align: right;\">\n",
       "      <th></th>\n",
       "      <th>Churn_score</th>\n",
       "    </tr>\n",
       "  </thead>\n",
       "  <tbody>\n",
       "    <tr>\n",
       "      <th>0</th>\n",
       "      <td>0.000006</td>\n",
       "    </tr>\n",
       "    <tr>\n",
       "      <th>1</th>\n",
       "      <td>0.000006</td>\n",
       "    </tr>\n",
       "    <tr>\n",
       "      <th>2</th>\n",
       "      <td>0.000001</td>\n",
       "    </tr>\n",
       "    <tr>\n",
       "      <th>3</th>\n",
       "      <td>0.000017</td>\n",
       "    </tr>\n",
       "    <tr>\n",
       "      <th>4</th>\n",
       "      <td>0.000006</td>\n",
       "    </tr>\n",
       "  </tbody>\n",
       "</table>\n",
       "</div>"
      ],
      "text/plain": [
       "   Churn_score\n",
       "0     0.000006\n",
       "1     0.000006\n",
       "2     0.000001\n",
       "3     0.000017\n",
       "4     0.000006"
      ]
     },
     "execution_count": 93,
     "metadata": {},
     "output_type": "execute_result"
    }
   ],
   "source": [
    "result_churn_model.head()\n"
   ]
  },
  {
   "cell_type": "code",
   "execution_count": 94,
   "id": "d669b12f-68d0-47b9-a1cd-600cb798b521",
   "metadata": {},
   "outputs": [],
   "source": [
    "result_churn_model.columns=['Churn_score']"
   ]
  },
  {
   "cell_type": "code",
   "execution_count": 83,
   "id": "02107619-4eb3-4475-a7d0-c70e4ada24ed",
   "metadata": {},
   "outputs": [],
   "source": [
    "# All_cols= ID_cols + X_test_df.columns.to_list()\n",
    "# ID_DF=DF[['Telus_ID','BAN','customer_id','contract_start_date','contract_end_date','Intial_activation_date']]\n",
    "ID_DF=DF"
   ]
  },
  {
   "cell_type": "code",
   "execution_count": 84,
   "id": "bd57eddc-2c51-49a2-a723-c06f245905a5",
   "metadata": {},
   "outputs": [],
   "source": [
    "X_test_df=X_test_df.reindex(columns=column_order,fill_value=0)"
   ]
  },
  {
   "cell_type": "code",
   "execution_count": 96,
   "id": "63741af6-3893-4714-8f2c-a39c83d60b65",
   "metadata": {},
   "outputs": [],
   "source": [
    "Full_DF=pd.concat([ID_DF,result_churn_model],axis=1)"
   ]
  },
  {
   "cell_type": "code",
   "execution_count": 85,
   "id": "eea81101-b51b-49b7-b6f7-dfc71242698c",
   "metadata": {},
   "outputs": [],
   "source": [
    "# Full_DF=pd.concat([ID_DF,X_test_df,result_churn_model],axis=1)"
   ]
  },
  {
   "cell_type": "code",
   "execution_count": 97,
   "id": "89703b70-3fea-44d5-9845-16da9e9e5720",
   "metadata": {},
   "outputs": [
    {
     "data": {
      "text/html": [
       "<div>\n",
       "<style scoped>\n",
       "    .dataframe tbody tr th:only-of-type {\n",
       "        vertical-align: middle;\n",
       "    }\n",
       "\n",
       "    .dataframe tbody tr th {\n",
       "        vertical-align: top;\n",
       "    }\n",
       "\n",
       "    .dataframe thead th {\n",
       "        text-align: right;\n",
       "    }\n",
       "</style>\n",
       "<table border=\"1\" class=\"dataframe\">\n",
       "  <thead>\n",
       "    <tr style=\"text-align: right;\">\n",
       "      <th></th>\n",
       "      <th>Telus_ID</th>\n",
       "      <th>BAN</th>\n",
       "      <th>contract_start_date</th>\n",
       "      <th>contract_end_date</th>\n",
       "      <th>Intial_activation_date</th>\n",
       "      <th>contract_end_status</th>\n",
       "      <th>Contract_start_months</th>\n",
       "      <th>dealer_customer_id</th>\n",
       "      <th>customer_id</th>\n",
       "      <th>primary_login_id</th>\n",
       "      <th>...</th>\n",
       "      <th>shs_count</th>\n",
       "      <th>ttv_count</th>\n",
       "      <th>stv_count</th>\n",
       "      <th>diic_count</th>\n",
       "      <th>ban_2</th>\n",
       "      <th>Avg_SMHM_ARPU</th>\n",
       "      <th>Avg_FFH_ARPU</th>\n",
       "      <th>login_consistency_cat</th>\n",
       "      <th>arming_consistency_cat</th>\n",
       "      <th>Churn_score</th>\n",
       "    </tr>\n",
       "  </thead>\n",
       "  <tbody>\n",
       "    <tr>\n",
       "      <th>0</th>\n",
       "      <td>106042566</td>\n",
       "      <td>605821784</td>\n",
       "      <td>2021-09-02</td>\n",
       "      <td>2024-09-02</td>\n",
       "      <td>2023-03-17</td>\n",
       "      <td>contract_expiring_after_90_days</td>\n",
       "      <td>18</td>\n",
       "      <td>None</td>\n",
       "      <td>&lt;NA&gt;</td>\n",
       "      <td>&lt;NA&gt;</td>\n",
       "      <td>...</td>\n",
       "      <td>1</td>\n",
       "      <td>0</td>\n",
       "      <td>0</td>\n",
       "      <td>0</td>\n",
       "      <td>None</td>\n",
       "      <td>0.0</td>\n",
       "      <td>0.0</td>\n",
       "      <td>No_ADC_account</td>\n",
       "      <td>No_ADC_account</td>\n",
       "      <td>0.000006</td>\n",
       "    </tr>\n",
       "    <tr>\n",
       "      <th>1</th>\n",
       "      <td>106006232</td>\n",
       "      <td>605805102</td>\n",
       "      <td>2021-04-10</td>\n",
       "      <td>2023-04-10</td>\n",
       "      <td>2023-03-14</td>\n",
       "      <td>contract_expiring_within_90_days</td>\n",
       "      <td>23</td>\n",
       "      <td>None</td>\n",
       "      <td>&lt;NA&gt;</td>\n",
       "      <td>&lt;NA&gt;</td>\n",
       "      <td>...</td>\n",
       "      <td>1</td>\n",
       "      <td>0</td>\n",
       "      <td>0</td>\n",
       "      <td>0</td>\n",
       "      <td>None</td>\n",
       "      <td>0.0</td>\n",
       "      <td>0.0</td>\n",
       "      <td>No_ADC_account</td>\n",
       "      <td>No_ADC_account</td>\n",
       "      <td>0.000006</td>\n",
       "    </tr>\n",
       "    <tr>\n",
       "      <th>2</th>\n",
       "      <td>98318323</td>\n",
       "      <td>603566493</td>\n",
       "      <td>2004-03-01</td>\n",
       "      <td>2007-03-01</td>\n",
       "      <td>2018-07-20</td>\n",
       "      <td>contract_expired</td>\n",
       "      <td>228</td>\n",
       "      <td>None</td>\n",
       "      <td>&lt;NA&gt;</td>\n",
       "      <td>&lt;NA&gt;</td>\n",
       "      <td>...</td>\n",
       "      <td>1</td>\n",
       "      <td>0</td>\n",
       "      <td>0</td>\n",
       "      <td>0</td>\n",
       "      <td>603566493</td>\n",
       "      <td>32.0</td>\n",
       "      <td>36.0</td>\n",
       "      <td>No_ADC_account</td>\n",
       "      <td>No_ADC_account</td>\n",
       "      <td>0.000001</td>\n",
       "    </tr>\n",
       "    <tr>\n",
       "      <th>3</th>\n",
       "      <td>102992506</td>\n",
       "      <td>604780490</td>\n",
       "      <td>2021-09-07</td>\n",
       "      <td>2024-09-07</td>\n",
       "      <td>2021-09-03</td>\n",
       "      <td>contract_expiring_after_90_days</td>\n",
       "      <td>18</td>\n",
       "      <td>None</td>\n",
       "      <td>&lt;NA&gt;</td>\n",
       "      <td>&lt;NA&gt;</td>\n",
       "      <td>...</td>\n",
       "      <td>1</td>\n",
       "      <td>1</td>\n",
       "      <td>0</td>\n",
       "      <td>0</td>\n",
       "      <td>604780490</td>\n",
       "      <td>30.0</td>\n",
       "      <td>116.0</td>\n",
       "      <td>No_ADC_account</td>\n",
       "      <td>No_ADC_account</td>\n",
       "      <td>0.000017</td>\n",
       "    </tr>\n",
       "    <tr>\n",
       "      <th>4</th>\n",
       "      <td>106001085</td>\n",
       "      <td>605798611</td>\n",
       "      <td>2023-02-01</td>\n",
       "      <td>2026-02-01</td>\n",
       "      <td>2023-03-14</td>\n",
       "      <td>contract_expiring_after_90_days</td>\n",
       "      <td>1</td>\n",
       "      <td>None</td>\n",
       "      <td>&lt;NA&gt;</td>\n",
       "      <td>&lt;NA&gt;</td>\n",
       "      <td>...</td>\n",
       "      <td>1</td>\n",
       "      <td>0</td>\n",
       "      <td>0</td>\n",
       "      <td>0</td>\n",
       "      <td>None</td>\n",
       "      <td>0.0</td>\n",
       "      <td>0.0</td>\n",
       "      <td>No_ADC_account</td>\n",
       "      <td>No_ADC_account</td>\n",
       "      <td>0.000006</td>\n",
       "    </tr>\n",
       "  </tbody>\n",
       "</table>\n",
       "<p>5 rows × 54 columns</p>\n",
       "</div>"
      ],
      "text/plain": [
       "    Telus_ID        BAN contract_start_date contract_end_date  \\\n",
       "0  106042566  605821784          2021-09-02        2024-09-02   \n",
       "1  106006232  605805102          2021-04-10        2023-04-10   \n",
       "2   98318323  603566493          2004-03-01        2007-03-01   \n",
       "3  102992506  604780490          2021-09-07        2024-09-07   \n",
       "4  106001085  605798611          2023-02-01        2026-02-01   \n",
       "\n",
       "  Intial_activation_date               contract_end_status  \\\n",
       "0             2023-03-17   contract_expiring_after_90_days   \n",
       "1             2023-03-14  contract_expiring_within_90_days   \n",
       "2             2018-07-20                  contract_expired   \n",
       "3             2021-09-03   contract_expiring_after_90_days   \n",
       "4             2023-03-14   contract_expiring_after_90_days   \n",
       "\n",
       "   Contract_start_months dealer_customer_id  customer_id  primary_login_id  \\\n",
       "0                     18               None         <NA>              <NA>   \n",
       "1                     23               None         <NA>              <NA>   \n",
       "2                    228               None         <NA>              <NA>   \n",
       "3                     18               None         <NA>              <NA>   \n",
       "4                      1               None         <NA>              <NA>   \n",
       "\n",
       "   ... shs_count ttv_count stv_count diic_count      ban_2  Avg_SMHM_ARPU  \\\n",
       "0  ...         1         0         0          0       None            0.0   \n",
       "1  ...         1         0         0          0       None            0.0   \n",
       "2  ...         1         0         0          0  603566493           32.0   \n",
       "3  ...         1         1         0          0  604780490           30.0   \n",
       "4  ...         1         0         0          0       None            0.0   \n",
       "\n",
       "   Avg_FFH_ARPU  login_consistency_cat  arming_consistency_cat  Churn_score  \n",
       "0           0.0         No_ADC_account          No_ADC_account     0.000006  \n",
       "1           0.0         No_ADC_account          No_ADC_account     0.000006  \n",
       "2          36.0         No_ADC_account          No_ADC_account     0.000001  \n",
       "3         116.0         No_ADC_account          No_ADC_account     0.000017  \n",
       "4           0.0         No_ADC_account          No_ADC_account     0.000006  \n",
       "\n",
       "[5 rows x 54 columns]"
      ]
     },
     "execution_count": 97,
     "metadata": {},
     "output_type": "execute_result"
    }
   ],
   "source": [
    "Full_DF.head()"
   ]
  },
  {
   "cell_type": "code",
   "execution_count": 98,
   "id": "130e9746-3e86-4ac8-a02a-f24bd34e98ee",
   "metadata": {},
   "outputs": [
    {
     "name": "stdout",
     "output_type": "stream",
     "text": [
      "<class 'pandas.core.frame.DataFrame'>\n",
      "RangeIndex: 599329 entries, 0 to 599328\n",
      "Data columns (total 54 columns):\n",
      " #   Column                        Non-Null Count   Dtype  \n",
      "---  ------                        --------------   -----  \n",
      " 0   Telus_ID                      599329 non-null  object \n",
      " 1   BAN                           599329 non-null  object \n",
      " 2   contract_start_date           421300 non-null  object \n",
      " 3   contract_end_date             599329 non-null  object \n",
      " 4   Intial_activation_date        599329 non-null  object \n",
      " 5   contract_end_status           599329 non-null  object \n",
      " 6   Contract_start_months         599329 non-null  Int64  \n",
      " 7   dealer_customer_id            461900 non-null  object \n",
      " 8   customer_id                   461900 non-null  Int64  \n",
      " 9   primary_login_id              461900 non-null  Int64  \n",
      " 10  dealer_name                   599329 non-null  object \n",
      " 11  join_date                     461900 non-null  object \n",
      " 12  account_type_name             461900 non-null  object \n",
      " 13  customer_type_name            461900 non-null  object \n",
      " 14  Package                       599329 non-null  object \n",
      " 15  Tenure_months                 599329 non-null  Int64  \n",
      " 16  Interactivity_flag            599329 non-null  Int64  \n",
      " 17  ADT_migrated_customer         599329 non-null  Int64  \n",
      " 18  customer_id_1                 452130 non-null  Int64  \n",
      " 19  Best_Practices_1              599329 non-null  Int64  \n",
      " 20  Best_Practices_2              599329 non-null  Int64  \n",
      " 21  Best_Practices_3              599329 non-null  Int64  \n",
      " 22  Best_Practices_4              599329 non-null  Int64  \n",
      " 23  Best_Practices_5              599329 non-null  Int64  \n",
      " 24  Best_Practices_6              599329 non-null  Int64  \n",
      " 25  Best_Practice_All             452130 non-null  Int64  \n",
      " 26  customer_id_2                 219467 non-null  Int64  \n",
      " 27  sum_arm_commands              219467 non-null  Int64  \n",
      " 28  sum_disarm_commands           219467 non-null  Int64  \n",
      " 29  number_days_arming_disarming  219467 non-null  Int64  \n",
      " 30  count_of_dates_arming         219467 non-null  Int64  \n",
      " 31  arming_consistency            219467 non-null  float64\n",
      " 32  Avg_arm_per_day               599329 non-null  float64\n",
      " 33  Avg_disarm_per_day            599329 non-null  float64\n",
      " 34  customer_id_3                 370879 non-null  Int64  \n",
      " 35  sum_login_count               370879 non-null  Int64  \n",
      " 36  number_of_login_days          370879 non-null  Int64  \n",
      " 37  count_of_dates_login          370879 non-null  Int64  \n",
      " 38  login_consistency             599329 non-null  float64\n",
      " 39  Avg_login_per_day             599329 non-null  float64\n",
      " 40  ban_1                         599329 non-null  object \n",
      " 41  product_mix_all               599329 non-null  Int64  \n",
      " 42  hsic_count                    599329 non-null  Int64  \n",
      " 43  sing_count                    599329 non-null  Int64  \n",
      " 44  shs_count                     599329 non-null  Int64  \n",
      " 45  ttv_count                     599329 non-null  Int64  \n",
      " 46  stv_count                     599329 non-null  Int64  \n",
      " 47  diic_count                    599329 non-null  Int64  \n",
      " 48  ban_2                         541410 non-null  object \n",
      " 49  Avg_SMHM_ARPU                 599329 non-null  float64\n",
      " 50  Avg_FFH_ARPU                  599329 non-null  float64\n",
      " 51  login_consistency_cat         599329 non-null  object \n",
      " 52  arming_consistency_cat        599329 non-null  object \n",
      " 53  Churn_score                   599329 non-null  float32\n",
      "dtypes: Int64(30), float32(1), float64(7), object(16)\n",
      "memory usage: 261.8+ MB\n"
     ]
    }
   ],
   "source": [
    "Full_DF.info()"
   ]
  },
  {
   "cell_type": "code",
   "execution_count": 91,
   "id": "b13284e7-5371-4329-b341-04374578a7bc",
   "metadata": {},
   "outputs": [
    {
     "data": {
      "text/html": [
       "<div>\n",
       "<style scoped>\n",
       "    .dataframe tbody tr th:only-of-type {\n",
       "        vertical-align: middle;\n",
       "    }\n",
       "\n",
       "    .dataframe tbody tr th {\n",
       "        vertical-align: top;\n",
       "    }\n",
       "\n",
       "    .dataframe thead th {\n",
       "        text-align: right;\n",
       "    }\n",
       "</style>\n",
       "<table border=\"1\" class=\"dataframe\">\n",
       "  <thead>\n",
       "    <tr style=\"text-align: right;\">\n",
       "      <th></th>\n",
       "      <th>ADT_migrated_customer</th>\n",
       "      <th>ADT_migrated_customer</th>\n",
       "    </tr>\n",
       "  </thead>\n",
       "  <tbody>\n",
       "    <tr>\n",
       "      <th>0</th>\n",
       "      <td>1</td>\n",
       "      <td>1</td>\n",
       "    </tr>\n",
       "    <tr>\n",
       "      <th>1</th>\n",
       "      <td>1</td>\n",
       "      <td>1</td>\n",
       "    </tr>\n",
       "    <tr>\n",
       "      <th>2</th>\n",
       "      <td>0</td>\n",
       "      <td>0</td>\n",
       "    </tr>\n",
       "    <tr>\n",
       "      <th>3</th>\n",
       "      <td>0</td>\n",
       "      <td>0</td>\n",
       "    </tr>\n",
       "    <tr>\n",
       "      <th>4</th>\n",
       "      <td>1</td>\n",
       "      <td>1</td>\n",
       "    </tr>\n",
       "  </tbody>\n",
       "</table>\n",
       "</div>"
      ],
      "text/plain": [
       "   ADT_migrated_customer  ADT_migrated_customer\n",
       "0                      1                      1\n",
       "1                      1                      1\n",
       "2                      0                      0\n",
       "3                      0                      0\n",
       "4                      1                      1"
      ]
     },
     "execution_count": 91,
     "metadata": {},
     "output_type": "execute_result"
    }
   ],
   "source": [
    "Full_DF['ADT_migrated_customer'].head()"
   ]
  },
  {
   "cell_type": "code",
   "execution_count": 100,
   "id": "8e18c5ad-ea6e-414a-94ca-24eb10f3ffe1",
   "metadata": {},
   "outputs": [],
   "source": [
    "ADT_migrated_DF=Full_DF[Full_DF['ADT_migrated_customer']==1]"
   ]
  },
  {
   "cell_type": "code",
   "execution_count": 102,
   "id": "50f3b16b-b64c-43c6-be28-5c7eee0a3212",
   "metadata": {},
   "outputs": [],
   "source": [
    "ADT_migrated_DF.to_csv('ADT_Migrated_customer.csv')"
   ]
  },
  {
   "cell_type": "code",
   "execution_count": 280,
   "id": "edad78cf-43b0-4da5-8e32-6ac4d97aae01",
   "metadata": {},
   "outputs": [],
   "source": [
    "# Output_DF_1=Output_DF.merge(TEST_DF_FULL[ID_cols],on=ID_cols,how='left')"
   ]
  },
  {
   "cell_type": "code",
   "execution_count": 281,
   "id": "ed799e1f-218d-4030-9621-115fbdda721c",
   "metadata": {},
   "outputs": [],
   "source": [
    "# Output_DF=pd.concat([ID_DF,result_churn_model],axis=1)"
   ]
  },
  {
   "cell_type": "code",
   "execution_count": 282,
   "id": "5bf7009e-c076-47f6-aec1-6decd0e99e38",
   "metadata": {},
   "outputs": [],
   "source": [
    "# Output_DF.head()"
   ]
  },
  {
   "cell_type": "code",
   "execution_count": 283,
   "id": "6dacd6fd-5a26-4dbf-a26e-e96da5bd1ab4",
   "metadata": {},
   "outputs": [],
   "source": [
    "# Output_DF.columns=ID_cols+['Churn_score']"
   ]
  },
  {
   "cell_type": "code",
   "execution_count": 284,
   "id": "366b9aac-1f2d-477a-ab2c-82c008797316",
   "metadata": {},
   "outputs": [],
   "source": [
    "Full_DF['Churn_SD'] = pd.qcut(Full_DF['Churn_score'].rank(method='first',ascending=False), q=20, labels=False)+1\n"
   ]
  },
  {
   "cell_type": "code",
   "execution_count": 285,
   "id": "609fa275-8a5e-4d68-9eba-f24c5b348071",
   "metadata": {},
   "outputs": [],
   "source": [
    "Full_DF_HRC=Full_DF[Full_DF['Churn_SD']<=2]"
   ]
  },
  {
   "cell_type": "code",
   "execution_count": 286,
   "id": "ad540e2e-f57e-45cf-82bb-846cbf81ba61",
   "metadata": {},
   "outputs": [
    {
     "data": {
      "text/plain": [
       "4.0457382798194885"
      ]
     },
     "execution_count": 286,
     "metadata": {},
     "output_type": "execute_result"
    }
   ],
   "source": [
    "Full_DF_HRC['Churn_score'].mean()*100\n"
   ]
  },
  {
   "cell_type": "code",
   "execution_count": 287,
   "id": "f7a85b19-a3c8-4927-964b-d1352f1f4ca7",
   "metadata": {},
   "outputs": [
    {
     "name": "stdout",
     "output_type": "stream",
     "text": [
      "<class 'pandas.core.frame.DataFrame'>\n",
      "Int64Index: 59933 entries, 12 to 228448\n",
      "Data columns (total 44 columns):\n",
      " #   Column                                                 Non-Null Count  Dtype  \n",
      "---  ------                                                 --------------  -----  \n",
      " 0   Telus_ID                                               59933 non-null  object \n",
      " 1   BAN                                                    59933 non-null  object \n",
      " 2   customer_id                                            58474 non-null  Int64  \n",
      " 3   contract_start_date                                    59933 non-null  object \n",
      " 4   contract_end_date                                      59933 non-null  object \n",
      " 5   Intial_activation_date                                 59933 non-null  object \n",
      " 6   ADT_migrated_customer                                  59933 non-null  Int64  \n",
      " 7   Avg_FFH_ARPU                                           59933 non-null  float64\n",
      " 8   Avg_SMHM_ARPU                                          59933 non-null  float64\n",
      " 9   Avg_arm_per_day                                        59933 non-null  float64\n",
      " 10  Avg_disarm_per_day                                     59933 non-null  float64\n",
      " 11  Avg_login_per_day                                      59933 non-null  float64\n",
      " 12  Best_Practices_1                                       59933 non-null  Int64  \n",
      " 13  Best_Practices_2                                       59933 non-null  Int64  \n",
      " 14  Best_Practices_3                                       59933 non-null  Int64  \n",
      " 15  Best_Practices_4                                       59933 non-null  Int64  \n",
      " 16  Best_Practices_5                                       59933 non-null  Int64  \n",
      " 17  Best_Practices_6                                       59933 non-null  Int64  \n",
      " 18  Contract_start_months                                  59933 non-null  Int64  \n",
      " 19  Interactivity_flag                                     59933 non-null  Int64  \n",
      " 20  Package__Monitored                                     59933 non-null  uint8  \n",
      " 21  Package__Smart_Automation_Plus                         59933 non-null  uint8  \n",
      " 22  Package__Smart_Camera                                  59933 non-null  uint8  \n",
      " 23  Package__Unknown_Package                               59933 non-null  uint8  \n",
      " 24  Tenure_months                                          59933 non-null  Int64  \n",
      " 25  arming_consistency_cat__Heavy_User                     59933 non-null  uint8  \n",
      " 26  arming_consistency_cat__Low_User                       59933 non-null  uint8  \n",
      " 27  arming_consistency_cat__No_ADC_account                 59933 non-null  uint8  \n",
      " 28  arming_consistency_cat__No_User                        59933 non-null  uint8  \n",
      " 29  contract_end_status__contract_expired                  59933 non-null  uint8  \n",
      " 30  contract_end_status__contract_expiring_after_90_days   59933 non-null  uint8  \n",
      " 31  contract_end_status__contract_expiring_within_90_days  59933 non-null  uint8  \n",
      " 32  diic_count                                             59933 non-null  Int64  \n",
      " 33  hsic_count                                             59933 non-null  Int64  \n",
      " 34  login_consistency_cat__Heavy_User                      59933 non-null  uint8  \n",
      " 35  login_consistency_cat__Low_User                        59933 non-null  uint8  \n",
      " 36  login_consistency_cat__No_ADC_account                  59933 non-null  uint8  \n",
      " 37  login_consistency_cat__No_User                         59933 non-null  uint8  \n",
      " 38  product_mix_all                                        59933 non-null  Int64  \n",
      " 39  sing_count                                             59933 non-null  Int64  \n",
      " 40  stv_count                                              59933 non-null  Int64  \n",
      " 41  ttv_count                                              59933 non-null  Int64  \n",
      " 42  Churn_score                                            59933 non-null  float32\n",
      " 43  Churn_SD                                               59933 non-null  int64  \n",
      "dtypes: Int64(17), float32(1), float64(5), int64(1), object(5), uint8(15)\n",
      "memory usage: 15.3+ MB\n"
     ]
    }
   ],
   "source": [
    "Full_DF_HRC.info()"
   ]
  },
  {
   "cell_type": "code",
   "execution_count": 288,
   "id": "d0bf3cf1-832b-4999-b3a9-1ce25c3dafa0",
   "metadata": {},
   "outputs": [
    {
     "data": {
      "text/html": [
       "<div>\n",
       "<style scoped>\n",
       "    .dataframe tbody tr th:only-of-type {\n",
       "        vertical-align: middle;\n",
       "    }\n",
       "\n",
       "    .dataframe tbody tr th {\n",
       "        vertical-align: top;\n",
       "    }\n",
       "\n",
       "    .dataframe thead th {\n",
       "        text-align: right;\n",
       "    }\n",
       "</style>\n",
       "<table border=\"1\" class=\"dataframe\">\n",
       "  <thead>\n",
       "    <tr style=\"text-align: right;\">\n",
       "      <th></th>\n",
       "      <th>Package__Smart_Camera</th>\n",
       "      <th>Customer_count</th>\n",
       "      <th>Churn_rate_telus</th>\n",
       "    </tr>\n",
       "  </thead>\n",
       "  <tbody>\n",
       "    <tr>\n",
       "      <th>0</th>\n",
       "      <td>0</td>\n",
       "      <td>45320</td>\n",
       "      <td>4.302227</td>\n",
       "    </tr>\n",
       "    <tr>\n",
       "      <th>1</th>\n",
       "      <td>1</td>\n",
       "      <td>13154</td>\n",
       "      <td>3.133600</td>\n",
       "    </tr>\n",
       "  </tbody>\n",
       "</table>\n",
       "</div>"
      ],
      "text/plain": [
       "   Package__Smart_Camera  Customer_count  Churn_rate_telus\n",
       "0                      0           45320          4.302227\n",
       "1                      1           13154          3.133600"
      ]
     },
     "execution_count": 288,
     "metadata": {},
     "output_type": "execute_result"
    }
   ],
   "source": [
    "pd.DataFrame(Full_DF_HRC.groupby(['Package__Smart_Camera']).agg(\n",
    "    \n",
    "    Customer_count= ('customer_id','nunique'),\n",
    "    # Churn_total_telus=('Churn_score',lambda x: x.sum()),\n",
    "    Churn_rate_telus=('Churn_score',lambda x: x.mean()*100),\n",
    "    # Churn_total=('Churn_flag',lambda x: x.sum()),\n",
    "    # Churn_rate=('Churn_flag',lambda x: x.mean()*100)\n",
    ").reset_index())"
   ]
  },
  {
   "cell_type": "code",
   "execution_count": 289,
   "id": "7be097ce-9f40-40a0-851c-1c97a3e4f837",
   "metadata": {},
   "outputs": [
    {
     "data": {
      "text/html": [
       "<div>\n",
       "<style scoped>\n",
       "    .dataframe tbody tr th:only-of-type {\n",
       "        vertical-align: middle;\n",
       "    }\n",
       "\n",
       "    .dataframe tbody tr th {\n",
       "        vertical-align: top;\n",
       "    }\n",
       "\n",
       "    .dataframe thead th {\n",
       "        text-align: right;\n",
       "    }\n",
       "</style>\n",
       "<table border=\"1\" class=\"dataframe\">\n",
       "  <thead>\n",
       "    <tr style=\"text-align: right;\">\n",
       "      <th></th>\n",
       "      <th>Package__Monitored</th>\n",
       "      <th>Customer_count</th>\n",
       "      <th>Churn_rate_telus</th>\n",
       "    </tr>\n",
       "  </thead>\n",
       "  <tbody>\n",
       "    <tr>\n",
       "      <th>0</th>\n",
       "      <td>0</td>\n",
       "      <td>30922</td>\n",
       "      <td>3.274713</td>\n",
       "    </tr>\n",
       "    <tr>\n",
       "      <th>1</th>\n",
       "      <td>1</td>\n",
       "      <td>27552</td>\n",
       "      <td>4.951901</td>\n",
       "    </tr>\n",
       "  </tbody>\n",
       "</table>\n",
       "</div>"
      ],
      "text/plain": [
       "   Package__Monitored  Customer_count  Churn_rate_telus\n",
       "0                   0           30922          3.274713\n",
       "1                   1           27552          4.951901"
      ]
     },
     "execution_count": 289,
     "metadata": {},
     "output_type": "execute_result"
    }
   ],
   "source": [
    "pd.DataFrame(Full_DF_HRC.groupby(['Package__Monitored']).agg(\n",
    "    \n",
    "    Customer_count= ('customer_id','nunique'),\n",
    "    # Churn_total_telus=('Churn_score',lambda x: x.sum()),\n",
    "    Churn_rate_telus=('Churn_score',lambda x: x.mean()*100),\n",
    "    # Churn_total=('Churn_flag',lambda x: x.sum()),\n",
    "    # Churn_rate=('Churn_flag',lambda x: x.mean()*100)\n",
    ").reset_index())"
   ]
  },
  {
   "cell_type": "code",
   "execution_count": 290,
   "id": "fd83c82c-36c7-411a-a607-dc9cd0bde323",
   "metadata": {},
   "outputs": [
    {
     "data": {
      "text/plain": [
       "4.0457382798194885"
      ]
     },
     "execution_count": 290,
     "metadata": {},
     "output_type": "execute_result"
    }
   ],
   "source": [
    "Full_DF_HRC['Churn_score'].mean()*100"
   ]
  },
  {
   "cell_type": "code",
   "execution_count": 291,
   "id": "10cbbc73-37ad-4dbf-890f-913eeb955711",
   "metadata": {},
   "outputs": [
    {
     "data": {
      "text/plain": [
       "0.48420748"
      ]
     },
     "execution_count": 291,
     "metadata": {},
     "output_type": "execute_result"
    }
   ],
   "source": [
    "Full_DF_HRC['Churn_score'].max()"
   ]
  },
  {
   "cell_type": "code",
   "execution_count": 292,
   "id": "6d729372-e57d-4741-9c84-aa139f58866f",
   "metadata": {},
   "outputs": [
    {
     "data": {
      "text/plain": [
       "0.44453381560742855"
      ]
     },
     "execution_count": 292,
     "metadata": {},
     "output_type": "execute_result"
    }
   ],
   "source": [
    "Full_DF['Churn_score'].mean()*100"
   ]
  },
  {
   "cell_type": "code",
   "execution_count": 293,
   "id": "744c77a4-703e-4475-8d23-4825866cf8cc",
   "metadata": {},
   "outputs": [],
   "source": [
    "Full_DF_HRC=Full_DF_HRC.sort_values('Churn_score',ascending=False)"
   ]
  },
  {
   "cell_type": "code",
   "execution_count": 294,
   "id": "dda268b1-e586-4c85-a073-a0870e2d9959",
   "metadata": {},
   "outputs": [
    {
     "name": "stdout",
     "output_type": "stream",
     "text": [
      "<class 'pandas.core.frame.DataFrame'>\n",
      "Int64Index: 59933 entries, 214172 to 31824\n",
      "Data columns (total 44 columns):\n",
      " #   Column                                                 Non-Null Count  Dtype  \n",
      "---  ------                                                 --------------  -----  \n",
      " 0   Telus_ID                                               59933 non-null  object \n",
      " 1   BAN                                                    59933 non-null  object \n",
      " 2   customer_id                                            58474 non-null  Int64  \n",
      " 3   contract_start_date                                    59933 non-null  object \n",
      " 4   contract_end_date                                      59933 non-null  object \n",
      " 5   Intial_activation_date                                 59933 non-null  object \n",
      " 6   ADT_migrated_customer                                  59933 non-null  Int64  \n",
      " 7   Avg_FFH_ARPU                                           59933 non-null  float64\n",
      " 8   Avg_SMHM_ARPU                                          59933 non-null  float64\n",
      " 9   Avg_arm_per_day                                        59933 non-null  float64\n",
      " 10  Avg_disarm_per_day                                     59933 non-null  float64\n",
      " 11  Avg_login_per_day                                      59933 non-null  float64\n",
      " 12  Best_Practices_1                                       59933 non-null  Int64  \n",
      " 13  Best_Practices_2                                       59933 non-null  Int64  \n",
      " 14  Best_Practices_3                                       59933 non-null  Int64  \n",
      " 15  Best_Practices_4                                       59933 non-null  Int64  \n",
      " 16  Best_Practices_5                                       59933 non-null  Int64  \n",
      " 17  Best_Practices_6                                       59933 non-null  Int64  \n",
      " 18  Contract_start_months                                  59933 non-null  Int64  \n",
      " 19  Interactivity_flag                                     59933 non-null  Int64  \n",
      " 20  Package__Monitored                                     59933 non-null  uint8  \n",
      " 21  Package__Smart_Automation_Plus                         59933 non-null  uint8  \n",
      " 22  Package__Smart_Camera                                  59933 non-null  uint8  \n",
      " 23  Package__Unknown_Package                               59933 non-null  uint8  \n",
      " 24  Tenure_months                                          59933 non-null  Int64  \n",
      " 25  arming_consistency_cat__Heavy_User                     59933 non-null  uint8  \n",
      " 26  arming_consistency_cat__Low_User                       59933 non-null  uint8  \n",
      " 27  arming_consistency_cat__No_ADC_account                 59933 non-null  uint8  \n",
      " 28  arming_consistency_cat__No_User                        59933 non-null  uint8  \n",
      " 29  contract_end_status__contract_expired                  59933 non-null  uint8  \n",
      " 30  contract_end_status__contract_expiring_after_90_days   59933 non-null  uint8  \n",
      " 31  contract_end_status__contract_expiring_within_90_days  59933 non-null  uint8  \n",
      " 32  diic_count                                             59933 non-null  Int64  \n",
      " 33  hsic_count                                             59933 non-null  Int64  \n",
      " 34  login_consistency_cat__Heavy_User                      59933 non-null  uint8  \n",
      " 35  login_consistency_cat__Low_User                        59933 non-null  uint8  \n",
      " 36  login_consistency_cat__No_ADC_account                  59933 non-null  uint8  \n",
      " 37  login_consistency_cat__No_User                         59933 non-null  uint8  \n",
      " 38  product_mix_all                                        59933 non-null  Int64  \n",
      " 39  sing_count                                             59933 non-null  Int64  \n",
      " 40  stv_count                                              59933 non-null  Int64  \n",
      " 41  ttv_count                                              59933 non-null  Int64  \n",
      " 42  Churn_score                                            59933 non-null  float32\n",
      " 43  Churn_SD                                               59933 non-null  int64  \n",
      "dtypes: Int64(17), float32(1), float64(5), int64(1), object(5), uint8(15)\n",
      "memory usage: 15.3+ MB\n"
     ]
    }
   ],
   "source": [
    "Full_DF_HRC.info()"
   ]
  },
  {
   "cell_type": "code",
   "execution_count": 295,
   "id": "dd6fc770-6876-4250-a9cf-41269b63b02d",
   "metadata": {},
   "outputs": [],
   "source": [
    "Full_DF_HRC.to_csv('SHS_Model_score_Top_decile.csv',index=False)"
   ]
  },
  {
   "cell_type": "code",
   "execution_count": null,
   "id": "d501806e-26d0-478d-93f6-6e1ac9113e31",
   "metadata": {},
   "outputs": [],
   "source": [
    "config= bigquery.job.LoadJobConfig()\n",
    "\n",
    "# config._properties['timePartitioning'] = {'field': 'Month_Year'}\n",
    "config.write_disposition = bigquery.WriteDisposition.WRITE_TRUNCATE\n",
    "\n",
    "Table_BQ = 'SHS.SHS_Model_score_top_decile'\n",
    "\n",
    "bq_table_instance= bq_client.load_table_from_dataframe(Full_DF_HRC, Table_BQ,job_config=config)"
   ]
  },
  {
   "cell_type": "code",
   "execution_count": 337,
   "id": "972d3273-3826-4fcb-94e2-2de0a8314dd4",
   "metadata": {},
   "outputs": [
    {
     "name": "stderr",
     "output_type": "stream",
     "text": [
      "ntree_limit is deprecated, use `iteration_range` or model slicing instead.\n"
     ]
    },
    {
     "data": {
      "image/png": "[encoded data removed]",
      "text/plain": [
       "<Figure size 576x540 with 2 Axes>"
      ]
     },
     "metadata": {
      "needs_background": "light"
     },
     "output_type": "display_data"
    }
   ],
   "source": [
    "import shap\n",
    "# model_shap = XGB_final_model.best_estimator_\n",
    "explainer = shap.Explainer(modle_pickle)\n",
    "shap_values_local = explainer.shap_values(Full_DF_HRC[final_feature_cols],check_additivity=False)\n",
    "#%%\n",
    "\n",
    "shap.summary_plot(shap_values_local, features=Full_DF_HRC[final_feature_cols]\n",
    ", feature_names=final_feature_cols,show=False,max_display=15)\n",
    "\n",
    "\n",
    "# shap.plots.bar(shap_values_local[0]) # For the first observation\n"
   ]
  },
  {
   "cell_type": "code",
   "execution_count": null,
   "id": "7ddbaa9b-d5ca-4760-b41b-420579d877cb",
   "metadata": {},
   "outputs": [],
   "source": []
  },
  {
   "cell_type": "code",
   "execution_count": 447,
   "id": "f2ecb522-095c-4765-aa75-5a2fdb6255c4",
   "metadata": {},
   "outputs": [
    {
     "data": {
      "image/png": "[encoded data removed]",
      "text/plain": [
       "<Figure size 432x288 with 1 Axes>"
      ]
     },
     "metadata": {
      "needs_background": "light"
     },
     "output_type": "display_data"
    }
   ],
   "source": [
    "idx=50\n",
    "shap.plots._bar.bar_legacy(shap_values_local[idx],feature_names=final_feature_cols,show=True,max_display=10)"
   ]
  },
  {
   "cell_type": "code",
   "execution_count": 450,
   "id": "97896731-c0ff-45c3-89eb-96b799951f32",
   "metadata": {},
   "outputs": [
    {
     "data": {
      "image/png": "[encoded data removed]",
      "text/plain": [
       "<Figure size 576x468 with 3 Axes>"
      ]
     },
     "metadata": {},
     "output_type": "display_data"
    }
   ],
   "source": [
    "shap.plots._waterfall.waterfall_legacy(explainer.expected_value, shap_values_local[idx],feature_names=final_feature_cols,max_display=10)"
   ]
  },
  {
   "cell_type": "code",
   "execution_count": 451,
   "id": "7e56e293-f3c5-4914-bfde-f420d19a1dfd",
   "metadata": {},
   "outputs": [
    {
     "data": {
      "text/plain": [
       "customer_id                        15236342\n",
       "dealer_customer_id                105402816\n",
       "BAN                               605634186\n",
       "Churn_score                        0.351526\n",
       "login_consistency                       1.0\n",
       "Tenure_months                             0\n",
       "Contract_start_months                     0\n",
       "Avg_FFH_ARPU                            0.0\n",
       "Avg_SMHM_ARPU                           0.0\n",
       "product_mix_all                           2\n",
       "Package__Smart_Camera                     1\n",
       "Package__Smart_Automation_Plus            0\n",
       "Name: 58570, dtype: object"
      ]
     },
     "execution_count": 451,
     "metadata": {},
     "output_type": "execute_result"
    }
   ],
   "source": [
    "Full_DF_HRC[ID_cols+['Churn_score','login_consistency','Tenure_months','Contract_start_months','Avg_FFH_ARPU','Avg_SMHM_ARPU','product_mix_all','Package__Smart_Camera','Package__Smart_Automation_Plus']].iloc[idx]"
   ]
  },
  {
   "cell_type": "code",
   "execution_count": 406,
   "id": "d8c21427-7833-4537-ab7a-8aeca6580549",
   "metadata": {},
   "outputs": [
    {
     "data": {
      "text/plain": [
       "0.3515264"
      ]
     },
     "execution_count": 406,
     "metadata": {},
     "output_type": "execute_result"
    }
   ],
   "source": [
    "Full_DF_HRC['Churn_score'].iloc[idx]"
   ]
  },
  {
   "cell_type": "code",
   "execution_count": 342,
   "id": "ab620d28-2479-42cf-989a-56979ac3688c",
   "metadata": {},
   "outputs": [
    {
     "data": {
      "text/html": [
       "\n",
       "<div id='iXOJXYZSRUPKD2TXHJ9OS'>\n",
       "<div style='color: #900; text-align: center;'>\n",
       "  <b>Visualization omitted, Javascript library not loaded!</b><br>\n",
       "  Have you run `initjs()` in this notebook? If this notebook was from another\n",
       "  user you must also trust this notebook (File -> Trust notebook). If you are viewing\n",
       "  this notebook on github the Javascript has been stripped for security. If you are using\n",
       "  JupyterLab this error is because a JupyterLab extension has not yet been written.\n",
       "</div></div>\n",
       " <script>\n",
       "   if (window.SHAP) SHAP.ReactDom.render(\n",
       "    SHAP.React.createElement(SHAP.AdditiveForceVisualizer, {\"outNames\": [\"f(x)\"], \"baseValue\": -4.573199272155762, \"outValue\": -0.6123356819152832, \"link\": \"identity\", \"featureNames\": [\"ttv_count\", \"Avg_arm_per_day\", \"hsic_count\", \"Best_Practices_3\", \"Best_Practices_5\", \"Tenure_months\", \"Best_Practices_1\", \"Contract_start_months\", \"Avg_FFH_ARPU\", \"Best_Practices_6\", \"Best_Practice_All\", \"Avg_login_per_day\", \"stv_count\", \"Avg_SMHM_ARPU\", \"Best_Practices_2\", \"Best_Practices_4\", \"diic_count\", \"Avg_disarm_per_day\", \"login_consistency\", \"sing_count\", \"arming_consistency\", \"product_mix_all\", \"contract_end_status__contract_expired\", \"contract_end_status__contract_expiring_after_90_days\", \"contract_end_status__contract_expiring_within_90_days\", \"Package__Monitored\", \"Package__Smart_Automation_Plus\", \"Package__Smart_Camera\"], \"features\": {\"0\": {\"effect\": 0.00558271910995245, \"value\": 0}, \"1\": {\"effect\": 0.05196753889322281, \"value\": 0.0}, \"2\": {\"effect\": 0.17447791993618011, \"value\": 0}, \"3\": {\"effect\": 0.004772399086505175, \"value\": 0}, \"4\": {\"effect\": -0.01800689846277237, \"value\": 0}, \"5\": {\"effect\": 1.2341057062149048, \"value\": 0}, \"6\": {\"effect\": 0.03585417568683624, \"value\": 0}, \"7\": {\"effect\": 0.16328322887420654, \"value\": 0}, \"8\": {\"effect\": 0.2313816249370575, \"value\": 0.0}, \"9\": {\"effect\": -0.02139127068221569, \"value\": 0}, \"10\": {\"effect\": 0.08301803469657898, \"value\": 0}, \"11\": {\"effect\": 0.00991756096482277, \"value\": 2.0}, \"12\": {\"effect\": 0.0007628819439560175, \"value\": 0}, \"13\": {\"effect\": 0.28525158762931824, \"value\": 0.0}, \"14\": {\"effect\": -0.03120853379368782, \"value\": 0}, \"15\": {\"effect\": -0.0036657643504440784, \"value\": 0}, \"16\": {\"effect\": 0.011941949836909771, \"value\": 1}, \"17\": {\"effect\": 0.019143689423799515, \"value\": 0.0}, \"18\": {\"effect\": 1.1226985454559326, \"value\": 1.0}, \"19\": {\"effect\": -0.013829310424625874, \"value\": 0}, \"20\": {\"effect\": 0.156499981880188, \"value\": 0.0}, \"21\": {\"effect\": 0.12303449958562851, \"value\": 2}, \"22\": {\"effect\": -0.001786850392818451, \"value\": 0}, \"23\": {\"effect\": -0.050188153982162476, \"value\": 1}, \"24\": {\"effect\": 0.0063634286634624004, \"value\": 0}, \"25\": {\"effect\": 0.06395439058542252, \"value\": 0}, \"26\": {\"effect\": 0.012180051766335964, \"value\": 0}, \"27\": {\"effect\": 0.3047485947608948, \"value\": 1}}, \"plot_cmap\": \"RdBu\", \"labelMargin\": 20}),\n",
       "    document.getElementById('iXOJXYZSRUPKD2TXHJ9OS')\n",
       "  );\n",
       "</script>"
      ],
      "text/plain": [
       "<shap.plots._force.AdditiveForceVisualizer at 0x7fe5f44f2640>"
      ]
     },
     "execution_count": 342,
     "metadata": {},
     "output_type": "execute_result"
    }
   ],
   "source": [
    "shap.force_plot(explainer.expected_value, shap_values_local[idx], features=Full_DF_HRC[final_feature_cols].iloc[[idx]], feature_names=final_feature_cols)"
   ]
  },
  {
   "cell_type": "code",
   "execution_count": 453,
   "id": "4787c680-d458-4055-96bd-9067014fac65",
   "metadata": {},
   "outputs": [],
   "source": [
    "Full_DF_LRC=Full_DF[Full_DF['Churn_SD']==20]"
   ]
  },
  {
   "cell_type": "code",
   "execution_count": 454,
   "id": "d45aecea-26d7-4284-a15b-b16917214b4b",
   "metadata": {},
   "outputs": [
    {
     "name": "stderr",
     "output_type": "stream",
     "text": [
      "ntree_limit is deprecated, use `iteration_range` or model slicing instead.\n"
     ]
    },
    {
     "data": {
      "image/png": "[encoded data removed]",
      "text/plain": [
       "<Figure size 576x540 with 2 Axes>"
      ]
     },
     "metadata": {
      "needs_background": "light"
     },
     "output_type": "display_data"
    }
   ],
   "source": [
    "import shap\n",
    "# model_shap = XGB_final_model.best_estimator_\n",
    "explainer_LRC = shap.Explainer(modle_pickle)\n",
    "shap_values_local_LRC = explainer.shap_values(Full_DF_LRC[final_feature_cols],check_additivity=False)\n",
    "#%%\n",
    "\n",
    "shap.summary_plot(shap_values_local_LRC, features=Full_DF_LRC[final_feature_cols]\n",
    ", feature_names=final_feature_cols,show=False,max_display=15)"
   ]
  },
  {
   "cell_type": "code",
   "execution_count": 455,
   "id": "2c22ba18-d762-4013-a9c0-9fe14c92746d",
   "metadata": {},
   "outputs": [
    {
     "data": {
      "image/png": "[encoded data removed]",
      "text/plain": [
       "<Figure size 432x288 with 1 Axes>"
      ]
     },
     "metadata": {
      "needs_background": "light"
     },
     "output_type": "display_data"
    }
   ],
   "source": [
    "idx=50\n",
    "shap.plots._bar.bar_legacy(shap_values_local_LRC[idx],feature_names=final_feature_cols,show=True,max_display=10)"
   ]
  },
  {
   "cell_type": "code",
   "execution_count": 343,
   "id": "157dce57-4a57-41bf-a6c7-6ffe5dd766e8",
   "metadata": {},
   "outputs": [],
   "source": [
    "# shap.initjs()\n",
    "\n",
    "# shap.force_plot(explainer.expected_value[1], shap_values_local[1], Full_DF[final_feature_cols])"
   ]
  },
  {
   "cell_type": "code",
   "execution_count": 344,
   "id": "3f9d1bcb-64e3-4112-97b0-c8c30f724375",
   "metadata": {},
   "outputs": [],
   "source": [
    "\n",
    "# shap.plots.bar(shap_values_local[0]) # For the first observation\n",
    "# # shap.plots.waterfall(shap_values_local[1])"
   ]
  },
  {
   "cell_type": "code",
   "execution_count": 167,
   "id": "2106e6fd-6e62-41fb-99a8-bc2ace466c3a",
   "metadata": {},
   "outputs": [
    {
     "name": "stderr",
     "output_type": "stream",
     "text": [
      "ntree_limit is deprecated, use `iteration_range` or model slicing instead.\n"
     ]
    },
    {
     "ename": "IndexError",
     "evalue": "too many indices for array: array is 2-dimensional, but 3 were indexed",
     "output_type": "error",
     "traceback": [
      "\u001b[0;31m---------------------------------------------------------------------------\u001b[0m",
      "\u001b[0;31mIndexError\u001b[0m                                Traceback (most recent call last)",
      "Input \u001b[0;32mIn [167]\u001b[0m, in \u001b[0;36m<cell line: 13>\u001b[0;34m()\u001b[0m\n\u001b[1;32m      7\u001b[0m sv \u001b[38;5;241m=\u001b[39m explainer(X_pred\u001b[38;5;241m.\u001b[39miloc[[idx]])\n\u001b[1;32m      8\u001b[0m \u001b[38;5;66;03m# model_shap = XGB_final_model.best_estimator_\u001b[39;00m\n\u001b[1;32m      9\u001b[0m \u001b[38;5;66;03m# explainer = shap.TreeExplainer(modle_pickle)\u001b[39;00m\n\u001b[1;32m     10\u001b[0m \u001b[38;5;66;03m# shap_values_local = explainer.shap_values(Full_DF[final_feature_cols],check_additivity=False)\u001b[39;00m\n\u001b[1;32m     11\u001b[0m \u001b[38;5;66;03m#%%\u001b[39;00m\n\u001b[1;32m     13\u001b[0m exp \u001b[38;5;241m=\u001b[39m Explanation(\n\u001b[0;32m---> 14\u001b[0m     \u001b[43msv\u001b[49m\u001b[38;5;241;43m.\u001b[39;49m\u001b[43mvalues\u001b[49m\u001b[43m[\u001b[49m\u001b[43m:\u001b[49m\u001b[43m,\u001b[49m\u001b[43m \u001b[49m\u001b[43m:\u001b[49m\u001b[43m,\u001b[49m\u001b[43m \u001b[49m\u001b[38;5;241;43m1\u001b[39;49m\u001b[43m]\u001b[49m,         \u001b[38;5;66;03m# class to explain\u001b[39;00m\n\u001b[1;32m     15\u001b[0m     sv\u001b[38;5;241m.\u001b[39mbase_values[:, \u001b[38;5;241m1\u001b[39m],\n\u001b[1;32m     16\u001b[0m     data\u001b[38;5;241m=\u001b[39mFX_pred\u001b[38;5;241m.\u001b[39miloc[[idx]]\u001b[38;5;241m.\u001b[39mvalues,   \u001b[38;5;66;03m# corrected, pass the row of interest as df\u001b[39;00m\n\u001b[1;32m     17\u001b[0m     feature_names\u001b[38;5;241m=\u001b[39mfinal_feature_cols,\n\u001b[1;32m     18\u001b[0m )\n\u001b[1;32m     19\u001b[0m waterfall(exp[\u001b[38;5;241m0\u001b[39m])\n",
      "\u001b[0;31mIndexError\u001b[0m: too many indices for array: array is 2-dimensional, but 3 were indexed"
     ]
    }
   ],
   "source": [
    "import shap\n",
    "from shap import Explainer, Explanation\n",
    "from shap import waterfall_plot\n",
    "X_pred=Full_DF[final_feature_cols]\n",
    "idx = 9\n",
    "explainer = Explainer(modle_pickle)\n",
    "sv = explainer(X_pred.iloc[[idx]])\n",
    "# model_shap = XGB_final_model.best_estimator_\n",
    "# explainer = shap.TreeExplainer(modle_pickle)\n",
    "# shap_values_local = explainer.shap_values(Full_DF[final_feature_cols],check_additivity=False)\n",
    "#%%\n",
    "\n",
    "exp = Explanation(\n",
    "    sv.values[:, :, 1],         # class to explain\n",
    "    sv.base_values[:, 1],\n",
    "    data=FX_pred.iloc[[idx]].values,   # corrected, pass the row of interest as df\n",
    "    feature_names=final_feature_cols,\n",
    ")\n",
    "waterfall(exp[0])               # pretend you have only 1 data point which is 0th \n",
    "\n",
    "# shap.summary_plot(shap_values_local, features=Full_DF[final_feature_cols]\n",
    "# , feature_names=final_feature_cols,show=False,max_display=15)"
   ]
  },
  {
   "cell_type": "code",
   "execution_count": 161,
   "id": "10189840-588a-478d-bb4f-bc3d7dc27191",
   "metadata": {},
   "outputs": [
    {
     "ename": "KeyError",
     "evalue": "\"None of [Int64Index([0], dtype='int64')] are in the [index]\"",
     "output_type": "error",
     "traceback": [
      "\u001b[0;31m---------------------------------------------------------------------------\u001b[0m",
      "\u001b[0;31mKeyError\u001b[0m                                  Traceback (most recent call last)",
      "Input \u001b[0;32mIn [161]\u001b[0m, in \u001b[0;36m<cell line: 1>\u001b[0;34m()\u001b[0m\n\u001b[0;32m----> 1\u001b[0m \u001b[43mFull_DF\u001b[49m\u001b[43m[\u001b[49m\u001b[43mfinal_feature_cols\u001b[49m\u001b[43m]\u001b[49m\u001b[38;5;241;43m.\u001b[39;49m\u001b[43mloc\u001b[49m\u001b[43m[\u001b[49m\u001b[43m[\u001b[49m\u001b[38;5;241;43m0\u001b[39;49m\u001b[43m]\u001b[49m\u001b[43m]\u001b[49m\n",
      "File \u001b[0;32m/opt/conda/lib/python3.8/site-packages/pandas/core/indexing.py:967\u001b[0m, in \u001b[0;36m_LocationIndexer.__getitem__\u001b[0;34m(self, key)\u001b[0m\n\u001b[1;32m    964\u001b[0m axis \u001b[38;5;241m=\u001b[39m \u001b[38;5;28mself\u001b[39m\u001b[38;5;241m.\u001b[39maxis \u001b[38;5;129;01mor\u001b[39;00m \u001b[38;5;241m0\u001b[39m\n\u001b[1;32m    966\u001b[0m maybe_callable \u001b[38;5;241m=\u001b[39m com\u001b[38;5;241m.\u001b[39mapply_if_callable(key, \u001b[38;5;28mself\u001b[39m\u001b[38;5;241m.\u001b[39mobj)\n\u001b[0;32m--> 967\u001b[0m \u001b[38;5;28;01mreturn\u001b[39;00m \u001b[38;5;28;43mself\u001b[39;49m\u001b[38;5;241;43m.\u001b[39;49m\u001b[43m_getitem_axis\u001b[49m\u001b[43m(\u001b[49m\u001b[43mmaybe_callable\u001b[49m\u001b[43m,\u001b[49m\u001b[43m \u001b[49m\u001b[43maxis\u001b[49m\u001b[38;5;241;43m=\u001b[39;49m\u001b[43maxis\u001b[49m\u001b[43m)\u001b[49m\n",
      "File \u001b[0;32m/opt/conda/lib/python3.8/site-packages/pandas/core/indexing.py:1191\u001b[0m, in \u001b[0;36m_LocIndexer._getitem_axis\u001b[0;34m(self, key, axis)\u001b[0m\n\u001b[1;32m   1188\u001b[0m     \u001b[38;5;28;01mif\u001b[39;00m \u001b[38;5;28mhasattr\u001b[39m(key, \u001b[38;5;124m\"\u001b[39m\u001b[38;5;124mndim\u001b[39m\u001b[38;5;124m\"\u001b[39m) \u001b[38;5;129;01mand\u001b[39;00m key\u001b[38;5;241m.\u001b[39mndim \u001b[38;5;241m>\u001b[39m \u001b[38;5;241m1\u001b[39m:\n\u001b[1;32m   1189\u001b[0m         \u001b[38;5;28;01mraise\u001b[39;00m \u001b[38;5;167;01mValueError\u001b[39;00m(\u001b[38;5;124m\"\u001b[39m\u001b[38;5;124mCannot index with multidimensional key\u001b[39m\u001b[38;5;124m\"\u001b[39m)\n\u001b[0;32m-> 1191\u001b[0m     \u001b[38;5;28;01mreturn\u001b[39;00m \u001b[38;5;28;43mself\u001b[39;49m\u001b[38;5;241;43m.\u001b[39;49m\u001b[43m_getitem_iterable\u001b[49m\u001b[43m(\u001b[49m\u001b[43mkey\u001b[49m\u001b[43m,\u001b[49m\u001b[43m \u001b[49m\u001b[43maxis\u001b[49m\u001b[38;5;241;43m=\u001b[39;49m\u001b[43maxis\u001b[49m\u001b[43m)\u001b[49m\n\u001b[1;32m   1193\u001b[0m \u001b[38;5;66;03m# nested tuple slicing\u001b[39;00m\n\u001b[1;32m   1194\u001b[0m \u001b[38;5;28;01mif\u001b[39;00m is_nested_tuple(key, labels):\n",
      "File \u001b[0;32m/opt/conda/lib/python3.8/site-packages/pandas/core/indexing.py:1132\u001b[0m, in \u001b[0;36m_LocIndexer._getitem_iterable\u001b[0;34m(self, key, axis)\u001b[0m\n\u001b[1;32m   1129\u001b[0m \u001b[38;5;28mself\u001b[39m\u001b[38;5;241m.\u001b[39m_validate_key(key, axis)\n\u001b[1;32m   1131\u001b[0m \u001b[38;5;66;03m# A collection of keys\u001b[39;00m\n\u001b[0;32m-> 1132\u001b[0m keyarr, indexer \u001b[38;5;241m=\u001b[39m \u001b[38;5;28;43mself\u001b[39;49m\u001b[38;5;241;43m.\u001b[39;49m\u001b[43m_get_listlike_indexer\u001b[49m\u001b[43m(\u001b[49m\u001b[43mkey\u001b[49m\u001b[43m,\u001b[49m\u001b[43m \u001b[49m\u001b[43maxis\u001b[49m\u001b[43m)\u001b[49m\n\u001b[1;32m   1133\u001b[0m \u001b[38;5;28;01mreturn\u001b[39;00m \u001b[38;5;28mself\u001b[39m\u001b[38;5;241m.\u001b[39mobj\u001b[38;5;241m.\u001b[39m_reindex_with_indexers(\n\u001b[1;32m   1134\u001b[0m     {axis: [keyarr, indexer]}, copy\u001b[38;5;241m=\u001b[39m\u001b[38;5;28;01mTrue\u001b[39;00m, allow_dups\u001b[38;5;241m=\u001b[39m\u001b[38;5;28;01mTrue\u001b[39;00m\n\u001b[1;32m   1135\u001b[0m )\n",
      "File \u001b[0;32m/opt/conda/lib/python3.8/site-packages/pandas/core/indexing.py:1327\u001b[0m, in \u001b[0;36m_LocIndexer._get_listlike_indexer\u001b[0;34m(self, key, axis)\u001b[0m\n\u001b[1;32m   1324\u001b[0m ax \u001b[38;5;241m=\u001b[39m \u001b[38;5;28mself\u001b[39m\u001b[38;5;241m.\u001b[39mobj\u001b[38;5;241m.\u001b[39m_get_axis(axis)\n\u001b[1;32m   1325\u001b[0m axis_name \u001b[38;5;241m=\u001b[39m \u001b[38;5;28mself\u001b[39m\u001b[38;5;241m.\u001b[39mobj\u001b[38;5;241m.\u001b[39m_get_axis_name(axis)\n\u001b[0;32m-> 1327\u001b[0m keyarr, indexer \u001b[38;5;241m=\u001b[39m \u001b[43max\u001b[49m\u001b[38;5;241;43m.\u001b[39;49m\u001b[43m_get_indexer_strict\u001b[49m\u001b[43m(\u001b[49m\u001b[43mkey\u001b[49m\u001b[43m,\u001b[49m\u001b[43m \u001b[49m\u001b[43maxis_name\u001b[49m\u001b[43m)\u001b[49m\n\u001b[1;32m   1329\u001b[0m \u001b[38;5;28;01mreturn\u001b[39;00m keyarr, indexer\n",
      "File \u001b[0;32m/opt/conda/lib/python3.8/site-packages/pandas/core/indexes/base.py:5782\u001b[0m, in \u001b[0;36mIndex._get_indexer_strict\u001b[0;34m(self, key, axis_name)\u001b[0m\n\u001b[1;32m   5779\u001b[0m \u001b[38;5;28;01melse\u001b[39;00m:\n\u001b[1;32m   5780\u001b[0m     keyarr, indexer, new_indexer \u001b[38;5;241m=\u001b[39m \u001b[38;5;28mself\u001b[39m\u001b[38;5;241m.\u001b[39m_reindex_non_unique(keyarr)\n\u001b[0;32m-> 5782\u001b[0m \u001b[38;5;28;43mself\u001b[39;49m\u001b[38;5;241;43m.\u001b[39;49m\u001b[43m_raise_if_missing\u001b[49m\u001b[43m(\u001b[49m\u001b[43mkeyarr\u001b[49m\u001b[43m,\u001b[49m\u001b[43m \u001b[49m\u001b[43mindexer\u001b[49m\u001b[43m,\u001b[49m\u001b[43m \u001b[49m\u001b[43maxis_name\u001b[49m\u001b[43m)\u001b[49m\n\u001b[1;32m   5784\u001b[0m keyarr \u001b[38;5;241m=\u001b[39m \u001b[38;5;28mself\u001b[39m\u001b[38;5;241m.\u001b[39mtake(indexer)\n\u001b[1;32m   5785\u001b[0m \u001b[38;5;28;01mif\u001b[39;00m \u001b[38;5;28misinstance\u001b[39m(key, Index):\n\u001b[1;32m   5786\u001b[0m     \u001b[38;5;66;03m# GH 42790 - Preserve name from an Index\u001b[39;00m\n",
      "File \u001b[0;32m/opt/conda/lib/python3.8/site-packages/pandas/core/indexes/base.py:5842\u001b[0m, in \u001b[0;36mIndex._raise_if_missing\u001b[0;34m(self, key, indexer, axis_name)\u001b[0m\n\u001b[1;32m   5840\u001b[0m     \u001b[38;5;28;01mif\u001b[39;00m use_interval_msg:\n\u001b[1;32m   5841\u001b[0m         key \u001b[38;5;241m=\u001b[39m \u001b[38;5;28mlist\u001b[39m(key)\n\u001b[0;32m-> 5842\u001b[0m     \u001b[38;5;28;01mraise\u001b[39;00m \u001b[38;5;167;01mKeyError\u001b[39;00m(\u001b[38;5;124mf\u001b[39m\u001b[38;5;124m\"\u001b[39m\u001b[38;5;124mNone of [\u001b[39m\u001b[38;5;132;01m{\u001b[39;00mkey\u001b[38;5;132;01m}\u001b[39;00m\u001b[38;5;124m] are in the [\u001b[39m\u001b[38;5;132;01m{\u001b[39;00maxis_name\u001b[38;5;132;01m}\u001b[39;00m\u001b[38;5;124m]\u001b[39m\u001b[38;5;124m\"\u001b[39m)\n\u001b[1;32m   5844\u001b[0m not_found \u001b[38;5;241m=\u001b[39m \u001b[38;5;28mlist\u001b[39m(ensure_index(key)[missing_mask\u001b[38;5;241m.\u001b[39mnonzero()[\u001b[38;5;241m0\u001b[39m]]\u001b[38;5;241m.\u001b[39munique())\n\u001b[1;32m   5845\u001b[0m \u001b[38;5;28;01mraise\u001b[39;00m \u001b[38;5;167;01mKeyError\u001b[39;00m(\u001b[38;5;124mf\u001b[39m\u001b[38;5;124m\"\u001b[39m\u001b[38;5;132;01m{\u001b[39;00mnot_found\u001b[38;5;132;01m}\u001b[39;00m\u001b[38;5;124m not in index\u001b[39m\u001b[38;5;124m\"\u001b[39m)\n",
      "\u001b[0;31mKeyError\u001b[0m: \"None of [Int64Index([0], dtype='int64')] are in the [index]\""
     ]
    }
   ],
   "source": [
    "Full_DF[final_feature_cols].loc[[0]]"
   ]
  },
  {
   "cell_type": "code",
   "execution_count": 166,
   "id": "8eebbaa8-b0e6-454a-901a-d4c18e5ff7b4",
   "metadata": {},
   "outputs": [
    {
     "data": {
      "text/html": [
       "<div>\n",
       "<style scoped>\n",
       "    .dataframe tbody tr th:only-of-type {\n",
       "        vertical-align: middle;\n",
       "    }\n",
       "\n",
       "    .dataframe tbody tr th {\n",
       "        vertical-align: top;\n",
       "    }\n",
       "\n",
       "    .dataframe thead th {\n",
       "        text-align: right;\n",
       "    }\n",
       "</style>\n",
       "<table border=\"1\" class=\"dataframe\">\n",
       "  <thead>\n",
       "    <tr style=\"text-align: right;\">\n",
       "      <th></th>\n",
       "      <th>customer_id</th>\n",
       "      <th>dealer_customer_id</th>\n",
       "      <th>BAN</th>\n",
       "      <th>SMHM_Churn</th>\n",
       "      <th>ttv_count</th>\n",
       "      <th>Avg_arm_per_day</th>\n",
       "      <th>hsic_count</th>\n",
       "      <th>Best_Practices_3</th>\n",
       "      <th>Best_Practices_5</th>\n",
       "      <th>Tenure_months</th>\n",
       "      <th>...</th>\n",
       "      <th>arming_consistency</th>\n",
       "      <th>product_mix_all</th>\n",
       "      <th>contract_end_status__contract_expired</th>\n",
       "      <th>contract_end_status__contract_expiring_after_90_days</th>\n",
       "      <th>contract_end_status__contract_expiring_within_90_days</th>\n",
       "      <th>Package__Monitored</th>\n",
       "      <th>Package__Smart_Automation_Plus</th>\n",
       "      <th>Package__Smart_Camera</th>\n",
       "      <th>Churn_score</th>\n",
       "      <th>Churn_SD</th>\n",
       "    </tr>\n",
       "  </thead>\n",
       "  <tbody>\n",
       "    <tr>\n",
       "      <th>9</th>\n",
       "      <td>14874964</td>\n",
       "      <td>103411504</td>\n",
       "      <td>604915974</td>\n",
       "      <td>0</td>\n",
       "      <td>0</td>\n",
       "      <td>0.0</td>\n",
       "      <td>0</td>\n",
       "      <td>0</td>\n",
       "      <td>0</td>\n",
       "      <td>2</td>\n",
       "      <td>...</td>\n",
       "      <td>0.0</td>\n",
       "      <td>2</td>\n",
       "      <td>1</td>\n",
       "      <td>0</td>\n",
       "      <td>0</td>\n",
       "      <td>0</td>\n",
       "      <td>1</td>\n",
       "      <td>0</td>\n",
       "      <td>0.144503</td>\n",
       "      <td>1</td>\n",
       "    </tr>\n",
       "  </tbody>\n",
       "</table>\n",
       "<p>1 rows × 34 columns</p>\n",
       "</div>"
      ],
      "text/plain": [
       "   customer_id dealer_customer_id        BAN  SMHM_Churn  ttv_count  \\\n",
       "9     14874964          103411504  604915974           0          0   \n",
       "\n",
       "   Avg_arm_per_day  hsic_count  Best_Practices_3  Best_Practices_5  \\\n",
       "9              0.0           0                 0                 0   \n",
       "\n",
       "   Tenure_months  ...  arming_consistency  product_mix_all  \\\n",
       "9              2  ...                 0.0                2   \n",
       "\n",
       "   contract_end_status__contract_expired  \\\n",
       "9                                      1   \n",
       "\n",
       "   contract_end_status__contract_expiring_after_90_days  \\\n",
       "9                                                  0      \n",
       "\n",
       "   contract_end_status__contract_expiring_within_90_days  Package__Monitored  \\\n",
       "9                                                  0                       0   \n",
       "\n",
       "   Package__Smart_Automation_Plus  Package__Smart_Camera  Churn_score  \\\n",
       "9                               1                      0     0.144503   \n",
       "\n",
       "   Churn_SD  \n",
       "9         1  \n",
       "\n",
       "[1 rows x 34 columns]"
      ]
     },
     "execution_count": 166,
     "metadata": {},
     "output_type": "execute_result"
    }
   ],
   "source": [
    "Full_DF.iloc[[0]]"
   ]
  },
  {
   "cell_type": "code",
   "execution_count": null,
   "id": "88d13d64-4849-4400-a142-610c9be5ffb7",
   "metadata": {},
   "outputs": [],
   "source": [
    "exp = Explanation(sv[:,:,6], sv.base_values[:,6], X_train, feature_names=None)"
   ]
  },
  {
   "cell_type": "code",
   "execution_count": 145,
   "id": "52115b7c-9214-4ae9-be3b-5fd098ec547b",
   "metadata": {},
   "outputs": [
    {
     "data": {
      "text/plain": [
       "array([-4.42003720e-02, -5.20775979e-03,  7.32300282e-02, -1.17910991e-03,\n",
       "       -8.40417389e-03, -3.18821430e-01,  1.62857193e-02, -1.39016831e+00,\n",
       "       -2.04607844e-01, -2.94067096e-02, -2.19816975e-02,  8.26461017e-02,\n",
       "        7.04055943e-04, -8.92780442e-03,  3.89393717e-02, -1.91082302e-02,\n",
       "        1.04699265e-02,  9.14853625e-03, -2.99767315e-01, -8.34878534e-03,\n",
       "        2.93430507e-01, -1.50675774e-01, -5.26572056e-02,  5.14006197e-01,\n",
       "       -3.90582643e-02,  1.53252622e-02,  3.55479687e-01, -4.02908213e-03],\n",
       "      dtype=float32)"
      ]
     },
     "execution_count": 145,
     "metadata": {},
     "output_type": "execute_result"
    }
   ],
   "source": [
    "shap_values[0]"
   ]
  },
  {
   "cell_type": "code",
   "execution_count": null,
   "id": "792f270b-8643-45c5-8535-3fee9ef2a1cb",
   "metadata": {},
   "outputs": [],
   "source": []
  },
  {
   "cell_type": "code",
   "execution_count": 171,
   "id": "eb84ff44-0f24-479c-b84b-ee79da8f90f1",
   "metadata": {},
   "outputs": [
    {
     "ename": "AssertionError",
     "evalue": "You must pass an Explanation object, Cohorts object, or dictionary to bar plot!",
     "output_type": "error",
     "traceback": [
      "\u001b[0;31m---------------------------------------------------------------------------\u001b[0m",
      "\u001b[0;31mAssertionError\u001b[0m                            Traceback (most recent call last)",
      "Input \u001b[0;32mIn [171]\u001b[0m, in \u001b[0;36m<cell line: 1>\u001b[0;34m()\u001b[0m\n\u001b[0;32m----> 1\u001b[0m \u001b[43mshap\u001b[49m\u001b[38;5;241;43m.\u001b[39;49m\u001b[43mplots\u001b[49m\u001b[38;5;241;43m.\u001b[39;49m\u001b[43mbar\u001b[49m\u001b[43m(\u001b[49m\u001b[43mshap_values\u001b[49m\u001b[43m[\u001b[49m\u001b[38;5;241;43m0\u001b[39;49m\u001b[43m]\u001b[49m\u001b[43m)\u001b[49m\n",
      "File \u001b[0;32m/opt/conda/lib/python3.8/site-packages/shap/plots/_bar.py:51\u001b[0m, in \u001b[0;36mbar\u001b[0;34m(shap_values, max_display, order, clustering, clustering_cutoff, merge_cohorts, show_data, show)\u001b[0m\n\u001b[1;32m     49\u001b[0m     cohorts \u001b[38;5;241m=\u001b[39m shap_values\u001b[38;5;241m.\u001b[39mcohorts\n\u001b[1;32m     50\u001b[0m \u001b[38;5;28;01melse\u001b[39;00m:\n\u001b[0;32m---> 51\u001b[0m     \u001b[38;5;28;01massert\u001b[39;00m \u001b[38;5;28misinstance\u001b[39m(shap_values, \u001b[38;5;28mdict\u001b[39m), \u001b[38;5;124m\"\u001b[39m\u001b[38;5;124mYou must pass an Explanation object, Cohorts object, or dictionary to bar plot!\u001b[39m\u001b[38;5;124m\"\u001b[39m\n\u001b[1;32m     53\u001b[0m \u001b[38;5;66;03m# unpack our list of Explanation objects we need to plot\u001b[39;00m\n\u001b[1;32m     54\u001b[0m cohort_labels \u001b[38;5;241m=\u001b[39m \u001b[38;5;28mlist\u001b[39m(cohorts\u001b[38;5;241m.\u001b[39mkeys())\n",
      "\u001b[0;31mAssertionError\u001b[0m: You must pass an Explanation object, Cohorts object, or dictionary to bar plot!"
     ]
    }
   ],
   "source": []
  },
  {
   "cell_type": "code",
   "execution_count": null,
   "id": "cdc90497-90b8-45c8-acf8-efe74dc67898",
   "metadata": {},
   "outputs": [],
   "source": []
  }
 ],
 "metadata": {
  "kernelspec": {
   "display_name": "Python 3 (ipykernel)",
   "language": "python",
   "name": "python3"
  },
  "language_info": {
   "codemirror_mode": {
    "name": "ipython",
    "version": 3
   },
   "file_extension": ".py",
   "mimetype": "text/x-python",
   "name": "python",
   "nbconvert_exporter": "python",
   "pygments_lexer": "ipython3",
   "version": "3.8.12"
  }
 },
 "nbformat": 4,
 "nbformat_minor": 5
}
