{
 "cells": [
  {
   "cell_type": "code",
   "execution_count": 114,
   "id": "567cd66d-4227-4286-83ac-d789d6b5d701",
   "metadata": {},
   "outputs": [],
   "source": [
    "#### import global modules\n",
    "import os\n",
    "import sys\n",
    "import pandas as pd\n",
    "import numpy as np\n",
    "from pathlib import Path\n",
    "from yaml import safe_load\n",
    "import google.oauth2.credentials\n",
    "from google.cloud import bigquery\n",
    "import gc\n",
    "\n",
    "# Set global vars\n",
    "pth_project = Path(os.getcwd().split('notebooks')[0])\n",
    "pth_data = pth_project / 'data'\n",
    "pth_queries = pth_project / 'core' / 'queries'\n",
    "pth_creds = pth_project / 'conf' / 'local' / 'project_config.yaml'\n",
    "sys.path.insert(0, str(pth_project))\n",
    "d_project_config = safe_load(pth_creds.open())\n",
    "# d_params = safe_load((pth_project / 'core' / 'parameters' / 'common.yaml').open())['data_extract']\n",
    "\n",
    "# import local modules\n",
    "from core.utils.gcp import connect_bq_services\n",
    "# from core.etl.extract import extract_bq_data, extract_pr_codes, format_conv_df, filter_convs\n",
    "\n",
    "# Connect to google services\n",
    "bq_client = connect_bq_services(d_project_config['gcp-project-name'])\n",
    "pd.options.display.max_rows = 100\n",
    "from sklearn.model_selection import train_test_split\n"
   ]
  },
  {
   "cell_type": "code",
   "execution_count": 115,
   "id": "f37c1d2e-1910-49a3-838b-ece8ded5fa63",
   "metadata": {},
   "outputs": [],
   "source": [
    "def extract_bq_data(bq_client, sql=None, pth_query=None):\n",
    "    if sql is not None:\n",
    "        df = bq_client.query(sql).to_dataframe()\n",
    "    elif pth_query is not None:\n",
    "        sql = pth_query.read_text()\n",
    "        df = bq_client.query(sql).to_dataframe()\n",
    "    else:\n",
    "        raise ValueError('`sql` or `pth_query` should be set')  \n",
    "    return df"
   ]
  },
  {
   "cell_type": "code",
   "execution_count": 116,
   "id": "2ce1fd45-4d43-41c2-906c-61fa29d34254",
   "metadata": {},
   "outputs": [],
   "source": [
    "Query= '''\n",
    "\n",
    "select * from `divgpras-pr-579355.SHS.SHS_churn_model_train_data_dec22_feb23`\n",
    "\n",
    "'''"
   ]
  },
  {
   "cell_type": "code",
   "execution_count": 117,
   "id": "f3209cf4-a8de-4429-9285-f66e0fa05ece",
   "metadata": {},
   "outputs": [],
   "source": [
    "DF=extract_bq_data(bq_client, sql=Query)"
   ]
  },
  {
   "cell_type": "code",
   "execution_count": 118,
   "id": "7eae43b3-db82-48e0-9747-c4daddb426f6",
   "metadata": {},
   "outputs": [
    {
     "name": "stdout",
     "output_type": "stream",
     "text": [
      "<class 'pandas.core.frame.DataFrame'>\n",
      "RangeIndex: 514164 entries, 0 to 514163\n",
      "Data columns (total 53 columns):\n",
      " #   Column                        Non-Null Count   Dtype  \n",
      "---  ------                        --------------   -----  \n",
      " 0   Telus_ID                      514164 non-null  object \n",
      " 1   BAN                           514164 non-null  object \n",
      " 2   contract_start_date           372954 non-null  object \n",
      " 3   contract_end_date             514164 non-null  object \n",
      " 4   Intial_activation_date        514164 non-null  object \n",
      " 5   contract_end_status           514164 non-null  object \n",
      " 6   Contract_start_months         372954 non-null  Int64  \n",
      " 7   dealer_customer_id            404535 non-null  object \n",
      " 8   customer_id                   404535 non-null  Int64  \n",
      " 9   primary_login_id              404535 non-null  Int64  \n",
      " 10  dealer_name                   514164 non-null  object \n",
      " 11  join_date                     404535 non-null  object \n",
      " 12  account_type_name             404535 non-null  object \n",
      " 13  customer_type_name            404535 non-null  object \n",
      " 14  Package                       514164 non-null  object \n",
      " 15  Tenure_months                 404535 non-null  Int64  \n",
      " 16  Interactivity_flag            514164 non-null  Int64  \n",
      " 17  ADT_migrated_customer         514164 non-null  Int64  \n",
      " 18  customer_id_1                 392248 non-null  Int64  \n",
      " 19  Best_Practices_1              392248 non-null  Int64  \n",
      " 20  Best_Practices_2              392248 non-null  Int64  \n",
      " 21  Best_Practices_3              392248 non-null  Int64  \n",
      " 22  Best_Practices_4              392248 non-null  Int64  \n",
      " 23  Best_Practices_5              392248 non-null  Int64  \n",
      " 24  Best_Practices_6              392248 non-null  Int64  \n",
      " 25  Best_Practice_All             392248 non-null  Int64  \n",
      " 26  customer_id_2                 186318 non-null  Int64  \n",
      " 27  sum_arm_commands              186318 non-null  Int64  \n",
      " 28  sum_disarm_commands           186318 non-null  Int64  \n",
      " 29  number_days_arming_disarming  186318 non-null  Int64  \n",
      " 30  count_of_dates_arming         186318 non-null  Int64  \n",
      " 31  arming_consistency            186318 non-null  float64\n",
      " 32  Avg_arm_per_day               186318 non-null  float64\n",
      " 33  Avg_disarm_per_day            186318 non-null  float64\n",
      " 34  customer_id_3                 326493 non-null  Int64  \n",
      " 35  sum_login_count               326493 non-null  Int64  \n",
      " 36  number_of_login_days          326493 non-null  Int64  \n",
      " 37  count_of_dates_login          326493 non-null  Int64  \n",
      " 38  login_consistency             326493 non-null  float64\n",
      " 39  Avg_login_per_day             326493 non-null  float64\n",
      " 40  ban_1                         514164 non-null  object \n",
      " 41  product_mix_all               514164 non-null  Int64  \n",
      " 42  hsic_count                    514164 non-null  Int64  \n",
      " 43  sing_count                    514164 non-null  Int64  \n",
      " 44  shs_count                     514164 non-null  Int64  \n",
      " 45  ttv_count                     514164 non-null  Int64  \n",
      " 46  stv_count                     514164 non-null  Int64  \n",
      " 47  diic_count                    514164 non-null  Int64  \n",
      " 48  ban_2                         488599 non-null  object \n",
      " 49  Avg_SMHM_ARPU                 488361 non-null  object \n",
      " 50  Avg_FFH_ARPU                  488599 non-null  object \n",
      " 51  Telus_Cust_ID                 2759 non-null    object \n",
      " 52  SMHM_Churn                    514164 non-null  Int64  \n",
      "dtypes: Int64(31), float64(5), object(17)\n",
      "memory usage: 223.1+ MB\n"
     ]
    }
   ],
   "source": [
    "DF.info()"
   ]
  },
  {
   "cell_type": "code",
   "execution_count": 119,
   "id": "844d3acc-e556-46ff-be23-3ccf15f30cb5",
   "metadata": {},
   "outputs": [],
   "source": [
    "# DF.to_csv('SHS_churn_model_train_data_sep_nov_2022.csv',index=False)"
   ]
  },
  {
   "cell_type": "code",
   "execution_count": 128,
   "id": "83f1aedd-736b-4aee-b2f1-21c00de4cdf4",
   "metadata": {},
   "outputs": [],
   "source": [
    "# DF['login_consistency']=DF['login_consistency'].astype('int')"
   ]
  },
  {
   "cell_type": "code",
   "execution_count": null,
   "id": "7a974f75-611c-4028-96c2-1ef53d576de0",
   "metadata": {},
   "outputs": [],
   "source": []
  },
  {
   "cell_type": "code",
   "execution_count": null,
   "id": "63e9892d-191f-49ce-83d6-a711b749ed2c",
   "metadata": {},
   "outputs": [],
   "source": []
  },
  {
   "cell_type": "code",
   "execution_count": 130,
   "id": "91dca8a1-ab19-46c3-8d19-323d5c35a736",
   "metadata": {},
   "outputs": [],
   "source": [
    "# DF['Best_Practices_1']=DF['Best_Practices_1'].fillna(0,inplace=True)\n",
    "# DF['Best_Practices_2']=DF['Best_Practices_2'].fillna(0,inplace=True)\n",
    "# DF['Best_Practices_3']=DF['Best_Practices_3'].fillna(0,inplace=True)\n",
    "# DF['Best_Practices_4']=DF['Best_Practices_4'].fillna(0,inplace=True)\n",
    "# DF['Best_Practices_5']=DF['Best_Practices_5'].fillna(0,inplace=True)\n",
    "# DF['Best_Practices_6']=DF['Best_Practices_6'].fillna(0,inplace=True)\n",
    "# DF['Best_Practice_All']=DF['Best_Practice_All'].fillna(0,inplace=True)"
   ]
  },
  {
   "cell_type": "code",
   "execution_count": 131,
   "id": "b5936c4d-f942-4dbc-bada-5f5230ed3d61",
   "metadata": {},
   "outputs": [
    {
     "data": {
      "text/plain": [
       "1    346925\n",
       "0     45323\n",
       "Name: Best_Practices_1, dtype: Int64"
      ]
     },
     "execution_count": 131,
     "metadata": {},
     "output_type": "execute_result"
    }
   ],
   "source": [
    "DF['Best_Practices_1'].value_counts()"
   ]
  },
  {
   "cell_type": "code",
   "execution_count": 132,
   "id": "2ac71305-6478-4790-b60d-e1dd6f0b1c13",
   "metadata": {},
   "outputs": [],
   "source": [
    "ID_cols=['customer_id','dealer_customer_id','BAN']\n",
    "ignore_cols=['primary_login_id','dealer_name','join_date','account_type_name','customer_type_name','cust_bus_cust_id'\n",
    "             ,'contract_start_date','contract_end_date','customer_id_1','customer_id_2','customer_id_3','ban_1','ban_2'\n",
    "             ,'BAN_3','sum_arm_commands','sum_disarm_commands','number_days_arming_disarming','count_of_dates_arming'\n",
    "             ,'sum_login_count','number_of_login_days','count_of_dates_login','shs_count','Telus_Cust_ID','Best_Practice_All','Intial_activation_date','Telus_ID']\n",
    "\n",
    "Target_col=['SMHM_Churn']"
   ]
  },
  {
   "cell_type": "code",
   "execution_count": 133,
   "id": "f3dfba06-63c5-4bc8-9b95-9228e3d763ab",
   "metadata": {},
   "outputs": [],
   "source": [
    "DF['Avg_SMHM_ARPU']=pd.to_numeric(DF['Avg_SMHM_ARPU'])\n",
    "DF['Avg_FFH_ARPU']=pd.to_numeric(DF['Avg_FFH_ARPU'])\n",
    "# DF['Avg_SMHM_ARPU']=pd.to_numeric(DF['Avg_SMHM_ARPU'])\n"
   ]
  },
  {
   "cell_type": "code",
   "execution_count": 134,
   "id": "b9e6ff2e-01fc-45c9-be60-0cc807bc0dca",
   "metadata": {},
   "outputs": [],
   "source": [
    "# DF['Best_Practices_1']=DF['Best_Practices_1'].astype('category')\n",
    "# DF['Best_Practices_2']=DF['Best_Practices_2'].astype('category')\n",
    "# DF['Best_Practices_3']=DF['Best_Practices_3'].astype('category')\n",
    "# DF['Best_Practices_4']=DF['Best_Practices_4'].astype('category')\n",
    "# DF['Best_Practices_5']=DF['Best_Practices_5'].astype('category')\n",
    "# DF['Best_Practices_6']=DF['Best_Practices_6'].astype('category')\n",
    "# DF['Best_Practice_All']=DF['Best_Practice_All'].astype('category')\n",
    "# DF['SMHM_Churn']=DF['SMHM_Churn'].astype('category')\n",
    "\n"
   ]
  },
  {
   "cell_type": "code",
   "execution_count": 135,
   "id": "9324ef32-eaa7-4960-8076-c44b74cde969",
   "metadata": {},
   "outputs": [],
   "source": [
    "\n",
    "num_cols=DF.select_dtypes(include=np.number).columns.tolist()\n",
    "cat_cols=DF.select_dtypes(exclude=np.number).columns.tolist()\n",
    "\n",
    "num_cols_features=list(set(num_cols)-set(ID_cols)-set(Target_col)-set(ignore_cols))\n",
    "cat_cols_features=list(set(cat_cols)-set(ID_cols)-set(Target_col)-set(ignore_cols))\n",
    "feature_cols=cat_cols_features+num_cols_features"
   ]
  },
  {
   "cell_type": "code",
   "execution_count": 136,
   "id": "42f664c3-8f9a-474d-b1e7-46473467edc2",
   "metadata": {},
   "outputs": [
    {
     "data": {
      "text/plain": [
       "25"
      ]
     },
     "execution_count": 136,
     "metadata": {},
     "output_type": "execute_result"
    }
   ],
   "source": [
    "len(feature_cols)"
   ]
  },
  {
   "cell_type": "code",
   "execution_count": 137,
   "id": "a44ad98d-ee26-4f80-ba33-0244ec2d5d58",
   "metadata": {},
   "outputs": [
    {
     "data": {
      "text/plain": [
       "['stv_count',\n",
       " 'Avg_FFH_ARPU',\n",
       " 'Contract_start_months',\n",
       " 'Best_Practices_2',\n",
       " 'sing_count',\n",
       " 'Avg_disarm_per_day',\n",
       " 'Interactivity_flag',\n",
       " 'login_consistency',\n",
       " 'Avg_arm_per_day',\n",
       " 'Best_Practices_4',\n",
       " 'arming_consistency',\n",
       " 'product_mix_all',\n",
       " 'Best_Practices_5',\n",
       " 'Best_Practices_1',\n",
       " 'Avg_login_per_day',\n",
       " 'ADT_migrated_customer',\n",
       " 'diic_count',\n",
       " 'Tenure_months',\n",
       " 'ttv_count',\n",
       " 'Best_Practices_3',\n",
       " 'hsic_count',\n",
       " 'Best_Practices_6',\n",
       " 'Avg_SMHM_ARPU']"
      ]
     },
     "execution_count": 137,
     "metadata": {},
     "output_type": "execute_result"
    }
   ],
   "source": [
    "num_cols_features"
   ]
  },
  {
   "cell_type": "code",
   "execution_count": 138,
   "id": "d8e5f7e9-41b1-465d-bb86-b3d28cefb451",
   "metadata": {},
   "outputs": [
    {
     "data": {
      "text/plain": [
       "['contract_end_status', 'Package']"
      ]
     },
     "execution_count": 138,
     "metadata": {},
     "output_type": "execute_result"
    }
   ],
   "source": [
    "cat_cols_features"
   ]
  },
  {
   "cell_type": "code",
   "execution_count": 139,
   "id": "655dfad8-0777-456b-b7ea-9d700204dfc5",
   "metadata": {},
   "outputs": [
    {
     "data": {
      "text/plain": [
       "contract_end_status       0.000000\n",
       "Package                   0.000000\n",
       "stv_count                 0.000000\n",
       "Avg_FFH_ARPU              4.972149\n",
       "Contract_start_months    27.464000\n",
       "Best_Practices_2         23.711501\n",
       "sing_count                0.000000\n",
       "Avg_disarm_per_day       63.762924\n",
       "Interactivity_flag        0.000000\n",
       "login_consistency        36.500222\n",
       "Avg_arm_per_day          63.762924\n",
       "Best_Practices_4         23.711501\n",
       "arming_consistency       63.762924\n",
       "product_mix_all           0.000000\n",
       "Best_Practices_5         23.711501\n",
       "Best_Practices_1         23.711501\n",
       "Avg_login_per_day        36.500222\n",
       "ADT_migrated_customer     0.000000\n",
       "diic_count                0.000000\n",
       "Tenure_months            21.321796\n",
       "ttv_count                 0.000000\n",
       "Best_Practices_3         23.711501\n",
       "hsic_count                0.000000\n",
       "Best_Practices_6         23.711501\n",
       "Avg_SMHM_ARPU             5.018438\n",
       "dtype: float64"
      ]
     },
     "execution_count": 139,
     "metadata": {},
     "output_type": "execute_result"
    }
   ],
   "source": [
    "DF[feature_cols].isnull().sum() * 100 / len(DF[feature_cols])"
   ]
  },
  {
   "cell_type": "code",
   "execution_count": 140,
   "id": "277a7618-8edf-4985-89ab-3b0e9ed0df0c",
   "metadata": {},
   "outputs": [
    {
     "data": {
      "text/html": [
       "<div>\n",
       "<style scoped>\n",
       "    .dataframe tbody tr th:only-of-type {\n",
       "        vertical-align: middle;\n",
       "    }\n",
       "\n",
       "    .dataframe tbody tr th {\n",
       "        vertical-align: top;\n",
       "    }\n",
       "\n",
       "    .dataframe thead th {\n",
       "        text-align: right;\n",
       "    }\n",
       "</style>\n",
       "<table border=\"1\" class=\"dataframe\">\n",
       "  <thead>\n",
       "    <tr style=\"text-align: right;\">\n",
       "      <th></th>\n",
       "      <th>Package</th>\n",
       "      <th>Customer_count</th>\n",
       "      <th>SMHM_ARPU</th>\n",
       "    </tr>\n",
       "  </thead>\n",
       "  <tbody>\n",
       "    <tr>\n",
       "      <th>0</th>\n",
       "      <td>Monitored</td>\n",
       "      <td>256774</td>\n",
       "      <td>53.858516</td>\n",
       "    </tr>\n",
       "    <tr>\n",
       "      <th>1</th>\n",
       "      <td>Smart_Automation_Plus</td>\n",
       "      <td>102896</td>\n",
       "      <td>34.258555</td>\n",
       "    </tr>\n",
       "    <tr>\n",
       "      <th>2</th>\n",
       "      <td>Smart_Camera</td>\n",
       "      <td>44865</td>\n",
       "      <td>17.841552</td>\n",
       "    </tr>\n",
       "    <tr>\n",
       "      <th>3</th>\n",
       "      <td>Unknown_Package</td>\n",
       "      <td>109629</td>\n",
       "      <td>27.937491</td>\n",
       "    </tr>\n",
       "  </tbody>\n",
       "</table>\n",
       "</div>"
      ],
      "text/plain": [
       "                 Package  Customer_count  SMHM_ARPU\n",
       "0              Monitored          256774  53.858516\n",
       "1  Smart_Automation_Plus          102896  34.258555\n",
       "2           Smart_Camera           44865  17.841552\n",
       "3        Unknown_Package          109629  27.937491"
      ]
     },
     "execution_count": 140,
     "metadata": {},
     "output_type": "execute_result"
    }
   ],
   "source": [
    "pd.DataFrame(DF.groupby(['Package']).agg(\n",
    "    \n",
    "    Customer_count= ('Telus_ID','nunique'),\n",
    "    SMHM_ARPU=('Avg_SMHM_ARPU','mean')\n",
    "    # Email_Opened_count=('OPENED','sum'),\n",
    "    # CT_Opened_count=('CLICKTHROUGH','sum'),\n",
    "    # softbounce_count=('SOFTBOUNCE','sum'),\n",
    "    # Hardbounce_count=('HARDBOUNCE','sum'),\n",
    "    # # Unsub_count=('UNSUBSCRIBE','sum'),\n",
    "    # campaign_date_min=('Campaign_date','min'),\n",
    "    # campaign_date_max=('Campaign_date','max')\n",
    "\n",
    "    \n",
    "    # # Customer_Share= ('customer_id',lambda x:x.count()*100/Merge_DF_4.shape[0])\n",
    "    # Churn_total=('Telus_Churn_Flag',lambda x: x.sum()),\n",
    "    # Churn_rate=('Telus_Churn_Flag',lambda x: x.mean()*100)\n",
    ").reset_index())"
   ]
  },
  {
   "cell_type": "code",
   "execution_count": 141,
   "id": "a18f2bd7-d0e6-4d9a-9485-c5a8e7e805e2",
   "metadata": {},
   "outputs": [
    {
     "data": {
      "text/plain": [
       "187671"
      ]
     },
     "execution_count": 141,
     "metadata": {},
     "output_type": "execute_result"
    }
   ],
   "source": [
    "DF['login_consistency'].isnull().sum()"
   ]
  },
  {
   "cell_type": "code",
   "execution_count": 142,
   "id": "f325028a-1b17-4b35-8095-d3952ff7d56a",
   "metadata": {},
   "outputs": [],
   "source": [
    "def login_consistency_cat(row):\n",
    "    if row['login_consistency']>30:\n",
    "        return 'Heavy_User'\n",
    "    elif row['login_consistency']>0 and row['login_consistency']<=30:\n",
    "        return 'Low_User'\n",
    "    elif row['Interactivity_flag']==1:\n",
    "        return 'No_User'\n",
    "    elif row['Interactivity_flag']==0:\n",
    "        return 'No_ADC_account'\n",
    "    else:\n",
    "        return 'None_of_the_above'\n",
    "           "
   ]
  },
  {
   "cell_type": "code",
   "execution_count": 143,
   "id": "e1e5d20c-ceb8-4849-befb-f9faa7990003",
   "metadata": {},
   "outputs": [],
   "source": [
    "def arming_consistency_cat(row):\n",
    "    if row['arming_consistency']>30:\n",
    "        return 'Heavy_User'\n",
    "    elif row['arming_consistency']>0 and row['arming_consistency']<=30:\n",
    "        return 'Low_User'\n",
    "    elif row['Interactivity_flag']==1:\n",
    "        return 'No_User'\n",
    "    elif row['Interactivity_flag']==0:\n",
    "        return 'No_ADC_account'\n",
    "    else:\n",
    "        return 'None_of_the_above'"
   ]
  },
  {
   "cell_type": "code",
   "execution_count": 144,
   "id": "41436182-5ee1-49b6-a4e5-1788cc764a0c",
   "metadata": {},
   "outputs": [],
   "source": [
    "DF['login_consistency_cat']=DF.apply(login_consistency_cat,axis=1)"
   ]
  },
  {
   "cell_type": "code",
   "execution_count": 145,
   "id": "7871a651-00a6-4acc-a969-10a8845ab232",
   "metadata": {},
   "outputs": [],
   "source": [
    "DF['arming_consistency_cat']=DF.apply(arming_consistency_cat,axis=1)"
   ]
  },
  {
   "cell_type": "code",
   "execution_count": 146,
   "id": "53ae8617-fd81-401f-9cb6-47aa00572939",
   "metadata": {},
   "outputs": [
    {
     "data": {
      "text/plain": [
       "Heavy_User        211945\n",
       "Low_User          114548\n",
       "No_ADC_account    109629\n",
       "No_User            78042\n",
       "Name: login_consistency_cat, dtype: int64"
      ]
     },
     "execution_count": 146,
     "metadata": {},
     "output_type": "execute_result"
    }
   ],
   "source": [
    "DF['login_consistency_cat'].value_counts()"
   ]
  },
  {
   "cell_type": "code",
   "execution_count": 147,
   "id": "e7989fd3-adbb-4ead-a569-652b41a8dbbc",
   "metadata": {},
   "outputs": [],
   "source": [
    "feature_cols_1=list(set(feature_cols)-set(['arming_consistency','login_consistency']))+['login_consistency_cat','arming_consistency_cat']\n"
   ]
  },
  {
   "cell_type": "code",
   "execution_count": 150,
   "id": "9c3b84d8-b8bf-4364-9651-5ace2c3d27e3",
   "metadata": {},
   "outputs": [
    {
     "data": {
      "text/plain": [
       "['stv_count',\n",
       " 'Best_Practices_1',\n",
       " 'Avg_login_per_day',\n",
       " 'product_mix_all',\n",
       " 'Package',\n",
       " 'Avg_FFH_ARPU',\n",
       " 'ADT_migrated_customer',\n",
       " 'diic_count',\n",
       " 'Contract_start_months',\n",
       " 'Best_Practices_2',\n",
       " 'sing_count',\n",
       " 'Tenure_months',\n",
       " 'Avg_disarm_per_day',\n",
       " 'Interactivity_flag',\n",
       " 'ttv_count',\n",
       " 'Best_Practices_6',\n",
       " 'Avg_arm_per_day',\n",
       " 'contract_end_status',\n",
       " 'Best_Practices_4',\n",
       " 'Best_Practices_3',\n",
       " 'hsic_count',\n",
       " 'Best_Practices_5',\n",
       " 'Avg_SMHM_ARPU',\n",
       " 'login_consistency_cat',\n",
       " 'arming_consistency_cat']"
      ]
     },
     "execution_count": 150,
     "metadata": {},
     "output_type": "execute_result"
    }
   ],
   "source": [
    "feature_cols_1"
   ]
  },
  {
   "cell_type": "code",
   "execution_count": 151,
   "id": "842de57c-5eae-4fa3-9d96-563c58b643b3",
   "metadata": {},
   "outputs": [],
   "source": [
    "# DF.info()"
   ]
  },
  {
   "cell_type": "code",
   "execution_count": 152,
   "id": "f1f380bb-5acf-450f-b313-6a29ff6ef722",
   "metadata": {},
   "outputs": [
    {
     "data": {
      "text/plain": [
       "stv_count                  0.000000\n",
       "Best_Practices_1          23.711501\n",
       "Avg_login_per_day         36.500222\n",
       "product_mix_all            0.000000\n",
       "Package                    0.000000\n",
       "Avg_FFH_ARPU               4.972149\n",
       "ADT_migrated_customer      0.000000\n",
       "diic_count                 0.000000\n",
       "Contract_start_months     27.464000\n",
       "Best_Practices_2          23.711501\n",
       "sing_count                 0.000000\n",
       "Tenure_months             21.321796\n",
       "Avg_disarm_per_day        63.762924\n",
       "Interactivity_flag         0.000000\n",
       "ttv_count                  0.000000\n",
       "Best_Practices_6          23.711501\n",
       "Avg_arm_per_day           63.762924\n",
       "contract_end_status        0.000000\n",
       "Best_Practices_4          23.711501\n",
       "Best_Practices_3          23.711501\n",
       "hsic_count                 0.000000\n",
       "Best_Practices_5          23.711501\n",
       "Avg_SMHM_ARPU              5.018438\n",
       "login_consistency_cat      0.000000\n",
       "arming_consistency_cat     0.000000\n",
       "dtype: float64"
      ]
     },
     "execution_count": 152,
     "metadata": {},
     "output_type": "execute_result"
    }
   ],
   "source": [
    "DF[feature_cols_1].isnull().sum() * 100 / len(DF[feature_cols_1])"
   ]
  },
  {
   "cell_type": "code",
   "execution_count": 153,
   "id": "5a6beb17-ab70-4ddc-beef-543033cd645e",
   "metadata": {},
   "outputs": [],
   "source": [
    "# DF[DF['login_consistency_cat']=='No_User'][['Telus_ID','customer_id','login_consistency','Interactivity_flag','login_consistency_cat']]"
   ]
  },
  {
   "cell_type": "code",
   "execution_count": 154,
   "id": "393a1c68-ed92-4b27-aec6-a973f8668cec",
   "metadata": {},
   "outputs": [
    {
     "name": "stderr",
     "output_type": "stream",
     "text": [
      "\n",
      "A value is trying to be set on a copy of a slice from a DataFrame.\n",
      "Try using .loc[row_indexer,col_indexer] = value instead\n",
      "\n",
      "See the caveats in the documentation: https://pandas.pydata.org/pandas-docs/stable/user_guide/indexing.html#returning-a-view-versus-a-copy\n",
      "\n",
      "A value is trying to be set on a copy of a slice from a DataFrame.\n",
      "Try using .loc[row_indexer,col_indexer] = value instead\n",
      "\n",
      "See the caveats in the documentation: https://pandas.pydata.org/pandas-docs/stable/user_guide/indexing.html#returning-a-view-versus-a-copy\n"
     ]
    }
   ],
   "source": [
    "def impute_missing_values(dataset=DF):\n",
    "    \n",
    "    for cols in dataset.columns:\n",
    "        if dataset[cols].dtype == np.dtype('O'):\n",
    "            # df.loc[np.isnan(df[\"Age\"]), 'Age'] = rand1\n",
    "            #dataset.loc[dataset[cols].isnull(), cols]=\"Missing_category\"\n",
    "            dataset[cols]=dataset[cols].fillna(\"Missing_category\",inplace=False)\n",
    "        else:\n",
    "            dataset[cols]=dataset[cols].fillna(0,inplace=False)\n",
    "            #dataset.loc[dataset[cols].isnull(), cols]=0\n",
    "    return dataset\n",
    "\n",
    " \n",
    "DF[feature_cols_1]=impute_missing_values(dataset=DF[feature_cols_1])"
   ]
  },
  {
   "cell_type": "code",
   "execution_count": 155,
   "id": "2340d927-2a13-4240-b9dc-0ab64e20e5ae",
   "metadata": {},
   "outputs": [
    {
     "data": {
      "text/plain": [
       "0    511405\n",
       "1      2759\n",
       "Name: SMHM_Churn, dtype: Int64"
      ]
     },
     "execution_count": 155,
     "metadata": {},
     "output_type": "execute_result"
    }
   ],
   "source": [
    "DF['SMHM_Churn'].value_counts()"
   ]
  },
  {
   "cell_type": "code",
   "execution_count": null,
   "id": "8020d474-fc5c-4291-9d67-7f51e2aee94b",
   "metadata": {},
   "outputs": [],
   "source": []
  },
  {
   "cell_type": "code",
   "execution_count": 156,
   "id": "e4c4a7d1-4441-4425-94e3-859d211f1861",
   "metadata": {},
   "outputs": [
    {
     "name": "stdout",
     "output_type": "stream",
     "text": [
      "\n",
      "Data splitting Completed.\n"
     ]
    }
   ],
   "source": [
    "def data_splitting(dataset=DF,feature_cols=[],Target=[],testsize=0.3):\n",
    "    \n",
    "    \n",
    "    X=dataset[feature_cols]\n",
    "    Y=dataset[Target]\n",
    "    X1=pd.get_dummies(X,prefix_sep='__')\n",
    "    X_train, X_validation, Y_train, Y_validation = train_test_split(X1, Y, test_size=testsize, random_state=11,stratify=Y)\n",
    "    final_feature_columns=X_train.columns.tolist()\n",
    "    print()\n",
    "    print(\"Data splitting Completed.\")\n",
    "    return X_train,X_validation,Y_train,Y_validation,final_feature_columns\n",
    "# %%\n",
    "X_train,X_validation,Y_train,Y_validation,final_feature_columns=data_splitting(\n",
    "dataset=DF,feature_cols=feature_cols_1,Target=Target_col,testsize=0.3)"
   ]
  },
  {
   "cell_type": "code",
   "execution_count": 157,
   "id": "75632698-59aa-49d0-b247-ecb175bccbd7",
   "metadata": {},
   "outputs": [
    {
     "data": {
      "text/plain": [
       "(359914, 36)"
      ]
     },
     "execution_count": 157,
     "metadata": {},
     "output_type": "execute_result"
    }
   ],
   "source": [
    "X_train.shape"
   ]
  },
  {
   "cell_type": "code",
   "execution_count": 158,
   "id": "31975f61-0eef-4a85-a434-947db9b0b4a7",
   "metadata": {},
   "outputs": [
    {
     "data": {
      "text/plain": [
       "['stv_count',\n",
       " 'Best_Practices_1',\n",
       " 'Avg_login_per_day',\n",
       " 'product_mix_all',\n",
       " 'Avg_FFH_ARPU',\n",
       " 'ADT_migrated_customer',\n",
       " 'diic_count',\n",
       " 'Contract_start_months',\n",
       " 'Best_Practices_2',\n",
       " 'sing_count',\n",
       " 'Tenure_months',\n",
       " 'Avg_disarm_per_day',\n",
       " 'Interactivity_flag',\n",
       " 'ttv_count',\n",
       " 'Best_Practices_6',\n",
       " 'Avg_arm_per_day',\n",
       " 'Best_Practices_4',\n",
       " 'Best_Practices_3',\n",
       " 'hsic_count',\n",
       " 'Best_Practices_5',\n",
       " 'Avg_SMHM_ARPU',\n",
       " 'Package__Monitored',\n",
       " 'Package__Smart_Automation_Plus',\n",
       " 'Package__Smart_Camera',\n",
       " 'Package__Unknown_Package',\n",
       " 'contract_end_status__contract_expired',\n",
       " 'contract_end_status__contract_expiring_after_90_days',\n",
       " 'contract_end_status__contract_expiring_within_90_days',\n",
       " 'login_consistency_cat__Heavy_User',\n",
       " 'login_consistency_cat__Low_User',\n",
       " 'login_consistency_cat__No_ADC_account',\n",
       " 'login_consistency_cat__No_User',\n",
       " 'arming_consistency_cat__Heavy_User',\n",
       " 'arming_consistency_cat__Low_User',\n",
       " 'arming_consistency_cat__No_ADC_account',\n",
       " 'arming_consistency_cat__No_User']"
      ]
     },
     "execution_count": 158,
     "metadata": {},
     "output_type": "execute_result"
    }
   ],
   "source": [
    "final_feature_columns"
   ]
  },
  {
   "cell_type": "code",
   "execution_count": 190,
   "id": "6186f04e-c98c-4cfe-84f6-512b882e50c6",
   "metadata": {},
   "outputs": [],
   "source": [
    "import json\n",
    "\n",
    "with open('Final_feature_columns.json', 'w') as Ffp:\n",
    "    json.dump(final_feature_columns, Ffp)\n",
    "\n",
    "\n",
    "with open('Intial_feature_columns.json', 'w') as Ifp:\n",
    "    json.dump(feature_cols_1, Ifp)"
   ]
  },
  {
   "cell_type": "code",
   "execution_count": 160,
   "id": "1596bec3-eb7f-41db-9c5d-5459859ae8ca",
   "metadata": {},
   "outputs": [],
   "source": [
    "import pandas as pd\n",
    "import numpy as np\n",
    "from sklearn.metrics import make_scorer\n",
    "\n",
    "def Capture_Rate_1stSD(ground_truth, prediction):\n",
    "    \"\"\" this functions takes in the model\n",
    "    test features, targets, will return the\n",
    "    lift dataframe\n",
    "    \"\"\"\n",
    "    #print(\"data shape:\", ground_truth.shape)\n",
    "\n",
    "    prediction_df = pd.DataFrame(prediction, columns=[\"prob_of_predict_1\"])\n",
    "    # print(prediction_df.head())\n",
    "    y_df = pd.DataFrame(ground_truth, columns=['target'])\n",
    "    prediction_with_label_df = y_df.join(prediction_df.set_index(y_df.index))\n",
    "    # Calculate lift on validation data\n",
    "    v1 = prediction_with_label_df[['target', 'prob_of_predict_1']]\n",
    "    v1.sort_values(by=['prob_of_predict_1'], inplace=True)\n",
    "    v1['Qcut'] = pd.qcut(v1['prob_of_predict_1'].rank(\n",
    "    method='first'), q=20, labels=False)\n",
    "    v1['SD'] = 20-(v1['Qcut'].astype(int))\n",
    "    vl1 = v1.drop(['Qcut'], axis=1)\n",
    "    vl1['Freq'] = vl1.groupby('SD')['target'].transform(np.sum)\n",
    "    vl2 = vl1.drop(['target', 'prob_of_predict_1'], axis=1).drop_duplicates()\n",
    "    vl2.sort_values(by=['SD'], inplace=True)\n",
    "    vl2['Cumm Sum'] = vl2['Freq'].cumsum()\n",
    "    vl2['Lift'] = vl2['Freq'].div(vl2['Freq'].sum(), axis=0).div(0.05)\n",
    "    vl2['Cumm Lift'] = vl2['Cumm Sum'].div(\n",
    "    vl2['Freq'].sum(), axis=0).div(vl2['SD']/20)\n",
    "    vl2['Capture Rate'] = vl2['Lift']*5\n",
    "    #vl2['Capture Rate_defintion'] = vl2['Freq']/vl2.iloc[19, 'Cumm Sum']\n",
    "    vl2['Cummu Capture Rate'] = vl2['Capture Rate'].cumsum()\n",
    "\n",
    "    # this is lift csv\n",
    "    # vl2.to_csv(\"/lift_chart_{0}.csv\".format(today))\n",
    "    # vl2.to_csv(\n",
    "    # f'lift_of_{model}_on_{datetime.today().strftime(\"%Y-%m-%d\")}.csv')\n",
    "    # print(f'lift_of_{model}_on_{datetime.today().strftime(\"%Y-%m-%d\")}.csv')\n",
    "    #print(\"Training process completed success\")\n",
    "    Magic_score= round(vl2.iloc[0, 6],2)\n",
    "    print(\"Cumm Capture Rate on 1st SD is: \", Magic_score)\n",
    "    #vl2[vl2['SD'] == 1, 'Lift'].iloc[0]\n",
    "    return Magic_score\n",
    "\n",
    "\n",
    "\n",
    "def lift_calc_pd(model, X_test, y_test,target_column): # , model_path\n",
    "    \"\"\" this functions takes in the model\n",
    "    test features, targets, will return the\n",
    "    lift dataframe\n",
    "    \"\"\"\n",
    "    prediction = model.predict_proba(X_test)\n",
    "    print(\"output shape\", prediction.shape)\n",
    "    print(\"y_test shape:\", y_test.shape)\n",
    "    #Total_Actual_positive_targets=sum(y_test[target_column])\n",
    "    #print('Total_Actual_positive_targets:',Total_Actual_positive_targets)\n",
    "\n",
    "\n",
    "    prediction_df = pd.DataFrame(\n",
    "    prediction, columns=['prob_of_predict_0', 'prob_of_predict_1'])\n",
    "    y_df = pd.DataFrame(y_test, columns=[target_column])\n",
    "    prediction_with_label_df = y_df.join(prediction_df.set_index(y_df.index))\n",
    "\n",
    "\n",
    "    # Calculate lift on validation data\n",
    "    v1 = prediction_with_label_df[[target_column, 'prob_of_predict_1']]\n",
    "    v1.sort_values(by=['prob_of_predict_1'], inplace=True)\n",
    "    v1['Qcut'] = pd.qcut(v1['prob_of_predict_1'].rank(\n",
    "    method='first'), q=20, labels=False)\n",
    "    v1['SD'] = 20-(v1['Qcut'].astype(int))\n",
    "\n",
    "\n",
    "    vl1 = v1.drop(['Qcut'], axis=1)\n",
    "    vl1['Freq'] = vl1.groupby('SD')[target_column].transform(np.sum)\n",
    "    vl2 = vl1.drop([target_column, 'prob_of_predict_1'], axis=1).drop_duplicates()\n",
    "    vl2.sort_values(by=['SD'], inplace=True)\n",
    "    vl2['Cumm Sum'] = vl2['Freq'].cumsum()\n",
    "    vl2['Lift'] = vl2['Freq'].div(vl2['Freq'].sum(), axis=0).div(0.05)\n",
    "    vl2['Cumm Lift'] = vl2['Cumm Sum'].div(vl2['Freq'].sum(), axis=0).div(vl2['SD']/20)\n",
    "    vl2['Capture Rate'] = vl2['Lift']*5\n",
    "    vl2['Cummu Capture Rate'] = vl2['Capture Rate'].cumsum()\n",
    "    # vl2['Capture_Rate_Defintion']= vl2['Freq']*100/Total_Actual_positive_targets\n",
    "    # vl2['Cummu_Capture_Rate_Defintion']= vl2['Capture_Rate_Defintion'].cumsum()\n",
    "    return pd.DataFrame(vl2)\n"
   ]
  },
  {
   "cell_type": "code",
   "execution_count": 161,
   "id": "39f1997f-2f52-4560-8435-20f2f6a3f5a4",
   "metadata": {},
   "outputs": [],
   "source": [
    "from xgboost import XGBClassifier\n",
    "from sklearn.model_selection import RandomizedSearchCV\n",
    "from sklearn.metrics import make_scorer\n",
    "from sklearn.model_selection import GridSearchCV"
   ]
  },
  {
   "cell_type": "code",
   "execution_count": 162,
   "id": "9e1033b4-4728-432d-807a-2ce37e0fa46b",
   "metadata": {},
   "outputs": [],
   "source": [
    "Algo= 'XGB_SMHM'\n",
    "#Optimization='TuneCV_BOHB_6thSD_Lift'\n",
    "Optimization='RandomSearch_CaptureRate'\n",
    "\n",
    "custom_scorer = make_scorer(\n",
    "    Capture_Rate_1stSD, greater_is_better=True, needs_proba=True)"
   ]
  },
  {
   "cell_type": "code",
   "execution_count": 163,
   "id": "ba2b7443-4c10-4aad-ad28-65fdc0eb5fcd",
   "metadata": {},
   "outputs": [],
   "source": [
    "params = {\n",
    "    \"gamma\": list(range(1, 21)),\n",
    "    \"subsample\": np.round(np.arange(0.2, 1, 0.1),2).tolist(),\n",
    "    \"colsample_bytree\": np.round(np.arange(0.2, 1, 0.1),2).tolist(),\n",
    "    \"n_estimators\": np.arange(10, 200, 10).tolist(), \n",
    "    \"max_depth\": list(range(3, 7)),\n",
    "    # \"scale_pos_weight\": list(range(1, 20)),\n",
    "    \"learning_rate\": np.round(np.arange(0.001, 0.3, 0.005),3).tolist()\n",
    "}"
   ]
  },
  {
   "cell_type": "code",
   "execution_count": 164,
   "id": "6e2dd819-4311-4a16-9c6a-249bb133026f",
   "metadata": {},
   "outputs": [],
   "source": [
    "params_1 = {\n",
    "    \"n_estimators\": [10,20]\n",
    "}"
   ]
  },
  {
   "cell_type": "code",
   "execution_count": 165,
   "id": "6c9e1fc1-fe4c-4a5f-a410-1a91f9ec6425",
   "metadata": {},
   "outputs": [],
   "source": [
    "xgb = XGBClassifier(\n",
    "    #learning_rate=0.02,\n",
    "    #n_estimators=50,\n",
    "    # objective=\"binary:logistic\",\n",
    "    nthread=-1,\n",
    "    verbosity=1,\n",
    "    use_label_encoder=False\n",
    "    # enable_categorical=True\n",
    "    # tree_method=\"gpu_hist\"  # this enables GPU.\n",
    "    # See https://github.com/dmlc/xgboost/issues/2819\n",
    ")"
   ]
  },
  {
   "cell_type": "code",
   "execution_count": 166,
   "id": "1a0542dc-b028-4e43-a97c-53939ce4db7d",
   "metadata": {},
   "outputs": [
    {
     "data": {
      "text/plain": [
       "SMHM_Churn\n",
       "0             357983\n",
       "1               1931\n",
       "dtype: int64"
      ]
     },
     "execution_count": 166,
     "metadata": {},
     "output_type": "execute_result"
    }
   ],
   "source": [
    "Y_train.value_counts()"
   ]
  },
  {
   "cell_type": "code",
   "execution_count": 167,
   "id": "66c9cf62-0b2f-43ef-8edf-ca326ac44a9a",
   "metadata": {},
   "outputs": [],
   "source": [
    "# Y_train=Y_train.astype('category')"
   ]
  },
  {
   "cell_type": "code",
   "execution_count": 168,
   "id": "ed63a602-32e3-4cd3-acc7-69818452240b",
   "metadata": {},
   "outputs": [
    {
     "data": {
      "text/plain": [
       "SMHM_Churn    0\n",
       "dtype: int64"
      ]
     },
     "execution_count": 168,
     "metadata": {},
     "output_type": "execute_result"
    }
   ],
   "source": [
    "Y_train.isnull().sum()"
   ]
  },
  {
   "cell_type": "code",
   "execution_count": 169,
   "id": "87969237-31ba-4294-9adc-104f3fef1f22",
   "metadata": {},
   "outputs": [
    {
     "data": {
      "text/plain": [
       "SMHM_Churn    Int64\n",
       "dtype: object"
      ]
     },
     "execution_count": 169,
     "metadata": {},
     "output_type": "execute_result"
    }
   ],
   "source": [
    "Y_train.dtypes"
   ]
  },
  {
   "cell_type": "code",
   "execution_count": 170,
   "id": "f3d69cd2-3203-41c5-8eb2-97f6186ecbea",
   "metadata": {},
   "outputs": [],
   "source": [
    "search = RandomizedSearchCV(xgb, param_distributions=params_1,cv=3,error_score=\"raise\")"
   ]
  },
  {
   "cell_type": "code",
   "execution_count": 171,
   "id": "421db5aa-ad3b-4e69-98d4-77ae01392831",
   "metadata": {},
   "outputs": [],
   "source": [
    "search_1=GridSearchCV(estimator=xgb,param_grid=params_1,scoring=custom_scorer)"
   ]
  },
  {
   "cell_type": "code",
   "execution_count": 172,
   "id": "f1a57083-eca0-4ac8-a391-60b109509be6",
   "metadata": {},
   "outputs": [
    {
     "data": {
      "text/plain": [
       "array([[0],\n",
       "       [0],\n",
       "       [0],\n",
       "       ...,\n",
       "       [0],\n",
       "       [0],\n",
       "       [0]], dtype=object)"
      ]
     },
     "execution_count": 172,
     "metadata": {},
     "output_type": "execute_result"
    }
   ],
   "source": [
    "Y_train.values"
   ]
  },
  {
   "cell_type": "code",
   "execution_count": 173,
   "id": "d045b02d-d2ab-4e0d-bd87-a4b2ff6ccbe1",
   "metadata": {},
   "outputs": [],
   "source": [
    "# search_1.fit(X_train,Y_train.values)"
   ]
  },
  {
   "cell_type": "code",
   "execution_count": 174,
   "id": "e3c7a22c-a70a-4bae-8b8a-8e18c3b2617d",
   "metadata": {},
   "outputs": [
    {
     "data": {
      "text/html": [
       "<style>#sk-container-id-2 {color: black;background-color: white;}#sk-container-id-2 pre{padding: 0;}#sk-container-id-2 div.sk-toggleable {background-color: white;}#sk-container-id-2 label.sk-toggleable__label {cursor: pointer;display: block;width: 100%;margin-bottom: 0;padding: 0.3em;box-sizing: border-box;text-align: center;}#sk-container-id-2 label.sk-toggleable__label-arrow:before {content: \"▸\";float: left;margin-right: 0.25em;color: #696969;}#sk-container-id-2 label.sk-toggleable__label-arrow:hover:before {color: black;}#sk-container-id-2 div.sk-estimator:hover label.sk-toggleable__label-arrow:before {color: black;}#sk-container-id-2 div.sk-toggleable__content {max-height: 0;max-width: 0;overflow: hidden;text-align: left;background-color: #f0f8ff;}#sk-container-id-2 div.sk-toggleable__content pre {margin: 0.2em;color: black;border-radius: 0.25em;background-color: #f0f8ff;}#sk-container-id-2 input.sk-toggleable__control:checked~div.sk-toggleable__content {max-height: 200px;max-width: 100%;overflow: auto;}#sk-container-id-2 input.sk-toggleable__control:checked~label.sk-toggleable__label-arrow:before {content: \"▾\";}#sk-container-id-2 div.sk-estimator input.sk-toggleable__control:checked~label.sk-toggleable__label {background-color: #d4ebff;}#sk-container-id-2 div.sk-label input.sk-toggleable__control:checked~label.sk-toggleable__label {background-color: #d4ebff;}#sk-container-id-2 input.sk-hidden--visually {border: 0;clip: rect(1px 1px 1px 1px);clip: rect(1px, 1px, 1px, 1px);height: 1px;margin: -1px;overflow: hidden;padding: 0;position: absolute;width: 1px;}#sk-container-id-2 div.sk-estimator {font-family: monospace;background-color: #f0f8ff;border: 1px dotted black;border-radius: 0.25em;box-sizing: border-box;margin-bottom: 0.5em;}#sk-container-id-2 div.sk-estimator:hover {background-color: #d4ebff;}#sk-container-id-2 div.sk-parallel-item::after {content: \"\";width: 100%;border-bottom: 1px solid gray;flex-grow: 1;}#sk-container-id-2 div.sk-label:hover label.sk-toggleable__label {background-color: #d4ebff;}#sk-container-id-2 div.sk-serial::before {content: \"\";position: absolute;border-left: 1px solid gray;box-sizing: border-box;top: 0;bottom: 0;left: 50%;z-index: 0;}#sk-container-id-2 div.sk-serial {display: flex;flex-direction: column;align-items: center;background-color: white;padding-right: 0.2em;padding-left: 0.2em;position: relative;}#sk-container-id-2 div.sk-item {position: relative;z-index: 1;}#sk-container-id-2 div.sk-parallel {display: flex;align-items: stretch;justify-content: center;background-color: white;position: relative;}#sk-container-id-2 div.sk-item::before, #sk-container-id-2 div.sk-parallel-item::before {content: \"\";position: absolute;border-left: 1px solid gray;box-sizing: border-box;top: 0;bottom: 0;left: 50%;z-index: -1;}#sk-container-id-2 div.sk-parallel-item {display: flex;flex-direction: column;z-index: 1;position: relative;background-color: white;}#sk-container-id-2 div.sk-parallel-item:first-child::after {align-self: flex-end;width: 50%;}#sk-container-id-2 div.sk-parallel-item:last-child::after {align-self: flex-start;width: 50%;}#sk-container-id-2 div.sk-parallel-item:only-child::after {width: 0;}#sk-container-id-2 div.sk-dashed-wrapped {border: 1px dashed gray;margin: 0 0.4em 0.5em 0.4em;box-sizing: border-box;padding-bottom: 0.4em;background-color: white;}#sk-container-id-2 div.sk-label label {font-family: monospace;font-weight: bold;display: inline-block;line-height: 1.2em;}#sk-container-id-2 div.sk-label-container {text-align: center;}#sk-container-id-2 div.sk-container {/* jupyter's `normalize.less` sets `[hidden] { display: none; }` but bootstrap.min.css set `[hidden] { display: none !important; }` so we also need the `!important` here to be able to override the default hidden behavior on the sphinx rendered scikit-learn.org. See: https://github.com/scikit-learn/scikit-learn/issues/21755 */display: inline-block !important;position: relative;}#sk-container-id-2 div.sk-text-repr-fallback {display: none;}</style><div id=\"sk-container-id-2\" class=\"sk-top-container\"><div class=\"sk-text-repr-fallback\"><pre>XGBClassifier(base_score=0.5, booster=&#x27;gbtree&#x27;, callbacks=None,\n",
       "              colsample_bylevel=1, colsample_bynode=1, colsample_bytree=1,\n",
       "              early_stopping_rounds=None, enable_categorical=False,\n",
       "              eval_metric=None, gamma=0, gpu_id=-1, grow_policy=&#x27;depthwise&#x27;,\n",
       "              importance_type=None, interaction_constraints=&#x27;&#x27;,\n",
       "              learning_rate=0.300000012, max_bin=256, max_cat_to_onehot=4,\n",
       "              max_delta_step=0, max_depth=6, max_leaves=0, min_child_weight=1,\n",
       "              missing=nan, monotone_constraints=&#x27;()&#x27;, n_estimators=100,\n",
       "              n_jobs=-1, nthread=-1, num_parallel_tree=1, predictor=&#x27;auto&#x27;,\n",
       "              random_state=0, reg_alpha=0, ...)</pre><b>In a Jupyter environment, please rerun this cell to show the HTML representation or trust the notebook. <br />On GitHub, the HTML representation is unable to render, please try loading this page with nbviewer.org.</b></div><div class=\"sk-container\" hidden><div class=\"sk-item\"><div class=\"sk-estimator sk-toggleable\"><input class=\"sk-toggleable__control sk-hidden--visually\" id=\"sk-estimator-id-2\" type=\"checkbox\" checked><label for=\"sk-estimator-id-2\" class=\"sk-toggleable__label sk-toggleable__label-arrow\">XGBClassifier</label><div class=\"sk-toggleable__content\"><pre>XGBClassifier(base_score=0.5, booster=&#x27;gbtree&#x27;, callbacks=None,\n",
       "              colsample_bylevel=1, colsample_bynode=1, colsample_bytree=1,\n",
       "              early_stopping_rounds=None, enable_categorical=False,\n",
       "              eval_metric=None, gamma=0, gpu_id=-1, grow_policy=&#x27;depthwise&#x27;,\n",
       "              importance_type=None, interaction_constraints=&#x27;&#x27;,\n",
       "              learning_rate=0.300000012, max_bin=256, max_cat_to_onehot=4,\n",
       "              max_delta_step=0, max_depth=6, max_leaves=0, min_child_weight=1,\n",
       "              missing=nan, monotone_constraints=&#x27;()&#x27;, n_estimators=100,\n",
       "              n_jobs=-1, nthread=-1, num_parallel_tree=1, predictor=&#x27;auto&#x27;,\n",
       "              random_state=0, reg_alpha=0, ...)</pre></div></div></div></div></div>"
      ],
      "text/plain": [
       "XGBClassifier(base_score=0.5, booster='gbtree', callbacks=None,\n",
       "              colsample_bylevel=1, colsample_bynode=1, colsample_bytree=1,\n",
       "              early_stopping_rounds=None, enable_categorical=False,\n",
       "              eval_metric=None, gamma=0, gpu_id=-1, grow_policy='depthwise',\n",
       "              importance_type=None, interaction_constraints='',\n",
       "              learning_rate=0.300000012, max_bin=256, max_cat_to_onehot=4,\n",
       "              max_delta_step=0, max_depth=6, max_leaves=0, min_child_weight=1,\n",
       "              missing=nan, monotone_constraints='()', n_estimators=100,\n",
       "              n_jobs=-1, nthread=-1, num_parallel_tree=1, predictor='auto',\n",
       "              random_state=0, reg_alpha=0, ...)"
      ]
     },
     "execution_count": 174,
     "metadata": {},
     "output_type": "execute_result"
    }
   ],
   "source": [
    "xgb.fit(X_train,Y_train)\n"
   ]
  },
  {
   "cell_type": "code",
   "execution_count": 175,
   "id": "e2dff2d9-6a0e-4a08-9f69-bc6076c24afc",
   "metadata": {},
   "outputs": [],
   "source": [
    "# search_1.best_params_"
   ]
  },
  {
   "cell_type": "code",
   "execution_count": 176,
   "id": "57aa59e8-c9bb-4c68-a458-beedd68e7363",
   "metadata": {},
   "outputs": [],
   "source": [
    "# pd.DataFrame(search_1.cv_results_)"
   ]
  },
  {
   "cell_type": "code",
   "execution_count": 179,
   "id": "ee932d40-b593-4d86-bf4a-b281b4873261",
   "metadata": {},
   "outputs": [
    {
     "name": "stdout",
     "output_type": "stream",
     "text": [
      "output shape (154250, 2)\n",
      "y_test shape: (154250, 1)\n"
     ]
    },
    {
     "name": "stderr",
     "output_type": "stream",
     "text": [
      "\n",
      "A value is trying to be set on a copy of a slice from a DataFrame\n",
      "\n",
      "See the caveats in the documentation: https://pandas.pydata.org/pandas-docs/stable/user_guide/indexing.html#returning-a-view-versus-a-copy\n"
     ]
    }
   ],
   "source": [
    "val_DF_metric=lift_calc_pd(model=xgb,X_test=X_validation\n",
    ",y_test=Y_validation,target_column=Target_col[0])"
   ]
  },
  {
   "cell_type": "code",
   "execution_count": 180,
   "id": "2a04709e-0090-46cc-b1f2-d5a927108f7f",
   "metadata": {},
   "outputs": [
    {
     "data": {
      "text/html": [
       "<div>\n",
       "<style scoped>\n",
       "    .dataframe tbody tr th:only-of-type {\n",
       "        vertical-align: middle;\n",
       "    }\n",
       "\n",
       "    .dataframe tbody tr th {\n",
       "        vertical-align: top;\n",
       "    }\n",
       "\n",
       "    .dataframe thead th {\n",
       "        text-align: right;\n",
       "    }\n",
       "</style>\n",
       "<table border=\"1\" class=\"dataframe\">\n",
       "  <thead>\n",
       "    <tr style=\"text-align: right;\">\n",
       "      <th></th>\n",
       "      <th>SD</th>\n",
       "      <th>Freq</th>\n",
       "      <th>Cumm Sum</th>\n",
       "      <th>Lift</th>\n",
       "      <th>Cumm Lift</th>\n",
       "      <th>Capture Rate</th>\n",
       "      <th>Cummu Capture Rate</th>\n",
       "    </tr>\n",
       "  </thead>\n",
       "  <tbody>\n",
       "    <tr>\n",
       "      <th>250542</th>\n",
       "      <td>1</td>\n",
       "      <td>318</td>\n",
       "      <td>318</td>\n",
       "      <td>7.681159</td>\n",
       "      <td>7.681159</td>\n",
       "      <td>38.405797</td>\n",
       "      <td>38.405797</td>\n",
       "    </tr>\n",
       "    <tr>\n",
       "      <th>195396</th>\n",
       "      <td>2</td>\n",
       "      <td>96</td>\n",
       "      <td>414</td>\n",
       "      <td>2.318841</td>\n",
       "      <td>5.0</td>\n",
       "      <td>11.594203</td>\n",
       "      <td>50.0</td>\n",
       "    </tr>\n",
       "    <tr>\n",
       "      <th>202215</th>\n",
       "      <td>3</td>\n",
       "      <td>72</td>\n",
       "      <td>486</td>\n",
       "      <td>1.73913</td>\n",
       "      <td>3.913043</td>\n",
       "      <td>8.695652</td>\n",
       "      <td>58.695652</td>\n",
       "    </tr>\n",
       "    <tr>\n",
       "      <th>124242</th>\n",
       "      <td>4</td>\n",
       "      <td>72</td>\n",
       "      <td>558</td>\n",
       "      <td>1.73913</td>\n",
       "      <td>3.369565</td>\n",
       "      <td>8.695652</td>\n",
       "      <td>67.391304</td>\n",
       "    </tr>\n",
       "    <tr>\n",
       "      <th>308072</th>\n",
       "      <td>5</td>\n",
       "      <td>52</td>\n",
       "      <td>610</td>\n",
       "      <td>1.256039</td>\n",
       "      <td>2.94686</td>\n",
       "      <td>6.280193</td>\n",
       "      <td>73.671498</td>\n",
       "    </tr>\n",
       "    <tr>\n",
       "      <th>451538</th>\n",
       "      <td>6</td>\n",
       "      <td>36</td>\n",
       "      <td>646</td>\n",
       "      <td>0.869565</td>\n",
       "      <td>2.600644</td>\n",
       "      <td>4.347826</td>\n",
       "      <td>78.019324</td>\n",
       "    </tr>\n",
       "    <tr>\n",
       "      <th>502004</th>\n",
       "      <td>7</td>\n",
       "      <td>37</td>\n",
       "      <td>683</td>\n",
       "      <td>0.89372</td>\n",
       "      <td>2.356798</td>\n",
       "      <td>4.468599</td>\n",
       "      <td>82.487923</td>\n",
       "    </tr>\n",
       "    <tr>\n",
       "      <th>83903</th>\n",
       "      <td>8</td>\n",
       "      <td>26</td>\n",
       "      <td>709</td>\n",
       "      <td>0.628019</td>\n",
       "      <td>2.1407</td>\n",
       "      <td>3.140097</td>\n",
       "      <td>85.628019</td>\n",
       "    </tr>\n",
       "    <tr>\n",
       "      <th>363153</th>\n",
       "      <td>9</td>\n",
       "      <td>22</td>\n",
       "      <td>731</td>\n",
       "      <td>0.531401</td>\n",
       "      <td>1.961889</td>\n",
       "      <td>2.657005</td>\n",
       "      <td>88.285024</td>\n",
       "    </tr>\n",
       "    <tr>\n",
       "      <th>267285</th>\n",
       "      <td>10</td>\n",
       "      <td>23</td>\n",
       "      <td>754</td>\n",
       "      <td>0.555556</td>\n",
       "      <td>1.821256</td>\n",
       "      <td>2.777778</td>\n",
       "      <td>91.062802</td>\n",
       "    </tr>\n",
       "    <tr>\n",
       "      <th>491430</th>\n",
       "      <td>11</td>\n",
       "      <td>23</td>\n",
       "      <td>777</td>\n",
       "      <td>0.555556</td>\n",
       "      <td>1.706192</td>\n",
       "      <td>2.777778</td>\n",
       "      <td>93.84058</td>\n",
       "    </tr>\n",
       "    <tr>\n",
       "      <th>336505</th>\n",
       "      <td>12</td>\n",
       "      <td>16</td>\n",
       "      <td>793</td>\n",
       "      <td>0.386473</td>\n",
       "      <td>1.596216</td>\n",
       "      <td>1.932367</td>\n",
       "      <td>95.772947</td>\n",
       "    </tr>\n",
       "    <tr>\n",
       "      <th>380111</th>\n",
       "      <td>13</td>\n",
       "      <td>17</td>\n",
       "      <td>810</td>\n",
       "      <td>0.410628</td>\n",
       "      <td>1.505017</td>\n",
       "      <td>2.05314</td>\n",
       "      <td>97.826087</td>\n",
       "    </tr>\n",
       "    <tr>\n",
       "      <th>196653</th>\n",
       "      <td>14</td>\n",
       "      <td>17</td>\n",
       "      <td>827</td>\n",
       "      <td>0.410628</td>\n",
       "      <td>1.426846</td>\n",
       "      <td>2.05314</td>\n",
       "      <td>99.879227</td>\n",
       "    </tr>\n",
       "    <tr>\n",
       "      <th>56127</th>\n",
       "      <td>15</td>\n",
       "      <td>1</td>\n",
       "      <td>828</td>\n",
       "      <td>0.024155</td>\n",
       "      <td>1.333333</td>\n",
       "      <td>0.120773</td>\n",
       "      <td>100.0</td>\n",
       "    </tr>\n",
       "    <tr>\n",
       "      <th>26335</th>\n",
       "      <td>16</td>\n",
       "      <td>0</td>\n",
       "      <td>828</td>\n",
       "      <td>0.0</td>\n",
       "      <td>1.25</td>\n",
       "      <td>0.0</td>\n",
       "      <td>100.0</td>\n",
       "    </tr>\n",
       "    <tr>\n",
       "      <th>197273</th>\n",
       "      <td>17</td>\n",
       "      <td>0</td>\n",
       "      <td>828</td>\n",
       "      <td>0.0</td>\n",
       "      <td>1.176471</td>\n",
       "      <td>0.0</td>\n",
       "      <td>100.0</td>\n",
       "    </tr>\n",
       "    <tr>\n",
       "      <th>15977</th>\n",
       "      <td>18</td>\n",
       "      <td>0</td>\n",
       "      <td>828</td>\n",
       "      <td>0.0</td>\n",
       "      <td>1.111111</td>\n",
       "      <td>0.0</td>\n",
       "      <td>100.0</td>\n",
       "    </tr>\n",
       "    <tr>\n",
       "      <th>96340</th>\n",
       "      <td>19</td>\n",
       "      <td>0</td>\n",
       "      <td>828</td>\n",
       "      <td>0.0</td>\n",
       "      <td>1.052632</td>\n",
       "      <td>0.0</td>\n",
       "      <td>100.0</td>\n",
       "    </tr>\n",
       "    <tr>\n",
       "      <th>114469</th>\n",
       "      <td>20</td>\n",
       "      <td>0</td>\n",
       "      <td>828</td>\n",
       "      <td>0.0</td>\n",
       "      <td>1.0</td>\n",
       "      <td>0.0</td>\n",
       "      <td>100.0</td>\n",
       "    </tr>\n",
       "  </tbody>\n",
       "</table>\n",
       "</div>"
      ],
      "text/plain": [
       "        SD  Freq Cumm Sum      Lift Cumm Lift  Capture Rate Cummu Capture Rate\n",
       "250542   1   318      318  7.681159  7.681159     38.405797          38.405797\n",
       "195396   2    96      414  2.318841       5.0     11.594203               50.0\n",
       "202215   3    72      486   1.73913  3.913043      8.695652          58.695652\n",
       "124242   4    72      558   1.73913  3.369565      8.695652          67.391304\n",
       "308072   5    52      610  1.256039   2.94686      6.280193          73.671498\n",
       "451538   6    36      646  0.869565  2.600644      4.347826          78.019324\n",
       "502004   7    37      683   0.89372  2.356798      4.468599          82.487923\n",
       "83903    8    26      709  0.628019    2.1407      3.140097          85.628019\n",
       "363153   9    22      731  0.531401  1.961889      2.657005          88.285024\n",
       "267285  10    23      754  0.555556  1.821256      2.777778          91.062802\n",
       "491430  11    23      777  0.555556  1.706192      2.777778           93.84058\n",
       "336505  12    16      793  0.386473  1.596216      1.932367          95.772947\n",
       "380111  13    17      810  0.410628  1.505017       2.05314          97.826087\n",
       "196653  14    17      827  0.410628  1.426846       2.05314          99.879227\n",
       "56127   15     1      828  0.024155  1.333333      0.120773              100.0\n",
       "26335   16     0      828       0.0      1.25           0.0              100.0\n",
       "197273  17     0      828       0.0  1.176471           0.0              100.0\n",
       "15977   18     0      828       0.0  1.111111           0.0              100.0\n",
       "96340   19     0      828       0.0  1.052632           0.0              100.0\n",
       "114469  20     0      828       0.0       1.0           0.0              100.0"
      ]
     },
     "execution_count": 180,
     "metadata": {},
     "output_type": "execute_result"
    }
   ],
   "source": [
    "val_DF_metric"
   ]
  },
  {
   "cell_type": "code",
   "execution_count": 181,
   "id": "9bd6e156-45b6-49ba-870a-257453d8a03b",
   "metadata": {},
   "outputs": [],
   "source": [
    "X_data=pd.concat([X_validation,Y_validation],axis=1)"
   ]
  },
  {
   "cell_type": "code",
   "execution_count": 182,
   "id": "2b458a0c-465f-42d9-a965-ec13b8120180",
   "metadata": {},
   "outputs": [
    {
     "name": "stdout",
     "output_type": "stream",
     "text": [
      "output shape (13494, 2)\n",
      "y_test shape: (13494, 1)\n"
     ]
    },
    {
     "name": "stderr",
     "output_type": "stream",
     "text": [
      "\n",
      "A value is trying to be set on a copy of a slice from a DataFrame\n",
      "\n",
      "See the caveats in the documentation: https://pandas.pydata.org/pandas-docs/stable/user_guide/indexing.html#returning-a-view-versus-a-copy\n"
     ]
    }
   ],
   "source": [
    "x_SC=X_data[X_data.Package__Smart_Camera==1]\n",
    "y_sc=x_SC[Target_col]\n",
    "\n",
    "\n",
    "Test_lift=lift_calc_pd(model=xgb,X_test=x_SC[final_feature_columns]\n",
    ",y_test=y_sc,target_column=Target_col[0])\n",
    "Test_lift.to_csv('Smart_Camera_Lift.csv',index=False)"
   ]
  },
  {
   "cell_type": "code",
   "execution_count": 183,
   "id": "41b1141c-cca7-41be-9ffa-d0fdff2a200c",
   "metadata": {},
   "outputs": [
    {
     "name": "stdout",
     "output_type": "stream",
     "text": [
      "output shape (30744, 2)\n",
      "y_test shape: (30744, 1)\n"
     ]
    },
    {
     "name": "stderr",
     "output_type": "stream",
     "text": [
      "\n",
      "A value is trying to be set on a copy of a slice from a DataFrame\n",
      "\n",
      "See the caveats in the documentation: https://pandas.pydata.org/pandas-docs/stable/user_guide/indexing.html#returning-a-view-versus-a-copy\n"
     ]
    }
   ],
   "source": [
    "x_SC=X_data[X_data.Package__Smart_Automation_Plus==1]\n",
    "y_sc=x_SC[Target_col]\n",
    "\n",
    "\n",
    "Test_lift=lift_calc_pd(model=xgb,X_test=x_SC[final_feature_columns]\n",
    ",y_test=y_sc,target_column=Target_col[0])\n",
    "Test_lift.to_csv('Smart_Automation_Lift.csv',index=False)"
   ]
  },
  {
   "cell_type": "code",
   "execution_count": 184,
   "id": "038ac8dd-7957-4c12-98fa-b7f66416ba16",
   "metadata": {},
   "outputs": [
    {
     "name": "stdout",
     "output_type": "stream",
     "text": [
      "output shape (77199, 2)\n",
      "y_test shape: (77199, 1)\n"
     ]
    },
    {
     "name": "stderr",
     "output_type": "stream",
     "text": [
      "\n",
      "A value is trying to be set on a copy of a slice from a DataFrame\n",
      "\n",
      "See the caveats in the documentation: https://pandas.pydata.org/pandas-docs/stable/user_guide/indexing.html#returning-a-view-versus-a-copy\n"
     ]
    }
   ],
   "source": [
    "x_SC=X_data[X_data.Package__Monitored==1]\n",
    "y_sc=x_SC[Target_col]\n",
    "\n",
    "\n",
    "Test_lift=lift_calc_pd(model=xgb,X_test=x_SC[final_feature_columns]\n",
    ",y_test=y_sc,target_column=Target_col[0])\n",
    "Test_lift.to_csv('Monitored_Lift.csv',index=False)"
   ]
  },
  {
   "cell_type": "code",
   "execution_count": 107,
   "id": "9c729a19-a74c-4dcd-b990-f4f43ae787d5",
   "metadata": {},
   "outputs": [],
   "source": [
    "# x_SC=X_data[X_data.Package__Unknown_Package==1]\n",
    "# y_sc=x_SC[Target_col]\n",
    "\n",
    "\n",
    "# Test_lift=lift_calc_pd(model=xgb,X_test=x_SC[final_feature_columns]\n",
    "# ,y_test=y_sc,target_column=Target_col[0])\n",
    "# Test_lift.to_csv('Unknown_Package_Lift.csv',index=False)"
   ]
  },
  {
   "cell_type": "code",
   "execution_count": 185,
   "id": "63feeea4-b39c-4fb2-8f56-3e52db9d53fb",
   "metadata": {},
   "outputs": [
    {
     "data": {
      "text/plain": [
       "['stv_count',\n",
       " 'Best_Practices_1',\n",
       " 'Avg_login_per_day',\n",
       " 'product_mix_all',\n",
       " 'Avg_FFH_ARPU',\n",
       " 'ADT_migrated_customer',\n",
       " 'diic_count',\n",
       " 'Contract_start_months',\n",
       " 'Best_Practices_2',\n",
       " 'sing_count',\n",
       " 'Tenure_months',\n",
       " 'Avg_disarm_per_day',\n",
       " 'Interactivity_flag',\n",
       " 'ttv_count',\n",
       " 'Best_Practices_6',\n",
       " 'Avg_arm_per_day',\n",
       " 'Best_Practices_4',\n",
       " 'Best_Practices_3',\n",
       " 'hsic_count',\n",
       " 'Best_Practices_5',\n",
       " 'Avg_SMHM_ARPU',\n",
       " 'Package__Monitored',\n",
       " 'Package__Smart_Automation_Plus',\n",
       " 'Package__Smart_Camera',\n",
       " 'Package__Unknown_Package',\n",
       " 'contract_end_status__contract_expired',\n",
       " 'contract_end_status__contract_expiring_after_90_days',\n",
       " 'contract_end_status__contract_expiring_within_90_days',\n",
       " 'login_consistency_cat__Heavy_User',\n",
       " 'login_consistency_cat__Low_User',\n",
       " 'login_consistency_cat__No_ADC_account',\n",
       " 'login_consistency_cat__No_User',\n",
       " 'arming_consistency_cat__Heavy_User',\n",
       " 'arming_consistency_cat__Low_User',\n",
       " 'arming_consistency_cat__No_ADC_account',\n",
       " 'arming_consistency_cat__No_User']"
      ]
     },
     "execution_count": 185,
     "metadata": {},
     "output_type": "execute_result"
    }
   ],
   "source": [
    "final_feature_columns"
   ]
  },
  {
   "cell_type": "code",
   "execution_count": 186,
   "id": "e6b0b438-4884-428a-a6bc-e3b861d3368d",
   "metadata": {},
   "outputs": [
    {
     "data": {
      "text/plain": [
       "<AxesSubplot:>"
      ]
     },
     "execution_count": 186,
     "metadata": {},
     "output_type": "execute_result"
    },
    {
     "data": {
      "image/png": "[encoded data removed]",
      "text/plain": [
       "<Figure size 1440x720 with 1 Axes>"
      ]
     },
     "metadata": {
      "needs_background": "light"
     },
     "output_type": "display_data"
    }
   ],
   "source": [
    "feature_important = xgb.get_booster().get_score(importance_type='weight')\n",
    "keys = list(feature_important.keys())\n",
    "values = list(feature_important.values())\n",
    "\n",
    "data = pd.DataFrame(data=values, index=keys, columns=[\"score\"]).sort_values(by = \"score\", ascending=False)\n",
    "data.nlargest(15, columns=\"score\").plot(kind='barh', figsize = (20,10)) ## plot top 40 features\n"
   ]
  },
  {
   "cell_type": "code",
   "execution_count": 187,
   "id": "5b96235c-f5cd-4ea6-815f-55e735e5c3b9",
   "metadata": {},
   "outputs": [
    {
     "name": "stderr",
     "output_type": "stream",
     "text": [
      "ntree_limit is deprecated, use `iteration_range` or model slicing instead.\n"
     ]
    },
    {
     "data": {
      "image/png": "[encoded data removed]",
      "text/plain": [
       "<Figure size 576x540 with 2 Axes>"
      ]
     },
     "metadata": {
      "needs_background": "light"
     },
     "output_type": "display_data"
    }
   ],
   "source": [
    "import shap\n",
    "# model_shap = XGB_final_model.best_estimator_\n",
    "explainer = shap.TreeExplainer(xgb)\n",
    "shap_values = explainer.shap_values(X_train,check_additivity=False)\n",
    "#%%\n",
    "\n",
    "shap.summary_plot(shap_values, features=X_train\n",
    ", feature_names=final_feature_columns,show=False,max_display=15)"
   ]
  },
  {
   "cell_type": "code",
   "execution_count": 110,
   "id": "d9eb067a-7024-4164-af59-a54235d8b17e",
   "metadata": {},
   "outputs": [
    {
     "name": "stderr",
     "output_type": "stream",
     "text": [
      "ntree_limit is deprecated, use `iteration_range` or model slicing instead.\n"
     ]
    },
    {
     "data": {
      "image/png": "[encoded data removed]",
      "text/plain": [
       "<Figure size 576x540 with 2 Axes>"
      ]
     },
     "metadata": {
      "needs_background": "light"
     },
     "output_type": "display_data"
    }
   ],
   "source": [
    "explainer = shap.TreeExplainer(xgb)\n",
    "shap_values = explainer.shap_values(X_validation,check_additivity=False)\n",
    "#%%\n",
    "\n",
    "shap.summary_plot(shap_values, features=X_validation\n",
    ", feature_names=final_feature_columns,show=False,max_display=15)"
   ]
  },
  {
   "cell_type": "code",
   "execution_count": 361,
   "id": "02a4548d-a0db-4907-b9cc-93bcdadc321e",
   "metadata": {},
   "outputs": [],
   "source": [
    "# Y_train=Y_train.astype('int')\n",
    "# Y_validation=Y_validation.astype('int')"
   ]
  },
  {
   "cell_type": "code",
   "execution_count": 189,
   "id": "a9fa5bb0-48cf-4135-8179-a1a0ddadf22a",
   "metadata": {},
   "outputs": [
    {
     "data": {
      "text/plain": [
       "['XGB_SMHM_SMHM_churn_model_20230417_073900.pkl']"
      ]
     },
     "execution_count": 189,
     "metadata": {},
     "output_type": "execute_result"
    }
   ],
   "source": [
    "import datetime\n",
    "import joblib\n",
    "\n",
    "date_time_now=datetime.datetime.now().strftime(\"%Y%m%d_%I%M%S\")\n",
    "Model_filename_1=Algo+'_'+'SMHM_churn_model'+'_'+date_time_now+'.pkl'\n",
    "joblib.dump(xgb,Model_filename_1)\n"
   ]
  },
  {
   "cell_type": "code",
   "execution_count": 362,
   "id": "6b4a5d81-09f5-4974-8f3f-6595cf6b5d64",
   "metadata": {},
   "outputs": [],
   "source": [
    "# X_train=X_train.astype('int')\n",
    "# X_validation=X_validation.astype('int')"
   ]
  },
  {
   "cell_type": "code",
   "execution_count": 686,
   "id": "c689259c-9a93-4332-9f1c-5cd013f5233b",
   "metadata": {},
   "outputs": [
    {
     "data": {
      "text/plain": [
       "ttv_count                                                  Int64\n",
       "Avg_arm_per_day                                          float64\n",
       "hsic_count                                                 Int64\n",
       "Best_Practices_3                                           Int64\n",
       "Best_Practices_5                                           Int64\n",
       "Tenure_months                                              Int64\n",
       "Best_Practices_1                                           Int64\n",
       "Contract_start_months                                      Int64\n",
       "Avg_FFH_ARPU                                             float64\n",
       "Best_Practices_6                                           Int64\n",
       "Best_Practice_All                                          Int64\n",
       "Avg_login_per_day                                        float64\n",
       "stv_count                                                  Int64\n",
       "Avg_SMHM_ARPU                                            float64\n",
       "Best_Practices_2                                           Int64\n",
       "Best_Practices_4                                           Int64\n",
       "diic_count                                                 Int64\n",
       "Avg_disarm_per_day                                       float64\n",
       "login_consistency                                        float64\n",
       "sing_count                                                 Int64\n",
       "arming_consistency                                       float64\n",
       "product_mix_all                                            Int64\n",
       "contract_end_status__contract_expired                      uint8\n",
       "contract_end_status__contract_expiring_after_90_days       uint8\n",
       "contract_end_status__contract_expiring_within_90_days      uint8\n",
       "Package__Monitored                                         uint8\n",
       "Package__Smart_Automation_Plus                             uint8\n",
       "Package__Smart_Camera                                      uint8\n",
       "dtype: object"
      ]
     },
     "execution_count": 686,
     "metadata": {},
     "output_type": "execute_result"
    }
   ],
   "source": [
    "X_train.dtypes"
   ]
  },
  {
   "cell_type": "code",
   "execution_count": 381,
   "id": "6973e9eb-bd63-4acf-a55b-e19bae15b5f5",
   "metadata": {},
   "outputs": [],
   "source": [
    "Y_train=Y_train.astype('float64')\n",
    "Y_validation=Y_validation.astype('float64')"
   ]
  },
  {
   "cell_type": "code",
   "execution_count": 382,
   "id": "3cc6552e-576b-49ac-b58d-c03625edf28e",
   "metadata": {},
   "outputs": [],
   "source": [
    "X_train['ttv_count']=X_train['ttv_count'].astype('float64')\n",
    "X_train['sing_count']=X_train['sing_count'].astype('float64')\n",
    "X_train['hsic_count']=X_train['hsic_count'].astype('float64')\n",
    "X_train['product_mix_all']=X_train['product_mix_all'].astype('float64')\n",
    "X_train['diic_count']=X_train['diic_count'].astype('float64')\n",
    "X_train['stv_count']=X_train['stv_count'].astype('float64')"
   ]
  },
  {
   "cell_type": "code",
   "execution_count": 383,
   "id": "2b873e95-3296-45f7-a494-72a4dbfa522f",
   "metadata": {},
   "outputs": [],
   "source": [
    "X_validation['ttv_count']=X_validation['ttv_count'].astype('float64')\n",
    "X_validation['sing_count']=X_validation['sing_count'].astype('float64')\n",
    "X_validation['hsic_count']=X_validation['hsic_count'].astype('float64')\n",
    "X_validation['product_mix_all']=X_validation['product_mix_all'].astype('float64')\n",
    "X_validation['diic_count']=X_validation['diic_count'].astype('float64')\n",
    "X_validation['stv_count']=X_validation['stv_count'].astype('float64')"
   ]
  },
  {
   "cell_type": "code",
   "execution_count": 459,
   "id": "deaf28e0-7a0a-438d-9d4b-c2fb12f9f47c",
   "metadata": {},
   "outputs": [
    {
     "data": {
      "text/plain": [
       "SMHM_Churn    Int64\n",
       "dtype: object"
      ]
     },
     "execution_count": 459,
     "metadata": {},
     "output_type": "execute_result"
    }
   ],
   "source": [
    "Y_train.dtypes"
   ]
  },
  {
   "cell_type": "code",
   "execution_count": 460,
   "id": "14f01a11-6900-4872-b968-0b589b6f100f",
   "metadata": {},
   "outputs": [
    {
     "name": "stdout",
     "output_type": "stream",
     "text": [
      "<class 'pandas.core.frame.DataFrame'>\n",
      "Int64Index: 180420 entries, 243252 to 187630\n",
      "Data columns (total 1 columns):\n",
      " #   Column      Non-Null Count   Dtype\n",
      "---  ------      --------------   -----\n",
      " 0   SMHM_Churn  180420 non-null  Int64\n",
      "dtypes: Int64(1)\n",
      "memory usage: 2.9 MB\n"
     ]
    }
   ],
   "source": [
    "Y_train.info()"
   ]
  },
  {
   "cell_type": "code",
   "execution_count": 463,
   "id": "be342607-bb85-4390-a436-c18fc9c8c49e",
   "metadata": {},
   "outputs": [
    {
     "data": {
      "text/html": [
       "<div>\n",
       "<style scoped>\n",
       "    .dataframe tbody tr th:only-of-type {\n",
       "        vertical-align: middle;\n",
       "    }\n",
       "\n",
       "    .dataframe tbody tr th {\n",
       "        vertical-align: top;\n",
       "    }\n",
       "\n",
       "    .dataframe thead th {\n",
       "        text-align: right;\n",
       "    }\n",
       "</style>\n",
       "<table border=\"1\" class=\"dataframe\">\n",
       "  <thead>\n",
       "    <tr style=\"text-align: right;\">\n",
       "      <th></th>\n",
       "      <th>SMHM_Churn</th>\n",
       "    </tr>\n",
       "  </thead>\n",
       "  <tbody>\n",
       "    <tr>\n",
       "      <th>243252</th>\n",
       "      <td>0</td>\n",
       "    </tr>\n",
       "    <tr>\n",
       "      <th>178901</th>\n",
       "      <td>0</td>\n",
       "    </tr>\n",
       "    <tr>\n",
       "      <th>149461</th>\n",
       "      <td>0</td>\n",
       "    </tr>\n",
       "    <tr>\n",
       "      <th>115511</th>\n",
       "      <td>0</td>\n",
       "    </tr>\n",
       "    <tr>\n",
       "      <th>58339</th>\n",
       "      <td>0</td>\n",
       "    </tr>\n",
       "  </tbody>\n",
       "</table>\n",
       "</div>"
      ],
      "text/plain": [
       "        SMHM_Churn\n",
       "243252           0\n",
       "178901           0\n",
       "149461           0\n",
       "115511           0\n",
       "58339            0"
      ]
     },
     "execution_count": 463,
     "metadata": {},
     "output_type": "execute_result"
    }
   ],
   "source": [
    "Y_train.head()"
   ]
  },
  {
   "cell_type": "code",
   "execution_count": 480,
   "id": "19bd8595-97c5-47e8-992e-d6da82d9f393",
   "metadata": {},
   "outputs": [],
   "source": [
    "# Y_train_1=Y_train['SMHM_Churn'].astype('int').to_list()\n",
    "# Y_validation_1=Y_validation['SMHM_Churn'].astype('int').to_list()"
   ]
  },
  {
   "cell_type": "code",
   "execution_count": 502,
   "id": "48d66efa-51f5-4788-860e-1bbf3da00f1b",
   "metadata": {},
   "outputs": [],
   "source": [
    "# Y_train_1 = Y_train['SMHM_Churn'].astype('int')\n",
    "# Y_validation_1 = Y_validation['SMHM_Churn'].astype('int')"
   ]
  },
  {
   "cell_type": "code",
   "execution_count": 540,
   "id": "b374e87a-c3dc-439f-b6c0-dc100130bb5f",
   "metadata": {},
   "outputs": [],
   "source": [
    "Y_train_1=np.squeeze(Y_train['SMHM_Churn'].values)\n",
    "Y_validation_1 = np.squeeze(Y_validation['SMHM_Churn'].values)"
   ]
  },
  {
   "cell_type": "code",
   "execution_count": null,
   "id": "65da81dd-9eef-445b-807f-73bc99e84a01",
   "metadata": {},
   "outputs": [],
   "source": []
  },
  {
   "cell_type": "code",
   "execution_count": 541,
   "id": "ceeb68ce-f785-47b6-b345-c8ff23b40e3c",
   "metadata": {},
   "outputs": [],
   "source": [
    "# X_train['ttv_count']=X_train['ttv_count'].to_list()\n",
    "# X_train['sing_count']=X_train['sing_count'].to_list()\n",
    "# X_train['hsic_count']=X_train['hsic_count'].to_list()\n",
    "# X_train['product_mix_all']=X_train['product_mix_all'].to_list()\n",
    "# X_train['diic_count']=X_train['diic_count'].to_list()\n",
    "# X_train['stv_count']=X_train['stv_count'].to_list()"
   ]
  },
  {
   "cell_type": "code",
   "execution_count": 542,
   "id": "6c419519-f6d1-48cb-9d4d-501fe4ce6f8e",
   "metadata": {},
   "outputs": [],
   "source": [
    "# X_validation['ttv_count']=X_validation['ttv_count'].to_list()\n",
    "# X_validation['sing_count']=X_validation['sing_count'].to_list()\n",
    "# X_validation['hsic_count']=X_validation['hsic_count'].to_list()\n",
    "# X_validation['product_mix_all']=X_validation['product_mix_all'].to_list()\n",
    "# X_validation['diic_count']=X_validation['diic_count'].to_list()\n",
    "# X_validation['stv_count']=X_validation['stv_count'].to_list()"
   ]
  },
  {
   "cell_type": "code",
   "execution_count": 543,
   "id": "7c9ca6c2-2171-40db-bad9-d0c86e7b0bb0",
   "metadata": {},
   "outputs": [],
   "source": [
    "X_train.reset_index(drop=True,inplace=True)\n",
    "X_validation.reset_index(drop=True,inplace=True)\n",
    "# X_test.reset_index(drop=True,inplace=True)"
   ]
  },
  {
   "cell_type": "code",
   "execution_count": 188,
   "id": "c94a48d9-92e9-4055-a17a-573061ff8370",
   "metadata": {},
   "outputs": [],
   "source": [
    "# import lightgbm as lgb\n",
    "\n",
    "# model_lgb = lgb.LGBMClassifier(\n",
    "#                         n_jobs=-1,\n",
    "#                         n_estimators=100000,\n",
    "#                         learning_rate=0.01,\n",
    "#                         num_leaves=64,\n",
    "#                         num_threads=4,\n",
    "#                         max_depth=-1,\n",
    "#                         tree_learner='serial',\n",
    "#                         feature_fraction=0.7,\n",
    "#                         bagging_freq=5,\n",
    "#                         bagging_fraction=0.7,\n",
    "#                         verbose=-1,\n",
    "#                         bagging_seed=11\n",
    "#                     )\n",
    "\n",
    "\n",
    "# model_lgb.fit(X_train, Y_train_1, early_stopping_rounds=200, eval_set=[(X_train,Y_train_1),(X_validation, Y_validation_1)],eval_metric=custom_scorer,verbose=500)"
   ]
  },
  {
   "cell_type": "code",
   "execution_count": 499,
   "id": "aa7148de-bba3-46c8-b095-3e1a87f1c79a",
   "metadata": {},
   "outputs": [
    {
     "data": {
      "text/plain": [
       "array([0, 0, 0, ..., 0, 0, 0], dtype=object)"
      ]
     },
     "execution_count": 499,
     "metadata": {},
     "output_type": "execute_result"
    }
   ],
   "source": [
    "Y_train.values.flatten()"
   ]
  },
  {
   "cell_type": "code",
   "execution_count": 501,
   "id": "c5074405-01b4-4ef8-a3da-de083368fd0e",
   "metadata": {},
   "outputs": [
    {
     "data": {
      "text/plain": [
       "<IntegerArray>\n",
       "[0, 1]\n",
       "Length: 2, dtype: Int64"
      ]
     },
     "execution_count": 501,
     "metadata": {},
     "output_type": "execute_result"
    }
   ],
   "source": [
    "Y_train['SMHM_Churn'].unique()"
   ]
  },
  {
   "cell_type": "code",
   "execution_count": null,
   "id": "57e9a811-f5bd-4562-ae35-dc51d10bbabd",
   "metadata": {},
   "outputs": [],
   "source": []
  }
 ],
 "metadata": {
  "kernelspec": {
   "display_name": "Python 3 (ipykernel)",
   "language": "python",
   "name": "python3"
  },
  "language_info": {
   "codemirror_mode": {
    "name": "ipython",
    "version": 3
   },
   "file_extension": ".py",
   "mimetype": "text/x-python",
   "name": "python",
   "nbconvert_exporter": "python",
   "pygments_lexer": "ipython3",
   "version": "3.8.12"
  }
 },
 "nbformat": 4,
 "nbformat_minor": 5
}
