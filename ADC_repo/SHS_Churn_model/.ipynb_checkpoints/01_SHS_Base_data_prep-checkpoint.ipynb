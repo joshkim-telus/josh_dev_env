{
 "cells": [
  {
   "cell_type": "code",
   "execution_count": 1,
   "id": "875b23ab-24d3-41d5-b88c-cd952884f7d1",
   "metadata": {},
   "outputs": [],
   "source": [
    "#### import global modules\n",
    "import os\n",
    "import sys\n",
    "import pandas as pd\n",
    "import numpy as np\n",
    "from pathlib import Path\n",
    "from yaml import safe_load\n",
    "import google.oauth2.credentials\n",
    "from google.cloud import bigquery\n",
    "import gc\n",
    "\n",
    "# Set global vars\n",
    "pth_project = Path(os.getcwd().split('notebooks')[0])\n",
    "pth_data = pth_project / 'data'\n",
    "pth_queries = pth_project / 'core' / 'queries'\n",
    "pth_creds = pth_project / 'conf' / 'local' / 'project_config.yaml'\n",
    "sys.path.insert(0, str(pth_project))\n",
    "d_project_config = safe_load(pth_creds.open())\n",
    "# d_params = safe_load((pth_project / 'core' / 'parameters' / 'common.yaml').open())['data_extract']\n",
    "\n",
    "# import local modules\n",
    "from core.utils.gcp import connect_bq_services\n",
    "# from core.etl.extract import extract_bq_data, extract_pr_codes, format_conv_df, filter_convs\n",
    "\n",
    "# Connect to google services\n",
    "bq_client = connect_bq_services(d_project_config['gcp-project-name'])\n",
    "pd.options.display.max_rows = 100"
   ]
  },
  {
   "cell_type": "code",
   "execution_count": 2,
   "id": "242a26ea-0a62-4fe0-ab0c-daf08a8e2d84",
   "metadata": {},
   "outputs": [],
   "source": [
    "def extract_bq_data(bq_client, sql=None, pth_query=None):\n",
    "    if sql is not None:\n",
    "        df = bq_client.query(sql).to_dataframe()\n",
    "    elif pth_query is not None:\n",
    "        sql = pth_query.read_text()\n",
    "        df = bq_client.query(sql).to_dataframe()\n",
    "    else:\n",
    "        raise ValueError('`sql` or `pth_query` should be set')  \n",
    "    return df"
   ]
  },
  {
   "cell_type": "code",
   "execution_count": 3,
   "id": "554099c7-0e91-4562-8e9e-4513af642b8a",
   "metadata": {},
   "outputs": [],
   "source": [
    "Customer_details='''\n",
    "\n",
    "\n",
    "  --Take LAST day SNAPSHOT FOR active customers -- remove the eligibilty criteria --AND use it AS contract start feature\n",
    "  \n",
    "DECLARE\n",
    "  start_dt_snpsht DATE DEFAULT '2022-12-01';\n",
    "DECLARE\n",
    "  end_dt_snpsht DATE DEFAULT '2023-02-28';\n",
    "WITH\n",
    "  date_sql AS (\n",
    "  SELECT\n",
    "    DATE_TRUNC(DATE_SUB(start_dt_snpsht, INTERVAL 3 month), month) AS eligibility_date ),\n",
    "  \n",
    "  ADC_Customer_Base AS (\n",
    "  SELECT\n",
    "    dealer_customer_id,\n",
    "    customer_id,\n",
    "    primary_login_id,\n",
    "    dealer_name,\n",
    "    DATE(join_date) AS join_date,\n",
    "    account_type_name,\n",
    "    customer_type_name,\n",
    "    CASE\n",
    "      WHEN account_type_name='Standalone' THEN 'Smart_Camera'\n",
    "      WHEN account_type_name='Awareness and Automation' THEN 'Smart_Automation_Plus'\n",
    "    ELSE\n",
    "    'Monitored'\n",
    "  END\n",
    "    AS Package,\n",
    "    DATE_DIFF(end_dt_snpsht,DATE(join_date), MONTH) AS Tenure_months,\n",
    "    1 as Interactivity_flag #Interactivity=Having ADC account\n",
    "\n",
    "  FROM\n",
    "    `cio-datahub-enterprise-pr-183a.src_adc.bq_customer_account_details`\n",
    "  WHERE\n",
    "    DATE(last_updt_ts) <= end_dt_snpsht\n",
    "    AND DATE(last_updt_ts) >= start_dt_snpsht\n",
    "    AND dealer_name in ('TELUS Communications Inc.')\n",
    "    QUALIFY ROW_NUMBER() OVER (PARTITION BY customer_id ORDER BY last_updt_ts DESC) = 1\n",
    "  ORDER BY\n",
    "    join_date,\n",
    "    customer_id ),\n",
    "  \n",
    "Telus_customers AS (\n",
    "  SELECT\n",
    "    cust_bus_cust_id as Telus_ID,\n",
    "    cast (bacct_bus_bacct_num as STRING) AS BAN,\n",
    "    DATE(pi_cntrct_start_ts) AS contract_start_date,\n",
    "    DATE(pi_cntrct_end_ts) AS contract_end_date,\n",
    "    DATE(pi_actvn_ts) as Intial_activation_date,\n",
    "    CASE\n",
    "      WHEN DATE(pi_cntrct_end_ts) = \"9999-12-31\" THEN 'contract_expired'\n",
    "      WHEN DATE_DIFF(DATE(pi_cntrct_end_ts),end_dt_snpsht, DAY) < 0 THEN 'contract_expired'\n",
    "      WHEN DATE_DIFF(DATE(pi_cntrct_end_ts),end_dt_snpsht, DAY) <= 90 THEN 'contract_expiring_within_90_days'\n",
    "      WHEN DATE_DIFF(DATE(pi_cntrct_end_ts),end_dt_snpsht, DAY) > 90 THEN 'contract_expiring_after_90_days'\n",
    "    ELSE\n",
    "    'Undefined_contract_end_date'\n",
    "  END\n",
    "    AS contract_end_status,\n",
    "    DATE_DIFF(end_dt_snpsht,DATE(pi_cntrct_start_ts), MONTH) AS Contract_start_months\n",
    "  FROM\n",
    "    `cio-datahub-enterprise-pr-183a.ent_cust_cust.bq_prod_instnc_snpsht`\n",
    "  WHERE\n",
    "    DATE(prod_instnc_ts) = end_dt_snpsht\n",
    "    AND pi_prod_instnc_typ_cd ='SMHM' #Serice type\n",
    "    AND bus_prod_instnc_src_id = 1001 #BANs that are FOR home services\n",
    "    AND pi_prod_instnc_stat_cd IN ('A')\n",
    "    AND consldt_cust_typ_cd = 'R' QUALIFY ROW_NUMBER() OVER (PARTITION BY cust_bus_cust_id ORDER BY prod_instnc_ts DESC) = 1\n",
    "  ORDER BY\n",
    "    cust_bus_cust_id ),\n",
    "    \n",
    "ADT_migrated_customers as (\n",
    "\n",
    "SELECT distinct udf4 as BAN\n",
    "      ,cust_no\n",
    "      ,co_no\n",
    "      ,branch_no\n",
    "      ,custype_id\n",
    "      ,custstat_id\n",
    "      , 1 as ADT_migrated_customer\n",
    "      \n",
    "\n",
    "  FROM `cio-datahub-enterprise-pr-183a.src_mastermind.bq_customer`\n",
    "  where branch_no in (999100,999500)\n",
    "  and udf4 is not NULL\n",
    "\n",
    "\n",
    "),\n",
    "\n",
    "Merge_data AS (\n",
    "  SELECT\n",
    "    a.*,b.*,c.ADT_migrated_customer\n",
    "  FROM\n",
    "    Telus_customers a\n",
    "  LEFT JOIN\n",
    "    ADC_Customer_Base b\n",
    "  ON\n",
    "    a.Telus_ID=b.dealer_customer_id\n",
    "LEFT JOIN\n",
    "ADT_migrated_customers c\n",
    "on a.BAN=c.BAN)\n",
    "\n",
    "SELECT\n",
    "  *\n",
    "FROM\n",
    "  Merge_data\n",
    "  \n",
    "  \n",
    "'''"
   ]
  },
  {
   "cell_type": "code",
   "execution_count": 4,
   "id": "fa3ccbde-b1c2-451c-861b-41bd8c3c677c",
   "metadata": {},
   "outputs": [],
   "source": [
    "Customer_info=extract_bq_data(bq_client, sql=Customer_details)"
   ]
  },
  {
   "cell_type": "code",
   "execution_count": 5,
   "id": "e8f1add4-c457-4f4e-b38b-4ad7592dc4c3",
   "metadata": {},
   "outputs": [
    {
     "name": "stdout",
     "output_type": "stream",
     "text": [
      "<class 'pandas.core.frame.DataFrame'>\n",
      "RangeIndex: 545128 entries, 0 to 545127\n",
      "Data columns (total 18 columns):\n",
      " #   Column                  Non-Null Count   Dtype \n",
      "---  ------                  --------------   ----- \n",
      " 0   Telus_ID                545128 non-null  object\n",
      " 1   BAN                     545128 non-null  object\n",
      " 2   contract_start_date     395553 non-null  object\n",
      " 3   contract_end_date       545128 non-null  object\n",
      " 4   Intial_activation_date  545128 non-null  object\n",
      " 5   contract_end_status     545128 non-null  object\n",
      " 6   Contract_start_months   395553 non-null  Int64 \n",
      " 7   dealer_customer_id      431480 non-null  object\n",
      " 8   customer_id             431480 non-null  Int64 \n",
      " 9   primary_login_id        431480 non-null  Int64 \n",
      " 10  dealer_name             431480 non-null  object\n",
      " 11  join_date               431480 non-null  object\n",
      " 12  account_type_name       431480 non-null  object\n",
      " 13  customer_type_name      431480 non-null  object\n",
      " 14  Package                 431480 non-null  object\n",
      " 15  Tenure_months           431480 non-null  Int64 \n",
      " 16  Interactivity_flag      431480 non-null  Int64 \n",
      " 17  ADT_migrated_customer   121653 non-null  Int64 \n",
      "dtypes: Int64(6), object(12)\n",
      "memory usage: 78.0+ MB\n"
     ]
    }
   ],
   "source": [
    "Customer_info.info()"
   ]
  },
  {
   "cell_type": "code",
   "execution_count": 7,
   "id": "369937e0-04eb-403a-9fd0-8e9dbb6a6e75",
   "metadata": {},
   "outputs": [
    {
     "data": {
      "text/plain": [
       "Telus_ID                   0.000000\n",
       "BAN                        0.000000\n",
       "contract_start_date       27.438510\n",
       "contract_end_date          0.000000\n",
       "Intial_activation_date     0.000000\n",
       "contract_end_status        0.000000\n",
       "Contract_start_months     27.438510\n",
       "dealer_customer_id        20.847948\n",
       "customer_id               20.847948\n",
       "primary_login_id          20.847948\n",
       "dealer_name               20.847948\n",
       "join_date                 20.847948\n",
       "account_type_name         20.847948\n",
       "customer_type_name        20.847948\n",
       "Package                   20.847948\n",
       "Tenure_months             20.847948\n",
       "Interactivity_flag        20.847948\n",
       "ADT_migrated_customer     77.683590\n",
       "dtype: float64"
      ]
     },
     "execution_count": 7,
     "metadata": {},
     "output_type": "execute_result"
    }
   ],
   "source": [
    "Customer_info.isna().sum()*100/Customer_info.shape[0]"
   ]
  },
  {
   "cell_type": "code",
   "execution_count": 8,
   "id": "b1b5ac12-a03f-4bb3-a942-3a5a36030fb6",
   "metadata": {},
   "outputs": [],
   "source": [
    "Customer_info['Package'].fillna('Unknown_Package',inplace=True)\n",
    "# Customer_info['Tenure_months'].fillna('Unknown_Tenure',inplace=True)\n",
    "Customer_info['dealer_name'].fillna('Unknown_Dealer',inplace=True)\n",
    "Customer_info['Interactivity_flag'].fillna(0,inplace=True)\n",
    "Customer_info['ADT_migrated_customer'].fillna(0,inplace=True)"
   ]
  },
  {
   "cell_type": "code",
   "execution_count": 9,
   "id": "5626d04e-772d-4c01-8dbf-14115e75a118",
   "metadata": {},
   "outputs": [
    {
     "data": {
      "text/plain": [
       "2016-06-06    2360\n",
       "2021-04-01    1671\n",
       "2017-11-01    1313\n",
       "2023-01-06     898\n",
       "2021-12-01     850\n",
       "              ... \n",
       "2005-07-28       1\n",
       "2010-01-08       1\n",
       "2011-10-17       1\n",
       "2013-05-03       1\n",
       "1999-03-01       1\n",
       "Name: contract_start_date, Length: 3736, dtype: int64"
      ]
     },
     "execution_count": 9,
     "metadata": {},
     "output_type": "execute_result"
    }
   ],
   "source": [
    "Customer_info['contract_start_date'].value_counts()"
   ]
  },
  {
   "cell_type": "code",
   "execution_count": 10,
   "id": "78454c24-495f-4d71-891d-30bf1534804c",
   "metadata": {},
   "outputs": [
    {
     "data": {
      "text/plain": [
       "contract_expiring_after_90_days     345023\n",
       "contract_expired                    190735\n",
       "contract_expiring_within_90_days      9370\n",
       "Name: contract_end_status, dtype: int64"
      ]
     },
     "execution_count": 10,
     "metadata": {},
     "output_type": "execute_result"
    }
   ],
   "source": [
    "Customer_info['contract_end_status'].value_counts()"
   ]
  },
  {
   "cell_type": "code",
   "execution_count": 11,
   "id": "d9a9557d-8c5a-446d-bc0d-727d245ba7cd",
   "metadata": {},
   "outputs": [
    {
     "data": {
      "text/plain": [
       "TELUS Communications Inc.    431480\n",
       "Unknown_Dealer               113648\n",
       "Name: dealer_name, dtype: int64"
      ]
     },
     "execution_count": 11,
     "metadata": {},
     "output_type": "execute_result"
    }
   ],
   "source": [
    "Customer_info['dealer_name'].value_counts()"
   ]
  },
  {
   "cell_type": "code",
   "execution_count": 12,
   "id": "54ff9e5a-faf8-4086-b8ce-d85215c7bcad",
   "metadata": {},
   "outputs": [
    {
     "data": {
      "text/plain": [
       "0    423475\n",
       "1    121653\n",
       "Name: ADT_migrated_customer, dtype: Int64"
      ]
     },
     "execution_count": 12,
     "metadata": {},
     "output_type": "execute_result"
    }
   ],
   "source": [
    "Customer_info['ADT_migrated_customer'].value_counts()"
   ]
  },
  {
   "cell_type": "code",
   "execution_count": 13,
   "id": "801c71be-8135-4de0-b76c-87e1360c6ad3",
   "metadata": {},
   "outputs": [
    {
     "data": {
      "text/plain": [
       "0    77.68359\n",
       "1    22.31641\n",
       "Name: ADT_migrated_customer, dtype: Float64"
      ]
     },
     "execution_count": 13,
     "metadata": {},
     "output_type": "execute_result"
    }
   ],
   "source": [
    "Customer_info['ADT_migrated_customer'].value_counts(normalize=True)*100"
   ]
  },
  {
   "cell_type": "code",
   "execution_count": 14,
   "id": "9834decc-823f-498d-83d4-28558dcae11d",
   "metadata": {},
   "outputs": [
    {
     "data": {
      "text/plain": [
       "1    79.152052\n",
       "0    20.847948\n",
       "Name: Interactivity_flag, dtype: Float64"
      ]
     },
     "execution_count": 14,
     "metadata": {},
     "output_type": "execute_result"
    }
   ],
   "source": [
    "Customer_info['Interactivity_flag'].value_counts(normalize=True)*100"
   ]
  },
  {
   "cell_type": "code",
   "execution_count": 15,
   "id": "fd01947d-08bd-4fe0-ad08-2fe379276dfd",
   "metadata": {},
   "outputs": [
    {
     "data": {
      "text/html": [
       "<div>\n",
       "<style scoped>\n",
       "    .dataframe tbody tr th:only-of-type {\n",
       "        vertical-align: middle;\n",
       "    }\n",
       "\n",
       "    .dataframe tbody tr th {\n",
       "        vertical-align: top;\n",
       "    }\n",
       "\n",
       "    .dataframe thead th {\n",
       "        text-align: right;\n",
       "    }\n",
       "</style>\n",
       "<table border=\"1\" class=\"dataframe\">\n",
       "  <thead>\n",
       "    <tr style=\"text-align: right;\">\n",
       "      <th></th>\n",
       "      <th>ADT_migrated_customer</th>\n",
       "      <th>Interactivity_flag</th>\n",
       "      <th>Customer_count</th>\n",
       "      <th>Activation_date</th>\n",
       "    </tr>\n",
       "  </thead>\n",
       "  <tbody>\n",
       "    <tr>\n",
       "      <th>0</th>\n",
       "      <td>0</td>\n",
       "      <td>0</td>\n",
       "      <td>45472</td>\n",
       "      <td>2018-07-06</td>\n",
       "    </tr>\n",
       "    <tr>\n",
       "      <th>1</th>\n",
       "      <td>0</td>\n",
       "      <td>1</td>\n",
       "      <td>367745</td>\n",
       "      <td>2018-06-13</td>\n",
       "    </tr>\n",
       "    <tr>\n",
       "      <th>2</th>\n",
       "      <td>1</td>\n",
       "      <td>0</td>\n",
       "      <td>65918</td>\n",
       "      <td>2022-08-17</td>\n",
       "    </tr>\n",
       "    <tr>\n",
       "      <th>3</th>\n",
       "      <td>1</td>\n",
       "      <td>1</td>\n",
       "      <td>49051</td>\n",
       "      <td>2022-03-10</td>\n",
       "    </tr>\n",
       "  </tbody>\n",
       "</table>\n",
       "</div>"
      ],
      "text/plain": [
       "   ADT_migrated_customer  Interactivity_flag  Customer_count Activation_date\n",
       "0                      0                   0           45472      2018-07-06\n",
       "1                      0                   1          367745      2018-06-13\n",
       "2                      1                   0           65918      2022-08-17\n",
       "3                      1                   1           49051      2022-03-10"
      ]
     },
     "execution_count": 15,
     "metadata": {},
     "output_type": "execute_result"
    }
   ],
   "source": [
    "pd.DataFrame(Customer_info.groupby(['ADT_migrated_customer','Interactivity_flag']).agg(\n",
    "    \n",
    "    Customer_count= ('Telus_ID','nunique'),\n",
    "    Activation_date=('Intial_activation_date','min')\n",
    "    # Email_Opened_count=('OPENED','sum'),\n",
    "    # CT_Opened_count=('CLICKTHROUGH','sum'),\n",
    "    # softbounce_count=('SOFTBOUNCE','sum'),\n",
    "    # Hardbounce_count=('HARDBOUNCE','sum'),\n",
    "    # # Unsub_count=('UNSUBSCRIBE','sum'),\n",
    "    # campaign_date_min=('Campaign_date','min'),\n",
    "    # campaign_date_max=('Campaign_date','max')\n",
    "\n",
    "    \n",
    "    # # Customer_Share= ('customer_id',lambda x:x.count()*100/Merge_DF_4.shape[0])\n",
    "    # Churn_total=('Telus_Churn_Flag',lambda x: x.sum()),\n",
    "    # Churn_rate=('Telus_Churn_Flag',lambda x: x.mean()*100)\n",
    ").reset_index())"
   ]
  },
  {
   "cell_type": "code",
   "execution_count": 369,
   "id": "8cc68ecd-46f9-4950-ba6f-a30099bf22d6",
   "metadata": {},
   "outputs": [
    {
     "data": {
      "text/html": [
       "<div>\n",
       "<style scoped>\n",
       "    .dataframe tbody tr th:only-of-type {\n",
       "        vertical-align: middle;\n",
       "    }\n",
       "\n",
       "    .dataframe tbody tr th {\n",
       "        vertical-align: top;\n",
       "    }\n",
       "\n",
       "    .dataframe thead th {\n",
       "        text-align: right;\n",
       "    }\n",
       "</style>\n",
       "<table border=\"1\" class=\"dataframe\">\n",
       "  <thead>\n",
       "    <tr style=\"text-align: right;\">\n",
       "      <th></th>\n",
       "      <th>Telus_ID</th>\n",
       "      <th>BAN</th>\n",
       "      <th>contract_start_date</th>\n",
       "      <th>contract_end_date</th>\n",
       "      <th>Intial_activation_date</th>\n",
       "      <th>contract_end_status</th>\n",
       "      <th>Contract_start_months</th>\n",
       "      <th>dealer_customer_id</th>\n",
       "      <th>customer_id</th>\n",
       "      <th>primary_login_id</th>\n",
       "      <th>dealer_name</th>\n",
       "      <th>join_date</th>\n",
       "      <th>account_type_name</th>\n",
       "      <th>customer_type_name</th>\n",
       "      <th>Package</th>\n",
       "      <th>Tenure_months</th>\n",
       "      <th>Interactivity_flag</th>\n",
       "      <th>ADT_migrated_customer</th>\n",
       "    </tr>\n",
       "  </thead>\n",
       "  <tbody>\n",
       "    <tr>\n",
       "      <th>56682</th>\n",
       "      <td>105026666</td>\n",
       "      <td>605508523</td>\n",
       "      <td>None</td>\n",
       "      <td>9999-12-31</td>\n",
       "      <td>2022-11-11</td>\n",
       "      <td>contract_expired</td>\n",
       "      <td>&lt;NA&gt;</td>\n",
       "      <td>None</td>\n",
       "      <td>&lt;NA&gt;</td>\n",
       "      <td>&lt;NA&gt;</td>\n",
       "      <td>Unknown_Dealer</td>\n",
       "      <td>None</td>\n",
       "      <td>None</td>\n",
       "      <td>None</td>\n",
       "      <td>Unknown_Package</td>\n",
       "      <td>&lt;NA&gt;</td>\n",
       "      <td>0</td>\n",
       "      <td>1</td>\n",
       "    </tr>\n",
       "  </tbody>\n",
       "</table>\n",
       "</div>"
      ],
      "text/plain": [
       "        Telus_ID        BAN contract_start_date contract_end_date  \\\n",
       "56682  105026666  605508523                None        9999-12-31   \n",
       "\n",
       "      Intial_activation_date contract_end_status  Contract_start_months  \\\n",
       "56682             2022-11-11    contract_expired                   <NA>   \n",
       "\n",
       "      dealer_customer_id  customer_id  primary_login_id     dealer_name  \\\n",
       "56682               None         <NA>              <NA>  Unknown_Dealer   \n",
       "\n",
       "      join_date account_type_name customer_type_name          Package  \\\n",
       "56682      None              None               None  Unknown_Package   \n",
       "\n",
       "       Tenure_months  Interactivity_flag  ADT_migrated_customer  \n",
       "56682           <NA>                   0                      1  "
      ]
     },
     "execution_count": 369,
     "metadata": {},
     "output_type": "execute_result"
    }
   ],
   "source": [
    "\n",
    "Customer_info[Customer_info['BAN']=='605508523']"
   ]
  },
  {
   "cell_type": "code",
   "execution_count": 370,
   "id": "2e73a274-7ae0-47b9-b2d7-a47c2fd6e834",
   "metadata": {},
   "outputs": [
    {
     "data": {
      "text/plain": [
       "1    76.692117\n",
       "0    23.307883\n",
       "Name: Interactivity_flag, dtype: Float64"
      ]
     },
     "execution_count": 370,
     "metadata": {},
     "output_type": "execute_result"
    }
   ],
   "source": [
    "Customer_info['Interactivity_flag'].value_counts(normalize=True)*100"
   ]
  },
  {
   "cell_type": "code",
   "execution_count": null,
   "id": "eeac676c-32c8-4bc6-ace7-d074b8f9684f",
   "metadata": {},
   "outputs": [],
   "source": []
  },
  {
   "cell_type": "code",
   "execution_count": 371,
   "id": "6860913b-d3c2-48c2-8425-d1adea695c47",
   "metadata": {},
   "outputs": [],
   "source": [
    "# ADT_migrated_customers=Customer_info[(Customer_info['ADT_migrated_customer']==1) & (Customer_info['contract_end_status']=='contract_expired') ]\n",
    "# [['Telus_ID','BAN','dealer_name']]"
   ]
  },
  {
   "cell_type": "code",
   "execution_count": 372,
   "id": "8390bf9a-3402-4fa8-8955-ea11e98eaa38",
   "metadata": {},
   "outputs": [],
   "source": [
    "# ADT_migrated_customers.info()"
   ]
  },
  {
   "cell_type": "code",
   "execution_count": 373,
   "id": "8cc46260-26f8-4540-9378-b6e7df15af3b",
   "metadata": {},
   "outputs": [],
   "source": [
    "# ADT_migrated_customers.head()[['Telus_ID','BAN']]"
   ]
  },
  {
   "cell_type": "code",
   "execution_count": 374,
   "id": "8429bb9f-90eb-455f-9f41-73ccbe0b8e2e",
   "metadata": {},
   "outputs": [],
   "source": [
    "# ADT_migrated_customers['dealer_name'].value_counts()"
   ]
  },
  {
   "cell_type": "code",
   "execution_count": 375,
   "id": "26682d7d-5243-439b-b9a5-382f46d8cdf0",
   "metadata": {},
   "outputs": [
    {
     "data": {
      "text/plain": [
       "Monitored                231671\n",
       "Unknown_Package          115760\n",
       "Smart_Automation_Plus    102590\n",
       "Smart_Camera              46635\n",
       "Name: Package, dtype: int64"
      ]
     },
     "execution_count": 375,
     "metadata": {},
     "output_type": "execute_result"
    }
   ],
   "source": [
    "Customer_info['Package'].value_counts()"
   ]
  },
  {
   "cell_type": "code",
   "execution_count": null,
   "id": "4a04eed0-f72b-45d9-a3ad-6ef00b2a89f5",
   "metadata": {},
   "outputs": [],
   "source": []
  },
  {
   "cell_type": "code",
   "execution_count": null,
   "id": "0f38f907-345e-4b39-ab2b-b7e2fe19a41b",
   "metadata": {},
   "outputs": [],
   "source": []
  },
  {
   "cell_type": "code",
   "execution_count": 376,
   "id": "7593b44b-cf45-46c0-8506-237f08ff89e8",
   "metadata": {},
   "outputs": [],
   "source": [
    "BAN_list=Customer_info['BAN'].value_counts().rename_axis('BAN').reset_index(name='unique_counts')"
   ]
  },
  {
   "cell_type": "code",
   "execution_count": 377,
   "id": "3acf84f7-f403-4bb1-b7e9-64e2e1d08832",
   "metadata": {},
   "outputs": [
    {
     "data": {
      "text/html": [
       "<div>\n",
       "<style scoped>\n",
       "    .dataframe tbody tr th:only-of-type {\n",
       "        vertical-align: middle;\n",
       "    }\n",
       "\n",
       "    .dataframe tbody tr th {\n",
       "        vertical-align: top;\n",
       "    }\n",
       "\n",
       "    .dataframe thead th {\n",
       "        text-align: right;\n",
       "    }\n",
       "</style>\n",
       "<table border=\"1\" class=\"dataframe\">\n",
       "  <thead>\n",
       "    <tr style=\"text-align: right;\">\n",
       "      <th></th>\n",
       "      <th>BAN</th>\n",
       "      <th>unique_counts</th>\n",
       "    </tr>\n",
       "  </thead>\n",
       "  <tbody>\n",
       "    <tr>\n",
       "      <th>0</th>\n",
       "      <td>605255312</td>\n",
       "      <td>27</td>\n",
       "    </tr>\n",
       "    <tr>\n",
       "      <th>1</th>\n",
       "      <td>604663242</td>\n",
       "      <td>17</td>\n",
       "    </tr>\n",
       "    <tr>\n",
       "      <th>2</th>\n",
       "      <td>601368567</td>\n",
       "      <td>15</td>\n",
       "    </tr>\n",
       "    <tr>\n",
       "      <th>3</th>\n",
       "      <td>604318996</td>\n",
       "      <td>12</td>\n",
       "    </tr>\n",
       "    <tr>\n",
       "      <th>4</th>\n",
       "      <td>605038967</td>\n",
       "      <td>11</td>\n",
       "    </tr>\n",
       "    <tr>\n",
       "      <th>...</th>\n",
       "      <td>...</td>\n",
       "      <td>...</td>\n",
       "    </tr>\n",
       "    <tr>\n",
       "      <th>482745</th>\n",
       "      <td>605535063</td>\n",
       "      <td>1</td>\n",
       "    </tr>\n",
       "    <tr>\n",
       "      <th>482746</th>\n",
       "      <td>605534917</td>\n",
       "      <td>1</td>\n",
       "    </tr>\n",
       "    <tr>\n",
       "      <th>482747</th>\n",
       "      <td>605537911</td>\n",
       "      <td>1</td>\n",
       "    </tr>\n",
       "    <tr>\n",
       "      <th>482748</th>\n",
       "      <td>605534339</td>\n",
       "      <td>1</td>\n",
       "    </tr>\n",
       "    <tr>\n",
       "      <th>482749</th>\n",
       "      <td>603899148</td>\n",
       "      <td>1</td>\n",
       "    </tr>\n",
       "  </tbody>\n",
       "</table>\n",
       "<p>482750 rows × 2 columns</p>\n",
       "</div>"
      ],
      "text/plain": [
       "              BAN  unique_counts\n",
       "0       605255312             27\n",
       "1       604663242             17\n",
       "2       601368567             15\n",
       "3       604318996             12\n",
       "4       605038967             11\n",
       "...           ...            ...\n",
       "482745  605535063              1\n",
       "482746  605534917              1\n",
       "482747  605537911              1\n",
       "482748  605534339              1\n",
       "482749  603899148              1\n",
       "\n",
       "[482750 rows x 2 columns]"
      ]
     },
     "execution_count": 377,
     "metadata": {},
     "output_type": "execute_result"
    }
   ],
   "source": [
    "BAN_list"
   ]
  },
  {
   "cell_type": "code",
   "execution_count": 378,
   "id": "2854e22e-9203-4dc9-9ebf-b92ae488169d",
   "metadata": {},
   "outputs": [],
   "source": [
    "BAN_list_1=BAN_list[BAN_list.unique_counts==1]"
   ]
  },
  {
   "cell_type": "code",
   "execution_count": 379,
   "id": "03fe3134-4d41-4934-a85a-4f2d9a669263",
   "metadata": {},
   "outputs": [
    {
     "name": "stdout",
     "output_type": "stream",
     "text": [
      "<class 'pandas.core.frame.DataFrame'>\n",
      "Int64Index: 470413 entries, 12337 to 482749\n",
      "Data columns (total 2 columns):\n",
      " #   Column         Non-Null Count   Dtype \n",
      "---  ------         --------------   ----- \n",
      " 0   BAN            470413 non-null  object\n",
      " 1   unique_counts  470413 non-null  int64 \n",
      "dtypes: int64(1), object(1)\n",
      "memory usage: 10.8+ MB\n"
     ]
    }
   ],
   "source": [
    "BAN_list_1.info()"
   ]
  },
  {
   "cell_type": "code",
   "execution_count": 380,
   "id": "e743628d-d271-4fdc-b84c-439b9ae865ff",
   "metadata": {},
   "outputs": [],
   "source": [
    "Customer_info_1=Customer_info.merge(BAN_list_1[['BAN']],on='BAN',how='inner')"
   ]
  },
  {
   "cell_type": "code",
   "execution_count": 381,
   "id": "fb11d444-3129-47a6-977f-f3816cd69fab",
   "metadata": {},
   "outputs": [
    {
     "data": {
      "text/html": [
       "<div>\n",
       "<style scoped>\n",
       "    .dataframe tbody tr th:only-of-type {\n",
       "        vertical-align: middle;\n",
       "    }\n",
       "\n",
       "    .dataframe tbody tr th {\n",
       "        vertical-align: top;\n",
       "    }\n",
       "\n",
       "    .dataframe thead th {\n",
       "        text-align: right;\n",
       "    }\n",
       "</style>\n",
       "<table border=\"1\" class=\"dataframe\">\n",
       "  <thead>\n",
       "    <tr style=\"text-align: right;\">\n",
       "      <th></th>\n",
       "      <th>BAN</th>\n",
       "      <th>unique_counts</th>\n",
       "    </tr>\n",
       "  </thead>\n",
       "  <tbody>\n",
       "    <tr>\n",
       "      <th>0</th>\n",
       "      <td>124963305</td>\n",
       "      <td>1</td>\n",
       "    </tr>\n",
       "    <tr>\n",
       "      <th>1</th>\n",
       "      <td>604954988</td>\n",
       "      <td>1</td>\n",
       "    </tr>\n",
       "    <tr>\n",
       "      <th>2</th>\n",
       "      <td>604949306</td>\n",
       "      <td>1</td>\n",
       "    </tr>\n",
       "    <tr>\n",
       "      <th>3</th>\n",
       "      <td>604951430</td>\n",
       "      <td>1</td>\n",
       "    </tr>\n",
       "    <tr>\n",
       "      <th>4</th>\n",
       "      <td>604918507</td>\n",
       "      <td>1</td>\n",
       "    </tr>\n",
       "    <tr>\n",
       "      <th>...</th>\n",
       "      <td>...</td>\n",
       "      <td>...</td>\n",
       "    </tr>\n",
       "    <tr>\n",
       "      <th>470408</th>\n",
       "      <td>605616689</td>\n",
       "      <td>1</td>\n",
       "    </tr>\n",
       "    <tr>\n",
       "      <th>470409</th>\n",
       "      <td>605615734</td>\n",
       "      <td>1</td>\n",
       "    </tr>\n",
       "    <tr>\n",
       "      <th>470410</th>\n",
       "      <td>605612678</td>\n",
       "      <td>1</td>\n",
       "    </tr>\n",
       "    <tr>\n",
       "      <th>470411</th>\n",
       "      <td>605610932</td>\n",
       "      <td>1</td>\n",
       "    </tr>\n",
       "    <tr>\n",
       "      <th>470412</th>\n",
       "      <td>603899148</td>\n",
       "      <td>1</td>\n",
       "    </tr>\n",
       "  </tbody>\n",
       "</table>\n",
       "<p>470413 rows × 2 columns</p>\n",
       "</div>"
      ],
      "text/plain": [
       "              BAN  unique_counts\n",
       "0       124963305              1\n",
       "1       604954988              1\n",
       "2       604949306              1\n",
       "3       604951430              1\n",
       "4       604918507              1\n",
       "...           ...            ...\n",
       "470408  605616689              1\n",
       "470409  605615734              1\n",
       "470410  605612678              1\n",
       "470411  605610932              1\n",
       "470412  603899148              1\n",
       "\n",
       "[470413 rows x 2 columns]"
      ]
     },
     "execution_count": 381,
     "metadata": {},
     "output_type": "execute_result"
    }
   ],
   "source": [
    "Customer_info_1['BAN'].value_counts().rename_axis('BAN').reset_index(name='unique_counts')"
   ]
  },
  {
   "cell_type": "code",
   "execution_count": 382,
   "id": "67b93c7b-d831-4cc6-b112-b51adc82c4ac",
   "metadata": {},
   "outputs": [
    {
     "name": "stdout",
     "output_type": "stream",
     "text": [
      "<class 'pandas.core.frame.DataFrame'>\n",
      "Int64Index: 470413 entries, 0 to 470412\n",
      "Data columns (total 18 columns):\n",
      " #   Column                  Non-Null Count   Dtype \n",
      "---  ------                  --------------   ----- \n",
      " 0   Telus_ID                470413 non-null  object\n",
      " 1   BAN                     470413 non-null  object\n",
      " 2   contract_start_date     338253 non-null  object\n",
      " 3   contract_end_date       470413 non-null  object\n",
      " 4   Intial_activation_date  470413 non-null  object\n",
      " 5   contract_end_status     470413 non-null  object\n",
      " 6   Contract_start_months   338253 non-null  Int64 \n",
      " 7   dealer_customer_id      360226 non-null  object\n",
      " 8   customer_id             360226 non-null  Int64 \n",
      " 9   primary_login_id        360226 non-null  Int64 \n",
      " 10  dealer_name             470413 non-null  object\n",
      " 11  join_date               360226 non-null  object\n",
      " 12  account_type_name       360226 non-null  object\n",
      " 13  customer_type_name      360226 non-null  object\n",
      " 14  Package                 470413 non-null  object\n",
      " 15  Tenure_months           360226 non-null  Int64 \n",
      " 16  Interactivity_flag      470413 non-null  Int64 \n",
      " 17  ADT_migrated_customer   470413 non-null  Int64 \n",
      "dtypes: Int64(6), object(12)\n",
      "memory usage: 70.9+ MB\n"
     ]
    }
   ],
   "source": [
    "Customer_info_1.info()"
   ]
  },
  {
   "cell_type": "code",
   "execution_count": 383,
   "id": "bd9e1ad5-3e83-442b-8d95-54ffd4cfdcfe",
   "metadata": {},
   "outputs": [
    {
     "data": {
      "text/html": [
       "<div>\n",
       "<style scoped>\n",
       "    .dataframe tbody tr th:only-of-type {\n",
       "        vertical-align: middle;\n",
       "    }\n",
       "\n",
       "    .dataframe tbody tr th {\n",
       "        vertical-align: top;\n",
       "    }\n",
       "\n",
       "    .dataframe thead th {\n",
       "        text-align: right;\n",
       "    }\n",
       "</style>\n",
       "<table border=\"1\" class=\"dataframe\">\n",
       "  <thead>\n",
       "    <tr style=\"text-align: right;\">\n",
       "      <th></th>\n",
       "      <th>Telus_ID</th>\n",
       "      <th>BAN</th>\n",
       "      <th>contract_start_date</th>\n",
       "      <th>contract_end_date</th>\n",
       "      <th>Intial_activation_date</th>\n",
       "      <th>contract_end_status</th>\n",
       "      <th>Contract_start_months</th>\n",
       "      <th>dealer_customer_id</th>\n",
       "      <th>customer_id</th>\n",
       "      <th>primary_login_id</th>\n",
       "      <th>dealer_name</th>\n",
       "      <th>join_date</th>\n",
       "      <th>account_type_name</th>\n",
       "      <th>customer_type_name</th>\n",
       "      <th>Package</th>\n",
       "      <th>Tenure_months</th>\n",
       "      <th>Interactivity_flag</th>\n",
       "      <th>ADT_migrated_customer</th>\n",
       "    </tr>\n",
       "  </thead>\n",
       "  <tbody>\n",
       "    <tr>\n",
       "      <th>0</th>\n",
       "      <td>10029227</td>\n",
       "      <td>124963305</td>\n",
       "      <td>None</td>\n",
       "      <td>9999-12-31</td>\n",
       "      <td>2019-06-13</td>\n",
       "      <td>contract_expired</td>\n",
       "      <td>&lt;NA&gt;</td>\n",
       "      <td>10029227</td>\n",
       "      <td>7486745</td>\n",
       "      <td>8729565</td>\n",
       "      <td>TELUS Communications Inc.</td>\n",
       "      <td>2019-06-13</td>\n",
       "      <td>Security System</td>\n",
       "      <td>Customer</td>\n",
       "      <td>Monitored</td>\n",
       "      <td>43</td>\n",
       "      <td>1</td>\n",
       "      <td>0</td>\n",
       "    </tr>\n",
       "    <tr>\n",
       "      <th>1</th>\n",
       "      <td>10034968</td>\n",
       "      <td>125458749</td>\n",
       "      <td>2018-10-31</td>\n",
       "      <td>2021-10-31</td>\n",
       "      <td>2018-10-30</td>\n",
       "      <td>contract_expired</td>\n",
       "      <td>51</td>\n",
       "      <td>10034968</td>\n",
       "      <td>6701443</td>\n",
       "      <td>7761156</td>\n",
       "      <td>TELUS Communications Inc.</td>\n",
       "      <td>2018-10-30</td>\n",
       "      <td>Security System</td>\n",
       "      <td>Customer</td>\n",
       "      <td>Monitored</td>\n",
       "      <td>51</td>\n",
       "      <td>1</td>\n",
       "      <td>0</td>\n",
       "    </tr>\n",
       "    <tr>\n",
       "      <th>2</th>\n",
       "      <td>100615457</td>\n",
       "      <td>604238304</td>\n",
       "      <td>2020-04-14</td>\n",
       "      <td>2023-04-14</td>\n",
       "      <td>2020-04-14</td>\n",
       "      <td>contract_expiring_within_90_days</td>\n",
       "      <td>33</td>\n",
       "      <td>100615457</td>\n",
       "      <td>8931781</td>\n",
       "      <td>10496253</td>\n",
       "      <td>TELUS Communications Inc.</td>\n",
       "      <td>2020-04-19</td>\n",
       "      <td>Security System</td>\n",
       "      <td>Customer</td>\n",
       "      <td>Monitored</td>\n",
       "      <td>33</td>\n",
       "      <td>1</td>\n",
       "      <td>0</td>\n",
       "    </tr>\n",
       "    <tr>\n",
       "      <th>3</th>\n",
       "      <td>100704347</td>\n",
       "      <td>604257986</td>\n",
       "      <td>2017-01-01</td>\n",
       "      <td>2020-01-01</td>\n",
       "      <td>2020-05-20</td>\n",
       "      <td>contract_expired</td>\n",
       "      <td>72</td>\n",
       "      <td>100704347</td>\n",
       "      <td>2808186</td>\n",
       "      <td>3093101</td>\n",
       "      <td>TELUS Communications Inc.</td>\n",
       "      <td>2014-04-29</td>\n",
       "      <td>Security System</td>\n",
       "      <td>Customer</td>\n",
       "      <td>Monitored</td>\n",
       "      <td>105</td>\n",
       "      <td>1</td>\n",
       "      <td>0</td>\n",
       "    </tr>\n",
       "    <tr>\n",
       "      <th>4</th>\n",
       "      <td>100720822</td>\n",
       "      <td>604262437</td>\n",
       "      <td>2020-07-31</td>\n",
       "      <td>2023-07-31</td>\n",
       "      <td>2020-05-22</td>\n",
       "      <td>contract_expiring_after_90_days</td>\n",
       "      <td>30</td>\n",
       "      <td>100720822</td>\n",
       "      <td>1989596</td>\n",
       "      <td>2153711</td>\n",
       "      <td>TELUS Communications Inc.</td>\n",
       "      <td>2013-04-26</td>\n",
       "      <td>Security System</td>\n",
       "      <td>Customer</td>\n",
       "      <td>Monitored</td>\n",
       "      <td>117</td>\n",
       "      <td>1</td>\n",
       "      <td>0</td>\n",
       "    </tr>\n",
       "  </tbody>\n",
       "</table>\n",
       "</div>"
      ],
      "text/plain": [
       "    Telus_ID        BAN contract_start_date contract_end_date  \\\n",
       "0   10029227  124963305                None        9999-12-31   \n",
       "1   10034968  125458749          2018-10-31        2021-10-31   \n",
       "2  100615457  604238304          2020-04-14        2023-04-14   \n",
       "3  100704347  604257986          2017-01-01        2020-01-01   \n",
       "4  100720822  604262437          2020-07-31        2023-07-31   \n",
       "\n",
       "  Intial_activation_date               contract_end_status  \\\n",
       "0             2019-06-13                  contract_expired   \n",
       "1             2018-10-30                  contract_expired   \n",
       "2             2020-04-14  contract_expiring_within_90_days   \n",
       "3             2020-05-20                  contract_expired   \n",
       "4             2020-05-22   contract_expiring_after_90_days   \n",
       "\n",
       "   Contract_start_months dealer_customer_id  customer_id  primary_login_id  \\\n",
       "0                   <NA>           10029227      7486745           8729565   \n",
       "1                     51           10034968      6701443           7761156   \n",
       "2                     33          100615457      8931781          10496253   \n",
       "3                     72          100704347      2808186           3093101   \n",
       "4                     30          100720822      1989596           2153711   \n",
       "\n",
       "                 dealer_name   join_date account_type_name customer_type_name  \\\n",
       "0  TELUS Communications Inc.  2019-06-13   Security System           Customer   \n",
       "1  TELUS Communications Inc.  2018-10-30   Security System           Customer   \n",
       "2  TELUS Communications Inc.  2020-04-19   Security System           Customer   \n",
       "3  TELUS Communications Inc.  2014-04-29   Security System           Customer   \n",
       "4  TELUS Communications Inc.  2013-04-26   Security System           Customer   \n",
       "\n",
       "     Package  Tenure_months  Interactivity_flag  ADT_migrated_customer  \n",
       "0  Monitored             43                   1                      0  \n",
       "1  Monitored             51                   1                      0  \n",
       "2  Monitored             33                   1                      0  \n",
       "3  Monitored            105                   1                      0  \n",
       "4  Monitored            117                   1                      0  "
      ]
     },
     "execution_count": 383,
     "metadata": {},
     "output_type": "execute_result"
    }
   ],
   "source": [
    "Customer_info_1.head()"
   ]
  },
  {
   "cell_type": "code",
   "execution_count": 384,
   "id": "b1745b71-63c2-4463-acca-1824ec0c660f",
   "metadata": {},
   "outputs": [
    {
     "data": {
      "text/plain": [
       "2       15371\n",
       "5       14235\n",
       "3       14205\n",
       "0       13774\n",
       "1       13495\n",
       "        ...  \n",
       "9868        1\n",
       "9654        1\n",
       "253         1\n",
       "9858        1\n",
       "311         1\n",
       "Name: Contract_start_months, Length: 332, dtype: Int64"
      ]
     },
     "execution_count": 384,
     "metadata": {},
     "output_type": "execute_result"
    }
   ],
   "source": [
    "Customer_info_1['Contract_start_months'].value_counts()"
   ]
  },
  {
   "cell_type": "code",
   "execution_count": 385,
   "id": "c7f4ee2a-dc52-4fde-957f-1f678aeacb90",
   "metadata": {},
   "outputs": [
    {
     "data": {
      "text/plain": [
       "2      17613\n",
       "3      15796\n",
       "5      15627\n",
       "4      14703\n",
       "6      14513\n",
       "       ...  \n",
       "142        1\n",
       "154        1\n",
       "129        1\n",
       "147        1\n",
       "144        1\n",
       "Name: Tenure_months, Length: 148, dtype: Int64"
      ]
     },
     "execution_count": 385,
     "metadata": {},
     "output_type": "execute_result"
    }
   ],
   "source": [
    "Customer_info_1['Tenure_months'].value_counts()"
   ]
  },
  {
   "cell_type": "code",
   "execution_count": 386,
   "id": "e58b9dff-7bf5-4cc7-aa1d-9a06d9a02041",
   "metadata": {},
   "outputs": [],
   "source": [
    "# Customer_info_1[Customer_info_1.Tenure_months==0]"
   ]
  },
  {
   "cell_type": "code",
   "execution_count": 387,
   "id": "923cf533-8bf5-4fab-b943-5bf97fc5e0f8",
   "metadata": {},
   "outputs": [
    {
     "data": {
      "text/html": [
       "<div>\n",
       "<style scoped>\n",
       "    .dataframe tbody tr th:only-of-type {\n",
       "        vertical-align: middle;\n",
       "    }\n",
       "\n",
       "    .dataframe tbody tr th {\n",
       "        vertical-align: top;\n",
       "    }\n",
       "\n",
       "    .dataframe thead th {\n",
       "        text-align: right;\n",
       "    }\n",
       "</style>\n",
       "<table border=\"1\" class=\"dataframe\">\n",
       "  <thead>\n",
       "    <tr style=\"text-align: right;\">\n",
       "      <th></th>\n",
       "      <th>ADT_migrated_customer</th>\n",
       "      <th>Interactivity_flag</th>\n",
       "      <th>Customer_count</th>\n",
       "    </tr>\n",
       "  </thead>\n",
       "  <tbody>\n",
       "    <tr>\n",
       "      <th>0</th>\n",
       "      <td>0</td>\n",
       "      <td>0</td>\n",
       "      <td>45625</td>\n",
       "    </tr>\n",
       "    <tr>\n",
       "      <th>1</th>\n",
       "      <td>0</td>\n",
       "      <td>1</td>\n",
       "      <td>350787</td>\n",
       "    </tr>\n",
       "    <tr>\n",
       "      <th>2</th>\n",
       "      <td>1</td>\n",
       "      <td>0</td>\n",
       "      <td>64562</td>\n",
       "    </tr>\n",
       "    <tr>\n",
       "      <th>3</th>\n",
       "      <td>1</td>\n",
       "      <td>1</td>\n",
       "      <td>9439</td>\n",
       "    </tr>\n",
       "  </tbody>\n",
       "</table>\n",
       "</div>"
      ],
      "text/plain": [
       "   ADT_migrated_customer  Interactivity_flag  Customer_count\n",
       "0                      0                   0           45625\n",
       "1                      0                   1          350787\n",
       "2                      1                   0           64562\n",
       "3                      1                   1            9439"
      ]
     },
     "execution_count": 387,
     "metadata": {},
     "output_type": "execute_result"
    }
   ],
   "source": [
    "pd.DataFrame(Customer_info_1.groupby(['ADT_migrated_customer','Interactivity_flag']).agg(\n",
    "    \n",
    "    Customer_count= ('Telus_ID','nunique'),\n",
    "    # Email_Opened_count=('OPENED','sum'),\n",
    "    # CT_Opened_count=('CLICKTHROUGH','sum'),\n",
    "    # softbounce_count=('SOFTBOUNCE','sum'),\n",
    "    # Hardbounce_count=('HARDBOUNCE','sum'),\n",
    "    # # Unsub_count=('UNSUBSCRIBE','sum'),\n",
    "    # campaign_date_min=('Campaign_date','min'),\n",
    "    # campaign_date_max=('Campaign_date','max')\n",
    "\n",
    "    \n",
    "    # # Customer_Share= ('customer_id',lambda x:x.count()*100/Merge_DF_4.shape[0])\n",
    "    # Churn_total=('Telus_Churn_Flag',lambda x: x.sum()),\n",
    "    # Churn_rate=('Telus_Churn_Flag',lambda x: x.mean()*100)\n",
    ").reset_index())"
   ]
  },
  {
   "cell_type": "code",
   "execution_count": 357,
   "id": "0e3ba90f-5914-4b4d-9b35-e0fb2e0ac6db",
   "metadata": {},
   "outputs": [],
   "source": [
    "config= bigquery.job.LoadJobConfig()\n",
    "\n",
    "# config._properties['timePartitioning'] = {'field': 'Month_Year'}\n",
    "config.write_disposition = bigquery.WriteDisposition.WRITE_TRUNCATE\n",
    "\n",
    "Table_BQ = 'SHS.SHS_churn_model_base_trn_data_dec22_feb23'\n",
    "\n",
    "bq_table_instance= bq_client.load_table_from_dataframe(Customer_info_1, Table_BQ,job_config=config)"
   ]
  },
  {
   "cell_type": "code",
   "execution_count": null,
   "id": "7ee10172-ca05-495f-8972-672ab9b25cf1",
   "metadata": {},
   "outputs": [],
   "source": []
  }
 ],
 "metadata": {
  "kernelspec": {
   "display_name": "Python 3 (ipykernel)",
   "language": "python",
   "name": "python3"
  },
  "language_info": {
   "codemirror_mode": {
    "name": "ipython",
    "version": 3
   },
   "file_extension": ".py",
   "mimetype": "text/x-python",
   "name": "python",
   "nbconvert_exporter": "python",
   "pygments_lexer": "ipython3",
   "version": "3.8.12"
  }
 },
 "nbformat": 4,
 "nbformat_minor": 5
}
