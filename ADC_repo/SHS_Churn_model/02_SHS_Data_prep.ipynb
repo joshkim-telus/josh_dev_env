{
 "cells": [
  {
   "cell_type": "code",
   "execution_count": null,
   "id": "d2dfb833-8dcc-4324-ba3c-6b2a36c25319",
   "metadata": {},
   "outputs": [],
   "source": [
    "#### import global modules\n",
    "import os\n",
    "import sys\n",
    "import pandas as pd\n",
    "import numpy as np\n",
    "from pathlib import Path\n",
    "from yaml import safe_load\n",
    "import google.oauth2.credentials\n",
    "from google.cloud import bigquery\n",
    "import gc\n",
    "\n",
    "# Set global vars\n",
    "pth_project = Path(os.getcwd().split('notebooks')[0])\n",
    "pth_data = pth_project / 'data'\n",
    "pth_queries = pth_project / 'core' / 'queries'\n",
    "pth_creds = pth_project / 'conf' / 'local' / 'project_config.yaml'\n",
    "sys.path.insert(0, str(pth_project))\n",
    "d_project_config = safe_load(pth_creds.open())\n",
    "# d_params = safe_load((pth_project / 'core' / 'parameters' / 'common.yaml').open())['data_extract']\n",
    "\n",
    "# import local modules\n",
    "from core.utils.gcp import connect_bq_services\n",
    "# from core.etl.extract import extract_bq_data, extract_pr_codes, format_conv_df, filter_convs\n",
    "\n",
    "# Connect to google services\n",
    "bq_client = connect_bq_services(d_project_config['gcp-project-name'])\n",
    "pd.options.display.max_rows = 100"
   ]
  },
  {
   "cell_type": "code",
   "execution_count": null,
   "id": "9ccda073-f1fb-41b7-a685-201c4724c607",
   "metadata": {},
   "outputs": [],
   "source": [
    "def extract_bq_data(bq_client, sql=None, pth_query=None):\n",
    "    if sql is not None:\n",
    "        df = bq_client.query(sql).to_dataframe()\n",
    "    elif pth_query is not None:\n",
    "        sql = pth_query.read_text()\n",
    "        df = bq_client.query(sql).to_dataframe()\n",
    "    else:\n",
    "        raise ValueError('`sql` or `pth_query` should be set')  \n",
    "    return df"
   ]
  },
  {
   "cell_type": "code",
   "execution_count": null,
   "id": "0223f580-e2c1-4db0-a68a-3ad99a7d8b39",
   "metadata": {},
   "outputs": [],
   "source": [
    "Query='''\n",
    "\n",
    "\n",
    "\n",
    "\n",
    "DECLARE\n",
    "  start_dt_snpsht DATE DEFAULT '2022-12-01';\n",
    "DECLARE\n",
    "  end_dt_snpsht DATE DEFAULT '2023-02-28';\n",
    "DECLARE\n",
    "  churn_dt_snpsht_start DATE DEFAULT '2023-03-01';\n",
    "DECLARE\n",
    "  churn_dt_snpsht_end DATE DEFAULT '2023-03-31';  \n",
    "\n",
    "\n",
    "\n",
    "\n",
    "WITH Customer_Base as (select * from `divgpras-pr-579355.SHS.SHS_churn_model_base_trn_data_dec22_feb23`)\n",
    "\n",
    ", ADC_BP as ( \n",
    "select *,(Best_Practices_1+Best_Practices_2+Best_Practices_3+Best_Practices_4+Best_Practices_5+Best_Practices_6) as Best_Practice_All\n",
    "from \n",
    "\n",
    "(\n",
    "  -- #1 from_item\n",
    "  SELECT \n",
    "    customer_id,\n",
    "    best_practices_id,\n",
    "     case when best_practices_ind=True then 1 else 0 end as Best_practices_flag,\n",
    "\n",
    "  FROM `cio-datahub-enterprise-pr-183a.src_adc.bq_customer_best_practice`\n",
    "  where DATE(dt_last_calculate_utc) <= end_dt_snpsht\n",
    "  QUALIFY ROW_NUMBER() OVER (PARTITION BY customer_id,best_practices_id ORDER BY last_updt_ts DESC) = 1\n",
    ")\n",
    "PIVOT\n",
    "(\n",
    "  -- #2 aggregate\n",
    "  sum(Best_practices_flag) AS Best_Practices\n",
    "  -- #3 pivot_column\n",
    "  FOR best_practices_id in (1,2,3,4,5,6)\n",
    ")\n",
    "\n",
    ")\n",
    "\n",
    "\n",
    ",ADC_arming AS (\n",
    "\n",
    "With date_sql as (\n",
    "select  count(distinct date(date)) as count_of_dates from `cio-datahub-enterprise-pr-183a.src_adc.bq_aggregate_daily_arming_commands`\n",
    "where date(date)<= end_dt_snpsht and date(date)>= start_dt_snpsht\n",
    "\n",
    ")\n",
    "\n",
    "select \n",
    "    id_cust as customer_id\n",
    "    ,sum(count_arm_commands) as sum_arm_commands\n",
    "    ,sum(count_disarm_commands) as sum_disarm_commands\n",
    "    ,count (distinct date(date)) as number_days_arming_disarming\n",
    "    , (select count_of_dates from date_sql ) as count_of_dates_arming\n",
    "    , round(count (distinct date(date))*100/(select max(count_of_dates) from date_sql),0) as arming_consistency\n",
    "    , round(sum(count_arm_commands)/(count (distinct date(date))),0) as Avg_arm_per_day\n",
    "    ,round(sum(count_disarm_commands)/(count (distinct date(date))),0) as Avg_disarm_per_day\n",
    "from `cio-datahub-enterprise-pr-183a.src_adc.bq_aggregate_daily_arming_commands`\n",
    "where date(date)<= end_dt_snpsht and date(date)>= start_dt_snpsht\n",
    "group by customer_id\n",
    "order by number_days_arming_disarming desc\n",
    "\n",
    ")\n",
    "\n",
    "\n",
    ", ADC_login as (\n",
    "\n",
    "with date_sql as (\n",
    "select  count(distinct date(login_dt_utc)) as count_of_dates from `cio-datahub-enterprise-pr-183a.src_adc.bq_customer_daily_logins`\n",
    "where date(login_dt_utc)<= end_dt_snpsht and date(login_dt_utc)>= start_dt_snpsht\n",
    "\n",
    ")\n",
    "\n",
    "select customer_id,sum(login_count) as sum_login_count,count (distinct date(login_dt_utc)) as number_of_login_days, (select count_of_dates from date_sql ) as count_of_dates_login, round(count (distinct date(login_dt_utc))*100/(select max(count_of_dates) from date_sql),0) as login_consistency, round(sum(login_count)/(count (distinct date(login_dt_utc))),0) as Avg_login_per_day\n",
    "from `cio-datahub-enterprise-pr-183a.src_adc.bq_customer_daily_logins`\n",
    "where date(login_dt_utc)<= end_dt_snpsht and date(login_dt_utc)>= start_dt_snpsht\n",
    "group by customer_id\n",
    "order by login_consistency desc\n",
    "\n",
    "\n",
    "\n",
    ")\n",
    "\n",
    "\n",
    ", cte_product_mix AS (\n",
    "  \n",
    "SELECT distinct cast (ffh_prod.bacct_bus_bacct_num as STRING) AS ban,\n",
    "         COUNT(DISTINCT CASE WHEN ffh_prod.pi_prod_instnc_typ_cd IN ('SING', 'HSIC', 'TTV', 'SMHM', 'STV', 'DIIC','C') THEN ffh_prod.pi_prod_instnc_typ_cd ELSE NULL END) AS product_mix_all,\n",
    "         COUNT(DISTINCT CASE WHEN ffh_prod.pi_prod_instnc_typ_cd = 'HSIC' THEN ffh_prod.bus_prod_instnc_id ELSE NULL END) AS hsic_count,\n",
    "         COUNT(DISTINCT CASE WHEN ffh_prod.pi_prod_instnc_typ_cd = 'SING' THEN ffh_prod.bus_prod_instnc_id ELSE NULL END) AS sing_count,\n",
    "         COUNT(DISTINCT CASE WHEN ffh_prod.pi_prod_instnc_typ_cd = 'SMHM' THEN ffh_prod.bus_prod_instnc_id ELSE NULL END) AS shs_count,\n",
    "         COUNT(DISTINCT CASE WHEN ffh_prod.pi_prod_instnc_typ_cd = 'TTV'  THEN ffh_prod.bus_prod_instnc_id ELSE NULL END) AS ttv_count,\n",
    "         COUNT(DISTINCT CASE WHEN ffh_prod.pi_prod_instnc_typ_cd = 'STV'  THEN ffh_prod.bus_prod_instnc_id ELSE NULL END) AS stv_count,\n",
    "         COUNT(DISTINCT CASE WHEN ffh_prod.pi_prod_instnc_typ_cd = 'DIIC' THEN ffh_prod.bus_prod_instnc_id ELSE NULL END) AS diic_count   \n",
    "         FROM `cio-datahub-enterprise-pr-183a.ent_cust_cust.bq_prod_instnc_snpsht` AS ffh_prod\n",
    "   \n",
    "   WHERE DATE(ffh_prod.prod_instnc_ts) = end_dt_snpsht\n",
    "     AND ffh_prod.pi_prod_instnc_stat_cd = 'A' --Active Products\n",
    "     AND ffh_prod.consldt_cust_typ_cd = 'R' --Regular (not Business)\n",
    "     AND ffh_prod.pi_prod_instnc_typ_cd IN \n",
    "         (\n",
    "           'DIIC', --Dialup\n",
    "           'HSIC', --High Speed\n",
    "           'SING', --Home Phone\n",
    "           'SMHM', --Smart Home\n",
    "           'STV',  --Satelite\n",
    "           'TTV'   --TV\n",
    "         )\n",
    "GROUP BY ffh_prod.bacct_bus_bacct_num\n",
    "--QUALIFY ROW_NUMBER() OVER (PARTITION BY ffh_prod.bacct_bus_bacct_num ORDER BY ffh_prod.prod_instnc_ts ) = 1\n",
    ")\n",
    "\n",
    "\n",
    "\n",
    ", ARPU_Calculation as(\n",
    "\n",
    "with ARPU_full as (\n",
    "SELECT\n",
    "  distinct cast (billg_acct_num as string) AS ban,\n",
    "  EXTRACT(YEAR\n",
    "  FROM\n",
    "    bill.bill_dt)||'-'||LPAD(CAST(EXTRACT(MONTH\n",
    "      FROM\n",
    "        bill.bill_dt) AS STRING), 2, '0') AS bill_year_month,\n",
    "  sum(bill.rid_unit_chrg_amt) as ARPU_SMHM,\n",
    "  sum(tot_inv_amt) as ARPU_FFH\n",
    "  FROM\n",
    "  `cio-datahub-enterprise-pr-183a.ent_cust_bill.bq_wln_inv_sum_view` bill\n",
    "WHERE\n",
    "  DATE(bill.bill_dt)>=  start_dt_snpsht\n",
    "  and DATE(bill.bill_dt)<= end_dt_snpsht\n",
    "  group by ban,bill_year_month\n",
    ")\n",
    "\n",
    "select ban, round(avg(ARPU_SMHM),0) as Avg_SMHM_ARPU,round(avg(ARPU_FFH),0) as Avg_FFH_ARPU \n",
    "from ARPU_full group by ban\n",
    "\n",
    ")\n",
    "\n",
    "\n",
    ",Deact_list as (\n",
    "\n",
    "select distinct Telus_Cust_ID,SMHM_Churn from \n",
    "(select  distinct cast (CUST_ID as string) as Telus_Cust_ID, 1 as SMHM_Churn, PARSE_DATE('%d%h%Y',SUBSTR(ACTIVITY_DATE, 0,9)) as churn_date from `divgpras-pr-579355.SHS.SMHM_Deact_Mar2023`)\n",
    "where churn_date> churn_dt_snpsht_start and churn_date<=churn_dt_snpsht_end\n",
    "\n",
    "\n",
    ")\n",
    "\n",
    "\n",
    "select cb.*,bp.*,arm.* ,lg.*,prod_mix.*,ARPU.*,Deacts.*\n",
    "from Customer_Base cb\n",
    "left join ADC_BP bp\n",
    "on cb.customer_id=bp.customer_id\n",
    "left join ADC_arming arm\n",
    "on cb.customer_id=arm.customer_id\n",
    "left join ADC_login lg\n",
    "on cb.customer_id=lg.customer_id\n",
    "left join cte_product_mix as prod_mix\n",
    "on cb.BAN=prod_mix.ban\n",
    "left join ARPU_Calculation as ARPU\n",
    "on cb.BAN=ARPU.ban\n",
    "left join Deact_list as Deacts\n",
    "on cb.dealer_customer_id=Deacts.Telus_Cust_ID\n",
    "\n",
    "'''"
   ]
  },
  {
   "cell_type": "code",
   "execution_count": null,
   "id": "c16878d7-b337-4623-a2a6-9090d8ef1862",
   "metadata": {},
   "outputs": [],
   "source": [
    "DF=extract_bq_data(bq_client, sql=Query)"
   ]
  },
  {
   "cell_type": "code",
   "execution_count": null,
   "id": "791e30e4-21ad-41dd-a584-a27880016499",
   "metadata": {},
   "outputs": [],
   "source": [
    "DF.info()"
   ]
  },
  {
   "cell_type": "code",
   "execution_count": null,
   "id": "13488b60-908a-422f-96d3-15f10da90c6b",
   "metadata": {},
   "outputs": [],
   "source": [
    "DF.head()"
   ]
  },
  {
   "cell_type": "code",
   "execution_count": null,
   "id": "d87d16f0-a701-499f-87a1-1b2e973c1f5b",
   "metadata": {},
   "outputs": [],
   "source": [
    "DF['SMHM_Churn'].fillna(0,inplace=True)"
   ]
  },
  {
   "cell_type": "code",
   "execution_count": null,
   "id": "fb2e5c8e-f037-402b-b9f2-b4c0febd5215",
   "metadata": {},
   "outputs": [],
   "source": [
    "# DF['churn_date'].fillna(0,inplace=True)"
   ]
  },
  {
   "cell_type": "code",
   "execution_count": null,
   "id": "44551826-e9c6-4c56-9d3d-75263103bc07",
   "metadata": {},
   "outputs": [],
   "source": [
    "DF['SMHM_Churn'].value_counts()"
   ]
  },
  {
   "cell_type": "code",
   "execution_count": null,
   "id": "ea607d65-1fab-427c-90d0-98ecc42886de",
   "metadata": {},
   "outputs": [],
   "source": [
    "# DF['churn_date'].value_counts()"
   ]
  },
  {
   "cell_type": "code",
   "execution_count": null,
   "id": "a463181f-3bd5-4391-9e56-1baec887d876",
   "metadata": {},
   "outputs": [],
   "source": [
    "# DF['churn_date'].min()"
   ]
  },
  {
   "cell_type": "code",
   "execution_count": null,
   "id": "efe2afc4-a010-4845-8757-bc6ea557629b",
   "metadata": {},
   "outputs": [],
   "source": [
    "DF['SMHM_Churn'].value_counts(normalize=True)*100"
   ]
  },
  {
   "cell_type": "code",
   "execution_count": null,
   "id": "b5c6a0c3-97db-4057-8f93-22bccce958ac",
   "metadata": {},
   "outputs": [],
   "source": [
    "DF['shs_count'].value_counts()"
   ]
  },
  {
   "cell_type": "code",
   "execution_count": null,
   "id": "4be0c43a-b46a-4fbc-acd5-165cb8bbc9d7",
   "metadata": {},
   "outputs": [],
   "source": [
    "DF['BAN'].value_counts()"
   ]
  },
  {
   "cell_type": "code",
   "execution_count": null,
   "id": "936b002f-a72a-4c9a-b00d-4575b378da7f",
   "metadata": {},
   "outputs": [],
   "source": [
    "DF=DF.drop_duplicates()"
   ]
  },
  {
   "cell_type": "code",
   "execution_count": null,
   "id": "6ef64489-5e8e-426f-bfb0-3775255c5816",
   "metadata": {},
   "outputs": [],
   "source": [
    "DF.info()"
   ]
  },
  {
   "cell_type": "code",
   "execution_count": null,
   "id": "d0edbca3-3f45-4b57-85c5-7a2bd4726992",
   "metadata": {},
   "outputs": [],
   "source": [
    "# BAN_list=DF['BAN'].value_counts().rename_axis('BAN').reset_index(name='unique_counts')"
   ]
  },
  {
   "cell_type": "code",
   "execution_count": null,
   "id": "1045a5c3-03d5-4a90-a4ee-271b8e33227f",
   "metadata": {},
   "outputs": [],
   "source": [
    "# BAN_list_2=BAN_list[BAN_list.unique_counts>1]"
   ]
  },
  {
   "cell_type": "code",
   "execution_count": null,
   "id": "6f9a6537-adf6-4542-bd0b-c52c4af98e07",
   "metadata": {},
   "outputs": [],
   "source": [
    "# BAN_list_2"
   ]
  },
  {
   "cell_type": "code",
   "execution_count": null,
   "id": "7db9831c-104f-4c4b-ae24-f0443e2dc025",
   "metadata": {},
   "outputs": [],
   "source": [
    "# DF[DF['BAN']==604371757]\n",
    "# .to_csv('Data_testing.csv',index=False)"
   ]
  },
  {
   "cell_type": "code",
   "execution_count": null,
   "id": "1fe52910-e99c-4bf4-89e4-1dd1e19bed3c",
   "metadata": {},
   "outputs": [],
   "source": [
    "config= bigquery.job.LoadJobConfig()\n",
    "\n",
    "# config._properties['timePartitioning'] = {'field': 'Month_Year'}\n",
    "config.write_disposition = bigquery.WriteDisposition.WRITE_TRUNCATE\n",
    "\n",
    "Table_BQ = 'SHS.SHS_churn_model_train_data_dec22_feb23'\n",
    "\n",
    "bq_table_instance= bq_client.load_table_from_dataframe(DF, Table_BQ,job_config=config)"
   ]
  },
  {
   "cell_type": "code",
   "execution_count": null,
   "id": "c13981d1-f9a7-49c8-92e9-e9908148c837",
   "metadata": {},
   "outputs": [],
   "source": []
  }
 ],
 "metadata": {
  "kernelspec": {
   "display_name": "Python 3 (ipykernel)",
   "language": "python",
   "name": "python3"
  },
  "language_info": {
   "codemirror_mode": {
    "name": "ipython",
    "version": 3
   },
   "file_extension": ".py",
   "mimetype": "text/x-python",
   "name": "python",
   "nbconvert_exporter": "python",
   "pygments_lexer": "ipython3",
   "version": "3.8.12"
  }
 },
 "nbformat": 4,
 "nbformat_minor": 5
}
