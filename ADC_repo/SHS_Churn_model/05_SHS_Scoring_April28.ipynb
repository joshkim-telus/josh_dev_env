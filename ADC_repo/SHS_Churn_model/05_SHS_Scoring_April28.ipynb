{
 "cells": [
  {
   "cell_type": "code",
   "execution_count": null,
   "id": "875b23ab-24d3-41d5-b88c-cd952884f7d1",
   "metadata": {},
   "outputs": [],
   "source": [
    "#### import global modules\n",
    "import os\n",
    "import sys\n",
    "import pandas as pd\n",
    "import numpy as np\n",
    "from pathlib import Path\n",
    "from yaml import safe_load\n",
    "import google.oauth2.credentials\n",
    "from google.cloud import bigquery\n",
    "import gc\n",
    "\n",
    "# Set global vars\n",
    "pth_project = Path(os.getcwd().split('notebooks')[0])\n",
    "pth_data = pth_project / 'data'\n",
    "pth_queries = pth_project / 'core' / 'queries'\n",
    "pth_creds = pth_project / 'conf' / 'local' / 'project_config.yaml'\n",
    "sys.path.insert(0, str(pth_project))\n",
    "d_project_config = safe_load(pth_creds.open())\n",
    "# d_params = safe_load((pth_project / 'core' / 'parameters' / 'common.yaml').open())['data_extract']\n",
    "\n",
    "# import local modules\n",
    "from core.utils.gcp import connect_bq_services\n",
    "# from core.etl.extract import extract_bq_data, extract_pr_codes, format_conv_df, filter_convs\n",
    "\n",
    "# Connect to google services\n",
    "bq_client = connect_bq_services(d_project_config['gcp-project-name'])\n",
    "pd.options.display.max_rows = 100"
   ]
  },
  {
   "cell_type": "code",
   "execution_count": null,
   "id": "242a26ea-0a62-4fe0-ab0c-daf08a8e2d84",
   "metadata": {},
   "outputs": [],
   "source": [
    "def extract_bq_data(bq_client, sql=None, pth_query=None):\n",
    "    if sql is not None:\n",
    "        df = bq_client.query(sql).to_dataframe()\n",
    "    elif pth_query is not None:\n",
    "        sql = pth_query.read_text()\n",
    "        df = bq_client.query(sql).to_dataframe()\n",
    "    else:\n",
    "        raise ValueError('`sql` or `pth_query` should be set')  \n",
    "    return df"
   ]
  },
  {
   "cell_type": "code",
   "execution_count": null,
   "id": "554099c7-0e91-4562-8e9e-4513af642b8a",
   "metadata": {},
   "outputs": [],
   "source": [
    "Customer_details='''\n",
    "\n",
    "\n",
    "DECLARE\n",
    "  start_dt_snpsht DATE DEFAULT '2023-03-01';\n",
    "DECLARE\n",
    "  end_dt_snpsht DATE DEFAULT '2023-04-25';\n",
    "WITH\n",
    "  date_sql AS (\n",
    "  SELECT\n",
    "    DATE_TRUNC(DATE_SUB(start_dt_snpsht, INTERVAL 3 month), month) AS eligibility_date ),\n",
    "  \n",
    "  ADC_Customer_Base AS (\n",
    "  SELECT\n",
    "    dealer_customer_id,\n",
    "    customer_id,\n",
    "    primary_login_id,\n",
    "    dealer_name,\n",
    "    DATE(join_date) AS join_date,\n",
    "    account_type_name,\n",
    "    customer_type_name,\n",
    "    CASE\n",
    "      WHEN account_type_name='Standalone' THEN 'Smart_Camera'\n",
    "      WHEN account_type_name='Awareness and Automation' THEN 'Smart_Automation_Plus'\n",
    "    ELSE\n",
    "    'Monitored'\n",
    "  END\n",
    "    AS Package,\n",
    "    DATE_DIFF(end_dt_snpsht,DATE(join_date), MONTH) AS Tenure_months,\n",
    "    1 as Interactivity_flag #Interactivity=Having ADC account\n",
    "\n",
    "  FROM\n",
    "    `cio-datahub-enterprise-pr-183a.src_adc.bq_customer_account_details`\n",
    "  WHERE\n",
    "    DATE(last_updt_ts) <= end_dt_snpsht\n",
    "    AND DATE(last_updt_ts) >= start_dt_snpsht\n",
    "    AND dealer_name in ('TELUS Communications Inc.')\n",
    "    QUALIFY ROW_NUMBER() OVER (PARTITION BY customer_id ORDER BY last_updt_ts DESC) = 1\n",
    "  ORDER BY\n",
    "    join_date,\n",
    "    customer_id ),\n",
    "  \n",
    "Telus_customers AS (\n",
    "  SELECT\n",
    "    cust_bus_cust_id as Telus_ID,\n",
    "    cast (bacct_bus_bacct_num as STRING) AS BAN,\n",
    "    DATE(pi_cntrct_start_ts) AS contract_start_date,\n",
    "    DATE(pi_cntrct_end_ts) AS contract_end_date,\n",
    "    DATE(pi_actvn_ts) as Intial_activation_date,\n",
    "    CASE\n",
    "      WHEN DATE(pi_cntrct_end_ts) = \"9999-12-31\" THEN 'contract_expired'\n",
    "      WHEN DATE_DIFF(DATE(pi_cntrct_end_ts),end_dt_snpsht, DAY) < 0 THEN 'contract_expired'\n",
    "      WHEN DATE_DIFF(DATE(pi_cntrct_end_ts),end_dt_snpsht, DAY) <= 90 THEN 'contract_expiring_within_90_days'\n",
    "      WHEN DATE_DIFF(DATE(pi_cntrct_end_ts),end_dt_snpsht, DAY) > 90 THEN 'contract_expiring_after_90_days'\n",
    "    ELSE\n",
    "    'Undefined_contract_end_date'\n",
    "  END\n",
    "    AS contract_end_status,\n",
    "    DATE_DIFF(end_dt_snpsht,DATE(pi_cntrct_start_ts), MONTH) AS Contract_start_months\n",
    "  FROM\n",
    "    `cio-datahub-enterprise-pr-183a.ent_cust_cust.bq_prod_instnc_snpsht`\n",
    "  WHERE\n",
    "    DATE(prod_instnc_ts) = end_dt_snpsht\n",
    "    AND pi_prod_instnc_typ_cd ='SMHM' #Serice type\n",
    "    AND bus_prod_instnc_src_id = 1001 #BANs that are FOR home services\n",
    "    AND pi_prod_instnc_stat_cd IN ('A')\n",
    "    AND consldt_cust_typ_cd = 'R' QUALIFY ROW_NUMBER() OVER (PARTITION BY cust_bus_cust_id ORDER BY prod_instnc_ts DESC) = 1\n",
    "  ORDER BY\n",
    "    cust_bus_cust_id ),\n",
    "    \n",
    "Telus_Billing as (\n",
    "\n",
    "select CAST (bus_bacct_num as STRING) as BAN,billg_addr_prov_cd as Province_code\n",
    "from `cio-datahub-enterprise-pr-183a.ent_cust_cust.bq_billg_acct_snpsht`\n",
    "WHERE DATE(billg_acct_ts)=end_dt_snpsht\n",
    "QUALIFY ROW_NUMBER() OVER (PARTITION BY bus_bacct_num ORDER BY billg_acct_ts DESC) = 1\n",
    ")\n",
    "\n",
    "    \n",
    ",ADT_migrated_customers as (\n",
    "\n",
    "SELECT distinct udf4 as BAN\n",
    "      ,cust_no\n",
    "      ,co_no\n",
    "      ,branch_no\n",
    "      ,custype_id\n",
    "      ,custstat_id\n",
    "      , 1 as ADT_migrated_customer\n",
    "      \n",
    "\n",
    "  FROM `cio-datahub-enterprise-pr-183a.src_mastermind.bq_customer`\n",
    "  where branch_no in (999100,999500)\n",
    "  and udf4 is not NULL\n",
    "\n",
    "\n",
    "),\n",
    "\n",
    "Merge_data AS (\n",
    "  SELECT\n",
    "    a.*,b.*,c.ADT_migrated_customer,d.Province_code\n",
    "  FROM\n",
    "    Telus_customers a\n",
    "  LEFT JOIN\n",
    "    ADC_Customer_Base b\n",
    "  ON\n",
    "    a.Telus_ID=b.dealer_customer_id\n",
    "LEFT JOIN\n",
    "ADT_migrated_customers c\n",
    "on a.BAN=c.BAN\n",
    "LEFT JOIN\n",
    "Telus_Billing d\n",
    "on a.BAN=d.BAN\n",
    "\n",
    "\n",
    ")\n",
    "\n",
    "SELECT\n",
    "  *\n",
    "FROM\n",
    "  Merge_data\n",
    "  \n",
    "  \n",
    "  \n",
    "  \n",
    "'''"
   ]
  },
  {
   "cell_type": "code",
   "execution_count": null,
   "id": "fa3ccbde-b1c2-451c-861b-41bd8c3c677c",
   "metadata": {},
   "outputs": [],
   "source": [
    "Customer_info=extract_bq_data(bq_client, sql=Customer_details)"
   ]
  },
  {
   "cell_type": "code",
   "execution_count": null,
   "id": "e8f1add4-c457-4f4e-b38b-4ad7592dc4c3",
   "metadata": {},
   "outputs": [],
   "source": [
    "Customer_info.info()"
   ]
  },
  {
   "cell_type": "code",
   "execution_count": null,
   "id": "369937e0-04eb-403a-9fd0-8e9dbb6a6e75",
   "metadata": {},
   "outputs": [],
   "source": [
    "# Customer_info['join_date'].min()"
   ]
  },
  {
   "cell_type": "code",
   "execution_count": null,
   "id": "5626d04e-772d-4c01-8dbf-14115e75a118",
   "metadata": {},
   "outputs": [],
   "source": [
    "Customer_info['contract_start_date'].value_counts()"
   ]
  },
  {
   "cell_type": "code",
   "execution_count": null,
   "id": "48484f59-dca3-4988-bd5f-b922f4114df2",
   "metadata": {},
   "outputs": [],
   "source": [
    "Customer_info['Province_code'].value_counts()"
   ]
  },
  {
   "cell_type": "code",
   "execution_count": null,
   "id": "78454c24-495f-4d71-891d-30bf1534804c",
   "metadata": {},
   "outputs": [],
   "source": [
    "Customer_info['contract_end_status'].value_counts()"
   ]
  },
  {
   "cell_type": "code",
   "execution_count": null,
   "id": "d9a9557d-8c5a-446d-bc0d-727d245ba7cd",
   "metadata": {},
   "outputs": [],
   "source": [
    "Customer_info['dealer_name'].value_counts()"
   ]
  },
  {
   "cell_type": "code",
   "execution_count": null,
   "id": "26682d7d-5243-439b-b9a5-382f46d8cdf0",
   "metadata": {},
   "outputs": [],
   "source": [
    "Customer_info['Package'].value_counts()"
   ]
  },
  {
   "cell_type": "code",
   "execution_count": null,
   "id": "a3928c56-5190-4672-a1a2-c3420fdf18cf",
   "metadata": {},
   "outputs": [],
   "source": [
    "Customer_info['Package'].fillna('Unknown_Package',inplace=True)\n",
    "# Customer_info['Tenure_months'].fillna('Unknown_Tenure',inplace=True)\n",
    "Customer_info['dealer_name'].fillna('Unknown_Dealer',inplace=True)\n",
    "Customer_info['Interactivity_flag'].fillna(0,inplace=True)\n",
    "Customer_info['ADT_migrated_customer'].fillna(0,inplace=True)"
   ]
  },
  {
   "cell_type": "code",
   "execution_count": null,
   "id": "79322dc6-cc56-4cfb-8c2d-ad7147560abc",
   "metadata": {},
   "outputs": [],
   "source": [
    "Customer_info['ADT_migrated_customer'].value_counts(normalize=True)*100"
   ]
  },
  {
   "cell_type": "code",
   "execution_count": null,
   "id": "fa78e6f7-2c29-446c-b5aa-c45a2bb749ef",
   "metadata": {},
   "outputs": [],
   "source": [
    "Customer_info['Interactivity_flag'].value_counts(normalize=True)*100"
   ]
  },
  {
   "cell_type": "code",
   "execution_count": null,
   "id": "7593b44b-cf45-46c0-8506-237f08ff89e8",
   "metadata": {},
   "outputs": [],
   "source": [
    "BAN_list=Customer_info['BAN'].value_counts().rename_axis('BAN').reset_index(name='unique_counts')"
   ]
  },
  {
   "cell_type": "code",
   "execution_count": null,
   "id": "2854e22e-9203-4dc9-9ebf-b92ae488169d",
   "metadata": {},
   "outputs": [],
   "source": [
    "BAN_list_1=BAN_list[BAN_list.unique_counts==1]"
   ]
  },
  {
   "cell_type": "code",
   "execution_count": null,
   "id": "03fe3134-4d41-4934-a85a-4f2d9a669263",
   "metadata": {},
   "outputs": [],
   "source": [
    "BAN_list_1.info()"
   ]
  },
  {
   "cell_type": "code",
   "execution_count": null,
   "id": "e743628d-d271-4fdc-b84c-439b9ae865ff",
   "metadata": {},
   "outputs": [],
   "source": [
    "Customer_info_1=Customer_info.merge(BAN_list_1[['BAN']],on='BAN',how='inner')"
   ]
  },
  {
   "cell_type": "code",
   "execution_count": null,
   "id": "fb11d444-3129-47a6-977f-f3816cd69fab",
   "metadata": {},
   "outputs": [],
   "source": [
    "Customer_info_1['BAN'].value_counts().rename_axis('BAN').reset_index(name='unique_counts')"
   ]
  },
  {
   "cell_type": "code",
   "execution_count": null,
   "id": "67b93c7b-d831-4cc6-b112-b51adc82c4ac",
   "metadata": {},
   "outputs": [],
   "source": [
    "Customer_info_1.info()"
   ]
  },
  {
   "cell_type": "code",
   "execution_count": null,
   "id": "bd9e1ad5-3e83-442b-8d95-54ffd4cfdcfe",
   "metadata": {},
   "outputs": [],
   "source": [
    "Customer_info_1.head()"
   ]
  },
  {
   "cell_type": "code",
   "execution_count": null,
   "id": "b1745b71-63c2-4463-acca-1824ec0c660f",
   "metadata": {},
   "outputs": [],
   "source": [
    "Customer_info_1['Contract_start_months'].value_counts()"
   ]
  },
  {
   "cell_type": "code",
   "execution_count": null,
   "id": "c7f4ee2a-dc52-4fde-957f-1f678aeacb90",
   "metadata": {},
   "outputs": [],
   "source": [
    "Customer_info_1['Tenure_months'].value_counts()"
   ]
  },
  {
   "cell_type": "code",
   "execution_count": null,
   "id": "e58b9dff-7bf5-4cc7-aa1d-9a06d9a02041",
   "metadata": {},
   "outputs": [],
   "source": [
    "Customer_info_1[Customer_info_1.Tenure_months==0]"
   ]
  },
  {
   "cell_type": "code",
   "execution_count": null,
   "id": "0e3ba90f-5914-4b4d-9b35-e0fb2e0ac6db",
   "metadata": {},
   "outputs": [],
   "source": [
    "config= bigquery.job.LoadJobConfig()\n",
    "\n",
    "# config._properties['timePartitioning'] = {'field': 'Month_Year'}\n",
    "config.write_disposition = bigquery.WriteDisposition.WRITE_TRUNCATE\n",
    "\n",
    "Table_BQ = 'SHS.SHS_churn_model_base_score_data_mar23_Apr23'\n",
    "\n",
    "bq_table_instance= bq_client.load_table_from_dataframe(Customer_info_1, Table_BQ,job_config=config)"
   ]
  },
  {
   "cell_type": "code",
   "execution_count": null,
   "id": "7ee10172-ca05-495f-8972-672ab9b25cf1",
   "metadata": {},
   "outputs": [],
   "source": []
  }
 ],
 "metadata": {
  "kernelspec": {
   "display_name": "Python 3 (ipykernel)",
   "language": "python",
   "name": "python3"
  },
  "language_info": {
   "codemirror_mode": {
    "name": "ipython",
    "version": 3
   },
   "file_extension": ".py",
   "mimetype": "text/x-python",
   "name": "python",
   "nbconvert_exporter": "python",
   "pygments_lexer": "ipython3",
   "version": "3.8.12"
  }
 },
 "nbformat": 4,
 "nbformat_minor": 5
}
