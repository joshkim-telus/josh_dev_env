{
 "cells": [
  {
   "cell_type": "code",
   "execution_count": 627,
   "id": "567cd66d-4227-4286-83ac-d789d6b5d701",
   "metadata": {},
   "outputs": [],
   "source": [
    "#### import global modules\n",
    "import os\n",
    "import sys\n",
    "import pandas as pd\n",
    "import numpy as np\n",
    "from pathlib import Path\n",
    "from yaml import safe_load\n",
    "import google.oauth2.credentials\n",
    "from google.cloud import bigquery\n",
    "import gc\n",
    "\n",
    "# Set global vars\n",
    "pth_project = Path(os.getcwd().split('notebooks')[0])\n",
    "pth_data = pth_project / 'data'\n",
    "pth_queries = pth_project / 'core' / 'queries'\n",
    "pth_creds = pth_project / 'conf' / 'local' / 'project_config.yaml'\n",
    "sys.path.insert(0, str(pth_project))\n",
    "d_project_config = safe_load(pth_creds.open())\n",
    "# d_params = safe_load((pth_project / 'core' / 'parameters' / 'common.yaml').open())['data_extract']\n",
    "\n",
    "# import local modules\n",
    "from core.utils.gcp import connect_bq_services\n",
    "# from core.etl.extract import extract_bq_data, extract_pr_codes, format_conv_df, filter_convs\n",
    "\n",
    "# Connect to google services\n",
    "bq_client = connect_bq_services(d_project_config['gcp-project-name'])\n",
    "pd.options.display.max_rows = 100\n",
    "from sklearn.model_selection import train_test_split\n"
   ]
  },
  {
   "cell_type": "code",
   "execution_count": 628,
   "id": "f37c1d2e-1910-49a3-838b-ece8ded5fa63",
   "metadata": {},
   "outputs": [],
   "source": [
    "def extract_bq_data(bq_client, sql=None, pth_query=None):\n",
    "    if sql is not None:\n",
    "        df = bq_client.query(sql).to_dataframe()\n",
    "    elif pth_query is not None:\n",
    "        sql = pth_query.read_text()\n",
    "        df = bq_client.query(sql).to_dataframe()\n",
    "    else:\n",
    "        raise ValueError('`sql` or `pth_query` should be set')  \n",
    "    return df"
   ]
  },
  {
   "cell_type": "code",
   "execution_count": 629,
   "id": "2ce1fd45-4d43-41c2-906c-61fa29d34254",
   "metadata": {},
   "outputs": [],
   "source": [
    "Query= '''\n",
    "\n",
    "select * from `divgpras-pr-579355.SHS.SHS_churn_model_train_data_sep_nov_2022`\n",
    "\n",
    "'''"
   ]
  },
  {
   "cell_type": "code",
   "execution_count": 630,
   "id": "f3209cf4-a8de-4429-9285-f66e0fa05ece",
   "metadata": {},
   "outputs": [],
   "source": [
    "DF=extract_bq_data(bq_client, sql=Query)"
   ]
  },
  {
   "cell_type": "code",
   "execution_count": 631,
   "id": "7eae43b3-db82-48e0-9747-c4daddb426f6",
   "metadata": {},
   "outputs": [
    {
     "name": "stdout",
     "output_type": "stream",
     "text": [
      "<class 'pandas.core.frame.DataFrame'>\n",
      "RangeIndex: 334134 entries, 0 to 334133\n",
      "Data columns (total 50 columns):\n",
      " #   Column                        Non-Null Count   Dtype  \n",
      "---  ------                        --------------   -----  \n",
      " 0   customer_id                   334134 non-null  Int64  \n",
      " 1   dealer_customer_id            334134 non-null  object \n",
      " 2   primary_login_id              334134 non-null  Int64  \n",
      " 3   dealer_name                   334134 non-null  object \n",
      " 4   join_date                     334134 non-null  object \n",
      " 5   account_type_name             334134 non-null  object \n",
      " 6   customer_type_name            334134 non-null  object \n",
      " 7   Package                       334134 non-null  object \n",
      " 8   Tenure_months                 334134 non-null  Int64  \n",
      " 9   BAN                           334134 non-null  Int64  \n",
      " 10  cust_bus_cust_id              334134 non-null  object \n",
      " 11  contract_start_date           302317 non-null  object \n",
      " 12  contract_end_date             334134 non-null  object \n",
      " 13  contract_end_status           334134 non-null  object \n",
      " 14  Contract_start_months         302317 non-null  Int64  \n",
      " 15  customer_id_1                 276711 non-null  Int64  \n",
      " 16  Best_Practices_1              276711 non-null  Int64  \n",
      " 17  Best_Practices_2              276711 non-null  Int64  \n",
      " 18  Best_Practices_3              276711 non-null  Int64  \n",
      " 19  Best_Practices_4              276711 non-null  Int64  \n",
      " 20  Best_Practices_5              276711 non-null  Int64  \n",
      " 21  Best_Practices_6              276711 non-null  Int64  \n",
      " 22  Best_Practice_All             276711 non-null  Int64  \n",
      " 23  customer_id_2                 143397 non-null  Int64  \n",
      " 24  sum_arm_commands              143397 non-null  Int64  \n",
      " 25  sum_disarm_commands           143397 non-null  Int64  \n",
      " 26  number_days_arming_disarming  143397 non-null  Int64  \n",
      " 27  count_of_dates_arming         143397 non-null  Int64  \n",
      " 28  arming_consistency            143397 non-null  float64\n",
      " 29  Avg_arm_per_day               143397 non-null  float64\n",
      " 30  Avg_disarm_per_day            143397 non-null  float64\n",
      " 31  customer_id_3                 271065 non-null  Int64  \n",
      " 32  sum_login_count               271065 non-null  Int64  \n",
      " 33  number_of_login_days          271065 non-null  Int64  \n",
      " 34  count_of_dates_login          271065 non-null  Int64  \n",
      " 35  login_consistency             271065 non-null  float64\n",
      " 36  Avg_login_per_day             271065 non-null  float64\n",
      " 37  ban_1                         334134 non-null  Int64  \n",
      " 38  product_mix_all               334134 non-null  Int64  \n",
      " 39  hsic_count                    334134 non-null  Int64  \n",
      " 40  sing_count                    334134 non-null  Int64  \n",
      " 41  shs_count                     334134 non-null  Int64  \n",
      " 42  ttv_count                     334134 non-null  Int64  \n",
      " 43  stv_count                     334134 non-null  Int64  \n",
      " 44  diic_count                    334134 non-null  Int64  \n",
      " 45  ban_2                         331671 non-null  object \n",
      " 46  Avg_SMHM_ARPU                 331474 non-null  object \n",
      " 47  Avg_FFH_ARPU                  331671 non-null  object \n",
      " 48  Telus_Cust_ID                 4022 non-null    object \n",
      " 49  SMHM_Churn                    334134 non-null  Int64  \n",
      "dtypes: Int64(31), float64(5), object(14)\n",
      "memory usage: 137.3+ MB\n"
     ]
    }
   ],
   "source": [
    "DF.info()"
   ]
  },
  {
   "cell_type": "code",
   "execution_count": 632,
   "id": "844d3acc-e556-46ff-be23-3ccf15f30cb5",
   "metadata": {},
   "outputs": [],
   "source": [
    "# DF.to_csv('SHS_churn_model_train_data_sep_nov_2022.csv',index=False)"
   ]
  },
  {
   "cell_type": "code",
   "execution_count": 633,
   "id": "63e9892d-191f-49ce-83d6-a711b749ed2c",
   "metadata": {},
   "outputs": [
    {
     "data": {
      "text/plain": [
       "customer_id                      0.000000\n",
       "dealer_customer_id               0.000000\n",
       "primary_login_id                 0.000000\n",
       "dealer_name                      0.000000\n",
       "join_date                        0.000000\n",
       "account_type_name                0.000000\n",
       "customer_type_name               0.000000\n",
       "Package                          0.000000\n",
       "Tenure_months                    0.000000\n",
       "BAN                              0.000000\n",
       "cust_bus_cust_id                 0.000000\n",
       "contract_start_date              9.522228\n",
       "contract_end_date                0.000000\n",
       "contract_end_status              0.000000\n",
       "Contract_start_months            9.522228\n",
       "customer_id_1                   17.185620\n",
       "Best_Practices_1                17.185620\n",
       "Best_Practices_2                17.185620\n",
       "Best_Practices_3                17.185620\n",
       "Best_Practices_4                17.185620\n",
       "Best_Practices_5                17.185620\n",
       "Best_Practices_6                17.185620\n",
       "Best_Practice_All               17.185620\n",
       "customer_id_2                   57.083984\n",
       "sum_arm_commands                57.083984\n",
       "sum_disarm_commands             57.083984\n",
       "number_days_arming_disarming    57.083984\n",
       "count_of_dates_arming           57.083984\n",
       "arming_consistency              57.083984\n",
       "Avg_arm_per_day                 57.083984\n",
       "Avg_disarm_per_day              57.083984\n",
       "customer_id_3                   18.875361\n",
       "sum_login_count                 18.875361\n",
       "number_of_login_days            18.875361\n",
       "count_of_dates_login            18.875361\n",
       "login_consistency               18.875361\n",
       "Avg_login_per_day               18.875361\n",
       "ban_1                            0.000000\n",
       "product_mix_all                  0.000000\n",
       "hsic_count                       0.000000\n",
       "sing_count                       0.000000\n",
       "shs_count                        0.000000\n",
       "ttv_count                        0.000000\n",
       "stv_count                        0.000000\n",
       "diic_count                       0.000000\n",
       "ban_2                            0.737129\n",
       "Avg_SMHM_ARPU                    0.796088\n",
       "Avg_FFH_ARPU                     0.737129\n",
       "Telus_Cust_ID                   98.796291\n",
       "SMHM_Churn                       0.000000\n",
       "dtype: float64"
      ]
     },
     "execution_count": 633,
     "metadata": {},
     "output_type": "execute_result"
    }
   ],
   "source": [
    "DF.isnull().sum() * 100 / len(DF)"
   ]
  },
  {
   "cell_type": "code",
   "execution_count": 634,
   "id": "91dca8a1-ab19-46c3-8d19-323d5c35a736",
   "metadata": {},
   "outputs": [],
   "source": [
    "# DF['Best_Practices_1']=DF['Best_Practices_1'].fillna(0,inplace=True)\n",
    "# DF['Best_Practices_2']=DF['Best_Practices_2'].fillna(0,inplace=True)\n",
    "# DF['Best_Practices_3']=DF['Best_Practices_3'].fillna(0,inplace=True)\n",
    "# DF['Best_Practices_4']=DF['Best_Practices_4'].fillna(0,inplace=True)\n",
    "# DF['Best_Practices_5']=DF['Best_Practices_5'].fillna(0,inplace=True)\n",
    "# DF['Best_Practices_6']=DF['Best_Practices_6'].fillna(0,inplace=True)\n",
    "# DF['Best_Practice_All']=DF['Best_Practice_All'].fillna(0,inplace=True)"
   ]
  },
  {
   "cell_type": "code",
   "execution_count": 635,
   "id": "b5936c4d-f942-4dbc-bada-5f5230ed3d61",
   "metadata": {},
   "outputs": [
    {
     "data": {
      "text/plain": [
       "1    246368\n",
       "0     30343\n",
       "Name: Best_Practices_1, dtype: Int64"
      ]
     },
     "execution_count": 635,
     "metadata": {},
     "output_type": "execute_result"
    }
   ],
   "source": [
    "DF['Best_Practices_1'].value_counts()"
   ]
  },
  {
   "cell_type": "code",
   "execution_count": 651,
   "id": "2ac71305-6478-4790-b60d-e1dd6f0b1c13",
   "metadata": {},
   "outputs": [],
   "source": [
    "ID_cols=['customer_id','dealer_customer_id','BAN']\n",
    "ignore_cols=['primary_login_id','dealer_name','join_date','account_type_name','customer_type_name','cust_bus_cust_id'\n",
    "             ,'contract_start_date','contract_end_date','customer_id_1','customer_id_2','customer_id_3','ban_1','ban_2'\n",
    "             ,'BAN_3','sum_arm_commands','sum_disarm_commands','number_days_arming_disarming','count_of_dates_arming'\n",
    "             ,'sum_login_count','number_of_login_days','count_of_dates_login','shs_count','Telus_Cust_ID']\n",
    "\n",
    "Target_col=['SMHM_Churn']"
   ]
  },
  {
   "cell_type": "code",
   "execution_count": 652,
   "id": "f3dfba06-63c5-4bc8-9b95-9228e3d763ab",
   "metadata": {},
   "outputs": [],
   "source": [
    "DF['Avg_SMHM_ARPU']=pd.to_numeric(DF['Avg_SMHM_ARPU'])\n",
    "DF['Avg_FFH_ARPU']=pd.to_numeric(DF['Avg_FFH_ARPU'])\n",
    "# DF['Avg_SMHM_ARPU']=pd.to_numeric(DF['Avg_SMHM_ARPU'])\n"
   ]
  },
  {
   "cell_type": "code",
   "execution_count": 653,
   "id": "b9e6ff2e-01fc-45c9-be60-0cc807bc0dca",
   "metadata": {},
   "outputs": [],
   "source": [
    "# DF['Best_Practices_1']=DF['Best_Practices_1'].astype('category')\n",
    "# DF['Best_Practices_2']=DF['Best_Practices_2'].astype('category')\n",
    "# DF['Best_Practices_3']=DF['Best_Practices_3'].astype('category')\n",
    "# DF['Best_Practices_4']=DF['Best_Practices_4'].astype('category')\n",
    "# DF['Best_Practices_5']=DF['Best_Practices_5'].astype('category')\n",
    "# DF['Best_Practices_6']=DF['Best_Practices_6'].astype('category')\n",
    "# DF['Best_Practice_All']=DF['Best_Practice_All'].astype('category')\n",
    "# DF['SMHM_Churn']=DF['SMHM_Churn'].astype('category')\n",
    "\n"
   ]
  },
  {
   "cell_type": "code",
   "execution_count": 654,
   "id": "9324ef32-eaa7-4960-8076-c44b74cde969",
   "metadata": {},
   "outputs": [],
   "source": [
    "\n",
    "num_cols=DF.select_dtypes(include=np.number).columns.tolist()\n",
    "cat_cols=DF.select_dtypes(exclude=np.number).columns.tolist()\n",
    "\n",
    "num_cols_features=list(set(num_cols)-set(ID_cols)-set(Target_col)-set(ignore_cols))\n",
    "cat_cols_features=list(set(cat_cols)-set(ID_cols)-set(Target_col)-set(ignore_cols))\n",
    "feature_cols=cat_cols_features+num_cols_features"
   ]
  },
  {
   "cell_type": "code",
   "execution_count": 655,
   "id": "42f664c3-8f9a-474d-b1e7-46473467edc2",
   "metadata": {},
   "outputs": [
    {
     "data": {
      "text/plain": [
       "24"
      ]
     },
     "execution_count": 655,
     "metadata": {},
     "output_type": "execute_result"
    }
   ],
   "source": [
    "len(feature_cols)"
   ]
  },
  {
   "cell_type": "code",
   "execution_count": 656,
   "id": "a44ad98d-ee26-4f80-ba33-0244ec2d5d58",
   "metadata": {},
   "outputs": [
    {
     "data": {
      "text/plain": [
       "['ttv_count',\n",
       " 'Avg_arm_per_day',\n",
       " 'hsic_count',\n",
       " 'Best_Practices_3',\n",
       " 'Best_Practices_5',\n",
       " 'Tenure_months',\n",
       " 'Best_Practices_1',\n",
       " 'Contract_start_months',\n",
       " 'Avg_FFH_ARPU',\n",
       " 'Best_Practices_6',\n",
       " 'Best_Practice_All',\n",
       " 'Avg_login_per_day',\n",
       " 'stv_count',\n",
       " 'Avg_SMHM_ARPU',\n",
       " 'Best_Practices_2',\n",
       " 'Best_Practices_4',\n",
       " 'diic_count',\n",
       " 'Avg_disarm_per_day',\n",
       " 'login_consistency',\n",
       " 'sing_count',\n",
       " 'arming_consistency',\n",
       " 'product_mix_all']"
      ]
     },
     "execution_count": 656,
     "metadata": {},
     "output_type": "execute_result"
    }
   ],
   "source": [
    "num_cols_features"
   ]
  },
  {
   "cell_type": "code",
   "execution_count": 657,
   "id": "d8e5f7e9-41b1-465d-bb86-b3d28cefb451",
   "metadata": {},
   "outputs": [
    {
     "data": {
      "text/plain": [
       "['contract_end_status', 'Package']"
      ]
     },
     "execution_count": 657,
     "metadata": {},
     "output_type": "execute_result"
    }
   ],
   "source": [
    "cat_cols_features"
   ]
  },
  {
   "cell_type": "code",
   "execution_count": 658,
   "id": "655dfad8-0777-456b-b7ea-9d700204dfc5",
   "metadata": {},
   "outputs": [
    {
     "data": {
      "text/plain": [
       "contract_end_status       0.000000\n",
       "Package                   0.000000\n",
       "ttv_count                 0.000000\n",
       "Avg_arm_per_day          57.083984\n",
       "hsic_count                0.000000\n",
       "Best_Practices_3         17.185620\n",
       "Best_Practices_5         17.185620\n",
       "Tenure_months             0.000000\n",
       "Best_Practices_1         17.185620\n",
       "Contract_start_months     9.522228\n",
       "Avg_FFH_ARPU              0.737129\n",
       "Best_Practices_6         17.185620\n",
       "Best_Practice_All        17.185620\n",
       "Avg_login_per_day        18.875361\n",
       "stv_count                 0.000000\n",
       "Avg_SMHM_ARPU             0.796088\n",
       "Best_Practices_2         17.185620\n",
       "Best_Practices_4         17.185620\n",
       "diic_count                0.000000\n",
       "Avg_disarm_per_day       57.083984\n",
       "login_consistency        18.875361\n",
       "sing_count                0.000000\n",
       "arming_consistency       57.083984\n",
       "product_mix_all           0.000000\n",
       "dtype: float64"
      ]
     },
     "execution_count": 658,
     "metadata": {},
     "output_type": "execute_result"
    }
   ],
   "source": [
    "DF[feature_cols].isnull().sum() * 100 / len(DF[feature_cols])"
   ]
  },
  {
   "cell_type": "code",
   "execution_count": 659,
   "id": "393a1c68-ed92-4b27-aec6-a973f8668cec",
   "metadata": {},
   "outputs": [
    {
     "name": "stderr",
     "output_type": "stream",
     "text": [
      "\n",
      "A value is trying to be set on a copy of a slice from a DataFrame.\n",
      "Try using .loc[row_indexer,col_indexer] = value instead\n",
      "\n",
      "See the caveats in the documentation: https://pandas.pydata.org/pandas-docs/stable/user_guide/indexing.html#returning-a-view-versus-a-copy\n",
      "\n",
      "A value is trying to be set on a copy of a slice from a DataFrame.\n",
      "Try using .loc[row_indexer,col_indexer] = value instead\n",
      "\n",
      "See the caveats in the documentation: https://pandas.pydata.org/pandas-docs/stable/user_guide/indexing.html#returning-a-view-versus-a-copy\n"
     ]
    }
   ],
   "source": [
    "def impute_missing_values(dataset=DF):\n",
    "    \n",
    "    for cols in dataset.columns:\n",
    "        if dataset[cols].dtype == np.dtype('O'):\n",
    "            # df.loc[np.isnan(df[\"Age\"]), 'Age'] = rand1\n",
    "            #dataset.loc[dataset[cols].isnull(), cols]=\"Missing_category\"\n",
    "            dataset[cols]=dataset[cols].fillna(\"Missing_category\",inplace=False)\n",
    "        else:\n",
    "            dataset[cols]=dataset[cols].fillna(0,inplace=False)\n",
    "            #dataset.loc[dataset[cols].isnull(), cols]=0\n",
    "    return dataset\n",
    "\n",
    " \n",
    "DF[feature_cols]=impute_missing_values(dataset=DF[feature_cols])"
   ]
  },
  {
   "cell_type": "code",
   "execution_count": 660,
   "id": "2340d927-2a13-4240-b9dc-0ab64e20e5ae",
   "metadata": {},
   "outputs": [
    {
     "data": {
      "text/plain": [
       "0    330112\n",
       "1      4022\n",
       "Name: SMHM_Churn, dtype: Int64"
      ]
     },
     "execution_count": 660,
     "metadata": {},
     "output_type": "execute_result"
    }
   ],
   "source": [
    "DF['SMHM_Churn'].value_counts()"
   ]
  },
  {
   "cell_type": "code",
   "execution_count": 661,
   "id": "8020d474-fc5c-4291-9d67-7f51e2aee94b",
   "metadata": {},
   "outputs": [
    {
     "name": "stdout",
     "output_type": "stream",
     "text": [
      "<class 'pandas.core.frame.DataFrame'>\n",
      "RangeIndex: 334134 entries, 0 to 334133\n",
      "Data columns (total 50 columns):\n",
      " #   Column                        Non-Null Count   Dtype  \n",
      "---  ------                        --------------   -----  \n",
      " 0   customer_id                   334134 non-null  Int64  \n",
      " 1   dealer_customer_id            334134 non-null  object \n",
      " 2   primary_login_id              334134 non-null  Int64  \n",
      " 3   dealer_name                   334134 non-null  object \n",
      " 4   join_date                     334134 non-null  object \n",
      " 5   account_type_name             334134 non-null  object \n",
      " 6   customer_type_name            334134 non-null  object \n",
      " 7   Package                       334134 non-null  object \n",
      " 8   Tenure_months                 334134 non-null  Int64  \n",
      " 9   BAN                           334134 non-null  Int64  \n",
      " 10  cust_bus_cust_id              334134 non-null  object \n",
      " 11  contract_start_date           302317 non-null  object \n",
      " 12  contract_end_date             334134 non-null  object \n",
      " 13  contract_end_status           334134 non-null  object \n",
      " 14  Contract_start_months         334134 non-null  Int64  \n",
      " 15  customer_id_1                 276711 non-null  Int64  \n",
      " 16  Best_Practices_1              334134 non-null  Int64  \n",
      " 17  Best_Practices_2              334134 non-null  Int64  \n",
      " 18  Best_Practices_3              334134 non-null  Int64  \n",
      " 19  Best_Practices_4              334134 non-null  Int64  \n",
      " 20  Best_Practices_5              334134 non-null  Int64  \n",
      " 21  Best_Practices_6              334134 non-null  Int64  \n",
      " 22  Best_Practice_All             334134 non-null  Int64  \n",
      " 23  customer_id_2                 143397 non-null  Int64  \n",
      " 24  sum_arm_commands              143397 non-null  Int64  \n",
      " 25  sum_disarm_commands           143397 non-null  Int64  \n",
      " 26  number_days_arming_disarming  143397 non-null  Int64  \n",
      " 27  count_of_dates_arming         143397 non-null  Int64  \n",
      " 28  arming_consistency            334134 non-null  float64\n",
      " 29  Avg_arm_per_day               334134 non-null  float64\n",
      " 30  Avg_disarm_per_day            334134 non-null  float64\n",
      " 31  customer_id_3                 271065 non-null  Int64  \n",
      " 32  sum_login_count               271065 non-null  Int64  \n",
      " 33  number_of_login_days          271065 non-null  Int64  \n",
      " 34  count_of_dates_login          271065 non-null  Int64  \n",
      " 35  login_consistency             334134 non-null  float64\n",
      " 36  Avg_login_per_day             334134 non-null  float64\n",
      " 37  ban_1                         334134 non-null  Int64  \n",
      " 38  product_mix_all               334134 non-null  Int64  \n",
      " 39  hsic_count                    334134 non-null  Int64  \n",
      " 40  sing_count                    334134 non-null  Int64  \n",
      " 41  shs_count                     334134 non-null  Int64  \n",
      " 42  ttv_count                     334134 non-null  Int64  \n",
      " 43  stv_count                     334134 non-null  Int64  \n",
      " 44  diic_count                    334134 non-null  Int64  \n",
      " 45  ban_2                         331671 non-null  object \n",
      " 46  Avg_SMHM_ARPU                 334134 non-null  float64\n",
      " 47  Avg_FFH_ARPU                  334134 non-null  float64\n",
      " 48  Telus_Cust_ID                 4022 non-null    object \n",
      " 49  SMHM_Churn                    334134 non-null  Int64  \n",
      "dtypes: Int64(31), float64(7), object(12)\n",
      "memory usage: 137.3+ MB\n"
     ]
    }
   ],
   "source": [
    "DF.info()"
   ]
  },
  {
   "cell_type": "code",
   "execution_count": 662,
   "id": "e4c4a7d1-4441-4425-94e3-859d211f1861",
   "metadata": {},
   "outputs": [
    {
     "name": "stdout",
     "output_type": "stream",
     "text": [
      "\n",
      "Data splitting Completed.\n"
     ]
    }
   ],
   "source": [
    "def data_splitting(dataset=DF,feature_cols=[],Target=[],testsize=0.3):\n",
    "    \n",
    "    \n",
    "    X=dataset[feature_cols]\n",
    "    Y=dataset[Target]\n",
    "    X1=pd.get_dummies(X,prefix_sep='__')\n",
    "    X_train, X_validation, Y_train, Y_validation = train_test_split(X1, Y, test_size=testsize, random_state=11,stratify=Y)\n",
    "    final_feature_columns=X_train.columns.tolist()\n",
    "    print()\n",
    "    print(\"Data splitting Completed.\")\n",
    "    return X_train,X_validation,Y_train,Y_validation,final_feature_columns\n",
    "# %%\n",
    "X_train,X_validation,Y_train,Y_validation,final_feature_columns=data_splitting(\n",
    "dataset=DF,feature_cols=feature_cols,Target=Target_col,testsize=0.3)"
   ]
  },
  {
   "cell_type": "code",
   "execution_count": 663,
   "id": "75632698-59aa-49d0-b247-ecb175bccbd7",
   "metadata": {},
   "outputs": [
    {
     "data": {
      "text/plain": [
       "(233893, 28)"
      ]
     },
     "execution_count": 663,
     "metadata": {},
     "output_type": "execute_result"
    }
   ],
   "source": [
    "X_train.shape"
   ]
  },
  {
   "cell_type": "code",
   "execution_count": 664,
   "id": "6186f04e-c98c-4cfe-84f6-512b882e50c6",
   "metadata": {},
   "outputs": [],
   "source": [
    "import json\n",
    "\n",
    "with open('Final_feature_columns.json', 'w') as Ffp:\n",
    "    json.dump(final_feature_columns, Ffp)\n",
    "\n",
    "\n",
    "with open('Intial_feature_columns.json', 'w') as Ifp:\n",
    "    json.dump(feature_cols, Ifp)"
   ]
  },
  {
   "cell_type": "code",
   "execution_count": 665,
   "id": "1596bec3-eb7f-41db-9c5d-5459859ae8ca",
   "metadata": {},
   "outputs": [],
   "source": [
    "import pandas as pd\n",
    "import numpy as np\n",
    "from sklearn.metrics import make_scorer\n",
    "\n",
    "def Capture_Rate_1stSD(ground_truth, prediction):\n",
    "    \"\"\" this functions takes in the model\n",
    "    test features, targets, will return the\n",
    "    lift dataframe\n",
    "    \"\"\"\n",
    "    #print(\"data shape:\", ground_truth.shape)\n",
    "\n",
    "    prediction_df = pd.DataFrame(prediction, columns=[\"prob_of_predict_1\"])\n",
    "    # print(prediction_df.head())\n",
    "    y_df = pd.DataFrame(ground_truth, columns=['target'])\n",
    "    prediction_with_label_df = y_df.join(prediction_df.set_index(y_df.index))\n",
    "    # Calculate lift on validation data\n",
    "    v1 = prediction_with_label_df[['target', 'prob_of_predict_1']]\n",
    "    v1.sort_values(by=['prob_of_predict_1'], inplace=True)\n",
    "    v1['Qcut'] = pd.qcut(v1['prob_of_predict_1'].rank(\n",
    "    method='first'), q=20, labels=False)\n",
    "    v1['SD'] = 20-(v1['Qcut'].astype(int))\n",
    "    vl1 = v1.drop(['Qcut'], axis=1)\n",
    "    vl1['Freq'] = vl1.groupby('SD')['target'].transform(np.sum)\n",
    "    vl2 = vl1.drop(['target', 'prob_of_predict_1'], axis=1).drop_duplicates()\n",
    "    vl2.sort_values(by=['SD'], inplace=True)\n",
    "    vl2['Cumm Sum'] = vl2['Freq'].cumsum()\n",
    "    vl2['Lift'] = vl2['Freq'].div(vl2['Freq'].sum(), axis=0).div(0.05)\n",
    "    vl2['Cumm Lift'] = vl2['Cumm Sum'].div(\n",
    "    vl2['Freq'].sum(), axis=0).div(vl2['SD']/20)\n",
    "    vl2['Capture Rate'] = vl2['Lift']*5\n",
    "    #vl2['Capture Rate_defintion'] = vl2['Freq']/vl2.iloc[19, 'Cumm Sum']\n",
    "    vl2['Cummu Capture Rate'] = vl2['Capture Rate'].cumsum()\n",
    "\n",
    "    # this is lift csv\n",
    "    # vl2.to_csv(\"/lift_chart_{0}.csv\".format(today))\n",
    "    # vl2.to_csv(\n",
    "    # f'lift_of_{model}_on_{datetime.today().strftime(\"%Y-%m-%d\")}.csv')\n",
    "    # print(f'lift_of_{model}_on_{datetime.today().strftime(\"%Y-%m-%d\")}.csv')\n",
    "    #print(\"Training process completed success\")\n",
    "    Magic_score= round(vl2.iloc[0, 6],2)\n",
    "    print(\"Cumm Capture Rate on 1st SD is: \", Magic_score)\n",
    "    #vl2[vl2['SD'] == 1, 'Lift'].iloc[0]\n",
    "    return Magic_score\n",
    "\n",
    "\n",
    "\n",
    "def lift_calc_pd(model, X_test, y_test,target_column): # , model_path\n",
    "    \"\"\" this functions takes in the model\n",
    "    test features, targets, will return the\n",
    "    lift dataframe\n",
    "    \"\"\"\n",
    "    prediction = model.predict_proba(X_test)\n",
    "    print(\"output shape\", prediction.shape)\n",
    "    print(\"y_test shape:\", y_test.shape)\n",
    "    #Total_Actual_positive_targets=sum(y_test[target_column])\n",
    "    #print('Total_Actual_positive_targets:',Total_Actual_positive_targets)\n",
    "\n",
    "\n",
    "    prediction_df = pd.DataFrame(\n",
    "    prediction, columns=['prob_of_predict_0', 'prob_of_predict_1'])\n",
    "    y_df = pd.DataFrame(y_test, columns=[target_column])\n",
    "    prediction_with_label_df = y_df.join(prediction_df.set_index(y_df.index))\n",
    "\n",
    "\n",
    "    # Calculate lift on validation data\n",
    "    v1 = prediction_with_label_df[[target_column, 'prob_of_predict_1']]\n",
    "    v1.sort_values(by=['prob_of_predict_1'], inplace=True)\n",
    "    v1['Qcut'] = pd.qcut(v1['prob_of_predict_1'].rank(\n",
    "    method='first'), q=20, labels=False)\n",
    "    v1['SD'] = 20-(v1['Qcut'].astype(int))\n",
    "\n",
    "\n",
    "    vl1 = v1.drop(['Qcut'], axis=1)\n",
    "    vl1['Freq'] = vl1.groupby('SD')[target_column].transform(np.sum)\n",
    "    vl2 = vl1.drop([target_column, 'prob_of_predict_1'], axis=1).drop_duplicates()\n",
    "    vl2.sort_values(by=['SD'], inplace=True)\n",
    "    vl2['Cumm Sum'] = vl2['Freq'].cumsum()\n",
    "    vl2['Lift'] = vl2['Freq'].div(vl2['Freq'].sum(), axis=0).div(0.05)\n",
    "    vl2['Cumm Lift'] = vl2['Cumm Sum'].div(vl2['Freq'].sum(), axis=0).div(vl2['SD']/20)\n",
    "    vl2['Capture Rate'] = vl2['Lift']*5\n",
    "    vl2['Cummu Capture Rate'] = vl2['Capture Rate'].cumsum()\n",
    "    # vl2['Capture_Rate_Defintion']= vl2['Freq']*100/Total_Actual_positive_targets\n",
    "    # vl2['Cummu_Capture_Rate_Defintion']= vl2['Capture_Rate_Defintion'].cumsum()\n",
    "    return pd.DataFrame(vl2)\n"
   ]
  },
  {
   "cell_type": "code",
   "execution_count": 666,
   "id": "39f1997f-2f52-4560-8435-20f2f6a3f5a4",
   "metadata": {},
   "outputs": [],
   "source": [
    "from xgboost import XGBClassifier\n",
    "from sklearn.model_selection import RandomizedSearchCV\n",
    "from sklearn.metrics import make_scorer\n",
    "from sklearn.model_selection import GridSearchCV"
   ]
  },
  {
   "cell_type": "code",
   "execution_count": 667,
   "id": "9e1033b4-4728-432d-807a-2ce37e0fa46b",
   "metadata": {},
   "outputs": [],
   "source": [
    "Algo= 'XGB_SMHM'\n",
    "#Optimization='TuneCV_BOHB_6thSD_Lift'\n",
    "Optimization='RandomSearch_CaptureRate'\n",
    "\n",
    "custom_scorer = make_scorer(\n",
    "    Capture_Rate_1stSD, greater_is_better=True, needs_proba=True)"
   ]
  },
  {
   "cell_type": "code",
   "execution_count": 668,
   "id": "ba2b7443-4c10-4aad-ad28-65fdc0eb5fcd",
   "metadata": {},
   "outputs": [],
   "source": [
    "params = {\n",
    "    \"gamma\": list(range(1, 21)),\n",
    "    \"subsample\": np.round(np.arange(0.2, 1, 0.1),2).tolist(),\n",
    "    \"colsample_bytree\": np.round(np.arange(0.2, 1, 0.1),2).tolist(),\n",
    "    \"n_estimators\": np.arange(10, 200, 10).tolist(), \n",
    "    \"max_depth\": list(range(3, 7)),\n",
    "    # \"scale_pos_weight\": list(range(1, 20)),\n",
    "    \"learning_rate\": np.round(np.arange(0.001, 0.3, 0.005),3).tolist()\n",
    "}"
   ]
  },
  {
   "cell_type": "code",
   "execution_count": 669,
   "id": "6e2dd819-4311-4a16-9c6a-249bb133026f",
   "metadata": {},
   "outputs": [],
   "source": [
    "params_1 = {\n",
    "    \"n_estimators\": [10,20]\n",
    "}"
   ]
  },
  {
   "cell_type": "code",
   "execution_count": 670,
   "id": "6c9e1fc1-fe4c-4a5f-a410-1a91f9ec6425",
   "metadata": {},
   "outputs": [],
   "source": [
    "xgb = XGBClassifier(\n",
    "    #learning_rate=0.02,\n",
    "    #n_estimators=50,\n",
    "    # objective=\"binary:logistic\",\n",
    "    nthread=-1,\n",
    "    verbosity=1,\n",
    "    use_label_encoder=False\n",
    "    # enable_categorical=True\n",
    "    # tree_method=\"gpu_hist\"  # this enables GPU.\n",
    "    # See https://github.com/dmlc/xgboost/issues/2819\n",
    ")"
   ]
  },
  {
   "cell_type": "code",
   "execution_count": 671,
   "id": "1a0542dc-b028-4e43-a97c-53939ce4db7d",
   "metadata": {},
   "outputs": [
    {
     "data": {
      "text/plain": [
       "SMHM_Churn\n",
       "0             231078\n",
       "1               2815\n",
       "dtype: int64"
      ]
     },
     "execution_count": 671,
     "metadata": {},
     "output_type": "execute_result"
    }
   ],
   "source": [
    "Y_train.value_counts()"
   ]
  },
  {
   "cell_type": "code",
   "execution_count": 672,
   "id": "66c9cf62-0b2f-43ef-8edf-ca326ac44a9a",
   "metadata": {},
   "outputs": [],
   "source": [
    "# Y_train=Y_train.astype('category')"
   ]
  },
  {
   "cell_type": "code",
   "execution_count": 673,
   "id": "ed63a602-32e3-4cd3-acc7-69818452240b",
   "metadata": {},
   "outputs": [
    {
     "data": {
      "text/plain": [
       "SMHM_Churn    0\n",
       "dtype: int64"
      ]
     },
     "execution_count": 673,
     "metadata": {},
     "output_type": "execute_result"
    }
   ],
   "source": [
    "Y_train.isnull().sum()"
   ]
  },
  {
   "cell_type": "code",
   "execution_count": 674,
   "id": "87969237-31ba-4294-9adc-104f3fef1f22",
   "metadata": {},
   "outputs": [
    {
     "data": {
      "text/plain": [
       "SMHM_Churn    Int64\n",
       "dtype: object"
      ]
     },
     "execution_count": 674,
     "metadata": {},
     "output_type": "execute_result"
    }
   ],
   "source": [
    "Y_train.dtypes"
   ]
  },
  {
   "cell_type": "code",
   "execution_count": 675,
   "id": "f3d69cd2-3203-41c5-8eb2-97f6186ecbea",
   "metadata": {},
   "outputs": [],
   "source": [
    "search = RandomizedSearchCV(xgb, param_distributions=params_1,cv=3,error_score=\"raise\")"
   ]
  },
  {
   "cell_type": "code",
   "execution_count": 676,
   "id": "421db5aa-ad3b-4e69-98d4-77ae01392831",
   "metadata": {},
   "outputs": [],
   "source": [
    "search_1=GridSearchCV(estimator=xgb,param_grid=params_1,scoring=custom_scorer)"
   ]
  },
  {
   "cell_type": "code",
   "execution_count": 677,
   "id": "f1a57083-eca0-4ac8-a391-60b109509be6",
   "metadata": {},
   "outputs": [
    {
     "data": {
      "text/plain": [
       "array([[0],\n",
       "       [0],\n",
       "       [1],\n",
       "       ...,\n",
       "       [1],\n",
       "       [0],\n",
       "       [1]], dtype=object)"
      ]
     },
     "execution_count": 677,
     "metadata": {},
     "output_type": "execute_result"
    }
   ],
   "source": [
    "Y_train.values"
   ]
  },
  {
   "cell_type": "code",
   "execution_count": 678,
   "id": "d045b02d-d2ab-4e0d-bd87-a4b2ff6ccbe1",
   "metadata": {},
   "outputs": [],
   "source": [
    "# search_1.fit(X_train,Y_train.values)"
   ]
  },
  {
   "cell_type": "code",
   "execution_count": 679,
   "id": "e3c7a22c-a70a-4bae-8b8a-8e18c3b2617d",
   "metadata": {},
   "outputs": [
    {
     "data": {
      "text/html": [
       "<style>#sk-container-id-11 {color: black;background-color: white;}#sk-container-id-11 pre{padding: 0;}#sk-container-id-11 div.sk-toggleable {background-color: white;}#sk-container-id-11 label.sk-toggleable__label {cursor: pointer;display: block;width: 100%;margin-bottom: 0;padding: 0.3em;box-sizing: border-box;text-align: center;}#sk-container-id-11 label.sk-toggleable__label-arrow:before {content: \"▸\";float: left;margin-right: 0.25em;color: #696969;}#sk-container-id-11 label.sk-toggleable__label-arrow:hover:before {color: black;}#sk-container-id-11 div.sk-estimator:hover label.sk-toggleable__label-arrow:before {color: black;}#sk-container-id-11 div.sk-toggleable__content {max-height: 0;max-width: 0;overflow: hidden;text-align: left;background-color: #f0f8ff;}#sk-container-id-11 div.sk-toggleable__content pre {margin: 0.2em;color: black;border-radius: 0.25em;background-color: #f0f8ff;}#sk-container-id-11 input.sk-toggleable__control:checked~div.sk-toggleable__content {max-height: 200px;max-width: 100%;overflow: auto;}#sk-container-id-11 input.sk-toggleable__control:checked~label.sk-toggleable__label-arrow:before {content: \"▾\";}#sk-container-id-11 div.sk-estimator input.sk-toggleable__control:checked~label.sk-toggleable__label {background-color: #d4ebff;}#sk-container-id-11 div.sk-label input.sk-toggleable__control:checked~label.sk-toggleable__label {background-color: #d4ebff;}#sk-container-id-11 input.sk-hidden--visually {border: 0;clip: rect(1px 1px 1px 1px);clip: rect(1px, 1px, 1px, 1px);height: 1px;margin: -1px;overflow: hidden;padding: 0;position: absolute;width: 1px;}#sk-container-id-11 div.sk-estimator {font-family: monospace;background-color: #f0f8ff;border: 1px dotted black;border-radius: 0.25em;box-sizing: border-box;margin-bottom: 0.5em;}#sk-container-id-11 div.sk-estimator:hover {background-color: #d4ebff;}#sk-container-id-11 div.sk-parallel-item::after {content: \"\";width: 100%;border-bottom: 1px solid gray;flex-grow: 1;}#sk-container-id-11 div.sk-label:hover label.sk-toggleable__label {background-color: #d4ebff;}#sk-container-id-11 div.sk-serial::before {content: \"\";position: absolute;border-left: 1px solid gray;box-sizing: border-box;top: 0;bottom: 0;left: 50%;z-index: 0;}#sk-container-id-11 div.sk-serial {display: flex;flex-direction: column;align-items: center;background-color: white;padding-right: 0.2em;padding-left: 0.2em;position: relative;}#sk-container-id-11 div.sk-item {position: relative;z-index: 1;}#sk-container-id-11 div.sk-parallel {display: flex;align-items: stretch;justify-content: center;background-color: white;position: relative;}#sk-container-id-11 div.sk-item::before, #sk-container-id-11 div.sk-parallel-item::before {content: \"\";position: absolute;border-left: 1px solid gray;box-sizing: border-box;top: 0;bottom: 0;left: 50%;z-index: -1;}#sk-container-id-11 div.sk-parallel-item {display: flex;flex-direction: column;z-index: 1;position: relative;background-color: white;}#sk-container-id-11 div.sk-parallel-item:first-child::after {align-self: flex-end;width: 50%;}#sk-container-id-11 div.sk-parallel-item:last-child::after {align-self: flex-start;width: 50%;}#sk-container-id-11 div.sk-parallel-item:only-child::after {width: 0;}#sk-container-id-11 div.sk-dashed-wrapped {border: 1px dashed gray;margin: 0 0.4em 0.5em 0.4em;box-sizing: border-box;padding-bottom: 0.4em;background-color: white;}#sk-container-id-11 div.sk-label label {font-family: monospace;font-weight: bold;display: inline-block;line-height: 1.2em;}#sk-container-id-11 div.sk-label-container {text-align: center;}#sk-container-id-11 div.sk-container {/* jupyter's `normalize.less` sets `[hidden] { display: none; }` but bootstrap.min.css set `[hidden] { display: none !important; }` so we also need the `!important` here to be able to override the default hidden behavior on the sphinx rendered scikit-learn.org. See: https://github.com/scikit-learn/scikit-learn/issues/21755 */display: inline-block !important;position: relative;}#sk-container-id-11 div.sk-text-repr-fallback {display: none;}</style><div id=\"sk-container-id-11\" class=\"sk-top-container\"><div class=\"sk-text-repr-fallback\"><pre>XGBClassifier(base_score=0.5, booster=&#x27;gbtree&#x27;, callbacks=None,\n",
       "              colsample_bylevel=1, colsample_bynode=1, colsample_bytree=1,\n",
       "              early_stopping_rounds=None, enable_categorical=False,\n",
       "              eval_metric=None, gamma=0, gpu_id=-1, grow_policy=&#x27;depthwise&#x27;,\n",
       "              importance_type=None, interaction_constraints=&#x27;&#x27;,\n",
       "              learning_rate=0.300000012, max_bin=256, max_cat_to_onehot=4,\n",
       "              max_delta_step=0, max_depth=6, max_leaves=0, min_child_weight=1,\n",
       "              missing=nan, monotone_constraints=&#x27;()&#x27;, n_estimators=100,\n",
       "              n_jobs=-1, nthread=-1, num_parallel_tree=1, predictor=&#x27;auto&#x27;,\n",
       "              random_state=0, reg_alpha=0, ...)</pre><b>In a Jupyter environment, please rerun this cell to show the HTML representation or trust the notebook. <br />On GitHub, the HTML representation is unable to render, please try loading this page with nbviewer.org.</b></div><div class=\"sk-container\" hidden><div class=\"sk-item\"><div class=\"sk-estimator sk-toggleable\"><input class=\"sk-toggleable__control sk-hidden--visually\" id=\"sk-estimator-id-17\" type=\"checkbox\" checked><label for=\"sk-estimator-id-17\" class=\"sk-toggleable__label sk-toggleable__label-arrow\">XGBClassifier</label><div class=\"sk-toggleable__content\"><pre>XGBClassifier(base_score=0.5, booster=&#x27;gbtree&#x27;, callbacks=None,\n",
       "              colsample_bylevel=1, colsample_bynode=1, colsample_bytree=1,\n",
       "              early_stopping_rounds=None, enable_categorical=False,\n",
       "              eval_metric=None, gamma=0, gpu_id=-1, grow_policy=&#x27;depthwise&#x27;,\n",
       "              importance_type=None, interaction_constraints=&#x27;&#x27;,\n",
       "              learning_rate=0.300000012, max_bin=256, max_cat_to_onehot=4,\n",
       "              max_delta_step=0, max_depth=6, max_leaves=0, min_child_weight=1,\n",
       "              missing=nan, monotone_constraints=&#x27;()&#x27;, n_estimators=100,\n",
       "              n_jobs=-1, nthread=-1, num_parallel_tree=1, predictor=&#x27;auto&#x27;,\n",
       "              random_state=0, reg_alpha=0, ...)</pre></div></div></div></div></div>"
      ],
      "text/plain": [
       "XGBClassifier(base_score=0.5, booster='gbtree', callbacks=None,\n",
       "              colsample_bylevel=1, colsample_bynode=1, colsample_bytree=1,\n",
       "              early_stopping_rounds=None, enable_categorical=False,\n",
       "              eval_metric=None, gamma=0, gpu_id=-1, grow_policy='depthwise',\n",
       "              importance_type=None, interaction_constraints='',\n",
       "              learning_rate=0.300000012, max_bin=256, max_cat_to_onehot=4,\n",
       "              max_delta_step=0, max_depth=6, max_leaves=0, min_child_weight=1,\n",
       "              missing=nan, monotone_constraints='()', n_estimators=100,\n",
       "              n_jobs=-1, nthread=-1, num_parallel_tree=1, predictor='auto',\n",
       "              random_state=0, reg_alpha=0, ...)"
      ]
     },
     "execution_count": 679,
     "metadata": {},
     "output_type": "execute_result"
    }
   ],
   "source": [
    "xgb.fit(X_train,Y_train)\n"
   ]
  },
  {
   "cell_type": "code",
   "execution_count": 680,
   "id": "e2dff2d9-6a0e-4a08-9f69-bc6076c24afc",
   "metadata": {},
   "outputs": [],
   "source": [
    "# search_1.best_params_"
   ]
  },
  {
   "cell_type": "code",
   "execution_count": 681,
   "id": "57aa59e8-c9bb-4c68-a458-beedd68e7363",
   "metadata": {},
   "outputs": [],
   "source": [
    "# pd.DataFrame(search_1.cv_results_)"
   ]
  },
  {
   "cell_type": "code",
   "execution_count": 682,
   "id": "ee932d40-b593-4d86-bf4a-b281b4873261",
   "metadata": {},
   "outputs": [
    {
     "name": "stdout",
     "output_type": "stream",
     "text": [
      "output shape (100241, 2)\n",
      "y_test shape: (100241, 1)\n"
     ]
    },
    {
     "name": "stderr",
     "output_type": "stream",
     "text": [
      "\n",
      "A value is trying to be set on a copy of a slice from a DataFrame\n",
      "\n",
      "See the caveats in the documentation: https://pandas.pydata.org/pandas-docs/stable/user_guide/indexing.html#returning-a-view-versus-a-copy\n"
     ]
    }
   ],
   "source": [
    "val_DF_metric=lift_calc_pd(model=xgb,X_test=X_validation\n",
    ",y_test=Y_validation,target_column=Target_col[0])"
   ]
  },
  {
   "cell_type": "code",
   "execution_count": 683,
   "id": "2a04709e-0090-46cc-b1f2-d5a927108f7f",
   "metadata": {},
   "outputs": [
    {
     "data": {
      "text/html": [
       "<div>\n",
       "<style scoped>\n",
       "    .dataframe tbody tr th:only-of-type {\n",
       "        vertical-align: middle;\n",
       "    }\n",
       "\n",
       "    .dataframe tbody tr th {\n",
       "        vertical-align: top;\n",
       "    }\n",
       "\n",
       "    .dataframe thead th {\n",
       "        text-align: right;\n",
       "    }\n",
       "</style>\n",
       "<table border=\"1\" class=\"dataframe\">\n",
       "  <thead>\n",
       "    <tr style=\"text-align: right;\">\n",
       "      <th></th>\n",
       "      <th>SD</th>\n",
       "      <th>Freq</th>\n",
       "      <th>Cumm Sum</th>\n",
       "      <th>Lift</th>\n",
       "      <th>Cumm Lift</th>\n",
       "      <th>Capture Rate</th>\n",
       "      <th>Cummu Capture Rate</th>\n",
       "    </tr>\n",
       "  </thead>\n",
       "  <tbody>\n",
       "    <tr>\n",
       "      <th>107565</th>\n",
       "      <td>1</td>\n",
       "      <td>421</td>\n",
       "      <td>421</td>\n",
       "      <td>6.975973</td>\n",
       "      <td>6.975973</td>\n",
       "      <td>34.879867</td>\n",
       "      <td>34.879867</td>\n",
       "    </tr>\n",
       "    <tr>\n",
       "      <th>149028</th>\n",
       "      <td>2</td>\n",
       "      <td>153</td>\n",
       "      <td>574</td>\n",
       "      <td>2.535211</td>\n",
       "      <td>4.755592</td>\n",
       "      <td>12.676056</td>\n",
       "      <td>47.555924</td>\n",
       "    </tr>\n",
       "    <tr>\n",
       "      <th>285782</th>\n",
       "      <td>3</td>\n",
       "      <td>82</td>\n",
       "      <td>656</td>\n",
       "      <td>1.358741</td>\n",
       "      <td>3.623308</td>\n",
       "      <td>6.793703</td>\n",
       "      <td>54.349627</td>\n",
       "    </tr>\n",
       "    <tr>\n",
       "      <th>285554</th>\n",
       "      <td>4</td>\n",
       "      <td>80</td>\n",
       "      <td>736</td>\n",
       "      <td>1.325601</td>\n",
       "      <td>3.048882</td>\n",
       "      <td>6.628003</td>\n",
       "      <td>60.97763</td>\n",
       "    </tr>\n",
       "    <tr>\n",
       "      <th>3278</th>\n",
       "      <td>5</td>\n",
       "      <td>65</td>\n",
       "      <td>801</td>\n",
       "      <td>1.077051</td>\n",
       "      <td>2.654515</td>\n",
       "      <td>5.385253</td>\n",
       "      <td>66.362883</td>\n",
       "    </tr>\n",
       "    <tr>\n",
       "      <th>139550</th>\n",
       "      <td>6</td>\n",
       "      <td>62</td>\n",
       "      <td>863</td>\n",
       "      <td>1.027341</td>\n",
       "      <td>2.38332</td>\n",
       "      <td>5.136703</td>\n",
       "      <td>71.499586</td>\n",
       "    </tr>\n",
       "    <tr>\n",
       "      <th>77469</th>\n",
       "      <td>7</td>\n",
       "      <td>42</td>\n",
       "      <td>905</td>\n",
       "      <td>0.69594</td>\n",
       "      <td>2.142265</td>\n",
       "      <td>3.479702</td>\n",
       "      <td>74.979287</td>\n",
       "    </tr>\n",
       "    <tr>\n",
       "      <th>190817</th>\n",
       "      <td>8</td>\n",
       "      <td>38</td>\n",
       "      <td>943</td>\n",
       "      <td>0.62966</td>\n",
       "      <td>1.95319</td>\n",
       "      <td>3.148302</td>\n",
       "      <td>78.127589</td>\n",
       "    </tr>\n",
       "    <tr>\n",
       "      <th>310214</th>\n",
       "      <td>9</td>\n",
       "      <td>38</td>\n",
       "      <td>981</td>\n",
       "      <td>0.62966</td>\n",
       "      <td>1.806131</td>\n",
       "      <td>3.148302</td>\n",
       "      <td>81.275891</td>\n",
       "    </tr>\n",
       "    <tr>\n",
       "      <th>217498</th>\n",
       "      <td>10</td>\n",
       "      <td>33</td>\n",
       "      <td>1014</td>\n",
       "      <td>0.54681</td>\n",
       "      <td>1.680199</td>\n",
       "      <td>2.734051</td>\n",
       "      <td>84.009942</td>\n",
       "    </tr>\n",
       "    <tr>\n",
       "      <th>156662</th>\n",
       "      <td>11</td>\n",
       "      <td>28</td>\n",
       "      <td>1042</td>\n",
       "      <td>0.46396</td>\n",
       "      <td>1.569632</td>\n",
       "      <td>2.319801</td>\n",
       "      <td>86.329743</td>\n",
       "    </tr>\n",
       "    <tr>\n",
       "      <th>219449</th>\n",
       "      <td>12</td>\n",
       "      <td>23</td>\n",
       "      <td>1065</td>\n",
       "      <td>0.38111</td>\n",
       "      <td>1.470588</td>\n",
       "      <td>1.905551</td>\n",
       "      <td>88.235294</td>\n",
       "    </tr>\n",
       "    <tr>\n",
       "      <th>239693</th>\n",
       "      <td>13</td>\n",
       "      <td>25</td>\n",
       "      <td>1090</td>\n",
       "      <td>0.41425</td>\n",
       "      <td>1.389331</td>\n",
       "      <td>2.071251</td>\n",
       "      <td>90.306545</td>\n",
       "    </tr>\n",
       "    <tr>\n",
       "      <th>201849</th>\n",
       "      <td>14</td>\n",
       "      <td>27</td>\n",
       "      <td>1117</td>\n",
       "      <td>0.44739</td>\n",
       "      <td>1.32205</td>\n",
       "      <td>2.236951</td>\n",
       "      <td>92.543496</td>\n",
       "    </tr>\n",
       "    <tr>\n",
       "      <th>163340</th>\n",
       "      <td>15</td>\n",
       "      <td>11</td>\n",
       "      <td>1128</td>\n",
       "      <td>0.18227</td>\n",
       "      <td>1.246065</td>\n",
       "      <td>0.91135</td>\n",
       "      <td>93.454847</td>\n",
       "    </tr>\n",
       "    <tr>\n",
       "      <th>321370</th>\n",
       "      <td>16</td>\n",
       "      <td>23</td>\n",
       "      <td>1151</td>\n",
       "      <td>0.38111</td>\n",
       "      <td>1.192005</td>\n",
       "      <td>1.905551</td>\n",
       "      <td>95.360398</td>\n",
       "    </tr>\n",
       "    <tr>\n",
       "      <th>120634</th>\n",
       "      <td>17</td>\n",
       "      <td>17</td>\n",
       "      <td>1168</td>\n",
       "      <td>0.28169</td>\n",
       "      <td>1.138457</td>\n",
       "      <td>1.408451</td>\n",
       "      <td>96.768848</td>\n",
       "    </tr>\n",
       "    <tr>\n",
       "      <th>182158</th>\n",
       "      <td>18</td>\n",
       "      <td>18</td>\n",
       "      <td>1186</td>\n",
       "      <td>0.29826</td>\n",
       "      <td>1.091779</td>\n",
       "      <td>1.491301</td>\n",
       "      <td>98.260149</td>\n",
       "    </tr>\n",
       "    <tr>\n",
       "      <th>307230</th>\n",
       "      <td>19</td>\n",
       "      <td>11</td>\n",
       "      <td>1197</td>\n",
       "      <td>0.18227</td>\n",
       "      <td>1.043911</td>\n",
       "      <td>0.91135</td>\n",
       "      <td>99.1715</td>\n",
       "    </tr>\n",
       "    <tr>\n",
       "      <th>238483</th>\n",
       "      <td>20</td>\n",
       "      <td>10</td>\n",
       "      <td>1207</td>\n",
       "      <td>0.1657</td>\n",
       "      <td>1.0</td>\n",
       "      <td>0.8285</td>\n",
       "      <td>100.0</td>\n",
       "    </tr>\n",
       "  </tbody>\n",
       "</table>\n",
       "</div>"
      ],
      "text/plain": [
       "        SD  Freq Cumm Sum      Lift Cumm Lift  Capture Rate Cummu Capture Rate\n",
       "107565   1   421      421  6.975973  6.975973     34.879867          34.879867\n",
       "149028   2   153      574  2.535211  4.755592     12.676056          47.555924\n",
       "285782   3    82      656  1.358741  3.623308      6.793703          54.349627\n",
       "285554   4    80      736  1.325601  3.048882      6.628003           60.97763\n",
       "3278     5    65      801  1.077051  2.654515      5.385253          66.362883\n",
       "139550   6    62      863  1.027341   2.38332      5.136703          71.499586\n",
       "77469    7    42      905   0.69594  2.142265      3.479702          74.979287\n",
       "190817   8    38      943   0.62966   1.95319      3.148302          78.127589\n",
       "310214   9    38      981   0.62966  1.806131      3.148302          81.275891\n",
       "217498  10    33     1014   0.54681  1.680199      2.734051          84.009942\n",
       "156662  11    28     1042   0.46396  1.569632      2.319801          86.329743\n",
       "219449  12    23     1065   0.38111  1.470588      1.905551          88.235294\n",
       "239693  13    25     1090   0.41425  1.389331      2.071251          90.306545\n",
       "201849  14    27     1117   0.44739   1.32205      2.236951          92.543496\n",
       "163340  15    11     1128   0.18227  1.246065       0.91135          93.454847\n",
       "321370  16    23     1151   0.38111  1.192005      1.905551          95.360398\n",
       "120634  17    17     1168   0.28169  1.138457      1.408451          96.768848\n",
       "182158  18    18     1186   0.29826  1.091779      1.491301          98.260149\n",
       "307230  19    11     1197   0.18227  1.043911       0.91135            99.1715\n",
       "238483  20    10     1207    0.1657       1.0        0.8285              100.0"
      ]
     },
     "execution_count": 683,
     "metadata": {},
     "output_type": "execute_result"
    }
   ],
   "source": [
    "val_DF_metric"
   ]
  },
  {
   "cell_type": "code",
   "execution_count": 684,
   "id": "e6b0b438-4884-428a-a6bc-e3b861d3368d",
   "metadata": {},
   "outputs": [
    {
     "data": {
      "text/plain": [
       "<AxesSubplot:>"
      ]
     },
     "execution_count": 684,
     "metadata": {},
     "output_type": "execute_result"
    },
    {
     "data": {
      "image/png": "[encoded data removed]",
      "text/plain": [
       "<Figure size 1440x720 with 1 Axes>"
      ]
     },
     "metadata": {
      "needs_background": "light"
     },
     "output_type": "display_data"
    }
   ],
   "source": [
    "feature_important = xgb.get_booster().get_score(importance_type='weight')\n",
    "keys = list(feature_important.keys())\n",
    "values = list(feature_important.values())\n",
    "\n",
    "data = pd.DataFrame(data=values, index=keys, columns=[\"score\"]).sort_values(by = \"score\", ascending=False)\n",
    "data.nlargest(15, columns=\"score\").plot(kind='barh', figsize = (20,10)) ## plot top 40 features\n"
   ]
  },
  {
   "cell_type": "code",
   "execution_count": 685,
   "id": "5b96235c-f5cd-4ea6-815f-55e735e5c3b9",
   "metadata": {},
   "outputs": [
    {
     "name": "stderr",
     "output_type": "stream",
     "text": [
      "ntree_limit is deprecated, use `iteration_range` or model slicing instead.\n"
     ]
    },
    {
     "data": {
      "image/png": "[encoded data removed]",
      "text/plain": [
       "<Figure size 576x540 with 2 Axes>"
      ]
     },
     "metadata": {
      "needs_background": "light"
     },
     "output_type": "display_data"
    }
   ],
   "source": [
    "import shap\n",
    "# model_shap = XGB_final_model.best_estimator_\n",
    "explainer = shap.TreeExplainer(xgb)\n",
    "shap_values = explainer.shap_values(X_train,check_additivity=False)\n",
    "#%%\n",
    "\n",
    "shap.summary_plot(shap_values, features=X_train\n",
    ", feature_names=final_feature_columns,show=False,max_display=15)"
   ]
  },
  {
   "cell_type": "code",
   "execution_count": 687,
   "id": "d9eb067a-7024-4164-af59-a54235d8b17e",
   "metadata": {},
   "outputs": [
    {
     "name": "stderr",
     "output_type": "stream",
     "text": [
      "ntree_limit is deprecated, use `iteration_range` or model slicing instead.\n"
     ]
    },
    {
     "data": {
      "image/png": "[encoded data removed]",
      "text/plain": [
       "<Figure size 576x540 with 2 Axes>"
      ]
     },
     "metadata": {
      "needs_background": "light"
     },
     "output_type": "display_data"
    }
   ],
   "source": [
    "explainer = shap.TreeExplainer(xgb)\n",
    "shap_values = explainer.shap_values(X_validation,check_additivity=False)\n",
    "#%%\n",
    "\n",
    "shap.summary_plot(shap_values, features=X_validation\n",
    ", feature_names=final_feature_columns,show=False,max_display=15)"
   ]
  },
  {
   "cell_type": "code",
   "execution_count": 361,
   "id": "02a4548d-a0db-4907-b9cc-93bcdadc321e",
   "metadata": {},
   "outputs": [],
   "source": [
    "# Y_train=Y_train.astype('int')\n",
    "# Y_validation=Y_validation.astype('int')"
   ]
  },
  {
   "cell_type": "code",
   "execution_count": 689,
   "id": "a9fa5bb0-48cf-4135-8179-a1a0ddadf22a",
   "metadata": {},
   "outputs": [
    {
     "data": {
      "text/plain": [
       "['XGB_SMHM_SMHM_churn_model_20230317_065805.pkl']"
      ]
     },
     "execution_count": 689,
     "metadata": {},
     "output_type": "execute_result"
    }
   ],
   "source": [
    "import datetime\n",
    "import joblib\n",
    "\n",
    "date_time_now=datetime.datetime.now().strftime(\"%Y%m%d_%I%M%S\")\n",
    "Model_filename_1=Algo+'_'+'SMHM_churn_model'+'_'+date_time_now+'.pkl'\n",
    "joblib.dump(xgb,Model_filename_1)\n"
   ]
  },
  {
   "cell_type": "code",
   "execution_count": 362,
   "id": "6b4a5d81-09f5-4974-8f3f-6595cf6b5d64",
   "metadata": {},
   "outputs": [],
   "source": [
    "# X_train=X_train.astype('int')\n",
    "# X_validation=X_validation.astype('int')"
   ]
  },
  {
   "cell_type": "code",
   "execution_count": 686,
   "id": "c689259c-9a93-4332-9f1c-5cd013f5233b",
   "metadata": {},
   "outputs": [
    {
     "data": {
      "text/plain": [
       "ttv_count                                                  Int64\n",
       "Avg_arm_per_day                                          float64\n",
       "hsic_count                                                 Int64\n",
       "Best_Practices_3                                           Int64\n",
       "Best_Practices_5                                           Int64\n",
       "Tenure_months                                              Int64\n",
       "Best_Practices_1                                           Int64\n",
       "Contract_start_months                                      Int64\n",
       "Avg_FFH_ARPU                                             float64\n",
       "Best_Practices_6                                           Int64\n",
       "Best_Practice_All                                          Int64\n",
       "Avg_login_per_day                                        float64\n",
       "stv_count                                                  Int64\n",
       "Avg_SMHM_ARPU                                            float64\n",
       "Best_Practices_2                                           Int64\n",
       "Best_Practices_4                                           Int64\n",
       "diic_count                                                 Int64\n",
       "Avg_disarm_per_day                                       float64\n",
       "login_consistency                                        float64\n",
       "sing_count                                                 Int64\n",
       "arming_consistency                                       float64\n",
       "product_mix_all                                            Int64\n",
       "contract_end_status__contract_expired                      uint8\n",
       "contract_end_status__contract_expiring_after_90_days       uint8\n",
       "contract_end_status__contract_expiring_within_90_days      uint8\n",
       "Package__Monitored                                         uint8\n",
       "Package__Smart_Automation_Plus                             uint8\n",
       "Package__Smart_Camera                                      uint8\n",
       "dtype: object"
      ]
     },
     "execution_count": 686,
     "metadata": {},
     "output_type": "execute_result"
    }
   ],
   "source": [
    "X_train.dtypes"
   ]
  },
  {
   "cell_type": "code",
   "execution_count": 381,
   "id": "6973e9eb-bd63-4acf-a55b-e19bae15b5f5",
   "metadata": {},
   "outputs": [],
   "source": [
    "Y_train=Y_train.astype('float64')\n",
    "Y_validation=Y_validation.astype('float64')"
   ]
  },
  {
   "cell_type": "code",
   "execution_count": 382,
   "id": "3cc6552e-576b-49ac-b58d-c03625edf28e",
   "metadata": {},
   "outputs": [],
   "source": [
    "X_train['ttv_count']=X_train['ttv_count'].astype('float64')\n",
    "X_train['sing_count']=X_train['sing_count'].astype('float64')\n",
    "X_train['hsic_count']=X_train['hsic_count'].astype('float64')\n",
    "X_train['product_mix_all']=X_train['product_mix_all'].astype('float64')\n",
    "X_train['diic_count']=X_train['diic_count'].astype('float64')\n",
    "X_train['stv_count']=X_train['stv_count'].astype('float64')"
   ]
  },
  {
   "cell_type": "code",
   "execution_count": 383,
   "id": "2b873e95-3296-45f7-a494-72a4dbfa522f",
   "metadata": {},
   "outputs": [],
   "source": [
    "X_validation['ttv_count']=X_validation['ttv_count'].astype('float64')\n",
    "X_validation['sing_count']=X_validation['sing_count'].astype('float64')\n",
    "X_validation['hsic_count']=X_validation['hsic_count'].astype('float64')\n",
    "X_validation['product_mix_all']=X_validation['product_mix_all'].astype('float64')\n",
    "X_validation['diic_count']=X_validation['diic_count'].astype('float64')\n",
    "X_validation['stv_count']=X_validation['stv_count'].astype('float64')"
   ]
  },
  {
   "cell_type": "code",
   "execution_count": 459,
   "id": "deaf28e0-7a0a-438d-9d4b-c2fb12f9f47c",
   "metadata": {},
   "outputs": [
    {
     "data": {
      "text/plain": [
       "SMHM_Churn    Int64\n",
       "dtype: object"
      ]
     },
     "execution_count": 459,
     "metadata": {},
     "output_type": "execute_result"
    }
   ],
   "source": [
    "Y_train.dtypes"
   ]
  },
  {
   "cell_type": "code",
   "execution_count": 460,
   "id": "14f01a11-6900-4872-b968-0b589b6f100f",
   "metadata": {},
   "outputs": [
    {
     "name": "stdout",
     "output_type": "stream",
     "text": [
      "<class 'pandas.core.frame.DataFrame'>\n",
      "Int64Index: 180420 entries, 243252 to 187630\n",
      "Data columns (total 1 columns):\n",
      " #   Column      Non-Null Count   Dtype\n",
      "---  ------      --------------   -----\n",
      " 0   SMHM_Churn  180420 non-null  Int64\n",
      "dtypes: Int64(1)\n",
      "memory usage: 2.9 MB\n"
     ]
    }
   ],
   "source": [
    "Y_train.info()"
   ]
  },
  {
   "cell_type": "code",
   "execution_count": 463,
   "id": "be342607-bb85-4390-a436-c18fc9c8c49e",
   "metadata": {},
   "outputs": [
    {
     "data": {
      "text/html": [
       "<div>\n",
       "<style scoped>\n",
       "    .dataframe tbody tr th:only-of-type {\n",
       "        vertical-align: middle;\n",
       "    }\n",
       "\n",
       "    .dataframe tbody tr th {\n",
       "        vertical-align: top;\n",
       "    }\n",
       "\n",
       "    .dataframe thead th {\n",
       "        text-align: right;\n",
       "    }\n",
       "</style>\n",
       "<table border=\"1\" class=\"dataframe\">\n",
       "  <thead>\n",
       "    <tr style=\"text-align: right;\">\n",
       "      <th></th>\n",
       "      <th>SMHM_Churn</th>\n",
       "    </tr>\n",
       "  </thead>\n",
       "  <tbody>\n",
       "    <tr>\n",
       "      <th>243252</th>\n",
       "      <td>0</td>\n",
       "    </tr>\n",
       "    <tr>\n",
       "      <th>178901</th>\n",
       "      <td>0</td>\n",
       "    </tr>\n",
       "    <tr>\n",
       "      <th>149461</th>\n",
       "      <td>0</td>\n",
       "    </tr>\n",
       "    <tr>\n",
       "      <th>115511</th>\n",
       "      <td>0</td>\n",
       "    </tr>\n",
       "    <tr>\n",
       "      <th>58339</th>\n",
       "      <td>0</td>\n",
       "    </tr>\n",
       "  </tbody>\n",
       "</table>\n",
       "</div>"
      ],
      "text/plain": [
       "        SMHM_Churn\n",
       "243252           0\n",
       "178901           0\n",
       "149461           0\n",
       "115511           0\n",
       "58339            0"
      ]
     },
     "execution_count": 463,
     "metadata": {},
     "output_type": "execute_result"
    }
   ],
   "source": [
    "Y_train.head()"
   ]
  },
  {
   "cell_type": "code",
   "execution_count": 480,
   "id": "19bd8595-97c5-47e8-992e-d6da82d9f393",
   "metadata": {},
   "outputs": [],
   "source": [
    "# Y_train_1=Y_train['SMHM_Churn'].astype('int').to_list()\n",
    "# Y_validation_1=Y_validation['SMHM_Churn'].astype('int').to_list()"
   ]
  },
  {
   "cell_type": "code",
   "execution_count": 502,
   "id": "48d66efa-51f5-4788-860e-1bbf3da00f1b",
   "metadata": {},
   "outputs": [],
   "source": [
    "# Y_train_1 = Y_train['SMHM_Churn'].astype('int')\n",
    "# Y_validation_1 = Y_validation['SMHM_Churn'].astype('int')"
   ]
  },
  {
   "cell_type": "code",
   "execution_count": 540,
   "id": "b374e87a-c3dc-439f-b6c0-dc100130bb5f",
   "metadata": {},
   "outputs": [],
   "source": [
    "Y_train_1=np.squeeze(Y_train['SMHM_Churn'].values)\n",
    "Y_validation_1 = np.squeeze(Y_validation['SMHM_Churn'].values)"
   ]
  },
  {
   "cell_type": "code",
   "execution_count": null,
   "id": "65da81dd-9eef-445b-807f-73bc99e84a01",
   "metadata": {},
   "outputs": [],
   "source": []
  },
  {
   "cell_type": "code",
   "execution_count": 541,
   "id": "ceeb68ce-f785-47b6-b345-c8ff23b40e3c",
   "metadata": {},
   "outputs": [],
   "source": [
    "# X_train['ttv_count']=X_train['ttv_count'].to_list()\n",
    "# X_train['sing_count']=X_train['sing_count'].to_list()\n",
    "# X_train['hsic_count']=X_train['hsic_count'].to_list()\n",
    "# X_train['product_mix_all']=X_train['product_mix_all'].to_list()\n",
    "# X_train['diic_count']=X_train['diic_count'].to_list()\n",
    "# X_train['stv_count']=X_train['stv_count'].to_list()"
   ]
  },
  {
   "cell_type": "code",
   "execution_count": 542,
   "id": "6c419519-f6d1-48cb-9d4d-501fe4ce6f8e",
   "metadata": {},
   "outputs": [],
   "source": [
    "# X_validation['ttv_count']=X_validation['ttv_count'].to_list()\n",
    "# X_validation['sing_count']=X_validation['sing_count'].to_list()\n",
    "# X_validation['hsic_count']=X_validation['hsic_count'].to_list()\n",
    "# X_validation['product_mix_all']=X_validation['product_mix_all'].to_list()\n",
    "# X_validation['diic_count']=X_validation['diic_count'].to_list()\n",
    "# X_validation['stv_count']=X_validation['stv_count'].to_list()"
   ]
  },
  {
   "cell_type": "code",
   "execution_count": 543,
   "id": "7c9ca6c2-2171-40db-bad9-d0c86e7b0bb0",
   "metadata": {},
   "outputs": [],
   "source": [
    "X_train.reset_index(drop=True,inplace=True)\n",
    "X_validation.reset_index(drop=True,inplace=True)\n",
    "# X_test.reset_index(drop=True,inplace=True)"
   ]
  },
  {
   "cell_type": "code",
   "execution_count": 544,
   "id": "c94a48d9-92e9-4055-a17a-573061ff8370",
   "metadata": {},
   "outputs": [
    {
     "ename": "ValueError",
     "evalue": "Unknown label type: 'unknown'",
     "output_type": "error",
     "traceback": [
      "\u001b[0;31m---------------------------------------------------------------------------\u001b[0m",
      "\u001b[0;31mValueError\u001b[0m                                Traceback (most recent call last)",
      "Input \u001b[0;32mIn [544]\u001b[0m, in \u001b[0;36m<cell line: 19>\u001b[0;34m()\u001b[0m\n\u001b[1;32m      1\u001b[0m \u001b[38;5;28;01mimport\u001b[39;00m \u001b[38;5;21;01mlightgbm\u001b[39;00m \u001b[38;5;28;01mas\u001b[39;00m \u001b[38;5;21;01mlgb\u001b[39;00m\n\u001b[1;32m      3\u001b[0m model_lgb \u001b[38;5;241m=\u001b[39m lgb\u001b[38;5;241m.\u001b[39mLGBMClassifier(\n\u001b[1;32m      4\u001b[0m                         n_jobs\u001b[38;5;241m=\u001b[39m\u001b[38;5;241m-\u001b[39m\u001b[38;5;241m1\u001b[39m,\n\u001b[1;32m      5\u001b[0m                         n_estimators\u001b[38;5;241m=\u001b[39m\u001b[38;5;241m100000\u001b[39m,\n\u001b[0;32m   (...)\u001b[0m\n\u001b[1;32m     15\u001b[0m                         bagging_seed\u001b[38;5;241m=\u001b[39m\u001b[38;5;241m11\u001b[39m\n\u001b[1;32m     16\u001b[0m                     )\n\u001b[0;32m---> 19\u001b[0m \u001b[43mmodel_lgb\u001b[49m\u001b[38;5;241;43m.\u001b[39;49m\u001b[43mfit\u001b[49m\u001b[43m(\u001b[49m\u001b[43mX_train\u001b[49m\u001b[43m,\u001b[49m\u001b[43m \u001b[49m\u001b[43mY_train_1\u001b[49m\u001b[43m,\u001b[49m\u001b[43m \u001b[49m\u001b[43mearly_stopping_rounds\u001b[49m\u001b[38;5;241;43m=\u001b[39;49m\u001b[38;5;241;43m200\u001b[39;49m\u001b[43m,\u001b[49m\u001b[43m \u001b[49m\u001b[43meval_set\u001b[49m\u001b[38;5;241;43m=\u001b[39;49m\u001b[43m[\u001b[49m\u001b[43m(\u001b[49m\u001b[43mX_train\u001b[49m\u001b[43m,\u001b[49m\u001b[43mY_train_1\u001b[49m\u001b[43m)\u001b[49m\u001b[43m,\u001b[49m\u001b[43m(\u001b[49m\u001b[43mX_validation\u001b[49m\u001b[43m,\u001b[49m\u001b[43m \u001b[49m\u001b[43mY_validation_1\u001b[49m\u001b[43m)\u001b[49m\u001b[43m]\u001b[49m\u001b[43m,\u001b[49m\u001b[43meval_metric\u001b[49m\u001b[38;5;241;43m=\u001b[39;49m\u001b[43mcustom_scorer\u001b[49m\u001b[43m,\u001b[49m\u001b[43mverbose\u001b[49m\u001b[38;5;241;43m=\u001b[39;49m\u001b[38;5;241;43m500\u001b[39;49m\u001b[43m)\u001b[49m\n",
      "File \u001b[0;32m/opt/conda/lib/python3.8/site-packages/lightgbm/sklearn.py:923\u001b[0m, in \u001b[0;36mLGBMClassifier.fit\u001b[0;34m(self, X, y, sample_weight, init_score, eval_set, eval_names, eval_sample_weight, eval_class_weight, eval_init_score, eval_metric, early_stopping_rounds, verbose, feature_name, categorical_feature, callbacks, init_model)\u001b[0m\n\u001b[1;32m    921\u001b[0m \u001b[38;5;124;03m\"\"\"Docstring is inherited from the LGBMModel.\"\"\"\u001b[39;00m\n\u001b[1;32m    922\u001b[0m _LGBMAssertAllFinite(y)\n\u001b[0;32m--> 923\u001b[0m \u001b[43m_LGBMCheckClassificationTargets\u001b[49m\u001b[43m(\u001b[49m\u001b[43my\u001b[49m\u001b[43m)\u001b[49m\n\u001b[1;32m    924\u001b[0m \u001b[38;5;28mself\u001b[39m\u001b[38;5;241m.\u001b[39m_le \u001b[38;5;241m=\u001b[39m _LGBMLabelEncoder()\u001b[38;5;241m.\u001b[39mfit(y)\n\u001b[1;32m    925\u001b[0m _y \u001b[38;5;241m=\u001b[39m \u001b[38;5;28mself\u001b[39m\u001b[38;5;241m.\u001b[39m_le\u001b[38;5;241m.\u001b[39mtransform(y)\n",
      "File \u001b[0;32m/opt/conda/lib/python3.8/site-packages/sklearn/utils/multiclass.py:200\u001b[0m, in \u001b[0;36mcheck_classification_targets\u001b[0;34m(y)\u001b[0m\n\u001b[1;32m    192\u001b[0m y_type \u001b[38;5;241m=\u001b[39m type_of_target(y, input_name\u001b[38;5;241m=\u001b[39m\u001b[38;5;124m\"\u001b[39m\u001b[38;5;124my\u001b[39m\u001b[38;5;124m\"\u001b[39m)\n\u001b[1;32m    193\u001b[0m \u001b[38;5;28;01mif\u001b[39;00m y_type \u001b[38;5;129;01mnot\u001b[39;00m \u001b[38;5;129;01min\u001b[39;00m [\n\u001b[1;32m    194\u001b[0m     \u001b[38;5;124m\"\u001b[39m\u001b[38;5;124mbinary\u001b[39m\u001b[38;5;124m\"\u001b[39m,\n\u001b[1;32m    195\u001b[0m     \u001b[38;5;124m\"\u001b[39m\u001b[38;5;124mmulticlass\u001b[39m\u001b[38;5;124m\"\u001b[39m,\n\u001b[0;32m   (...)\u001b[0m\n\u001b[1;32m    198\u001b[0m     \u001b[38;5;124m\"\u001b[39m\u001b[38;5;124mmultilabel-sequences\u001b[39m\u001b[38;5;124m\"\u001b[39m,\n\u001b[1;32m    199\u001b[0m ]:\n\u001b[0;32m--> 200\u001b[0m     \u001b[38;5;28;01mraise\u001b[39;00m \u001b[38;5;167;01mValueError\u001b[39;00m(\u001b[38;5;124m\"\u001b[39m\u001b[38;5;124mUnknown label type: \u001b[39m\u001b[38;5;132;01m%r\u001b[39;00m\u001b[38;5;124m\"\u001b[39m \u001b[38;5;241m%\u001b[39m y_type)\n",
      "\u001b[0;31mValueError\u001b[0m: Unknown label type: 'unknown'"
     ]
    }
   ],
   "source": [
    "import lightgbm as lgb\n",
    "\n",
    "model_lgb = lgb.LGBMClassifier(\n",
    "                        n_jobs=-1,\n",
    "                        n_estimators=100000,\n",
    "                        learning_rate=0.01,\n",
    "                        num_leaves=64,\n",
    "                        num_threads=4,\n",
    "                        max_depth=-1,\n",
    "                        tree_learner='serial',\n",
    "                        feature_fraction=0.7,\n",
    "                        bagging_freq=5,\n",
    "                        bagging_fraction=0.7,\n",
    "                        verbose=-1,\n",
    "                        bagging_seed=11\n",
    "                    )\n",
    "\n",
    "\n",
    "model_lgb.fit(X_train, Y_train_1, early_stopping_rounds=200, eval_set=[(X_train,Y_train_1),(X_validation, Y_validation_1)],eval_metric=custom_scorer,verbose=500)"
   ]
  },
  {
   "cell_type": "code",
   "execution_count": 499,
   "id": "aa7148de-bba3-46c8-b095-3e1a87f1c79a",
   "metadata": {},
   "outputs": [
    {
     "data": {
      "text/plain": [
       "array([0, 0, 0, ..., 0, 0, 0], dtype=object)"
      ]
     },
     "execution_count": 499,
     "metadata": {},
     "output_type": "execute_result"
    }
   ],
   "source": [
    "Y_train.values.flatten()"
   ]
  },
  {
   "cell_type": "code",
   "execution_count": 501,
   "id": "c5074405-01b4-4ef8-a3da-de083368fd0e",
   "metadata": {},
   "outputs": [
    {
     "data": {
      "text/plain": [
       "<IntegerArray>\n",
       "[0, 1]\n",
       "Length: 2, dtype: Int64"
      ]
     },
     "execution_count": 501,
     "metadata": {},
     "output_type": "execute_result"
    }
   ],
   "source": [
    "Y_train['SMHM_Churn'].unique()"
   ]
  },
  {
   "cell_type": "code",
   "execution_count": null,
   "id": "57e9a811-f5bd-4562-ae35-dc51d10bbabd",
   "metadata": {},
   "outputs": [],
   "source": []
  }
 ],
 "metadata": {
  "kernelspec": {
   "display_name": "Python 3 (ipykernel)",
   "language": "python",
   "name": "python3"
  },
  "language_info": {
   "codemirror_mode": {
    "name": "ipython",
    "version": 3
   },
   "file_extension": ".py",
   "mimetype": "text/x-python",
   "name": "python",
   "nbconvert_exporter": "python",
   "pygments_lexer": "ipython3",
   "version": "3.8.12"
  }
 },
 "nbformat": 4,
 "nbformat_minor": 5
}
