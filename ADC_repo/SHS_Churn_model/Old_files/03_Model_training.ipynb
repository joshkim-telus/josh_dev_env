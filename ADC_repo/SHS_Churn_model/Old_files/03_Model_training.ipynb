{
 "cells": [
  {
   "cell_type": "code",
   "execution_count": null,
   "id": "567cd66d-4227-4286-83ac-d789d6b5d701",
   "metadata": {},
   "outputs": [],
   "source": [
    "#### import global modules\n",
    "import os\n",
    "import sys\n",
    "import pandas as pd\n",
    "import numpy as np\n",
    "from pathlib import Path\n",
    "from yaml import safe_load\n",
    "import google.oauth2.credentials\n",
    "from google.cloud import bigquery\n",
    "import gc\n",
    "\n",
    "# Set global vars\n",
    "pth_project = Path(os.getcwd().split('notebooks')[0])\n",
    "pth_data = pth_project / 'data'\n",
    "pth_queries = pth_project / 'core' / 'queries'\n",
    "pth_creds = pth_project / 'conf' / 'local' / 'project_config.yaml'\n",
    "sys.path.insert(0, str(pth_project))\n",
    "d_project_config = safe_load(pth_creds.open())\n",
    "# d_params = safe_load((pth_project / 'core' / 'parameters' / 'common.yaml').open())['data_extract']\n",
    "\n",
    "# import local modules\n",
    "from core.utils.gcp import connect_bq_services\n",
    "# from core.etl.extract import extract_bq_data, extract_pr_codes, format_conv_df, filter_convs\n",
    "\n",
    "# Connect to google services\n",
    "bq_client = connect_bq_services(d_project_config['gcp-project-name'])\n",
    "pd.options.display.max_rows = 100\n",
    "from sklearn.model_selection import train_test_split\n"
   ]
  },
  {
   "cell_type": "code",
   "execution_count": null,
   "id": "f37c1d2e-1910-49a3-838b-ece8ded5fa63",
   "metadata": {},
   "outputs": [],
   "source": [
    "def extract_bq_data(bq_client, sql=None, pth_query=None):\n",
    "    if sql is not None:\n",
    "        df = bq_client.query(sql).to_dataframe()\n",
    "    elif pth_query is not None:\n",
    "        sql = pth_query.read_text()\n",
    "        df = bq_client.query(sql).to_dataframe()\n",
    "    else:\n",
    "        raise ValueError('`sql` or `pth_query` should be set')  \n",
    "    return df"
   ]
  },
  {
   "cell_type": "code",
   "execution_count": null,
   "id": "2ce1fd45-4d43-41c2-906c-61fa29d34254",
   "metadata": {},
   "outputs": [],
   "source": [
    "Query= '''\n",
    "\n",
    "select * from `divgpras-pr-579355.SHS.SHS_churn_model_train_data_sep_nov_2022`\n",
    "\n",
    "'''"
   ]
  },
  {
   "cell_type": "code",
   "execution_count": null,
   "id": "f3209cf4-a8de-4429-9285-f66e0fa05ece",
   "metadata": {},
   "outputs": [],
   "source": [
    "DF=extract_bq_data(bq_client, sql=Query)"
   ]
  },
  {
   "cell_type": "code",
   "execution_count": null,
   "id": "7eae43b3-db82-48e0-9747-c4daddb426f6",
   "metadata": {},
   "outputs": [],
   "source": [
    "DF.info()"
   ]
  },
  {
   "cell_type": "code",
   "execution_count": null,
   "id": "844d3acc-e556-46ff-be23-3ccf15f30cb5",
   "metadata": {},
   "outputs": [],
   "source": [
    "# DF.to_csv('SHS_churn_model_train_data_sep_nov_2022.csv',index=False)"
   ]
  },
  {
   "cell_type": "code",
   "execution_count": null,
   "id": "63e9892d-191f-49ce-83d6-a711b749ed2c",
   "metadata": {},
   "outputs": [],
   "source": [
    "DF.isnull().sum() * 100 / len(DF)"
   ]
  },
  {
   "cell_type": "code",
   "execution_count": null,
   "id": "91dca8a1-ab19-46c3-8d19-323d5c35a736",
   "metadata": {},
   "outputs": [],
   "source": [
    "# DF['Best_Practices_1']=DF['Best_Practices_1'].fillna(0,inplace=True)\n",
    "# DF['Best_Practices_2']=DF['Best_Practices_2'].fillna(0,inplace=True)\n",
    "# DF['Best_Practices_3']=DF['Best_Practices_3'].fillna(0,inplace=True)\n",
    "# DF['Best_Practices_4']=DF['Best_Practices_4'].fillna(0,inplace=True)\n",
    "# DF['Best_Practices_5']=DF['Best_Practices_5'].fillna(0,inplace=True)\n",
    "# DF['Best_Practices_6']=DF['Best_Practices_6'].fillna(0,inplace=True)\n",
    "# DF['Best_Practice_All']=DF['Best_Practice_All'].fillna(0,inplace=True)"
   ]
  },
  {
   "cell_type": "code",
   "execution_count": null,
   "id": "b5936c4d-f942-4dbc-bada-5f5230ed3d61",
   "metadata": {},
   "outputs": [],
   "source": [
    "DF['Best_Practices_1'].value_counts()"
   ]
  },
  {
   "cell_type": "code",
   "execution_count": null,
   "id": "2ac71305-6478-4790-b60d-e1dd6f0b1c13",
   "metadata": {},
   "outputs": [],
   "source": [
    "ID_cols=['customer_id','dealer_customer_id','BAN']\n",
    "ignore_cols=['primary_login_id','dealer_name','join_date','account_type_name','customer_type_name','cust_bus_cust_id'\n",
    "             ,'contract_start_date','contract_end_date','customer_id_1','customer_id_2','customer_id_3','ban_1','ban_2'\n",
    "             ,'BAN_3','sum_arm_commands','sum_disarm_commands','number_days_arming_disarming','count_of_dates_arming'\n",
    "             ,'sum_login_count','number_of_login_days','count_of_dates_login','shs_count','Telus_Cust_ID']\n",
    "\n",
    "Target_col=['SMHM_Churn']"
   ]
  },
  {
   "cell_type": "code",
   "execution_count": null,
   "id": "f3dfba06-63c5-4bc8-9b95-9228e3d763ab",
   "metadata": {},
   "outputs": [],
   "source": [
    "DF['Avg_SMHM_ARPU']=pd.to_numeric(DF['Avg_SMHM_ARPU'])\n",
    "DF['Avg_FFH_ARPU']=pd.to_numeric(DF['Avg_FFH_ARPU'])\n",
    "# DF['Avg_SMHM_ARPU']=pd.to_numeric(DF['Avg_SMHM_ARPU'])\n"
   ]
  },
  {
   "cell_type": "code",
   "execution_count": null,
   "id": "b9e6ff2e-01fc-45c9-be60-0cc807bc0dca",
   "metadata": {},
   "outputs": [],
   "source": [
    "# DF['Best_Practices_1']=DF['Best_Practices_1'].astype('category')\n",
    "# DF['Best_Practices_2']=DF['Best_Practices_2'].astype('category')\n",
    "# DF['Best_Practices_3']=DF['Best_Practices_3'].astype('category')\n",
    "# DF['Best_Practices_4']=DF['Best_Practices_4'].astype('category')\n",
    "# DF['Best_Practices_5']=DF['Best_Practices_5'].astype('category')\n",
    "# DF['Best_Practices_6']=DF['Best_Practices_6'].astype('category')\n",
    "# DF['Best_Practice_All']=DF['Best_Practice_All'].astype('category')\n",
    "# DF['SMHM_Churn']=DF['SMHM_Churn'].astype('category')\n",
    "\n"
   ]
  },
  {
   "cell_type": "code",
   "execution_count": null,
   "id": "9324ef32-eaa7-4960-8076-c44b74cde969",
   "metadata": {},
   "outputs": [],
   "source": [
    "\n",
    "num_cols=DF.select_dtypes(include=np.number).columns.tolist()\n",
    "cat_cols=DF.select_dtypes(exclude=np.number).columns.tolist()\n",
    "\n",
    "num_cols_features=list(set(num_cols)-set(ID_cols)-set(Target_col)-set(ignore_cols))\n",
    "cat_cols_features=list(set(cat_cols)-set(ID_cols)-set(Target_col)-set(ignore_cols))\n",
    "feature_cols=cat_cols_features+num_cols_features"
   ]
  },
  {
   "cell_type": "code",
   "execution_count": null,
   "id": "42f664c3-8f9a-474d-b1e7-46473467edc2",
   "metadata": {},
   "outputs": [],
   "source": [
    "len(feature_cols)"
   ]
  },
  {
   "cell_type": "code",
   "execution_count": null,
   "id": "a44ad98d-ee26-4f80-ba33-0244ec2d5d58",
   "metadata": {},
   "outputs": [],
   "source": [
    "num_cols_features"
   ]
  },
  {
   "cell_type": "code",
   "execution_count": null,
   "id": "d8e5f7e9-41b1-465d-bb86-b3d28cefb451",
   "metadata": {},
   "outputs": [],
   "source": [
    "cat_cols_features"
   ]
  },
  {
   "cell_type": "code",
   "execution_count": null,
   "id": "655dfad8-0777-456b-b7ea-9d700204dfc5",
   "metadata": {},
   "outputs": [],
   "source": [
    "DF[feature_cols].isnull().sum() * 100 / len(DF[feature_cols])"
   ]
  },
  {
   "cell_type": "code",
   "execution_count": null,
   "id": "393a1c68-ed92-4b27-aec6-a973f8668cec",
   "metadata": {},
   "outputs": [],
   "source": [
    "def impute_missing_values(dataset=DF):\n",
    "    \n",
    "    for cols in dataset.columns:\n",
    "        if dataset[cols].dtype == np.dtype('O'):\n",
    "            # df.loc[np.isnan(df[\"Age\"]), 'Age'] = rand1\n",
    "            #dataset.loc[dataset[cols].isnull(), cols]=\"Missing_category\"\n",
    "            dataset[cols]=dataset[cols].fillna(\"Missing_category\",inplace=False)\n",
    "        else:\n",
    "            dataset[cols]=dataset[cols].fillna(0,inplace=False)\n",
    "            #dataset.loc[dataset[cols].isnull(), cols]=0\n",
    "    return dataset\n",
    "\n",
    " \n",
    "DF[feature_cols]=impute_missing_values(dataset=DF[feature_cols])"
   ]
  },
  {
   "cell_type": "code",
   "execution_count": null,
   "id": "2340d927-2a13-4240-b9dc-0ab64e20e5ae",
   "metadata": {},
   "outputs": [],
   "source": [
    "DF['SMHM_Churn'].value_counts()"
   ]
  },
  {
   "cell_type": "code",
   "execution_count": null,
   "id": "8020d474-fc5c-4291-9d67-7f51e2aee94b",
   "metadata": {},
   "outputs": [],
   "source": [
    "DF.info()"
   ]
  },
  {
   "cell_type": "code",
   "execution_count": null,
   "id": "e4c4a7d1-4441-4425-94e3-859d211f1861",
   "metadata": {},
   "outputs": [],
   "source": [
    "def data_splitting(dataset=DF,feature_cols=[],Target=[],testsize=0.3):\n",
    "    \n",
    "    \n",
    "    X=dataset[feature_cols]\n",
    "    Y=dataset[Target]\n",
    "    X1=pd.get_dummies(X,prefix_sep='__')\n",
    "    X_train, X_validation, Y_train, Y_validation = train_test_split(X1, Y, test_size=testsize, random_state=11,stratify=Y)\n",
    "    final_feature_columns=X_train.columns.tolist()\n",
    "    print()\n",
    "    print(\"Data splitting Completed.\")\n",
    "    return X_train,X_validation,Y_train,Y_validation,final_feature_columns\n",
    "# %%\n",
    "X_train,X_validation,Y_train,Y_validation,final_feature_columns=data_splitting(\n",
    "dataset=DF,feature_cols=feature_cols,Target=Target_col,testsize=0.3)"
   ]
  },
  {
   "cell_type": "code",
   "execution_count": null,
   "id": "75632698-59aa-49d0-b247-ecb175bccbd7",
   "metadata": {},
   "outputs": [],
   "source": [
    "X_train.shape"
   ]
  },
  {
   "cell_type": "code",
   "execution_count": null,
   "id": "6186f04e-c98c-4cfe-84f6-512b882e50c6",
   "metadata": {},
   "outputs": [],
   "source": [
    "import json\n",
    "\n",
    "with open('Final_feature_columns.json', 'w') as Ffp:\n",
    "    json.dump(final_feature_columns, Ffp)\n",
    "\n",
    "\n",
    "with open('Intial_feature_columns.json', 'w') as Ifp:\n",
    "    json.dump(feature_cols, Ifp)"
   ]
  },
  {
   "cell_type": "code",
   "execution_count": null,
   "id": "1596bec3-eb7f-41db-9c5d-5459859ae8ca",
   "metadata": {},
   "outputs": [],
   "source": [
    "import pandas as pd\n",
    "import numpy as np\n",
    "from sklearn.metrics import make_scorer\n",
    "\n",
    "def Capture_Rate_1stSD(ground_truth, prediction):\n",
    "    \"\"\" this functions takes in the model\n",
    "    test features, targets, will return the\n",
    "    lift dataframe\n",
    "    \"\"\"\n",
    "    #print(\"data shape:\", ground_truth.shape)\n",
    "\n",
    "    prediction_df = pd.DataFrame(prediction, columns=[\"prob_of_predict_1\"])\n",
    "    # print(prediction_df.head())\n",
    "    y_df = pd.DataFrame(ground_truth, columns=['target'])\n",
    "    prediction_with_label_df = y_df.join(prediction_df.set_index(y_df.index))\n",
    "    # Calculate lift on validation data\n",
    "    v1 = prediction_with_label_df[['target', 'prob_of_predict_1']]\n",
    "    v1.sort_values(by=['prob_of_predict_1'], inplace=True)\n",
    "    v1['Qcut'] = pd.qcut(v1['prob_of_predict_1'].rank(\n",
    "    method='first'), q=20, labels=False)\n",
    "    v1['SD'] = 20-(v1['Qcut'].astype(int))\n",
    "    vl1 = v1.drop(['Qcut'], axis=1)\n",
    "    vl1['Freq'] = vl1.groupby('SD')['target'].transform(np.sum)\n",
    "    vl2 = vl1.drop(['target', 'prob_of_predict_1'], axis=1).drop_duplicates()\n",
    "    vl2.sort_values(by=['SD'], inplace=True)\n",
    "    vl2['Cumm Sum'] = vl2['Freq'].cumsum()\n",
    "    vl2['Lift'] = vl2['Freq'].div(vl2['Freq'].sum(), axis=0).div(0.05)\n",
    "    vl2['Cumm Lift'] = vl2['Cumm Sum'].div(\n",
    "    vl2['Freq'].sum(), axis=0).div(vl2['SD']/20)\n",
    "    vl2['Capture Rate'] = vl2['Lift']*5\n",
    "    #vl2['Capture Rate_defintion'] = vl2['Freq']/vl2.iloc[19, 'Cumm Sum']\n",
    "    vl2['Cummu Capture Rate'] = vl2['Capture Rate'].cumsum()\n",
    "\n",
    "    # this is lift csv\n",
    "    # vl2.to_csv(\"/lift_chart_{0}.csv\".format(today))\n",
    "    # vl2.to_csv(\n",
    "    # f'lift_of_{model}_on_{datetime.today().strftime(\"%Y-%m-%d\")}.csv')\n",
    "    # print(f'lift_of_{model}_on_{datetime.today().strftime(\"%Y-%m-%d\")}.csv')\n",
    "    #print(\"Training process completed success\")\n",
    "    Magic_score= round(vl2.iloc[0, 6],2)\n",
    "    print(\"Cumm Capture Rate on 1st SD is: \", Magic_score)\n",
    "    #vl2[vl2['SD'] == 1, 'Lift'].iloc[0]\n",
    "    return Magic_score\n",
    "\n",
    "\n",
    "\n",
    "def lift_calc_pd(model, X_test, y_test,target_column): # , model_path\n",
    "    \"\"\" this functions takes in the model\n",
    "    test features, targets, will return the\n",
    "    lift dataframe\n",
    "    \"\"\"\n",
    "    prediction = model.predict_proba(X_test)\n",
    "    print(\"output shape\", prediction.shape)\n",
    "    print(\"y_test shape:\", y_test.shape)\n",
    "    #Total_Actual_positive_targets=sum(y_test[target_column])\n",
    "    #print('Total_Actual_positive_targets:',Total_Actual_positive_targets)\n",
    "\n",
    "\n",
    "    prediction_df = pd.DataFrame(\n",
    "    prediction, columns=['prob_of_predict_0', 'prob_of_predict_1'])\n",
    "    y_df = pd.DataFrame(y_test, columns=[target_column])\n",
    "    prediction_with_label_df = y_df.join(prediction_df.set_index(y_df.index))\n",
    "\n",
    "\n",
    "    # Calculate lift on validation data\n",
    "    v1 = prediction_with_label_df[[target_column, 'prob_of_predict_1']]\n",
    "    v1.sort_values(by=['prob_of_predict_1'], inplace=True)\n",
    "    v1['Qcut'] = pd.qcut(v1['prob_of_predict_1'].rank(\n",
    "    method='first'), q=20, labels=False)\n",
    "    v1['SD'] = 20-(v1['Qcut'].astype(int))\n",
    "\n",
    "\n",
    "    vl1 = v1.drop(['Qcut'], axis=1)\n",
    "    vl1['Freq'] = vl1.groupby('SD')[target_column].transform(np.sum)\n",
    "    vl2 = vl1.drop([target_column, 'prob_of_predict_1'], axis=1).drop_duplicates()\n",
    "    vl2.sort_values(by=['SD'], inplace=True)\n",
    "    vl2['Cumm Sum'] = vl2['Freq'].cumsum()\n",
    "    vl2['Lift'] = vl2['Freq'].div(vl2['Freq'].sum(), axis=0).div(0.05)\n",
    "    vl2['Cumm Lift'] = vl2['Cumm Sum'].div(vl2['Freq'].sum(), axis=0).div(vl2['SD']/20)\n",
    "    vl2['Capture Rate'] = vl2['Lift']*5\n",
    "    vl2['Cummu Capture Rate'] = vl2['Capture Rate'].cumsum()\n",
    "    # vl2['Capture_Rate_Defintion']= vl2['Freq']*100/Total_Actual_positive_targets\n",
    "    # vl2['Cummu_Capture_Rate_Defintion']= vl2['Capture_Rate_Defintion'].cumsum()\n",
    "    return pd.DataFrame(vl2)\n"
   ]
  },
  {
   "cell_type": "code",
   "execution_count": null,
   "id": "39f1997f-2f52-4560-8435-20f2f6a3f5a4",
   "metadata": {},
   "outputs": [],
   "source": [
    "from xgboost import XGBClassifier\n",
    "from sklearn.model_selection import RandomizedSearchCV\n",
    "from sklearn.metrics import make_scorer\n",
    "from sklearn.model_selection import GridSearchCV"
   ]
  },
  {
   "cell_type": "code",
   "execution_count": null,
   "id": "9e1033b4-4728-432d-807a-2ce37e0fa46b",
   "metadata": {},
   "outputs": [],
   "source": [
    "Algo= 'XGB_SMHM'\n",
    "#Optimization='TuneCV_BOHB_6thSD_Lift'\n",
    "Optimization='RandomSearch_CaptureRate'\n",
    "\n",
    "custom_scorer = make_scorer(\n",
    "    Capture_Rate_1stSD, greater_is_better=True, needs_proba=True)"
   ]
  },
  {
   "cell_type": "code",
   "execution_count": null,
   "id": "ba2b7443-4c10-4aad-ad28-65fdc0eb5fcd",
   "metadata": {},
   "outputs": [],
   "source": [
    "params = {\n",
    "    \"gamma\": list(range(1, 21)),\n",
    "    \"subsample\": np.round(np.arange(0.2, 1, 0.1),2).tolist(),\n",
    "    \"colsample_bytree\": np.round(np.arange(0.2, 1, 0.1),2).tolist(),\n",
    "    \"n_estimators\": np.arange(10, 200, 10).tolist(), \n",
    "    \"max_depth\": list(range(3, 7)),\n",
    "    # \"scale_pos_weight\": list(range(1, 20)),\n",
    "    \"learning_rate\": np.round(np.arange(0.001, 0.3, 0.005),3).tolist()\n",
    "}"
   ]
  },
  {
   "cell_type": "code",
   "execution_count": null,
   "id": "6e2dd819-4311-4a16-9c6a-249bb133026f",
   "metadata": {},
   "outputs": [],
   "source": [
    "params_1 = {\n",
    "    \"n_estimators\": [10,20]\n",
    "}"
   ]
  },
  {
   "cell_type": "code",
   "execution_count": null,
   "id": "6c9e1fc1-fe4c-4a5f-a410-1a91f9ec6425",
   "metadata": {},
   "outputs": [],
   "source": [
    "xgb = XGBClassifier(\n",
    "    #learning_rate=0.02,\n",
    "    #n_estimators=50,\n",
    "    # objective=\"binary:logistic\",\n",
    "    nthread=-1,\n",
    "    verbosity=1,\n",
    "    use_label_encoder=False\n",
    "    # enable_categorical=True\n",
    "    # tree_method=\"gpu_hist\"  # this enables GPU.\n",
    "    # See https://github.com/dmlc/xgboost/issues/2819\n",
    ")"
   ]
  },
  {
   "cell_type": "code",
   "execution_count": null,
   "id": "1a0542dc-b028-4e43-a97c-53939ce4db7d",
   "metadata": {},
   "outputs": [],
   "source": [
    "Y_train.value_counts()"
   ]
  },
  {
   "cell_type": "code",
   "execution_count": null,
   "id": "66c9cf62-0b2f-43ef-8edf-ca326ac44a9a",
   "metadata": {},
   "outputs": [],
   "source": [
    "# Y_train=Y_train.astype('category')"
   ]
  },
  {
   "cell_type": "code",
   "execution_count": null,
   "id": "ed63a602-32e3-4cd3-acc7-69818452240b",
   "metadata": {},
   "outputs": [],
   "source": [
    "Y_train.isnull().sum()"
   ]
  },
  {
   "cell_type": "code",
   "execution_count": null,
   "id": "87969237-31ba-4294-9adc-104f3fef1f22",
   "metadata": {},
   "outputs": [],
   "source": [
    "Y_train.dtypes"
   ]
  },
  {
   "cell_type": "code",
   "execution_count": null,
   "id": "f3d69cd2-3203-41c5-8eb2-97f6186ecbea",
   "metadata": {},
   "outputs": [],
   "source": [
    "search = RandomizedSearchCV(xgb, param_distributions=params_1,cv=3,error_score=\"raise\")"
   ]
  },
  {
   "cell_type": "code",
   "execution_count": null,
   "id": "421db5aa-ad3b-4e69-98d4-77ae01392831",
   "metadata": {},
   "outputs": [],
   "source": [
    "search_1=GridSearchCV(estimator=xgb,param_grid=params_1,scoring=custom_scorer)"
   ]
  },
  {
   "cell_type": "code",
   "execution_count": null,
   "id": "f1a57083-eca0-4ac8-a391-60b109509be6",
   "metadata": {},
   "outputs": [],
   "source": [
    "Y_train.values"
   ]
  },
  {
   "cell_type": "code",
   "execution_count": null,
   "id": "d045b02d-d2ab-4e0d-bd87-a4b2ff6ccbe1",
   "metadata": {},
   "outputs": [],
   "source": [
    "# search_1.fit(X_train,Y_train.values)"
   ]
  },
  {
   "cell_type": "code",
   "execution_count": null,
   "id": "e3c7a22c-a70a-4bae-8b8a-8e18c3b2617d",
   "metadata": {},
   "outputs": [],
   "source": [
    "xgb.fit(X_train,Y_train)\n"
   ]
  },
  {
   "cell_type": "code",
   "execution_count": null,
   "id": "e2dff2d9-6a0e-4a08-9f69-bc6076c24afc",
   "metadata": {},
   "outputs": [],
   "source": [
    "# search_1.best_params_"
   ]
  },
  {
   "cell_type": "code",
   "execution_count": null,
   "id": "57aa59e8-c9bb-4c68-a458-beedd68e7363",
   "metadata": {},
   "outputs": [],
   "source": [
    "# pd.DataFrame(search_1.cv_results_)"
   ]
  },
  {
   "cell_type": "code",
   "execution_count": null,
   "id": "ee932d40-b593-4d86-bf4a-b281b4873261",
   "metadata": {},
   "outputs": [],
   "source": [
    "val_DF_metric=lift_calc_pd(model=xgb,X_test=X_validation\n",
    ",y_test=Y_validation,target_column=Target_col[0])"
   ]
  },
  {
   "cell_type": "code",
   "execution_count": null,
   "id": "2a04709e-0090-46cc-b1f2-d5a927108f7f",
   "metadata": {},
   "outputs": [],
   "source": [
    "val_DF_metric"
   ]
  },
  {
   "cell_type": "code",
   "execution_count": null,
   "id": "e6b0b438-4884-428a-a6bc-e3b861d3368d",
   "metadata": {},
   "outputs": [],
   "source": [
    "feature_important = xgb.get_booster().get_score(importance_type='weight')\n",
    "keys = list(feature_important.keys())\n",
    "values = list(feature_important.values())\n",
    "\n",
    "data = pd.DataFrame(data=values, index=keys, columns=[\"score\"]).sort_values(by = \"score\", ascending=False)\n",
    "data.nlargest(15, columns=\"score\").plot(kind='barh', figsize = (20,10)) ## plot top 40 features\n"
   ]
  },
  {
   "cell_type": "code",
   "execution_count": null,
   "id": "5b96235c-f5cd-4ea6-815f-55e735e5c3b9",
   "metadata": {},
   "outputs": [],
   "source": [
    "import shap\n",
    "# model_shap = XGB_final_model.best_estimator_\n",
    "explainer = shap.TreeExplainer(xgb)\n",
    "shap_values = explainer.shap_values(X_train,check_additivity=False)\n",
    "#%%\n",
    "\n",
    "shap.summary_plot(shap_values, features=X_train\n",
    ", feature_names=final_feature_columns,show=False,max_display=15)"
   ]
  },
  {
   "cell_type": "code",
   "execution_count": null,
   "id": "d9eb067a-7024-4164-af59-a54235d8b17e",
   "metadata": {},
   "outputs": [],
   "source": [
    "explainer = shap.TreeExplainer(xgb)\n",
    "shap_values = explainer.shap_values(X_validation,check_additivity=False)\n",
    "#%%\n",
    "\n",
    "shap.summary_plot(shap_values, features=X_validation\n",
    ", feature_names=final_feature_columns,show=False,max_display=15)"
   ]
  },
  {
   "cell_type": "code",
   "execution_count": null,
   "id": "02a4548d-a0db-4907-b9cc-93bcdadc321e",
   "metadata": {},
   "outputs": [],
   "source": [
    "# Y_train=Y_train.astype('int')\n",
    "# Y_validation=Y_validation.astype('int')"
   ]
  },
  {
   "cell_type": "code",
   "execution_count": null,
   "id": "a9fa5bb0-48cf-4135-8179-a1a0ddadf22a",
   "metadata": {},
   "outputs": [],
   "source": [
    "import datetime\n",
    "import joblib\n",
    "\n",
    "date_time_now=datetime.datetime.now().strftime(\"%Y%m%d_%I%M%S\")\n",
    "Model_filename_1=Algo+'_'+'SMHM_churn_model'+'_'+date_time_now+'.pkl'\n",
    "joblib.dump(xgb,Model_filename_1)\n"
   ]
  },
  {
   "cell_type": "code",
   "execution_count": null,
   "id": "6b4a5d81-09f5-4974-8f3f-6595cf6b5d64",
   "metadata": {},
   "outputs": [],
   "source": [
    "# X_train=X_train.astype('int')\n",
    "# X_validation=X_validation.astype('int')"
   ]
  },
  {
   "cell_type": "code",
   "execution_count": null,
   "id": "c689259c-9a93-4332-9f1c-5cd013f5233b",
   "metadata": {},
   "outputs": [],
   "source": [
    "X_train.dtypes"
   ]
  },
  {
   "cell_type": "code",
   "execution_count": null,
   "id": "6973e9eb-bd63-4acf-a55b-e19bae15b5f5",
   "metadata": {},
   "outputs": [],
   "source": [
    "Y_train=Y_train.astype('float64')\n",
    "Y_validation=Y_validation.astype('float64')"
   ]
  },
  {
   "cell_type": "code",
   "execution_count": null,
   "id": "3cc6552e-576b-49ac-b58d-c03625edf28e",
   "metadata": {},
   "outputs": [],
   "source": [
    "X_train['ttv_count']=X_train['ttv_count'].astype('float64')\n",
    "X_train['sing_count']=X_train['sing_count'].astype('float64')\n",
    "X_train['hsic_count']=X_train['hsic_count'].astype('float64')\n",
    "X_train['product_mix_all']=X_train['product_mix_all'].astype('float64')\n",
    "X_train['diic_count']=X_train['diic_count'].astype('float64')\n",
    "X_train['stv_count']=X_train['stv_count'].astype('float64')"
   ]
  },
  {
   "cell_type": "code",
   "execution_count": null,
   "id": "2b873e95-3296-45f7-a494-72a4dbfa522f",
   "metadata": {},
   "outputs": [],
   "source": [
    "X_validation['ttv_count']=X_validation['ttv_count'].astype('float64')\n",
    "X_validation['sing_count']=X_validation['sing_count'].astype('float64')\n",
    "X_validation['hsic_count']=X_validation['hsic_count'].astype('float64')\n",
    "X_validation['product_mix_all']=X_validation['product_mix_all'].astype('float64')\n",
    "X_validation['diic_count']=X_validation['diic_count'].astype('float64')\n",
    "X_validation['stv_count']=X_validation['stv_count'].astype('float64')"
   ]
  },
  {
   "cell_type": "code",
   "execution_count": null,
   "id": "deaf28e0-7a0a-438d-9d4b-c2fb12f9f47c",
   "metadata": {},
   "outputs": [],
   "source": [
    "Y_train.dtypes"
   ]
  },
  {
   "cell_type": "code",
   "execution_count": null,
   "id": "14f01a11-6900-4872-b968-0b589b6f100f",
   "metadata": {},
   "outputs": [],
   "source": [
    "Y_train.info()"
   ]
  },
  {
   "cell_type": "code",
   "execution_count": null,
   "id": "be342607-bb85-4390-a436-c18fc9c8c49e",
   "metadata": {},
   "outputs": [],
   "source": [
    "Y_train.head()"
   ]
  },
  {
   "cell_type": "code",
   "execution_count": null,
   "id": "19bd8595-97c5-47e8-992e-d6da82d9f393",
   "metadata": {},
   "outputs": [],
   "source": [
    "# Y_train_1=Y_train['SMHM_Churn'].astype('int').to_list()\n",
    "# Y_validation_1=Y_validation['SMHM_Churn'].astype('int').to_list()"
   ]
  },
  {
   "cell_type": "code",
   "execution_count": null,
   "id": "48d66efa-51f5-4788-860e-1bbf3da00f1b",
   "metadata": {},
   "outputs": [],
   "source": [
    "# Y_train_1 = Y_train['SMHM_Churn'].astype('int')\n",
    "# Y_validation_1 = Y_validation['SMHM_Churn'].astype('int')"
   ]
  },
  {
   "cell_type": "code",
   "execution_count": null,
   "id": "b374e87a-c3dc-439f-b6c0-dc100130bb5f",
   "metadata": {},
   "outputs": [],
   "source": [
    "Y_train_1=np.squeeze(Y_train['SMHM_Churn'].values)\n",
    "Y_validation_1 = np.squeeze(Y_validation['SMHM_Churn'].values)"
   ]
  },
  {
   "cell_type": "code",
   "execution_count": null,
   "id": "65da81dd-9eef-445b-807f-73bc99e84a01",
   "metadata": {},
   "outputs": [],
   "source": []
  },
  {
   "cell_type": "code",
   "execution_count": null,
   "id": "ceeb68ce-f785-47b6-b345-c8ff23b40e3c",
   "metadata": {},
   "outputs": [],
   "source": [
    "# X_train['ttv_count']=X_train['ttv_count'].to_list()\n",
    "# X_train['sing_count']=X_train['sing_count'].to_list()\n",
    "# X_train['hsic_count']=X_train['hsic_count'].to_list()\n",
    "# X_train['product_mix_all']=X_train['product_mix_all'].to_list()\n",
    "# X_train['diic_count']=X_train['diic_count'].to_list()\n",
    "# X_train['stv_count']=X_train['stv_count'].to_list()"
   ]
  },
  {
   "cell_type": "code",
   "execution_count": null,
   "id": "6c419519-f6d1-48cb-9d4d-501fe4ce6f8e",
   "metadata": {},
   "outputs": [],
   "source": [
    "# X_validation['ttv_count']=X_validation['ttv_count'].to_list()\n",
    "# X_validation['sing_count']=X_validation['sing_count'].to_list()\n",
    "# X_validation['hsic_count']=X_validation['hsic_count'].to_list()\n",
    "# X_validation['product_mix_all']=X_validation['product_mix_all'].to_list()\n",
    "# X_validation['diic_count']=X_validation['diic_count'].to_list()\n",
    "# X_validation['stv_count']=X_validation['stv_count'].to_list()"
   ]
  },
  {
   "cell_type": "code",
   "execution_count": null,
   "id": "7c9ca6c2-2171-40db-bad9-d0c86e7b0bb0",
   "metadata": {},
   "outputs": [],
   "source": [
    "X_train.reset_index(drop=True,inplace=True)\n",
    "X_validation.reset_index(drop=True,inplace=True)\n",
    "# X_test.reset_index(drop=True,inplace=True)"
   ]
  },
  {
   "cell_type": "code",
   "execution_count": null,
   "id": "c94a48d9-92e9-4055-a17a-573061ff8370",
   "metadata": {},
   "outputs": [],
   "source": [
    "import lightgbm as lgb\n",
    "\n",
    "model_lgb = lgb.LGBMClassifier(\n",
    "                        n_jobs=-1,\n",
    "                        n_estimators=100000,\n",
    "                        learning_rate=0.01,\n",
    "                        num_leaves=64,\n",
    "                        num_threads=4,\n",
    "                        max_depth=-1,\n",
    "                        tree_learner='serial',\n",
    "                        feature_fraction=0.7,\n",
    "                        bagging_freq=5,\n",
    "                        bagging_fraction=0.7,\n",
    "                        verbose=-1,\n",
    "                        bagging_seed=11\n",
    "                    )\n",
    "\n",
    "\n",
    "model_lgb.fit(X_train, Y_train_1, early_stopping_rounds=200, eval_set=[(X_train,Y_train_1),(X_validation, Y_validation_1)],eval_metric=custom_scorer,verbose=500)"
   ]
  },
  {
   "cell_type": "code",
   "execution_count": null,
   "id": "aa7148de-bba3-46c8-b095-3e1a87f1c79a",
   "metadata": {},
   "outputs": [],
   "source": [
    "Y_train.values.flatten()"
   ]
  },
  {
   "cell_type": "code",
   "execution_count": null,
   "id": "c5074405-01b4-4ef8-a3da-de083368fd0e",
   "metadata": {},
   "outputs": [],
   "source": [
    "Y_train['SMHM_Churn'].unique()"
   ]
  },
  {
   "cell_type": "code",
   "execution_count": null,
   "id": "57e9a811-f5bd-4562-ae35-dc51d10bbabd",
   "metadata": {},
   "outputs": [],
   "source": []
  }
 ],
 "metadata": {
  "kernelspec": {
   "display_name": "Python 3 (ipykernel)",
   "language": "python",
   "name": "python3"
  },
  "language_info": {
   "codemirror_mode": {
    "name": "ipython",
    "version": 3
   },
   "file_extension": ".py",
   "mimetype": "text/x-python",
   "name": "python",
   "nbconvert_exporter": "python",
   "pygments_lexer": "ipython3",
   "version": "3.8.12"
  }
 },
 "nbformat": 4,
 "nbformat_minor": 5
}
