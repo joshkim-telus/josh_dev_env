{
 "cells": [
  {
   "cell_type": "code",
   "execution_count": 456,
   "id": "d2dfb833-8dcc-4324-ba3c-6b2a36c25319",
   "metadata": {},
   "outputs": [],
   "source": [
    "#### import global modules\n",
    "import os\n",
    "import sys\n",
    "import pandas as pd\n",
    "import numpy as np\n",
    "from pathlib import Path\n",
    "from yaml import safe_load\n",
    "import google.oauth2.credentials\n",
    "from google.cloud import bigquery\n",
    "import gc\n",
    "\n",
    "# Set global vars\n",
    "pth_project = Path(os.getcwd().split('notebooks')[0])\n",
    "pth_data = pth_project / 'data'\n",
    "pth_queries = pth_project / 'core' / 'queries'\n",
    "pth_creds = pth_project / 'conf' / 'local' / 'project_config.yaml'\n",
    "sys.path.insert(0, str(pth_project))\n",
    "d_project_config = safe_load(pth_creds.open())\n",
    "# d_params = safe_load((pth_project / 'core' / 'parameters' / 'common.yaml').open())['data_extract']\n",
    "\n",
    "# import local modules\n",
    "from core.utils.gcp import connect_bq_services\n",
    "# from core.etl.extract import extract_bq_data, extract_pr_codes, format_conv_df, filter_convs\n",
    "\n",
    "# Connect to google services\n",
    "bq_client = connect_bq_services(d_project_config['gcp-project-name'])\n",
    "pd.options.display.max_rows = 100"
   ]
  },
  {
   "cell_type": "code",
   "execution_count": 457,
   "id": "9ccda073-f1fb-41b7-a685-201c4724c607",
   "metadata": {},
   "outputs": [],
   "source": [
    "def extract_bq_data(bq_client, sql=None, pth_query=None):\n",
    "    if sql is not None:\n",
    "        df = bq_client.query(sql).to_dataframe()\n",
    "    elif pth_query is not None:\n",
    "        sql = pth_query.read_text()\n",
    "        df = bq_client.query(sql).to_dataframe()\n",
    "    else:\n",
    "        raise ValueError('`sql` or `pth_query` should be set')  \n",
    "    return df"
   ]
  },
  {
   "cell_type": "code",
   "execution_count": 458,
   "id": "0223f580-e2c1-4db0-a68a-3ad99a7d8b39",
   "metadata": {},
   "outputs": [],
   "source": [
    "Query='''\n",
    "\n",
    "\n",
    "DECLARE\n",
    "  start_dt_snpsht DATE DEFAULT '2022-10-15';\n",
    "DECLARE\n",
    "  end_dt_snpsht DATE DEFAULT '2023-01-15';\n",
    "DECLARE\n",
    "  churn_dt_snpsht_start DATE DEFAULT '2023-01-15';\n",
    "DECLARE\n",
    "  churn_dt_snpsht_end DATE DEFAULT '2023-02-28';  \n",
    "\n",
    "\n",
    "WITH date_sql as (\n",
    "\n",
    "SELECT \n",
    "    DATE_TRUNC(DATE_SUB(start_dt_snpsht, INTERVAL 3 month), month) AS eligibility_date \n",
    "\n",
    "\n",
    ")\n",
    "\n",
    "\n",
    "\n",
    ",Customer_Base as (select * from `divgpras-pr-579355.SHS.SHS_churn_model_base_score_data_oct2022_jan2023`)\n",
    "\n",
    ", ADC_BP as ( \n",
    "select *,(Best_Practices_1+Best_Practices_2+Best_Practices_3+Best_Practices_4+Best_Practices_5+Best_Practices_6) as Best_Practice_All\n",
    "from \n",
    "\n",
    "(\n",
    "  -- #1 from_item\n",
    "  SELECT \n",
    "    customer_id,\n",
    "    best_practices_id,\n",
    "     case when best_practices_ind=True then 1 else 0 end as Best_practices_flag,\n",
    "\n",
    "  FROM `cio-datahub-enterprise-pr-183a.src_adc.bq_customer_best_practice`\n",
    "  where DATE(dt_last_calculate_utc) <= end_dt_snpsht\n",
    "  QUALIFY ROW_NUMBER() OVER (PARTITION BY customer_id,best_practices_id ORDER BY last_updt_ts DESC) = 1\n",
    ")\n",
    "PIVOT\n",
    "(\n",
    "  -- #2 aggregate\n",
    "  sum(Best_practices_flag) AS Best_Practices\n",
    "  -- #3 pivot_column\n",
    "  FOR best_practices_id in (1,2,3,4,5,6)\n",
    ")\n",
    "\n",
    ")\n",
    "\n",
    "\n",
    ",ADC_arming AS (\n",
    "\n",
    "With date_sql as (\n",
    "select  count(distinct date(date)) as count_of_dates from `cio-datahub-enterprise-pr-183a.src_adc.bq_aggregate_daily_arming_commands`\n",
    "where date(date)<= end_dt_snpsht and date(date)>= start_dt_snpsht\n",
    "\n",
    ")\n",
    "\n",
    "select \n",
    "    id_cust as customer_id\n",
    "    ,sum(count_arm_commands) as sum_arm_commands\n",
    "    ,sum(count_disarm_commands) as sum_disarm_commands\n",
    "    ,count (distinct date(date)) as number_days_arming_disarming\n",
    "    , (select count_of_dates from date_sql ) as count_of_dates_arming\n",
    "    , round(count (distinct date(date))*100/(select max(count_of_dates) from date_sql),0) as arming_consistency\n",
    "    , round(sum(count_arm_commands)/(count (distinct date(date))),0) as Avg_arm_per_day\n",
    "    ,round(sum(count_disarm_commands)/(count (distinct date(date))),0) as Avg_disarm_per_day\n",
    "from `cio-datahub-enterprise-pr-183a.src_adc.bq_aggregate_daily_arming_commands`\n",
    "where date(date)<= end_dt_snpsht and date(date)>= start_dt_snpsht\n",
    "group by customer_id\n",
    "order by number_days_arming_disarming desc\n",
    "\n",
    ")\n",
    "\n",
    "\n",
    ", ADC_login as (\n",
    "\n",
    "with date_sql as (\n",
    "select  count(distinct date(login_dt_utc)) as count_of_dates from `cio-datahub-enterprise-pr-183a.src_adc.bq_customer_daily_logins`\n",
    "where date(login_dt_utc)<= end_dt_snpsht and date(login_dt_utc)>= start_dt_snpsht\n",
    "\n",
    ")\n",
    "\n",
    "select customer_id,sum(login_count) as sum_login_count,count (distinct date(login_dt_utc)) as number_of_login_days, (select count_of_dates from date_sql ) as count_of_dates_login, round(count (distinct date(login_dt_utc))*100/(select max(count_of_dates) from date_sql),0) as login_consistency, round(sum(login_count)/(count (distinct date(login_dt_utc))),0) as Avg_login_per_day\n",
    "from `cio-datahub-enterprise-pr-183a.src_adc.bq_customer_daily_logins`\n",
    "where date(login_dt_utc)<= end_dt_snpsht and date(login_dt_utc)>= start_dt_snpsht\n",
    "group by customer_id\n",
    "order by login_consistency desc\n",
    "\n",
    "\n",
    "\n",
    ")\n",
    "\n",
    "\n",
    ", cte_product_mix AS (\n",
    "  \n",
    "SELECT distinct ffh_prod.bacct_bus_bacct_num AS ban,\n",
    "         COUNT(DISTINCT CASE WHEN ffh_prod.pi_prod_instnc_typ_cd IN ('SING', 'HSIC', 'TTV', 'SMHM', 'STV', 'DIIC','C') THEN ffh_prod.pi_prod_instnc_typ_cd ELSE NULL END) AS product_mix_all,\n",
    "         COUNT(DISTINCT CASE WHEN ffh_prod.pi_prod_instnc_typ_cd = 'HSIC' THEN ffh_prod.bus_prod_instnc_id ELSE NULL END) AS hsic_count,\n",
    "         COUNT(DISTINCT CASE WHEN ffh_prod.pi_prod_instnc_typ_cd = 'SING' THEN ffh_prod.bus_prod_instnc_id ELSE NULL END) AS sing_count,\n",
    "         COUNT(DISTINCT CASE WHEN ffh_prod.pi_prod_instnc_typ_cd = 'SMHM' THEN ffh_prod.bus_prod_instnc_id ELSE NULL END) AS shs_count,\n",
    "         COUNT(DISTINCT CASE WHEN ffh_prod.pi_prod_instnc_typ_cd = 'TTV'  THEN ffh_prod.bus_prod_instnc_id ELSE NULL END) AS ttv_count,\n",
    "         COUNT(DISTINCT CASE WHEN ffh_prod.pi_prod_instnc_typ_cd = 'STV'  THEN ffh_prod.bus_prod_instnc_id ELSE NULL END) AS stv_count,\n",
    "         COUNT(DISTINCT CASE WHEN ffh_prod.pi_prod_instnc_typ_cd = 'DIIC' THEN ffh_prod.bus_prod_instnc_id ELSE NULL END) AS diic_count   \n",
    "         FROM `cio-datahub-enterprise-pr-183a.ent_cust_cust.bq_prod_instnc_snpsht` AS ffh_prod\n",
    "   \n",
    "   WHERE DATE(ffh_prod.prod_instnc_ts) = end_dt_snpsht\n",
    "     AND ffh_prod.pi_prod_instnc_stat_cd = 'A' --Active Products\n",
    "     AND ffh_prod.consldt_cust_typ_cd = 'R' --Regular (not Business)\n",
    "     AND ffh_prod.pi_prod_instnc_typ_cd IN \n",
    "         (\n",
    "           'DIIC', --Dialup\n",
    "           'HSIC', --High Speed\n",
    "           'SING', --Home Phone\n",
    "           'SMHM', --Smart Home\n",
    "           'STV',  --Satelite\n",
    "           'TTV'   --TV\n",
    "         )\n",
    "GROUP BY ffh_prod.bacct_bus_bacct_num\n",
    "--QUALIFY ROW_NUMBER() OVER (PARTITION BY ffh_prod.bacct_bus_bacct_num ORDER BY ffh_prod.prod_instnc_ts ) = 1\n",
    "order by ffh_prod.bacct_bus_bacct_num\n",
    ")\n",
    "\n",
    "\n",
    "\n",
    ", ARPU_Calculation as(\n",
    "\n",
    "with ARPU_full as (\n",
    "SELECT\n",
    "  distinct billg_acct_num AS ban,\n",
    "  EXTRACT(YEAR\n",
    "  FROM\n",
    "    bill.bill_dt)||'-'||LPAD(CAST(EXTRACT(MONTH\n",
    "      FROM\n",
    "        bill.bill_dt) AS STRING), 2, '0') AS bill_year_month,\n",
    "  sum(bill.rid_unit_chrg_amt) as ARPU_SMHM,\n",
    "  sum(tot_inv_amt) as ARPU_FFH\n",
    "  FROM\n",
    "  `cio-datahub-enterprise-pr-183a.ent_cust_bill.bq_wln_inv_sum_view` bill\n",
    "WHERE\n",
    "  DATE(bill.bill_dt)>=  start_dt_snpsht\n",
    "  and DATE(bill.bill_dt)<= end_dt_snpsht\n",
    "  group by ban,bill_year_month\n",
    ")\n",
    "\n",
    "select ban, round(avg(ARPU_SMHM),0) as Avg_SMHM_ARPU,round(avg(ARPU_FFH),0) as Avg_FFH_ARPU \n",
    "from ARPU_full group by ban\n",
    "\n",
    ")\n",
    "\n",
    "\n",
    ",Deact_list as (\n",
    "\n",
    "select distinct Telus_Cust_ID,SMHM_Churn from \n",
    "(select  distinct cast (CUST_ID as string) as Telus_Cust_ID, 1 as SMHM_Churn, PARSE_DATE('%d%h%Y',SUBSTR(ACTIVITY_DATE, 0,9)) as churn_date from `divgpras-pr-579355.SHS.SMHM_Deact_Dec2022_Feb2023`)\n",
    "where churn_date> churn_dt_snpsht_start and churn_date<=churn_dt_snpsht_end\n",
    "\n",
    "\n",
    ")\n",
    "\n",
    "\n",
    "select cb.*,bp.*,arm.* ,lg.*,prod_mix.*,ARPU.*,Deacts.*\n",
    "from Customer_Base cb\n",
    "left join ADC_BP bp\n",
    "on cb.customer_id=bp.customer_id\n",
    "left join ADC_arming arm\n",
    "on cb.customer_id=arm.customer_id\n",
    "left join ADC_login lg\n",
    "on cb.customer_id=lg.customer_id\n",
    "left join cte_product_mix as prod_mix\n",
    "on cb.BAN=prod_mix.ban\n",
    "left join ARPU_Calculation as ARPU\n",
    "on cb.BAN=ARPU.ban\n",
    "left join Deact_list as Deacts\n",
    "on cb.dealer_customer_id=Deacts.Telus_Cust_ID\n",
    "\n",
    "'''"
   ]
  },
  {
   "cell_type": "code",
   "execution_count": 459,
   "id": "c16878d7-b337-4623-a2a6-9090d8ef1862",
   "metadata": {},
   "outputs": [],
   "source": [
    "DF=extract_bq_data(bq_client, sql=Query)"
   ]
  },
  {
   "cell_type": "code",
   "execution_count": 460,
   "id": "791e30e4-21ad-41dd-a584-a27880016499",
   "metadata": {},
   "outputs": [
    {
     "name": "stdout",
     "output_type": "stream",
     "text": [
      "<class 'pandas.core.frame.DataFrame'>\n",
      "RangeIndex: 360097 entries, 0 to 360096\n",
      "Data columns (total 50 columns):\n",
      " #   Column                        Non-Null Count   Dtype  \n",
      "---  ------                        --------------   -----  \n",
      " 0   customer_id                   360097 non-null  Int64  \n",
      " 1   dealer_customer_id            360097 non-null  object \n",
      " 2   primary_login_id              360097 non-null  Int64  \n",
      " 3   dealer_name                   360097 non-null  object \n",
      " 4   join_date                     360097 non-null  object \n",
      " 5   account_type_name             360097 non-null  object \n",
      " 6   customer_type_name            360097 non-null  object \n",
      " 7   Package                       360097 non-null  object \n",
      " 8   Tenure_months                 360097 non-null  Int64  \n",
      " 9   BAN                           360097 non-null  Int64  \n",
      " 10  cust_bus_cust_id              360097 non-null  object \n",
      " 11  contract_start_date           319404 non-null  object \n",
      " 12  contract_end_date             360097 non-null  object \n",
      " 13  contract_end_status           360097 non-null  object \n",
      " 14  Contract_start_months         319404 non-null  Int64  \n",
      " 15  customer_id_1                 279705 non-null  Int64  \n",
      " 16  Best_Practices_1              279705 non-null  Int64  \n",
      " 17  Best_Practices_2              279705 non-null  Int64  \n",
      " 18  Best_Practices_3              279705 non-null  Int64  \n",
      " 19  Best_Practices_4              279705 non-null  Int64  \n",
      " 20  Best_Practices_5              279705 non-null  Int64  \n",
      " 21  Best_Practices_6              279705 non-null  Int64  \n",
      " 22  Best_Practice_All             279705 non-null  Int64  \n",
      " 23  customer_id_2                 158655 non-null  Int64  \n",
      " 24  sum_arm_commands              158655 non-null  Int64  \n",
      " 25  sum_disarm_commands           158655 non-null  Int64  \n",
      " 26  number_days_arming_disarming  158655 non-null  Int64  \n",
      " 27  count_of_dates_arming         158655 non-null  Int64  \n",
      " 28  arming_consistency            158655 non-null  float64\n",
      " 29  Avg_arm_per_day               158655 non-null  float64\n",
      " 30  Avg_disarm_per_day            158655 non-null  float64\n",
      " 31  customer_id_3                 288556 non-null  Int64  \n",
      " 32  sum_login_count               288556 non-null  Int64  \n",
      " 33  number_of_login_days          288556 non-null  Int64  \n",
      " 34  count_of_dates_login          288556 non-null  Int64  \n",
      " 35  login_consistency             288556 non-null  float64\n",
      " 36  Avg_login_per_day             288556 non-null  float64\n",
      " 37  ban_1                         360097 non-null  Int64  \n",
      " 38  product_mix_all               360097 non-null  Int64  \n",
      " 39  hsic_count                    360097 non-null  Int64  \n",
      " 40  sing_count                    360097 non-null  Int64  \n",
      " 41  shs_count                     360097 non-null  Int64  \n",
      " 42  ttv_count                     360097 non-null  Int64  \n",
      " 43  stv_count                     360097 non-null  Int64  \n",
      " 44  diic_count                    360097 non-null  Int64  \n",
      " 45  ban_2                         358532 non-null  object \n",
      " 46  Avg_SMHM_ARPU                 358356 non-null  object \n",
      " 47  Avg_FFH_ARPU                  358532 non-null  object \n",
      " 48  Telus_Cust_ID                 4166 non-null    object \n",
      " 49  SMHM_Churn                    4166 non-null    Int64  \n",
      "dtypes: Int64(31), float64(5), object(14)\n",
      "memory usage: 148.0+ MB\n"
     ]
    }
   ],
   "source": [
    "DF.info()"
   ]
  },
  {
   "cell_type": "code",
   "execution_count": 461,
   "id": "13488b60-908a-422f-96d3-15f10da90c6b",
   "metadata": {},
   "outputs": [
    {
     "data": {
      "text/html": [
       "<div>\n",
       "<style scoped>\n",
       "    .dataframe tbody tr th:only-of-type {\n",
       "        vertical-align: middle;\n",
       "    }\n",
       "\n",
       "    .dataframe tbody tr th {\n",
       "        vertical-align: top;\n",
       "    }\n",
       "\n",
       "    .dataframe thead th {\n",
       "        text-align: right;\n",
       "    }\n",
       "</style>\n",
       "<table border=\"1\" class=\"dataframe\">\n",
       "  <thead>\n",
       "    <tr style=\"text-align: right;\">\n",
       "      <th></th>\n",
       "      <th>customer_id</th>\n",
       "      <th>dealer_customer_id</th>\n",
       "      <th>primary_login_id</th>\n",
       "      <th>dealer_name</th>\n",
       "      <th>join_date</th>\n",
       "      <th>account_type_name</th>\n",
       "      <th>customer_type_name</th>\n",
       "      <th>Package</th>\n",
       "      <th>Tenure_months</th>\n",
       "      <th>BAN</th>\n",
       "      <th>...</th>\n",
       "      <th>sing_count</th>\n",
       "      <th>shs_count</th>\n",
       "      <th>ttv_count</th>\n",
       "      <th>stv_count</th>\n",
       "      <th>diic_count</th>\n",
       "      <th>ban_2</th>\n",
       "      <th>Avg_SMHM_ARPU</th>\n",
       "      <th>Avg_FFH_ARPU</th>\n",
       "      <th>Telus_Cust_ID</th>\n",
       "      <th>SMHM_Churn</th>\n",
       "    </tr>\n",
       "  </thead>\n",
       "  <tbody>\n",
       "    <tr>\n",
       "      <th>0</th>\n",
       "      <td>6931637</td>\n",
       "      <td>46462378</td>\n",
       "      <td>8053939</td>\n",
       "      <td>TELUS Communications Inc.</td>\n",
       "      <td>2019-01-28</td>\n",
       "      <td>Security System</td>\n",
       "      <td>Customer</td>\n",
       "      <td>Monitored</td>\n",
       "      <td>48</td>\n",
       "      <td>601407725</td>\n",
       "      <td>...</td>\n",
       "      <td>0</td>\n",
       "      <td>1</td>\n",
       "      <td>1</td>\n",
       "      <td>0</td>\n",
       "      <td>0</td>\n",
       "      <td>601407725.000000000</td>\n",
       "      <td>65.000000000</td>\n",
       "      <td>174.000000000</td>\n",
       "      <td>None</td>\n",
       "      <td>&lt;NA&gt;</td>\n",
       "    </tr>\n",
       "    <tr>\n",
       "      <th>1</th>\n",
       "      <td>7527516</td>\n",
       "      <td>2600905</td>\n",
       "      <td>8779809</td>\n",
       "      <td>TELUS Communications Inc.</td>\n",
       "      <td>2019-06-21</td>\n",
       "      <td>Security System</td>\n",
       "      <td>Customer</td>\n",
       "      <td>Monitored</td>\n",
       "      <td>43</td>\n",
       "      <td>212525033</td>\n",
       "      <td>...</td>\n",
       "      <td>0</td>\n",
       "      <td>1</td>\n",
       "      <td>1</td>\n",
       "      <td>0</td>\n",
       "      <td>1</td>\n",
       "      <td>212525033.000000000</td>\n",
       "      <td>60.000000000</td>\n",
       "      <td>115.000000000</td>\n",
       "      <td>None</td>\n",
       "      <td>&lt;NA&gt;</td>\n",
       "    </tr>\n",
       "    <tr>\n",
       "      <th>2</th>\n",
       "      <td>6140673</td>\n",
       "      <td>98351083</td>\n",
       "      <td>7068264</td>\n",
       "      <td>TELUS Communications Inc.</td>\n",
       "      <td>2018-04-21</td>\n",
       "      <td>Security System</td>\n",
       "      <td>Customer</td>\n",
       "      <td>Monitored</td>\n",
       "      <td>57</td>\n",
       "      <td>603603134</td>\n",
       "      <td>...</td>\n",
       "      <td>0</td>\n",
       "      <td>1</td>\n",
       "      <td>0</td>\n",
       "      <td>0</td>\n",
       "      <td>0</td>\n",
       "      <td>603603134.000000000</td>\n",
       "      <td>50.000000000</td>\n",
       "      <td>52.000000000</td>\n",
       "      <td>None</td>\n",
       "      <td>&lt;NA&gt;</td>\n",
       "    </tr>\n",
       "    <tr>\n",
       "      <th>3</th>\n",
       "      <td>8895242</td>\n",
       "      <td>100544009</td>\n",
       "      <td>10451224</td>\n",
       "      <td>TELUS Communications Inc.</td>\n",
       "      <td>2020-04-04</td>\n",
       "      <td>Security System</td>\n",
       "      <td>Customer</td>\n",
       "      <td>Monitored</td>\n",
       "      <td>33</td>\n",
       "      <td>604221667</td>\n",
       "      <td>...</td>\n",
       "      <td>0</td>\n",
       "      <td>1</td>\n",
       "      <td>0</td>\n",
       "      <td>0</td>\n",
       "      <td>0</td>\n",
       "      <td>604221667.000000000</td>\n",
       "      <td>60.000000000</td>\n",
       "      <td>63.000000000</td>\n",
       "      <td>None</td>\n",
       "      <td>&lt;NA&gt;</td>\n",
       "    </tr>\n",
       "    <tr>\n",
       "      <th>4</th>\n",
       "      <td>6846485</td>\n",
       "      <td>1772209</td>\n",
       "      <td>7945738</td>\n",
       "      <td>TELUS Communications Inc.</td>\n",
       "      <td>2018-12-24</td>\n",
       "      <td>Security System</td>\n",
       "      <td>Customer</td>\n",
       "      <td>Monitored</td>\n",
       "      <td>49</td>\n",
       "      <td>603176697</td>\n",
       "      <td>...</td>\n",
       "      <td>0</td>\n",
       "      <td>1</td>\n",
       "      <td>0</td>\n",
       "      <td>1</td>\n",
       "      <td>0</td>\n",
       "      <td>603176697.000000000</td>\n",
       "      <td>52.000000000</td>\n",
       "      <td>192.000000000</td>\n",
       "      <td>None</td>\n",
       "      <td>&lt;NA&gt;</td>\n",
       "    </tr>\n",
       "  </tbody>\n",
       "</table>\n",
       "<p>5 rows × 50 columns</p>\n",
       "</div>"
      ],
      "text/plain": [
       "   customer_id dealer_customer_id  primary_login_id  \\\n",
       "0      6931637           46462378           8053939   \n",
       "1      7527516            2600905           8779809   \n",
       "2      6140673           98351083           7068264   \n",
       "3      8895242          100544009          10451224   \n",
       "4      6846485            1772209           7945738   \n",
       "\n",
       "                 dealer_name   join_date account_type_name customer_type_name  \\\n",
       "0  TELUS Communications Inc.  2019-01-28   Security System           Customer   \n",
       "1  TELUS Communications Inc.  2019-06-21   Security System           Customer   \n",
       "2  TELUS Communications Inc.  2018-04-21   Security System           Customer   \n",
       "3  TELUS Communications Inc.  2020-04-04   Security System           Customer   \n",
       "4  TELUS Communications Inc.  2018-12-24   Security System           Customer   \n",
       "\n",
       "     Package  Tenure_months        BAN  ... sing_count shs_count ttv_count  \\\n",
       "0  Monitored             48  601407725  ...          0         1         1   \n",
       "1  Monitored             43  212525033  ...          0         1         1   \n",
       "2  Monitored             57  603603134  ...          0         1         0   \n",
       "3  Monitored             33  604221667  ...          0         1         0   \n",
       "4  Monitored             49  603176697  ...          0         1         0   \n",
       "\n",
       "  stv_count  diic_count                ban_2  Avg_SMHM_ARPU   Avg_FFH_ARPU  \\\n",
       "0         0           0  601407725.000000000   65.000000000  174.000000000   \n",
       "1         0           1  212525033.000000000   60.000000000  115.000000000   \n",
       "2         0           0  603603134.000000000   50.000000000   52.000000000   \n",
       "3         0           0  604221667.000000000   60.000000000   63.000000000   \n",
       "4         1           0  603176697.000000000   52.000000000  192.000000000   \n",
       "\n",
       "   Telus_Cust_ID  SMHM_Churn  \n",
       "0           None        <NA>  \n",
       "1           None        <NA>  \n",
       "2           None        <NA>  \n",
       "3           None        <NA>  \n",
       "4           None        <NA>  \n",
       "\n",
       "[5 rows x 50 columns]"
      ]
     },
     "execution_count": 461,
     "metadata": {},
     "output_type": "execute_result"
    }
   ],
   "source": [
    "DF.head()"
   ]
  },
  {
   "cell_type": "code",
   "execution_count": 462,
   "id": "d87d16f0-a701-499f-87a1-1b2e973c1f5b",
   "metadata": {},
   "outputs": [],
   "source": [
    "DF['SMHM_Churn'].fillna(0,inplace=True)"
   ]
  },
  {
   "cell_type": "code",
   "execution_count": 463,
   "id": "fb2e5c8e-f037-402b-b9f2-b4c0febd5215",
   "metadata": {},
   "outputs": [],
   "source": [
    "# DF['churn_date'].fillna(0,inplace=True)"
   ]
  },
  {
   "cell_type": "code",
   "execution_count": 464,
   "id": "44551826-e9c6-4c56-9d3d-75263103bc07",
   "metadata": {},
   "outputs": [
    {
     "data": {
      "text/plain": [
       "0    355931\n",
       "1      4166\n",
       "Name: SMHM_Churn, dtype: Int64"
      ]
     },
     "execution_count": 464,
     "metadata": {},
     "output_type": "execute_result"
    }
   ],
   "source": [
    "DF['SMHM_Churn'].value_counts()"
   ]
  },
  {
   "cell_type": "code",
   "execution_count": 465,
   "id": "ea607d65-1fab-427c-90d0-98ecc42886de",
   "metadata": {},
   "outputs": [],
   "source": [
    "# DF['churn_date'].value_counts()"
   ]
  },
  {
   "cell_type": "code",
   "execution_count": 466,
   "id": "a463181f-3bd5-4391-9e56-1baec887d876",
   "metadata": {},
   "outputs": [],
   "source": [
    "# DF['churn_date'].min()"
   ]
  },
  {
   "cell_type": "code",
   "execution_count": 467,
   "id": "efe2afc4-a010-4845-8757-bc6ea557629b",
   "metadata": {},
   "outputs": [
    {
     "data": {
      "text/plain": [
       "0    98.84309\n",
       "1     1.15691\n",
       "Name: SMHM_Churn, dtype: Float64"
      ]
     },
     "execution_count": 467,
     "metadata": {},
     "output_type": "execute_result"
    }
   ],
   "source": [
    "DF['SMHM_Churn'].value_counts(normalize=True)*100"
   ]
  },
  {
   "cell_type": "code",
   "execution_count": 468,
   "id": "b5c6a0c3-97db-4057-8f93-22bccce958ac",
   "metadata": {},
   "outputs": [
    {
     "data": {
      "text/plain": [
       "1     357451\n",
       "2       2537\n",
       "3         97\n",
       "4          8\n",
       "5          2\n",
       "11         1\n",
       "6          1\n",
       "Name: shs_count, dtype: Int64"
      ]
     },
     "execution_count": 468,
     "metadata": {},
     "output_type": "execute_result"
    }
   ],
   "source": [
    "DF['shs_count'].value_counts()"
   ]
  },
  {
   "cell_type": "code",
   "execution_count": 469,
   "id": "4be0c43a-b46a-4fbc-acd5-165cb8bbc9d7",
   "metadata": {},
   "outputs": [
    {
     "data": {
      "text/plain": [
       "601407725    1\n",
       "603573557    1\n",
       "603572992    1\n",
       "200683560    1\n",
       "605588046    1\n",
       "            ..\n",
       "601365191    1\n",
       "601772594    1\n",
       "603741301    1\n",
       "605596057    1\n",
       "605588778    1\n",
       "Name: BAN, Length: 360097, dtype: Int64"
      ]
     },
     "execution_count": 469,
     "metadata": {},
     "output_type": "execute_result"
    }
   ],
   "source": [
    "DF['BAN'].value_counts()"
   ]
  },
  {
   "cell_type": "code",
   "execution_count": 470,
   "id": "936b002f-a72a-4c9a-b00d-4575b378da7f",
   "metadata": {},
   "outputs": [],
   "source": [
    "DF=DF.drop_duplicates()"
   ]
  },
  {
   "cell_type": "code",
   "execution_count": 471,
   "id": "6ef64489-5e8e-426f-bfb0-3775255c5816",
   "metadata": {},
   "outputs": [
    {
     "name": "stdout",
     "output_type": "stream",
     "text": [
      "<class 'pandas.core.frame.DataFrame'>\n",
      "Int64Index: 360097 entries, 0 to 360096\n",
      "Data columns (total 50 columns):\n",
      " #   Column                        Non-Null Count   Dtype  \n",
      "---  ------                        --------------   -----  \n",
      " 0   customer_id                   360097 non-null  Int64  \n",
      " 1   dealer_customer_id            360097 non-null  object \n",
      " 2   primary_login_id              360097 non-null  Int64  \n",
      " 3   dealer_name                   360097 non-null  object \n",
      " 4   join_date                     360097 non-null  object \n",
      " 5   account_type_name             360097 non-null  object \n",
      " 6   customer_type_name            360097 non-null  object \n",
      " 7   Package                       360097 non-null  object \n",
      " 8   Tenure_months                 360097 non-null  Int64  \n",
      " 9   BAN                           360097 non-null  Int64  \n",
      " 10  cust_bus_cust_id              360097 non-null  object \n",
      " 11  contract_start_date           319404 non-null  object \n",
      " 12  contract_end_date             360097 non-null  object \n",
      " 13  contract_end_status           360097 non-null  object \n",
      " 14  Contract_start_months         319404 non-null  Int64  \n",
      " 15  customer_id_1                 279705 non-null  Int64  \n",
      " 16  Best_Practices_1              279705 non-null  Int64  \n",
      " 17  Best_Practices_2              279705 non-null  Int64  \n",
      " 18  Best_Practices_3              279705 non-null  Int64  \n",
      " 19  Best_Practices_4              279705 non-null  Int64  \n",
      " 20  Best_Practices_5              279705 non-null  Int64  \n",
      " 21  Best_Practices_6              279705 non-null  Int64  \n",
      " 22  Best_Practice_All             279705 non-null  Int64  \n",
      " 23  customer_id_2                 158655 non-null  Int64  \n",
      " 24  sum_arm_commands              158655 non-null  Int64  \n",
      " 25  sum_disarm_commands           158655 non-null  Int64  \n",
      " 26  number_days_arming_disarming  158655 non-null  Int64  \n",
      " 27  count_of_dates_arming         158655 non-null  Int64  \n",
      " 28  arming_consistency            158655 non-null  float64\n",
      " 29  Avg_arm_per_day               158655 non-null  float64\n",
      " 30  Avg_disarm_per_day            158655 non-null  float64\n",
      " 31  customer_id_3                 288556 non-null  Int64  \n",
      " 32  sum_login_count               288556 non-null  Int64  \n",
      " 33  number_of_login_days          288556 non-null  Int64  \n",
      " 34  count_of_dates_login          288556 non-null  Int64  \n",
      " 35  login_consistency             288556 non-null  float64\n",
      " 36  Avg_login_per_day             288556 non-null  float64\n",
      " 37  ban_1                         360097 non-null  Int64  \n",
      " 38  product_mix_all               360097 non-null  Int64  \n",
      " 39  hsic_count                    360097 non-null  Int64  \n",
      " 40  sing_count                    360097 non-null  Int64  \n",
      " 41  shs_count                     360097 non-null  Int64  \n",
      " 42  ttv_count                     360097 non-null  Int64  \n",
      " 43  stv_count                     360097 non-null  Int64  \n",
      " 44  diic_count                    360097 non-null  Int64  \n",
      " 45  ban_2                         358532 non-null  object \n",
      " 46  Avg_SMHM_ARPU                 358356 non-null  object \n",
      " 47  Avg_FFH_ARPU                  358532 non-null  object \n",
      " 48  Telus_Cust_ID                 4166 non-null    object \n",
      " 49  SMHM_Churn                    360097 non-null  Int64  \n",
      "dtypes: Int64(31), float64(5), object(14)\n",
      "memory usage: 150.8+ MB\n"
     ]
    }
   ],
   "source": [
    "DF.info()"
   ]
  },
  {
   "cell_type": "code",
   "execution_count": 472,
   "id": "d0edbca3-3f45-4b57-85c5-7a2bd4726992",
   "metadata": {},
   "outputs": [],
   "source": [
    "# BAN_list=DF['BAN'].value_counts().rename_axis('BAN').reset_index(name='unique_counts')"
   ]
  },
  {
   "cell_type": "code",
   "execution_count": 473,
   "id": "1045a5c3-03d5-4a90-a4ee-271b8e33227f",
   "metadata": {},
   "outputs": [],
   "source": [
    "# BAN_list_2=BAN_list[BAN_list.unique_counts>1]"
   ]
  },
  {
   "cell_type": "code",
   "execution_count": 474,
   "id": "6f9a6537-adf6-4542-bd0b-c52c4af98e07",
   "metadata": {},
   "outputs": [],
   "source": [
    "# BAN_list_2"
   ]
  },
  {
   "cell_type": "code",
   "execution_count": 475,
   "id": "7db9831c-104f-4c4b-ae24-f0443e2dc025",
   "metadata": {},
   "outputs": [],
   "source": [
    "# DF[DF['BAN']==604371757]\n",
    "# .to_csv('Data_testing.csv',index=False)"
   ]
  },
  {
   "cell_type": "code",
   "execution_count": 476,
   "id": "1fe52910-e99c-4bf4-89e4-1dd1e19bed3c",
   "metadata": {},
   "outputs": [],
   "source": [
    "config= bigquery.job.LoadJobConfig()\n",
    "\n",
    "# config._properties['timePartitioning'] = {'field': 'Month_Year'}\n",
    "config.write_disposition = bigquery.WriteDisposition.WRITE_TRUNCATE\n",
    "\n",
    "Table_BQ = 'SHS.SHS_churn_model_score_data_Oct2022_Jan2023'\n",
    "\n",
    "bq_table_instance= bq_client.load_table_from_dataframe(DF, Table_BQ,job_config=config)"
   ]
  },
  {
   "cell_type": "code",
   "execution_count": 477,
   "id": "57b3b93e-e71f-45e0-b5b2-1bf2939af937",
   "metadata": {},
   "outputs": [],
   "source": [
    "Query_score_data= '''\n",
    "\n",
    "select * from `divgpras-pr-579355.SHS.SHS_churn_model_score_data_Oct2022_Jan2023`\n",
    "\n",
    "'''"
   ]
  },
  {
   "cell_type": "code",
   "execution_count": 478,
   "id": "3e40eaeb-1e1c-4e6a-ad80-000e1820748f",
   "metadata": {},
   "outputs": [],
   "source": [
    "DF=extract_bq_data(bq_client, sql=Query_score_data)"
   ]
  },
  {
   "cell_type": "code",
   "execution_count": 479,
   "id": "0efcefd5-3b41-4150-ba48-c6d6c6a9b744",
   "metadata": {},
   "outputs": [
    {
     "name": "stdout",
     "output_type": "stream",
     "text": [
      "<class 'pandas.core.frame.DataFrame'>\n",
      "RangeIndex: 360097 entries, 0 to 360096\n",
      "Data columns (total 50 columns):\n",
      " #   Column                        Non-Null Count   Dtype  \n",
      "---  ------                        --------------   -----  \n",
      " 0   customer_id                   360097 non-null  Int64  \n",
      " 1   dealer_customer_id            360097 non-null  object \n",
      " 2   primary_login_id              360097 non-null  Int64  \n",
      " 3   dealer_name                   360097 non-null  object \n",
      " 4   join_date                     360097 non-null  object \n",
      " 5   account_type_name             360097 non-null  object \n",
      " 6   customer_type_name            360097 non-null  object \n",
      " 7   Package                       360097 non-null  object \n",
      " 8   Tenure_months                 360097 non-null  Int64  \n",
      " 9   BAN                           360097 non-null  Int64  \n",
      " 10  cust_bus_cust_id              360097 non-null  object \n",
      " 11  contract_start_date           319404 non-null  object \n",
      " 12  contract_end_date             360097 non-null  object \n",
      " 13  contract_end_status           360097 non-null  object \n",
      " 14  Contract_start_months         319404 non-null  Int64  \n",
      " 15  customer_id_1                 279705 non-null  Int64  \n",
      " 16  Best_Practices_1              279705 non-null  Int64  \n",
      " 17  Best_Practices_2              279705 non-null  Int64  \n",
      " 18  Best_Practices_3              279705 non-null  Int64  \n",
      " 19  Best_Practices_4              279705 non-null  Int64  \n",
      " 20  Best_Practices_5              279705 non-null  Int64  \n",
      " 21  Best_Practices_6              279705 non-null  Int64  \n",
      " 22  Best_Practice_All             279705 non-null  Int64  \n",
      " 23  customer_id_2                 158655 non-null  Int64  \n",
      " 24  sum_arm_commands              158655 non-null  Int64  \n",
      " 25  sum_disarm_commands           158655 non-null  Int64  \n",
      " 26  number_days_arming_disarming  158655 non-null  Int64  \n",
      " 27  count_of_dates_arming         158655 non-null  Int64  \n",
      " 28  arming_consistency            158655 non-null  float64\n",
      " 29  Avg_arm_per_day               158655 non-null  float64\n",
      " 30  Avg_disarm_per_day            158655 non-null  float64\n",
      " 31  customer_id_3                 288556 non-null  Int64  \n",
      " 32  sum_login_count               288556 non-null  Int64  \n",
      " 33  number_of_login_days          288556 non-null  Int64  \n",
      " 34  count_of_dates_login          288556 non-null  Int64  \n",
      " 35  login_consistency             288556 non-null  float64\n",
      " 36  Avg_login_per_day             288556 non-null  float64\n",
      " 37  ban_1                         360097 non-null  Int64  \n",
      " 38  product_mix_all               360097 non-null  Int64  \n",
      " 39  hsic_count                    360097 non-null  Int64  \n",
      " 40  sing_count                    360097 non-null  Int64  \n",
      " 41  shs_count                     360097 non-null  Int64  \n",
      " 42  ttv_count                     360097 non-null  Int64  \n",
      " 43  stv_count                     360097 non-null  Int64  \n",
      " 44  diic_count                    360097 non-null  Int64  \n",
      " 45  ban_2                         358532 non-null  object \n",
      " 46  Avg_SMHM_ARPU                 358356 non-null  object \n",
      " 47  Avg_FFH_ARPU                  358532 non-null  object \n",
      " 48  Telus_Cust_ID                 4166 non-null    object \n",
      " 49  SMHM_Churn                    360097 non-null  Int64  \n",
      "dtypes: Int64(31), float64(5), object(14)\n",
      "memory usage: 148.0+ MB\n"
     ]
    }
   ],
   "source": [
    "DF.info()"
   ]
  },
  {
   "cell_type": "code",
   "execution_count": 480,
   "id": "c13981d1-f9a7-49c8-92e9-e9908148c837",
   "metadata": {},
   "outputs": [],
   "source": [
    "ID_cols=['customer_id','dealer_customer_id','BAN']\n",
    "ignore_cols=['primary_login_id','dealer_name','join_date','account_type_name','customer_type_name','cust_bus_cust_id'\n",
    "             ,'contract_start_date','contract_end_date','customer_id_1','customer_id_2','customer_id_3','ban_1','ban_2'\n",
    "             ,'BAN_3','sum_arm_commands','sum_disarm_commands','number_days_arming_disarming','count_of_dates_arming'\n",
    "             ,'sum_login_count','number_of_login_days','count_of_dates_login','shs_count','Telus_Cust_ID']\n",
    "\n",
    "Target_col=['SMHM_Churn']"
   ]
  },
  {
   "cell_type": "code",
   "execution_count": 481,
   "id": "0bba7a37-123d-44da-a4fa-f008cd47911e",
   "metadata": {},
   "outputs": [],
   "source": [
    "DF['Avg_SMHM_ARPU']=pd.to_numeric(DF['Avg_SMHM_ARPU'])\n",
    "DF['Avg_FFH_ARPU']=pd.to_numeric(DF['Avg_FFH_ARPU'])"
   ]
  },
  {
   "cell_type": "code",
   "execution_count": 482,
   "id": "2377e7e2-c5be-40ab-a0a2-22d1c57e3836",
   "metadata": {},
   "outputs": [],
   "source": [
    "num_cols=DF.select_dtypes(include=np.number).columns.tolist()\n",
    "cat_cols=DF.select_dtypes(exclude=np.number).columns.tolist()\n",
    "\n",
    "num_cols_features=list(set(num_cols)-set(ID_cols)-set(Target_col)-set(ignore_cols))\n",
    "cat_cols_features=list(set(cat_cols)-set(ID_cols)-set(Target_col)-set(ignore_cols))\n",
    "feature_cols=cat_cols_features+num_cols_features"
   ]
  },
  {
   "cell_type": "code",
   "execution_count": 483,
   "id": "f28ec99d-a868-438b-b05a-e582de551d15",
   "metadata": {},
   "outputs": [
    {
     "data": {
      "text/plain": [
       "Package                   0.000000\n",
       "contract_end_status       0.000000\n",
       "Best_Practices_1         22.325096\n",
       "arming_consistency       55.941038\n",
       "Tenure_months             0.000000\n",
       "sing_count                0.000000\n",
       "stv_count                 0.000000\n",
       "Avg_login_per_day        19.867147\n",
       "Best_Practices_3         22.325096\n",
       "Avg_FFH_ARPU              0.434605\n",
       "Avg_arm_per_day          55.941038\n",
       "diic_count                0.000000\n",
       "Best_Practices_2         22.325096\n",
       "hsic_count                0.000000\n",
       "login_consistency        19.867147\n",
       "Avg_disarm_per_day       55.941038\n",
       "Contract_start_months    11.300566\n",
       "Best_Practices_4         22.325096\n",
       "Best_Practice_All        22.325096\n",
       "Avg_SMHM_ARPU             0.483481\n",
       "Best_Practices_6         22.325096\n",
       "ttv_count                 0.000000\n",
       "product_mix_all           0.000000\n",
       "Best_Practices_5         22.325096\n",
       "dtype: float64"
      ]
     },
     "execution_count": 483,
     "metadata": {},
     "output_type": "execute_result"
    }
   ],
   "source": [
    "DF[feature_cols].isnull().sum() * 100 / len(DF[feature_cols])"
   ]
  },
  {
   "cell_type": "code",
   "execution_count": 484,
   "id": "426a869a-5857-423f-85a2-2d4fc131eba3",
   "metadata": {},
   "outputs": [
    {
     "name": "stderr",
     "output_type": "stream",
     "text": [
      "\n",
      "A value is trying to be set on a copy of a slice from a DataFrame.\n",
      "Try using .loc[row_indexer,col_indexer] = value instead\n",
      "\n",
      "See the caveats in the documentation: https://pandas.pydata.org/pandas-docs/stable/user_guide/indexing.html#returning-a-view-versus-a-copy\n",
      "\n",
      "A value is trying to be set on a copy of a slice from a DataFrame.\n",
      "Try using .loc[row_indexer,col_indexer] = value instead\n",
      "\n",
      "See the caveats in the documentation: https://pandas.pydata.org/pandas-docs/stable/user_guide/indexing.html#returning-a-view-versus-a-copy\n"
     ]
    }
   ],
   "source": [
    "def impute_missing_values(dataset=DF):\n",
    "    \n",
    "    for cols in dataset.columns:\n",
    "        if dataset[cols].dtype == np.dtype('O'):\n",
    "            # df.loc[np.isnan(df[\"Age\"]), 'Age'] = rand1\n",
    "            #dataset.loc[dataset[cols].isnull(), cols]=\"Missing_category\"\n",
    "            dataset[cols]=dataset[cols].fillna(\"Missing_category\",inplace=False)\n",
    "        else:\n",
    "            dataset[cols]=dataset[cols].fillna(0,inplace=False)\n",
    "            #dataset.loc[dataset[cols].isnull(), cols]=0\n",
    "    return dataset\n",
    "\n",
    " \n",
    "DF[feature_cols]=impute_missing_values(dataset=DF[feature_cols])"
   ]
  },
  {
   "cell_type": "code",
   "execution_count": 485,
   "id": "5c8e3cc3-5bda-4514-9357-32dc14d011f7",
   "metadata": {},
   "outputs": [
    {
     "data": {
      "text/plain": [
       "0    355931\n",
       "1      4166\n",
       "Name: SMHM_Churn, dtype: Int64"
      ]
     },
     "execution_count": 485,
     "metadata": {},
     "output_type": "execute_result"
    }
   ],
   "source": [
    "DF['SMHM_Churn'].value_counts()"
   ]
  },
  {
   "cell_type": "code",
   "execution_count": 486,
   "id": "8958c0a3-5705-45f7-b1f5-0d9cc7a0c3be",
   "metadata": {},
   "outputs": [],
   "source": [
    "from pickle import dump,load\n",
    "import warnings\n",
    "import json\n",
    "import joblib\n",
    "## reading Intial feature list \n",
    "with open('Intial_feature_columns.json') as json_file:\n",
    "    intial_feature_cols = json.load(json_file)\n",
    "\n",
    "\n",
    "## reading final feature list \n",
    "with open('Final_feature_columns.json') as json_file:\n",
    "    final_feature_cols = json.load(json_file)"
   ]
  },
  {
   "cell_type": "code",
   "execution_count": 487,
   "id": "cced7008-b160-4e2d-a2a8-b2538a3f836e",
   "metadata": {},
   "outputs": [],
   "source": [
    "X_test_df= pd.get_dummies(DF[intial_feature_cols],prefix_sep='__')\n"
   ]
  },
  {
   "cell_type": "code",
   "execution_count": 488,
   "id": "49e3e7a9-584d-4662-9c8f-e2a98da5d2a7",
   "metadata": {},
   "outputs": [],
   "source": [
    "def add_missing_dummy_columns(d, cols_req_model):\n",
    "    ''' \n",
    "    This function adds missing columns to the data so that the model doesn't fail.\n",
    "    d is the Dataset. \n",
    "    cols_req_model is the list of columns required by the model.\n",
    "    \n",
    "    '''\n",
    "    missing_cols = list(set(cols_req_model) - set(d.columns))\n",
    "    print('Adding columns', missing_cols, 'to the data and populating them with 0.')\n",
    "    for c in missing_cols:\n",
    "        d[c] = 0\n",
    "\n",
    "\n",
    "def remove_extra_columns(d,cols_req_model):\n",
    "    \n",
    "    ''' \n",
    "    This function drops extra columns from the data so that the model doesn't fail.\n",
    "    d is the Dataset. \n",
    "    cols_req_model is the list of columns required by the model.\n",
    "    \n",
    "    '''\n",
    "    extra_cols= list(set( d.columns ) - set( cols_req_model ))\n",
    "    print('Dropping', extra_cols, 'columns from the data.')\n",
    "    d = d.drop(extra_cols, axis=1)\n",
    "    return d"
   ]
  },
  {
   "cell_type": "code",
   "execution_count": 489,
   "id": "9b6f2c77-aafb-436e-9d77-a0acfb00bf14",
   "metadata": {},
   "outputs": [
    {
     "name": "stdout",
     "output_type": "stream",
     "text": [
      "Adding columns [] to the data and populating them with 0.\n"
     ]
    }
   ],
   "source": [
    "add_missing_dummy_columns(X_test_df,final_feature_cols)\n"
   ]
  },
  {
   "cell_type": "code",
   "execution_count": 490,
   "id": "d3998676-e510-4880-84db-8998c9a6d14b",
   "metadata": {},
   "outputs": [
    {
     "name": "stdout",
     "output_type": "stream",
     "text": [
      "Dropping [] columns from the data.\n"
     ]
    }
   ],
   "source": [
    "X_test_df=remove_extra_columns(X_test_df,final_feature_cols)\n"
   ]
  },
  {
   "cell_type": "code",
   "execution_count": 491,
   "id": "f5799dd5-f716-4d97-8909-e03c68210151",
   "metadata": {},
   "outputs": [],
   "source": [
    "X_test_df=X_test_df.reindex(columns=final_feature_cols,fill_value=0)"
   ]
  },
  {
   "cell_type": "code",
   "execution_count": 492,
   "id": "d9cb6622-0db1-4a33-b333-552ab42016ee",
   "metadata": {},
   "outputs": [],
   "source": [
    "model_filename='XGB_SMHM_SMHM_churn_model_20230317_065805.pkl'\n",
    "modle_pickle=joblib.load(model_filename)\n"
   ]
  },
  {
   "cell_type": "code",
   "execution_count": 493,
   "id": "21f353d9-f6cb-40c4-ba9c-1a58fffcd650",
   "metadata": {},
   "outputs": [],
   "source": [
    "import pandas as pd\n",
    "import numpy as np\n",
    "from sklearn.metrics import make_scorer\n",
    "\n",
    "def Capture_Rate_1stSD(ground_truth, prediction):\n",
    "    \"\"\" this functions takes in the model\n",
    "    test features, targets, will return the\n",
    "    lift dataframe\n",
    "    \"\"\"\n",
    "    #print(\"data shape:\", ground_truth.shape)\n",
    "\n",
    "    prediction_df = pd.DataFrame(prediction, columns=[\"prob_of_predict_1\"])\n",
    "    # print(prediction_df.head())\n",
    "    y_df = pd.DataFrame(ground_truth, columns=['target'])\n",
    "    prediction_with_label_df = y_df.join(prediction_df.set_index(y_df.index))\n",
    "    # Calculate lift on validation data\n",
    "    v1 = prediction_with_label_df[['target', 'prob_of_predict_1']]\n",
    "    v1.sort_values(by=['prob_of_predict_1'], inplace=True)\n",
    "    v1['Qcut'] = pd.qcut(v1['prob_of_predict_1'].rank(\n",
    "    method='first'), q=20, labels=False)\n",
    "    v1['SD'] = 20-(v1['Qcut'].astype(int))\n",
    "    vl1 = v1.drop(['Qcut'], axis=1)\n",
    "    vl1['Freq'] = vl1.groupby('SD')['target'].transform(np.sum)\n",
    "    vl2 = vl1.drop(['target', 'prob_of_predict_1'], axis=1).drop_duplicates()\n",
    "    vl2.sort_values(by=['SD'], inplace=True)\n",
    "    vl2['Cumm Sum'] = vl2['Freq'].cumsum()\n",
    "    vl2['Lift'] = vl2['Freq'].div(vl2['Freq'].sum(), axis=0).div(0.05)\n",
    "    vl2['Cumm Lift'] = vl2['Cumm Sum'].div(\n",
    "    vl2['Freq'].sum(), axis=0).div(vl2['SD']/20)\n",
    "    vl2['Capture Rate'] = vl2['Lift']*5\n",
    "    #vl2['Capture Rate_defintion'] = vl2['Freq']/vl2.iloc[19, 'Cumm Sum']\n",
    "    vl2['Cummu Capture Rate'] = vl2['Capture Rate'].cumsum()\n",
    "\n",
    "    # this is lift csv\n",
    "    # vl2.to_csv(\"/lift_chart_{0}.csv\".format(today))\n",
    "    # vl2.to_csv(\n",
    "    # f'lift_of_{model}_on_{datetime.today().strftime(\"%Y-%m-%d\")}.csv')\n",
    "    # print(f'lift_of_{model}_on_{datetime.today().strftime(\"%Y-%m-%d\")}.csv')\n",
    "    #print(\"Training process completed success\")\n",
    "    Magic_score= round(vl2.iloc[0, 6],2)\n",
    "    print(\"Cumm Capture Rate on 1st SD is: \", Magic_score)\n",
    "    #vl2[vl2['SD'] == 1, 'Lift'].iloc[0]\n",
    "    return Magic_score\n",
    "\n",
    "\n",
    "\n",
    "def lift_calc_pd(model, X_test, y_test,target_column): # , model_path\n",
    "    \"\"\" this functions takes in the model\n",
    "    test features, targets, will return the\n",
    "    lift dataframe\n",
    "    \"\"\"\n",
    "    prediction = model.predict_proba(X_test)\n",
    "    print(\"output shape\", prediction.shape)\n",
    "    print(\"y_test shape:\", y_test.shape)\n",
    "    #Total_Actual_positive_targets=sum(y_test[target_column])\n",
    "    #print('Total_Actual_positive_targets:',Total_Actual_positive_targets)\n",
    "\n",
    "\n",
    "    prediction_df = pd.DataFrame(\n",
    "    prediction, columns=['prob_of_predict_0', 'prob_of_predict_1'])\n",
    "    y_df = pd.DataFrame(y_test, columns=[target_column])\n",
    "    prediction_with_label_df = y_df.join(prediction_df.set_index(y_df.index))\n",
    "\n",
    "\n",
    "    # Calculate lift on validation data\n",
    "    v1 = prediction_with_label_df[[target_column, 'prob_of_predict_1']]\n",
    "    v1.sort_values(by=['prob_of_predict_1'], inplace=True)\n",
    "    v1['Qcut'] = pd.qcut(v1['prob_of_predict_1'].rank(\n",
    "    method='first'), q=20, labels=False)\n",
    "    v1['SD'] = 20-(v1['Qcut'].astype(int))\n",
    "\n",
    "\n",
    "    vl1 = v1.drop(['Qcut'], axis=1)\n",
    "    vl1['Freq'] = vl1.groupby('SD')[target_column].transform(np.sum)\n",
    "    vl2 = vl1.drop([target_column, 'prob_of_predict_1'], axis=1).drop_duplicates()\n",
    "    vl2.sort_values(by=['SD'], inplace=True)\n",
    "    vl2['Cumm Sum'] = vl2['Freq'].cumsum()\n",
    "    vl2['Lift'] = vl2['Freq'].div(vl2['Freq'].sum(), axis=0).div(0.05)\n",
    "    vl2['Cumm Lift'] = vl2['Cumm Sum'].div(vl2['Freq'].sum(), axis=0).div(vl2['SD']/20)\n",
    "    vl2['Capture Rate'] = vl2['Lift']*5\n",
    "    vl2['Cummu Capture Rate'] = vl2['Capture Rate'].cumsum()\n",
    "    # vl2['Capture_Rate_Defintion']= vl2['Freq']*100/Total_Actual_positive_targets\n",
    "    # vl2['Cummu_Capture_Rate_Defintion']= vl2['Capture_Rate_Defintion'].cumsum()\n",
    "    return pd.DataFrame(vl2)"
   ]
  },
  {
   "cell_type": "code",
   "execution_count": 494,
   "id": "df5a80a9-6130-4514-9587-c96037d04d0e",
   "metadata": {},
   "outputs": [
    {
     "name": "stdout",
     "output_type": "stream",
     "text": [
      "output shape (360097, 2)\n",
      "y_test shape: (360097,)\n"
     ]
    },
    {
     "name": "stderr",
     "output_type": "stream",
     "text": [
      "\n",
      "A value is trying to be set on a copy of a slice from a DataFrame\n",
      "\n",
      "See the caveats in the documentation: https://pandas.pydata.org/pandas-docs/stable/user_guide/indexing.html#returning-a-view-versus-a-copy\n"
     ]
    }
   ],
   "source": [
    "Test_lift=lift_calc_pd(model=modle_pickle,X_test=X_test_df\n",
    ",y_test=DF[Target_col[0]],target_column=Target_col[0])"
   ]
  },
  {
   "cell_type": "code",
   "execution_count": 495,
   "id": "f404edc8-b7f8-425a-99bc-a9ab60f2baa1",
   "metadata": {},
   "outputs": [
    {
     "data": {
      "text/plain": [
       "'SMHM_Churn'"
      ]
     },
     "execution_count": 495,
     "metadata": {},
     "output_type": "execute_result"
    }
   ],
   "source": [
    "Target_col[0]"
   ]
  },
  {
   "cell_type": "code",
   "execution_count": 496,
   "id": "1d1ffd1a-693e-46e8-8f4a-e6a8779feca6",
   "metadata": {},
   "outputs": [
    {
     "data": {
      "text/plain": [
       "0    355931\n",
       "1      4166\n",
       "Name: SMHM_Churn, dtype: Int64"
      ]
     },
     "execution_count": 496,
     "metadata": {},
     "output_type": "execute_result"
    }
   ],
   "source": [
    "DF[Target_col[0]].value_counts()"
   ]
  },
  {
   "cell_type": "code",
   "execution_count": 497,
   "id": "e7a29ea6-1053-4bbb-827d-a9b3efee8648",
   "metadata": {},
   "outputs": [
    {
     "data": {
      "text/html": [
       "<div>\n",
       "<style scoped>\n",
       "    .dataframe tbody tr th:only-of-type {\n",
       "        vertical-align: middle;\n",
       "    }\n",
       "\n",
       "    .dataframe tbody tr th {\n",
       "        vertical-align: top;\n",
       "    }\n",
       "\n",
       "    .dataframe thead th {\n",
       "        text-align: right;\n",
       "    }\n",
       "</style>\n",
       "<table border=\"1\" class=\"dataframe\">\n",
       "  <thead>\n",
       "    <tr style=\"text-align: right;\">\n",
       "      <th></th>\n",
       "      <th>SD</th>\n",
       "      <th>Freq</th>\n",
       "      <th>Cumm Sum</th>\n",
       "      <th>Lift</th>\n",
       "      <th>Cumm Lift</th>\n",
       "      <th>Capture Rate</th>\n",
       "      <th>Cummu Capture Rate</th>\n",
       "    </tr>\n",
       "  </thead>\n",
       "  <tbody>\n",
       "    <tr>\n",
       "      <th>95932</th>\n",
       "      <td>1</td>\n",
       "      <td>1258</td>\n",
       "      <td>1258</td>\n",
       "      <td>6.039366</td>\n",
       "      <td>6.039366</td>\n",
       "      <td>30.196831</td>\n",
       "      <td>30.196831</td>\n",
       "    </tr>\n",
       "    <tr>\n",
       "      <th>24562</th>\n",
       "      <td>2</td>\n",
       "      <td>446</td>\n",
       "      <td>1704</td>\n",
       "      <td>2.141143</td>\n",
       "      <td>4.090254</td>\n",
       "      <td>10.705713</td>\n",
       "      <td>40.902544</td>\n",
       "    </tr>\n",
       "    <tr>\n",
       "      <th>116394</th>\n",
       "      <td>3</td>\n",
       "      <td>335</td>\n",
       "      <td>2039</td>\n",
       "      <td>1.608257</td>\n",
       "      <td>3.262922</td>\n",
       "      <td>8.041287</td>\n",
       "      <td>48.943831</td>\n",
       "    </tr>\n",
       "    <tr>\n",
       "      <th>209373</th>\n",
       "      <td>4</td>\n",
       "      <td>267</td>\n",
       "      <td>2306</td>\n",
       "      <td>1.281805</td>\n",
       "      <td>2.767643</td>\n",
       "      <td>6.409025</td>\n",
       "      <td>55.352856</td>\n",
       "    </tr>\n",
       "    <tr>\n",
       "      <th>244026</th>\n",
       "      <td>5</td>\n",
       "      <td>247</td>\n",
       "      <td>2553</td>\n",
       "      <td>1.18579</td>\n",
       "      <td>2.451272</td>\n",
       "      <td>5.928949</td>\n",
       "      <td>61.281805</td>\n",
       "    </tr>\n",
       "    <tr>\n",
       "      <th>56265</th>\n",
       "      <td>6</td>\n",
       "      <td>191</td>\n",
       "      <td>2744</td>\n",
       "      <td>0.916947</td>\n",
       "      <td>2.195551</td>\n",
       "      <td>4.584734</td>\n",
       "      <td>65.866539</td>\n",
       "    </tr>\n",
       "    <tr>\n",
       "      <th>6012</th>\n",
       "      <td>7</td>\n",
       "      <td>191</td>\n",
       "      <td>2935</td>\n",
       "      <td>0.916947</td>\n",
       "      <td>2.012893</td>\n",
       "      <td>4.584734</td>\n",
       "      <td>70.451272</td>\n",
       "    </tr>\n",
       "    <tr>\n",
       "      <th>183449</th>\n",
       "      <td>8</td>\n",
       "      <td>127</td>\n",
       "      <td>3062</td>\n",
       "      <td>0.609698</td>\n",
       "      <td>1.837494</td>\n",
       "      <td>3.048488</td>\n",
       "      <td>73.49976</td>\n",
       "    </tr>\n",
       "    <tr>\n",
       "      <th>260415</th>\n",
       "      <td>9</td>\n",
       "      <td>139</td>\n",
       "      <td>3201</td>\n",
       "      <td>0.667307</td>\n",
       "      <td>1.707473</td>\n",
       "      <td>3.336534</td>\n",
       "      <td>76.836294</td>\n",
       "    </tr>\n",
       "    <tr>\n",
       "      <th>300906</th>\n",
       "      <td>10</td>\n",
       "      <td>127</td>\n",
       "      <td>3328</td>\n",
       "      <td>0.609698</td>\n",
       "      <td>1.597696</td>\n",
       "      <td>3.048488</td>\n",
       "      <td>79.884782</td>\n",
       "    </tr>\n",
       "    <tr>\n",
       "      <th>156718</th>\n",
       "      <td>11</td>\n",
       "      <td>105</td>\n",
       "      <td>3433</td>\n",
       "      <td>0.504081</td>\n",
       "      <td>1.498276</td>\n",
       "      <td>2.520403</td>\n",
       "      <td>82.405185</td>\n",
       "    </tr>\n",
       "    <tr>\n",
       "      <th>231144</th>\n",
       "      <td>12</td>\n",
       "      <td>93</td>\n",
       "      <td>3526</td>\n",
       "      <td>0.446471</td>\n",
       "      <td>1.410626</td>\n",
       "      <td>2.232357</td>\n",
       "      <td>84.637542</td>\n",
       "    </tr>\n",
       "    <tr>\n",
       "      <th>189319</th>\n",
       "      <td>13</td>\n",
       "      <td>109</td>\n",
       "      <td>3635</td>\n",
       "      <td>0.523284</td>\n",
       "      <td>1.342369</td>\n",
       "      <td>2.616419</td>\n",
       "      <td>87.253961</td>\n",
       "    </tr>\n",
       "    <tr>\n",
       "      <th>185011</th>\n",
       "      <td>14</td>\n",
       "      <td>84</td>\n",
       "      <td>3719</td>\n",
       "      <td>0.403265</td>\n",
       "      <td>1.27529</td>\n",
       "      <td>2.016323</td>\n",
       "      <td>89.270283</td>\n",
       "    </tr>\n",
       "    <tr>\n",
       "      <th>148401</th>\n",
       "      <td>15</td>\n",
       "      <td>87</td>\n",
       "      <td>3806</td>\n",
       "      <td>0.417667</td>\n",
       "      <td>1.218115</td>\n",
       "      <td>2.088334</td>\n",
       "      <td>91.358617</td>\n",
       "    </tr>\n",
       "    <tr>\n",
       "      <th>350062</th>\n",
       "      <td>16</td>\n",
       "      <td>82</td>\n",
       "      <td>3888</td>\n",
       "      <td>0.393663</td>\n",
       "      <td>1.166587</td>\n",
       "      <td>1.968315</td>\n",
       "      <td>93.326932</td>\n",
       "    </tr>\n",
       "    <tr>\n",
       "      <th>44235</th>\n",
       "      <td>17</td>\n",
       "      <td>89</td>\n",
       "      <td>3977</td>\n",
       "      <td>0.427268</td>\n",
       "      <td>1.123097</td>\n",
       "      <td>2.136342</td>\n",
       "      <td>95.463274</td>\n",
       "    </tr>\n",
       "    <tr>\n",
       "      <th>182066</th>\n",
       "      <td>18</td>\n",
       "      <td>85</td>\n",
       "      <td>4062</td>\n",
       "      <td>0.408065</td>\n",
       "      <td>1.083373</td>\n",
       "      <td>2.040326</td>\n",
       "      <td>97.503601</td>\n",
       "    </tr>\n",
       "    <tr>\n",
       "      <th>325741</th>\n",
       "      <td>19</td>\n",
       "      <td>56</td>\n",
       "      <td>4118</td>\n",
       "      <td>0.268843</td>\n",
       "      <td>1.040503</td>\n",
       "      <td>1.344215</td>\n",
       "      <td>98.847816</td>\n",
       "    </tr>\n",
       "    <tr>\n",
       "      <th>252101</th>\n",
       "      <td>20</td>\n",
       "      <td>48</td>\n",
       "      <td>4166</td>\n",
       "      <td>0.230437</td>\n",
       "      <td>1.0</td>\n",
       "      <td>1.152184</td>\n",
       "      <td>100.0</td>\n",
       "    </tr>\n",
       "  </tbody>\n",
       "</table>\n",
       "</div>"
      ],
      "text/plain": [
       "        SD  Freq Cumm Sum      Lift Cumm Lift  Capture Rate Cummu Capture Rate\n",
       "95932    1  1258     1258  6.039366  6.039366     30.196831          30.196831\n",
       "24562    2   446     1704  2.141143  4.090254     10.705713          40.902544\n",
       "116394   3   335     2039  1.608257  3.262922      8.041287          48.943831\n",
       "209373   4   267     2306  1.281805  2.767643      6.409025          55.352856\n",
       "244026   5   247     2553   1.18579  2.451272      5.928949          61.281805\n",
       "56265    6   191     2744  0.916947  2.195551      4.584734          65.866539\n",
       "6012     7   191     2935  0.916947  2.012893      4.584734          70.451272\n",
       "183449   8   127     3062  0.609698  1.837494      3.048488           73.49976\n",
       "260415   9   139     3201  0.667307  1.707473      3.336534          76.836294\n",
       "300906  10   127     3328  0.609698  1.597696      3.048488          79.884782\n",
       "156718  11   105     3433  0.504081  1.498276      2.520403          82.405185\n",
       "231144  12    93     3526  0.446471  1.410626      2.232357          84.637542\n",
       "189319  13   109     3635  0.523284  1.342369      2.616419          87.253961\n",
       "185011  14    84     3719  0.403265   1.27529      2.016323          89.270283\n",
       "148401  15    87     3806  0.417667  1.218115      2.088334          91.358617\n",
       "350062  16    82     3888  0.393663  1.166587      1.968315          93.326932\n",
       "44235   17    89     3977  0.427268  1.123097      2.136342          95.463274\n",
       "182066  18    85     4062  0.408065  1.083373      2.040326          97.503601\n",
       "325741  19    56     4118  0.268843  1.040503      1.344215          98.847816\n",
       "252101  20    48     4166  0.230437       1.0      1.152184              100.0"
      ]
     },
     "execution_count": 497,
     "metadata": {},
     "output_type": "execute_result"
    }
   ],
   "source": [
    "Test_lift"
   ]
  },
  {
   "cell_type": "code",
   "execution_count": 498,
   "id": "6ba7982f-a677-4a5f-b652-56ec07d9e0c0",
   "metadata": {},
   "outputs": [],
   "source": [
    "Test_lift.to_csv('SHS_Churn_model_lift.csv',index=False)"
   ]
  },
  {
   "cell_type": "code",
   "execution_count": 499,
   "id": "c91ebbce-8ba4-4415-9af8-9a57e1d32b4a",
   "metadata": {},
   "outputs": [],
   "source": [
    "ID_DF=DF[ID_cols+Target_col]\n",
    "X_data=pd.concat([ID_DF,X_test_df],axis=1)"
   ]
  },
  {
   "cell_type": "code",
   "execution_count": 500,
   "id": "0f35c7f9-2b82-4006-b8d7-bd6bb36c8035",
   "metadata": {},
   "outputs": [
    {
     "data": {
      "text/html": [
       "<div>\n",
       "<style scoped>\n",
       "    .dataframe tbody tr th:only-of-type {\n",
       "        vertical-align: middle;\n",
       "    }\n",
       "\n",
       "    .dataframe tbody tr th {\n",
       "        vertical-align: top;\n",
       "    }\n",
       "\n",
       "    .dataframe thead th {\n",
       "        text-align: right;\n",
       "    }\n",
       "</style>\n",
       "<table border=\"1\" class=\"dataframe\">\n",
       "  <thead>\n",
       "    <tr style=\"text-align: right;\">\n",
       "      <th></th>\n",
       "      <th>customer_id</th>\n",
       "      <th>dealer_customer_id</th>\n",
       "      <th>BAN</th>\n",
       "      <th>SMHM_Churn</th>\n",
       "      <th>ttv_count</th>\n",
       "      <th>Avg_arm_per_day</th>\n",
       "      <th>hsic_count</th>\n",
       "      <th>Best_Practices_3</th>\n",
       "      <th>Best_Practices_5</th>\n",
       "      <th>Tenure_months</th>\n",
       "      <th>...</th>\n",
       "      <th>login_consistency</th>\n",
       "      <th>sing_count</th>\n",
       "      <th>arming_consistency</th>\n",
       "      <th>product_mix_all</th>\n",
       "      <th>contract_end_status__contract_expired</th>\n",
       "      <th>contract_end_status__contract_expiring_after_90_days</th>\n",
       "      <th>contract_end_status__contract_expiring_within_90_days</th>\n",
       "      <th>Package__Monitored</th>\n",
       "      <th>Package__Smart_Automation_Plus</th>\n",
       "      <th>Package__Smart_Camera</th>\n",
       "    </tr>\n",
       "  </thead>\n",
       "  <tbody>\n",
       "    <tr>\n",
       "      <th>0</th>\n",
       "      <td>15246138</td>\n",
       "      <td>105410571</td>\n",
       "      <td>605633656</td>\n",
       "      <td>0</td>\n",
       "      <td>0</td>\n",
       "      <td>0.0</td>\n",
       "      <td>0</td>\n",
       "      <td>0</td>\n",
       "      <td>0</td>\n",
       "      <td>0</td>\n",
       "      <td>...</td>\n",
       "      <td>1.0</td>\n",
       "      <td>0</td>\n",
       "      <td>0.0</td>\n",
       "      <td>2</td>\n",
       "      <td>0</td>\n",
       "      <td>1</td>\n",
       "      <td>0</td>\n",
       "      <td>0</td>\n",
       "      <td>0</td>\n",
       "      <td>1</td>\n",
       "    </tr>\n",
       "    <tr>\n",
       "      <th>1</th>\n",
       "      <td>15189805</td>\n",
       "      <td>105109332</td>\n",
       "      <td>605546030</td>\n",
       "      <td>0</td>\n",
       "      <td>0</td>\n",
       "      <td>0.0</td>\n",
       "      <td>0</td>\n",
       "      <td>0</td>\n",
       "      <td>0</td>\n",
       "      <td>0</td>\n",
       "      <td>...</td>\n",
       "      <td>13.0</td>\n",
       "      <td>0</td>\n",
       "      <td>0.0</td>\n",
       "      <td>2</td>\n",
       "      <td>1</td>\n",
       "      <td>0</td>\n",
       "      <td>0</td>\n",
       "      <td>0</td>\n",
       "      <td>1</td>\n",
       "      <td>0</td>\n",
       "    </tr>\n",
       "    <tr>\n",
       "      <th>2</th>\n",
       "      <td>15242585</td>\n",
       "      <td>91314553</td>\n",
       "      <td>602484792</td>\n",
       "      <td>0</td>\n",
       "      <td>1</td>\n",
       "      <td>0.0</td>\n",
       "      <td>1</td>\n",
       "      <td>0</td>\n",
       "      <td>0</td>\n",
       "      <td>0</td>\n",
       "      <td>...</td>\n",
       "      <td>4.0</td>\n",
       "      <td>0</td>\n",
       "      <td>0.0</td>\n",
       "      <td>4</td>\n",
       "      <td>0</td>\n",
       "      <td>1</td>\n",
       "      <td>0</td>\n",
       "      <td>0</td>\n",
       "      <td>1</td>\n",
       "      <td>0</td>\n",
       "    </tr>\n",
       "    <tr>\n",
       "      <th>3</th>\n",
       "      <td>15184545</td>\n",
       "      <td>105344831</td>\n",
       "      <td>605620953</td>\n",
       "      <td>0</td>\n",
       "      <td>0</td>\n",
       "      <td>0.0</td>\n",
       "      <td>0</td>\n",
       "      <td>0</td>\n",
       "      <td>0</td>\n",
       "      <td>0</td>\n",
       "      <td>...</td>\n",
       "      <td>12.0</td>\n",
       "      <td>0</td>\n",
       "      <td>0.0</td>\n",
       "      <td>2</td>\n",
       "      <td>0</td>\n",
       "      <td>1</td>\n",
       "      <td>0</td>\n",
       "      <td>0</td>\n",
       "      <td>1</td>\n",
       "      <td>0</td>\n",
       "    </tr>\n",
       "    <tr>\n",
       "      <th>4</th>\n",
       "      <td>15207931</td>\n",
       "      <td>98054605</td>\n",
       "      <td>603481535</td>\n",
       "      <td>0</td>\n",
       "      <td>1</td>\n",
       "      <td>0.0</td>\n",
       "      <td>1</td>\n",
       "      <td>0</td>\n",
       "      <td>0</td>\n",
       "      <td>0</td>\n",
       "      <td>...</td>\n",
       "      <td>11.0</td>\n",
       "      <td>0</td>\n",
       "      <td>0.0</td>\n",
       "      <td>4</td>\n",
       "      <td>0</td>\n",
       "      <td>1</td>\n",
       "      <td>0</td>\n",
       "      <td>0</td>\n",
       "      <td>1</td>\n",
       "      <td>0</td>\n",
       "    </tr>\n",
       "  </tbody>\n",
       "</table>\n",
       "<p>5 rows × 32 columns</p>\n",
       "</div>"
      ],
      "text/plain": [
       "   customer_id dealer_customer_id        BAN  SMHM_Churn  ttv_count  \\\n",
       "0     15246138          105410571  605633656           0          0   \n",
       "1     15189805          105109332  605546030           0          0   \n",
       "2     15242585           91314553  602484792           0          1   \n",
       "3     15184545          105344831  605620953           0          0   \n",
       "4     15207931           98054605  603481535           0          1   \n",
       "\n",
       "   Avg_arm_per_day  hsic_count  Best_Practices_3  Best_Practices_5  \\\n",
       "0              0.0           0                 0                 0   \n",
       "1              0.0           0                 0                 0   \n",
       "2              0.0           1                 0                 0   \n",
       "3              0.0           0                 0                 0   \n",
       "4              0.0           1                 0                 0   \n",
       "\n",
       "   Tenure_months  ...  login_consistency  sing_count  arming_consistency  \\\n",
       "0              0  ...                1.0           0                 0.0   \n",
       "1              0  ...               13.0           0                 0.0   \n",
       "2              0  ...                4.0           0                 0.0   \n",
       "3              0  ...               12.0           0                 0.0   \n",
       "4              0  ...               11.0           0                 0.0   \n",
       "\n",
       "   product_mix_all  contract_end_status__contract_expired  \\\n",
       "0                2                                      0   \n",
       "1                2                                      1   \n",
       "2                4                                      0   \n",
       "3                2                                      0   \n",
       "4                4                                      0   \n",
       "\n",
       "   contract_end_status__contract_expiring_after_90_days  \\\n",
       "0                                                  1      \n",
       "1                                                  0      \n",
       "2                                                  1      \n",
       "3                                                  1      \n",
       "4                                                  1      \n",
       "\n",
       "   contract_end_status__contract_expiring_within_90_days  Package__Monitored  \\\n",
       "0                                                  0                       0   \n",
       "1                                                  0                       0   \n",
       "2                                                  0                       0   \n",
       "3                                                  0                       0   \n",
       "4                                                  0                       0   \n",
       "\n",
       "   Package__Smart_Automation_Plus  Package__Smart_Camera  \n",
       "0                               0                      1  \n",
       "1                               1                      0  \n",
       "2                               1                      0  \n",
       "3                               1                      0  \n",
       "4                               1                      0  \n",
       "\n",
       "[5 rows x 32 columns]"
      ]
     },
     "execution_count": 500,
     "metadata": {},
     "output_type": "execute_result"
    }
   ],
   "source": [
    "X_data.head()"
   ]
  },
  {
   "cell_type": "code",
   "execution_count": 501,
   "id": "f354b544-aa25-43bc-83bc-3b96444ac509",
   "metadata": {},
   "outputs": [
    {
     "data": {
      "text/plain": [
       "Index(['customer_id', 'dealer_customer_id', 'BAN', 'SMHM_Churn', 'ttv_count',\n",
       "       'Avg_arm_per_day', 'hsic_count', 'Best_Practices_3', 'Best_Practices_5',\n",
       "       'Tenure_months', 'Best_Practices_1', 'Contract_start_months',\n",
       "       'Avg_FFH_ARPU', 'Best_Practices_6', 'Best_Practice_All',\n",
       "       'Avg_login_per_day', 'stv_count', 'Avg_SMHM_ARPU', 'Best_Practices_2',\n",
       "       'Best_Practices_4', 'diic_count', 'Avg_disarm_per_day',\n",
       "       'login_consistency', 'sing_count', 'arming_consistency',\n",
       "       'product_mix_all', 'contract_end_status__contract_expired',\n",
       "       'contract_end_status__contract_expiring_after_90_days',\n",
       "       'contract_end_status__contract_expiring_within_90_days',\n",
       "       'Package__Monitored', 'Package__Smart_Automation_Plus',\n",
       "       'Package__Smart_Camera'],\n",
       "      dtype='object')"
      ]
     },
     "execution_count": 501,
     "metadata": {},
     "output_type": "execute_result"
    }
   ],
   "source": [
    "X_data.columns"
   ]
  },
  {
   "cell_type": "code",
   "execution_count": 502,
   "id": "c39cffbd-dbd7-4f2e-b3df-97d82e835281",
   "metadata": {},
   "outputs": [
    {
     "name": "stdout",
     "output_type": "stream",
     "text": [
      "12.579943737381873\n",
      "26.974120861878884\n",
      "60.445935400739245\n"
     ]
    }
   ],
   "source": [
    "print(X_data.Package__Smart_Camera.sum()*100/X_data.shape[0])\n",
    "print(X_data.Package__Smart_Automation_Plus.sum()*100/X_data.shape[0])\n",
    "print(X_data.Package__Monitored.sum()*100/X_data.shape[0])"
   ]
  },
  {
   "cell_type": "code",
   "execution_count": 503,
   "id": "bcfc236c-ec77-4846-81d6-2ebfda024c84",
   "metadata": {},
   "outputs": [
    {
     "name": "stdout",
     "output_type": "stream",
     "text": [
      "output shape (45300, 2)\n",
      "y_test shape: (45300,)\n"
     ]
    },
    {
     "name": "stderr",
     "output_type": "stream",
     "text": [
      "\n",
      "A value is trying to be set on a copy of a slice from a DataFrame\n",
      "\n",
      "See the caveats in the documentation: https://pandas.pydata.org/pandas-docs/stable/user_guide/indexing.html#returning-a-view-versus-a-copy\n"
     ]
    }
   ],
   "source": [
    "x_SC=X_data[X_data.Package__Smart_Camera==1]\n",
    "# y_sc=x_SC[Target_col]\n",
    "\n",
    "\n",
    "Test_lift=lift_calc_pd(model=modle_pickle,X_test=x_SC[final_feature_cols]\n",
    ",y_test=x_SC[Target_col[0]],target_column=Target_col[0])\n",
    "Test_lift.to_csv('Smart_Camera_Lift.csv',index=False)"
   ]
  },
  {
   "cell_type": "code",
   "execution_count": 504,
   "id": "fbbd5d5e-09ca-4656-bf63-752788a35adb",
   "metadata": {},
   "outputs": [
    {
     "name": "stdout",
     "output_type": "stream",
     "text": [
      "output shape (97133, 2)\n",
      "y_test shape: (97133,)\n"
     ]
    },
    {
     "name": "stderr",
     "output_type": "stream",
     "text": [
      "\n",
      "A value is trying to be set on a copy of a slice from a DataFrame\n",
      "\n",
      "See the caveats in the documentation: https://pandas.pydata.org/pandas-docs/stable/user_guide/indexing.html#returning-a-view-versus-a-copy\n"
     ]
    }
   ],
   "source": [
    "x_SC=X_data[X_data.Package__Smart_Automation_Plus==1]\n",
    "# y_sc=x_SC[Target_col]\n",
    "\n",
    "\n",
    "Test_lift=lift_calc_pd(model=modle_pickle,X_test=x_SC[final_feature_cols]\n",
    ",y_test=x_SC[Target_col[0]],target_column=Target_col[0])\n",
    "Test_lift.to_csv('Smart_Automation_Plus_Lift.csv',index=False)"
   ]
  },
  {
   "cell_type": "code",
   "execution_count": 505,
   "id": "9f06e06c-33df-4747-9ae9-2b0872a0844d",
   "metadata": {},
   "outputs": [
    {
     "name": "stdout",
     "output_type": "stream",
     "text": [
      "output shape (217664, 2)\n",
      "y_test shape: (217664,)\n"
     ]
    },
    {
     "name": "stderr",
     "output_type": "stream",
     "text": [
      "\n",
      "A value is trying to be set on a copy of a slice from a DataFrame\n",
      "\n",
      "See the caveats in the documentation: https://pandas.pydata.org/pandas-docs/stable/user_guide/indexing.html#returning-a-view-versus-a-copy\n"
     ]
    }
   ],
   "source": [
    "x_SC=X_data[X_data.Package__Monitored==1]\n",
    "# y_sc=x_SC[Target_col]\n",
    "\n",
    "\n",
    "Test_lift=lift_calc_pd(model=modle_pickle,X_test=x_SC[final_feature_cols]\n",
    ",y_test=x_SC[Target_col[0]],target_column=Target_col[0])\n",
    "Test_lift.to_csv('Monitored_Lift.csv',index=False)"
   ]
  },
  {
   "cell_type": "code",
   "execution_count": 76,
   "id": "6323f552-1ab9-4b95-99c1-4a4a1508b7f9",
   "metadata": {},
   "outputs": [
    {
     "name": "stderr",
     "output_type": "stream",
     "text": [
      "ntree_limit is deprecated, use `iteration_range` or model slicing instead.\n"
     ]
    },
    {
     "data": {
      "image/png": "[encoded data removed]",
      "text/plain": [
       "<Figure size 576x540 with 2 Axes>"
      ]
     },
     "metadata": {
      "needs_background": "light"
     },
     "output_type": "display_data"
    }
   ],
   "source": [
    "import shap\n",
    "x_SC=X_data[X_data.Package__Monitored==1]\n",
    "# model_shap = XGB_final_model.best_estimator_\n",
    "explainer = shap.TreeExplainer(modle_pickle)\n",
    "shap_values = explainer.shap_values(x_SC[final_feature_cols],check_additivity=False)\n",
    "#%%\n",
    "\n",
    "shap.summary_plot(shap_values, features=x_SC[final_feature_cols]\n",
    ", feature_names=final_feature_cols,show=False,max_display=15)"
   ]
  },
  {
   "cell_type": "code",
   "execution_count": 132,
   "id": "8c52d65a-e37e-4fb3-853a-a70ffc999731",
   "metadata": {},
   "outputs": [
    {
     "name": "stderr",
     "output_type": "stream",
     "text": [
      "ntree_limit is deprecated, use `iteration_range` or model slicing instead.\n"
     ]
    },
    {
     "data": {
      "image/png": "[encoded data removed]",
      "text/plain": [
       "<Figure size 576x540 with 2 Axes>"
      ]
     },
     "metadata": {
      "needs_background": "light"
     },
     "output_type": "display_data"
    }
   ],
   "source": [
    "import shap\n",
    "x_SC=X_data[X_data.Package__Monitored==1]\n",
    "# model_shap = XGB_final_model.best_estimator_\n",
    "explainer = shap.Explainer(modle_pickle)\n",
    "shap_values = explainer.shap_values(x_SC[final_feature_cols],check_additivity=False)\n",
    "# #%%\n",
    "\n",
    "shap.summary_plot(shap_values, features=x_SC[final_feature_cols]\n",
    ", feature_names=final_feature_cols,show=False,max_display=15)"
   ]
  },
  {
   "cell_type": "code",
   "execution_count": 134,
   "id": "09580c94-f6e5-4269-b230-1e749e683335",
   "metadata": {},
   "outputs": [
    {
     "ename": "AttributeError",
     "evalue": "'numpy.ndarray' object has no attribute 'base_values'",
     "output_type": "error",
     "traceback": [
      "\u001b[0;31m---------------------------------------------------------------------------\u001b[0m",
      "\u001b[0;31mAttributeError\u001b[0m                            Traceback (most recent call last)",
      "Input \u001b[0;32mIn [135]\u001b[0m, in \u001b[0;36m<cell line: 1>\u001b[0;34m()\u001b[0m\n\u001b[0;32m----> 1\u001b[0m \u001b[43mshap\u001b[49m\u001b[38;5;241;43m.\u001b[39;49m\u001b[43mplots\u001b[49m\u001b[38;5;241;43m.\u001b[39;49m\u001b[43mwaterfall\u001b[49m\u001b[43m(\u001b[49m\u001b[43mshap_values\u001b[49m\u001b[43m)\u001b[49m\n",
      "File \u001b[0;32m/opt/conda/lib/python3.8/site-packages/shap/plots/_waterfall.py:45\u001b[0m, in \u001b[0;36mwaterfall\u001b[0;34m(shap_values, max_display, show)\u001b[0m\n\u001b[1;32m     42\u001b[0m \u001b[38;5;28;01mif\u001b[39;00m show \u001b[38;5;129;01mis\u001b[39;00m \u001b[38;5;28;01mFalse\u001b[39;00m:\n\u001b[1;32m     43\u001b[0m     plt\u001b[38;5;241m.\u001b[39mioff()\n\u001b[0;32m---> 45\u001b[0m base_values \u001b[38;5;241m=\u001b[39m \u001b[43mshap_values\u001b[49m\u001b[38;5;241;43m.\u001b[39;49m\u001b[43mbase_values\u001b[49m\n\u001b[1;32m     46\u001b[0m features \u001b[38;5;241m=\u001b[39m shap_values\u001b[38;5;241m.\u001b[39mdisplay_data \u001b[38;5;28;01mif\u001b[39;00m shap_values\u001b[38;5;241m.\u001b[39mdisplay_data \u001b[38;5;129;01mis\u001b[39;00m \u001b[38;5;129;01mnot\u001b[39;00m \u001b[38;5;28;01mNone\u001b[39;00m \u001b[38;5;28;01melse\u001b[39;00m shap_values\u001b[38;5;241m.\u001b[39mdata\n\u001b[1;32m     47\u001b[0m feature_names \u001b[38;5;241m=\u001b[39m shap_values\u001b[38;5;241m.\u001b[39mfeature_names\n",
      "\u001b[0;31mAttributeError\u001b[0m: 'numpy.ndarray' object has no attribute 'base_values'"
     ]
    }
   ],
   "source": [
    "shap.plots.waterfall(shap_values[0])"
   ]
  },
  {
   "cell_type": "code",
   "execution_count": 136,
   "id": "3bef3719-0bc0-41df-adce-fec061d75dd1",
   "metadata": {},
   "outputs": [
    {
     "data": {
      "image/png": "[encoded data removed]",
      "text/plain": [
       "<Figure size 576x468 with 3 Axes>"
      ]
     },
     "metadata": {},
     "output_type": "display_data"
    }
   ],
   "source": [
    "shap.plots._waterfall.waterfall_legacy(explainer.expected_value, shap_values[0])"
   ]
  },
  {
   "cell_type": "code",
   "execution_count": 91,
   "id": "6a1a8d18-b1b7-41e5-a8bb-ebff9044bec8",
   "metadata": {},
   "outputs": [
    {
     "data": {
      "text/plain": [
       "array([[ 0.05, -0.01, -0.04,  0.01, -0.02, -0.5 ,  0.02, -1.43, -0.43,\n",
       "         0.  , -0.  , -0.29,  0.  , -0.09, -0.04, -0.01,  0.02,  0.01,\n",
       "        -0.76, -0.01,  0.19,  0.21, -0.04,  0.32, -0.01, -0.01,  0.  ,\n",
       "        -0.  ]], dtype=float32)"
      ]
     },
     "execution_count": 91,
     "metadata": {},
     "output_type": "execute_result"
    }
   ],
   "source": [
    "np.round(shap_values[[idx]],2)"
   ]
  },
  {
   "cell_type": "code",
   "execution_count": 82,
   "id": "baef329d-c497-4724-9ec9-e71098e2e2c6",
   "metadata": {},
   "outputs": [
    {
     "data": {
      "text/plain": [
       "array([-0.00896824, -0.01416761, -0.0324664 , -0.10342016, -0.05265706,\n",
       "       -0.191954  ,  0.0682723 ,  0.29299593, -0.038459  ,  0.00365203,\n",
       "        0.05811919, -0.04408898,  0.00229947,  0.05522108, -0.06962357,\n",
       "       -0.00146709,  0.00443751,  0.08840989,  0.6319278 , -0.00144093,\n",
       "        0.19786465,  0.02906586, -0.01526133,  0.22006883, -0.00699333,\n",
       "       -0.0088415 ,  0.00311295, -0.00177546], dtype=float32)"
      ]
     },
     "execution_count": 82,
     "metadata": {},
     "output_type": "execute_result"
    }
   ],
   "source": [
    "shap_values[idx]"
   ]
  },
  {
   "cell_type": "code",
   "execution_count": 80,
   "id": "90c5e88d-1c31-4972-8b7a-124c24c02d4c",
   "metadata": {},
   "outputs": [
    {
     "data": {
      "text/plain": [
       "array([[ 5.02743274e-02, -8.66256095e-03, -3.75816487e-02, ...,\n",
       "        -5.00636874e-03,  5.67193783e-05, -1.40747346e-03],\n",
       "       [-8.96823965e-03, -1.41676068e-02, -3.24664004e-02, ...,\n",
       "        -8.84149875e-03,  3.11294966e-03, -1.77545880e-03],\n",
       "       [ 5.68864830e-02, -5.18046366e-03,  2.72408780e-03, ...,\n",
       "        -1.36064544e-01, -1.29662575e-02, -2.54508480e-02],\n",
       "       ...,\n",
       "       [ 4.25516069e-03,  2.79614292e-02, -2.79478058e-02, ...,\n",
       "        -6.36552740e-03,  1.23803935e-03,  2.86317500e-03],\n",
       "       [ 4.38194796e-02, -1.35105819e-01,  1.83827989e-02, ...,\n",
       "        -6.74797921e-03,  8.83232744e-04,  2.73458473e-03],\n",
       "       [-4.77848351e-02, -2.66736507e-01, -5.50260022e-02, ...,\n",
       "        -6.63910806e-03,  5.91974240e-04, -3.48989910e-04]], dtype=float32)"
      ]
     },
     "execution_count": 80,
     "metadata": {},
     "output_type": "execute_result"
    }
   ],
   "source": [
    "shap_values"
   ]
  },
  {
   "cell_type": "code",
   "execution_count": 79,
   "id": "71d09441-d3fc-4551-a7b7-fa1f74dbcc67",
   "metadata": {},
   "outputs": [
    {
     "data": {
      "text/html": [
       "<div>\n",
       "<style scoped>\n",
       "    .dataframe tbody tr th:only-of-type {\n",
       "        vertical-align: middle;\n",
       "    }\n",
       "\n",
       "    .dataframe tbody tr th {\n",
       "        vertical-align: top;\n",
       "    }\n",
       "\n",
       "    .dataframe thead th {\n",
       "        text-align: right;\n",
       "    }\n",
       "</style>\n",
       "<table border=\"1\" class=\"dataframe\">\n",
       "  <thead>\n",
       "    <tr style=\"text-align: right;\">\n",
       "      <th></th>\n",
       "      <th>ttv_count</th>\n",
       "      <th>Avg_arm_per_day</th>\n",
       "      <th>hsic_count</th>\n",
       "      <th>Best_Practices_3</th>\n",
       "      <th>Best_Practices_5</th>\n",
       "      <th>Tenure_months</th>\n",
       "      <th>Best_Practices_1</th>\n",
       "      <th>Contract_start_months</th>\n",
       "      <th>Avg_FFH_ARPU</th>\n",
       "      <th>Best_Practices_6</th>\n",
       "      <th>...</th>\n",
       "      <th>login_consistency</th>\n",
       "      <th>sing_count</th>\n",
       "      <th>arming_consistency</th>\n",
       "      <th>product_mix_all</th>\n",
       "      <th>contract_end_status__contract_expired</th>\n",
       "      <th>contract_end_status__contract_expiring_after_90_days</th>\n",
       "      <th>contract_end_status__contract_expiring_within_90_days</th>\n",
       "      <th>Package__Monitored</th>\n",
       "      <th>Package__Smart_Automation_Plus</th>\n",
       "      <th>Package__Smart_Camera</th>\n",
       "    </tr>\n",
       "  </thead>\n",
       "  <tbody>\n",
       "    <tr>\n",
       "      <th>2</th>\n",
       "      <td>1</td>\n",
       "      <td>0.0</td>\n",
       "      <td>1</td>\n",
       "      <td>0</td>\n",
       "      <td>0</td>\n",
       "      <td>18</td>\n",
       "      <td>0</td>\n",
       "      <td>43</td>\n",
       "      <td>295.0</td>\n",
       "      <td>0</td>\n",
       "      <td>...</td>\n",
       "      <td>0.0</td>\n",
       "      <td>0</td>\n",
       "      <td>0.0</td>\n",
       "      <td>3</td>\n",
       "      <td>1</td>\n",
       "      <td>0</td>\n",
       "      <td>0</td>\n",
       "      <td>1</td>\n",
       "      <td>0</td>\n",
       "      <td>0</td>\n",
       "    </tr>\n",
       "  </tbody>\n",
       "</table>\n",
       "<p>1 rows × 28 columns</p>\n",
       "</div>"
      ],
      "text/plain": [
       "   ttv_count  Avg_arm_per_day  hsic_count  Best_Practices_3  Best_Practices_5  \\\n",
       "2          1              0.0           1                 0                 0   \n",
       "\n",
       "   Tenure_months  Best_Practices_1  Contract_start_months  Avg_FFH_ARPU  \\\n",
       "2             18                 0                     43         295.0   \n",
       "\n",
       "   Best_Practices_6  ...  login_consistency  sing_count  arming_consistency  \\\n",
       "2                 0  ...                0.0           0                 0.0   \n",
       "\n",
       "   product_mix_all  contract_end_status__contract_expired  \\\n",
       "2                3                                      1   \n",
       "\n",
       "   contract_end_status__contract_expiring_after_90_days  \\\n",
       "2                                                  0      \n",
       "\n",
       "   contract_end_status__contract_expiring_within_90_days  Package__Monitored  \\\n",
       "2                                                  0                       1   \n",
       "\n",
       "   Package__Smart_Automation_Plus  Package__Smart_Camera  \n",
       "2                               0                      0  \n",
       "\n",
       "[1 rows x 28 columns]"
      ]
     },
     "execution_count": 79,
     "metadata": {},
     "output_type": "execute_result"
    }
   ],
   "source": [
    "x_SC[final_feature_cols].iloc[[idx]]"
   ]
  },
  {
   "cell_type": "code",
   "execution_count": 93,
   "id": "ccc73d28-cdf6-4af9-bb34-8bf433115a03",
   "metadata": {},
   "outputs": [
    {
     "data": {
      "text/plain": [
       "Index(['customer_id', 'dealer_customer_id', 'BAN', 'SMHM_Churn', 'ttv_count',\n",
       "       'Avg_arm_per_day', 'hsic_count', 'Best_Practices_3', 'Best_Practices_5',\n",
       "       'Tenure_months', 'Best_Practices_1', 'Contract_start_months',\n",
       "       'Avg_FFH_ARPU', 'Best_Practices_6', 'Best_Practice_All',\n",
       "       'Avg_login_per_day', 'stv_count', 'Avg_SMHM_ARPU', 'Best_Practices_2',\n",
       "       'Best_Practices_4', 'diic_count', 'Avg_disarm_per_day',\n",
       "       'login_consistency', 'sing_count', 'arming_consistency',\n",
       "       'product_mix_all', 'contract_end_status__contract_expired',\n",
       "       'contract_end_status__contract_expiring_after_90_days',\n",
       "       'contract_end_status__contract_expiring_within_90_days',\n",
       "       'Package__Monitored', 'Package__Smart_Automation_Plus',\n",
       "       'Package__Smart_Camera'],\n",
       "      dtype='object')"
      ]
     },
     "execution_count": 93,
     "metadata": {},
     "output_type": "execute_result"
    }
   ],
   "source": [
    "X_data.columns"
   ]
  },
  {
   "cell_type": "code",
   "execution_count": 101,
   "id": "a595ef4a-e395-4065-918b-638a2a5348a7",
   "metadata": {},
   "outputs": [],
   "source": [
    "x_SC=X_data[(X_data.Package__Monitored==1) & (X_data.SMHM_Churn==1)]\n"
   ]
  },
  {
   "cell_type": "code",
   "execution_count": 108,
   "id": "4ce0df93-bab7-4e32-bc94-25a944a80955",
   "metadata": {},
   "outputs": [
    {
     "data": {
      "text/plain": [
       "['ttv_count',\n",
       " 'Avg_arm_per_day',\n",
       " 'hsic_count',\n",
       " 'Best_Practices_3',\n",
       " 'Best_Practices_5',\n",
       " 'Tenure_months',\n",
       " 'Best_Practices_1',\n",
       " 'Contract_start_months',\n",
       " 'Avg_FFH_ARPU',\n",
       " 'Best_Practices_6',\n",
       " 'Best_Practice_All',\n",
       " 'Avg_login_per_day',\n",
       " 'stv_count',\n",
       " 'Avg_SMHM_ARPU',\n",
       " 'Best_Practices_2',\n",
       " 'Best_Practices_4',\n",
       " 'diic_count',\n",
       " 'Avg_disarm_per_day',\n",
       " 'login_consistency',\n",
       " 'sing_count',\n",
       " 'arming_consistency',\n",
       " 'product_mix_all',\n",
       " 'contract_end_status__contract_expired',\n",
       " 'contract_end_status__contract_expiring_after_90_days',\n",
       " 'contract_end_status__contract_expiring_within_90_days',\n",
       " 'Package__Monitored',\n",
       " 'Package__Smart_Automation_Plus',\n",
       " 'Package__Smart_Camera']"
      ]
     },
     "execution_count": 108,
     "metadata": {},
     "output_type": "execute_result"
    }
   ],
   "source": [
    "final_feature_cols"
   ]
  },
  {
   "cell_type": "code",
   "execution_count": 117,
   "id": "56f02f60-df17-4d27-a6e3-8ef23ca9d8ef",
   "metadata": {},
   "outputs": [
    {
     "data": {
      "text/html": [
       "<div>\n",
       "<style scoped>\n",
       "    .dataframe tbody tr th:only-of-type {\n",
       "        vertical-align: middle;\n",
       "    }\n",
       "\n",
       "    .dataframe tbody tr th {\n",
       "        vertical-align: top;\n",
       "    }\n",
       "\n",
       "    .dataframe thead th {\n",
       "        text-align: right;\n",
       "    }\n",
       "</style>\n",
       "<table border=\"1\" class=\"dataframe\">\n",
       "  <thead>\n",
       "    <tr style=\"text-align: right;\">\n",
       "      <th></th>\n",
       "      <th>ttv_count</th>\n",
       "      <th>Avg_arm_per_day</th>\n",
       "      <th>hsic_count</th>\n",
       "      <th>Best_Practices_3</th>\n",
       "      <th>Best_Practices_5</th>\n",
       "      <th>Tenure_months</th>\n",
       "      <th>Best_Practices_1</th>\n",
       "      <th>Contract_start_months</th>\n",
       "      <th>Avg_FFH_ARPU</th>\n",
       "      <th>Best_Practices_6</th>\n",
       "      <th>...</th>\n",
       "      <th>login_consistency</th>\n",
       "      <th>sing_count</th>\n",
       "      <th>arming_consistency</th>\n",
       "      <th>product_mix_all</th>\n",
       "      <th>contract_end_status__contract_expired</th>\n",
       "      <th>contract_end_status__contract_expiring_after_90_days</th>\n",
       "      <th>contract_end_status__contract_expiring_within_90_days</th>\n",
       "      <th>Package__Monitored</th>\n",
       "      <th>Package__Smart_Automation_Plus</th>\n",
       "      <th>Package__Smart_Camera</th>\n",
       "    </tr>\n",
       "  </thead>\n",
       "  <tbody>\n",
       "    <tr>\n",
       "      <th>0</th>\n",
       "      <td>0.03</td>\n",
       "      <td>0.02</td>\n",
       "      <td>-0.03</td>\n",
       "      <td>-0.05</td>\n",
       "      <td>-0.07</td>\n",
       "      <td>0.2</td>\n",
       "      <td>0.03</td>\n",
       "      <td>-1.53</td>\n",
       "      <td>-0.05</td>\n",
       "      <td>-0.09</td>\n",
       "      <td>...</td>\n",
       "      <td>0.58</td>\n",
       "      <td>0.01</td>\n",
       "      <td>0.22</td>\n",
       "      <td>0.22</td>\n",
       "      <td>0.02</td>\n",
       "      <td>0.21</td>\n",
       "      <td>-0.03</td>\n",
       "      <td>-0.02</td>\n",
       "      <td>0.01</td>\n",
       "      <td>-0.0</td>\n",
       "    </tr>\n",
       "  </tbody>\n",
       "</table>\n",
       "<p>1 rows × 28 columns</p>\n",
       "</div>"
      ],
      "text/plain": [
       "   ttv_count  Avg_arm_per_day  hsic_count  Best_Practices_3  Best_Practices_5  \\\n",
       "0       0.03             0.02       -0.03             -0.05             -0.07   \n",
       "\n",
       "   Tenure_months  Best_Practices_1  Contract_start_months  Avg_FFH_ARPU  \\\n",
       "0            0.2              0.03                  -1.53         -0.05   \n",
       "\n",
       "   Best_Practices_6  ...  login_consistency  sing_count  arming_consistency  \\\n",
       "0             -0.09  ...               0.58        0.01                0.22   \n",
       "\n",
       "   product_mix_all  contract_end_status__contract_expired  \\\n",
       "0             0.22                                   0.02   \n",
       "\n",
       "   contract_end_status__contract_expiring_after_90_days  \\\n",
       "0                                               0.21      \n",
       "\n",
       "   contract_end_status__contract_expiring_within_90_days  Package__Monitored  \\\n",
       "0                                              -0.03                   -0.02   \n",
       "\n",
       "   Package__Smart_Automation_Plus  Package__Smart_Camera  \n",
       "0                            0.01                   -0.0  \n",
       "\n",
       "[1 rows x 28 columns]"
      ]
     },
     "execution_count": 117,
     "metadata": {},
     "output_type": "execute_result"
    }
   ],
   "source": [
    "pd.DataFrame(np.round(shap_values[[idx]],2),columns=final_feature_cols)"
   ]
  },
  {
   "cell_type": "code",
   "execution_count": 119,
   "id": "c77c70da-569a-474f-8464-af57a4e1813d",
   "metadata": {},
   "outputs": [
    {
     "data": {
      "text/html": [
       "<div>\n",
       "<style scoped>\n",
       "    .dataframe tbody tr th:only-of-type {\n",
       "        vertical-align: middle;\n",
       "    }\n",
       "\n",
       "    .dataframe tbody tr th {\n",
       "        vertical-align: top;\n",
       "    }\n",
       "\n",
       "    .dataframe thead th {\n",
       "        text-align: right;\n",
       "    }\n",
       "</style>\n",
       "<table border=\"1\" class=\"dataframe\">\n",
       "  <thead>\n",
       "    <tr style=\"text-align: right;\">\n",
       "      <th></th>\n",
       "      <th>ttv_count</th>\n",
       "      <th>Avg_arm_per_day</th>\n",
       "      <th>hsic_count</th>\n",
       "      <th>Best_Practices_3</th>\n",
       "      <th>Best_Practices_5</th>\n",
       "      <th>Tenure_months</th>\n",
       "      <th>Best_Practices_1</th>\n",
       "      <th>Contract_start_months</th>\n",
       "      <th>Avg_FFH_ARPU</th>\n",
       "      <th>Best_Practices_6</th>\n",
       "      <th>...</th>\n",
       "      <th>login_consistency</th>\n",
       "      <th>sing_count</th>\n",
       "      <th>arming_consistency</th>\n",
       "      <th>product_mix_all</th>\n",
       "      <th>contract_end_status__contract_expired</th>\n",
       "      <th>contract_end_status__contract_expiring_after_90_days</th>\n",
       "      <th>contract_end_status__contract_expiring_within_90_days</th>\n",
       "      <th>Package__Monitored</th>\n",
       "      <th>Package__Smart_Automation_Plus</th>\n",
       "      <th>Package__Smart_Camera</th>\n",
       "    </tr>\n",
       "  </thead>\n",
       "  <tbody>\n",
       "    <tr>\n",
       "      <th>1006</th>\n",
       "      <td>0</td>\n",
       "      <td>0.0</td>\n",
       "      <td>0</td>\n",
       "      <td>0</td>\n",
       "      <td>0</td>\n",
       "      <td>57</td>\n",
       "      <td>1</td>\n",
       "      <td>57</td>\n",
       "      <td>37.0</td>\n",
       "      <td>0</td>\n",
       "      <td>...</td>\n",
       "      <td>0.0</td>\n",
       "      <td>0</td>\n",
       "      <td>0.0</td>\n",
       "      <td>1</td>\n",
       "      <td>1</td>\n",
       "      <td>0</td>\n",
       "      <td>0</td>\n",
       "      <td>1</td>\n",
       "      <td>0</td>\n",
       "      <td>0</td>\n",
       "    </tr>\n",
       "  </tbody>\n",
       "</table>\n",
       "<p>1 rows × 28 columns</p>\n",
       "</div>"
      ],
      "text/plain": [
       "      ttv_count  Avg_arm_per_day  hsic_count  Best_Practices_3  \\\n",
       "1006          0              0.0           0                 0   \n",
       "\n",
       "      Best_Practices_5  Tenure_months  Best_Practices_1  \\\n",
       "1006                 0             57                 1   \n",
       "\n",
       "      Contract_start_months  Avg_FFH_ARPU  Best_Practices_6  ...  \\\n",
       "1006                     57          37.0                 0  ...   \n",
       "\n",
       "      login_consistency  sing_count  arming_consistency  product_mix_all  \\\n",
       "1006                0.0           0                 0.0                1   \n",
       "\n",
       "      contract_end_status__contract_expired  \\\n",
       "1006                                      1   \n",
       "\n",
       "      contract_end_status__contract_expiring_after_90_days  \\\n",
       "1006                                                  0      \n",
       "\n",
       "      contract_end_status__contract_expiring_within_90_days  \\\n",
       "1006                                                  0       \n",
       "\n",
       "      Package__Monitored  Package__Smart_Automation_Plus  \\\n",
       "1006                   1                               0   \n",
       "\n",
       "      Package__Smart_Camera  \n",
       "1006                      0  \n",
       "\n",
       "[1 rows x 28 columns]"
      ]
     },
     "execution_count": 119,
     "metadata": {},
     "output_type": "execute_result"
    }
   ],
   "source": [
    "pd.DataFrame(x_SC[final_feature_cols].iloc[[idx]])"
   ]
  },
  {
   "cell_type": "code",
   "execution_count": null,
   "id": "783b5b94-272f-413a-92ea-b51e6aed92b0",
   "metadata": {},
   "outputs": [],
   "source": []
  },
  {
   "cell_type": "code",
   "execution_count": 115,
   "id": "21342368-de59-44fe-8c5b-c3940ffcd5d5",
   "metadata": {},
   "outputs": [
    {
     "data": {
      "text/plain": [
       "0.25"
      ]
     },
     "execution_count": 115,
     "metadata": {},
     "output_type": "execute_result"
    }
   ],
   "source": [
    "np.round(shap_values[[idx]],2).sum()"
   ]
  },
  {
   "cell_type": "code",
   "execution_count": null,
   "id": "dc726dc1-fc13-4ff2-b042-105efcbf099c",
   "metadata": {},
   "outputs": [],
   "source": []
  },
  {
   "cell_type": "code",
   "execution_count": 137,
   "id": "559d08ce-3b9f-4632-a0f8-278eef8d2a41",
   "metadata": {},
   "outputs": [],
   "source": [
    "# plots the waterfall for the 6th observation. As optional input give waterfall_plot the number of features, in order to draw them all. Since all observations have the same number of features, the index of the second argument does not need to be adjusted."
   ]
  },
  {
   "cell_type": "code",
   "execution_count": 138,
   "id": "2f4a4268-4430-4999-88bd-2736179d2a35",
   "metadata": {},
   "outputs": [
    {
     "data": {
      "text/plain": [
       "array([ 5.0274327e-02, -8.6625610e-03, -3.7581649e-02, ...,\n",
       "        5.9197424e-04, -3.4898991e-04, -4.5731993e+00], dtype=float32)"
      ]
     },
     "execution_count": 138,
     "metadata": {},
     "output_type": "execute_result"
    }
   ],
   "source": [
    "shap_values.base"
   ]
  },
  {
   "cell_type": "code",
   "execution_count": 211,
   "id": "c0355ad4-87fa-4a04-87e8-4a1d13b4044f",
   "metadata": {},
   "outputs": [
    {
     "name": "stderr",
     "output_type": "stream",
     "text": [
      "ntree_limit is deprecated, use `iteration_range` or model slicing instead.\n"
     ]
    },
    {
     "data": {
      "image/png": "[encoded data removed]",
      "text/plain": [
       "<Figure size 576x540 with 2 Axes>"
      ]
     },
     "metadata": {
      "needs_background": "light"
     },
     "output_type": "display_data"
    }
   ],
   "source": [
    "import shap\n",
    "x_SC=X_data[(X_data.Package__Monitored==1) & (X_data.SMHM_Churn==1)]\n",
    "# model_shap = XGB_final_model.best_estimator_\n",
    "explainer = shap.Explainer(modle_pickle)\n",
    "shap_values = explainer.shap_values(x_SC[final_feature_cols],check_additivity=False)\n",
    "# #%%\n",
    "\n",
    "shap.summary_plot(shap_values, features=x_SC[final_feature_cols]\n",
    ", feature_names=final_feature_cols,show=False,max_display=15)"
   ]
  },
  {
   "cell_type": "code",
   "execution_count": 242,
   "id": "3258fb64-9579-4fba-8f89-4333ec8fd7ce",
   "metadata": {},
   "outputs": [
    {
     "data": {
      "text/html": [
       "<div>\n",
       "<style scoped>\n",
       "    .dataframe tbody tr th:only-of-type {\n",
       "        vertical-align: middle;\n",
       "    }\n",
       "\n",
       "    .dataframe tbody tr th {\n",
       "        vertical-align: top;\n",
       "    }\n",
       "\n",
       "    .dataframe thead th {\n",
       "        text-align: right;\n",
       "    }\n",
       "</style>\n",
       "<table border=\"1\" class=\"dataframe\">\n",
       "  <thead>\n",
       "    <tr style=\"text-align: right;\">\n",
       "      <th></th>\n",
       "      <th>customer_id</th>\n",
       "      <th>dealer_customer_id</th>\n",
       "      <th>BAN</th>\n",
       "      <th>SMHM_Churn</th>\n",
       "      <th>ttv_count</th>\n",
       "      <th>Avg_arm_per_day</th>\n",
       "      <th>hsic_count</th>\n",
       "      <th>Best_Practices_3</th>\n",
       "      <th>Best_Practices_5</th>\n",
       "      <th>Tenure_months</th>\n",
       "      <th>...</th>\n",
       "      <th>login_consistency</th>\n",
       "      <th>sing_count</th>\n",
       "      <th>arming_consistency</th>\n",
       "      <th>product_mix_all</th>\n",
       "      <th>contract_end_status__contract_expired</th>\n",
       "      <th>contract_end_status__contract_expiring_after_90_days</th>\n",
       "      <th>contract_end_status__contract_expiring_within_90_days</th>\n",
       "      <th>Package__Monitored</th>\n",
       "      <th>Package__Smart_Automation_Plus</th>\n",
       "      <th>Package__Smart_Camera</th>\n",
       "    </tr>\n",
       "  </thead>\n",
       "  <tbody>\n",
       "    <tr>\n",
       "      <th>110</th>\n",
       "      <td>5258127</td>\n",
       "      <td>98343205</td>\n",
       "      <td>603583814</td>\n",
       "      <td>1</td>\n",
       "      <td>0</td>\n",
       "      <td>0.0</td>\n",
       "      <td>0</td>\n",
       "      <td>0</td>\n",
       "      <td>0</td>\n",
       "      <td>68</td>\n",
       "      <td>...</td>\n",
       "      <td>0.0</td>\n",
       "      <td>0</td>\n",
       "      <td>0.0</td>\n",
       "      <td>1</td>\n",
       "      <td>1</td>\n",
       "      <td>0</td>\n",
       "      <td>0</td>\n",
       "      <td>1</td>\n",
       "      <td>0</td>\n",
       "      <td>0</td>\n",
       "    </tr>\n",
       "  </tbody>\n",
       "</table>\n",
       "<p>1 rows × 32 columns</p>\n",
       "</div>"
      ],
      "text/plain": [
       "     customer_id dealer_customer_id        BAN  SMHM_Churn  ttv_count  \\\n",
       "110      5258127           98343205  603583814           1          0   \n",
       "\n",
       "     Avg_arm_per_day  hsic_count  Best_Practices_3  Best_Practices_5  \\\n",
       "110              0.0           0                 0                 0   \n",
       "\n",
       "     Tenure_months  ...  login_consistency  sing_count  arming_consistency  \\\n",
       "110             68  ...                0.0           0                 0.0   \n",
       "\n",
       "     product_mix_all  contract_end_status__contract_expired  \\\n",
       "110                1                                      1   \n",
       "\n",
       "     contract_end_status__contract_expiring_after_90_days  \\\n",
       "110                                                  0      \n",
       "\n",
       "     contract_end_status__contract_expiring_within_90_days  \\\n",
       "110                                                  0       \n",
       "\n",
       "     Package__Monitored  Package__Smart_Automation_Plus  Package__Smart_Camera  \n",
       "110                   1                               0                      0  \n",
       "\n",
       "[1 rows x 32 columns]"
      ]
     },
     "execution_count": 242,
     "metadata": {},
     "output_type": "execute_result"
    }
   ],
   "source": []
  },
  {
   "cell_type": "code",
   "execution_count": 249,
   "id": "f34240f4-49de-4e18-807e-96bcf01614d4",
   "metadata": {},
   "outputs": [
    {
     "data": {
      "image/png": "[encoded data removed]",
      "text/plain": [
       "<Figure size 432x288 with 1 Axes>"
      ]
     },
     "metadata": {
      "needs_background": "light"
     },
     "output_type": "display_data"
    }
   ],
   "source": [
    "idx=10\n",
    "\n",
    "shap.plots._bar.bar_legacy(shap_values[idx],feature_names=final_feature_cols,show=True)"
   ]
  },
  {
   "cell_type": "code",
   "execution_count": 250,
   "id": "b05147c5-5812-4566-85e9-a619d49cc9f4",
   "metadata": {},
   "outputs": [
    {
     "data": {
      "text/html": [
       "<div>\n",
       "<style scoped>\n",
       "    .dataframe tbody tr th:only-of-type {\n",
       "        vertical-align: middle;\n",
       "    }\n",
       "\n",
       "    .dataframe tbody tr th {\n",
       "        vertical-align: top;\n",
       "    }\n",
       "\n",
       "    .dataframe thead th {\n",
       "        text-align: right;\n",
       "    }\n",
       "</style>\n",
       "<table border=\"1\" class=\"dataframe\">\n",
       "  <thead>\n",
       "    <tr style=\"text-align: right;\">\n",
       "      <th></th>\n",
       "      <th>ttv_count</th>\n",
       "      <th>Avg_arm_per_day</th>\n",
       "      <th>hsic_count</th>\n",
       "      <th>Best_Practices_3</th>\n",
       "      <th>Best_Practices_5</th>\n",
       "      <th>Tenure_months</th>\n",
       "      <th>Best_Practices_1</th>\n",
       "      <th>Contract_start_months</th>\n",
       "      <th>Avg_FFH_ARPU</th>\n",
       "      <th>Best_Practices_6</th>\n",
       "      <th>...</th>\n",
       "      <th>login_consistency</th>\n",
       "      <th>sing_count</th>\n",
       "      <th>arming_consistency</th>\n",
       "      <th>product_mix_all</th>\n",
       "      <th>contract_end_status__contract_expired</th>\n",
       "      <th>contract_end_status__contract_expiring_after_90_days</th>\n",
       "      <th>contract_end_status__contract_expiring_within_90_days</th>\n",
       "      <th>Package__Monitored</th>\n",
       "      <th>Package__Smart_Automation_Plus</th>\n",
       "      <th>Package__Smart_Camera</th>\n",
       "    </tr>\n",
       "  </thead>\n",
       "  <tbody>\n",
       "    <tr>\n",
       "      <th>439</th>\n",
       "      <td>1</td>\n",
       "      <td>0.0</td>\n",
       "      <td>1</td>\n",
       "      <td>0</td>\n",
       "      <td>0</td>\n",
       "      <td>53</td>\n",
       "      <td>1</td>\n",
       "      <td>135</td>\n",
       "      <td>163.0</td>\n",
       "      <td>0</td>\n",
       "      <td>...</td>\n",
       "      <td>1.0</td>\n",
       "      <td>0</td>\n",
       "      <td>0.0</td>\n",
       "      <td>3</td>\n",
       "      <td>1</td>\n",
       "      <td>0</td>\n",
       "      <td>0</td>\n",
       "      <td>1</td>\n",
       "      <td>0</td>\n",
       "      <td>0</td>\n",
       "    </tr>\n",
       "  </tbody>\n",
       "</table>\n",
       "<p>1 rows × 28 columns</p>\n",
       "</div>"
      ],
      "text/plain": [
       "     ttv_count  Avg_arm_per_day  hsic_count  Best_Practices_3  \\\n",
       "439          1              0.0           1                 0   \n",
       "\n",
       "     Best_Practices_5  Tenure_months  Best_Practices_1  Contract_start_months  \\\n",
       "439                 0             53                 1                    135   \n",
       "\n",
       "     Avg_FFH_ARPU  Best_Practices_6  ...  login_consistency  sing_count  \\\n",
       "439         163.0                 0  ...                1.0           0   \n",
       "\n",
       "     arming_consistency  product_mix_all  \\\n",
       "439                 0.0                3   \n",
       "\n",
       "     contract_end_status__contract_expired  \\\n",
       "439                                      1   \n",
       "\n",
       "     contract_end_status__contract_expiring_after_90_days  \\\n",
       "439                                                  0      \n",
       "\n",
       "     contract_end_status__contract_expiring_within_90_days  \\\n",
       "439                                                  0       \n",
       "\n",
       "     Package__Monitored  Package__Smart_Automation_Plus  Package__Smart_Camera  \n",
       "439                   1                               0                      0  \n",
       "\n",
       "[1 rows x 28 columns]"
      ]
     },
     "execution_count": 250,
     "metadata": {},
     "output_type": "execute_result"
    }
   ],
   "source": [
    "x_SC[final_feature_cols].iloc[[idx]]"
   ]
  },
  {
   "cell_type": "code",
   "execution_count": 248,
   "id": "6f1ffcd5-4241-4a5a-a216-c79c5fb413d1",
   "metadata": {},
   "outputs": [
    {
     "data": {
      "image/png": "[encoded data removed]",
      "text/plain": [
       "<Figure size 576x468 with 3 Axes>"
      ]
     },
     "metadata": {},
     "output_type": "display_data"
    }
   ],
   "source": [
    "shap.plots._waterfall.waterfall_legacy(explainer.expected_value, shap_values[idx],feature_names=final_feature_cols,max_display=10)"
   ]
  },
  {
   "cell_type": "code",
   "execution_count": null,
   "id": "81d1cbf3-5e3b-4fb8-8af2-d2768fc95ab0",
   "metadata": {},
   "outputs": [],
   "source": []
  },
  {
   "cell_type": "code",
   "execution_count": 229,
   "id": "8a244c7a-bbd7-4485-97f4-63388187bac2",
   "metadata": {},
   "outputs": [
    {
     "data": {
      "image/png": "[encoded data removed]",
      "text/plain": [
       "<Figure size 576x468 with 3 Axes>"
      ]
     },
     "metadata": {},
     "output_type": "display_data"
    }
   ],
   "source": [
    "\n"
   ]
  },
  {
   "cell_type": "code",
   "execution_count": 218,
   "id": "25b0d134-e933-48e1-9a53-72105e45c5ac",
   "metadata": {},
   "outputs": [
    {
     "ename": "AssertionError",
     "evalue": "Summary plots need a matrix of shap_values, not a vector.",
     "output_type": "error",
     "traceback": [
      "\u001b[0;31m---------------------------------------------------------------------------\u001b[0m",
      "\u001b[0;31mAssertionError\u001b[0m                            Traceback (most recent call last)",
      "Input \u001b[0;32mIn [218]\u001b[0m, in \u001b[0;36m<cell line: 1>\u001b[0;34m()\u001b[0m\n\u001b[0;32m----> 1\u001b[0m \u001b[43mshap\u001b[49m\u001b[38;5;241;43m.\u001b[39;49m\u001b[43msummary_plot\u001b[49m\u001b[43m(\u001b[49m\u001b[43mshap_values\u001b[49m\u001b[43m[\u001b[49m\u001b[38;5;241;43m0\u001b[39;49m\u001b[43m]\u001b[49m\u001b[43m,\u001b[49m\u001b[43m \u001b[49m\u001b[43mx_SC\u001b[49m\u001b[43m[\u001b[49m\u001b[43mfinal_feature_cols\u001b[49m\u001b[43m]\u001b[49m\u001b[43m,\u001b[49m\u001b[43m \u001b[49m\u001b[43mplot_type\u001b[49m\u001b[38;5;241;43m=\u001b[39;49m\u001b[38;5;124;43m\"\u001b[39;49m\u001b[38;5;124;43mbar\u001b[39;49m\u001b[38;5;124;43m\"\u001b[39;49m\u001b[43m)\u001b[49m\n",
      "File \u001b[0;32m/opt/conda/lib/python3.8/site-packages/shap/plots/_beeswarm.py:467\u001b[0m, in \u001b[0;36msummary_legacy\u001b[0;34m(shap_values, features, feature_names, max_display, plot_type, color, axis_color, title, alpha, show, sort, color_bar, plot_size, layered_violin_max_num_bins, class_names, class_inds, color_bar_label, cmap, auto_size_plot, use_log_scale)\u001b[0m\n\u001b[1;32m    465\u001b[0m     \u001b[38;5;28;01mif\u001b[39;00m plot_type \u001b[38;5;129;01mis\u001b[39;00m \u001b[38;5;28;01mNone\u001b[39;00m:\n\u001b[1;32m    466\u001b[0m         plot_type \u001b[38;5;241m=\u001b[39m \u001b[38;5;124m\"\u001b[39m\u001b[38;5;124mdot\u001b[39m\u001b[38;5;124m\"\u001b[39m \u001b[38;5;66;03m# default for single output explanations\u001b[39;00m\n\u001b[0;32m--> 467\u001b[0m     \u001b[38;5;28;01massert\u001b[39;00m \u001b[38;5;28mlen\u001b[39m(shap_values\u001b[38;5;241m.\u001b[39mshape) \u001b[38;5;241m!=\u001b[39m \u001b[38;5;241m1\u001b[39m, \u001b[38;5;124m\"\u001b[39m\u001b[38;5;124mSummary plots need a matrix of shap_values, not a vector.\u001b[39m\u001b[38;5;124m\"\u001b[39m\n\u001b[1;32m    469\u001b[0m \u001b[38;5;66;03m# default color:\u001b[39;00m\n\u001b[1;32m    470\u001b[0m \u001b[38;5;28;01mif\u001b[39;00m color \u001b[38;5;129;01mis\u001b[39;00m \u001b[38;5;28;01mNone\u001b[39;00m:\n",
      "\u001b[0;31mAssertionError\u001b[0m: Summary plots need a matrix of shap_values, not a vector."
     ]
    }
   ],
   "source": [
    "shap.summary_plot(shap_values[0], x_SC[final_feature_cols], plot_type=\"bar\")"
   ]
  },
  {
   "cell_type": "code",
   "execution_count": 164,
   "id": "1b2437c8-bdee-4f34-acd2-d19b532dd35b",
   "metadata": {},
   "outputs": [],
   "source": [
    "# shap.summary_plot(shap_values[1], x_SC[final_feature_cols].iloc[[idx]], plot_type=\"bar\")"
   ]
  },
  {
   "cell_type": "code",
   "execution_count": 163,
   "id": "b4eefa66-67b4-46e1-bef0-7d860bab327a",
   "metadata": {},
   "outputs": [],
   "source": [
    "# shap.plots.bar(shap_values[0])"
   ]
  },
  {
   "cell_type": "code",
   "execution_count": 162,
   "id": "30f94273-8443-443c-900e-336082d31616",
   "metadata": {},
   "outputs": [
    {
     "name": "stdout",
     "output_type": "stream",
     "text": [
      "      customer_id dealer_customer_id        BAN  SMHM_Churn  ttv_count  \\\n",
      "1006      6074375           98317679  603588048           1          0   \n",
      "\n",
      "      Avg_arm_per_day  hsic_count  Best_Practices_3  Best_Practices_5  \\\n",
      "1006              0.0           0                 0                 0   \n",
      "\n",
      "      Tenure_months  ...  login_consistency  sing_count  arming_consistency  \\\n",
      "1006             57  ...                0.0           0                 0.0   \n",
      "\n",
      "      product_mix_all  contract_end_status__contract_expired  \\\n",
      "1006                1                                      1   \n",
      "\n",
      "      contract_end_status__contract_expiring_after_90_days  \\\n",
      "1006                                                  0      \n",
      "\n",
      "      contract_end_status__contract_expiring_within_90_days  \\\n",
      "1006                                                  0       \n",
      "\n",
      "      Package__Monitored  Package__Smart_Automation_Plus  \\\n",
      "1006                   1                               0   \n",
      "\n",
      "      Package__Smart_Camera  \n",
      "1006                      0  \n",
      "\n",
      "[1 rows x 32 columns]\n",
      "[[ 0.03 -0.04 -0.05 -0.09 -0.07 -1.43 -0.02 -0.39 -0.38  0.04 -0.09  0.\n",
      "   0.   -0.17 -0.03  0.   -0.08  0.03  0.59  0.02  0.03  0.25 -0.02  0.2\n",
      "  -0.03 -0.03  0.08 -0.  ]]\n"
     ]
    },
    {
     "data": {
      "image/png": "[encoded data removed]",
      "text/plain": [
       "<Figure size 576x540 with 2 Axes>"
      ]
     },
     "metadata": {
      "needs_background": "light"
     },
     "output_type": "display_data"
    }
   ],
   "source": [
    "idx=20\n",
    "print(x_SC.iloc[[idx]])\n",
    "print(np.round(shap_values[[idx]],2))\n",
    "shap.summary_plot(shap_values[[idx]], features=x_SC[final_feature_cols].iloc[[idx]]\n",
    ", feature_names=final_feature_cols,show=True,max_display=15)"
   ]
  },
  {
   "cell_type": "code",
   "execution_count": 75,
   "id": "419b76de-fb1a-435b-94a6-4c6eac1c85ab",
   "metadata": {},
   "outputs": [],
   "source": [
    "# DF.info()"
   ]
  },
  {
   "cell_type": "code",
   "execution_count": null,
   "id": "2425b341-2e9e-4e7c-b386-66b4b4a973f6",
   "metadata": {},
   "outputs": [],
   "source": []
  },
  {
   "cell_type": "code",
   "execution_count": 251,
   "id": "228dcb25-a1c5-4a0c-bcc2-d1d782e8d17d",
   "metadata": {},
   "outputs": [
    {
     "name": "stderr",
     "output_type": "stream",
     "text": [
      "ntree_limit is deprecated, use `iteration_range` or model slicing instead.\n"
     ]
    },
    {
     "data": {
      "image/png": "[encoded data removed]",
      "text/plain": [
       "<Figure size 576x540 with 2 Axes>"
      ]
     },
     "metadata": {
      "needs_background": "light"
     },
     "output_type": "display_data"
    }
   ],
   "source": [
    "import shap\n",
    "# model_shap = XGB_final_model.best_estimator_\n",
    "explainer = shap.Explainer(modle_pickle)\n",
    "shap_values = explainer.shap_values(X_test_df,check_additivity=False)\n",
    "#%%\n",
    "\n",
    "shap.summary_plot(shap_values, features=X_test_df\n",
    ", feature_names=final_feature_cols,show=False,max_display=15)"
   ]
  },
  {
   "cell_type": "code",
   "execution_count": 252,
   "id": "2edff67a-6d17-4154-9594-92c613f33121",
   "metadata": {},
   "outputs": [
    {
     "data": {
      "text/plain": [
       "Index(['ttv_count', 'Avg_arm_per_day', 'hsic_count', 'Best_Practices_3',\n",
       "       'Best_Practices_5', 'Tenure_months', 'Best_Practices_1',\n",
       "       'Contract_start_months', 'Avg_FFH_ARPU', 'Best_Practices_6',\n",
       "       'Best_Practice_All', 'Avg_login_per_day', 'stv_count', 'Avg_SMHM_ARPU',\n",
       "       'Best_Practices_2', 'Best_Practices_4', 'diic_count',\n",
       "       'Avg_disarm_per_day', 'login_consistency', 'sing_count',\n",
       "       'arming_consistency', 'product_mix_all',\n",
       "       'contract_end_status__contract_expired',\n",
       "       'contract_end_status__contract_expiring_after_90_days',\n",
       "       'contract_end_status__contract_expiring_within_90_days',\n",
       "       'Package__Monitored', 'Package__Smart_Automation_Plus',\n",
       "       'Package__Smart_Camera'],\n",
       "      dtype='object')"
      ]
     },
     "execution_count": 252,
     "metadata": {},
     "output_type": "execute_result"
    }
   ],
   "source": [
    "X_test_df.columns"
   ]
  },
  {
   "cell_type": "code",
   "execution_count": null,
   "id": "275292b9-0d61-46e4-b0cd-bba396f9034a",
   "metadata": {},
   "outputs": [],
   "source": []
  },
  {
   "cell_type": "code",
   "execution_count": 253,
   "id": "3cd2ebaf-eb46-4f3a-ba63-36eed426669e",
   "metadata": {},
   "outputs": [],
   "source": [
    "# shap.plots.waterfall(shap_values[x])"
   ]
  },
  {
   "cell_type": "code",
   "execution_count": 506,
   "id": "fab2b279-29e7-4b71-b249-6b774c803898",
   "metadata": {},
   "outputs": [],
   "source": [
    "result_churn_model=pd.DataFrame(modle_pickle.predict_proba(X_test_df) [:,1])"
   ]
  },
  {
   "cell_type": "code",
   "execution_count": 507,
   "id": "b91c2858-d102-40f6-83b8-d4ab9a8a1b0f",
   "metadata": {},
   "outputs": [
    {
     "data": {
      "text/plain": [
       "0    1.083159\n",
       "dtype: float32"
      ]
     },
     "execution_count": 507,
     "metadata": {},
     "output_type": "execute_result"
    }
   ],
   "source": [
    "result_churn_model.mean()*100"
   ]
  },
  {
   "cell_type": "code",
   "execution_count": 508,
   "id": "46ecae34-2026-456b-99e1-eba52f2bca46",
   "metadata": {},
   "outputs": [
    {
     "data": {
      "text/html": [
       "<div>\n",
       "<style scoped>\n",
       "    .dataframe tbody tr th:only-of-type {\n",
       "        vertical-align: middle;\n",
       "    }\n",
       "\n",
       "    .dataframe tbody tr th {\n",
       "        vertical-align: top;\n",
       "    }\n",
       "\n",
       "    .dataframe thead th {\n",
       "        text-align: right;\n",
       "    }\n",
       "</style>\n",
       "<table border=\"1\" class=\"dataframe\">\n",
       "  <thead>\n",
       "    <tr style=\"text-align: right;\">\n",
       "      <th></th>\n",
       "      <th>0</th>\n",
       "    </tr>\n",
       "  </thead>\n",
       "  <tbody>\n",
       "    <tr>\n",
       "      <th>0</th>\n",
       "      <td>0.288395</td>\n",
       "    </tr>\n",
       "    <tr>\n",
       "      <th>1</th>\n",
       "      <td>0.016539</td>\n",
       "    </tr>\n",
       "    <tr>\n",
       "      <th>2</th>\n",
       "      <td>0.024908</td>\n",
       "    </tr>\n",
       "    <tr>\n",
       "      <th>3</th>\n",
       "      <td>0.029068</td>\n",
       "    </tr>\n",
       "    <tr>\n",
       "      <th>4</th>\n",
       "      <td>0.018156</td>\n",
       "    </tr>\n",
       "  </tbody>\n",
       "</table>\n",
       "</div>"
      ],
      "text/plain": [
       "          0\n",
       "0  0.288395\n",
       "1  0.016539\n",
       "2  0.024908\n",
       "3  0.029068\n",
       "4  0.018156"
      ]
     },
     "execution_count": 508,
     "metadata": {},
     "output_type": "execute_result"
    }
   ],
   "source": [
    "result_churn_model.head()\n"
   ]
  },
  {
   "cell_type": "code",
   "execution_count": 509,
   "id": "d669b12f-68d0-47b9-a1cd-600cb798b521",
   "metadata": {},
   "outputs": [],
   "source": [
    "result_churn_model.columns=['Churn_score']"
   ]
  },
  {
   "cell_type": "code",
   "execution_count": 510,
   "id": "02107619-4eb3-4475-a7d0-c70e4ada24ed",
   "metadata": {},
   "outputs": [],
   "source": [
    "# All_cols= ID_cols + X_test_df.columns.to_list()\n",
    "ID_DF=DF[ID_cols+Target_col]\n"
   ]
  },
  {
   "cell_type": "code",
   "execution_count": 511,
   "id": "eea81101-b51b-49b7-b6f7-dfc71242698c",
   "metadata": {},
   "outputs": [],
   "source": [
    "Full_DF=pd.concat([ID_DF,X_test_df,result_churn_model],axis=1)"
   ]
  },
  {
   "cell_type": "code",
   "execution_count": 512,
   "id": "89703b70-3fea-44d5-9845-16da9e9e5720",
   "metadata": {},
   "outputs": [
    {
     "data": {
      "text/html": [
       "<div>\n",
       "<style scoped>\n",
       "    .dataframe tbody tr th:only-of-type {\n",
       "        vertical-align: middle;\n",
       "    }\n",
       "\n",
       "    .dataframe tbody tr th {\n",
       "        vertical-align: top;\n",
       "    }\n",
       "\n",
       "    .dataframe thead th {\n",
       "        text-align: right;\n",
       "    }\n",
       "</style>\n",
       "<table border=\"1\" class=\"dataframe\">\n",
       "  <thead>\n",
       "    <tr style=\"text-align: right;\">\n",
       "      <th></th>\n",
       "      <th>customer_id</th>\n",
       "      <th>dealer_customer_id</th>\n",
       "      <th>BAN</th>\n",
       "      <th>SMHM_Churn</th>\n",
       "      <th>ttv_count</th>\n",
       "      <th>Avg_arm_per_day</th>\n",
       "      <th>hsic_count</th>\n",
       "      <th>Best_Practices_3</th>\n",
       "      <th>Best_Practices_5</th>\n",
       "      <th>Tenure_months</th>\n",
       "      <th>...</th>\n",
       "      <th>sing_count</th>\n",
       "      <th>arming_consistency</th>\n",
       "      <th>product_mix_all</th>\n",
       "      <th>contract_end_status__contract_expired</th>\n",
       "      <th>contract_end_status__contract_expiring_after_90_days</th>\n",
       "      <th>contract_end_status__contract_expiring_within_90_days</th>\n",
       "      <th>Package__Monitored</th>\n",
       "      <th>Package__Smart_Automation_Plus</th>\n",
       "      <th>Package__Smart_Camera</th>\n",
       "      <th>Churn_score</th>\n",
       "    </tr>\n",
       "  </thead>\n",
       "  <tbody>\n",
       "    <tr>\n",
       "      <th>0</th>\n",
       "      <td>15246138</td>\n",
       "      <td>105410571</td>\n",
       "      <td>605633656</td>\n",
       "      <td>0</td>\n",
       "      <td>0</td>\n",
       "      <td>0.0</td>\n",
       "      <td>0</td>\n",
       "      <td>0</td>\n",
       "      <td>0</td>\n",
       "      <td>0</td>\n",
       "      <td>...</td>\n",
       "      <td>0</td>\n",
       "      <td>0.0</td>\n",
       "      <td>2</td>\n",
       "      <td>0</td>\n",
       "      <td>1</td>\n",
       "      <td>0</td>\n",
       "      <td>0</td>\n",
       "      <td>0</td>\n",
       "      <td>1</td>\n",
       "      <td>0.288395</td>\n",
       "    </tr>\n",
       "    <tr>\n",
       "      <th>1</th>\n",
       "      <td>15189805</td>\n",
       "      <td>105109332</td>\n",
       "      <td>605546030</td>\n",
       "      <td>0</td>\n",
       "      <td>0</td>\n",
       "      <td>0.0</td>\n",
       "      <td>0</td>\n",
       "      <td>0</td>\n",
       "      <td>0</td>\n",
       "      <td>0</td>\n",
       "      <td>...</td>\n",
       "      <td>0</td>\n",
       "      <td>0.0</td>\n",
       "      <td>2</td>\n",
       "      <td>1</td>\n",
       "      <td>0</td>\n",
       "      <td>0</td>\n",
       "      <td>0</td>\n",
       "      <td>1</td>\n",
       "      <td>0</td>\n",
       "      <td>0.016539</td>\n",
       "    </tr>\n",
       "    <tr>\n",
       "      <th>2</th>\n",
       "      <td>15242585</td>\n",
       "      <td>91314553</td>\n",
       "      <td>602484792</td>\n",
       "      <td>0</td>\n",
       "      <td>1</td>\n",
       "      <td>0.0</td>\n",
       "      <td>1</td>\n",
       "      <td>0</td>\n",
       "      <td>0</td>\n",
       "      <td>0</td>\n",
       "      <td>...</td>\n",
       "      <td>0</td>\n",
       "      <td>0.0</td>\n",
       "      <td>4</td>\n",
       "      <td>0</td>\n",
       "      <td>1</td>\n",
       "      <td>0</td>\n",
       "      <td>0</td>\n",
       "      <td>1</td>\n",
       "      <td>0</td>\n",
       "      <td>0.024908</td>\n",
       "    </tr>\n",
       "    <tr>\n",
       "      <th>3</th>\n",
       "      <td>15184545</td>\n",
       "      <td>105344831</td>\n",
       "      <td>605620953</td>\n",
       "      <td>0</td>\n",
       "      <td>0</td>\n",
       "      <td>0.0</td>\n",
       "      <td>0</td>\n",
       "      <td>0</td>\n",
       "      <td>0</td>\n",
       "      <td>0</td>\n",
       "      <td>...</td>\n",
       "      <td>0</td>\n",
       "      <td>0.0</td>\n",
       "      <td>2</td>\n",
       "      <td>0</td>\n",
       "      <td>1</td>\n",
       "      <td>0</td>\n",
       "      <td>0</td>\n",
       "      <td>1</td>\n",
       "      <td>0</td>\n",
       "      <td>0.029068</td>\n",
       "    </tr>\n",
       "    <tr>\n",
       "      <th>4</th>\n",
       "      <td>15207931</td>\n",
       "      <td>98054605</td>\n",
       "      <td>603481535</td>\n",
       "      <td>0</td>\n",
       "      <td>1</td>\n",
       "      <td>0.0</td>\n",
       "      <td>1</td>\n",
       "      <td>0</td>\n",
       "      <td>0</td>\n",
       "      <td>0</td>\n",
       "      <td>...</td>\n",
       "      <td>0</td>\n",
       "      <td>0.0</td>\n",
       "      <td>4</td>\n",
       "      <td>0</td>\n",
       "      <td>1</td>\n",
       "      <td>0</td>\n",
       "      <td>0</td>\n",
       "      <td>1</td>\n",
       "      <td>0</td>\n",
       "      <td>0.018156</td>\n",
       "    </tr>\n",
       "  </tbody>\n",
       "</table>\n",
       "<p>5 rows × 33 columns</p>\n",
       "</div>"
      ],
      "text/plain": [
       "   customer_id dealer_customer_id        BAN  SMHM_Churn  ttv_count  \\\n",
       "0     15246138          105410571  605633656           0          0   \n",
       "1     15189805          105109332  605546030           0          0   \n",
       "2     15242585           91314553  602484792           0          1   \n",
       "3     15184545          105344831  605620953           0          0   \n",
       "4     15207931           98054605  603481535           0          1   \n",
       "\n",
       "   Avg_arm_per_day  hsic_count  Best_Practices_3  Best_Practices_5  \\\n",
       "0              0.0           0                 0                 0   \n",
       "1              0.0           0                 0                 0   \n",
       "2              0.0           1                 0                 0   \n",
       "3              0.0           0                 0                 0   \n",
       "4              0.0           1                 0                 0   \n",
       "\n",
       "   Tenure_months  ...  sing_count  arming_consistency  product_mix_all  \\\n",
       "0              0  ...           0                 0.0                2   \n",
       "1              0  ...           0                 0.0                2   \n",
       "2              0  ...           0                 0.0                4   \n",
       "3              0  ...           0                 0.0                2   \n",
       "4              0  ...           0                 0.0                4   \n",
       "\n",
       "   contract_end_status__contract_expired  \\\n",
       "0                                      0   \n",
       "1                                      1   \n",
       "2                                      0   \n",
       "3                                      0   \n",
       "4                                      0   \n",
       "\n",
       "   contract_end_status__contract_expiring_after_90_days  \\\n",
       "0                                                  1      \n",
       "1                                                  0      \n",
       "2                                                  1      \n",
       "3                                                  1      \n",
       "4                                                  1      \n",
       "\n",
       "   contract_end_status__contract_expiring_within_90_days  Package__Monitored  \\\n",
       "0                                                  0                       0   \n",
       "1                                                  0                       0   \n",
       "2                                                  0                       0   \n",
       "3                                                  0                       0   \n",
       "4                                                  0                       0   \n",
       "\n",
       "   Package__Smart_Automation_Plus  Package__Smart_Camera  Churn_score  \n",
       "0                               0                      1     0.288395  \n",
       "1                               1                      0     0.016539  \n",
       "2                               1                      0     0.024908  \n",
       "3                               1                      0     0.029068  \n",
       "4                               1                      0     0.018156  \n",
       "\n",
       "[5 rows x 33 columns]"
      ]
     },
     "execution_count": 512,
     "metadata": {},
     "output_type": "execute_result"
    }
   ],
   "source": [
    "Full_DF.head()"
   ]
  },
  {
   "cell_type": "code",
   "execution_count": 513,
   "id": "edad78cf-43b0-4da5-8e32-6ac4d97aae01",
   "metadata": {},
   "outputs": [],
   "source": [
    "# Output_DF_1=Output_DF.merge(TEST_DF_FULL[ID_cols],on=ID_cols,how='left')"
   ]
  },
  {
   "cell_type": "code",
   "execution_count": 514,
   "id": "ed799e1f-218d-4030-9621-115fbdda721c",
   "metadata": {},
   "outputs": [],
   "source": [
    "# Output_DF=pd.concat([ID_DF,result_churn_model],axis=1)"
   ]
  },
  {
   "cell_type": "code",
   "execution_count": 515,
   "id": "5bf7009e-c076-47f6-aec1-6decd0e99e38",
   "metadata": {},
   "outputs": [],
   "source": [
    "# Output_DF.head()"
   ]
  },
  {
   "cell_type": "code",
   "execution_count": 516,
   "id": "6dacd6fd-5a26-4dbf-a26e-e96da5bd1ab4",
   "metadata": {},
   "outputs": [],
   "source": [
    "# Output_DF.columns=ID_cols+['Churn_score']"
   ]
  },
  {
   "cell_type": "code",
   "execution_count": 517,
   "id": "366b9aac-1f2d-477a-ab2c-82c008797316",
   "metadata": {},
   "outputs": [],
   "source": [
    "Full_DF['Churn_SD'] = pd.qcut(Full_DF['Churn_score'].rank(method='first',ascending=False), q=20, labels=False)+1\n"
   ]
  },
  {
   "cell_type": "code",
   "execution_count": 518,
   "id": "609fa275-8a5e-4d68-9eba-f24c5b348071",
   "metadata": {},
   "outputs": [],
   "source": [
    "Full_DF_HRC=Full_DF[Full_DF['Churn_SD']==1]"
   ]
  },
  {
   "cell_type": "code",
   "execution_count": 519,
   "id": "ad540e2e-f57e-45cf-82bb-846cbf81ba61",
   "metadata": {},
   "outputs": [
    {
     "data": {
      "text/plain": [
       "8.285373449325562"
      ]
     },
     "execution_count": 519,
     "metadata": {},
     "output_type": "execute_result"
    }
   ],
   "source": [
    "Full_DF_HRC['Churn_score'].mean()*100\n"
   ]
  },
  {
   "cell_type": "code",
   "execution_count": 520,
   "id": "f7a85b19-a3c8-4927-964b-d1352f1f4ca7",
   "metadata": {},
   "outputs": [
    {
     "name": "stdout",
     "output_type": "stream",
     "text": [
      "<class 'pandas.core.frame.DataFrame'>\n",
      "Int64Index: 18005 entries, 0 to 360054\n",
      "Data columns (total 34 columns):\n",
      " #   Column                                                 Non-Null Count  Dtype  \n",
      "---  ------                                                 --------------  -----  \n",
      " 0   customer_id                                            18005 non-null  Int64  \n",
      " 1   dealer_customer_id                                     18005 non-null  object \n",
      " 2   BAN                                                    18005 non-null  Int64  \n",
      " 3   SMHM_Churn                                             18005 non-null  Int64  \n",
      " 4   ttv_count                                              18005 non-null  Int64  \n",
      " 5   Avg_arm_per_day                                        18005 non-null  float64\n",
      " 6   hsic_count                                             18005 non-null  Int64  \n",
      " 7   Best_Practices_3                                       18005 non-null  Int64  \n",
      " 8   Best_Practices_5                                       18005 non-null  Int64  \n",
      " 9   Tenure_months                                          18005 non-null  Int64  \n",
      " 10  Best_Practices_1                                       18005 non-null  Int64  \n",
      " 11  Contract_start_months                                  18005 non-null  Int64  \n",
      " 12  Avg_FFH_ARPU                                           18005 non-null  float64\n",
      " 13  Best_Practices_6                                       18005 non-null  Int64  \n",
      " 14  Best_Practice_All                                      18005 non-null  Int64  \n",
      " 15  Avg_login_per_day                                      18005 non-null  float64\n",
      " 16  stv_count                                              18005 non-null  Int64  \n",
      " 17  Avg_SMHM_ARPU                                          18005 non-null  float64\n",
      " 18  Best_Practices_2                                       18005 non-null  Int64  \n",
      " 19  Best_Practices_4                                       18005 non-null  Int64  \n",
      " 20  diic_count                                             18005 non-null  Int64  \n",
      " 21  Avg_disarm_per_day                                     18005 non-null  float64\n",
      " 22  login_consistency                                      18005 non-null  float64\n",
      " 23  sing_count                                             18005 non-null  Int64  \n",
      " 24  arming_consistency                                     18005 non-null  float64\n",
      " 25  product_mix_all                                        18005 non-null  Int64  \n",
      " 26  contract_end_status__contract_expired                  18005 non-null  uint8  \n",
      " 27  contract_end_status__contract_expiring_after_90_days   18005 non-null  uint8  \n",
      " 28  contract_end_status__contract_expiring_within_90_days  18005 non-null  uint8  \n",
      " 29  Package__Monitored                                     18005 non-null  uint8  \n",
      " 30  Package__Smart_Automation_Plus                         18005 non-null  uint8  \n",
      " 31  Package__Smart_Camera                                  18005 non-null  uint8  \n",
      " 32  Churn_score                                            18005 non-null  float32\n",
      " 33  Churn_SD                                               18005 non-null  int64  \n",
      "dtypes: Int64(18), float32(1), float64(7), int64(1), object(1), uint8(6)\n",
      "memory usage: 4.3+ MB\n"
     ]
    }
   ],
   "source": [
    "Full_DF_HRC.info()"
   ]
  },
  {
   "cell_type": "code",
   "execution_count": 320,
   "id": "d0bf3cf1-832b-4999-b3a9-1ce25c3dafa0",
   "metadata": {},
   "outputs": [
    {
     "data": {
      "text/html": [
       "<div>\n",
       "<style scoped>\n",
       "    .dataframe tbody tr th:only-of-type {\n",
       "        vertical-align: middle;\n",
       "    }\n",
       "\n",
       "    .dataframe tbody tr th {\n",
       "        vertical-align: top;\n",
       "    }\n",
       "\n",
       "    .dataframe thead th {\n",
       "        text-align: right;\n",
       "    }\n",
       "</style>\n",
       "<table border=\"1\" class=\"dataframe\">\n",
       "  <thead>\n",
       "    <tr style=\"text-align: right;\">\n",
       "      <th></th>\n",
       "      <th>Package__Smart_Camera</th>\n",
       "      <th>Customer_count</th>\n",
       "      <th>Churn_rate_telus</th>\n",
       "    </tr>\n",
       "  </thead>\n",
       "  <tbody>\n",
       "    <tr>\n",
       "      <th>0</th>\n",
       "      <td>0</td>\n",
       "      <td>13877</td>\n",
       "      <td>7.909124</td>\n",
       "    </tr>\n",
       "    <tr>\n",
       "      <th>1</th>\n",
       "      <td>1</td>\n",
       "      <td>4128</td>\n",
       "      <td>9.553614</td>\n",
       "    </tr>\n",
       "  </tbody>\n",
       "</table>\n",
       "</div>"
      ],
      "text/plain": [
       "   Package__Smart_Camera  Customer_count  Churn_rate_telus\n",
       "0                      0           13877          7.909124\n",
       "1                      1            4128          9.553614"
      ]
     },
     "execution_count": 320,
     "metadata": {},
     "output_type": "execute_result"
    }
   ],
   "source": [
    "pd.DataFrame(Full_DF_HRC.groupby(['Package__Smart_Camera']).agg(\n",
    "    \n",
    "    Customer_count= ('customer_id','nunique'),\n",
    "    # Churn_total_telus=('Churn_score',lambda x: x.sum()),\n",
    "    Churn_rate_telus=('Churn_score',lambda x: x.mean()*100),\n",
    "    # Churn_total=('Churn_flag',lambda x: x.sum()),\n",
    "    # Churn_rate=('Churn_flag',lambda x: x.mean()*100)\n",
    ").reset_index())"
   ]
  },
  {
   "cell_type": "code",
   "execution_count": 321,
   "id": "7be097ce-9f40-40a0-851c-1c97a3e4f837",
   "metadata": {},
   "outputs": [
    {
     "data": {
      "text/html": [
       "<div>\n",
       "<style scoped>\n",
       "    .dataframe tbody tr th:only-of-type {\n",
       "        vertical-align: middle;\n",
       "    }\n",
       "\n",
       "    .dataframe tbody tr th {\n",
       "        vertical-align: top;\n",
       "    }\n",
       "\n",
       "    .dataframe thead th {\n",
       "        text-align: right;\n",
       "    }\n",
       "</style>\n",
       "<table border=\"1\" class=\"dataframe\">\n",
       "  <thead>\n",
       "    <tr style=\"text-align: right;\">\n",
       "      <th></th>\n",
       "      <th>Package__Monitored</th>\n",
       "      <th>Customer_count</th>\n",
       "      <th>Churn_rate_telus</th>\n",
       "    </tr>\n",
       "  </thead>\n",
       "  <tbody>\n",
       "    <tr>\n",
       "      <th>0</th>\n",
       "      <td>0</td>\n",
       "      <td>10276</td>\n",
       "      <td>8.682484</td>\n",
       "    </tr>\n",
       "    <tr>\n",
       "      <th>1</th>\n",
       "      <td>1</td>\n",
       "      <td>7729</td>\n",
       "      <td>7.759222</td>\n",
       "    </tr>\n",
       "  </tbody>\n",
       "</table>\n",
       "</div>"
      ],
      "text/plain": [
       "   Package__Monitored  Customer_count  Churn_rate_telus\n",
       "0                   0           10276          8.682484\n",
       "1                   1            7729          7.759222"
      ]
     },
     "execution_count": 321,
     "metadata": {},
     "output_type": "execute_result"
    }
   ],
   "source": [
    "pd.DataFrame(Full_DF_HRC.groupby(['Package__Monitored']).agg(\n",
    "    \n",
    "    Customer_count= ('customer_id','nunique'),\n",
    "    # Churn_total_telus=('Churn_score',lambda x: x.sum()),\n",
    "    Churn_rate_telus=('Churn_score',lambda x: x.mean()*100),\n",
    "    # Churn_total=('Churn_flag',lambda x: x.sum()),\n",
    "    # Churn_rate=('Churn_flag',lambda x: x.mean()*100)\n",
    ").reset_index())"
   ]
  },
  {
   "cell_type": "code",
   "execution_count": 333,
   "id": "fd83c82c-36c7-411a-a607-dc9cd0bde323",
   "metadata": {},
   "outputs": [
    {
     "data": {
      "text/plain": [
       "8.286155760288239"
      ]
     },
     "execution_count": 333,
     "metadata": {},
     "output_type": "execute_result"
    }
   ],
   "source": [
    "Full_DF_HRC['Churn_score'].mean()*100"
   ]
  },
  {
   "cell_type": "code",
   "execution_count": 335,
   "id": "10cbbc73-37ad-4dbf-890f-913eeb955711",
   "metadata": {},
   "outputs": [
    {
     "data": {
      "text/plain": [
       "0.7994893"
      ]
     },
     "execution_count": 335,
     "metadata": {},
     "output_type": "execute_result"
    }
   ],
   "source": [
    "Full_DF_HRC['Churn_score'].max()"
   ]
  },
  {
   "cell_type": "code",
   "execution_count": 334,
   "id": "6d729372-e57d-4741-9c84-aa139f58866f",
   "metadata": {},
   "outputs": [
    {
     "data": {
      "text/plain": [
       "1.083146221935749"
      ]
     },
     "execution_count": 334,
     "metadata": {},
     "output_type": "execute_result"
    }
   ],
   "source": [
    "Full_DF['Churn_score'].mean()*100"
   ]
  },
  {
   "cell_type": "code",
   "execution_count": 521,
   "id": "744c77a4-703e-4475-8d23-4825866cf8cc",
   "metadata": {},
   "outputs": [],
   "source": [
    "Full_DF_HRC=Full_DF_HRC.sort_values('Churn_score',ascending=False)"
   ]
  },
  {
   "cell_type": "code",
   "execution_count": 522,
   "id": "dda268b1-e586-4c85-a073-a0870e2d9959",
   "metadata": {},
   "outputs": [
    {
     "name": "stdout",
     "output_type": "stream",
     "text": [
      "<class 'pandas.core.frame.DataFrame'>\n",
      "Int64Index: 18005 entries, 217688 to 95932\n",
      "Data columns (total 34 columns):\n",
      " #   Column                                                 Non-Null Count  Dtype  \n",
      "---  ------                                                 --------------  -----  \n",
      " 0   customer_id                                            18005 non-null  Int64  \n",
      " 1   dealer_customer_id                                     18005 non-null  object \n",
      " 2   BAN                                                    18005 non-null  Int64  \n",
      " 3   SMHM_Churn                                             18005 non-null  Int64  \n",
      " 4   ttv_count                                              18005 non-null  Int64  \n",
      " 5   Avg_arm_per_day                                        18005 non-null  float64\n",
      " 6   hsic_count                                             18005 non-null  Int64  \n",
      " 7   Best_Practices_3                                       18005 non-null  Int64  \n",
      " 8   Best_Practices_5                                       18005 non-null  Int64  \n",
      " 9   Tenure_months                                          18005 non-null  Int64  \n",
      " 10  Best_Practices_1                                       18005 non-null  Int64  \n",
      " 11  Contract_start_months                                  18005 non-null  Int64  \n",
      " 12  Avg_FFH_ARPU                                           18005 non-null  float64\n",
      " 13  Best_Practices_6                                       18005 non-null  Int64  \n",
      " 14  Best_Practice_All                                      18005 non-null  Int64  \n",
      " 15  Avg_login_per_day                                      18005 non-null  float64\n",
      " 16  stv_count                                              18005 non-null  Int64  \n",
      " 17  Avg_SMHM_ARPU                                          18005 non-null  float64\n",
      " 18  Best_Practices_2                                       18005 non-null  Int64  \n",
      " 19  Best_Practices_4                                       18005 non-null  Int64  \n",
      " 20  diic_count                                             18005 non-null  Int64  \n",
      " 21  Avg_disarm_per_day                                     18005 non-null  float64\n",
      " 22  login_consistency                                      18005 non-null  float64\n",
      " 23  sing_count                                             18005 non-null  Int64  \n",
      " 24  arming_consistency                                     18005 non-null  float64\n",
      " 25  product_mix_all                                        18005 non-null  Int64  \n",
      " 26  contract_end_status__contract_expired                  18005 non-null  uint8  \n",
      " 27  contract_end_status__contract_expiring_after_90_days   18005 non-null  uint8  \n",
      " 28  contract_end_status__contract_expiring_within_90_days  18005 non-null  uint8  \n",
      " 29  Package__Monitored                                     18005 non-null  uint8  \n",
      " 30  Package__Smart_Automation_Plus                         18005 non-null  uint8  \n",
      " 31  Package__Smart_Camera                                  18005 non-null  uint8  \n",
      " 32  Churn_score                                            18005 non-null  float32\n",
      " 33  Churn_SD                                               18005 non-null  int64  \n",
      "dtypes: Int64(18), float32(1), float64(7), int64(1), object(1), uint8(6)\n",
      "memory usage: 4.3+ MB\n"
     ]
    }
   ],
   "source": [
    "Full_DF_HRC.info()"
   ]
  },
  {
   "cell_type": "code",
   "execution_count": 523,
   "id": "dd6fc770-6876-4250-a9cf-41269b63b02d",
   "metadata": {},
   "outputs": [],
   "source": [
    "Full_DF_HRC.to_csv('SHS_Model_score.csv',index=False)"
   ]
  },
  {
   "cell_type": "code",
   "execution_count": 524,
   "id": "d501806e-26d0-478d-93f6-6e1ac9113e31",
   "metadata": {},
   "outputs": [],
   "source": [
    "config= bigquery.job.LoadJobConfig()\n",
    "\n",
    "# config._properties['timePartitioning'] = {'field': 'Month_Year'}\n",
    "config.write_disposition = bigquery.WriteDisposition.WRITE_TRUNCATE\n",
    "\n",
    "Table_BQ = 'SHS.SHS_Model_score'\n",
    "\n",
    "bq_table_instance= bq_client.load_table_from_dataframe(Full_DF_HRC, Table_BQ,job_config=config)"
   ]
  },
  {
   "cell_type": "code",
   "execution_count": 337,
   "id": "972d3273-3826-4fcb-94e2-2de0a8314dd4",
   "metadata": {},
   "outputs": [
    {
     "name": "stderr",
     "output_type": "stream",
     "text": [
      "ntree_limit is deprecated, use `iteration_range` or model slicing instead.\n"
     ]
    },
    {
     "data": {
      "image/png": "[encoded data removed]",
      "text/plain": [
       "<Figure size 576x540 with 2 Axes>"
      ]
     },
     "metadata": {
      "needs_background": "light"
     },
     "output_type": "display_data"
    }
   ],
   "source": [
    "import shap\n",
    "# model_shap = XGB_final_model.best_estimator_\n",
    "explainer = shap.Explainer(modle_pickle)\n",
    "shap_values_local = explainer.shap_values(Full_DF_HRC[final_feature_cols],check_additivity=False)\n",
    "#%%\n",
    "\n",
    "shap.summary_plot(shap_values_local, features=Full_DF_HRC[final_feature_cols]\n",
    ", feature_names=final_feature_cols,show=False,max_display=15)\n",
    "\n",
    "\n",
    "# shap.plots.bar(shap_values_local[0]) # For the first observation\n"
   ]
  },
  {
   "cell_type": "code",
   "execution_count": null,
   "id": "7ddbaa9b-d5ca-4760-b41b-420579d877cb",
   "metadata": {},
   "outputs": [],
   "source": []
  },
  {
   "cell_type": "code",
   "execution_count": 447,
   "id": "f2ecb522-095c-4765-aa75-5a2fdb6255c4",
   "metadata": {},
   "outputs": [
    {
     "data": {
      "image/png": "[encoded data removed]",
      "text/plain": [
       "<Figure size 432x288 with 1 Axes>"
      ]
     },
     "metadata": {
      "needs_background": "light"
     },
     "output_type": "display_data"
    }
   ],
   "source": [
    "idx=50\n",
    "shap.plots._bar.bar_legacy(shap_values_local[idx],feature_names=final_feature_cols,show=True,max_display=10)"
   ]
  },
  {
   "cell_type": "code",
   "execution_count": 450,
   "id": "97896731-c0ff-45c3-89eb-96b799951f32",
   "metadata": {},
   "outputs": [
    {
     "data": {
      "image/png": "[encoded data removed]",
      "text/plain": [
       "<Figure size 576x468 with 3 Axes>"
      ]
     },
     "metadata": {},
     "output_type": "display_data"
    }
   ],
   "source": [
    "shap.plots._waterfall.waterfall_legacy(explainer.expected_value, shap_values_local[idx],feature_names=final_feature_cols,max_display=10)"
   ]
  },
  {
   "cell_type": "code",
   "execution_count": 451,
   "id": "7e56e293-f3c5-4914-bfde-f420d19a1dfd",
   "metadata": {},
   "outputs": [
    {
     "data": {
      "text/plain": [
       "customer_id                        15236342\n",
       "dealer_customer_id                105402816\n",
       "BAN                               605634186\n",
       "Churn_score                        0.351526\n",
       "login_consistency                       1.0\n",
       "Tenure_months                             0\n",
       "Contract_start_months                     0\n",
       "Avg_FFH_ARPU                            0.0\n",
       "Avg_SMHM_ARPU                           0.0\n",
       "product_mix_all                           2\n",
       "Package__Smart_Camera                     1\n",
       "Package__Smart_Automation_Plus            0\n",
       "Name: 58570, dtype: object"
      ]
     },
     "execution_count": 451,
     "metadata": {},
     "output_type": "execute_result"
    }
   ],
   "source": [
    "Full_DF_HRC[ID_cols+['Churn_score','login_consistency','Tenure_months','Contract_start_months','Avg_FFH_ARPU','Avg_SMHM_ARPU','product_mix_all','Package__Smart_Camera','Package__Smart_Automation_Plus']].iloc[idx]"
   ]
  },
  {
   "cell_type": "code",
   "execution_count": 406,
   "id": "d8c21427-7833-4537-ab7a-8aeca6580549",
   "metadata": {},
   "outputs": [
    {
     "data": {
      "text/plain": [
       "0.3515264"
      ]
     },
     "execution_count": 406,
     "metadata": {},
     "output_type": "execute_result"
    }
   ],
   "source": [
    "Full_DF_HRC['Churn_score'].iloc[idx]"
   ]
  },
  {
   "cell_type": "code",
   "execution_count": 342,
   "id": "ab620d28-2479-42cf-989a-56979ac3688c",
   "metadata": {},
   "outputs": [
    {
     "data": {
      "text/html": [
       "\n",
       "<div id='iXOJXYZSRUPKD2TXHJ9OS'>\n",
       "<div style='color: #900; text-align: center;'>\n",
       "  <b>Visualization omitted, Javascript library not loaded!</b><br>\n",
       "  Have you run `initjs()` in this notebook? If this notebook was from another\n",
       "  user you must also trust this notebook (File -> Trust notebook). If you are viewing\n",
       "  this notebook on github the Javascript has been stripped for security. If you are using\n",
       "  JupyterLab this error is because a JupyterLab extension has not yet been written.\n",
       "</div></div>\n",
       " <script>\n",
       "   if (window.SHAP) SHAP.ReactDom.render(\n",
       "    SHAP.React.createElement(SHAP.AdditiveForceVisualizer, {\"outNames\": [\"f(x)\"], \"baseValue\": -4.573199272155762, \"outValue\": -0.6123356819152832, \"link\": \"identity\", \"featureNames\": [\"ttv_count\", \"Avg_arm_per_day\", \"hsic_count\", \"Best_Practices_3\", \"Best_Practices_5\", \"Tenure_months\", \"Best_Practices_1\", \"Contract_start_months\", \"Avg_FFH_ARPU\", \"Best_Practices_6\", \"Best_Practice_All\", \"Avg_login_per_day\", \"stv_count\", \"Avg_SMHM_ARPU\", \"Best_Practices_2\", \"Best_Practices_4\", \"diic_count\", \"Avg_disarm_per_day\", \"login_consistency\", \"sing_count\", \"arming_consistency\", \"product_mix_all\", \"contract_end_status__contract_expired\", \"contract_end_status__contract_expiring_after_90_days\", \"contract_end_status__contract_expiring_within_90_days\", \"Package__Monitored\", \"Package__Smart_Automation_Plus\", \"Package__Smart_Camera\"], \"features\": {\"0\": {\"effect\": 0.00558271910995245, \"value\": 0}, \"1\": {\"effect\": 0.05196753889322281, \"value\": 0.0}, \"2\": {\"effect\": 0.17447791993618011, \"value\": 0}, \"3\": {\"effect\": 0.004772399086505175, \"value\": 0}, \"4\": {\"effect\": -0.01800689846277237, \"value\": 0}, \"5\": {\"effect\": 1.2341057062149048, \"value\": 0}, \"6\": {\"effect\": 0.03585417568683624, \"value\": 0}, \"7\": {\"effect\": 0.16328322887420654, \"value\": 0}, \"8\": {\"effect\": 0.2313816249370575, \"value\": 0.0}, \"9\": {\"effect\": -0.02139127068221569, \"value\": 0}, \"10\": {\"effect\": 0.08301803469657898, \"value\": 0}, \"11\": {\"effect\": 0.00991756096482277, \"value\": 2.0}, \"12\": {\"effect\": 0.0007628819439560175, \"value\": 0}, \"13\": {\"effect\": 0.28525158762931824, \"value\": 0.0}, \"14\": {\"effect\": -0.03120853379368782, \"value\": 0}, \"15\": {\"effect\": -0.0036657643504440784, \"value\": 0}, \"16\": {\"effect\": 0.011941949836909771, \"value\": 1}, \"17\": {\"effect\": 0.019143689423799515, \"value\": 0.0}, \"18\": {\"effect\": 1.1226985454559326, \"value\": 1.0}, \"19\": {\"effect\": -0.013829310424625874, \"value\": 0}, \"20\": {\"effect\": 0.156499981880188, \"value\": 0.0}, \"21\": {\"effect\": 0.12303449958562851, \"value\": 2}, \"22\": {\"effect\": -0.001786850392818451, \"value\": 0}, \"23\": {\"effect\": -0.050188153982162476, \"value\": 1}, \"24\": {\"effect\": 0.0063634286634624004, \"value\": 0}, \"25\": {\"effect\": 0.06395439058542252, \"value\": 0}, \"26\": {\"effect\": 0.012180051766335964, \"value\": 0}, \"27\": {\"effect\": 0.3047485947608948, \"value\": 1}}, \"plot_cmap\": \"RdBu\", \"labelMargin\": 20}),\n",
       "    document.getElementById('iXOJXYZSRUPKD2TXHJ9OS')\n",
       "  );\n",
       "</script>"
      ],
      "text/plain": [
       "<shap.plots._force.AdditiveForceVisualizer at 0x7fe5f44f2640>"
      ]
     },
     "execution_count": 342,
     "metadata": {},
     "output_type": "execute_result"
    }
   ],
   "source": [
    "shap.force_plot(explainer.expected_value, shap_values_local[idx], features=Full_DF_HRC[final_feature_cols].iloc[[idx]], feature_names=final_feature_cols)"
   ]
  },
  {
   "cell_type": "code",
   "execution_count": 453,
   "id": "4787c680-d458-4055-96bd-9067014fac65",
   "metadata": {},
   "outputs": [],
   "source": [
    "Full_DF_LRC=Full_DF[Full_DF['Churn_SD']==20]"
   ]
  },
  {
   "cell_type": "code",
   "execution_count": 454,
   "id": "d45aecea-26d7-4284-a15b-b16917214b4b",
   "metadata": {},
   "outputs": [
    {
     "name": "stderr",
     "output_type": "stream",
     "text": [
      "ntree_limit is deprecated, use `iteration_range` or model slicing instead.\n"
     ]
    },
    {
     "data": {
      "image/png": "[encoded data removed]",
      "text/plain": [
       "<Figure size 576x540 with 2 Axes>"
      ]
     },
     "metadata": {
      "needs_background": "light"
     },
     "output_type": "display_data"
    }
   ],
   "source": [
    "import shap\n",
    "# model_shap = XGB_final_model.best_estimator_\n",
    "explainer_LRC = shap.Explainer(modle_pickle)\n",
    "shap_values_local_LRC = explainer.shap_values(Full_DF_LRC[final_feature_cols],check_additivity=False)\n",
    "#%%\n",
    "\n",
    "shap.summary_plot(shap_values_local_LRC, features=Full_DF_LRC[final_feature_cols]\n",
    ", feature_names=final_feature_cols,show=False,max_display=15)"
   ]
  },
  {
   "cell_type": "code",
   "execution_count": 455,
   "id": "2c22ba18-d762-4013-a9c0-9fe14c92746d",
   "metadata": {},
   "outputs": [
    {
     "data": {
      "image/png": "[encoded data removed]",
      "text/plain": [
       "<Figure size 432x288 with 1 Axes>"
      ]
     },
     "metadata": {
      "needs_background": "light"
     },
     "output_type": "display_data"
    }
   ],
   "source": [
    "idx=50\n",
    "shap.plots._bar.bar_legacy(shap_values_local_LRC[idx],feature_names=final_feature_cols,show=True,max_display=10)"
   ]
  },
  {
   "cell_type": "code",
   "execution_count": 343,
   "id": "157dce57-4a57-41bf-a6c7-6ffe5dd766e8",
   "metadata": {},
   "outputs": [],
   "source": [
    "# shap.initjs()\n",
    "\n",
    "# shap.force_plot(explainer.expected_value[1], shap_values_local[1], Full_DF[final_feature_cols])"
   ]
  },
  {
   "cell_type": "code",
   "execution_count": 344,
   "id": "3f9d1bcb-64e3-4112-97b0-c8c30f724375",
   "metadata": {},
   "outputs": [],
   "source": [
    "\n",
    "# shap.plots.bar(shap_values_local[0]) # For the first observation\n",
    "# # shap.plots.waterfall(shap_values_local[1])"
   ]
  },
  {
   "cell_type": "code",
   "execution_count": 167,
   "id": "2106e6fd-6e62-41fb-99a8-bc2ace466c3a",
   "metadata": {},
   "outputs": [
    {
     "name": "stderr",
     "output_type": "stream",
     "text": [
      "ntree_limit is deprecated, use `iteration_range` or model slicing instead.\n"
     ]
    },
    {
     "ename": "IndexError",
     "evalue": "too many indices for array: array is 2-dimensional, but 3 were indexed",
     "output_type": "error",
     "traceback": [
      "\u001b[0;31m---------------------------------------------------------------------------\u001b[0m",
      "\u001b[0;31mIndexError\u001b[0m                                Traceback (most recent call last)",
      "Input \u001b[0;32mIn [167]\u001b[0m, in \u001b[0;36m<cell line: 13>\u001b[0;34m()\u001b[0m\n\u001b[1;32m      7\u001b[0m sv \u001b[38;5;241m=\u001b[39m explainer(X_pred\u001b[38;5;241m.\u001b[39miloc[[idx]])\n\u001b[1;32m      8\u001b[0m \u001b[38;5;66;03m# model_shap = XGB_final_model.best_estimator_\u001b[39;00m\n\u001b[1;32m      9\u001b[0m \u001b[38;5;66;03m# explainer = shap.TreeExplainer(modle_pickle)\u001b[39;00m\n\u001b[1;32m     10\u001b[0m \u001b[38;5;66;03m# shap_values_local = explainer.shap_values(Full_DF[final_feature_cols],check_additivity=False)\u001b[39;00m\n\u001b[1;32m     11\u001b[0m \u001b[38;5;66;03m#%%\u001b[39;00m\n\u001b[1;32m     13\u001b[0m exp \u001b[38;5;241m=\u001b[39m Explanation(\n\u001b[0;32m---> 14\u001b[0m     \u001b[43msv\u001b[49m\u001b[38;5;241;43m.\u001b[39;49m\u001b[43mvalues\u001b[49m\u001b[43m[\u001b[49m\u001b[43m:\u001b[49m\u001b[43m,\u001b[49m\u001b[43m \u001b[49m\u001b[43m:\u001b[49m\u001b[43m,\u001b[49m\u001b[43m \u001b[49m\u001b[38;5;241;43m1\u001b[39;49m\u001b[43m]\u001b[49m,         \u001b[38;5;66;03m# class to explain\u001b[39;00m\n\u001b[1;32m     15\u001b[0m     sv\u001b[38;5;241m.\u001b[39mbase_values[:, \u001b[38;5;241m1\u001b[39m],\n\u001b[1;32m     16\u001b[0m     data\u001b[38;5;241m=\u001b[39mFX_pred\u001b[38;5;241m.\u001b[39miloc[[idx]]\u001b[38;5;241m.\u001b[39mvalues,   \u001b[38;5;66;03m# corrected, pass the row of interest as df\u001b[39;00m\n\u001b[1;32m     17\u001b[0m     feature_names\u001b[38;5;241m=\u001b[39mfinal_feature_cols,\n\u001b[1;32m     18\u001b[0m )\n\u001b[1;32m     19\u001b[0m waterfall(exp[\u001b[38;5;241m0\u001b[39m])\n",
      "\u001b[0;31mIndexError\u001b[0m: too many indices for array: array is 2-dimensional, but 3 were indexed"
     ]
    }
   ],
   "source": [
    "import shap\n",
    "from shap import Explainer, Explanation\n",
    "from shap import waterfall_plot\n",
    "X_pred=Full_DF[final_feature_cols]\n",
    "idx = 9\n",
    "explainer = Explainer(modle_pickle)\n",
    "sv = explainer(X_pred.iloc[[idx]])\n",
    "# model_shap = XGB_final_model.best_estimator_\n",
    "# explainer = shap.TreeExplainer(modle_pickle)\n",
    "# shap_values_local = explainer.shap_values(Full_DF[final_feature_cols],check_additivity=False)\n",
    "#%%\n",
    "\n",
    "exp = Explanation(\n",
    "    sv.values[:, :, 1],         # class to explain\n",
    "    sv.base_values[:, 1],\n",
    "    data=FX_pred.iloc[[idx]].values,   # corrected, pass the row of interest as df\n",
    "    feature_names=final_feature_cols,\n",
    ")\n",
    "waterfall(exp[0])               # pretend you have only 1 data point which is 0th \n",
    "\n",
    "# shap.summary_plot(shap_values_local, features=Full_DF[final_feature_cols]\n",
    "# , feature_names=final_feature_cols,show=False,max_display=15)"
   ]
  },
  {
   "cell_type": "code",
   "execution_count": 161,
   "id": "10189840-588a-478d-bb4f-bc3d7dc27191",
   "metadata": {},
   "outputs": [
    {
     "ename": "KeyError",
     "evalue": "\"None of [Int64Index([0], dtype='int64')] are in the [index]\"",
     "output_type": "error",
     "traceback": [
      "\u001b[0;31m---------------------------------------------------------------------------\u001b[0m",
      "\u001b[0;31mKeyError\u001b[0m                                  Traceback (most recent call last)",
      "Input \u001b[0;32mIn [161]\u001b[0m, in \u001b[0;36m<cell line: 1>\u001b[0;34m()\u001b[0m\n\u001b[0;32m----> 1\u001b[0m \u001b[43mFull_DF\u001b[49m\u001b[43m[\u001b[49m\u001b[43mfinal_feature_cols\u001b[49m\u001b[43m]\u001b[49m\u001b[38;5;241;43m.\u001b[39;49m\u001b[43mloc\u001b[49m\u001b[43m[\u001b[49m\u001b[43m[\u001b[49m\u001b[38;5;241;43m0\u001b[39;49m\u001b[43m]\u001b[49m\u001b[43m]\u001b[49m\n",
      "File \u001b[0;32m/opt/conda/lib/python3.8/site-packages/pandas/core/indexing.py:967\u001b[0m, in \u001b[0;36m_LocationIndexer.__getitem__\u001b[0;34m(self, key)\u001b[0m\n\u001b[1;32m    964\u001b[0m axis \u001b[38;5;241m=\u001b[39m \u001b[38;5;28mself\u001b[39m\u001b[38;5;241m.\u001b[39maxis \u001b[38;5;129;01mor\u001b[39;00m \u001b[38;5;241m0\u001b[39m\n\u001b[1;32m    966\u001b[0m maybe_callable \u001b[38;5;241m=\u001b[39m com\u001b[38;5;241m.\u001b[39mapply_if_callable(key, \u001b[38;5;28mself\u001b[39m\u001b[38;5;241m.\u001b[39mobj)\n\u001b[0;32m--> 967\u001b[0m \u001b[38;5;28;01mreturn\u001b[39;00m \u001b[38;5;28;43mself\u001b[39;49m\u001b[38;5;241;43m.\u001b[39;49m\u001b[43m_getitem_axis\u001b[49m\u001b[43m(\u001b[49m\u001b[43mmaybe_callable\u001b[49m\u001b[43m,\u001b[49m\u001b[43m \u001b[49m\u001b[43maxis\u001b[49m\u001b[38;5;241;43m=\u001b[39;49m\u001b[43maxis\u001b[49m\u001b[43m)\u001b[49m\n",
      "File \u001b[0;32m/opt/conda/lib/python3.8/site-packages/pandas/core/indexing.py:1191\u001b[0m, in \u001b[0;36m_LocIndexer._getitem_axis\u001b[0;34m(self, key, axis)\u001b[0m\n\u001b[1;32m   1188\u001b[0m     \u001b[38;5;28;01mif\u001b[39;00m \u001b[38;5;28mhasattr\u001b[39m(key, \u001b[38;5;124m\"\u001b[39m\u001b[38;5;124mndim\u001b[39m\u001b[38;5;124m\"\u001b[39m) \u001b[38;5;129;01mand\u001b[39;00m key\u001b[38;5;241m.\u001b[39mndim \u001b[38;5;241m>\u001b[39m \u001b[38;5;241m1\u001b[39m:\n\u001b[1;32m   1189\u001b[0m         \u001b[38;5;28;01mraise\u001b[39;00m \u001b[38;5;167;01mValueError\u001b[39;00m(\u001b[38;5;124m\"\u001b[39m\u001b[38;5;124mCannot index with multidimensional key\u001b[39m\u001b[38;5;124m\"\u001b[39m)\n\u001b[0;32m-> 1191\u001b[0m     \u001b[38;5;28;01mreturn\u001b[39;00m \u001b[38;5;28;43mself\u001b[39;49m\u001b[38;5;241;43m.\u001b[39;49m\u001b[43m_getitem_iterable\u001b[49m\u001b[43m(\u001b[49m\u001b[43mkey\u001b[49m\u001b[43m,\u001b[49m\u001b[43m \u001b[49m\u001b[43maxis\u001b[49m\u001b[38;5;241;43m=\u001b[39;49m\u001b[43maxis\u001b[49m\u001b[43m)\u001b[49m\n\u001b[1;32m   1193\u001b[0m \u001b[38;5;66;03m# nested tuple slicing\u001b[39;00m\n\u001b[1;32m   1194\u001b[0m \u001b[38;5;28;01mif\u001b[39;00m is_nested_tuple(key, labels):\n",
      "File \u001b[0;32m/opt/conda/lib/python3.8/site-packages/pandas/core/indexing.py:1132\u001b[0m, in \u001b[0;36m_LocIndexer._getitem_iterable\u001b[0;34m(self, key, axis)\u001b[0m\n\u001b[1;32m   1129\u001b[0m \u001b[38;5;28mself\u001b[39m\u001b[38;5;241m.\u001b[39m_validate_key(key, axis)\n\u001b[1;32m   1131\u001b[0m \u001b[38;5;66;03m# A collection of keys\u001b[39;00m\n\u001b[0;32m-> 1132\u001b[0m keyarr, indexer \u001b[38;5;241m=\u001b[39m \u001b[38;5;28;43mself\u001b[39;49m\u001b[38;5;241;43m.\u001b[39;49m\u001b[43m_get_listlike_indexer\u001b[49m\u001b[43m(\u001b[49m\u001b[43mkey\u001b[49m\u001b[43m,\u001b[49m\u001b[43m \u001b[49m\u001b[43maxis\u001b[49m\u001b[43m)\u001b[49m\n\u001b[1;32m   1133\u001b[0m \u001b[38;5;28;01mreturn\u001b[39;00m \u001b[38;5;28mself\u001b[39m\u001b[38;5;241m.\u001b[39mobj\u001b[38;5;241m.\u001b[39m_reindex_with_indexers(\n\u001b[1;32m   1134\u001b[0m     {axis: [keyarr, indexer]}, copy\u001b[38;5;241m=\u001b[39m\u001b[38;5;28;01mTrue\u001b[39;00m, allow_dups\u001b[38;5;241m=\u001b[39m\u001b[38;5;28;01mTrue\u001b[39;00m\n\u001b[1;32m   1135\u001b[0m )\n",
      "File \u001b[0;32m/opt/conda/lib/python3.8/site-packages/pandas/core/indexing.py:1327\u001b[0m, in \u001b[0;36m_LocIndexer._get_listlike_indexer\u001b[0;34m(self, key, axis)\u001b[0m\n\u001b[1;32m   1324\u001b[0m ax \u001b[38;5;241m=\u001b[39m \u001b[38;5;28mself\u001b[39m\u001b[38;5;241m.\u001b[39mobj\u001b[38;5;241m.\u001b[39m_get_axis(axis)\n\u001b[1;32m   1325\u001b[0m axis_name \u001b[38;5;241m=\u001b[39m \u001b[38;5;28mself\u001b[39m\u001b[38;5;241m.\u001b[39mobj\u001b[38;5;241m.\u001b[39m_get_axis_name(axis)\n\u001b[0;32m-> 1327\u001b[0m keyarr, indexer \u001b[38;5;241m=\u001b[39m \u001b[43max\u001b[49m\u001b[38;5;241;43m.\u001b[39;49m\u001b[43m_get_indexer_strict\u001b[49m\u001b[43m(\u001b[49m\u001b[43mkey\u001b[49m\u001b[43m,\u001b[49m\u001b[43m \u001b[49m\u001b[43maxis_name\u001b[49m\u001b[43m)\u001b[49m\n\u001b[1;32m   1329\u001b[0m \u001b[38;5;28;01mreturn\u001b[39;00m keyarr, indexer\n",
      "File \u001b[0;32m/opt/conda/lib/python3.8/site-packages/pandas/core/indexes/base.py:5782\u001b[0m, in \u001b[0;36mIndex._get_indexer_strict\u001b[0;34m(self, key, axis_name)\u001b[0m\n\u001b[1;32m   5779\u001b[0m \u001b[38;5;28;01melse\u001b[39;00m:\n\u001b[1;32m   5780\u001b[0m     keyarr, indexer, new_indexer \u001b[38;5;241m=\u001b[39m \u001b[38;5;28mself\u001b[39m\u001b[38;5;241m.\u001b[39m_reindex_non_unique(keyarr)\n\u001b[0;32m-> 5782\u001b[0m \u001b[38;5;28;43mself\u001b[39;49m\u001b[38;5;241;43m.\u001b[39;49m\u001b[43m_raise_if_missing\u001b[49m\u001b[43m(\u001b[49m\u001b[43mkeyarr\u001b[49m\u001b[43m,\u001b[49m\u001b[43m \u001b[49m\u001b[43mindexer\u001b[49m\u001b[43m,\u001b[49m\u001b[43m \u001b[49m\u001b[43maxis_name\u001b[49m\u001b[43m)\u001b[49m\n\u001b[1;32m   5784\u001b[0m keyarr \u001b[38;5;241m=\u001b[39m \u001b[38;5;28mself\u001b[39m\u001b[38;5;241m.\u001b[39mtake(indexer)\n\u001b[1;32m   5785\u001b[0m \u001b[38;5;28;01mif\u001b[39;00m \u001b[38;5;28misinstance\u001b[39m(key, Index):\n\u001b[1;32m   5786\u001b[0m     \u001b[38;5;66;03m# GH 42790 - Preserve name from an Index\u001b[39;00m\n",
      "File \u001b[0;32m/opt/conda/lib/python3.8/site-packages/pandas/core/indexes/base.py:5842\u001b[0m, in \u001b[0;36mIndex._raise_if_missing\u001b[0;34m(self, key, indexer, axis_name)\u001b[0m\n\u001b[1;32m   5840\u001b[0m     \u001b[38;5;28;01mif\u001b[39;00m use_interval_msg:\n\u001b[1;32m   5841\u001b[0m         key \u001b[38;5;241m=\u001b[39m \u001b[38;5;28mlist\u001b[39m(key)\n\u001b[0;32m-> 5842\u001b[0m     \u001b[38;5;28;01mraise\u001b[39;00m \u001b[38;5;167;01mKeyError\u001b[39;00m(\u001b[38;5;124mf\u001b[39m\u001b[38;5;124m\"\u001b[39m\u001b[38;5;124mNone of [\u001b[39m\u001b[38;5;132;01m{\u001b[39;00mkey\u001b[38;5;132;01m}\u001b[39;00m\u001b[38;5;124m] are in the [\u001b[39m\u001b[38;5;132;01m{\u001b[39;00maxis_name\u001b[38;5;132;01m}\u001b[39;00m\u001b[38;5;124m]\u001b[39m\u001b[38;5;124m\"\u001b[39m)\n\u001b[1;32m   5844\u001b[0m not_found \u001b[38;5;241m=\u001b[39m \u001b[38;5;28mlist\u001b[39m(ensure_index(key)[missing_mask\u001b[38;5;241m.\u001b[39mnonzero()[\u001b[38;5;241m0\u001b[39m]]\u001b[38;5;241m.\u001b[39munique())\n\u001b[1;32m   5845\u001b[0m \u001b[38;5;28;01mraise\u001b[39;00m \u001b[38;5;167;01mKeyError\u001b[39;00m(\u001b[38;5;124mf\u001b[39m\u001b[38;5;124m\"\u001b[39m\u001b[38;5;132;01m{\u001b[39;00mnot_found\u001b[38;5;132;01m}\u001b[39;00m\u001b[38;5;124m not in index\u001b[39m\u001b[38;5;124m\"\u001b[39m)\n",
      "\u001b[0;31mKeyError\u001b[0m: \"None of [Int64Index([0], dtype='int64')] are in the [index]\""
     ]
    }
   ],
   "source": [
    "Full_DF[final_feature_cols].loc[[0]]"
   ]
  },
  {
   "cell_type": "code",
   "execution_count": 166,
   "id": "8eebbaa8-b0e6-454a-901a-d4c18e5ff7b4",
   "metadata": {},
   "outputs": [
    {
     "data": {
      "text/html": [
       "<div>\n",
       "<style scoped>\n",
       "    .dataframe tbody tr th:only-of-type {\n",
       "        vertical-align: middle;\n",
       "    }\n",
       "\n",
       "    .dataframe tbody tr th {\n",
       "        vertical-align: top;\n",
       "    }\n",
       "\n",
       "    .dataframe thead th {\n",
       "        text-align: right;\n",
       "    }\n",
       "</style>\n",
       "<table border=\"1\" class=\"dataframe\">\n",
       "  <thead>\n",
       "    <tr style=\"text-align: right;\">\n",
       "      <th></th>\n",
       "      <th>customer_id</th>\n",
       "      <th>dealer_customer_id</th>\n",
       "      <th>BAN</th>\n",
       "      <th>SMHM_Churn</th>\n",
       "      <th>ttv_count</th>\n",
       "      <th>Avg_arm_per_day</th>\n",
       "      <th>hsic_count</th>\n",
       "      <th>Best_Practices_3</th>\n",
       "      <th>Best_Practices_5</th>\n",
       "      <th>Tenure_months</th>\n",
       "      <th>...</th>\n",
       "      <th>arming_consistency</th>\n",
       "      <th>product_mix_all</th>\n",
       "      <th>contract_end_status__contract_expired</th>\n",
       "      <th>contract_end_status__contract_expiring_after_90_days</th>\n",
       "      <th>contract_end_status__contract_expiring_within_90_days</th>\n",
       "      <th>Package__Monitored</th>\n",
       "      <th>Package__Smart_Automation_Plus</th>\n",
       "      <th>Package__Smart_Camera</th>\n",
       "      <th>Churn_score</th>\n",
       "      <th>Churn_SD</th>\n",
       "    </tr>\n",
       "  </thead>\n",
       "  <tbody>\n",
       "    <tr>\n",
       "      <th>9</th>\n",
       "      <td>14874964</td>\n",
       "      <td>103411504</td>\n",
       "      <td>604915974</td>\n",
       "      <td>0</td>\n",
       "      <td>0</td>\n",
       "      <td>0.0</td>\n",
       "      <td>0</td>\n",
       "      <td>0</td>\n",
       "      <td>0</td>\n",
       "      <td>2</td>\n",
       "      <td>...</td>\n",
       "      <td>0.0</td>\n",
       "      <td>2</td>\n",
       "      <td>1</td>\n",
       "      <td>0</td>\n",
       "      <td>0</td>\n",
       "      <td>0</td>\n",
       "      <td>1</td>\n",
       "      <td>0</td>\n",
       "      <td>0.144503</td>\n",
       "      <td>1</td>\n",
       "    </tr>\n",
       "  </tbody>\n",
       "</table>\n",
       "<p>1 rows × 34 columns</p>\n",
       "</div>"
      ],
      "text/plain": [
       "   customer_id dealer_customer_id        BAN  SMHM_Churn  ttv_count  \\\n",
       "9     14874964          103411504  604915974           0          0   \n",
       "\n",
       "   Avg_arm_per_day  hsic_count  Best_Practices_3  Best_Practices_5  \\\n",
       "9              0.0           0                 0                 0   \n",
       "\n",
       "   Tenure_months  ...  arming_consistency  product_mix_all  \\\n",
       "9              2  ...                 0.0                2   \n",
       "\n",
       "   contract_end_status__contract_expired  \\\n",
       "9                                      1   \n",
       "\n",
       "   contract_end_status__contract_expiring_after_90_days  \\\n",
       "9                                                  0      \n",
       "\n",
       "   contract_end_status__contract_expiring_within_90_days  Package__Monitored  \\\n",
       "9                                                  0                       0   \n",
       "\n",
       "   Package__Smart_Automation_Plus  Package__Smart_Camera  Churn_score  \\\n",
       "9                               1                      0     0.144503   \n",
       "\n",
       "   Churn_SD  \n",
       "9         1  \n",
       "\n",
       "[1 rows x 34 columns]"
      ]
     },
     "execution_count": 166,
     "metadata": {},
     "output_type": "execute_result"
    }
   ],
   "source": [
    "Full_DF.iloc[[0]]"
   ]
  },
  {
   "cell_type": "code",
   "execution_count": null,
   "id": "88d13d64-4849-4400-a142-610c9be5ffb7",
   "metadata": {},
   "outputs": [],
   "source": [
    "exp = Explanation(sv[:,:,6], sv.base_values[:,6], X_train, feature_names=None)"
   ]
  },
  {
   "cell_type": "code",
   "execution_count": 145,
   "id": "52115b7c-9214-4ae9-be3b-5fd098ec547b",
   "metadata": {},
   "outputs": [
    {
     "data": {
      "text/plain": [
       "array([-4.42003720e-02, -5.20775979e-03,  7.32300282e-02, -1.17910991e-03,\n",
       "       -8.40417389e-03, -3.18821430e-01,  1.62857193e-02, -1.39016831e+00,\n",
       "       -2.04607844e-01, -2.94067096e-02, -2.19816975e-02,  8.26461017e-02,\n",
       "        7.04055943e-04, -8.92780442e-03,  3.89393717e-02, -1.91082302e-02,\n",
       "        1.04699265e-02,  9.14853625e-03, -2.99767315e-01, -8.34878534e-03,\n",
       "        2.93430507e-01, -1.50675774e-01, -5.26572056e-02,  5.14006197e-01,\n",
       "       -3.90582643e-02,  1.53252622e-02,  3.55479687e-01, -4.02908213e-03],\n",
       "      dtype=float32)"
      ]
     },
     "execution_count": 145,
     "metadata": {},
     "output_type": "execute_result"
    }
   ],
   "source": [
    "shap_values[0]"
   ]
  },
  {
   "cell_type": "code",
   "execution_count": null,
   "id": "792f270b-8643-45c5-8535-3fee9ef2a1cb",
   "metadata": {},
   "outputs": [],
   "source": []
  },
  {
   "cell_type": "code",
   "execution_count": 171,
   "id": "eb84ff44-0f24-479c-b84b-ee79da8f90f1",
   "metadata": {},
   "outputs": [
    {
     "ename": "AssertionError",
     "evalue": "You must pass an Explanation object, Cohorts object, or dictionary to bar plot!",
     "output_type": "error",
     "traceback": [
      "\u001b[0;31m---------------------------------------------------------------------------\u001b[0m",
      "\u001b[0;31mAssertionError\u001b[0m                            Traceback (most recent call last)",
      "Input \u001b[0;32mIn [171]\u001b[0m, in \u001b[0;36m<cell line: 1>\u001b[0;34m()\u001b[0m\n\u001b[0;32m----> 1\u001b[0m \u001b[43mshap\u001b[49m\u001b[38;5;241;43m.\u001b[39;49m\u001b[43mplots\u001b[49m\u001b[38;5;241;43m.\u001b[39;49m\u001b[43mbar\u001b[49m\u001b[43m(\u001b[49m\u001b[43mshap_values\u001b[49m\u001b[43m[\u001b[49m\u001b[38;5;241;43m0\u001b[39;49m\u001b[43m]\u001b[49m\u001b[43m)\u001b[49m\n",
      "File \u001b[0;32m/opt/conda/lib/python3.8/site-packages/shap/plots/_bar.py:51\u001b[0m, in \u001b[0;36mbar\u001b[0;34m(shap_values, max_display, order, clustering, clustering_cutoff, merge_cohorts, show_data, show)\u001b[0m\n\u001b[1;32m     49\u001b[0m     cohorts \u001b[38;5;241m=\u001b[39m shap_values\u001b[38;5;241m.\u001b[39mcohorts\n\u001b[1;32m     50\u001b[0m \u001b[38;5;28;01melse\u001b[39;00m:\n\u001b[0;32m---> 51\u001b[0m     \u001b[38;5;28;01massert\u001b[39;00m \u001b[38;5;28misinstance\u001b[39m(shap_values, \u001b[38;5;28mdict\u001b[39m), \u001b[38;5;124m\"\u001b[39m\u001b[38;5;124mYou must pass an Explanation object, Cohorts object, or dictionary to bar plot!\u001b[39m\u001b[38;5;124m\"\u001b[39m\n\u001b[1;32m     53\u001b[0m \u001b[38;5;66;03m# unpack our list of Explanation objects we need to plot\u001b[39;00m\n\u001b[1;32m     54\u001b[0m cohort_labels \u001b[38;5;241m=\u001b[39m \u001b[38;5;28mlist\u001b[39m(cohorts\u001b[38;5;241m.\u001b[39mkeys())\n",
      "\u001b[0;31mAssertionError\u001b[0m: You must pass an Explanation object, Cohorts object, or dictionary to bar plot!"
     ]
    }
   ],
   "source": []
  },
  {
   "cell_type": "code",
   "execution_count": null,
   "id": "cdc90497-90b8-45c8-acf8-efe74dc67898",
   "metadata": {},
   "outputs": [],
   "source": []
  }
 ],
 "metadata": {
  "kernelspec": {
   "display_name": "Python 3 (ipykernel)",
   "language": "python",
   "name": "python3"
  },
  "language_info": {
   "codemirror_mode": {
    "name": "ipython",
    "version": 3
   },
   "file_extension": ".py",
   "mimetype": "text/x-python",
   "name": "python",
   "nbconvert_exporter": "python",
   "pygments_lexer": "ipython3",
   "version": "3.8.12"
  }
 },
 "nbformat": 4,
 "nbformat_minor": 5
}
