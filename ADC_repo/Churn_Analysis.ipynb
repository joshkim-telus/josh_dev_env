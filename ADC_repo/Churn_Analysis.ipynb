{
 "cells": [
  {
   "cell_type": "code",
   "execution_count": null,
   "id": "0846ebb8-1335-4074-bd5b-9212d01b6735",
   "metadata": {},
   "outputs": [],
   "source": [
    "#### import global modules\n",
    "import os\n",
    "import sys\n",
    "import pandas as pd\n",
    "from pathlib import Path\n",
    "from yaml import safe_load\n",
    "import google.oauth2.credentials\n",
    "from google.cloud import bigquery\n",
    "\n",
    "# Set global vars\n",
    "pth_project = Path(os.getcwd().split('notebooks')[0])\n",
    "pth_data = pth_project / 'data'\n",
    "pth_queries = pth_project / 'core' / 'queries'\n",
    "pth_creds = pth_project / 'conf' / 'local' / 'project_config.yaml'\n",
    "sys.path.insert(0, str(pth_project))\n",
    "d_project_config = safe_load(pth_creds.open())\n",
    "# d_params = safe_load((pth_project / 'core' / 'parameters' / 'common.yaml').open())['data_extract']\n",
    "\n",
    "# import local modules\n",
    "from core.utils.gcp import connect_bq_services\n",
    "# from core.etl.extract import extract_bq_data, extract_pr_codes, format_conv_df, filter_convs\n",
    "\n",
    "# Connect to google services\n",
    "bq_client = connect_bq_services(d_project_config['gcp-project-name'])\n",
    "pd.options.display.max_rows = 100"
   ]
  },
  {
   "cell_type": "code",
   "execution_count": null,
   "id": "e10ac71f-a799-40a1-8dbb-1fba35939435",
   "metadata": {},
   "outputs": [],
   "source": [
    "def extract_bq_data(bq_client, sql=None, pth_query=None):\n",
    "    if sql is not None:\n",
    "        df = bq_client.query(sql).to_dataframe()\n",
    "    elif pth_query is not None:\n",
    "        sql = pth_query.read_text()\n",
    "        df = bq_client.query(sql).to_dataframe()\n",
    "    else:\n",
    "        raise ValueError('`sql` or `pth_query` should be set')  \n",
    "    return df"
   ]
  },
  {
   "cell_type": "code",
   "execution_count": null,
   "id": "7294debe-3a4f-4d22-8793-a223717e6e52",
   "metadata": {},
   "outputs": [],
   "source": [
    "Customer_Detail_Query= '''\n",
    "\n",
    "\n",
    "SELECT *  FROM `cio-datahub-enterprise-pr-183a.src_adc.bq_customer_account_details`\n",
    "Where last_updt_ts < '2022-09-01' and last_updt_ts >= '2022-08-01' \n",
    "--and join_date < '2022-05-01'\n",
    "QUALIFY ROW_NUMBER() OVER (PARTITION BY customer_id ORDER BY last_updt_ts DESC) = 1 --get the latest information of customer\n",
    "\n",
    "\n",
    "\n",
    "'''"
   ]
  },
  {
   "cell_type": "code",
   "execution_count": null,
   "id": "78fcff10-32dc-4ee7-8215-80aa1a008a50",
   "metadata": {},
   "outputs": [],
   "source": [
    "Customer_Details_DF= extract_bq_data(bq_client,sql=Customer_Detail_Query)"
   ]
  },
  {
   "cell_type": "code",
   "execution_count": null,
   "id": "d7dc9b7f-543a-4643-82ca-af48725998b0",
   "metadata": {},
   "outputs": [],
   "source": [
    "Customer_Details_DF.info()"
   ]
  },
  {
   "cell_type": "code",
   "execution_count": null,
   "id": "4e0922ff-8e9c-4f39-a1cd-521ae357d599",
   "metadata": {},
   "outputs": [],
   "source": [
    "Customer_Details_DF['account_type_name'].value_counts()"
   ]
  },
  {
   "cell_type": "code",
   "execution_count": null,
   "id": "6feb3a77-0fe3-4092-b75e-09755beb4197",
   "metadata": {},
   "outputs": [],
   "source": [
    "Customer_Details_DF['join_date'].min(),Customer_Details_DF['join_date'].max()"
   ]
  },
  {
   "cell_type": "code",
   "execution_count": null,
   "id": "9409bb89-f7d6-4a83-a954-d3965f7a57f7",
   "metadata": {},
   "outputs": [],
   "source": [
    "Customer_Details_DF['customer_type_name'].value_counts()"
   ]
  },
  {
   "cell_type": "code",
   "execution_count": null,
   "id": "7c8582e6-634f-4ca7-93d8-8138bac9eca4",
   "metadata": {},
   "outputs": [],
   "source": [
    "Customer_Details_DF['dealer_name'].value_counts()"
   ]
  },
  {
   "cell_type": "code",
   "execution_count": null,
   "id": "9d245722-99f8-439b-9a17-ca53e92033f1",
   "metadata": {},
   "outputs": [],
   "source": [
    "Customer_Details_DF['term_reason'].value_counts()"
   ]
  },
  {
   "cell_type": "code",
   "execution_count": null,
   "id": "79c03036-69d0-4abd-9429-e2d500592e39",
   "metadata": {},
   "outputs": [],
   "source": [
    "Customer_Details_DF['upsell_account_type'].value_counts()"
   ]
  },
  {
   "cell_type": "code",
   "execution_count": null,
   "id": "40fc7442-9c76-4770-aee1-9450ad4792d6",
   "metadata": {},
   "outputs": [],
   "source": [
    "Customer_Details_DF['account_recycle_reason_type_desc'].value_counts()"
   ]
  },
  {
   "cell_type": "code",
   "execution_count": null,
   "id": "09e73995-8093-415a-834a-7078935a794f",
   "metadata": {},
   "outputs": [],
   "source": [
    "Customer_Details_DF['dealer_customer_id'].value_counts()"
   ]
  },
  {
   "cell_type": "code",
   "execution_count": null,
   "id": "596cb57f-09f0-4bfe-8767-31c89c314aef",
   "metadata": {},
   "outputs": [],
   "source": [
    "Customer_Details_DF=Customer_Details_DF[Customer_Details_DF['account_type_name']!='Standalone']"
   ]
  },
  {
   "cell_type": "code",
   "execution_count": null,
   "id": "013a98b6-7eec-49a1-beb6-6047173047d2",
   "metadata": {},
   "outputs": [],
   "source": [
    "Customer_Details_DF=Customer_Details_DF[Customer_Details_DF['customer_type_name']=='Customer']"
   ]
  },
  {
   "cell_type": "code",
   "execution_count": null,
   "id": "531e2228-54ea-4c6d-9c4b-634342049feb",
   "metadata": {},
   "outputs": [],
   "source": [
    "Customer_Details_DF.info()"
   ]
  },
  {
   "cell_type": "code",
   "execution_count": null,
   "id": "5c09ce42-2259-4646-915a-4cbb4711ff5d",
   "metadata": {},
   "outputs": [],
   "source": [
    "Active_Customer_Aug2022= Customer_Details_DF[['customer_id','join_date','last_updt_ts','customer_type_name','dealer_name']]"
   ]
  },
  {
   "cell_type": "code",
   "execution_count": null,
   "id": "5aa1914e-7b90-4b24-b6cf-4f091f42e981",
   "metadata": {},
   "outputs": [],
   "source": [
    "Active_Customer_Aug2022.info()"
   ]
  },
  {
   "cell_type": "code",
   "execution_count": null,
   "id": "37832efa-4d73-4286-b0b1-f7e998f75958",
   "metadata": {},
   "outputs": [],
   "source": [
    "Active_Customer_Aug2022['dealer_name'].value_counts()"
   ]
  },
  {
   "cell_type": "code",
   "execution_count": null,
   "id": "6bff0ac0-93e3-4233-9912-188caf94011f",
   "metadata": {},
   "outputs": [],
   "source": [
    "Query_Termination_details='''\n",
    "\n",
    "select customer_id,term_date,term_reason from `cio-datahub-enterprise-pr-183a.src_adc.bq_customer_account_terminated_details`\n",
    "where term_date >= '2022-08-01' and term_date< '2022-09-01' \n",
    "\n",
    "'''"
   ]
  },
  {
   "cell_type": "code",
   "execution_count": null,
   "id": "248df883-9401-4f4d-a70d-69deacbac979",
   "metadata": {},
   "outputs": [],
   "source": [
    "Terminated_Account_Aug2022=extract_bq_data(bq_client,sql=Query_Termination_details)"
   ]
  },
  {
   "cell_type": "code",
   "execution_count": null,
   "id": "aa38ee38-51ca-4155-8cc3-e37cc246a490",
   "metadata": {},
   "outputs": [],
   "source": [
    "Terminated_Account_Aug2022['Account_terminated']=1"
   ]
  },
  {
   "cell_type": "code",
   "execution_count": null,
   "id": "1f0265d4-9cf0-46b2-b787-56319745260b",
   "metadata": {},
   "outputs": [],
   "source": [
    "Terminated_Account_Aug2022.info()"
   ]
  },
  {
   "cell_type": "code",
   "execution_count": null,
   "id": "6252ff9a-f073-4271-92da-0aac393098a4",
   "metadata": {},
   "outputs": [],
   "source": [
    "Terminated_Account_Aug2022.head()"
   ]
  },
  {
   "cell_type": "code",
   "execution_count": null,
   "id": "1e747b07-f54e-4166-938d-a64bec7cbb9d",
   "metadata": {},
   "outputs": [],
   "source": [
    "# Full_active_base_Aug2022=Active_Customer_Aug2022.merge(Terminated_Account_Aug2022,on='customer_id')"
   ]
  },
  {
   "cell_type": "code",
   "execution_count": null,
   "id": "e86b215d-356e-4604-876d-8a293ecb2846",
   "metadata": {},
   "outputs": [],
   "source": [
    "#"
   ]
  },
  {
   "cell_type": "code",
   "execution_count": null,
   "id": "2c9dd77a-4703-405b-b204-a0f09a40b7d8",
   "metadata": {},
   "outputs": [],
   "source": [
    "Trouble_condition_query='''\n",
    "\n",
    "\n",
    "select * from `divgpras-pr-579355.ADC.Trouble_Condition_Group`\n",
    "\n",
    "'''"
   ]
  },
  {
   "cell_type": "code",
   "execution_count": null,
   "id": "6d329c1d-9db6-4bd0-a74c-4292780343c0",
   "metadata": {},
   "outputs": [],
   "source": [
    "Trouble_condition_DF= extract_bq_data(bq_client,sql=Trouble_condition_query)"
   ]
  },
  {
   "cell_type": "code",
   "execution_count": null,
   "id": "333758e0-4e88-453c-925d-607762dffa1f",
   "metadata": {},
   "outputs": [],
   "source": [
    "Trouble_condition_DF.info()"
   ]
  },
  {
   "cell_type": "code",
   "execution_count": null,
   "id": "05a507f8-8879-4115-ba79-3e1a8adfb700",
   "metadata": {},
   "outputs": [],
   "source": [
    "Trouble_condition_DF.head()"
   ]
  },
  {
   "cell_type": "code",
   "execution_count": null,
   "id": "031414fa-8f6b-4ae3-b83e-6e024d3589e9",
   "metadata": {},
   "outputs": [],
   "source": [
    "Trouble_condition_DF=Trouble_condition_DF.sort_values(['customer_id','Month_Year'])"
   ]
  },
  {
   "cell_type": "code",
   "execution_count": null,
   "id": "db647947-8b00-4e66-9ce1-5a3ab3b7a646",
   "metadata": {},
   "outputs": [],
   "source": [
    "start_date = '2022-05-01'\n",
    "end_date = '2022-08-01'\n",
    "last_3months = (Trouble_condition_DF['Month_Year'] >= start_date) & (Trouble_condition_DF['Month_Year'] < end_date)"
   ]
  },
  {
   "cell_type": "code",
   "execution_count": null,
   "id": "122edd8f-4935-43c7-9241-d858507cdcce",
   "metadata": {},
   "outputs": [],
   "source": [
    "Trouble_condition_DF.head()"
   ]
  },
  {
   "cell_type": "code",
   "execution_count": null,
   "id": "ab2af274-2982-470b-a22c-975d093e13a5",
   "metadata": {},
   "outputs": [],
   "source": [
    "Trouble_condition_DF_1=Trouble_condition_DF[last_3months]"
   ]
  },
  {
   "cell_type": "code",
   "execution_count": null,
   "id": "74bf158e-f382-4302-964b-96ccd4f5f2e6",
   "metadata": {},
   "outputs": [],
   "source": [
    "Trouble_condition_DF_1.info()"
   ]
  },
  {
   "cell_type": "code",
   "execution_count": null,
   "id": "59d8326e-50a2-441b-bf42-8b96fe8ed04a",
   "metadata": {},
   "outputs": [],
   "source": [
    "Trouble_condition_DF_wide=Trouble_condition_DF_1.groupby(['customer_id']).agg({'Central_Station_Condition_Issue_count':'sum','Critical_System_Issue_count':'sum','Engagement_Issue_count':'sum','System_Condition_Issue_count':'sum','Central_Station_Condition_Issue_duration_mean_hours':'sum','Critical_System_Issue_duration_mean_hours':'sum','Engagement_Issue_duration_mean_hours':'sum','System_Condition_Issue_duration_mean_hours':'sum'}).reset_index()"
   ]
  },
  {
   "cell_type": "code",
   "execution_count": null,
   "id": "5bd6403c-c341-462a-8626-4bef264fd1d7",
   "metadata": {},
   "outputs": [],
   "source": [
    "Trouble_condition_DF[Trouble_condition_DF['customer_id']==287850]"
   ]
  },
  {
   "cell_type": "code",
   "execution_count": null,
   "id": "fbafb78a-3fe3-4527-ba8a-88e3a234243f",
   "metadata": {},
   "outputs": [],
   "source": [
    "Trouble_condition_DF_wide.head()"
   ]
  },
  {
   "cell_type": "code",
   "execution_count": null,
   "id": "15bb6f68-564b-4068-a6bb-dcf3d9264381",
   "metadata": {},
   "outputs": [],
   "source": [
    "Trouble_condition_DF_wide.columns\n",
    "    "
   ]
  },
  {
   "cell_type": "code",
   "execution_count": null,
   "id": "da7cf2ef-1976-4929-a250-aa43101bffc0",
   "metadata": {},
   "outputs": [],
   "source": [
    "Trouble_condition_DF_wide.columns=['customer_id',\n",
    "'Central_Station_Condition_Issue_count_last3M',\n",
    "'Critical_System_Issue_count_last3M', \n",
    "'Engagement_Issue_count_last3M',\n",
    "'System_Condition_Issue_count_last3M',\n",
    "'Central_Station_Condition_Issue_duration_mean_hours_sum_last3M',\n",
    "'Critical_System_Issue_duration_mean_hours_sum_last3M',\n",
    "'Engagement_Issue_duration_mean_hours_sum_last3M',\n",
    "'System_Condition_Issue_duration_mean_hours_sum_last3M']"
   ]
  },
  {
   "cell_type": "code",
   "execution_count": null,
   "id": "4fc0285d-2706-4fcf-a0da-bc172956f22a",
   "metadata": {},
   "outputs": [],
   "source": [
    "Trouble_condition_DF_wide.head()"
   ]
  },
  {
   "cell_type": "code",
   "execution_count": null,
   "id": "adb364bc-25af-47a6-92da-2ea0baee4595",
   "metadata": {},
   "outputs": [],
   "source": [
    "Trouble_condition_DF_wide['ref_date']=pd.to_datetime('2022-08-01')"
   ]
  },
  {
   "cell_type": "code",
   "execution_count": null,
   "id": "b1ab59e3-8526-4bf0-bbb9-809cf4f2de56",
   "metadata": {},
   "outputs": [],
   "source": [
    "## reordering dataframe\n",
    "Trouble_condition_DF_wide=Trouble_condition_DF_wide[['ref_date','customer_id',\n",
    "'Central_Station_Condition_Issue_count_last3M',\n",
    "'Critical_System_Issue_count_last3M', \n",
    "'Engagement_Issue_count_last3M',\n",
    "'System_Condition_Issue_count_last3M',\n",
    "'Central_Station_Condition_Issue_duration_mean_hours_sum_last3M',\n",
    "'Critical_System_Issue_duration_mean_hours_sum_last3M',\n",
    "'Engagement_Issue_duration_mean_hours_sum_last3M',\n",
    "'System_Condition_Issue_duration_mean_hours_sum_last3M']]"
   ]
  },
  {
   "cell_type": "code",
   "execution_count": null,
   "id": "188974d2-391b-453f-8bad-cafadca4c3d4",
   "metadata": {},
   "outputs": [],
   "source": [
    "Trouble_condition_DF_wide.head()"
   ]
  },
  {
   "cell_type": "code",
   "execution_count": null,
   "id": "8020ef5d-2f3a-4529-84e4-601e91c92a8d",
   "metadata": {},
   "outputs": [],
   "source": [
    "config= bigquery.job.LoadJobConfig()\n",
    "\n",
    "# config = bigquery.LoadJobConfig(\n",
    "    \n",
    "#         schema=[\n",
    "#         bigquery.SchemaField(\"Month_Year\", bigquery.SqlTypeNames.TIMESTAMP),\n",
    "#         bigquery.SchemaField(\"customer_id\", bigquery.SqlTypeNames.STRING),\n",
    "#         bigquery.SchemaField(\"Central_Station_Condition_diff_mean\", bigquery.SqlTypeNames.TIMESTAMP),\n",
    "#         bigquery.SchemaField(\"Critical_System_Issue_diff_mean\", bigquery.SqlTypeNames.TIMESTAMP),\n",
    "#         bigquery.SchemaField(\"Engagement_Issue_diff_mean\", bigquery.SqlTypeNames.TIMESTAMP),\n",
    "#         bigquery.SchemaField(\"System_Condition_diff_mean\", bigquery.SqlTypeNames.TIMESTAMP),\n",
    "#         bigquery.SchemaField(\"Central_Station_Condition_diff_count\", bigquery.SqlTypeNames.NUMERIC),\n",
    "#         bigquery.SchemaField(\"Critical_System_Issue_diff_count\", bigquery.SqlTypeNames.NUMERIC),\n",
    "#         bigquery.SchemaField(\"Engagement_Issue_diff_count\", bigquery.SqlTypeNames.NUMERIC),\n",
    "#         bigquery.SchemaField(\"System_Condition_count\", bigquery.SqlTypeNames.NUMERIC) \n",
    "#       ],\n",
    "#       time_partitioning=bigquery.TimePartitioning(\n",
    "#             field=\"Month_Year\"  # Name of the column to use for partitioning.\n",
    "#         ),\n",
    "#     )\n",
    "\n",
    "# config._properties['timePartitioning'] = {'field': 'Month_Year'}\n",
    "config.write_disposition = bigquery.WriteDisposition.WRITE_TRUNCATE\n",
    "\n",
    "\n",
    "TC_Table_BQ = 'ADC.Trouble_Condition_Group_last3months_Aug2022'\n",
    "\n",
    "job_device_type= bq_client.load_table_from_dataframe(Trouble_condition_DF_wide, TC_Table_BQ,job_config=config)"
   ]
  },
  {
   "cell_type": "code",
   "execution_count": null,
   "id": "7db8d2b2-9c08-46bc-b184-c4f663f5d59e",
   "metadata": {},
   "outputs": [],
   "source": []
  }
 ],
 "metadata": {
  "kernelspec": {
   "display_name": "Python 3 (ipykernel)",
   "language": "python",
   "name": "python3"
  },
  "language_info": {
   "codemirror_mode": {
    "name": "ipython",
    "version": 3
   },
   "file_extension": ".py",
   "mimetype": "text/x-python",
   "name": "python",
   "nbconvert_exporter": "python",
   "pygments_lexer": "ipython3",
   "version": "3.7.12"
  }
 },
 "nbformat": 4,
 "nbformat_minor": 5
}
