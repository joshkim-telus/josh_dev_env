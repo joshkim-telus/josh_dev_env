{
 "cells": [
  {
   "cell_type": "code",
   "execution_count": null,
   "id": "3112cf05-582a-447f-9a63-aa9926009572",
   "metadata": {},
   "outputs": [],
   "source": [
    "#### import global modules\n",
    "import os\n",
    "import sys\n",
    "import pandas as pd\n",
    "import numpy as np\n",
    "from pathlib import Path\n",
    "from yaml import safe_load\n",
    "import google.oauth2.credentials\n",
    "from google.cloud import bigquery\n",
    "import gc\n",
    "\n",
    "# Set global vars\n",
    "pth_project = Path(os.getcwd().split('notebooks')[0])\n",
    "pth_data = pth_project / 'data'\n",
    "pth_queries = pth_project / 'core' / 'queries'\n",
    "pth_creds = pth_project / 'conf' / 'local' / 'project_config.yaml'\n",
    "sys.path.insert(0, str(pth_project))\n",
    "d_project_config = safe_load(pth_creds.open())\n",
    "# d_params = safe_load((pth_project / 'core' / 'parameters' / 'common.yaml').open())['data_extract']\n",
    "\n",
    "# import local modules\n",
    "from core.utils.gcp import connect_bq_services\n",
    "# from core.etl.extract import extract_bq_data, extract_pr_codes, format_conv_df, filter_convs\n",
    "\n",
    "# Connect to google services\n",
    "bq_client = connect_bq_services(d_project_config['gcp-project-name'])\n",
    "pd.options.display.max_rows = 100"
   ]
  },
  {
   "cell_type": "code",
   "execution_count": null,
   "id": "de9d2e36-3b8c-48d2-9965-93d8b89f0c54",
   "metadata": {},
   "outputs": [],
   "source": [
    "def extract_bq_data(bq_client, sql=None, pth_query=None):\n",
    "    if sql is not None:\n",
    "        df = bq_client.query(sql).to_dataframe()\n",
    "    elif pth_query is not None:\n",
    "        sql = pth_query.read_text()\n",
    "        df = bq_client.query(sql).to_dataframe()\n",
    "    else:\n",
    "        raise ValueError('`sql` or `pth_query` should be set')  \n",
    "    return df"
   ]
  },
  {
   "cell_type": "code",
   "execution_count": null,
   "id": "a267ec39-d676-4f93-b549-d72653fc5873",
   "metadata": {},
   "outputs": [],
   "source": [
    "Campaign_Query='''\n",
    "\n",
    "\n",
    "select *\n",
    "from `cio-datahub-enterprise-pr-183a.ent_cust_intractn.bq_ffh_dbm`\n",
    "where \n",
    "--REGEXP_CONTAINS (creative_cd, r'ALR[1-9]_') and \n",
    "cmpgn_cd='HBUR' \n",
    "\n",
    "'''"
   ]
  },
  {
   "cell_type": "code",
   "execution_count": null,
   "id": "0c000476-6c56-4c0f-a86f-c7510cedad08",
   "metadata": {},
   "outputs": [],
   "source": [
    "Camp_DF=extract_bq_data(bq_client, sql=Campaign_Query)"
   ]
  },
  {
   "cell_type": "code",
   "execution_count": null,
   "id": "73a76803-6b14-4548-8aae-b2f07b3450f3",
   "metadata": {},
   "outputs": [],
   "source": [
    "Camp_DF.info()"
   ]
  },
  {
   "cell_type": "code",
   "execution_count": null,
   "id": "aef8bfff-3cca-4d27-a98f-6f60104a46ae",
   "metadata": {},
   "outputs": [],
   "source": [
    "Camp_DF['in_hm_dt'].value_counts()"
   ]
  },
  {
   "cell_type": "code",
   "execution_count": null,
   "id": "253a7edc-e235-4159-b17b-07d9cf010eb9",
   "metadata": {},
   "outputs": [],
   "source": [
    "Camp_DF['creative_cd'].value_counts()"
   ]
  },
  {
   "cell_type": "code",
   "execution_count": null,
   "id": "4df8a6f7-0f02-4af5-a08f-27ba3fcd8a3e",
   "metadata": {},
   "outputs": [],
   "source": [
    "pd.DataFrame(Camp_DF.groupby(['creative_cd']).agg(\n",
    "    \n",
    "    Customer_count= ('bus_bacct_num','count'),\n",
    "    campaign_date_min=('in_hm_dt','min'),\n",
    "    campaign_date_max=('in_hm_dt','max')\n",
    "\n",
    "    \n",
    "    # # Customer_Share= ('customer_id',lambda x:x.count()*100/Merge_DF_4.shape[0])\n",
    "    # Churn_total=('Telus_Churn_Flag',lambda x: x.sum()),\n",
    "    # Churn_rate=('Telus_Churn_Flag',lambda x: x.mean()*100)\n",
    ").reset_index())"
   ]
  },
  {
   "cell_type": "code",
   "execution_count": null,
   "id": "f28037c9-10a1-4ba2-b816-f6eb360e10fc",
   "metadata": {},
   "outputs": [],
   "source": [
    "pd.DataFrame(Camp_DF.groupby(['creative_cd','ctrl_flg']).agg(\n",
    "    \n",
    "    Customer_count= ('bus_bacct_num','count'),\n",
    "    campaign_date_min=('in_hm_dt','min'),\n",
    "    campaign_date_max=('in_hm_dt','max')\n",
    "\n",
    "    \n",
    "    # # Customer_Share= ('customer_id',lambda x:x.count()*100/Merge_DF_4.shape[0])\n",
    "    # Churn_total=('Telus_Churn_Flag',lambda x: x.sum()),\n",
    "    # Churn_rate=('Telus_Churn_Flag',lambda x: x.mean()*100)\n",
    ").reset_index())"
   ]
  },
  {
   "cell_type": "code",
   "execution_count": null,
   "id": "ede14d88-4e6f-42ea-933c-b9a8013715b4",
   "metadata": {},
   "outputs": [],
   "source": [
    "Camp_DF['seg_desc'].value_counts()"
   ]
  },
  {
   "cell_type": "code",
   "execution_count": null,
   "id": "b8b97490-df3f-47f4-92e3-881dedd47624",
   "metadata": {},
   "outputs": [],
   "source": [
    "config= bigquery.job.LoadJobConfig()\n",
    "\n",
    "# config._properties['timePartitioning'] = {'field': 'Month_Year'}\n",
    "config.write_disposition = bigquery.WriteDisposition.WRITE_TRUNCATE\n",
    "\n",
    "Table_BQ = 'SHS.HBUR_Campaign_data'\n",
    "\n",
    "bq_table_instance= bq_client.load_table_from_dataframe(Camp_DF, Table_BQ,job_config=config)"
   ]
  },
  {
   "cell_type": "code",
   "execution_count": null,
   "id": "7f7f0eb2-1a08-44d8-a89c-444dab35fe23",
   "metadata": {},
   "outputs": [],
   "source": [
    "Camp_SAS=pd.read_csv('CAMPAIGN_HBUR_data_SAS.csv')"
   ]
  },
  {
   "cell_type": "code",
   "execution_count": null,
   "id": "15a81aed-eb55-47f9-bd69-382a183777f3",
   "metadata": {},
   "outputs": [],
   "source": [
    "Camp_SAS.info()"
   ]
  },
  {
   "cell_type": "code",
   "execution_count": null,
   "id": "b4b4d84d-0df4-49a4-8398-ef2b8e0851f9",
   "metadata": {},
   "outputs": [],
   "source": [
    "Camp_SAS['CAMP_CREATIVE'].value_counts()"
   ]
  },
  {
   "cell_type": "code",
   "execution_count": null,
   "id": "064409e7-9ec6-4952-9594-a655dc7dd67f",
   "metadata": {},
   "outputs": [],
   "source": [
    "pd.DataFrame(Camp_SAS.groupby(['CAMP_CREATIVE','CAMP_TEST']).agg(\n",
    "    \n",
    "    Customer_count= ('BACCT_NUM','nunique'),\n",
    "    Opened=('OPENED','sum')\n",
    "    \n",
    "    \n",
    "    # # Customer_Share= ('customer_id',lambda x:x.count()*100/Merge_DF_4.shape[0])\n",
    "    # Churn_total=('Telus_Churn_Flag',lambda x: x.sum()),\n",
    "    # Churn_rate=('Telus_Churn_Flag',lambda x: x.mean()*100)\n",
    ").reset_index())"
   ]
  },
  {
   "cell_type": "code",
   "execution_count": null,
   "id": "5056f829-a386-4ad8-b0c8-fa011a843e68",
   "metadata": {},
   "outputs": [],
   "source": [
    "def date_converter(x):\n",
    "    try:\n",
    "        return(pd.to_datetime(x, format='%d%b%Y:%H:%M:%S'))\n",
    "    except:\n",
    "        return x"
   ]
  },
  {
   "cell_type": "code",
   "execution_count": null,
   "id": "dbeea1fd-4eb7-4527-a24a-2c7f6559e685",
   "metadata": {},
   "outputs": [],
   "source": [
    "Camp_SAS['Campaign_date']=Camp_SAS['CAMP_INHOME'].apply(date_converter)"
   ]
  },
  {
   "cell_type": "code",
   "execution_count": null,
   "id": "c2be09ed-08a9-4b51-8f19-86f981c3b1d4",
   "metadata": {},
   "outputs": [],
   "source": [
    "Camp_SAS['Campaign_date'].value_counts()"
   ]
  },
  {
   "cell_type": "code",
   "execution_count": null,
   "id": "f8457a8f-24a5-4bf0-8a11-5f6ad91cdb5b",
   "metadata": {},
   "outputs": [],
   "source": [
    "config= bigquery.job.LoadJobConfig()\n",
    "\n",
    "# config._properties['timePartitioning'] = {'field': 'Month_Year'}\n",
    "config.write_disposition = bigquery.WriteDisposition.WRITE_TRUNCATE\n",
    "\n",
    "Table_BQ = 'SHS.HBUR_Campaign_data_SAS'\n",
    "\n",
    "bq_table_instance= bq_client.load_table_from_dataframe(Camp_SAS, Table_BQ,job_config=config)"
   ]
  },
  {
   "cell_type": "code",
   "execution_count": null,
   "id": "506d7662-b761-4d89-9bf1-596aab25a341",
   "metadata": {},
   "outputs": [],
   "source": [
    "ADC_NOOOCON=pd.read_csv('ADC Use Case-1 - Sheet1.csv')\n",
    "ADC_NOINCON=pd.read_csv('ADC Use Case-2 - Sheet1.csv')\n",
    "ADC_LOWINCON=pd.read_csv('ADC Use Case-3 - Sheet1.csv')"
   ]
  },
  {
   "cell_type": "code",
   "execution_count": null,
   "id": "9c34a5bc-fffa-425f-91b0-1336d342cc26",
   "metadata": {},
   "outputs": [],
   "source": [
    "ADC_NOOOCON['CAMP_CREATIVE']='ADCNOUSEOOC11.30.22'\n",
    "ADC_NOINCON['CAMP_CREATIVE']='ADCNOUSEINCON11.30.2'\n",
    "ADC_LOWINCON['CAMP_CREATIVE']='ADCLOWUSEINCON11.30.'"
   ]
  },
  {
   "cell_type": "code",
   "execution_count": null,
   "id": "6b3f4bea-4c6a-4ae9-8266-665916bac9e0",
   "metadata": {},
   "outputs": [],
   "source": [
    "ADC_Control=pd.concat([ADC_NOOOCON,ADC_NOINCON,ADC_LOWINCON])"
   ]
  },
  {
   "cell_type": "code",
   "execution_count": null,
   "id": "f39890e0-0f90-4eec-8881-d467bc997256",
   "metadata": {},
   "outputs": [],
   "source": [
    "ADC_Control.head()"
   ]
  },
  {
   "cell_type": "code",
   "execution_count": null,
   "id": "25c43849-f709-4fb7-81e5-7448dfcd2fcd",
   "metadata": {},
   "outputs": [],
   "source": [
    "ADC_Control_1=ADC_Control.merge(Camp_SAS[['BACCT_NUM']], how='left',left_on='BAN',right_on='BACCT_NUM')"
   ]
  },
  {
   "cell_type": "code",
   "execution_count": null,
   "id": "c2576f29-dfc5-4a9b-9b65-77c8853f54bb",
   "metadata": {},
   "outputs": [],
   "source": [
    "ADC_Control_1.head()"
   ]
  },
  {
   "cell_type": "code",
   "execution_count": null,
   "id": "ad634d97-1d0a-44ae-9138-d87391a30c9e",
   "metadata": {},
   "outputs": [],
   "source": [
    "ADC_Control_1.info()"
   ]
  },
  {
   "cell_type": "code",
   "execution_count": null,
   "id": "0d03fd41-01c7-4aae-99c7-e05b873e0f5c",
   "metadata": {},
   "outputs": [],
   "source": [
    "ADC_Control_1=ADC_Control_1[ADC_Control_1['BACCT_NUM'].isna()==1]"
   ]
  },
  {
   "cell_type": "code",
   "execution_count": null,
   "id": "7abba3a5-a934-41f4-bb50-6a5ef652c9f5",
   "metadata": {},
   "outputs": [],
   "source": [
    "ADC_Control_1.head()"
   ]
  },
  {
   "cell_type": "code",
   "execution_count": null,
   "id": "06588281-d29e-4ca6-bc4f-a8a669486e71",
   "metadata": {},
   "outputs": [],
   "source": [
    "ADC_Control_1.info()"
   ]
  },
  {
   "cell_type": "code",
   "execution_count": null,
   "id": "3d9030af-c182-4cb9-8146-cd2255589342",
   "metadata": {},
   "outputs": [],
   "source": [
    "ADC_Control_1['Experiment']='Control'"
   ]
  },
  {
   "cell_type": "code",
   "execution_count": null,
   "id": "8d044f8e-a6eb-47a2-9ffd-76ec5bfd883e",
   "metadata": {},
   "outputs": [],
   "source": [
    "ADC_Control_1.drop(['BACCT_NUM'],inplace=True,axis=1)"
   ]
  },
  {
   "cell_type": "code",
   "execution_count": null,
   "id": "d44a09ab-a295-4e35-a836-c1c1feaee1f6",
   "metadata": {},
   "outputs": [],
   "source": [
    "config= bigquery.job.LoadJobConfig()\n",
    "\n",
    "# config._properties['timePartitioning'] = {'field': 'Month_Year'}\n",
    "config.write_disposition = bigquery.WriteDisposition.WRITE_TRUNCATE\n",
    "\n",
    "Table_BQ = 'SHS.HBUR_Control_data'\n",
    "\n",
    "bq_table_instance= bq_client.load_table_from_dataframe(ADC_Control_1, Table_BQ,job_config=config)"
   ]
  },
  {
   "cell_type": "code",
   "execution_count": null,
   "id": "a6b5c578-cbe9-4bbe-a28b-70c872ab28ad",
   "metadata": {},
   "outputs": [],
   "source": [
    "ADC_Santa_Campaign_treatement=pd.read_csv('SantaCampaign_data_SAS.csv')\n",
    "\n",
    "ADC_Santa_Campaign_control=pd.read_csv('ADC -Santa Campaign Use Case - Sheet1.csv')"
   ]
  },
  {
   "cell_type": "code",
   "execution_count": null,
   "id": "4cd8e50b-1014-4165-b0d9-f521e830e89d",
   "metadata": {},
   "outputs": [],
   "source": [
    "ADC_Santa_Campaign_treatement.info()"
   ]
  },
  {
   "cell_type": "code",
   "execution_count": null,
   "id": "0bbb8ab7-af3c-4eea-97f3-5681e74f5a57",
   "metadata": {},
   "outputs": [],
   "source": [
    "ADC_Santa_Campaign_control['Experiment']='Control'"
   ]
  },
  {
   "cell_type": "code",
   "execution_count": null,
   "id": "7433c068-96e5-45b2-9039-dac42e76b5f0",
   "metadata": {},
   "outputs": [],
   "source": [
    "ADC_Santa_Campaign_treatement.head()"
   ]
  },
  {
   "cell_type": "code",
   "execution_count": null,
   "id": "7b45b589-7bb4-49f1-8abc-4c180c9679b0",
   "metadata": {},
   "outputs": [],
   "source": [
    "ADC_Santa_Campaign_control_1=ADC_Santa_Campaign_control.merge(ADC_Santa_Campaign_treatement[['BACCT_NUM']], how='left',left_on='BAN',right_on='BACCT_NUM')"
   ]
  },
  {
   "cell_type": "code",
   "execution_count": null,
   "id": "3d2356ee-74ba-4734-ab71-f04a48c40a79",
   "metadata": {},
   "outputs": [],
   "source": [
    "ADC_Santa_Campaign_control_1.info()"
   ]
  },
  {
   "cell_type": "code",
   "execution_count": null,
   "id": "a8d00b02-2f38-49ca-b4ef-1949d00cea92",
   "metadata": {},
   "outputs": [],
   "source": [
    "ADC_Santa_Campaign_control_1=ADC_Santa_Campaign_control_1[ADC_Santa_Campaign_control_1['BACCT_NUM'].isna()==True]"
   ]
  },
  {
   "cell_type": "code",
   "execution_count": null,
   "id": "1f83c4fd-737b-48b3-ac5f-285b5e2b923a",
   "metadata": {},
   "outputs": [],
   "source": [
    "ADC_Santa_Campaign_control_1.head()"
   ]
  },
  {
   "cell_type": "code",
   "execution_count": null,
   "id": "bf65bc8b-f1e0-4780-a6a5-78181b512853",
   "metadata": {},
   "outputs": [],
   "source": [
    "ADC_Santa_Campaign_control_1.drop(['BACCT_NUM'],inplace=True,axis=1)"
   ]
  },
  {
   "cell_type": "code",
   "execution_count": null,
   "id": "1dae8312-54c0-4abb-b64c-45a3cc11b51b",
   "metadata": {},
   "outputs": [],
   "source": [
    "ADC_Santa_Campaign_treatement_1=ADC_Santa_Campaign_treatement[['BACCT_NUM']]"
   ]
  },
  {
   "cell_type": "code",
   "execution_count": null,
   "id": "135d8280-adbb-486b-b8b5-32ccee5d361d",
   "metadata": {},
   "outputs": [],
   "source": [
    "ADC_Santa_Campaign_treatement_1.drop_duplicates(inplace=True)"
   ]
  },
  {
   "cell_type": "code",
   "execution_count": null,
   "id": "963a2957-4108-4267-88e0-b677773c2cf9",
   "metadata": {},
   "outputs": [],
   "source": [
    "ADC_Santa_Campaign_treatement_1['Experiment']='Treatment'"
   ]
  },
  {
   "cell_type": "code",
   "execution_count": null,
   "id": "ed1a2e08-dd09-4d64-9f4d-2fbab6079faa",
   "metadata": {},
   "outputs": [],
   "source": [
    "ADC_Santa_Campaign_treatement_1.info()"
   ]
  },
  {
   "cell_type": "code",
   "execution_count": null,
   "id": "71ab3eb0-f4a6-410b-ad9f-b8a6608838d4",
   "metadata": {},
   "outputs": [],
   "source": [
    "ADC_Santa_Campaign_treatement_1.rename({'BACCT_NUM':'BAN'},axis=1,inplace=True)"
   ]
  },
  {
   "cell_type": "code",
   "execution_count": null,
   "id": "ad81d961-1f8c-4de2-b7ca-6d6b867e661d",
   "metadata": {},
   "outputs": [],
   "source": [
    "ADC_Santa_Campaign_control_1.info()"
   ]
  },
  {
   "cell_type": "code",
   "execution_count": null,
   "id": "e91fccba-1388-4e4e-ae89-f43513cb34bd",
   "metadata": {},
   "outputs": [],
   "source": [
    "ADC_Santa_Campaign=pd.concat([ADC_Santa_Campaign_treatement_1,ADC_Santa_Campaign_control_1])"
   ]
  },
  {
   "cell_type": "code",
   "execution_count": null,
   "id": "c078da44-9b12-4a03-9992-23c5d1dcad73",
   "metadata": {},
   "outputs": [],
   "source": [
    "ADC_Santa_Campaign.head()"
   ]
  },
  {
   "cell_type": "code",
   "execution_count": null,
   "id": "4402db0c-5549-4416-9568-fc549b0e5cfc",
   "metadata": {},
   "outputs": [],
   "source": [
    "ADC_Santa_Campaign_1=ADC_Santa_Campaign[['BAN','CAMP_CREATIVE','Experiment']]"
   ]
  },
  {
   "cell_type": "code",
   "execution_count": null,
   "id": "5ad1cd0c-1aa0-4f45-a48a-9349b03a0f37",
   "metadata": {},
   "outputs": [],
   "source": [
    "ADC_Santa_Campaign_1.head()"
   ]
  },
  {
   "cell_type": "code",
   "execution_count": null,
   "id": "6653d172-793e-4642-a3c9-2b64b8bb89cb",
   "metadata": {},
   "outputs": [],
   "source": [
    "ADC_Santa_Campaign['CAMP_CREATIVE']='Santa_Campaign'"
   ]
  },
  {
   "cell_type": "code",
   "execution_count": null,
   "id": "88c080f9-d7b8-4bb4-9641-d2195f228fc4",
   "metadata": {},
   "outputs": [],
   "source": [
    "config= bigquery.job.LoadJobConfig()\n",
    "\n",
    "# config._properties['timePartitioning'] = {'field': 'Month_Year'}\n",
    "config.write_disposition = bigquery.WriteDisposition.WRITE_TRUNCATE\n",
    "\n",
    "Table_BQ = 'SHS.Santa_Campaign'\n",
    "\n",
    "bq_table_instance= bq_client.load_table_from_dataframe(ADC_Santa_Campaign_1, Table_BQ,job_config=config)"
   ]
  },
  {
   "cell_type": "code",
   "execution_count": null,
   "id": "464adb69-9070-4678-9c02-8a176251652c",
   "metadata": {},
   "outputs": [],
   "source": []
  }
 ],
 "metadata": {
  "kernelspec": {
   "display_name": "Python 3 (ipykernel)",
   "language": "python",
   "name": "python3"
  },
  "language_info": {
   "codemirror_mode": {
    "name": "ipython",
    "version": 3
   },
   "file_extension": ".py",
   "mimetype": "text/x-python",
   "name": "python",
   "nbconvert_exporter": "python",
   "pygments_lexer": "ipython3",
   "version": "3.8.12"
  }
 },
 "nbformat": 4,
 "nbformat_minor": 5
}
