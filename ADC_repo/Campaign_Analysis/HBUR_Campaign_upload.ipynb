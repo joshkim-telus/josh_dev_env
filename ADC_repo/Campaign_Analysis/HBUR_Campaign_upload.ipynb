{
 "cells": [
  {
   "cell_type": "code",
   "execution_count": 37,
   "id": "3112cf05-582a-447f-9a63-aa9926009572",
   "metadata": {},
   "outputs": [],
   "source": [
    "#### import global modules\n",
    "import os\n",
    "import sys\n",
    "import pandas as pd\n",
    "import numpy as np\n",
    "from pathlib import Path\n",
    "from yaml import safe_load\n",
    "import google.oauth2.credentials\n",
    "from google.cloud import bigquery\n",
    "import gc\n",
    "\n",
    "# Set global vars\n",
    "pth_project = Path(os.getcwd().split('notebooks')[0])\n",
    "pth_data = pth_project / 'data'\n",
    "pth_queries = pth_project / 'core' / 'queries'\n",
    "pth_creds = pth_project / 'conf' / 'local' / 'project_config.yaml'\n",
    "sys.path.insert(0, str(pth_project))\n",
    "d_project_config = safe_load(pth_creds.open())\n",
    "# d_params = safe_load((pth_project / 'core' / 'parameters' / 'common.yaml').open())['data_extract']\n",
    "\n",
    "# import local modules\n",
    "from core.utils.gcp import connect_bq_services\n",
    "# from core.etl.extract import extract_bq_data, extract_pr_codes, format_conv_df, filter_convs\n",
    "\n",
    "# Connect to google services\n",
    "bq_client = connect_bq_services(d_project_config['gcp-project-name'])\n",
    "pd.options.display.max_rows = 100"
   ]
  },
  {
   "cell_type": "code",
   "execution_count": 38,
   "id": "de9d2e36-3b8c-48d2-9965-93d8b89f0c54",
   "metadata": {},
   "outputs": [],
   "source": [
    "def extract_bq_data(bq_client, sql=None, pth_query=None):\n",
    "    if sql is not None:\n",
    "        df = bq_client.query(sql).to_dataframe()\n",
    "    elif pth_query is not None:\n",
    "        sql = pth_query.read_text()\n",
    "        df = bq_client.query(sql).to_dataframe()\n",
    "    else:\n",
    "        raise ValueError('`sql` or `pth_query` should be set')  \n",
    "    return df"
   ]
  },
  {
   "cell_type": "code",
   "execution_count": 5,
   "id": "a267ec39-d676-4f93-b549-d72653fc5873",
   "metadata": {},
   "outputs": [],
   "source": [
    "Campaign_Query='''\n",
    "\n",
    "\n",
    "select *\n",
    "from `cio-datahub-enterprise-pr-183a.ent_cust_intractn.bq_ffh_dbm`\n",
    "where \n",
    "--REGEXP_CONTAINS (creative_cd, r'ALR[1-9]_') and \n",
    "cmpgn_cd='HBUR' \n",
    "\n",
    "'''"
   ]
  },
  {
   "cell_type": "code",
   "execution_count": 6,
   "id": "0c000476-6c56-4c0f-a86f-c7510cedad08",
   "metadata": {},
   "outputs": [],
   "source": [
    "Camp_DF=extract_bq_data(bq_client, sql=Campaign_Query)"
   ]
  },
  {
   "cell_type": "code",
   "execution_count": 7,
   "id": "73a76803-6b14-4548-8aae-b2f07b3450f3",
   "metadata": {},
   "outputs": [
    {
     "name": "stdout",
     "output_type": "stream",
     "text": [
      "<class 'pandas.core.frame.DataFrame'>\n",
      "RangeIndex: 4846 entries, 0 to 4845\n",
      "Data columns (total 81 columns):\n",
      " #   Column                   Non-Null Count  Dtype              \n",
      "---  ------                   --------------  -----              \n",
      " 0   seg_id                   4846 non-null   object             \n",
      " 1   cmpgn_id                 4846 non-null   object             \n",
      " 2   lang_cd                  4846 non-null   object             \n",
      " 3   seg_desc                 0 non-null      object             \n",
      " 4   vndr_cd                  4846 non-null   object             \n",
      " 5   vndr_cd_desc             4846 non-null   object             \n",
      " 6   cntct_med                4846 non-null   object             \n",
      " 7   cntct_med_desc           4846 non-null   object             \n",
      " 8   ctrl_flg                 4846 non-null   object             \n",
      " 9   creative_cd              4846 non-null   object             \n",
      " 10  creative_grp             0 non-null      object             \n",
      " 11  creative_desc            0 non-null      object             \n",
      " 12  in_hm_dt                 4846 non-null   datetime64[ns, UTC]\n",
      " 13  rqst_id                  4846 non-null   object             \n",
      " 14  lob_cd                   4846 non-null   object             \n",
      " 15  lob_desc                 4846 non-null   object             \n",
      " 16  seg_cd                   0 non-null      object             \n",
      " 17  trtmt_cd                 0 non-null      object             \n",
      " 18  offr_cd                  0 non-null      object             \n",
      " 19  audit_cd                 4846 non-null   object             \n",
      " 20  camp_seg_del_ind         4846 non-null   object             \n",
      " 21  camp_seg_create_ts       4846 non-null   datetime64[ns, UTC]\n",
      " 22  camp_seg_last_updt_ts    4846 non-null   datetime64[ns, UTC]\n",
      " 23  pull_dt                  4846 non-null   datetime64[ns, UTC]\n",
      " 24  excl_cntrct_strat        4846 non-null   object             \n",
      " 25  journey_seq_id           0 non-null      object             \n",
      " 26  journey_parent_id        0 non-null      object             \n",
      " 27  trkg_src                 4846 non-null   object             \n",
      " 28  trkg_cd                  4846 non-null   object             \n",
      " 29  list_num                 4846 non-null   object             \n",
      " 30  list_gen_stat            4846 non-null   object             \n",
      " 31  cmpgn_catgy              4846 non-null   object             \n",
      " 32  cmpgn_catgy_desc         4846 non-null   object             \n",
      " 33  cmpgn_cd                 4846 non-null   object             \n",
      " 34  cmpgn_cd_desc            4846 non-null   object             \n",
      " 35  one_src_link             0 non-null      object             \n",
      " 36  cmpgn_desc               4846 non-null   object             \n",
      " 37  cmpgn_typ                4846 non-null   object             \n",
      " 38  cmpgn_typ_desc           4846 non-null   object             \n",
      " 39  data_prime               4846 non-null   object             \n",
      " 40  bus_prime                4846 non-null   object             \n",
      " 41  camp_desc_audit_cd       0 non-null      object             \n",
      " 42  camp_desc_del_ind        4846 non-null   object             \n",
      " 43  camp_desc_create_ts      4846 non-null   datetime64[ns, UTC]\n",
      " 44  camp_desc_last_updt_ts   4846 non-null   datetime64[ns, UTC]\n",
      " 45  em_mstr_dl               4846 non-null   object             \n",
      " 46  sms_mstr_dl              0 non-null      object             \n",
      " 47  trkg_id                  4846 non-null   Int64              \n",
      " 48  camp_ts                  4846 non-null   datetime64[ns, UTC]\n",
      " 49  ffh_cust_id              4846 non-null   object             \n",
      " 50  ffh_ban                  4846 non-null   object             \n",
      " 51  subsc_num                3944 non-null   object             \n",
      " 52  email_id                 4846 non-null   object             \n",
      " 53  addr_id                  4757 non-null   object             \n",
      " 54  fms_addr_id              4846 non-null   object             \n",
      " 55  lang_pref_cd             0 non-null      object             \n",
      " 56  first_nm                 4846 non-null   object             \n",
      " 57  crtc_cmplnc_dt           0 non-null      dbdate             \n",
      " 58  sent_ts                  0 non-null      datetime64[ns, UTC]\n",
      " 59  camp_comm_audit_cd       4846 non-null   object             \n",
      " 60  camp_comm_del_ind        4846 non-null   object             \n",
      " 61  camp_comm_create_ts      4846 non-null   datetime64[ns, UTC]\n",
      " 62  camp_comm_last_updt_ts   4846 non-null   datetime64[ns, UTC]\n",
      " 63  tel_num                  4846 non-null   object             \n",
      " 64  mob_cust_id              0 non-null      object             \n",
      " 65  mob_ban                  4329 non-null   object             \n",
      " 66  ai_seg_id                0 non-null      Int64              \n",
      " 67  predict_convrsn          0 non-null      float64            \n",
      " 68  bus_prod_instnc_id       4846 non-null   object             \n",
      " 69  bus_prod_instnc_src_id   4846 non-null   Int64              \n",
      " 70  bus_cust_id              4846 non-null   object             \n",
      " 71  bus_cust_src_id          4846 non-null   Int64              \n",
      " 72  bus_bacct_num            4846 non-null   Int64              \n",
      " 73  bus_bacct_num_src_id     4846 non-null   Int64              \n",
      " 74  bus_pp_catlg_itm_cd      4846 non-null   object             \n",
      " 75  bus_pp_catlg_itm_src_id  4846 non-null   Int64              \n",
      " 76  src_create_dt            4846 non-null   dbdate             \n",
      " 77  create_ts                4846 non-null   datetime64[ns, UTC]\n",
      " 78  create_user_id           4846 non-null   object             \n",
      " 79  last_updt_ts             4846 non-null   datetime64[ns, UTC]\n",
      " 80  last_updt_user_id        4846 non-null   object             \n",
      "dtypes: Int64(7), datetime64[ns, UTC](12), dbdate(2), float64(1), object(59)\n",
      "memory usage: 3.0+ MB\n"
     ]
    }
   ],
   "source": [
    "Camp_DF.info()"
   ]
  },
  {
   "cell_type": "code",
   "execution_count": 8,
   "id": "aef8bfff-3cca-4d27-a98f-6f60104a46ae",
   "metadata": {},
   "outputs": [
    {
     "data": {
      "text/plain": [
       "2022-11-30 00:00:00+00:00    4846\n",
       "Name: in_hm_dt, dtype: int64"
      ]
     },
     "execution_count": 8,
     "metadata": {},
     "output_type": "execute_result"
    }
   ],
   "source": [
    "Camp_DF['in_hm_dt'].value_counts()"
   ]
  },
  {
   "cell_type": "code",
   "execution_count": 9,
   "id": "253a7edc-e235-4159-b17b-07d9cf010eb9",
   "metadata": {},
   "outputs": [
    {
     "data": {
      "text/plain": [
       "ADCNOUSEINCON11.30.2    1906\n",
       "ADCLOWUSEINCON11.30.    1697\n",
       "ADCNOUSEOOC11.30.22     1243\n",
       "Name: creative_cd, dtype: int64"
      ]
     },
     "execution_count": 9,
     "metadata": {},
     "output_type": "execute_result"
    }
   ],
   "source": [
    "Camp_DF['creative_cd'].value_counts()"
   ]
  },
  {
   "cell_type": "code",
   "execution_count": 10,
   "id": "4df8a6f7-0f02-4af5-a08f-27ba3fcd8a3e",
   "metadata": {},
   "outputs": [
    {
     "data": {
      "text/html": [
       "<div>\n",
       "<style scoped>\n",
       "    .dataframe tbody tr th:only-of-type {\n",
       "        vertical-align: middle;\n",
       "    }\n",
       "\n",
       "    .dataframe tbody tr th {\n",
       "        vertical-align: top;\n",
       "    }\n",
       "\n",
       "    .dataframe thead th {\n",
       "        text-align: right;\n",
       "    }\n",
       "</style>\n",
       "<table border=\"1\" class=\"dataframe\">\n",
       "  <thead>\n",
       "    <tr style=\"text-align: right;\">\n",
       "      <th></th>\n",
       "      <th>creative_cd</th>\n",
       "      <th>Customer_count</th>\n",
       "      <th>campaign_date_min</th>\n",
       "      <th>campaign_date_max</th>\n",
       "    </tr>\n",
       "  </thead>\n",
       "  <tbody>\n",
       "    <tr>\n",
       "      <th>0</th>\n",
       "      <td>ADCLOWUSEINCON11.30.</td>\n",
       "      <td>1697</td>\n",
       "      <td>2022-11-30 00:00:00+00:00</td>\n",
       "      <td>2022-11-30 00:00:00+00:00</td>\n",
       "    </tr>\n",
       "    <tr>\n",
       "      <th>1</th>\n",
       "      <td>ADCNOUSEINCON11.30.2</td>\n",
       "      <td>1906</td>\n",
       "      <td>2022-11-30 00:00:00+00:00</td>\n",
       "      <td>2022-11-30 00:00:00+00:00</td>\n",
       "    </tr>\n",
       "    <tr>\n",
       "      <th>2</th>\n",
       "      <td>ADCNOUSEOOC11.30.22</td>\n",
       "      <td>1243</td>\n",
       "      <td>2022-11-30 00:00:00+00:00</td>\n",
       "      <td>2022-11-30 00:00:00+00:00</td>\n",
       "    </tr>\n",
       "  </tbody>\n",
       "</table>\n",
       "</div>"
      ],
      "text/plain": [
       "            creative_cd  Customer_count         campaign_date_min  \\\n",
       "0  ADCLOWUSEINCON11.30.            1697 2022-11-30 00:00:00+00:00   \n",
       "1  ADCNOUSEINCON11.30.2            1906 2022-11-30 00:00:00+00:00   \n",
       "2   ADCNOUSEOOC11.30.22            1243 2022-11-30 00:00:00+00:00   \n",
       "\n",
       "          campaign_date_max  \n",
       "0 2022-11-30 00:00:00+00:00  \n",
       "1 2022-11-30 00:00:00+00:00  \n",
       "2 2022-11-30 00:00:00+00:00  "
      ]
     },
     "execution_count": 10,
     "metadata": {},
     "output_type": "execute_result"
    }
   ],
   "source": [
    "pd.DataFrame(Camp_DF.groupby(['creative_cd']).agg(\n",
    "    \n",
    "    Customer_count= ('bus_bacct_num','count'),\n",
    "    campaign_date_min=('in_hm_dt','min'),\n",
    "    campaign_date_max=('in_hm_dt','max')\n",
    "\n",
    "    \n",
    "    # # Customer_Share= ('customer_id',lambda x:x.count()*100/Merge_DF_4.shape[0])\n",
    "    # Churn_total=('Telus_Churn_Flag',lambda x: x.sum()),\n",
    "    # Churn_rate=('Telus_Churn_Flag',lambda x: x.mean()*100)\n",
    ").reset_index())"
   ]
  },
  {
   "cell_type": "code",
   "execution_count": 11,
   "id": "f28037c9-10a1-4ba2-b816-f6eb360e10fc",
   "metadata": {},
   "outputs": [
    {
     "data": {
      "text/html": [
       "<div>\n",
       "<style scoped>\n",
       "    .dataframe tbody tr th:only-of-type {\n",
       "        vertical-align: middle;\n",
       "    }\n",
       "\n",
       "    .dataframe tbody tr th {\n",
       "        vertical-align: top;\n",
       "    }\n",
       "\n",
       "    .dataframe thead th {\n",
       "        text-align: right;\n",
       "    }\n",
       "</style>\n",
       "<table border=\"1\" class=\"dataframe\">\n",
       "  <thead>\n",
       "    <tr style=\"text-align: right;\">\n",
       "      <th></th>\n",
       "      <th>creative_cd</th>\n",
       "      <th>ctrl_flg</th>\n",
       "      <th>Customer_count</th>\n",
       "      <th>campaign_date_min</th>\n",
       "      <th>campaign_date_max</th>\n",
       "    </tr>\n",
       "  </thead>\n",
       "  <tbody>\n",
       "    <tr>\n",
       "      <th>0</th>\n",
       "      <td>ADCLOWUSEINCON11.30.</td>\n",
       "      <td>N</td>\n",
       "      <td>1608</td>\n",
       "      <td>2022-11-30 00:00:00+00:00</td>\n",
       "      <td>2022-11-30 00:00:00+00:00</td>\n",
       "    </tr>\n",
       "    <tr>\n",
       "      <th>1</th>\n",
       "      <td>ADCLOWUSEINCON11.30.</td>\n",
       "      <td>Y</td>\n",
       "      <td>89</td>\n",
       "      <td>2022-11-30 00:00:00+00:00</td>\n",
       "      <td>2022-11-30 00:00:00+00:00</td>\n",
       "    </tr>\n",
       "    <tr>\n",
       "      <th>2</th>\n",
       "      <td>ADCNOUSEINCON11.30.2</td>\n",
       "      <td>N</td>\n",
       "      <td>1813</td>\n",
       "      <td>2022-11-30 00:00:00+00:00</td>\n",
       "      <td>2022-11-30 00:00:00+00:00</td>\n",
       "    </tr>\n",
       "    <tr>\n",
       "      <th>3</th>\n",
       "      <td>ADCNOUSEINCON11.30.2</td>\n",
       "      <td>Y</td>\n",
       "      <td>93</td>\n",
       "      <td>2022-11-30 00:00:00+00:00</td>\n",
       "      <td>2022-11-30 00:00:00+00:00</td>\n",
       "    </tr>\n",
       "    <tr>\n",
       "      <th>4</th>\n",
       "      <td>ADCNOUSEOOC11.30.22</td>\n",
       "      <td>N</td>\n",
       "      <td>1168</td>\n",
       "      <td>2022-11-30 00:00:00+00:00</td>\n",
       "      <td>2022-11-30 00:00:00+00:00</td>\n",
       "    </tr>\n",
       "    <tr>\n",
       "      <th>5</th>\n",
       "      <td>ADCNOUSEOOC11.30.22</td>\n",
       "      <td>Y</td>\n",
       "      <td>75</td>\n",
       "      <td>2022-11-30 00:00:00+00:00</td>\n",
       "      <td>2022-11-30 00:00:00+00:00</td>\n",
       "    </tr>\n",
       "  </tbody>\n",
       "</table>\n",
       "</div>"
      ],
      "text/plain": [
       "            creative_cd ctrl_flg  Customer_count         campaign_date_min  \\\n",
       "0  ADCLOWUSEINCON11.30.        N            1608 2022-11-30 00:00:00+00:00   \n",
       "1  ADCLOWUSEINCON11.30.        Y              89 2022-11-30 00:00:00+00:00   \n",
       "2  ADCNOUSEINCON11.30.2        N            1813 2022-11-30 00:00:00+00:00   \n",
       "3  ADCNOUSEINCON11.30.2        Y              93 2022-11-30 00:00:00+00:00   \n",
       "4   ADCNOUSEOOC11.30.22        N            1168 2022-11-30 00:00:00+00:00   \n",
       "5   ADCNOUSEOOC11.30.22        Y              75 2022-11-30 00:00:00+00:00   \n",
       "\n",
       "          campaign_date_max  \n",
       "0 2022-11-30 00:00:00+00:00  \n",
       "1 2022-11-30 00:00:00+00:00  \n",
       "2 2022-11-30 00:00:00+00:00  \n",
       "3 2022-11-30 00:00:00+00:00  \n",
       "4 2022-11-30 00:00:00+00:00  \n",
       "5 2022-11-30 00:00:00+00:00  "
      ]
     },
     "execution_count": 11,
     "metadata": {},
     "output_type": "execute_result"
    }
   ],
   "source": [
    "pd.DataFrame(Camp_DF.groupby(['creative_cd','ctrl_flg']).agg(\n",
    "    \n",
    "    Customer_count= ('bus_bacct_num','count'),\n",
    "    campaign_date_min=('in_hm_dt','min'),\n",
    "    campaign_date_max=('in_hm_dt','max')\n",
    "\n",
    "    \n",
    "    # # Customer_Share= ('customer_id',lambda x:x.count()*100/Merge_DF_4.shape[0])\n",
    "    # Churn_total=('Telus_Churn_Flag',lambda x: x.sum()),\n",
    "    # Churn_rate=('Telus_Churn_Flag',lambda x: x.mean()*100)\n",
    ").reset_index())"
   ]
  },
  {
   "cell_type": "code",
   "execution_count": 12,
   "id": "ede14d88-4e6f-42ea-933c-b9a8013715b4",
   "metadata": {},
   "outputs": [
    {
     "data": {
      "text/plain": [
       "Series([], Name: seg_desc, dtype: int64)"
      ]
     },
     "execution_count": 12,
     "metadata": {},
     "output_type": "execute_result"
    }
   ],
   "source": [
    "Camp_DF['seg_desc'].value_counts()"
   ]
  },
  {
   "cell_type": "code",
   "execution_count": 13,
   "id": "b8b97490-df3f-47f4-92e3-881dedd47624",
   "metadata": {},
   "outputs": [
    {
     "name": "stderr",
     "output_type": "stream",
     "text": [
      "/opt/conda/lib/python3.8/site-packages/google/cloud/bigquery/_pandas_helpers.py:558: UserWarning: Pyarrow could not determine the type of columns: seg_desc, creative_grp, creative_desc, seg_cd, trtmt_cd, offr_cd, journey_seq_id, journey_parent_id, one_src_link, camp_desc_audit_cd, sms_mstr_dl, lang_pref_cd, mob_cust_id.\n",
      "  warnings.warn(\n"
     ]
    }
   ],
   "source": [
    "config= bigquery.job.LoadJobConfig()\n",
    "\n",
    "# config._properties['timePartitioning'] = {'field': 'Month_Year'}\n",
    "config.write_disposition = bigquery.WriteDisposition.WRITE_TRUNCATE\n",
    "\n",
    "Table_BQ = 'SHS.HBUR_Campaign_data'\n",
    "\n",
    "bq_table_instance= bq_client.load_table_from_dataframe(Camp_DF, Table_BQ,job_config=config)"
   ]
  },
  {
   "cell_type": "code",
   "execution_count": 6,
   "id": "7f7f0eb2-1a08-44d8-a89c-444dab35fe23",
   "metadata": {},
   "outputs": [],
   "source": [
    "Camp_SAS=pd.read_csv('CAMPAIGN_HBUR_data_SAS.csv')"
   ]
  },
  {
   "cell_type": "code",
   "execution_count": 7,
   "id": "15a81aed-eb55-47f9-bd69-382a183777f3",
   "metadata": {},
   "outputs": [
    {
     "name": "stdout",
     "output_type": "stream",
     "text": [
      "<class 'pandas.core.frame.DataFrame'>\n",
      "RangeIndex: 4932 entries, 0 to 4931\n",
      "Data columns (total 51 columns):\n",
      " #   Column                  Non-Null Count  Dtype  \n",
      "---  ------                  --------------  -----  \n",
      " 0   TRACKING                4932 non-null   object \n",
      " 1   CAMP_INHOME             4932 non-null   object \n",
      " 2   CAMP_ID                 4932 non-null   object \n",
      " 3   DBM_VERSION             0 non-null      float64\n",
      " 4   DBM_VERSION_DESC        0 non-null      float64\n",
      " 5   CAMP_MODEL_DECILE       0 non-null      float64\n",
      " 6   MISC_INFO1              0 non-null      float64\n",
      " 7   MISC_INFO2              0 non-null      float64\n",
      " 8   MISC_INFO3              0 non-null      float64\n",
      " 9   MISC_INFO4              0 non-null      float64\n",
      " 10  CAMP_CREATIVE           4932 non-null   object \n",
      " 11  CAMP_CREATIVE_DESC      0 non-null      float64\n",
      " 12  CAMP_TEST               4932 non-null   object \n",
      " 13  DBM_PRIME               4932 non-null   object \n",
      " 14  CAMP_CONTACT            4932 non-null   object \n",
      " 15  CAMP_FILE               4932 non-null   int64  \n",
      " 16  REQUEST_ID              0 non-null      float64\n",
      " 17  DATE_ADDED_TO_CONTACTS  4932 non-null   object \n",
      " 18  MOB_CAMPAIGN_NUM        0 non-null      float64\n",
      " 19  MOB_LIST_NUM            0 non-null      float64\n",
      " 20  VENDOR_CODE             4932 non-null   object \n",
      " 21  EPP_IND                 4932 non-null   int64  \n",
      " 22  AGE_MARKET_SEG          0 non-null      float64\n",
      " 23  AGE_BAND                2734 non-null   object \n",
      " 24  MEASURE_BASE            4932 non-null   object \n",
      " 25  CUST_ID                 4932 non-null   int64  \n",
      " 26  BACCT_NUM               4932 non-null   int64  \n",
      " 27  TELENO                  4030 non-null   float64\n",
      " 28  CAMP_EMAIL              4932 non-null   object \n",
      " 29  FMS_ADDRESS_ID          4843 non-null   object \n",
      " 30  TRACKING_ID             4932 non-null   int64  \n",
      " 31  AI_SEGMENT_ID           0 non-null      float64\n",
      " 32  SEGMENT_ID              4932 non-null   int64  \n",
      " 33  DELIVERED               4932 non-null   int64  \n",
      " 34  OPENED                  4932 non-null   int64  \n",
      " 35  CLICKTHROUGH            4932 non-null   int64  \n",
      " 36  SOFTBOUNCE              4932 non-null   int64  \n",
      " 37  HARDBOUNCE              4932 non-null   int64  \n",
      " 38  UNSUBSCRIBE             4932 non-null   int64  \n",
      " 39  CREATE_TS               4932 non-null   object \n",
      " 40  LAST_UPDT_TS            4932 non-null   object \n",
      " 41  DEVICE                  2008 non-null   object \n",
      " 42  OPERATINGSYSTEM         1966 non-null   object \n",
      " 43  EMAILCLIENT             1555 non-null   object \n",
      " 44  CAMP_KEY                4932 non-null   object \n",
      " 45  LPDS_ID                 4843 non-null   float64\n",
      " 46  LIST_GEN_STATUS         4932 non-null   int64  \n",
      " 47  MIN_EVENT_DATE          4576 non-null   object \n",
      " 48  MAX_EVENT_DATE          4576 non-null   object \n",
      " 49  SNET_PREMISE_TYPE_CD    4839 non-null   object \n",
      " 50  LIST_NUMBER             4932 non-null   int64  \n",
      "dtypes: float64(15), int64(14), object(22)\n",
      "memory usage: 1.9+ MB\n"
     ]
    }
   ],
   "source": [
    "Camp_SAS.info()"
   ]
  },
  {
   "cell_type": "code",
   "execution_count": 8,
   "id": "b4b4d84d-0df4-49a4-8398-ef2b8e0851f9",
   "metadata": {},
   "outputs": [
    {
     "data": {
      "text/plain": [
       "ADCNOUSEINCON11.30.2    1950\n",
       "ADCLOWUSEINCON11.30.    1715\n",
       "ADCNOUSEOOC11.30.22     1267\n",
       "Name: CAMP_CREATIVE, dtype: int64"
      ]
     },
     "execution_count": 8,
     "metadata": {},
     "output_type": "execute_result"
    }
   ],
   "source": [
    "Camp_SAS['CAMP_CREATIVE'].value_counts()"
   ]
  },
  {
   "cell_type": "code",
   "execution_count": 9,
   "id": "064409e7-9ec6-4952-9594-a655dc7dd67f",
   "metadata": {},
   "outputs": [
    {
     "data": {
      "text/html": [
       "<div>\n",
       "<style scoped>\n",
       "    .dataframe tbody tr th:only-of-type {\n",
       "        vertical-align: middle;\n",
       "    }\n",
       "\n",
       "    .dataframe tbody tr th {\n",
       "        vertical-align: top;\n",
       "    }\n",
       "\n",
       "    .dataframe thead th {\n",
       "        text-align: right;\n",
       "    }\n",
       "</style>\n",
       "<table border=\"1\" class=\"dataframe\">\n",
       "  <thead>\n",
       "    <tr style=\"text-align: right;\">\n",
       "      <th></th>\n",
       "      <th>CAMP_CREATIVE</th>\n",
       "      <th>CAMP_TEST</th>\n",
       "      <th>Customer_count</th>\n",
       "      <th>Opened</th>\n",
       "    </tr>\n",
       "  </thead>\n",
       "  <tbody>\n",
       "    <tr>\n",
       "      <th>0</th>\n",
       "      <td>ADCLOWUSEINCON11.30.</td>\n",
       "      <td>C</td>\n",
       "      <td>90</td>\n",
       "      <td>0</td>\n",
       "    </tr>\n",
       "    <tr>\n",
       "      <th>1</th>\n",
       "      <td>ADCLOWUSEINCON11.30.</td>\n",
       "      <td>R</td>\n",
       "      <td>1625</td>\n",
       "      <td>675</td>\n",
       "    </tr>\n",
       "    <tr>\n",
       "      <th>2</th>\n",
       "      <td>ADCNOUSEINCON11.30.2</td>\n",
       "      <td>C</td>\n",
       "      <td>95</td>\n",
       "      <td>0</td>\n",
       "    </tr>\n",
       "    <tr>\n",
       "      <th>3</th>\n",
       "      <td>ADCNOUSEINCON11.30.2</td>\n",
       "      <td>R</td>\n",
       "      <td>1855</td>\n",
       "      <td>799</td>\n",
       "    </tr>\n",
       "    <tr>\n",
       "      <th>4</th>\n",
       "      <td>ADCNOUSEOOC11.30.22</td>\n",
       "      <td>C</td>\n",
       "      <td>77</td>\n",
       "      <td>0</td>\n",
       "    </tr>\n",
       "    <tr>\n",
       "      <th>5</th>\n",
       "      <td>ADCNOUSEOOC11.30.22</td>\n",
       "      <td>R</td>\n",
       "      <td>1190</td>\n",
       "      <td>534</td>\n",
       "    </tr>\n",
       "  </tbody>\n",
       "</table>\n",
       "</div>"
      ],
      "text/plain": [
       "          CAMP_CREATIVE CAMP_TEST  Customer_count  Opened\n",
       "0  ADCLOWUSEINCON11.30.         C              90       0\n",
       "1  ADCLOWUSEINCON11.30.         R            1625     675\n",
       "2  ADCNOUSEINCON11.30.2         C              95       0\n",
       "3  ADCNOUSEINCON11.30.2         R            1855     799\n",
       "4   ADCNOUSEOOC11.30.22         C              77       0\n",
       "5   ADCNOUSEOOC11.30.22         R            1190     534"
      ]
     },
     "execution_count": 9,
     "metadata": {},
     "output_type": "execute_result"
    }
   ],
   "source": [
    "pd.DataFrame(Camp_SAS.groupby(['CAMP_CREATIVE','CAMP_TEST']).agg(\n",
    "    \n",
    "    Customer_count= ('BACCT_NUM','nunique'),\n",
    "    Opened=('OPENED','sum')\n",
    "    \n",
    "    \n",
    "    # # Customer_Share= ('customer_id',lambda x:x.count()*100/Merge_DF_4.shape[0])\n",
    "    # Churn_total=('Telus_Churn_Flag',lambda x: x.sum()),\n",
    "    # Churn_rate=('Telus_Churn_Flag',lambda x: x.mean()*100)\n",
    ").reset_index())"
   ]
  },
  {
   "cell_type": "code",
   "execution_count": 10,
   "id": "5056f829-a386-4ad8-b0c8-fa011a843e68",
   "metadata": {},
   "outputs": [],
   "source": [
    "def date_converter(x):\n",
    "    try:\n",
    "        return(pd.to_datetime(x, format='%d%b%Y:%H:%M:%S'))\n",
    "    except:\n",
    "        return x"
   ]
  },
  {
   "cell_type": "code",
   "execution_count": 11,
   "id": "dbeea1fd-4eb7-4527-a24a-2c7f6559e685",
   "metadata": {},
   "outputs": [],
   "source": [
    "Camp_SAS['Campaign_date']=Camp_SAS['CAMP_INHOME'].apply(date_converter)"
   ]
  },
  {
   "cell_type": "code",
   "execution_count": 12,
   "id": "c2be09ed-08a9-4b51-8f19-86f981c3b1d4",
   "metadata": {},
   "outputs": [
    {
     "data": {
      "text/plain": [
       "2022-11-30    4932\n",
       "Name: Campaign_date, dtype: int64"
      ]
     },
     "execution_count": 12,
     "metadata": {},
     "output_type": "execute_result"
    }
   ],
   "source": [
    "Camp_SAS['Campaign_date'].value_counts()"
   ]
  },
  {
   "cell_type": "code",
   "execution_count": 20,
   "id": "f8457a8f-24a5-4bf0-8a11-5f6ad91cdb5b",
   "metadata": {},
   "outputs": [],
   "source": [
    "config= bigquery.job.LoadJobConfig()\n",
    "\n",
    "# config._properties['timePartitioning'] = {'field': 'Month_Year'}\n",
    "config.write_disposition = bigquery.WriteDisposition.WRITE_TRUNCATE\n",
    "\n",
    "Table_BQ = 'SHS.HBUR_Campaign_data_SAS'\n",
    "\n",
    "bq_table_instance= bq_client.load_table_from_dataframe(Camp_SAS, Table_BQ,job_config=config)"
   ]
  },
  {
   "cell_type": "code",
   "execution_count": 15,
   "id": "506d7662-b761-4d89-9bf1-596aab25a341",
   "metadata": {},
   "outputs": [],
   "source": [
    "ADC_NOOOCON=pd.read_csv('ADC Use Case-1 - Sheet1.csv')\n",
    "ADC_NOINCON=pd.read_csv('ADC Use Case-2 - Sheet1.csv')\n",
    "ADC_LOWINCON=pd.read_csv('ADC Use Case-3 - Sheet1.csv')"
   ]
  },
  {
   "cell_type": "code",
   "execution_count": 16,
   "id": "9c34a5bc-fffa-425f-91b0-1336d342cc26",
   "metadata": {},
   "outputs": [],
   "source": [
    "ADC_NOOOCON['CAMP_CREATIVE']='ADCNOUSEOOC11.30.22'\n",
    "ADC_NOINCON['CAMP_CREATIVE']='ADCNOUSEINCON11.30.2'\n",
    "ADC_LOWINCON['CAMP_CREATIVE']='ADCLOWUSEINCON11.30.'"
   ]
  },
  {
   "cell_type": "code",
   "execution_count": 17,
   "id": "6b3f4bea-4c6a-4ae9-8266-665916bac9e0",
   "metadata": {},
   "outputs": [],
   "source": [
    "ADC_Control=pd.concat([ADC_NOOOCON,ADC_NOINCON,ADC_LOWINCON])"
   ]
  },
  {
   "cell_type": "code",
   "execution_count": 18,
   "id": "f39890e0-0f90-4eec-8881-d467bc997256",
   "metadata": {},
   "outputs": [
    {
     "data": {
      "text/html": [
       "<div>\n",
       "<style scoped>\n",
       "    .dataframe tbody tr th:only-of-type {\n",
       "        vertical-align: middle;\n",
       "    }\n",
       "\n",
       "    .dataframe tbody tr th {\n",
       "        vertical-align: top;\n",
       "    }\n",
       "\n",
       "    .dataframe thead th {\n",
       "        text-align: right;\n",
       "    }\n",
       "</style>\n",
       "<table border=\"1\" class=\"dataframe\">\n",
       "  <thead>\n",
       "    <tr style=\"text-align: right;\">\n",
       "      <th></th>\n",
       "      <th>BAN</th>\n",
       "      <th>CAMP_CREATIVE</th>\n",
       "    </tr>\n",
       "  </thead>\n",
       "  <tbody>\n",
       "    <tr>\n",
       "      <th>0</th>\n",
       "      <td>602695078</td>\n",
       "      <td>ADCNOUSEOOC11.30.22</td>\n",
       "    </tr>\n",
       "    <tr>\n",
       "      <th>1</th>\n",
       "      <td>228855985</td>\n",
       "      <td>ADCNOUSEOOC11.30.22</td>\n",
       "    </tr>\n",
       "    <tr>\n",
       "      <th>2</th>\n",
       "      <td>602081872</td>\n",
       "      <td>ADCNOUSEOOC11.30.22</td>\n",
       "    </tr>\n",
       "    <tr>\n",
       "      <th>3</th>\n",
       "      <td>603332083</td>\n",
       "      <td>ADCNOUSEOOC11.30.22</td>\n",
       "    </tr>\n",
       "    <tr>\n",
       "      <th>4</th>\n",
       "      <td>603566649</td>\n",
       "      <td>ADCNOUSEOOC11.30.22</td>\n",
       "    </tr>\n",
       "  </tbody>\n",
       "</table>\n",
       "</div>"
      ],
      "text/plain": [
       "         BAN        CAMP_CREATIVE\n",
       "0  602695078  ADCNOUSEOOC11.30.22\n",
       "1  228855985  ADCNOUSEOOC11.30.22\n",
       "2  602081872  ADCNOUSEOOC11.30.22\n",
       "3  603332083  ADCNOUSEOOC11.30.22\n",
       "4  603566649  ADCNOUSEOOC11.30.22"
      ]
     },
     "execution_count": 18,
     "metadata": {},
     "output_type": "execute_result"
    }
   ],
   "source": [
    "ADC_Control.head()"
   ]
  },
  {
   "cell_type": "code",
   "execution_count": 24,
   "id": "25c43849-f709-4fb7-81e5-7448dfcd2fcd",
   "metadata": {},
   "outputs": [],
   "source": [
    "ADC_Control_1=ADC_Control.merge(Camp_SAS[['BACCT_NUM']], how='left',left_on='BAN',right_on='BACCT_NUM')"
   ]
  },
  {
   "cell_type": "code",
   "execution_count": 25,
   "id": "c2576f29-dfc5-4a9b-9b65-77c8853f54bb",
   "metadata": {},
   "outputs": [
    {
     "data": {
      "text/html": [
       "<div>\n",
       "<style scoped>\n",
       "    .dataframe tbody tr th:only-of-type {\n",
       "        vertical-align: middle;\n",
       "    }\n",
       "\n",
       "    .dataframe tbody tr th {\n",
       "        vertical-align: top;\n",
       "    }\n",
       "\n",
       "    .dataframe thead th {\n",
       "        text-align: right;\n",
       "    }\n",
       "</style>\n",
       "<table border=\"1\" class=\"dataframe\">\n",
       "  <thead>\n",
       "    <tr style=\"text-align: right;\">\n",
       "      <th></th>\n",
       "      <th>BAN</th>\n",
       "      <th>CAMP_CREATIVE</th>\n",
       "      <th>BACCT_NUM</th>\n",
       "    </tr>\n",
       "  </thead>\n",
       "  <tbody>\n",
       "    <tr>\n",
       "      <th>0</th>\n",
       "      <td>602695078</td>\n",
       "      <td>ADCNOUSEOOC11.30.22</td>\n",
       "      <td>NaN</td>\n",
       "    </tr>\n",
       "    <tr>\n",
       "      <th>1</th>\n",
       "      <td>228855985</td>\n",
       "      <td>ADCNOUSEOOC11.30.22</td>\n",
       "      <td>NaN</td>\n",
       "    </tr>\n",
       "    <tr>\n",
       "      <th>2</th>\n",
       "      <td>602081872</td>\n",
       "      <td>ADCNOUSEOOC11.30.22</td>\n",
       "      <td>NaN</td>\n",
       "    </tr>\n",
       "    <tr>\n",
       "      <th>3</th>\n",
       "      <td>603332083</td>\n",
       "      <td>ADCNOUSEOOC11.30.22</td>\n",
       "      <td>NaN</td>\n",
       "    </tr>\n",
       "    <tr>\n",
       "      <th>4</th>\n",
       "      <td>603566649</td>\n",
       "      <td>ADCNOUSEOOC11.30.22</td>\n",
       "      <td>NaN</td>\n",
       "    </tr>\n",
       "  </tbody>\n",
       "</table>\n",
       "</div>"
      ],
      "text/plain": [
       "         BAN        CAMP_CREATIVE  BACCT_NUM\n",
       "0  602695078  ADCNOUSEOOC11.30.22        NaN\n",
       "1  228855985  ADCNOUSEOOC11.30.22        NaN\n",
       "2  602081872  ADCNOUSEOOC11.30.22        NaN\n",
       "3  603332083  ADCNOUSEOOC11.30.22        NaN\n",
       "4  603566649  ADCNOUSEOOC11.30.22        NaN"
      ]
     },
     "execution_count": 25,
     "metadata": {},
     "output_type": "execute_result"
    }
   ],
   "source": [
    "ADC_Control_1.head()"
   ]
  },
  {
   "cell_type": "code",
   "execution_count": 26,
   "id": "ad634d97-1d0a-44ae-9138-d87391a30c9e",
   "metadata": {},
   "outputs": [
    {
     "name": "stdout",
     "output_type": "stream",
     "text": [
      "<class 'pandas.core.frame.DataFrame'>\n",
      "Int64Index: 19050 entries, 0 to 19049\n",
      "Data columns (total 3 columns):\n",
      " #   Column         Non-Null Count  Dtype  \n",
      "---  ------         --------------  -----  \n",
      " 0   BAN            19050 non-null  int64  \n",
      " 1   CAMP_CREATIVE  19050 non-null  object \n",
      " 2   BACCT_NUM      4932 non-null   float64\n",
      "dtypes: float64(1), int64(1), object(1)\n",
      "memory usage: 595.3+ KB\n"
     ]
    }
   ],
   "source": [
    "ADC_Control_1.info()"
   ]
  },
  {
   "cell_type": "code",
   "execution_count": 27,
   "id": "0d03fd41-01c7-4aae-99c7-e05b873e0f5c",
   "metadata": {},
   "outputs": [],
   "source": [
    "ADC_Control_1=ADC_Control_1[ADC_Control_1['BACCT_NUM'].isna()==1]"
   ]
  },
  {
   "cell_type": "code",
   "execution_count": 28,
   "id": "7abba3a5-a934-41f4-bb50-6a5ef652c9f5",
   "metadata": {},
   "outputs": [
    {
     "data": {
      "text/html": [
       "<div>\n",
       "<style scoped>\n",
       "    .dataframe tbody tr th:only-of-type {\n",
       "        vertical-align: middle;\n",
       "    }\n",
       "\n",
       "    .dataframe tbody tr th {\n",
       "        vertical-align: top;\n",
       "    }\n",
       "\n",
       "    .dataframe thead th {\n",
       "        text-align: right;\n",
       "    }\n",
       "</style>\n",
       "<table border=\"1\" class=\"dataframe\">\n",
       "  <thead>\n",
       "    <tr style=\"text-align: right;\">\n",
       "      <th></th>\n",
       "      <th>BAN</th>\n",
       "      <th>CAMP_CREATIVE</th>\n",
       "      <th>BACCT_NUM</th>\n",
       "    </tr>\n",
       "  </thead>\n",
       "  <tbody>\n",
       "    <tr>\n",
       "      <th>0</th>\n",
       "      <td>602695078</td>\n",
       "      <td>ADCNOUSEOOC11.30.22</td>\n",
       "      <td>NaN</td>\n",
       "    </tr>\n",
       "    <tr>\n",
       "      <th>1</th>\n",
       "      <td>228855985</td>\n",
       "      <td>ADCNOUSEOOC11.30.22</td>\n",
       "      <td>NaN</td>\n",
       "    </tr>\n",
       "    <tr>\n",
       "      <th>2</th>\n",
       "      <td>602081872</td>\n",
       "      <td>ADCNOUSEOOC11.30.22</td>\n",
       "      <td>NaN</td>\n",
       "    </tr>\n",
       "    <tr>\n",
       "      <th>3</th>\n",
       "      <td>603332083</td>\n",
       "      <td>ADCNOUSEOOC11.30.22</td>\n",
       "      <td>NaN</td>\n",
       "    </tr>\n",
       "    <tr>\n",
       "      <th>4</th>\n",
       "      <td>603566649</td>\n",
       "      <td>ADCNOUSEOOC11.30.22</td>\n",
       "      <td>NaN</td>\n",
       "    </tr>\n",
       "  </tbody>\n",
       "</table>\n",
       "</div>"
      ],
      "text/plain": [
       "         BAN        CAMP_CREATIVE  BACCT_NUM\n",
       "0  602695078  ADCNOUSEOOC11.30.22        NaN\n",
       "1  228855985  ADCNOUSEOOC11.30.22        NaN\n",
       "2  602081872  ADCNOUSEOOC11.30.22        NaN\n",
       "3  603332083  ADCNOUSEOOC11.30.22        NaN\n",
       "4  603566649  ADCNOUSEOOC11.30.22        NaN"
      ]
     },
     "execution_count": 28,
     "metadata": {},
     "output_type": "execute_result"
    }
   ],
   "source": [
    "ADC_Control_1.head()"
   ]
  },
  {
   "cell_type": "code",
   "execution_count": 34,
   "id": "06588281-d29e-4ca6-bc4f-a8a669486e71",
   "metadata": {},
   "outputs": [
    {
     "name": "stdout",
     "output_type": "stream",
     "text": [
      "<class 'pandas.core.frame.DataFrame'>\n",
      "Int64Index: 14118 entries, 0 to 19049\n",
      "Data columns (total 3 columns):\n",
      " #   Column         Non-Null Count  Dtype \n",
      "---  ------         --------------  ----- \n",
      " 0   BAN            14118 non-null  int64 \n",
      " 1   CAMP_CREATIVE  14118 non-null  object\n",
      " 2   Experiment     14118 non-null  object\n",
      "dtypes: int64(1), object(2)\n",
      "memory usage: 957.2+ KB\n"
     ]
    }
   ],
   "source": [
    "ADC_Control_1.info()"
   ]
  },
  {
   "cell_type": "code",
   "execution_count": 30,
   "id": "3d9030af-c182-4cb9-8146-cd2255589342",
   "metadata": {},
   "outputs": [],
   "source": [
    "ADC_Control_1['Experiment']='Control'"
   ]
  },
  {
   "cell_type": "code",
   "execution_count": 33,
   "id": "8d044f8e-a6eb-47a2-9ffd-76ec5bfd883e",
   "metadata": {},
   "outputs": [],
   "source": [
    "ADC_Control_1.drop(['BACCT_NUM'],inplace=True,axis=1)"
   ]
  },
  {
   "cell_type": "code",
   "execution_count": 36,
   "id": "d44a09ab-a295-4e35-a836-c1c1feaee1f6",
   "metadata": {},
   "outputs": [],
   "source": [
    "config= bigquery.job.LoadJobConfig()\n",
    "\n",
    "# config._properties['timePartitioning'] = {'field': 'Month_Year'}\n",
    "config.write_disposition = bigquery.WriteDisposition.WRITE_TRUNCATE\n",
    "\n",
    "Table_BQ = 'SHS.HBUR_Control_data'\n",
    "\n",
    "bq_table_instance= bq_client.load_table_from_dataframe(ADC_Control_1, Table_BQ,job_config=config)"
   ]
  },
  {
   "cell_type": "code",
   "execution_count": 39,
   "id": "a6b5c578-cbe9-4bbe-a28b-70c872ab28ad",
   "metadata": {},
   "outputs": [],
   "source": [
    "ADC_Santa_Campaign_treatement=pd.read_csv('SantaCampaign_data_SAS.csv')\n",
    "\n",
    "ADC_Santa_Campaign_control=pd.read_csv('ADC -Santa Campaign Use Case - Sheet1.csv')"
   ]
  },
  {
   "cell_type": "code",
   "execution_count": 57,
   "id": "4cd8e50b-1014-4165-b0d9-f521e830e89d",
   "metadata": {},
   "outputs": [
    {
     "name": "stdout",
     "output_type": "stream",
     "text": [
      "<class 'pandas.core.frame.DataFrame'>\n",
      "RangeIndex: 1966 entries, 0 to 1965\n",
      "Data columns (total 51 columns):\n",
      " #   Column                  Non-Null Count  Dtype  \n",
      "---  ------                  --------------  -----  \n",
      " 0   TRACKING                1966 non-null   object \n",
      " 1   CAMP_INHOME             1966 non-null   object \n",
      " 2   CAMP_ID                 1966 non-null   object \n",
      " 3   DBM_VERSION             0 non-null      float64\n",
      " 4   DBM_VERSION_DESC        0 non-null      float64\n",
      " 5   CAMP_MODEL_DECILE       0 non-null      float64\n",
      " 6   MISC_INFO1              0 non-null      float64\n",
      " 7   MISC_INFO2              0 non-null      float64\n",
      " 8   MISC_INFO3              0 non-null      float64\n",
      " 9   MISC_INFO4              0 non-null      float64\n",
      " 10  CAMP_CREATIVE           1966 non-null   object \n",
      " 11  CAMP_CREATIVE_DESC      0 non-null      float64\n",
      " 12  CAMP_TEST               1966 non-null   object \n",
      " 13  DBM_PRIME               1966 non-null   object \n",
      " 14  CAMP_CONTACT            1966 non-null   object \n",
      " 15  CAMP_FILE               1966 non-null   int64  \n",
      " 16  REQUEST_ID              0 non-null      float64\n",
      " 17  DATE_ADDED_TO_CONTACTS  1966 non-null   object \n",
      " 18  MOB_CAMPAIGN_NUM        0 non-null      float64\n",
      " 19  MOB_LIST_NUM            0 non-null      float64\n",
      " 20  VENDOR_CODE             1966 non-null   object \n",
      " 21  EPP_IND                 1966 non-null   int64  \n",
      " 22  AGE_MARKET_SEG          0 non-null      float64\n",
      " 23  AGE_BAND                719 non-null    object \n",
      " 24  MEASURE_BASE            1966 non-null   object \n",
      " 25  CUST_ID                 1966 non-null   int64  \n",
      " 26  BACCT_NUM               1966 non-null   int64  \n",
      " 27  TELENO                  1340 non-null   float64\n",
      " 28  CAMP_EMAIL              1966 non-null   object \n",
      " 29  FMS_ADDRESS_ID          1923 non-null   object \n",
      " 30  TRACKING_ID             1966 non-null   int64  \n",
      " 31  AI_SEGMENT_ID           0 non-null      float64\n",
      " 32  SEGMENT_ID              1966 non-null   int64  \n",
      " 33  DELIVERED               1966 non-null   int64  \n",
      " 34  OPENED                  1966 non-null   int64  \n",
      " 35  CLICKTHROUGH            1966 non-null   int64  \n",
      " 36  SOFTBOUNCE              1966 non-null   int64  \n",
      " 37  HARDBOUNCE              1966 non-null   int64  \n",
      " 38  UNSUBSCRIBE             1966 non-null   int64  \n",
      " 39  CREATE_TS               1966 non-null   object \n",
      " 40  LAST_UPDT_TS            1966 non-null   object \n",
      " 41  DEVICE                  803 non-null    object \n",
      " 42  OPERATINGSYSTEM         785 non-null    object \n",
      " 43  EMAILCLIENT             630 non-null    object \n",
      " 44  CAMP_KEY                1966 non-null   object \n",
      " 45  LPDS_ID                 1923 non-null   float64\n",
      " 46  LIST_GEN_STATUS         1966 non-null   int64  \n",
      " 47  MIN_EVENT_DATE          1854 non-null   object \n",
      " 48  MAX_EVENT_DATE          1854 non-null   object \n",
      " 49  SNET_PREMISE_TYPE_CD    1923 non-null   object \n",
      " 50  LIST_NUMBER             1966 non-null   int64  \n",
      "dtypes: float64(15), int64(14), object(22)\n",
      "memory usage: 783.5+ KB\n"
     ]
    }
   ],
   "source": [
    "ADC_Santa_Campaign_treatement.info()"
   ]
  },
  {
   "cell_type": "code",
   "execution_count": 44,
   "id": "0bbb8ab7-af3c-4eea-97f3-5681e74f5a57",
   "metadata": {},
   "outputs": [],
   "source": [
    "ADC_Santa_Campaign_control['Experiment']='Control'"
   ]
  },
  {
   "cell_type": "code",
   "execution_count": 40,
   "id": "7433c068-96e5-45b2-9039-dac42e76b5f0",
   "metadata": {},
   "outputs": [
    {
     "data": {
      "text/html": [
       "<div>\n",
       "<style scoped>\n",
       "    .dataframe tbody tr th:only-of-type {\n",
       "        vertical-align: middle;\n",
       "    }\n",
       "\n",
       "    .dataframe tbody tr th {\n",
       "        vertical-align: top;\n",
       "    }\n",
       "\n",
       "    .dataframe thead th {\n",
       "        text-align: right;\n",
       "    }\n",
       "</style>\n",
       "<table border=\"1\" class=\"dataframe\">\n",
       "  <thead>\n",
       "    <tr style=\"text-align: right;\">\n",
       "      <th></th>\n",
       "      <th>TRACKING</th>\n",
       "      <th>CAMP_INHOME</th>\n",
       "      <th>CAMP_ID</th>\n",
       "      <th>DBM_VERSION</th>\n",
       "      <th>DBM_VERSION_DESC</th>\n",
       "      <th>CAMP_MODEL_DECILE</th>\n",
       "      <th>MISC_INFO1</th>\n",
       "      <th>MISC_INFO2</th>\n",
       "      <th>MISC_INFO3</th>\n",
       "      <th>MISC_INFO4</th>\n",
       "      <th>...</th>\n",
       "      <th>DEVICE</th>\n",
       "      <th>OPERATINGSYSTEM</th>\n",
       "      <th>EMAILCLIENT</th>\n",
       "      <th>CAMP_KEY</th>\n",
       "      <th>LPDS_ID</th>\n",
       "      <th>LIST_GEN_STATUS</th>\n",
       "      <th>MIN_EVENT_DATE</th>\n",
       "      <th>MAX_EVENT_DATE</th>\n",
       "      <th>SNET_PREMISE_TYPE_CD</th>\n",
       "      <th>LIST_NUMBER</th>\n",
       "    </tr>\n",
       "  </thead>\n",
       "  <tbody>\n",
       "    <tr>\n",
       "      <th>0</th>\n",
       "      <td>FFH Contact</td>\n",
       "      <td>06DEC2022:00:00:00</td>\n",
       "      <td>ADC</td>\n",
       "      <td>NaN</td>\n",
       "      <td>NaN</td>\n",
       "      <td>NaN</td>\n",
       "      <td>NaN</td>\n",
       "      <td>NaN</td>\n",
       "      <td>NaN</td>\n",
       "      <td>NaN</td>\n",
       "      <td>...</td>\n",
       "      <td>NaN</td>\n",
       "      <td>NaN</td>\n",
       "      <td>NaN</td>\n",
       "      <td>**********************************************...</td>\n",
       "      <td>12811387.0</td>\n",
       "      <td>9</td>\n",
       "      <td>06DEC2022:00:00:00</td>\n",
       "      <td>06DEC2022:00:00:00</td>\n",
       "      <td>SFU</td>\n",
       "      <td>29042</td>\n",
       "    </tr>\n",
       "    <tr>\n",
       "      <th>1</th>\n",
       "      <td>FFH Contact</td>\n",
       "      <td>06DEC2022:00:00:00</td>\n",
       "      <td>ADC</td>\n",
       "      <td>NaN</td>\n",
       "      <td>NaN</td>\n",
       "      <td>NaN</td>\n",
       "      <td>NaN</td>\n",
       "      <td>NaN</td>\n",
       "      <td>NaN</td>\n",
       "      <td>NaN</td>\n",
       "      <td>...</td>\n",
       "      <td>unknown</td>\n",
       "      <td>Unknown</td>\n",
       "      <td>5.0</td>\n",
       "      <td>**********************************************...</td>\n",
       "      <td>21999017.0</td>\n",
       "      <td>9</td>\n",
       "      <td>06DEC2022:00:00:00</td>\n",
       "      <td>07DEC2022:00:00:00</td>\n",
       "      <td>SXU</td>\n",
       "      <td>29042</td>\n",
       "    </tr>\n",
       "    <tr>\n",
       "      <th>2</th>\n",
       "      <td>FFH Contact</td>\n",
       "      <td>06DEC2022:00:00:00</td>\n",
       "      <td>ADC</td>\n",
       "      <td>NaN</td>\n",
       "      <td>NaN</td>\n",
       "      <td>NaN</td>\n",
       "      <td>NaN</td>\n",
       "      <td>NaN</td>\n",
       "      <td>NaN</td>\n",
       "      <td>NaN</td>\n",
       "      <td>...</td>\n",
       "      <td>unknown</td>\n",
       "      <td>Unknown</td>\n",
       "      <td>5.0</td>\n",
       "      <td>**********************************************...</td>\n",
       "      <td>2022541.0</td>\n",
       "      <td>9</td>\n",
       "      <td>06DEC2022:00:00:00</td>\n",
       "      <td>07DEC2022:00:00:00</td>\n",
       "      <td>SFU</td>\n",
       "      <td>29042</td>\n",
       "    </tr>\n",
       "    <tr>\n",
       "      <th>3</th>\n",
       "      <td>FFH Contact</td>\n",
       "      <td>06DEC2022:00:00:00</td>\n",
       "      <td>ADC</td>\n",
       "      <td>NaN</td>\n",
       "      <td>NaN</td>\n",
       "      <td>NaN</td>\n",
       "      <td>NaN</td>\n",
       "      <td>NaN</td>\n",
       "      <td>NaN</td>\n",
       "      <td>NaN</td>\n",
       "      <td>...</td>\n",
       "      <td>unknown</td>\n",
       "      <td>Unknown</td>\n",
       "      <td>5.0</td>\n",
       "      <td>**********************************************...</td>\n",
       "      <td>18853324.0</td>\n",
       "      <td>9</td>\n",
       "      <td>06DEC2022:00:00:00</td>\n",
       "      <td>06DEC2022:00:00:00</td>\n",
       "      <td>MDU</td>\n",
       "      <td>29042</td>\n",
       "    </tr>\n",
       "    <tr>\n",
       "      <th>4</th>\n",
       "      <td>FFH Contact</td>\n",
       "      <td>06DEC2022:00:00:00</td>\n",
       "      <td>ADC</td>\n",
       "      <td>NaN</td>\n",
       "      <td>NaN</td>\n",
       "      <td>NaN</td>\n",
       "      <td>NaN</td>\n",
       "      <td>NaN</td>\n",
       "      <td>NaN</td>\n",
       "      <td>NaN</td>\n",
       "      <td>...</td>\n",
       "      <td>NaN</td>\n",
       "      <td>NaN</td>\n",
       "      <td>NaN</td>\n",
       "      <td>**********************************************...</td>\n",
       "      <td>13567026.0</td>\n",
       "      <td>9</td>\n",
       "      <td>06DEC2022:00:00:00</td>\n",
       "      <td>06DEC2022:00:00:00</td>\n",
       "      <td>SFU</td>\n",
       "      <td>29042</td>\n",
       "    </tr>\n",
       "  </tbody>\n",
       "</table>\n",
       "<p>5 rows × 51 columns</p>\n",
       "</div>"
      ],
      "text/plain": [
       "      TRACKING         CAMP_INHOME CAMP_ID  DBM_VERSION  DBM_VERSION_DESC  \\\n",
       "0  FFH Contact  06DEC2022:00:00:00     ADC          NaN               NaN   \n",
       "1  FFH Contact  06DEC2022:00:00:00     ADC          NaN               NaN   \n",
       "2  FFH Contact  06DEC2022:00:00:00     ADC          NaN               NaN   \n",
       "3  FFH Contact  06DEC2022:00:00:00     ADC          NaN               NaN   \n",
       "4  FFH Contact  06DEC2022:00:00:00     ADC          NaN               NaN   \n",
       "\n",
       "   CAMP_MODEL_DECILE  MISC_INFO1  MISC_INFO2  MISC_INFO3  MISC_INFO4  ...  \\\n",
       "0                NaN         NaN         NaN         NaN         NaN  ...   \n",
       "1                NaN         NaN         NaN         NaN         NaN  ...   \n",
       "2                NaN         NaN         NaN         NaN         NaN  ...   \n",
       "3                NaN         NaN         NaN         NaN         NaN  ...   \n",
       "4                NaN         NaN         NaN         NaN         NaN  ...   \n",
       "\n",
       "    DEVICE  OPERATINGSYSTEM EMAILCLIENT  \\\n",
       "0      NaN              NaN         NaN   \n",
       "1  unknown          Unknown         5.0   \n",
       "2  unknown          Unknown         5.0   \n",
       "3  unknown          Unknown         5.0   \n",
       "4      NaN              NaN         NaN   \n",
       "\n",
       "                                            CAMP_KEY     LPDS_ID  \\\n",
       "0  **********************************************...  12811387.0   \n",
       "1  **********************************************...  21999017.0   \n",
       "2  **********************************************...   2022541.0   \n",
       "3  **********************************************...  18853324.0   \n",
       "4  **********************************************...  13567026.0   \n",
       "\n",
       "   LIST_GEN_STATUS      MIN_EVENT_DATE      MAX_EVENT_DATE  \\\n",
       "0                9  06DEC2022:00:00:00  06DEC2022:00:00:00   \n",
       "1                9  06DEC2022:00:00:00  07DEC2022:00:00:00   \n",
       "2                9  06DEC2022:00:00:00  07DEC2022:00:00:00   \n",
       "3                9  06DEC2022:00:00:00  06DEC2022:00:00:00   \n",
       "4                9  06DEC2022:00:00:00  06DEC2022:00:00:00   \n",
       "\n",
       "   SNET_PREMISE_TYPE_CD  LIST_NUMBER  \n",
       "0                   SFU        29042  \n",
       "1                   SXU        29042  \n",
       "2                   SFU        29042  \n",
       "3                   MDU        29042  \n",
       "4                   SFU        29042  \n",
       "\n",
       "[5 rows x 51 columns]"
      ]
     },
     "execution_count": 40,
     "metadata": {},
     "output_type": "execute_result"
    }
   ],
   "source": [
    "ADC_Santa_Campaign_treatement.head()"
   ]
  },
  {
   "cell_type": "code",
   "execution_count": 45,
   "id": "7b45b589-7bb4-49f1-8abc-4c180c9679b0",
   "metadata": {},
   "outputs": [],
   "source": [
    "ADC_Santa_Campaign_control_1=ADC_Santa_Campaign_control.merge(ADC_Santa_Campaign_treatement[['BACCT_NUM']], how='left',left_on='BAN',right_on='BACCT_NUM')"
   ]
  },
  {
   "cell_type": "code",
   "execution_count": 50,
   "id": "3d2356ee-74ba-4734-ab71-f04a48c40a79",
   "metadata": {},
   "outputs": [
    {
     "name": "stdout",
     "output_type": "stream",
     "text": [
      "<class 'pandas.core.frame.DataFrame'>\n",
      "Int64Index: 4643 entries, 0 to 6998\n",
      "Data columns (total 3 columns):\n",
      " #   Column      Non-Null Count  Dtype  \n",
      "---  ------      --------------  -----  \n",
      " 0   BAN         4643 non-null   int64  \n",
      " 1   Experiment  4643 non-null   object \n",
      " 2   BACCT_NUM   0 non-null      float64\n",
      "dtypes: float64(1), int64(1), object(1)\n",
      "memory usage: 145.1+ KB\n"
     ]
    }
   ],
   "source": [
    "ADC_Santa_Campaign_control_1.info()"
   ]
  },
  {
   "cell_type": "code",
   "execution_count": 49,
   "id": "a8d00b02-2f38-49ca-b4ef-1949d00cea92",
   "metadata": {},
   "outputs": [],
   "source": [
    "ADC_Santa_Campaign_control_1=ADC_Santa_Campaign_control_1[ADC_Santa_Campaign_control_1['BACCT_NUM'].isna()==True]"
   ]
  },
  {
   "cell_type": "code",
   "execution_count": 51,
   "id": "1f83c4fd-737b-48b3-ac5f-285b5e2b923a",
   "metadata": {},
   "outputs": [
    {
     "data": {
      "text/html": [
       "<div>\n",
       "<style scoped>\n",
       "    .dataframe tbody tr th:only-of-type {\n",
       "        vertical-align: middle;\n",
       "    }\n",
       "\n",
       "    .dataframe tbody tr th {\n",
       "        vertical-align: top;\n",
       "    }\n",
       "\n",
       "    .dataframe thead th {\n",
       "        text-align: right;\n",
       "    }\n",
       "</style>\n",
       "<table border=\"1\" class=\"dataframe\">\n",
       "  <thead>\n",
       "    <tr style=\"text-align: right;\">\n",
       "      <th></th>\n",
       "      <th>BAN</th>\n",
       "      <th>Experiment</th>\n",
       "      <th>BACCT_NUM</th>\n",
       "    </tr>\n",
       "  </thead>\n",
       "  <tbody>\n",
       "    <tr>\n",
       "      <th>0</th>\n",
       "      <td>234349072</td>\n",
       "      <td>Control</td>\n",
       "      <td>NaN</td>\n",
       "    </tr>\n",
       "    <tr>\n",
       "      <th>1</th>\n",
       "      <td>123589978</td>\n",
       "      <td>Control</td>\n",
       "      <td>NaN</td>\n",
       "    </tr>\n",
       "    <tr>\n",
       "      <th>2</th>\n",
       "      <td>603968749</td>\n",
       "      <td>Control</td>\n",
       "      <td>NaN</td>\n",
       "    </tr>\n",
       "    <tr>\n",
       "      <th>3</th>\n",
       "      <td>604752063</td>\n",
       "      <td>Control</td>\n",
       "      <td>NaN</td>\n",
       "    </tr>\n",
       "    <tr>\n",
       "      <th>6</th>\n",
       "      <td>604143502</td>\n",
       "      <td>Control</td>\n",
       "      <td>NaN</td>\n",
       "    </tr>\n",
       "  </tbody>\n",
       "</table>\n",
       "</div>"
      ],
      "text/plain": [
       "         BAN Experiment  BACCT_NUM\n",
       "0  234349072    Control        NaN\n",
       "1  123589978    Control        NaN\n",
       "2  603968749    Control        NaN\n",
       "3  604752063    Control        NaN\n",
       "6  604143502    Control        NaN"
      ]
     },
     "execution_count": 51,
     "metadata": {},
     "output_type": "execute_result"
    }
   ],
   "source": [
    "ADC_Santa_Campaign_control_1.head()"
   ]
  },
  {
   "cell_type": "code",
   "execution_count": 52,
   "id": "bf65bc8b-f1e0-4780-a6a5-78181b512853",
   "metadata": {},
   "outputs": [],
   "source": [
    "ADC_Santa_Campaign_control_1.drop(['BACCT_NUM'],inplace=True,axis=1)"
   ]
  },
  {
   "cell_type": "code",
   "execution_count": 53,
   "id": "1dae8312-54c0-4abb-b64c-45a3cc11b51b",
   "metadata": {},
   "outputs": [],
   "source": [
    "ADC_Santa_Campaign_treatement_1=ADC_Santa_Campaign_treatement[['BACCT_NUM']]"
   ]
  },
  {
   "cell_type": "code",
   "execution_count": 54,
   "id": "135d8280-adbb-486b-b8b5-32ccee5d361d",
   "metadata": {},
   "outputs": [
    {
     "name": "stderr",
     "output_type": "stream",
     "text": [
      "/tmp/ipykernel_3177/2288063870.py:1: SettingWithCopyWarning: \n",
      "A value is trying to be set on a copy of a slice from a DataFrame\n",
      "\n",
      "See the caveats in the documentation: https://pandas.pydata.org/pandas-docs/stable/user_guide/indexing.html#returning-a-view-versus-a-copy\n",
      "  ADC_Santa_Campaign_treatement_1.drop_duplicates(inplace=True)\n"
     ]
    }
   ],
   "source": [
    "ADC_Santa_Campaign_treatement_1.drop_duplicates(inplace=True)"
   ]
  },
  {
   "cell_type": "code",
   "execution_count": 58,
   "id": "963a2957-4108-4267-88e0-b677773c2cf9",
   "metadata": {},
   "outputs": [
    {
     "name": "stderr",
     "output_type": "stream",
     "text": [
      "/tmp/ipykernel_3177/447852764.py:1: SettingWithCopyWarning: \n",
      "A value is trying to be set on a copy of a slice from a DataFrame.\n",
      "Try using .loc[row_indexer,col_indexer] = value instead\n",
      "\n",
      "See the caveats in the documentation: https://pandas.pydata.org/pandas-docs/stable/user_guide/indexing.html#returning-a-view-versus-a-copy\n",
      "  ADC_Santa_Campaign_treatement_1['Experiment']='Treatment'\n"
     ]
    }
   ],
   "source": [
    "ADC_Santa_Campaign_treatement_1['Experiment']='Treatment'"
   ]
  },
  {
   "cell_type": "code",
   "execution_count": 67,
   "id": "ed1a2e08-dd09-4d64-9f4d-2fbab6079faa",
   "metadata": {},
   "outputs": [
    {
     "name": "stdout",
     "output_type": "stream",
     "text": [
      "<class 'pandas.core.frame.DataFrame'>\n",
      "Int64Index: 1966 entries, 0 to 1965\n",
      "Data columns (total 2 columns):\n",
      " #   Column      Non-Null Count  Dtype \n",
      "---  ------      --------------  ----- \n",
      " 0   BAN         1966 non-null   int64 \n",
      " 1   Experiment  1966 non-null   object\n",
      "dtypes: int64(1), object(1)\n",
      "memory usage: 110.6+ KB\n"
     ]
    }
   ],
   "source": [
    "ADC_Santa_Campaign_treatement_1.info()"
   ]
  },
  {
   "cell_type": "code",
   "execution_count": 66,
   "id": "71ab3eb0-f4a6-410b-ad9f-b8a6608838d4",
   "metadata": {},
   "outputs": [
    {
     "name": "stderr",
     "output_type": "stream",
     "text": [
      "/tmp/ipykernel_3177/680434541.py:1: SettingWithCopyWarning: \n",
      "A value is trying to be set on a copy of a slice from a DataFrame\n",
      "\n",
      "See the caveats in the documentation: https://pandas.pydata.org/pandas-docs/stable/user_guide/indexing.html#returning-a-view-versus-a-copy\n",
      "  ADC_Santa_Campaign_treatement_1.rename({'BACCT_NUM':'BAN'},axis=1,inplace=True)\n"
     ]
    }
   ],
   "source": [
    "ADC_Santa_Campaign_treatement_1.rename({'BACCT_NUM':'BAN'},axis=1,inplace=True)"
   ]
  },
  {
   "cell_type": "code",
   "execution_count": 68,
   "id": "ad81d961-1f8c-4de2-b7ca-6d6b867e661d",
   "metadata": {},
   "outputs": [
    {
     "name": "stdout",
     "output_type": "stream",
     "text": [
      "<class 'pandas.core.frame.DataFrame'>\n",
      "Int64Index: 4643 entries, 0 to 6998\n",
      "Data columns (total 2 columns):\n",
      " #   Column      Non-Null Count  Dtype \n",
      "---  ------      --------------  ----- \n",
      " 0   BAN         4643 non-null   int64 \n",
      " 1   Experiment  4643 non-null   object\n",
      "dtypes: int64(1), object(1)\n",
      "memory usage: 108.8+ KB\n"
     ]
    }
   ],
   "source": [
    "ADC_Santa_Campaign_control_1.info()"
   ]
  },
  {
   "cell_type": "code",
   "execution_count": 71,
   "id": "e91fccba-1388-4e4e-ae89-f43513cb34bd",
   "metadata": {},
   "outputs": [],
   "source": [
    "ADC_Santa_Campaign=pd.concat([ADC_Santa_Campaign_treatement_1,ADC_Santa_Campaign_control_1])"
   ]
  },
  {
   "cell_type": "code",
   "execution_count": 76,
   "id": "c078da44-9b12-4a03-9992-23c5d1dcad73",
   "metadata": {},
   "outputs": [
    {
     "data": {
      "text/html": [
       "<div>\n",
       "<style scoped>\n",
       "    .dataframe tbody tr th:only-of-type {\n",
       "        vertical-align: middle;\n",
       "    }\n",
       "\n",
       "    .dataframe tbody tr th {\n",
       "        vertical-align: top;\n",
       "    }\n",
       "\n",
       "    .dataframe thead th {\n",
       "        text-align: right;\n",
       "    }\n",
       "</style>\n",
       "<table border=\"1\" class=\"dataframe\">\n",
       "  <thead>\n",
       "    <tr style=\"text-align: right;\">\n",
       "      <th></th>\n",
       "      <th>BAN</th>\n",
       "      <th>Experiment</th>\n",
       "      <th>CAMP_CREATIVE</th>\n",
       "    </tr>\n",
       "  </thead>\n",
       "  <tbody>\n",
       "    <tr>\n",
       "      <th>0</th>\n",
       "      <td>604430780</td>\n",
       "      <td>Treatment</td>\n",
       "      <td>Santa_Campaign</td>\n",
       "    </tr>\n",
       "    <tr>\n",
       "      <th>1</th>\n",
       "      <td>604366056</td>\n",
       "      <td>Treatment</td>\n",
       "      <td>Santa_Campaign</td>\n",
       "    </tr>\n",
       "    <tr>\n",
       "      <th>2</th>\n",
       "      <td>600148997</td>\n",
       "      <td>Treatment</td>\n",
       "      <td>Santa_Campaign</td>\n",
       "    </tr>\n",
       "    <tr>\n",
       "      <th>3</th>\n",
       "      <td>604519203</td>\n",
       "      <td>Treatment</td>\n",
       "      <td>Santa_Campaign</td>\n",
       "    </tr>\n",
       "    <tr>\n",
       "      <th>4</th>\n",
       "      <td>603625752</td>\n",
       "      <td>Treatment</td>\n",
       "      <td>Santa_Campaign</td>\n",
       "    </tr>\n",
       "  </tbody>\n",
       "</table>\n",
       "</div>"
      ],
      "text/plain": [
       "         BAN Experiment   CAMP_CREATIVE\n",
       "0  604430780  Treatment  Santa_Campaign\n",
       "1  604366056  Treatment  Santa_Campaign\n",
       "2  600148997  Treatment  Santa_Campaign\n",
       "3  604519203  Treatment  Santa_Campaign\n",
       "4  603625752  Treatment  Santa_Campaign"
      ]
     },
     "execution_count": 76,
     "metadata": {},
     "output_type": "execute_result"
    }
   ],
   "source": [
    "ADC_Santa_Campaign.head()"
   ]
  },
  {
   "cell_type": "code",
   "execution_count": 78,
   "id": "4402db0c-5549-4416-9568-fc549b0e5cfc",
   "metadata": {},
   "outputs": [],
   "source": [
    "ADC_Santa_Campaign_1=ADC_Santa_Campaign[['BAN','CAMP_CREATIVE','Experiment']]"
   ]
  },
  {
   "cell_type": "code",
   "execution_count": 79,
   "id": "5ad1cd0c-1aa0-4f45-a48a-9349b03a0f37",
   "metadata": {},
   "outputs": [
    {
     "data": {
      "text/html": [
       "<div>\n",
       "<style scoped>\n",
       "    .dataframe tbody tr th:only-of-type {\n",
       "        vertical-align: middle;\n",
       "    }\n",
       "\n",
       "    .dataframe tbody tr th {\n",
       "        vertical-align: top;\n",
       "    }\n",
       "\n",
       "    .dataframe thead th {\n",
       "        text-align: right;\n",
       "    }\n",
       "</style>\n",
       "<table border=\"1\" class=\"dataframe\">\n",
       "  <thead>\n",
       "    <tr style=\"text-align: right;\">\n",
       "      <th></th>\n",
       "      <th>BAN</th>\n",
       "      <th>CAMP_CREATIVE</th>\n",
       "      <th>Experiment</th>\n",
       "    </tr>\n",
       "  </thead>\n",
       "  <tbody>\n",
       "    <tr>\n",
       "      <th>0</th>\n",
       "      <td>604430780</td>\n",
       "      <td>Santa_Campaign</td>\n",
       "      <td>Treatment</td>\n",
       "    </tr>\n",
       "    <tr>\n",
       "      <th>1</th>\n",
       "      <td>604366056</td>\n",
       "      <td>Santa_Campaign</td>\n",
       "      <td>Treatment</td>\n",
       "    </tr>\n",
       "    <tr>\n",
       "      <th>2</th>\n",
       "      <td>600148997</td>\n",
       "      <td>Santa_Campaign</td>\n",
       "      <td>Treatment</td>\n",
       "    </tr>\n",
       "    <tr>\n",
       "      <th>3</th>\n",
       "      <td>604519203</td>\n",
       "      <td>Santa_Campaign</td>\n",
       "      <td>Treatment</td>\n",
       "    </tr>\n",
       "    <tr>\n",
       "      <th>4</th>\n",
       "      <td>603625752</td>\n",
       "      <td>Santa_Campaign</td>\n",
       "      <td>Treatment</td>\n",
       "    </tr>\n",
       "  </tbody>\n",
       "</table>\n",
       "</div>"
      ],
      "text/plain": [
       "         BAN   CAMP_CREATIVE Experiment\n",
       "0  604430780  Santa_Campaign  Treatment\n",
       "1  604366056  Santa_Campaign  Treatment\n",
       "2  600148997  Santa_Campaign  Treatment\n",
       "3  604519203  Santa_Campaign  Treatment\n",
       "4  603625752  Santa_Campaign  Treatment"
      ]
     },
     "execution_count": 79,
     "metadata": {},
     "output_type": "execute_result"
    }
   ],
   "source": [
    "ADC_Santa_Campaign_1.head()"
   ]
  },
  {
   "cell_type": "code",
   "execution_count": 74,
   "id": "6653d172-793e-4642-a3c9-2b64b8bb89cb",
   "metadata": {},
   "outputs": [],
   "source": [
    "ADC_Santa_Campaign['CAMP_CREATIVE']='Santa_Campaign'"
   ]
  },
  {
   "cell_type": "code",
   "execution_count": 80,
   "id": "88c080f9-d7b8-4bb4-9641-d2195f228fc4",
   "metadata": {},
   "outputs": [],
   "source": [
    "config= bigquery.job.LoadJobConfig()\n",
    "\n",
    "# config._properties['timePartitioning'] = {'field': 'Month_Year'}\n",
    "config.write_disposition = bigquery.WriteDisposition.WRITE_TRUNCATE\n",
    "\n",
    "Table_BQ = 'SHS.Santa_Campaign'\n",
    "\n",
    "bq_table_instance= bq_client.load_table_from_dataframe(ADC_Santa_Campaign_1, Table_BQ,job_config=config)"
   ]
  },
  {
   "cell_type": "code",
   "execution_count": null,
   "id": "464adb69-9070-4678-9c02-8a176251652c",
   "metadata": {},
   "outputs": [],
   "source": []
  }
 ],
 "metadata": {
  "kernelspec": {
   "display_name": "Python 3 (ipykernel)",
   "language": "python",
   "name": "python3"
  },
  "language_info": {
   "codemirror_mode": {
    "name": "ipython",
    "version": 3
   },
   "file_extension": ".py",
   "mimetype": "text/x-python",
   "name": "python",
   "nbconvert_exporter": "python",
   "pygments_lexer": "ipython3",
   "version": "3.8.12"
  }
 },
 "nbformat": 4,
 "nbformat_minor": 5
}
