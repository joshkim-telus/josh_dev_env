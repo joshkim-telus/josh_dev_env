{
 "cells": [
  {
   "cell_type": "code",
   "execution_count": null,
   "id": "ca5258d9-23d2-4959-a7d5-35a90c14710e",
   "metadata": {},
   "outputs": [],
   "source": [
    "#### import global modules\n",
    "import os\n",
    "import sys\n",
    "import pandas as pd\n",
    "import numpy as np\n",
    "from pathlib import Path\n",
    "from yaml import safe_load\n",
    "import google.oauth2.credentials\n",
    "from google.cloud import bigquery\n",
    "import gc\n",
    "\n",
    "# Set global vars\n",
    "pth_project = Path(os.getcwd().split('notebooks')[0])\n",
    "pth_data = pth_project / 'data'\n",
    "pth_queries = pth_project / 'core' / 'queries'\n",
    "pth_creds = pth_project / 'conf' / 'local' / 'project_config.yaml'\n",
    "sys.path.insert(0, str(pth_project))\n",
    "d_project_config = safe_load(pth_creds.open())\n",
    "# d_params = safe_load((pth_project / 'core' / 'parameters' / 'common.yaml').open())['data_extract']\n",
    "\n",
    "# import local modules\n",
    "from core.utils.gcp import connect_bq_services\n",
    "# from core.etl.extract import extract_bq_data, extract_pr_codes, format_conv_df, filter_convs\n",
    "\n",
    "# Connect to google services\n",
    "bq_client = connect_bq_services(d_project_config['gcp-project-name'])\n",
    "pd.options.display.max_rows = 100"
   ]
  },
  {
   "cell_type": "code",
   "execution_count": null,
   "id": "722c4057-cbb9-4417-bd8f-7b216d470cf2",
   "metadata": {},
   "outputs": [],
   "source": [
    "def extract_bq_data(bq_client, sql=None, pth_query=None):\n",
    "    if sql is not None:\n",
    "        df = bq_client.query(sql).to_dataframe()\n",
    "    elif pth_query is not None:\n",
    "        sql = pth_query.read_text()\n",
    "        df = bq_client.query(sql).to_dataframe()\n",
    "    else:\n",
    "        raise ValueError('`sql` or `pth_query` should be set')  \n",
    "    return df"
   ]
  },
  {
   "cell_type": "code",
   "execution_count": null,
   "id": "01b5b45c-3371-4792-96a3-5d7287f32f04",
   "metadata": {},
   "outputs": [],
   "source": [
    "Query='''\n",
    "\n",
    "\n",
    "select dealer_customer_id as Telus_customer_id,customer_id as ADC_customer_id,account_type_name,date(last_updt_ts) as last_update_date,\n",
    "from `cio-datahub-enterprise-pr-183a.src_adc.bq_customer_account_details` \n",
    "where dealer_name='TELUS Communications Inc.'\n",
    "and dealer_customer_id !=''\n",
    "QUALIFY ROW_NUMBER() OVER (PARTITION BY customer_id ORDER BY last_updt_ts DESC) = 1\n",
    "order by last_updt_ts desc\n",
    "\n",
    "'''"
   ]
  },
  {
   "cell_type": "code",
   "execution_count": null,
   "id": "bd8e0e63-20c1-4031-a043-641ff52cd649",
   "metadata": {},
   "outputs": [],
   "source": [
    "DF=extract_bq_data(bq_client, sql=Query)"
   ]
  },
  {
   "cell_type": "code",
   "execution_count": null,
   "id": "239f7317-8cdd-4584-8f87-5e377c255467",
   "metadata": {},
   "outputs": [],
   "source": [
    "DF.info()"
   ]
  },
  {
   "cell_type": "code",
   "execution_count": null,
   "id": "4906923a-f134-4f82-98b1-0055b2b68e57",
   "metadata": {},
   "outputs": [],
   "source": [
    "DF['Telus_customer_id'].value_counts()"
   ]
  },
  {
   "cell_type": "code",
   "execution_count": null,
   "id": "1776c537-9d4f-4f51-88d8-365120b081cb",
   "metadata": {},
   "outputs": [],
   "source": [
    "DF[DF['Telus_customer_id']=='385339']"
   ]
  },
  {
   "cell_type": "code",
   "execution_count": null,
   "id": "62a3770c-2eb8-417e-876c-3b8ff5b37e65",
   "metadata": {},
   "outputs": [],
   "source": [
    "DF.to_csv('Telus_ADC_customer_mapping_04Apr2023.csv',index=False)"
   ]
  },
  {
   "cell_type": "code",
   "execution_count": null,
   "id": "9c8e22a6-c5a6-4717-a1d8-1e94131044a0",
   "metadata": {},
   "outputs": [],
   "source": []
  }
 ],
 "metadata": {
  "kernelspec": {
   "display_name": "Python 3 (ipykernel)",
   "language": "python",
   "name": "python3"
  },
  "language_info": {
   "codemirror_mode": {
    "name": "ipython",
    "version": 3
   },
   "file_extension": ".py",
   "mimetype": "text/x-python",
   "name": "python",
   "nbconvert_exporter": "python",
   "pygments_lexer": "ipython3",
   "version": "3.8.12"
  }
 },
 "nbformat": 4,
 "nbformat_minor": 5
}
