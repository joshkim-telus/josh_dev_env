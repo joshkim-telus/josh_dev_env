{
 "cells": [
  {
   "cell_type": "code",
   "execution_count": null,
   "id": "0be71f8c-6704-4462-91a6-4d12f3b6de94",
   "metadata": {},
   "outputs": [],
   "source": [
    "#### import global modules\n",
    "import os\n",
    "import sys\n",
    "import pandas as pd\n",
    "import numpy as np\n",
    "from pathlib import Path\n",
    "from yaml import safe_load\n",
    "import google.oauth2.credentials\n",
    "from google.cloud import bigquery\n",
    "import gc\n",
    "\n",
    "# Set global vars\n",
    "pth_project = Path(os.getcwd().split('notebooks')[0])\n",
    "pth_data = pth_project / 'data'\n",
    "pth_queries = pth_project / 'core' / 'queries'\n",
    "pth_creds = pth_project / 'conf' / 'local' / 'project_config.yaml'\n",
    "sys.path.insert(0, str(pth_project))\n",
    "d_project_config = safe_load(pth_creds.open())\n",
    "# d_params = safe_load((pth_project / 'core' / 'parameters' / 'common.yaml').open())['data_extract']\n",
    "\n",
    "# import local modules\n",
    "from core.utils.gcp import connect_bq_services\n",
    "# from core.etl.extract import extract_bq_data, extract_pr_codes, format_conv_df, filter_convs\n",
    "\n",
    "# Connect to google services\n",
    "bq_client = connect_bq_services(d_project_config['gcp-project-name'])\n",
    "pd.options.display.max_rows = 100"
   ]
  },
  {
   "cell_type": "code",
   "execution_count": null,
   "id": "4fe9da8a-d8d2-476f-997c-208895f50995",
   "metadata": {},
   "outputs": [],
   "source": [
    "def extract_bq_data(bq_client, sql=None, pth_query=None):\n",
    "    if sql is not None:\n",
    "        df = bq_client.query(sql).to_dataframe()\n",
    "    elif pth_query is not None:\n",
    "        sql = pth_query.read_text()\n",
    "        df = bq_client.query(sql).to_dataframe()\n",
    "    else:\n",
    "        raise ValueError('`sql` or `pth_query` should be set')  \n",
    "    return df"
   ]
  },
  {
   "cell_type": "code",
   "execution_count": null,
   "id": "4db60e15-510b-4210-a503-75f1e83e99f4",
   "metadata": {},
   "outputs": [],
   "source": [
    "Query='''\n",
    "\n",
    "\n",
    "\n",
    "with period as (\n",
    "\n",
    "\n",
    "  select DATE('2022-05-01') as start_date, DATE('2022-10-31') as end_date\n",
    "\n",
    ")\n",
    "\n",
    "\n",
    "\n",
    ", Telus_customers as\n",
    "(\n",
    "select bacct_bus_bacct_num,bacct_billg_acct_id,cust_bus_cust_id,pi_prod_instnc_typ_cd,pi_prod_instnc_stat_ts,prod_instnc_ts,pi_cntrct_end_ts as contract_end_date\n",
    "from `cio-datahub-enterprise-pr-183a.ent_cust_cust.bq_prod_instnc_snpsht` \n",
    "WHERE DATE(prod_instnc_ts) = (select end_date from period) \n",
    "and pi_prod_instnc_typ_cd ='SMHM' #Serice type\n",
    "and bus_prod_instnc_src_id = 1001 #BANs that are for home services\n",
    "and pi_prod_instnc_stat_cd in ('A')\n",
    "and  consldt_cust_typ_cd = 'R'\n",
    "QUALIFY ROW_NUMBER() OVER (PARTITION BY cust_bus_cust_id ORDER BY pi_prod_instnc_stat_ts DESC) = 1\n",
    "order by cust_bus_cust_id\n",
    ")\n",
    "\n",
    "\n",
    "\n",
    ", interim_data as (\n",
    "SELECT\n",
    "  distinct SAFE_CAST(cust_id AS STRING) AS cust_id,\n",
    "  EXTRACT(YEAR\n",
    "  FROM\n",
    "    bill.bill_dt)||'-'||LPAD(CAST(EXTRACT(MONTH\n",
    "      FROM\n",
    "        bill.bill_dt) AS STRING), 2, '0') AS bill_year_month,\n",
    "  bill.rid_unit_chrg_amt\n",
    "  FROM\n",
    "  `cio-datahub-enterprise-pr-183a.ent_cust_bill.bq_wln_inv_sum_view` bill\n",
    "WHERE\n",
    "  DATE(bill.bill_dt)>= (select start_date from period) and DATE(bill.bill_dt)<= (select end_date from period)\n",
    "  AND EXISTS \n",
    "(\n",
    "SELECT\n",
    "  1\n",
    "FROM\n",
    "  `cio-datahub-enterprise-pr-183a.ent_cust_cust.bq_prod_instnc_snpsht` AS prod\n",
    "WHERE\n",
    "  prod.pi_prod_instnc_typ_cd IN ('SMHM')\n",
    "  AND prod.cust_bus_cust_id = SAFE_CAST(bill.cust_id AS STRING)\n",
    "  AND DATE(prod.prod_instnc_ts) = (select end_date from period))\n",
    ")\n",
    "\n",
    "\n",
    "\n",
    ",all_data_ARPU as (select cust_id, bill_year_month,sum(rid_unit_chrg_amt) as ARPU\n",
    "from interim_data\n",
    "group by cust_id, bill_year_month\n",
    "order by cust_id,bill_year_month)\n",
    "\n",
    "\n",
    ", ARPU_table as (\n",
    "\n",
    "\n",
    "select cust_id, avg(ARPU) as AVG_ARPU \n",
    "from all_data_ARPU\n",
    "group by cust_id\n",
    "order by cust_id,AVG_ARPU desc\n",
    "\n",
    "\n",
    ")\n",
    "\n",
    "select * from Telus_customers a\n",
    "left join ARPU_table b \n",
    "on a.cust_bus_cust_id=b.cust_id\n",
    "\n",
    "'''\n"
   ]
  },
  {
   "cell_type": "code",
   "execution_count": null,
   "id": "89e7dca4-a47a-4821-aa78-6cd38134267b",
   "metadata": {},
   "outputs": [],
   "source": [
    "SMHM_data=extract_bq_data(bq_client, sql=Query)"
   ]
  },
  {
   "cell_type": "code",
   "execution_count": null,
   "id": "66102c33-2b2e-4a7a-a936-4efd46834353",
   "metadata": {},
   "outputs": [],
   "source": [
    "SMHM_data.info()"
   ]
  },
  {
   "cell_type": "code",
   "execution_count": null,
   "id": "6e318575-148f-49a5-aea5-62be28e8f7d8",
   "metadata": {},
   "outputs": [],
   "source": [
    "SMHM_data['AVG_ARPU'].isna().sum()*100/SMHM_data.shape[0]"
   ]
  },
  {
   "cell_type": "code",
   "execution_count": null,
   "id": "f2378b81-3200-40b9-b5bc-f0a43d1b66a5",
   "metadata": {},
   "outputs": [],
   "source": [
    "SMHM_data.head()"
   ]
  },
  {
   "cell_type": "code",
   "execution_count": null,
   "id": "0e4f88d8-a14e-4afe-a9df-0ecddba06647",
   "metadata": {},
   "outputs": [],
   "source": [
    "SMHM_data.to_csv('SMHM_ARPU_Nov2022.csv',index=False)"
   ]
  },
  {
   "cell_type": "code",
   "execution_count": null,
   "id": "c7b777b6-723d-478d-bda5-5f45adc0e574",
   "metadata": {},
   "outputs": [],
   "source": []
  }
 ],
 "metadata": {
  "kernelspec": {
   "display_name": "Python 3 (ipykernel)",
   "language": "python",
   "name": "python3"
  },
  "language_info": {
   "codemirror_mode": {
    "name": "ipython",
    "version": 3
   },
   "file_extension": ".py",
   "mimetype": "text/x-python",
   "name": "python",
   "nbconvert_exporter": "python",
   "pygments_lexer": "ipython3",
   "version": "3.8.12"
  }
 },
 "nbformat": 4,
 "nbformat_minor": 5
}
