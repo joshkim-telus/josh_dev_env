{
 "cells": [
  {
   "cell_type": "code",
   "execution_count": null,
   "id": "d6be3cc4-8245-4040-b024-bf82df780613",
   "metadata": {},
   "outputs": [],
   "source": [
    "#### import global modules\n",
    "import os\n",
    "import sys\n",
    "import pandas as pd\n",
    "import numpy as np\n",
    "from pathlib import Path\n",
    "from yaml import safe_load\n",
    "import google.oauth2.credentials\n",
    "from google.cloud import bigquery\n",
    "import gc\n",
    "\n",
    "# Set global vars\n",
    "pth_project = Path(os.getcwd().split('notebooks')[0])\n",
    "pth_data = pth_project / 'data'\n",
    "pth_queries = pth_project / 'core' / 'queries'\n",
    "pth_creds = pth_project / 'conf' / 'local' / 'project_config.yaml'\n",
    "sys.path.insert(0, str(pth_project))\n",
    "d_project_config = safe_load(pth_creds.open())\n",
    "# d_params = safe_load((pth_project / 'core' / 'parameters' / 'common.yaml').open())['data_extract']\n",
    "\n",
    "# import local modules\n",
    "from core.utils.gcp import connect_bq_services\n",
    "# from core.etl.extract import extract_bq_data, extract_pr_codes, format_conv_df, filter_convs\n",
    "\n",
    "# Connect to google services\n",
    "bq_client = connect_bq_services(d_project_config['gcp-project-name'])\n",
    "pd.options.display.max_rows = 100"
   ]
  },
  {
   "cell_type": "code",
   "execution_count": null,
   "id": "818a4bb0-25f8-4fe6-ba21-ac3fcab4a766",
   "metadata": {},
   "outputs": [],
   "source": [
    "def extract_bq_data(bq_client, sql=None, pth_query=None):\n",
    "    if sql is not None:\n",
    "        df = bq_client.query(sql).to_dataframe()\n",
    "    elif pth_query is not None:\n",
    "        sql = pth_query.read_text()\n",
    "        df = bq_client.query(sql).to_dataframe()\n",
    "    else:\n",
    "        raise ValueError('`sql` or `pth_query` should be set')  \n",
    "    return df"
   ]
  },
  {
   "cell_type": "code",
   "execution_count": null,
   "id": "3a3b3d3e-7664-4c73-aa48-2ccdfd8254a8",
   "metadata": {},
   "outputs": [],
   "source": [
    "Telus_Customer_details_Sep2022='''\n",
    "\n",
    "\n",
    "DECLARE _end_dt_snpsht DATE DEFAULT '2022-11-30';\n",
    "\n",
    "\n",
    "with ADC_customer_base as(\n",
    "\n",
    "SELECT distinct customer_id,dealer_customer_id,dealer_name,account_type_name,customer_type_name\n",
    "FROM `cio-datahub-enterprise-pr-183a.src_adc.bq_customer_account_details` \n",
    "where \n",
    "date(last_updt_ts) = _end_dt_snpsht\n",
    "--and account_type_name!='Standalone'\n",
    "--and customer_type_name='Customer'\n",
    "and dealer_name='TELUS Communications Inc.'\n",
    "QUALIFY ROW_NUMBER() OVER (PARTITION BY customer_id ORDER BY last_updt_ts DESC) = 1\n",
    "--order by dealer_name,join_date,customer_id\n",
    ")\n",
    ",\n",
    "\n",
    "Telus_customers as\n",
    "(\n",
    "select bacct_bus_bacct_num,bacct_billg_acct_id,cust_bus_cust_id,pi_prod_instnc_typ_cd,pi_prod_instnc_stat_ts,prod_instnc_ts,pi_cntrct_start_ts as contract_start_date\n",
    ",pi_cntrct_end_ts as contract_end_date\n",
    "from `cio-datahub-enterprise-pr-183a.ent_cust_cust.bq_prod_instnc_snpsht` \n",
    "WHERE DATE(prod_instnc_ts) = _end_dt_snpsht #Snapshot of the last day of the month\n",
    "and pi_prod_instnc_typ_cd ='SMHM' #Serice type\n",
    "and bus_prod_instnc_src_id = 1001 #BANs that are for home services\n",
    "and pi_prod_instnc_stat_cd in ('A')\n",
    "and  consldt_cust_typ_cd = 'R'\n",
    "QUALIFY ROW_NUMBER() OVER (PARTITION BY bacct_bus_bacct_num ORDER BY pi_prod_instnc_stat_ts DESC) = 1\n",
    "order by cust_bus_cust_id\n",
    "\n",
    ")\n",
    "\n",
    "\n",
    "\n",
    "\n",
    "\n",
    ", Telus_SMHM_Deact_Oct2022 as \n",
    "\n",
    "\n",
    "(\n",
    "\n",
    "\n",
    "select distinct(CAST (CUST_ID as STRING)) as CUST_ID ,1 as Telus_Churn_Flag  \n",
    "\n",
    "from `divgpras-pr-579355.SHS.SHS_DEACTS_OCT2022`\n",
    "\n",
    "\n",
    ")\n",
    "\n",
    "select * from ADC_customer_base as ADC\n",
    "inner join Telus_customers as Telus\n",
    "on ADC.dealer_customer_id=Telus.cust_bus_cust_id\n",
    "--left join Telus_SMHM_Deact_Oct2022 c\n",
    "--on ADC.dealer_customer_id=c.CUST_ID\n",
    "\n",
    "'''"
   ]
  },
  {
   "cell_type": "code",
   "execution_count": null,
   "id": "44d6d2a3-49a3-4e67-9145-1391e020c6fc",
   "metadata": {},
   "outputs": [],
   "source": [
    "Data_Sep2022=extract_bq_data(bq_client, sql=Telus_Customer_details_Sep2022)"
   ]
  },
  {
   "cell_type": "code",
   "execution_count": null,
   "id": "fe3283a7-1bf4-412d-9830-7c7d69ca6489",
   "metadata": {},
   "outputs": [],
   "source": [
    "# Data_Sep2022['Telus_Churn_Flag'].sum()"
   ]
  },
  {
   "cell_type": "code",
   "execution_count": null,
   "id": "98aaea37-4cc2-49cd-87f3-3563bbf94793",
   "metadata": {},
   "outputs": [],
   "source": [
    "Data_Sep2022.info()"
   ]
  },
  {
   "cell_type": "code",
   "execution_count": null,
   "id": "793b004d-c894-49b1-a0ef-6f0fe2a51379",
   "metadata": {},
   "outputs": [],
   "source": [
    "Data_Sep2022['customer_id'].value_counts()"
   ]
  },
  {
   "cell_type": "code",
   "execution_count": null,
   "id": "90042f01-6c86-4425-93d7-1b055c321660",
   "metadata": {},
   "outputs": [],
   "source": [
    "Data_Sep2022['prod_instnc_ts'].value_counts()"
   ]
  },
  {
   "cell_type": "code",
   "execution_count": null,
   "id": "ea382085-7f50-42f1-a4e9-32dd0ddc75f1",
   "metadata": {},
   "outputs": [],
   "source": [
    "config= bigquery.job.LoadJobConfig()\n",
    "\n",
    "# config._properties['timePartitioning'] = {'field': 'Month_Year'}\n",
    "config.write_disposition = bigquery.WriteDisposition.WRITE_TRUNCATE\n",
    "\n",
    "Table_BQ = 'SHS.ADC_SMHM_CustomerBase_NOV2022'\n",
    "\n",
    "bq_table_instance= bq_client.load_table_from_dataframe(Data_Sep2022, Table_BQ,job_config=config)"
   ]
  },
  {
   "cell_type": "code",
   "execution_count": null,
   "id": "f399a832-6847-4b8f-ae39-2050a93a3dcf",
   "metadata": {},
   "outputs": [],
   "source": []
  }
 ],
 "metadata": {
  "kernelspec": {
   "display_name": "Python 3 (ipykernel)",
   "language": "python",
   "name": "python3"
  },
  "language_info": {
   "codemirror_mode": {
    "name": "ipython",
    "version": 3
   },
   "file_extension": ".py",
   "mimetype": "text/x-python",
   "name": "python",
   "nbconvert_exporter": "python",
   "pygments_lexer": "ipython3",
   "version": "3.8.12"
  }
 },
 "nbformat": 4,
 "nbformat_minor": 5
}
