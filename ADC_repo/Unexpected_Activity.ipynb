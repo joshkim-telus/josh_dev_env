{
 "cells": [
  {
   "cell_type": "code",
   "execution_count": null,
   "id": "95fa4dd0-3c5f-4e48-a99d-0ac024d60d8f",
   "metadata": {},
   "outputs": [],
   "source": [
    "#### import global modules\n",
    "import os\n",
    "import sys\n",
    "import pandas as pd\n",
    "from pathlib import Path\n",
    "from yaml import safe_load\n",
    "import google.oauth2.credentials\n",
    "from google.cloud import bigquery\n",
    "import numpy as np\n",
    "# Set global vars\n",
    "pth_project = Path(os.getcwd().split('notebooks')[0])\n",
    "pth_data = pth_project / 'data'\n",
    "pth_queries = pth_project / 'core' / 'queries'\n",
    "pth_creds = pth_project / 'conf' / 'local' / 'project_config.yaml'\n",
    "sys.path.insert(0, str(pth_project))\n",
    "d_project_config = safe_load(pth_creds.open())\n",
    "# d_params = safe_load((pth_project / 'core' / 'parameters' / 'common.yaml').open())['data_extract']\n",
    "\n",
    "# import local modules\n",
    "from core.utils.gcp import connect_bq_services\n",
    "# from core.etl.extract import extract_bq_data, extract_pr_codes, format_conv_df, filter_convs\n",
    "\n",
    "# Connect to google services\n",
    "bq_client = connect_bq_services(d_project_config['gcp-project-name'])\n",
    "pd.options.display.max_rows = 100"
   ]
  },
  {
   "cell_type": "code",
   "execution_count": null,
   "id": "71da2f52-a9ea-4112-9504-8ff537c88838",
   "metadata": {},
   "outputs": [],
   "source": [
    "d_project_config"
   ]
  },
  {
   "cell_type": "code",
   "execution_count": null,
   "id": "a644f006-2825-4346-94c8-ce27160996f1",
   "metadata": {},
   "outputs": [],
   "source": [
    "def extract_bq_data(bq_client, sql=None, pth_query=None):\n",
    "    if sql is not None:\n",
    "        df = bq_client.query(sql).to_dataframe()\n",
    "    elif pth_query is not None:\n",
    "        sql = pth_query.read_text()\n",
    "        df = bq_client.query(sql).to_dataframe()\n",
    "    else:\n",
    "        raise ValueError('`sql` or `pth_query` should be set')  \n",
    "    return df"
   ]
  },
  {
   "cell_type": "code",
   "execution_count": null,
   "id": "cd557a92-023e-49a0-888a-3be2bab7543b",
   "metadata": {},
   "outputs": [],
   "source": [
    "Unexpected_Activity_Query='''\n",
    "\n",
    "select * from `cio-datahub-enterprise-pr-183a.src_adc.bq_unexpected_activity_alerts`\n",
    "\n",
    "'''"
   ]
  },
  {
   "cell_type": "code",
   "execution_count": null,
   "id": "10815486-0cd1-4aae-9440-007ba1ae1cb7",
   "metadata": {},
   "outputs": [],
   "source": [
    "UE_Activity_DF= extract_bq_data(bq_client,sql=Unexpected_Activity_Query)"
   ]
  },
  {
   "cell_type": "code",
   "execution_count": null,
   "id": "8f2e3cad-9c50-497f-8a2d-e7e0470f7c13",
   "metadata": {},
   "outputs": [],
   "source": [
    "UE_Activity_DF.info()"
   ]
  },
  {
   "cell_type": "code",
   "execution_count": null,
   "id": "b28584fc-a8a9-4ac0-8b38-9d279960ebf1",
   "metadata": {},
   "outputs": [],
   "source": [
    "UE_Activity_DF.head()"
   ]
  },
  {
   "cell_type": "code",
   "execution_count": null,
   "id": "3edb4cd2-29e4-430f-8b7a-a89aa780259c",
   "metadata": {},
   "outputs": [],
   "source": [
    "UE_Activity_DF['reporting_package_group_desc'].value_counts()"
   ]
  },
  {
   "cell_type": "code",
   "execution_count": null,
   "id": "ec2c355b-f07f-4ded-9811-e58375ab793e",
   "metadata": {},
   "outputs": [],
   "source": [
    "UE_Activity_DF['notification_type'].value_counts()"
   ]
  },
  {
   "cell_type": "code",
   "execution_count": null,
   "id": "2329dc81-27d9-4b8f-aa52-5afeb0c34d27",
   "metadata": {},
   "outputs": [],
   "source": [
    "UE_Activity_DF['reporting_package_group_desc'].value_counts()"
   ]
  },
  {
   "cell_type": "code",
   "execution_count": null,
   "id": "f59db312-0b2e-434a-a852-0bec7137452f",
   "metadata": {},
   "outputs": [],
   "source": [
    "UE_Activity_DF['event_dt_utc'].value_counts()"
   ]
  },
  {
   "cell_type": "code",
   "execution_count": null,
   "id": "3bb5c48f-bea0-4d43-aeff-dfe71440c402",
   "metadata": {},
   "outputs": [],
   "source": [
    "print(UE_Activity_DF['event_dt_utc'].min(),' and ',UE_Activity_DF['event_dt_utc'].max())"
   ]
  },
  {
   "cell_type": "code",
   "execution_count": null,
   "id": "7c567265-45b9-4d50-b0f7-36d871e9f2b3",
   "metadata": {},
   "outputs": [],
   "source": [
    "UE_Activity_DF['Month_year'] = UE_Activity_DF['event_dt_utc'].dt.to_period('M')\n"
   ]
  },
  {
   "cell_type": "code",
   "execution_count": null,
   "id": "2f39306f-b953-4cd9-ab6e-6133e3ef2a10",
   "metadata": {},
   "outputs": [],
   "source": [
    "UE_Activity_DF.info()"
   ]
  },
  {
   "cell_type": "code",
   "execution_count": null,
   "id": "3780eb69-86cc-4e08-9a8c-1de76efa8166",
   "metadata": {},
   "outputs": [],
   "source": [
    "UE_Activity_DF['Month_Year_1'] = UE_Activity_DF['Month_year'].astype(str)\n",
    "UE_Activity_DF['Month_Year_1'] = pd.to_datetime(UE_Activity_DF['Month_Year_1'])"
   ]
  },
  {
   "cell_type": "code",
   "execution_count": null,
   "id": "846b51ab-21a5-40e6-a024-febd2e069b51",
   "metadata": {},
   "outputs": [],
   "source": [
    "UE_Activity_DF = UE_Activity_DF.drop('Month_year', axis=1)\n"
   ]
  },
  {
   "cell_type": "code",
   "execution_count": null,
   "id": "d8d7eba9-9c8a-4e09-9eee-f98fb482d6bc",
   "metadata": {},
   "outputs": [],
   "source": [
    "UE_Activity_DF=UE_Activity_DF.rename(columns={\"Month_Year_1\": \"Month_year\"})"
   ]
  },
  {
   "cell_type": "code",
   "execution_count": null,
   "id": "57920a74-cee2-4cdf-b6ff-ee6a7692bbad",
   "metadata": {},
   "outputs": [],
   "source": []
  },
  {
   "cell_type": "code",
   "execution_count": null,
   "id": "1cf21502-08f7-49bc-ba95-b9a754e5ebbc",
   "metadata": {},
   "outputs": [],
   "source": [
    "UE_Activity_pivot_table=pd.pivot_table(UE_Activity_DF, values='unexpected_activity_count', index=['Month_year','customer_id'], columns='notification_type',\n",
    "                          aggfunc={'unexpected_activity_count': np.sum})"
   ]
  },
  {
   "cell_type": "code",
   "execution_count": null,
   "id": "975eebe5-30f9-4b4b-86ac-357735fafa65",
   "metadata": {},
   "outputs": [],
   "source": [
    "UE_Activity_pivot_table=UE_Activity_pivot_table.reset_index()"
   ]
  },
  {
   "cell_type": "code",
   "execution_count": null,
   "id": "d460af2b-6abc-4608-8623-28938598f79c",
   "metadata": {},
   "outputs": [],
   "source": [
    "UE_Activity_pivot_table.head(10)"
   ]
  },
  {
   "cell_type": "code",
   "execution_count": null,
   "id": "5f79540e-c423-4700-b678-b49cea140f34",
   "metadata": {},
   "outputs": [],
   "source": [
    "UE_Activity_pivot_table.info()"
   ]
  },
  {
   "cell_type": "code",
   "execution_count": null,
   "id": "c025944a-f966-4b40-887f-82335db5a032",
   "metadata": {},
   "outputs": [],
   "source": [
    "UE_Activity_pivot_table.columns"
   ]
  },
  {
   "cell_type": "code",
   "execution_count": null,
   "id": "9ae0c1b9-4293-4e5a-8e5b-a25b9f8580ea",
   "metadata": {},
   "outputs": [],
   "source": [
    "UE_Activity_pivot_table.columns=['Month_Year','customer_id','ARMING_EVENT_count', 'LOCK_ACTIVITY_count','SENSOR_ACTIVITY_count', 'SENSOR_LEFT_OPEN_count']"
   ]
  },
  {
   "cell_type": "code",
   "execution_count": null,
   "id": "7b66b075-acb1-4f08-8a70-859da5dbe4d2",
   "metadata": {},
   "outputs": [],
   "source": [
    "UE_Activity_pivot_table.head(10)"
   ]
  },
  {
   "cell_type": "code",
   "execution_count": null,
   "id": "9cdd1a5f-fbd5-4a08-b7df-ffd18b86dd66",
   "metadata": {},
   "outputs": [],
   "source": [
    "UE_Activity_pivot_table=UE_Activity_pivot_table.fillna(0)"
   ]
  },
  {
   "cell_type": "code",
   "execution_count": null,
   "id": "fe445bd2-4a27-4439-b3d2-d2acf84c7622",
   "metadata": {},
   "outputs": [],
   "source": [
    "UE_Activity_pivot_table.head(10)"
   ]
  },
  {
   "cell_type": "code",
   "execution_count": null,
   "id": "f755e261-a7a1-453e-af4a-851dab693caf",
   "metadata": {},
   "outputs": [],
   "source": [
    "config= bigquery.job.LoadJobConfig()\n",
    "\n",
    "config._properties['timePartitioning'] = {'field': 'Month_Year'}\n",
    "config.write_disposition = bigquery.WriteDisposition.WRITE_TRUNCATE\n",
    "\n",
    "\n",
    "Table_BQ = 'ADC.Unexpected_Activity'\n",
    "\n",
    "bq_table_instance= bq_client.load_table_from_dataframe(UE_Activity_pivot_table, Table_BQ,job_config=config)"
   ]
  },
  {
   "cell_type": "code",
   "execution_count": null,
   "id": "a78b92d4-76e2-4a07-a251-998576f30856",
   "metadata": {},
   "outputs": [],
   "source": []
  }
 ],
 "metadata": {
  "kernelspec": {
   "display_name": "Python 3 (ipykernel)",
   "language": "python",
   "name": "python3"
  },
  "language_info": {
   "codemirror_mode": {
    "name": "ipython",
    "version": 3
   },
   "file_extension": ".py",
   "mimetype": "text/x-python",
   "name": "python",
   "nbconvert_exporter": "python",
   "pygments_lexer": "ipython3",
   "version": "3.7.12"
  }
 },
 "nbformat": 4,
 "nbformat_minor": 5
}
