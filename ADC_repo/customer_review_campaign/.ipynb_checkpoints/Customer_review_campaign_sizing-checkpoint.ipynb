{
 "cells": [
  {
   "cell_type": "code",
   "execution_count": 21,
   "id": "4bd71830-08a6-4387-8ee0-15491938aeea",
   "metadata": {},
   "outputs": [],
   "source": [
    "#### import global modules\n",
    "import os\n",
    "import sys\n",
    "import pandas as pd\n",
    "import numpy as np\n",
    "from pathlib import Path\n",
    "from yaml import safe_load\n",
    "import google.oauth2.credentials\n",
    "from google.cloud import bigquery\n",
    "import gc\n",
    "\n",
    "# Set global vars\n",
    "pth_project = Path(os.getcwd().split('notebooks')[0])\n",
    "pth_data = pth_project / 'data'\n",
    "pth_queries = pth_project / 'core' / 'queries'\n",
    "pth_creds = pth_project / 'conf' / 'local' / 'project_config.yaml'\n",
    "sys.path.insert(0, str(pth_project))\n",
    "d_project_config = safe_load(pth_creds.open())\n",
    "# d_params = safe_load((pth_project / 'core' / 'parameters' / 'common.yaml').open())['data_extract']\n",
    "\n",
    "# import local modules\n",
    "from core.utils.gcp import connect_bq_services\n",
    "# from core.etl.extract import extract_bq_data, extract_pr_codes, format_conv_df, filter_convs\n",
    "\n",
    "# Connect to google services\n",
    "bq_client = connect_bq_services(d_project_config['gcp-project-name'])\n",
    "pd.options.display.max_rows = 100"
   ]
  },
  {
   "cell_type": "code",
   "execution_count": 22,
   "id": "c8893abf-182f-4de5-a401-4e25a9e9614f",
   "metadata": {},
   "outputs": [],
   "source": [
    "def extract_bq_data(bq_client, sql=None, pth_query=None):\n",
    "    if sql is not None:\n",
    "        df = bq_client.query(sql).to_dataframe()\n",
    "    elif pth_query is not None:\n",
    "        sql = pth_query.read_text()\n",
    "        df = bq_client.query(sql).to_dataframe()\n",
    "    else:\n",
    "        raise ValueError('`sql` or `pth_query` should be set')  \n",
    "    return df"
   ]
  },
  {
   "cell_type": "code",
   "execution_count": 29,
   "id": "943087ab-3078-459f-9a2e-9597e675ab42",
   "metadata": {},
   "outputs": [],
   "source": [
    "Query='''\n",
    "\n",
    "\n",
    "with ADC_data as \n",
    "\n",
    "(\n",
    "\n",
    "SELECT *\n",
    "    \n",
    "\n",
    "   FROM\n",
    "    `divgpras-pr-579355.ADC_Feature_Datastore.ADC_Master_Data`\n",
    "  WHERE\n",
    "    Month_Snapshot='2022-12-01'\n",
    "    AND dealer_name='TELUS Communications Inc.' \n",
    "    and Segment='Heavy_User'\n",
    "    \n",
    ")\n",
    "\n",
    ",Telus_customers as\n",
    "(\n",
    "select cust_bus_cust_id,pi_cntrct_start_ts as contract_start_date,pi_cntrct_end_ts as contract_end_date\n",
    "from `cio-datahub-enterprise-pr-183a.ent_cust_cust.bq_prod_instnc_snpsht` \n",
    "WHERE DATE(prod_instnc_ts) = '2022-12-31'\n",
    "and pi_prod_instnc_typ_cd ='SMHM' #Serice type\n",
    "and bus_prod_instnc_src_id = 1001 #BANs that are for home services\n",
    "and pi_prod_instnc_stat_cd in ('A')\n",
    "and  consldt_cust_typ_cd = 'R'\n",
    "order by cust_bus_cust_id\n",
    "\n",
    ")\n",
    "\n",
    "select * from ADC_data a\n",
    "inner join Telus_customers b\n",
    "on a.dealer_customer_id=b.cust_bus_cust_id\n",
    "\n",
    "\n",
    "'''"
   ]
  },
  {
   "cell_type": "code",
   "execution_count": 30,
   "id": "bf4c5354-8b51-43b2-8113-d7ffbae97fdf",
   "metadata": {},
   "outputs": [],
   "source": [
    "DF=extract_bq_data(bq_client, sql=Query)"
   ]
  },
  {
   "cell_type": "code",
   "execution_count": 31,
   "id": "8faba08a-b365-44d9-9c32-6129cd77c8b5",
   "metadata": {},
   "outputs": [
    {
     "data": {
      "text/plain": [
       "Security System             28222\n",
       "Awareness and Automation        9\n",
       "Name: account_type_name, dtype: int64"
      ]
     },
     "execution_count": 31,
     "metadata": {},
     "output_type": "execute_result"
    }
   ],
   "source": [
    "DF['account_type_name'].value_counts()"
   ]
  },
  {
   "cell_type": "code",
   "execution_count": 9,
   "id": "73875559-89d8-461a-a769-a4c9b0c3eb76",
   "metadata": {},
   "outputs": [
    {
     "name": "stdout",
     "output_type": "stream",
     "text": [
      "<class 'pandas.core.frame.DataFrame'>\n",
      "RangeIndex: 28231 entries, 0 to 28230\n",
      "Data columns (total 123 columns):\n",
      " #    Column                                                        Dtype  \n",
      "---   ------                                                        -----  \n",
      " 0    Month_Snapshot                                                dbdate \n",
      " 1    customer_id                                                   Int64  \n",
      " 2    dealer_customer_id                                            object \n",
      " 3    primary_login_id                                              Int64  \n",
      " 4    dealer_name                                                   object \n",
      " 5    join_date                                                     object \n",
      " 6    account_type_name                                             object \n",
      " 7    customer_type_name                                            object \n",
      " 8    primary_email                                                 object \n",
      " 9    primary_phone                                                 object \n",
      " 10   last_updt_ts                                                  object \n",
      " 11   Dealer_type_flag                                              object \n",
      " 12   BAN                                                           Int64  \n",
      " 13   ADT_site_no                                                   float64\n",
      " 14   Best_partices_1                                               float64\n",
      " 15   Best_partices_2                                               float64\n",
      " 16   Best_partices_3                                               float64\n",
      " 17   Best_partices_4                                               float64\n",
      " 18   Best_partices_5                                               float64\n",
      " 19   Best_partices_6                                               float64\n",
      " 20   Best_Practice_All                                             float64\n",
      " 21   Best_Practice_All_flag                                        float64\n",
      " 22   sum_arm_commands                                              Int64  \n",
      " 23   sum_disarm_commands                                           Int64  \n",
      " 24   number_days_arming_disarming                                  Int64  \n",
      " 25   count_of_dates_arming                                         Int64  \n",
      " 26   Arming_Consistency                                            float64\n",
      " 27   Arming_Flag                                                   float64\n",
      " 28   sum_login_count                                               Int64  \n",
      " 29   number_of_login_days                                          Int64  \n",
      " 30   count_of_dates_logins                                         Int64  \n",
      " 31   Login_Consistency                                             float64\n",
      " 32   TC_Last3M_count_ACFailure                                     float64\n",
      " 33   TC_Last3M_count_Alarm                                         float64\n",
      " 34   TC_Last3M_count_BatteryAbsent                                 float64\n",
      " 35   TC_Last3M_count_BellCircuit                                   float64\n",
      " 36   TC_Last3M_count_BroadbandCommFailure                          float64\n",
      " 37   TC_Last3M_count_CameraNotCommunicating                        float64\n",
      " 38   TC_Last3M_count_CameraNotReachable                            float64\n",
      " 39   TC_Last3M_count_CarbonMonoxideAlert                           float64\n",
      " 40   TC_Last3M_count_CarbonMonoxideSensorTrouble                   float64\n",
      " 41   TC_Last3M_count_CellCommFailure                               float64\n",
      " 42   TC_Last3M_count_CellularSensorLowSignalStrength               float64\n",
      " 43   TC_Last3M_count_ControllerPowerFailure                        float64\n",
      " 44   TC_Last3M_count_ControllerPowerFault                          float64\n",
      " 45   TC_Last3M_count_CustomerNotLoggedIn                           float64\n",
      " 46   TC_Last3M_count_DeviceCoolDownMode                            float64\n",
      " 47   TC_Last3M_count_DeviceDisabled                                float64\n",
      " 48   TC_Last3M_count_DevicePowerIssue                              float64\n",
      " 49   TC_Last3M_count_EmptyEquipmentList                            float64\n",
      " 50   TC_Last3M_count_FailedReceiverEvent                           float64\n",
      " 51   TC_Last3M_count_FailureToCommunicateTrouble                   float64\n",
      " 52   TC_Last3M_count_FireSensorTrouble                             float64\n",
      " 53   TC_Last3M_count_HeatOrProbeSensorTrouble                      float64\n",
      " 54   TC_Last3M_count_HiddenPartitionArmed                          float64\n",
      " 55   TC_Last3M_count_IncompatibleDevice                            float64\n",
      " 56   TC_Last3M_count_IncompatiblePanelVersion                      float64\n",
      " 57   TC_Last3M_count_InvalidPrimaryEmail                           float64\n",
      " 58   TC_Last3M_count_KeypadTamper                                  float64\n",
      " 59   TC_Last3M_count_LargeLeak                                     float64\n",
      " 60   TC_Last3M_count_MediumLeak                                    float64\n",
      " 61   TC_Last3M_count_ModemPanelCommError                           float64\n",
      " 62   TC_Last3M_count_ModuleMalfunction                             float64\n",
      " 63   TC_Last3M_count_MonitoringStationIntegrationsCustomerAccount  float64\n",
      " 64   TC_Last3M_count_MonitoringStationZoneSyncFailure              float64\n",
      " 65   TC_Last3M_count_NeverForwarding                               float64\n",
      " 66   TC_Last3M_count_NeverPinged                                   float64\n",
      " 67   TC_Last3M_count_NoActivitySchedule                            float64\n",
      " 68   TC_Last3M_count_NoArmings                                     float64\n",
      " 69   TC_Last3M_count_NoEquipmentList                               float64\n",
      " 70   TC_Last3M_count_NoTwoWayLinesAvailable                        float64\n",
      " 71   TC_Last3M_count_NonProductionFirmware                         float64\n",
      " 72   TC_Last3M_count_NotNetworkedTrouble                           float64\n",
      " 73   TC_Last3M_count_OnboardRecordingScheduleNotSetUp              float64\n",
      " 74   TC_Last3M_count_PGM2FireTrouble                               float64\n",
      " 75   TC_Last3M_count_PGMMultiplePartitions                         float64\n",
      " 76   TC_Last3M_count_PanelAuxPanic                                 float64\n",
      " 77   TC_Last3M_count_PanelDuress                                   float64\n",
      " 78   TC_Last3M_count_PanelFirePanic                                float64\n",
      " 79   TC_Last3M_count_PanelLowBattery                               float64\n",
      " 80   TC_Last3M_count_PanelNotResponding                            float64\n",
      " 81   TC_Last3M_count_PanelOvercurrentTrouble                       float64\n",
      " 82   TC_Last3M_count_PanelPolicePanic                              float64\n",
      " 83   TC_Last3M_count_PanelTamper                                   float64\n",
      " 84   TC_Last3M_count_PendingFirmwareUpgradeFailed                  float64\n",
      " 85   TC_Last3M_count_PeripheralAuxTrouble                          float64\n",
      " 86   TC_Last3M_count_PhoneLineCut                                  float64\n",
      " 87   TC_Last3M_count_PoorSignaling                                 float64\n",
      " 88   TC_Last3M_count_RfJamTrouble                                  float64\n",
      " 89   TC_Last3M_count_SDCardRecordingFailure                        float64\n",
      " 90   TC_Last3M_count_SDCardRemoved                                 float64\n",
      " 91   TC_Last3M_count_SEMPanelSyncError                             float64\n",
      " 92   TC_Last3M_count_SecureEnrollmentFailed                        float64\n",
      " 93   TC_Last3M_count_SensorBypassed                                float64\n",
      " 94   TC_Last3M_count_SensorLowBattery                              float64\n",
      " 95   TC_Last3M_count_SensorMalfunction                             float64\n",
      " 96   TC_Last3M_count_SensorTamper                                  float64\n",
      " 97   TC_Last3M_count_SensorTroubleEventsDisabled                   float64\n",
      " 98   TC_Last3M_count_SetupNotComplete                              float64\n",
      " 99   TC_Last3M_count_SirenTamper                                   float64\n",
      " 100  TC_Last3M_count_SmallLeak                                     float64\n",
      " 101  TC_Last3M_count_SmokeSensorReset                              float64\n",
      " 102  TC_Last3M_count_SvrHardDriveIssue                             float64\n",
      " 103  TC_Last3M_count_SvrRecordingScheduleNotRecording              float64\n",
      " 104  TC_Last3M_count_SvrRecordingScheduleNotSetUp                  float64\n",
      " 105  TC_Last3M_count_SystemLocked                                  float64\n",
      " 106  TC_Last3M_count_TamperEventsDisabled                          float64\n",
      " 107  TC_Last3M_count_ThermostatTooCold                             float64\n",
      " 108  TC_Last3M_count_ThermostatTooWarm                             float64\n",
      " 109  TC_Last3M_count_UploadsOverQuota                              float64\n",
      " 110  TC_Last3M_count_VideoDeviceFirmwareOutdated                   float64\n",
      " 111  TC_Last3M_count_VideoObjectDetectionRuleNotConfigured         float64\n",
      " 112  TC_Last3M_count_WaterAlert                                    float64\n",
      " 113  TC_Last3M_count_ZWaveRadioTrouble                             float64\n",
      " 114  TC_Last3M_count_ZoneDeviceMaskTrouble                         float64\n",
      " 115  TCG_Last3M_count_Central_Station_Condition                    float64\n",
      " 116  TCG_Last3M_count_Critical_System_Issue                        float64\n",
      " 117  TCG_Last3M_count_Engagement_Issue                             float64\n",
      " 118  TCG_Last3M_count_System_Condition                             float64\n",
      " 119  Segment                                                       object \n",
      " 120  cust_bus_cust_id                                              object \n",
      " 121  contract_start_date                                           object \n",
      " 122  contract_end_date                                             object \n",
      "dtypes: Int64(10), dbdate(1), float64(99), object(13)\n",
      "memory usage: 26.8+ MB\n"
     ]
    }
   ],
   "source": [
    "DF.info(verbose=True)"
   ]
  },
  {
   "cell_type": "code",
   "execution_count": 10,
   "id": "afb17b5f-fb7f-4ec6-9e25-53598f2e6a20",
   "metadata": {},
   "outputs": [],
   "source": [
    "TC_columns= [col for col in DF.columns if 'TC_' in col]"
   ]
  },
  {
   "cell_type": "code",
   "execution_count": 15,
   "id": "e0802aa4-550a-4ac1-8954-5cb526535e03",
   "metadata": {},
   "outputs": [],
   "source": [
    "DF['TC_columns_total']=DF[TC_columns].apply(lambda x: x.sum(),axis=1)"
   ]
  },
  {
   "cell_type": "code",
   "execution_count": 16,
   "id": "1730c999-f645-46e2-b12c-ecfaef02ea37",
   "metadata": {},
   "outputs": [
    {
     "data": {
      "text/plain": [
       "0.0      17503\n",
       "1.0       4702\n",
       "2.0       1902\n",
       "3.0        886\n",
       "4.0        588\n",
       "         ...  \n",
       "390.0        1\n",
       "123.0        1\n",
       "515.0        1\n",
       "65.0         1\n",
       "369.0        1\n",
       "Name: TC_columns_total, Length: 119, dtype: int64"
      ]
     },
     "execution_count": 16,
     "metadata": {},
     "output_type": "execute_result"
    }
   ],
   "source": [
    "DF['TC_columns_total'].value_counts()"
   ]
  },
  {
   "cell_type": "code",
   "execution_count": 17,
   "id": "6d85e802-d3f6-4a73-9095-ad8a2a5fb99f",
   "metadata": {},
   "outputs": [],
   "source": [
    "DF_1=DF[DF.TC_columns_total==0]"
   ]
  },
  {
   "cell_type": "code",
   "execution_count": 18,
   "id": "71f65b4d-e3c3-4935-93b8-3449e3aa6cd1",
   "metadata": {},
   "outputs": [
    {
     "name": "stdout",
     "output_type": "stream",
     "text": [
      "<class 'pandas.core.frame.DataFrame'>\n",
      "Int64Index: 17503 entries, 0 to 28229\n",
      "Columns: 124 entries, Month_Snapshot to TC_columns_total\n",
      "dtypes: Int64(10), dbdate(1), float64(100), object(13)\n",
      "memory usage: 16.9+ MB\n"
     ]
    }
   ],
   "source": [
    "DF_1.info()"
   ]
  },
  {
   "cell_type": "code",
   "execution_count": 19,
   "id": "f81cda95-346c-47ec-b276-c09b25f533a0",
   "metadata": {},
   "outputs": [],
   "source": [
    "DF_1.to_csv('Customer_review_sizing.csv',index=False)"
   ]
  },
  {
   "cell_type": "code",
   "execution_count": null,
   "id": "fb1a6cf6-f4a3-4582-9b17-49784b4b8df2",
   "metadata": {},
   "outputs": [],
   "source": []
  }
 ],
 "metadata": {
  "kernelspec": {
   "display_name": "Python 3 (ipykernel)",
   "language": "python",
   "name": "python3"
  },
  "language_info": {
   "codemirror_mode": {
    "name": "ipython",
    "version": 3
   },
   "file_extension": ".py",
   "mimetype": "text/x-python",
   "name": "python",
   "nbconvert_exporter": "python",
   "pygments_lexer": "ipython3",
   "version": "3.8.12"
  }
 },
 "nbformat": 4,
 "nbformat_minor": 5
}
