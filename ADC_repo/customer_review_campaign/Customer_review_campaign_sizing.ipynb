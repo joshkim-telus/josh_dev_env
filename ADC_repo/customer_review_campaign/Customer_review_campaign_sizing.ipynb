{
 "cells": [
  {
   "cell_type": "code",
   "execution_count": null,
   "id": "4bd71830-08a6-4387-8ee0-15491938aeea",
   "metadata": {},
   "outputs": [],
   "source": [
    "#### import global modules\n",
    "import os\n",
    "import sys\n",
    "import pandas as pd\n",
    "import numpy as np\n",
    "from pathlib import Path\n",
    "from yaml import safe_load\n",
    "import google.oauth2.credentials\n",
    "from google.cloud import bigquery\n",
    "import gc\n",
    "\n",
    "# Set global vars\n",
    "pth_project = Path(os.getcwd().split('notebooks')[0])\n",
    "pth_data = pth_project / 'data'\n",
    "pth_queries = pth_project / 'core' / 'queries'\n",
    "pth_creds = pth_project / 'conf' / 'local' / 'project_config.yaml'\n",
    "sys.path.insert(0, str(pth_project))\n",
    "d_project_config = safe_load(pth_creds.open())\n",
    "# d_params = safe_load((pth_project / 'core' / 'parameters' / 'common.yaml').open())['data_extract']\n",
    "\n",
    "# import local modules\n",
    "from core.utils.gcp import connect_bq_services\n",
    "# from core.etl.extract import extract_bq_data, extract_pr_codes, format_conv_df, filter_convs\n",
    "\n",
    "# Connect to google services\n",
    "bq_client = connect_bq_services(d_project_config['gcp-project-name'])\n",
    "pd.options.display.max_rows = 100"
   ]
  },
  {
   "cell_type": "code",
   "execution_count": null,
   "id": "c8893abf-182f-4de5-a401-4e25a9e9614f",
   "metadata": {},
   "outputs": [],
   "source": [
    "def extract_bq_data(bq_client, sql=None, pth_query=None):\n",
    "    if sql is not None:\n",
    "        df = bq_client.query(sql).to_dataframe()\n",
    "    elif pth_query is not None:\n",
    "        sql = pth_query.read_text()\n",
    "        df = bq_client.query(sql).to_dataframe()\n",
    "    else:\n",
    "        raise ValueError('`sql` or `pth_query` should be set')  \n",
    "    return df"
   ]
  },
  {
   "cell_type": "code",
   "execution_count": null,
   "id": "943087ab-3078-459f-9a2e-9597e675ab42",
   "metadata": {},
   "outputs": [],
   "source": [
    "Query='''\n",
    "\n",
    "\n",
    "with ADC_data as \n",
    "\n",
    "(\n",
    "\n",
    "SELECT *\n",
    "    \n",
    "\n",
    "   FROM\n",
    "    `divgpras-pr-579355.ADC_Feature_Datastore.ADC_Master_Data`\n",
    "  WHERE\n",
    "    Month_Snapshot='2022-12-01'\n",
    "    AND dealer_name='TELUS Communications Inc.' \n",
    "    and Segment='Heavy_User'\n",
    "    \n",
    ")\n",
    "\n",
    ",Telus_customers as\n",
    "(\n",
    "select cust_bus_cust_id,pi_cntrct_start_ts as contract_start_date,pi_cntrct_end_ts as contract_end_date\n",
    "from `cio-datahub-enterprise-pr-183a.ent_cust_cust.bq_prod_instnc_snpsht` \n",
    "WHERE DATE(prod_instnc_ts) = '2022-12-31'\n",
    "and pi_prod_instnc_typ_cd ='SMHM' #Serice type\n",
    "and bus_prod_instnc_src_id = 1001 #BANs that are for home services\n",
    "and pi_prod_instnc_stat_cd in ('A')\n",
    "and  consldt_cust_typ_cd = 'R'\n",
    "order by cust_bus_cust_id\n",
    "\n",
    ")\n",
    "\n",
    "select * from ADC_data a\n",
    "inner join Telus_customers b\n",
    "on a.dealer_customer_id=b.cust_bus_cust_id\n",
    "\n",
    "\n",
    "'''"
   ]
  },
  {
   "cell_type": "code",
   "execution_count": null,
   "id": "bf4c5354-8b51-43b2-8113-d7ffbae97fdf",
   "metadata": {},
   "outputs": [],
   "source": [
    "DF=extract_bq_data(bq_client, sql=Query)"
   ]
  },
  {
   "cell_type": "code",
   "execution_count": null,
   "id": "8faba08a-b365-44d9-9c32-6129cd77c8b5",
   "metadata": {},
   "outputs": [],
   "source": [
    "DF['account_type_name'].value_counts()"
   ]
  },
  {
   "cell_type": "code",
   "execution_count": null,
   "id": "73875559-89d8-461a-a769-a4c9b0c3eb76",
   "metadata": {},
   "outputs": [],
   "source": [
    "DF.info(verbose=True)"
   ]
  },
  {
   "cell_type": "code",
   "execution_count": null,
   "id": "afb17b5f-fb7f-4ec6-9e25-53598f2e6a20",
   "metadata": {},
   "outputs": [],
   "source": [
    "TC_columns= [col for col in DF.columns if 'TC_' in col]"
   ]
  },
  {
   "cell_type": "code",
   "execution_count": null,
   "id": "e0802aa4-550a-4ac1-8954-5cb526535e03",
   "metadata": {},
   "outputs": [],
   "source": [
    "DF['TC_columns_total']=DF[TC_columns].apply(lambda x: x.sum(),axis=1)"
   ]
  },
  {
   "cell_type": "code",
   "execution_count": null,
   "id": "1730c999-f645-46e2-b12c-ecfaef02ea37",
   "metadata": {},
   "outputs": [],
   "source": [
    "DF['TC_columns_total'].value_counts()"
   ]
  },
  {
   "cell_type": "code",
   "execution_count": null,
   "id": "6d85e802-d3f6-4a73-9095-ad8a2a5fb99f",
   "metadata": {},
   "outputs": [],
   "source": [
    "DF_1=DF[DF.TC_columns_total==0]"
   ]
  },
  {
   "cell_type": "code",
   "execution_count": null,
   "id": "71f65b4d-e3c3-4935-93b8-3449e3aa6cd1",
   "metadata": {},
   "outputs": [],
   "source": [
    "DF_1.info()"
   ]
  },
  {
   "cell_type": "code",
   "execution_count": null,
   "id": "f81cda95-346c-47ec-b276-c09b25f533a0",
   "metadata": {},
   "outputs": [],
   "source": [
    "DF_1.to_csv('Customer_review_sizing.csv',index=False)"
   ]
  },
  {
   "cell_type": "code",
   "execution_count": null,
   "id": "fb1a6cf6-f4a3-4582-9b17-49784b4b8df2",
   "metadata": {},
   "outputs": [],
   "source": []
  }
 ],
 "metadata": {
  "kernelspec": {
   "display_name": "Python 3 (ipykernel)",
   "language": "python",
   "name": "python3"
  },
  "language_info": {
   "codemirror_mode": {
    "name": "ipython",
    "version": 3
   },
   "file_extension": ".py",
   "mimetype": "text/x-python",
   "name": "python",
   "nbconvert_exporter": "python",
   "pygments_lexer": "ipython3",
   "version": "3.8.12"
  }
 },
 "nbformat": 4,
 "nbformat_minor": 5
}
