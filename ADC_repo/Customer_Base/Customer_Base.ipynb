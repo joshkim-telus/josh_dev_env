{
 "cells": [
  {
   "cell_type": "code",
   "execution_count": null,
   "id": "a3681461-4210-41c2-bff3-6d3ce1726ddf",
   "metadata": {},
   "outputs": [],
   "source": [
    "#### import global modules\n",
    "import os\n",
    "import sys\n",
    "import pandas as pd\n",
    "import numpy as np\n",
    "from pathlib import Path\n",
    "from yaml import safe_load\n",
    "import google.oauth2.credentials\n",
    "from google.cloud import bigquery\n",
    "import gc\n",
    "\n",
    "# Set global vars\n",
    "pth_project = Path(os.getcwd().split('notebooks')[0])\n",
    "pth_data = pth_project / 'data'\n",
    "pth_queries = pth_project / 'core' / 'queries'\n",
    "pth_creds = pth_project / 'conf' / 'local' / 'project_config.yaml'\n",
    "sys.path.insert(0, str(pth_project))\n",
    "d_project_config = safe_load(pth_creds.open())\n",
    "# d_params = safe_load((pth_project / 'core' / 'parameters' / 'common.yaml').open())['data_extract']\n",
    "\n",
    "# import local modules\n",
    "from core.utils.gcp import connect_bq_services\n",
    "# from core.etl.extract import extract_bq_data, extract_pr_codes, format_conv_df, filter_convs\n",
    "\n",
    "# Connect to google services\n",
    "bq_client = connect_bq_services(d_project_config['gcp-project-name'])\n",
    "pd.options.display.max_rows = 100"
   ]
  },
  {
   "cell_type": "code",
   "execution_count": null,
   "id": "1bde59de-d66a-44ca-bc0c-37ddd399a788",
   "metadata": {},
   "outputs": [],
   "source": [
    "def extract_bq_data(bq_client, sql=None, pth_query=None):\n",
    "    if sql is not None:\n",
    "        df = bq_client.query(sql).to_dataframe()\n",
    "    elif pth_query is not None:\n",
    "        sql = pth_query.read_text()\n",
    "        df = bq_client.query(sql).to_dataframe()\n",
    "    else:\n",
    "        raise ValueError('`sql` or `pth_query` should be set')  \n",
    "    return df"
   ]
  },
  {
   "cell_type": "code",
   "execution_count": null,
   "id": "82907adc-09fb-4e52-a132-dcef4f4fa8bb",
   "metadata": {},
   "outputs": [],
   "source": [
    "Customer_Details_Query='''\n",
    "\n",
    "SELECT customer_id,dealer_customer_id,primary_login_id,dealer_name,join_date,account_type_name,customer_type_name,primary_email,primary_phone,last_updt_ts\n",
    "FROM `cio-datahub-enterprise-pr-183a.src_adc.bq_customer_account_details` \n",
    "where last_updt_ts >='2022-08-01'  and last_updt_ts < '2022-10-01'  \n",
    "and account_type_name!='Standalone'\n",
    "and customer_type_name='Customer'\n",
    "QUALIFY ROW_NUMBER() OVER (PARTITION BY customer_id ORDER BY last_updt_ts DESC) = 1\n",
    "order by dealer_name,join_date,customer_id\n",
    "\n",
    "\n",
    "'''"
   ]
  },
  {
   "cell_type": "code",
   "execution_count": null,
   "id": "467eb1dc-b2e0-4895-8c8b-7761cff9bbc9",
   "metadata": {},
   "outputs": [],
   "source": [
    "Customer_DF=extract_bq_data(bq_client, sql=Customer_Details_Query)"
   ]
  },
  {
   "cell_type": "code",
   "execution_count": null,
   "id": "4bf81da7-0977-4182-8fc3-b7e2f86bb554",
   "metadata": {},
   "outputs": [],
   "source": [
    "Customer_DF.info()"
   ]
  },
  {
   "cell_type": "code",
   "execution_count": null,
   "id": "170bea5d-81e7-430f-9f24-7c5bdb0a68c3",
   "metadata": {},
   "outputs": [],
   "source": [
    "Customer_DF.head()"
   ]
  },
  {
   "cell_type": "code",
   "execution_count": null,
   "id": "350a273f-2144-470e-82e9-c05279da878d",
   "metadata": {},
   "outputs": [],
   "source": [
    "TC_Query= '''\n",
    "\n",
    "\n",
    "select * from `divgpras-pr-579355.ADC.Trouble_Condition_Group_last3months_Aug2022`\n",
    "\n",
    "'''\n"
   ]
  },
  {
   "cell_type": "code",
   "execution_count": null,
   "id": "2434bcc1-89e0-48ff-bddb-066ec53a99b6",
   "metadata": {},
   "outputs": [],
   "source": [
    "TC_Data=extract_bq_data(bq_client, sql=TC_Query)"
   ]
  },
  {
   "cell_type": "code",
   "execution_count": null,
   "id": "e7d0f75a-22a4-4296-84b6-c6c9fdf46829",
   "metadata": {},
   "outputs": [],
   "source": [
    "TC_Data.info()"
   ]
  },
  {
   "cell_type": "code",
   "execution_count": null,
   "id": "d827d820-e257-447e-ae99-c114882c08fb",
   "metadata": {},
   "outputs": [],
   "source": [
    "TC_Data['TC_flag']=1"
   ]
  },
  {
   "cell_type": "code",
   "execution_count": null,
   "id": "55e4d78b-337a-4410-bca8-06841b1c246e",
   "metadata": {},
   "outputs": [],
   "source": [
    "Customer_DF_1=Customer_DF.merge(TC_Data,on='customer_id',how='left')"
   ]
  },
  {
   "cell_type": "code",
   "execution_count": null,
   "id": "242d9ff2-a0e4-4181-b75f-57325bf9ce34",
   "metadata": {},
   "outputs": [],
   "source": [
    "Customer_DF_1.info()"
   ]
  },
  {
   "cell_type": "code",
   "execution_count": null,
   "id": "439699e9-0a28-44e0-97ed-cb6c215d8c23",
   "metadata": {},
   "outputs": [],
   "source": [
    "Customer_DF_1['TC_flag'].isna().sum()/Customer_DF_1.shape[0]"
   ]
  },
  {
   "cell_type": "code",
   "execution_count": null,
   "id": "09f17357-f5f1-47c8-bcac-894ed2b805b7",
   "metadata": {},
   "outputs": [],
   "source": [
    "Customer_DF_1['TC_flag'].fillna(0,inplace=True)"
   ]
  },
  {
   "cell_type": "code",
   "execution_count": null,
   "id": "44806de5-39bc-4f7f-9612-9aead1e577a3",
   "metadata": {},
   "outputs": [],
   "source": [
    "Customer_DF_1['TC_flag'].value_counts(normalize=True)*100"
   ]
  },
  {
   "cell_type": "code",
   "execution_count": null,
   "id": "d70ad05d-6987-4654-8642-927868716234",
   "metadata": {},
   "outputs": [],
   "source": [
    "Camera_Query='''\n",
    "\n",
    "select customer_id, 1 as Camera_flag from `cio-datahub-enterprise-pr-183a.src_adc.bq_camera`\n",
    "group by customer_id\n",
    "order by customer_id\n",
    "\n",
    "\n",
    "'''"
   ]
  },
  {
   "cell_type": "code",
   "execution_count": null,
   "id": "3f6729b4-f16a-4b02-a61f-94d6c52bd5d9",
   "metadata": {},
   "outputs": [],
   "source": [
    "Camera_DF=extract_bq_data(bq_client, sql=Camera_Query)"
   ]
  },
  {
   "cell_type": "code",
   "execution_count": null,
   "id": "6fbbb94b-266b-4aa1-82b9-9bf28c4ea172",
   "metadata": {},
   "outputs": [],
   "source": [
    "Camera_DF.info()"
   ]
  },
  {
   "cell_type": "code",
   "execution_count": null,
   "id": "f1b3418a-2f65-4a40-a458-332f04421bb6",
   "metadata": {},
   "outputs": [],
   "source": [
    "Customer_DF_2=Customer_DF_1.merge(Camera_DF,on='customer_id',how='left')"
   ]
  },
  {
   "cell_type": "code",
   "execution_count": null,
   "id": "200305c0-f341-4c30-a59e-582ad398e9ea",
   "metadata": {},
   "outputs": [],
   "source": [
    "del Customer_DF\n",
    "gc.collect()"
   ]
  },
  {
   "cell_type": "code",
   "execution_count": null,
   "id": "d249e259-f3ac-432e-b147-07f3232ef319",
   "metadata": {},
   "outputs": [],
   "source": [
    "Customer_DF_2['Camera_flag'].fillna(0,inplace=True)"
   ]
  },
  {
   "cell_type": "code",
   "execution_count": null,
   "id": "61437757-5ca0-4585-a83f-09faca279fc8",
   "metadata": {},
   "outputs": [],
   "source": [
    "Customer_DF_2['Camera_flag'].value_counts(normalize=True)*100"
   ]
  },
  {
   "cell_type": "code",
   "execution_count": null,
   "id": "9e4743e0-301a-4dfe-b7ba-0a4b1d92b2ee",
   "metadata": {},
   "outputs": [],
   "source": [
    "Camera_TC_Query='''\n",
    "\n",
    "select dealer_name,customer_id,unit_id,device_id,trouble_condition_name,trouble_condition_group_id,trouble_condition_group_desc, start_date_utc,end_date_utc\n",
    "from `cio-datahub-enterprise-pr-183a.src_adc.bq_troublecondition_data`\n",
    "where trouble_condition_start_ind='Y'and trouble_condition_closed_ind='Y' and date(start_date_utc) >= '2022-05-01' and date(start_date_utc) <'2022-08-01' and trouble_condition_name in ('CameraNotReachable','CameraNotCommunicating','BroadbandCommFailure')\n",
    "\n",
    "'''"
   ]
  },
  {
   "cell_type": "code",
   "execution_count": null,
   "id": "b22b2390-f2ce-4f32-91dc-675fd2fe1e4f",
   "metadata": {},
   "outputs": [],
   "source": [
    "Camera_TC_DF_May_Aug2022=extract_bq_data(bq_client, sql=Camera_TC_Query)"
   ]
  },
  {
   "cell_type": "code",
   "execution_count": null,
   "id": "2936bf03-5e37-4a34-940b-988c0bb8019d",
   "metadata": {},
   "outputs": [],
   "source": [
    "Camera_TC_DF_May_Aug2022.info()"
   ]
  },
  {
   "cell_type": "code",
   "execution_count": null,
   "id": "f102f67b-1ffb-43f4-b3ab-e524958930b0",
   "metadata": {},
   "outputs": [],
   "source": [
    "Camera_TC_DF_May_Aug2022['customer_id'].nunique()"
   ]
  },
  {
   "cell_type": "code",
   "execution_count": null,
   "id": "058d9c1b-81a6-4d20-936b-899627c7ad58",
   "metadata": {},
   "outputs": [],
   "source": [
    "Camera_TC_DF_May_Aug2022['Camera_TC_issue_last3M_flag']=1"
   ]
  },
  {
   "cell_type": "code",
   "execution_count": null,
   "id": "c188e982-324a-4011-b3d9-483c9172490a",
   "metadata": {},
   "outputs": [],
   "source": [
    "Camera_TC_DF_May_Aug2022_customer_list=Camera_TC_DF_May_Aug2022[['customer_id','Camera_TC_issue_last3M_flag']].drop_duplicates()"
   ]
  },
  {
   "cell_type": "code",
   "execution_count": null,
   "id": "225d9219-1338-40bc-aca8-8cb43ce82995",
   "metadata": {},
   "outputs": [],
   "source": [
    "Camera_TC_DF_May_Aug2022_customer_list.info()"
   ]
  },
  {
   "cell_type": "code",
   "execution_count": null,
   "id": "21aaf004-f992-4d94-bc3c-0dcac4a1bf4d",
   "metadata": {},
   "outputs": [],
   "source": [
    "Customer_DF_3=Customer_DF_2.merge(Camera_TC_DF_May_Aug2022_customer_list,on='customer_id',how='left')"
   ]
  },
  {
   "cell_type": "code",
   "execution_count": null,
   "id": "5a6d9726-fc69-432e-98e0-94545492541b",
   "metadata": {},
   "outputs": [],
   "source": [
    "del Customer_DF_1\n",
    "gc.collect()"
   ]
  },
  {
   "cell_type": "code",
   "execution_count": null,
   "id": "c30516b5-2363-4968-8ee7-b3803c9dd515",
   "metadata": {},
   "outputs": [],
   "source": [
    "Customer_DF_3['Camera_TC_issue_last3M_flag'].fillna(0,inplace=True)"
   ]
  },
  {
   "cell_type": "code",
   "execution_count": null,
   "id": "b9f50fed-e857-4ba0-be84-3d3a951ade30",
   "metadata": {},
   "outputs": [],
   "source": [
    "Customer_DF_3['Camera_TC_issue_last3M_flag'].value_counts(normalize=True)*100"
   ]
  },
  {
   "cell_type": "code",
   "execution_count": null,
   "id": "8ee6465c-6668-4126-8d31-b234010df6d6",
   "metadata": {},
   "outputs": [],
   "source": [
    "Termination_Details='''\n",
    "\n",
    "select customer_id,term_date,term_reason,1 as Churn_flag from `cio-datahub-enterprise-pr-183a.src_adc.bq_customer_account_terminated_details`\n",
    "where date(term_date) >='2022-08-01'  and date(term_date) < '2022-10-01' \n",
    "QUALIFY ROW_NUMBER() OVER (PARTITION BY customer_id ORDER BY last_updt_ts DESC) = 1\n",
    "\n",
    "'''"
   ]
  },
  {
   "cell_type": "code",
   "execution_count": null,
   "id": "9888cf97-f66c-427c-9716-4c13f3fbe857",
   "metadata": {},
   "outputs": [],
   "source": [
    "Termination_DF=extract_bq_data(bq_client, sql=Termination_Details)"
   ]
  },
  {
   "cell_type": "code",
   "execution_count": null,
   "id": "e04c0b26-0911-4ea9-931d-08d2f476a54a",
   "metadata": {},
   "outputs": [],
   "source": [
    "Termination_DF.info()"
   ]
  },
  {
   "cell_type": "code",
   "execution_count": null,
   "id": "f59c2c90-e088-4fcb-9fd2-d20a81fa8013",
   "metadata": {},
   "outputs": [],
   "source": [
    "Termination_DF['customer_id'].nunique()"
   ]
  },
  {
   "cell_type": "code",
   "execution_count": null,
   "id": "7496a9ce-3b6d-4256-b4d9-6c89b4a8dfd8",
   "metadata": {},
   "outputs": [],
   "source": [
    "Customer_DF_4=Customer_DF_3.merge(Termination_DF,on='customer_id',how='left')"
   ]
  },
  {
   "cell_type": "code",
   "execution_count": null,
   "id": "19ae57aa-21b2-41bf-9e0b-71b9292439f2",
   "metadata": {},
   "outputs": [],
   "source": [
    "Customer_DF_4.info()"
   ]
  },
  {
   "cell_type": "code",
   "execution_count": null,
   "id": "1a587125-b6f3-4d0e-bfb1-ee5c1ec360cd",
   "metadata": {},
   "outputs": [],
   "source": [
    "del Customer_DF_2\n",
    "gc.collect()"
   ]
  },
  {
   "cell_type": "code",
   "execution_count": null,
   "id": "5a87ec0f-aa1c-4728-8c2c-3237ed2457cd",
   "metadata": {},
   "outputs": [],
   "source": [
    "Customer_DF_4['Churn_flag'].fillna(0,inplace=True)"
   ]
  },
  {
   "cell_type": "code",
   "execution_count": null,
   "id": "6363c7ee-3412-41c4-a280-27ef57d8f0f8",
   "metadata": {},
   "outputs": [],
   "source": [
    "Customer_DF_4['Churn_flag'].value_counts(normalize=True)*100"
   ]
  },
  {
   "cell_type": "code",
   "execution_count": null,
   "id": "699b69a1-2ba0-4c66-9c4a-463acbe790c9",
   "metadata": {},
   "outputs": [],
   "source": [
    "Customer_DF_4.head()"
   ]
  },
  {
   "cell_type": "code",
   "execution_count": null,
   "id": "2b30a740-ae1d-4827-b6da-ff91326c48f0",
   "metadata": {},
   "outputs": [],
   "source": [
    "Customer_DF_4['Camera_and_any_TC_issue']=np.where((Customer_DF_4.TC_flag==1) & (Customer_DF_4.Camera_flag==1),1,0)"
   ]
  },
  {
   "cell_type": "code",
   "execution_count": null,
   "id": "02098122-198c-44c7-b876-c288c7ff7cf7",
   "metadata": {},
   "outputs": [],
   "source": [
    "Best_Practices_Query= '''\n",
    "\n",
    "select * from `divgpras-pr-579355.ADC.Best_Practices_Customers`\n",
    "\n",
    "'''\n",
    "\n"
   ]
  },
  {
   "cell_type": "code",
   "execution_count": null,
   "id": "5fc1a64a-311b-4b90-99e8-ecc767b74929",
   "metadata": {},
   "outputs": [],
   "source": [
    "Best_Practices_DF=extract_bq_data(bq_client, sql=Best_Practices_Query)"
   ]
  },
  {
   "cell_type": "code",
   "execution_count": null,
   "id": "6f39fbd6-6aa6-4062-bb5c-d59da6dee7cb",
   "metadata": {},
   "outputs": [],
   "source": [
    "Best_Practices_DF.info()"
   ]
  },
  {
   "cell_type": "code",
   "execution_count": null,
   "id": "615c9346-0893-42d6-af1d-849ad75653ac",
   "metadata": {},
   "outputs": [],
   "source": [
    "Customer_DF_5=Customer_DF_4.merge(Best_Practices_DF,on='customer_id',how='left')"
   ]
  },
  {
   "cell_type": "code",
   "execution_count": null,
   "id": "c4dd4168-4ca9-4833-ba76-1129066ec539",
   "metadata": {},
   "outputs": [],
   "source": [
    "del Customer_DF_3\n",
    "gc.collect()"
   ]
  },
  {
   "cell_type": "code",
   "execution_count": null,
   "id": "8b7c2a04-6dba-4623-9b6d-06b681fdd735",
   "metadata": {},
   "outputs": [],
   "source": [
    "Customer_DF_5.info()"
   ]
  },
  {
   "cell_type": "code",
   "execution_count": null,
   "id": "62024554-d07b-46bb-8de4-bc1535620b85",
   "metadata": {},
   "outputs": [],
   "source": [
    "Customer_DF_5['Best_Practice_All'].isna().sum()"
   ]
  },
  {
   "cell_type": "code",
   "execution_count": null,
   "id": "b60fdd9a-1083-459a-afa2-83c8f13d46fb",
   "metadata": {},
   "outputs": [],
   "source": [
    "Customer_DF_5['Best_Practice_All'].fillna(0,inplace=True)"
   ]
  },
  {
   "cell_type": "code",
   "execution_count": null,
   "id": "c149bc62-77d9-4cc6-bc70-c14270f38d40",
   "metadata": {},
   "outputs": [],
   "source": [
    "Customer_DF_5['Best_Practice_All'].value_counts(normalize=True)*100"
   ]
  },
  {
   "cell_type": "code",
   "execution_count": null,
   "id": "fd3a83fb-a9ca-414f-abef-7f63792a8c32",
   "metadata": {},
   "outputs": [],
   "source": [
    "Customer_DF_5['Best_Practice_All_flag']=Customer_DF_5['Best_Practice_All'].apply(lambda x: 1 if x==6 else 0)"
   ]
  },
  {
   "cell_type": "code",
   "execution_count": null,
   "id": "c1be0306-387c-422b-958b-7d351a2755da",
   "metadata": {},
   "outputs": [],
   "source": [
    "Customer_DF_5['Best_Practice_All_flag'].value_counts(normalize=True)*100"
   ]
  },
  {
   "cell_type": "code",
   "execution_count": null,
   "id": "e36000b9-498d-4717-bf9a-22d531e4c843",
   "metadata": {},
   "outputs": [],
   "source": [
    "Customer_DF_5['Churn_flag'].value_counts(normalize=True)*100"
   ]
  },
  {
   "cell_type": "code",
   "execution_count": null,
   "id": "f6f100b5-553f-4b8d-a170-d600de11333c",
   "metadata": {},
   "outputs": [],
   "source": [
    "Customer_DF_5.info()"
   ]
  },
  {
   "cell_type": "code",
   "execution_count": null,
   "id": "c251e8fd-abb4-4d8e-9a97-22072e95cc40",
   "metadata": {},
   "outputs": [],
   "source": [
    "Customer_DF_5.fillna(0,inplace=True)"
   ]
  },
  {
   "cell_type": "code",
   "execution_count": null,
   "id": "31e56b32-1924-4144-9e3c-7d167e9a45a6",
   "metadata": {},
   "outputs": [],
   "source": [
    "Arming_Query='''\n",
    "\n",
    "with max_date_sql as (\n",
    "select  max(date(date)) as max_date from `cio-datahub-enterprise-pr-183a.src_adc.bq_aggregate_daily_arming_commands`\n",
    ")\n",
    "\n",
    "select id_cust as customer_id,sum(count_arm_commands) as sum_arm_commands_last15days,sum(count_disarm_commands) as sum_disarm_commands_last15days,count (distinct date(date)) as number_days_arming_disarming_last15days\n",
    "from `cio-datahub-enterprise-pr-183a.src_adc.bq_aggregate_daily_arming_commands`\n",
    "where date(date) <= (select max_date from max_date_sql)\n",
    "\n",
    "and date(date) > DATE_ADD((select max_date from max_date_sql),interval -15 DAY)\n",
    "group by customer_id\n",
    "order by customer_id\n",
    "\n",
    "\n",
    "'''"
   ]
  },
  {
   "cell_type": "code",
   "execution_count": null,
   "id": "27278309-202b-4a83-9df5-e919e910298e",
   "metadata": {},
   "outputs": [],
   "source": [
    "Arming_DF=extract_bq_data(bq_client, sql=Arming_Query)"
   ]
  },
  {
   "cell_type": "code",
   "execution_count": null,
   "id": "76247076-6214-4d71-8e9e-08c3ef8cd9f8",
   "metadata": {},
   "outputs": [],
   "source": [
    "Arming_DF.info()"
   ]
  },
  {
   "cell_type": "code",
   "execution_count": null,
   "id": "0c54125d-3474-4650-b63c-dcca246ff50a",
   "metadata": {},
   "outputs": [],
   "source": [
    "Arming_DF.head()"
   ]
  },
  {
   "cell_type": "code",
   "execution_count": null,
   "id": "2e8555e8-0ce6-4641-b07f-3df56f9cc7aa",
   "metadata": {},
   "outputs": [],
   "source": [
    "Arming_DF['Arming_Consistency_last15days']=Arming_DF['number_days_arming_disarming_last15days'].apply(lambda x: x*100/15)\n",
    "\n",
    "Arming_DF['Arming_flag_last15days']=1"
   ]
  },
  {
   "cell_type": "code",
   "execution_count": null,
   "id": "bd679faf-dcc5-4b35-abe9-7fd1e6aa1fe1",
   "metadata": {},
   "outputs": [],
   "source": [
    "Arming_DF['Arming_Consistency_last15days'].value_counts(normalize=True)*100"
   ]
  },
  {
   "cell_type": "code",
   "execution_count": null,
   "id": "a51770f2-c33a-4e79-ba68-ea8cc9562dea",
   "metadata": {},
   "outputs": [],
   "source": [
    "Customer_DF_6=Customer_DF_5.merge(Arming_DF,on='customer_id',how='left')"
   ]
  },
  {
   "cell_type": "code",
   "execution_count": null,
   "id": "5890a63f-f706-487f-aea6-7a858a7953d2",
   "metadata": {},
   "outputs": [],
   "source": [
    "del Customer_DF_4\n",
    "gc.collect()"
   ]
  },
  {
   "cell_type": "code",
   "execution_count": null,
   "id": "242376c0-3f1d-44e5-92d5-cae02d5c0254",
   "metadata": {},
   "outputs": [],
   "source": [
    "Customer_DF_6['Arming_flag_last15days'].isna().sum()*100/Customer_DF_6.shape[0]\n"
   ]
  },
  {
   "cell_type": "code",
   "execution_count": null,
   "id": "8662b17b-4eb1-4c1f-8958-4c25b2eacaa6",
   "metadata": {},
   "outputs": [],
   "source": [
    "unique_customer_count=Customer_DF_6.shape[0]\n"
   ]
  },
  {
   "cell_type": "code",
   "execution_count": null,
   "id": "adc905b5-fddb-46d0-8987-dfa78cf92061",
   "metadata": {},
   "outputs": [],
   "source": [
    "Customer_DF_6.fillna(0,inplace=True)"
   ]
  },
  {
   "cell_type": "code",
   "execution_count": null,
   "id": "90f18c6f-05bb-47d8-9354-f7e5a9a116bd",
   "metadata": {},
   "outputs": [],
   "source": [
    "pd.DataFrame(Customer_DF_6.groupby(['Arming_flag_last15days']).agg(\n",
    "    Unique_Customers=('customer_id','nunique'), \n",
    "        Share_of_Customers=('customer_id',lambda x: round(x.nunique()*100/unique_customer_count,2)),    \n",
    "\n",
    "    Churn_counts = ('Churn_flag','sum'),\n",
    "     Churn_rate = ('Churn_flag',lambda x: round(x.mean()*100,2)),\n",
    "     ).reset_index().sort_values('Arming_flag_last15days',ascending=False))"
   ]
  },
  {
   "cell_type": "code",
   "execution_count": null,
   "id": "002636e7-1abd-47fd-bfea-bfe0fe08f46c",
   "metadata": {},
   "outputs": [],
   "source": [
    "pd.DataFrame(Customer_DF_6.groupby(['Arming_Consistency_last15days']).agg(\n",
    "    Unique_Customers=('customer_id','nunique'), \n",
    "    Share_of_Customers=('customer_id',lambda x: round(x.nunique()*100/unique_customer_count,2)),    \n",
    "    Churn_counts = ('Churn_flag','sum'),\n",
    "     Churn_rate = ('Churn_flag',lambda x: round(x.mean()*100,2)),\n",
    "     ).reset_index().sort_values('Arming_Consistency_last15days',ascending=False))"
   ]
  },
  {
   "cell_type": "code",
   "execution_count": null,
   "id": "b8563454-f194-439e-83b1-57bdb4da8e27",
   "metadata": {},
   "outputs": [],
   "source": [
    "pd.DataFrame(Customer_DF_6.groupby(['Best_partices_1']).agg(\n",
    "    Unique_Customers=('customer_id','nunique'),\n",
    "    Share_of_Customers=('customer_id',lambda x: x.nunique()*100/unique_customer_count),\n",
    "    Churn_counts = ('Churn_flag','sum'),\n",
    "     Churn_rate = ('Churn_flag',lambda x: x.mean()*100),\n",
    "     ).reset_index().sort_values('Best_partices_1',ascending=False))"
   ]
  },
  {
   "cell_type": "code",
   "execution_count": null,
   "id": "ed9b282f-6c8c-4d4c-b13e-0d851019d5f0",
   "metadata": {},
   "outputs": [],
   "source": [
    "pd.DataFrame(Customer_DF_6.groupby(['Best_partices_2']).agg(\n",
    "    Unique_Customers=('customer_id','nunique'), \n",
    "    Share_of_Customers=('customer_id',lambda x: x.nunique()*100/unique_customer_count),\n",
    "    Churn_counts = ('Churn_flag','sum'),\n",
    "     Churn_rate = ('Churn_flag',lambda x: round(x.mean()*100,2)),\n",
    "     ).reset_index().sort_values('Best_partices_2',ascending=False))"
   ]
  },
  {
   "cell_type": "code",
   "execution_count": null,
   "id": "ed7654bc-4828-4528-8f09-591dc9e07b40",
   "metadata": {},
   "outputs": [],
   "source": [
    "pd.DataFrame(Customer_DF_6.groupby(['Best_partices_3']).agg(\n",
    "    Unique_Customers=('customer_id','nunique'), \n",
    "    Churn_counts = ('Churn_flag','sum'),\n",
    "     Churn_rate = ('Churn_flag',lambda x: x.mean()*100),\n",
    "     ).reset_index().sort_values('Best_partices_3',ascending=False))"
   ]
  },
  {
   "cell_type": "code",
   "execution_count": null,
   "id": "5b070075-a25e-4bae-86e4-eb014fc640ba",
   "metadata": {},
   "outputs": [],
   "source": [
    "pd.DataFrame(Customer_DF_6.groupby(['Best_partices_4']).agg(\n",
    "    Unique_Customers=('customer_id','nunique'), \n",
    "    Churn_counts = ('Churn_flag','sum'),\n",
    "     Churn_rate = ('Churn_flag',lambda x: x.mean()*100),\n",
    "     ).reset_index().sort_values('Best_partices_4',ascending=False))"
   ]
  },
  {
   "cell_type": "code",
   "execution_count": null,
   "id": "167b4ecc-e7da-4aac-802e-841afbc7ea44",
   "metadata": {},
   "outputs": [],
   "source": [
    "pd.DataFrame(Customer_DF_6.groupby(['Best_partices_5']).agg(\n",
    "    Unique_Customers=('customer_id','nunique'), \n",
    "    Churn_counts = ('Churn_flag','sum'),\n",
    "     Churn_rate = ('Churn_flag',lambda x: x.mean()*100),\n",
    "     ).reset_index().sort_values('Best_partices_5',ascending=False))"
   ]
  },
  {
   "cell_type": "code",
   "execution_count": null,
   "id": "0b392922-639e-4b9e-bf1f-56ad86097435",
   "metadata": {},
   "outputs": [],
   "source": [
    "pd.DataFrame(Customer_DF_6.groupby(['Best_partices_6']).agg(\n",
    "    Unique_Customers=('customer_id','nunique'), \n",
    "    Churn_counts = ('Churn_flag','sum'),\n",
    "     Churn_rate = ('Churn_flag',lambda x: x.mean()*100),\n",
    "     ).reset_index().sort_values('Best_partices_6',ascending=False))"
   ]
  },
  {
   "cell_type": "code",
   "execution_count": null,
   "id": "56c06350-ae9e-431a-9ea1-7996d998bca5",
   "metadata": {},
   "outputs": [],
   "source": [
    "pd.DataFrame(Customer_DF_6.groupby(['Best_Practice_All_flag']).agg(\n",
    "    Unique_Customers=('customer_id','nunique'), \n",
    "    Churn_counts = ('Churn_flag','sum'),\n",
    "     Churn_rate = ('Churn_flag',lambda x: x.mean()*100),\n",
    "     ).reset_index().sort_values('Best_Practice_All_flag',ascending=False))"
   ]
  },
  {
   "cell_type": "code",
   "execution_count": null,
   "id": "0e8a7678-6fd3-4d14-9ac5-b7dd6986ab90",
   "metadata": {},
   "outputs": [],
   "source": [
    "pd.DataFrame(Customer_DF_6.groupby(['TC_flag']).agg(\n",
    "    Unique_Customers=('customer_id','nunique'), \n",
    "    Churn_counts = ('Churn_flag','sum'),\n",
    "     Churn_rate = ('Churn_flag',lambda x: x.mean()*100),\n",
    "     ).reset_index().sort_values('Unique_Customers',ascending=False))"
   ]
  },
  {
   "cell_type": "code",
   "execution_count": null,
   "id": "8e3f8090-8ca8-4492-8c40-c9bec6520fa6",
   "metadata": {},
   "outputs": [],
   "source": [
    "pd.DataFrame(Customer_DF_6.groupby(['Camera_flag']).agg(\n",
    "    Unique_Customers=('customer_id','nunique'), \n",
    "    Churn_counts = ('Churn_flag','sum'),\n",
    "     Churn_rate = ('Churn_flag',lambda x: x.mean()*100),\n",
    "     ).reset_index().sort_values('Unique_Customers',ascending=False))"
   ]
  },
  {
   "cell_type": "code",
   "execution_count": null,
   "id": "280a9ffb-d98b-4427-86c5-27c7752d3b4f",
   "metadata": {},
   "outputs": [],
   "source": [
    "pd.DataFrame(Customer_DF_6.groupby(['Camera_TC_issue_last3M_flag']).agg(\n",
    "    Unique_Customers=('customer_id','nunique'), \n",
    "    Churn_counts = ('Churn_flag','sum'),\n",
    "     Churn_rate = ('Churn_flag',lambda x: x.mean()*100),\n",
    "     ).reset_index().sort_values('Unique_Customers',ascending=False))"
   ]
  },
  {
   "cell_type": "code",
   "execution_count": null,
   "id": "5d709683-1ef7-4b16-bcae-1016b41bc312",
   "metadata": {},
   "outputs": [],
   "source": [
    "pd.DataFrame(Customer_DF_6.groupby(['Best_Practice_All_flag']).agg(\n",
    "    Unique_Customers=('customer_id','nunique'), \n",
    "    Churn_counts = ('Churn_flag','sum'),\n",
    "     Churn_rate = ('Churn_flag',lambda x: x.mean()*100),\n",
    "     ).reset_index().sort_values('Unique_Customers',ascending=False))"
   ]
  },
  {
   "cell_type": "code",
   "execution_count": null,
   "id": "d5779534-1369-4122-a800-c39fe1f6691b",
   "metadata": {},
   "outputs": [],
   "source": []
  },
  {
   "cell_type": "code",
   "execution_count": null,
   "id": "cfc8b8f7-48fe-419b-a792-49c246290d05",
   "metadata": {},
   "outputs": [],
   "source": []
  },
  {
   "cell_type": "code",
   "execution_count": null,
   "id": "4a05c273-dff4-4a18-b233-1c9cb55c7007",
   "metadata": {},
   "outputs": [],
   "source": []
  },
  {
   "cell_type": "code",
   "execution_count": null,
   "id": "b376ef15-7f44-41a9-9a99-198bb4bade1d",
   "metadata": {},
   "outputs": [],
   "source": [
    "pd.DataFrame(Customer_DF_5.groupby(['Camera_and_any_TC_issue']).agg(\n",
    "    Unique_Customers=('customer_id','nunique'), \n",
    "    Churn_counts = ('Churn_flag','sum'),\n",
    "     Churn_rate = ('Churn_flag',lambda x: x.mean()*100),\n",
    "     ).reset_index().sort_values('Unique_Customers',ascending=False))"
   ]
  },
  {
   "cell_type": "code",
   "execution_count": null,
   "id": "5083887a-7917-417f-8c52-8e3b471fe3d8",
   "metadata": {},
   "outputs": [],
   "source": [
    "Customer_DF_6.info()"
   ]
  },
  {
   "cell_type": "code",
   "execution_count": null,
   "id": "4cb67c85-9540-4fee-93fb-1dbf5ad4c6fc",
   "metadata": {},
   "outputs": [],
   "source": [
    "Customer_DF_6.columns"
   ]
  },
  {
   "cell_type": "code",
   "execution_count": null,
   "id": "5de344fe-8f9f-43cf-a317-0a84eb28b441",
   "metadata": {},
   "outputs": [],
   "source": [
    "feature_cols=[\n",
    "       'Central_Station_Condition_Issue_count_last3M',\n",
    "       'Critical_System_Issue_count_last3M', 'Engagement_Issue_count_last3M',\n",
    "       'System_Condition_Issue_count_last3M',\n",
    "       'Central_Station_Condition_Issue_duration_hours_sum_last3M',\n",
    "       'Critical_System_Issue_duration_hours_sum_last3M',\n",
    "       'Engagement_Issue_duration_hours_sum_last3M',\n",
    "       'System_Condition_Issue_duration_hours_sum_last3M', 'TC_flag',\n",
    "       'Camera_flag', 'Camera_TC_issue_last3M_flag', \n",
    "        'Camera_and_any_TC_issue',\n",
    "       'Best_partices_1', 'Best_partices_2', 'Best_partices_3',\n",
    "       'Best_partices_4', 'Best_partices_5', 'Best_partices_6',\n",
    "       'Best_Practice_All_flag',\n",
    "       'sum_arm_commands_last15days', 'sum_disarm_commands_last15days',\n",
    "       'number_days_arming_disarming_last15days',\n",
    "       'Arming_Consistency_last15days', 'Arming_flag_last15days']"
   ]
  },
  {
   "cell_type": "code",
   "execution_count": null,
   "id": "a00188d0-1d07-4111-9234-6251c6e661a3",
   "metadata": {},
   "outputs": [],
   "source": [
    "Customer_DF_6.shape"
   ]
  },
  {
   "cell_type": "code",
   "execution_count": null,
   "id": "d11d6bb7-890f-4c08-b1e0-ca02bee6ca86",
   "metadata": {},
   "outputs": [],
   "source": [
    "Customer_DF_6['Camera_flag'].value_counts()"
   ]
  },
  {
   "cell_type": "code",
   "execution_count": null,
   "id": "7f2073e7-1c48-4e0e-aabb-fd393e717b87",
   "metadata": {},
   "outputs": [],
   "source": [
    "Customer_DF_6['Camera_and_any_TC_issue'].value_counts()"
   ]
  },
  {
   "cell_type": "code",
   "execution_count": null,
   "id": "d1f94f09-c75b-4348-a066-59633fed77fa",
   "metadata": {},
   "outputs": [],
   "source": [
    "Customer_DF_6['Camera_TC_issue_last3M_flag'].value_counts()"
   ]
  },
  {
   "cell_type": "code",
   "execution_count": null,
   "id": "b6b6c2b4-90d8-4554-9a0a-91143b669da9",
   "metadata": {},
   "outputs": [],
   "source": [
    "Customer_DF_sub=Customer_DF_6['TC_flag']==1 & Customer_DF_6['TC_flag']==1 "
   ]
  },
  {
   "cell_type": "code",
   "execution_count": null,
   "id": "dcef6cd5-3469-4d89-bc2b-7344dfd8cb72",
   "metadata": {},
   "outputs": [],
   "source": [
    "from sklearn.model_selection import train_test_split\n",
    "\n",
    "\n",
    "def data_splitting(dataset=Customer_DF_6,feature_cols=[],Target=[],testsize=0.3):\n",
    "        \n",
    "    X=dataset[feature_cols]\n",
    "    Y=dataset[Target]\n",
    "    X1=pd.get_dummies(X,prefix_sep='__')\n",
    "    X_train, X_validation, Y_train, Y_validation = train_test_split(X1, Y, test_size=testsize, random_state=11,stratify=Y)\n",
    "    final_feature_columns=X_train.columns.tolist()\n",
    "    print()\n",
    "    print(\"Data splitting Completed.\")\n",
    "    return X_train,X_validation,Y_train,Y_validation,final_feature_columns"
   ]
  },
  {
   "cell_type": "code",
   "execution_count": null,
   "id": "3d65e64c-e2a7-41a7-add5-15fb053beede",
   "metadata": {},
   "outputs": [],
   "source": [
    "Target_col='Churn_flag'\n",
    "X_train,X_validation,Y_train,Y_validation,final_feature_columns=data_splitting(\n",
    "dataset=Customer_DF_6,feature_cols=feature_cols,Target=Target_col,testsize=0.3)"
   ]
  },
  {
   "cell_type": "code",
   "execution_count": null,
   "id": "211f3526-0b13-4e58-8a71-53cca6966c59",
   "metadata": {},
   "outputs": [],
   "source": [
    "# from sklearn.preprocessing import OneHotEncoder\n",
    "\n",
    "# X_train=pd.get_dummies(Customer_DF_6[feature_cols],prefix_sep='__')\n",
    "\n",
    "# Y_train=Customer_DF_6['Churn_flag']"
   ]
  },
  {
   "cell_type": "code",
   "execution_count": null,
   "id": "dbcf1bf2-9916-494f-a12b-e7b0897f26d0",
   "metadata": {},
   "outputs": [],
   "source": [
    "X_train.info()"
   ]
  },
  {
   "cell_type": "code",
   "execution_count": null,
   "id": "5b533987-c5ff-4142-bf0c-58b65d44302d",
   "metadata": {},
   "outputs": [],
   "source": [
    "from sklearn.tree import DecisionTreeClassifier\n",
    "\n",
    "dt = DecisionTreeClassifier(max_depth=5, min_samples_leaf=200)\n",
    "\n",
    "dt.fit(X_train,Y_train)"
   ]
  },
  {
   "cell_type": "code",
   "execution_count": null,
   "id": "ff3380ef-4288-4703-8871-3223aefc32b6",
   "metadata": {},
   "outputs": [],
   "source": [
    "import pandas as pd\n",
    "import numpy as np\n",
    "from sklearn.metrics import make_scorer\n",
    "\n",
    "\n",
    "\n",
    "def lift_calc_pd(model, X_test, y_test,target_column): # , model_path\n",
    "    \"\"\" this functions takes in the model\n",
    "    test features, targets, will return the\n",
    "    lift dataframe\n",
    "    \"\"\"\n",
    "    prediction = model.predict_proba(X_test)\n",
    "    print(\"output shape\", prediction.shape)\n",
    "    print(\"y_test shape:\", y_test.shape)\n",
    "    #Total_Actual_positive_targets=sum(y_test[target_column])\n",
    "    #print('Total_Actual_positive_targets:',Total_Actual_positive_targets)\n",
    "\n",
    "\n",
    "    prediction_df = pd.DataFrame(\n",
    "    prediction, columns=['prob_of_predict_0', 'prob_of_predict_1'])\n",
    "    y_df = pd.DataFrame(y_test, columns=[target_column])\n",
    "    prediction_with_label_df = y_df.join(prediction_df.set_index(y_df.index))\n",
    "\n",
    "\n",
    "    # Calculate lift on validation data\n",
    "    v1 = prediction_with_label_df[[target_column, 'prob_of_predict_1']]\n",
    "    v1.sort_values(by=['prob_of_predict_1'], inplace=True)\n",
    "    v1['Qcut'] = pd.qcut(v1['prob_of_predict_1'].rank(\n",
    "    method='first'), q=20, labels=False)\n",
    "    v1['SD'] = 20-(v1['Qcut'].astype(int))\n",
    "\n",
    "\n",
    "    vl1 = v1.drop(['Qcut'], axis=1)\n",
    "    vl1['Freq'] = vl1.groupby('SD')[target_column].transform(np.sum)\n",
    "    vl2 = vl1.drop([target_column, 'prob_of_predict_1'], axis=1).drop_duplicates()\n",
    "    vl2.sort_values(by=['SD'], inplace=True)\n",
    "    vl2['Cumm Sum'] = vl2['Freq'].cumsum()\n",
    "    vl2['Lift'] = vl2['Freq'].div(vl2['Freq'].sum(), axis=0).div(0.05)\n",
    "    vl2['Cumm Lift'] = vl2['Cumm Sum'].div(vl2['Freq'].sum(), axis=0).div(vl2['SD']/20)\n",
    "    vl2['Capture Rate'] = vl2['Lift']*5\n",
    "    vl2['Cummu Capture Rate'] = vl2['Capture Rate'].cumsum()\n",
    "    # vl2['Capture_Rate_Defintion']= vl2['Freq']*100/Total_Actual_positive_targets\n",
    "    # vl2['Cummu_Capture_Rate_Defintion']= vl2['Capture_Rate_Defintion'].cumsum()\n",
    "    return pd.DataFrame(vl2)"
   ]
  },
  {
   "cell_type": "code",
   "execution_count": null,
   "id": "8cb61634-a152-4b8a-8338-e680a0ab7771",
   "metadata": {},
   "outputs": [],
   "source": [
    "Target_col"
   ]
  },
  {
   "cell_type": "code",
   "execution_count": null,
   "id": "38d05dfe-b96d-46ca-9022-5a15f6e5faec",
   "metadata": {},
   "outputs": [],
   "source": [
    "val_DF_metric=lift_calc_pd(model=dt,X_test=X_validation,y_test=Y_validation,target_column=Target_col)"
   ]
  },
  {
   "cell_type": "code",
   "execution_count": null,
   "id": "34b14447-2578-4eee-8a09-e1ebbd7958a2",
   "metadata": {},
   "outputs": [],
   "source": [
    "val_DF_metric"
   ]
  },
  {
   "cell_type": "code",
   "execution_count": null,
   "id": "06a003fc-6581-486d-9c5b-60588f52b741",
   "metadata": {},
   "outputs": [],
   "source": [
    "importances = dt.feature_importances_\n",
    "\n",
    "forest_importances = pd.Series(importances, index=feature_cols)\n",
    "forest_importances.plot.bar()\n"
   ]
  },
  {
   "cell_type": "code",
   "execution_count": null,
   "id": "86637ee5-8df9-4128-ba26-856e6e4aba6c",
   "metadata": {},
   "outputs": [],
   "source": [
    "\n",
    "\n",
    "# from matplotlib import pyplot as plt\n",
    "\n",
    "# fig = plt.figure(figsize=(45,45))\n",
    "# _ = tree.plot_tree(dt, \n",
    "#                    feature_names=feature_cols,  \n",
    "#                    class_names=target_names,\n",
    "#                    filled=True)"
   ]
  },
  {
   "cell_type": "code",
   "execution_count": null,
   "id": "6b27bfda-857c-4fe2-bed2-9bc826135f8f",
   "metadata": {},
   "outputs": [],
   "source": [
    "target_names=['No_Churn','Churn']\n",
    "fig = plt.figure(figsize=(30,30))\n",
    "import graphviz\n",
    "dot_data = tree.export_graphviz(dt, out_file=None, \n",
    "                                feature_names=feature_cols,  \n",
    "                                class_names=target_names,\n",
    "                                filled=True)\n",
    "\n",
    "# Draw graph\n",
    "graph = graphviz.Source(dot_data, format=\"png\") \n",
    "graph"
   ]
  },
  {
   "cell_type": "code",
   "execution_count": null,
   "id": "b7b67a9e-ed29-4abb-ba82-cc75bac06a0a",
   "metadata": {},
   "outputs": [],
   "source": [
    "from sklearn.tree import _tree\n",
    "\n",
    "def get_rules(tree, feature_names, class_names):\n",
    "    tree_ = tree.tree_\n",
    "    feature_name = [\n",
    "        feature_names[i] if i != _tree.TREE_UNDEFINED else \"undefined!\"\n",
    "        for i in tree_.feature\n",
    "    ]\n",
    "\n",
    "    paths = []\n",
    "    path = []\n",
    "    \n",
    "    def recurse(node, path, paths):\n",
    "        \n",
    "        if tree_.feature[node] != _tree.TREE_UNDEFINED:\n",
    "            name = feature_name[node]\n",
    "            threshold = tree_.threshold[node]\n",
    "            p1, p2 = list(path), list(path)\n",
    "            p1 += [f\"({name} <= {np.round(threshold, 3)})\"]\n",
    "            recurse(tree_.children_left[node], p1, paths)\n",
    "            p2 += [f\"({name} > {np.round(threshold, 3)})\"]\n",
    "            recurse(tree_.children_right[node], p2, paths)\n",
    "        else:\n",
    "            path += [(tree_.value[node], tree_.n_node_samples[node])]\n",
    "            paths += [path]\n",
    "            \n",
    "    recurse(0, path, paths)\n",
    "\n",
    "    # sort by samples count\n",
    "    samples_count = [p[-1][1] for p in paths]\n",
    "    ii = list(np.argsort(samples_count))\n",
    "    paths = [paths[i] for i in reversed(ii)]\n",
    "    \n",
    "    rules = []\n",
    "    for path in paths:\n",
    "        rule = \"if \"\n",
    "        \n",
    "        for p in path[:-1]:\n",
    "            if rule != \"if \":\n",
    "                rule += \" and \"\n",
    "            rule += str(p)\n",
    "        rule += \" then \"\n",
    "        if class_names is None:\n",
    "            rule += \"response: \"+str(np.round(path[-1][0][0][0],3))\n",
    "        else:\n",
    "            classes = path[-1][0][0]\n",
    "            l = np.argmax(classes)\n",
    "            rule += f\"class: {class_names[l]} (proba: {np.round(100.0*classes[l]/np.sum(classes),2)}%)\"\n",
    "        rule += f\" | based on {path[-1][1]:,} samples\"\n",
    "        rules += [rule]\n",
    "        \n",
    "    return rules"
   ]
  },
  {
   "cell_type": "code",
   "execution_count": null,
   "id": "fd2f1710-3a71-4b81-9242-68c17227343f",
   "metadata": {},
   "outputs": [],
   "source": []
  },
  {
   "cell_type": "code",
   "execution_count": null,
   "id": "137a2032-be5e-41c5-9aba-980f991cfb26",
   "metadata": {},
   "outputs": [],
   "source": [
    "target_names=['No_Churn','Churn']\n",
    "\n",
    "rules=get_rules(dt, X_train.columns, target_names)"
   ]
  },
  {
   "cell_type": "code",
   "execution_count": null,
   "id": "2ba97ee8-0760-4c1c-9fae-c8d963da4a2b",
   "metadata": {},
   "outputs": [],
   "source": [
    "rules_df= []\n",
    "#%%\n",
    "for r in rules:\n",
    "    rules_df.append(r)"
   ]
  },
  {
   "cell_type": "code",
   "execution_count": null,
   "id": "3b57eecb-78b9-444d-8a56-fa3d089bf72f",
   "metadata": {},
   "outputs": [],
   "source": [
    "from sklearn import tree\n",
    "\n",
    "text_representation = tree.export_text(dt)\n",
    "print(text_representation)"
   ]
  },
  {
   "cell_type": "code",
   "execution_count": null,
   "id": "7bb7d547-8344-4917-b08d-fecdf424933b",
   "metadata": {},
   "outputs": [],
   "source": []
  }
 ],
 "metadata": {
  "kernelspec": {
   "display_name": "Python 3 (ipykernel)",
   "language": "python",
   "name": "python3"
  },
  "language_info": {
   "codemirror_mode": {
    "name": "ipython",
    "version": 3
   },
   "file_extension": ".py",
   "mimetype": "text/x-python",
   "name": "python",
   "nbconvert_exporter": "python",
   "pygments_lexer": "ipython3",
   "version": "3.8.12"
  }
 },
 "nbformat": 4,
 "nbformat_minor": 5
}
