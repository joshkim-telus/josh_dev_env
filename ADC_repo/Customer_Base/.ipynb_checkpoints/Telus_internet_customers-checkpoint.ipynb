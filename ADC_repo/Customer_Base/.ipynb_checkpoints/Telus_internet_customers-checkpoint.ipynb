{
 "cells": [
  {
   "cell_type": "code",
   "execution_count": 33,
   "id": "fa86f4f3-70ad-4b0e-b769-e45fe54641c8",
   "metadata": {},
   "outputs": [],
   "source": [
    "#### import global modules\n",
    "import os\n",
    "import sys\n",
    "import pandas as pd\n",
    "import numpy as np\n",
    "from pathlib import Path\n",
    "from yaml import safe_load\n",
    "import google.oauth2.credentials\n",
    "from google.cloud import bigquery\n",
    "import gc\n",
    "\n",
    "# Set global vars\n",
    "pth_project = Path(os.getcwd().split('notebooks')[0])\n",
    "pth_data = pth_project / 'data'\n",
    "pth_queries = pth_project / 'core' / 'queries'\n",
    "pth_creds = pth_project / 'conf' / 'local' / 'project_config.yaml'\n",
    "sys.path.insert(0, str(pth_project))\n",
    "d_project_config = safe_load(pth_creds.open())\n",
    "# d_params = safe_load((pth_project / 'core' / 'parameters' / 'common.yaml').open())['data_extract']\n",
    "\n",
    "# import local modules\n",
    "from core.utils.gcp import connect_bq_services\n",
    "# from core.etl.extract import extract_bq_data, extract_pr_codes, format_conv_df, filter_convs\n",
    "\n",
    "# Connect to google services\n",
    "bq_client = connect_bq_services(d_project_config['gcp-project-name'])\n",
    "pd.options.display.max_rows = 100"
   ]
  },
  {
   "cell_type": "code",
   "execution_count": 34,
   "id": "1a5791ec-1e96-4ee6-825c-4743a2154afe",
   "metadata": {},
   "outputs": [],
   "source": [
    "def extract_bq_data(bq_client, sql=None, pth_query=None):\n",
    "    if sql is not None:\n",
    "        df = bq_client.query(sql).to_dataframe()\n",
    "    elif pth_query is not None:\n",
    "        sql = pth_query.read_text()\n",
    "        df = bq_client.query(sql).to_dataframe()\n",
    "    else:\n",
    "        raise ValueError('`sql` or `pth_query` should be set')  \n",
    "    return df"
   ]
  },
  {
   "cell_type": "code",
   "execution_count": 35,
   "id": "626d155f-6735-4232-a821-b50ae74cf682",
   "metadata": {},
   "outputs": [],
   "source": [
    "Telus_internet_Customer_Query='''\n",
    "\n",
    "\n",
    "\n",
    "with  Telus_internet_customers as\n",
    "\n",
    "(select distinct cust_bus_cust_id\n",
    "--, pi_prod_instnc_typ_cd as pi_prod_instnc_typ_cd_internet\n",
    "from `cio-datahub-enterprise-pr-183a.ent_cust_cust.bq_prod_instnc_snpsht` \n",
    "WHERE DATE(prod_instnc_ts) = \"2022-10-31\" #Snapshot of the last day of the month\n",
    "and pi_prod_instnc_stat_cd in ('A')\n",
    "and pi_prod_instnc_typ_cd ='HSIC'\n",
    "and consldt_cust_typ_cd = 'R'\n",
    "QUALIFY ROW_NUMBER() OVER (PARTITION BY cust_bus_cust_id ORDER BY pi_prod_instnc_stat_ts DESC) = 1\n",
    "\n",
    ")\n",
    "\n",
    ",\n",
    "Telus_SMHM_customers as\n",
    "(select distinct cust_bus_cust_id\n",
    "--,pi_prod_instnc_typ_cd,pi_prod_instnc_stat_ts,prod_instnc_ts\n",
    "from `cio-datahub-enterprise-pr-183a.ent_cust_cust.bq_prod_instnc_snpsht` \n",
    "WHERE DATE(prod_instnc_ts) = \"2022-10-31\" #Snapshot of the last day of the month\n",
    "and pi_prod_instnc_typ_cd ='SMHM' #Serice type\n",
    "and bus_prod_instnc_src_id = 1001 #BANs that are for home services\n",
    "and pi_prod_instnc_stat_cd in ('A')\n",
    "and  consldt_cust_typ_cd = 'R'\n",
    "-- and DATE(pi_prod_instnc_stat_ts)>='2022-08-01' and DATE(pi_prod_instnc_stat_ts)<'2022-09-01' #Date on which the status was updated\n",
    "QUALIFY ROW_NUMBER() OVER (PARTITION BY cust_bus_cust_id ORDER BY pi_prod_instnc_stat_ts DESC) = 1\n",
    "order by cust_bus_cust_id)\n",
    ",\n",
    "\n",
    "ADC_customer_base as(\n",
    "\n",
    "SELECT customer_id,dealer_customer_id,dealer_name,account_type_name,customer_type_name\n",
    "FROM `cio-datahub-enterprise-pr-183a.src_adc.bq_customer_account_details` \n",
    "--where last_updt_ts >='2022-08-01'  and last_updt_ts < '2022-10-01'\n",
    "where date(last_updt_ts) ='2022-10-31'\n",
    "-- and account_type_name!='Standalone'\n",
    "-- and customer_type_name='Customer'\n",
    "and dealer_name='TELUS Communications Inc.'\n",
    "QUALIFY ROW_NUMBER() OVER (PARTITION BY customer_id ORDER BY last_updt_ts DESC) = 1\n",
    "order by dealer_name,join_date,customer_id\n",
    "\n",
    ")\n",
    ",\n",
    "\n",
    "Telus_SMHM_internet as\n",
    "(\n",
    "\n",
    "select distinct (a.cust_bus_cust_id) as cust_bus_cust_id \n",
    "from Telus_SMHM_customers a\n",
    "inner join Telus_internet_customers b\n",
    "on a.cust_bus_cust_id=b.cust_bus_cust_id\n",
    "\n",
    ")\n",
    "\n",
    "\n",
    ",merge_data as(\n",
    "\n",
    "select * from ADC_customer_base adc\n",
    "inner join Telus_SMHM_internet telus\n",
    "on telus.cust_bus_cust_id=adc.dealer_customer_id\n",
    "\n",
    ")\n",
    "\n",
    "-- ,\n",
    "-- final_data as(\n",
    "\n",
    "-- select * from merge_data a\n",
    "-- inner join Telus_internet_customers b\n",
    "-- on a.cust_bus_cust_id=b.cust_bus_cust_id\n",
    "-- order by a.bacct_bus_bacct_num\n",
    "-- )\n",
    "\n",
    "select *,1 as Telus_internet_flag from merge_data\n",
    "\n",
    "\n",
    "\n",
    "\n",
    "\n",
    "'''"
   ]
  },
  {
   "cell_type": "code",
   "execution_count": 36,
   "id": "e49c2d39-d794-4099-b323-e9415d1c35b6",
   "metadata": {},
   "outputs": [],
   "source": [
    "Telus_internet_DF=extract_bq_data(bq_client, sql=Telus_internet_Customer_Query)"
   ]
  },
  {
   "cell_type": "code",
   "execution_count": 37,
   "id": "4c43a644-040c-4877-865c-d8e4e8b33b22",
   "metadata": {},
   "outputs": [
    {
     "name": "stdout",
     "output_type": "stream",
     "text": [
      "<class 'pandas.core.frame.DataFrame'>\n",
      "RangeIndex: 233706 entries, 0 to 233705\n",
      "Data columns (total 7 columns):\n",
      " #   Column               Non-Null Count   Dtype \n",
      "---  ------               --------------   ----- \n",
      " 0   customer_id          233706 non-null  Int64 \n",
      " 1   dealer_customer_id   233706 non-null  object\n",
      " 2   dealer_name          233706 non-null  object\n",
      " 3   account_type_name    233706 non-null  object\n",
      " 4   customer_type_name   233706 non-null  object\n",
      " 5   cust_bus_cust_id     233706 non-null  object\n",
      " 6   Telus_internet_flag  233706 non-null  Int64 \n",
      "dtypes: Int64(2), object(5)\n",
      "memory usage: 12.9+ MB\n"
     ]
    }
   ],
   "source": [
    "Telus_internet_DF.info()"
   ]
  },
  {
   "cell_type": "code",
   "execution_count": 38,
   "id": "de6b5d46-1de0-41fc-9044-c14c68d32b95",
   "metadata": {},
   "outputs": [
    {
     "data": {
      "text/plain": [
       "59807994     19\n",
       "78929393     16\n",
       "100949016    12\n",
       "103773257    10\n",
       "95537824      7\n",
       "             ..\n",
       "102821651     1\n",
       "102821690     1\n",
       "102843703     1\n",
       "102861272     1\n",
       "99977130      1\n",
       "Name: cust_bus_cust_id, Length: 230927, dtype: int64"
      ]
     },
     "execution_count": 38,
     "metadata": {},
     "output_type": "execute_result"
    }
   ],
   "source": [
    "Telus_internet_DF['cust_bus_cust_id'].value_counts()"
   ]
  },
  {
   "cell_type": "code",
   "execution_count": 39,
   "id": "7b02bb43-e19c-4583-be8d-f5fa1e8d104a",
   "metadata": {},
   "outputs": [
    {
     "data": {
      "text/plain": [
       "59807994     19\n",
       "78929393     16\n",
       "100949016    12\n",
       "103773257    10\n",
       "95537824      7\n",
       "             ..\n",
       "102821651     1\n",
       "102821690     1\n",
       "102843703     1\n",
       "102861272     1\n",
       "99977130      1\n",
       "Name: dealer_customer_id, Length: 230927, dtype: int64"
      ]
     },
     "execution_count": 39,
     "metadata": {},
     "output_type": "execute_result"
    }
   ],
   "source": [
    "Telus_internet_DF['dealer_customer_id'].value_counts()"
   ]
  },
  {
   "cell_type": "code",
   "execution_count": 40,
   "id": "de856d3a-dc2c-423f-b47b-698daf6e005f",
   "metadata": {},
   "outputs": [],
   "source": [
    "config= bigquery.job.LoadJobConfig()\n",
    "\n",
    "# config._properties['timePartitioning'] = {'field': 'Month_Year'}\n",
    "config.write_disposition = bigquery.WriteDisposition.WRITE_TRUNCATE\n",
    "\n",
    "Table_BQ = 'ADC_updated.Telus_internet_31Oct2022'\n",
    "\n",
    "bq_table_instance= bq_client.load_table_from_dataframe(Telus_internet_DF, Table_BQ,job_config=config)"
   ]
  },
  {
   "cell_type": "code",
   "execution_count": null,
   "id": "c8f13e0f-9bf8-4010-bbba-f63513b2ab72",
   "metadata": {},
   "outputs": [],
   "source": []
  }
 ],
 "metadata": {
  "kernelspec": {
   "display_name": "Python 3 (ipykernel)",
   "language": "python",
   "name": "python3"
  },
  "language_info": {
   "codemirror_mode": {
    "name": "ipython",
    "version": 3
   },
   "file_extension": ".py",
   "mimetype": "text/x-python",
   "name": "python",
   "nbconvert_exporter": "python",
   "pygments_lexer": "ipython3",
   "version": "3.8.12"
  }
 },
 "nbformat": 4,
 "nbformat_minor": 5
}
