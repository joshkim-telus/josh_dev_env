{
 "cells": [
  {
   "cell_type": "code",
   "execution_count": null,
   "id": "ec07ba69-34de-4a8e-a514-45396e8eb683",
   "metadata": {},
   "outputs": [],
   "source": [
    "#### import global modules\n",
    "import os\n",
    "import sys\n",
    "import pandas as pd\n",
    "import numpy as np\n",
    "from pathlib import Path\n",
    "from yaml import safe_load\n",
    "import google.oauth2.credentials\n",
    "from google.cloud import bigquery\n",
    "import gc\n",
    "\n",
    "# Set global vars\n",
    "pth_project = Path(os.getcwd().split('notebooks')[0])\n",
    "pth_data = pth_project / 'data'\n",
    "pth_queries = pth_project / 'core' / 'queries'\n",
    "pth_creds = pth_project / 'conf' / 'local' / 'project_config.yaml'\n",
    "sys.path.insert(0, str(pth_project))\n",
    "d_project_config = safe_load(pth_creds.open())\n",
    "# d_params = safe_load((pth_project / 'core' / 'parameters' / 'common.yaml').open())['data_extract']\n",
    "\n",
    "# import local modules\n",
    "from core.utils.gcp import connect_bq_services\n",
    "# from core.etl.extract import extract_bq_data, extract_pr_codes, format_conv_df, filter_convs\n",
    "\n",
    "# Connect to google services\n",
    "bq_client = connect_bq_services(d_project_config['gcp-project-name'])\n",
    "pd.options.display.max_rows = 100"
   ]
  },
  {
   "cell_type": "code",
   "execution_count": null,
   "id": "14138bcf-062c-4ac3-9e7f-03762fe9ca28",
   "metadata": {},
   "outputs": [],
   "source": [
    "def extract_bq_data(bq_client, sql=None, pth_query=None):\n",
    "    if sql is not None:\n",
    "        df = bq_client.query(sql).to_dataframe()\n",
    "    elif pth_query is not None:\n",
    "        sql = pth_query.read_text()\n",
    "        df = bq_client.query(sql).to_dataframe()\n",
    "    else:\n",
    "        raise ValueError('`sql` or `pth_query` should be set')  \n",
    "    return df"
   ]
  },
  {
   "cell_type": "code",
   "execution_count": null,
   "id": "f25d7f1f-7385-446c-bf06-7a05c0700a1f",
   "metadata": {},
   "outputs": [],
   "source": [
    "Telus_resi_customers='''\n",
    "\n",
    "\n",
    "\n",
    "with ADC_customer_base as(\n",
    "\n",
    "SELECT customer_id,dealer_customer_id,dealer_name\n",
    "FROM `cio-datahub-enterprise-pr-183a.src_adc.bq_customer_account_details` \n",
    "where date(last_updt_ts) ='2022-08-31'\n",
    "and account_type_name!='Standalone'\n",
    "and customer_type_name='Customer'\n",
    "and dealer_name='TELUS Communications Inc.'\n",
    "QUALIFY ROW_NUMBER() OVER (PARTITION BY customer_id ORDER BY last_updt_ts DESC) = 1\n",
    "order by dealer_name,join_date,customer_id\n",
    ")\n",
    ",\n",
    "\n",
    "Telus_customers as\n",
    "(select bacct_bus_bacct_num,bacct_billg_acct_id,cust_bus_cust_id,pi_prod_instnc_typ_cd,pi_prod_instnc_stat_ts,prod_instnc_ts\n",
    "from `cio-datahub-enterprise-pr-183a.ent_cust_cust.bq_prod_instnc_snpsht` \n",
    "WHERE DATE(prod_instnc_ts) = \"2022-08-31\" #Snapshot of the last day of the month\n",
    "and pi_prod_instnc_typ_cd ='SMHM' #Serice type\n",
    "and bus_prod_instnc_src_id = 1001 #BANs that are for home services\n",
    "and pi_prod_instnc_stat_cd in ('A')\n",
    "and  consldt_cust_typ_cd = 'R'\n",
    "QUALIFY ROW_NUMBER() OVER (PARTITION BY cust_bus_cust_id ORDER BY pi_prod_instnc_stat_ts DESC) = 1\n",
    "order by cust_bus_cust_id)\n",
    "\n",
    "select * from ADC_customer_base as adc\n",
    "inner join Telus_customers as telus\n",
    "on telus.cust_bus_cust_id=adc.dealer_customer_id\n",
    "\n",
    "\n",
    "'''"
   ]
  },
  {
   "cell_type": "code",
   "execution_count": null,
   "id": "cee9f614-51bd-4a12-bf30-66db66209e53",
   "metadata": {},
   "outputs": [],
   "source": [
    "Telus_Customer_DF=extract_bq_data(bq_client, sql=Telus_resi_customers)"
   ]
  },
  {
   "cell_type": "code",
   "execution_count": null,
   "id": "3991183e-0000-4f9d-aa10-8badd9e68df1",
   "metadata": {},
   "outputs": [],
   "source": [
    "Telus_Customer_DF.info()"
   ]
  },
  {
   "cell_type": "code",
   "execution_count": null,
   "id": "d6efd317-d94c-430a-ac1a-e0dfa4cafc5d",
   "metadata": {},
   "outputs": [],
   "source": [
    "config= bigquery.job.LoadJobConfig()\n",
    "\n",
    "# config._properties['timePartitioning'] = {'field': 'Month_Year'}\n",
    "config.write_disposition = bigquery.WriteDisposition.WRITE_TRUNCATE\n",
    "\n",
    "Table_BQ = 'ADC_updated.ADC_Telus_Customer_31Aug2022'\n",
    "\n",
    "bq_table_instance= bq_client.load_table_from_dataframe(Telus_Customer_DF, Table_BQ,job_config=config)"
   ]
  },
  {
   "cell_type": "code",
   "execution_count": null,
   "id": "de528955-ae56-4478-b970-445f2882d2b7",
   "metadata": {},
   "outputs": [],
   "source": [
    "ADT_Customer_Base='''\n",
    "\n",
    "\n",
    "select * from `divgpras-pr-579355.ADC.ADC_ADT_mapping`\n",
    "\n",
    "\n",
    "'''"
   ]
  },
  {
   "cell_type": "code",
   "execution_count": null,
   "id": "a85ac6aa-fdb6-46ef-981f-5da29fea1f41",
   "metadata": {},
   "outputs": [],
   "source": [
    "ADT_Customer_Base=extract_bq_data(bq_client, sql=ADT_Customer_Base)"
   ]
  },
  {
   "cell_type": "code",
   "execution_count": null,
   "id": "b322b355-e879-46d5-8496-51739ac577bb",
   "metadata": {},
   "outputs": [],
   "source": [
    "ADT_Customer_Base.info()"
   ]
  },
  {
   "cell_type": "code",
   "execution_count": null,
   "id": "bb17bdda-db07-46c5-89f1-a56def567abd",
   "metadata": {},
   "outputs": [],
   "source": [
    "config= bigquery.job.LoadJobConfig()\n",
    "\n",
    "# config._properties['timePartitioning'] = {'field': 'Month_Year'}\n",
    "config.write_disposition = bigquery.WriteDisposition.WRITE_TRUNCATE\n",
    "\n",
    "Table_BQ = 'ADC_updated.ADT_Customer_base'\n",
    "\n",
    "bq_table_instance= bq_client.load_table_from_dataframe(ADT_Customer_Base, Table_BQ,job_config=config)"
   ]
  },
  {
   "cell_type": "code",
   "execution_count": null,
   "id": "d0e42212-d4f8-4f82-9ba1-6ed3e617bb55",
   "metadata": {},
   "outputs": [],
   "source": [
    "ADT_resi_customers='''\n",
    "\n",
    "\n",
    "\n",
    "with ADC_customer_base as(\n",
    "\n",
    "SELECT customer_id,dealer_customer_id,dealer_name\n",
    "FROM `cio-datahub-enterprise-pr-183a.src_adc.bq_customer_account_details` \n",
    "where date(last_updt_ts) ='2022-08-31'\n",
    "and account_type_name!='Standalone'\n",
    "and customer_type_name='Customer'\n",
    "and dealer_name='ADT by TELUS'\n",
    "QUALIFY ROW_NUMBER() OVER (PARTITION BY customer_id ORDER BY last_updt_ts DESC) = 1\n",
    "order by dealer_name,join_date,customer_id\n",
    ")\n",
    ",\n",
    "\n",
    "ADT_customers as\n",
    "(select * from `divgpras-pr-579355.ADC_updated.ADT_Customer_base` )\n",
    "\n",
    "select * from ADC_customer_base as adc\n",
    "inner join ADT_customers as ADT\n",
    "on ADT.customer_id=adc.customer_id\n",
    "\n",
    "\n",
    "''' "
   ]
  },
  {
   "cell_type": "code",
   "execution_count": null,
   "id": "895cae7a-5ff6-42a9-836b-25a9dee77b47",
   "metadata": {},
   "outputs": [],
   "source": [
    "ADT_Customer_DF=extract_bq_data(bq_client, sql=ADT_resi_customers)"
   ]
  },
  {
   "cell_type": "code",
   "execution_count": null,
   "id": "2c1e0a38-470c-4437-8a8c-393c4f2a4c3a",
   "metadata": {},
   "outputs": [],
   "source": [
    "ADT_Customer_DF.info()"
   ]
  },
  {
   "cell_type": "code",
   "execution_count": null,
   "id": "24ee5074-71f4-4579-9662-fd357b00e9db",
   "metadata": {},
   "outputs": [],
   "source": [
    "config= bigquery.job.LoadJobConfig()\n",
    "\n",
    "# config._properties['timePartitioning'] = {'field': 'Month_Year'}\n",
    "config.write_disposition = bigquery.WriteDisposition.WRITE_TRUNCATE\n",
    "\n",
    "Table_BQ = 'ADC_updated.ADC_ADT_Customer_31Aug2022'\n",
    "\n",
    "bq_table_instance= bq_client.load_table_from_dataframe(ADT_Customer_DF, Table_BQ,job_config=config)"
   ]
  },
  {
   "cell_type": "code",
   "execution_count": null,
   "id": "cd81cb3a-fbc9-4096-8917-66268ac831fa",
   "metadata": {},
   "outputs": [],
   "source": [
    "All_resi_customers= '''\n",
    "\n",
    "\n",
    "with ADC_Customer_Base as (\n",
    "\n",
    "SELECT *\n",
    "FROM `cio-datahub-enterprise-pr-183a.src_adc.bq_customer_account_details` \n",
    "where date(last_updt_ts) ='2022-08-31'\n",
    "and date(join_date)<'2022-08-01'\n",
    "and account_type_name!='Standalone'\n",
    "and customer_type_name='Customer'\n",
    "QUALIFY ROW_NUMBER() OVER (PARTITION BY customer_id ORDER BY last_updt_ts DESC) = 1\n",
    "order by dealer_name,join_date,customer_id )\n",
    "\n",
    "\n",
    "\n",
    ", Telus_Customer_Base as (\n",
    "\n",
    "SELECT customer_id,'Telus_Customer' as Dealer_type_flag,COUNT(*) OVER (PARTITION BY 1) as RowCnt \n",
    "FROM `divgpras-pr-579355.ADC_updated.ADC_Telus_Customer_31Aug2022` \n",
    ")\n",
    "\n",
    "\n",
    ", ADT_Customer_Base as (\n",
    "\n",
    "SELECT customer_id,'ADT_Customer' as Dealer_type_flag,COUNT(*) OVER (PARTITION BY 1) as RowCnt \n",
    "FROM `divgpras-pr-579355.ADC_updated.ADC_ADT_Customer_31Aug2022` \n",
    ")\n",
    "\n",
    "\n",
    ", Union_data as (\n",
    "\n",
    "SELECT * from Telus_Customer_Base\n",
    "UNION ALL\n",
    "SELECT * from ADT_Customer_Base\n",
    "\n",
    ")\n",
    "\n",
    ",Merge_data as (\n",
    "\n",
    "SELECT * from ADC_Customer_Base a\n",
    "INNER JOIN Union_data b\n",
    "\n",
    "on a.customer_id=b.customer_id\n",
    "order by Dealer_type_flag\n",
    ")\n",
    "\n",
    "select * from Merge_data\n",
    "\n",
    "\n",
    "'''"
   ]
  },
  {
   "cell_type": "code",
   "execution_count": null,
   "id": "03d911e2-35ad-4c94-85b2-0399f81b7f19",
   "metadata": {},
   "outputs": [],
   "source": [
    "All_resi_DF=extract_bq_data(bq_client, sql=All_resi_customers)"
   ]
  },
  {
   "cell_type": "code",
   "execution_count": null,
   "id": "0a0e16b1-f6c8-4439-a394-e382515ac858",
   "metadata": {},
   "outputs": [],
   "source": [
    "All_resi_DF.info()"
   ]
  },
  {
   "cell_type": "code",
   "execution_count": null,
   "id": "f14c0b06-c6a3-4c8d-9100-bba2c4766707",
   "metadata": {},
   "outputs": [],
   "source": [
    "All_resi_DF.head()"
   ]
  },
  {
   "cell_type": "code",
   "execution_count": null,
   "id": "718985d9-a394-4345-90cd-fea55c6b98ec",
   "metadata": {},
   "outputs": [],
   "source": [
    "All_resi_DF['dealer_name'].value_counts()"
   ]
  },
  {
   "cell_type": "code",
   "execution_count": null,
   "id": "78355105-f76a-4059-b127-a88172008386",
   "metadata": {},
   "outputs": [],
   "source": [
    "config= bigquery.job.LoadJobConfig()\n",
    "\n",
    "# config._properties['timePartitioning'] = {'field': 'Month_Year'}\n",
    "config.write_disposition = bigquery.WriteDisposition.WRITE_TRUNCATE\n",
    "\n",
    "Table_BQ = 'ADC_updated.ADC_resi_customers_base_31Aug2022'\n",
    "\n",
    "bq_table_instance= bq_client.load_table_from_dataframe(All_resi_DF, Table_BQ,job_config=config)"
   ]
  },
  {
   "cell_type": "code",
   "execution_count": null,
   "id": "72dc58be-1119-4d3f-838f-6fd0eeb2ffe1",
   "metadata": {},
   "outputs": [],
   "source": [
    "ADC_Telus_internet_customers='''\n",
    "\n",
    "with  Telus_internet_customers as\n",
    "\n",
    "(select cust_bus_cust_id, pi_prod_instnc_typ_cd as pi_prod_instnc_typ_cd_internet\n",
    "from `cio-datahub-enterprise-pr-183a.ent_cust_cust.bq_prod_instnc_snpsht` \n",
    "WHERE DATE(prod_instnc_ts) = \"2022-08-31\" #Snapshot of the last day of the month\n",
    "and pi_prod_instnc_stat_cd in ('A')\n",
    "and pi_prod_instnc_typ_cd ='HSIC'\n",
    "and consldt_cust_typ_cd = 'R'\n",
    ")\n",
    "\n",
    ",\n",
    "Telus_customers as\n",
    "(select bacct_bus_bacct_num,bacct_billg_acct_id,cust_bus_cust_id,pi_prod_instnc_typ_cd,pi_prod_instnc_stat_ts,prod_instnc_ts\n",
    "from `cio-datahub-enterprise-pr-183a.ent_cust_cust.bq_prod_instnc_snpsht` \n",
    "WHERE DATE(prod_instnc_ts) = \"2022-08-31\" #Snapshot of the last day of the month\n",
    "and pi_prod_instnc_typ_cd ='SMHM' #Serice type\n",
    "and bus_prod_instnc_src_id = 1001 #BANs that are for home services\n",
    "and pi_prod_instnc_stat_cd in ('A')\n",
    "and  consldt_cust_typ_cd = 'R'\n",
    "QUALIFY ROW_NUMBER() OVER (PARTITION BY cust_bus_cust_id ORDER BY pi_prod_instnc_stat_ts DESC) = 1\n",
    "order by cust_bus_cust_id)\n",
    ",\n",
    "\n",
    "ADC_customer_base as(\n",
    "\n",
    "SELECT customer_id,dealer_customer_id,dealer_name\n",
    "FROM `cio-datahub-enterprise-pr-183a.src_adc.bq_customer_account_details` \n",
    "where date(last_updt_ts) ='2022-08-31'\n",
    "and account_type_name!='Standalone'\n",
    "and customer_type_name='Customer'\n",
    "and dealer_name='TELUS Communications Inc.'\n",
    "QUALIFY ROW_NUMBER() OVER (PARTITION BY customer_id ORDER BY last_updt_ts DESC) = 1\n",
    "order by dealer_name,join_date,customer_id\n",
    "\n",
    ")\n",
    ",\n",
    "merge_data as(\n",
    "\n",
    "select distinct adc.customer_id,adc.dealer_customer_id, adc.dealer_name,telus.bacct_bus_bacct_num, telus.bacct_billg_acct_id, telus.cust_bus_cust_id,\n",
    "       telus.pi_prod_instnc_typ_cd, telus.pi_prod_instnc_stat_ts, telus.prod_instnc_ts,b.cust_bus_cust_id as cust_bus_cust_id_internet ,\n",
    "       b.pi_prod_instnc_typ_cd_internet \n",
    "from ADC_customer_base adc\n",
    "inner join Telus_customers telus\n",
    "on telus.cust_bus_cust_id=adc.dealer_customer_id\n",
    "inner join Telus_internet_customers b\n",
    "on adc.dealer_customer_id=b.cust_bus_cust_id\n",
    "order by telus.bacct_bus_bacct_num\n",
    ")\n",
    "\n",
    "\n",
    "\n",
    "\n",
    "select distinct customer_id, dealer_customer_id, dealer_name,\n",
    "       bacct_bus_bacct_num, bacct_billg_acct_id, cust_bus_cust_id,\n",
    "       pi_prod_instnc_typ_cd, pi_prod_instnc_stat_ts, prod_instnc_ts,cust_bus_cust_id_internet,\n",
    "       pi_prod_instnc_typ_cd_internet, 1 as Telus_internet_flag \n",
    "       from merge_data\n",
    "\n",
    "\n",
    "'''"
   ]
  },
  {
   "cell_type": "code",
   "execution_count": null,
   "id": "0e4cc6b4-8971-4d2e-8513-26ddba64932a",
   "metadata": {},
   "outputs": [],
   "source": [
    "ADC_Telus_internet=extract_bq_data(bq_client, sql=ADC_Telus_internet_customers)"
   ]
  },
  {
   "cell_type": "code",
   "execution_count": null,
   "id": "13145bbb-4647-4c0c-b7c3-e67b2fc3f319",
   "metadata": {},
   "outputs": [],
   "source": [
    "ADC_Telus_internet.info()"
   ]
  },
  {
   "cell_type": "code",
   "execution_count": null,
   "id": "57561ceb-cd6a-4a59-90ff-738cbf9ecad1",
   "metadata": {},
   "outputs": [],
   "source": [
    "ADC_Telus_internet.head()"
   ]
  },
  {
   "cell_type": "code",
   "execution_count": null,
   "id": "6c2427e6-0d55-4663-9c8a-0300c2b7ba9f",
   "metadata": {},
   "outputs": [],
   "source": [
    "config= bigquery.job.LoadJobConfig()\n",
    "\n",
    "# config._properties['timePartitioning'] = {'field': 'Month_Year'}\n",
    "config.write_disposition = bigquery.WriteDisposition.WRITE_TRUNCATE\n",
    "\n",
    "Table_BQ = 'ADC_updated.ADC_Telus_internet_customers_31Aug2022'\n",
    "\n",
    "bq_table_instance= bq_client.load_table_from_dataframe(ADC_Telus_internet, Table_BQ,job_config=config)"
   ]
  },
  {
   "cell_type": "code",
   "execution_count": null,
   "id": "cf0e43c7-4170-408e-966e-a6cee6f2e115",
   "metadata": {},
   "outputs": [],
   "source": []
  },
  {
   "cell_type": "code",
   "execution_count": null,
   "id": "3e32021b-ca10-4fea-ac01-cba204561fda",
   "metadata": {},
   "outputs": [],
   "source": []
  }
 ],
 "metadata": {
  "kernelspec": {
   "display_name": "Python 3 (ipykernel)",
   "language": "python",
   "name": "python3"
  },
  "language_info": {
   "codemirror_mode": {
    "name": "ipython",
    "version": 3
   },
   "file_extension": ".py",
   "mimetype": "text/x-python",
   "name": "python",
   "nbconvert_exporter": "python",
   "pygments_lexer": "ipython3",
   "version": "3.10.13"
  }
 },
 "nbformat": 4,
 "nbformat_minor": 5
}
