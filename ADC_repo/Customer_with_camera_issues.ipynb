{
 "cells": [
  {
   "cell_type": "code",
   "execution_count": null,
   "id": "c2d9d277-64e0-4dc3-bab3-7207e001f115",
   "metadata": {},
   "outputs": [],
   "source": [
    "#### import global modules\n",
    "import os\n",
    "import sys\n",
    "import pandas as pd\n",
    "import numpy as np\n",
    "from pathlib import Path\n",
    "from yaml import safe_load\n",
    "import google.oauth2.credentials\n",
    "from google.cloud import bigquery\n",
    "import numpy as np\n",
    "# Set global vars\n",
    "pth_project = Path(os.getcwd().split('notebooks')[0])\n",
    "pth_data = pth_project / 'data'\n",
    "pth_queries = pth_project / 'core' / 'queries'\n",
    "pth_creds = pth_project / 'conf' / 'local' / 'project_config.yaml'\n",
    "sys.path.insert(0, str(pth_project))\n",
    "d_project_config = safe_load(pth_creds.open())\n",
    "# d_params = safe_load((pth_project / 'core' / 'parameters' / 'common.yaml').open())['data_extract']\n",
    "\n",
    "# import local modules\n",
    "from core.utils.gcp import connect_bq_services\n",
    "# from core.etl.extract import extract_bq_data, extract_pr_codes, format_conv_df, filter_convs\n",
    "\n",
    "# Connect to google services\n",
    "bq_client = connect_bq_services(d_project_config['gcp-project-name'])\n",
    "pd.options.display.max_rows = 100"
   ]
  },
  {
   "cell_type": "code",
   "execution_count": null,
   "id": "c0a67370-2a07-44b5-ab89-cfe638134900",
   "metadata": {},
   "outputs": [],
   "source": [
    "def extract_bq_data(bq_client, sql=None, pth_query=None):\n",
    "    if sql is not None:\n",
    "        df = bq_client.query(sql).to_dataframe()\n",
    "    elif pth_query is not None:\n",
    "        sql = pth_query.read_text()\n",
    "        df = bq_client.query(sql).to_dataframe()\n",
    "    else:\n",
    "        raise ValueError('`sql` or `pth_query` should be set')  \n",
    "    return df"
   ]
  },
  {
   "cell_type": "code",
   "execution_count": null,
   "id": "cd18f822-849a-4b01-8a49-41f3bffa6c73",
   "metadata": {},
   "outputs": [],
   "source": [
    "Trouble_condition_Query='''\n",
    "\n",
    "select dealer_name,customer_id,unit_id,device_id,tcon_id,trouble_condition_name,trouble_condition_group_id,trouble_condition_group_desc, start_date_utc,end_date_utc,trouble_condition_start_ind,trouble_condition_closed_ind,ncid\n",
    "from `cio-datahub-enterprise-pr-183a.src_adc.bq_troublecondition_data`\n",
    "where dealer_name='TELUS Communications Inc.'\n",
    "\n",
    "'''"
   ]
  },
  {
   "cell_type": "code",
   "execution_count": null,
   "id": "b93e800f-fc1c-4f12-973c-37cf5e0685b2",
   "metadata": {},
   "outputs": [],
   "source": [
    "Trouble_condition_DF= extract_bq_data(bq_client,sql=Trouble_condition_Query)"
   ]
  },
  {
   "cell_type": "code",
   "execution_count": null,
   "id": "43ae27b4-cbd0-4bf5-98ea-3b8eff8ccda0",
   "metadata": {},
   "outputs": [],
   "source": [
    "Trouble_condition_DF.info()"
   ]
  },
  {
   "cell_type": "code",
   "execution_count": null,
   "id": "05b07b27-dc1e-43a0-819d-711cdc34a702",
   "metadata": {},
   "outputs": [],
   "source": [
    "Trouble_condition_DF['start_date_utc'].max(),Trouble_condition_DF['start_date_utc'].min()"
   ]
  },
  {
   "cell_type": "code",
   "execution_count": null,
   "id": "607c804e-2efb-4349-aa03-fc9153cd098d",
   "metadata": {},
   "outputs": [],
   "source": [
    "Trouble_condition_DF['start_date_utc'].value_counts().sort_values()"
   ]
  },
  {
   "cell_type": "code",
   "execution_count": null,
   "id": "4c886b88-05c5-492a-9825-1f73aebcdb43",
   "metadata": {},
   "outputs": [],
   "source": [
    "Trouble_condition_DF.head()"
   ]
  },
  {
   "cell_type": "code",
   "execution_count": null,
   "id": "9e1f09c8-be6b-4a9f-afdb-c1c7c8d8658d",
   "metadata": {},
   "outputs": [],
   "source": []
  },
  {
   "cell_type": "code",
   "execution_count": null,
   "id": "7abc563c-f425-4f50-98d0-da9b6a84bdab",
   "metadata": {},
   "outputs": [],
   "source": [
    "Trouble_condition_DF['trouble_condition_name'].value_counts(normalize=True)*100"
   ]
  },
  {
   "cell_type": "code",
   "execution_count": null,
   "id": "1b327b90-75c9-40f0-9158-d97786ebffbf",
   "metadata": {},
   "outputs": [],
   "source": [
    "Trouble_condition_DF['trouble_condition_name'].value_counts()"
   ]
  },
  {
   "cell_type": "code",
   "execution_count": null,
   "id": "88f1e8ab-50b3-4ebb-83a1-8ba7f505fdac",
   "metadata": {},
   "outputs": [],
   "source": [
    "TC_list = ['CameraNotReachable','CameraNotCommunicating','BroadbandCommFailure']\n",
    "\n",
    "TC_Camera_issue = Trouble_condition_DF[Trouble_condition_DF['trouble_condition_name'].isin(TC_list)]\n"
   ]
  },
  {
   "cell_type": "code",
   "execution_count": null,
   "id": "c956c9f7-9111-4a7d-a1d4-0c1a7e6d2ab1",
   "metadata": {},
   "outputs": [],
   "source": [
    "TC_Camera_issue.info()"
   ]
  },
  {
   "cell_type": "code",
   "execution_count": null,
   "id": "bbf9cc1c-27c2-4741-b167-32f5a8cc3a3b",
   "metadata": {},
   "outputs": [],
   "source": [
    "TC_Camera_issue['customer_id'].nunique()"
   ]
  },
  {
   "cell_type": "code",
   "execution_count": null,
   "id": "4ee9a125-6514-462b-8fb5-e0e9ba964f32",
   "metadata": {},
   "outputs": [],
   "source": []
  },
  {
   "cell_type": "code",
   "execution_count": null,
   "id": "cd965330-57a4-4282-9e3e-12bbe3eba234",
   "metadata": {},
   "outputs": [],
   "source": [
    "Camera_Query='''\n",
    "\n",
    "select customer_id,unit_id,device_id,model\n",
    "from `cio-datahub-enterprise-pr-183a.src_adc.bq_camera`\n",
    "group by customer_id,unit_id,device_id,model\n",
    "order by customer_id,unit_id,device_id,model\n",
    "\n",
    "'''"
   ]
  },
  {
   "cell_type": "code",
   "execution_count": null,
   "id": "2698e63f-dbbb-4a46-a1ef-03faff0b26aa",
   "metadata": {},
   "outputs": [],
   "source": [
    "Camera_DF= extract_bq_data(bq_client,sql=Camera_Query)"
   ]
  },
  {
   "cell_type": "code",
   "execution_count": null,
   "id": "6aae2735-ef6f-4200-9ab7-444fbfe7ffe1",
   "metadata": {},
   "outputs": [],
   "source": [
    "Camera_DF.info()"
   ]
  },
  {
   "cell_type": "code",
   "execution_count": null,
   "id": "45c40f89-523d-4808-9e5b-2d4f43c4f213",
   "metadata": {},
   "outputs": [],
   "source": [
    "Camera_DF.head()"
   ]
  },
  {
   "cell_type": "code",
   "execution_count": null,
   "id": "7c1066b3-9049-498b-bee0-37ace520e5b4",
   "metadata": {},
   "outputs": [],
   "source": [
    "Camera_DF.drop_duplicates(keep=False, inplace=True)\n"
   ]
  },
  {
   "cell_type": "code",
   "execution_count": null,
   "id": "29b463f3-a6f7-4e93-8b44-8543a80bfadb",
   "metadata": {},
   "outputs": [],
   "source": [
    "Camera_DF.info()"
   ]
  },
  {
   "cell_type": "code",
   "execution_count": null,
   "id": "a0dfe705-9393-46d4-8f2a-3308de5aaa85",
   "metadata": {},
   "outputs": [],
   "source": [
    "Camera_DF['Camera_flag']=1"
   ]
  },
  {
   "cell_type": "code",
   "execution_count": null,
   "id": "e1dc2ab0-0cc0-434d-ad19-03dc55c9f7c9",
   "metadata": {},
   "outputs": [],
   "source": [
    "Merge_Data=Trouble_condition_DF.merge(Camera_DF, on=['customer_id','unit_id','device_id'], how='left')"
   ]
  },
  {
   "cell_type": "code",
   "execution_count": null,
   "id": "b12d54e0-5f7c-4d19-bd3e-8087666de3f0",
   "metadata": {},
   "outputs": [],
   "source": [
    "Merge_Data.info()"
   ]
  },
  {
   "cell_type": "code",
   "execution_count": null,
   "id": "c4d529be-2b00-41c0-a8d5-9c6d72b0cd30",
   "metadata": {},
   "outputs": [],
   "source": [
    "Merge_Data['Camera_flag'].isna().sum()*100/Merge_Data.shape[0]"
   ]
  },
  {
   "cell_type": "code",
   "execution_count": null,
   "id": "2bd14d75-6581-4a05-81cd-8b73ef17dc0d",
   "metadata": {},
   "outputs": [],
   "source": [
    "Merge_Data.head()"
   ]
  },
  {
   "cell_type": "code",
   "execution_count": null,
   "id": "5774145a-e306-4fea-bd11-1671de5c4bb6",
   "metadata": {},
   "outputs": [],
   "source": [
    "Merge_Data_with_Camera=Merge_Data[Merge_Data['Camera_flag']==1]"
   ]
  },
  {
   "cell_type": "code",
   "execution_count": null,
   "id": "4e678ca0-c895-452a-acff-1839adf4ecf5",
   "metadata": {},
   "outputs": [],
   "source": [
    "Merge_Data_with_Camera['trouble_condition_name'].value_counts(normalize=True)*100"
   ]
  },
  {
   "cell_type": "code",
   "execution_count": null,
   "id": "933d8d77-a47e-447d-9eab-68d9ecc32f7a",
   "metadata": {},
   "outputs": [],
   "source": [
    "Merge_Data_with_Camera.info()"
   ]
  },
  {
   "cell_type": "code",
   "execution_count": null,
   "id": "bf7fbf28-bd22-495c-b2e7-c4bd7d244569",
   "metadata": {},
   "outputs": [],
   "source": [
    "Merge_Data_with_Camera['customer_id'].nunique()"
   ]
  },
  {
   "cell_type": "code",
   "execution_count": null,
   "id": "814d14d3-f69a-4b0a-b540-b6d748833265",
   "metadata": {},
   "outputs": [],
   "source": [
    "len(Merge_Data_with_Camera['customer_id'].unique())"
   ]
  },
  {
   "cell_type": "code",
   "execution_count": null,
   "id": "dda17a8d-97ee-4d48-843f-72d14182457e",
   "metadata": {},
   "outputs": [],
   "source": [
    "Merge_Data_with_Camera['trouble_condition_group_desc'].value_counts(normalize=True)*100"
   ]
  },
  {
   "cell_type": "code",
   "execution_count": null,
   "id": "ec2bf550-fd54-4427-824b-75096efe65b2",
   "metadata": {},
   "outputs": [],
   "source": [
    "Customer_Details_Query='''\n",
    "\n",
    "SELECT customer_id,dealer_customer_id,primary_login_id,dealer_name,join_date,account_type_name,customer_type_name,primary_email,primary_phone,last_updt_ts\n",
    "FROM `cio-datahub-enterprise-pr-183a.src_adc.bq_customer_account_details` \n",
    "QUALIFY ROW_NUMBER() OVER (PARTITION BY customer_id ORDER BY last_updt_ts DESC) = 1\n",
    "order by dealer_name,join_date,customer_id\n",
    "\n",
    "\n",
    "'''"
   ]
  },
  {
   "cell_type": "code",
   "execution_count": null,
   "id": "40c79fc7-9541-49be-b192-82b2fd612b93",
   "metadata": {},
   "outputs": [],
   "source": [
    "Query_Termination_details='''\n",
    "\n",
    "select customer_id,term_date,term_reason,1 as Churn_flag from `cio-datahub-enterprise-pr-183a.src_adc.bq_customer_account_terminated_details`\n",
    "QUALIFY ROW_NUMBER() OVER (PARTITION BY customer_id ORDER BY last_updt_ts DESC) = 1\n",
    "\n",
    "\n",
    "\n",
    "'''"
   ]
  },
  {
   "cell_type": "code",
   "execution_count": null,
   "id": "d104d7e2-10ac-40d1-acc4-cd19f1213e85",
   "metadata": {},
   "outputs": [],
   "source": [
    "Customer_Details_DF=extract_bq_data(bq_client,sql=Customer_Details_Query)"
   ]
  },
  {
   "cell_type": "code",
   "execution_count": null,
   "id": "842598d4-37a2-440d-a498-25424589ff7d",
   "metadata": {},
   "outputs": [],
   "source": [
    "Termination_details=extract_bq_data(bq_client,sql=Query_Termination_details)"
   ]
  },
  {
   "cell_type": "code",
   "execution_count": null,
   "id": "d765898c-6e79-4a5b-92b3-a84b6562ce96",
   "metadata": {},
   "outputs": [],
   "source": [
    "Customer_base=Customer_Details_DF.merge(Termination_details,on='customer_id',how='left')"
   ]
  },
  {
   "cell_type": "code",
   "execution_count": null,
   "id": "4aeb45bb-91fa-4b05-980e-01119b2ece31",
   "metadata": {},
   "outputs": [],
   "source": [
    "Customer_base.head()"
   ]
  },
  {
   "cell_type": "code",
   "execution_count": null,
   "id": "84926103-5048-41b4-8832-3c2ab0c76f22",
   "metadata": {},
   "outputs": [],
   "source": [
    "Customer_base['Churn_flag'].fillna(0,inplace=True)"
   ]
  },
  {
   "cell_type": "code",
   "execution_count": null,
   "id": "64405e6c-feab-4557-9f60-36c116d47e64",
   "metadata": {},
   "outputs": [],
   "source": [
    "Customer_base['Churn_flag'].value_counts(normalize=True)*100"
   ]
  },
  {
   "cell_type": "code",
   "execution_count": null,
   "id": "78688e1d-0e12-4922-b225-812cf4b4ad8b",
   "metadata": {},
   "outputs": [],
   "source": [
    "Customer_base.info()"
   ]
  },
  {
   "cell_type": "code",
   "execution_count": null,
   "id": "84b89fb1-dfba-46c5-aa48-78998f3e93f8",
   "metadata": {},
   "outputs": [],
   "source": []
  },
  {
   "cell_type": "code",
   "execution_count": null,
   "id": "f2dc3d84-415a-4aeb-825d-55b34cb79a2e",
   "metadata": {},
   "outputs": [],
   "source": [
    "Merge_Data_with_Camera_1=Merge_Data_with_Camera.merge(Customer_base,on='customer_id',how='left')"
   ]
  },
  {
   "cell_type": "code",
   "execution_count": null,
   "id": "94250d2a-609b-4ca3-b862-1249bcdf799d",
   "metadata": {},
   "outputs": [],
   "source": [
    "Merge_Data_with_Camera_1.info()"
   ]
  },
  {
   "cell_type": "code",
   "execution_count": null,
   "id": "778bbd23-c8a7-4215-bb48-d7f26ffebf19",
   "metadata": {},
   "outputs": [],
   "source": [
    "Merge_Data_with_Camera_1.head()"
   ]
  },
  {
   "cell_type": "code",
   "execution_count": null,
   "id": "195330b6-52ff-49e0-8398-74bca5ecc7e6",
   "metadata": {},
   "outputs": [],
   "source": [
    "Merge_Data_with_Camera_1['dealer_name_x'].value_counts()"
   ]
  },
  {
   "cell_type": "code",
   "execution_count": null,
   "id": "ad9c193a-1f28-4e33-8702-855352e4dcb1",
   "metadata": {},
   "outputs": [],
   "source": [
    "Merge_Data_with_Camera_1['Churn_flag'].isna().sum()*100/Merge_Data_with_Camera_1.shape[0]"
   ]
  },
  {
   "cell_type": "code",
   "execution_count": null,
   "id": "ad73a112-4466-463b-8adc-24c7e4f1feec",
   "metadata": {},
   "outputs": [],
   "source": [
    "Merge_Data_with_Camera_1['Churn_flag'].value_counts(normalize=True)*100"
   ]
  },
  {
   "cell_type": "code",
   "execution_count": null,
   "id": "48cdf4ce-fec8-444a-b8a6-d8e4e7d6ff03",
   "metadata": {},
   "outputs": [],
   "source": [
    "Merge_Data_with_Camera_1['customer_id'].nunique()"
   ]
  },
  {
   "cell_type": "code",
   "execution_count": null,
   "id": "22b71878-8660-422a-8c21-e0d154e107b1",
   "metadata": {},
   "outputs": [],
   "source": [
    "Merge_Data_with_Camera_1['model'].isna().sum()"
   ]
  },
  {
   "cell_type": "code",
   "execution_count": null,
   "id": "f60808b0-3903-446e-b6a9-05eb3d5929f5",
   "metadata": {},
   "outputs": [],
   "source": [
    "pd.DataFrame(Merge_Data_with_Camera_1.groupby(['model']).agg(\n",
    "    Total_incidents=('customer_id','count'), \n",
    "    Unique_Customers=('customer_id','nunique'), \n",
    "    Churn_counts = ('Churn_flag','sum'),\n",
    "     Churn_rate = ('Churn_flag',lambda x: x.mean()*100),\n",
    "     ).reset_index().sort_values('Unique_Customers',ascending=False))\n"
   ]
  },
  {
   "cell_type": "code",
   "execution_count": null,
   "id": "a14f259c-a020-40e6-9119-e1d4962d8bfc",
   "metadata": {},
   "outputs": [],
   "source": [
    "Merge_Data_with_Camera_model=Merge_Data_with_Camera_1[['customer_id','model','Churn_flag']]"
   ]
  },
  {
   "cell_type": "code",
   "execution_count": null,
   "id": "f389110e-15d8-47b9-bc34-89801cffc3fc",
   "metadata": {},
   "outputs": [],
   "source": [
    "Merge_Data_with_Camera_model.drop_duplicates(inplace=True,keep=False)"
   ]
  },
  {
   "cell_type": "code",
   "execution_count": null,
   "id": "9cbc8236-e26b-44f2-9199-eab758cc6c20",
   "metadata": {},
   "outputs": [],
   "source": [
    "Merge_Data_with_Camera_model['customer_id'].nunique()"
   ]
  },
  {
   "cell_type": "code",
   "execution_count": null,
   "id": "da2897a9-7840-45d5-895e-81878a671368",
   "metadata": {},
   "outputs": [],
   "source": [
    "Merge_Data_with_Camera_model['customer_id'].value_counts()"
   ]
  },
  {
   "cell_type": "code",
   "execution_count": null,
   "id": "a29a0e01-295e-4f6f-9415-48a7eb1bb833",
   "metadata": {},
   "outputs": [],
   "source": [
    "pd.DataFrame(Merge_Data_with_Camera_model.groupby(['model']).agg(\n",
    "    Total_incidents=('customer_id','count'), \n",
    "    Unique_Customers=('customer_id','nunique'), \n",
    "    Churn_counts = ('Churn_flag','sum'),\n",
    "     Churn_rate = ('Churn_flag',lambda x: x.mean()*100),\n",
    "     ).reset_index().sort_values('Unique_Customers',ascending=False))\n"
   ]
  },
  {
   "cell_type": "code",
   "execution_count": null,
   "id": "994e3295-188d-406b-a3c8-f0075927a674",
   "metadata": {},
   "outputs": [],
   "source": [
    "pd.DataFrame(Merge_Data_with_Camera_1.groupby(['trouble_condition_name']).agg(\n",
    "    Total_incidents=('customer_id','count'), \n",
    "    Unique_Customers=('customer_id','nunique'), \n",
    "    Churn_counts = ('Churn_flag','sum'),\n",
    "     Churn_rate = ('Churn_flag',lambda x: x.mean()*100),\n",
    "     ).reset_index().sort_values('Unique_Customers',ascending=False))"
   ]
  },
  {
   "cell_type": "code",
   "execution_count": null,
   "id": "6e0140ed-4ed3-4dce-b4fb-b89d0d433a0d",
   "metadata": {},
   "outputs": [],
   "source": [
    "Merge_Data_with_TC_cond=Merge_Data_with_Camera_1[['customer_id','trouble_condition_name','Churn_flag']]"
   ]
  },
  {
   "cell_type": "code",
   "execution_count": null,
   "id": "32a31ffa-f395-42a9-916f-3fc4233bc4ec",
   "metadata": {},
   "outputs": [],
   "source": [
    "Merge_Data_with_TC_cond.info()"
   ]
  },
  {
   "cell_type": "code",
   "execution_count": null,
   "id": "c69b2907-6844-4581-b548-7e8d37335b1a",
   "metadata": {},
   "outputs": [],
   "source": [
    "Merge_Data_with_TC_cond['trouble_condition_name'].isna().sum()"
   ]
  },
  {
   "cell_type": "code",
   "execution_count": null,
   "id": "e8935bbd-ed89-48d5-ab5f-e5cc04854579",
   "metadata": {},
   "outputs": [],
   "source": [
    "Merge_Data_with_TC_cond.drop_duplicates(inplace=True,keep=False)"
   ]
  },
  {
   "cell_type": "code",
   "execution_count": null,
   "id": "25d55125-acd3-4bd3-a683-3f44ae0235c2",
   "metadata": {},
   "outputs": [],
   "source": [
    "Merge_Data_with_TC_cond.info()"
   ]
  },
  {
   "cell_type": "code",
   "execution_count": null,
   "id": "ead6885e-31af-4874-a97a-8d84ecf107d7",
   "metadata": {},
   "outputs": [],
   "source": []
  },
  {
   "cell_type": "code",
   "execution_count": null,
   "id": "f4b32100-925d-4666-81ef-691f1b33aceb",
   "metadata": {},
   "outputs": [],
   "source": [
    "pd.DataFrame(Merge_Data_with_TC_cond.groupby(['trouble_condition_name']).agg(\n",
    "    Total_incidents=('customer_id','count'), \n",
    "    Unique_Customers=('customer_id','nunique'), \n",
    "    Churn_counts = ('Churn_flag','sum'),\n",
    "     Churn_rate = ('Churn_flag',lambda x: x.mean()*100),\n",
    "     ).reset_index().sort_values('Unique_Customers',ascending=False))"
   ]
  },
  {
   "cell_type": "code",
   "execution_count": null,
   "id": "846219d1-2766-498a-a954-4cda24496a8f",
   "metadata": {},
   "outputs": [],
   "source": [
    "Merge_Data_with_Camera_1.value_counts('trouble_condition_name')"
   ]
  },
  {
   "cell_type": "code",
   "execution_count": null,
   "id": "1cc4daee-4e51-4ec6-9451-1f366cf7da3e",
   "metadata": {},
   "outputs": [],
   "source": [
    "Merge_Data_with_Camera_1.groupby(['trouble_condition_name']).agg(\n",
    "     Churn_counts = ('Churn_flag','sum'),\n",
    "     Churn_rate = ('Churn_flag',lambda x: x.mean()*100),\n",
    "     ).reset_index().sort_values('Churn_counts',ascending=False)"
   ]
  },
  {
   "cell_type": "code",
   "execution_count": null,
   "id": "2b460a4c-1f15-4b2e-9ad8-83d5669ac7b4",
   "metadata": {},
   "outputs": [],
   "source": []
  },
  {
   "cell_type": "code",
   "execution_count": null,
   "id": "4a1ddbec-10bb-4da6-92d1-ff709241d681",
   "metadata": {},
   "outputs": [],
   "source": [
    "Customer_level_data= Merge_Data_with_Camera_1[['customer_id','dealer_customer_id','dealer_name_x','trouble_condition_name','trouble_condition_group_desc','account_type_name','customer_type_name','join_date','term_date','term_reason','primary_phone','Churn_flag']].drop_duplicates(keep=False, inplace=False)"
   ]
  },
  {
   "cell_type": "code",
   "execution_count": null,
   "id": "e78405cb-79b2-44a7-86cc-8c30e71f5d17",
   "metadata": {},
   "outputs": [],
   "source": [
    "Customer_level_data.info()"
   ]
  },
  {
   "cell_type": "code",
   "execution_count": null,
   "id": "bb786fab-4643-40d9-a466-bc59e7055030",
   "metadata": {},
   "outputs": [],
   "source": [
    "Customer_level_data['customer_id'].nunique()"
   ]
  },
  {
   "cell_type": "code",
   "execution_count": null,
   "id": "d131a7f1-2b55-4564-80ae-0c46d51c1b4e",
   "metadata": {},
   "outputs": [],
   "source": [
    "Camera_issue_DF.info()"
   ]
  },
  {
   "cell_type": "code",
   "execution_count": null,
   "id": "17223e5e-46da-4078-85c2-b2a4be469ac8",
   "metadata": {},
   "outputs": [],
   "source": [
    "Camera_issue_DF.head()"
   ]
  },
  {
   "cell_type": "code",
   "execution_count": null,
   "id": "8b27226e-9e1b-4ab2-9067-41400a53e69a",
   "metadata": {},
   "outputs": [],
   "source": [
    "Camera_issue_DF.groupby('trouble_condition_name')['Churn_flag'].mean()*100"
   ]
  },
  {
   "cell_type": "code",
   "execution_count": null,
   "id": "559ada6c-41c8-43cf-ba0a-2c061b0dc83d",
   "metadata": {},
   "outputs": [],
   "source": [
    "# Camera_issue_DF['customer_id'].value_counts()"
   ]
  },
  {
   "cell_type": "code",
   "execution_count": null,
   "id": "83817a31-4d1f-463a-b905-34dbde20acf9",
   "metadata": {},
   "outputs": [],
   "source": [
    "Camera_issue_Customer_level= Merge_Data[['customer_id','dealer_customer_id','dealer_name_x','account_type_name','customer_type_name','join_date','term_date','term_reason','primary_phone','Churn_flag']].drop_duplicates(keep=False, inplace=False)"
   ]
  },
  {
   "cell_type": "code",
   "execution_count": null,
   "id": "be015781-2158-4f35-a9a6-845cd3637640",
   "metadata": {},
   "outputs": [],
   "source": [
    "# Camera_issue_Customer_level['customer_id'].value_counts()"
   ]
  },
  {
   "cell_type": "code",
   "execution_count": null,
   "id": "7a2ccaf9-3c3f-4be4-be9a-e6551230c354",
   "metadata": {},
   "outputs": [],
   "source": []
  },
  {
   "cell_type": "code",
   "execution_count": null,
   "id": "36c10a89-2bb2-4357-9000-2db9a7cac754",
   "metadata": {},
   "outputs": [],
   "source": [
    "Camera_issue_Customer_level.info()"
   ]
  },
  {
   "cell_type": "code",
   "execution_count": null,
   "id": "2183dca5-5162-4748-8b2a-bceffb391e90",
   "metadata": {},
   "outputs": [],
   "source": [
    "Camera_issue_Customer_level['dealer_name_x'].value_counts()"
   ]
  },
  {
   "cell_type": "code",
   "execution_count": null,
   "id": "7e04ebc5-8ce7-4123-b9ce-25de4c94f1f4",
   "metadata": {},
   "outputs": [],
   "source": [
    "Camera_issue_Customer_level['Churn_flag'].value_counts(normalize=True)*100"
   ]
  },
  {
   "cell_type": "code",
   "execution_count": null,
   "id": "c9a837c7-3e14-4967-9cbb-f729fc1d2b9a",
   "metadata": {},
   "outputs": [],
   "source": [
    "Telus_GCP_Customers= '''\n",
    "\n",
    "select *\n",
    "from `cio-datahub-enterprise-pr-183a.ent_cust_cust.bq_prod_instnc_snpsht` \n",
    "CROSS JOIN UNNEST(list_tpl_pi_alias_str) as param\n",
    "WHERE DATE(prod_instnc_ts) = \"2022-08-31\" #Snapshot of the last day of the month\n",
    "and pi_prod_instnc_typ_cd ='SMHM' #Serice type\n",
    "and pi_prod_instnc_stat_cd in ('C') #Canceled service\n",
    "and bus_prod_instnc_src_id = 1001 #BANs that are for home services\n",
    "and DATE(pi_prod_instnc_stat_ts)>='2022-08-01' and DATE(pi_prod_instnc_stat_ts)<'2022-09-01' #Date on which the status was updated\n",
    "\n",
    "\n",
    "'''"
   ]
  }
 ],
 "metadata": {
  "kernelspec": {
   "display_name": "Python 3 (ipykernel)",
   "language": "python",
   "name": "python3"
  },
  "language_info": {
   "codemirror_mode": {
    "name": "ipython",
    "version": 3
   },
   "file_extension": ".py",
   "mimetype": "text/x-python",
   "name": "python",
   "nbconvert_exporter": "python",
   "pygments_lexer": "ipython3",
   "version": "3.7.12"
  }
 },
 "nbformat": 4,
 "nbformat_minor": 5
}
