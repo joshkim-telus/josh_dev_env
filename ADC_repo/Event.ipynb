{
 "cells": [
  {
   "cell_type": "code",
   "execution_count": null,
   "id": "c831bdfd-a6e6-4ae2-95c2-c1193baae404",
   "metadata": {},
   "outputs": [],
   "source": [
    "#### import global modules\n",
    "import os\n",
    "import sys\n",
    "import pandas as pd\n",
    "from pathlib import Path\n",
    "from yaml import safe_load\n",
    "import google.oauth2.credentials\n",
    "from google.cloud import bigquery\n",
    "import numpy as np\n",
    "# Set global vars\n",
    "pth_project = Path(os.getcwd().split('notebooks')[0])\n",
    "pth_data = pth_project / 'data'\n",
    "pth_queries = pth_project / 'core' / 'queries'\n",
    "pth_creds = pth_project / 'conf' / 'local' / 'project_config.yaml'\n",
    "sys.path.insert(0, str(pth_project))\n",
    "d_project_config = safe_load(pth_creds.open())\n",
    "# d_params = safe_load((pth_project / 'core' / 'parameters' / 'common.yaml').open())['data_extract']\n",
    "\n",
    "# import local modules\n",
    "from core.utils.gcp import connect_bq_services\n",
    "# from core.etl.extract import extract_bq_data, extract_pr_codes, format_conv_df, filter_convs\n",
    "\n",
    "# Connect to google services\n",
    "bq_client = connect_bq_services(d_project_config['gcp-project-name'])\n",
    "pd.options.display.max_rows = 100"
   ]
  },
  {
   "cell_type": "code",
   "execution_count": null,
   "id": "b01c2758-818e-48e0-8051-12423be7d296",
   "metadata": {},
   "outputs": [],
   "source": [
    "def extract_bq_data(bq_client, sql=None, pth_query=None):\n",
    "    if sql is not None:\n",
    "        df = bq_client.query(sql).to_dataframe()\n",
    "    elif pth_query is not None:\n",
    "        sql = pth_query.read_text()\n",
    "        df = bq_client.query(sql).to_dataframe()\n",
    "    else:\n",
    "        raise ValueError('`sql` or `pth_query` should be set')  \n",
    "    return df"
   ]
  },
  {
   "cell_type": "code",
   "execution_count": null,
   "id": "00ebf1e5-1690-4411-aaa1-504475ce787a",
   "metadata": {},
   "outputs": [],
   "source": []
  },
  {
   "cell_type": "code",
   "execution_count": null,
   "id": "775a7a41-e9a0-47e2-ac62-100287c9155d",
   "metadata": {},
   "outputs": [],
   "source": [
    "Query='''\n",
    "\n",
    "\n",
    "select CONCAT(CAST(EXTRACT(YEAR from event_date) as string),'-' ,LPAD(CAST(EXTRACT(MONTH from event_date) as string),2,'0'),'-01' )  as Month_year\n",
    ",customer_id,device_type,event_type, count(*) as count_events from `cio-datahub-enterprise-pr-183a.src_adc.bq_events`\n",
    "where device_type!=''\n",
    "group by Month_year,customer_id,event_type,device_type\n",
    "order by Month_year,customer_id, count_events desc\n",
    "\n",
    "\n",
    "'''"
   ]
  },
  {
   "cell_type": "code",
   "execution_count": null,
   "id": "de027188-1c98-48b5-bd75-324af13694fe",
   "metadata": {},
   "outputs": [],
   "source": [
    "Event_by_month= extract_bq_data(bq_client,sql=Query)"
   ]
  },
  {
   "cell_type": "code",
   "execution_count": null,
   "id": "c6dd3954-bae7-439d-8d10-37bf333f79da",
   "metadata": {},
   "outputs": [],
   "source": [
    "Event_by_month.info()"
   ]
  },
  {
   "cell_type": "code",
   "execution_count": null,
   "id": "743a5875-11c3-45af-adc5-53fba8dad8c5",
   "metadata": {},
   "outputs": [],
   "source": [
    "Event_by_month.head()"
   ]
  },
  {
   "cell_type": "code",
   "execution_count": null,
   "id": "5a7e5c74-fa89-4516-9b39-d8c4563ccd5d",
   "metadata": {},
   "outputs": [],
   "source": [
    "Event_by_month['event_type'].value_counts()"
   ]
  },
  {
   "cell_type": "code",
   "execution_count": null,
   "id": "bdf1e2e0-b738-4090-b25c-db9ce9aea09c",
   "metadata": {},
   "outputs": [],
   "source": [
    "Event_by_month['Month_year'] = pd.to_datetime(Event_by_month['Month_year'])"
   ]
  },
  {
   "cell_type": "code",
   "execution_count": null,
   "id": "14d079cd-58e1-4834-afe9-edec591787f1",
   "metadata": {},
   "outputs": [],
   "source": [
    "Event_by_month['Month_year'].min()"
   ]
  },
  {
   "cell_type": "code",
   "execution_count": null,
   "id": "e1d46079-6e8a-486e-8eeb-688802939d24",
   "metadata": {},
   "outputs": [],
   "source": [
    "Event_by_month['Month_year'].max()"
   ]
  },
  {
   "cell_type": "code",
   "execution_count": null,
   "id": "ad30b83d-7fe6-4d42-84b3-29c103546659",
   "metadata": {},
   "outputs": [],
   "source": [
    "config= bigquery.job.LoadJobConfig()\n",
    "\n",
    "config._properties['timePartitioning'] = {'field': 'Month_Year'}\n",
    "config.write_disposition = bigquery.WriteDisposition.WRITE_TRUNCATE\n",
    "\n",
    "\n",
    "Table_BQ = 'ADC.Events_by_month'\n",
    "\n",
    "bq_table_instance= bq_client.load_table_from_dataframe(Event_by_month, Table_BQ,job_config=config)"
   ]
  },
  {
   "cell_type": "code",
   "execution_count": null,
   "id": "9413a5e7-20ee-4257-8aa2-51deb00f5e20",
   "metadata": {},
   "outputs": [],
   "source": []
  }
 ],
 "metadata": {
  "kernelspec": {
   "display_name": "Python 3 (ipykernel)",
   "language": "python",
   "name": "python3"
  },
  "language_info": {
   "codemirror_mode": {
    "name": "ipython",
    "version": 3
   },
   "file_extension": ".py",
   "mimetype": "text/x-python",
   "name": "python",
   "nbconvert_exporter": "python",
   "pygments_lexer": "ipython3",
   "version": "3.7.12"
  }
 },
 "nbformat": 4,
 "nbformat_minor": 5
}
