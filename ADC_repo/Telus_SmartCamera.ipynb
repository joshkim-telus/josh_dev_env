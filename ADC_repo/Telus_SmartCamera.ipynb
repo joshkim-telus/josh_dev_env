{
 "cells": [
  {
   "cell_type": "code",
   "execution_count": null,
   "id": "5492bc35-8208-44b5-abd5-ed7620d1607e",
   "metadata": {},
   "outputs": [],
   "source": [
    "#### import global modules\n",
    "import os\n",
    "import sys\n",
    "import pandas as pd\n",
    "import numpy as np\n",
    "from pathlib import Path\n",
    "from yaml import safe_load\n",
    "import google.oauth2.credentials\n",
    "from google.cloud import bigquery\n",
    "import gc\n",
    "\n",
    "# Set global vars\n",
    "pth_project = Path(os.getcwd().split('notebooks')[0])\n",
    "pth_data = pth_project / 'data'\n",
    "pth_queries = pth_project / 'core' / 'queries'\n",
    "pth_creds = pth_project / 'conf' / 'local' / 'project_config.yaml'\n",
    "sys.path.insert(0, str(pth_project))\n",
    "d_project_config = safe_load(pth_creds.open())\n",
    "# d_params = safe_load((pth_project / 'core' / 'parameters' / 'common.yaml').open())['data_extract']\n",
    "\n",
    "# import local modules\n",
    "from core.utils.gcp import connect_bq_services\n",
    "# from core.etl.extract import extract_bq_data, extract_pr_codes, format_conv_df, filter_convs\n",
    "\n",
    "# Connect to google services\n",
    "bq_client = connect_bq_services(d_project_config['gcp-project-name'])\n",
    "pd.options.display.max_rows = 100"
   ]
  },
  {
   "cell_type": "code",
   "execution_count": null,
   "id": "df1c1dbd-e9ba-4d1c-b651-f02316cf5fcf",
   "metadata": {},
   "outputs": [],
   "source": [
    "def extract_bq_data(bq_client, sql=None, pth_query=None):\n",
    "    if sql is not None:\n",
    "        df = bq_client.query(sql).to_dataframe()\n",
    "    elif pth_query is not None:\n",
    "        sql = pth_query.read_text()\n",
    "        df = bq_client.query(sql).to_dataframe()\n",
    "    else:\n",
    "        raise ValueError('`sql` or `pth_query` should be set')  \n",
    "    return df"
   ]
  },
  {
   "cell_type": "code",
   "execution_count": null,
   "id": "f58f0684-1984-4b87-9a29-b0a1ef993b2d",
   "metadata": {},
   "outputs": [],
   "source": [
    "Query='''\n",
    "\n",
    "WITH\n",
    "  ADC_data AS(\n",
    "  SELECT\n",
    "    customer_id,\n",
    "    dealer_customer_id,\n",
    "    BAN,\n",
    "    CASE\n",
    "      WHEN account_type_name='Standalone' THEN 'Smart_Camera'\n",
    "      WHEN account_type_name='Awareness and Automation' THEN 'Smart_Automation_Plus'\n",
    "    ELSE\n",
    "    'Monitored'\n",
    "  END\n",
    "    AS Package,\n",
    "   CASE\n",
    "      WHEN Login_consistency = 0 THEN  \"NO_User\"\n",
    "      WHEN Login_consistency>=30 THEN 'Heavy_User'\n",
    "      WHEN Login_consistency<30 THEN \"Low_User\"\n",
    "    ELSE\n",
    "    'Un_assigned'\n",
    "  END\n",
    "    AS Smart_camera_Segment \n",
    "  FROM\n",
    "    `divgpras-pr-579355.ADC_Feature_Datastore.ADC_Master_Data`\n",
    "  WHERE\n",
    "    Month_Snapshot='2022-10-01'\n",
    "    AND dealer_name='TELUS Communications Inc.' ),\n",
    "\n",
    "\n",
    "Telus_customers as(\n",
    "\n",
    "select cust_bus_cust_id,pi_cntrct_end_ts as contract_end_date,pi_cntrct_start_ts as contract_start_date\n",
    "from `cio-datahub-enterprise-pr-183a.ent_cust_cust.bq_prod_instnc_snpsht` \n",
    "WHERE DATE(prod_instnc_ts) = '2022-10-31' #Snapshot of the last day of the month\n",
    "and pi_prod_instnc_typ_cd ='SMHM' #Serice type\n",
    "and bus_prod_instnc_src_id = 1001 #BANs that are for home services\n",
    "and pi_prod_instnc_stat_cd in ('A')\n",
    "and  consldt_cust_typ_cd = 'R'\n",
    "QUALIFY ROW_NUMBER() OVER (PARTITION BY cust_bus_cust_id ORDER BY pi_prod_instnc_stat_ts DESC) = 1\n",
    "order by cust_bus_cust_id\n",
    "\n",
    "),\n",
    "\n",
    "\n",
    "\n",
    "Telus_SMHM_Deact_Oct2022 AS (\n",
    "\n",
    "select distinct BILLING_ACCOUNT_NUM as BAN ,1 as Telus_Churn_Flag  \n",
    "from `divgpras-pr-579355.SHS.SHS_DEACTS_OCT2022`\n",
    "--SELECT DISTINCT BAN,1 AS Telus_Churn_Flag\n",
    "--FROM `divg-churn-analysis-pr-7e40f6.divg_churn_analysis_pr_dataset.ad-hoc-2023-01-25` \n",
    "\n",
    "),\n",
    "\n",
    "\n",
    "login_data AS (\n",
    "  SELECT\n",
    "    customer_id,\n",
    "    (COUNT(DISTINCT DATE(login_dt_utc))*100/30) AS Login_consistency\n",
    "  FROM\n",
    "    `cio-datahub-enterprise-pr-183a.src_adc.bq_customer_daily_logins`\n",
    "  WHERE\n",
    "    DATE(login_dt_utc)< '2022-11-01'\n",
    "    AND DATE(login_dt_utc)>= '2022-10-01'\n",
    "  GROUP BY\n",
    "    customer_id \n",
    "),\n",
    "\n",
    "\n",
    "Telus_Merge AS (\n",
    "\n",
    "\n",
    "select * from ADC_data as ADC\n",
    "inner join Telus_customers as Telus\n",
    "on ADC.dealer_customer_id=Telus.cust_bus_cust_id \n",
    "\n",
    ")\n",
    "\n",
    ", Merge_data AS (\n",
    "  SELECT\n",
    "    ADC.*,\n",
    "    CASE\n",
    "      WHEN c.Telus_Churn_Flag IS NULL THEN 0\n",
    "    ELSE\n",
    "    c.Telus_Churn_Flag\n",
    "  END\n",
    "    AS Telus_Churn,\n",
    "    CASE\n",
    "      WHEN lg.Login_consistency IS NULL THEN \"NO_User\"\n",
    "      WHEN lg.Login_consistency>=30 THEN 'Heavy_User'\n",
    "      WHEN lg.Login_consistency<30 THEN \"Low_User\"\n",
    "    ELSE\n",
    "    'Un_assigned'\n",
    "  END\n",
    "    AS Segment\n",
    "  FROM\n",
    "    Telus_Merge AS ADC\n",
    "  LEFT JOIN\n",
    "    Telus_SMHM_Deact_Oct2022 c\n",
    "  ON\n",
    "    --ADC.dealer_customer_id=c.CUST_ID\n",
    "    ADC.BAN=c.BAN\n",
    "  LEFT JOIN\n",
    "    login_data lg\n",
    "  ON\n",
    "    lg.customer_id=ADC.customer_id )\n",
    "\n",
    "-- SELECT\n",
    "--   Package,\n",
    "--   Segment,\n",
    "--   COUNT(DISTINCT customer_id) AS volume,\n",
    "--   SUM(Telus_Churn) AS Total_Churn,\n",
    "--   ROUND(AVG(Telus_Churn)*100,2) AS Churn_rate\n",
    "-- FROM\n",
    "--   Merge_data\n",
    "-- GROUP BY\n",
    "--   Package,\n",
    "--   Segment\n",
    "-- ORDER BY\n",
    "--   Package,\n",
    "--   Segment\n",
    "\n",
    "select * from Merge_data\n",
    "\n",
    "\n",
    "\n",
    "'''"
   ]
  },
  {
   "cell_type": "code",
   "execution_count": null,
   "id": "c1f95591-ce1b-4e96-99b1-03d20505cf10",
   "metadata": {},
   "outputs": [],
   "source": [
    "Query_updated='''\n",
    "\n",
    "\n",
    "\n",
    "WITH\n",
    "  ADC_data AS(\n",
    "  SELECT\n",
    "    customer_id,\n",
    "    dealer_customer_id,\n",
    "    BAN,\n",
    "    CASE\n",
    "      WHEN account_type_name='Standalone' THEN 'Smart_Camera'\n",
    "      WHEN account_type_name='Awareness and Automation' THEN 'Smart_Automation_Plus'\n",
    "    ELSE\n",
    "    'Monitored'\n",
    "  END\n",
    "    AS Package,\n",
    "   CASE\n",
    "      WHEN Login_consistency = 0 THEN  \"NO_User\"\n",
    "      WHEN Login_consistency>=30 THEN 'Heavy_User'\n",
    "      WHEN Login_consistency<30 THEN \"Low_User\"\n",
    "    ELSE\n",
    "    'Un_assigned'\n",
    "  END\n",
    "    AS Smart_camera_Segment \n",
    "  FROM\n",
    "    `divgpras-pr-579355.ADC_Feature_Datastore.ADC_Master_Data`\n",
    "  WHERE\n",
    "    Month_Snapshot='2022-10-01'\n",
    "    AND dealer_name='TELUS Communications Inc.' )\n",
    "\n",
    "\n",
    ",Telus_customers as(\n",
    "\n",
    "select cust_bus_cust_id,pi_cntrct_end_ts as contract_end_date,pi_cntrct_start_ts as contract_start_date\n",
    "from `cio-datahub-enterprise-pr-183a.ent_cust_cust.bq_prod_instnc_snpsht` \n",
    "WHERE DATE(prod_instnc_ts) = '2022-10-31' #Snapshot of the last day of the month\n",
    "and pi_prod_instnc_typ_cd ='SMHM' #Serice type\n",
    "and bus_prod_instnc_src_id = 1001 #BANs that are for home services\n",
    "and pi_prod_instnc_stat_cd in ('A')\n",
    "and  consldt_cust_typ_cd = 'R'\n",
    "QUALIFY ROW_NUMBER() OVER (PARTITION BY cust_bus_cust_id ORDER BY pi_prod_instnc_stat_ts DESC) = 1\n",
    "order by cust_bus_cust_id\n",
    "\n",
    ")\n",
    "\n",
    "\n",
    "\n",
    ",Telus_SMHM_Deact_Oct2022 AS (\n",
    "\n",
    "select distinct BILLING_ACCOUNT_NUM as BAN ,1 as Telus_Churn  \n",
    "from `divgpras-pr-579355.SHS.SHS_DEACTS_OCT2022`\n",
    "\n",
    ")\n",
    "\n",
    "\n",
    ",SHS_features as(\n",
    "\n",
    "SELECT \n",
    "distinct ban,\n",
    "AGE_BAND,\n",
    "PROD_MIX_AL\n",
    "\n",
    " FROM `divg-churn-analysis-pr-7e40f6.divg_churn_analysis_pr_dataset.base_features_scores_segments_20220731`\n",
    "  \n",
    ")\n",
    "\n",
    "\n",
    ",Telus_Merge AS (\n",
    "\n",
    "\n",
    "select ADC.*,Telus.contract_start_date,Telus.contract_end_date,Deacts.Telus_Churn,SHS.AGE_BAND,SHS.PROD_MIX_AL\n",
    "from ADC_data as ADC\n",
    "inner join Telus_customers as Telus\n",
    "on ADC.dealer_customer_id=Telus.cust_bus_cust_id\n",
    "left join  Telus_SMHM_Deact_Oct2022 as Deacts\n",
    "on ADC.BAN=Deacts.BAN\n",
    "left join SHS_features as SHS\n",
    "on ADC.BAN=SHS.ban\n",
    "\n",
    ")\n",
    "\n",
    "\n",
    "select * from Telus_Merge\n",
    "\n",
    "\n",
    "'''"
   ]
  },
  {
   "cell_type": "code",
   "execution_count": null,
   "id": "1f66b394-3bd4-44bb-b911-a14917e16373",
   "metadata": {},
   "outputs": [],
   "source": [
    "Camera_count_SQL='''\n",
    "\n",
    "SELECT customer_id,combined_device_type_desc, count(distinct device_id) as count_of_camera FROM `divgpras-pr-579355.ADC_updated.ADC_Inventory_device_data` \n",
    "where date(device_install_date)<'2022-10-01'\n",
    "and date(device_removal_date) is NULL\n",
    "and  combined_device_type_desc='Camera'\n",
    "-- or date(device_removal_date)>='2022-11-01' \n",
    "group by customer_id,combined_device_type_desc\n",
    "\n",
    "\n",
    "'''\n",
    "\n"
   ]
  },
  {
   "cell_type": "code",
   "execution_count": null,
   "id": "bdd939f6-0183-4387-96e5-3fe2c7b5ffff",
   "metadata": {},
   "outputs": [],
   "source": [
    "Camera_Count_DF=extract_bq_data(bq_client, sql=Camera_count_SQL)"
   ]
  },
  {
   "cell_type": "code",
   "execution_count": null,
   "id": "a54fe2ab-eeb9-48f8-a560-5e936f7163d2",
   "metadata": {},
   "outputs": [],
   "source": [
    "Camera_Count_DF.info()"
   ]
  },
  {
   "cell_type": "code",
   "execution_count": null,
   "id": "981d191b-b2bc-4c17-bd55-03ace3612986",
   "metadata": {},
   "outputs": [],
   "source": [
    "Camera_Count_DF.head()"
   ]
  },
  {
   "cell_type": "code",
   "execution_count": null,
   "id": "8c26ba37-5917-4108-954e-06b682c968a2",
   "metadata": {},
   "outputs": [],
   "source": [
    "Type_of_cameras_Query= '''\n",
    "\n",
    "\n",
    "SELECT distinct Customer_ID_ID as customer_id,Updated_Combined_Device_Type_DESC, count(distinct device_id) as count FROM `divgpras-pr-579355.ADC_updated.ADC_Camera_details` \n",
    "where date(Device_Install_Date_ID)<'2022-10-01'\n",
    "and date(Device_Removal_Date_ID) is NULL\n",
    "group by Customer_ID_ID,Updated_Combined_Device_Type_DESC\n",
    "\n",
    "\n",
    "\n",
    "'''"
   ]
  },
  {
   "cell_type": "code",
   "execution_count": null,
   "id": "2b0c327a-2f3e-4a73-9de6-3e587f7ec5d9",
   "metadata": {},
   "outputs": [],
   "source": [
    "Telus_Smart_camera_Oct='''\n",
    "\n",
    "\n",
    "\n",
    "with data_1 as (select * from `divgpras-pr-579355.ADC_updated.Smart_Camera_Amalysis_Oct2022`)\n",
    "\n",
    "-- , data_2 as ( SELECT ban,AGE_BAND,PROD_MIX_AL FROM `divg-churn-analysis-pr-7e40f6.divg_churn_analysis_pr_dataset.base_features_scores_segments_20220731`)\n",
    "\n",
    "\n",
    ", data_2 as ( select distinct ban,prod_mix\n",
    "from `bi-srv-features-pr-ef5a93.ban_product.bq_ban_product_mix`\n",
    "QUALIFY ROW_NUMBER() OVER (PARTITION BY ban ORDER BY part_dt DESC) = 1)\n",
    "\n",
    "\n",
    "\n",
    "select data_1.*,data_2.prod_mix\n",
    "from data_1\n",
    "left join data_2 on data_1.BAN=data_2.ban\n",
    "\n",
    "\n",
    "'''"
   ]
  },
  {
   "cell_type": "code",
   "execution_count": null,
   "id": "d8cf014a-6ca6-4c0a-85ba-3ea913c8c92c",
   "metadata": {},
   "outputs": [],
   "source": [
    "Type_of_cameras=extract_bq_data(bq_client, sql=Type_of_cameras_Query)"
   ]
  },
  {
   "cell_type": "code",
   "execution_count": null,
   "id": "59c8a180-cb08-4814-8c20-be921d18acae",
   "metadata": {},
   "outputs": [],
   "source": [
    "Type_of_cameras.info()"
   ]
  },
  {
   "cell_type": "code",
   "execution_count": null,
   "id": "4893b132-144c-462b-bd13-09204efebdb9",
   "metadata": {},
   "outputs": [],
   "source": [
    "Type_of_cameras['Updated_Combined_Device_Type_DESC'].value_counts()"
   ]
  },
  {
   "cell_type": "code",
   "execution_count": null,
   "id": "39c3b326-2690-4b9c-87e7-d9f47e7ad6cb",
   "metadata": {},
   "outputs": [],
   "source": [
    "# 'Outdoor Camera'.split(\" \")[0]"
   ]
  },
  {
   "cell_type": "code",
   "execution_count": null,
   "id": "2536cf12-cc67-47fb-ae37-e6b5d52f03cb",
   "metadata": {},
   "outputs": [],
   "source": [
    "Type_of_cameras[\"Device_detail_type\"] = Type_of_cameras[\"Updated_Combined_Device_Type_DESC\"].apply(lambda x: x.split(\" \")[0].strip())"
   ]
  },
  {
   "cell_type": "code",
   "execution_count": null,
   "id": "b77c4431-c644-4439-b9a6-961f62230edf",
   "metadata": {},
   "outputs": [],
   "source": [
    "Type_of_cameras[\"Device_detail_type\"].value_counts()"
   ]
  },
  {
   "cell_type": "code",
   "execution_count": null,
   "id": "9c4fd766-a3cb-4cae-a6b9-21853f2d8896",
   "metadata": {},
   "outputs": [],
   "source": [
    "# pd.DataFrame(DF_monitored.groupby(['Arming_category','Login_category']).agg(\n",
    "    \n",
    "#     Customer_count= ('customer_id','count'),\n",
    "#     Customer_count_1= ('customer_id','nunique'),\n",
    "#     # Customer_Share= ('customer_id',lambda x:x.count()*100/Merge_DF_4.shape[0])\n",
    "#     Churn_total=('Telus_Churn_Flag',lambda x: x.sum()),\n",
    "#     Churn_rate=('Telus_Churn_Flag',lambda x: x.mean()*100)\n",
    "# ).reset_index())"
   ]
  },
  {
   "cell_type": "code",
   "execution_count": null,
   "id": "e4c0b758-4a14-4fbb-9707-7ffa1313425d",
   "metadata": {},
   "outputs": [],
   "source": [
    "Type_of_cameras_wide=Type_of_cameras.pivot_table(index='customer_id', columns='Device_detail_type', values='count',aggfunc = \"sum\").reset_index()"
   ]
  },
  {
   "cell_type": "code",
   "execution_count": null,
   "id": "79a62c99-2771-4154-b0ad-af95e5143ef3",
   "metadata": {},
   "outputs": [],
   "source": [
    "Type_of_cameras_wide.head()"
   ]
  },
  {
   "cell_type": "code",
   "execution_count": null,
   "id": "857ff7ca-6ca4-410d-abb0-d65debf00cc5",
   "metadata": {},
   "outputs": [],
   "source": [
    "Type_of_cameras_wide.columns=['customer_id','Doorbell','indoor','Outdoor']"
   ]
  },
  {
   "cell_type": "code",
   "execution_count": null,
   "id": "5941114a-8f0b-4ce9-9e33-f838510ac4e8",
   "metadata": {},
   "outputs": [],
   "source": [
    "Type_of_cameras_wide.fillna(0,inplace=True)"
   ]
  },
  {
   "cell_type": "code",
   "execution_count": null,
   "id": "f56189f4-08ae-4433-b5d5-11e5a8d49b61",
   "metadata": {},
   "outputs": [],
   "source": [
    "Telus_Smart_camera_Oct_DF=extract_bq_data(bq_client, sql=Telus_Smart_camera_Oct)"
   ]
  },
  {
   "cell_type": "code",
   "execution_count": null,
   "id": "d8b8d29c-1984-4002-b78b-ade51105398d",
   "metadata": {},
   "outputs": [],
   "source": [
    "Telus_Smart_camera_Oct_DF.info()"
   ]
  },
  {
   "cell_type": "code",
   "execution_count": null,
   "id": "8c3caf64-5eaa-442d-b6f3-b9a4ebe27691",
   "metadata": {},
   "outputs": [],
   "source": [
    "Telus_Smart_camera_Oct_DF.isna().sum()*100/Telus_Smart_camera_Oct_DF.shape[0]"
   ]
  },
  {
   "cell_type": "code",
   "execution_count": null,
   "id": "bc9739b5-77c2-4a06-abda-d2955c345091",
   "metadata": {},
   "outputs": [],
   "source": [
    "Telus_Smart_camera_Oct_DF[Telus_Smart_camera_Oct_DF['BAN']==603565171]"
   ]
  },
  {
   "cell_type": "code",
   "execution_count": null,
   "id": "83db6bf0-ed6b-4baa-a284-375c392806ea",
   "metadata": {},
   "outputs": [],
   "source": [
    "Telus_Smart_camera_Oct_DF_1=Telus_Smart_camera_Oct_DF.merge(Type_of_cameras_wide,on='customer_id',how='left')"
   ]
  },
  {
   "cell_type": "code",
   "execution_count": null,
   "id": "f9b30a74-e335-49e2-910c-04e7127637b2",
   "metadata": {},
   "outputs": [],
   "source": [
    "Telus_Smart_camera_Oct_DF_1.head()"
   ]
  },
  {
   "cell_type": "code",
   "execution_count": null,
   "id": "c8ebfc82-c49a-4bf5-a5fd-d2779d813988",
   "metadata": {},
   "outputs": [],
   "source": [
    "Telus_Smart_camera_Oct_DF_1.info()"
   ]
  },
  {
   "cell_type": "code",
   "execution_count": null,
   "id": "67a0afc2-d2f4-4f38-bff4-fcb20634c70b",
   "metadata": {},
   "outputs": [],
   "source": [
    "# Telus_Smart_camera_Oct_DF_1.fillna(0,inplace=True)"
   ]
  },
  {
   "cell_type": "code",
   "execution_count": null,
   "id": "35323275-bf6b-4283-8652-173284ff4047",
   "metadata": {},
   "outputs": [],
   "source": [
    "# Telus_Smart_camera_Oct_DF_1=Telus_Smart_camera_Oct_DF_1.reset_index()"
   ]
  },
  {
   "cell_type": "code",
   "execution_count": null,
   "id": "4b5a5406-b29d-4db6-8329-b3e870759f3e",
   "metadata": {},
   "outputs": [],
   "source": [
    "Telus_Smart_camera_Oct_DF_1.head()"
   ]
  },
  {
   "cell_type": "code",
   "execution_count": null,
   "id": "772042ba-bd88-4be7-b66e-f042d525afd9",
   "metadata": {},
   "outputs": [],
   "source": [
    "Telus_Smart_camera_Oct_DF_1.to_csv('Telus_SmartCamera_with_camera_count_Oct2022_20230119.csv',index=False)"
   ]
  },
  {
   "cell_type": "code",
   "execution_count": null,
   "id": "412c12eb-ee2d-46f3-bea5-352ed3aec3cb",
   "metadata": {},
   "outputs": [],
   "source": [
    "DF=extract_bq_data(bq_client, sql=Query_updated)"
   ]
  },
  {
   "cell_type": "code",
   "execution_count": null,
   "id": "8b93afc6-2a06-4bc4-b907-7c68137986f1",
   "metadata": {},
   "outputs": [],
   "source": [
    "DF.info()"
   ]
  },
  {
   "cell_type": "code",
   "execution_count": null,
   "id": "0b4f0fad-473a-4553-bcd3-fa508a5df572",
   "metadata": {},
   "outputs": [],
   "source": [
    "DF.head()"
   ]
  },
  {
   "cell_type": "code",
   "execution_count": null,
   "id": "3704360e-2a09-402d-9bf0-1c74be208351",
   "metadata": {},
   "outputs": [],
   "source": [
    "Merge_DF=DF.merge(Camera_Count_DF,how='left',on='customer_id')"
   ]
  },
  {
   "cell_type": "code",
   "execution_count": null,
   "id": "62c71e7e-5bad-4e22-bda4-e94e84c32a6b",
   "metadata": {},
   "outputs": [],
   "source": [
    "Merge_DF.head()"
   ]
  },
  {
   "cell_type": "code",
   "execution_count": null,
   "id": "c4fb81dc-c43f-47ab-8b51-765631838be7",
   "metadata": {},
   "outputs": [],
   "source": []
  },
  {
   "cell_type": "code",
   "execution_count": null,
   "id": "22c64c58-cf85-4231-923b-09f237772dad",
   "metadata": {},
   "outputs": [],
   "source": [
    "Merge_DF.isna().sum()*100/Merge_DF.shape[0]"
   ]
  },
  {
   "cell_type": "code",
   "execution_count": null,
   "id": "82486c07-2377-4881-a5cf-27f1adf67c20",
   "metadata": {},
   "outputs": [],
   "source": [
    "Merge_DF.fillna(0,inplace=True)"
   ]
  },
  {
   "cell_type": "code",
   "execution_count": null,
   "id": "b7c9977b-f1a9-412b-905d-762e5c5194f5",
   "metadata": {},
   "outputs": [],
   "source": [
    "Merge_DF['count_of_camera'].value_counts()"
   ]
  },
  {
   "cell_type": "code",
   "execution_count": null,
   "id": "234c32a5-2798-46f9-b522-2746f82906c5",
   "metadata": {},
   "outputs": [],
   "source": [
    "Merge_DF['Camera_exact_1']=Merge_DF['count_of_camera'].apply(lambda x: 1 if x==1 else 0)\n",
    "Merge_DF['Camera_exact_2']=Merge_DF['count_of_camera'].apply(lambda x: 1 if x==2 else 0)\n",
    "Merge_DF['Camera_grt_eq_3']=Merge_DF['count_of_camera'].apply(lambda x: 1 if x>=3 else 0)"
   ]
  },
  {
   "cell_type": "code",
   "execution_count": null,
   "id": "98b3225c-09b3-4811-970a-f6152db85176",
   "metadata": {},
   "outputs": [],
   "source": [
    "pd.DataFrame(Merge_DF.groupby(['Smart_camera_Segment','Package']).agg(\n",
    "    \n",
    "    Customer_count= ('customer_id','nunique'),\n",
    "    Customer_Share= ('customer_id',lambda x:x.count()*100/Merge_DF.shape[0]),\n",
    "    Churn_total=('Telus_Churn',lambda x: x.sum()),\n",
    "    Churn_rate=('Telus_Churn',lambda x: x.mean()*100)).reset_index())"
   ]
  },
  {
   "cell_type": "code",
   "execution_count": null,
   "id": "7493c55b-bc60-4bb0-9702-8e33a672a83d",
   "metadata": {},
   "outputs": [],
   "source": [
    "Merge_DF.tail()"
   ]
  },
  {
   "cell_type": "code",
   "execution_count": null,
   "id": "029baff4-7016-41cd-913b-b8ba6e635db5",
   "metadata": {},
   "outputs": [],
   "source": [
    "Merge_DF['Package'].value_counts()"
   ]
  },
  {
   "cell_type": "code",
   "execution_count": null,
   "id": "b04ee7d3-788c-4403-b706-cd4e47c8b172",
   "metadata": {},
   "outputs": [],
   "source": [
    "pd.DataFrame(Merge_DF.groupby(['Smart_camera_Segment','Package']).agg(\n",
    "    \n",
    "    Customer_count= ('customer_id','nunique'),\n",
    "    Customer_Share= ('customer_id',lambda x:x.count()*100/Merge_DF.shape[0]),\n",
    "    Churn_total=('Telus_Churn',lambda x: x.sum()),\n",
    "    Churn_rate=('Telus_Churn',lambda x: x.mean()*100),\n",
    "    Camera_exact_1=('Camera_exact_1',lambda x: x.sum()),\n",
    "    Camera_exact_2=('Camera_exact_2',lambda x: x.sum()),\n",
    "    Camera_grt_eq_3=('Camera_grt_eq_3',lambda x: x.sum()),\n",
    ").reset_index())"
   ]
  },
  {
   "cell_type": "code",
   "execution_count": null,
   "id": "e4fcb999-5de8-4075-b472-11dc45dcf10f",
   "metadata": {},
   "outputs": [],
   "source": [
    "Old_file_Oct=pd.read_csv('Telus_SmartCamera_with_camera_count_Oct2022_old_file.csv')"
   ]
  },
  {
   "cell_type": "code",
   "execution_count": null,
   "id": "21cca8f2-ab0e-4bb8-b1a9-f14dc8ddf746",
   "metadata": {},
   "outputs": [],
   "source": [
    "config= bigquery.job.LoadJobConfig()\n",
    "\n",
    "# config._properties['timePartitioning'] = {'field': 'Month_Year'}\n",
    "config.write_disposition = bigquery.WriteDisposition.WRITE_TRUNCATE\n",
    "\n",
    "Table_BQ = 'ADC_updated.Smart_Camera_Amalysis_Oct2022'\n",
    "\n",
    "bq_table_instance= bq_client.load_table_from_dataframe(Old_file_Oct, Table_BQ,job_config=config)"
   ]
  },
  {
   "cell_type": "code",
   "execution_count": null,
   "id": "2bf2a1ea-fc30-4d63-b821-f47d5f91feaa",
   "metadata": {},
   "outputs": [],
   "source": [
    "Old_file_Oct.info()"
   ]
  },
  {
   "cell_type": "code",
   "execution_count": null,
   "id": "0d084933-3c21-483d-99f6-aeb38ca09f9a",
   "metadata": {},
   "outputs": [],
   "source": [
    "Old_file_Oct_1=Old_file_Oct.merge(Merge_DF[['customer_id','AGE_BAND','PROD_MIX_AL']],how='left',on='customer_id')"
   ]
  },
  {
   "cell_type": "code",
   "execution_count": null,
   "id": "72b2dd07-764e-4c9c-b3ec-0e558f605778",
   "metadata": {},
   "outputs": [],
   "source": [
    "Old_file_Oct_1.info()"
   ]
  },
  {
   "cell_type": "code",
   "execution_count": null,
   "id": "4c70ae2e-6915-4c02-97a0-f3f3d6a19bf4",
   "metadata": {},
   "outputs": [],
   "source": [
    "Old_file_Oct_1.head()"
   ]
  },
  {
   "cell_type": "code",
   "execution_count": null,
   "id": "dc9d67cc-f0ec-4653-8256-6b5f5e8e88ff",
   "metadata": {},
   "outputs": [],
   "source": [
    "Old_file_Oct_1.to_csv('Telus_SmartCamera_with_camera_count_Oct2022.csv',index=False)"
   ]
  },
  {
   "cell_type": "code",
   "execution_count": null,
   "id": "94840a1a-687d-4b78-95e2-e6b68b2c13fa",
   "metadata": {},
   "outputs": [],
   "source": [
    "Sep_Data=pd.read_csv('Telus_SmartCamera_with_camera_count_Sep2022.csv')"
   ]
  },
  {
   "cell_type": "code",
   "execution_count": null,
   "id": "37f66756-a20f-4573-8fba-1c66fe6eac02",
   "metadata": {},
   "outputs": [],
   "source": [
    "Oct_Data=pd.read_csv('Telus_SmartCamera_with_camera_count_Oct2022.csv')"
   ]
  },
  {
   "cell_type": "code",
   "execution_count": null,
   "id": "dfee5a70-9a8a-42c9-ba8b-6a4507676a56",
   "metadata": {},
   "outputs": [],
   "source": [
    "Sep_merge=Sep_Data.merge(Oct_Data[['customer_id','Segment','Telus_Churn']],how='left',on='customer_id')"
   ]
  },
  {
   "cell_type": "code",
   "execution_count": null,
   "id": "e1725297-fe85-4f7a-ab65-244041f7d725",
   "metadata": {},
   "outputs": [],
   "source": [
    "Sep_merge.info()"
   ]
  },
  {
   "cell_type": "code",
   "execution_count": null,
   "id": "79f7c622-fd64-4cfe-aa9b-2700c136d5e7",
   "metadata": {},
   "outputs": [],
   "source": [
    "Sep_merge.to_csv('Telus_SmartCamera_with_camera_count_Sep_Oct2022.csv',index=False)"
   ]
  },
  {
   "cell_type": "code",
   "execution_count": null,
   "id": "c4bd20d4-3e6c-4940-9fd0-cf62f9dc5db9",
   "metadata": {},
   "outputs": [],
   "source": []
  },
  {
   "cell_type": "code",
   "execution_count": null,
   "id": "9025df56-6368-4ce0-87b8-b97bbbe90f6b",
   "metadata": {},
   "outputs": [],
   "source": []
  },
  {
   "cell_type": "code",
   "execution_count": null,
   "id": "d6a82d4a-b6dd-49d6-a083-68d0dbabf1b5",
   "metadata": {},
   "outputs": [],
   "source": [
    "Customer_info=extract_bq_data(bq_client, sql=Telus_Customer_details_Sep2022)"
   ]
  },
  {
   "cell_type": "code",
   "execution_count": null,
   "id": "ed4e9b26-f122-4c64-bcb1-209e26a13f28",
   "metadata": {},
   "outputs": [],
   "source": [
    "Customer_info.info()"
   ]
  },
  {
   "cell_type": "code",
   "execution_count": null,
   "id": "4bf676b5-4686-466b-8cab-06d01751da67",
   "metadata": {},
   "outputs": [],
   "source": [
    "Customer_info['account_type_name'].value_counts()"
   ]
  },
  {
   "cell_type": "code",
   "execution_count": null,
   "id": "8e456b21-9053-4e88-aa83-60f833dc5fc6",
   "metadata": {},
   "outputs": [],
   "source": [
    "Customer_info['account_type_name'].value_counts(normalize=True)*100"
   ]
  },
  {
   "cell_type": "code",
   "execution_count": null,
   "id": "ccb2251f-c688-43b5-b1c4-0002a4e939e0",
   "metadata": {},
   "outputs": [],
   "source": []
  },
  {
   "cell_type": "code",
   "execution_count": null,
   "id": "d73864a6-5a1a-4fa1-8f24-de636b824491",
   "metadata": {},
   "outputs": [],
   "source": [
    "Customer_info['Telus_Churn_Flag'].fillna(0,inplace=True)"
   ]
  },
  {
   "cell_type": "code",
   "execution_count": null,
   "id": "747872e8-c77a-406a-86c2-8dbd87ff10a9",
   "metadata": {},
   "outputs": [],
   "source": [
    "pd.DataFrame(Customer_info.groupby(['account_type_name']).agg(\n",
    "    \n",
    "    Customer_count= ('customer_id','nunique'),\n",
    "    Customer_Share= ('customer_id',lambda x:x.count()*100/Customer_info.shape[0]),\n",
    "    Churn_total=('Telus_Churn_Flag',lambda x: x.sum()),\n",
    "    Churn_rate=('Telus_Churn_Flag',lambda x: x.mean()*100)).reset_index())"
   ]
  },
  {
   "cell_type": "code",
   "execution_count": null,
   "id": "0a034429-13cf-4bd6-9f3b-40f1367f8d42",
   "metadata": {},
   "outputs": [],
   "source": [
    "Login_SQL='''\n",
    "\n",
    "with date_sql as (\n",
    "select  count(distinct date(login_dt_utc)) as count_of_dates from `cio-datahub-enterprise-pr-183a.src_adc.bq_customer_daily_logins`\n",
    "where date(login_dt_utc)< '2022-10-01' and date(login_dt_utc)>= '2022-09-01' \n",
    "\n",
    ")\n",
    "\n",
    "\n",
    "\n",
    "select customer_id,sum(login_count) as sum_login_count,count (distinct date(login_dt_utc)) as number_of_login_days, (select count_of_dates from date_sql ) as count_of_dates_logins\n",
    "from `cio-datahub-enterprise-pr-183a.src_adc.bq_customer_daily_logins`\n",
    "where date(login_dt_utc)< '2022-10-01' and date(login_dt_utc)>= '2022-09-01'\n",
    "group by customer_id\n",
    "order by number_of_login_days desc\n",
    "\n",
    "\n",
    "'''"
   ]
  },
  {
   "cell_type": "code",
   "execution_count": null,
   "id": "a1561d26-27f0-4131-a8a6-4285f4c74b45",
   "metadata": {},
   "outputs": [],
   "source": [
    "Login_DF=extract_bq_data(bq_client, sql=Login_SQL)"
   ]
  },
  {
   "cell_type": "code",
   "execution_count": null,
   "id": "6f7be2c7-cc04-41d4-8ae8-d9a8d46d99c2",
   "metadata": {},
   "outputs": [],
   "source": [
    "max_number_login_dates=Login_DF['count_of_dates_logins'].max()\n",
    "Login_DF['Login_Consistency']=Login_DF['number_of_login_days'].apply(lambda x: x*100/max_number_login_dates)"
   ]
  },
  {
   "cell_type": "code",
   "execution_count": null,
   "id": "e77e1488-6ed5-4ec5-bfc0-5cccb9487957",
   "metadata": {},
   "outputs": [],
   "source": [
    "Login_DF.head()"
   ]
  },
  {
   "cell_type": "code",
   "execution_count": null,
   "id": "824b5245-585c-4030-bc1b-55a9eeccdd0d",
   "metadata": {},
   "outputs": [],
   "source": [
    "Login_DF.info()"
   ]
  },
  {
   "cell_type": "code",
   "execution_count": null,
   "id": "79a850af-1bf1-4790-a8e4-14ec9c1d98dc",
   "metadata": {},
   "outputs": [],
   "source": [
    "pd.DataFrame(Login_DF['Login_Consistency'].value_counts(normalize=True)*100).reset_index().sort_values(by='index',ascending=False)"
   ]
  },
  {
   "cell_type": "code",
   "execution_count": null,
   "id": "03d40547-77dd-4faa-b961-8fc6d7b0b537",
   "metadata": {},
   "outputs": [],
   "source": [
    "Merge_DF=Customer_info.merge(Login_DF,on='customer_id',how='left')"
   ]
  },
  {
   "cell_type": "code",
   "execution_count": null,
   "id": "b1c4ca62-d1e7-4f65-9a05-12b4ae8b4029",
   "metadata": {},
   "outputs": [],
   "source": [
    "Merge_DF.isna().sum()*100/Merge_DF.shape[0]"
   ]
  },
  {
   "cell_type": "code",
   "execution_count": null,
   "id": "5e9a0900-8350-4e54-a884-83b76d8cd71d",
   "metadata": {},
   "outputs": [],
   "source": [
    "Merge_DF.fillna(0,inplace=True)"
   ]
  },
  {
   "cell_type": "code",
   "execution_count": null,
   "id": "55d4e7fe-1eee-48b3-9fa9-0dcc7034c2b1",
   "metadata": {},
   "outputs": [],
   "source": []
  },
  {
   "cell_type": "code",
   "execution_count": null,
   "id": "6a16cec8-e606-4b8a-a7cd-148d0cb62063",
   "metadata": {},
   "outputs": [],
   "source": [
    "Merge_DF.head()"
   ]
  },
  {
   "cell_type": "code",
   "execution_count": null,
   "id": "f5a53662-5a79-46e6-98e9-e5236bb793ab",
   "metadata": {},
   "outputs": [],
   "source": [
    "def Segment_making(row,login_consistency_threshold=50):\n",
    "    \n",
    "    if row['Login_Consistency']>=login_consistency_threshold :\n",
    "        return 'Heavy_Usage'\n",
    "    elif row['Login_Consistency']==0 :\n",
    "        return 'No_Usage'\n",
    "    elif row['Login_Consistency']< login_consistency_threshold :\n",
    "        return 'Low_Usage'\n",
    "    else:\n",
    "        return \"Unassigned\""
   ]
  },
  {
   "cell_type": "code",
   "execution_count": null,
   "id": "e9e551f4-02cb-43a5-aa4d-474659253dfa",
   "metadata": {},
   "outputs": [],
   "source": [
    "Merge_DF['Segment']=Merge_DF.apply(Segment_making,axis=1)"
   ]
  },
  {
   "cell_type": "code",
   "execution_count": null,
   "id": "27b7d2d7-2270-4a6a-81b6-f9828c303ca2",
   "metadata": {},
   "outputs": [],
   "source": [
    "Merge_DF['Segment'].value_counts(normalize=True)*100"
   ]
  },
  {
   "cell_type": "code",
   "execution_count": null,
   "id": "f8b92e10-3a60-4688-b1a8-86aa69d612bb",
   "metadata": {},
   "outputs": [],
   "source": [
    "def Telus_plans(row):\n",
    "    if row['account_type_name'] == 'Standalone':\n",
    "        return 'Smart_Camera'\n",
    "    elif row['account_type_name'] =='Awareness and Automation':\n",
    "        return 'Smart_Automation_Plus' \n",
    "    else:\n",
    "        return 'Monitored'\n",
    "\n",
    "Merge_DF['Telus_plans'] = Merge_DF.apply(Telus_plans, axis=1)"
   ]
  },
  {
   "cell_type": "code",
   "execution_count": null,
   "id": "0a6b39e9-97bb-4ad6-9af2-c83e8671e470",
   "metadata": {},
   "outputs": [],
   "source": [
    "Merge_DF['Telus_plans'].value_counts()"
   ]
  },
  {
   "cell_type": "code",
   "execution_count": null,
   "id": "b7297ecb-55ad-453d-b698-367e7b7424e5",
   "metadata": {},
   "outputs": [],
   "source": [
    "Merge_DF['Telus_plans'].value_counts(normalize=True)*100"
   ]
  },
  {
   "cell_type": "code",
   "execution_count": null,
   "id": "ede6f6c5-b495-4484-90ff-7876350f8c5a",
   "metadata": {},
   "outputs": [],
   "source": [
    "pd.DataFrame(Merge_DF.groupby(['Telus_plans','Segment']).agg(\n",
    "    \n",
    "    Customer_count= ('customer_id','nunique'),\n",
    "    Customer_Share= ('customer_id',lambda x:x.count()*100/Merge_DF.shape[0]),\n",
    "    Churn_total=('Telus_Churn_Flag',lambda x: x.sum()),\n",
    "    Churn_rate=('Telus_Churn_Flag',lambda x: x.mean()*100)).reset_index())"
   ]
  },
  {
   "cell_type": "code",
   "execution_count": null,
   "id": "c3b8c1ca-bc3a-4afd-b428-0ed1dcd6321b",
   "metadata": {},
   "outputs": [],
   "source": [
    "Merge_DF.to_csv('Telus_SmartCamera_Sep2022.csv',index=False)"
   ]
  },
  {
   "cell_type": "code",
   "execution_count": null,
   "id": "616883f5-12f4-43e5-8ea0-063eb8142ab6",
   "metadata": {},
   "outputs": [],
   "source": []
  }
 ],
 "metadata": {
  "kernelspec": {
   "display_name": "Python 3 (ipykernel)",
   "language": "python",
   "name": "python3"
  },
  "language_info": {
   "codemirror_mode": {
    "name": "ipython",
    "version": 3
   },
   "file_extension": ".py",
   "mimetype": "text/x-python",
   "name": "python",
   "nbconvert_exporter": "python",
   "pygments_lexer": "ipython3",
   "version": "3.8.12"
  }
 },
 "nbformat": 4,
 "nbformat_minor": 5
}
