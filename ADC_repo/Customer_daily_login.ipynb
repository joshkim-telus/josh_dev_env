{
 "cells": [
  {
   "cell_type": "code",
   "execution_count": null,
   "id": "b85ca5b3-7585-485c-914e-724db6c40b55",
   "metadata": {},
   "outputs": [],
   "source": [
    "#### import global modules\n",
    "import os\n",
    "import sys\n",
    "import pandas as pd\n",
    "from pathlib import Path\n",
    "from yaml import safe_load\n",
    "import google.oauth2.credentials\n",
    "from google.cloud import bigquery\n",
    "import numpy as np\n",
    "# Set global vars\n",
    "pth_project = Path(os.getcwd().split('notebooks')[0])\n",
    "pth_data = pth_project / 'data'\n",
    "pth_queries = pth_project / 'core' / 'queries'\n",
    "pth_creds = pth_project / 'conf' / 'local' / 'project_config.yaml'\n",
    "sys.path.insert(0, str(pth_project))\n",
    "d_project_config = safe_load(pth_creds.open())\n",
    "# d_params = safe_load((pth_project / 'core' / 'parameters' / 'common.yaml').open())['data_extract']\n",
    "\n",
    "# import local modules\n",
    "from core.utils.gcp import connect_bq_services\n",
    "# from core.etl.extract import extract_bq_data, extract_pr_codes, format_conv_df, filter_convs\n",
    "\n",
    "# Connect to google services\n",
    "bq_client = connect_bq_services(d_project_config['gcp-project-name'])\n",
    "pd.options.display.max_rows = 100"
   ]
  },
  {
   "cell_type": "code",
   "execution_count": null,
   "id": "2c25c1ef-f941-4d7c-8a4d-2fd0ff0a29cc",
   "metadata": {},
   "outputs": [],
   "source": [
    "def extract_bq_data(bq_client, sql=None, pth_query=None):\n",
    "    if sql is not None:\n",
    "        df = bq_client.query(sql).to_dataframe()\n",
    "    elif pth_query is not None:\n",
    "        sql = pth_query.read_text()\n",
    "        df = bq_client.query(sql).to_dataframe()\n",
    "    else:\n",
    "        raise ValueError('`sql` or `pth_query` should be set')  \n",
    "    return df"
   ]
  },
  {
   "cell_type": "code",
   "execution_count": null,
   "id": "ef53ff83-37f6-4397-945c-c3889a39bcba",
   "metadata": {},
   "outputs": [],
   "source": [
    "Query='''\n",
    "\n",
    "select * from `cio-datahub-enterprise-pr-183a.src_adc.bq_customer_daily_logins`\n",
    "\n",
    "'''"
   ]
  },
  {
   "cell_type": "code",
   "execution_count": null,
   "id": "d48c8249-65a6-45f3-83c1-9e3d414daa59",
   "metadata": {},
   "outputs": [],
   "source": [
    "Customer_daily_login= extract_bq_data(bq_client,sql=Query)"
   ]
  },
  {
   "cell_type": "code",
   "execution_count": null,
   "id": "d61964ea-8503-469b-9ecc-59d945a2f5a5",
   "metadata": {},
   "outputs": [],
   "source": [
    "Customer_daily_login.info()"
   ]
  },
  {
   "cell_type": "code",
   "execution_count": null,
   "id": "b2ec08eb-5b1f-4c9f-853a-e055ffbf054c",
   "metadata": {},
   "outputs": [],
   "source": [
    "Customer_daily_login.head()"
   ]
  },
  {
   "cell_type": "code",
   "execution_count": null,
   "id": "d38932ef-3f4e-48ec-abad-f47f087c8542",
   "metadata": {},
   "outputs": [],
   "source": [
    "Customer_daily_login['login_type_desc'].value_counts()"
   ]
  },
  {
   "cell_type": "code",
   "execution_count": null,
   "id": "d91e9994-1e49-49fd-bc15-b9415d747501",
   "metadata": {},
   "outputs": [],
   "source": [
    "Customer_Daily_login_pivot_table=pd.pivot_table(Customer_daily_login, values='login_count', index=['login_dt_utc','customer_id'], columns='login_type_desc',\n",
    "                          aggfunc={'login_count': np.sum}).reset_index()"
   ]
  },
  {
   "cell_type": "code",
   "execution_count": null,
   "id": "eaeb26e8-a2c5-450e-b2d7-1408d32c536d",
   "metadata": {},
   "outputs": [],
   "source": [
    "Customer_Daily_login_pivot_table.head()"
   ]
  },
  {
   "cell_type": "code",
   "execution_count": null,
   "id": "b07536b0-9929-4ab5-9418-ac520cf7bb6d",
   "metadata": {},
   "outputs": [],
   "source": [
    "Customer_Daily_login_pivot_table.columns=['login_date_utc','customer_id','Mobile','Voice_Control_Devices','Web']"
   ]
  },
  {
   "cell_type": "code",
   "execution_count": null,
   "id": "23d88f1e-e80b-45e1-a091-6ab4297448f4",
   "metadata": {},
   "outputs": [],
   "source": [
    "Customer_Daily_login_pivot_table['login_date_utc'].min()"
   ]
  },
  {
   "cell_type": "code",
   "execution_count": null,
   "id": "63364c5c-cba4-43ba-884c-2b2c218cc90f",
   "metadata": {},
   "outputs": [],
   "source": [
    "Customer_Daily_login_pivot_table['login_date_utc'].max()"
   ]
  },
  {
   "cell_type": "code",
   "execution_count": null,
   "id": "474c794e-8bd9-49b3-bd4b-778f9c7876a3",
   "metadata": {},
   "outputs": [],
   "source": [
    "Customer_Daily_login_pivot_table.head()"
   ]
  },
  {
   "cell_type": "code",
   "execution_count": null,
   "id": "a246aa1c-7903-4e77-a1af-44417cdf9886",
   "metadata": {},
   "outputs": [],
   "source": [
    "Customer_Daily_login_pivot_table=Customer_Daily_login_pivot_table.fillna(0)"
   ]
  },
  {
   "cell_type": "code",
   "execution_count": null,
   "id": "baf2622e-54b2-427d-9417-13e7403e22b4",
   "metadata": {},
   "outputs": [],
   "source": [
    "Customer_Daily_login_pivot_table.head()"
   ]
  },
  {
   "cell_type": "code",
   "execution_count": null,
   "id": "7ccfd15e-475a-4710-a05a-fec72796fa61",
   "metadata": {},
   "outputs": [],
   "source": [
    "config= bigquery.job.LoadJobConfig()\n",
    "\n",
    "# config._properties['timePartitioning'] = {'field': 'Month_Year'}\n",
    "config.write_disposition = bigquery.WriteDisposition.WRITE_TRUNCATE\n",
    "\n",
    "\n",
    "Table_BQ = 'ADC.Customer_Daily_login'\n",
    "\n",
    "bq_table_instance= bq_client.load_table_from_dataframe(Customer_Daily_login_pivot_table, Table_BQ,job_config=config)"
   ]
  },
  {
   "cell_type": "code",
   "execution_count": null,
   "id": "d56de5e0-f9ab-4945-b2f3-2200a50186a2",
   "metadata": {},
   "outputs": [],
   "source": []
  }
 ],
 "metadata": {
  "kernelspec": {
   "display_name": "Python 3 (ipykernel)",
   "language": "python",
   "name": "python3"
  },
  "language_info": {
   "codemirror_mode": {
    "name": "ipython",
    "version": 3
   },
   "file_extension": ".py",
   "mimetype": "text/x-python",
   "name": "python",
   "nbconvert_exporter": "python",
   "pygments_lexer": "ipython3",
   "version": "3.7.12"
  }
 },
 "nbformat": 4,
 "nbformat_minor": 5
}
